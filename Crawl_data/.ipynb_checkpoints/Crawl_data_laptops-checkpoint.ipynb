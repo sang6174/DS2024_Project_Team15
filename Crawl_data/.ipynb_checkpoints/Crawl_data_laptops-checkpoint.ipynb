{
 "cells": [
  {
   "cell_type": "code",
   "execution_count": 1,
   "id": "300143f0",
   "metadata": {},
   "outputs": [],
   "source": [
    "import pandas as pd\n",
    "import numpy as np\n",
    "from bs4 import BeautifulSoup\n",
    "from selenium import webdriver\n",
    "import urllib.request\n",
    "from selenium.webdriver.chrome.options import Options\n",
    "from selenium.webdriver.chrome.service import Service\n",
    "from time import sleep\n",
    "import random\n",
    "from selenium.webdriver.common.by import By\n",
    "from selenium.common.exceptions import NoSuchElementException, ElementNotInteractableException"
   ]
  },
  {
   "cell_type": "code",
   "execution_count": 2,
   "id": "82d6ca02",
   "metadata": {},
   "outputs": [],
   "source": [
    "main_link = 'https://www.lazada.vn/catalog/?q=laptop'\n",
    "path = 'chromedriver.exe'\n",
    "\n",
    "# # Customize chrome display\n",
    "chrome_options = Options()\n",
    "chrome_options.add_argument('--no-sandbox')\n",
    "chrome_options.add_argument('--disable-notifications')\n",
    "chrome_options.add_argument('--disable-infobars')\n",
    "\n",
    "service = Service(executable_path=path)\n",
    "driver = webdriver.Chrome(service=service, options=chrome_options)\n",
    "\n",
    "driver.get(main_link)"
   ]
  },
  {
   "cell_type": "code",
   "execution_count": 3,
   "id": "c8dd22e6",
   "metadata": {},
   "outputs": [],
   "source": [
    "def web_driver():\n",
    "    options = webdriver.ChromeOptions()\n",
    "    options.add_argument(\"--verbose\")\n",
    "    options.add_argument('--no-sandbox')\n",
    "    options.add_argument('--headless')\n",
    "    options.add_argument('--disable-gpu')\n",
    "    options.add_argument(\"--window-size=1920, 1200\")\n",
    "    options.add_argument('--disable-dev-shm-usage')\n",
    "    driver = webdriver.Chrome(options = options)\n",
    "    return driver"
   ]
  },
  {
   "cell_type": "code",
   "execution_count": 4,
   "id": "e6d03b73",
   "metadata": {},
   "outputs": [],
   "source": [
    "driver = web_driver()\n",
    "driver.get('https://www.lazada.vn/catalog/?q=laptop')\n",
    "sleep(random.randint(5,10))"
   ]
  },
  {
   "cell_type": "code",
   "execution_count": 5,
   "id": "3f3e1907",
   "metadata": {},
   "outputs": [],
   "source": [
    "# ================================ GET links/title\n",
    "elems = driver.find_elements(By.CSS_SELECTOR , \".RfADt [href]\")\n",
    "Title = [elem.text for elem in elems]\n",
    "Links = [elem.get_attribute('href') for elem in elems]\n",
    "\n",
    "# ================================ GET type\n",
    "elems = driver.find_elements(By.CSS_SELECTOR , \".JrAyI\")\n",
    "Type = [elem.text for elem in elems]\n",
    "if len(Type) == 1:\n",
    "    Type = Type * len(Title)\n",
    "\n",
    "# ================================ GET  price sale\n",
    "elems = driver.find_elements(By.CSS_SELECTOR , \".ooOxS\")\n",
    "Price_sale = [elem.text for elem in elems]\n",
    "\n",
    "# ================================ GET sale off \n",
    "elems = driver.find_elements(By.CSS_SELECTOR , \".WNoq3\")\n",
    "Sale_off = [elem.text for elem in elems]\n",
    "\n",
    "# ================================ GET Location\n",
    "elems = driver.find_elements(By.CSS_SELECTOR , \".oa6ri \")\n",
    "Location = [elem.text for elem in elems]"
   ]
  },
  {
   "cell_type": "code",
   "execution_count": 8,
   "id": "7fb7f723",
   "metadata": {},
   "outputs": [],
   "source": [
    "df1 = pd.DataFrame(list(zip( Type, Title, Links, Price_sale, Sale_off, Location)),\n",
    "                   columns = ['Type', 'Title', 'Link', 'Price_sale', 'Sale_off', 'Location'])\n",
    "df1['Index_']= np.arange(1, len(df1) + 1)"
   ]
  },
  {
   "cell_type": "code",
   "execution_count": 9,
   "id": "a832589d",
   "metadata": {},
   "outputs": [
    {
     "name": "stdout",
     "output_type": "stream",
     "text": [
      "Empty DataFrame\n",
      "Columns: [Type, Title, Link, Price_sale, Sale_off, Location, Index_]\n",
      "Index: []\n"
     ]
    }
   ],
   "source": [
    "print(df1)"
   ]
  },
  {
   "cell_type": "code",
   "execution_count": 6,
   "id": "0e4f0f4c",
   "metadata": {},
   "outputs": [
    {
     "ename": "NameError",
     "evalue": "name 'Title' is not defined",
     "output_type": "error",
     "traceback": [
      "\u001b[1;31m---------------------------------------------------------------------------\u001b[0m",
      "\u001b[1;31mNameError\u001b[0m                                 Traceback (most recent call last)",
      "Cell \u001b[1;32mIn[6], line 2\u001b[0m\n\u001b[0;32m      1\u001b[0m Total_sold, Preview, Index_ \u001b[38;5;241m=\u001b[39m [], [], []\n\u001b[1;32m----> 2\u001b[0m \u001b[38;5;28;01mfor\u001b[39;00m i \u001b[38;5;129;01min\u001b[39;00m \u001b[38;5;28mrange\u001b[39m(\u001b[38;5;241m1\u001b[39m, \u001b[38;5;28mlen\u001b[39m(Title)\u001b[38;5;241m+\u001b[39m\u001b[38;5;241m1\u001b[39m):\n\u001b[0;32m      3\u001b[0m     \u001b[38;5;28;01mtry\u001b[39;00m:\n\u001b[0;32m      4\u001b[0m         total \u001b[38;5;241m=\u001b[39m driver\u001b[38;5;241m.\u001b[39mfind_element(\u001b[38;5;124m\"\u001b[39m\u001b[38;5;124mxpath\u001b[39m\u001b[38;5;124m\"\u001b[39m, \u001b[38;5;124mf\u001b[39m\u001b[38;5;124m\"\u001b[39m\u001b[38;5;124m/html/body/div[3]/div/div[2]/div[1]/div/div[1]/div[2]/div[\u001b[39m\u001b[38;5;132;01m{\u001b[39;00mi\u001b[38;5;132;01m}\u001b[39;00m\u001b[38;5;124m]/div/div/div[2]/div[5]/span[1]/span[1]\u001b[39m\u001b[38;5;124m\"\u001b[39m)\n",
      "\u001b[1;31mNameError\u001b[0m: name 'Title' is not defined"
     ]
    }
   ],
   "source": [
    "Total_sold, Preview, Index_ = [], [], []\n",
    "for i in range(1, len(Title)+1):\n",
    "    try:\n",
    "        total = driver.find_element(\"xpath\", f\"/html/body/div[3]/div/div[2]/div[1]/div/div[1]/div[2]/div[{i}]/div/div/div[2]/div[5]/span[1]/span[1]\")\n",
    "        Total_sold.append(total.text)\n",
    "    except NoSuchElementException:\n",
    "        Total_sold.append(None)  # Đúng danh sách và phần tử\n",
    "    try:\n",
    "        prev = driver.find_element(\"xpath\", f\"/html/body/div[3]/div/div[2]/div[1]/div/div[1]/div[2]/div[{i}]/div/div/div[2]/div[5]/div/span\")\n",
    "        Preview.append(prev.text)\n",
    "    except NoSuchElementException:\n",
    "        Preview.append(None)  # Đúng danh sách và phần tử\n",
    "    try:\n",
    "        Index_.append(i)\n",
    "    except NoSuchElementException:\n",
    "        Preview.append(None)  # Đúng danh sách và phần tử"
   ]
  },
  {
   "cell_type": "code",
   "execution_count": null,
   "id": "72f374fc",
   "metadata": {},
   "outputs": [],
   "source": [
    "df2 = pd.DataFrame(list(zip(Index_ , Total_sold, Preview)), columns = ['Index_', 'Total_sold', 'Preview'])"
   ]
  },
  {
   "cell_type": "code",
   "execution_count": null,
   "id": "94d08c2f",
   "metadata": {},
   "outputs": [],
   "source": [
    "Price_original, Ship_price, Return_exchange, Sale_rating, Ship_on_time, Chat_response = [], [], [], [], [], []\n",
    " \n",
    "for link in Links:\n",
    "    driver.get(link)\n",
    "\n",
    "    # ================================ GET price original\n",
    "    elems = driver.find_elements(By.CSS_SELECTOR, \".origin-block .notranslate\")\n",
    "    one_price_original = [elem.text for elem in elems]\n",
    "    Price_original.append(one_price_original)\n",
    "\n",
    "    # ================================ GET ship price\n",
    "    elems = driver.find_elements(By.CSS_SELECTOR, \".delivery-option-item__shipping-fee\")\n",
    "    one_ship_prices = [elem.text for elem in elems]\n",
    "    # if len(one_ship_prices) != 0: \n",
    "    one_ship_price = one_ship_prices[0]\n",
    "    Ship_price.append(one_ship_price)\n",
    "\n",
    "    # ================================ GET return\n",
    "    elems = driver.find_elements(By.CSS_SELECTOR, \".warranty__option-item .delivery-option-item__body .delivery-option-item__info .delivery-option-item__title\")\n",
    "    one_return_exchanges = [elem.text for elem in elems]\n",
    "    one_return_exchange = one_return_exchanges[0]\n",
    "    Return_exchange.append(one_return_exchange)\n",
    "\n",
    "    # ================================ GET sale rating/ shop on tim/ chat response\n",
    "    elems = driver.find_elements(By.CSS_SELECTOR, \".info-content .seller-info-value\")\n",
    "    percent_data = [elem.text for elem in elems]\n",
    "\n",
    "    for i, percent in enumerate(percent_data):\n",
    "        if i == 0:\n",
    "            one_sale_rating = percent # sale rating\n",
    "        elif i == 1:\n",
    "            one_ship_on_time = percent # shop on time \n",
    "        elif i == 2:\n",
    "            one_chat_response = percent # chat response\n",
    "\n",
    "    Sale_rating.append(one_sale_rating)\n",
    "    Ship_on_time.append(one_ship_on_time)\n",
    "    Chat_response.append(one_chat_response)"
   ]
  },
  {
   "cell_type": "code",
   "execution_count": null,
   "id": "0aa4f8d2",
   "metadata": {},
   "outputs": [],
   "source": []
  },
  {
   "cell_type": "code",
   "execution_count": 8,
   "id": "170e670e",
   "metadata": {},
   "outputs": [],
   "source": [
    "# =======================================\n",
    "next_pagination_cmt = driver.find_element(\"xpath\", \"/html/body/div[3]/div/div[2]/div[1]/div/div[1]/div[3]/div/ul/li[9]/button\")\n",
    "next_pagination_cmt.click()\n",
    "sleep(random.randint(1,3))"
   ]
  },
  {
   "cell_type": "code",
   "execution_count": null,
   "id": "efbc0c44",
   "metadata": {},
   "outputs": [],
   "source": [
    "for i in range(2, 51):\n",
    "    driver.get(f'https://www.lazada.vn/catalog/?page={i}&q=laptop')\n",
    "    # ================================ GET links/title\n",
    "    elems = driver.find_elements(By.CSS_SELECTOR, \".RfADt [href]\")\n",
    "    new_titles = [elem.text for elem in elems]\n",
    "    new_links = [elem.get_attribute('href') for elem in elems]\n",
    "    if new_titles and new_links:\n",
    "        for i in new_titles:\n",
    "            Title.append(i)\n",
    "        for i in new_links:\n",
    "            Links.append(i)\n",
    "\n",
    "    # ================================ GET type\n",
    "    elems = driver.find_elements(By.CSS_SELECTOR, \".JrAyI\")\n",
    "    new_types = [elem.text for elem in elems]\n",
    "    if new_types:  \n",
    "        if len(new_types) == 1:\n",
    "            new_types = new_types * len(new_titles)  \n",
    "        for i in new_types:\n",
    "            Type.append(i)\n",
    "\n",
    "    # ================================ GET price sale\n",
    "    elems = driver.find_elements(By.CSS_SELECTOR, \".ooOxS\")\n",
    "    new_price_sales = [elem.text for elem in elems]\n",
    "    if new_price_sales:  \n",
    "        for i in new_price_sales:\n",
    "            Price_sale.append(i)\n",
    "\n",
    "    # ================================ GET sale off\n",
    "    elems = driver.find_elements(By.CSS_SELECTOR, \".WNoq3\")\n",
    "    new_sale_offs = [elem.text for elem in elems]\n",
    "    if new_sale_offs:  \n",
    "        for i in new_sale_offs:\n",
    "            Sale_off.append(i)\n",
    "            \n",
    "    # ================================ GET Location\n",
    "    elems = driver.find_elements(By.CSS_SELECTOR , \".oa6ri \")\n",
    "    new_location = [elem.text for elem in elems]\n",
    "    if new_location: \n",
    "        for i in new_location:\n",
    "            Location.append(i)            "
   ]
  },
  {
   "cell_type": "code",
   "execution_count": 13,
   "id": "b5845880",
   "metadata": {},
   "outputs": [],
   "source": [
    "df1 = pd.DataFrame(list(zip( Type,Title, Links, Price_sale, Sale_off, Location)),\n",
    "                   columns = ['Type', 'Title', 'Link_item', 'Price_sale', 'Sale_off', 'Location'])\n",
    "df1['index_']= np.arange(1, len(df1) + 1)"
   ]
  },
  {
   "cell_type": "code",
   "execution_count": 14,
   "id": "a3eeee1a",
   "metadata": {},
   "outputs": [
    {
     "name": "stdout",
     "output_type": "stream",
     "text": [
      "        Type                                              Title  \\\n",
      "0     laptop  Laptop Dell Inspiron 7567 máy tính giá rẻ(Core...   \n",
      "1     laptop  Máy Tính Xách Tay Bàn Phím Bao Gồm, Màng Bảo V...   \n",
      "2     laptop  hp 8440P i5 , Ram 4G , ssd 240GB , Nhập Khẩu N...   \n",
      "3     laptop  Laptop cũ nhiều lựa chọn Pentium đến i3 i5 i7 ...   \n",
      "4     laptop  Laptop core 2 giá rẻ, ram 4G, HDD 250G, đầy đủ...   \n",
      "...      ...                                                ...   \n",
      "1995  laptop  Mới - Bộ vệ sinh Laptop, 18 in 1 Cao Cấp Bộ ...   \n",
      "1996  laptop  Giá đỡ Laptop MC Bàn máy tính bảng N3 đứng di ...   \n",
      "1997  laptop  Lenovo Máy tính xách tay Intel Core i7 5500U L...   \n",
      "1998  laptop              Đế tản nhiệt laptop bằng 4 nút cao su   \n",
      "1999  laptop  Laptop Lenovo core i5 4210M Ram 8GB SSD 240GB ...   \n",
      "\n",
      "                                              Link_item   Price_sale Sale_off  \\\n",
      "0     https://www.lazada.vn/products/laptop-dell-ins...  3.200.000 ₫  50% Off   \n",
      "1     https://www.lazada.vn/products/may-tinh-xach-t...     39.000 ₫  17% Off   \n",
      "2     https://www.lazada.vn/products/hp-8440p-i5-ram...  1.571.000 ₫            \n",
      "3     https://www.lazada.vn/products/laptop-cu-nhieu...  1.000.000 ₫            \n",
      "4     https://www.lazada.vn/products/laptop-core-2-g...  1.239.000 ₫  38% Off   \n",
      "...                                                 ...          ...      ...   \n",
      "1995  https://www.lazada.vn/products/moi-bo-ve-sinh-...     89.000 ₫  38% Off   \n",
      "1996  https://www.lazada.vn/products/gia-do-laptop-m...    100.000 ₫  55% Off   \n",
      "1997  https://www.lazada.vn/products/lenovo-may-tinh...  7.599.999 ₫  31% Off   \n",
      "1998  https://www.lazada.vn/products/de-tan-nhiet-la...     19.000 ₫            \n",
      "1999  https://www.lazada.vn/products/laptop-lenovo-c...  3.530.000 ₫   9% Off   \n",
      "\n",
      "         Location  index_  \n",
      "0          Hà Nội       1  \n",
      "1     Hồ Chí Minh       2  \n",
      "2          Hà Nội       3  \n",
      "3          Hà Nội       4  \n",
      "4     Hồ Chí Minh       5  \n",
      "...           ...     ...  \n",
      "1995      Đà Nẵng    1996  \n",
      "1996   Nước ngoài    1997  \n",
      "1997    Hải Phòng    1998  \n",
      "1998  Hồ Chí Minh    1999  \n",
      "1999       Hà Nội    2000  \n",
      "\n",
      "[2000 rows x 7 columns]\n"
     ]
    }
   ],
   "source": [
    "print(df1)"
   ]
  },
  {
   "cell_type": "code",
   "execution_count": 15,
   "id": "84bbf643",
   "metadata": {},
   "outputs": [],
   "source": [
    "df1.to_csv('df1_data_pages_laptop.csv', encoding='utf-8', index=False)"
   ]
  },
  {
   "cell_type": "code",
   "execution_count": null,
   "id": "87921966",
   "metadata": {},
   "outputs": [],
   "source": []
  }
 ],
 "metadata": {
  "kernelspec": {
   "display_name": "Python 3 (ipykernel)",
   "language": "python",
   "name": "python3"
  },
  "language_info": {
   "codemirror_mode": {
    "name": "ipython",
    "version": 3
   },
   "file_extension": ".py",
   "mimetype": "text/x-python",
   "name": "python",
   "nbconvert_exporter": "python",
   "pygments_lexer": "ipython3",
   "version": "3.11.5"
  }
 },
 "nbformat": 4,
 "nbformat_minor": 5
}
