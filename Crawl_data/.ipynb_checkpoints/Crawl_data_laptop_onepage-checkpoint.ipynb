{
 "cells": [
  {
   "cell_type": "code",
   "execution_count": 22,
   "id": "08cfc430",
   "metadata": {},
   "outputs": [],
   "source": [
    "import pandas as pd\n",
    "import numpy as np\n",
    "from bs4 import BeautifulSoup\n",
    "from selenium import webdriver\n",
    "import urllib.request\n",
    "from selenium.webdriver.chrome.options import Options\n",
    "from selenium.webdriver.chrome.service import Service\n",
    "from time import sleep\n",
    "import random\n",
    "from selenium.webdriver.common.by import By\n",
    "from selenium.common.exceptions import NoSuchElementException, ElementNotInteractableException"
   ]
  },
  {
   "cell_type": "code",
   "execution_count": 23,
   "id": "0b8335e7",
   "metadata": {},
   "outputs": [],
   "source": [
    "main_link = 'https://www.lazada.vn/catalog/?q=laptop'\n",
    "path = 'chromedriver.exe'\n",
    "\n",
    "# # Customize chrome display\n",
    "chrome_options = Options()\n",
    "chrome_options.add_argument('--no-sandbox')\n",
    "chrome_options.add_argument('--disable-notifications')\n",
    "chrome_options.add_argument('--disable-infobars')\n",
    "\n",
    "service = Service(executable_path=path)\n",
    "driver = webdriver.Chrome(service=service, options=chrome_options)\n",
    "\n",
    "driver.get(main_link)"
   ]
  },
  {
   "cell_type": "code",
   "execution_count": 24,
   "id": "1a5870e0",
   "metadata": {},
   "outputs": [],
   "source": [
    "def web_driver():\n",
    "    options = webdriver.ChromeOptions()\n",
    "    options.add_argument(\"--verbose\")\n",
    "    options.add_argument('--no-sandbox')\n",
    "    options.add_argument('--headless')\n",
    "    options.add_argument('--disable-gpu')\n",
    "    options.add_argument(\"--window-size=1920, 1200\")\n",
    "    options.add_argument('--disable-dev-shm-usage')\n",
    "    driver = webdriver.Chrome(options = options)\n",
    "    return driver"
   ]
  },
  {
   "cell_type": "code",
   "execution_count": 25,
   "id": "3bc7cd4d",
   "metadata": {},
   "outputs": [],
   "source": [
    "driver = web_driver()\n",
    "driver.get('https://www.lazada.vn/catalog/?q=laptop')\n",
    "sleep(random.randint(5,10))"
   ]
  },
  {
   "cell_type": "code",
   "execution_count": 112,
   "id": "4ae9ff66",
   "metadata": {},
   "outputs": [],
   "source": [
    "# ================================ GET type\n",
    "elems = driver.find_elements(By.CSS_SELECTOR , \".JrAyI\")\n",
    "Type = [elem.text for elem in elems]\n",
    "if len(Type) == 1:\n",
    "    Type = Type * len(title)"
   ]
  },
  {
   "cell_type": "code",
   "execution_count": 26,
   "id": "92447ad7",
   "metadata": {},
   "outputs": [],
   "source": [
    "# ================================ GET links/title\n",
    "elems = driver.find_elements(By.CSS_SELECTOR , \".RfADt [href]\")\n",
    "title = [elem.text for elem in elems]\n",
    "links = [elem.get_attribute('href') for elem in elems]"
   ]
  },
  {
   "cell_type": "code",
   "execution_count": 50,
   "id": "4c76b117",
   "metadata": {},
   "outputs": [
    {
     "name": "stdout",
     "output_type": "stream",
     "text": [
      "Found 40 seller ratings\n",
      "Seller rating 1: 8.269.999 ₫\n",
      "Seller rating 2: 3.200.000 ₫\n",
      "Seller rating 3: 39.000 ₫\n",
      "Seller rating 4: 2.550.000 ₫\n",
      "Seller rating 5: 1.000.000 ₫\n",
      "Seller rating 6: 999.999 ₫\n",
      "Seller rating 7: 1.199.999 ₫\n",
      "Seller rating 8: 1.200.000 ₫\n",
      "Seller rating 9: 1.239.000 ₫\n",
      "Seller rating 10: 999.999 ₫\n",
      "Seller rating 11: 165.000 ₫\n",
      "Seller rating 12: 1.200.000 ₫\n",
      "Seller rating 13: 2.668.000 ₫\n",
      "Seller rating 14: 3.258.000 ₫\n",
      "Seller rating 15: 1.799.000 ₫\n",
      "Seller rating 16: 2.455.000 ₫\n",
      "Seller rating 17: 1.300.000 ₫\n",
      "Seller rating 18: 1.900.000 ₫\n",
      "Seller rating 19: 2.300.000 ₫\n",
      "Seller rating 20: 999.999 ₫\n",
      "Seller rating 21: 5.099.999 ₫\n",
      "Seller rating 22: 1.600.000 ₫\n",
      "Seller rating 23: 12.000.000 ₫\n",
      "Seller rating 24: 4.200.000 ₫\n",
      "Seller rating 25: 7.689.000 ₫\n",
      "Seller rating 26: 5.499.000 ₫\n",
      "Seller rating 27: 4.799.999 ₫\n",
      "Seller rating 28: 6.899.999 ₫\n",
      "Seller rating 29: 6.554.998 ₫\n",
      "Seller rating 30: 6.950.000 ₫\n",
      "Seller rating 31: 1.200.000 ₫\n",
      "Seller rating 32: 6.999.999 ₫\n",
      "Seller rating 33: 6.800.000 ₫\n",
      "Seller rating 34: 3.248.000 ₫\n",
      "Seller rating 35: 1.799.000 ₫\n",
      "Seller rating 36: 2.820.000 ₫\n",
      "Seller rating 37: 1.990.000 ₫\n",
      "Seller rating 38: 4.500.000 ₫\n",
      "Seller rating 39: 8.500.000 ₫\n",
      "Seller rating 40: 8.079.999 ₫\n"
     ]
    }
   ],
   "source": [
    "# ================================ GET  price sale\n",
    "elems = driver.find_elements(By.CSS_SELECTOR , \".ooOxS\")\n",
    "price_sale = [elem.text for elem in elems]"
   ]
  },
  {
   "cell_type": "code",
   "execution_count": 52,
   "id": "b4bef238",
   "metadata": {},
   "outputs": [
    {
     "name": "stdout",
     "output_type": "stream",
     "text": [
      "Found 40 seller ratings\n",
      "Seller rating 1: 41% Off\n",
      "Seller rating 2: 50% Off\n",
      "Seller rating 3: 17% Off\n",
      "Seller rating 4: 20% Off\n",
      "Seller rating 5: \n",
      "Seller rating 6: 17% Off\n",
      "Seller rating 7: 8% Off\n",
      "Seller rating 8: 48% Off\n",
      "Seller rating 9: 38% Off\n",
      "Seller rating 10: 17% Off\n",
      "Seller rating 11: 13% Off\n",
      "Seller rating 12: \n",
      "Seller rating 13: 8% Off\n",
      "Seller rating 14: 19% Off\n",
      "Seller rating 15: \n",
      "Seller rating 16: \n",
      "Seller rating 17: 28% Off\n",
      "Seller rating 18: \n",
      "Seller rating 19: 8% Off\n",
      "Seller rating 20: 17% Off\n",
      "Seller rating 21: 41% Off\n",
      "Seller rating 22: \n",
      "Seller rating 23: \n",
      "Seller rating 24: \n",
      "Seller rating 25: \n",
      "Seller rating 26: 25% Off\n",
      "Seller rating 27: 40% Off\n",
      "Seller rating 28: 3% Off\n",
      "Seller rating 29: 50% Off\n",
      "Áp dụng voucher\n",
      "Seller rating 30: \n",
      "Seller rating 31: 48% Off\n",
      "Seller rating 32: 22% Off\n",
      "Seller rating 33: \n",
      "Seller rating 34: 10% Off\n",
      "Seller rating 35: \n",
      "Seller rating 36: 37% Off\n",
      "Seller rating 37: \n",
      "Seller rating 38: \n",
      "Seller rating 39: 32% Off\n",
      "Seller rating 40: 43% Off\n"
     ]
    }
   ],
   "source": [
    "# ================================ GET sale off \n",
    "elems = driver.find_elements(By.CSS_SELECTOR , \".WNoq3\")\n",
    "sale_off = [elem.text for elem in elems]"
   ]
  },
  {
   "cell_type": "code",
   "execution_count": 76,
   "id": "6390e8d8",
   "metadata": {},
   "outputs": [
    {
     "name": "stdout",
     "output_type": "stream",
     "text": [
      "1\n",
      "No Such Element Exception 2\n",
      "3\n",
      "4\n",
      "5\n",
      "6\n",
      "No Such Element Exception 7\n",
      "8\n",
      "9\n",
      "10\n",
      "11\n",
      "12\n",
      "13\n",
      "14\n",
      "15\n",
      "16\n",
      "17\n",
      "18\n",
      "No Such Element Exception 19\n",
      "20\n",
      "21\n",
      "22\n",
      "No Such Element Exception 23\n",
      "No Such Element Exception 24\n",
      "25\n",
      "26\n",
      "27\n",
      "28\n",
      "29\n",
      "No Such Element Exception 30\n",
      "No Such Element Exception 31\n",
      "32\n",
      "No Such Element Exception 33\n",
      "34\n",
      "35\n",
      "36\n",
      "37\n",
      "38\n",
      "No Such Element Exception 39\n",
      "40\n"
     ]
    }
   ],
   "source": [
    "total_sold, preview, temp_id = [], [], []\n",
    "for i in range(1, len(title)+1):\n",
    "    try:\n",
    "        total = driver.find_element(\"xpath\", \"/html/body/div[3]/div/div[2]/div[1]/div/div[1]/div[2]/div[{}]/div/div/div[2]/div[5]/span[1]/span[1]\".format(i))\n",
    "        total_sold.append(total.text)\n",
    "        prev = driver.find_element(\"xpath\", \"/html/body/div[3]/div/div[2]/div[1]/div/div[1]/div[2]/div[{}]/div/div/div[2]/div[5]/div/span\".format(i))\n",
    "        preview.append(prev.text)\n",
    "        print(i)\n",
    "        temp_id.append(i)\n",
    "    except NoSuchElementException:\n",
    "        print(\"No Such Element Exception \" + str(i))"
   ]
  },
  {
   "cell_type": "code",
   "execution_count": 77,
   "id": "c5fd8cff",
   "metadata": {},
   "outputs": [],
   "source": [
    "# ================================ GET Location\n",
    "elems = driver.find_elements(By.CSS_SELECTOR , \".oa6ri \")\n",
    "Location = [elem.text for elem in elems]"
   ]
  },
  {
   "cell_type": "code",
   "execution_count": 80,
   "id": "08342f81",
   "metadata": {},
   "outputs": [],
   "source": [
    "df1 = pd.DataFrame(list(zip(title, links, price_sale, sale_off, Location)),\n",
    "                   columns = ['title', 'link_item', 'price_sale', 'sale_off', 'Location'])\n",
    "df1['index_']= np.arange(1, len(df1) + 1)"
   ]
  },
  {
   "cell_type": "code",
   "execution_count": 81,
   "id": "ff35f236",
   "metadata": {},
   "outputs": [],
   "source": [
    "df1.to_csv('df1_demo.csv', encoding='utf-8', index=False)"
   ]
  },
  {
   "cell_type": "code",
   "execution_count": 83,
   "id": "8032f754",
   "metadata": {},
   "outputs": [],
   "source": [
    "df2 = pd.DataFrame(list(zip(temp_id , total_sold, preview)), columns = ['temp_id', 'total_sold','preview'])"
   ]
  },
  {
   "cell_type": "code",
   "execution_count": 85,
   "id": "4e1d0c78",
   "metadata": {},
   "outputs": [],
   "source": [
    "df2.to_csv('df2_demo.csv', encoding='utf-8', index=False)"
   ]
  },
  {
   "cell_type": "code",
   "execution_count": 84,
   "id": "7d676e1f",
   "metadata": {},
   "outputs": [],
   "source": [
    "df3 = df1.merge(df2, how='left', left_on='index_', right_on='temp_id')"
   ]
  },
  {
   "cell_type": "code",
   "execution_count": 86,
   "id": "9043fbc1",
   "metadata": {},
   "outputs": [],
   "source": [
    "df3.to_csv('df3_demo.csv', encoding='utf-8', index=False)"
   ]
  },
  {
   "cell_type": "code",
   "execution_count": 87,
   "id": "1e4fc310",
   "metadata": {},
   "outputs": [
    {
     "name": "stdout",
     "output_type": "stream",
     "text": [
      "https://www.lazada.vn/products/lenovo-moi-tinh-core-intel-i7-6560u-laptop-15-6-inch-1-terabyte-bo-nho-windows11-he-thong-ram16gb-may-tinh-laptop-i2629832469.html\n"
     ]
    }
   ],
   "source": [
    "print(links[0])"
   ]
  },
  {
   "cell_type": "code",
   "execution_count": 90,
   "id": "5e62bc88",
   "metadata": {},
   "outputs": [],
   "source": [
    "driver.get(links[0])\n",
    "\n",
    "# ================================ GET price original\n",
    "elems = driver.find_elements(By.CSS_SELECTOR , \".origin-block .notranslate\")\n",
    "price_original = [elem.text for elem in elems]\n",
    "# ================================ GET ship price\n",
    "#           delivery-option-item__shipping-fee no-subtitle\n",
    "elems = driver.find_elements(By.CSS_SELECTOR , \".delivery-option-item__shipping-fee\")\n",
    "ship_prices = [elem.text for elem in elems]\n",
    "ship_price = [ship_prices[0]]\n",
    "# ================================ GET return\n",
    "elems = driver.find_elements(By.CSS_SELECTOR , \".warranty__option-item .delivery-option-item__body .delivery-option-item__info .delivery-option-item__title\")\n",
    "return_exchanges = [elem.text for elem in elems]\n",
    "if len(return_exchanges) != 0:\n",
    "    return_exchange = [return_exchanges[0]]\n",
    "# ================================\n",
    "elems = driver.find_elements(By.CSS_SELECTOR, \".info-content .seller-info-value\")\n",
    "percent_data = [elem.text for elem in elems]\n",
    "\n",
    "for i, percent in enumerate(percent_data):\n",
    "    if i == 0:\n",
    "        sale_rating  = [percent] # sale rating\n",
    "    elif i == 1:\n",
    "        shop_on_time = [percent] # shop on time \n",
    "    elif i == 2: \n",
    "        chat_response = [percent] # chat response\n",
    "# ================================ GET star data\n",
    "elems = driver.find_elements(By.CSS_SELECTOR, \".percent\")\n",
    "stars = [elem.text for elem in elems]\n",
    "one_star =[stars[4]]\n",
    "two_star =[stars[3]]\n",
    "three_star =[stars[2]]\n",
    "four_star =[stars[1]]\n",
    "five_star =[stars[0]]"
   ]
  },
  {
   "cell_type": "code",
   "execution_count": 93,
   "id": "dd71efa8",
   "metadata": {},
   "outputs": [],
   "source": [
    "df4 = pd.DataFrame(list(zip(price_original , ship_price, return_exchange, sale_rating, shop_on_time, chat_response, one_star, two_star, three_star, four_star, five_star)), \n",
    "                   columns = ['price_original', 'ship_price','return_exchange', 'sale_rating', 'shop_on_time', 'chat_response','one_star', 'two_star', 'three_star', 'four_star', 'five_star'])"
   ]
  },
  {
   "cell_type": "code",
   "execution_count": 94,
   "id": "8078749b",
   "metadata": {},
   "outputs": [
    {
     "name": "stdout",
     "output_type": "stream",
     "text": [
      "  price_original ship_price                   return_exchange sale_rating  \\\n",
      "0   13.899.999 ₫   Miễn phí  3 ngày trả hàng cho Nhà bán hàng        100%   \n",
      "\n",
      "  shop_on_time chat_response one_star two_star three_star four_star five_star  \n",
      "0         100%           75%        0        0          0         0         5  \n"
     ]
    }
   ],
   "source": [
    "print(df4)"
   ]
  },
  {
   "cell_type": "code",
   "execution_count": 95,
   "id": "e20db131",
   "metadata": {},
   "outputs": [],
   "source": [
    "price_original = []\n",
    "ship_price = []\n",
    "return_exchange = []\n",
    "sale_rating = []\n",
    "ship_on_time = []\n",
    "chat_response = []\n",
    "\n",
    "for link in links:\n",
    "    driver.get(link)\n",
    "\n",
    "    # ================================ GET price original\n",
    "    elems = driver.find_elements(By.CSS_SELECTOR, \".origin-block .notranslate\")\n",
    "    one_price_original = [elem.text for elem in elems]\n",
    "    price_original.append(one_price_original)\n",
    "\n",
    "    # ================================ GET ship price\n",
    "    elems = driver.find_elements(By.CSS_SELECTOR, \".delivery-option-item__shipping-fee\")\n",
    "    one_ship_prices = [elem.text for elem in elems]\n",
    "    # if len(one_ship_prices) != 0: \n",
    "    one_ship_price = one_ship_prices[0]\n",
    "    ship_price.append(one_ship_price)\n",
    "\n",
    "    # ================================ GET return\n",
    "    elems = driver.find_elements(By.CSS_SELECTOR, \".warranty__option-item .delivery-option-item__body .delivery-option-item__info .delivery-option-item__title\")\n",
    "    one_return_exchanges = [elem.text for elem in elems]\n",
    "    one_return_exchange = one_return_exchanges[0]\n",
    "    return_exchange.append(one_return_exchange)\n",
    "\n",
    "    # ================================ GET sale rating/ shop on tim/ chat response\n",
    "    elems = driver.find_elements(By.CSS_SELECTOR, \".info-content .seller-info-value\")\n",
    "    percent_data = [elem.text for elem in elems]\n",
    "\n",
    "    for i, percent in enumerate(percent_data):\n",
    "        if i == 0:\n",
    "            one_sale_rating = percent # sale rating\n",
    "        elif i == 1:\n",
    "            one_ship_on_time = percent # shop on time \n",
    "        elif i == 2:\n",
    "            one_chat_response = percent # chat response\n",
    "\n",
    "    sale_rating.append(one_sale_rating)\n",
    "    ship_on_time.append(one_ship_on_time)\n",
    "    chat_response.append(one_chat_response)"
   ]
  },
  {
   "cell_type": "code",
   "execution_count": null,
   "id": "c4a9cf72",
   "metadata": {},
   "outputs": [],
   "source": [
    "One_star = []\n",
    "Two_star = []\n",
    "Three_star = []\n",
    "Four_star = []\n",
    "Five_star = []\n",
    "count = 0\n",
    "\n",
    "for link in links:\n",
    "    driver.get(link)\n",
    "    # ================================ GET star data\n",
    "    elems = driver.find_elements(By.CSS_SELECTOR, \".percent\")\n",
    "    stars = [elem.text for elem in elems]\n",
    "    \n",
    "    One_star.append(stars[4])\n",
    "    Two_star.append(stars[3])\n",
    "    Three_star.append(stars[2])\n",
    "    Four_star.append(stars[1])\n",
    "    Five_star.append(stars[0])\n",
    "    count += 1\n",
    "    print(count)\n",
    "    if count > 5:\n",
    "        break"
   ]
  },
  {
   "cell_type": "code",
   "execution_count": 116,
   "id": "26157959",
   "metadata": {},
   "outputs": [
    {
     "name": "stdout",
     "output_type": "stream",
     "text": [
      "[]\n"
     ]
    }
   ],
   "source": [
    "print(One_star)"
   ]
  },
  {
   "cell_type": "code",
   "execution_count": 109,
   "id": "e83abfd0",
   "metadata": {},
   "outputs": [],
   "source": [
    "df4 = pd.DataFrame(list(zip(price_original , ship_price, return_exchange, sale_rating, ship_on_time, chat_response, One_star, Two_star, Three_star, Four_star, Five_star)), \n",
    "                   columns = ['price_original', 'ship_price','return_exchange', 'sale_rating', 'ship_on_time', 'chat_response', 'One_star', 'Two_star', 'Three_star', 'Four_star', 'Five_star'])\n",
    "df4['index_']= np.arange(1, len(df4) + 1)"
   ]
  },
  {
   "cell_type": "code",
   "execution_count": 110,
   "id": "807eeafe",
   "metadata": {},
   "outputs": [],
   "source": [
    "df4.to_csv('df4_demo.csv', encoding='utf-8', index=False)"
   ]
  },
  {
   "cell_type": "code",
   "execution_count": 71,
   "id": "bf90f6c7",
   "metadata": {},
   "outputs": [
    {
     "name": "stdout",
     "output_type": "stream",
     "text": [
      "  price_original               ship_price return_exchange sale_rating  \\\n",
      "0     [47.000 ₫]  7 ngày trả hàng dễ dàng        17.000 ₫         96%   \n",
      "\n",
      "  ship_on_time chat_response one_star two_star three_star four_star five_star  \\\n",
      "0          98%           85%        0        0          0         0         2   \n",
      "\n",
      "   index_4  \n",
      "0        1  \n"
     ]
    }
   ],
   "source": [
    "print(df4)"
   ]
  },
  {
   "cell_type": "code",
   "execution_count": null,
   "id": "e049d8bc",
   "metadata": {},
   "outputs": [],
   "source": []
  }
 ],
 "metadata": {
  "kernelspec": {
   "display_name": "Python 3 (ipykernel)",
   "language": "python",
   "name": "python3"
  },
  "language_info": {
   "codemirror_mode": {
    "name": "ipython",
    "version": 3
   },
   "file_extension": ".py",
   "mimetype": "text/x-python",
   "name": "python",
   "nbconvert_exporter": "python",
   "pygments_lexer": "ipython3",
   "version": "3.11.5"
  }
 },
 "nbformat": 4,
 "nbformat_minor": 5
}
