{
 "cells": [
  {
   "cell_type": "code",
   "execution_count": 1,
   "id": "967e3e9e",
   "metadata": {},
   "outputs": [],
   "source": [
    "import pandas as pd\n",
    "import numpy as np\n",
    "from bs4 import BeautifulSoup\n",
    "from selenium import webdriver\n",
    "import urllib.request\n",
    "from selenium.webdriver.chrome.options import Options\n",
    "from selenium.webdriver.chrome.service import Service\n",
    "from time import sleep\n",
    "import random\n",
    "from selenium.webdriver.common.by import By\n",
    "from selenium.common.exceptions import NoSuchElementException, ElementNotInteractableException"
   ]
  },
  {
   "cell_type": "code",
   "execution_count": 2,
   "id": "62cb1758",
   "metadata": {},
   "outputs": [],
   "source": [
    "main_link = 'https://www.lazada.vn/catalog/?q=laptop'\n",
    "path = 'chromedriver.exe'\n",
    "\n",
    "# # Customize chrome display\n",
    "chrome_options = Options()\n",
    "chrome_options.add_argument('--no-sandbox')\n",
    "chrome_options.add_argument('--disable-notifications')\n",
    "chrome_options.add_argument('--disable-infobars')\n",
    "\n",
    "service = Service(executable_path=path)\n",
    "driver = webdriver.Chrome(service=service, options=chrome_options)\n",
    "\n",
    "driver.get(main_link)"
   ]
  },
  {
   "cell_type": "code",
   "execution_count": 3,
   "id": "ca06536c",
   "metadata": {},
   "outputs": [],
   "source": [
    "def web_driver():\n",
    "    options = webdriver.ChromeOptions()\n",
    "    options.add_argument(\"--verbose\")\n",
    "    options.add_argument('--no-sandbox')\n",
    "    options.add_argument('--headless')\n",
    "    options.add_argument('--disable-gpu')\n",
    "    options.add_argument(\"--window-size=1920, 1200\")\n",
    "    options.add_argument('--disable-dev-shm-usage')\n",
    "    driver = webdriver.Chrome(options = options)\n",
    "    return driver"
   ]
  },
  {
   "cell_type": "code",
   "execution_count": 4,
   "id": "2c92148a",
   "metadata": {},
   "outputs": [],
   "source": [
    "driver = web_driver()\n",
    "driver.get('https://www.lazada.vn/catalog/?q=laptop')\n",
    "sleep(random.randint(5,10))"
   ]
  },
  {
   "cell_type": "code",
   "execution_count": 5,
   "id": "3b233d16",
   "metadata": {},
   "outputs": [],
   "source": [
    "# ================================ GET links/title\n",
    "elems = driver.find_elements(By.CSS_SELECTOR , \".RfADt [href]\")\n",
    "Title = [elem.text for elem in elems]\n",
    "Links = [elem.get_attribute('href') for elem in elems]"
   ]
  },
  {
   "cell_type": "code",
   "execution_count": 6,
   "id": "40c817d7",
   "metadata": {},
   "outputs": [
    {
     "name": "stdout",
     "output_type": "stream",
     "text": [
      "40\n"
     ]
    }
   ],
   "source": [
    "print(len(Title))"
   ]
  },
  {
   "cell_type": "code",
   "execution_count": 8,
   "id": "a85238ce",
   "metadata": {},
   "outputs": [],
   "source": [
    "Sale_off, Total_sold, Preview = [], [], []\n",
    "for i in range(1, len(Title)+1):\n",
    "    try:\n",
    "        temp_sale = driver.find_element(\"xpath\", \"/html/body/div[3]/div/div[2]/div[1]/div/div[1]/div[2]/div[{}]/div/div/div[2]/div[4]/span\".format(i))\n",
    "        Sale_off.append(temp_sale.text)\n",
    "    except NoSuchElementException:\n",
    "        Sale_off.append(None)\n",
    "\n",
    "    try:\n",
    "        temp_sold = driver.find_element(\"xpath\", \"/html/body/div[3]/div/div[2]/div[1]/div/div[1]/div[2]/div[{}]/div/div/div[2]/div[5]/span[1]/span[1]\".format(i))\n",
    "        Total_sold.append(temp_sold.text)\n",
    "    except NoSuchElementException:\n",
    "        Total_sold.append(None)\n",
    "\n",
    "    try:\n",
    "        temp_preview = driver.find_element(\"xpath\", \"/html/body/div[3]/div/div[2]/div[1]/div/div[1]/div[2]/div[{}]/div/div/div[2]/div[5]/div/span\".format(i))\n",
    "        Preview.append(temp_preview.text)\n",
    "    except NoSuchElementException:\n",
    "        Preview.append(None)"
   ]
  },
  {
   "cell_type": "code",
   "execution_count": null,
   "id": "0331da2b",
   "metadata": {},
   "outputs": [],
   "source": []
  }
 ],
 "metadata": {
  "kernelspec": {
   "display_name": "Python 3 (ipykernel)",
   "language": "python",
   "name": "python3"
  },
  "language_info": {
   "codemirror_mode": {
    "name": "ipython",
    "version": 3
   },
   "file_extension": ".py",
   "mimetype": "text/x-python",
   "name": "python",
   "nbconvert_exporter": "python",
   "pygments_lexer": "ipython3",
   "version": "3.11.5"
  }
 },
 "nbformat": 4,
 "nbformat_minor": 5
}
