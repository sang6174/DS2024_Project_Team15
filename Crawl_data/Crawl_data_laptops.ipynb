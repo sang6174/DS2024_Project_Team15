{
 "cells": [
  {
   "cell_type": "code",
   "execution_count": 1,
   "id": "300143f0",
   "metadata": {},
   "outputs": [],
   "source": [
    "import pandas as pd\n",
    "import numpy as np\n",
    "from bs4 import BeautifulSoup\n",
    "from selenium import webdriver\n",
    "import urllib.request\n",
    "from selenium.webdriver.chrome.options import Options\n",
    "from selenium.webdriver.chrome.service import Service\n",
    "from time import sleep\n",
    "import random\n",
    "from selenium.webdriver.common.by import By\n",
    "from selenium.common.exceptions import NoSuchElementException, ElementNotInteractableException"
   ]
  },
  {
   "cell_type": "code",
   "execution_count": 2,
   "id": "82d6ca02",
   "metadata": {},
   "outputs": [],
   "source": [
    "main_link = 'https://www.lazada.vn/catalog/?q=laptop'\n",
    "path = 'chromedriver.exe'\n",
    "\n",
    "# # Customize chrome display\n",
    "chrome_options = Options()\n",
    "chrome_options.add_argument('--no-sandbox')\n",
    "chrome_options.add_argument('--disable-notifications')\n",
    "chrome_options.add_argument('--disable-infobars')\n",
    "\n",
    "service = Service(executable_path=path)\n",
    "driver = webdriver.Chrome(service=service, options=chrome_options)\n",
    "\n",
    "driver.get(main_link)"
   ]
  },
  {
   "cell_type": "code",
   "execution_count": 3,
   "id": "c8dd22e6",
   "metadata": {},
   "outputs": [],
   "source": [
    "def web_driver():\n",
    "    options = webdriver.ChromeOptions()\n",
    "    options.add_argument(\"--verbose\")\n",
    "    options.add_argument('--no-sandbox')\n",
    "    options.add_argument('--headless')\n",
    "    options.add_argument('--disable-gpu')\n",
    "    options.add_argument(\"--window-size=1920, 1200\")\n",
    "    options.add_argument('--disable-dev-shm-usage')\n",
    "    driver = webdriver.Chrome(options = options)\n",
    "    return driver"
   ]
  },
  {
   "cell_type": "code",
   "execution_count": 4,
   "id": "e6d03b73",
   "metadata": {},
   "outputs": [],
   "source": [
    "driver = web_driver()\n",
    "driver.get('https://www.lazada.vn/catalog/?q=laptop')\n",
    "sleep(random.randint(5,10))"
   ]
  },
  {
   "cell_type": "code",
   "execution_count": 5,
   "id": "254b385f",
   "metadata": {},
   "outputs": [],
   "source": [
    "# ================================ GET links/title\n",
    "elems = driver.find_elements(By.CSS_SELECTOR , \".RfADt [href]\")\n",
    "title = [elem.text for elem in elems]\n",
    "links = [elem.get_attribute('href') for elem in elems]"
   ]
  },
  {
   "cell_type": "code",
   "execution_count": 19,
   "id": "7565235b",
   "metadata": {},
   "outputs": [],
   "source": [
    "elems = driver.find_elements(By.CSS_SELECTOR , \".JrAyI\")\n",
    "title = [elem.text for elem in elems]\n",
    "if len(Type) == 1:\n",
    "    Type = Type * len(title)\n"
   ]
  },
  {
   "cell_type": "code",
   "execution_count": 21,
   "id": "d734030e",
   "metadata": {},
   "outputs": [
    {
     "name": "stdout",
     "output_type": "stream",
     "text": [
      "['laptop', 'laptop', 'laptop', 'laptop', 'laptop', 'laptop', 'laptop', 'laptop', 'laptop', 'laptop', 'laptop', 'laptop', 'laptop', 'laptop', 'laptop', 'laptop', 'laptop', 'laptop', 'laptop', 'laptop', 'laptop', 'laptop', 'laptop', 'laptop', 'laptop', 'laptop', 'laptop', 'laptop', 'laptop', 'laptop', 'laptop', 'laptop', 'laptop', 'laptop', 'laptop', 'laptop', 'laptop', 'laptop', 'laptop', 'laptop']\n",
      "40\n"
     ]
    }
   ],
   "source": [
    "print(Type)\n",
    "print(len(Type))"
   ]
  },
  {
   "cell_type": "code",
   "execution_count": 48,
   "id": "975c9f5e",
   "metadata": {},
   "outputs": [
    {
     "name": "stdout",
     "output_type": "stream",
     "text": [
      "Found 5 seller ratings\n",
      "Seller rating 1: 47\n",
      "Seller rating 2: 5\n",
      "Seller rating 3: 3\n",
      "Seller rating 4: 1\n",
      "Seller rating 5: 11\n"
     ]
    }
   ],
   "source": [
    "driver.get(links[0])\n",
    "\n",
    "# ================================ GET star data\n",
    "elems = driver.find_elements(By.CSS_SELECTOR, \".percent\")\n",
    "stars = [elem.text for elem in elems]\n",
    "# Kiểm tra số lượng phần tử tìm thấy\n",
    "print(f'Found {len(stars)} seller ratings')\n",
    "\n",
    "# Hiển thị giá trị văn bản của các phần tử\n",
    "for i, rating in enumerate(stars):\n",
    "    print(f'Seller rating {i+1}: {rating}')"
   ]
  },
  {
   "cell_type": "code",
   "execution_count": 51,
   "id": "2de1979b",
   "metadata": {},
   "outputs": [],
   "source": [
    "one = stars[4]\n",
    "two = stars[3]\n",
    "three = stars[2]\n",
    "four = stars[1]\n",
    "five = stars[0]"
   ]
  },
  {
   "cell_type": "code",
   "execution_count": 54,
   "id": "83dd33d8",
   "metadata": {},
   "outputs": [],
   "source": [
    "star_data = {\n",
    "    \"one\": one,\n",
    "    \"two\": two,\n",
    "    \"three\": three,\n",
    "    \"four\": four,\n",
    "    \"five\": five\n",
    "}"
   ]
  },
  {
   "cell_type": "code",
   "execution_count": 55,
   "id": "6940d1a9",
   "metadata": {},
   "outputs": [
    {
     "name": "stdout",
     "output_type": "stream",
     "text": [
      "{'one': '11', 'two': '1', 'three': '3', 'four': '5', 'five': '47'}\n"
     ]
    }
   ],
   "source": [
    "print(star_data)"
   ]
  },
  {
   "cell_type": "code",
   "execution_count": 62,
   "id": "6424b6d4",
   "metadata": {},
   "outputs": [
    {
     "name": "stdout",
     "output_type": "stream",
     "text": [
      "0\n",
      "1\n",
      "2\n",
      "3\n",
      "4\n",
      "5\n",
      "6\n",
      "7\n",
      "8\n",
      "9\n",
      "10\n",
      "11\n",
      "12\n",
      "13\n",
      "14\n",
      "15\n",
      "16\n",
      "17\n",
      "18\n",
      "19\n",
      "20\n",
      "21\n",
      "22\n",
      "23\n",
      "24\n",
      "25\n",
      "26\n",
      "27\n",
      "28\n",
      "29\n",
      "30\n",
      "31\n",
      "32\n",
      "33\n",
      "34\n",
      "35\n",
      "36\n",
      "37\n",
      "38\n",
      "39\n"
     ]
    }
   ],
   "source": [
    "One_star = []\n",
    "Two_star = []\n",
    "Three_star = []\n",
    "Four_star = []\n",
    "Five_star = []\n",
    "count = 0\n",
    "\n",
    "for link in links: \n",
    "    driver.get(link)\n",
    "\n",
    "    # ================================ GET star data\n",
    "    elems = driver.find_elements(By.CSS_SELECTOR, \".percent\")\n",
    "    stars = [elem.text for elem in elems]\n",
    "    print(count)\n",
    "    # Kiểm tra và thêm các giá trị sao một cách an toàn\n",
    "    One_star.append(stars[4] if len(stars) > 4 else 'N/A')\n",
    "    Two_star.append(stars[3] if len(stars) > 3 else 'N/A')\n",
    "    Three_star.append(stars[2] if len(stars) > 2 else 'N/A')\n",
    "    Four_star.append(stars[1] if len(stars) > 1 else 'N/A')\n",
    "    Five_star.append(stars[0] if len(stars) > 0 else 'N/A')\n",
    "    count += 1"
   ]
  },
  {
   "cell_type": "code",
   "execution_count": 63,
   "id": "c08b07ce",
   "metadata": {},
   "outputs": [
    {
     "name": "stdout",
     "output_type": "stream",
     "text": [
      "['11', '0', '1', '2', '0', '0', '1', '0', '1', '0', '0', '0', '0', '0', '0', '0', '0', '0', '0', '0', '0', '3', '6', '0', '0', '0', '1', '0', '1', '1', '5', '0', '0', '1', '0', '0', '1', '0', '3', '0']\n",
      "['1', '0', '0', '1', '0', '0', '0', '0', '0', '1', '0', '2', '0', '0', '0', '1', '0', '0', '0', '0', '0', '0', '1', '0', '0', '0', '0', '0', '0', '0', '0', '0', '0', '0', '0', '2', '0', '0', '0', '0']\n",
      "['3', '0', '1', '1', '0', '0', '0', '0', '0', '0', '0', '0', '1', '1', '1', '0', '0', '0', '0', '0', '0', '1', '2', '0', '0', '0', '0', '0', '0', '2', '0', '0', '0', '0', '0', '0', '0', '0', '0', '0']\n",
      "['5', '0', '0', '3', '0', '0', '0', '6', '1', '1', '1', '2', '0', '0', '0', '0', '1', '0', '0', '0', '0', '0', '9', '0', '0', '0', '0', '0', '0', '0', '0', '0', '0', '2', '0', '1', '0', '0', '1', '0']\n",
      "['47', '0', '4', '21', '10', '3', '2', '34', '19', '9', '9', '15', '30', '1', '28', '8', '35', '3', '1', '12', '2', '20', '115', '28', '27', '7', '1', '9', '32', '115', '122', '0', '1', '46', '0', '12', '34', '0', '104', '28']\n"
     ]
    }
   ],
   "source": [
    "print(One_star)\n",
    "print(Two_star)\n",
    "print(Three_star)\n",
    "print(Four_star)\n",
    "print(Five_star)"
   ]
  },
  {
   "cell_type": "code",
   "execution_count": null,
   "id": "b39a8270",
   "metadata": {},
   "outputs": [],
   "source": []
  }
 ],
 "metadata": {
  "kernelspec": {
   "display_name": "Python 3 (ipykernel)",
   "language": "python",
   "name": "python3"
  },
  "language_info": {
   "codemirror_mode": {
    "name": "ipython",
    "version": 3
   },
   "file_extension": ".py",
   "mimetype": "text/x-python",
   "name": "python",
   "nbconvert_exporter": "python",
   "pygments_lexer": "ipython3",
   "version": "3.11.5"
  }
 },
 "nbformat": 4,
 "nbformat_minor": 5
}
