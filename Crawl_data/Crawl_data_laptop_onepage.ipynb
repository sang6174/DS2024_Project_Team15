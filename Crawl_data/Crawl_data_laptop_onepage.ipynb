{
 "cells": [
  {
   "cell_type": "code",
   "execution_count": 22,
   "id": "08cfc430",
   "metadata": {},
   "outputs": [],
   "source": [
    "import pandas as pd\n",
    "import numpy as np\n",
    "from bs4 import BeautifulSoup\n",
    "from selenium import webdriver\n",
    "import urllib.request\n",
    "from selenium.webdriver.chrome.options import Options\n",
    "from selenium.webdriver.chrome.service import Service\n",
    "from time import sleep\n",
    "import random\n",
    "from selenium.webdriver.common.by import By\n",
    "from selenium.common.exceptions import NoSuchElementException, ElementNotInteractableException"
   ]
  },
  {
   "cell_type": "code",
   "execution_count": 23,
   "id": "0b8335e7",
   "metadata": {},
   "outputs": [],
   "source": [
    "main_link = 'https://www.lazada.vn/catalog/?q=laptop'\n",
    "path = 'chromedriver.exe'\n",
    "\n",
    "# # Customize chrome display\n",
    "chrome_options = Options()\n",
    "chrome_options.add_argument('--no-sandbox')\n",
    "chrome_options.add_argument('--disable-notifications')\n",
    "chrome_options.add_argument('--disable-infobars')\n",
    "\n",
    "service = Service(executable_path=path)\n",
    "driver = webdriver.Chrome(service=service, options=chrome_options)\n",
    "\n",
    "driver.get(main_link)"
   ]
  },
  {
   "cell_type": "code",
   "execution_count": 24,
   "id": "1a5870e0",
   "metadata": {},
   "outputs": [],
   "source": [
    "def web_driver():\n",
    "    options = webdriver.ChromeOptions()\n",
    "    options.add_argument(\"--verbose\")\n",
    "    options.add_argument('--no-sandbox')\n",
    "    options.add_argument('--headless')\n",
    "    options.add_argument('--disable-gpu')\n",
    "    options.add_argument(\"--window-size=1920, 1200\")\n",
    "    options.add_argument('--disable-dev-shm-usage')\n",
    "    driver = webdriver.Chrome(options = options)\n",
    "    return driver"
   ]
  },
  {
   "cell_type": "code",
   "execution_count": 25,
   "id": "3bc7cd4d",
   "metadata": {},
   "outputs": [],
   "source": [
    "driver = web_driver()\n",
    "driver.get('https://www.lazada.vn/catalog/?q=laptop')\n",
    "sleep(random.randint(5,10))"
   ]
  },
  {
   "cell_type": "code",
   "execution_count": 112,
   "id": "4ae9ff66",
   "metadata": {},
   "outputs": [],
   "source": [
    "# ================================ GET type\n",
    "elems = driver.find_elements(By.CSS_SELECTOR , \".JrAyI\")\n",
    "Type = [elem.text for elem in elems]\n",
    "if len(Type) == 1:\n",
    "    Type = Type * len(title)"
   ]
  },
  {
   "cell_type": "code",
   "execution_count": 26,
   "id": "92447ad7",
   "metadata": {},
   "outputs": [],
   "source": [
    "# ================================ GET links/title\n",
    "elems = driver.find_elements(By.CSS_SELECTOR , \".RfADt [href]\")\n",
    "title = [elem.text for elem in elems]\n",
    "links = [elem.get_attribute('href') for elem in elems]"
   ]
  },
  {
   "cell_type": "code",
   "execution_count": 50,
   "id": "4c76b117",
   "metadata": {},
   "outputs": [
    {
     "name": "stdout",
     "output_type": "stream",
     "text": [
      "Found 40 seller ratings\n",
      "Seller rating 1: 8.269.999 ₫\n",
      "Seller rating 2: 3.200.000 ₫\n",
      "Seller rating 3: 39.000 ₫\n",
      "Seller rating 4: 2.550.000 ₫\n",
      "Seller rating 5: 1.000.000 ₫\n",
      "Seller rating 6: 999.999 ₫\n",
      "Seller rating 7: 1.199.999 ₫\n",
      "Seller rating 8: 1.200.000 ₫\n",
      "Seller rating 9: 1.239.000 ₫\n",
      "Seller rating 10: 999.999 ₫\n",
      "Seller rating 11: 165.000 ₫\n",
      "Seller rating 12: 1.200.000 ₫\n",
      "Seller rating 13: 2.668.000 ₫\n",
      "Seller rating 14: 3.258.000 ₫\n",
      "Seller rating 15: 1.799.000 ₫\n",
      "Seller rating 16: 2.455.000 ₫\n",
      "Seller rating 17: 1.300.000 ₫\n",
      "Seller rating 18: 1.900.000 ₫\n",
      "Seller rating 19: 2.300.000 ₫\n",
      "Seller rating 20: 999.999 ₫\n",
      "Seller rating 21: 5.099.999 ₫\n",
      "Seller rating 22: 1.600.000 ₫\n",
      "Seller rating 23: 12.000.000 ₫\n",
      "Seller rating 24: 4.200.000 ₫\n",
      "Seller rating 25: 7.689.000 ₫\n",
      "Seller rating 26: 5.499.000 ₫\n",
      "Seller rating 27: 4.799.999 ₫\n",
      "Seller rating 28: 6.899.999 ₫\n",
      "Seller rating 29: 6.554.998 ₫\n",
      "Seller rating 30: 6.950.000 ₫\n",
      "Seller rating 31: 1.200.000 ₫\n",
      "Seller rating 32: 6.999.999 ₫\n",
      "Seller rating 33: 6.800.000 ₫\n",
      "Seller rating 34: 3.248.000 ₫\n",
      "Seller rating 35: 1.799.000 ₫\n",
      "Seller rating 36: 2.820.000 ₫\n",
      "Seller rating 37: 1.990.000 ₫\n",
      "Seller rating 38: 4.500.000 ₫\n",
      "Seller rating 39: 8.500.000 ₫\n",
      "Seller rating 40: 8.079.999 ₫\n"
     ]
    }
   ],
   "source": [
    "# ================================ GET  price sale\n",
    "elems = driver.find_elements(By.CSS_SELECTOR , \".ooOxS\")\n",
    "price_sale = [elem.text for elem in elems]"
   ]
  },
  {
   "cell_type": "code",
   "execution_count": 52,
   "id": "b4bef238",
   "metadata": {},
   "outputs": [
    {
     "name": "stdout",
     "output_type": "stream",
     "text": [
      "Found 40 seller ratings\n",
      "Seller rating 1: 41% Off\n",
      "Seller rating 2: 50% Off\n",
      "Seller rating 3: 17% Off\n",
      "Seller rating 4: 20% Off\n",
      "Seller rating 5: \n",
      "Seller rating 6: 17% Off\n",
      "Seller rating 7: 8% Off\n",
      "Seller rating 8: 48% Off\n",
      "Seller rating 9: 38% Off\n",
      "Seller rating 10: 17% Off\n",
      "Seller rating 11: 13% Off\n",
      "Seller rating 12: \n",
      "Seller rating 13: 8% Off\n",
      "Seller rating 14: 19% Off\n",
      "Seller rating 15: \n",
      "Seller rating 16: \n",
      "Seller rating 17: 28% Off\n",
      "Seller rating 18: \n",
      "Seller rating 19: 8% Off\n",
      "Seller rating 20: 17% Off\n",
      "Seller rating 21: 41% Off\n",
      "Seller rating 22: \n",
      "Seller rating 23: \n",
      "Seller rating 24: \n",
      "Seller rating 25: \n",
      "Seller rating 26: 25% Off\n",
      "Seller rating 27: 40% Off\n",
      "Seller rating 28: 3% Off\n",
      "Seller rating 29: 50% Off\n",
      "Áp dụng voucher\n",
      "Seller rating 30: \n",
      "Seller rating 31: 48% Off\n",
      "Seller rating 32: 22% Off\n",
      "Seller rating 33: \n",
      "Seller rating 34: 10% Off\n",
      "Seller rating 35: \n",
      "Seller rating 36: 37% Off\n",
      "Seller rating 37: \n",
      "Seller rating 38: \n",
      "Seller rating 39: 32% Off\n",
      "Seller rating 40: 43% Off\n"
     ]
    }
   ],
   "source": [
    "# ================================ GET sale off \n",
    "elems = driver.find_elements(By.CSS_SELECTOR , \".WNoq3\")\n",
    "sale_off = [elem.text for elem in elems]"
   ]
  },
  {
   "cell_type": "code",
   "execution_count": 76,
   "id": "8916108c",
   "metadata": {},
   "outputs": [
    {
     "name": "stdout",
     "output_type": "stream",
     "text": [
      "1\n",
      "No Such Element Exception 2\n",
      "3\n",
      "4\n",
      "5\n",
      "6\n",
      "No Such Element Exception 7\n",
      "8\n",
      "9\n",
      "10\n",
      "11\n",
      "12\n",
      "13\n",
      "14\n",
      "15\n",
      "16\n",
      "17\n",
      "18\n",
      "No Such Element Exception 19\n",
      "20\n",
      "21\n",
      "22\n",
      "No Such Element Exception 23\n",
      "No Such Element Exception 24\n",
      "25\n",
      "26\n",
      "27\n",
      "28\n",
      "29\n",
      "No Such Element Exception 30\n",
      "No Such Element Exception 31\n",
      "32\n",
      "No Such Element Exception 33\n",
      "34\n",
      "35\n",
      "36\n",
      "37\n",
      "38\n",
      "No Such Element Exception 39\n",
      "40\n"
     ]
    }
   ],
   "source": [
    "total_sold, preview, temp_id = [], [], []\n",
    "for i in range(1, len(title)+1):\n",
    "    try:\n",
    "        total = driver.find_element(\"xpath\", \"/html/body/div[3]/div/div[2]/div[1]/div/div[1]/div[2]/div[{}]/div/div/div[2]/div[5]/span[1]/span[1]\".format(i))\n",
    "        total_sold.append(total.text)\n",
    "        prev = driver.find_element(\"xpath\", \"/html/body/div[3]/div/div[2]/div[1]/div/div[1]/div[2]/div[{}]/div/div/div[2]/div[5]/div/span\".format(i))\n",
    "        preview.append(prev.text)\n",
    "        print(i)\n",
    "        temp_id.append(i)\n",
    "    except NoSuchElementException:\n",
    "        print(\"No Such Element Exception \" + str(i))"
   ]
  },
  {
   "cell_type": "code",
   "execution_count": 77,
   "id": "c5fd8cff",
   "metadata": {},
   "outputs": [],
   "source": [
    "# ================================ GET Location\n",
    "elems = driver.find_elements(By.CSS_SELECTOR , \".oa6ri \")\n",
    "Location = [elem.text for elem in elems]"
   ]
  },
  {
   "cell_type": "code",
   "execution_count": 80,
   "id": "08342f81",
   "metadata": {},
   "outputs": [],
   "source": [
    "df1 = pd.DataFrame(list(zip(title, links, price_sale, sale_off, Location)),\n",
    "                   columns = ['title', 'link_item', 'price_sale', 'sale_off', 'Location'])\n",
    "df1['index_']= np.arange(1, len(df1) + 1)"
   ]
  },
  {
   "cell_type": "code",
   "execution_count": 81,
   "id": "ff35f236",
   "metadata": {},
   "outputs": [],
   "source": [
    "df1.to_csv('df1_demo.csv', encoding='utf-8', index=False)"
   ]
  },
  {
   "cell_type": "code",
   "execution_count": 83,
   "id": "d00462a8",
   "metadata": {},
   "outputs": [],
   "source": [
    "df2 = pd.DataFrame(list(zip(temp_id , total_sold, preview)), columns = ['temp_id', 'total_sold','preview'])"
   ]
  },
  {
   "cell_type": "code",
   "execution_count": 85,
   "id": "deb8e95e",
   "metadata": {},
   "outputs": [],
   "source": [
    "df2.to_csv('df2_demo.csv', encoding='utf-8', index=False)"
   ]
  },
  {
   "cell_type": "code",
   "execution_count": 84,
   "id": "f8d28f58",
   "metadata": {},
   "outputs": [],
   "source": [
    "df3 = df1.merge(df2, how='left', left_on='index_', right_on='temp_id')"
   ]
  },
  {
   "cell_type": "code",
   "execution_count": 86,
   "id": "bced0387",
   "metadata": {},
   "outputs": [],
   "source": [
    "df3.to_csv('df3_demo.csv', encoding='utf-8', index=False)"
   ]
  },
  {
   "cell_type": "code",
   "execution_count": 87,
   "id": "1e4fc310",
   "metadata": {},
   "outputs": [
    {
     "name": "stdout",
     "output_type": "stream",
     "text": [
      "https://www.lazada.vn/products/lenovo-moi-tinh-core-intel-i7-6560u-laptop-15-6-inch-1-terabyte-bo-nho-windows11-he-thong-ram16gb-may-tinh-laptop-i2629832469.html\n"
     ]
    }
   ],
   "source": [
    "print(links[0])"
   ]
  },
  {
   "cell_type": "code",
   "execution_count": 90,
   "id": "5e62bc88",
   "metadata": {},
   "outputs": [],
   "source": [
    "driver.get(links[0])\n",
    "\n",
    "# ================================ GET price original\n",
    "elems = driver.find_elements(By.CSS_SELECTOR , \".origin-block .notranslate\")\n",
    "price_original = [elem.text for elem in elems]\n",
    "# ================================ GET ship price\n",
    "#           delivery-option-item__shipping-fee no-subtitle\n",
    "elems = driver.find_elements(By.CSS_SELECTOR , \".delivery-option-item__shipping-fee\")\n",
    "ship_prices = [elem.text for elem in elems]\n",
    "ship_price = [ship_prices[0]]\n",
    "# ================================ GET return\n",
    "elems = driver.find_elements(By.CSS_SELECTOR , \".warranty__option-item .delivery-option-item__body .delivery-option-item__info .delivery-option-item__title\")\n",
    "return_exchanges = [elem.text for elem in elems]\n",
    "if len(return_exchanges) != 0:\n",
    "    return_exchange = [return_exchanges[0]]\n",
    "# ================================\n",
    "elems = driver.find_elements(By.CSS_SELECTOR, \".info-content .seller-info-value\")\n",
    "percent_data = [elem.text for elem in elems]\n",
    "\n",
    "for i, percent in enumerate(percent_data):\n",
    "    if i == 0:\n",
    "        sale_rating  = [percent] # sale rating\n",
    "    elif i == 1:\n",
    "        shop_on_time = [percent] # shop on time \n",
    "    elif i == 2: \n",
    "        chat_response = [percent] # chat response\n",
    "# ================================ GET star data\n",
    "elems = driver.find_elements(By.CSS_SELECTOR, \".percent\")\n",
    "stars = [elem.text for elem in elems]\n",
    "one_star =[stars[4]]\n",
    "two_star =[stars[3]]\n",
    "three_star =[stars[2]]\n",
    "four_star =[stars[1]]\n",
    "five_star =[stars[0]]"
   ]
  },
  {
   "cell_type": "code",
   "execution_count": 93,
   "id": "30df8ea2",
   "metadata": {},
   "outputs": [],
   "source": [
    "df4 = pd.DataFrame(list(zip(price_original , ship_price, return_exchange, sale_rating, shop_on_time, chat_response, one_star, two_star, three_star, four_star, five_star)), \n",
    "                   columns = ['price_original', 'ship_price','return_exchange', 'sale_rating', 'shop_on_time', 'chat_response','one_star', 'two_star', 'three_star', 'four_star', 'five_star'])"
   ]
  },
  {
   "cell_type": "code",
   "execution_count": 94,
   "id": "4c68cfb0",
   "metadata": {},
   "outputs": [
    {
     "name": "stdout",
     "output_type": "stream",
     "text": [
      "  price_original ship_price                   return_exchange sale_rating  \\\n",
      "0   13.899.999 ₫   Miễn phí  3 ngày trả hàng cho Nhà bán hàng        100%   \n",
      "\n",
      "  shop_on_time chat_response one_star two_star three_star four_star five_star  \n",
      "0         100%           75%        0        0          0         0         5  \n"
     ]
    }
   ],
   "source": [
    "print(df4)"
   ]
  },
  {
   "cell_type": "code",
   "execution_count": 95,
   "id": "e20db131",
   "metadata": {},
   "outputs": [],
   "source": [
    "price_original = []\n",
    "ship_price = []\n",
    "return_exchange = []\n",
    "sale_rating = []\n",
    "ship_on_time = []\n",
    "chat_response = []\n",
    "\n",
    "for link in links:\n",
    "    driver.get(link)\n",
    "\n",
    "    # ================================ GET price original\n",
    "    elems = driver.find_elements(By.CSS_SELECTOR, \".origin-block .notranslate\")\n",
    "    one_price_original = [elem.text for elem in elems]\n",
    "    price_original.append(one_price_original)\n",
    "\n",
    "    # ================================ GET ship price\n",
    "    elems = driver.find_elements(By.CSS_SELECTOR, \".delivery-option-item__shipping-fee\")\n",
    "    one_ship_prices = [elem.text for elem in elems]\n",
    "    # if len(one_ship_prices) != 0: \n",
    "    one_ship_price = one_ship_prices[0]\n",
    "    ship_price.append(one_ship_price)\n",
    "\n",
    "    # ================================ GET return\n",
    "    elems = driver.find_elements(By.CSS_SELECTOR, \".warranty__option-item .delivery-option-item__body .delivery-option-item__info .delivery-option-item__title\")\n",
    "    one_return_exchanges = [elem.text for elem in elems]\n",
    "    one_return_exchange = one_return_exchanges[0]\n",
    "    return_exchange.append(one_return_exchange)\n",
    "\n",
    "    # ================================ GET sale rating/ shop on tim/ chat response\n",
    "    elems = driver.find_elements(By.CSS_SELECTOR, \".info-content .seller-info-value\")\n",
    "    percent_data = [elem.text for elem in elems]\n",
    "\n",
    "    for i, percent in enumerate(percent_data):\n",
    "        if i == 0:\n",
    "            one_sale_rating = percent # sale rating\n",
    "        elif i == 1:\n",
    "            one_ship_on_time = percent # shop on time \n",
    "        elif i == 2:\n",
    "            one_chat_response = percent # chat response\n",
    "\n",
    "    sale_rating.append(one_sale_rating)\n",
    "    ship_on_time.append(one_ship_on_time)\n",
    "    chat_response.append(one_chat_response)"
   ]
  },
  {
   "cell_type": "code",
   "execution_count": 138,
   "id": "075b872a",
   "metadata": {},
   "outputs": [
    {
     "name": "stdout",
     "output_type": "stream",
     "text": [
      "0\n",
      "1\n",
      "2\n",
      "3\n",
      "4\n",
      "5\n",
      "6\n",
      "7\n",
      "8\n",
      "9\n",
      "10\n",
      "11\n",
      "12\n",
      "13\n",
      "14\n",
      "15\n",
      "16\n",
      "17\n",
      "18\n",
      "19\n",
      "20\n",
      "21\n",
      "22\n",
      "23\n",
      "24\n",
      "25\n",
      "26\n",
      "27\n",
      "28\n",
      "29\n",
      "30\n",
      "31\n",
      "32\n",
      "33\n",
      "34\n",
      "35\n",
      "36\n",
      "37\n",
      "38\n",
      "39\n"
     ]
    }
   ],
   "source": [
    "# Danh sách để lưu trữ dữ liệu sao\n",
    "One_star = []\n",
    "Two_star = []\n",
    "Three_star = []\n",
    "Four_star = []\n",
    "Five_star = []\n",
    "count = 0\n",
    "\n",
    "for link in links: \n",
    "    driver.get(link)\n",
    "\n",
    "    # ================================ GET star data\n",
    "    elems = driver.find_elements(By.CSS_SELECTOR, \".percent\")\n",
    "    stars = [elem.text for elem in elems]\n",
    "    print(count)\n",
    "    # Kiểm tra và thêm các giá trị sao một cách an toàn\n",
    "    One_star.append(stars[4] if len(stars) > 4 else 'N/A')\n",
    "    Two_star.append(stars[3] if len(stars) > 3 else 'N/A')\n",
    "    Three_star.append(stars[2] if len(stars) > 2 else 'N/A')\n",
    "    Four_star.append(stars[1] if len(stars) > 1 else 'N/A')\n",
    "    Five_star.append(stars[0] if len(stars) > 0 else 'N/A')\n",
    "    count += 1\n",
    "    if count >= 40:\n",
    "        break"
   ]
  },
  {
   "cell_type": "code",
   "execution_count": 139,
   "id": "153413a1",
   "metadata": {},
   "outputs": [
    {
     "name": "stdout",
     "output_type": "stream",
     "text": [
      "['0', '0', '11', '0', '2', '1', '0', '0', '0', '1', '3', '0', '0', '0', '0', '0', '0', '1', '0', '1', '3', '6', '0', '0', '0', '0', '1', '1', '1', '0', '0', '1', '0', '0', '1', '1', '0', '0', '0', '0']\n",
      "['0', '0', '1', '0', '1', '0', '0', '1', '0', '0', '1', '0', '2', '0', '0', '0', '0', '0', '0', '1', '0', '1', '0', '0', '0', '0', '0', '0', '0', '0', '0', '0', '0', '0', '0', '1', '0', '0', '0', '0']\n",
      "['0', '0', '3', '0', '1', '0', '0', '0', '0', '0', '2', '0', '0', '1', '0', '1', '0', '0', '0', '1', '1', '2', '0', '0', '0', '0', '0', '2', '0', '0', '0', '0', '0', '0', '1', '1', '0', '0', '0', '0']\n",
      "['0', '0', '5', '0', '3', '0', '0', '1', '0', '0', '12', '1', '2', '0', '1', '0', '6', '0', '0', '0', '0', '9', '0', '0', '0', '2', '0', '0', '0', '0', '0', '2', '0', '0', '0', '5', '0', '0', '0', '0']\n",
      "['5', '0', '47', '9', '21', '2', '3', '9', '10', '1', '763', '9', '15', '30', '40', '1', '34', '4', '1', '7', '20', '115', '0', '0', '7', '55', '32', '115', '18', '0', '0', '46', '0', '28', '41', '28', '5', '5', '0', '4']\n"
     ]
    }
   ],
   "source": [
    "print(One_star)\n",
    "print(Two_star)\n",
    "print(Three_star)\n",
    "print(Four_star)\n",
    "print(Five_star)"
   ]
  },
  {
   "cell_type": "code",
   "execution_count": 140,
   "id": "5978154b",
   "metadata": {},
   "outputs": [],
   "source": [
    "df4 = pd.DataFrame(list(zip(price_original , ship_price, return_exchange, sale_rating, ship_on_time, chat_response, One_star, Two_star, Three_star, Four_star, Five_star)), \n",
    "                   columns = ['price_original', 'ship_price','return_exchange', 'sale_rating', 'ship_on_time', 'chat_response', 'One_star', 'Two_star', 'Three_star', 'Four_star', 'Five_star'])\n",
    "df4['index_']= np.arange(1, len(df4) + 1)"
   ]
  },
  {
   "cell_type": "code",
   "execution_count": 141,
   "id": "807eeafe",
   "metadata": {},
   "outputs": [],
   "source": [
    "df4.to_csv('df4_demo.csv', encoding='utf-8', index=False)"
   ]
  },
  {
   "cell_type": "code",
   "execution_count": 142,
   "id": "bf90f6c7",
   "metadata": {},
   "outputs": [
    {
     "name": "stdout",
     "output_type": "stream",
     "text": [
      "    price_original ship_price                   return_exchange  \\\n",
      "0   [13.899.999 ₫]   Miễn phí  3 ngày trả hàng cho Nhà bán hàng   \n",
      "1    [6.400.000 ₫]   Miễn phí  3 ngày trả hàng cho Nhà bán hàng   \n",
      "2       [47.000 ₫]                      7 ngày trả hàng dễ dàng   \n",
      "3    [3.200.000 ₫]   52.400 ₫  3 ngày trả hàng cho Nhà bán hàng   \n",
      "4               []  198.200 ₫  3 ngày trả hàng cho Nhà bán hàng   \n",
      "5    [1.499.999 ₫]   70.000 ₫  3 ngày trả hàng cho Nhà bán hàng   \n",
      "6    [1.399.999 ₫]   80.200 ₫  3 ngày trả hàng cho Nhà bán hàng   \n",
      "7    [2.300.000 ₫]   Miễn phí  3 ngày trả hàng cho Nhà bán hàng   \n",
      "8    [2.200.000 ₫]   Miễn phí  3 ngày trả hàng cho Nhà bán hàng   \n",
      "9    [1.499.999 ₫]  100.600 ₫  3 ngày trả hàng cho Nhà bán hàng   \n",
      "10              []   16.500 ₫  3 ngày trả hàng cho Nhà bán hàng   \n",
      "11              []   32.200 ₫  3 ngày trả hàng cho Nhà bán hàng   \n",
      "12   [2.898.000 ₫]   56.800 ₫  3 ngày trả hàng cho Nhà bán hàng   \n",
      "13   [3.998.000 ₫]   56.800 ₫  3 ngày trả hàng cho Nhà bán hàng   \n",
      "14              []   65.500 ₫  3 ngày trả hàng cho Nhà bán hàng   \n",
      "15              []   38.000 ₫  3 ngày trả hàng cho Nhà bán hàng   \n",
      "16              []   74.400 ₫  3 ngày trả hàng cho Nhà bán hàng   \n",
      "17              []   38.000 ₫  3 ngày trả hàng cho Nhà bán hàng   \n",
      "18   [3.000.000 ₫]  104.900 ₫  3 ngày trả hàng cho Nhà bán hàng   \n",
      "19   [1.199.999 ₫]  100.600 ₫  3 ngày trả hàng cho Nhà bán hàng   \n",
      "20   [8.599.999 ₫]   Miễn phí  3 ngày trả hàng cho Nhà bán hàng   \n",
      "21              []   56.800 ₫  3 ngày trả hàng cho Nhà bán hàng   \n",
      "22              []   43.900 ₫  3 ngày trả hàng cho Nhà bán hàng   \n",
      "23              []   56.800 ₫  3 ngày trả hàng cho Nhà bán hàng   \n",
      "24              []   37.700 ₫  3 ngày trả hàng cho Nhà bán hàng   \n",
      "25   [7.299.000 ₫]   74.400 ₫  3 ngày trả hàng cho Nhà bán hàng   \n",
      "26   [7.939.999 ₫]   Miễn phí  3 ngày trả hàng cho Nhà bán hàng   \n",
      "27   [8.999.999 ₫]   Miễn phí  3 ngày trả hàng cho Nhà bán hàng   \n",
      "28  [13.999.998 ₫]   Miễn phí  3 ngày trả hàng cho Nhà bán hàng   \n",
      "29              []   Miễn phí  3 ngày trả hàng cho Nhà bán hàng   \n",
      "30   [2.300.000 ₫]   Miễn phí  3 ngày trả hàng cho Nhà bán hàng   \n",
      "31   [8.999.999 ₫]   Miễn phí  3 ngày trả hàng cho Nhà bán hàng   \n",
      "32              []  100.600 ₫  3 ngày trả hàng cho Nhà bán hàng   \n",
      "33   [3.598.000 ₫]   56.800 ₫  3 ngày trả hàng cho Nhà bán hàng   \n",
      "34              []   65.500 ₫  3 ngày trả hàng cho Nhà bán hàng   \n",
      "35   [4.100.000 ₫]   16.500 ₫  3 ngày trả hàng cho Nhà bán hàng   \n",
      "36              []   84.600 ₫                   100% Chính hãng   \n",
      "37              []   51.100 ₫  3 ngày trả hàng cho Nhà bán hàng   \n",
      "38  [12.500.000 ₫]   21.200 ₫  3 ngày trả hàng cho Nhà bán hàng   \n",
      "39  [14.099.999 ₫]   Miễn phí  3 ngày trả hàng cho Nhà bán hàng   \n",
      "\n",
      "           sale_rating        ship_on_time       chat_response One_star  \\\n",
      "0                 100%                100%                 75%        0   \n",
      "1   Không đủ thông tin  Không đủ thông tin  Không đủ thông tin        0   \n",
      "2                  96%                 98%                 85%       11   \n",
      "3                  91%                100%                100%        0   \n",
      "4                  94%                 25%                 66%        2   \n",
      "5                  86%                100%                 85%        1   \n",
      "6                  86%                100%                 85%        0   \n",
      "7                  91%                100%                100%        0   \n",
      "8                  91%                100%                100%        0   \n",
      "9                  86%                100%                 85%        1   \n",
      "10                 99%                100%                100%        3   \n",
      "11                 87%                 37%                100%        0   \n",
      "12                 94%                 92%                 92%        0   \n",
      "13                 94%                 92%                 92%        0   \n",
      "14                 99%                100%  Không đủ thông tin        0   \n",
      "15                 79%                 76%                 96%        0   \n",
      "16                 92%                100%                 88%        0   \n",
      "17                 79%                 76%                 96%        1   \n",
      "18                 92%                100%                 88%        0   \n",
      "19                 82%                100%  Không đủ thông tin        1   \n",
      "20                 88%                100%  Không đủ thông tin        3   \n",
      "21                 95%                100%                 50%        6   \n",
      "22  Không đủ thông tin  Không đủ thông tin  Không đủ thông tin        0   \n",
      "23                100%                 98%  Không đủ thông tin        0   \n",
      "24                100%                 98%  Không đủ thông tin        0   \n",
      "25                 96%                100%                100%        0   \n",
      "26                 95%                 99%                100%        1   \n",
      "27                 96%                100%                 50%        1   \n",
      "28                 97%                 81%                100%        1   \n",
      "29                 96%                100%                 94%        0   \n",
      "30                 91%                100%                100%        0   \n",
      "31                 96%                100%                 50%        1   \n",
      "32    Nhà bán hàng mới  Không đủ thông tin  Không đủ thông tin        0   \n",
      "33                 94%                 92%                 92%        0   \n",
      "34                 97%  Không đủ thông tin  Không đủ thông tin        1   \n",
      "35                 96%                 78%                100%        1   \n",
      "36                 94%                100%                 68%        0   \n",
      "37                100%                 98%  Không đủ thông tin        0   \n",
      "38  Không đủ thông tin  Không đủ thông tin  Không đủ thông tin        0   \n",
      "39                100%                100%                 75%        0   \n",
      "\n",
      "   Two_star Three_star Four_star Five_star  index_  \n",
      "0         0          0         0         5       1  \n",
      "1         0          0         0         0       2  \n",
      "2         1          3         5        47       3  \n",
      "3         0          0         0         9       4  \n",
      "4         1          1         3        21       5  \n",
      "5         0          0         0         2       6  \n",
      "6         0          0         0         3       7  \n",
      "7         1          0         1         9       8  \n",
      "8         0          0         0        10       9  \n",
      "9         0          0         0         1      10  \n",
      "10        1          2        12       763      11  \n",
      "11        0          0         1         9      12  \n",
      "12        2          0         2        15      13  \n",
      "13        0          1         0        30      14  \n",
      "14        0          0         1        40      15  \n",
      "15        0          1         0         1      16  \n",
      "16        0          0         6        34      17  \n",
      "17        0          0         0         4      18  \n",
      "18        0          0         0         1      19  \n",
      "19        1          1         0         7      20  \n",
      "20        0          1         0        20      21  \n",
      "21        1          2         9       115      22  \n",
      "22        0          0         0         0      23  \n",
      "23        0          0         0         0      24  \n",
      "24        0          0         0         7      25  \n",
      "25        0          0         2        55      26  \n",
      "26        0          0         0        32      27  \n",
      "27        0          2         0       115      28  \n",
      "28        0          0         0        18      29  \n",
      "29        0          0         0         0      30  \n",
      "30        0          0         0         0      31  \n",
      "31        0          0         2        46      32  \n",
      "32        0          0         0         0      33  \n",
      "33        0          0         0        28      34  \n",
      "34        0          1         0        41      35  \n",
      "35        1          1         5        28      36  \n",
      "36        0          0         0         5      37  \n",
      "37        0          0         0         5      38  \n",
      "38        0          0         0         0      39  \n",
      "39        0          0         0         4      40  \n"
     ]
    }
   ],
   "source": [
    "print(df4)"
   ]
  },
  {
   "cell_type": "code",
   "execution_count": 143,
   "id": "814b0591",
   "metadata": {},
   "outputs": [],
   "source": [
    "df5 = df3.merge(df4, how='left', left_on='index_', right_on='index_')"
   ]
  },
  {
   "cell_type": "code",
   "execution_count": 144,
   "id": "e049d8bc",
   "metadata": {},
   "outputs": [],
   "source": [
    "df3.to_csv('df3_demo.csv', encoding='utf-8', index=False)"
   ]
  },
  {
   "cell_type": "code",
   "execution_count": null,
   "id": "560bfc76",
   "metadata": {},
   "outputs": [],
   "source": []
  }
 ],
 "metadata": {
  "kernelspec": {
   "display_name": "Python 3 (ipykernel)",
   "language": "python",
   "name": "python3"
  },
  "language_info": {
   "codemirror_mode": {
    "name": "ipython",
    "version": 3
   },
   "file_extension": ".py",
   "mimetype": "text/x-python",
   "name": "python",
   "nbconvert_exporter": "python",
   "pygments_lexer": "ipython3",
   "version": "3.11.5"
  }
 },
 "nbformat": 4,
 "nbformat_minor": 5
}
