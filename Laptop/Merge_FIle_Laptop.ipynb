{
 "cells": [
  {
   "cell_type": "code",
   "execution_count": 1,
   "id": "638ea595",
   "metadata": {},
   "outputs": [],
   "source": [
    "import pandas as pd"
   ]
  },
  {
   "cell_type": "code",
   "execution_count": 2,
   "id": "2b119202",
   "metadata": {},
   "outputs": [],
   "source": [
    "csv_files = [\n",
    "    'Data_Laptop_Page01.csv',\n",
    "    'Data_Laptop_Page02_To_Page05.csv',\n",
    "    'Data_Laptop_Page06_To_Page15.csv',\n",
    "    'Data_Laptop_Page16_To_Page25.csv',\n",
    "    'Data_Laptop_Page26_To_Page30.csv'\n",
    "]"
   ]
  },
  {
   "cell_type": "code",
   "execution_count": 3,
   "id": "a8f1cd5a",
   "metadata": {},
   "outputs": [
    {
     "name": "stdout",
     "output_type": "stream",
     "text": [
      "       Type                                              Title  \\\n",
      "0    laptop  [6.6 SALE TO] MacBook Air 2020 13.3 inches M1-...   \n",
      "1    laptop  Lenovo mới tinh core Intel i7 6560U laptop 15,...   \n",
      "2    laptop  Máy Tính Xách Tay Bàn Phím Bao Gồm, Màng Bảo V...   \n",
      "3    laptop  ASUS máy tính xách tay mới tinh Intel core i7 ...   \n",
      "4    laptop  LaptopLENOVO THINKPAD X1 Carbon Gen 7 X1 Carbo...   \n",
      "..      ...                                                ...   \n",
      "195  laptop  Laptop HP Envy x360 2 in 1 14-es0033dx i7-1355...   \n",
      "196  laptop  Laptop Asus Vivobook 15 OLED i5-13500H/16GB/51...   \n",
      "197  laptop  [Siêu phẩm cao cấp] Laptop HP Spectre X360 Cor...   \n",
      "198  laptop  LaptopLENOVO THINKPAD X1 Carbon Gen 5 Core i5-...   \n",
      "199  laptop  Máy tính cũ Macb00k pr0 đời 2015, 13inh core i...   \n",
      "\n",
      "                                                  Link    Price_sale  \\\n",
      "0    https://www.lazada.vn/products/66-sale-to-macb...  17.990.000 ₫   \n",
      "1    https://www.lazada.vn/products/lenovo-moi-tinh...   7.223.999 ₫   \n",
      "2    https://www.lazada.vn/products/may-tinh-xach-t...      39.000 ₫   \n",
      "3    https://www.lazada.vn/products/asus-may-tinh-x...   7.254.959 ₫   \n",
      "4    https://www.lazada.vn/products/laptoplenovo-th...   4.390.000 ₫   \n",
      "..                                                 ...           ...   \n",
      "195  https://www.lazada.vn/products/laptop-hp-envy-...  17.200.000 ₫   \n",
      "196  https://www.lazada.vn/products/laptop-asus-viv...  19.990.000 ₫   \n",
      "197  https://www.lazada.vn/products/sieu-pham-cao-c...  12.990.000 ₫   \n",
      "198  https://www.lazada.vn/products/laptoplenovo-th...   5.900.000 ₫   \n",
      "199  https://www.lazada.vn/products/may-tinh-cu-mac...   6.299.000 ₫   \n",
      "\n",
      "                                   Sale_off   Total_sold Preview     Location  \\\n",
      "0                                   38% Off  3.0K Đã bán   (666)  Hồ Chí Minh   \n",
      "1    52% Off\\nLazFlash Sale,kết thúc sau 9h    51 Đã bán     (5)    Hải Phòng   \n",
      "2                                   17% Off   312 Đã bán    (67)  Hồ Chí Minh   \n",
      "3                                   45% Off    16 Đã bán     (3)    Hải Phòng   \n",
      "4    20% Off\\nLazFlash Sale,kết thúc sau 9h   126 Đã bán    (29)       Hà Nội   \n",
      "..                                      ...          ...     ...          ...   \n",
      "195                                     NaN          NaN     NaN       Hà Nội   \n",
      "196                                     NaN          NaN     NaN  Hồ Chí Minh   \n",
      "197                                     NaN          NaN     (1)      Nghệ An   \n",
      "198                                 14% Off          NaN     NaN       Hà Nội   \n",
      "199                                  3% Off          NaN     (0)     Đồng Nai   \n",
      "\n",
      "    Price_original    Ship_price                     Return  \\\n",
      "0     28.990.000 ₫      10.200 ₫  30 Ngày Trả Hàng Miễn Phí   \n",
      "1     13.899.999 ₫      Miễn phí                        NaN   \n",
      "2         47.000 ₫      17.000 ₫                        NaN   \n",
      "3     13.199.999 ₫      Miễn phí                        NaN   \n",
      "4      5.900.000 ₫      Miễn phí                        NaN   \n",
      "..             ...           ...                        ...   \n",
      "195            NaN  78.950.100 ₫                        NaN   \n",
      "196            NaN           NaN  30 Ngày Trả Hàng Miễn Phí   \n",
      "197            NaN      90.400 ₫                        NaN   \n",
      "198    6.900.000 ₫           NaN                        NaN   \n",
      "199    6.500.000 ₫      Miễn phí                        NaN   \n",
      "\n",
      "            Sale_rating        Ship_on_time       Chat_response One_star  \\\n",
      "0                   94%                 98%                100%   ['28']   \n",
      "1                  100%                100%                 80%    ['0']   \n",
      "2                   96%                 98%                 90%   ['11']   \n",
      "3                  100%                100%                 80%    ['0']   \n",
      "4                   98%                100%                100%    ['0']   \n",
      "..                  ...                 ...                 ...      ...   \n",
      "195  Không đủ thông tin  Không đủ thông tin  Không đủ thông tin    ['0']   \n",
      "196                 99%  Không đủ thông tin                100%    ['0']   \n",
      "197                100%                100%                100%    ['0']   \n",
      "198                 97%                100%                100%    ['0']   \n",
      "199                 95%                100%                100%    ['0']   \n",
      "\n",
      "    Two_star Three_star Four_star Five_star  \n",
      "0      ['5']     ['10']    ['17']   ['606']  \n",
      "1      ['0']      ['0']     ['0']     ['5']  \n",
      "2      ['1']      ['3']     ['5']    ['47']  \n",
      "3      ['0']      ['0']     ['0']     ['3']  \n",
      "4      ['0']      ['1']     ['0']    ['28']  \n",
      "..       ...        ...       ...       ...  \n",
      "195    ['0']      ['0']     ['0']     ['0']  \n",
      "196    ['0']      ['0']     ['0']     ['0']  \n",
      "197    ['0']      ['0']     ['0']     ['1']  \n",
      "198    ['0']      ['0']     ['0']     ['0']  \n",
      "199    ['0']      ['0']     ['0']     ['1']  \n",
      "\n",
      "[1200 rows x 19 columns]\n"
     ]
    }
   ],
   "source": [
    "fulldata = pd.concat([pd.read_csv(file) for file in csv_files])\n",
    "print(fulldata)"
   ]
  },
  {
   "cell_type": "code",
   "execution_count": null,
   "id": "1a685a3d",
   "metadata": {},
   "outputs": [],
   "source": []
  }
 ],
 "metadata": {
  "kernelspec": {
   "display_name": "Python 3 (ipykernel)",
   "language": "python",
   "name": "python3"
  },
  "language_info": {
   "codemirror_mode": {
    "name": "ipython",
    "version": 3
   },
   "file_extension": ".py",
   "mimetype": "text/x-python",
   "name": "python",
   "nbconvert_exporter": "python",
   "pygments_lexer": "ipython3",
   "version": "3.11.5"
  }
 },
 "nbformat": 4,
 "nbformat_minor": 5
}
