{
 "cells": [
  {
   "cell_type": "markdown",
   "id": "76215ea5",
   "metadata": {},
   "source": [
    "# Bug when crawl data on Lazada (chromedriver)"
   ]
  },
  {
   "cell_type": "markdown",
   "id": "7f52e1b9",
   "metadata": {},
   "source": [
    "## Bug 01: Bug chromedriver.exe"
   ]
  },
  {
   "cell_type": "markdown",
   "id": "5e3289af",
   "metadata": {},
   "source": []
  },
  {
   "cell_type": "markdown",
   "id": "2c146b9a",
   "metadata": {},
   "source": [
    "## Bug 02: Lazada "
   ]
  }
 ],
 "metadata": {
  "kernelspec": {
   "display_name": "Python 3 (ipykernel)",
   "language": "python",
   "name": "python3"
  },
  "language_info": {
   "codemirror_mode": {
    "name": "ipython",
    "version": 3
   },
   "file_extension": ".py",
   "mimetype": "text/x-python",
   "name": "python",
   "nbconvert_exporter": "python",
   "pygments_lexer": "ipython3",
   "version": "3.11.5"
  }
 },
 "nbformat": 4,
 "nbformat_minor": 5
}
