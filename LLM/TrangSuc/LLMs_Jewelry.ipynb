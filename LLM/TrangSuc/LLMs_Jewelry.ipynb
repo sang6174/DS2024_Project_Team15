{
 "cells": [
  {
   "cell_type": "code",
   "execution_count": 1,
   "id": "c72b49c3",
   "metadata": {},
   "outputs": [],
   "source": [
    "import os\n",
    "import requests\n",
    "import pandas as pd\n",
    "import unidecode\n",
    "from tqdm import tqdm"
   ]
  },
  {
   "cell_type": "code",
   "execution_count": 2,
   "id": "20e191bd",
   "metadata": {},
   "outputs": [
    {
     "data": {
      "text/html": [
       "<div>\n",
       "<style scoped>\n",
       "    .dataframe tbody tr th:only-of-type {\n",
       "        vertical-align: middle;\n",
       "    }\n",
       "\n",
       "    .dataframe tbody tr th {\n",
       "        vertical-align: top;\n",
       "    }\n",
       "\n",
       "    .dataframe thead th {\n",
       "        text-align: right;\n",
       "    }\n",
       "</style>\n",
       "<table border=\"1\" class=\"dataframe\">\n",
       "  <thead>\n",
       "    <tr style=\"text-align: right;\">\n",
       "      <th></th>\n",
       "      <th>Type</th>\n",
       "      <th>Price_sale</th>\n",
       "      <th>Sale_off</th>\n",
       "      <th>Total_sold</th>\n",
       "      <th>Preview</th>\n",
       "      <th>Location</th>\n",
       "      <th>Price_original</th>\n",
       "      <th>Ship_price</th>\n",
       "      <th>Sale_rating</th>\n",
       "      <th>Ship_on_time</th>\n",
       "      <th>Chat_response</th>\n",
       "      <th>One_star</th>\n",
       "      <th>Two_star</th>\n",
       "      <th>Three_star</th>\n",
       "      <th>Four_star</th>\n",
       "      <th>Five_star</th>\n",
       "    </tr>\n",
       "  </thead>\n",
       "  <tbody>\n",
       "    <tr>\n",
       "      <th>0</th>\n",
       "      <td>Trang sức</td>\n",
       "      <td>6.848 ₫</td>\n",
       "      <td>46% Off</td>\n",
       "      <td>1.9K Đã bán</td>\n",
       "      <td>(594)</td>\n",
       "      <td>Hồ Chí Minh</td>\n",
       "      <td>22.906 ₫</td>\n",
       "      <td>17.000 ₫</td>\n",
       "      <td>96%</td>\n",
       "      <td>95%</td>\n",
       "      <td>96%</td>\n",
       "      <td>13</td>\n",
       "      <td>8</td>\n",
       "      <td>15</td>\n",
       "      <td>14</td>\n",
       "      <td>544</td>\n",
       "    </tr>\n",
       "    <tr>\n",
       "      <th>1</th>\n",
       "      <td>Trang sức</td>\n",
       "      <td>7.458 ₫</td>\n",
       "      <td>58% Off</td>\n",
       "      <td>2.0K Đã bán</td>\n",
       "      <td>(406)</td>\n",
       "      <td>Hồ Chí Minh</td>\n",
       "      <td>17.600 ₫</td>\n",
       "      <td>16.500 ₫</td>\n",
       "      <td>97%</td>\n",
       "      <td>89%</td>\n",
       "      <td>100%</td>\n",
       "      <td>6</td>\n",
       "      <td>1</td>\n",
       "      <td>9</td>\n",
       "      <td>17</td>\n",
       "      <td>373</td>\n",
       "    </tr>\n",
       "    <tr>\n",
       "      <th>2</th>\n",
       "      <td>Trang sức</td>\n",
       "      <td>16.000 ₫</td>\n",
       "      <td>47% Off</td>\n",
       "      <td>1.2K Đã bán</td>\n",
       "      <td>(239)</td>\n",
       "      <td>Hồ Chí Minh</td>\n",
       "      <td>34.000 ₫</td>\n",
       "      <td>17.000 ₫</td>\n",
       "      <td>93%</td>\n",
       "      <td>98%</td>\n",
       "      <td>100%</td>\n",
       "      <td>7</td>\n",
       "      <td>0</td>\n",
       "      <td>3</td>\n",
       "      <td>9</td>\n",
       "      <td>220</td>\n",
       "    </tr>\n",
       "    <tr>\n",
       "      <th>3</th>\n",
       "      <td>Trang sức</td>\n",
       "      <td>4.850 ₫</td>\n",
       "      <td>49% Off</td>\n",
       "      <td>82 Đã bán</td>\n",
       "      <td>(21)</td>\n",
       "      <td>Hồ Chí Minh</td>\n",
       "      <td>9.534 ₫</td>\n",
       "      <td>17.000 ₫</td>\n",
       "      <td>96%</td>\n",
       "      <td>100%</td>\n",
       "      <td>83%</td>\n",
       "      <td>0</td>\n",
       "      <td>0</td>\n",
       "      <td>0</td>\n",
       "      <td>0</td>\n",
       "      <td>21</td>\n",
       "    </tr>\n",
       "    <tr>\n",
       "      <th>4</th>\n",
       "      <td>Trang sức</td>\n",
       "      <td>5.000 ₫</td>\n",
       "      <td>44% Off</td>\n",
       "      <td>1.2K Đã bán</td>\n",
       "      <td>(222)</td>\n",
       "      <td>Hồ Chí Minh</td>\n",
       "      <td>9.000 ₫</td>\n",
       "      <td>17.000 ₫</td>\n",
       "      <td>95%</td>\n",
       "      <td>99%</td>\n",
       "      <td>62%</td>\n",
       "      <td>12</td>\n",
       "      <td>4</td>\n",
       "      <td>6</td>\n",
       "      <td>13</td>\n",
       "      <td>187</td>\n",
       "    </tr>\n",
       "    <tr>\n",
       "      <th>5</th>\n",
       "      <td>Trang sức</td>\n",
       "      <td>10.174 ₫</td>\n",
       "      <td>52% Off</td>\n",
       "      <td>5.4K Đã bán</td>\n",
       "      <td>(838)</td>\n",
       "      <td>Hồ Chí Minh</td>\n",
       "      <td>21.000 ₫</td>\n",
       "      <td>17.000 ₫</td>\n",
       "      <td>95%</td>\n",
       "      <td>100%</td>\n",
       "      <td>100%</td>\n",
       "      <td>35</td>\n",
       "      <td>18</td>\n",
       "      <td>28</td>\n",
       "      <td>37</td>\n",
       "      <td>720</td>\n",
       "    </tr>\n",
       "    <tr>\n",
       "      <th>6</th>\n",
       "      <td>Trang sức</td>\n",
       "      <td>24.000 ₫</td>\n",
       "      <td>56% Off</td>\n",
       "      <td>3.0K Đã bán</td>\n",
       "      <td>(646)</td>\n",
       "      <td>Hà Nội</td>\n",
       "      <td>55.000 ₫</td>\n",
       "      <td>32.700 ₫</td>\n",
       "      <td>95%</td>\n",
       "      <td>96%</td>\n",
       "      <td>100%</td>\n",
       "      <td>16</td>\n",
       "      <td>3</td>\n",
       "      <td>13</td>\n",
       "      <td>15</td>\n",
       "      <td>600</td>\n",
       "    </tr>\n",
       "    <tr>\n",
       "      <th>7</th>\n",
       "      <td>Trang sức</td>\n",
       "      <td>44.182 ₫</td>\n",
       "      <td>53% Off</td>\n",
       "      <td>1.1K Đã bán</td>\n",
       "      <td>(274)</td>\n",
       "      <td>Nước ngoài</td>\n",
       "      <td>93.900 ₫</td>\n",
       "      <td>17.000 ₫</td>\n",
       "      <td>97%</td>\n",
       "      <td>94%</td>\n",
       "      <td>50%</td>\n",
       "      <td>2</td>\n",
       "      <td>1</td>\n",
       "      <td>2</td>\n",
       "      <td>2</td>\n",
       "      <td>268</td>\n",
       "    </tr>\n",
       "    <tr>\n",
       "      <th>8</th>\n",
       "      <td>Trang sức</td>\n",
       "      <td>11.457 ₫</td>\n",
       "      <td>40% Off</td>\n",
       "      <td>446 Đã bán</td>\n",
       "      <td>(97)</td>\n",
       "      <td>Hồ Chí Minh</td>\n",
       "      <td>15.851 ₫</td>\n",
       "      <td>17.000 ₫</td>\n",
       "      <td>94%</td>\n",
       "      <td>97%</td>\n",
       "      <td>80%</td>\n",
       "      <td>1</td>\n",
       "      <td>2</td>\n",
       "      <td>2</td>\n",
       "      <td>5</td>\n",
       "      <td>87</td>\n",
       "    </tr>\n",
       "    <tr>\n",
       "      <th>9</th>\n",
       "      <td>Trang sức</td>\n",
       "      <td>31.844 ₫</td>\n",
       "      <td>64% Off</td>\n",
       "      <td>14 Đã bán</td>\n",
       "      <td>(4)</td>\n",
       "      <td>Hồ Chí Minh</td>\n",
       "      <td>199.000 ₫</td>\n",
       "      <td>16.500 ₫</td>\n",
       "      <td>98%</td>\n",
       "      <td>100%</td>\n",
       "      <td>NaN</td>\n",
       "      <td>1</td>\n",
       "      <td>0</td>\n",
       "      <td>0</td>\n",
       "      <td>0</td>\n",
       "      <td>3</td>\n",
       "    </tr>\n",
       "  </tbody>\n",
       "</table>\n",
       "</div>"
      ],
      "text/plain": [
       "        Type Price_sale Sale_off   Total_sold Preview     Location  \\\n",
       "0  Trang sức    6.848 ₫  46% Off  1.9K Đã bán   (594)  Hồ Chí Minh   \n",
       "1  Trang sức    7.458 ₫  58% Off  2.0K Đã bán   (406)  Hồ Chí Minh   \n",
       "2  Trang sức   16.000 ₫  47% Off  1.2K Đã bán   (239)  Hồ Chí Minh   \n",
       "3  Trang sức    4.850 ₫  49% Off    82 Đã bán    (21)  Hồ Chí Minh   \n",
       "4  Trang sức    5.000 ₫  44% Off  1.2K Đã bán   (222)  Hồ Chí Minh   \n",
       "5  Trang sức   10.174 ₫  52% Off  5.4K Đã bán   (838)  Hồ Chí Minh   \n",
       "6  Trang sức   24.000 ₫  56% Off  3.0K Đã bán   (646)       Hà Nội   \n",
       "7  Trang sức   44.182 ₫  53% Off  1.1K Đã bán   (274)   Nước ngoài   \n",
       "8  Trang sức   11.457 ₫  40% Off   446 Đã bán    (97)  Hồ Chí Minh   \n",
       "9  Trang sức   31.844 ₫  64% Off    14 Đã bán     (4)  Hồ Chí Minh   \n",
       "\n",
       "  Price_original Ship_price Sale_rating Ship_on_time Chat_response  One_star  \\\n",
       "0       22.906 ₫   17.000 ₫         96%          95%           96%        13   \n",
       "1       17.600 ₫   16.500 ₫         97%          89%          100%         6   \n",
       "2       34.000 ₫   17.000 ₫         93%          98%          100%         7   \n",
       "3        9.534 ₫   17.000 ₫         96%         100%           83%         0   \n",
       "4        9.000 ₫   17.000 ₫         95%          99%           62%        12   \n",
       "5       21.000 ₫   17.000 ₫         95%         100%          100%        35   \n",
       "6       55.000 ₫   32.700 ₫         95%          96%          100%        16   \n",
       "7       93.900 ₫   17.000 ₫         97%          94%           50%         2   \n",
       "8       15.851 ₫   17.000 ₫         94%          97%           80%         1   \n",
       "9      199.000 ₫   16.500 ₫         98%         100%           NaN         1   \n",
       "\n",
       "   Two_star  Three_star  Four_star  Five_star  \n",
       "0         8          15         14        544  \n",
       "1         1           9         17        373  \n",
       "2         0           3          9        220  \n",
       "3         0           0          0         21  \n",
       "4         4           6         13        187  \n",
       "5        18          28         37        720  \n",
       "6         3          13         15        600  \n",
       "7         1           2          2        268  \n",
       "8         2           2          5         87  \n",
       "9         0           0          0          3  "
      ]
     },
     "execution_count": 2,
     "metadata": {},
     "output_type": "execute_result"
    }
   ],
   "source": [
    "data = pd.read_csv('Preprocessing_Data_Jewelry.csv')\n",
    "data.head(10)"
   ]
  },
  {
   "cell_type": "code",
   "execution_count": 3,
   "id": "6722c230",
   "metadata": {},
   "outputs": [],
   "source": [
    "s = requests.Session()\n",
    "\n",
    "api_base = \"https://api.endpoints.anyscale.com/v1\"\n",
    "# Replace with long-lived credentials for production\n",
    "token = \"esecret_329lehr7jm5rtn9ebf7bv5vngs\"\n",
    "url = f\"{api_base}/chat/completions\""
   ]
  },
  {
   "cell_type": "code",
   "execution_count": 4,
   "id": "61fbee81",
   "metadata": {},
   "outputs": [],
   "source": [
    "def call_api(formatted_data):\n",
    "    body = {\n",
    "        \"model\": \"meta-llama/Meta-Llama-3-70B-Instruct\",\n",
    "        \"messages\": [\n",
    "            {\n",
    "                \"role\": \"user\",\n",
    "                \"content\": \"Bạn là 1 trợ lí ảo về AI và có nhiệm vụ chính là chuẩn hóa data 1 cách chính xác nhất\"\n",
    "            },\n",
    "            {\n",
    "                \"role\": \"assistant\",\n",
    "                \"content\": \"Nice to meet you! As a virtual assistant specializing in AI, my primary task is to standardize data with the highest level of accuracy. I'm here to help ensure that data is consistent, reliable, and ready for analysis or further processing.\\n\\nTo achieve this, I can perform various tasks, such as:\\n\\n1. **Data cleansing**: I can remove duplicates, correct errors, and fill in missing values to ensure data quality.\\n2. **Data transformation**: I can convert data formats, perform data aggregation, and apply mathematical operations to prepare data for analysis.\\n3. **Data normalization**: I can standardize data formats, scales, and units to enable consistent comparisons and analysis.\\n4. **Data validation**: I can verify data against a set of rules, constraints, or external data sources to ensure accuracy and integrity.\\n5. **Data mapping**: I can create mappings between different data sets, schemas, or formats to enable data integration and exchange.\\n\\nMy tools and techniques include:\\n\\n1. **Regular expressions**: I can use regular expressions to parse and manipulate text data.\\n2. **Data profiling**: I can analyze data distributions, frequencies, and relationships to identify patterns and anomalies.\\n3. **Data quality metrics**: I can calculate metrics such as accuracy, completeness, and consistency to\"\n",
    "            },\n",
    "            {\n",
    "                \"role\": \"user\",\n",
    "                \"content\": \"Mỗi mục dữ liệu được ngăn cách bởi dấu |. Không bỏ bất kì 1 mục nào, không thêm bất kỳ mục nào, hãy chuẩn hóa thông tin về dạng số tương ứng, địa điểm thành không dấu, nếu là giá trị None thì ghi là None. Ngăn cách các giá trị bằng dấu phẩy, lưu ý: 52% Off\\\\\\\\nLazFlash Sale,kết thúc sau 9h (Đây là cùng 1 column), không cần giải thích output, output bạn trả ra cho tôi có đúng 16 cột nhé.       \\\\n \\\\\\\\\\\\\\\\n laptop | 7.223.999 ₫ | 52% Off\\\\\\\\nLazFlash Sale,kết thúc sau 9h | 51 Đã bán| (5)| Hải Phòng | 13.899.999 ₫ |Miễn phí |100%| 100% |80%| 0| 0| 0| 0| 5\\\\\\\\\\\\\\\"\\\\\\\"\\\"\"\n",
    "            },\n",
    "            {\n",
    "                \"role\": \"assistant\",\n",
    "                \"content\": \"Here is the standardized data:\\n\\nlaptop,7223999,52,None,51,5,Hai Phong,13899999,0,100,100,80,0,0,0,5\\n\\nHere's a brief explanation of how I processed the data:\\n\\n* I removed the newline characters (`\\\\n`) and the extra backslashes (`\\\\\\\\`) to normalize the data.\\n* I replaced the currency symbol (`₫`) with an empty string to standardize the numerical values.\\n* I converted the percentage values to numerical values by removing the `%` symbol.\\n* I removed the commas (`,`) from the numerical values to prevent errors.\\n* I replaced the Vietnamese accents with non-accented characters (e.g., \\\"Hải Phòng\\\" became \\\"Hai Phong\\\").\\n* I replaced the `None` values with the string \\\"None\\\".\\n* I combined the two values in the same column (`52% Off\\\\nLazFlash Sale,kết thúc sau 9h`) into a single value (`52`).\\n* I rearranged the columns to match the correct order.\\n\\nLet me know if this meets your requirements!\"\n",
    "            },\n",
    "            {\n",
    "                \"role\": \"user\",\n",
    "                \"content\": \"Bạn phải trả về:\\\\nHere is the standardized data:\\\\n\\\\nlaptop,7223999,52,51,5,Hai Phong,13899999,Miễn Phí,100,100,80,0,0,0,5\\\"\"\n",
    "            },\n",
    "            {\n",
    "                \"role\": \"assistant\",\n",
    "                \"content\": \"I apologize for the mistake! Here is the corrected output:\\n\\nHere is the standardized data:\\n\\nlaptop,7223999,52,51,5,Hai Phong,13899999,Miễn Phí,100,100,80,0,0,0,5\"\n",
    "            },\n",
    "            {\n",
    "                \"role\": \"user\",\n",
    "                \"content\": \"Jewelry | 7.223.999 ₫ | 52% Off\\\\nLazFlash Sale,kết thúc sau 9h | 51 Đã bán| (5)| Hải Phòng | 13.899.999 ₫ |Miễn phí |100%| 100% |80%| 0| 0| 0| 0| 5\"\n",
    "            },\n",
    "            {\n",
    "                \"role\": \"assistant\",\n",
    "                \"content\": \"Here is the standardized data:\\n\\nJewelry,7223999,52,51,5,Hai Phong,13899999,Miễn Phí,100,100,80,0,0,0,5\"\n",
    "            },\n",
    "            {\n",
    "                \"role\": \"user\",\n",
    "                \"content\": f\"{formatted_data}\"\n",
    "            },\n",
    "        ],\n",
    "        \"temperature\": 0,\n",
    "        \"max_tokens\": 256,\n",
    "        \"top_p\": 1,\n",
    "        \"frequency_penalty\": 0\n",
    "    }\n",
    "    response = s.post(url, headers={\"Authorization\": f\"Bearer {token}\"}, json=body)\n",
    "    return response.json()"
   ]
  },
  {
   "cell_type": "code",
   "execution_count": 5,
   "id": "b1e29890",
   "metadata": {
    "scrolled": false
   },
   "outputs": [
    {
     "name": "stderr",
     "output_type": "stream",
     "text": [
      "Processing rows:   0%|          | 1/1200 [00:03<1:18:37,  3.93s/it]"
     ]
    },
    {
     "name": "stdout",
     "output_type": "stream",
     "text": [
      "Trang sức,6848,46,1900,594,Ho Chi Minh,22906,17000,96,95,96,13,8,15,14,544\n"
     ]
    },
    {
     "name": "stderr",
     "output_type": "stream",
     "text": [
      "\r",
      "Processing rows:   0%|          | 2/1200 [00:06<1:00:50,  3.05s/it]"
     ]
    },
    {
     "name": "stdout",
     "output_type": "stream",
     "text": [
      "Trang sức,7458,58,2000,406,Ho Chi Minh,17600,16500,97,89,100,6,1,9,17,373\n"
     ]
    },
    {
     "name": "stderr",
     "output_type": "stream",
     "text": [
      "\r",
      "Processing rows:   0%|          | 3/1200 [00:09<1:04:38,  3.24s/it]"
     ]
    },
    {
     "name": "stdout",
     "output_type": "stream",
     "text": [
      "Trang sức,16000,47,1200,239,Ho Chi Minh,34000,17000,93,98,100,7,0,3,9,220\n"
     ]
    },
    {
     "name": "stderr",
     "output_type": "stream",
     "text": [
      "\r",
      "Processing rows:   0%|          | 4/1200 [00:13<1:06:04,  3.31s/it]"
     ]
    },
    {
     "name": "stdout",
     "output_type": "stream",
     "text": [
      "Trang sức,4850,49,82,21,Ho Chi Minh,9534,17000,96,100,83,0,0,0,21\n"
     ]
    },
    {
     "name": "stderr",
     "output_type": "stream",
     "text": [
      "\r",
      "Processing rows:   0%|          | 5/1200 [00:16<1:06:56,  3.36s/it]"
     ]
    },
    {
     "name": "stdout",
     "output_type": "stream",
     "text": [
      "Trang sức,5000,44,1200,222,Ho Chi Minh,9000,17000,95,99,62,12,4,6,13,187\n"
     ]
    },
    {
     "name": "stderr",
     "output_type": "stream",
     "text": [
      "\r",
      "Processing rows:   0%|          | 6/1200 [00:18<58:09,  2.92s/it]  "
     ]
    },
    {
     "name": "stdout",
     "output_type": "stream",
     "text": [
      "Trang sức,10174,52,5400,838,Ho Chi Minh,21000,17000,95,100,100,35,18,28,37,720\n"
     ]
    },
    {
     "name": "stderr",
     "output_type": "stream",
     "text": [
      "\r",
      "Processing rows:   1%|          | 7/1200 [00:22<1:00:30,  3.04s/it]"
     ]
    },
    {
     "name": "stdout",
     "output_type": "stream",
     "text": [
      "Trang sức,24000,56,3000,646,Ha Noi,55000,32700,95,96,100,16,3,13,15,600\n"
     ]
    },
    {
     "name": "stderr",
     "output_type": "stream",
     "text": [
      "\r",
      "Processing rows:   1%|          | 8/1200 [00:25<1:00:34,  3.05s/it]"
     ]
    },
    {
     "name": "stdout",
     "output_type": "stream",
     "text": [
      "Trang sức,44182,53,1100,274,Nước ngoài,93900,17000,97,94,50,2,1,2,2,268\n"
     ]
    },
    {
     "name": "stderr",
     "output_type": "stream",
     "text": [
      "\r",
      "Processing rows:   1%|          | 9/1200 [00:27<57:11,  2.88s/it]  "
     ]
    },
    {
     "name": "stdout",
     "output_type": "stream",
     "text": [
      "Trang sức,11457,40,446,97,Ho Chi Minh,15851,17000,94,97,80,1,2,2,5,87\n"
     ]
    },
    {
     "name": "stderr",
     "output_type": "stream",
     "text": [
      "\r",
      "Processing rows:   1%|          | 10/1200 [00:30<59:27,  3.00s/it]"
     ]
    },
    {
     "name": "stdout",
     "output_type": "stream",
     "text": [
      "Trang sức,31844,64,14,4,Ho Chi Minh,199000,16500,98,100,nan,1,0,0,0,3\n"
     ]
    },
    {
     "name": "stderr",
     "output_type": "stream",
     "text": [
      "\r",
      "Processing rows:   1%|          | 11/1200 [00:33<58:02,  2.93s/it]"
     ]
    },
    {
     "name": "stdout",
     "output_type": "stream",
     "text": [
      "Trang sức,69569,55,1500,363,Ho Chi Minh,154000,16500,98,100,100,2,0,2,4,355\n"
     ]
    },
    {
     "name": "stderr",
     "output_type": "stream",
     "text": [
      "\r",
      "Processing rows:   1%|          | 12/1200 [00:36<56:57,  2.88s/it]"
     ]
    },
    {
     "name": "stdout",
     "output_type": "stream",
     "text": [
      "Trang sức,25456,31,212,49,Ho Chi Minh,89000,16500,97,99,86,1,0,0,0,48\n"
     ]
    },
    {
     "name": "stderr",
     "output_type": "stream",
     "text": [
      "\r",
      "Processing rows:   1%|          | 13/1200 [00:39<58:05,  2.94s/it]"
     ]
    },
    {
     "name": "stdout",
     "output_type": "stream",
     "text": [
      "Trang sức,149000,45,108,24,Ha Noi,269000,32700,80,93,85,2,2,0,0,20\n"
     ]
    },
    {
     "name": "stderr",
     "output_type": "stream",
     "text": [
      "\r",
      "Processing rows:   1%|          | 14/1200 [00:41<52:33,  2.66s/it]"
     ]
    },
    {
     "name": "stdout",
     "output_type": "stream",
     "text": [
      "Trang sức,30000,None,980,209,Ho Chi Minh,None,16500,98,100,None,3,3,1,1,201\n"
     ]
    },
    {
     "name": "stderr",
     "output_type": "stream",
     "text": [
      "\r",
      "Processing rows:   1%|▏         | 15/1200 [00:44<54:03,  2.74s/it]"
     ]
    },
    {
     "name": "stdout",
     "output_type": "stream",
     "text": [
      "Trang sức,71000,28,237,79,Ho Chi Minh,99000,16500,97,99,86,0,1,1,1,76\n"
     ]
    },
    {
     "name": "stderr",
     "output_type": "stream",
     "text": [
      "\r",
      "Processing rows:   1%|▏         | 16/1200 [00:47<54:38,  2.77s/it]"
     ]
    },
    {
     "name": "stdout",
     "output_type": "stream",
     "text": [
      "Trang sức,29000,41,5300,851,Hà Nội,49000,32700,99,100,None,4,1,5,16,825\n"
     ]
    },
    {
     "name": "stderr",
     "output_type": "stream",
     "text": [
      "\r",
      "Processing rows:   1%|▏         | 17/1200 [00:50<56:59,  2.89s/it]"
     ]
    },
    {
     "name": "stdout",
     "output_type": "stream",
     "text": [
      "Trang suc,4000,43,109,13,Nước ngoài,7000,17000,95,99,62,0,1,2,0,10\n"
     ]
    },
    {
     "name": "stderr",
     "output_type": "stream",
     "text": [
      "\r",
      "Processing rows:   2%|▏         | 18/1200 [00:52<53:59,  2.74s/it]"
     ]
    },
    {
     "name": "stdout",
     "output_type": "stream",
     "text": [
      "Trang sức,9500,47,88,15,Nước ngoài,18000,17000,94,97,100,1,0,2,1,11\n"
     ]
    },
    {
     "name": "stderr",
     "output_type": "stream",
     "text": [
      "\r",
      "Processing rows:   2%|▏         | 19/1200 [00:55<53:56,  2.74s/it]"
     ]
    },
    {
     "name": "stdout",
     "output_type": "stream",
     "text": [
      "Trang sức,29000,71,3600,753,Ho Chi Minh,99000,16500,98,100,90,4,1,3,14,731\n"
     ]
    },
    {
     "name": "stderr",
     "output_type": "stream",
     "text": [
      "\r",
      "Processing rows:   2%|▏         | 20/1200 [00:58<55:09,  2.80s/it]"
     ]
    },
    {
     "name": "stdout",
     "output_type": "stream",
     "text": [
      "Trang sức,22750,42,659,175,Ho Chi Minh,39000,16500,97,99,86,1,1,2,2,170\n"
     ]
    },
    {
     "name": "stderr",
     "output_type": "stream",
     "text": [
      "\r",
      "Processing rows:   2%|▏         | 21/1200 [01:02<1:02:33,  3.18s/it]"
     ]
    },
    {
     "name": "stdout",
     "output_type": "stream",
     "text": [
      "Trang sức,9000,59,5600,734,Ho Chi Minh,22000,17000,96,99,92,7,5,9,27,686\n"
     ]
    },
    {
     "name": "stderr",
     "output_type": "stream",
     "text": [
      "\r",
      "Processing rows:   2%|▏         | 22/1200 [01:05<1:01:59,  3.16s/it]"
     ]
    },
    {
     "name": "stdout",
     "output_type": "stream",
     "text": [
      "Trang sức,6660,53,64,16,Ho Chi Minh,14300,17000,97,98,100,0,0,0,1,15\n"
     ]
    },
    {
     "name": "stderr",
     "output_type": "stream",
     "text": [
      "\r",
      "Processing rows:   2%|▏         | 23/1200 [01:08<57:57,  2.95s/it]  "
     ]
    },
    {
     "name": "stdout",
     "output_type": "stream",
     "text": [
      "Trang sức,6000,33,456,77,Ho Chi Minh,12332,16500,96,100,100,1,1,1,4,71\n"
     ]
    },
    {
     "name": "stderr",
     "output_type": "stream",
     "text": [
      "\r",
      "Processing rows:   2%|▏         | 24/1200 [01:10<52:14,  2.67s/it]"
     ]
    },
    {
     "name": "stdout",
     "output_type": "stream",
     "text": [
      "Trang sức,19900,31,7,2,Ho Chi Minh,28900,16500,None,None,None,0,0,0,0,3\n"
     ]
    },
    {
     "name": "stderr",
     "output_type": "stream",
     "text": [
      "\r",
      "Processing rows:   2%|▏         | 25/1200 [01:13<56:51,  2.90s/it]"
     ]
    },
    {
     "name": "stdout",
     "output_type": "stream",
     "text": [
      "Trang sức,8879,26,17800,367,Nước ngoài,16000,17000,97,100,100,8,1,1,13,345\n"
     ]
    },
    {
     "name": "stderr",
     "output_type": "stream",
     "text": [
      "\r",
      "Processing rows:   2%|▏         | 26/1200 [01:16<53:48,  2.75s/it]"
     ]
    },
    {
     "name": "stdout",
     "output_type": "stream",
     "text": [
      "Trang sức,20482,54,371,82,Ho Chi Minh,44550,17000,88,100,nan,16,7,4,3,53\n"
     ]
    },
    {
     "name": "stderr",
     "output_type": "stream",
     "text": [
      "\r",
      "Processing rows:   2%|▏         | 27/1200 [01:18<54:14,  2.77s/it]"
     ]
    },
    {
     "name": "stdout",
     "output_type": "stream",
     "text": [
      "Trang sức,17076,66,3100,496,Ho Chi Minh,50000,16500,97,100,87,7,4,4,6,475\n"
     ]
    },
    {
     "name": "stderr",
     "output_type": "stream",
     "text": [
      "\r",
      "Processing rows:   2%|▏         | 28/1200 [01:23<1:02:17,  3.19s/it]"
     ]
    },
    {
     "name": "stdout",
     "output_type": "stream",
     "text": [
      "Trang sức,15000,None,111,33,Hai Duong,None,Miễn Phí,98,99,78,0,0,0,33\n"
     ]
    },
    {
     "name": "stderr",
     "output_type": "stream",
     "text": [
      "\r",
      "Processing rows:   2%|▏         | 29/1200 [01:26<1:02:26,  3.20s/it]"
     ]
    },
    {
     "name": "stdout",
     "output_type": "stream",
     "text": [
      "Trang sức,4162,48,1100,302,Ho Chi Minh,8000,Miễn Phí,98,99,94,9,4,2,7,281\n"
     ]
    },
    {
     "name": "stderr",
     "output_type": "stream",
     "text": [
      "\r",
      "Processing rows:   2%|▎         | 30/1200 [01:29<1:00:00,  3.08s/it]"
     ]
    },
    {
     "name": "stdout",
     "output_type": "stream",
     "text": [
      "Trang sức,10700,47,50,7,Nước ngoài,20000,17000,95,93,100,0,0,0,7\n"
     ]
    },
    {
     "name": "stderr",
     "output_type": "stream",
     "text": [
      "\r",
      "Processing rows:   3%|▎         | 31/1200 [01:32<59:27,  3.05s/it]  "
     ]
    },
    {
     "name": "stdout",
     "output_type": "stream",
     "text": [
      "Trang sức,25500,15,2300,363,Ho Chi Minh,30000,16500,98,87,60,5,2,2,10,344\n"
     ]
    },
    {
     "name": "stderr",
     "output_type": "stream",
     "text": [
      "\r",
      "Processing rows:   3%|▎         | 32/1200 [01:34<55:35,  2.86s/it]"
     ]
    },
    {
     "name": "stdout",
     "output_type": "stream",
     "text": [
      "Trang sức,15570,26,142,19,Ho Chi Minh,21000,16500,97,99,95,0,0,0,0,19\n"
     ]
    },
    {
     "name": "stderr",
     "output_type": "stream",
     "text": [
      "\r",
      "Processing rows:   3%|▎         | 33/1200 [01:37<54:01,  2.78s/it]"
     ]
    },
    {
     "name": "stdout",
     "output_type": "stream",
     "text": [
      "Trang sức,9750,35,26,4,Ha Noi,15000,32700,97,100,0,0,0,0,4\n"
     ]
    },
    {
     "name": "stderr",
     "output_type": "stream",
     "text": [
      "\r",
      "Processing rows:   3%|▎         | 34/1200 [01:39<54:23,  2.80s/it]"
     ]
    },
    {
     "name": "stdout",
     "output_type": "stream",
     "text": [
      "Trang sức,9320,59,133,31,Ho Chi Minh,27975,17000,96,95,96,1,0,0,1,29\n"
     ]
    },
    {
     "name": "stderr",
     "output_type": "stream",
     "text": [
      "\r",
      "Processing rows:   3%|▎         | 35/1200 [01:42<54:30,  2.81s/it]"
     ]
    },
    {
     "name": "stdout",
     "output_type": "stream",
     "text": [
      "Trang sức,25403,15,721,119,Hai Duong,30000,37700,97,99,84,0,0,0,1,118\n"
     ]
    },
    {
     "name": "stderr",
     "output_type": "stream",
     "text": [
      "\r",
      "Processing rows:   3%|▎         | 36/1200 [01:46<1:00:06,  3.10s/it]"
     ]
    },
    {
     "name": "stdout",
     "output_type": "stream",
     "text": [
      "Trang sức,9500,47,157,15,Nước ngoài,18000,17000,95,93,100,1,1,1,0,12\n"
     ]
    },
    {
     "name": "stderr",
     "output_type": "stream",
     "text": [
      "\r",
      "Processing rows:   3%|▎         | 37/1200 [01:48<56:10,  2.90s/it]  "
     ]
    },
    {
     "name": "stdout",
     "output_type": "stream",
     "text": [
      "Trang sức,15000,25,351,63,Ha Noi,35000,32700,97,100,None,2,0,2,4,55\n"
     ]
    },
    {
     "name": "stderr",
     "output_type": "stream",
     "text": [
      "\r",
      "Processing rows:   3%|▎         | 38/1200 [01:52<59:44,  3.08s/it]"
     ]
    },
    {
     "name": "stdout",
     "output_type": "stream",
     "text": [
      "Trang sức,20780,54,189,62,Ho Chi Minh,45000,17000,96,97,100,1,0,1,5,55\n"
     ]
    },
    {
     "name": "stderr",
     "output_type": "stream",
     "text": [
      "\r",
      "Processing rows:   3%|▎         | 39/1200 [01:55<58:01,  3.00s/it]"
     ]
    },
    {
     "name": "stdout",
     "output_type": "stream",
     "text": [
      "Trang sức,12000,40,312,86,Ha Noi,50000,32700,94,100,100,1,1,1,2,81\n"
     ]
    },
    {
     "name": "stderr",
     "output_type": "stream",
     "text": [
      "\r",
      "Processing rows:   3%|▎         | 40/1200 [01:58<59:18,  3.07s/it]"
     ]
    },
    {
     "name": "stdout",
     "output_type": "stream",
     "text": [
      "Trang sức,53307,52,249,48,Ho Chi Minh,112000,16500,87,100,100,2,1,1,1,43\n"
     ]
    },
    {
     "name": "stderr",
     "output_type": "stream",
     "text": [
      "\r",
      "Processing rows:   3%|▎         | 41/1200 [02:01<58:03,  3.01s/it]"
     ]
    },
    {
     "name": "stdout",
     "output_type": "stream",
     "text": [
      "Trang sức,6848,46,1900,594,Ho Chi Minh,None,None,None,None,None,13,8,15,14,544\n"
     ]
    },
    {
     "name": "stderr",
     "output_type": "stream",
     "text": [
      "\r",
      "Processing rows:   4%|▎         | 42/1200 [02:03<55:34,  2.88s/it]"
     ]
    },
    {
     "name": "stdout",
     "output_type": "stream",
     "text": [
      "Trang sức,6587,56,3500,950,Ho Chi Minh,18000,17000,96,95,96,6,9,11,12,913\n"
     ]
    },
    {
     "name": "stderr",
     "output_type": "stream",
     "text": [
      "\r",
      "Processing rows:   4%|▎         | 43/1200 [02:07<1:02:10,  3.22s/it]"
     ]
    },
    {
     "name": "stdout",
     "output_type": "stream",
     "text": [
      "Trang sức,9320,59,133,31,Ho Chi Minh,27975,17000,96,95,96,1,0,0,1,29\n"
     ]
    },
    {
     "name": "stderr",
     "output_type": "stream",
     "text": [
      "\r",
      "Processing rows:   4%|▎         | 44/1200 [02:11<1:03:08,  3.28s/it]"
     ]
    },
    {
     "name": "stdout",
     "output_type": "stream",
     "text": [
      "Trang sức,5674,50,6700,1649,Ho Chi Minh,12900,17000,96,95,96,39,14,26,36,1534\n"
     ]
    },
    {
     "name": "stderr",
     "output_type": "stream",
     "text": [
      "\r",
      "Processing rows:   4%|▍         | 45/1200 [02:13<57:13,  2.97s/it]  "
     ]
    },
    {
     "name": "stdout",
     "output_type": "stream",
     "text": [
      "Trang sức,9157,49,246,50,Nước ngoài,17999,17000,96,100,100,4,1,1,2,42\n"
     ]
    },
    {
     "name": "stderr",
     "output_type": "stream",
     "text": [
      "\r",
      "Processing rows:   4%|▍         | 46/1200 [02:16<58:46,  3.06s/it]"
     ]
    },
    {
     "name": "stdout",
     "output_type": "stream",
     "text": [
      "Trang suc,4850,49,85,21,Nước ngoài,9534,17000,96,100,83,0,0,0,21\n"
     ]
    },
    {
     "name": "stderr",
     "output_type": "stream",
     "text": [
      "\r",
      "Processing rows:   4%|▍         | 47/1200 [02:19<56:19,  2.93s/it]"
     ]
    },
    {
     "name": "stdout",
     "output_type": "stream",
     "text": [
      "Trang sức,4162,48,1100,302,Ho Chi Minh,8000,Miễn Phí,98,99,94,9,4,2,7,281\n"
     ]
    },
    {
     "name": "stderr",
     "output_type": "stream",
     "text": [
      "\r",
      "Processing rows:   4%|▍         | 48/1200 [02:21<53:49,  2.80s/it]"
     ]
    },
    {
     "name": "stdout",
     "output_type": "stream",
     "text": [
      "Trang sức,7458,58,2000,406,Ho Chi Minh,17600,16500,97,89,100,6,1,9,17,373\n"
     ]
    },
    {
     "name": "stderr",
     "output_type": "stream",
     "text": [
      "\r",
      "Processing rows:   4%|▍         | 49/1200 [02:25<58:14,  3.04s/it]"
     ]
    },
    {
     "name": "stdout",
     "output_type": "stream",
     "text": [
      "Trang sức,5000,44,1200,222,Ho Chi Minh,9000,17000,95,99,62,12,4,6,13,187\n"
     ]
    },
    {
     "name": "stderr",
     "output_type": "stream",
     "text": [
      "\r",
      "Processing rows:   4%|▍         | 50/1200 [02:29<1:00:55,  3.18s/it]"
     ]
    },
    {
     "name": "stdout",
     "output_type": "stream",
     "text": [
      "Trang sức,10174,52,5400,838,Ho Chi Minh,21000,17000,95,100,100,35,18,28,37,720\n"
     ]
    },
    {
     "name": "stderr",
     "output_type": "stream",
     "text": [
      "\r",
      "Processing rows:   4%|▍         | 51/1200 [02:31<56:32,  2.95s/it]  "
     ]
    },
    {
     "name": "stdout",
     "output_type": "stream",
     "text": [
      "Trang sức,12487,71,84,41,Ho Chi Minh,43000,17000,97,99,100,0,0,0,1,40\n"
     ]
    },
    {
     "name": "stderr",
     "output_type": "stream",
     "text": [
      "\r",
      "Processing rows:   4%|▍         | 52/1200 [02:34<57:40,  3.01s/it]"
     ]
    },
    {
     "name": "stdout",
     "output_type": "stream",
     "text": [
      "Trang sức,6000,40,3800,456,Ho Chi Minh,10000,17000,94,100,100,9,4,15,24,405\n"
     ]
    },
    {
     "name": "stderr",
     "output_type": "stream",
     "text": [
      "\r",
      "Processing rows:   4%|▍         | 53/1200 [02:37<57:38,  3.02s/it]"
     ]
    },
    {
     "name": "stdout",
     "output_type": "stream",
     "text": [
      "Trang suc,4000,43,109,13,Nước ngoài,7000,17000,95,99,62,0,1,2,0,10\n"
     ]
    },
    {
     "name": "stderr",
     "output_type": "stream",
     "text": [
      "\r",
      "Processing rows:   4%|▍         | 54/1200 [02:40<57:03,  2.99s/it]"
     ]
    },
    {
     "name": "stdout",
     "output_type": "stream",
     "text": [
      "Trang sức,6113,31,212,43,Ho Chi Minh,25419,17000,94,100,100,1,0,2,3,37\n"
     ]
    },
    {
     "name": "stderr",
     "output_type": "stream",
     "text": [
      "\r",
      "Processing rows:   5%|▍         | 55/1200 [02:43<55:06,  2.89s/it]"
     ]
    },
    {
     "name": "stdout",
     "output_type": "stream",
     "text": [
      "Trang sức,29000,71,3600,753,Ho Chi Minh,99000,16500,98,100,90,4,1,3,14,731\n"
     ]
    },
    {
     "name": "stderr",
     "output_type": "stream",
     "text": [
      "\r",
      "Processing rows:   5%|▍         | 56/1200 [02:45<52:53,  2.77s/it]"
     ]
    },
    {
     "name": "stdout",
     "output_type": "stream",
     "text": [
      "Trang sức,9000,59,5600,734,Ho Chi Minh,22000,17000,96,99,92,7,5,9,27,686\n"
     ]
    },
    {
     "name": "stderr",
     "output_type": "stream",
     "text": [
      "\r",
      "Processing rows:   5%|▍         | 57/1200 [02:48<53:30,  2.81s/it]"
     ]
    },
    {
     "name": "stdout",
     "output_type": "stream",
     "text": [
      "Trang sức,9900,48,243,41,Nước ngoài,19000,17000,95,93,100,2,1,3,0,35\n"
     ]
    },
    {
     "name": "stderr",
     "output_type": "stream",
     "text": [
      "\r",
      "Processing rows:   5%|▍         | 58/1200 [02:51<51:53,  2.73s/it]"
     ]
    },
    {
     "name": "stdout",
     "output_type": "stream",
     "text": [
      "Trang sức,11457,40,446,97,Ho Chi Minh,15851,17000,94,97,80,1,2,2,5,87\n"
     ]
    },
    {
     "name": "stderr",
     "output_type": "stream",
     "text": [
      "\r",
      "Processing rows:   5%|▍         | 59/1200 [02:55<58:37,  3.08s/it]"
     ]
    },
    {
     "name": "stdout",
     "output_type": "stream",
     "text": [
      "Trang sức,6000,33,457,77,Ho Chi Minh,12332,16500,96,100,100,1,1,1,4,71\n"
     ]
    },
    {
     "name": "stderr",
     "output_type": "stream",
     "text": [
      "\r",
      "Processing rows:   5%|▌         | 60/1200 [02:58<58:00,  3.05s/it]"
     ]
    },
    {
     "name": "stdout",
     "output_type": "stream",
     "text": [
      "Trang sức,10099,45,291,63,Ho Chi Minh,20350,17000,96,100,83,5,0,1,3,54\n"
     ]
    },
    {
     "name": "stderr",
     "output_type": "stream",
     "text": [
      "\r",
      "Processing rows:   5%|▌         | 61/1200 [03:01<57:46,  3.04s/it]"
     ]
    },
    {
     "name": "stdout",
     "output_type": "stream",
     "text": [
      "Trang sức,8295,51,1700,215,Ho Chi Minh,12000,17000,96,100,83,11,3,2,13,186\n"
     ]
    },
    {
     "name": "stderr",
     "output_type": "stream",
     "text": [
      "\r",
      "Processing rows:   5%|▌         | 62/1200 [03:03<56:52,  3.00s/it]"
     ]
    },
    {
     "name": "stdout",
     "output_type": "stream",
     "text": [
      "Trang sức,16000,47,1200,239,Ho Chi Minh,34000,17000,93,98,100,7,0,3,9,220\n"
     ]
    },
    {
     "name": "stderr",
     "output_type": "stream",
     "text": [
      "\r",
      "Processing rows:   5%|▌         | 63/1200 [03:07<57:11,  3.02s/it]"
     ]
    },
    {
     "name": "stdout",
     "output_type": "stream",
     "text": [
      "Trang sức,3586,53,395,80,Ho Chi Minh,7700,17000,98,99,100,0,2,2,3,73\n"
     ]
    },
    {
     "name": "stderr",
     "output_type": "stream",
     "text": [
      "\r",
      "Processing rows:   5%|▌         | 64/1200 [03:10<57:06,  3.02s/it]"
     ]
    },
    {
     "name": "stdout",
     "output_type": "stream",
     "text": [
      "Trang sức,8509,48,76,29,Ho Chi Minh,7700,17000,98,99,100,0,2,2,3,73\n"
     ]
    },
    {
     "name": "stderr",
     "output_type": "stream",
     "text": [
      "\r",
      "Processing rows:   5%|▌         | 65/1200 [03:12<52:28,  2.77s/it]"
     ]
    },
    {
     "name": "stdout",
     "output_type": "stream",
     "text": [
      "Trang sức,16000,43,1100,176,Nước ngoài,28000,17000,95,100,None,9,7,10,10,140\n"
     ]
    },
    {
     "name": "stderr",
     "output_type": "stream",
     "text": [
      "\r",
      "Processing rows:   6%|▌         | 66/1200 [03:14<50:47,  2.69s/it]"
     ]
    },
    {
     "name": "stdout",
     "output_type": "stream",
     "text": [
      "Trang sức,3977,20,789,217,Ho Chi Minh,12503,17000,94,100,100,1,5,4,7,203\n"
     ]
    },
    {
     "name": "stderr",
     "output_type": "stream",
     "text": [
      "\r",
      "Processing rows:   6%|▌         | 67/1200 [03:18<55:42,  2.95s/it]"
     ]
    },
    {
     "name": "stdout",
     "output_type": "stream",
     "text": [
      "Trang sức,11474,63,66,20,Ho Chi Minh,30700,17000,96,98,100,0,0,0,3,17\n"
     ]
    },
    {
     "name": "stderr",
     "output_type": "stream",
     "text": [
      "\r",
      "Processing rows:   6%|▌         | 68/1200 [03:21<54:56,  2.91s/it]"
     ]
    },
    {
     "name": "stdout",
     "output_type": "stream",
     "text": [
      "Trang sức,22587,50,6800,1346,Ha Noi,55000,32700,95,100,None,30,11,40,78,1187\n"
     ]
    },
    {
     "name": "stderr",
     "output_type": "stream",
     "text": [
      "\r",
      "Processing rows:   6%|▌         | 69/1200 [03:23<51:14,  2.72s/it]"
     ]
    },
    {
     "name": "stdout",
     "output_type": "stream",
     "text": [
      "Trang sức,17000,37,172,45,Nước ngoài,50000,Miễn Phí,96,99,100,0,0,2,1,42\n"
     ]
    },
    {
     "name": "stderr",
     "output_type": "stream",
     "text": [
      "\r",
      "Processing rows:   6%|▌         | 70/1200 [03:25<48:20,  2.57s/it]"
     ]
    },
    {
     "name": "stdout",
     "output_type": "stream",
     "text": [
      "Trang sức,10545,54,1100,187,Ho Chi Minh,22700,17000,97,98,100,2,1,6,4,174\n"
     ]
    },
    {
     "name": "stderr",
     "output_type": "stream",
     "text": [
      "\r",
      "Processing rows:   6%|▌         | 71/1200 [03:28<48:12,  2.56s/it]"
     ]
    },
    {
     "name": "stdout",
     "output_type": "stream",
     "text": [
      "Trang sức,7900,85,2400,517,Ho Chi Minh,53000,17000,96,95,96,7,4,7,15,484\n"
     ]
    },
    {
     "name": "stderr",
     "output_type": "stream",
     "text": [
      "\r",
      "Processing rows:   6%|▌         | 72/1200 [03:30<47:13,  2.51s/it]"
     ]
    },
    {
     "name": "stdout",
     "output_type": "stream",
     "text": [
      "Trang sức,8177,42,430,102,Ho Chi Minh,22573,17000,96,95,96,1,1,3,1,96\n"
     ]
    },
    {
     "name": "stderr",
     "output_type": "stream",
     "text": [
      "\r",
      "Processing rows:   6%|▌         | 73/1200 [03:33<48:38,  2.59s/it]"
     ]
    },
    {
     "name": "stdout",
     "output_type": "stream",
     "text": [
      "Trang sức,18810,24,2600,482,Ho Chi Minh,24750,17000,96,98,100,18,4,10,34,416\n"
     ]
    },
    {
     "name": "stderr",
     "output_type": "stream",
     "text": [
      "\r",
      "Processing rows:   6%|▌         | 74/1200 [03:36<52:13,  2.78s/it]"
     ]
    },
    {
     "name": "stdout",
     "output_type": "stream",
     "text": [
      "Trang sức,15298,49,191,45,Ho Chi Minh,30000,17000,96,67,None,1,1,0,1,42\n"
     ]
    },
    {
     "name": "stderr",
     "output_type": "stream",
     "text": [
      "\r",
      "Processing rows:   6%|▋         | 75/1200 [03:39<54:22,  2.90s/it]"
     ]
    },
    {
     "name": "stdout",
     "output_type": "stream",
     "text": [
      "Trang sức,7600,49,1500,235,Ho Chi Minh,15000,17000,96,99,92,2,0,7,7,220\n"
     ]
    },
    {
     "name": "stderr",
     "output_type": "stream",
     "text": [
      "\r",
      "Processing rows:   6%|▋         | 76/1200 [03:42<55:02,  2.94s/it]"
     ]
    },
    {
     "name": "stdout",
     "output_type": "stream",
     "text": [
      "Trang sức,7829,49,112,37,Ho Chi Minh,30441,17000,96,95,96,0,0,2,1,34\n"
     ]
    },
    {
     "name": "stderr",
     "output_type": "stream",
     "text": [
      "\r",
      "Processing rows:   6%|▋         | 77/1200 [03:45<53:32,  2.86s/it]"
     ]
    },
    {
     "name": "stdout",
     "output_type": "stream",
     "text": [
      "Trang sức,9500,47,157,15,Nước ngoài,18000,17000,95,93,100,1,1,1,0,12\n"
     ]
    },
    {
     "name": "stderr",
     "output_type": "stream",
     "text": [
      "\r",
      "Processing rows:   6%|▋         | 78/1200 [03:48<53:43,  2.87s/it]"
     ]
    },
    {
     "name": "stdout",
     "output_type": "stream",
     "text": [
      "Trang sức,6561,34,4600,525,Ho Chi Minh,55000,17000,96,95,96,12,4,12,13,484\n"
     ]
    },
    {
     "name": "stderr",
     "output_type": "stream",
     "text": [
      "\r",
      "Processing rows:   7%|▋         | 79/1200 [03:51<55:31,  2.97s/it]"
     ]
    },
    {
     "name": "stdout",
     "output_type": "stream",
     "text": [
      "Trang sức,53307,52,250,48,Ho Chi Minh,112000,16500,87,99,100,2,1,1,1,43\n"
     ]
    },
    {
     "name": "stderr",
     "output_type": "stream",
     "text": [
      "\r",
      "Processing rows:   7%|▋         | 80/1200 [03:54<55:20,  2.96s/it]"
     ]
    },
    {
     "name": "stdout",
     "output_type": "stream",
     "text": [
      "Trang sức,39000,40,956,150,Ha Noi,65000,32700,84,93,100,21,3,6,3,117\n"
     ]
    },
    {
     "name": "stderr",
     "output_type": "stream",
     "text": [
      "\r",
      "Processing rows:   7%|▋         | 81/1200 [03:58<58:37,  3.14s/it]"
     ]
    },
    {
     "name": "stdout",
     "output_type": "stream",
     "text": [
      "Trang sức,4500,49,1800,217,Nước ngoài,19000,17000,95,93,100,10,3,2,3,200\n"
     ]
    },
    {
     "name": "stderr",
     "output_type": "stream",
     "text": [
      "\r",
      "Processing rows:   7%|▋         | 82/1200 [04:00<53:22,  2.86s/it]"
     ]
    },
    {
     "name": "stdout",
     "output_type": "stream",
     "text": [
      "Trang sức,31844,64,14,4,Ho Chi Minh,199000,16500,98,100,nan,1,0,0,0,3\n"
     ]
    },
    {
     "name": "stderr",
     "output_type": "stream",
     "text": [
      "\r",
      "Processing rows:   7%|▋         | 83/1200 [04:02<49:48,  2.68s/it]"
     ]
    },
    {
     "name": "stdout",
     "output_type": "stream",
     "text": [
      "Trang sức,44182,53,1100,274,Nước ngoài,93900,17000,97,94,50,2,1,2,2,268\n"
     ]
    },
    {
     "name": "stderr",
     "output_type": "stream",
     "text": [
      "\r",
      "Processing rows:   7%|▋         | 84/1200 [04:05<52:13,  2.81s/it]"
     ]
    },
    {
     "name": "stdout",
     "output_type": "stream",
     "text": [
      "Trang suc,4717,46,21,3,Nước ngoài,8800,17000,96,98,100,2,0,0,0,2\n"
     ]
    },
    {
     "name": "stderr",
     "output_type": "stream",
     "text": [
      "\r",
      "Processing rows:   7%|▋         | 85/1200 [04:08<50:30,  2.72s/it]"
     ]
    },
    {
     "name": "stdout",
     "output_type": "stream",
     "text": [
      "Trang sức,22750,42,659,175,Ho Chi Minh,39000,16500,97,99,86,1,1,2,2,170\n"
     ]
    },
    {
     "name": "stderr",
     "output_type": "stream",
     "text": [
      "\r",
      "Processing rows:   7%|▋         | 86/1200 [04:10<50:09,  2.70s/it]"
     ]
    },
    {
     "name": "stdout",
     "output_type": "stream",
     "text": [
      "Trang sức,6414,47,1000,101,Ho Chi Minh,14200,17000,98,99,100,1,2,1,6,91\n"
     ]
    },
    {
     "name": "stderr",
     "output_type": "stream",
     "text": [
      "\r",
      "Processing rows:   7%|▋         | 87/1200 [04:13<48:11,  2.60s/it]"
     ]
    },
    {
     "name": "stdout",
     "output_type": "stream",
     "text": [
      "Trang sức,13100,55,116,17,Ho Chi Minh,29000,16500,97,89,100,1,0,0,0,16\n"
     ]
    },
    {
     "name": "stderr",
     "output_type": "stream",
     "text": [
      "\r",
      "Processing rows:   7%|▋         | 88/1200 [04:15<49:04,  2.65s/it]"
     ]
    },
    {
     "name": "stdout",
     "output_type": "stream",
     "text": [
      "Trang sức,6146,50,237,60,Ho Chi Minh,15833,17000,95,99,100,2,0,1,2,55\n"
     ]
    },
    {
     "name": "stderr",
     "output_type": "stream",
     "text": [
      "\r",
      "Processing rows:   7%|▋         | 89/1200 [04:19<52:38,  2.84s/it]"
     ]
    },
    {
     "name": "stdout",
     "output_type": "stream",
     "text": [
      "Trang sức,10999,49,922,245,Ho Chi Minh,21567,17000,95,98,None,3,1,5,6,230\n"
     ]
    },
    {
     "name": "stderr",
     "output_type": "stream",
     "text": [
      "\r",
      "Processing rows:   8%|▊         | 90/1200 [04:21<50:54,  2.75s/it]"
     ]
    },
    {
     "name": "stdout",
     "output_type": "stream",
     "text": [
      "Trang sức,1000,99,None,None,Nghệ An,198000,635900,None,None,None,0,0,0,0,0\n"
     ]
    },
    {
     "name": "stderr",
     "output_type": "stream",
     "text": [
      "\r",
      "Processing rows:   8%|▊         | 91/1200 [04:24<52:44,  2.85s/it]"
     ]
    },
    {
     "name": "stdout",
     "output_type": "stream",
     "text": [
      "Trang sức,4325,71,1900,381,Nước ngoài,15000,17000,96,99,94,1,1,7,7,366\n"
     ]
    },
    {
     "name": "stderr",
     "output_type": "stream",
     "text": [
      "\r",
      "Processing rows:   8%|▊         | 92/1200 [04:27<49:51,  2.70s/it]"
     ]
    },
    {
     "name": "stdout",
     "output_type": "stream",
     "text": [
      "Trang sức,25456,31,212,49,Ho Chi Minh,89000,16500,97,99,86,1,0,0,0,48\n"
     ]
    },
    {
     "name": "stderr",
     "output_type": "stream",
     "text": [
      "\r",
      "Processing rows:   8%|▊         | 93/1200 [04:29<49:47,  2.70s/it]"
     ]
    },
    {
     "name": "stdout",
     "output_type": "stream",
     "text": [
      "Trang sức,5949,46,51,11,Nước ngoài,11000,17000,94,100,100,0,0,0,11\n"
     ]
    },
    {
     "name": "stderr",
     "output_type": "stream",
     "text": [
      "\r",
      "Processing rows:   8%|▊         | 94/1200 [04:32<50:54,  2.76s/it]"
     ]
    },
    {
     "name": "stdout",
     "output_type": "stream",
     "text": [
      "Trang sức,6000,33,159,59,Nước ngoài,20000,17000,95,100,62,0,0,0,7,52\n"
     ]
    },
    {
     "name": "stderr",
     "output_type": "stream",
     "text": [
      "\r",
      "Processing rows:   8%|▊         | 95/1200 [04:35<51:53,  2.82s/it]"
     ]
    },
    {
     "name": "stdout",
     "output_type": "stream",
     "text": [
      "Trang sức,19000,49,107,25,Nước ngoài,37000,17000,93,100,None,0,0,0,1,25\n"
     ]
    },
    {
     "name": "stderr",
     "output_type": "stream",
     "text": [
      "\r",
      "Processing rows:   8%|▊         | 96/1200 [04:38<50:49,  2.76s/it]"
     ]
    },
    {
     "name": "stdout",
     "output_type": "stream",
     "text": [
      "Trang sức,71000,28,237,79,Ho Chi Minh,99000,16500,97,99,86,0,1,1,1,76\n"
     ]
    },
    {
     "name": "stderr",
     "output_type": "stream",
     "text": [
      "\r",
      "Processing rows:   8%|▊         | 97/1200 [04:41<51:25,  2.80s/it]"
     ]
    },
    {
     "name": "stdout",
     "output_type": "stream",
     "text": [
      "Trang sức,14345,49,83,33,Ho Chi Minh,46000,17000,96,100,83,0,1,1,1,30\n"
     ]
    },
    {
     "name": "stderr",
     "output_type": "stream",
     "text": [
      "\r",
      "Processing rows:   8%|▊         | 98/1200 [04:44<52:03,  2.83s/it]"
     ]
    },
    {
     "name": "stdout",
     "output_type": "stream",
     "text": [
      "Trang sức,25000,50,283,57,Nước ngoài,50000,17000,94,94,100,1,2,0,3,51\n"
     ]
    },
    {
     "name": "stderr",
     "output_type": "stream",
     "text": [
      "\r",
      "Processing rows:   8%|▊         | 99/1200 [04:47<51:57,  2.83s/it]"
     ]
    },
    {
     "name": "stdout",
     "output_type": "stream",
     "text": [
      "Trang sức,6660,53,65,16,Ho Chi Minh,14300,17000,97,98,100,0,0,0,1,15\n"
     ]
    },
    {
     "name": "stderr",
     "output_type": "stream",
     "text": [
      "\r",
      "Processing rows:   8%|▊         | 100/1200 [04:49<49:21,  2.69s/it]"
     ]
    },
    {
     "name": "stdout",
     "output_type": "stream",
     "text": [
      "Trang sức,9000,44,2300,374,Ho Chi Minh,16000,Miễn Phí,96,99,100,12,2,4,13,343\n"
     ]
    },
    {
     "name": "stderr",
     "output_type": "stream",
     "text": [
      "\r",
      "Processing rows:   8%|▊         | 101/1200 [04:52<50:15,  2.74s/it]"
     ]
    },
    {
     "name": "stdout",
     "output_type": "stream",
     "text": [
      "Trang sức,8140,50,18,5,Nước ngoài,16380,17000,96,100,83,0,0,0,5\n"
     ]
    },
    {
     "name": "stderr",
     "output_type": "stream",
     "text": [
      "\r",
      "Processing rows:   8%|▊         | 102/1200 [04:54<50:01,  2.73s/it]"
     ]
    },
    {
     "name": "stdout",
     "output_type": "stream",
     "text": [
      "Trang sức,14300,43,178,41,Ho Chi Minh,25000,17000,94,94,100,2,0,0,3,36\n"
     ]
    },
    {
     "name": "stderr",
     "output_type": "stream",
     "text": [
      "\r",
      "Processing rows:   9%|▊         | 103/1200 [04:58<52:33,  2.87s/it]"
     ]
    },
    {
     "name": "stdout",
     "output_type": "stream",
     "text": [
      "Trang sức,10000,41,306,64,Ho Chi Minh,19000,17000,94,100,nan,2,2,3,0,57\n"
     ]
    },
    {
     "name": "stderr",
     "output_type": "stream",
     "text": [
      "\r",
      "Processing rows:   9%|▊         | 104/1200 [05:00<51:05,  2.80s/it]"
     ]
    },
    {
     "name": "stdout",
     "output_type": "stream",
     "text": [
      "Trang sức,20397,53,2300,451,Nước ngoài,43200,17000,94,97,100,5,6,10,15,415\n"
     ]
    },
    {
     "name": "stderr",
     "output_type": "stream",
     "text": [
      "\r",
      "Processing rows:   9%|▉         | 105/1200 [05:03<50:49,  2.79s/it]"
     ]
    },
    {
     "name": "stdout",
     "output_type": "stream",
     "text": [
      "Trang sức,8469,55,1100,197,Ho Chi Minh,18700,17000,95,99,91,7,3,7,16,164\n"
     ]
    },
    {
     "name": "stderr",
     "output_type": "stream",
     "text": [
      "\r",
      "Processing rows:   9%|▉         | 106/1200 [05:06<49:56,  2.74s/it]"
     ]
    },
    {
     "name": "stdout",
     "output_type": "stream",
     "text": [
      "Trang suc,8000,43,387,87,Nước ngoài,18000,17000,95,100,62,1,0,1,1,84\n"
     ]
    },
    {
     "name": "stderr",
     "output_type": "stream",
     "text": [
      "\r",
      "Processing rows:   9%|▉         | 107/1200 [05:08<49:42,  2.73s/it]"
     ]
    },
    {
     "name": "stdout",
     "output_type": "stream",
     "text": [
      "Trang sức,8253,62,127,37,Ho Chi Minh,21500,17000,97,100,100,2,1,0,0,34\n"
     ]
    },
    {
     "name": "stderr",
     "output_type": "stream",
     "text": [
      "\r",
      "Processing rows:   9%|▉         | 108/1200 [05:12<54:02,  2.97s/it]"
     ]
    },
    {
     "name": "stdout",
     "output_type": "stream",
     "text": [
      "Trang sức,11839,85,23,4,Nước ngoài,76700,17000,97,99,100,0,0,0,1,3\n"
     ]
    },
    {
     "name": "stderr",
     "output_type": "stream",
     "text": [
      "\r",
      "Processing rows:   9%|▉         | 109/1200 [05:15<53:54,  2.97s/it]"
     ]
    },
    {
     "name": "stdout",
     "output_type": "stream",
     "text": [
      "Trang sức,7558,50,17,5,Nước ngoài,15211,17000,96,96,50,0,0,0,5\n"
     ]
    },
    {
     "name": "stderr",
     "output_type": "stream",
     "text": [
      "\r",
      "Processing rows:   9%|▉         | 110/1200 [05:18<54:13,  2.98s/it]"
     ]
    },
    {
     "name": "stdout",
     "output_type": "stream",
     "text": [
      "Trang sức,10220,56,74,34,Nước ngoài,31000,17000,96,95,96,0,0,2,1,30\n"
     ]
    },
    {
     "name": "stderr",
     "output_type": "stream",
     "text": [
      "\r",
      "Processing rows:   9%|▉         | 111/1200 [05:20<51:01,  2.81s/it]"
     ]
    },
    {
     "name": "stdout",
     "output_type": "stream",
     "text": [
      "Trang sức,9664,42,24,7,Ho Chi Minh,28291,17000,95,99,100,0,0,0,7\n"
     ]
    },
    {
     "name": "stderr",
     "output_type": "stream",
     "text": [
      "\r",
      "Processing rows:   9%|▉         | 112/1200 [05:23<47:43,  2.63s/it]"
     ]
    },
    {
     "name": "stdout",
     "output_type": "stream",
     "text": [
      "Trang sức,4300,46,307,54,Ho Chi Minh,30000,17000,94,100,100,0,1,1,1,51\n"
     ]
    },
    {
     "name": "stderr",
     "output_type": "stream",
     "text": [
      "\r",
      "Processing rows:   9%|▉         | 113/1200 [05:25<48:38,  2.69s/it]"
     ]
    },
    {
     "name": "stdout",
     "output_type": "stream",
     "text": [
      "Trang sức,10000,50,955,172,Ho Chi Minh,20000,16500,94,100,100,2,2,6,7,156\n"
     ]
    },
    {
     "name": "stderr",
     "output_type": "stream",
     "text": [
      "\r",
      "Processing rows:  10%|▉         | 114/1200 [05:29<51:54,  2.87s/it]"
     ]
    },
    {
     "name": "stdout",
     "output_type": "stream",
     "text": [
      "Trang sức,16157,48,19,2,Nước ngoài,31059,17000,95,99,100,0,0,0,1,2\n"
     ]
    },
    {
     "name": "stderr",
     "output_type": "stream",
     "text": [
      "\r",
      "Processing rows:  10%|▉         | 115/1200 [05:31<48:50,  2.70s/it]"
     ]
    },
    {
     "name": "stdout",
     "output_type": "stream",
     "text": [
      "Trang sức,8324,37,193,42,Nước ngoài,13203,17000,96,99,None,3,0,1,1,37\n"
     ]
    },
    {
     "name": "stderr",
     "output_type": "stream",
     "text": [
      "\r",
      "Processing rows:  10%|▉         | 116/1200 [05:34<49:36,  2.75s/it]"
     ]
    },
    {
     "name": "stdout",
     "output_type": "stream",
     "text": [
      "Trang sức,8925,45,243,68,Ho Chi Minh,23201,17000,95,99,100,5,0,0,3,60\n"
     ]
    },
    {
     "name": "stderr",
     "output_type": "stream",
     "text": [
      "\r",
      "Processing rows:  10%|▉         | 117/1200 [05:37<53:00,  2.94s/it]"
     ]
    },
    {
     "name": "stdout",
     "output_type": "stream",
     "text": [
      "Trang sức,32000,29,1400,199,Ha Noi,45000,32700,85,87,100,24,1,10,6,158\n"
     ]
    },
    {
     "name": "stderr",
     "output_type": "stream",
     "text": [
      "\r",
      "Processing rows:  10%|▉         | 118/1200 [05:40<53:45,  2.98s/it]"
     ]
    },
    {
     "name": "stdout",
     "output_type": "stream",
     "text": [
      "Trang sức,20000,47,148,63,Ho Chi Minh,30000,17000,95,100,62,7,2,0,1,53\n"
     ]
    },
    {
     "name": "stderr",
     "output_type": "stream",
     "text": [
      "\r",
      "Processing rows:  10%|▉         | 119/1200 [05:44<55:51,  3.10s/it]"
     ]
    },
    {
     "name": "stdout",
     "output_type": "stream",
     "text": [
      "Trang sức,9035,47,1000,220,Ho Chi Minh,17000,17000,97,100,nan,2,2,4,7,206\n"
     ]
    },
    {
     "name": "stderr",
     "output_type": "stream",
     "text": [
      "\r",
      "Processing rows:  10%|█         | 120/1200 [05:46<52:54,  2.94s/it]"
     ]
    },
    {
     "name": "stdout",
     "output_type": "stream",
     "text": [
      "Trang sức,20781,53,107,35,Nước ngoài,44000,17000,96,89,100,1,0,2,2,30\n"
     ]
    },
    {
     "name": "stderr",
     "output_type": "stream",
     "text": [
      "\r",
      "Processing rows:  10%|█         | 121/1200 [05:49<51:47,  2.88s/it]"
     ]
    },
    {
     "name": "stdout",
     "output_type": "stream",
     "text": [
      "Trang suc,5536,72,79,24,Nước ngoài,37000,17000,95,99,100,1,0,0,0,24\n"
     ]
    },
    {
     "name": "stderr",
     "output_type": "stream",
     "text": [
      "\r",
      "Processing rows:  10%|█         | 122/1200 [05:51<49:44,  2.77s/it]"
     ]
    },
    {
     "name": "stdout",
     "output_type": "stream",
     "text": [
      "Trang sức,6400,47,69,17,Ho Chi Minh,12000,17000,94,100,100,0,0,1,0,17\n"
     ]
    },
    {
     "name": "stderr",
     "output_type": "stream",
     "text": [
      "\r",
      "Processing rows:  10%|█         | 123/1200 [05:54<47:58,  2.67s/it]"
     ]
    },
    {
     "name": "stdout",
     "output_type": "stream",
     "text": [
      "Trang sức,12110,47,43,13,Nước ngoài,23000,17000,95,99,100,1,1,1,0,10\n"
     ]
    },
    {
     "name": "stderr",
     "output_type": "stream",
     "text": [
      "\r",
      "Processing rows:  10%|█         | 124/1200 [05:58<55:30,  3.10s/it]"
     ]
    },
    {
     "name": "stdout",
     "output_type": "stream",
     "text": [
      "Trang sức,5837,55,18,5,Nước ngoài,13000,17000,96,89,100,0,0,1,0,5\n"
     ]
    },
    {
     "name": "stderr",
     "output_type": "stream",
     "text": [
      "\r",
      "Processing rows:  10%|█         | 125/1200 [06:01<54:27,  3.04s/it]"
     ]
    },
    {
     "name": "stdout",
     "output_type": "stream",
     "text": [
      "Trang sức,6324,39,157,30,Nước ngoài,10429,17000,95,95,None,0,0,2,4,24\n"
     ]
    },
    {
     "name": "stderr",
     "output_type": "stream",
     "text": [
      "\r",
      "Processing rows:  10%|█         | 126/1200 [06:04<54:22,  3.04s/it]"
     ]
    },
    {
     "name": "stdout",
     "output_type": "stream",
     "text": [
      "Trang sức,17575,39,191,63,Ho Chi Minh,85000,17000,95,100,100,0,1,0,4,59\n"
     ]
    },
    {
     "name": "stderr",
     "output_type": "stream",
     "text": [
      "\r",
      "Processing rows:  11%|█         | 127/1200 [06:08<59:01,  3.30s/it]"
     ]
    },
    {
     "name": "stdout",
     "output_type": "stream",
     "text": [
      "Trang sức,12024,43,905,232,Ho Chi Minh,44000,17000,94,100,100,4,1,4,3,221\n"
     ]
    },
    {
     "name": "stderr",
     "output_type": "stream",
     "text": [
      "\r",
      "Processing rows:  11%|█         | 128/1200 [06:11<58:33,  3.28s/it]"
     ]
    },
    {
     "name": "stdout",
     "output_type": "stream",
     "text": [
      "Trang sức,17076,66,3100,496,Ho Chi Minh,50000,16500,97,100,87,7,4,4,6,475\n"
     ]
    },
    {
     "name": "stderr",
     "output_type": "stream",
     "text": [
      "\r",
      "Processing rows:  11%|█         | 129/1200 [06:15<1:00:44,  3.40s/it]"
     ]
    },
    {
     "name": "stdout",
     "output_type": "stream",
     "text": [
      "Trang sức,11000,48,419,105,Ho Chi Minh,16000,17000,95,100,62,1,3,0,1,100\n"
     ]
    },
    {
     "name": "stderr",
     "output_type": "stream",
     "text": [
      "\r",
      "Processing rows:  11%|█         | 130/1200 [06:18<58:45,  3.30s/it]  "
     ]
    },
    {
     "name": "stdout",
     "output_type": "stream",
     "text": [
      "Trang sức,8000,47,18,2,Nước ngoài,15000,17000,94,100,100,0,1,0,0,1\n"
     ]
    },
    {
     "name": "stderr",
     "output_type": "stream",
     "text": [
      "\r",
      "Processing rows:  11%|█         | 131/1200 [06:21<55:55,  3.14s/it]"
     ]
    },
    {
     "name": "stdout",
     "output_type": "stream",
     "text": [
      "Trang sức,32682,50,77,19,Ho Chi Minh,65000,16500,95,100,100,3,0,1,1,13\n"
     ]
    },
    {
     "name": "stderr",
     "output_type": "stream",
     "text": [
      "\r",
      "Processing rows:  11%|█         | 132/1200 [06:23<53:14,  2.99s/it]"
     ]
    },
    {
     "name": "stdout",
     "output_type": "stream",
     "text": [
      "Trang sức,61050,82,68,25,Ho Chi Minh,330000,17000,98,100,100,0,0,0,25\n"
     ]
    },
    {
     "name": "stderr",
     "output_type": "stream",
     "text": [
      "\r",
      "Processing rows:  11%|█         | 133/1200 [06:26<50:20,  2.83s/it]"
     ]
    },
    {
     "name": "stdout",
     "output_type": "stream",
     "text": [
      "Trang sức,5240,51,23,6,Nước ngoài,10800,17000,94,97,100,0,0,0,6\n"
     ]
    },
    {
     "name": "stderr",
     "output_type": "stream",
     "text": [
      "\r",
      "Processing rows:  11%|█         | 134/1200 [06:30<56:52,  3.20s/it]"
     ]
    },
    {
     "name": "stdout",
     "output_type": "stream",
     "text": [
      "Trang sức,5600,50,133,24,Ho Chi Minh,11199,Miễn Phí,96,99,100,0,0,2,1,21\n"
     ]
    },
    {
     "name": "stderr",
     "output_type": "stream",
     "text": [
      "\r",
      "Processing rows:  11%|█▏        | 135/1200 [06:33<56:49,  3.20s/it]"
     ]
    },
    {
     "name": "stdout",
     "output_type": "stream",
     "text": [
      "Trang sức,9000,50,455,87,Nước ngoài,18000,17000,95,99,100,5,0,2,4,77\n"
     ]
    },
    {
     "name": "stderr",
     "output_type": "stream",
     "text": [
      "\r",
      "Processing rows:  11%|█▏        | 136/1200 [06:36<55:55,  3.15s/it]"
     ]
    },
    {
     "name": "stdout",
     "output_type": "stream",
     "text": [
      "Trang sức,24220,53,472,108,Nước ngoài,47000,17000,95,99,100,2,0,2,2,102\n"
     ]
    },
    {
     "name": "stderr",
     "output_type": "stream",
     "text": [
      "\r",
      "Processing rows:  11%|█▏        | 137/1200 [06:39<54:01,  3.05s/it]"
     ]
    },
    {
     "name": "stdout",
     "output_type": "stream",
     "text": [
      "Trang sức,20482,54,371,82,Ho Chi Minh,44550,17000,88,100,nan,16,7,4,3,53\n"
     ]
    },
    {
     "name": "stderr",
     "output_type": "stream",
     "text": [
      "\r",
      "Processing rows:  12%|█▏        | 138/1200 [06:42<53:26,  3.02s/it]"
     ]
    },
    {
     "name": "stdout",
     "output_type": "stream",
     "text": [
      "Trang sức,10000,47,30,8,Ho Chi Minh,19000,17000,94,100,100,0,0,0,8\n"
     ]
    },
    {
     "name": "stderr",
     "output_type": "stream",
     "text": [
      "\r",
      "Processing rows:  12%|█▏        | 139/1200 [06:44<51:59,  2.94s/it]"
     ]
    },
    {
     "name": "stdout",
     "output_type": "stream",
     "text": [
      "Trang sức,7542,42,235,53,Nước ngoài,13000,17000,95,100,100,0,0,1,5,47\n"
     ]
    },
    {
     "name": "stderr",
     "output_type": "stream",
     "text": [
      "\r",
      "Processing rows:  12%|█▏        | 140/1200 [06:47<51:02,  2.89s/it]"
     ]
    },
    {
     "name": "stdout",
     "output_type": "stream",
     "text": [
      "Trang sức,10000,52,116,49,Nước ngoài,21000,17000,95,100,100,1,1,0,4,43\n"
     ]
    },
    {
     "name": "stderr",
     "output_type": "stream",
     "text": [
      "\r",
      "Processing rows:  12%|█▏        | 141/1200 [06:51<54:59,  3.12s/it]"
     ]
    },
    {
     "name": "stdout",
     "output_type": "stream",
     "text": [
      "Trang sức,19718,58,1900,318,Ho Chi Minh,46400,17000,95,97,100,17,7,7,15,272\n"
     ]
    },
    {
     "name": "stderr",
     "output_type": "stream",
     "text": [
      "\r",
      "Processing rows:  12%|█▏        | 142/1200 [06:54<54:34,  3.10s/it]"
     ]
    },
    {
     "name": "stdout",
     "output_type": "stream",
     "text": [
      "Trang suc,14706,54,117,23,Nước ngoài,31700,17000,94,97,100,2,0,1,1,19\n"
     ]
    },
    {
     "name": "stderr",
     "output_type": "stream",
     "text": [
      "\r",
      "Processing rows:  12%|█▏        | 143/1200 [06:57<55:03,  3.13s/it]"
     ]
    },
    {
     "name": "stdout",
     "output_type": "stream",
     "text": [
      "Trang sức,10299,54,215,43,Nước ngoài,22300,17000,97,99,100,0,2,0,0,41\n"
     ]
    },
    {
     "name": "stderr",
     "output_type": "stream",
     "text": [
      "\r",
      "Processing rows:  12%|█▏        | 144/1200 [07:00<52:46,  3.00s/it]"
     ]
    },
    {
     "name": "stdout",
     "output_type": "stream",
     "text": [
      "Trang sức,9712,98,538,97,Nước ngoài,471347,17000,96,98,100,4,4,8,3,78\n"
     ]
    },
    {
     "name": "stderr",
     "output_type": "stream",
     "text": [
      "\r",
      "Processing rows:  12%|█▏        | 145/1200 [07:03<51:30,  2.93s/it]"
     ]
    },
    {
     "name": "stdout",
     "output_type": "stream",
     "text": [
      "Trang sức,18982,41,325,47,Nước ngoài,32000,17000,95,99,91,0,1,1,4,41\n"
     ]
    },
    {
     "name": "stderr",
     "output_type": "stream",
     "text": [
      "\r",
      "Processing rows:  12%|█▏        | 146/1200 [07:05<50:42,  2.89s/it]"
     ]
    },
    {
     "name": "stdout",
     "output_type": "stream",
     "text": [
      "Trang sức,24000,41,619,87,Ho Chi Minh,41000,17000,94,100,nan,2,1,2,6,76\n"
     ]
    },
    {
     "name": "stderr",
     "output_type": "stream",
     "text": [
      "\r",
      "Processing rows:  12%|█▏        | 147/1200 [07:09<51:58,  2.96s/it]"
     ]
    },
    {
     "name": "stdout",
     "output_type": "stream",
     "text": [
      "Trang sức,180000,55,342,120,Ha Noi,400000,32700,97,99,97,2,1,0,0,117\n"
     ]
    },
    {
     "name": "stderr",
     "output_type": "stream",
     "text": [
      "\r",
      "Processing rows:  12%|█▏        | 148/1200 [07:12<52:35,  3.00s/it]"
     ]
    },
    {
     "name": "stdout",
     "output_type": "stream",
     "text": [
      "Trang sức,60122,81,1500,352,Ho Chi Minh,359000,17000,96,100,90,9,2,8,12,321\n"
     ]
    },
    {
     "name": "stderr",
     "output_type": "stream",
     "text": [
      "\r",
      "Processing rows:  12%|█▏        | 149/1200 [07:15<52:45,  3.01s/it]"
     ]
    },
    {
     "name": "stdout",
     "output_type": "stream",
     "text": [
      "Trang sức,35237,53,398,80,Ho Chi Minh,75000,16500,95,100,100,3,3,1,1,72\n"
     ]
    },
    {
     "name": "stderr",
     "output_type": "stream",
     "text": [
      "\r",
      "Processing rows:  12%|█▎        | 150/1200 [07:18<55:35,  3.18s/it]"
     ]
    },
    {
     "name": "stdout",
     "output_type": "stream",
     "text": [
      "Trang sức,10232,56,389,91,Ho Chi Minh,53000,17000,95,99,100,6,0,1,0,84\n"
     ]
    },
    {
     "name": "stderr",
     "output_type": "stream",
     "text": [
      "\r",
      "Processing rows:  13%|█▎        | 151/1200 [07:21<55:12,  3.16s/it]"
     ]
    },
    {
     "name": "stdout",
     "output_type": "stream",
     "text": [
      "Trang sức,41631,40,11,6,Ho Chi Minh,69000,16500,97,99,86,0,0,0,6\n"
     ]
    },
    {
     "name": "stderr",
     "output_type": "stream",
     "text": [
      "\r",
      "Processing rows:  13%|█▎        | 152/1200 [07:24<54:09,  3.10s/it]"
     ]
    },
    {
     "name": "stdout",
     "output_type": "stream",
     "text": [
      "Trang sức,42000,48,1400,348,Nước ngoài,80000,17000,98,100,100,5,2,6,12,323\n"
     ]
    },
    {
     "name": "stderr",
     "output_type": "stream",
     "text": [
      "\r",
      "Processing rows:  13%|█▎        | 153/1200 [07:28<55:46,  3.20s/it]"
     ]
    },
    {
     "name": "stdout",
     "output_type": "stream",
     "text": [
      "Trang suc,9000,40,100,15,Nước ngoài,15000,17000,95,100,62,0,0,0,2,13\n"
     ]
    },
    {
     "name": "stderr",
     "output_type": "stream",
     "text": [
      "\r",
      "Processing rows:  13%|█▎        | 154/1200 [07:30<50:11,  2.88s/it]"
     ]
    },
    {
     "name": "stdout",
     "output_type": "stream",
     "text": [
      "Trang sức,28061,45,453,116,Ho Chi Minh,51020,17000,92,100,100,4,2,2,3,105\n"
     ]
    },
    {
     "name": "stderr",
     "output_type": "stream",
     "text": [
      "\r",
      "Processing rows:  13%|█▎        | 155/1200 [07:33<49:11,  2.82s/it]"
     ]
    },
    {
     "name": "stdout",
     "output_type": "stream",
     "text": [
      "Trang sức,12000,40,56,16,Ho Chi Minh,32000,17000,95,99,100,1,0,1,0,14\n"
     ]
    },
    {
     "name": "stderr",
     "output_type": "stream",
     "text": [
      "\r",
      "Processing rows:  13%|█▎        | 156/1200 [07:35<45:38,  2.62s/it]"
     ]
    },
    {
     "name": "stdout",
     "output_type": "stream",
     "text": [
      "Trang sức,35000,44,19,1,Nước ngoài,62000,17000,95,99,100,0,0,0,0,1\n"
     ]
    },
    {
     "name": "stderr",
     "output_type": "stream",
     "text": [
      "\r",
      "Processing rows:  13%|█▎        | 157/1200 [07:38<48:36,  2.80s/it]"
     ]
    },
    {
     "name": "stdout",
     "output_type": "stream",
     "text": [
      "Trang sức,25000,50,1900,342,Ho Chi Minh,130000,17000,98,100,100,6,1,4,12,319\n"
     ]
    },
    {
     "name": "stderr",
     "output_type": "stream",
     "text": [
      "\r",
      "Processing rows:  13%|█▎        | 158/1200 [07:41<52:28,  3.02s/it]"
     ]
    },
    {
     "name": "stdout",
     "output_type": "stream",
     "text": [
      "Trang sức,2500,72,None,None,None,None,None,None,None,0,0,0,0,0,Giá Chào Sàn,9000,None,None,Nước Ngoài,17000,95,100,None,0,0,0,0,0\n"
     ]
    },
    {
     "name": "stderr",
     "output_type": "stream",
     "text": [
      "\r",
      "Processing rows:  13%|█▎        | 159/1200 [07:44<51:36,  2.97s/it]"
     ]
    },
    {
     "name": "stdout",
     "output_type": "stream",
     "text": [
      "Trang sức,25343,54,251,61,Nước ngoài,54600,17000,97,99,100,4,0,1,2,54\n"
     ]
    },
    {
     "name": "stderr",
     "output_type": "stream",
     "text": [
      "\r",
      "Processing rows:  13%|█▎        | 160/1200 [07:48<52:48,  3.05s/it]"
     ]
    },
    {
     "name": "stdout",
     "output_type": "stream",
     "text": [
      "Trang suc,19311,52,12,2,Nước ngoài,40000,17000,96,100,100,0,0,0,2\n"
     ]
    },
    {
     "name": "stderr",
     "output_type": "stream",
     "text": [
      "\r",
      "Processing rows:  13%|█▎        | 161/1200 [07:50<50:17,  2.90s/it]"
     ]
    },
    {
     "name": "stdout",
     "output_type": "stream",
     "text": [
      "Trang sức,24000,56,3000,646,Ha Noi,55000,32700,95,96,100,16,3,13,15,600\n"
     ]
    },
    {
     "name": "stderr",
     "output_type": "stream",
     "text": [
      "\r",
      "Processing rows:  14%|█▎        | 162/1200 [07:52<47:02,  2.72s/it]"
     ]
    },
    {
     "name": "stdout",
     "output_type": "stream",
     "text": [
      "Trang sức,10215,51,172,98,Ho Chi Minh,36000,17000,96,95,96,0,3,3,2,90\n"
     ]
    },
    {
     "name": "stderr",
     "output_type": "stream",
     "text": [
      "\r",
      "Processing rows:  14%|█▎        | 163/1200 [07:55<45:06,  2.61s/it]"
     ]
    },
    {
     "name": "stdout",
     "output_type": "stream",
     "text": [
      "Trang sức,39000,34,nan,2,Ho Chi Minh,59000,16500,97,99,86,0,0,0,2\n"
     ]
    },
    {
     "name": "stderr",
     "output_type": "stream",
     "text": [
      "\r",
      "Processing rows:  14%|█▎        | 164/1200 [07:58<48:57,  2.84s/it]"
     ]
    },
    {
     "name": "stdout",
     "output_type": "stream",
     "text": [
      "Trang sức,35000,64,1700,400,Ho Chi Minh,98000,16500,98,100,100,5,1,5,10,379\n"
     ]
    },
    {
     "name": "stderr",
     "output_type": "stream",
     "text": [
      "\r",
      "Processing rows:  14%|█▍        | 165/1200 [08:01<49:01,  2.84s/it]"
     ]
    },
    {
     "name": "stdout",
     "output_type": "stream",
     "text": [
      "Trang sức,41400,59,173,48,Ho Chi Minh,100000,17000,95,93,99,1,0,1,0,46\n"
     ]
    },
    {
     "name": "stderr",
     "output_type": "stream",
     "text": [
      "\r",
      "Processing rows:  14%|█▍        | 166/1200 [08:03<46:18,  2.69s/it]"
     ]
    },
    {
     "name": "stdout",
     "output_type": "stream",
     "text": [
      "Trang sức,27500,None,1400,182,Ho Chi Minh,28000,17000,91,100,None,5,6,10,18,144\n"
     ]
    },
    {
     "name": "stderr",
     "output_type": "stream",
     "text": [
      "\r",
      "Processing rows:  14%|█▍        | 167/1200 [08:05<42:55,  2.49s/it]"
     ]
    },
    {
     "name": "stdout",
     "output_type": "stream",
     "text": [
      "Trang sức,8131,38,644,111,Nước ngoài,13203,17000,95,99,91,3,1,4,7,96\n"
     ]
    },
    {
     "name": "stderr",
     "output_type": "stream",
     "text": [
      "\r",
      "Processing rows:  14%|█▍        | 168/1200 [08:08<45:27,  2.64s/it]"
     ]
    },
    {
     "name": "stdout",
     "output_type": "stream",
     "text": [
      "Trang sức,11100,50,704,116,Nước ngoài,22000,17000,96,100,100,3,2,1,2,109\n"
     ]
    },
    {
     "name": "stderr",
     "output_type": "stream",
     "text": [
      "\r",
      "Processing rows:  14%|█▍        | 169/1200 [08:11<47:54,  2.79s/it]"
     ]
    },
    {
     "name": "stdout",
     "output_type": "stream",
     "text": [
      "Trang sức,9005,40,10000,1550,Ho Chi Minh,15000,16500,97,100,nan,41,10,20,37,1442\n"
     ]
    },
    {
     "name": "stderr",
     "output_type": "stream",
     "text": [
      "\r",
      "Processing rows:  14%|█▍        | 170/1200 [08:14<49:10,  2.86s/it]"
     ]
    },
    {
     "name": "stdout",
     "output_type": "stream",
     "text": [
      "Trang sức,6800,50,7,None,Nước ngoài,13500,Miễn Phí,97,99,100,0,0,0,0\n"
     ]
    },
    {
     "name": "stderr",
     "output_type": "stream",
     "text": [
      "\r",
      "Processing rows:  14%|█▍        | 171/1200 [08:18<51:30,  3.00s/it]"
     ]
    },
    {
     "name": "stdout",
     "output_type": "stream",
     "text": [
      "Trang sức,6750,48,2900,526,Ho Chi Minh,13000,17000,96,100,100,7,6,10,37,466\n"
     ]
    },
    {
     "name": "stderr",
     "output_type": "stream",
     "text": [
      "\r",
      "Processing rows:  14%|█▍        | 172/1200 [08:20<47:43,  2.79s/it]"
     ]
    },
    {
     "name": "stdout",
     "output_type": "stream",
     "text": [
      "Trang sức,19000,24,1000,167,Nước ngoài,25000,17000,94,94,None,12,2,8,23,123\n"
     ]
    },
    {
     "name": "stderr",
     "output_type": "stream",
     "text": [
      "\r",
      "Processing rows:  14%|█▍        | 173/1200 [08:23<47:20,  2.77s/it]"
     ]
    },
    {
     "name": "stdout",
     "output_type": "stream",
     "text": [
      "Trang sức,10053,53,525,85,Ho Chi Minh,30324,17000,96,100,100,2,0,2,4,77\n"
     ]
    },
    {
     "name": "stderr",
     "output_type": "stream",
     "text": [
      "\r",
      "Processing rows:  14%|█▍        | 174/1200 [08:26<50:31,  2.95s/it]"
     ]
    },
    {
     "name": "stdout",
     "output_type": "stream",
     "text": [
      "Trang sức,28000,39,372,57,Nước ngoài,46000,17000,95,98,100,3,0,1,1,52\n"
     ]
    },
    {
     "name": "stderr",
     "output_type": "stream",
     "text": [
      "\r",
      "Processing rows:  15%|█▍        | 175/1200 [08:29<50:31,  2.96s/it]"
     ]
    },
    {
     "name": "stdout",
     "output_type": "stream",
     "text": [
      "Trang sức,8000,38,43,21,Ho Chi Minh,24000,17000,95,100,62,0,0,2,0,19\n"
     ]
    },
    {
     "name": "stderr",
     "output_type": "stream",
     "text": [
      "\r",
      "Processing rows:  15%|█▍        | 176/1200 [08:34<59:22,  3.48s/it]"
     ]
    },
    {
     "name": "stdout",
     "output_type": "stream",
     "text": [
      "Trang sức,30043,60,488,128,Nước ngoài,75000,17000,96,90,100,4,3,5,2,115\n"
     ]
    },
    {
     "name": "stderr",
     "output_type": "stream",
     "text": [
      "\r",
      "Processing rows:  15%|█▍        | 177/1200 [08:38<1:01:08,  3.59s/it]"
     ]
    },
    {
     "name": "stdout",
     "output_type": "stream",
     "text": [
      "Trang sức,7000,42,44,9,Ho Chi Minh,12000,17000,95,100,62,0,1,0,0,9\n"
     ]
    },
    {
     "name": "stderr",
     "output_type": "stream",
     "text": [
      "\r",
      "Processing rows:  15%|█▍        | 178/1200 [08:40<56:52,  3.34s/it]  "
     ]
    },
    {
     "name": "stdout",
     "output_type": "stream",
     "text": [
      "Trang suc,10000,47,127,22,Nước ngoài,19000,17000,95,94,100,1,0,0,1,20\n"
     ]
    },
    {
     "name": "stderr",
     "output_type": "stream",
     "text": [
      "\r",
      "Processing rows:  15%|█▍        | 179/1200 [08:43<54:29,  3.20s/it]"
     ]
    },
    {
     "name": "stdout",
     "output_type": "stream",
     "text": [
      "Trang sức,23021,59,647,153,Ho Chi Minh,56000,16500,94,100,100,3,0,2,9,139\n"
     ]
    },
    {
     "name": "stderr",
     "output_type": "stream",
     "text": [
      "\r",
      "Processing rows:  15%|█▌        | 180/1200 [08:46<51:49,  3.05s/it]"
     ]
    },
    {
     "name": "stdout",
     "output_type": "stream",
     "text": [
      "Trang suc,10000,41,47,12,Nước ngoài,17000,Miễn Phí,96,99,100,1,0,2,0,10\n"
     ]
    },
    {
     "name": "stderr",
     "output_type": "stream",
     "text": [
      "\r",
      "Processing rows:  15%|█▌        | 181/1200 [08:49<49:47,  2.93s/it]"
     ]
    },
    {
     "name": "stdout",
     "output_type": "stream",
     "text": [
      "Trang sức,10967,56,42,45,Nước ngoài,44000,17000,95,99,100,1,0,2,0,43\n"
     ]
    },
    {
     "name": "stderr",
     "output_type": "stream",
     "text": [
      "\r",
      "Processing rows:  15%|█▌        | 182/1200 [08:51<48:08,  2.84s/it]"
     ]
    },
    {
     "name": "stdout",
     "output_type": "stream",
     "text": [
      "Trang sức,16700,50,68,23,Nước ngoài,33300,Miễn phí,97,99,100,1,0,0,4,19\n"
     ]
    },
    {
     "name": "stderr",
     "output_type": "stream",
     "text": [
      "\r",
      "Processing rows:  15%|█▌        | 183/1200 [08:54<47:00,  2.77s/it]"
     ]
    },
    {
     "name": "stdout",
     "output_type": "stream",
     "text": [
      "Trang sức,25000,58,687,126,Ho Chi Minh,44000,17000,95,95,100,4,0,0,5,117\n"
     ]
    },
    {
     "name": "stderr",
     "output_type": "stream",
     "text": [
      "\r",
      "Processing rows:  15%|█▌        | 184/1200 [08:57<50:14,  2.97s/it]"
     ]
    },
    {
     "name": "stdout",
     "output_type": "stream",
     "text": [
      "Trang sức,12990,50,24,9,Nước ngoài,26000,17000,95,99,100,0,1,0,0,9\n"
     ]
    },
    {
     "name": "stderr",
     "output_type": "stream",
     "text": [
      "\r",
      "Processing rows:  15%|█▌        | 185/1200 [09:00<49:28,  2.92s/it]"
     ]
    },
    {
     "name": "stdout",
     "output_type": "stream",
     "text": [
      "Trang sức,10900,50,69,10,Nước ngoài,21800,17000,98,96,None,0,0,0,0,10\n"
     ]
    },
    {
     "name": "stderr",
     "output_type": "stream",
     "text": [
      "\r",
      "Processing rows:  16%|█▌        | 186/1200 [09:03<49:20,  2.92s/it]"
     ]
    },
    {
     "name": "stdout",
     "output_type": "stream",
     "text": [
      "Trang sức,9995,50,168,39,Ho Chi Minh,20000,17000,96,100,83,1,0,1,1,36\n"
     ]
    },
    {
     "name": "stderr",
     "output_type": "stream",
     "text": [
      "\r",
      "Processing rows:  16%|█▌        | 187/1200 [09:06<46:54,  2.78s/it]"
     ]
    },
    {
     "name": "stdout",
     "output_type": "stream",
     "text": [
      "Trang sức,21000,42,255,38,Nước ngoài,36000,17000,97,100,100,0,0,0,38\n"
     ]
    },
    {
     "name": "stderr",
     "output_type": "stream",
     "text": [
      "\r",
      "Processing rows:  16%|█▌        | 188/1200 [09:09<48:40,  2.89s/it]"
     ]
    },
    {
     "name": "stdout",
     "output_type": "stream",
     "text": [
      "Trang sức,10000,40,98,34,Nước ngoài,16667,17000,95,98,None,0,1,0,2,31\n"
     ]
    },
    {
     "name": "stderr",
     "output_type": "stream",
     "text": [
      "\r",
      "Processing rows:  16%|█▌        | 189/1200 [09:11<47:25,  2.81s/it]"
     ]
    },
    {
     "name": "stdout",
     "output_type": "stream",
     "text": [
      "Trang sức,5851,58,41,19,Nước ngoài,14000,17000,95,99,100,1,2,0,0,16\n"
     ]
    },
    {
     "name": "stderr",
     "output_type": "stream",
     "text": [
      "\r",
      "Processing rows:  16%|█▌        | 190/1200 [09:14<45:40,  2.71s/it]"
     ]
    },
    {
     "name": "stdout",
     "output_type": "stream",
     "text": [
      "Trang sức,26000,43,32,15,Ho Chi Minh,46000,17000,94,94,100,1,0,0,0,14\n"
     ]
    },
    {
     "name": "stderr",
     "output_type": "stream",
     "text": [
      "\r",
      "Processing rows:  16%|█▌        | 191/1200 [09:16<44:00,  2.62s/it]"
     ]
    },
    {
     "name": "stdout",
     "output_type": "stream",
     "text": [
      "Trang sức,24220,51,740,120,Ho Chi Minh,49000,16500,87,99,100,24,4,4,7,81\n"
     ]
    },
    {
     "name": "stderr",
     "output_type": "stream",
     "text": [
      "\r",
      "Processing rows:  16%|█▌        | 192/1200 [09:19<43:06,  2.57s/it]"
     ]
    },
    {
     "name": "stdout",
     "output_type": "stream",
     "text": [
      "Trang sức,29000,42,669,105,Ha Noi,50000,32700,90,None,None,9,4,4,5,83\n"
     ]
    },
    {
     "name": "stderr",
     "output_type": "stream",
     "text": [
      "\r",
      "Processing rows:  16%|█▌        | 193/1200 [09:22<46:32,  2.77s/it]"
     ]
    },
    {
     "name": "stdout",
     "output_type": "stream",
     "text": [
      "Trang sức,19274,46,139,49,Ho Chi Minh,36000,17000,95,100,100,1,3,0,1,44\n"
     ]
    },
    {
     "name": "stderr",
     "output_type": "stream",
     "text": [
      "\r",
      "Processing rows:  16%|█▌        | 194/1200 [09:25<47:41,  2.84s/it]"
     ]
    },
    {
     "name": "stdout",
     "output_type": "stream",
     "text": [
      "Trang sức,9100,49,21,6,Ho Chi Minh,30000,17000,94,100,100,1,0,0,0,4\n"
     ]
    },
    {
     "name": "stderr",
     "output_type": "stream",
     "text": [
      "\r",
      "Processing rows:  16%|█▋        | 195/1200 [09:28<46:45,  2.79s/it]"
     ]
    },
    {
     "name": "stdout",
     "output_type": "stream",
     "text": [
      "Trang sức,15000,38,42,12,Nước ngoài,24000,17000,97,100,100,0,0,1,0,11\n"
     ]
    },
    {
     "name": "stderr",
     "output_type": "stream",
     "text": [
      "\r",
      "Processing rows:  16%|█▋        | 196/1200 [09:31<48:09,  2.88s/it]"
     ]
    },
    {
     "name": "stdout",
     "output_type": "stream",
     "text": [
      "Trang sức,14000,40,152,53,Ho Chi Minh,23333,17000,92,100,nan,2,4,5,1,42\n"
     ]
    },
    {
     "name": "stderr",
     "output_type": "stream",
     "text": [
      "\r",
      "Processing rows:  16%|█▋        | 197/1200 [09:33<45:02,  2.69s/it]"
     ]
    },
    {
     "name": "stdout",
     "output_type": "stream",
     "text": [
      "Trang sức,16900,50,649,107,Nước ngoài,54698,17000,98,91,100,0,0,1,1,105\n"
     ]
    },
    {
     "name": "stderr",
     "output_type": "stream",
     "text": [
      "\r",
      "Processing rows:  16%|█▋        | 198/1200 [09:36<46:29,  2.78s/it]"
     ]
    },
    {
     "name": "stdout",
     "output_type": "stream",
     "text": [
      "Trang sức,28000,None,2400,342,Nước ngoài,40000,17000,94,100,None,13,3,10,17,299\n"
     ]
    },
    {
     "name": "stderr",
     "output_type": "stream",
     "text": [
      "\r",
      "Processing rows:  17%|█▋        | 199/1200 [09:39<49:21,  2.96s/it]"
     ]
    },
    {
     "name": "stdout",
     "output_type": "stream",
     "text": [
      "Trang sức,29432,54,43,16,Nước ngoài,64000,17000,96,89,100,1,0,0,0,15\n"
     ]
    },
    {
     "name": "stderr",
     "output_type": "stream",
     "text": [
      "\r",
      "Processing rows:  17%|█▋        | 200/1200 [09:43<53:52,  3.23s/it]"
     ]
    },
    {
     "name": "stdout",
     "output_type": "stream",
     "text": [
      "Trang sức,33000,35,8,4,Nước ngoài,50700,17000,None,100,None,0,0,0,0,4\n"
     ]
    },
    {
     "name": "stderr",
     "output_type": "stream",
     "text": [
      "\r",
      "Processing rows:  17%|█▋        | 201/1200 [09:46<53:16,  3.20s/it]"
     ]
    },
    {
     "name": "stdout",
     "output_type": "stream",
     "text": [
      "Trang sức,6848,46,1900,595,Ho Chi Minh,22906,17000,96,95,96,13,8,15,14,546\n"
     ]
    },
    {
     "name": "stderr",
     "output_type": "stream",
     "text": [
      "\r",
      "Processing rows:  17%|█▋        | 202/1200 [09:49<49:57,  3.00s/it]"
     ]
    },
    {
     "name": "stdout",
     "output_type": "stream",
     "text": [
      "Trang sức,6587,56,3500,952,Ho Chi Minh,18000,17000,96,95,96,6,9,11,12,914\n"
     ]
    },
    {
     "name": "stderr",
     "output_type": "stream",
     "text": [
      "\r",
      "Processing rows:  17%|█▋        | 203/1200 [09:52<50:08,  3.02s/it]"
     ]
    },
    {
     "name": "stdout",
     "output_type": "stream",
     "text": [
      "Trang sức,9320,59,133,32,Ho Chi Minh,27975,17000,96,95,96,1,0,0,1,30\n"
     ]
    },
    {
     "name": "stderr",
     "output_type": "stream",
     "text": [
      "\r",
      "Processing rows:  17%|█▋        | 204/1200 [09:54<46:45,  2.82s/it]"
     ]
    },
    {
     "name": "stdout",
     "output_type": "stream",
     "text": [
      "Trang sức,44182,53,1100,276,Nước ngoài,93900,17000,97,94,50,2,1,2,2,269\n"
     ]
    },
    {
     "name": "stderr",
     "output_type": "stream",
     "text": [
      "\r",
      "Processing rows:  17%|█▋        | 205/1200 [09:57<45:27,  2.74s/it]"
     ]
    },
    {
     "name": "stdout",
     "output_type": "stream",
     "text": [
      "Trang suc,4850,49,85,21,Nước ngoài,9534,17000,96,100,83,0,0,0,21\n"
     ]
    },
    {
     "name": "stderr",
     "output_type": "stream",
     "text": [
      "\r",
      "Processing rows:  17%|█▋        | 206/1200 [10:00<45:26,  2.74s/it]"
     ]
    },
    {
     "name": "stdout",
     "output_type": "stream",
     "text": [
      "Trang sức,4162,48,1100,302,Ho Chi Minh,8000,Miễn Phí,98,99,94,9,4,2,7,281\n"
     ]
    },
    {
     "name": "stderr",
     "output_type": "stream",
     "text": [
      "\r",
      "Processing rows:  17%|█▋        | 207/1200 [10:03<47:26,  2.87s/it]"
     ]
    },
    {
     "name": "stdout",
     "output_type": "stream",
     "text": [
      "Trang sức,16000,47,1200,239,Ho Chi Minh,34000,17000,93,98,100,7,0,3,9,220\n"
     ]
    },
    {
     "name": "stderr",
     "output_type": "stream",
     "text": [
      "\r",
      "Processing rows:  17%|█▋        | 208/1200 [10:05<44:57,  2.72s/it]"
     ]
    },
    {
     "name": "stdout",
     "output_type": "stream",
     "text": [
      "Trang sức,5000,44,1200,222,Ho Chi Minh,9000,17000,95,100,62,12,4,6,13,187\n"
     ]
    },
    {
     "name": "stderr",
     "output_type": "stream",
     "text": [
      "\r",
      "Processing rows:  17%|█▋        | 209/1200 [10:08<46:08,  2.79s/it]"
     ]
    },
    {
     "name": "stdout",
     "output_type": "stream",
     "text": [
      "Trang sức,11457,40,446,97,Ho Chi Minh,15851,17000,94,97,80,1,2,2,5,87\n"
     ]
    },
    {
     "name": "stderr",
     "output_type": "stream",
     "text": [
      "\r",
      "Processing rows:  18%|█▊        | 210/1200 [10:10<43:31,  2.64s/it]"
     ]
    },
    {
     "name": "stdout",
     "output_type": "stream",
     "text": [
      "Trang sức,20000,47,148,64,Ho Chi Minh,30000,17000,95,100,62,7,2,0,1,54\n"
     ]
    },
    {
     "name": "stderr",
     "output_type": "stream",
     "text": [
      "\r",
      "Processing rows:  18%|█▊        | 211/1200 [10:12<40:55,  2.48s/it]"
     ]
    },
    {
     "name": "stdout",
     "output_type": "stream",
     "text": [
      "Trang sức,4625,54,73,40,Ho Chi Minh,10000,Miễn Phí,98,99,94,0,0,0,40\n"
     ]
    },
    {
     "name": "stderr",
     "output_type": "stream",
     "text": [
      "\r",
      "Processing rows:  18%|█▊        | 212/1200 [10:14<38:44,  2.35s/it]"
     ]
    },
    {
     "name": "stdout",
     "output_type": "stream",
     "text": [
      "Trang sức,25456,31,212,49,Ho Chi Minh,89000,16500,97,99,86,1,0,0,0,48\n"
     ]
    },
    {
     "name": "stderr",
     "output_type": "stream",
     "text": [
      "\r",
      "Processing rows:  18%|█▊        | 213/1200 [10:18<44:05,  2.68s/it]"
     ]
    },
    {
     "name": "stdout",
     "output_type": "stream",
     "text": [
      "Trang sức,12487,71,84,41,Ho Chi Minh,43000,17000,97,99,100,0,0,0,1,40\n"
     ]
    },
    {
     "name": "stderr",
     "output_type": "stream",
     "text": [
      "\r",
      "Processing rows:  18%|█▊        | 214/1200 [10:21<43:44,  2.66s/it]"
     ]
    },
    {
     "name": "stdout",
     "output_type": "stream",
     "text": [
      "Trang sức,4300,46,307,54,Ho Chi Minh,30000,17000,94,100,100,0,1,1,1,51\n"
     ]
    },
    {
     "name": "stderr",
     "output_type": "stream",
     "text": [
      "\r",
      "Processing rows:  18%|█▊        | 215/1200 [10:23<44:43,  2.72s/it]"
     ]
    },
    {
     "name": "stdout",
     "output_type": "stream",
     "text": [
      "Trang sức,16000,43,1100,176,Nước ngoài,28000,17000,95,100,None,9,7,10,10,140\n"
     ]
    },
    {
     "name": "stderr",
     "output_type": "stream",
     "text": [
      "\r",
      "Processing rows:  18%|█▊        | 216/1200 [10:26<44:11,  2.69s/it]"
     ]
    },
    {
     "name": "stdout",
     "output_type": "stream",
     "text": [
      "Trang sức,54470,21,64,17,Ho Chi Minh,69000,16500,97,99,86,0,0,0,17\n"
     ]
    },
    {
     "name": "stderr",
     "output_type": "stream",
     "text": [
      "\r",
      "Processing rows:  18%|█▊        | 217/1200 [10:29<47:43,  2.91s/it]"
     ]
    },
    {
     "name": "stdout",
     "output_type": "stream",
     "text": [
      "Trang sức,13840,51,25,3,Ho Chi Minh,28000,17000,96,100,nan,0,0,0,3\n"
     ]
    },
    {
     "name": "stderr",
     "output_type": "stream",
     "text": [
      "\r",
      "Processing rows:  18%|█▊        | 218/1200 [10:32<45:56,  2.81s/it]"
     ]
    },
    {
     "name": "stdout",
     "output_type": "stream",
     "text": [
      "Trang sức,10174,52,5400,838,Ho Chi Minh,21000,17000,95,100,100,35,18,28,37,720\n"
     ]
    },
    {
     "name": "stderr",
     "output_type": "stream",
     "text": [
      "\r",
      "Processing rows:  18%|█▊        | 219/1200 [10:34<44:04,  2.70s/it]"
     ]
    },
    {
     "name": "stdout",
     "output_type": "stream",
     "text": [
      "Trang sức,22750,42,659,175,Ho Chi Minh,39000,16500,97,99,86,1,1,2,2,170\n"
     ]
    },
    {
     "name": "stderr",
     "output_type": "stream",
     "text": [
      "\r",
      "Processing rows:  18%|█▊        | 220/1200 [10:37<43:57,  2.69s/it]"
     ]
    },
    {
     "name": "stdout",
     "output_type": "stream",
     "text": [
      "Trang sức,53306,23,39,17,Ho Chi Minh,69000,16500,97,99,86,0,1,1,1,14\n"
     ]
    },
    {
     "name": "stderr",
     "output_type": "stream",
     "text": [
      "\r",
      "Processing rows:  18%|█▊        | 221/1200 [10:41<49:22,  3.03s/it]"
     ]
    },
    {
     "name": "stdout",
     "output_type": "stream",
     "text": [
      "Trang sức,40873,50,547,130,Ho Chi Minh,81746,17000,95,100,None,1,0,3,1,125\n"
     ]
    },
    {
     "name": "stderr",
     "output_type": "stream",
     "text": [
      "\r",
      "Processing rows:  18%|█▊        | 222/1200 [10:44<49:05,  3.01s/it]"
     ]
    },
    {
     "name": "stdout",
     "output_type": "stream",
     "text": [
      "Trang sức,20397,53,2300,451,Nước ngoài,43200,17000,94,97,100,5,6,10,15,415\n"
     ]
    },
    {
     "name": "stderr",
     "output_type": "stream",
     "text": [
      "\r",
      "Processing rows:  19%|█▊        | 223/1200 [10:47<48:07,  2.96s/it]"
     ]
    },
    {
     "name": "stdout",
     "output_type": "stream",
     "text": [
      "Trang sức,7458,58,2000,406,Ho Chi Minh,17600,16500,97,88,100,6,1,9,17,373\n"
     ]
    },
    {
     "name": "stderr",
     "output_type": "stream",
     "text": [
      "\r",
      "Processing rows:  19%|█▊        | 224/1200 [10:49<46:59,  2.89s/it]"
     ]
    },
    {
     "name": "stdout",
     "output_type": "stream",
     "text": [
      "Trang sức,17000,37,172,45,Nước ngoài,50000,Miễn Phí,96,99,100,0,0,2,1,42\n"
     ]
    },
    {
     "name": "stderr",
     "output_type": "stream",
     "text": [
      "\r",
      "Processing rows:  19%|█▉        | 225/1200 [10:53<48:38,  2.99s/it]"
     ]
    },
    {
     "name": "stdout",
     "output_type": "stream",
     "text": [
      "Trang sức,6660,53,65,16,Ho Chi Minh,14300,17000,97,98,100,0,0,0,1,15\n"
     ]
    },
    {
     "name": "stderr",
     "output_type": "stream",
     "text": [
      "\r",
      "Processing rows:  19%|█▉        | 226/1200 [10:55<46:34,  2.87s/it]"
     ]
    },
    {
     "name": "stdout",
     "output_type": "stream",
     "text": [
      "Trang sức,26708,50,1300,363,Ho Chi Minh,53416,17000,95,100,None,7,3,1,22,330\n"
     ]
    },
    {
     "name": "stderr",
     "output_type": "stream",
     "text": [
      "\r",
      "Processing rows:  19%|█▉        | 227/1200 [10:58<44:38,  2.75s/it]"
     ]
    },
    {
     "name": "stdout",
     "output_type": "stream",
     "text": [
      "Trang sức,53307,52,250,48,Ho Chi Minh,112000,16500,87,99,100,2,1,1,1,43\n"
     ]
    },
    {
     "name": "stderr",
     "output_type": "stream",
     "text": [
      "\r",
      "Processing rows:  19%|█▉        | 228/1200 [11:00<43:16,  2.67s/it]"
     ]
    },
    {
     "name": "stdout",
     "output_type": "stream",
     "text": [
      "Trang sức,39000,34,nan,2,Ho Chi Minh,59000,16500,97,99,86,0,0,0,2\n"
     ]
    },
    {
     "name": "stderr",
     "output_type": "stream",
     "text": [
      "\r",
      "Processing rows:  19%|█▉        | 229/1200 [11:03<43:55,  2.71s/it]"
     ]
    },
    {
     "name": "stdout",
     "output_type": "stream",
     "text": [
      "Trang sức,9035,47,1000,220,Ho Chi Minh,17000,17000,97,100,nan,2,2,4,7,206\n"
     ]
    },
    {
     "name": "stderr",
     "output_type": "stream",
     "text": [
      "\r",
      "Processing rows:  19%|█▉        | 230/1200 [11:06<43:13,  2.67s/it]"
     ]
    },
    {
     "name": "stdout",
     "output_type": "stream",
     "text": [
      "Trang sức,20780,54,189,62,Ho Chi Minh,45000,17000,96,97,100,1,0,1,5,55\n"
     ]
    },
    {
     "name": "stderr",
     "output_type": "stream",
     "text": [
      "\r",
      "Processing rows:  19%|█▉        | 231/1200 [11:09<48:38,  3.01s/it]"
     ]
    },
    {
     "name": "stdout",
     "output_type": "stream",
     "text": [
      "Trang sức,41631,40,11,6,Ho Chi Minh,69000,16500,97,99,86,0,0,0,6\n"
     ]
    },
    {
     "name": "stderr",
     "output_type": "stream",
     "text": [
      "\r",
      "Processing rows:  19%|█▉        | 232/1200 [11:13<49:43,  3.08s/it]"
     ]
    },
    {
     "name": "stdout",
     "output_type": "stream",
     "text": [
      "Trang sức,20781,53,107,35,Nước ngoài,44000,17000,96,89,100,1,0,2,2,30\n"
     ]
    },
    {
     "name": "stderr",
     "output_type": "stream",
     "text": [
      "\r",
      "Processing rows:  19%|█▉        | 233/1200 [11:15<45:45,  2.84s/it]"
     ]
    },
    {
     "name": "stdout",
     "output_type": "stream",
     "text": [
      "Trang sức,33800,50,376,112,Ho Chi Minh,67400,17000,97,99,100,4,0,4,3,101\n"
     ]
    },
    {
     "name": "stderr",
     "output_type": "stream",
     "text": [
      "\r",
      "Processing rows:  20%|█▉        | 234/1200 [11:18<45:01,  2.80s/it]"
     ]
    },
    {
     "name": "stdout",
     "output_type": "stream",
     "text": [
      "Trang sức,1000,None,20,2,Ha Noi,32700,None,100,None,None,0,0,0,2\n"
     ]
    },
    {
     "name": "stderr",
     "output_type": "stream",
     "text": [
      "\r",
      "Processing rows:  20%|█▉        | 235/1200 [11:21<45:44,  2.84s/it]"
     ]
    },
    {
     "name": "stdout",
     "output_type": "stream",
     "text": [
      "Trang sức,35000,36,1600,377,Nước ngoài,100000,17000,98,100,100,9,0,3,11,355\n"
     ]
    },
    {
     "name": "stderr",
     "output_type": "stream",
     "text": [
      "\r",
      "Processing rows:  20%|█▉        | 236/1200 [11:23<44:48,  2.79s/it]"
     ]
    },
    {
     "name": "stdout",
     "output_type": "stream",
     "text": [
      "Trang sức,52765,56,1800,326,Ho Chi Minh,120000,16500,95,97,100,5,1,3,6,312\n"
     ]
    },
    {
     "name": "stderr",
     "output_type": "stream",
     "text": [
      "\r",
      "Processing rows:  20%|█▉        | 237/1200 [11:26<44:10,  2.75s/it]"
     ]
    },
    {
     "name": "stdout",
     "output_type": "stream",
     "text": [
      "Trang sức,600000,None,None,None,Ha Noi,None,Miễn Phí,100,None,None,0,0,0,0,0\n"
     ]
    },
    {
     "name": "stderr",
     "output_type": "stream",
     "text": [
      "\r",
      "Processing rows:  20%|█▉        | 238/1200 [11:29<44:26,  2.77s/it]"
     ]
    },
    {
     "name": "stdout",
     "output_type": "stream",
     "text": [
      "Trang sức,29000,41,5300,851,Ha Noi,49000,32700,99,100,None,4,1,5,16,825\n"
     ]
    },
    {
     "name": "stderr",
     "output_type": "stream",
     "text": [
      "\r",
      "Processing rows:  20%|█▉        | 239/1200 [11:32<45:12,  2.82s/it]"
     ]
    },
    {
     "name": "stdout",
     "output_type": "stream",
     "text": [
      "Trang sức,42000,30,7,1,Nước ngoài,60000,17000,97,100,None,0,0,0,0,1\n"
     ]
    },
    {
     "name": "stderr",
     "output_type": "stream",
     "text": [
      "\r",
      "Processing rows:  20%|██        | 240/1200 [11:34<43:50,  2.74s/it]"
     ]
    },
    {
     "name": "stdout",
     "output_type": "stream",
     "text": [
      "Trang sức,70000,30,43,13,Ho Chi Minh,100000,17000,98,100,100,1,0,0,0,12\n"
     ]
    },
    {
     "name": "stderr",
     "output_type": "stream",
     "text": [
      "\r",
      "Processing rows:  20%|██        | 241/1200 [11:37<45:58,  2.88s/it]"
     ]
    },
    {
     "name": "stdout",
     "output_type": "stream",
     "text": [
      "Trang sức,31844,64,14,4,Ho Chi Minh,199000,16500,98,100,nan,1,0,0,0,3\n"
     ]
    },
    {
     "name": "stderr",
     "output_type": "stream",
     "text": [
      "\r",
      "Processing rows:  20%|██        | 242/1200 [11:40<45:19,  2.84s/it]"
     ]
    },
    {
     "name": "stdout",
     "output_type": "stream",
     "text": [
      "Trang sức,4500,49,1800,217,Nước ngoài,19000,17000,95,94,100,10,3,2,3,200\n"
     ]
    },
    {
     "name": "stderr",
     "output_type": "stream",
     "text": [
      "\r",
      "Processing rows:  20%|██        | 243/1200 [11:43<47:18,  2.97s/it]"
     ]
    },
    {
     "name": "stdout",
     "output_type": "stream",
     "text": [
      "Trang sức,51035,15,255,101,Ho Chi Minh,49000,17000,95,99,100,1,1,2,3,95\n"
     ]
    },
    {
     "name": "stderr",
     "output_type": "stream",
     "text": [
      "\r",
      "Processing rows:  20%|██        | 244/1200 [11:47<50:12,  3.15s/it]"
     ]
    },
    {
     "name": "stdout",
     "output_type": "stream",
     "text": [
      "Trang sức,5446,52,6700,1649,Ho Chi Minh,12900,17000,96,95,96,39,14,26,36,1534\n"
     ]
    },
    {
     "name": "stderr",
     "output_type": "stream",
     "text": [
      "\r",
      "Processing rows:  20%|██        | 245/1200 [11:50<47:50,  3.01s/it]"
     ]
    },
    {
     "name": "stdout",
     "output_type": "stream",
     "text": [
      "Trang suc,4717,46,21,4,Nước ngoài,8800,17000,96,98,100,2,0,0,0,2\n"
     ]
    },
    {
     "name": "stderr",
     "output_type": "stream",
     "text": [
      "\r",
      "Processing rows:  20%|██        | 246/1200 [11:52<46:06,  2.90s/it]"
     ]
    },
    {
     "name": "stdout",
     "output_type": "stream",
     "text": [
      "Trang suc,4000,43,109,13,Nước ngoài,7000,17000,95,100,62,0,1,2,0,10\n"
     ]
    },
    {
     "name": "stderr",
     "output_type": "stream",
     "text": [
      "\r",
      "Processing rows:  21%|██        | 247/1200 [11:56<48:00,  3.02s/it]"
     ]
    },
    {
     "name": "stdout",
     "output_type": "stream",
     "text": [
      "Trang sức,8509,48,76,29,Ho Chi Minh,16500,17000,96,100,83,0,1,0,0,28\n"
     ]
    },
    {
     "name": "stderr",
     "output_type": "stream",
     "text": [
      "\r",
      "Processing rows:  21%|██        | 248/1200 [11:59<48:39,  3.07s/it]"
     ]
    },
    {
     "name": "stdout",
     "output_type": "stream",
     "text": [
      "Trang sức,12024,43,905,232,Ho Chi Minh,44000,17000,94,100,100,4,1,4,3,221\n"
     ]
    },
    {
     "name": "stderr",
     "output_type": "stream",
     "text": [
      "\r",
      "Processing rows:  21%|██        | 249/1200 [12:02<50:52,  3.21s/it]"
     ]
    },
    {
     "name": "stdout",
     "output_type": "stream",
     "text": [
      "Trang sức,9000,44,2300,374,Ho Chi Minh,16000,Miễn Phí,96,99,100,12,2,4,13,343\n"
     ]
    },
    {
     "name": "stderr",
     "output_type": "stream",
     "text": [
      "\r",
      "Processing rows:  21%|██        | 250/1200 [12:06<50:56,  3.22s/it]"
     ]
    },
    {
     "name": "stdout",
     "output_type": "stream",
     "text": [
      "Trang sức,12000,47,None,3,Nước ngoài,22500,17000,94,96,100,0,0,0,3\n"
     ]
    },
    {
     "name": "stderr",
     "output_type": "stream",
     "text": [
      "\r",
      "Processing rows:  21%|██        | 251/1200 [12:09<50:20,  3.18s/it]"
     ]
    },
    {
     "name": "stdout",
     "output_type": "stream",
     "text": [
      "Trang sức,64961,55,16,15,Nước ngoài,143500,17000,97,100,100,0,1,0,0,14\n"
     ]
    },
    {
     "name": "stderr",
     "output_type": "stream",
     "text": [
      "\r",
      "Processing rows:  21%|██        | 252/1200 [12:12<52:13,  3.31s/it]"
     ]
    },
    {
     "name": "stdout",
     "output_type": "stream",
     "text": [
      "Trang sức,6000,40,3800,456,Ho Chi Minh,10000,17000,94,100,100,9,4,15,24,405\n"
     ]
    },
    {
     "name": "stderr",
     "output_type": "stream",
     "text": [
      "\r",
      "Processing rows:  21%|██        | 253/1200 [12:15<51:18,  3.25s/it]"
     ]
    },
    {
     "name": "stdout",
     "output_type": "stream",
     "text": [
      "Trang sức,29000,71,3600,753,Ho Chi Minh,99000,16500,98,100,90,4,1,3,14,731\n"
     ]
    },
    {
     "name": "stderr",
     "output_type": "stream",
     "text": [
      "\r",
      "Processing rows:  21%|██        | 254/1200 [12:18<50:14,  3.19s/it]"
     ]
    },
    {
     "name": "stdout",
     "output_type": "stream",
     "text": [
      "Trang sức,9000,59,5600,735,Ho Chi Minh,22000,17000,96,99,92,7,5,9,27,687\n"
     ]
    },
    {
     "name": "stderr",
     "output_type": "stream",
     "text": [
      "\r",
      "Processing rows:  21%|██▏       | 255/1200 [12:21<48:51,  3.10s/it]"
     ]
    },
    {
     "name": "stdout",
     "output_type": "stream",
     "text": [
      "Trang sức,44000,51,157,41,Ho Chi Minh,90000,16500,98,100,100,1,0,0,0,40\n"
     ]
    },
    {
     "name": "stderr",
     "output_type": "stream",
     "text": [
      "\r",
      "Processing rows:  21%|██▏       | 256/1200 [12:24<48:41,  3.09s/it]"
     ]
    },
    {
     "name": "stdout",
     "output_type": "stream",
     "text": [
      "Trang sức,10000,40,32,17,Ho Chi Minh,16667,17000,92,100,nan,2,0,0,3,12\n"
     ]
    },
    {
     "name": "stderr",
     "output_type": "stream",
     "text": [
      "\r",
      "Processing rows:  21%|██▏       | 257/1200 [12:28<49:54,  3.18s/it]"
     ]
    },
    {
     "name": "stdout",
     "output_type": "stream",
     "text": [
      "Trang sức,6400,47,69,17,Ho Chi Minh,12000,17000,94,100,100,0,0,1,0,17\n"
     ]
    },
    {
     "name": "stderr",
     "output_type": "stream",
     "text": [
      "\r",
      "Processing rows:  22%|██▏       | 258/1200 [12:31<48:11,  3.07s/it]"
     ]
    },
    {
     "name": "stdout",
     "output_type": "stream",
     "text": [
      "Trang sức,14300,43,178,41,Ho Chi Minh,25000,17000,94,94,100,2,0,0,3,36\n"
     ]
    },
    {
     "name": "stderr",
     "output_type": "stream",
     "text": [
      "\r",
      "Processing rows:  22%|██▏       | 259/1200 [12:34<49:28,  3.16s/it]"
     ]
    },
    {
     "name": "stdout",
     "output_type": "stream",
     "text": [
      "Trang sức,11474,63,66,20,Ho Chi Minh,30700,17000,96,98,100,0,0,0,3,17\n"
     ]
    },
    {
     "name": "stderr",
     "output_type": "stream",
     "text": [
      "\r",
      "Processing rows:  22%|██▏       | 260/1200 [12:38<52:13,  3.33s/it]"
     ]
    },
    {
     "name": "stdout",
     "output_type": "stream",
     "text": [
      "Trang sức,8253,62,127,37,Ho Chi Minh,21500,17000,97,100,100,2,1,0,0,34\n"
     ]
    },
    {
     "name": "stderr",
     "output_type": "stream",
     "text": [
      "\r",
      "Processing rows:  22%|██▏       | 261/1200 [12:41<49:48,  3.18s/it]"
     ]
    },
    {
     "name": "stdout",
     "output_type": "stream",
     "text": [
      "Trang sức,9005,40,10000,1550,Ho Chi Minh,15000,16500,97,100,nan,41,10,20,37,1442\n"
     ]
    },
    {
     "name": "stderr",
     "output_type": "stream",
     "text": [
      "\r",
      "Processing rows:  22%|██▏       | 262/1200 [12:43<47:26,  3.03s/it]"
     ]
    },
    {
     "name": "stdout",
     "output_type": "stream",
     "text": [
      "Trang sức,7662,55,156,43,Ho Chi Minh,17000,17000,95,99,100,1,1,0,1,40\n"
     ]
    },
    {
     "name": "stderr",
     "output_type": "stream",
     "text": [
      "\r",
      "Processing rows:  22%|██▏       | 263/1200 [12:46<45:53,  2.94s/it]"
     ]
    },
    {
     "name": "stdout",
     "output_type": "stream",
     "text": [
      "Trang sức,53000,48,870,290,Ho Chi Minh,102000,16500,99,100,100,1,0,2,5\n"
     ]
    },
    {
     "name": "stderr",
     "output_type": "stream",
     "text": [
      "\r",
      "Processing rows:  22%|██▏       | 264/1200 [12:49<44:29,  2.85s/it]"
     ]
    },
    {
     "name": "stdout",
     "output_type": "stream",
     "text": [
      "Trang sức,73687,77,199,45,Ho Chi Minh,495862,17000,95,100,None,0,0,0,1,44\n"
     ]
    },
    {
     "name": "stderr",
     "output_type": "stream",
     "text": [
      "\r",
      "Processing rows:  22%|██▏       | 265/1200 [12:51<42:40,  2.74s/it]"
     ]
    },
    {
     "name": "stdout",
     "output_type": "stream",
     "text": [
      "Trang sức,68335,43,217,48,Ho Chi Minh,120000,16500,95,97,100,0,1,0,2,45\n"
     ]
    },
    {
     "name": "stderr",
     "output_type": "stream",
     "text": [
      "\r",
      "Processing rows:  22%|██▏       | 266/1200 [12:54<42:47,  2.75s/it]"
     ]
    },
    {
     "name": "stdout",
     "output_type": "stream",
     "text": [
      "Trang sức,23000,44,364,75,Nước ngoài,41000,17000,95,100,None,3,0,1,3,68\n"
     ]
    },
    {
     "name": "stderr",
     "output_type": "stream",
     "text": [
      "\r",
      "Processing rows:  22%|██▏       | 267/1200 [12:57<43:11,  2.78s/it]"
     ]
    },
    {
     "name": "stdout",
     "output_type": "stream",
     "text": [
      "Trang sức,20780,55,498,115,Ho Chi Minh,46000,16500,92,99,100,5,3,7,9,92\n"
     ]
    },
    {
     "name": "stderr",
     "output_type": "stream",
     "text": [
      "\r",
      "Processing rows:  22%|██▏       | 268/1200 [12:59<40:26,  2.60s/it]"
     ]
    },
    {
     "name": "stdout",
     "output_type": "stream",
     "text": [
      "Trang sức,27500,None,1400,182,Ho Chi Minh,28000,17000,91,100,None,5,6,10,18,144\n"
     ]
    },
    {
     "name": "stderr",
     "output_type": "stream",
     "text": [
      "\r",
      "Processing rows:  22%|██▏       | 269/1200 [13:02<42:05,  2.71s/it]"
     ]
    },
    {
     "name": "stdout",
     "output_type": "stream",
     "text": [
      "Trang sức,60122,81,1500,352,Ho Chi Minh,359000,17000,96,100,90,9,2,8,12,321\n"
     ]
    },
    {
     "name": "stderr",
     "output_type": "stream",
     "text": [
      "\r",
      "Processing rows:  22%|██▎       | 270/1200 [13:05<45:55,  2.96s/it]"
     ]
    },
    {
     "name": "stdout",
     "output_type": "stream",
     "text": [
      "Trang sức,11000,31,1100,59,Nước ngoài,16000,Miễn Phí,96,99,100,2,2,5,4,46\n"
     ]
    },
    {
     "name": "stderr",
     "output_type": "stream",
     "text": [
      "\r",
      "Processing rows:  23%|██▎       | 271/1200 [13:09<47:00,  3.04s/it]"
     ]
    },
    {
     "name": "stdout",
     "output_type": "stream",
     "text": [
      "Trang sức,14000,40,152,53,Ho Chi Minh,23333,17000,92,100,nan,2,4,5,1,42\n"
     ]
    },
    {
     "name": "stderr",
     "output_type": "stream",
     "text": [
      "\r",
      "Processing rows:  23%|██▎       | 272/1200 [13:12<47:55,  3.10s/it]"
     ]
    },
    {
     "name": "stdout",
     "output_type": "stream",
     "text": [
      "Trang sức,12000,40,56,16,Ho Chi Minh,32000,17000,95,99,100,1,0,1,0,14\n"
     ]
    },
    {
     "name": "stderr",
     "output_type": "stream",
     "text": [
      "\r",
      "Processing rows:  23%|██▎       | 273/1200 [13:14<45:17,  2.93s/it]"
     ]
    },
    {
     "name": "stdout",
     "output_type": "stream",
     "text": [
      "Trang sức,35000,None,21,2,Ho Chi Minh,None,16500,97,100,100,0,0,0,2\n"
     ]
    },
    {
     "name": "stderr",
     "output_type": "stream",
     "text": [
      "\r",
      "Processing rows:  23%|██▎       | 274/1200 [13:17<45:41,  2.96s/it]"
     ]
    },
    {
     "name": "stdout",
     "output_type": "stream",
     "text": [
      "Trang sức,62341,55,261,56,Ho Chi Minh,140000,16500,94,100,100,3,0,1,1,51\n"
     ]
    },
    {
     "name": "stderr",
     "output_type": "stream",
     "text": [
      "\r",
      "Processing rows:  23%|██▎       | 275/1200 [13:20<44:26,  2.88s/it]"
     ]
    },
    {
     "name": "stdout",
     "output_type": "stream",
     "text": [
      "Trang sức,18000,45,18,5,Nước ngoài,48000,17000,95,100,62,0,0,0,5\n"
     ]
    },
    {
     "name": "stderr",
     "output_type": "stream",
     "text": [
      "\r",
      "Processing rows:  23%|██▎       | 276/1200 [13:22<41:25,  2.69s/it]"
     ]
    },
    {
     "name": "stdout",
     "output_type": "stream",
     "text": [
      "Trang sức,53307,52,28,10,Ho Chi Minh,112000,16500,95,100,100,1,0,0,1,8\n"
     ]
    },
    {
     "name": "stderr",
     "output_type": "stream",
     "text": [
      "\r",
      "Processing rows:  23%|██▎       | 277/1200 [13:25<42:00,  2.73s/it]"
     ]
    },
    {
     "name": "stdout",
     "output_type": "stream",
     "text": [
      "Trang sức,32682,53,None,1,Ho Chi Minh,69000,16500,97,99,86,0,0,0,1\n"
     ]
    },
    {
     "name": "stderr",
     "output_type": "stream",
     "text": [
      "\r",
      "Processing rows:  23%|██▎       | 278/1200 [13:28<43:50,  2.85s/it]"
     ]
    },
    {
     "name": "stdout",
     "output_type": "stream",
     "text": [
      "Trang sức,3771,16,None,None,Ho Chi Minh,4500,16500,100,100,None,0,0,0,0,0\n"
     ]
    },
    {
     "name": "stderr",
     "output_type": "stream",
     "text": [
      "\r",
      "Processing rows:  23%|██▎       | 279/1200 [13:32<47:11,  3.07s/it]"
     ]
    },
    {
     "name": "stdout",
     "output_type": "stream",
     "text": [
      "Trang sức,8000,47,18,2,Nước ngoài,15000,17000,94,100,100,0,1,0,0,1\n"
     ]
    },
    {
     "name": "stderr",
     "output_type": "stream",
     "text": [
      "\r",
      "Processing rows:  23%|██▎       | 280/1200 [13:35<47:04,  3.07s/it]"
     ]
    },
    {
     "name": "stdout",
     "output_type": "stream",
     "text": [
      "Trang sức,34225,53,147,23,Nước ngoài,73000,17000,95,95,100,1,1,1,1,20\n"
     ]
    },
    {
     "name": "stderr",
     "output_type": "stream",
     "text": [
      "\r",
      "Processing rows:  23%|██▎       | 281/1200 [13:38<46:45,  3.05s/it]"
     ]
    },
    {
     "name": "stdout",
     "output_type": "stream",
     "text": [
      "Trang sức,6146,50,237,61,Ho Chi Minh,15833,17000,95,99,100,2,0,1,2,56\n"
     ]
    },
    {
     "name": "stderr",
     "output_type": "stream",
     "text": [
      "\r",
      "Processing rows:  24%|██▎       | 282/1200 [13:41<44:39,  2.92s/it]"
     ]
    },
    {
     "name": "stdout",
     "output_type": "stream",
     "text": [
      "Trang sức,8925,45,243,68,Ho Chi Minh,23201,17000,95,99,100,5,0,0,3,60\n"
     ]
    },
    {
     "name": "stderr",
     "output_type": "stream",
     "text": [
      "\r",
      "Processing rows:  24%|██▎       | 283/1200 [13:44<45:36,  2.98s/it]"
     ]
    },
    {
     "name": "stdout",
     "output_type": "stream",
     "text": [
      "Trang sức,10099,45,291,63,Ho Chi Minh,20350,17000,96,100,83,5,0,1,3,54\n"
     ]
    },
    {
     "name": "stderr",
     "output_type": "stream",
     "text": [
      "\r",
      "Processing rows:  24%|██▎       | 284/1200 [13:46<42:54,  2.81s/it]"
     ]
    },
    {
     "name": "stdout",
     "output_type": "stream",
     "text": [
      "Trang sức,7233,47,149,53,Ho Chi Minh,30932,17000,95,99,100,2,1,1,1,48\n"
     ]
    },
    {
     "name": "stderr",
     "output_type": "stream",
     "text": [
      "\r",
      "Processing rows:  24%|██▍       | 285/1200 [13:49<43:07,  2.83s/it]"
     ]
    },
    {
     "name": "stdout",
     "output_type": "stream",
     "text": [
      "Trang sức,4325,71,1900,381,Nước ngoài,15000,17000,96,99,94,1,1,7,7,366\n"
     ]
    },
    {
     "name": "stderr",
     "output_type": "stream",
     "text": [
      "\r",
      "Processing rows:  24%|██▍       | 286/1200 [13:51<39:31,  2.59s/it]"
     ]
    },
    {
     "name": "stdout",
     "output_type": "stream",
     "text": [
      "Trang sức,7073,35,8,8,Nước ngoài,13992,17000,93,100,100,0,0,0,8\n"
     ]
    },
    {
     "name": "stderr",
     "output_type": "stream",
     "text": [
      "\r",
      "Processing rows:  24%|██▍       | 287/1200 [13:54<40:20,  2.65s/it]"
     ]
    },
    {
     "name": "stdout",
     "output_type": "stream",
     "text": [
      "Trang sức,3586,53,395,80,Ho Chi Minh,7700,17000,98,99,100,0,2,2,3,73\n"
     ]
    },
    {
     "name": "stderr",
     "output_type": "stream",
     "text": [
      "\r",
      "Processing rows:  24%|██▍       | 288/1200 [13:57<42:40,  2.81s/it]"
     ]
    },
    {
     "name": "stdout",
     "output_type": "stream",
     "text": [
      "Trang sức,6750,48,2900,526,Ho Chi Minh,13000,17000,96,100,100,7,6,10,37,466\n"
     ]
    },
    {
     "name": "stderr",
     "output_type": "stream",
     "text": [
      "\r",
      "Processing rows:  24%|██▍       | 289/1200 [13:59<40:31,  2.67s/it]"
     ]
    },
    {
     "name": "stdout",
     "output_type": "stream",
     "text": [
      "Trang suc,5536,72,79,24,Nước ngoài,37000,17000,95,99,100,1,0,0,0,24\n"
     ]
    },
    {
     "name": "stderr",
     "output_type": "stream",
     "text": [
      "\r",
      "Processing rows:  24%|██▍       | 290/1200 [14:03<45:24,  2.99s/it]"
     ]
    },
    {
     "name": "stdout",
     "output_type": "stream",
     "text": [
      "Trang sức,4850,52,2800,45,Ho Chi Minh,32000,17000,96,100,100,1,1,1,0,42\n"
     ]
    },
    {
     "name": "stderr",
     "output_type": "stream",
     "text": [
      "\r",
      "Processing rows:  24%|██▍       | 291/1200 [14:06<44:43,  2.95s/it]"
     ]
    },
    {
     "name": "stdout",
     "output_type": "stream",
     "text": [
      "Trang sức,17847,42,70,29,Ho Chi Minh,13000,17000,95,100,100,0,0,0,29\n"
     ]
    },
    {
     "name": "stderr",
     "output_type": "stream",
     "text": [
      "\r",
      "Processing rows:  24%|██▍       | 292/1200 [14:09<45:21,  3.00s/it]"
     ]
    },
    {
     "name": "stdout",
     "output_type": "stream",
     "text": [
      "Trang sức,8050,55,197,52,Ho Chi Minh,53000,17000,95,99,100,1,1,2,1,47\n"
     ]
    },
    {
     "name": "stderr",
     "output_type": "stream",
     "text": [
      "\r",
      "Processing rows:  24%|██▍       | 293/1200 [14:12<46:27,  3.07s/it]"
     ]
    },
    {
     "name": "stdout",
     "output_type": "stream",
     "text": [
      "Trang suc,79000,None,None,2,Nước ngoài,None,17000,40,100,None,0,0,0,0,2\n"
     ]
    },
    {
     "name": "stderr",
     "output_type": "stream",
     "text": [
      "\r",
      "Processing rows:  24%|██▍       | 294/1200 [14:15<44:42,  2.96s/it]"
     ]
    },
    {
     "name": "stdout",
     "output_type": "stream",
     "text": [
      "Trang sức,8000,38,43,21,Ho Chi Minh,24000,17000,95,100,62,0,0,2,0,19\n"
     ]
    },
    {
     "name": "stderr",
     "output_type": "stream",
     "text": [
      "\r",
      "Processing rows:  25%|██▍       | 295/1200 [14:18<43:49,  2.91s/it]"
     ]
    },
    {
     "name": "stdout",
     "output_type": "stream",
     "text": [
      "Trang sức,8040,93,10000,1758,Ho Chi Minh,109000,16500,97,100,100,53,11,30,69,1595\n"
     ]
    },
    {
     "name": "stderr",
     "output_type": "stream",
     "text": [
      "\r",
      "Processing rows:  25%|██▍       | 296/1200 [14:21<43:56,  2.92s/it]"
     ]
    },
    {
     "name": "stdout",
     "output_type": "stream",
     "text": [
      "Trang sức,16700,50,68,23,Nước ngoài,33300,Miễn phí,97,99,100,1,0,0,4,19\n"
     ]
    },
    {
     "name": "stderr",
     "output_type": "stream",
     "text": [
      "\r",
      "Processing rows:  25%|██▍       | 297/1200 [14:24<45:31,  3.03s/it]"
     ]
    },
    {
     "name": "stdout",
     "output_type": "stream",
     "text": [
      "Trang sức,14706,54,117,23,Nước ngoài,31700,17000,94,97,100,2,0,1,1,19\n"
     ]
    },
    {
     "name": "stderr",
     "output_type": "stream",
     "text": [
      "\r",
      "Processing rows:  25%|██▍       | 298/1200 [14:27<46:29,  3.09s/it]"
     ]
    },
    {
     "name": "stdout",
     "output_type": "stream",
     "text": [
      "Trang sức,31712,19,567,197,Ho Chi Minh,39000,16500,97,99,86,3,1,3,0,190\n"
     ]
    },
    {
     "name": "stderr",
     "output_type": "stream",
     "text": [
      "\r",
      "Processing rows:  25%|██▍       | 299/1200 [14:30<45:40,  3.04s/it]"
     ]
    },
    {
     "name": "stdout",
     "output_type": "stream",
     "text": [
      "Trang sức,5180,54,165,52,Ho Chi Minh,11300,17000,97,98,100,2,1,2,1,46\n"
     ]
    },
    {
     "name": "stderr",
     "output_type": "stream",
     "text": [
      "\r",
      "Processing rows:  25%|██▌       | 300/1200 [14:33<42:36,  2.84s/it]"
     ]
    },
    {
     "name": "stdout",
     "output_type": "stream",
     "text": [
      "Trang sức,13900,27,2800,365,Ho Chi Minh,39000,16500,97,99,86,4,4,2,7,348\n"
     ]
    },
    {
     "name": "stderr",
     "output_type": "stream",
     "text": [
      "\r",
      "Processing rows:  25%|██▌       | 301/1200 [14:36<42:54,  2.86s/it]"
     ]
    },
    {
     "name": "stdout",
     "output_type": "stream",
     "text": [
      "Trang sức,24220,53,472,108,Nước ngoài,47000,17000,95,99,100,2,0,2,2,102\n"
     ]
    },
    {
     "name": "stderr",
     "output_type": "stream",
     "text": [
      "\r",
      "Processing rows:  25%|██▌       | 302/1200 [14:39<43:43,  2.92s/it]"
     ]
    },
    {
     "name": "stdout",
     "output_type": "stream",
     "text": [
      "Trang sức,5851,58,41,19,Nước ngoài,14000,17000,95,99,100,1,2,0,0,16\n"
     ]
    },
    {
     "name": "stderr",
     "output_type": "stream",
     "text": [
      "\r",
      "Processing rows:  25%|██▌       | 303/1200 [14:41<40:53,  2.73s/it]"
     ]
    },
    {
     "name": "stdout",
     "output_type": "stream",
     "text": [
      "Trang sức,8140,50,18,5,Nước ngoài,16380,17000,96,100,83,0,0,0,5\n"
     ]
    },
    {
     "name": "stderr",
     "output_type": "stream",
     "text": [
      "\r",
      "Processing rows:  25%|██▌       | 304/1200 [14:45<47:00,  3.15s/it]"
     ]
    },
    {
     "name": "stdout",
     "output_type": "stream",
     "text": [
      "Trang sức,7172,54,274,65,Nước ngoài,15500,Miễn phí,97,99,100,2,0,0,3,60\n"
     ]
    },
    {
     "name": "stderr",
     "output_type": "stream",
     "text": [
      "\r",
      "Processing rows:  25%|██▌       | 305/1200 [14:48<48:19,  3.24s/it]"
     ]
    },
    {
     "name": "stdout",
     "output_type": "stream",
     "text": [
      "Trang sức,11839,85,23,4,Nước ngoài,76700,17000,97,99,100,0,0,0,1,3\n"
     ]
    },
    {
     "name": "stderr",
     "output_type": "stream",
     "text": [
      "\r",
      "Processing rows:  26%|██▌       | 306/1200 [14:52<48:08,  3.23s/it]"
     ]
    },
    {
     "name": "stdout",
     "output_type": "stream",
     "text": [
      "Trang sức,46000,50,170,48,Ho Chi Minh,91999,17000,97,100,nan,1,0,0,0,47\n"
     ]
    },
    {
     "name": "stderr",
     "output_type": "stream",
     "text": [
      "\r",
      "Processing rows:  26%|██▌       | 307/1200 [14:54<43:17,  2.91s/it]"
     ]
    },
    {
     "name": "stdout",
     "output_type": "stream",
     "text": [
      "Trang sức,7316,57,193,45,Nước ngoài,20000,17000,96,89,100,0,0,0,3,41\n"
     ]
    },
    {
     "name": "stderr",
     "output_type": "stream",
     "text": [
      "\r",
      "Processing rows:  26%|██▌       | 308/1200 [14:57<44:42,  3.01s/it]"
     ]
    },
    {
     "name": "stdout",
     "output_type": "stream",
     "text": [
      "Trang sức,62012,48,154,34,Ho Chi Minh,120000,16500,95,97,100,1,0,2,0,31\n"
     ]
    },
    {
     "name": "stderr",
     "output_type": "stream",
     "text": [
      "\r",
      "Processing rows:  26%|██▌       | 309/1200 [15:01<47:02,  3.17s/it]"
     ]
    },
    {
     "name": "stdout",
     "output_type": "stream",
     "text": [
      "Trang sức,8469,55,1100,197,Ho Chi Minh,18700,17000,95,99,91,7,3,7,16,164\n"
     ]
    },
    {
     "name": "stderr",
     "output_type": "stream",
     "text": [
      "\r",
      "Processing rows:  26%|██▌       | 310/1200 [15:04<47:12,  3.18s/it]"
     ]
    },
    {
     "name": "stdout",
     "output_type": "stream",
     "text": [
      "Trang sức,26377,23,None,1,Nước ngoài,34290,17000,94,100,None,0,0,0,0,1\n"
     ]
    },
    {
     "name": "stderr",
     "output_type": "stream",
     "text": [
      "\r",
      "Processing rows:  26%|██▌       | 311/1200 [15:07<45:59,  3.10s/it]"
     ]
    },
    {
     "name": "stdout",
     "output_type": "stream",
     "text": [
      "Trang sức,5000,35,145,31,Ho Chi Minh,7656,17000,96,98,100,1,1,0,1,28\n"
     ]
    },
    {
     "name": "stderr",
     "output_type": "stream",
     "text": [
      "\r",
      "Processing rows:  26%|██▌       | 312/1200 [15:09<44:26,  3.00s/it]"
     ]
    },
    {
     "name": "stdout",
     "output_type": "stream",
     "text": [
      "Trang sức,9000,40,100,15,Nước ngoài,15000,17000,95,100,62,0,0,0,2,13\n"
     ]
    },
    {
     "name": "stderr",
     "output_type": "stream",
     "text": [
      "\r",
      "Processing rows:  26%|██▌       | 313/1200 [15:12<40:56,  2.77s/it]"
     ]
    },
    {
     "name": "stdout",
     "output_type": "stream",
     "text": [
      "Trang sức,16548,40,146,30,Ho Chi Minh,27470,16500,96,100,100,0,0,0,30\n"
     ]
    },
    {
     "name": "stderr",
     "output_type": "stream",
     "text": [
      "\r",
      "Processing rows:  26%|██▌       | 314/1200 [15:15<41:38,  2.82s/it]"
     ]
    },
    {
     "name": "stdout",
     "output_type": "stream",
     "text": [
      "Trang sức,149077,46,272,73,Binh Duong,275000,28700,98,99,85,0,0,0,3,70\n"
     ]
    },
    {
     "name": "stderr",
     "output_type": "stream",
     "text": [
      "\r",
      "Processing rows:  26%|██▋       | 315/1200 [15:18<42:02,  2.85s/it]"
     ]
    },
    {
     "name": "stdout",
     "output_type": "stream",
     "text": [
      "Trang sức,32000,46,23,6,Ho Chi Minh,59000,17000,95,99,100,0,0,0,6\n"
     ]
    },
    {
     "name": "stderr",
     "output_type": "stream",
     "text": [
      "\r",
      "Processing rows:  26%|██▋       | 316/1200 [15:21<43:01,  2.92s/it]"
     ]
    },
    {
     "name": "stdout",
     "output_type": "stream",
     "text": [
      "Trang suc,6324,39,157,30,Nước ngoài,10429,17000,95,95,0,0,2,4,24\n"
     ]
    },
    {
     "name": "stderr",
     "output_type": "stream",
     "text": [
      "\r",
      "Processing rows:  26%|██▋       | 317/1200 [15:24<42:48,  2.91s/it]"
     ]
    },
    {
     "name": "stdout",
     "output_type": "stream",
     "text": [
      "Trang suc,8000,43,20,4,Nước ngoài,21000,17000,95,100,62,0,0,1,0,3\n"
     ]
    },
    {
     "name": "stderr",
     "output_type": "stream",
     "text": [
      "\r",
      "Processing rows:  26%|██▋       | 318/1200 [15:26<42:03,  2.86s/it]"
     ]
    },
    {
     "name": "stdout",
     "output_type": "stream",
     "text": [
      "Trang sức,11005,54,31,4,Ho Chi Minh,23900,17000,97,100,100,0,0,0,1,3\n"
     ]
    },
    {
     "name": "stderr",
     "output_type": "stream",
     "text": [
      "\r",
      "Processing rows:  27%|██▋       | 319/1200 [15:29<42:45,  2.91s/it]"
     ]
    },
    {
     "name": "stdout",
     "output_type": "stream",
     "text": [
      "Trang sức,15331,31,26,9,Nước ngoài,22134,17000,93,100,nan,0,0,0,0,9\n"
     ]
    },
    {
     "name": "stderr",
     "output_type": "stream",
     "text": [
      "\r",
      "Processing rows:  27%|██▋       | 320/1200 [15:32<40:52,  2.79s/it]"
     ]
    },
    {
     "name": "stdout",
     "output_type": "stream",
     "text": [
      "Trang sức,66913,25,37,7,Ho Chi Minh,89000,16500,97,99,86,0,0,0,7\n"
     ]
    },
    {
     "name": "stderr",
     "output_type": "stream",
     "text": [
      "\r",
      "Processing rows:  27%|██▋       | 321/1200 [15:34<38:49,  2.65s/it]"
     ]
    },
    {
     "name": "stdout",
     "output_type": "stream",
     "text": [
      "Trang sức,21747,51,149,37,Ho Chi Minh,31667,17000,95,99,100,0,0,1,2,35\n"
     ]
    },
    {
     "name": "stderr",
     "output_type": "stream",
     "text": [
      "\r",
      "Processing rows:  27%|██▋       | 322/1200 [15:37<39:03,  2.67s/it]"
     ]
    },
    {
     "name": "stdout",
     "output_type": "stream",
     "text": [
      "Trang sức,10232,49,360,106,Ho Chi Minh,36000,17000,95,99,100,0,2,4,4,96\n"
     ]
    },
    {
     "name": "stderr",
     "output_type": "stream",
     "text": [
      "\r",
      "Processing rows:  27%|██▋       | 323/1200 [15:40<40:10,  2.75s/it]"
     ]
    },
    {
     "name": "stdout",
     "output_type": "stream",
     "text": [
      "Trang sức,29432,54,43,16,Nước ngoài,64000,17000,96,89,100,1,0,0,0,15\n"
     ]
    },
    {
     "name": "stderr",
     "output_type": "stream",
     "text": [
      "\r",
      "Processing rows:  27%|██▋       | 324/1200 [15:42<38:38,  2.65s/it]"
     ]
    },
    {
     "name": "stdout",
     "output_type": "stream",
     "text": [
      "Trang sức,12197,39,1200,195,Ho Chi Minh,9100,17000,98,99,100,3,1,2,1,188\n"
     ]
    },
    {
     "name": "stderr",
     "output_type": "stream",
     "text": [
      "\r",
      "Processing rows:  27%|██▋       | 325/1200 [15:45<40:51,  2.80s/it]"
     ]
    },
    {
     "name": "stdout",
     "output_type": "stream",
     "text": [
      "Trang sức,11000,48,419,105,Ho Chi Minh,16000,17000,95,100,62,1,3,0,1,100\n"
     ]
    },
    {
     "name": "stderr",
     "output_type": "stream",
     "text": [
      "\r",
      "Processing rows:  27%|██▋       | 326/1200 [15:49<42:19,  2.91s/it]"
     ]
    },
    {
     "name": "stdout",
     "output_type": "stream",
     "text": [
      "Trang sức,14345,49,83,33,Ho Chi Minh,46000,17000,96,100,83,0,1,1,1,30\n"
     ]
    },
    {
     "name": "stderr",
     "output_type": "stream",
     "text": [
      "\r",
      "Processing rows:  27%|██▋       | 327/1200 [15:51<39:03,  2.68s/it]"
     ]
    },
    {
     "name": "stdout",
     "output_type": "stream",
     "text": [
      "Trang sức,10215,51,172,99,Ho Chi Minh,36000,17000,96,95,96,0,3,3,2,91\n"
     ]
    },
    {
     "name": "stderr",
     "output_type": "stream",
     "text": [
      "\r",
      "Processing rows:  27%|██▋       | 328/1200 [15:53<37:20,  2.57s/it]"
     ]
    },
    {
     "name": "stdout",
     "output_type": "stream",
     "text": [
      "Trang sức,25000,50,283,57,Nước ngoài,50000,17000,94,94,100,1,2,0,3,51\n"
     ]
    },
    {
     "name": "stderr",
     "output_type": "stream",
     "text": [
      "\r",
      "Processing rows:  27%|██▋       | 329/1200 [15:56<38:01,  2.62s/it]"
     ]
    },
    {
     "name": "stdout",
     "output_type": "stream",
     "text": [
      "Trang sức,10056,28,34,8,Nước ngoài,14000,17000,95,100,100,1,1,0,0,6\n"
     ]
    },
    {
     "name": "stderr",
     "output_type": "stream",
     "text": [
      "\r",
      "Processing rows:  28%|██▊       | 330/1200 [15:59<39:04,  2.69s/it]"
     ]
    },
    {
     "name": "stdout",
     "output_type": "stream",
     "text": [
      "Trang sức,16454,49,99,21,Nước ngoài,32000,17000,95,99,100,0,1,0,1,19\n"
     ]
    },
    {
     "name": "stderr",
     "output_type": "stream",
     "text": [
      "\r",
      "Processing rows:  28%|██▊       | 331/1200 [16:01<38:08,  2.63s/it]"
     ]
    },
    {
     "name": "stdout",
     "output_type": "stream",
     "text": [
      "Trang sức,109000,52,115,50,Ho Chi Minh,229000,16500,99,100,100,0,0,1,0,49\n"
     ]
    },
    {
     "name": "stderr",
     "output_type": "stream",
     "text": [
      "\r",
      "Processing rows:  28%|██▊       | 332/1200 [16:05<43:37,  3.02s/it]"
     ]
    },
    {
     "name": "stdout",
     "output_type": "stream",
     "text": [
      "Trang sức,28500,None,378,84,Ho Chi Minh,None,16500,99,100,100,1,0,0,1,82\n"
     ]
    },
    {
     "name": "stderr",
     "output_type": "stream",
     "text": [
      "\r",
      "Processing rows:  28%|██▊       | 333/1200 [16:08<42:27,  2.94s/it]"
     ]
    },
    {
     "name": "stdout",
     "output_type": "stream",
     "text": [
      "Trang sức,25923,48,294,45,Nước ngoài,50000,17000,95,99,100,0,0,0,45\n"
     ]
    },
    {
     "name": "stderr",
     "output_type": "stream",
     "text": [
      "\r",
      "Processing rows:  28%|██▊       | 334/1200 [16:11<42:12,  2.92s/it]"
     ]
    },
    {
     "name": "stdout",
     "output_type": "stream",
     "text": [
      "Trang sức,15000,32,187,42,Ho Chi Minh,22000,16500,96,100,87,0,0,3,0,39\n"
     ]
    },
    {
     "name": "stderr",
     "output_type": "stream",
     "text": [
      "\r",
      "Processing rows:  28%|██▊       | 335/1200 [16:13<41:16,  2.86s/it]"
     ]
    },
    {
     "name": "stdout",
     "output_type": "stream",
     "text": [
      "Trang sức,12935,35,1500,167,Ho Chi Minh,19900,18300,97,99,86,0,0,2,4,162\n"
     ]
    },
    {
     "name": "stderr",
     "output_type": "stream",
     "text": [
      "\r",
      "Processing rows:  28%|██▊       | 336/1200 [16:16<40:21,  2.80s/it]"
     ]
    },
    {
     "name": "stdout",
     "output_type": "stream",
     "text": [
      "Trang sức,66202,26,217,68,Ho Chi Minh,89000,16500,97,99,86,0,0,0,68\n"
     ]
    },
    {
     "name": "stderr",
     "output_type": "stream",
     "text": [
      "\r",
      "Processing rows:  28%|██▊       | 337/1200 [16:19<43:04,  2.99s/it]"
     ]
    },
    {
     "name": "stdout",
     "output_type": "stream",
     "text": [
      "Trang sức,29000,55,1700,458,Ho Chi Minh,65000,16500,94,100,nan,5,1,6,17,429\n"
     ]
    },
    {
     "name": "stderr",
     "output_type": "stream",
     "text": [
      "\r",
      "Processing rows:  28%|██▊       | 338/1200 [16:23<45:53,  3.19s/it]"
     ]
    },
    {
     "name": "stdout",
     "output_type": "stream",
     "text": [
      "Trang sức,44050,68,224,65,Ho Chi Minh,139000,16500,97,99,86,1,1,1,2,60\n"
     ]
    },
    {
     "name": "stderr",
     "output_type": "stream",
     "text": [
      "\r",
      "Processing rows:  28%|██▊       | 339/1200 [16:25<42:16,  2.95s/it]"
     ]
    },
    {
     "name": "stdout",
     "output_type": "stream",
     "text": [
      "Trang sức,14000,42,220,29,Ho Chi Minh,26000,17000,91,100,nan,1,1,1,1,25\n"
     ]
    },
    {
     "name": "stderr",
     "output_type": "stream",
     "text": [
      "\r",
      "Processing rows:  28%|██▊       | 340/1200 [16:28<41:31,  2.90s/it]"
     ]
    },
    {
     "name": "stdout",
     "output_type": "stream",
     "text": [
      "Trang sức,31980,46,77,20,Ho Chi Minh,59000,16500,97,100,nan,0,0,0,1,19\n"
     ]
    },
    {
     "name": "stderr",
     "output_type": "stream",
     "text": [
      "\r",
      "Processing rows:  28%|██▊       | 341/1200 [16:31<41:11,  2.88s/it]"
     ]
    },
    {
     "name": "stdout",
     "output_type": "stream",
     "text": [
      "Trang sức,42600,52,228,60,Ho Chi Minh,89000,16500,97,100,nan,4,0,0,0,56\n"
     ]
    },
    {
     "name": "stderr",
     "output_type": "stream",
     "text": [
      "\r",
      "Processing rows:  28%|██▊       | 342/1200 [16:33<38:35,  2.70s/it]"
     ]
    },
    {
     "name": "stdout",
     "output_type": "stream",
     "text": [
      "Trang sức,11976,48,367,93,Nước ngoài,40200,17000,96,98,100,4,2,1,2,84\n"
     ]
    },
    {
     "name": "stderr",
     "output_type": "stream",
     "text": [
      "\r",
      "Processing rows:  29%|██▊       | 343/1200 [16:37<40:44,  2.85s/it]"
     ]
    },
    {
     "name": "stdout",
     "output_type": "stream",
     "text": [
      "Trang sức,24022,80,1500,403,Ho Chi Minh,118000,16500,97,100,100,3,2,6,9,383\n"
     ]
    },
    {
     "name": "stderr",
     "output_type": "stream",
     "text": [
      "\r",
      "Processing rows:  29%|██▊       | 344/1200 [16:39<39:08,  2.74s/it]"
     ]
    },
    {
     "name": "stdout",
     "output_type": "stream",
     "text": [
      "Trang sức,89000,36,631,195,Ho Chi Minh,139000,16500,97,99,86,0,1,0,3,192\n"
     ]
    },
    {
     "name": "stderr",
     "output_type": "stream",
     "text": [
      "\r",
      "Processing rows:  29%|██▉       | 345/1200 [16:42<39:04,  2.74s/it]"
     ]
    },
    {
     "name": "stdout",
     "output_type": "stream",
     "text": [
      "Trang sức,2200,69,8,6,Nước ngoài,9400,17000,95,99,0,0,0,2,4\n"
     ]
    },
    {
     "name": "stderr",
     "output_type": "stream",
     "text": [
      "\r",
      "Processing rows:  29%|██▉       | 346/1200 [16:44<36:59,  2.60s/it]"
     ]
    },
    {
     "name": "stdout",
     "output_type": "stream",
     "text": [
      "Trang sức,15298,63,11,8,Nước ngoài,41000,17000,95,100,100,0,0,0,9\n"
     ]
    },
    {
     "name": "stderr",
     "output_type": "stream",
     "text": [
      "\r",
      "Processing rows:  29%|██▉       | 347/1200 [16:47<39:34,  2.78s/it]"
     ]
    },
    {
     "name": "stdout",
     "output_type": "stream",
     "text": [
      "Trang sức,53000,40,130,39,Ho Chi Minh,89000,16500,97,99,86,1,0,1,0,38\n"
     ]
    },
    {
     "name": "stderr",
     "output_type": "stream",
     "text": [
      "\r",
      "Processing rows:  29%|██▉       | 348/1200 [16:50<40:38,  2.86s/it]"
     ]
    },
    {
     "name": "stdout",
     "output_type": "stream",
     "text": [
      "Trang sức,270715,51,76,28,Ha Noi,550000,32700,97,99,97,0,0,0,1,28\n"
     ]
    },
    {
     "name": "stderr",
     "output_type": "stream",
     "text": [
      "\r",
      "Processing rows:  29%|██▉       | 349/1200 [16:53<37:54,  2.67s/it]"
     ]
    },
    {
     "name": "stdout",
     "output_type": "stream",
     "text": [
      "Trang sức,8880,54,136,27,Nước ngoài,34100,17000,97,98,100,3,0,1,1,22\n"
     ]
    },
    {
     "name": "stderr",
     "output_type": "stream",
     "text": [
      "\r",
      "Processing rows:  29%|██▉       | 350/1200 [16:56<39:29,  2.79s/it]"
     ]
    },
    {
     "name": "stdout",
     "output_type": "stream",
     "text": [
      "Trang sức,24302,56,91,26,Ho Chi Minh,55000,16500,97,100,nan,0,0,0,0,26\n"
     ]
    },
    {
     "name": "stderr",
     "output_type": "stream",
     "text": [
      "\r",
      "Processing rows:  29%|██▉       | 351/1200 [16:59<42:55,  3.03s/it]"
     ]
    },
    {
     "name": "stdout",
     "output_type": "stream",
     "text": [
      "Trang sức,29000,51,44,12,Ho Chi Minh,59000,16500,97,99,86,0,0,0,12\n"
     ]
    },
    {
     "name": "stderr",
     "output_type": "stream",
     "text": [
      "\r",
      "Processing rows:  29%|██▉       | 352/1200 [17:03<46:39,  3.30s/it]"
     ]
    },
    {
     "name": "stdout",
     "output_type": "stream",
     "text": [
      "Trang sức,13999,40,265,57,Nước ngoài,23332,17000,95,98,None,3,0,1,2,51\n"
     ]
    },
    {
     "name": "stderr",
     "output_type": "stream",
     "text": [
      "\r",
      "Processing rows:  29%|██▉       | 353/1200 [17:06<45:26,  3.22s/it]"
     ]
    },
    {
     "name": "stdout",
     "output_type": "stream",
     "text": [
      "Trang sức,10000,50,1100,101,Ha Noi,20000,32700,84,86,100,4,2,5,6,84\n"
     ]
    },
    {
     "name": "stderr",
     "output_type": "stream",
     "text": [
      "\r",
      "Processing rows:  30%|██▉       | 354/1200 [17:10<46:20,  3.29s/it]"
     ]
    },
    {
     "name": "stdout",
     "output_type": "stream",
     "text": [
      "Trang sức,37127,49,54,16,Nước ngoài,73300,17000,97,94,50,0,0,0,0,16\n"
     ]
    },
    {
     "name": "stderr",
     "output_type": "stream",
     "text": [
      "\r",
      "Processing rows:  30%|██▉       | 355/1200 [17:12<43:59,  3.12s/it]"
     ]
    },
    {
     "name": "stdout",
     "output_type": "stream",
     "text": [
      "Trang sức,27000,52,140,24,Ho Chi Minh,56000,17000,95,94,66,0,0,2,1,21\n"
     ]
    },
    {
     "name": "stderr",
     "output_type": "stream",
     "text": [
      "\r",
      "Processing rows:  30%|██▉       | 356/1200 [17:16<44:58,  3.20s/it]"
     ]
    },
    {
     "name": "stdout",
     "output_type": "stream",
     "text": [
      "Trang sức,26833,58,1000,178,Ho Chi Minh,64000,17000,94,100,66,7,5,7,5,154\n"
     ]
    },
    {
     "name": "stderr",
     "output_type": "stream",
     "text": [
      "\r",
      "Processing rows:  30%|██▉       | 357/1200 [17:19<44:37,  3.18s/it]"
     ]
    },
    {
     "name": "stdout",
     "output_type": "stream",
     "text": [
      "Trang sức,104155,54,132,45,Ha Noi,227943,21700,98,100,None,1,0,0,2,42\n"
     ]
    },
    {
     "name": "stderr",
     "output_type": "stream",
     "text": [
      "\r",
      "Processing rows:  30%|██▉       | 358/1200 [17:22<43:24,  3.09s/it]"
     ]
    },
    {
     "name": "stdout",
     "output_type": "stream",
     "text": [
      "Trang sức,29873,50,11,5,Nước ngoài,60000,17000,96,90,100,0,0,1,0,4\n"
     ]
    },
    {
     "name": "stderr",
     "output_type": "stream",
     "text": [
      "\r",
      "Processing rows:  30%|██▉       | 359/1200 [17:25<41:55,  2.99s/it]"
     ]
    },
    {
     "name": "stdout",
     "output_type": "stream",
     "text": [
      "Trang sức,54280,8,34,4,Nước ngoài,59000,17000,95,93,99,0,0,0,4\n"
     ]
    },
    {
     "name": "stderr",
     "output_type": "stream",
     "text": [
      "\r",
      "Processing rows:  30%|███       | 360/1200 [17:28<43:24,  3.10s/it]"
     ]
    },
    {
     "name": "stdout",
     "output_type": "stream",
     "text": [
      "Trang sức,28000,56,207,47,Nước ngoài,64000,17000,96,100,nan,0,0,0,1,46\n"
     ]
    },
    {
     "name": "stderr",
     "output_type": "stream",
     "text": [
      "\r",
      "Processing rows:  30%|███       | 361/1200 [17:31<42:30,  3.04s/it]"
     ]
    },
    {
     "name": "stdout",
     "output_type": "stream",
     "text": [
      "Trang sức,49000,53,148,34,Ho Chi Minh,105000,16500,92,99,100,0,0,0,1,33\n"
     ]
    },
    {
     "name": "stderr",
     "output_type": "stream",
     "text": [
      "\r",
      "Processing rows:  30%|███       | 362/1200 [17:33<40:09,  2.88s/it]"
     ]
    },
    {
     "name": "stdout",
     "output_type": "stream",
     "text": [
      "Trang sức,11605,47,None,1,Nước ngoài,22000,17000,95,94,100,0,0,0,1\n"
     ]
    },
    {
     "name": "stderr",
     "output_type": "stream",
     "text": [
      "\r",
      "Processing rows:  30%|███       | 363/1200 [17:37<43:43,  3.13s/it]"
     ]
    },
    {
     "name": "stdout",
     "output_type": "stream",
     "text": [
      "Trang sức,8295,51,1700,215,Ho Chi Minh,12000,17000,96,100,83,11,3,2,13,186\n"
     ]
    },
    {
     "name": "stderr",
     "output_type": "stream",
     "text": [
      "\r",
      "Processing rows:  30%|███       | 364/1200 [17:40<44:54,  3.22s/it]"
     ]
    },
    {
     "name": "stdout",
     "output_type": "stream",
     "text": [
      "Trang sức,4635,59,521,146,Ho Chi Minh,30260,17000,95,99,100,3,1,2,0,140\n"
     ]
    },
    {
     "name": "stderr",
     "output_type": "stream",
     "text": [
      "\r",
      "Processing rows:  30%|███       | 365/1200 [17:44<44:30,  3.20s/it]"
     ]
    },
    {
     "name": "stdout",
     "output_type": "stream",
     "text": [
      "Trang sức,10299,54,215,43,Nước ngoài,22300,17000,97,99,100,0,2,0,0,41\n"
     ]
    },
    {
     "name": "stderr",
     "output_type": "stream",
     "text": [
      "\r",
      "Processing rows:  30%|███       | 366/1200 [17:46<42:00,  3.02s/it]"
     ]
    },
    {
     "name": "stdout",
     "output_type": "stream",
     "text": [
      "Trang sức,9493,57,22,5,Nước ngoài,32000,17000,96,89,100,0,0,0,5\n"
     ]
    },
    {
     "name": "stderr",
     "output_type": "stream",
     "text": [
      "\r",
      "Processing rows:  31%|███       | 367/1200 [17:49<42:12,  3.04s/it]"
     ]
    },
    {
     "name": "stdout",
     "output_type": "stream",
     "text": [
      "Trang sức,6800,50,7,None,Nước ngoài,13500,Miễn Phí,97,99,100,0,0,0,0\n"
     ]
    },
    {
     "name": "stderr",
     "output_type": "stream",
     "text": [
      "\r",
      "Processing rows:  31%|███       | 368/1200 [17:52<39:33,  2.85s/it]"
     ]
    },
    {
     "name": "stdout",
     "output_type": "stream",
     "text": [
      "Trang sức,6000,33,159,59,Nước ngoài,20000,17000,95,100,62,0,0,0,7,52\n"
     ]
    },
    {
     "name": "stderr",
     "output_type": "stream",
     "text": [
      "\r",
      "Processing rows:  31%|███       | 369/1200 [17:55<42:13,  3.05s/it]"
     ]
    },
    {
     "name": "stdout",
     "output_type": "stream",
     "text": [
      "Trang sức,10661,47,52,7,Ha Noi,20060,32700,97,90,100,2,0,0,0,6\n"
     ]
    },
    {
     "name": "stderr",
     "output_type": "stream",
     "text": [
      "\r",
      "Processing rows:  31%|███       | 370/1200 [17:58<39:38,  2.87s/it]"
     ]
    },
    {
     "name": "stdout",
     "output_type": "stream",
     "text": [
      "Trang sức,33000,35,None,1,Nước ngoài,50700,17000,None,100,None,0,0,0,0,1\n"
     ]
    },
    {
     "name": "stderr",
     "output_type": "stream",
     "text": [
      "\r",
      "Processing rows:  31%|███       | 371/1200 [18:01<40:12,  2.91s/it]"
     ]
    },
    {
     "name": "stdout",
     "output_type": "stream",
     "text": [
      "Trang sức,16000,40,36,12,Nước ngoài,26667,17000,92,100,None,0,0,0,0,12\n"
     ]
    },
    {
     "name": "stderr",
     "output_type": "stream",
     "text": [
      "\r",
      "Processing rows:  31%|███       | 372/1200 [18:03<39:39,  2.87s/it]"
     ]
    },
    {
     "name": "stdout",
     "output_type": "stream",
     "text": [
      "Trang sức,9000,50,455,87,Nước ngoài,18000,17000,95,99,100,5,0,2,4,77\n"
     ]
    },
    {
     "name": "stderr",
     "output_type": "stream",
     "text": [
      "\r",
      "Processing rows:  31%|███       | 373/1200 [18:07<42:06,  3.06s/it]"
     ]
    },
    {
     "name": "stdout",
     "output_type": "stream",
     "text": [
      "Trang sức,10400,31,6900,648,Ho Chi Minh,15000,16500,97,100,None,13,3,7,13,612\n"
     ]
    },
    {
     "name": "stderr",
     "output_type": "stream",
     "text": [
      "\r",
      "Processing rows:  31%|███       | 374/1200 [18:10<40:43,  2.96s/it]"
     ]
    },
    {
     "name": "stdout",
     "output_type": "stream",
     "text": [
      "Trang sức,13753,49,1100,207,Ho Chi Minh,17000,17000,96,95,96,3,2,2,4,196\n"
     ]
    },
    {
     "name": "stderr",
     "output_type": "stream",
     "text": [
      "\r",
      "Processing rows:  31%|███▏      | 375/1200 [18:13<44:14,  3.22s/it]"
     ]
    },
    {
     "name": "stdout",
     "output_type": "stream",
     "text": [
      "Trang sức,33900,43,465,119,Ho Chi Minh,59000,16500,97,100,nan,1,0,1,0,117\n"
     ]
    },
    {
     "name": "stderr",
     "output_type": "stream",
     "text": [
      "\r",
      "Processing rows:  31%|███▏      | 376/1200 [18:16<40:26,  2.94s/it]"
     ]
    },
    {
     "name": "stdout",
     "output_type": "stream",
     "text": [
      "Trang sức,8972,54,32,11,Ho Chi Minh,19300,17000,97,99,100,0,0,0,1,11\n"
     ]
    },
    {
     "name": "stderr",
     "output_type": "stream",
     "text": [
      "\r",
      "Processing rows:  31%|███▏      | 377/1200 [18:18<38:16,  2.79s/it]"
     ]
    },
    {
     "name": "stdout",
     "output_type": "stream",
     "text": [
      "Trang sức,17000,65,279,74,Ho Chi Minh,49000,16500,97,99,86,1,0,0,1,72\n"
     ]
    },
    {
     "name": "stderr",
     "output_type": "stream",
     "text": [
      "\r",
      "Processing rows:  32%|███▏      | 378/1200 [18:21<38:22,  2.80s/it]"
     ]
    },
    {
     "name": "stdout",
     "output_type": "stream",
     "text": [
      "Trang sức,6200,47,45,8,Nước ngoài,11700,17000,94,96,100,0,0,0,0,8\n"
     ]
    },
    {
     "name": "stderr",
     "output_type": "stream",
     "text": [
      "\r",
      "Processing rows:  32%|███▏      | 379/1200 [18:24<38:45,  2.83s/it]"
     ]
    },
    {
     "name": "stdout",
     "output_type": "stream",
     "text": [
      "Trang sức,46800,46,153,49,Nước ngoài,86000,17000,93,91,99,1,0,4,2,42\n"
     ]
    },
    {
     "name": "stderr",
     "output_type": "stream",
     "text": [
      "\r",
      "Processing rows:  32%|███▏      | 380/1200 [18:27<38:07,  2.79s/it]"
     ]
    },
    {
     "name": "stdout",
     "output_type": "stream",
     "text": [
      "Trang sức,33900,43,277,64,Ho Chi Minh,59000,16500,97,100,nan,0,0,0,0,64\n"
     ]
    },
    {
     "name": "stderr",
     "output_type": "stream",
     "text": [
      "\r",
      "Processing rows:  32%|███▏      | 381/1200 [18:32<48:34,  3.56s/it]"
     ]
    },
    {
     "name": "stdout",
     "output_type": "stream",
     "text": [
      "Trang sức,21765,54,293,64,Nước ngoài,36720,17000,97,93,100,3,2,1,6,52\n"
     ]
    },
    {
     "name": "stderr",
     "output_type": "stream",
     "text": [
      "\r",
      "Processing rows:  32%|███▏      | 382/1200 [18:35<46:20,  3.40s/it]"
     ]
    },
    {
     "name": "stdout",
     "output_type": "stream",
     "text": [
      "Trang sức,57824,57,1000,304,Ho Chi Minh,135000,16500,87,99,100,7,1,2,10,284\n"
     ]
    },
    {
     "name": "stderr",
     "output_type": "stream",
     "text": [
      "\r",
      "Processing rows:  32%|███▏      | 383/1200 [18:38<43:47,  3.22s/it]"
     ]
    },
    {
     "name": "stdout",
     "output_type": "stream",
     "text": [
      "Trang suc,4585,42,3200,583,Nước ngoài,20342,17000,96,95,96,8,3,12,30,530\n"
     ]
    },
    {
     "name": "stderr",
     "output_type": "stream",
     "text": [
      "\r",
      "Processing rows:  32%|███▏      | 384/1200 [18:41<43:50,  3.22s/it]"
     ]
    },
    {
     "name": "stdout",
     "output_type": "stream",
     "text": [
      "Trang sức,67470,24,367,121,Ho Chi Minh,89000,16500,97,99,86,1,1,1,0,118\n"
     ]
    },
    {
     "name": "stderr",
     "output_type": "stream",
     "text": [
      "\r",
      "Processing rows:  32%|███▏      | 385/1200 [18:45<45:46,  3.37s/it]"
     ]
    },
    {
     "name": "stdout",
     "output_type": "stream",
     "text": [
      "Trang sức,22947,60,217,66,Ho Chi Minh,31000,17000,96,95,96,0,0,1,0,65\n"
     ]
    },
    {
     "name": "stderr",
     "output_type": "stream",
     "text": [
      "\r",
      "Processing rows:  32%|███▏      | 386/1200 [18:47<41:20,  3.05s/it]"
     ]
    },
    {
     "name": "stdout",
     "output_type": "stream",
     "text": [
      "Trang sức,69000,43,393,79,Ha Noi,120000,32700,94,100,75,5,0,2,3,69\n"
     ]
    },
    {
     "name": "stderr",
     "output_type": "stream",
     "text": [
      "\r",
      "Processing rows:  32%|███▏      | 387/1200 [18:50<42:00,  3.10s/it]"
     ]
    },
    {
     "name": "stdout",
     "output_type": "stream",
     "text": [
      "Trang sức,41062,66,79,15,Ho Chi Minh,120000,16500,95,97,100,0,0,0,0,14\n"
     ]
    },
    {
     "name": "stderr",
     "output_type": "stream",
     "text": [
      "\r",
      "Processing rows:  32%|███▏      | 388/1200 [18:54<45:54,  3.39s/it]"
     ]
    },
    {
     "name": "stdout",
     "output_type": "stream",
     "text": [
      "Trang sức,11947,50,38,6,Nước ngoài,23802,17000,94,91,100,0,0,0,3,4\n"
     ]
    },
    {
     "name": "stderr",
     "output_type": "stream",
     "text": [
      "\r",
      "Processing rows:  32%|███▏      | 389/1200 [18:57<43:10,  3.19s/it]"
     ]
    },
    {
     "name": "stdout",
     "output_type": "stream",
     "text": [
      "Trang sức,24302,50,331,79,Ho Chi Minh,49000,16500,97,100,nan,2,0,4,0,74\n"
     ]
    },
    {
     "name": "stderr",
     "output_type": "stream",
     "text": [
      "\r",
      "Processing rows:  32%|███▎      | 390/1200 [19:00<42:30,  3.15s/it]"
     ]
    },
    {
     "name": "stdout",
     "output_type": "stream",
     "text": [
      "Trang sức,211000,47,342,120,Ha Noi,400000,32700,97,99,97,2,1,0,0,117\n"
     ]
    },
    {
     "name": "stderr",
     "output_type": "stream",
     "text": [
      "\r",
      "Processing rows:  33%|███▎      | 391/1200 [19:03<40:58,  3.04s/it]"
     ]
    },
    {
     "name": "stdout",
     "output_type": "stream",
     "text": [
      "Trang sức,66913,25,25,7,Ho Chi Minh,89000,16500,97,99,86,0,0,0,0,8\n"
     ]
    },
    {
     "name": "stderr",
     "output_type": "stream",
     "text": [
      "\r",
      "Processing rows:  33%|███▎      | 392/1200 [19:06<39:18,  2.92s/it]"
     ]
    },
    {
     "name": "stdout",
     "output_type": "stream",
     "text": [
      "Trang sức,42000,48,1400,348,Nước ngoài,80000,17000,98,100,100,5,2,6,12,323\n"
     ]
    },
    {
     "name": "stderr",
     "output_type": "stream",
     "text": [
      "\r",
      "Processing rows:  33%|███▎      | 393/1200 [19:09<41:03,  3.05s/it]"
     ]
    },
    {
     "name": "stdout",
     "output_type": "stream",
     "text": [
      "Trang suc,11976,63,40,10,Nước ngoài,32000,17000,99,92,100,0,0,0,1,9\n"
     ]
    },
    {
     "name": "stderr",
     "output_type": "stream",
     "text": [
      "\r",
      "Processing rows:  33%|███▎      | 394/1200 [19:12<39:26,  2.94s/it]"
     ]
    },
    {
     "name": "stdout",
     "output_type": "stream",
     "text": [
      "Trang sức,50000,38,144,37,Nước ngoài,80000,17000,98,100,100,1,0,2,0,34\n"
     ]
    },
    {
     "name": "stderr",
     "output_type": "stream",
     "text": [
      "\r",
      "Processing rows:  33%|███▎      | 395/1200 [19:15<43:15,  3.22s/it]"
     ]
    },
    {
     "name": "stdout",
     "output_type": "stream",
     "text": [
      "Trang sức,33000,35,8,4,Nước ngoài,50700,17000,None,100,None,0,0,0,0,4\n"
     ]
    },
    {
     "name": "stderr",
     "output_type": "stream",
     "text": [
      "\r",
      "Processing rows:  33%|███▎      | 396/1200 [19:19<42:38,  3.18s/it]"
     ]
    },
    {
     "name": "stdout",
     "output_type": "stream",
     "text": [
      "Trang sức,13999,49,272,55,Ho Chi Minh,27449,17000,95,98,None,4,0,1,1,50\n"
     ]
    },
    {
     "name": "stderr",
     "output_type": "stream",
     "text": [
      "\r",
      "Processing rows:  33%|███▎      | 397/1200 [19:22<41:43,  3.12s/it]"
     ]
    },
    {
     "name": "stdout",
     "output_type": "stream",
     "text": [
      "Trang sức,45295,22,726,190,Nước ngoài,58000,17000,97,100,nan,4,0,2,6,177\n"
     ]
    },
    {
     "name": "stderr",
     "output_type": "stream",
     "text": [
      "\r",
      "Processing rows:  33%|███▎      | 398/1200 [19:25<44:06,  3.30s/it]"
     ]
    },
    {
     "name": "stdout",
     "output_type": "stream",
     "text": [
      "Trang sức,17900,45,15,4,Ho Chi Minh,47091,16500,98,95,100,0,0,0,4\n"
     ]
    },
    {
     "name": "stderr",
     "output_type": "stream",
     "text": [
      "\r",
      "Processing rows:  33%|███▎      | 399/1200 [19:28<42:42,  3.20s/it]"
     ]
    },
    {
     "name": "stdout",
     "output_type": "stream",
     "text": [
      "Trang sức,64000,50,9,4,Nước ngoài,129000,Miễn Phí,99,100,nan,0,0,0,0,5\n"
     ]
    },
    {
     "name": "stderr",
     "output_type": "stream",
     "text": [
      "\r",
      "Processing rows:  33%|███▎      | 400/1200 [19:32<44:11,  3.31s/it]"
     ]
    },
    {
     "name": "stdout",
     "output_type": "stream",
     "text": [
      "Trang sức,32400,19,51,8,Nước ngoài,46000,17000,96,96,100,0,0,0,8\n"
     ]
    },
    {
     "name": "stderr",
     "output_type": "stream",
     "text": [
      "\r",
      "Processing rows:  33%|███▎      | 401/1200 [19:36<49:34,  3.72s/it]"
     ]
    },
    {
     "name": "stdout",
     "output_type": "stream",
     "text": [
      "Trang sức,19718,58,1900,318,Ho Chi Minh,46400,17000,95,97,100,17,7,7,15,272\n"
     ]
    },
    {
     "name": "stderr",
     "output_type": "stream",
     "text": [
      "\r",
      "Processing rows:  34%|███▎      | 402/1200 [19:40<47:28,  3.57s/it]"
     ]
    },
    {
     "name": "stdout",
     "output_type": "stream",
     "text": [
      "Trang sức,7000,36,628,117,Ho Chi Minh,19000,17000,95,100,62,10,1,4,7,95\n"
     ]
    },
    {
     "name": "stderr",
     "output_type": "stream",
     "text": [
      "\r",
      "Processing rows:  34%|███▎      | 403/1200 [19:43<45:59,  3.46s/it]"
     ]
    },
    {
     "name": "stdout",
     "output_type": "stream",
     "text": [
      "Trang sức,8131,38,644,111,Nước ngoài,13203,17000,95,99,91,3,1,4,7,96\n"
     ]
    },
    {
     "name": "stderr",
     "output_type": "stream",
     "text": [
      "\r",
      "Processing rows:  34%|███▎      | 404/1200 [19:47<48:33,  3.66s/it]"
     ]
    },
    {
     "name": "stdout",
     "output_type": "stream",
     "text": [
      "Trang sức,16157,48,19,2,Nước ngoài,31059,17000,95,99,100,0,0,0,1,2\n"
     ]
    },
    {
     "name": "stderr",
     "output_type": "stream",
     "text": [
      "\r",
      "Processing rows:  34%|███▍      | 405/1200 [19:50<45:12,  3.41s/it]"
     ]
    },
    {
     "name": "stdout",
     "output_type": "stream",
     "text": [
      "Trang sức,7558,50,17,6,Nước ngoài,15211,17000,96,96,50,0,0,0,7\n"
     ]
    },
    {
     "name": "stderr",
     "output_type": "stream",
     "text": [
      "\r",
      "Processing rows:  34%|███▍      | 406/1200 [19:53<44:01,  3.33s/it]"
     ]
    },
    {
     "name": "stdout",
     "output_type": "stream",
     "text": [
      "Trang sức,7600,49,1500,235,Ho Chi Minh,15000,17000,96,99,92,2,0,7,7,220\n"
     ]
    },
    {
     "name": "stderr",
     "output_type": "stream",
     "text": [
      "\r",
      "Processing rows:  34%|███▍      | 407/1200 [19:56<42:13,  3.20s/it]"
     ]
    },
    {
     "name": "stdout",
     "output_type": "stream",
     "text": [
      "Trang sức,16000,35,None,None,Nước ngoài,24600,17000,None,100,None,0,0,0,0,0\n"
     ]
    },
    {
     "name": "stderr",
     "output_type": "stream",
     "text": [
      "\r",
      "Processing rows:  34%|███▍      | 408/1200 [20:00<46:21,  3.51s/it]"
     ]
    },
    {
     "name": "stdout",
     "output_type": "stream",
     "text": [
      "Trang sức,6561,34,4600,525,Ho Chi Minh,55000,17000,96,95,96,12,4,12,13,484\n"
     ]
    },
    {
     "name": "stderr",
     "output_type": "stream",
     "text": [
      "\r",
      "Processing rows:  34%|███▍      | 409/1200 [20:04<49:28,  3.75s/it]"
     ]
    },
    {
     "name": "stdout",
     "output_type": "stream",
     "text": [
      "Trang sức,5272,53,35,12,Ho Chi Minh,11300,17000,97,98,100,0,0,0,0,12\n"
     ]
    },
    {
     "name": "stderr",
     "output_type": "stream",
     "text": [
      "\r",
      "Processing rows:  34%|███▍      | 410/1200 [20:08<49:31,  3.76s/it]"
     ]
    },
    {
     "name": "stdout",
     "output_type": "stream",
     "text": [
      "Trang sức,26000,43,32,15,Ho Chi Minh,46000,17000,94,94,100,1,0,0,0,14\n"
     ]
    },
    {
     "name": "stderr",
     "output_type": "stream",
     "text": [
      "\r",
      "Processing rows:  34%|███▍      | 411/1200 [20:12<48:26,  3.68s/it]"
     ]
    },
    {
     "name": "stdout",
     "output_type": "stream",
     "text": [
      "Trang sức,16500,53,488,137,Ho Chi Minh,35000,16500,97,100,nan,3,0,1,1,132\n"
     ]
    },
    {
     "name": "stderr",
     "output_type": "stream",
     "text": [
      "\r",
      "Processing rows:  34%|███▍      | 412/1200 [20:15<46:22,  3.53s/it]"
     ]
    },
    {
     "name": "stdout",
     "output_type": "stream",
     "text": [
      "Trang sức,7137,55,50,14,Ho Chi Minh,15700,17000,97,99,100,0,0,1,0,13\n"
     ]
    },
    {
     "name": "stderr",
     "output_type": "stream",
     "text": [
      "\r",
      "Processing rows:  34%|███▍      | 413/1200 [20:18<43:56,  3.35s/it]"
     ]
    },
    {
     "name": "stdout",
     "output_type": "stream",
     "text": [
      "Trang sức,9000,75,231,101,Ho Chi Minh,30000,17000,96,99,92,0,0,2,2,97\n"
     ]
    },
    {
     "name": "stderr",
     "output_type": "stream",
     "text": [
      "\r",
      "Processing rows:  34%|███▍      | 414/1200 [20:22<45:54,  3.50s/it]"
     ]
    },
    {
     "name": "stdout",
     "output_type": "stream",
     "text": [
      "Trang sức,79244,10,219,67,Ho Chi Minh,88000,18300,97,99,86,0,0,0,2,66\n"
     ]
    },
    {
     "name": "stderr",
     "output_type": "stream",
     "text": [
      "\r",
      "Processing rows:  35%|███▍      | 415/1200 [20:25<45:07,  3.45s/it]"
     ]
    },
    {
     "name": "stdout",
     "output_type": "stream",
     "text": [
      "Trang sức,23021,59,647,153,Ho Chi Minh,56000,16500,94,100,100,3,0,2,9,139\n"
     ]
    },
    {
     "name": "stderr",
     "output_type": "stream",
     "text": [
      "\r",
      "Processing rows:  35%|███▍      | 416/1200 [20:28<41:43,  3.19s/it]"
     ]
    },
    {
     "name": "stdout",
     "output_type": "stream",
     "text": [
      "Trang sức,40000,50,232,61,Nước ngoài,80000,17000,98,100,100,1,0,0,0,60\n"
     ]
    },
    {
     "name": "stderr",
     "output_type": "stream",
     "text": [
      "\r",
      "Processing rows:  35%|███▍      | 417/1200 [20:30<39:30,  3.03s/it]"
     ]
    },
    {
     "name": "stdout",
     "output_type": "stream",
     "text": [
      "Trang sức,99000,34,2000,519,Ha Noi,149000,32700,99,100,nan,5,4,5,12,494\n"
     ]
    },
    {
     "name": "stderr",
     "output_type": "stream",
     "text": [
      "\r",
      "Processing rows:  35%|███▍      | 418/1200 [20:33<38:08,  2.93s/it]"
     ]
    },
    {
     "name": "stdout",
     "output_type": "stream",
     "text": [
      "Trang sức,77850,34,753,171,Ho Chi Minh,118000,16500,96,97,100,3,2,7,5,154\n"
     ]
    },
    {
     "name": "stderr",
     "output_type": "stream",
     "text": [
      "\r",
      "Processing rows:  35%|███▍      | 419/1200 [20:36<37:05,  2.85s/it]"
     ]
    },
    {
     "name": "stdout",
     "output_type": "stream",
     "text": [
      "Trang sức,24975,49,596,131,Nước ngoài,49000,17000,95,100,100,6,1,1,3,120\n"
     ]
    },
    {
     "name": "stderr",
     "output_type": "stream",
     "text": [
      "\r",
      "Processing rows:  35%|███▌      | 420/1200 [20:39<37:54,  2.92s/it]"
     ]
    },
    {
     "name": "stdout",
     "output_type": "stream",
     "text": [
      "Trang sức,33900,43,1300,289,Ho Chi Minh,59000,16500,97,100,nan,4,0,3,10,272\n"
     ]
    },
    {
     "name": "stderr",
     "output_type": "stream",
     "text": [
      "\r",
      "Processing rows:  35%|███▌      | 421/1200 [20:42<39:36,  3.05s/it]"
     ]
    },
    {
     "name": "stdout",
     "output_type": "stream",
     "text": [
      "Trang sức,23052,53,1200,272,Nước ngoài,46000,17000,96,95,96,3,0,4,6,259\n"
     ]
    },
    {
     "name": "stderr",
     "output_type": "stream",
     "text": [
      "\r",
      "Processing rows:  35%|███▌      | 422/1200 [20:44<36:41,  2.83s/it]"
     ]
    },
    {
     "name": "stdout",
     "output_type": "stream",
     "text": [
      "Trang sức,110075,86,None,1,Ho Chi Minh,809000,17000,96,100,90,0,0,0,1\n"
     ]
    },
    {
     "name": "stderr",
     "output_type": "stream",
     "text": [
      "\r",
      "Processing rows:  35%|███▌      | 423/1200 [20:47<35:24,  2.73s/it]"
     ]
    },
    {
     "name": "stdout",
     "output_type": "stream",
     "text": [
      "Trang sức,514162,43,43,17,Ha Noi,900000,32700,97,99,97,0,0,1,0,17\n"
     ]
    },
    {
     "name": "stderr",
     "output_type": "stream",
     "text": [
      "\r",
      "Processing rows:  35%|███▌      | 424/1200 [20:50<35:20,  2.73s/it]"
     ]
    },
    {
     "name": "stdout",
     "output_type": "stream",
     "text": [
      "Trang sức,51300,46,191,39,Ho Chi Minh,95000,16500,97,100,nan,0,0,0,0,39\n"
     ]
    },
    {
     "name": "stderr",
     "output_type": "stream",
     "text": [
      "\r",
      "Processing rows:  35%|███▌      | 425/1200 [20:53<36:44,  2.84s/it]"
     ]
    },
    {
     "name": "stdout",
     "output_type": "stream",
     "text": [
      "Trang sức,42600,28,117,29,Ho Chi Minh,59000,16500,97,100,nan,0,0,0,0,30\n"
     ]
    },
    {
     "name": "stderr",
     "output_type": "stream",
     "text": [
      "\r",
      "Processing rows:  36%|███▌      | 426/1200 [20:55<34:00,  2.64s/it]"
     ]
    },
    {
     "name": "stdout",
     "output_type": "stream",
     "text": [
      "Trang sức,54000,50,570,167,Ho Chi Minh,109000,16500,99,100,100,1,0,2,5,159\n"
     ]
    },
    {
     "name": "stderr",
     "output_type": "stream",
     "text": [
      "\r",
      "Processing rows:  36%|███▌      | 427/1200 [20:58<35:49,  2.78s/it]"
     ]
    },
    {
     "name": "stdout",
     "output_type": "stream",
     "text": [
      "Trang sức,9712,98,538,97,Nước ngoài,471347,17000,96,98,100,4,4,8,3,78\n"
     ]
    },
    {
     "name": "stderr",
     "output_type": "stream",
     "text": [
      "\r",
      "Processing rows:  36%|███▌      | 428/1200 [21:01<38:23,  2.98s/it]"
     ]
    },
    {
     "name": "stdout",
     "output_type": "stream",
     "text": [
      "Trang sức,40000,49,103,37,Ho Chi Minh,78000,17000,91,100,100,3,0,0,0,34\n"
     ]
    },
    {
     "name": "stderr",
     "output_type": "stream",
     "text": [
      "\r",
      "Processing rows:  36%|███▌      | 429/1200 [21:04<37:01,  2.88s/it]"
     ]
    },
    {
     "name": "stdout",
     "output_type": "stream",
     "text": [
      "Trang sức,18630,47,94,5,Nước ngoài,48271,17000,94,94,0,2,1,2,0,2\n"
     ]
    },
    {
     "name": "stderr",
     "output_type": "stream",
     "text": [
      "\r",
      "Processing rows:  36%|███▌      | 430/1200 [21:07<36:08,  2.82s/it]"
     ]
    },
    {
     "name": "stdout",
     "output_type": "stream",
     "text": [
      "Trang sức,66202,34,47,12,Ho Chi Minh,100000,16500,95,97,100,0,0,0,12\n"
     ]
    },
    {
     "name": "stderr",
     "output_type": "stream",
     "text": [
      "\r",
      "Processing rows:  36%|███▌      | 431/1200 [21:09<33:35,  2.62s/it]"
     ]
    },
    {
     "name": "stdout",
     "output_type": "stream",
     "text": [
      "Trang sức,60534,10,236,81,Ho Chi Minh,67000,16500,97,99,86,0,0,3,1,77\n"
     ]
    },
    {
     "name": "stderr",
     "output_type": "stream",
     "text": [
      "\r",
      "Processing rows:  36%|███▌      | 432/1200 [21:11<32:13,  2.52s/it]"
     ]
    },
    {
     "name": "stdout",
     "output_type": "stream",
     "text": [
      "Trang sức,30275,33,904,223,Ho Chi Minh,79000,16500,97,99,86,2,8,0,1,212\n"
     ]
    },
    {
     "name": "stderr",
     "output_type": "stream",
     "text": [
      "\r",
      "Processing rows:  36%|███▌      | 433/1200 [21:14<32:37,  2.55s/it]"
     ]
    },
    {
     "name": "stdout",
     "output_type": "stream",
     "text": [
      "Trang sức,183522,16,6,3,Ho Chi Minh,235000,16500,97,99,86,0,0,0,3\n"
     ]
    },
    {
     "name": "stderr",
     "output_type": "stream",
     "text": [
      "\r",
      "Processing rows:  36%|███▌      | 434/1200 [21:17<36:20,  2.85s/it]"
     ]
    },
    {
     "name": "stdout",
     "output_type": "stream",
     "text": [
      "Trang suc,3700,47,320,44,Nước ngoài,7000,17000,94,100,None,0,0,0,3,41\n"
     ]
    },
    {
     "name": "stderr",
     "output_type": "stream",
     "text": [
      "\r",
      "Processing rows:  36%|███▋      | 435/1200 [21:20<34:45,  2.73s/it]"
     ]
    },
    {
     "name": "stdout",
     "output_type": "stream",
     "text": [
      "Trang suc,30500,61,57,9,Nước ngoài,78000,17000,95,94,66,0,0,0,9\n"
     ]
    },
    {
     "name": "stderr",
     "output_type": "stream",
     "text": [
      "\r",
      "Processing rows:  36%|███▋      | 436/1200 [21:23<35:12,  2.76s/it]"
     ]
    },
    {
     "name": "stdout",
     "output_type": "stream",
     "text": [
      "Trang sức,9448,83,161,30,Ho Chi Minh,54000,17000,97,100,nan,2,0,1,3,24\n"
     ]
    },
    {
     "name": "stderr",
     "output_type": "stream",
     "text": [
      "\r",
      "Processing rows:  36%|███▋      | 437/1200 [21:25<35:13,  2.77s/it]"
     ]
    },
    {
     "name": "stdout",
     "output_type": "stream",
     "text": [
      "Trang sức,53000,33,474,138,Ho Chi Minh,239000,16500,97,99,86,4,0,0,1,133\n"
     ]
    },
    {
     "name": "stderr",
     "output_type": "stream",
     "text": [
      "\r",
      "Processing rows:  36%|███▋      | 438/1200 [21:28<33:31,  2.64s/it]"
     ]
    },
    {
     "name": "stdout",
     "output_type": "stream",
     "text": [
      "Trang sức,19000,34,486,88,Ho Chi Minh,29000,16500,94,100,nan,2,0,4,2,80\n"
     ]
    },
    {
     "name": "stderr",
     "output_type": "stream",
     "text": [
      "\r",
      "Processing rows:  37%|███▋      | 439/1200 [21:30<31:41,  2.50s/it]"
     ]
    },
    {
     "name": "stdout",
     "output_type": "stream",
     "text": [
      "Trang sức,58643,58,74,21,Ho Chi Minh,139000,17000,96,100,90,0,1,1,1,18\n"
     ]
    },
    {
     "name": "stderr",
     "output_type": "stream",
     "text": [
      "\r",
      "Processing rows:  37%|███▋      | 440/1200 [21:33<32:43,  2.58s/it]"
     ]
    },
    {
     "name": "stdout",
     "output_type": "stream",
     "text": [
      "Trang sức,16148,39,125,24,Nước ngoài,26549,17000,95,98,81,1,0,2,3,18\n"
     ]
    },
    {
     "name": "stderr",
     "output_type": "stream",
     "text": [
      "\r",
      "Processing rows:  37%|███▋      | 441/1200 [21:35<32:15,  2.55s/it]"
     ]
    },
    {
     "name": "stdout",
     "output_type": "stream",
     "text": [
      "Trang sức,5862,21,2200,509,Ho Chi Minh,25347,17000,96,95,96,4,2,8,10,485\n"
     ]
    },
    {
     "name": "stderr",
     "output_type": "stream",
     "text": [
      "\r",
      "Processing rows:  37%|███▋      | 442/1200 [21:38<34:30,  2.73s/it]"
     ]
    },
    {
     "name": "stdout",
     "output_type": "stream",
     "text": [
      "Trang sức,14635,78,7600,867,Ho Chi Minh,29000,17000,96,95,96,11,7,17,12,820\n"
     ]
    },
    {
     "name": "stderr",
     "output_type": "stream",
     "text": [
      "\r",
      "Processing rows:  37%|███▋      | 443/1200 [21:42<37:02,  2.94s/it]"
     ]
    },
    {
     "name": "stdout",
     "output_type": "stream",
     "text": [
      "Trang sức,10385,48,84,29,Ho Chi Minh,20000,17000,95,99,100,1,0,1,0,27\n"
     ]
    },
    {
     "name": "stderr",
     "output_type": "stream",
     "text": [
      "\r",
      "Processing rows:  37%|███▋      | 444/1200 [21:44<34:39,  2.75s/it]"
     ]
    },
    {
     "name": "stdout",
     "output_type": "stream",
     "text": [
      "Trang sức,5000,75,37200,1382,Ho Chi Minh,20000,17000,96,99,92,18,4,18,23,1319\n"
     ]
    },
    {
     "name": "stderr",
     "output_type": "stream",
     "text": [
      "\r",
      "Processing rows:  37%|███▋      | 445/1200 [21:46<32:36,  2.59s/it]"
     ]
    },
    {
     "name": "stdout",
     "output_type": "stream",
     "text": [
      "Trang sức,15298,41,61,19,Nước ngoài,45492,17000,95,98,81,4,0,0,0,15\n"
     ]
    },
    {
     "name": "stderr",
     "output_type": "stream",
     "text": [
      "\r",
      "Processing rows:  37%|███▋      | 446/1200 [21:49<31:19,  2.49s/it]"
     ]
    },
    {
     "name": "stdout",
     "output_type": "stream",
     "text": [
      "Trang suc,4440,26,663,120,Nước ngoài,13720,17000,96,99,53,1,0,1,0,118\n"
     ]
    },
    {
     "name": "stderr",
     "output_type": "stream",
     "text": [
      "\r",
      "Processing rows:  37%|███▋      | 447/1200 [21:51<31:03,  2.47s/it]"
     ]
    },
    {
     "name": "stdout",
     "output_type": "stream",
     "text": [
      "Trang sức,17166,55,303,108,Ho Chi Minh,38000,17000,95,100,100,3,0,1,0,104\n"
     ]
    },
    {
     "name": "stderr",
     "output_type": "stream",
     "text": [
      "\r",
      "Processing rows:  37%|███▋      | 448/1200 [21:54<32:07,  2.56s/it]"
     ]
    },
    {
     "name": "stdout",
     "output_type": "stream",
     "text": [
      "Trang sức,16400,47,374,66,Nước ngoài,31000,17000,94,94,100,3,0,2,3,59\n"
     ]
    },
    {
     "name": "stderr",
     "output_type": "stream",
     "text": [
      "\r",
      "Processing rows:  37%|███▋      | 449/1200 [21:58<36:56,  2.95s/it]"
     ]
    },
    {
     "name": "stdout",
     "output_type": "stream",
     "text": [
      "Trang sức,10970,56,2800,212,Ho Chi Minh,29000,17000,95,99,100,6,4,0,0,202\n"
     ]
    },
    {
     "name": "stderr",
     "output_type": "stream",
     "text": [
      "\r",
      "Processing rows:  38%|███▊      | 450/1200 [22:00<34:23,  2.75s/it]"
     ]
    },
    {
     "name": "stdout",
     "output_type": "stream",
     "text": [
      "Trang sức,9065,54,458,81,Nước ngoài,19500,17000,97,98,100,3,0,5,6,67\n"
     ]
    },
    {
     "name": "stderr",
     "output_type": "stream",
     "text": [
      "\r",
      "Processing rows:  38%|███▊      | 451/1200 [22:03<34:29,  2.76s/it]"
     ]
    },
    {
     "name": "stdout",
     "output_type": "stream",
     "text": [
      "Trang sức,51300,46,111,35,Ho Chi Minh,95000,16500,97,100,nan,0,0,1,0,34\n"
     ]
    },
    {
     "name": "stderr",
     "output_type": "stream",
     "text": [
      "\r",
      "Processing rows:  38%|███▊      | 452/1200 [22:06<34:43,  2.78s/it]"
     ]
    },
    {
     "name": "stdout",
     "output_type": "stream",
     "text": [
      "Trang sức,12807,54,943,103,Nước ngoài,28000,17000,95,99,100,1,1,1,6,95\n"
     ]
    },
    {
     "name": "stderr",
     "output_type": "stream",
     "text": [
      "\r",
      "Processing rows:  38%|███▊      | 453/1200 [22:08<32:22,  2.60s/it]"
     ]
    },
    {
     "name": "stdout",
     "output_type": "stream",
     "text": [
      "Trang sức,65000,50,12,8,Nước ngoài,130000,Miễn Phí,99,100,nan,0,0,0,0,8\n"
     ]
    },
    {
     "name": "stderr",
     "output_type": "stream",
     "text": [
      "\r",
      "Processing rows:  38%|███▊      | 454/1200 [22:10<32:40,  2.63s/it]"
     ]
    },
    {
     "name": "stdout",
     "output_type": "stream",
     "text": [
      "Trang sức,41185,65,563,125,Hồ Chí Minh,118000,16500,97,99,86,2,1,2,4,116\n"
     ]
    },
    {
     "name": "stderr",
     "output_type": "stream",
     "text": [
      "\r",
      "Processing rows:  38%|███▊      | 455/1200 [22:14<36:00,  2.90s/it]"
     ]
    },
    {
     "name": "stdout",
     "output_type": "stream",
     "text": [
      "Trang sức,71376,10,239,70,Ho Chi Minh,79000,16500,93,100,100,2,0,3,2,63\n"
     ]
    },
    {
     "name": "stderr",
     "output_type": "stream",
     "text": [
      "\r",
      "Processing rows:  38%|███▊      | 456/1200 [22:17<36:13,  2.92s/it]"
     ]
    },
    {
     "name": "stdout",
     "output_type": "stream",
     "text": [
      "Trang sức,33900,31,1000,231,Ho Chi Minh,49000,16500,97,100,nan,3,3,0,6,219\n"
     ]
    },
    {
     "name": "stderr",
     "output_type": "stream",
     "text": [
      "\r",
      "Processing rows:  38%|███▊      | 457/1200 [22:20<36:15,  2.93s/it]"
     ]
    },
    {
     "name": "stdout",
     "output_type": "stream",
     "text": [
      "Trang sức,59000,13,None,1,Nước ngoài,68107,17000,40,100,None,0,0,0,0,1\n"
     ]
    },
    {
     "name": "stderr",
     "output_type": "stream",
     "text": [
      "\r",
      "Processing rows:  38%|███▊      | 458/1200 [22:22<35:14,  2.85s/it]"
     ]
    },
    {
     "name": "stdout",
     "output_type": "stream",
     "text": [
      "Trang sức,33000,50,1100,236,Ha Noi,66000,32700,83,92,100,16,1,5,8,207\n"
     ]
    },
    {
     "name": "stderr",
     "output_type": "stream",
     "text": [
      "\r",
      "Processing rows:  38%|███▊      | 459/1200 [22:25<32:53,  2.66s/it]"
     ]
    },
    {
     "name": "stdout",
     "output_type": "stream",
     "text": [
      "Trang sức,15559,49,10,1,Ha Noi,30580,32700,96,94,100,0,0,0,0,1\n"
     ]
    },
    {
     "name": "stderr",
     "output_type": "stream",
     "text": [
      "\r",
      "Processing rows:  38%|███▊      | 460/1200 [22:29<38:49,  3.15s/it]"
     ]
    },
    {
     "name": "stdout",
     "output_type": "stream",
     "text": [
      "Trang sức,62000,50,7,2,Ho Chi Minh,124000,16500,96,97,100,0,0,0,2\n"
     ]
    },
    {
     "name": "stderr",
     "output_type": "stream",
     "text": [
      "\r",
      "Processing rows:  38%|███▊      | 461/1200 [22:32<39:54,  3.24s/it]"
     ]
    },
    {
     "name": "stdout",
     "output_type": "stream",
     "text": [
      "Trang sức,57822,16,77,22,Ho Chi Minh,69000,16500,97,99,86,0,0,0,22\n"
     ]
    },
    {
     "name": "stderr",
     "output_type": "stream",
     "text": [
      "\r",
      "Processing rows:  38%|███▊      | 462/1200 [22:35<37:58,  3.09s/it]"
     ]
    },
    {
     "name": "stdout",
     "output_type": "stream",
     "text": [
      "Trang sức,11035,50,222,64,Nước ngoài,22000,17000,95,100,100,3,0,3,4,54\n"
     ]
    },
    {
     "name": "stderr",
     "output_type": "stream",
     "text": [
      "\r",
      "Processing rows:  39%|███▊      | 463/1200 [22:38<36:22,  2.96s/it]"
     ]
    },
    {
     "name": "stdout",
     "output_type": "stream",
     "text": [
      "Trang sức,10000,41,9,6,Nước ngoài,31000,17000,94,100,nan,0,0,0,0,6\n"
     ]
    },
    {
     "name": "stderr",
     "output_type": "stream",
     "text": [
      "\r",
      "Processing rows:  39%|███▊      | 464/1200 [22:41<36:04,  2.94s/it]"
     ]
    },
    {
     "name": "stdout",
     "output_type": "stream",
     "text": [
      "Trang sức,42012,58,129,34,Nước ngoài,99218,17000,95,95,100,1,0,0,2,31\n"
     ]
    },
    {
     "name": "stderr",
     "output_type": "stream",
     "text": [
      "\r",
      "Processing rows:  39%|███▉      | 465/1200 [22:44<36:07,  2.95s/it]"
     ]
    },
    {
     "name": "stdout",
     "output_type": "stream",
     "text": [
      "Trang sức,12000,40,28,6,Nước ngoài,20000,17000,92,100,nan,0,0,0,0,6\n"
     ]
    },
    {
     "name": "stderr",
     "output_type": "stream",
     "text": [
      "\r",
      "Processing rows:  39%|███▉      | 466/1200 [22:46<33:10,  2.71s/it]"
     ]
    },
    {
     "name": "stdout",
     "output_type": "stream",
     "text": [
      "Trang sức,12000,40,17,3,Nước ngoài,20000,17000,92,100,None,0,1,0,0,2\n"
     ]
    },
    {
     "name": "stderr",
     "output_type": "stream",
     "text": [
      "\r",
      "Processing rows:  39%|███▉      | 467/1200 [22:49<33:39,  2.75s/it]"
     ]
    },
    {
     "name": "stdout",
     "output_type": "stream",
     "text": [
      "Trang sức,27000,75,222,79,Ho Chi Minh,90000,16500,99,100,100,0,1,0,0,79\n"
     ]
    },
    {
     "name": "stderr",
     "output_type": "stream",
     "text": [
      "\r",
      "Processing rows:  39%|███▉      | 468/1200 [22:52<34:31,  2.83s/it]"
     ]
    },
    {
     "name": "stdout",
     "output_type": "stream",
     "text": [
      "Trang sức,13906,47,192,40,Nước ngoài,32000,17000,95,99,100,2,1,1,0,36\n"
     ]
    },
    {
     "name": "stderr",
     "output_type": "stream",
     "text": [
      "\r",
      "Processing rows:  39%|███▉      | 469/1200 [22:56<38:59,  3.20s/it]"
     ]
    },
    {
     "name": "stdout",
     "output_type": "stream",
     "text": [
      "Trang sức,53306,33,336,126,Ho Chi Minh,79000,16500,97,99,86,1,0,2,2,121\n"
     ]
    },
    {
     "name": "stderr",
     "output_type": "stream",
     "text": [
      "\r",
      "Processing rows:  39%|███▉      | 470/1200 [22:59<37:58,  3.12s/it]"
     ]
    },
    {
     "name": "stdout",
     "output_type": "stream",
     "text": [
      "Trang sức,8499,53,16,9,Nước ngoài,37000,17000,95,100,100,0,0,0,9\n"
     ]
    },
    {
     "name": "stderr",
     "output_type": "stream",
     "text": [
      "\r",
      "Processing rows:  39%|███▉      | 471/1200 [23:01<36:07,  2.97s/it]"
     ]
    },
    {
     "name": "stdout",
     "output_type": "stream",
     "text": [
      "Trang sức,35150,82,10,4,Nước ngoài,190000,17000,98,100,100,0,0,0,5\n"
     ]
    },
    {
     "name": "stderr",
     "output_type": "stream",
     "text": [
      "\r",
      "Processing rows:  39%|███▉      | 472/1200 [23:04<34:30,  2.84s/it]"
     ]
    },
    {
     "name": "stdout",
     "output_type": "stream",
     "text": [
      "Trang sức,48000,31,1300,340,Ho Chi Minh,70000,17000,98,100,100,3,1,4,12,320\n"
     ]
    },
    {
     "name": "stderr",
     "output_type": "stream",
     "text": [
      "\r",
      "Processing rows:  39%|███▉      | 473/1200 [23:08<39:57,  3.30s/it]"
     ]
    },
    {
     "name": "stdout",
     "output_type": "stream",
     "text": [
      "Trang sức,7556,20,270,101,Nước ngoài,12909,17000,94,100,100,2,0,0,1,98\n"
     ]
    },
    {
     "name": "stderr",
     "output_type": "stream",
     "text": [
      "\r",
      "Processing rows:  40%|███▉      | 474/1200 [23:12<41:53,  3.46s/it]"
     ]
    },
    {
     "name": "stdout",
     "output_type": "stream",
     "text": [
      "Trang sức,8041,58,24,4,Nước ngoài,33000,17000,96,95,96,0,0,0,0,4\n"
     ]
    },
    {
     "name": "stderr",
     "output_type": "stream",
     "text": [
      "\r",
      "Processing rows:  40%|███▉      | 475/1200 [23:16<43:07,  3.57s/it]"
     ]
    },
    {
     "name": "stdout",
     "output_type": "stream",
     "text": [
      "Trang sức,108102,20,89,24,Ho Chi Minh,135000,16500,97,99,86,3,0,0,0,21\n"
     ]
    },
    {
     "name": "stderr",
     "output_type": "stream",
     "text": [
      "\r",
      "Processing rows:  40%|███▉      | 476/1200 [23:19<40:11,  3.33s/it]"
     ]
    },
    {
     "name": "stdout",
     "output_type": "stream",
     "text": [
      "Trang sức,66202,36,6,None,Ho Chi Minh,104000,16500,95,97,100,0,0,0,0,0\n"
     ]
    },
    {
     "name": "stderr",
     "output_type": "stream",
     "text": [
      "\r",
      "Processing rows:  40%|███▉      | 477/1200 [23:22<38:17,  3.18s/it]"
     ]
    },
    {
     "name": "stdout",
     "output_type": "stream",
     "text": [
      "Trang sức,48000,39,114,30,Nước ngoài,79000,17000,96,97,50,1,3,0,3,24\n"
     ]
    },
    {
     "name": "stderr",
     "output_type": "stream",
     "text": [
      "\r",
      "Processing rows:  40%|███▉      | 478/1200 [23:25<40:10,  3.34s/it]"
     ]
    },
    {
     "name": "stdout",
     "output_type": "stream",
     "text": [
      "Trang sức,15000,38,42,12,Nước ngoài,24000,17000,97,100,100,0,0,1,0,11\n"
     ]
    },
    {
     "name": "stderr",
     "output_type": "stream",
     "text": [
      "\r",
      "Processing rows:  40%|███▉      | 479/1200 [23:28<37:51,  3.15s/it]"
     ]
    },
    {
     "name": "stdout",
     "output_type": "stream",
     "text": [
      "Trang sức,20950,79,559,136,Ha Noi,100000,32700,96,100,100,2,0,3,3,128\n"
     ]
    },
    {
     "name": "stderr",
     "output_type": "stream",
     "text": [
      "\r",
      "Processing rows:  40%|████      | 480/1200 [23:31<38:03,  3.17s/it]"
     ]
    },
    {
     "name": "stdout",
     "output_type": "stream",
     "text": [
      "Trang sức,24000,66,776,173,Nước ngoài,70000,17000,98,100,100,2,0,3,7,161\n"
     ]
    },
    {
     "name": "stderr",
     "output_type": "stream",
     "text": [
      "\r",
      "Processing rows:  40%|████      | 481/1200 [23:34<36:07,  3.02s/it]"
     ]
    },
    {
     "name": "stdout",
     "output_type": "stream",
     "text": [
      "Trang sức,170607,20,194,49,Nước ngoài,213344,17000,95,96,100,3,1,0,2,43\n"
     ]
    },
    {
     "name": "stderr",
     "output_type": "stream",
     "text": [
      "\r",
      "Processing rows:  40%|████      | 482/1200 [23:37<36:32,  3.05s/it]"
     ]
    },
    {
     "name": "stdout",
     "output_type": "stream",
     "text": [
      "Trang sức,9664,42,24,7,Ho Chi Minh,28291,17000,95,99,100,0,0,0,7\n"
     ]
    },
    {
     "name": "stderr",
     "output_type": "stream",
     "text": [
      "\r",
      "Processing rows:  40%|████      | 483/1200 [23:40<35:22,  2.96s/it]"
     ]
    },
    {
     "name": "stdout",
     "output_type": "stream",
     "text": [
      "Trang sức,3977,20,789,221,Ho Chi Minh,12503,17000,94,100,100,1,5,5,7,203\n"
     ]
    },
    {
     "name": "stderr",
     "output_type": "stream",
     "text": [
      "\r",
      "Processing rows:  40%|████      | 484/1200 [23:43<36:29,  3.06s/it]"
     ]
    },
    {
     "name": "stdout",
     "output_type": "stream",
     "text": [
      "Trang sức,7000,42,44,9,Ho Chi Minh,12000,17000,95,100,62,0,1,0,0,9\n"
     ]
    },
    {
     "name": "stderr",
     "output_type": "stream",
     "text": [
      "\r",
      "Processing rows:  40%|████      | 485/1200 [23:46<35:16,  2.96s/it]"
     ]
    },
    {
     "name": "stdout",
     "output_type": "stream",
     "text": [
      "Trang sức,11000,48,59,19,Ho Chi Minh,21000,17000,95,100,62,0,0,0,19\n"
     ]
    },
    {
     "name": "stderr",
     "output_type": "stream",
     "text": [
      "\r",
      "Processing rows:  40%|████      | 486/1200 [23:48<31:50,  2.68s/it]"
     ]
    },
    {
     "name": "stdout",
     "output_type": "stream",
     "text": [
      "Trang sức,26816,55,18,101,Ho Chi Minh,90000,17000,100,100,0,0,1,1,2,97\n"
     ]
    },
    {
     "name": "stderr",
     "output_type": "stream",
     "text": [
      "\r",
      "Processing rows:  41%|████      | 487/1200 [23:50<31:41,  2.67s/it]"
     ]
    },
    {
     "name": "stdout",
     "output_type": "stream",
     "text": [
      "Trang sức,61050,82,68,25,Ho Chi Minh,330000,17000,98,100,100,0,0,0,25\n"
     ]
    },
    {
     "name": "stderr",
     "output_type": "stream",
     "text": [
      "\r",
      "Processing rows:  41%|████      | 488/1200 [23:53<31:12,  2.63s/it]"
     ]
    },
    {
     "name": "stdout",
     "output_type": "stream",
     "text": [
      "Trang sức,51300,35,2100,458,Ho Chi Minh,79000,16500,97,100,nan,13,4,5,15,421\n"
     ]
    },
    {
     "name": "stderr",
     "output_type": "stream",
     "text": [
      "\r",
      "Processing rows:  41%|████      | 489/1200 [23:55<30:01,  2.53s/it]"
     ]
    },
    {
     "name": "stdout",
     "output_type": "stream",
     "text": [
      "Trang suc,17000,48,149,36,Nước ngoài,33000,17000,94,97,100,3,2,0,2,29\n"
     ]
    },
    {
     "name": "stderr",
     "output_type": "stream",
     "text": [
      "\r",
      "Processing rows:  41%|████      | 490/1200 [23:58<31:16,  2.64s/it]"
     ]
    },
    {
     "name": "stdout",
     "output_type": "stream",
     "text": [
      "Trang sức,32375,35,274,65,Nước ngoài,50101,17000,95,98,81,5,1,0,2,57\n"
     ]
    },
    {
     "name": "stderr",
     "output_type": "stream",
     "text": [
      "\r",
      "Processing rows:  41%|████      | 491/1200 [24:01<31:11,  2.64s/it]"
     ]
    },
    {
     "name": "stdout",
     "output_type": "stream",
     "text": [
      "Trang sức,10842,46,205,45,Ho Chi Minh,20000,16500,96,100,100,2,0,1,2,40\n"
     ]
    },
    {
     "name": "stderr",
     "output_type": "stream",
     "text": [
      "\r",
      "Processing rows:  41%|████      | 492/1200 [24:04<32:52,  2.79s/it]"
     ]
    },
    {
     "name": "stdout",
     "output_type": "stream",
     "text": [
      "Trang sức,16238,49,97,28,Ho Chi Minh,33039,17000,95,98,100,1,0,0,1,27\n"
     ]
    },
    {
     "name": "stderr",
     "output_type": "stream",
     "text": [
      "\r",
      "Processing rows:  41%|████      | 493/1200 [24:07<34:43,  2.95s/it]"
     ]
    },
    {
     "name": "stdout",
     "output_type": "stream",
     "text": [
      "Trang sức,51300,47,152,43,Nước ngoài,97000,17000,95,100,nan,0,0,0,2,41\n"
     ]
    },
    {
     "name": "stderr",
     "output_type": "stream",
     "text": [
      "\r",
      "Processing rows:  41%|████      | 494/1200 [24:09<32:03,  2.72s/it]"
     ]
    },
    {
     "name": "stdout",
     "output_type": "stream",
     "text": [
      "Trang sức,13605,24,140,31,Ha Noi,None,None,None,None,None,0,0,2,2,27\n"
     ]
    },
    {
     "name": "stderr",
     "output_type": "stream",
     "text": [
      "\r",
      "Processing rows:  41%|████▏     | 495/1200 [24:12<32:34,  2.77s/it]"
     ]
    },
    {
     "name": "stdout",
     "output_type": "stream",
     "text": [
      "Trang sức,24000,38,38,10,Nước ngoài,39000,17000,95,99,100,0,0,0,11\n"
     ]
    },
    {
     "name": "stderr",
     "output_type": "stream",
     "text": [
      "\r",
      "Processing rows:  41%|████▏     | 496/1200 [24:15<32:15,  2.75s/it]"
     ]
    },
    {
     "name": "stdout",
     "output_type": "stream",
     "text": [
      "Trang sức,37000,41,114,19,Nước ngoài,65000,17000,98,100,0,0,0,0,19\n"
     ]
    },
    {
     "name": "stderr",
     "output_type": "stream",
     "text": [
      "\r",
      "Processing rows:  41%|████▏     | 497/1200 [24:18<31:59,  2.73s/it]"
     ]
    },
    {
     "name": "stdout",
     "output_type": "stream",
     "text": [
      "Trang sức,230000,15,89,19,Ha Noi,350000,21700,80,93,85,0,1,0,1,17\n"
     ]
    },
    {
     "name": "stderr",
     "output_type": "stream",
     "text": [
      "\r",
      "Processing rows:  42%|████▏     | 498/1200 [24:20<31:06,  2.66s/it]"
     ]
    },
    {
     "name": "stdout",
     "output_type": "stream",
     "text": [
      "Trang sức,79000,53,126,30,Ho Chi Minh,169000,16500,95,98,100,0,0,1,0,29\n"
     ]
    },
    {
     "name": "stderr",
     "output_type": "stream",
     "text": [
      "\r",
      "Processing rows:  42%|████▏     | 499/1200 [24:23<32:05,  2.75s/it]"
     ]
    },
    {
     "name": "stdout",
     "output_type": "stream",
     "text": [
      "Trang sức,44000,65,4400,1132,Ho Chi Minh,125000,16500,98,100,100,9,4,9,44,1066\n"
     ]
    },
    {
     "name": "stderr",
     "output_type": "stream",
     "text": [
      "\r",
      "Processing rows:  42%|████▏     | 500/1200 [24:27<35:49,  3.07s/it]"
     ]
    },
    {
     "name": "stdout",
     "output_type": "stream",
     "text": [
      "Trang sức,89000,18,50,19,Ho Chi Minh,109000,16500,97,99,86,0,0,0,19\n"
     ]
    },
    {
     "name": "stderr",
     "output_type": "stream",
     "text": [
      "\r",
      "Processing rows:  42%|████▏     | 501/1200 [24:30<34:26,  2.96s/it]"
     ]
    },
    {
     "name": "stdout",
     "output_type": "stream",
     "text": [
      "Trang sức,10570,52,886,197,Nước ngoài,22000,17000,95,95,100,9,0,4,13,172\n"
     ]
    },
    {
     "name": "stderr",
     "output_type": "stream",
     "text": [
      "\r",
      "Processing rows:  42%|████▏     | 502/1200 [24:33<34:44,  2.99s/it]"
     ]
    },
    {
     "name": "stdout",
     "output_type": "stream",
     "text": [
      "Trang sức,37000,41,None,1,Nước ngoài,97000,17000,100,100,100,0,0,0,0,1\n"
     ]
    },
    {
     "name": "stderr",
     "output_type": "stream",
     "text": [
      "\r",
      "Processing rows:  42%|████▏     | 503/1200 [24:35<33:40,  2.90s/it]"
     ]
    },
    {
     "name": "stdout",
     "output_type": "stream",
     "text": [
      "Trang sức,26201,47,116,33,Ho Chi Minh,49000,16500,97,99,86,0,2,1,3,27\n"
     ]
    },
    {
     "name": "stderr",
     "output_type": "stream",
     "text": [
      "\r",
      "Processing rows:  42%|████▏     | 504/1200 [24:40<40:45,  3.51s/it]"
     ]
    },
    {
     "name": "stdout",
     "output_type": "stream",
     "text": [
      "Trang sức,62000,48,63,14,Ho Chi Minh,120000,16500,95,97,100,1,0,0,1,12\n"
     ]
    },
    {
     "name": "stderr",
     "output_type": "stream",
     "text": [
      "\r",
      "Processing rows:  42%|████▏     | 505/1200 [24:43<37:39,  3.25s/it]"
     ]
    },
    {
     "name": "stdout",
     "output_type": "stream",
     "text": [
      "Trang sức,13827,16,229,30,Ho Chi Minh,16500,16500,97,99,86,2,0,1,0,28\n"
     ]
    },
    {
     "name": "stderr",
     "output_type": "stream",
     "text": [
      "\r",
      "Processing rows:  42%|████▏     | 506/1200 [24:47<39:11,  3.39s/it]"
     ]
    },
    {
     "name": "stdout",
     "output_type": "stream",
     "text": [
      "Trang sức,77400,19,52,13,Ho Chi Minh,95000,16500,97,100,nan,2,0,0,0,11\n"
     ]
    },
    {
     "name": "stderr",
     "output_type": "stream",
     "text": [
      "\r",
      "Processing rows:  42%|████▏     | 507/1200 [24:51<43:36,  3.78s/it]"
     ]
    },
    {
     "name": "stdout",
     "output_type": "stream",
     "text": [
      "Trang sức,67878,43,469,112,Ho Chi Minh,120000,16500,95,97,100,1,0,0,2,110\n"
     ]
    },
    {
     "name": "stderr",
     "output_type": "stream",
     "text": [
      "\r",
      "Processing rows:  42%|████▏     | 508/1200 [24:54<39:28,  3.42s/it]"
     ]
    },
    {
     "name": "stdout",
     "output_type": "stream",
     "text": [
      "Trang sức,48380,39,613,178,Ho Chi Minh,79000,16500,97,100,nan,6,4,1,6,161\n"
     ]
    },
    {
     "name": "stderr",
     "output_type": "stream",
     "text": [
      "\r",
      "Processing rows:  42%|████▏     | 509/1200 [24:57<36:35,  3.18s/it]"
     ]
    },
    {
     "name": "stdout",
     "output_type": "stream",
     "text": [
      "Trang sức,26000,33,151,43,Ho Chi Minh,139000,16500,97,99,86,0,0,0,43\n"
     ]
    },
    {
     "name": "stderr",
     "output_type": "stream",
     "text": [
      "\r",
      "Processing rows:  42%|████▎     | 510/1200 [25:00<37:35,  3.27s/it]"
     ]
    },
    {
     "name": "stdout",
     "output_type": "stream",
     "text": [
      "Trang sức,4065,55,64,9,Ho Chi Minh,9000,16500,97,88,100,0,0,1,0,8\n"
     ]
    },
    {
     "name": "stderr",
     "output_type": "stream",
     "text": [
      "\r",
      "Processing rows:  43%|████▎     | 511/1200 [25:03<35:50,  3.12s/it]"
     ]
    },
    {
     "name": "stdout",
     "output_type": "stream",
     "text": [
      "Trang sức,8054,40,15,2,Nước ngoài,13320,17000,92,98,100,0,0,0,3\n"
     ]
    },
    {
     "name": "stderr",
     "output_type": "stream",
     "text": [
      "\r",
      "Processing rows:  43%|████▎     | 512/1200 [25:06<35:31,  3.10s/it]"
     ]
    },
    {
     "name": "stdout",
     "output_type": "stream",
     "text": [
      "Trang sức,33900,43,66,27,Ho Chi Minh,59000,16500,97,100,nan,0,0,0,0,28\n"
     ]
    },
    {
     "name": "stderr",
     "output_type": "stream",
     "text": [
      "\r",
      "Processing rows:  43%|████▎     | 513/1200 [25:09<35:09,  3.07s/it]"
     ]
    },
    {
     "name": "stdout",
     "output_type": "stream",
     "text": [
      "Trang sức,99000,None,12,5,Ho Chi Minh,None,16500,92,50,None,0,0,0,1,4\n"
     ]
    },
    {
     "name": "stderr",
     "output_type": "stream",
     "text": [
      "\r",
      "Processing rows:  43%|████▎     | 514/1200 [25:11<32:24,  2.83s/it]"
     ]
    },
    {
     "name": "stdout",
     "output_type": "stream",
     "text": [
      "Trang sức,28000,28,476,82,Ho Chi Minh,39000,16500,97,99,86,1,1,0,3,77\n"
     ]
    },
    {
     "name": "stderr",
     "output_type": "stream",
     "text": [
      "\r",
      "Processing rows:  43%|████▎     | 515/1200 [25:13<30:06,  2.64s/it]"
     ]
    },
    {
     "name": "stdout",
     "output_type": "stream",
     "text": [
      "Trang sức,109000,16,737,310,Ho Chi Minh,129000,16500,99,100,None,1,0,1,2,307\n"
     ]
    },
    {
     "name": "stderr",
     "output_type": "stream",
     "text": [
      "\r",
      "Processing rows:  43%|████▎     | 516/1200 [25:16<29:31,  2.59s/it]"
     ]
    },
    {
     "name": "stdout",
     "output_type": "stream",
     "text": [
      "Trang sức,47000,23,15,4,Nước ngoài,79000,17000,96,100,nan,1,0,0,0,3\n"
     ]
    },
    {
     "name": "stderr",
     "output_type": "stream",
     "text": [
      "\r",
      "Processing rows:  43%|████▎     | 517/1200 [25:19<30:22,  2.67s/it]"
     ]
    },
    {
     "name": "stdout",
     "output_type": "stream",
     "text": [
      "Trang sức,49000,None,22,7,Ho Chi Minh,None,16500,100,98,100,0,0,0,7\n"
     ]
    },
    {
     "name": "stderr",
     "output_type": "stream",
     "text": [
      "\r",
      "Processing rows:  43%|████▎     | 518/1200 [25:21<30:07,  2.65s/it]"
     ]
    },
    {
     "name": "stdout",
     "output_type": "stream",
     "text": [
      "Trang sức,35000,50,1200,324,Ho Chi Minh,80000,17000,98,100,100,4,0,3,9,308\n"
     ]
    },
    {
     "name": "stderr",
     "output_type": "stream",
     "text": [
      "\r",
      "Processing rows:  43%|████▎     | 519/1200 [25:25<32:39,  2.88s/it]"
     ]
    },
    {
     "name": "stdout",
     "output_type": "stream",
     "text": [
      "Trang sức,40657,59,194,57,Ha Noi,100000,32700,96,100,100,2,1,1,3,50\n"
     ]
    },
    {
     "name": "stderr",
     "output_type": "stream",
     "text": [
      "\r",
      "Processing rows:  43%|████▎     | 520/1200 [25:28<33:35,  2.96s/it]"
     ]
    },
    {
     "name": "stdout",
     "output_type": "stream",
     "text": [
      "Trang sức,60336,24,2200,317,Ho Chi Minh,79000,16500,97,99,86,8,2,5,11\n"
     ]
    },
    {
     "name": "stderr",
     "output_type": "stream",
     "text": [
      "\r",
      "Processing rows:  43%|████▎     | 521/1200 [25:32<38:01,  3.36s/it]"
     ]
    },
    {
     "name": "stdout",
     "output_type": "stream",
     "text": [
      "Trang sức,35000,49,nan,1,Ho Chi Minh,69000,17000,95,94,100,0,0,0,1\n"
     ]
    },
    {
     "name": "stderr",
     "output_type": "stream",
     "text": [
      "\r",
      "Processing rows:  44%|████▎     | 522/1200 [25:36<40:21,  3.57s/it]"
     ]
    },
    {
     "name": "stdout",
     "output_type": "stream",
     "text": [
      "Trang sức,7900,85,2400,517,Ho Chi Minh,53000,17000,96,95,96,7,4,7,15,485\n"
     ]
    },
    {
     "name": "stderr",
     "output_type": "stream",
     "text": [
      "\r",
      "Processing rows:  44%|████▎     | 523/1200 [25:39<38:42,  3.43s/it]"
     ]
    },
    {
     "name": "stdout",
     "output_type": "stream",
     "text": [
      "Trang sức,12000,45,28,6,Nước ngoài,22000,17000,97,100,None,0,0,1,0,5\n"
     ]
    },
    {
     "name": "stderr",
     "output_type": "stream",
     "text": [
      "\r",
      "Processing rows:  44%|████▎     | 524/1200 [25:42<37:12,  3.30s/it]"
     ]
    },
    {
     "name": "stdout",
     "output_type": "stream",
     "text": [
      "Trang sức,5028,58,102,43,Ho Chi Minh,12000,17000,97,91,100,1,1,0,0,41\n"
     ]
    },
    {
     "name": "stderr",
     "output_type": "stream",
     "text": [
      "\r",
      "Processing rows:  44%|████▍     | 525/1200 [25:45<34:21,  3.05s/it]"
     ]
    },
    {
     "name": "stdout",
     "output_type": "stream",
     "text": [
      "Trang sức,13000,40,316,105,Nước ngoài,21667,17000,95,98,None,3,1,1,2,98\n"
     ]
    },
    {
     "name": "stderr",
     "output_type": "stream",
     "text": [
      "\r",
      "Processing rows:  44%|████▍     | 526/1200 [25:50<43:14,  3.85s/it]"
     ]
    },
    {
     "name": "stdout",
     "output_type": "stream",
     "text": [
      "Trang sức,4136,17,888,269,Ho Chi Minh,32746,17000,96,95,96,10,8,10,3,238\n"
     ]
    },
    {
     "name": "stderr",
     "output_type": "stream",
     "text": [
      "\r",
      "Processing rows:  44%|████▍     | 527/1200 [25:54<40:55,  3.65s/it]"
     ]
    },
    {
     "name": "stdout",
     "output_type": "stream",
     "text": [
      "Trang sức,6030,73,37,5,Nước ngoài,22000,17000,99,92,100,0,0,0,5\n"
     ]
    },
    {
     "name": "stderr",
     "output_type": "stream",
     "text": [
      "\r",
      "Processing rows:  44%|████▍     | 528/1200 [25:58<43:21,  3.87s/it]"
     ]
    },
    {
     "name": "stdout",
     "output_type": "stream",
     "text": [
      "Trang sức,19819,46,60,22,Ho Chi Minh,36800,17000,94,97,100,1,0,0,0,21\n"
     ]
    },
    {
     "name": "stderr",
     "output_type": "stream",
     "text": [
      "\r",
      "Processing rows:  44%|████▍     | 529/1200 [26:02<42:13,  3.78s/it]"
     ]
    },
    {
     "name": "stdout",
     "output_type": "stream",
     "text": [
      "Trang sức,9000,18,147,59,Ho Chi Minh,24318,17000,96,98,None,1,2,2,1,53\n"
     ]
    },
    {
     "name": "stderr",
     "output_type": "stream",
     "text": [
      "\r",
      "Processing rows:  44%|████▍     | 530/1200 [26:06<43:39,  3.91s/it]"
     ]
    },
    {
     "name": "stdout",
     "output_type": "stream",
     "text": [
      "Trang sức,13552,55,466,78,Ho Chi Minh,30000,17000,97,99,50,0,1,0,1,76\n"
     ]
    },
    {
     "name": "stderr",
     "output_type": "stream",
     "text": [
      "\r",
      "Processing rows:  44%|████▍     | 531/1200 [26:09<39:44,  3.56s/it]"
     ]
    },
    {
     "name": "stdout",
     "output_type": "stream",
     "text": [
      "Trang sức,23043,48,57,12,Ho Chi Minh,43899,17000,96,96,50,0,0,0,13\n"
     ]
    },
    {
     "name": "stderr",
     "output_type": "stream",
     "text": [
      "\r",
      "Processing rows:  44%|████▍     | 532/1200 [26:14<46:28,  4.17s/it]"
     ]
    },
    {
     "name": "stdout",
     "output_type": "stream",
     "text": [
      "Trang sức,105387,41,79,94,Ho Chi Minh,94351,17000,95,98,81,2,0,2,6,85\n"
     ]
    },
    {
     "name": "stderr",
     "output_type": "stream",
     "text": [
      "\r",
      "Processing rows:  44%|████▍     | 533/1200 [26:18<46:40,  4.20s/it]"
     ]
    },
    {
     "name": "stdout",
     "output_type": "stream",
     "text": [
      "Trang sức,35000,34,612,21,Nước ngoài,53000,Miễn Phí,96,99,100,1,0,0,2,18\n"
     ]
    },
    {
     "name": "stderr",
     "output_type": "stream",
     "text": [
      "\r",
      "Processing rows:  44%|████▍     | 534/1200 [26:22<43:30,  3.92s/it]"
     ]
    },
    {
     "name": "stdout",
     "output_type": "stream",
     "text": [
      "Trang sức,10000,47,2300,314,Ha Noi,19000,32700,84,86,100,22,9,17,16,250\n"
     ]
    },
    {
     "name": "stderr",
     "output_type": "stream",
     "text": [
      "\r",
      "Processing rows:  45%|████▍     | 535/1200 [26:25<39:48,  3.59s/it]"
     ]
    },
    {
     "name": "stdout",
     "output_type": "stream",
     "text": [
      "Trang sức,18372,55,30,15,Nước ngoài,41000,17000,95,100,100,0,0,0,1,14\n"
     ]
    },
    {
     "name": "stderr",
     "output_type": "stream",
     "text": [
      "\r",
      "Processing rows:  45%|████▍     | 536/1200 [26:27<36:23,  3.29s/it]"
     ]
    },
    {
     "name": "stdout",
     "output_type": "stream",
     "text": [
      "Trang sức,224961,44,32,11,Ha Noi,400000,32700,97,99,97,0,0,0,0,11\n"
     ]
    },
    {
     "name": "stderr",
     "output_type": "stream",
     "text": [
      "\r",
      "Processing rows:  45%|████▍     | 537/1200 [26:30<34:44,  3.14s/it]"
     ]
    },
    {
     "name": "stdout",
     "output_type": "stream",
     "text": [
      "Trang sức,35000,40,122,29,Nước ngoài,58000,17000,97,100,nan,2,0,1,0,27\n"
     ]
    },
    {
     "name": "stderr",
     "output_type": "stream",
     "text": [
      "\r",
      "Processing rows:  45%|████▍     | 538/1200 [26:36<44:37,  4.04s/it]"
     ]
    },
    {
     "name": "stdout",
     "output_type": "stream",
     "text": [
      "Trang sức,41000,29,132,58,Nước ngoài,57564,17000,95,98,81,1,1,2,1,53\n"
     ]
    },
    {
     "name": "stderr",
     "output_type": "stream",
     "text": [
      "\r",
      "Processing rows:  45%|████▍     | 539/1200 [26:41<46:38,  4.23s/it]"
     ]
    },
    {
     "name": "stdout",
     "output_type": "stream",
     "text": [
      "Trang sức,15000,40,50,38,Nước ngoài,25000,17000,95,98,None,2,2,1,0,34\n"
     ]
    },
    {
     "name": "stderr",
     "output_type": "stream",
     "text": [
      "\r",
      "Processing rows:  45%|████▌     | 540/1200 [26:43<40:41,  3.70s/it]"
     ]
    },
    {
     "name": "stdout",
     "output_type": "stream",
     "text": [
      "Trang sức,16000,47,32,10,Nước ngoài,30000,17000,95,100,62,0,0,0,10\n"
     ]
    },
    {
     "name": "stderr",
     "output_type": "stream",
     "text": [
      "\r",
      "Processing rows:  45%|████▌     | 541/1200 [26:46<38:06,  3.47s/it]"
     ]
    },
    {
     "name": "stdout",
     "output_type": "stream",
     "text": [
      "Trang sức,33900,38,216,53,Ho Chi Minh,55000,16500,97,100,nan,0,0,1,1,51\n"
     ]
    },
    {
     "name": "stderr",
     "output_type": "stream",
     "text": [
      "\r",
      "Processing rows:  45%|████▌     | 542/1200 [26:50<37:56,  3.46s/it]"
     ]
    },
    {
     "name": "stdout",
     "output_type": "stream",
     "text": [
      "Trang sức,31623,51,56,20,Ho Chi Minh,65000,16500,94,100,nan,2,0,1,1,17\n"
     ]
    },
    {
     "name": "stderr",
     "output_type": "stream",
     "text": [
      "\r",
      "Processing rows:  45%|████▌     | 543/1200 [26:52<35:34,  3.25s/it]"
     ]
    },
    {
     "name": "stdout",
     "output_type": "stream",
     "text": [
      "Trang sức,42600,38,214,58,Ho Chi Minh,69000,16500,97,100,nan,1,2,0,0,55\n"
     ]
    },
    {
     "name": "stderr",
     "output_type": "stream",
     "text": [
      "\r",
      "Processing rows:  45%|████▌     | 544/1200 [26:55<35:01,  3.20s/it]"
     ]
    },
    {
     "name": "stdout",
     "output_type": "stream",
     "text": [
      "Trang sức,8000,38,227,36,Nước ngoài,24000,17000,95,100,62,2,0,1,2,31\n"
     ]
    },
    {
     "name": "stderr",
     "output_type": "stream",
     "text": [
      "\r",
      "Processing rows:  45%|████▌     | 545/1200 [26:59<37:41,  3.45s/it]"
     ]
    },
    {
     "name": "stdout",
     "output_type": "stream",
     "text": [
      "Trang sức,15200,50,16,3,Nước ngoài,48700,Miễn phí,97,99,100,0,0,0,3\n"
     ]
    },
    {
     "name": "stderr",
     "output_type": "stream",
     "text": [
      "\r",
      "Processing rows:  46%|████▌     | 546/1200 [27:03<38:20,  3.52s/it]"
     ]
    },
    {
     "name": "stdout",
     "output_type": "stream",
     "text": [
      "Trang sức,51300,42,51,13,Ho Chi Minh,89000,16500,97,100,nan,0,0,0,0,13\n"
     ]
    },
    {
     "name": "stderr",
     "output_type": "stream",
     "text": [
      "\r",
      "Processing rows:  46%|████▌     | 547/1200 [27:06<34:59,  3.21s/it]"
     ]
    },
    {
     "name": "stdout",
     "output_type": "stream",
     "text": [
      "Trang sức,85000,47,30,6,Hung Yen,318000,37700,96,100,100,0,0,0,6\n"
     ]
    },
    {
     "name": "stderr",
     "output_type": "stream",
     "text": [
      "\r",
      "Processing rows:  46%|████▌     | 548/1200 [27:09<34:25,  3.17s/it]"
     ]
    },
    {
     "name": "stdout",
     "output_type": "stream",
     "text": [
      "Trang suc,11035,54,655,105,Nước ngoài,24000,17000,95,99,100,2,2,2,3,96\n"
     ]
    },
    {
     "name": "stderr",
     "output_type": "stream",
     "text": [
      "\r",
      "Processing rows:  46%|████▌     | 549/1200 [27:13<36:39,  3.38s/it]"
     ]
    },
    {
     "name": "stdout",
     "output_type": "stream",
     "text": [
      "Trang sức,144000,48,232,70,Ha Noi,275000,32700,96,98,100,2,0,1,0,67\n"
     ]
    },
    {
     "name": "stderr",
     "output_type": "stream",
     "text": [
      "\r",
      "Processing rows:  46%|████▌     | 550/1200 [27:17<39:49,  3.68s/it]"
     ]
    },
    {
     "name": "stdout",
     "output_type": "stream",
     "text": [
      "Trang sức,8000,20,nan,nan,Nước ngoài,10000,17000,100,100,100,0,0,0,0\n"
     ]
    },
    {
     "name": "stderr",
     "output_type": "stream",
     "text": [
      "\r",
      "Processing rows:  46%|████▌     | 551/1200 [27:20<37:25,  3.46s/it]"
     ]
    },
    {
     "name": "stdout",
     "output_type": "stream",
     "text": [
      "Trang sức,24052,57,7,2,Nước ngoài,56000,17000,98,100,100,0,0,0,2\n"
     ]
    },
    {
     "name": "stderr",
     "output_type": "stream",
     "text": [
      "\r",
      "Processing rows:  46%|████▌     | 552/1200 [27:24<38:21,  3.55s/it]"
     ]
    },
    {
     "name": "stdout",
     "output_type": "stream",
     "text": [
      "Trang sức,29000,40,13,2,Nước ngoài,48000,17000,95,99,100,0,0,0,2\n"
     ]
    },
    {
     "name": "stderr",
     "output_type": "stream",
     "text": [
      "\r",
      "Processing rows:  46%|████▌     | 553/1200 [27:26<34:31,  3.20s/it]"
     ]
    },
    {
     "name": "stdout",
     "output_type": "stream",
     "text": [
      "Trang sức,28900,12,8,6,Nước ngoài,15900,17000,98,96,None,0,0,0,1,5\n"
     ]
    },
    {
     "name": "stderr",
     "output_type": "stream",
     "text": [
      "\r",
      "Processing rows:  46%|████▌     | 554/1200 [27:29<33:59,  3.16s/it]"
     ]
    },
    {
     "name": "stdout",
     "output_type": "stream",
     "text": [
      "Trang sức,10000,40,34,9,Ho Chi Minh,16667,17000,92,100,None,0,0,0,1,8\n"
     ]
    },
    {
     "name": "stderr",
     "output_type": "stream",
     "text": [
      "\r",
      "Processing rows:  46%|████▋     | 555/1200 [27:33<35:30,  3.30s/it]"
     ]
    },
    {
     "name": "stdout",
     "output_type": "stream",
     "text": [
      "Trang sức,35000,42,276,81,Nước ngoài,60000,17000,98,100,100,1,0,1,3,76\n"
     ]
    },
    {
     "name": "stderr",
     "output_type": "stream",
     "text": [
      "\r",
      "Processing rows:  46%|████▋     | 556/1200 [27:36<35:42,  3.33s/it]"
     ]
    },
    {
     "name": "stdout",
     "output_type": "stream",
     "text": [
      "Trang sức,11000,40,None,2,Nước ngoài,18333,17000,92,100,None,0,0,0,0,2\n"
     ]
    },
    {
     "name": "stderr",
     "output_type": "stream",
     "text": [
      "\r",
      "Processing rows:  46%|████▋     | 557/1200 [27:39<33:58,  3.17s/it]"
     ]
    },
    {
     "name": "stdout",
     "output_type": "stream",
     "text": [
      "Trang sức,69000,8,217,2,Ho Chi Minh,76000,17000,95,93,99,0,0,0,2\n"
     ]
    },
    {
     "name": "stderr",
     "output_type": "stream",
     "text": [
      "\r",
      "Processing rows:  46%|████▋     | 558/1200 [27:44<40:06,  3.75s/it]"
     ]
    },
    {
     "name": "stdout",
     "output_type": "stream",
     "text": [
      "Trang sức,599000,40,66,12,Ha Noi,1000000,32700,None,100,100,0,0,0,0,13\n"
     ]
    },
    {
     "name": "stderr",
     "output_type": "stream",
     "text": [
      "\r",
      "Processing rows:  47%|████▋     | 559/1200 [27:47<37:47,  3.54s/it]"
     ]
    },
    {
     "name": "stdout",
     "output_type": "stream",
     "text": [
      "Trang sức,85635,59,None,2,Ho Chi Minh,210000,16500,87,98,82,0,0,0,2\n"
     ]
    },
    {
     "name": "stderr",
     "output_type": "stream",
     "text": [
      "\r",
      "Processing rows:  47%|████▋     | 560/1200 [27:50<35:38,  3.34s/it]"
     ]
    },
    {
     "name": "stdout",
     "output_type": "stream",
     "text": [
      "Trang sức,50000,38,105,30,Nước ngoài,80000,17000,98,100,100,0,0,0,31\n"
     ]
    },
    {
     "name": "stderr",
     "output_type": "stream",
     "text": [
      "\r",
      "Processing rows:  47%|████▋     | 561/1200 [27:53<34:27,  3.23s/it]"
     ]
    },
    {
     "name": "stdout",
     "output_type": "stream",
     "text": [
      "Trang suc,32870,52,44,13,Nước ngoài,69000,17000,95,99,100,1,1,0,0,11\n"
     ]
    },
    {
     "name": "stderr",
     "output_type": "stream",
     "text": [
      "\r",
      "Processing rows:  47%|████▋     | 562/1200 [27:55<31:14,  2.94s/it]"
     ]
    },
    {
     "name": "stdout",
     "output_type": "stream",
     "text": [
      "Trang sức,6113,31,212,43,Ho Chi Minh,25419,17000,94,100,100,1,0,2,3,37\n"
     ]
    },
    {
     "name": "stderr",
     "output_type": "stream",
     "text": [
      "\r",
      "Processing rows:  47%|████▋     | 563/1200 [27:59<33:36,  3.17s/it]"
     ]
    },
    {
     "name": "stdout",
     "output_type": "stream",
     "text": [
      "Trang sức,14999,40,452,143,Nước ngoài,24998,17000,95,98,None,5,2,5,3,129\n"
     ]
    },
    {
     "name": "stderr",
     "output_type": "stream",
     "text": [
      "\r",
      "Processing rows:  47%|████▋     | 564/1200 [28:02<33:05,  3.12s/it]"
     ]
    },
    {
     "name": "stdout",
     "output_type": "stream",
     "text": [
      "Trang sức,66202,45,138,35,Hai Duong,120000,37700,97,99,84,0,1,0,0,34\n"
     ]
    },
    {
     "name": "stderr",
     "output_type": "stream",
     "text": [
      "\r",
      "Processing rows:  47%|████▋     | 565/1200 [28:05<32:31,  3.07s/it]"
     ]
    },
    {
     "name": "stdout",
     "output_type": "stream",
     "text": [
      "Trang suc,10220,56,74,33,Nước ngoài,31000,17000,96,95,96,0,0,2,1,32\n"
     ]
    },
    {
     "name": "stderr",
     "output_type": "stream",
     "text": [
      "\r",
      "Processing rows:  47%|████▋     | 566/1200 [28:08<31:07,  2.95s/it]"
     ]
    },
    {
     "name": "stdout",
     "output_type": "stream",
     "text": [
      "Trang sức,11284,54,218,36,Ho Chi Minh,25500,17000,97,99,100,2,0,1,1,32\n"
     ]
    },
    {
     "name": "stderr",
     "output_type": "stream",
     "text": [
      "\r",
      "Processing rows:  47%|████▋     | 567/1200 [28:10<30:20,  2.88s/it]"
     ]
    },
    {
     "name": "stdout",
     "output_type": "stream",
     "text": [
      "Trang sức,14873,56,926,18,Nước ngoài,34000,17000,96,99,100,1,0,0,0,17\n"
     ]
    },
    {
     "name": "stderr",
     "output_type": "stream",
     "text": [
      "\r",
      "Processing rows:  47%|████▋     | 568/1200 [28:13<29:58,  2.85s/it]"
     ]
    },
    {
     "name": "stdout",
     "output_type": "stream",
     "text": [
      "Trang sức,5574,54,188,24,Nước ngoài,12200,17000,97,98,100,0,0,0,1,24\n"
     ]
    },
    {
     "name": "stderr",
     "output_type": "stream",
     "text": [
      "\r",
      "Processing rows:  47%|████▋     | 569/1200 [28:15<28:45,  2.73s/it]"
     ]
    },
    {
     "name": "stdout",
     "output_type": "stream",
     "text": [
      "Trang sức,15162,29,268,75,Nước ngoài,22056,17000,97,84,100,2,2,0,2,69\n"
     ]
    },
    {
     "name": "stderr",
     "output_type": "stream",
     "text": [
      "\r",
      "Processing rows:  48%|████▊     | 570/1200 [28:19<30:24,  2.90s/it]"
     ]
    },
    {
     "name": "stdout",
     "output_type": "stream",
     "text": [
      "Trang sức,5855,51,256,51,Nước ngoài,28000,17000,95,99,100,3,0,0,2,46\n"
     ]
    },
    {
     "name": "stderr",
     "output_type": "stream",
     "text": [
      "\r",
      "Processing rows:  48%|████▊     | 571/1200 [28:21<28:57,  2.76s/it]"
     ]
    },
    {
     "name": "stdout",
     "output_type": "stream",
     "text": [
      "Trang sức,80340,16,74,13,Nước ngoài,95872,17000,95,96,100,0,0,1,0,12\n"
     ]
    },
    {
     "name": "stderr",
     "output_type": "stream",
     "text": [
      "\r",
      "Processing rows:  48%|████▊     | 572/1200 [28:23<26:48,  2.56s/it]"
     ]
    },
    {
     "name": "stdout",
     "output_type": "stream",
     "text": [
      "Trang sức,28000,39,372,57,Nước ngoài,46000,17000,95,98,100,3,0,1,1,52\n"
     ]
    },
    {
     "name": "stderr",
     "output_type": "stream",
     "text": [
      "\r",
      "Processing rows:  48%|████▊     | 573/1200 [28:26<27:50,  2.66s/it]"
     ]
    },
    {
     "name": "stdout",
     "output_type": "stream",
     "text": [
      "Trang sức,66292,40,1100,215,Nước ngoài,111159,17000,95,98,81,10,4,7,9,185\n"
     ]
    },
    {
     "name": "stderr",
     "output_type": "stream",
     "text": [
      "\r",
      "Processing rows:  48%|████▊     | 574/1200 [28:30<32:02,  3.07s/it]"
     ]
    },
    {
     "name": "stdout",
     "output_type": "stream",
     "text": [
      "Trang sức,24000,41,244,48,Nước ngoài,41000,17000,96,100,nan,0,0,0,1,47\n"
     ]
    },
    {
     "name": "stderr",
     "output_type": "stream",
     "text": [
      "\r",
      "Processing rows:  48%|████▊     | 575/1200 [28:33<30:17,  2.91s/it]"
     ]
    },
    {
     "name": "stdout",
     "output_type": "stream",
     "text": [
      "Trang sức,28912,54,44,12,Ho Chi Minh,62200,17000,97,94,36,0,0,0,0,12\n"
     ]
    },
    {
     "name": "stderr",
     "output_type": "stream",
     "text": [
      "\r",
      "Processing rows:  48%|████▊     | 576/1200 [28:36<29:53,  2.87s/it]"
     ]
    },
    {
     "name": "stdout",
     "output_type": "stream",
     "text": [
      "Trang sức,45176,10,259,62,Ho Chi Minh,50000,16500,93,100,100,2,0,1,3,56\n"
     ]
    },
    {
     "name": "stderr",
     "output_type": "stream",
     "text": [
      "\r",
      "Processing rows:  48%|████▊     | 577/1200 [28:39<30:10,  2.91s/it]"
     ]
    },
    {
     "name": "stdout",
     "output_type": "stream",
     "text": [
      "Trang sức,54393,40,58,12,Nước ngoài,91057,17000,95,98,81,0,0,1,0,11\n"
     ]
    },
    {
     "name": "stderr",
     "output_type": "stream",
     "text": [
      "\r",
      "Processing rows:  48%|████▊     | 578/1200 [28:42<32:54,  3.18s/it]"
     ]
    },
    {
     "name": "stdout",
     "output_type": "stream",
     "text": [
      "Trang sức,34333,55,190,38,Ho Chi Minh,76000,16500,87,99,100,2,0,0,1,36\n"
     ]
    },
    {
     "name": "stderr",
     "output_type": "stream",
     "text": [
      "\r",
      "Processing rows:  48%|████▊     | 579/1200 [28:44<29:45,  2.87s/it]"
     ]
    },
    {
     "name": "stdout",
     "output_type": "stream",
     "text": [
      "Trang sức,94000,57,104,34,Ha Noi,220000,32700,96,98,100,1,0,0,0,33\n"
     ]
    },
    {
     "name": "stderr",
     "output_type": "stream",
     "text": [
      "\r",
      "Processing rows:  48%|████▊     | 580/1200 [28:47<27:24,  2.65s/it]"
     ]
    },
    {
     "name": "stdout",
     "output_type": "stream",
     "text": [
      "Trang sức,80000,None,36,10,Ho Chi Minh,None,18300,98,70,None,0,0,0,0,10\n"
     ]
    },
    {
     "name": "stderr",
     "output_type": "stream",
     "text": [
      "\r",
      "Processing rows:  48%|████▊     | 581/1200 [28:50<29:47,  2.89s/it]"
     ]
    },
    {
     "name": "stdout",
     "output_type": "stream",
     "text": [
      "Trang sức,39900,48,1100,225,Ha Noi,76000,32700,84,86,100,10,2,12,12,189\n"
     ]
    },
    {
     "name": "stderr",
     "output_type": "stream",
     "text": [
      "\r",
      "Processing rows:  48%|████▊     | 582/1200 [28:52<28:03,  2.72s/it]"
     ]
    },
    {
     "name": "stdout",
     "output_type": "stream",
     "text": [
      "Trang sức,52854,19,117,44,Ho Chi Minh,99000,16500,97,99,86,0,0,0,44\n"
     ]
    },
    {
     "name": "stderr",
     "output_type": "stream",
     "text": [
      "\r",
      "Processing rows:  49%|████▊     | 583/1200 [28:55<28:58,  2.82s/it]"
     ]
    },
    {
     "name": "stdout",
     "output_type": "stream",
     "text": [
      "Trang sức,30346,49,89,34,Ho Chi Minh,60000,17000,97,94,36,0,2,1,0,32\n"
     ]
    },
    {
     "name": "stderr",
     "output_type": "stream",
     "text": [
      "\r",
      "Processing rows:  49%|████▊     | 584/1200 [28:59<31:12,  3.04s/it]"
     ]
    },
    {
     "name": "stdout",
     "output_type": "stream",
     "text": [
      "Trang sức,38000,33,96,16,Ho Chi Minh,57000,17000,92,None,None,1,0,0,0,15\n"
     ]
    },
    {
     "name": "stderr",
     "output_type": "stream",
     "text": [
      "\r",
      "Processing rows:  49%|████▉     | 585/1200 [29:01<28:55,  2.82s/it]"
     ]
    },
    {
     "name": "stdout",
     "output_type": "stream",
     "text": [
      "Trang sức,7479,23,7,None,Nước ngoài,9723,17000,91,100,None,0,0,0,0,0\n"
     ]
    },
    {
     "name": "stderr",
     "output_type": "stream",
     "text": [
      "\r",
      "Processing rows:  49%|████▉     | 586/1200 [29:03<26:40,  2.61s/it]"
     ]
    },
    {
     "name": "stdout",
     "output_type": "stream",
     "text": [
      "Trang sức,61168,49,169,42,Nước ngoài,120000,17000,97,100,100,0,0,0,42\n"
     ]
    },
    {
     "name": "stderr",
     "output_type": "stream",
     "text": [
      "\r",
      "Processing rows:  49%|████▉     | 587/1200 [29:07<30:20,  2.97s/it]"
     ]
    },
    {
     "name": "stdout",
     "output_type": "stream",
     "text": [
      "Trang sức,80740,74,135,26,Ho Chi Minh,459000,17000,96,100,90,0,1,0,3,22\n"
     ]
    },
    {
     "name": "stderr",
     "output_type": "stream",
     "text": [
      "\r",
      "Processing rows:  49%|████▉     | 588/1200 [29:10<29:31,  2.89s/it]"
     ]
    },
    {
     "name": "stdout",
     "output_type": "stream",
     "text": [
      "Trang sức,40000,43,227,46,Nước ngoài,70000,17000,98,100,100,2,0,1,1,42\n"
     ]
    },
    {
     "name": "stderr",
     "output_type": "stream",
     "text": [
      "\r",
      "Processing rows:  49%|████▉     | 589/1200 [29:13<28:54,  2.84s/it]"
     ]
    },
    {
     "name": "stdout",
     "output_type": "stream",
     "text": [
      "Trang sức,67000,21,248,87,Nước ngoài,118000,17000,96,100,nan,0,0,0,5,82\n"
     ]
    },
    {
     "name": "stderr",
     "output_type": "stream",
     "text": [
      "\r",
      "Processing rows:  49%|████▉     | 590/1200 [29:18<36:20,  3.58s/it]"
     ]
    },
    {
     "name": "stdout",
     "output_type": "stream",
     "text": [
      "Trang sức,75000,46,1000,411,Ho Chi Minh,139000,16500,99,100,66,4,2,1,3,402\n"
     ]
    },
    {
     "name": "stderr",
     "output_type": "stream",
     "text": [
      "\r",
      "Processing rows:  49%|████▉     | 591/1200 [29:21<33:25,  3.29s/it]"
     ]
    },
    {
     "name": "stdout",
     "output_type": "stream",
     "text": [
      "Trang sức,14700,40,77,32,Ho Chi Minh,24500,17000,92,100,nan,0,1,3,3,25\n"
     ]
    },
    {
     "name": "stderr",
     "output_type": "stream",
     "text": [
      "\r",
      "Processing rows:  49%|████▉     | 592/1200 [29:23<29:36,  2.92s/it]"
     ]
    },
    {
     "name": "stdout",
     "output_type": "stream",
     "text": [
      "Trang sức,25000,50,1900,342,Ho Chi Minh,None,None,None,None,None,6,1,4,12,319\n"
     ]
    },
    {
     "name": "stderr",
     "output_type": "stream",
     "text": [
      "\r",
      "Processing rows:  49%|████▉     | 593/1200 [29:25<29:06,  2.88s/it]"
     ]
    },
    {
     "name": "stdout",
     "output_type": "stream",
     "text": [
      "Trang sức,12000,50,13,5,Nước ngoài,24000,17000,97,100,100,0,0,0,5\n"
     ]
    },
    {
     "name": "stderr",
     "output_type": "stream",
     "text": [
      "\r",
      "Processing rows:  50%|████▉     | 594/1200 [29:28<28:27,  2.82s/it]"
     ]
    },
    {
     "name": "stdout",
     "output_type": "stream",
     "text": [
      "Trang sức,24000,14,5,3,Nước ngoài,28000,17000,94,97,80,0,0,0,3\n"
     ]
    },
    {
     "name": "stderr",
     "output_type": "stream",
     "text": [
      "\r",
      "Processing rows:  50%|████▉     | 595/1200 [29:30<26:24,  2.62s/it]"
     ]
    },
    {
     "name": "stdout",
     "output_type": "stream",
     "text": [
      "Trang sức,119174,20,53,18,Ho Chi Minh,None,16500,97,99,86,1,0,0,1,17\n"
     ]
    },
    {
     "name": "stderr",
     "output_type": "stream",
     "text": [
      "\r",
      "Processing rows:  50%|████▉     | 596/1200 [29:33<26:03,  2.59s/it]"
     ]
    },
    {
     "name": "stdout",
     "output_type": "stream",
     "text": [
      "Trang sức,19425,37,910,278,Ho Chi Minh,31015,17000,95,98,81,11,6,10,10,242\n"
     ]
    },
    {
     "name": "stderr",
     "output_type": "stream",
     "text": [
      "\r",
      "Processing rows:  50%|████▉     | 597/1200 [29:35<25:50,  2.57s/it]"
     ]
    },
    {
     "name": "stdout",
     "output_type": "stream",
     "text": [
      "Trang sức,43368,55,None,2,Hai Duong,196000,37700,99,100,100,0,0,0,2\n"
     ]
    },
    {
     "name": "stderr",
     "output_type": "stream",
     "text": [
      "\r",
      "Processing rows:  50%|████▉     | 598/1200 [29:38<25:20,  2.53s/it]"
     ]
    },
    {
     "name": "stdout",
     "output_type": "stream",
     "text": [
      "Trang sức,13000,40,11,6,Nước ngoài,21667,17000,92,100,0,0,0,0,7\n"
     ]
    },
    {
     "name": "stderr",
     "output_type": "stream",
     "text": [
      "\r",
      "Processing rows:  50%|████▉     | 599/1200 [29:41<26:04,  2.60s/it]"
     ]
    },
    {
     "name": "stdout",
     "output_type": "stream",
     "text": [
      "Trang sức,12000,40,12,5,Nước ngoài,20000,17000,92,100,0,0,0,0,5\n"
     ]
    },
    {
     "name": "stderr",
     "output_type": "stream",
     "text": [
      "\r",
      "Processing rows:  50%|█████     | 600/1200 [29:43<26:55,  2.69s/it]"
     ]
    },
    {
     "name": "stdout",
     "output_type": "stream",
     "text": [
      "Trang sức,29000,59,16,3,Ha Noi,70000,32700,99,100,66,0,0,0,3\n"
     ]
    },
    {
     "name": "stderr",
     "output_type": "stream",
     "text": [
      "\r",
      "Processing rows:  50%|█████     | 601/1200 [29:46<25:52,  2.59s/it]"
     ]
    },
    {
     "name": "stdout",
     "output_type": "stream",
     "text": [
      "Trang sức,16250,None,26,4,Ha Noi,None,None,None,None,None,0,0,0,0,4\n"
     ]
    },
    {
     "name": "stderr",
     "output_type": "stream",
     "text": [
      "\r",
      "Processing rows:  50%|█████     | 602/1200 [29:49<26:47,  2.69s/it]"
     ]
    },
    {
     "name": "stdout",
     "output_type": "stream",
     "text": [
      "Trang sức,31844,None,14,4,Ho Chi Minh,199000,16500,98,100,None,1,0,0,0,3\n"
     ]
    },
    {
     "name": "stderr",
     "output_type": "stream",
     "text": [
      "\r",
      "Processing rows:  50%|█████     | 603/1200 [29:52<27:27,  2.76s/it]"
     ]
    },
    {
     "name": "stdout",
     "output_type": "stream",
     "text": [
      "Trang sức,6146,None,241,61,Ho Chi Minh,15833,17000,95,99,100,2,0,1,2,57\n"
     ]
    },
    {
     "name": "stderr",
     "output_type": "stream",
     "text": [
      "\r",
      "Processing rows:  50%|█████     | 604/1200 [29:54<27:16,  2.75s/it]"
     ]
    },
    {
     "name": "stdout",
     "output_type": "stream",
     "text": [
      "Trang sức,7000,None,628,117,Ho Chi Minh,19000,17000,95,100,71,10,1,4,7,95\n"
     ]
    },
    {
     "name": "stderr",
     "output_type": "stream",
     "text": [
      "\r",
      "Processing rows:  50%|█████     | 605/1200 [29:57<26:31,  2.67s/it]"
     ]
    },
    {
     "name": "stdout",
     "output_type": "stream",
     "text": [
      "Trang sức,9035,None,1000,220,Ho Chi Minh,17000,17000,97,100,None,2,2,4,7,206\n"
     ]
    },
    {
     "name": "stderr",
     "output_type": "stream",
     "text": [
      "\r",
      "Processing rows:  50%|█████     | 606/1200 [30:00<27:00,  2.73s/it]"
     ]
    },
    {
     "name": "stdout",
     "output_type": "stream",
     "text": [
      "Trang sức,10999,None,922,245,Ho Chi Minh,21567,17000,95,97,None,3,1,5,6,230\n"
     ]
    },
    {
     "name": "stderr",
     "output_type": "stream",
     "text": [
      "\r",
      "Processing rows:  51%|█████     | 607/1200 [30:02<26:50,  2.72s/it]"
     ]
    },
    {
     "name": "stdout",
     "output_type": "stream",
     "text": [
      "Trang sức,18293,None,13,1,Nước ngoài,24005,17000,95,98,100,0,1,0,0,0\n"
     ]
    },
    {
     "name": "stderr",
     "output_type": "stream",
     "text": [
      "\r",
      "Processing rows:  51%|█████     | 608/1200 [30:06<29:55,  3.03s/it]"
     ]
    },
    {
     "name": "stdout",
     "output_type": "stream",
     "text": [
      "Trang sức,12024,None,907,232,Ho Chi Minh,44000,17000,94,100,100,4,1,4,3,221\n"
     ]
    },
    {
     "name": "stderr",
     "output_type": "stream",
     "text": [
      "\r",
      "Processing rows:  51%|█████     | 609/1200 [30:11<35:04,  3.56s/it]"
     ]
    },
    {
     "name": "stdout",
     "output_type": "stream",
     "text": [
      "Trang sức,8925,None,246,68,Ho Chi Minh,23201,17000,95,99,100,5,0,0,3,60\n"
     ]
    },
    {
     "name": "stderr",
     "output_type": "stream",
     "text": [
      "\r",
      "Processing rows:  51%|█████     | 610/1200 [30:13<31:03,  3.16s/it]"
     ]
    },
    {
     "name": "stdout",
     "output_type": "stream",
     "text": [
      "Trang sức,9900,None,243,42,Nước ngoài,19000,17000,95,94,100,2,1,4,0,35\n"
     ]
    },
    {
     "name": "stderr",
     "output_type": "stream",
     "text": [
      "\r",
      "Processing rows:  51%|█████     | 611/1200 [30:15<28:14,  2.88s/it]"
     ]
    },
    {
     "name": "stdout",
     "output_type": "stream",
     "text": [
      "Trang sức,60000,None,73,13,Hai Phong,37700,None,100,None,0,0,0,0,13\n"
     ]
    },
    {
     "name": "stderr",
     "output_type": "stream",
     "text": [
      "\r",
      "Processing rows:  51%|█████     | 612/1200 [30:19<29:36,  3.02s/it]"
     ]
    },
    {
     "name": "stdout",
     "output_type": "stream",
     "text": [
      "Trang sức,25456,None,212,51,Ho Chi Minh,89000,16500,97,99,87,1,0,0,0,50\n"
     ]
    },
    {
     "name": "stderr",
     "output_type": "stream",
     "text": [
      "\r",
      "Processing rows:  51%|█████     | 613/1200 [30:24<36:45,  3.76s/it]"
     ]
    },
    {
     "name": "stdout",
     "output_type": "stream",
     "text": [
      "Trang sức,149000,None,108,24,Ha Noi,269000,32700,80,94,85,2,2,0,0,20\n"
     ]
    },
    {
     "name": "stderr",
     "output_type": "stream",
     "text": [
      "\r",
      "Processing rows:  51%|█████     | 614/1200 [30:26<31:41,  3.24s/it]"
     ]
    },
    {
     "name": "stdout",
     "output_type": "stream",
     "text": [
      "Trang sức,4000,None,109,13,Nước ngoài,7000,17000,95,100,71,0,1,2,0,10\n"
     ]
    },
    {
     "name": "stderr",
     "output_type": "stream",
     "text": [
      "\r",
      "Processing rows:  51%|█████▏    | 615/1200 [30:29<30:10,  3.09s/it]"
     ]
    },
    {
     "name": "stdout",
     "output_type": "stream",
     "text": [
      "Trang sức,44100,None,42,15,Ho Chi Minh,84000,17000,97,100,None,0,0,0,0,15\n"
     ]
    },
    {
     "name": "stderr",
     "output_type": "stream",
     "text": [
      "\r",
      "Processing rows:  51%|█████▏    | 616/1200 [30:32<28:56,  2.97s/it]"
     ]
    },
    {
     "name": "stdout",
     "output_type": "stream",
     "text": [
      "Trang sức,54470,None,64,17,Ho Chi Minh,69000,16500,97,99,87,0,0,0,0,17\n"
     ]
    },
    {
     "name": "stderr",
     "output_type": "stream",
     "text": [
      "\r",
      "Processing rows:  51%|█████▏    | 617/1200 [30:37<35:35,  3.66s/it]"
     ]
    },
    {
     "name": "stdout",
     "output_type": "stream",
     "text": [
      "Trang sức,20397,None,2300,451,Nước ngoài,43200,17000,94,97,100,5,6,10,15,415\n"
     ]
    },
    {
     "name": "stderr",
     "output_type": "stream",
     "text": [
      "\r",
      "Processing rows:  52%|█████▏    | 618/1200 [30:41<36:27,  3.76s/it]"
     ]
    },
    {
     "name": "stdout",
     "output_type": "stream",
     "text": [
      "Trang sức,35000,None,14,3,Nước ngoài,67000,17000,95,100,None,0,0,0,0,3\n"
     ]
    },
    {
     "name": "stderr",
     "output_type": "stream",
     "text": [
      "\r",
      "Processing rows:  52%|█████▏    | 619/1200 [30:46<40:54,  4.23s/it]"
     ]
    },
    {
     "name": "stdout",
     "output_type": "stream",
     "text": [
      "Trang sức,57822,None,86,32,Ho Chi Minh,79000,16500,97,99,87,0,0,0,1,31\n"
     ]
    },
    {
     "name": "stderr",
     "output_type": "stream",
     "text": [
      "\r",
      "Processing rows:  52%|█████▏    | 620/1200 [30:50<40:20,  4.17s/it]"
     ]
    },
    {
     "name": "stdout",
     "output_type": "stream",
     "text": [
      "Trang sức,49000,None,28,7,Ho Chi Minh,79000,16500,97,99,87,0,0,0,1,6\n"
     ]
    },
    {
     "name": "stderr",
     "output_type": "stream",
     "text": [
      "\r",
      "Processing rows:  52%|█████▏    | 621/1200 [30:53<34:57,  3.62s/it]"
     ]
    },
    {
     "name": "stdout",
     "output_type": "stream",
     "text": [
      "Trang sức,94000,None,32,13,Nước ngoài,None,17000,95,93,99,0,0,1,0,12\n"
     ]
    },
    {
     "name": "stderr",
     "output_type": "stream",
     "text": [
      "\r",
      "Processing rows:  52%|█████▏    | 622/1200 [30:55<32:27,  3.37s/it]"
     ]
    },
    {
     "name": "stdout",
     "output_type": "stream",
     "text": [
      "Trang sức,37000,None,None,1,Nước ngoài,97000,17000,100,100,100,0,0,0,0,1\n"
     ]
    },
    {
     "name": "stderr",
     "output_type": "stream",
     "text": [
      "\r",
      "Processing rows:  52%|█████▏    | 623/1200 [30:58<31:29,  3.27s/it]"
     ]
    },
    {
     "name": "stdout",
     "output_type": "stream",
     "text": [
      "Trang sức,23000,None,364,75,Nước ngoài,41000,17000,95,100,None,3,0,1,3,68\n"
     ]
    },
    {
     "name": "stderr",
     "output_type": "stream",
     "text": [
      "\r",
      "Processing rows:  52%|█████▏    | 624/1200 [31:02<30:51,  3.21s/it]"
     ]
    },
    {
     "name": "stdout",
     "output_type": "stream",
     "text": [
      "Trang sức,7558,None,18,6,Nước ngoài,15211,17000,96,96,100,0,0,0,0,7\n"
     ]
    },
    {
     "name": "stderr",
     "output_type": "stream",
     "text": [
      "\r",
      "Processing rows:  52%|█████▏    | 625/1200 [31:07<36:53,  3.85s/it]"
     ]
    },
    {
     "name": "stdout",
     "output_type": "stream",
     "text": [
      "Trang sức,1000,None,None,None,Hà Nội,None,32700,100,None,None,0,0,0,0,0\n"
     ]
    },
    {
     "name": "stderr",
     "output_type": "stream",
     "text": [
      "\r",
      "Processing rows:  52%|█████▏    | 626/1200 [31:10<35:08,  3.67s/it]"
     ]
    },
    {
     "name": "stdout",
     "output_type": "stream",
     "text": [
      "Trang sức,18000,None,18,5,Nước ngoài,48000,17000,95,100,71,0,0,0,5\n"
     ]
    },
    {
     "name": "stderr",
     "output_type": "stream",
     "text": [
      "\r",
      "Processing rows:  52%|█████▏    | 627/1200 [31:14<34:47,  3.64s/it]"
     ]
    },
    {
     "name": "stdout",
     "output_type": "stream",
     "text": [
      "Trang sức,9005,None,10000,1551,Ho Chi Minh,15000,16500,97,100,None,41,10,20,37,1443\n"
     ]
    },
    {
     "name": "stderr",
     "output_type": "stream",
     "text": [
      "\r",
      "Processing rows:  52%|█████▏    | 628/1200 [31:17<34:08,  3.58s/it]"
     ]
    },
    {
     "name": "stdout",
     "output_type": "stream",
     "text": [
      "Trang sức,29000,None,5300,851,Hà Nội,49000,32700,99,100,None,4,1,5,16,825\n"
     ]
    },
    {
     "name": "stderr",
     "output_type": "stream",
     "text": [
      "\r",
      "Processing rows:  52%|█████▏    | 629/1200 [31:20<32:48,  3.45s/it]"
     ]
    },
    {
     "name": "stdout",
     "output_type": "stream",
     "text": [
      "Trang sức,29432,None,43,16,Nước ngoài,64000,17000,96,89,100,1,0,0,0,15\n"
     ]
    },
    {
     "name": "stderr",
     "output_type": "stream",
     "text": [
      "\r",
      "Processing rows:  52%|█████▎    | 630/1200 [31:24<32:15,  3.40s/it]"
     ]
    },
    {
     "name": "stdout",
     "output_type": "stream",
     "text": [
      "Trang sức,35000,None,446,118,Nước ngoài,70000,17000,95,97,100,1,1,2,4,110\n"
     ]
    },
    {
     "name": "stderr",
     "output_type": "stream",
     "text": [
      "\r",
      "Processing rows:  53%|█████▎    | 631/1200 [31:27<30:55,  3.26s/it]"
     ]
    },
    {
     "name": "stdout",
     "output_type": "stream",
     "text": [
      "Trang sức,8000,None,20,4,Nước ngoài,21000,17000,95,100,71,0,0,1,0,3\n"
     ]
    },
    {
     "name": "stderr",
     "output_type": "stream",
     "text": [
      "\r",
      "Processing rows:  53%|█████▎    | 632/1200 [31:30<30:50,  3.26s/it]"
     ]
    },
    {
     "name": "stdout",
     "output_type": "stream",
     "text": [
      "Trang sức,23200,None,154,36,Nước ngoài,46400,17000,95,97,100,1,0,0,0,35\n"
     ]
    },
    {
     "name": "stderr",
     "output_type": "stream",
     "text": [
      "\r",
      "Processing rows:  53%|█████▎    | 633/1200 [31:32<28:12,  2.98s/it]"
     ]
    },
    {
     "name": "stdout",
     "output_type": "stream",
     "text": [
      "Trang sức,19000,None,226,56,Nước ngoài,28000,17000,98,90,100,1,0,0,0,55\n"
     ]
    },
    {
     "name": "stderr",
     "output_type": "stream",
     "text": [
      "\r",
      "Processing rows:  53%|█████▎    | 634/1200 [31:37<33:00,  3.50s/it]"
     ]
    },
    {
     "name": "stdout",
     "output_type": "stream",
     "text": [
      "Trang sức,600000,None,None,None,Ha Noi,None,Miễn Phí,100,None,None,0,0,0,0,0\n"
     ]
    },
    {
     "name": "stderr",
     "output_type": "stream",
     "text": [
      "\r",
      "Processing rows:  53%|█████▎    | 635/1200 [31:40<31:13,  3.32s/it]"
     ]
    },
    {
     "name": "stdout",
     "output_type": "stream",
     "text": [
      "Trang sức,7073,None,8,8,Nước ngoài,13992,17000,93,100,100,0,0,0,8\n"
     ]
    },
    {
     "name": "stderr",
     "output_type": "stream",
     "text": [
      "\r",
      "Processing rows:  53%|█████▎    | 636/1200 [31:44<34:58,  3.72s/it]"
     ]
    },
    {
     "name": "stdout",
     "output_type": "stream",
     "text": [
      "Trang sức,20900,None,12,1,Nước ngoài,41000,17000,95,100,None,0,0,0,0,1\n"
     ]
    },
    {
     "name": "stderr",
     "output_type": "stream",
     "text": [
      "\r",
      "Processing rows:  53%|█████▎    | 637/1200 [31:48<33:35,  3.58s/it]"
     ]
    },
    {
     "name": "stdout",
     "output_type": "stream",
     "text": [
      "Trang sức,8000,None,18,2,Ho Chi Minh,15000,17000,94,100,100,0,1,0,0,1\n"
     ]
    },
    {
     "name": "stderr",
     "output_type": "stream",
     "text": [
      "\r",
      "Processing rows:  53%|█████▎    | 638/1200 [31:51<33:21,  3.56s/it]"
     ]
    },
    {
     "name": "stdout",
     "output_type": "stream",
     "text": [
      "Trang sức,26800,None,523,105,Nước ngoài,36400,17000,95,100,None,5,0,0,3,97\n"
     ]
    },
    {
     "name": "stderr",
     "output_type": "stream",
     "text": [
      "\r",
      "Processing rows:  53%|█████▎    | 639/1200 [31:54<31:59,  3.42s/it]"
     ]
    },
    {
     "name": "stdout",
     "output_type": "stream",
     "text": [
      "Trang sức,3771,None,None,None,Ho Chi Minh,4500,16500,100,100,None,0,0,0,0,0\n"
     ]
    },
    {
     "name": "stderr",
     "output_type": "stream",
     "text": [
      "\r",
      "Processing rows:  53%|█████▎    | 640/1200 [31:58<31:37,  3.39s/it]"
     ]
    },
    {
     "name": "stdout",
     "output_type": "stream",
     "text": [
      "Trang sức,10000,None,None,None,Nước ngoài,23000,17000,94,100,None,0,0,0,0,0\n"
     ]
    },
    {
     "name": "stderr",
     "output_type": "stream",
     "text": [
      "\r",
      "Processing rows:  53%|█████▎    | 641/1200 [32:01<33:07,  3.56s/it]"
     ]
    },
    {
     "name": "stdout",
     "output_type": "stream",
     "text": [
      "Trang sức,16250,35,26,4,Ha Noi,15000,32700,97,100,0,0,0,0,4\n"
     ]
    },
    {
     "name": "stderr",
     "output_type": "stream",
     "text": [
      "\r",
      "Processing rows:  54%|█████▎    | 642/1200 [32:05<32:43,  3.52s/it]"
     ]
    },
    {
     "name": "stdout",
     "output_type": "stream",
     "text": [
      "Trang sức,15000,25,351,63,Ha Noi,35000,32700,97,100,None,2,0,2,4,55\n"
     ]
    },
    {
     "name": "stderr",
     "output_type": "stream",
     "text": [
      "\r",
      "Processing rows:  54%|█████▎    | 643/1200 [32:09<33:34,  3.62s/it]"
     ]
    },
    {
     "name": "stdout",
     "output_type": "stream",
     "text": [
      "Trang sức,17076,66,3100,496,Ho Chi Minh,50000,16500,97,100,85,7,4,4,6\n"
     ]
    },
    {
     "name": "stderr",
     "output_type": "stream",
     "text": [
      "\r",
      "Processing rows:  54%|█████▎    | 644/1200 [32:13<34:41,  3.74s/it]"
     ]
    },
    {
     "name": "stdout",
     "output_type": "stream",
     "text": [
      "Trang sức,5900,74,1900,597,Ho Chi Minh,22906,17000,96,95,97,13,8,15,14,547\n"
     ]
    },
    {
     "name": "stderr",
     "output_type": "stream",
     "text": [
      "\r",
      "Processing rows:  54%|█████▍    | 645/1200 [32:16<32:46,  3.54s/it]"
     ]
    },
    {
     "name": "stdout",
     "output_type": "stream",
     "text": [
      "Trang sức,9320,59,135,32,Ho Chi Minh,27975,17000,96,95,97,1,0,0,1,30\n"
     ]
    },
    {
     "name": "stderr",
     "output_type": "stream",
     "text": [
      "\r",
      "Processing rows:  54%|█████▍    | 646/1200 [32:20<34:01,  3.69s/it]"
     ]
    },
    {
     "name": "stdout",
     "output_type": "stream",
     "text": [
      "Trang sức,22750,42,663,179,Ho Chi Minh,39000,16500,97,99,87,1,1,2,2,173\n"
     ]
    },
    {
     "name": "stderr",
     "output_type": "stream",
     "text": [
      "\r",
      "Processing rows:  54%|█████▍    | 647/1200 [32:23<32:34,  3.53s/it]"
     ]
    },
    {
     "name": "stdout",
     "output_type": "stream",
     "text": [
      "Trang sức,20000,47,149,64,Ho Chi Minh,30000,17000,95,100,71,7,2,0,1,54\n"
     ]
    },
    {
     "name": "stderr",
     "output_type": "stream",
     "text": [
      "\r",
      "Processing rows:  54%|█████▍    | 648/1200 [32:26<31:27,  3.42s/it]"
     ]
    },
    {
     "name": "stdout",
     "output_type": "stream",
     "text": [
      "Trang sức,8000,38,43,21,Ho Chi Minh,24000,17000,95,100,71,0,0,2,0,19\n"
     ]
    },
    {
     "name": "stderr",
     "output_type": "stream",
     "text": [
      "\r",
      "Processing rows:  54%|█████▍    | 649/1200 [32:30<32:22,  3.52s/it]"
     ]
    },
    {
     "name": "stdout",
     "output_type": "stream",
     "text": [
      "Trang sức,12000,47,5,3,Nước ngoài,22500,17000,94,95,100,0,0,0,3\n"
     ]
    },
    {
     "name": "stderr",
     "output_type": "stream",
     "text": [
      "\r",
      "Processing rows:  54%|█████▍    | 650/1200 [32:34<33:26,  3.65s/it]"
     ]
    },
    {
     "name": "stdout",
     "output_type": "stream",
     "text": [
      "Trang sức,39998,None,49,8,Ho Chi Minh,None,16500,96,100,None,0,0,0,0,8\n"
     ]
    },
    {
     "name": "stderr",
     "output_type": "stream",
     "text": [
      "\r",
      "Processing rows:  54%|█████▍    | 651/1200 [32:36<29:36,  3.24s/it]"
     ]
    },
    {
     "name": "stdout",
     "output_type": "stream",
     "text": [
      "Trang sức,60000,None,73,13,Hai Phong,37700,None,100,None,0,0,0,0,13\n"
     ]
    },
    {
     "name": "stderr",
     "output_type": "stream",
     "text": [
      "\r",
      "Processing rows:  54%|█████▍    | 652/1200 [32:40<30:56,  3.39s/it]"
     ]
    },
    {
     "name": "stdout",
     "output_type": "stream",
     "text": [
      "Trang sức,25456,31,212,51,Ho Chi Minh,89000,16500,97,99,87,1,0,0,0,50\n"
     ]
    },
    {
     "name": "stderr",
     "output_type": "stream",
     "text": [
      "\r",
      "Processing rows:  54%|█████▍    | 653/1200 [32:44<33:35,  3.68s/it]"
     ]
    },
    {
     "name": "stdout",
     "output_type": "stream",
     "text": [
      "Trang sức,149000,45,108,24,Ha Noi,269000,32700,80,94,85,2,2,0,0,20\n"
     ]
    },
    {
     "name": "stderr",
     "output_type": "stream",
     "text": [
      "\r",
      "Processing rows:  55%|█████▍    | 654/1200 [32:47<31:29,  3.46s/it]"
     ]
    },
    {
     "name": "stdout",
     "output_type": "stream",
     "text": [
      "Trang sức,35000,50,160,33,Nước ngoài,70000,17000,98,100,100,0,0,0,34\n"
     ]
    },
    {
     "name": "stderr",
     "output_type": "stream",
     "text": [
      "\r",
      "Processing rows:  55%|█████▍    | 655/1200 [32:52<35:52,  3.95s/it]"
     ]
    },
    {
     "name": "stdout",
     "output_type": "stream",
     "text": [
      "Trang sức,59685,60,213,67,Ho Chi Minh,200000,16500,97,100,85,0,0,0,3,65\n"
     ]
    },
    {
     "name": "stderr",
     "output_type": "stream",
     "text": [
      "\r",
      "Processing rows:  55%|█████▍    | 656/1200 [32:58<39:23,  4.34s/it]"
     ]
    },
    {
     "name": "stdout",
     "output_type": "stream",
     "text": [
      "Trang sức,24000,56,3000,647,Ha Noi,55000,32700,95,96,100,16,3,13,15,601\n"
     ]
    },
    {
     "name": "stderr",
     "output_type": "stream",
     "text": [
      "\r",
      "Processing rows:  55%|█████▍    | 657/1200 [33:00<33:47,  3.73s/it]"
     ]
    },
    {
     "name": "stdout",
     "output_type": "stream",
     "text": [
      "Trang sức,13840,51,25,3,Ho Chi Minh,28000,17000,96,100,nan,0,0,0,3\n"
     ]
    },
    {
     "name": "stderr",
     "output_type": "stream",
     "text": [
      "\r",
      "Processing rows:  55%|█████▍    | 658/1200 [33:03<32:33,  3.60s/it]"
     ]
    },
    {
     "name": "stdout",
     "output_type": "stream",
     "text": [
      "Trang sức,29000,48,219,59,Ho Chi Minh,56000,18300,99,100,100,0,0,1,1,57\n"
     ]
    },
    {
     "name": "stderr",
     "output_type": "stream",
     "text": [
      "\r",
      "Processing rows:  55%|█████▍    | 659/1200 [33:06<30:18,  3.36s/it]"
     ]
    },
    {
     "name": "stdout",
     "output_type": "stream",
     "text": [
      "Trang sức,54470,21,64,17,Ho Chi Minh,69000,16500,97,99,87,0,0,0,17\n"
     ]
    },
    {
     "name": "stderr",
     "output_type": "stream",
     "text": [
      "\r",
      "Processing rows:  55%|█████▌    | 660/1200 [33:09<28:04,  3.12s/it]"
     ]
    },
    {
     "name": "stdout",
     "output_type": "stream",
     "text": [
      "Trang sức,230000,15,89,19,Ha Noi,350000,21700,80,94,85,0,1,0,1,17\n"
     ]
    },
    {
     "name": "stderr",
     "output_type": "stream",
     "text": [
      "\r",
      "Processing rows:  55%|█████▌    | 661/1200 [33:12<27:57,  3.11s/it]"
     ]
    },
    {
     "name": "stdout",
     "output_type": "stream",
     "text": [
      "Trang sức,14243,23,5,5,Nước ngoài,32834,17000,95,100,100,0,0,0,5\n"
     ]
    },
    {
     "name": "stderr",
     "output_type": "stream",
     "text": [
      "\r",
      "Processing rows:  55%|█████▌    | 662/1200 [33:15<27:30,  3.07s/it]"
     ]
    },
    {
     "name": "stdout",
     "output_type": "stream",
     "text": [
      "Trang sức,30600,47,96,20,Nước ngoài,58000,17000,95,95,0,1,0,0,0,19\n"
     ]
    },
    {
     "name": "stderr",
     "output_type": "stream",
     "text": [
      "\r",
      "Processing rows:  55%|█████▌    | 663/1200 [33:18<27:18,  3.05s/it]"
     ]
    },
    {
     "name": "stdout",
     "output_type": "stream",
     "text": [
      "Trang sức,41631,40,11,6,Ho Chi Minh,69000,16500,97,99,87,0,0,0,6\n"
     ]
    },
    {
     "name": "stderr",
     "output_type": "stream",
     "text": [
      "\r",
      "Processing rows:  55%|█████▌    | 664/1200 [33:21<26:52,  3.01s/it]"
     ]
    },
    {
     "name": "stdout",
     "output_type": "stream",
     "text": [
      "Trang sức,57822,27,86,32,Ho Chi Minh,79000,16500,97,99,87,0,0,0,1,31\n"
     ]
    },
    {
     "name": "stderr",
     "output_type": "stream",
     "text": [
      "\r",
      "Processing rows:  55%|█████▌    | 665/1200 [33:24<28:22,  3.18s/it]"
     ]
    },
    {
     "name": "stdout",
     "output_type": "stream",
     "text": [
      "Trang sức,22925,44,622,121,Nước ngoài,41265,17000,95,92,100,2,2,0,9,108\n"
     ]
    },
    {
     "name": "stderr",
     "output_type": "stream",
     "text": [
      "\r",
      "Processing rows:  56%|█████▌    | 666/1200 [33:28<29:08,  3.27s/it]"
     ]
    },
    {
     "name": "stdout",
     "output_type": "stream",
     "text": [
      "Trang sức,35000,36,1600,377,Nước ngoài,100000,17000,98,100,100,9,0,3,11,355\n"
     ]
    },
    {
     "name": "stderr",
     "output_type": "stream",
     "text": [
      "\r",
      "Processing rows:  56%|█████▌    | 667/1200 [33:31<29:20,  3.30s/it]"
     ]
    },
    {
     "name": "stdout",
     "output_type": "stream",
     "text": [
      "Trang sức,30000,None,14,None,Ho Chi Minh,None,16500,97,100,100,0,0,0,0,0\n"
     ]
    },
    {
     "name": "stderr",
     "output_type": "stream",
     "text": [
      "\r",
      "Processing rows:  56%|█████▌    | 668/1200 [33:34<28:27,  3.21s/it]"
     ]
    },
    {
     "name": "stdout",
     "output_type": "stream",
     "text": [
      "Trang sức,23491,53,598,142,Ho Chi Minh,50000,16500,94,100,100,3,1,2,5,131\n"
     ]
    },
    {
     "name": "stderr",
     "output_type": "stream",
     "text": [
      "\r",
      "Processing rows:  56%|█████▌    | 669/1200 [33:38<29:38,  3.35s/it]"
     ]
    },
    {
     "name": "stdout",
     "output_type": "stream",
     "text": [
      "Trang sức,39000,34,5,2,Ho Chi Minh,59000,16500,97,99,87,0,0,0,3\n"
     ]
    },
    {
     "name": "stderr",
     "output_type": "stream",
     "text": [
      "\r",
      "Processing rows:  56%|█████▌    | 670/1200 [33:41<28:14,  3.20s/it]"
     ]
    },
    {
     "name": "stdout",
     "output_type": "stream",
     "text": [
      "Trang sức,53129,65,1800,437,Ho Chi Minh,150000,16500,92,99,100,6,1,8,23,399\n"
     ]
    },
    {
     "name": "stderr",
     "output_type": "stream",
     "text": [
      "\r",
      "Processing rows:  56%|█████▌    | 671/1200 [33:43<26:02,  2.95s/it]"
     ]
    },
    {
     "name": "stdout",
     "output_type": "stream",
     "text": [
      "Trang sức,29000,41,5300,851,Hà Nội,49000,32700,99,100,None,4,1,5,16,825\n"
     ]
    },
    {
     "name": "stderr",
     "output_type": "stream",
     "text": [
      "\r",
      "Processing rows:  56%|█████▌    | 672/1200 [33:45<24:21,  2.77s/it]"
     ]
    },
    {
     "name": "stdout",
     "output_type": "stream",
     "text": [
      "Trang sức,53306,40,52,9,Ho Chi Minh,89000,16500,97,99,87,0,0,0,9\n"
     ]
    },
    {
     "name": "stderr",
     "output_type": "stream",
     "text": [
      "\r",
      "Processing rows:  56%|█████▌    | 673/1200 [33:48<24:50,  2.83s/it]"
     ]
    },
    {
     "name": "stdout",
     "output_type": "stream",
     "text": [
      "Trang sức,20950,79,559,136,Ha Noi,100000,32700,96,100,100,2,0,3,3,128\n"
     ]
    },
    {
     "name": "stderr",
     "output_type": "stream",
     "text": [
      "\r",
      "Processing rows:  56%|█████▌    | 674/1200 [33:51<25:07,  2.87s/it]"
     ]
    },
    {
     "name": "stdout",
     "output_type": "stream",
     "text": [
      "Trang sức,23846,54,16,7,Ho Chi Minh,36524,17000,98,100,100,1,0,0,0,6\n"
     ]
    },
    {
     "name": "stderr",
     "output_type": "stream",
     "text": [
      "\r",
      "Processing rows:  56%|█████▋    | 675/1200 [33:56<29:16,  3.35s/it]"
     ]
    },
    {
     "name": "stdout",
     "output_type": "stream",
     "text": [
      "Trang sức,60122,81,1500,352,Ho Chi Minh,359000,17000,96,100,90,9,2,8,12,321\n"
     ]
    },
    {
     "name": "stderr",
     "output_type": "stream",
     "text": [
      "\r",
      "Processing rows:  56%|█████▋    | 676/1200 [34:00<30:39,  3.51s/it]"
     ]
    },
    {
     "name": "stdout",
     "output_type": "stream",
     "text": [
      "Trang sức,600000,None,None,None,Ha Noi,None,Miễn Phí,100,None,None,0,0,0,0,0\n"
     ]
    },
    {
     "name": "stderr",
     "output_type": "stream",
     "text": [
      "\r",
      "Processing rows:  56%|█████▋    | 677/1200 [34:02<28:17,  3.25s/it]"
     ]
    },
    {
     "name": "stdout",
     "output_type": "stream",
     "text": [
      "Trang sức,74000,33,None,1,Hai Duong,220000,37700,96,60,100,0,0,0,1\n"
     ]
    },
    {
     "name": "stderr",
     "output_type": "stream",
     "text": [
      "\r",
      "Processing rows:  56%|█████▋    | 678/1200 [34:04<25:36,  2.94s/it]"
     ]
    },
    {
     "name": "stdout",
     "output_type": "stream",
     "text": [
      "Trang sức,105000,None,None,1,Hai Duong,None,Miễn Phí,98,99,66,0,0,0,0,1\n"
     ]
    },
    {
     "name": "stderr",
     "output_type": "stream",
     "text": [
      "\r",
      "Processing rows:  57%|█████▋    | 679/1200 [34:07<24:04,  2.77s/it]"
     ]
    },
    {
     "name": "stdout",
     "output_type": "stream",
     "text": [
      "Trang sức,20482,54,371,82,Ho Chi Minh,44550,17000,89,100,nan,16,7,4,3,53\n"
     ]
    },
    {
     "name": "stderr",
     "output_type": "stream",
     "text": [
      "\r",
      "Processing rows:  57%|█████▋    | 680/1200 [34:09<23:19,  2.69s/it]"
     ]
    },
    {
     "name": "stdout",
     "output_type": "stream",
     "text": [
      "Trang sức,24050,82,16,3,Nước ngoài,130000,17000,98,100,100,0,0,0,3\n"
     ]
    },
    {
     "name": "stderr",
     "output_type": "stream",
     "text": [
      "\r",
      "Processing rows:  57%|█████▋    | 681/1200 [34:12<23:27,  2.71s/it]"
     ]
    },
    {
     "name": "stdout",
     "output_type": "stream",
     "text": [
      "Trang sức,31844,64,14,4,Ho Chi Minh,199000,16500,98,100,nan,1,0,0,0,3\n"
     ]
    },
    {
     "name": "stderr",
     "output_type": "stream",
     "text": [
      "\r",
      "Processing rows:  57%|█████▋    | 682/1200 [34:15<23:39,  2.74s/it]"
     ]
    },
    {
     "name": "stdout",
     "output_type": "stream",
     "text": [
      "Trang sức,9157,49,246,52,Nước ngoài,17999,17000,96,100,100,4,1,1,2,43\n"
     ]
    },
    {
     "name": "stderr",
     "output_type": "stream",
     "text": [
      "\r",
      "Processing rows:  57%|█████▋    | 683/1200 [34:19<26:14,  3.05s/it]"
     ]
    },
    {
     "name": "stdout",
     "output_type": "stream",
     "text": [
      "Trang sức,23200,50,154,36,Nước ngoài,46400,17000,95,97,100,1,0,0,0,35\n"
     ]
    },
    {
     "name": "stderr",
     "output_type": "stream",
     "text": [
      "\r",
      "Processing rows:  57%|█████▋    | 684/1200 [34:22<26:10,  3.04s/it]"
     ]
    },
    {
     "name": "stdout",
     "output_type": "stream",
     "text": [
      "Trang sức,4162,48,1100,302,Ho Chi Minh,8000,Miễn Phí,98,99,90,9,4,2,7,281\n"
     ]
    },
    {
     "name": "stderr",
     "output_type": "stream",
     "text": [
      "\r",
      "Processing rows:  57%|█████▋    | 685/1200 [34:24<25:16,  2.94s/it]"
     ]
    },
    {
     "name": "stdout",
     "output_type": "stream",
     "text": [
      "Trang sức,51035,15,255,101,Ho Chi Minh,49000,17000,95,99,100,1,1,2,3,95\n"
     ]
    },
    {
     "name": "stderr",
     "output_type": "stream",
     "text": [
      "\r",
      "Processing rows:  57%|█████▋    | 686/1200 [34:28<27:03,  3.16s/it]"
     ]
    },
    {
     "name": "stdout",
     "output_type": "stream",
     "text": [
      "Trang sức,66913,25,38,7,Ho Chi Minh,89000,16500,97,99,87,0,0,0,7\n"
     ]
    },
    {
     "name": "stderr",
     "output_type": "stream",
     "text": [
      "\r",
      "Processing rows:  57%|█████▋    | 687/1200 [34:32<28:50,  3.37s/it]"
     ]
    },
    {
     "name": "stdout",
     "output_type": "stream",
     "text": [
      "Trang sức,3782,55,2300,201,Ho Chi Minh,11200,16500,97,88,100,4,1,4,9,183\n"
     ]
    },
    {
     "name": "stderr",
     "output_type": "stream",
     "text": [
      "\r",
      "Processing rows:  57%|█████▋    | 688/1200 [34:35<27:07,  3.18s/it]"
     ]
    },
    {
     "name": "stdout",
     "output_type": "stream",
     "text": [
      "Trang sức,15331,31,26,9,Nước ngoài,22134,17000,93,100,nan,0,0,0,0,9\n"
     ]
    },
    {
     "name": "stderr",
     "output_type": "stream",
     "text": [
      "\r",
      "Processing rows:  57%|█████▋    | 689/1200 [34:37<25:07,  2.95s/it]"
     ]
    },
    {
     "name": "stdout",
     "output_type": "stream",
     "text": [
      "Trang sức,6000,33,457,77,Ho Chi Minh,12332,16500,96,100,100,1,1,1,4,71\n"
     ]
    },
    {
     "name": "stderr",
     "output_type": "stream",
     "text": [
      "\r",
      "Processing rows:  57%|█████▊    | 690/1200 [34:41<27:33,  3.24s/it]"
     ]
    },
    {
     "name": "stdout",
     "output_type": "stream",
     "text": [
      "Trang sức,38808,None,158,22,Hai Duong,37700,90,100,None,0,0,1,0,21\n"
     ]
    },
    {
     "name": "stderr",
     "output_type": "stream",
     "text": [
      "\r",
      "Processing rows:  58%|█████▊    | 691/1200 [34:44<27:38,  3.26s/it]"
     ]
    },
    {
     "name": "stdout",
     "output_type": "stream",
     "text": [
      "Trang sức,34333,58,1100,303,Ho Chi Minh,82000,16500,92,99,100,3,4,7,10,279\n"
     ]
    },
    {
     "name": "stderr",
     "output_type": "stream",
     "text": [
      "\r",
      "Processing rows:  58%|█████▊    | 692/1200 [34:49<31:33,  3.73s/it]"
     ]
    },
    {
     "name": "stdout",
     "output_type": "stream",
     "text": [
      "Trang sức,44100,48,42,15,Ho Chi Minh,84000,17000,97,100,nan,0,0,0,0,15\n"
     ]
    },
    {
     "name": "stderr",
     "output_type": "stream",
     "text": [
      "\r",
      "Processing rows:  58%|█████▊    | 693/1200 [34:52<30:25,  3.60s/it]"
     ]
    },
    {
     "name": "stdout",
     "output_type": "stream",
     "text": [
      "Trang sức,1000,None,20,2,Ha Noi,32700,None,100,None,None,0,0,0,2\n"
     ]
    },
    {
     "name": "stderr",
     "output_type": "stream",
     "text": [
      "\r",
      "Processing rows:  58%|█████▊    | 694/1200 [34:55<28:31,  3.38s/it]"
     ]
    },
    {
     "name": "stdout",
     "output_type": "stream",
     "text": [
      "Trang sức,53306,23,39,17,Ho Chi Minh,69000,16500,97,99,87,0,1,1,1,15\n"
     ]
    },
    {
     "name": "stderr",
     "output_type": "stream",
     "text": [
      "\r",
      "Processing rows:  58%|█████▊    | 695/1200 [34:58<26:40,  3.17s/it]"
     ]
    },
    {
     "name": "stdout",
     "output_type": "stream",
     "text": [
      "Trang sức,37000,41,None,1,Nước ngoài,97000,17000,100,100,100,0,0,0,0,1\n"
     ]
    },
    {
     "name": "stderr",
     "output_type": "stream",
     "text": [
      "\r",
      "Processing rows:  58%|█████▊    | 696/1200 [35:00<24:29,  2.92s/it]"
     ]
    },
    {
     "name": "stdout",
     "output_type": "stream",
     "text": [
      "Trang sức,23000,44,364,75,Nước ngoài,41000,17000,95,100,None,3,0,1,3,68\n"
     ]
    },
    {
     "name": "stderr",
     "output_type": "stream",
     "text": [
      "\r",
      "Processing rows:  58%|█████▊    | 697/1200 [35:03<23:33,  2.81s/it]"
     ]
    },
    {
     "name": "stdout",
     "output_type": "stream",
     "text": [
      "Trang sức,15298,41,61,19,Nước ngoài,45492,17000,95,98,85,4,0,0,0,15\n"
     ]
    },
    {
     "name": "stderr",
     "output_type": "stream",
     "text": [
      "\r",
      "Processing rows:  58%|█████▊    | 698/1200 [35:06<24:53,  2.97s/it]"
     ]
    },
    {
     "name": "stdout",
     "output_type": "stream",
     "text": [
      "Trang sức,1000,None,21,4,Ha Noi,32700,None,100,None,None,0,0,0,4\n"
     ]
    },
    {
     "name": "stderr",
     "output_type": "stream",
     "text": [
      "\r",
      "Processing rows:  58%|█████▊    | 699/1200 [35:09<24:11,  2.90s/it]"
     ]
    },
    {
     "name": "stdout",
     "output_type": "stream",
     "text": [
      "Trang sức,21275,45,18,3,Nước ngoài,39000,17000,93,90,100,0,0,0,4\n"
     ]
    },
    {
     "name": "stderr",
     "output_type": "stream",
     "text": [
      "\r",
      "Processing rows:  58%|█████▊    | 700/1200 [35:12<23:45,  2.85s/it]"
     ]
    },
    {
     "name": "stdout",
     "output_type": "stream",
     "text": [
      "Trang sức,44160,92,95,28,Ho Chi Minh,536000,17000,95,93,99,1,0,1,1,25\n"
     ]
    },
    {
     "name": "stderr",
     "output_type": "stream",
     "text": [
      "\r",
      "Processing rows:  58%|█████▊    | 701/1200 [35:14<23:31,  2.83s/it]"
     ]
    },
    {
     "name": "stdout",
     "output_type": "stream",
     "text": [
      "Trang suc,5851,58,15,20,Nước ngoài,None,None,None,None,None,1,0,0,1,19\n"
     ]
    },
    {
     "name": "stderr",
     "output_type": "stream",
     "text": [
      "\r",
      "Processing rows:  58%|█████▊    | 702/1200 [35:19<27:30,  3.31s/it]"
     ]
    },
    {
     "name": "stdout",
     "output_type": "stream",
     "text": [
      "Trang sức,73687,77,200,45,Ho Chi Minh,495862,17000,95,100,None,0,0,0,1,44\n"
     ]
    },
    {
     "name": "stderr",
     "output_type": "stream",
     "text": [
      "\r",
      "Processing rows:  59%|█████▊    | 703/1200 [35:21<25:16,  3.05s/it]"
     ]
    },
    {
     "name": "stdout",
     "output_type": "stream",
     "text": [
      "Trang sức,24000,66,776,173,Nước ngoài,70000,17000,98,100,100,2,0,3,7,161\n"
     ]
    },
    {
     "name": "stderr",
     "output_type": "stream",
     "text": [
      "\r",
      "Processing rows:  59%|█████▊    | 704/1200 [35:24<24:14,  2.93s/it]"
     ]
    },
    {
     "name": "stdout",
     "output_type": "stream",
     "text": [
      "Trang sức,13700,48,41,7,Ho Chi Minh,26500,17000,94,95,100,0,0,0,8\n"
     ]
    },
    {
     "name": "stderr",
     "output_type": "stream",
     "text": [
      "\r",
      "Processing rows:  59%|█████▉    | 705/1200 [35:27<24:23,  2.96s/it]"
     ]
    },
    {
     "name": "stdout",
     "output_type": "stream",
     "text": [
      "Trang sức,259000,42,115,24,Ha Noi,450000,21700,80,94,85,2,1,0,1,20\n"
     ]
    },
    {
     "name": "stderr",
     "output_type": "stream",
     "text": [
      "\r",
      "Processing rows:  59%|█████▉    | 706/1200 [35:30<24:54,  3.02s/it]"
     ]
    },
    {
     "name": "stdout",
     "output_type": "stream",
     "text": [
      "Trang sức,29000,51,45,12,Ho Chi Minh,59000,16500,97,99,87,0,0,0,12\n"
     ]
    },
    {
     "name": "stderr",
     "output_type": "stream",
     "text": [
      "\r",
      "Processing rows:  59%|█████▉    | 707/1200 [35:33<25:25,  3.10s/it]"
     ]
    },
    {
     "name": "stdout",
     "output_type": "stream",
     "text": [
      "Trang sức,290000,44,33,5,Ha Noi,520000,21700,80,94,85,0,0,0,5\n"
     ]
    },
    {
     "name": "stderr",
     "output_type": "stream",
     "text": [
      "\r",
      "Processing rows:  59%|█████▉    | 708/1200 [35:36<25:21,  3.09s/it]"
     ]
    },
    {
     "name": "stdout",
     "output_type": "stream",
     "text": [
      "Trang sức,98000,18,130,33,Hai Duong,200000,37700,96,94,83,0,0,1,0,32\n"
     ]
    },
    {
     "name": "stderr",
     "output_type": "stream",
     "text": [
      "\r",
      "Processing rows:  59%|█████▉    | 709/1200 [35:39<25:02,  3.06s/it]"
     ]
    },
    {
     "name": "stdout",
     "output_type": "stream",
     "text": [
      "Trang sức,19000,32,226,56,Nước ngoài,28000,17000,98,90,100,1,0,0,0,55\n"
     ]
    },
    {
     "name": "stderr",
     "output_type": "stream",
     "text": [
      "\r",
      "Processing rows:  59%|█████▉    | 710/1200 [35:43<26:36,  3.26s/it]"
     ]
    },
    {
     "name": "stdout",
     "output_type": "stream",
     "text": [
      "Trang sức,90000,50,6,1,Hung Yen,180000,37700,96,100,100,0,0,0,1\n"
     ]
    },
    {
     "name": "stderr",
     "output_type": "stream",
     "text": [
      "\r",
      "Processing rows:  59%|█████▉    | 711/1200 [35:46<25:30,  3.13s/it]"
     ]
    },
    {
     "name": "stdout",
     "output_type": "stream",
     "text": [
      "Trang sức,7073,35,8,8,Nước ngoài,13992,17000,93,100,100,0,0,0,8\n"
     ]
    },
    {
     "name": "stderr",
     "output_type": "stream",
     "text": [
      "\r",
      "Processing rows:  59%|█████▉    | 712/1200 [35:50<27:16,  3.35s/it]"
     ]
    },
    {
     "name": "stdout",
     "output_type": "stream",
     "text": [
      "Trang sức,82962,16,221,40,Ho Chi Minh,99000,16500,97,99,87,0,2,2,0,36\n"
     ]
    },
    {
     "name": "stderr",
     "output_type": "stream",
     "text": [
      "\r",
      "Processing rows:  59%|█████▉    | 713/1200 [35:53<25:33,  3.15s/it]"
     ]
    },
    {
     "name": "stdout",
     "output_type": "stream",
     "text": [
      "Trang sức,3771,16,None,None,Ho Chi Minh,4500,16500,100,100,None,0,0,0,0,0\n"
     ]
    },
    {
     "name": "stderr",
     "output_type": "stream",
     "text": [
      "\r",
      "Processing rows:  60%|█████▉    | 714/1200 [35:55<23:46,  2.93s/it]"
     ]
    },
    {
     "name": "stdout",
     "output_type": "stream",
     "text": [
      "Trang sức,12900,56,None,None,Nước ngoài,74000,17000,97,98,100,0,0,0,0\n"
     ]
    },
    {
     "name": "stderr",
     "output_type": "stream",
     "text": [
      "\r",
      "Processing rows:  60%|█████▉    | 715/1200 [35:59<25:50,  3.20s/it]"
     ]
    },
    {
     "name": "stdout",
     "output_type": "stream",
     "text": [
      "Trang sức,34225,53,147,23,Nước ngoài,73000,17000,95,95,100,1,1,1,1,20\n"
     ]
    },
    {
     "name": "stderr",
     "output_type": "stream",
     "text": [
      "\r",
      "Processing rows:  60%|█████▉    | 716/1200 [36:02<25:16,  3.13s/it]"
     ]
    },
    {
     "name": "stdout",
     "output_type": "stream",
     "text": [
      "Trang sức,31000,49,10,None,Hà Nội,61000,32700,79,100,None,0,0,0,0,0\n"
     ]
    },
    {
     "name": "stderr",
     "output_type": "stream",
     "text": [
      "\r",
      "Processing rows:  60%|█████▉    | 717/1200 [36:06<28:15,  3.51s/it]"
     ]
    },
    {
     "name": "stdout",
     "output_type": "stream",
     "text": [
      "Trang sức,28800,48,28,5,Nước ngoài,67000,17000,97,100,nan,0,0,0,0,5\n"
     ]
    },
    {
     "name": "stderr",
     "output_type": "stream",
     "text": [
      "\r",
      "Processing rows:  60%|█████▉    | 718/1200 [36:10<28:17,  3.52s/it]"
     ]
    },
    {
     "name": "stdout",
     "output_type": "stream",
     "text": [
      "Trang sức,49194,23,None,2,Ho Chi Minh,63952,17000,95,99,92,0,0,0,2\n"
     ]
    },
    {
     "name": "stderr",
     "output_type": "stream",
     "text": [
      "\r",
      "Processing rows:  60%|█████▉    | 719/1200 [36:13<26:45,  3.34s/it]"
     ]
    },
    {
     "name": "stdout",
     "output_type": "stream",
     "text": [
      "Trang sức,75000,12,13,3,Hai Duong,90000,37700,96,94,83,0,0,0,3\n"
     ]
    },
    {
     "name": "stderr",
     "output_type": "stream",
     "text": [
      "\r",
      "Processing rows:  60%|██████    | 720/1200 [36:19<33:21,  4.17s/it]"
     ]
    },
    {
     "name": "stdout",
     "output_type": "stream",
     "text": [
      "Trang sức,49000,67,None,2,Ho Chi Minh,150000,16500,97,100,85,0,0,0,1,1\n"
     ]
    },
    {
     "name": "stderr",
     "output_type": "stream",
     "text": [
      "\r",
      "Processing rows:  60%|██████    | 721/1200 [36:25<37:21,  4.68s/it]"
     ]
    },
    {
     "name": "stdout",
     "output_type": "stream",
     "text": [
      "Trang sức,5272,53,35,12,Ho Chi Minh,11300,17000,97,98,100,0,0,0,0,12\n"
     ]
    },
    {
     "name": "stderr",
     "output_type": "stream",
     "text": [
      "\r",
      "Processing rows:  60%|██████    | 722/1200 [36:28<35:22,  4.44s/it]"
     ]
    },
    {
     "name": "stdout",
     "output_type": "stream",
     "text": [
      "Trang suc,4500,44,56,12,Nước ngoài,8000,17000,94,100,100,0,0,0,12\n"
     ]
    },
    {
     "name": "stderr",
     "output_type": "stream",
     "text": [
      "\r",
      "Processing rows:  60%|██████    | 723/1200 [36:32<32:18,  4.06s/it]"
     ]
    },
    {
     "name": "stdout",
     "output_type": "stream",
     "text": [
      "Trang sức,16000,47,1200,239,Ho Chi Minh,34000,17000,93,98,100,7,0,3,9,220\n"
     ]
    },
    {
     "name": "stderr",
     "output_type": "stream",
     "text": [
      "\r",
      "Processing rows:  60%|██████    | 724/1200 [36:35<29:40,  3.74s/it]"
     ]
    },
    {
     "name": "stdout",
     "output_type": "stream",
     "text": [
      "Trang sức,6587,56,3500,953,Ho Chi Minh,18000,17000,96,95,97,6,9,11,13,915\n"
     ]
    },
    {
     "name": "stderr",
     "output_type": "stream",
     "text": [
      "\r",
      "Processing rows:  60%|██████    | 725/1200 [36:38<28:59,  3.66s/it]"
     ]
    },
    {
     "name": "stdout",
     "output_type": "stream",
     "text": [
      "Trang sức,26201,42,1200,273,Ha Noi,79000,32700,95,100,nan,14,5,4,8,242\n"
     ]
    },
    {
     "name": "stderr",
     "output_type": "stream",
     "text": [
      "\r",
      "Processing rows:  60%|██████    | 726/1200 [36:42<30:22,  3.85s/it]"
     ]
    },
    {
     "name": "stdout",
     "output_type": "stream",
     "text": [
      "Trang sức,22634,35,None,1,Ha Noi,35000,32700,96,92,100,0,0,0,1\n"
     ]
    },
    {
     "name": "stderr",
     "output_type": "stream",
     "text": [
      "\r",
      "Processing rows:  61%|██████    | 727/1200 [36:46<29:17,  3.71s/it]"
     ]
    },
    {
     "name": "stdout",
     "output_type": "stream",
     "text": [
      "Trang sức,18293,23,13,1,Nước ngoài,24005,17000,95,98,100,0,1,0,0,0\n"
     ]
    },
    {
     "name": "stderr",
     "output_type": "stream",
     "text": [
      "\r",
      "Processing rows:  61%|██████    | 728/1200 [36:49<28:52,  3.67s/it]"
     ]
    },
    {
     "name": "stdout",
     "output_type": "stream",
     "text": [
      "Trang sức,71000,28,238,79,Ho Chi Minh,99000,16500,97,99,87,0,1,1,1,76\n"
     ]
    },
    {
     "name": "stderr",
     "output_type": "stream",
     "text": [
      "\r",
      "Processing rows:  61%|██████    | 729/1200 [36:52<26:07,  3.33s/it]"
     ]
    },
    {
     "name": "stdout",
     "output_type": "stream",
     "text": [
      "Trang sức,35000,65,8,4,Ho Chi Minh,100000,16500,97,100,85,0,0,0,4\n"
     ]
    },
    {
     "name": "stderr",
     "output_type": "stream",
     "text": [
      "\r",
      "Processing rows:  61%|██████    | 730/1200 [36:55<26:17,  3.36s/it]"
     ]
    },
    {
     "name": "stdout",
     "output_type": "stream",
     "text": [
      "Trang sức,19000,50,nan,nan,Nước ngoài,38000,17000,93,92,99,0,0,0,0\n"
     ]
    },
    {
     "name": "stderr",
     "output_type": "stream",
     "text": [
      "\r",
      "Processing rows:  61%|██████    | 731/1200 [37:01<31:52,  4.08s/it]"
     ]
    },
    {
     "name": "stdout",
     "output_type": "stream",
     "text": [
      "Trang sức,80000,None,36,10,Ho Chi Minh,None,18300,98,66,None,0,0,0,0,10\n"
     ]
    },
    {
     "name": "stderr",
     "output_type": "stream",
     "text": [
      "\r",
      "Processing rows:  61%|██████    | 732/1200 [37:05<31:02,  3.98s/it]"
     ]
    },
    {
     "name": "stdout",
     "output_type": "stream",
     "text": [
      "Trang sức,68310,None,14,1,Hai Duong,37700,95,100,None,0,0,0,0,1\n"
     ]
    },
    {
     "name": "stderr",
     "output_type": "stream",
     "text": [
      "\r",
      "Processing rows:  61%|██████    | 733/1200 [37:08<28:44,  3.69s/it]"
     ]
    },
    {
     "name": "stdout",
     "output_type": "stream",
     "text": [
      "Trang sức,99000,34,2000,519,Ha Noi,149000,32700,99,100,nan,5,4,5,12,494\n"
     ]
    },
    {
     "name": "stderr",
     "output_type": "stream",
     "text": [
      "\r",
      "Processing rows:  61%|██████    | 734/1200 [37:11<27:36,  3.55s/it]"
     ]
    },
    {
     "name": "stdout",
     "output_type": "stream",
     "text": [
      "Trang sức,21000,48,None,2,Ho Chi Minh,44000,16500,98,100,100,0,0,0,1,1\n"
     ]
    },
    {
     "name": "stderr",
     "output_type": "stream",
     "text": [
      "\r",
      "Processing rows:  61%|██████▏   | 735/1200 [37:13<24:06,  3.11s/it]"
     ]
    },
    {
     "name": "stdout",
     "output_type": "stream",
     "text": [
      "Trang sức,5851,58,41,19,Nước ngoài,14000,17000,95,99,100,1,2,0,0,16\n"
     ]
    },
    {
     "name": "stderr",
     "output_type": "stream",
     "text": [
      "\r",
      "Processing rows:  61%|██████▏   | 736/1200 [37:16<22:28,  2.91s/it]"
     ]
    },
    {
     "name": "stdout",
     "output_type": "stream",
     "text": [
      "Trang sức,49000,38,28,7,Ho Chi Minh,79000,16500,97,99,87,0,0,0,1,6\n"
     ]
    },
    {
     "name": "stderr",
     "output_type": "stream",
     "text": [
      "\r",
      "Processing rows:  61%|██████▏   | 737/1200 [37:22<31:36,  4.10s/it]"
     ]
    },
    {
     "name": "stdout",
     "output_type": "stream",
     "text": [
      "Trang sức,26900,61,675,101,Nước ngoài,69000,17000,96,100,None,4,1,1,8,88\n"
     ]
    },
    {
     "name": "stderr",
     "output_type": "stream",
     "text": [
      "\r",
      "Processing rows:  62%|██████▏   | 738/1200 [37:27<31:53,  4.14s/it]"
     ]
    },
    {
     "name": "stdout",
     "output_type": "stream",
     "text": [
      "Trang sức,24000,49,132,30,Nước ngoài,46900,17000,92,98,100,1,0,0,1,28\n"
     ]
    },
    {
     "name": "stderr",
     "output_type": "stream",
     "text": [
      "\r",
      "Processing rows:  62%|██████▏   | 739/1200 [37:29<28:22,  3.69s/it]"
     ]
    },
    {
     "name": "stdout",
     "output_type": "stream",
     "text": [
      "Trang sức,20397,54,59,12,Nước ngoài,45034,17000,95,98,100,1,0,0,0,11\n"
     ]
    },
    {
     "name": "stderr",
     "output_type": "stream",
     "text": [
      "\r",
      "Processing rows:  62%|██████▏   | 740/1200 [37:35<32:35,  4.25s/it]"
     ]
    },
    {
     "name": "stdout",
     "output_type": "stream",
     "text": [
      "Trang sức,85027,46,424,108,Nước ngoài,156100,17000,95,98,100,1,2,0,4,101\n"
     ]
    },
    {
     "name": "stderr",
     "output_type": "stream",
     "text": [
      "\r",
      "Processing rows:  62%|██████▏   | 741/1200 [37:39<31:05,  4.06s/it]"
     ]
    },
    {
     "name": "stdout",
     "output_type": "stream",
     "text": [
      "Trang sức,13266,23,None,2,Nước ngoài,17246,17000,96,100,None,0,0,0,0,2\n"
     ]
    },
    {
     "name": "stderr",
     "output_type": "stream",
     "text": [
      "\r",
      "Processing rows:  62%|██████▏   | 742/1200 [37:43<30:54,  4.05s/it]"
     ]
    },
    {
     "name": "stdout",
     "output_type": "stream",
     "text": [
      "Trang sức,23000,39,72,10,Ho Chi Minh,38000,Miễn Phí,96,99,100,0,2,1,0,8\n"
     ]
    },
    {
     "name": "stderr",
     "output_type": "stream",
     "text": [
      "\r",
      "Processing rows:  62%|██████▏   | 743/1200 [37:46<28:51,  3.79s/it]"
     ]
    },
    {
     "name": "stdout",
     "output_type": "stream",
     "text": [
      "Trang sức,31800,47,35,7,Nước ngoài,60000,17000,96,96,100,1,1,0,0,5\n"
     ]
    },
    {
     "name": "stderr",
     "output_type": "stream",
     "text": [
      "\r",
      "Processing rows:  62%|██████▏   | 744/1200 [37:49<26:39,  3.51s/it]"
     ]
    },
    {
     "name": "stdout",
     "output_type": "stream",
     "text": [
      "Trang sức,130000,50,9,2,Hung Yen,518000,37700,96,100,100,0,0,0,3\n"
     ]
    },
    {
     "name": "stderr",
     "output_type": "stream",
     "text": [
      "\r",
      "Processing rows:  62%|██████▏   | 745/1200 [37:52<25:21,  3.34s/it]"
     ]
    },
    {
     "name": "stdout",
     "output_type": "stream",
     "text": [
      "Trang sức,18755,37,816,114,Nước ngoài,30000,17000,96,100,100,2,0,2,5,106\n"
     ]
    },
    {
     "name": "stderr",
     "output_type": "stream",
     "text": [
      "\r",
      "Processing rows:  62%|██████▏   | 746/1200 [37:55<25:09,  3.33s/it]"
     ]
    },
    {
     "name": "stdout",
     "output_type": "stream",
     "text": [
      "Trang sức,12515,41,11,5,Ha Noi,21276,32700,96,94,100,1,0,1,0,3\n"
     ]
    },
    {
     "name": "stderr",
     "output_type": "stream",
     "text": [
      "\r",
      "Processing rows:  62%|██████▏   | 747/1200 [37:58<24:47,  3.28s/it]"
     ]
    },
    {
     "name": "stdout",
     "output_type": "stream",
     "text": [
      "Trang sức,8800,45,None,None,Nước ngoài,16000,17000,96,100,100,0,0,0,0,5\n"
     ]
    },
    {
     "name": "stderr",
     "output_type": "stream",
     "text": [
      "\r",
      "Processing rows:  62%|██████▏   | 748/1200 [38:01<24:47,  3.29s/it]"
     ]
    },
    {
     "name": "stdout",
     "output_type": "stream",
     "text": [
      "Trang sức,16335,42,987,155,Nước ngoài,28000,17000,96,100,100,7,1,3,8,136\n"
     ]
    },
    {
     "name": "stderr",
     "output_type": "stream",
     "text": [
      "\r",
      "Processing rows:  62%|██████▏   | 749/1200 [38:05<25:21,  3.37s/it]"
     ]
    },
    {
     "name": "stdout",
     "output_type": "stream",
     "text": [
      "Trang sức,66913,25,35,14,Ho Chi Minh,89000,16500,97,99,87,1,0,0,0,14\n"
     ]
    },
    {
     "name": "stderr",
     "output_type": "stream",
     "text": [
      "\r",
      "Processing rows:  62%|██████▎   | 750/1200 [38:10<29:38,  3.95s/it]"
     ]
    },
    {
     "name": "stdout",
     "output_type": "stream",
     "text": [
      "Trang sức,34225,54,15,3,Nước ngoài,74000,17000,96,99,100,0,0,0,4\n"
     ]
    },
    {
     "name": "stderr",
     "output_type": "stream",
     "text": [
      "\r",
      "Processing rows:  63%|██████▎   | 751/1200 [38:14<28:31,  3.81s/it]"
     ]
    },
    {
     "name": "stdout",
     "output_type": "stream",
     "text": [
      "Trang sức,11000,42,11,7,Nước ngoài,19000,17000,93,100,None,0,0,0,0,6\n"
     ]
    },
    {
     "name": "stderr",
     "output_type": "stream",
     "text": [
      "\r",
      "Processing rows:  63%|██████▎   | 752/1200 [38:17<27:41,  3.71s/it]"
     ]
    },
    {
     "name": "stdout",
     "output_type": "stream",
     "text": [
      "Trang sức,20900,49,12,1,Nước ngoài,41000,17000,95,100,None,0,0,0,0,1\n"
     ]
    },
    {
     "name": "stderr",
     "output_type": "stream",
     "text": [
      "\r",
      "Processing rows:  63%|██████▎   | 753/1200 [38:20<25:38,  3.44s/it]"
     ]
    },
    {
     "name": "stdout",
     "output_type": "stream",
     "text": [
      "Trang sức,189990,29,16,4,Ha Noi,268000,32700,86,100,nan,0,0,0,1,3\n"
     ]
    },
    {
     "name": "stderr",
     "output_type": "stream",
     "text": [
      "\r",
      "Processing rows:  63%|██████▎   | 754/1200 [38:23<24:54,  3.35s/it]"
     ]
    },
    {
     "name": "stdout",
     "output_type": "stream",
     "text": [
      "Trang sức,56731,59,1100,299,Ho Chi Minh,140000,16500,92,99,100,6,3,3,14,273\n"
     ]
    },
    {
     "name": "stderr",
     "output_type": "stream",
     "text": [
      "\r",
      "Processing rows:  63%|██████▎   | 755/1200 [38:26<23:02,  3.11s/it]"
     ]
    },
    {
     "name": "stdout",
     "output_type": "stream",
     "text": [
      "Trang sức,55000,77,131,38,Nước ngoài,235555,17000,97,100,nan,1,0,0,0,37\n"
     ]
    },
    {
     "name": "stderr",
     "output_type": "stream",
     "text": [
      "\r",
      "Processing rows:  63%|██████▎   | 756/1200 [38:29<22:48,  3.08s/it]"
     ]
    },
    {
     "name": "stdout",
     "output_type": "stream",
     "text": [
      "Trang sức,15609,35,47,12,Nước ngoài,24000,17000,96,100,100,0,0,0,1,11\n"
     ]
    },
    {
     "name": "stderr",
     "output_type": "stream",
     "text": [
      "\r",
      "Processing rows:  63%|██████▎   | 757/1200 [38:32<23:55,  3.24s/it]"
     ]
    },
    {
     "name": "stdout",
     "output_type": "stream",
     "text": [
      "Trang sức,80000,33,13,5,Hai Duong,160000,37700,96,94,83,0,0,0,5\n"
     ]
    },
    {
     "name": "stderr",
     "output_type": "stream",
     "text": [
      "\r",
      "Processing rows:  63%|██████▎   | 758/1200 [38:38<28:32,  3.87s/it]"
     ]
    },
    {
     "name": "stdout",
     "output_type": "stream",
     "text": [
      "Trang sức,22049,29,8,3,Nước ngoài,30988,17000,95,100,100,1,0,0,0,2\n"
     ]
    },
    {
     "name": "stderr",
     "output_type": "stream",
     "text": [
      "\r",
      "Processing rows:  63%|██████▎   | 759/1200 [38:43<31:10,  4.24s/it]"
     ]
    },
    {
     "name": "stdout",
     "output_type": "stream",
     "text": [
      "Trang sức,8325,48,11,2,Nước ngoài,16000,17000,97,100,None,0,0,0,0,2\n"
     ]
    },
    {
     "name": "stderr",
     "output_type": "stream",
     "text": [
      "\r",
      "Processing rows:  63%|██████▎   | 760/1200 [38:46<29:29,  4.02s/it]"
     ]
    },
    {
     "name": "stdout",
     "output_type": "stream",
     "text": [
      "Trang sức,48000,30,None,None,Hà Nội,89000,32700,97,100,None,0,0,0,0,0\n"
     ]
    },
    {
     "name": "stderr",
     "output_type": "stream",
     "text": [
      "\r",
      "Processing rows:  63%|██████▎   | 761/1200 [38:49<26:14,  3.59s/it]"
     ]
    },
    {
     "name": "stdout",
     "output_type": "stream",
     "text": [
      "Trang sức,88000,None,746,150,Ho Chi Minh,None,Miễn Phí,99,100,None,1,1,2,4,143\n"
     ]
    },
    {
     "name": "stderr",
     "output_type": "stream",
     "text": [
      "\r",
      "Processing rows:  64%|██████▎   | 762/1200 [38:51<23:58,  3.28s/it]"
     ]
    },
    {
     "name": "stdout",
     "output_type": "stream",
     "text": [
      "Trang sức,10999,49,922,245,Ho Chi Minh,21567,17000,95,97,None,3,1,5,6,230\n"
     ]
    },
    {
     "name": "stderr",
     "output_type": "stream",
     "text": [
      "\r",
      "Processing rows:  64%|██████▎   | 763/1200 [38:54<21:56,  3.01s/it]"
     ]
    },
    {
     "name": "stdout",
     "output_type": "stream",
     "text": [
      "Trang sức,26800,30,523,105,Nước ngoài,36400,17000,95,100,None,5,0,0,3,97\n"
     ]
    },
    {
     "name": "stderr",
     "output_type": "stream",
     "text": [
      "\r",
      "Processing rows:  64%|██████▎   | 764/1200 [38:57<21:22,  2.94s/it]"
     ]
    },
    {
     "name": "stdout",
     "output_type": "stream",
     "text": [
      "Trang sức,44182,53,1100,279,Nước ngoài,93900,17000,97,94,36,2,1,2,2,272\n"
     ]
    },
    {
     "name": "stderr",
     "output_type": "stream",
     "text": [
      "\r",
      "Processing rows:  64%|██████▍   | 765/1200 [39:00<21:26,  2.96s/it]"
     ]
    },
    {
     "name": "stdout",
     "output_type": "stream",
     "text": [
      "Trang sức,73600,8,14,4,Nước ngoài,80000,17000,93,92,99,0,0,0,4\n"
     ]
    },
    {
     "name": "stderr",
     "output_type": "stream",
     "text": [
      "\r",
      "Processing rows:  64%|██████▍   | 766/1200 [39:02<21:09,  2.93s/it]"
     ]
    },
    {
     "name": "stdout",
     "output_type": "stream",
     "text": [
      "Trang sức,9000,40,12,4,Nước ngoài,25000,17000,95,100,71,0,0,0,4\n"
     ]
    },
    {
     "name": "stderr",
     "output_type": "stream",
     "text": [
      "\r",
      "Processing rows:  64%|██████▍   | 767/1200 [39:05<20:33,  2.85s/it]"
     ]
    },
    {
     "name": "stdout",
     "output_type": "stream",
     "text": [
      "Trang sức,26377,23,None,1,Nước ngoài,34290,17000,94,100,None,0,0,0,0,2\n"
     ]
    },
    {
     "name": "stderr",
     "output_type": "stream",
     "text": [
      "\r",
      "Processing rows:  64%|██████▍   | 768/1200 [39:09<22:37,  3.14s/it]"
     ]
    },
    {
     "name": "stdout",
     "output_type": "stream",
     "text": [
      "Trang sức,25000,49,33,1,Nước ngoài,49000,17000,94,97,100,0,0,0,0,1\n"
     ]
    },
    {
     "name": "stderr",
     "output_type": "stream",
     "text": [
      "\r",
      "Processing rows:  64%|██████▍   | 769/1200 [39:12<22:31,  3.14s/it]"
     ]
    },
    {
     "name": "stdout",
     "output_type": "stream",
     "text": [
      "Trang sức,14706,54,117,23,Nước ngoài,31700,17000,94,97,100,2,0,1,1,19\n"
     ]
    },
    {
     "name": "stderr",
     "output_type": "stream",
     "text": [
      "\r",
      "Processing rows:  64%|██████▍   | 770/1200 [39:14<21:02,  2.94s/it]"
     ]
    },
    {
     "name": "stdout",
     "output_type": "stream",
     "text": [
      "Trang suc,10000,47,51,11,Nước ngoài,19000,17000,94,97,100,2,0,0,0,9\n"
     ]
    },
    {
     "name": "stderr",
     "output_type": "stream",
     "text": [
      "\r",
      "Processing rows:  64%|██████▍   | 771/1200 [39:17<20:50,  2.92s/it]"
     ]
    },
    {
     "name": "stdout",
     "output_type": "stream",
     "text": [
      "Trang sức,22355,49,433,147,Nước ngoài,23999,17000,96,100,100,1,0,1,6,139\n"
     ]
    },
    {
     "name": "stderr",
     "output_type": "stream",
     "text": [
      "\r",
      "Processing rows:  64%|██████▍   | 772/1200 [39:20<20:36,  2.89s/it]"
     ]
    },
    {
     "name": "stdout",
     "output_type": "stream",
     "text": [
      "Trang sức,40000,50,232,61,Nước ngoài,80000,17000,98,100,100,1,0,0,0,60\n"
     ]
    },
    {
     "name": "stderr",
     "output_type": "stream",
     "text": [
      "\r",
      "Processing rows:  64%|██████▍   | 773/1200 [39:22<18:55,  2.66s/it]"
     ]
    },
    {
     "name": "stdout",
     "output_type": "stream",
     "text": [
      "Trang sức,98000,10,107,34,Ho Chi Minh,109000,16500,97,99,87,0,0,0,2,32\n"
     ]
    },
    {
     "name": "stderr",
     "output_type": "stream",
     "text": [
      "\r",
      "Processing rows:  64%|██████▍   | 774/1200 [39:26<21:23,  3.01s/it]"
     ]
    },
    {
     "name": "stdout",
     "output_type": "stream",
     "text": [
      "Trang sức,323000,13,51,13,Hai Duong,370000,37700,96,94,83,0,0,0,13\n"
     ]
    },
    {
     "name": "stderr",
     "output_type": "stream",
     "text": [
      "\r",
      "Processing rows:  65%|██████▍   | 775/1200 [39:29<21:05,  2.98s/it]"
     ]
    },
    {
     "name": "stdout",
     "output_type": "stream",
     "text": [
      "Trang sức,18200,50,5,3,Nước ngoài,36399,17000,96,100,100,0,0,0,3\n"
     ]
    },
    {
     "name": "stderr",
     "output_type": "stream",
     "text": [
      "\r",
      "Processing rows:  65%|██████▍   | 776/1200 [39:31<19:16,  2.73s/it]"
     ]
    },
    {
     "name": "stdout",
     "output_type": "stream",
     "text": [
      "Trang sức,9215,54,405,65,Nước ngoài,17000,17000,96,100,100,2,0,1,2,60\n"
     ]
    },
    {
     "name": "stderr",
     "output_type": "stream",
     "text": [
      "\r",
      "Processing rows:  65%|██████▍   | 777/1200 [39:34<19:32,  2.77s/it]"
     ]
    },
    {
     "name": "stdout",
     "output_type": "stream",
     "text": [
      "Trang sức,8030,45,41,13,Nước ngoài,20799,17000,96,100,100,0,0,0,13\n"
     ]
    },
    {
     "name": "stderr",
     "output_type": "stream",
     "text": [
      "\r",
      "Processing rows:  65%|██████▍   | 778/1200 [39:37<20:13,  2.87s/it]"
     ]
    },
    {
     "name": "stdout",
     "output_type": "stream",
     "text": [
      "Trang sức,65000,35,23,13,Ho Chi Minh,100000,16500,97,100,85,0,0,0,13\n"
     ]
    },
    {
     "name": "stderr",
     "output_type": "stream",
     "text": [
      "\r",
      "Processing rows:  65%|██████▍   | 779/1200 [39:40<19:49,  2.83s/it]"
     ]
    },
    {
     "name": "stdout",
     "output_type": "stream",
     "text": [
      "Trang sức,39300,57,28,11,Ho Chi Minh,91000,16500,98,100,100,0,1,0,0,11\n"
     ]
    },
    {
     "name": "stderr",
     "output_type": "stream",
     "text": [
      "\r",
      "Processing rows:  65%|██████▌   | 780/1200 [39:43<19:21,  2.76s/it]"
     ]
    },
    {
     "name": "stdout",
     "output_type": "stream",
     "text": [
      "Trang sức,18783,41,229,66,Nước ngoài,60000,17000,96,100,100,1,1,3,2,59\n"
     ]
    },
    {
     "name": "stderr",
     "output_type": "stream",
     "text": [
      "\r",
      "Processing rows:  65%|██████▌   | 781/1200 [39:46<19:50,  2.84s/it]"
     ]
    },
    {
     "name": "stdout",
     "output_type": "stream",
     "text": [
      "Trang sức,49000,80,221,32,Nước ngoài,240000,17000,97,None,None,0,0,1,0,31\n"
     ]
    },
    {
     "name": "stderr",
     "output_type": "stream",
     "text": [
      "\r",
      "Processing rows:  65%|██████▌   | 782/1200 [39:49<20:48,  2.99s/it]"
     ]
    },
    {
     "name": "stdout",
     "output_type": "stream",
     "text": [
      "Trang sức,150000,56,22,10,Ho Chi Minh,88000,16500,98,100,100,0,0,0,11\n"
     ]
    },
    {
     "name": "stderr",
     "output_type": "stream",
     "text": [
      "\r",
      "Processing rows:  65%|██████▌   | 783/1200 [39:51<18:44,  2.70s/it]"
     ]
    },
    {
     "name": "stdout",
     "output_type": "stream",
     "text": [
      "Trang sức,385000,30,61,23,Da Nang,1350000,32700,97,84,100,0,0,0,23\n"
     ]
    },
    {
     "name": "stderr",
     "output_type": "stream",
     "text": [
      "\r",
      "Processing rows:  65%|██████▌   | 784/1200 [39:54<19:08,  2.76s/it]"
     ]
    },
    {
     "name": "stdout",
     "output_type": "stream",
     "text": [
      "Trang sức,37000,41,19,9,Nước ngoài,77000,17000,97,100,nan,0,0,0,0,9\n"
     ]
    },
    {
     "name": "stderr",
     "output_type": "stream",
     "text": [
      "\r",
      "Processing rows:  65%|██████▌   | 785/1200 [39:58<22:47,  3.30s/it]"
     ]
    },
    {
     "name": "stdout",
     "output_type": "stream",
     "text": [
      "Trang sức,8763,55,27,11,Nước ngoài,19399,17000,96,100,100,0,0,0,11\n"
     ]
    },
    {
     "name": "stderr",
     "output_type": "stream",
     "text": [
      "\r",
      "Processing rows:  66%|██████▌   | 786/1200 [40:01<21:48,  3.16s/it]"
     ]
    },
    {
     "name": "stdout",
     "output_type": "stream",
     "text": [
      "Trang sức,24000,47,163,6,Nước ngoài,45000,17000,92,97,100,2,1,0,1,2\n"
     ]
    },
    {
     "name": "stderr",
     "output_type": "stream",
     "text": [
      "\r",
      "Processing rows:  66%|██████▌   | 787/1200 [40:03<19:40,  2.86s/it]"
     ]
    },
    {
     "name": "stdout",
     "output_type": "stream",
     "text": [
      "Trang sức,66202,47,30,6,Ho Chi Minh,125000,16500,95,97,100,0,0,0,6\n"
     ]
    },
    {
     "name": "stderr",
     "output_type": "stream",
     "text": [
      "\r",
      "Processing rows:  66%|██████▌   | 788/1200 [40:08<22:56,  3.34s/it]"
     ]
    },
    {
     "name": "stdout",
     "output_type": "stream",
     "text": [
      "Trang sức,6930,31,4500,731,Nước ngoài,10000,17000,96,100,100,20,5,20,32,654\n"
     ]
    },
    {
     "name": "stderr",
     "output_type": "stream",
     "text": [
      "\r",
      "Processing rows:  66%|██████▌   | 789/1200 [40:10<20:26,  2.98s/it]"
     ]
    },
    {
     "name": "stdout",
     "output_type": "stream",
     "text": [
      "Trang sức,8295,41,147,29,Nước ngoài,14000,17000,96,100,100,0,0,0,29\n"
     ]
    },
    {
     "name": "stderr",
     "output_type": "stream",
     "text": [
      "\r",
      "Processing rows:  66%|██████▌   | 790/1200 [40:12<18:32,  2.71s/it]"
     ]
    },
    {
     "name": "stdout",
     "output_type": "stream",
     "text": [
      "Trang sức,11554,23,None,None,Ho Chi Minh,15336,17000,97,100,100,0,0,0,0\n"
     ]
    },
    {
     "name": "stderr",
     "output_type": "stream",
     "text": [
      "\r",
      "Processing rows:  66%|██████▌   | 791/1200 [40:15<19:06,  2.80s/it]"
     ]
    },
    {
     "name": "stdout",
     "output_type": "stream",
     "text": [
      "Trang sức,10120,45,17,7,Nước ngoài,18399,17000,96,100,100,0,0,0,7\n"
     ]
    },
    {
     "name": "stderr",
     "output_type": "stream",
     "text": [
      "\r",
      "Processing rows:  66%|██████▌   | 792/1200 [40:18<19:24,  2.85s/it]"
     ]
    },
    {
     "name": "stdout",
     "output_type": "stream",
     "text": [
      "Trang sức,89600,50,None,1,Hung Yen,487200,37700,95,100,None,0,0,0,0,1\n"
     ]
    },
    {
     "name": "stderr",
     "output_type": "stream",
     "text": [
      "\r",
      "Processing rows:  66%|██████▌   | 793/1200 [40:21<19:41,  2.90s/it]"
     ]
    },
    {
     "name": "stdout",
     "output_type": "stream",
     "text": [
      "Trang sức,7590,45,25,8,Nước ngoài,13799,17000,96,100,100,1,0,0,0,7\n"
     ]
    },
    {
     "name": "stderr",
     "output_type": "stream",
     "text": [
      "\r",
      "Processing rows:  66%|██████▌   | 794/1200 [40:24<20:22,  3.01s/it]"
     ]
    },
    {
     "name": "stdout",
     "output_type": "stream",
     "text": [
      "Trang sức,159000,20,52,10,Ha Noi,199000,21700,80,94,85,1,1,1,0,7\n"
     ]
    },
    {
     "name": "stderr",
     "output_type": "stream",
     "text": [
      "\r",
      "Processing rows:  66%|██████▋   | 795/1200 [40:27<19:25,  2.88s/it]"
     ]
    },
    {
     "name": "stdout",
     "output_type": "stream",
     "text": [
      "Trang sức,22550,46,59,4,Nước ngoài,42000,17000,96,100,100,0,0,1,0,6\n"
     ]
    },
    {
     "name": "stderr",
     "output_type": "stream",
     "text": [
      "\r",
      "Processing rows:  66%|██████▋   | 796/1200 [40:30<19:06,  2.84s/it]"
     ]
    },
    {
     "name": "stdout",
     "output_type": "stream",
     "text": [
      "Trang sức,96000,13,None,1,Hai Duong,110000,37700,96,94,83,0,0,0,1\n"
     ]
    },
    {
     "name": "stderr",
     "output_type": "stream",
     "text": [
      "\r",
      "Processing rows:  66%|██████▋   | 797/1200 [40:32<17:25,  2.59s/it]"
     ]
    },
    {
     "name": "stdout",
     "output_type": "stream",
     "text": [
      "Trang sức,50000,38,18,4,Nước ngoài,80000,17000,98,100,100,1,0,0,0,4\n"
     ]
    },
    {
     "name": "stderr",
     "output_type": "stream",
     "text": [
      "\r",
      "Processing rows:  66%|██████▋   | 798/1200 [40:35<18:38,  2.78s/it]"
     ]
    },
    {
     "name": "stdout",
     "output_type": "stream",
     "text": [
      "Trang sức,6820,45,11,4,Nước ngoài,12399,17000,96,100,100,0,0,0,4\n"
     ]
    },
    {
     "name": "stderr",
     "output_type": "stream",
     "text": [
      "\r",
      "Processing rows:  67%|██████▋   | 799/1200 [40:37<17:01,  2.55s/it]"
     ]
    },
    {
     "name": "stdout",
     "output_type": "stream",
     "text": [
      "Trang sức,8000,47,13,4,Nước ngoài,15000,17000,97,100,None,0,0,0,0,4\n"
     ]
    },
    {
     "name": "stderr",
     "output_type": "stream",
     "text": [
      "\r",
      "Processing rows:  67%|██████▋   | 800/1200 [40:40<17:32,  2.63s/it]"
     ]
    },
    {
     "name": "stdout",
     "output_type": "stream",
     "text": [
      "Trang sức,200000,9,None,None,Hai Duong,400000,37700,96,94,83,0,0,0,0\n"
     ]
    },
    {
     "name": "stderr",
     "output_type": "stream",
     "text": [
      "\r",
      "Processing rows:  67%|██████▋   | 801/1200 [40:42<16:04,  2.42s/it]"
     ]
    },
    {
     "name": "stdout",
     "output_type": "stream",
     "text": [
      "Trang sức,20000,None,3200,633,Ho Chi Minh,None,None,None,None,6,3,9,17,598\n"
     ]
    },
    {
     "name": "stderr",
     "output_type": "stream",
     "text": [
      "\r",
      "Processing rows:  67%|██████▋   | 802/1200 [40:44<16:08,  2.43s/it]"
     ]
    },
    {
     "name": "stdout",
     "output_type": "stream",
     "text": [
      "Trang sức,30000,None,986,209,Ho Chi Minh,None,16500,98,100,None,3,3,1,1,201\n"
     ]
    },
    {
     "name": "stderr",
     "output_type": "stream",
     "text": [
      "\r",
      "Processing rows:  67%|██████▋   | 803/1200 [40:46<15:40,  2.37s/it]"
     ]
    },
    {
     "name": "stdout",
     "output_type": "stream",
     "text": [
      "Trang sức,69569,55,1500,363,Ho Chi Minh,154000,16500,98,100,100,2,0,2,4,355\n"
     ]
    },
    {
     "name": "stderr",
     "output_type": "stream",
     "text": [
      "\r",
      "Processing rows:  67%|██████▋   | 804/1200 [40:49<16:13,  2.46s/it]"
     ]
    },
    {
     "name": "stdout",
     "output_type": "stream",
     "text": [
      "Trang sức,25500,15,2300,364,Ho Chi Minh,30000,16500,98,81,77,5,2,2,10,346\n"
     ]
    },
    {
     "name": "stderr",
     "output_type": "stream",
     "text": [
      "\r",
      "Processing rows:  67%|██████▋   | 805/1200 [40:52<17:29,  2.66s/it]"
     ]
    },
    {
     "name": "stdout",
     "output_type": "stream",
     "text": [
      "Trang sức,6587,56,3500,953,Ho Chi Minh,18000,17000,96,95,97,6,9,11,13,915\n"
     ]
    },
    {
     "name": "stderr",
     "output_type": "stream",
     "text": [
      "\r",
      "Processing rows:  67%|██████▋   | 806/1200 [40:55<17:31,  2.67s/it]"
     ]
    },
    {
     "name": "stdout",
     "output_type": "stream",
     "text": [
      "Trang sức,5900,74,1900,597,Ho Chi Minh,22906,17000,96,95,97,13,8,15,14,547\n"
     ]
    },
    {
     "name": "stderr",
     "output_type": "stream",
     "text": [
      "\r",
      "Processing rows:  67%|██████▋   | 807/1200 [40:57<16:40,  2.55s/it]"
     ]
    },
    {
     "name": "stdout",
     "output_type": "stream",
     "text": [
      "Trang sức,17076,66,3100,496,Ho Chi Minh,50000,16500,97,100,85,7,4,4,6\n"
     ]
    },
    {
     "name": "stderr",
     "output_type": "stream",
     "text": [
      "\r",
      "Processing rows:  67%|██████▋   | 808/1200 [40:59<16:02,  2.45s/it]"
     ]
    },
    {
     "name": "stdout",
     "output_type": "stream",
     "text": [
      "Trang sức,15000,25,351,63,Ha Noi,35000,32700,97,100,None,2,0,2,4,55\n"
     ]
    },
    {
     "name": "stderr",
     "output_type": "stream",
     "text": [
      "\r",
      "Processing rows:  67%|██████▋   | 809/1200 [41:02<16:41,  2.56s/it]"
     ]
    },
    {
     "name": "stdout",
     "output_type": "stream",
     "text": [
      "Trang sức,9217,60,135,32,Ho Chi Minh,27975,17000,96,95,97,1,0,0,1,30\n"
     ]
    },
    {
     "name": "stderr",
     "output_type": "stream",
     "text": [
      "\r",
      "Processing rows:  68%|██████▊   | 810/1200 [41:04<15:50,  2.44s/it]"
     ]
    },
    {
     "name": "stdout",
     "output_type": "stream",
     "text": [
      "Trang sức,20000,47,149,64,Ho Chi Minh,30000,17000,95,100,71,7,2,0,1,54\n"
     ]
    },
    {
     "name": "stderr",
     "output_type": "stream",
     "text": [
      "\r",
      "Processing rows:  68%|██████▊   | 811/1200 [41:06<15:14,  2.35s/it]"
     ]
    },
    {
     "name": "stdout",
     "output_type": "stream",
     "text": [
      "Trang sức,25456,31,212,51,Ho Chi Minh,89000,16500,97,99,87,1,0,0,0,50\n"
     ]
    },
    {
     "name": "stderr",
     "output_type": "stream",
     "text": [
      "\r",
      "Processing rows:  68%|██████▊   | 812/1200 [41:09<16:03,  2.48s/it]"
     ]
    },
    {
     "name": "stdout",
     "output_type": "stream",
     "text": [
      "Trang sức,149000,45,108,24,Ha Noi,269000,32700,80,94,85,2,2,0,0,20\n"
     ]
    },
    {
     "name": "stderr",
     "output_type": "stream",
     "text": [
      "\r",
      "Processing rows:  68%|██████▊   | 813/1200 [41:12<16:06,  2.50s/it]"
     ]
    },
    {
     "name": "stdout",
     "output_type": "stream",
     "text": [
      "Trang sức,35000,50,160,33,Nước ngoài,70000,17000,98,100,100,0,0,0,34\n"
     ]
    },
    {
     "name": "stderr",
     "output_type": "stream",
     "text": [
      "\r",
      "Processing rows:  68%|██████▊   | 814/1200 [41:15<17:10,  2.67s/it]"
     ]
    },
    {
     "name": "stdout",
     "output_type": "stream",
     "text": [
      "Trang sức,10084,57,1200,269,Nước ngoài,42000,17000,97,99,100,1,0,1,3,264\n"
     ]
    },
    {
     "name": "stderr",
     "output_type": "stream",
     "text": [
      "\r",
      "Processing rows:  68%|██████▊   | 815/1200 [41:18<17:17,  2.69s/it]"
     ]
    },
    {
     "name": "stdout",
     "output_type": "stream",
     "text": [
      "Trang sức,24000,56,3000,647,Ha Noi,55000,32700,95,96,100,16,3,13,15,601\n"
     ]
    },
    {
     "name": "stderr",
     "output_type": "stream",
     "text": [
      "\r",
      "Processing rows:  68%|██████▊   | 816/1200 [41:20<17:31,  2.74s/it]"
     ]
    },
    {
     "name": "stdout",
     "output_type": "stream",
     "text": [
      "Trang sức,8000,38,43,21,Ho Chi Minh,24000,17000,95,100,71,0,0,2,0,19\n"
     ]
    },
    {
     "name": "stderr",
     "output_type": "stream",
     "text": [
      "\r",
      "Processing rows:  68%|██████▊   | 817/1200 [41:23<16:41,  2.62s/it]"
     ]
    },
    {
     "name": "stdout",
     "output_type": "stream",
     "text": [
      "Trang sức,5949,46,51,11,Nước ngoài,11000,17000,94,100,100,0,0,0,11\n"
     ]
    },
    {
     "name": "stderr",
     "output_type": "stream",
     "text": [
      "\r",
      "Processing rows:  68%|██████▊   | 818/1200 [41:25<16:34,  2.60s/it]"
     ]
    },
    {
     "name": "stdout",
     "output_type": "stream",
     "text": [
      "Trang suc,30176,43,542,133,Nước ngoài,63366,17000,98,100,100,1,0,2,3,127\n"
     ]
    },
    {
     "name": "stderr",
     "output_type": "stream",
     "text": [
      "\r",
      "Processing rows:  68%|██████▊   | 819/1200 [41:29<18:16,  2.88s/it]"
     ]
    },
    {
     "name": "stdout",
     "output_type": "stream",
     "text": [
      "Trang sức,27015,55,791,122,Ho Chi Minh,59800,16500,97,100,100,1,2,1,2,116\n"
     ]
    },
    {
     "name": "stderr",
     "output_type": "stream",
     "text": [
      "\r",
      "Processing rows:  68%|██████▊   | 820/1200 [41:31<17:41,  2.79s/it]"
     ]
    },
    {
     "name": "stdout",
     "output_type": "stream",
     "text": [
      "Trang sức,13840,51,25,3,Ho Chi Minh,28000,17000,96,100,nan,0,0,0,3\n"
     ]
    },
    {
     "name": "stderr",
     "output_type": "stream",
     "text": [
      "\r",
      "Processing rows:  68%|██████▊   | 821/1200 [41:34<16:44,  2.65s/it]"
     ]
    },
    {
     "name": "stdout",
     "output_type": "stream",
     "text": [
      "Trang sức,44100,48,42,15,Ho Chi Minh,84000,17000,97,100,nan,0,0,0,0,15\n"
     ]
    },
    {
     "name": "stderr",
     "output_type": "stream",
     "text": [
      "\r",
      "Processing rows:  68%|██████▊   | 822/1200 [41:36<16:26,  2.61s/it]"
     ]
    },
    {
     "name": "stdout",
     "output_type": "stream",
     "text": [
      "Trang sức,29000,48,219,59,Ho Chi Minh,56000,18300,99,100,100,0,0,1,1,57\n"
     ]
    },
    {
     "name": "stderr",
     "output_type": "stream",
     "text": [
      "\r",
      "Processing rows:  69%|██████▊   | 823/1200 [41:39<16:28,  2.62s/it]"
     ]
    },
    {
     "name": "stdout",
     "output_type": "stream",
     "text": [
      "Trang sức,6000,33,457,77,Ho Chi Minh,12332,16500,96,100,100,1,1,1,4,71\n"
     ]
    },
    {
     "name": "stderr",
     "output_type": "stream",
     "text": [
      "\r",
      "Processing rows:  69%|██████▊   | 824/1200 [41:41<15:49,  2.52s/it]"
     ]
    },
    {
     "name": "stdout",
     "output_type": "stream",
     "text": [
      "Trang sức,9157,49,246,52,Nước ngoài,17999,17000,96,100,100,4,1,1,2,43\n"
     ]
    },
    {
     "name": "stderr",
     "output_type": "stream",
     "text": [
      "\r",
      "Processing rows:  69%|██████▉   | 825/1200 [41:43<15:17,  2.45s/it]"
     ]
    },
    {
     "name": "stdout",
     "output_type": "stream",
     "text": [
      "Trang sức,35372,49,2700,591,Ho Chi Minh,26838,17000,97,99,100,4,1,3,14,569\n"
     ]
    },
    {
     "name": "stderr",
     "output_type": "stream",
     "text": [
      "\r",
      "Processing rows:  69%|██████▉   | 826/1200 [41:45<14:22,  2.31s/it]"
     ]
    },
    {
     "name": "stdout",
     "output_type": "stream",
     "text": [
      "Trang sức,54470,21,64,17,Ho Chi Minh,69000,16500,97,99,87,0,0,0,17\n"
     ]
    },
    {
     "name": "stderr",
     "output_type": "stream",
     "text": [
      "\r",
      "Processing rows:  69%|██████▉   | 827/1200 [41:48<14:49,  2.38s/it]"
     ]
    },
    {
     "name": "stdout",
     "output_type": "stream",
     "text": [
      "Trang sức,149077,46,272,73,Binh Duong,275000,28700,98,99,66,0,0,0,3,70\n"
     ]
    },
    {
     "name": "stderr",
     "output_type": "stream",
     "text": [
      "\r",
      "Processing rows:  69%|██████▉   | 828/1200 [41:50<14:53,  2.40s/it]"
     ]
    },
    {
     "name": "stdout",
     "output_type": "stream",
     "text": [
      "Trang sức,3782,55,2300,201,Ho Chi Minh,11200,16500,97,88,100,4,1,4,9,183\n"
     ]
    },
    {
     "name": "stderr",
     "output_type": "stream",
     "text": [
      "\r",
      "Processing rows:  69%|██████▉   | 829/1200 [41:53<14:41,  2.37s/it]"
     ]
    },
    {
     "name": "stdout",
     "output_type": "stream",
     "text": [
      "Trang sức,41631,40,11,6,Ho Chi Minh,69000,16500,97,99,87,0,0,0,6\n"
     ]
    },
    {
     "name": "stderr",
     "output_type": "stream",
     "text": [
      "\r",
      "Processing rows:  69%|██████▉   | 830/1200 [41:55<15:14,  2.47s/it]"
     ]
    },
    {
     "name": "stdout",
     "output_type": "stream",
     "text": [
      "Trang sức,22750,42,663,179,Ho Chi Minh,39000,16500,97,99,87,1,1,2,2,173\n"
     ]
    },
    {
     "name": "stderr",
     "output_type": "stream",
     "text": [
      "\r",
      "Processing rows:  69%|██████▉   | 831/1200 [41:58<16:01,  2.61s/it]"
     ]
    },
    {
     "name": "stdout",
     "output_type": "stream",
     "text": [
      "Trang sức,7000,72,84,5,Ha Noi,25000,32700,100,None,None,0,0,0,0,6\n"
     ]
    },
    {
     "name": "stderr",
     "output_type": "stream",
     "text": [
      "\r",
      "Processing rows:  69%|██████▉   | 832/1200 [42:01<15:47,  2.57s/it]"
     ]
    },
    {
     "name": "stdout",
     "output_type": "stream",
     "text": [
      "Trang sức,57822,27,86,32,Ho Chi Minh,79000,16500,97,99,87,0,0,0,1,31\n"
     ]
    },
    {
     "name": "stderr",
     "output_type": "stream",
     "text": [
      "\r",
      "Processing rows:  69%|██████▉   | 833/1200 [42:03<14:45,  2.41s/it]"
     ]
    },
    {
     "name": "stdout",
     "output_type": "stream",
     "text": [
      "Trang sức,19000,37,721,127,Ho Chi Minh,30000,16500,98,99,100,2,0,3,0,122\n"
     ]
    },
    {
     "name": "stderr",
     "output_type": "stream",
     "text": [
      "\r",
      "Processing rows:  70%|██████▉   | 834/1200 [42:05<14:52,  2.44s/it]"
     ]
    },
    {
     "name": "stdout",
     "output_type": "stream",
     "text": [
      "Trang sức,23000,44,364,75,Nước ngoài,41000,17000,95,100,None,3,0,1,3,68\n"
     ]
    },
    {
     "name": "stderr",
     "output_type": "stream",
     "text": [
      "\r",
      "Processing rows:  70%|██████▉   | 835/1200 [42:08<15:53,  2.61s/it]"
     ]
    },
    {
     "name": "stdout",
     "output_type": "stream",
     "text": [
      "Trang sức,13598,51,76,42,Ho Chi Minh,28000,17000,96,100,100,1,0,0,1,40\n"
     ]
    },
    {
     "name": "stderr",
     "output_type": "stream",
     "text": [
      "\r",
      "Processing rows:  70%|██████▉   | 836/1200 [42:10<14:37,  2.41s/it]"
     ]
    },
    {
     "name": "stdout",
     "output_type": "stream",
     "text": [
      "Trang sức,38808,None,158,22,Hai Duong,37700,90,100,None,0,0,1,0,21\n"
     ]
    },
    {
     "name": "stderr",
     "output_type": "stream",
     "text": [
      "\r",
      "Processing rows:  70%|██████▉   | 837/1200 [42:14<17:17,  2.86s/it]"
     ]
    },
    {
     "name": "stdout",
     "output_type": "stream",
     "text": [
      "Trang sức,35000,36,1600,377,Nước ngoài,100000,17000,98,100,100,9,0,3,11,355\n"
     ]
    },
    {
     "name": "stderr",
     "output_type": "stream",
     "text": [
      "\r",
      "Processing rows:  70%|██████▉   | 838/1200 [42:17<17:17,  2.87s/it]"
     ]
    },
    {
     "name": "stdout",
     "output_type": "stream",
     "text": [
      "Trang sức,32682,33,213,56,Ho Chi Minh,49000,16500,97,99,87,0,0,0,0,56\n"
     ]
    },
    {
     "name": "stderr",
     "output_type": "stream",
     "text": [
      "\r",
      "Processing rows:  70%|██████▉   | 839/1200 [42:21<18:51,  3.14s/it]"
     ]
    },
    {
     "name": "stdout",
     "output_type": "stream",
     "text": [
      "Trang sức,23491,53,598,142,Ho Chi Minh,50000,16500,94,100,100,3,1,2,5,131\n"
     ]
    },
    {
     "name": "stderr",
     "output_type": "stream",
     "text": [
      "\r",
      "Processing rows:  70%|███████   | 840/1200 [42:24<18:06,  3.02s/it]"
     ]
    },
    {
     "name": "stdout",
     "output_type": "stream",
     "text": [
      "Trang sức,39000,34,5,2,Ho Chi Minh,59000,16500,97,99,87,0,0,0,3\n"
     ]
    },
    {
     "name": "stderr",
     "output_type": "stream",
     "text": [
      "\r",
      "Processing rows:  70%|███████   | 841/1200 [42:26<17:32,  2.93s/it]"
     ]
    },
    {
     "name": "stdout",
     "output_type": "stream",
     "text": [
      "Trang sức,5272,53,35,12,Ho Chi Minh,11300,17000,97,98,100,0,0,0,0,12\n"
     ]
    },
    {
     "name": "stderr",
     "output_type": "stream",
     "text": [
      "\r",
      "Processing rows:  70%|███████   | 842/1200 [42:29<17:19,  2.90s/it]"
     ]
    },
    {
     "name": "stdout",
     "output_type": "stream",
     "text": [
      "Trang suc,4500,44,56,12,Nước ngoài,8000,17000,94,100,100,0,0,0,12\n"
     ]
    },
    {
     "name": "stderr",
     "output_type": "stream",
     "text": [
      "\r",
      "Processing rows:  70%|███████   | 843/1200 [42:31<16:01,  2.69s/it]"
     ]
    },
    {
     "name": "stdout",
     "output_type": "stream",
     "text": [
      "Trang sức,16000,47,1200,239,Ho Chi Minh,34000,17000,93,98,100,7,0,3,9,220\n"
     ]
    },
    {
     "name": "stderr",
     "output_type": "stream",
     "text": [
      "\r",
      "Processing rows:  70%|███████   | 844/1200 [42:34<15:40,  2.64s/it]"
     ]
    },
    {
     "name": "stdout",
     "output_type": "stream",
     "text": [
      "Trang sức,44182,53,1100,279,Nước ngoài,93900,17000,97,94,36,2,1,2,2,272\n"
     ]
    },
    {
     "name": "stderr",
     "output_type": "stream",
     "text": [
      "\r",
      "Processing rows:  70%|███████   | 845/1200 [42:37<15:30,  2.62s/it]"
     ]
    },
    {
     "name": "stdout",
     "output_type": "stream",
     "text": [
      "Trang sức,26201,42,1200,273,Ha Noi,79000,32700,95,100,nan,14,5,4,8,242\n"
     ]
    },
    {
     "name": "stderr",
     "output_type": "stream",
     "text": [
      "\r",
      "Processing rows:  70%|███████   | 846/1200 [42:40<17:46,  3.01s/it]"
     ]
    },
    {
     "name": "stdout",
     "output_type": "stream",
     "text": [
      "Trang sức,31844,64,14,4,Ho Chi Minh,199000,16500,98,100,nan,1,0,0,0,3\n"
     ]
    },
    {
     "name": "stderr",
     "output_type": "stream",
     "text": [
      "\r",
      "Processing rows:  71%|███████   | 847/1200 [42:43<17:01,  2.89s/it]"
     ]
    },
    {
     "name": "stdout",
     "output_type": "stream",
     "text": [
      "Trang sức,29000,41,5300,851,Hà Nội,49000,32700,99,100,None,4,1,5,16,825\n"
     ]
    },
    {
     "name": "stderr",
     "output_type": "stream",
     "text": [
      "\r",
      "Processing rows:  71%|███████   | 848/1200 [42:45<16:03,  2.74s/it]"
     ]
    },
    {
     "name": "stdout",
     "output_type": "stream",
     "text": [
      "Trang sức,4440,26,666,120,Ho Chi Minh,13720,17000,96,99,63,1,0,1,0,118\n"
     ]
    },
    {
     "name": "stderr",
     "output_type": "stream",
     "text": [
      "\r",
      "Processing rows:  71%|███████   | 849/1200 [42:48<15:41,  2.68s/it]"
     ]
    },
    {
     "name": "stdout",
     "output_type": "stream",
     "text": [
      "Trang sức,19900,31,None,None,Ho Chi Minh,28900,16500,None,100,None,0,0,0,0,0\n"
     ]
    },
    {
     "name": "stderr",
     "output_type": "stream",
     "text": [
      "\r",
      "Processing rows:  71%|███████   | 850/1200 [42:51<15:42,  2.69s/it]"
     ]
    },
    {
     "name": "stdout",
     "output_type": "stream",
     "text": [
      "Trang sức,9900,45,139,19,Ho Chi Minh,41636,16500,98,96,100,1,0,0,0,19\n"
     ]
    },
    {
     "name": "stderr",
     "output_type": "stream",
     "text": [
      "\r",
      "Processing rows:  71%|███████   | 851/1200 [42:53<15:47,  2.71s/it]"
     ]
    },
    {
     "name": "stdout",
     "output_type": "stream",
     "text": [
      "Trang sức,8434,49,866,213,Nước ngoài,41273,17000,97,99,100,3,8,1,4,198\n"
     ]
    },
    {
     "name": "stderr",
     "output_type": "stream",
     "text": [
      "\r",
      "Processing rows:  71%|███████   | 852/1200 [42:56<16:17,  2.81s/it]"
     ]
    },
    {
     "name": "stdout",
     "output_type": "stream",
     "text": [
      "Trang sức,8505,71,4300,465,Nước ngoài,27964,17000,97,99,100,2,4,8,7,444\n"
     ]
    },
    {
     "name": "stderr",
     "output_type": "stream",
     "text": [
      "\r",
      "Processing rows:  71%|███████   | 853/1200 [42:59<16:11,  2.80s/it]"
     ]
    },
    {
     "name": "stdout",
     "output_type": "stream",
     "text": [
      "Trang sức,5774,57,37100,2567,Nước ngoài,13400,17000,97,99,100,22,4,19,68,2454\n"
     ]
    },
    {
     "name": "stderr",
     "output_type": "stream",
     "text": [
      "\r",
      "Processing rows:  71%|███████   | 854/1200 [43:02<16:43,  2.90s/it]"
     ]
    },
    {
     "name": "stdout",
     "output_type": "stream",
     "text": [
      "Trang sức,34333,58,1100,303,Ho Chi Minh,82000,16500,92,99,100,3,4,7,10,279\n"
     ]
    },
    {
     "name": "stderr",
     "output_type": "stream",
     "text": [
      "\r",
      "Processing rows:  71%|███████▏  | 855/1200 [43:06<18:07,  3.15s/it]"
     ]
    },
    {
     "name": "stdout",
     "output_type": "stream",
     "text": [
      "Trang sức,6700,50,6900,652,Nước ngoài,25770,17000,97,99,100,6,1,4,13,629\n"
     ]
    },
    {
     "name": "stderr",
     "output_type": "stream",
     "text": [
      "\r",
      "Processing rows:  71%|███████▏  | 856/1200 [43:09<17:31,  3.06s/it]"
     ]
    },
    {
     "name": "stdout",
     "output_type": "stream",
     "text": [
      "Trang sức,71000,28,238,79,Ho Chi Minh,99000,16500,97,99,87,0,1,1,1,76\n"
     ]
    },
    {
     "name": "stderr",
     "output_type": "stream",
     "text": [
      "\r",
      "Processing rows:  71%|███████▏  | 857/1200 [43:13<18:21,  3.21s/it]"
     ]
    },
    {
     "name": "stdout",
     "output_type": "stream",
     "text": [
      "Trang sức,20299,51,1700,408,Ho Chi Minh,38962,17000,97,100,100,6,0,3,4,395\n"
     ]
    },
    {
     "name": "stderr",
     "output_type": "stream",
     "text": [
      "\r",
      "Processing rows:  72%|███████▏  | 858/1200 [43:16<18:21,  3.22s/it]"
     ]
    },
    {
     "name": "stdout",
     "output_type": "stream",
     "text": [
      "Trang sức,4162,48,1100,302,Ho Chi Minh,8000,Miễn Phí,98,99,90,9,4,2,7,281\n"
     ]
    },
    {
     "name": "stderr",
     "output_type": "stream",
     "text": [
      "\r",
      "Processing rows:  72%|███████▏  | 859/1200 [43:19<18:39,  3.28s/it]"
     ]
    },
    {
     "name": "stdout",
     "output_type": "stream",
     "text": [
      "Trang sức,1000,None,20,2,Ha Noi,32700,None,100,None,None,0,0,0,2\n"
     ]
    },
    {
     "name": "stderr",
     "output_type": "stream",
     "text": [
      "\r",
      "Processing rows:  72%|███████▏  | 860/1200 [43:23<19:02,  3.36s/it]"
     ]
    },
    {
     "name": "stdout",
     "output_type": "stream",
     "text": [
      "Trang sức,30000,41,306,47,Ho Chi Minh,51000,Miễn Phí,95,98,75,0,0,0,1,46\n"
     ]
    },
    {
     "name": "stderr",
     "output_type": "stream",
     "text": [
      "\r",
      "Processing rows:  72%|███████▏  | 861/1200 [43:28<21:21,  3.78s/it]"
     ]
    },
    {
     "name": "stdout",
     "output_type": "stream",
     "text": [
      "Trang sức,98000,10,107,34,Ho Chi Minh,109000,16500,97,99,87,0,0,0,2,32\n"
     ]
    },
    {
     "name": "stderr",
     "output_type": "stream",
     "text": [
      "\r",
      "Processing rows:  72%|███████▏  | 862/1200 [43:31<20:15,  3.60s/it]"
     ]
    },
    {
     "name": "stdout",
     "output_type": "stream",
     "text": [
      "Trang sức,99000,34,2000,519,Ha Noi,149000,32700,99,100,nan,5,4,5,12,494\n"
     ]
    },
    {
     "name": "stderr",
     "output_type": "stream",
     "text": [
      "\r",
      "Processing rows:  72%|███████▏  | 863/1200 [43:34<19:55,  3.55s/it]"
     ]
    },
    {
     "name": "stdout",
     "output_type": "stream",
     "text": [
      "Trang sức,53306,23,39,17,Ho Chi Minh,69000,16500,97,99,87,0,1,1,1,15\n"
     ]
    },
    {
     "name": "stderr",
     "output_type": "stream",
     "text": [
      "\r",
      "Processing rows:  72%|███████▏  | 864/1200 [43:37<18:27,  3.30s/it]"
     ]
    },
    {
     "name": "stdout",
     "output_type": "stream",
     "text": [
      "Trang sức,5851,58,41,19,Nước ngoài,14000,17000,95,99,100,1,2,0,0,16\n"
     ]
    },
    {
     "name": "stderr",
     "output_type": "stream",
     "text": [
      "\r",
      "Processing rows:  72%|███████▏  | 865/1200 [43:40<17:49,  3.19s/it]"
     ]
    },
    {
     "name": "stdout",
     "output_type": "stream",
     "text": [
      "Trang sức,8131,38,363,53,Nước ngoài,13203,17000,93,97,100,2,3,3,2,44\n"
     ]
    },
    {
     "name": "stderr",
     "output_type": "stream",
     "text": [
      "\r",
      "Processing rows:  72%|███████▏  | 866/1200 [43:43<17:08,  3.08s/it]"
     ]
    },
    {
     "name": "stdout",
     "output_type": "stream",
     "text": [
      "Trang sức,49000,38,28,7,Ho Chi Minh,79000,16500,97,99,87,0,0,0,1,6\n"
     ]
    },
    {
     "name": "stderr",
     "output_type": "stream",
     "text": [
      "\r",
      "Processing rows:  72%|███████▏  | 867/1200 [43:46<17:07,  3.09s/it]"
     ]
    },
    {
     "name": "stdout",
     "output_type": "stream",
     "text": [
      "Trang sức,26900,61,675,101,Nước ngoài,69000,17000,96,100,None,4,1,1,8,88\n"
     ]
    },
    {
     "name": "stderr",
     "output_type": "stream",
     "text": [
      "\r",
      "Processing rows:  72%|███████▏  | 868/1200 [43:49<16:56,  3.06s/it]"
     ]
    },
    {
     "name": "stdout",
     "output_type": "stream",
     "text": [
      "Trang sức,73687,77,200,45,Ho Chi Minh,495862,17000,95,100,None,0,0,0,1,44\n"
     ]
    },
    {
     "name": "stderr",
     "output_type": "stream",
     "text": [
      "\r",
      "Processing rows:  72%|███████▏  | 869/1200 [43:52<17:42,  3.21s/it]"
     ]
    },
    {
     "name": "stdout",
     "output_type": "stream",
     "text": [
      "Trang sức,32000,29,1400,199,Ha Noi,45000,32700,85,86,100,24,1,10,6,158\n"
     ]
    },
    {
     "name": "stderr",
     "output_type": "stream",
     "text": [
      "\r",
      "Processing rows:  72%|███████▎  | 870/1200 [43:56<17:47,  3.23s/it]"
     ]
    },
    {
     "name": "stdout",
     "output_type": "stream",
     "text": [
      "Trang sức,24000,66,776,173,Nước ngoài,70000,17000,98,100,100,2,0,3,7,161\n"
     ]
    },
    {
     "name": "stderr",
     "output_type": "stream",
     "text": [
      "\r",
      "Processing rows:  73%|███████▎  | 871/1200 [43:58<16:33,  3.02s/it]"
     ]
    },
    {
     "name": "stdout",
     "output_type": "stream",
     "text": [
      "Trang sức,53306,40,52,9,Ho Chi Minh,89000,16500,97,99,87,0,0,0,9\n"
     ]
    },
    {
     "name": "stderr",
     "output_type": "stream",
     "text": [
      "\r",
      "Processing rows:  73%|███████▎  | 872/1200 [44:01<16:04,  2.94s/it]"
     ]
    },
    {
     "name": "stdout",
     "output_type": "stream",
     "text": [
      "Trang sức,23200,50,154,36,Nước ngoài,46400,17000,95,97,100,1,0,0,0,35\n"
     ]
    },
    {
     "name": "stderr",
     "output_type": "stream",
     "text": [
      "\r",
      "Processing rows:  73%|███████▎  | 873/1200 [44:03<15:00,  2.75s/it]"
     ]
    },
    {
     "name": "stdout",
     "output_type": "stream",
     "text": [
      "Trang sức,18755,37,816,114,Nước ngoài,30000,17000,96,100,100,2,0,2,5,106\n"
     ]
    },
    {
     "name": "stderr",
     "output_type": "stream",
     "text": [
      "\r",
      "Processing rows:  73%|███████▎  | 874/1200 [44:06<15:33,  2.86s/it]"
     ]
    },
    {
     "name": "stdout",
     "output_type": "stream",
     "text": [
      "Trang sức,12515,41,11,5,Ha Noi,21276,32700,96,94,100,1,0,1,0,3\n"
     ]
    },
    {
     "name": "stderr",
     "output_type": "stream",
     "text": [
      "\r",
      "Processing rows:  73%|███████▎  | 875/1200 [44:09<14:58,  2.76s/it]"
     ]
    },
    {
     "name": "stdout",
     "output_type": "stream",
     "text": [
      "Trang sức,8800,45,None,None,Nước ngoài,16000,17000,96,100,100,0,0,0,0,5\n"
     ]
    },
    {
     "name": "stderr",
     "output_type": "stream",
     "text": [
      "\r",
      "Processing rows:  73%|███████▎  | 876/1200 [44:13<16:31,  3.06s/it]"
     ]
    },
    {
     "name": "stdout",
     "output_type": "stream",
     "text": [
      "Trang sức,29000,51,45,12,Ho Chi Minh,59000,16500,97,99,87,0,0,0,0,12\n"
     ]
    },
    {
     "name": "stderr",
     "output_type": "stream",
     "text": [
      "\r",
      "Processing rows:  73%|███████▎  | 877/1200 [44:15<15:39,  2.91s/it]"
     ]
    },
    {
     "name": "stdout",
     "output_type": "stream",
     "text": [
      "Trang sức,60122,81,1500,352,Ho Chi Minh,359000,17000,96,100,90,9,2,8,12,321\n"
     ]
    },
    {
     "name": "stderr",
     "output_type": "stream",
     "text": [
      "\r",
      "Processing rows:  73%|███████▎  | 878/1200 [44:18<16:02,  2.99s/it]"
     ]
    },
    {
     "name": "stdout",
     "output_type": "stream",
     "text": [
      "Trang sức,49680,8,295,40,Ho Chi Minh,83000,17000,95,93,99,1,0,2,2,35\n"
     ]
    },
    {
     "name": "stderr",
     "output_type": "stream",
     "text": [
      "\r",
      "Processing rows:  73%|███████▎  | 879/1200 [44:21<14:49,  2.77s/it]"
     ]
    },
    {
     "name": "stdout",
     "output_type": "stream",
     "text": [
      "Trang sức,19000,32,226,56,Nước ngoài,28000,17000,98,90,100,1,0,0,0,55\n"
     ]
    },
    {
     "name": "stderr",
     "output_type": "stream",
     "text": [
      "\r",
      "Processing rows:  73%|███████▎  | 880/1200 [44:23<14:38,  2.75s/it]"
     ]
    },
    {
     "name": "stdout",
     "output_type": "stream",
     "text": [
      "Trang sức,82962,16,221,40,Ho Chi Minh,99000,16500,97,99,87,0,2,2,0,36\n"
     ]
    },
    {
     "name": "stderr",
     "output_type": "stream",
     "text": [
      "\r",
      "Processing rows:  73%|███████▎  | 881/1200 [44:25<13:41,  2.58s/it]"
     ]
    },
    {
     "name": "stdout",
     "output_type": "stream",
     "text": [
      "Trang sức,6660,53,65,16,Ho Chi Minh,14300,17000,97,98,100,0,0,0,1,15\n"
     ]
    },
    {
     "name": "stderr",
     "output_type": "stream",
     "text": [
      "\r",
      "Processing rows:  74%|███████▎  | 882/1200 [44:29<14:30,  2.74s/it]"
     ]
    },
    {
     "name": "stdout",
     "output_type": "stream",
     "text": [
      "Trang sức,11457,40,448,97,Ho Chi Minh,15851,17000,94,97,80,1,2,2,5,87\n"
     ]
    },
    {
     "name": "stderr",
     "output_type": "stream",
     "text": [
      "\r",
      "Processing rows:  74%|███████▎  | 883/1200 [44:32<16:02,  3.04s/it]"
     ]
    },
    {
     "name": "stdout",
     "output_type": "stream",
     "text": [
      "Trang sức,5000,44,1200,224,Ho Chi Minh,9000,17000,95,100,71,12,4,6,13,189\n"
     ]
    },
    {
     "name": "stderr",
     "output_type": "stream",
     "text": [
      "\r",
      "Processing rows:  74%|███████▎  | 884/1200 [44:35<15:29,  2.94s/it]"
     ]
    },
    {
     "name": "stdout",
     "output_type": "stream",
     "text": [
      "Trang sức,10999,49,922,245,Ho Chi Minh,21567,17000,95,97,None,3,1,5,6,230\n"
     ]
    },
    {
     "name": "stderr",
     "output_type": "stream",
     "text": [
      "\r",
      "Processing rows:  74%|███████▍  | 885/1200 [44:39<17:47,  3.39s/it]"
     ]
    },
    {
     "name": "stdout",
     "output_type": "stream",
     "text": [
      "Trang sức,7030,53,862,183,Ho Chi Minh,15500,17000,97,98,100,0,0,2,4,177\n"
     ]
    },
    {
     "name": "stderr",
     "output_type": "stream",
     "text": [
      "\r",
      "Processing rows:  74%|███████▍  | 886/1200 [44:42<15:53,  3.04s/it]"
     ]
    },
    {
     "name": "stdout",
     "output_type": "stream",
     "text": [
      "Trang sức,50852,15,255,101,Ho Chi Minh,49000,17000,95,99,100,1,1,2,3,95\n"
     ]
    },
    {
     "name": "stderr",
     "output_type": "stream",
     "text": [
      "\r",
      "Processing rows:  74%|███████▍  | 887/1200 [44:44<15:30,  2.97s/it]"
     ]
    },
    {
     "name": "stdout",
     "output_type": "stream",
     "text": [
      "Trang sức,17575,39,191,63,Ho Chi Minh,85000,17000,96,100,100,0,1,0,4,59\n"
     ]
    },
    {
     "name": "stderr",
     "output_type": "stream",
     "text": [
      "\r",
      "Processing rows:  74%|███████▍  | 888/1200 [44:48<15:50,  3.05s/it]"
     ]
    },
    {
     "name": "stdout",
     "output_type": "stream",
     "text": [
      "Trang sức,9000,59,5600,735,Ho Chi Minh,22000,17000,96,99,92,7,5,9,27,688\n"
     ]
    },
    {
     "name": "stderr",
     "output_type": "stream",
     "text": [
      "\r",
      "Processing rows:  74%|███████▍  | 889/1200 [44:50<14:52,  2.87s/it]"
     ]
    },
    {
     "name": "stdout",
     "output_type": "stream",
     "text": [
      "Trang sức,5179,42,329,71,Ho Chi Minh,18000,17000,97,100,100,1,0,0,0,70\n"
     ]
    },
    {
     "name": "stderr",
     "output_type": "stream",
     "text": [
      "\r",
      "Processing rows:  74%|███████▍  | 890/1200 [44:53<14:13,  2.75s/it]"
     ]
    },
    {
     "name": "stdout",
     "output_type": "stream",
     "text": [
      "Trang sức,88000,None,746,150,Ho Chi Minh,None,Miễn Phí,99,100,None,1,1,2,4,143\n"
     ]
    },
    {
     "name": "stderr",
     "output_type": "stream",
     "text": [
      "\r",
      "Processing rows:  74%|███████▍  | 891/1200 [44:58<18:13,  3.54s/it]"
     ]
    },
    {
     "name": "stdout",
     "output_type": "stream",
     "text": [
      "Trang sức,109000,52,115,50,Ho Chi Minh,229000,16500,99,100,100,0,0,1,0,49\n"
     ]
    },
    {
     "name": "stderr",
     "output_type": "stream",
     "text": [
      "\r",
      "Processing rows:  74%|███████▍  | 892/1200 [45:01<17:20,  3.38s/it]"
     ]
    },
    {
     "name": "stdout",
     "output_type": "stream",
     "text": [
      "Trang sức,22587,50,6800,1348,Ha Noi,55000,32700,95,100,None,31,11,40,78,1188\n"
     ]
    },
    {
     "name": "stderr",
     "output_type": "stream",
     "text": [
      "\r",
      "Processing rows:  74%|███████▍  | 893/1200 [45:03<15:47,  3.09s/it]"
     ]
    },
    {
     "name": "stdout",
     "output_type": "stream",
     "text": [
      "Trang sức,22355,49,433,147,Nước ngoài,23999,17000,96,100,100,1,0,1,6,139\n"
     ]
    },
    {
     "name": "stderr",
     "output_type": "stream",
     "text": [
      "\r",
      "Processing rows:  74%|███████▍  | 894/1200 [45:07<16:17,  3.19s/it]"
     ]
    },
    {
     "name": "stdout",
     "output_type": "stream",
     "text": [
      "Trang sức,4145,19,231,43,Ho Chi Minh,5094,17000,96,89,100,1,0,0,1,41\n"
     ]
    },
    {
     "name": "stderr",
     "output_type": "stream",
     "text": [
      "\r",
      "Processing rows:  75%|███████▍  | 895/1200 [45:10<15:30,  3.05s/it]"
     ]
    },
    {
     "name": "stdout",
     "output_type": "stream",
     "text": [
      "Trang suc,10000,47,51,11,Nước ngoài,19000,17000,94,97,100,2,0,0,0,9\n"
     ]
    },
    {
     "name": "stderr",
     "output_type": "stream",
     "text": [
      "\r",
      "Processing rows:  75%|███████▍  | 896/1200 [45:12<14:41,  2.90s/it]"
     ]
    },
    {
     "name": "stdout",
     "output_type": "stream",
     "text": [
      "Trang sức,80000,None,36,10,Ho Chi Minh,None,18300,98,66,None,0,0,0,0,10\n"
     ]
    },
    {
     "name": "stderr",
     "output_type": "stream",
     "text": [
      "\r",
      "Processing rows:  75%|███████▍  | 897/1200 [45:17<17:12,  3.41s/it]"
     ]
    },
    {
     "name": "stdout",
     "output_type": "stream",
     "text": [
      "Trang sức,33000,67,165,21,Ho Chi Minh,100000,16500,94,None,None,3,2,0,1,15\n"
     ]
    },
    {
     "name": "stderr",
     "output_type": "stream",
     "text": [
      "\r",
      "Processing rows:  75%|███████▍  | 898/1200 [45:19<15:55,  3.16s/it]"
     ]
    },
    {
     "name": "stdout",
     "output_type": "stream",
     "text": [
      "Trang sức,15559,49,10,1,Ha Noi,30580,32700,96,94,100,0,0,0,0,1\n"
     ]
    },
    {
     "name": "stderr",
     "output_type": "stream",
     "text": [
      "\r",
      "Processing rows:  75%|███████▍  | 899/1200 [45:23<17:10,  3.42s/it]"
     ]
    },
    {
     "name": "stdout",
     "output_type": "stream",
     "text": [
      "Trang sức,35000,42,14,3,Nước ngoài,67000,17000,95,100,0,0,0,0,3\n"
     ]
    },
    {
     "name": "stderr",
     "output_type": "stream",
     "text": [
      "\r",
      "Processing rows:  75%|███████▌  | 900/1200 [45:25<14:56,  2.99s/it]"
     ]
    },
    {
     "name": "stdout",
     "output_type": "stream",
     "text": [
      "Trang sức,26377,23,None,1,Nước ngoài,34290,17000,94,100,None,0,0,0,0,1\n"
     ]
    },
    {
     "name": "stderr",
     "output_type": "stream",
     "text": [
      "\r",
      "Processing rows:  75%|███████▌  | 901/1200 [45:28<14:05,  2.83s/it]"
     ]
    },
    {
     "name": "stdout",
     "output_type": "stream",
     "text": [
      "Trang sức,14706,54,117,23,Nước ngoài,None,None,None,None,None,2,0,1,1,19\n"
     ]
    },
    {
     "name": "stderr",
     "output_type": "stream",
     "text": [
      "\r",
      "Processing rows:  75%|███████▌  | 902/1200 [45:30<13:55,  2.80s/it]"
     ]
    },
    {
     "name": "stdout",
     "output_type": "stream",
     "text": [
      "Trang sức,18431,55,110,17,Ho Chi Minh,40800,16500,97,88,100,2,0,0,0,16\n"
     ]
    },
    {
     "name": "stderr",
     "output_type": "stream",
     "text": [
      "\r",
      "Processing rows:  75%|███████▌  | 903/1200 [45:33<14:02,  2.84s/it]"
     ]
    },
    {
     "name": "stdout",
     "output_type": "stream",
     "text": [
      "Trang sức,73600,8,14,4,Nước ngoài,80000,17000,93,92,99,0,0,0,4\n"
     ]
    },
    {
     "name": "stderr",
     "output_type": "stream",
     "text": [
      "\r",
      "Processing rows:  75%|███████▌  | 904/1200 [45:37<14:39,  2.97s/it]"
     ]
    },
    {
     "name": "stdout",
     "output_type": "stream",
     "text": [
      "Trang sức,78734,75,292,78,Nước ngoài,309990,17000,96,100,90,2,0,1,3,72\n"
     ]
    },
    {
     "name": "stderr",
     "output_type": "stream",
     "text": [
      "\r",
      "Processing rows:  75%|███████▌  | 905/1200 [45:41<16:39,  3.39s/it]"
     ]
    },
    {
     "name": "stdout",
     "output_type": "stream",
     "text": [
      "Trang sức,24000,49,132,30,Nước ngoài,46900,17000,92,98,100,1,0,0,1,28\n"
     ]
    },
    {
     "name": "stderr",
     "output_type": "stream",
     "text": [
      "\r",
      "Processing rows:  76%|███████▌  | 906/1200 [45:43<14:49,  3.03s/it]"
     ]
    },
    {
     "name": "stdout",
     "output_type": "stream",
     "text": [
      "Trang sức,18200,50,5,3,Nước ngoài,36399,17000,96,100,100,0,0,0,3\n"
     ]
    },
    {
     "name": "stderr",
     "output_type": "stream",
     "text": [
      "\r",
      "Processing rows:  76%|███████▌  | 907/1200 [45:47<15:26,  3.16s/it]"
     ]
    },
    {
     "name": "stdout",
     "output_type": "stream",
     "text": [
      "Trang sức,19000,79,130,42,Ho Chi Minh,90000,16500,99,100,100,0,0,0,42\n"
     ]
    },
    {
     "name": "stderr",
     "output_type": "stream",
     "text": [
      "\r",
      "Processing rows:  76%|███████▌  | 908/1200 [45:50<15:54,  3.27s/it]"
     ]
    },
    {
     "name": "stdout",
     "output_type": "stream",
     "text": [
      "Trang sức,13411,54,15,8,Ho Chi Minh,28999,17000,96,100,100,0,1,0,0,7\n"
     ]
    },
    {
     "name": "stderr",
     "output_type": "stream",
     "text": [
      "\r",
      "Processing rows:  76%|███████▌  | 909/1200 [45:53<15:02,  3.10s/it]"
     ]
    },
    {
     "name": "stdout",
     "output_type": "stream",
     "text": [
      "Trang sức,8030,45,41,13,Nước ngoài,20799,17000,96,100,100,0,0,0,13\n"
     ]
    },
    {
     "name": "stderr",
     "output_type": "stream",
     "text": [
      "\r",
      "Processing rows:  76%|███████▌  | 910/1200 [45:55<13:58,  2.89s/it]"
     ]
    },
    {
     "name": "stdout",
     "output_type": "stream",
     "text": [
      "Trang sức,25760,52,1900,365,Nước ngoài,53200,17000,98,98,100,3,2,4,16,340\n"
     ]
    },
    {
     "name": "stderr",
     "output_type": "stream",
     "text": [
      "\r",
      "Processing rows:  76%|███████▌  | 911/1200 [45:58<13:55,  2.89s/it]"
     ]
    },
    {
     "name": "stdout",
     "output_type": "stream",
     "text": [
      "Trang sức,30000,41,34,8,Nước ngoài,53000,17000,95,95,0,0,0,0,8\n"
     ]
    },
    {
     "name": "stderr",
     "output_type": "stream",
     "text": [
      "\r",
      "Processing rows:  76%|███████▌  | 912/1200 [46:01<13:37,  2.84s/it]"
     ]
    },
    {
     "name": "stdout",
     "output_type": "stream",
     "text": [
      "Trang sức,8000,43,20,4,Nước ngoài,21000,17000,95,100,71,0,0,1,0,3\n"
     ]
    },
    {
     "name": "stderr",
     "output_type": "stream",
     "text": [
      "\r",
      "Processing rows:  76%|███████▌  | 913/1200 [46:04<13:19,  2.79s/it]"
     ]
    },
    {
     "name": "stdout",
     "output_type": "stream",
     "text": [
      "Trang sức,39300,57,28,11,Ho Chi Minh,91000,16500,98,100,100,0,1,0,0,11\n"
     ]
    },
    {
     "name": "stderr",
     "output_type": "stream",
     "text": [
      "\r",
      "Processing rows:  76%|███████▌  | 914/1200 [46:07<13:46,  2.89s/it]"
     ]
    },
    {
     "name": "stdout",
     "output_type": "stream",
     "text": [
      "Trang sức,5082,36,841,101,Nước ngoài,8000,17000,96,100,100,2,1,1,3,95\n"
     ]
    },
    {
     "name": "stderr",
     "output_type": "stream",
     "text": [
      "\r",
      "Processing rows:  76%|███████▋  | 915/1200 [46:11<15:28,  3.26s/it]"
     ]
    },
    {
     "name": "stdout",
     "output_type": "stream",
     "text": [
      "Trang sức,57597,81,1800,458,Ho Chi Minh,369000,17000,96,100,90,8,1,4,14,431\n"
     ]
    },
    {
     "name": "stderr",
     "output_type": "stream",
     "text": [
      "\r",
      "Processing rows:  76%|███████▋  | 916/1200 [46:13<14:06,  2.98s/it]"
     ]
    },
    {
     "name": "stdout",
     "output_type": "stream",
     "text": [
      "Trang suc,6000,45,38,3,Nước ngoài,11000,17000,94,97,100,0,0,1,0,3\n"
     ]
    },
    {
     "name": "stderr",
     "output_type": "stream",
     "text": [
      "\r",
      "Processing rows:  76%|███████▋  | 917/1200 [46:17<14:58,  3.17s/it]"
     ]
    },
    {
     "name": "stdout",
     "output_type": "stream",
     "text": [
      "Trang sức,20900,49,12,1,Nước ngoài,41000,17000,95,100,0,0,0,0,1\n"
     ]
    },
    {
     "name": "stderr",
     "output_type": "stream",
     "text": [
      "\r",
      "Processing rows:  76%|███████▋  | 918/1200 [46:19<13:14,  2.82s/it]"
     ]
    },
    {
     "name": "stdout",
     "output_type": "stream",
     "text": [
      "Trang sức,8000,47,18,2,Ho Chi Minh,15000,17000,94,100,100,0,1,0,0,1\n"
     ]
    },
    {
     "name": "stderr",
     "output_type": "stream",
     "text": [
      "\r",
      "Processing rows:  77%|███████▋  | 919/1200 [46:22<13:32,  2.89s/it]"
     ]
    },
    {
     "name": "stdout",
     "output_type": "stream",
     "text": [
      "Trang sức,3771,16,None,None,Ho Chi Minh,4500,16500,100,100,None,0,0,0,0,0\n"
     ]
    },
    {
     "name": "stderr",
     "output_type": "stream",
     "text": [
      "\r",
      "Processing rows:  77%|███████▋  | 920/1200 [46:25<13:44,  2.95s/it]"
     ]
    },
    {
     "name": "stdout",
     "output_type": "stream",
     "text": [
      "Trang sức,20482,54,371,82,Ho Chi Minh,44550,17000,89,100,nan,16,7,4,3,53\n"
     ]
    },
    {
     "name": "stderr",
     "output_type": "stream",
     "text": [
      "\r",
      "Processing rows:  77%|███████▋  | 921/1200 [46:28<13:26,  2.89s/it]"
     ]
    },
    {
     "name": "stdout",
     "output_type": "stream",
     "text": [
      "Trang sức,33000,35,None,1,Nước ngoài,50700,17000,None,100,None,0,0,0,0,1\n"
     ]
    },
    {
     "name": "stderr",
     "output_type": "stream",
     "text": [
      "\r",
      "Processing rows:  77%|███████▋  | 922/1200 [46:30<12:42,  2.74s/it]"
     ]
    },
    {
     "name": "stdout",
     "output_type": "stream",
     "text": [
      "Trang sức,12024,43,907,232,Ho Chi Minh,44000,17000,94,100,100,4,1,4,3,221\n"
     ]
    },
    {
     "name": "stderr",
     "output_type": "stream",
     "text": [
      "\r",
      "Processing rows:  77%|███████▋  | 923/1200 [46:32<12:05,  2.62s/it]"
     ]
    },
    {
     "name": "stdout",
     "output_type": "stream",
     "text": [
      "Trang sức,53307,52,251,48,Ho Chi Minh,112000,16500,87,99,100,2,1,1,1,43\n"
     ]
    },
    {
     "name": "stderr",
     "output_type": "stream",
     "text": [
      "\r",
      "Processing rows:  77%|███████▋  | 924/1200 [46:36<12:59,  2.82s/it]"
     ]
    },
    {
     "name": "stdout",
     "output_type": "stream",
     "text": [
      "Trang sức,5446,52,6700,1651,Ho Chi Minh,12900,17000,96,95,97,39,14,26,36,1536\n"
     ]
    },
    {
     "name": "stderr",
     "output_type": "stream",
     "text": [
      "\r",
      "Processing rows:  77%|███████▋  | 925/1200 [46:39<13:18,  2.90s/it]"
     ]
    },
    {
     "name": "stdout",
     "output_type": "stream",
     "text": [
      "Trang sức,6000,40,3800,456,Ho Chi Minh,10000,17000,94,100,100,9,4,15,24,405\n"
     ]
    },
    {
     "name": "stderr",
     "output_type": "stream",
     "text": [
      "\r",
      "Processing rows:  77%|███████▋  | 926/1200 [46:41<12:50,  2.81s/it]"
     ]
    },
    {
     "name": "stdout",
     "output_type": "stream",
     "text": [
      "Trang sức,8324,37,193,42,Nước ngoài,13203,17000,96,99,None,3,0,1,1,37\n"
     ]
    },
    {
     "name": "stderr",
     "output_type": "stream",
     "text": [
      "\r",
      "Processing rows:  77%|███████▋  | 927/1200 [46:44<12:21,  2.72s/it]"
     ]
    },
    {
     "name": "stdout",
     "output_type": "stream",
     "text": [
      "Trang sức,8509,48,76,29,Ho Chi Minh,16500,17000,96,100,83,0,1,0,0,28\n"
     ]
    },
    {
     "name": "stderr",
     "output_type": "stream",
     "text": [
      "\r",
      "Processing rows:  77%|███████▋  | 928/1200 [46:47<12:32,  2.77s/it]"
     ]
    },
    {
     "name": "stdout",
     "output_type": "stream",
     "text": [
      "Trang sức,10174,52,5400,838,Ho Chi Minh,21000,17000,96,100,100,35,18,28,37,720\n"
     ]
    },
    {
     "name": "stderr",
     "output_type": "stream",
     "text": [
      "\r",
      "Processing rows:  77%|███████▋  | 929/1200 [46:49<12:23,  2.74s/it]"
     ]
    },
    {
     "name": "stdout",
     "output_type": "stream",
     "text": [
      "Trang sức,10661,47,52,7,Ha Noi,20060,32700,97,90,100,2,0,0,0,6\n"
     ]
    },
    {
     "name": "stderr",
     "output_type": "stream",
     "text": [
      "\r",
      "Processing rows:  78%|███████▊  | 930/1200 [46:51<11:22,  2.53s/it]"
     ]
    },
    {
     "name": "stdout",
     "output_type": "stream",
     "text": [
      "Trang sức,10000,50,587,77,Ho Chi Minh,32000,17000,94,94,100,0,0,2,1,74\n"
     ]
    },
    {
     "name": "stderr",
     "output_type": "stream",
     "text": [
      "\r",
      "Processing rows:  78%|███████▊  | 931/1200 [46:54<11:55,  2.66s/it]"
     ]
    },
    {
     "name": "stdout",
     "output_type": "stream",
     "text": [
      "Trang sức,29900,39,331,55,Ha Noi,49000,32700,97,91,None,1,0,1,2,52\n"
     ]
    },
    {
     "name": "stderr",
     "output_type": "stream",
     "text": [
      "\r",
      "Processing rows:  78%|███████▊  | 932/1200 [46:58<12:43,  2.85s/it]"
     ]
    },
    {
     "name": "stdout",
     "output_type": "stream",
     "text": [
      "Trang sức,17847,42,70,29,Ho Chi Minh,13000,17000,95,100,100,0,0,0,29\n"
     ]
    },
    {
     "name": "stderr",
     "output_type": "stream",
     "text": [
      "\r",
      "Processing rows:  78%|███████▊  | 933/1200 [47:02<15:03,  3.38s/it]"
     ]
    },
    {
     "name": "stdout",
     "output_type": "stream",
     "text": [
      "Trang suc,4000,43,109,13,Nước ngoài,7000,17000,95,100,71,0,1,2,0,10\n"
     ]
    },
    {
     "name": "stderr",
     "output_type": "stream",
     "text": [
      "\r",
      "Processing rows:  78%|███████▊  | 934/1200 [47:05<14:11,  3.20s/it]"
     ]
    },
    {
     "name": "stdout",
     "output_type": "stream",
     "text": [
      "Trang sức,10846,57,43,45,Nước ngoài,44000,17000,95,99,100,1,0,2,0,43\n"
     ]
    },
    {
     "name": "stderr",
     "output_type": "stream",
     "text": [
      "\r",
      "Processing rows:  78%|███████▊  | 935/1200 [47:07<12:46,  2.89s/it]"
     ]
    },
    {
     "name": "stdout",
     "output_type": "stream",
     "text": [
      "Trang sức,10523,57,113,18,Ho Chi Minh,24650,17000,97,99,100,1,0,1,0,16\n"
     ]
    },
    {
     "name": "stderr",
     "output_type": "stream",
     "text": [
      "\r",
      "Processing rows:  78%|███████▊  | 936/1200 [47:11<13:53,  3.16s/it]"
     ]
    },
    {
     "name": "stdout",
     "output_type": "stream",
     "text": [
      "Trang sức,4310,62,523,148,Ho Chi Minh,30260,17000,95,99,100,3,1,2,0,142\n"
     ]
    },
    {
     "name": "stderr",
     "output_type": "stream",
     "text": [
      "\r",
      "Processing rows:  78%|███████▊  | 937/1200 [47:14<14:04,  3.21s/it]"
     ]
    },
    {
     "name": "stdout",
     "output_type": "stream",
     "text": [
      "Trang sức,18000,49,66,11,Nước ngoài,35000,17000,94,97,100,1,0,0,0,11\n"
     ]
    },
    {
     "name": "stderr",
     "output_type": "stream",
     "text": [
      "\r",
      "Processing rows:  78%|███████▊  | 938/1200 [47:17<13:45,  3.15s/it]"
     ]
    },
    {
     "name": "stdout",
     "output_type": "stream",
     "text": [
      "Trang sức,20397,53,2300,451,Nước ngoài,43200,17000,94,97,100,5,6,10,15,415\n"
     ]
    },
    {
     "name": "stderr",
     "output_type": "stream",
     "text": [
      "\r",
      "Processing rows:  78%|███████▊  | 939/1200 [47:20<13:26,  3.09s/it]"
     ]
    },
    {
     "name": "stdout",
     "output_type": "stream",
     "text": [
      "Trang sức,5181,35,1600,64,Nước ngoài,8000,17000,96,100,100,0,0,2,3,59\n"
     ]
    },
    {
     "name": "stderr",
     "output_type": "stream",
     "text": [
      "\r",
      "Processing rows:  78%|███████▊  | 940/1200 [47:24<13:49,  3.19s/it]"
     ]
    },
    {
     "name": "stdout",
     "output_type": "stream",
     "text": [
      "Trang sức,12000,40,56,16,Ho Chi Minh,32000,17000,95,99,100,1,0,1,0,14\n"
     ]
    },
    {
     "name": "stderr",
     "output_type": "stream",
     "text": [
      "\r",
      "Processing rows:  78%|███████▊  | 941/1200 [47:27<14:08,  3.27s/it]"
     ]
    },
    {
     "name": "stdout",
     "output_type": "stream",
     "text": [
      "Trang sức,17000,37,172,45,Nước ngoài,50000,Miễn Phí,96,99,100,0,0,2,1,42\n"
     ]
    },
    {
     "name": "stderr",
     "output_type": "stream",
     "text": [
      "\r",
      "Processing rows:  78%|███████▊  | 942/1200 [47:30<13:16,  3.09s/it]"
     ]
    },
    {
     "name": "stdout",
     "output_type": "stream",
     "text": [
      "Trang sức,8845,50,799,205,Ho Chi Minh,17799,17000,96,100,100,4,1,1,5,194\n"
     ]
    },
    {
     "name": "stderr",
     "output_type": "stream",
     "text": [
      "\r",
      "Processing rows:  79%|███████▊  | 943/1200 [47:33<13:10,  3.08s/it]"
     ]
    },
    {
     "name": "stdout",
     "output_type": "stream",
     "text": [
      "Trang suc,6000,40,90,20,Nước ngoài,12000,17000,95,100,71,1,0,0,0,19\n"
     ]
    },
    {
     "name": "stderr",
     "output_type": "stream",
     "text": [
      "\r",
      "Processing rows:  79%|███████▊  | 944/1200 [47:36<12:53,  3.02s/it]"
     ]
    },
    {
     "name": "stdout",
     "output_type": "stream",
     "text": [
      "Trang sức,16000,43,1100,176,Nước ngoài,28000,17000,95,100,None,9,7,10,10,140\n"
     ]
    },
    {
     "name": "stderr",
     "output_type": "stream",
     "text": [
      "\r",
      "Processing rows:  79%|███████▉  | 945/1200 [47:40<14:11,  3.34s/it]"
     ]
    },
    {
     "name": "stdout",
     "output_type": "stream",
     "text": [
      "Trang sức,20683,53,107,35,Nước ngoài,44000,17000,96,89,100,1,0,2,2,30\n"
     ]
    },
    {
     "name": "stderr",
     "output_type": "stream",
     "text": [
      "\r",
      "Processing rows:  79%|███████▉  | 946/1200 [47:42<13:05,  3.09s/it]"
     ]
    },
    {
     "name": "stdout",
     "output_type": "stream",
     "text": [
      "Trang sức,17575,51,6,10,Ho Chi Minh,36000,17000,97,100,0,0,0,0,10\n"
     ]
    },
    {
     "name": "stderr",
     "output_type": "stream",
     "text": [
      "\r",
      "Processing rows:  79%|███████▉  | 947/1200 [47:45<12:01,  2.85s/it]"
     ]
    },
    {
     "name": "stdout",
     "output_type": "stream",
     "text": [
      "Trang sức,21000,49,35,10,Nước ngoài,41000,17000,94,97,100,0,0,0,0,10\n"
     ]
    },
    {
     "name": "stderr",
     "output_type": "stream",
     "text": [
      "\r",
      "Processing rows:  79%|███████▉  | 948/1200 [47:48<12:42,  3.03s/it]"
     ]
    },
    {
     "name": "stdout",
     "output_type": "stream",
     "text": [
      "Trang sức,7556,20,270,101,Nước ngoài,12909,17000,94,100,100,2,0,0,1,98\n"
     ]
    },
    {
     "name": "stderr",
     "output_type": "stream",
     "text": [
      "\r",
      "Processing rows:  79%|███████▉  | 949/1200 [47:51<12:47,  3.06s/it]"
     ]
    },
    {
     "name": "stdout",
     "output_type": "stream",
     "text": [
      "Trang sức,8883,45,246,68,Ho Chi Minh,23201,17000,95,99,100,5,0,0,3,60\n"
     ]
    },
    {
     "name": "stderr",
     "output_type": "stream",
     "text": [
      "\r",
      "Processing rows:  79%|███████▉  | 950/1200 [47:55<13:36,  3.27s/it]"
     ]
    },
    {
     "name": "stdout",
     "output_type": "stream",
     "text": [
      "Trang sức,16407,12,18,5,Ha Noi,18610,32700,96,97,100,0,0,0,5\n"
     ]
    },
    {
     "name": "stderr",
     "output_type": "stream",
     "text": [
      "\r",
      "Processing rows:  79%|███████▉  | 951/1200 [47:59<14:05,  3.39s/it]"
     ]
    },
    {
     "name": "stdout",
     "output_type": "stream",
     "text": [
      "Trang sức,37000,55,209,42,Ho Chi Minh,202000,16500,99,100,100,0,0,0,1,41\n"
     ]
    },
    {
     "name": "stderr",
     "output_type": "stream",
     "text": [
      "\r",
      "Processing rows:  79%|███████▉  | 952/1200 [48:03<14:57,  3.62s/it]"
     ]
    },
    {
     "name": "stdout",
     "output_type": "stream",
     "text": [
      "Trang suc,68000,None,None,1,Nước ngoài,None,17000,95,93,99,0,0,0,0,2\n"
     ]
    },
    {
     "name": "stderr",
     "output_type": "stream",
     "text": [
      "\r",
      "Processing rows:  79%|███████▉  | 953/1200 [48:06<14:10,  3.44s/it]"
     ]
    },
    {
     "name": "stdout",
     "output_type": "stream",
     "text": [
      "Trang sức,14500,50,46,11,Ho Chi Minh,29000,16500,96,85,100,0,1,0,0,10\n"
     ]
    },
    {
     "name": "stderr",
     "output_type": "stream",
     "text": [
      "\r",
      "Processing rows:  80%|███████▉  | 954/1200 [48:09<13:20,  3.25s/it]"
     ]
    },
    {
     "name": "stdout",
     "output_type": "stream",
     "text": [
      "Trang sức,55000,77,131,38,Nước ngoài,235555,17000,97,100,nan,1,0,0,0,37\n"
     ]
    },
    {
     "name": "stderr",
     "output_type": "stream",
     "text": [
      "\r",
      "Processing rows:  80%|███████▉  | 955/1200 [48:12<12:55,  3.17s/it]"
     ]
    },
    {
     "name": "stdout",
     "output_type": "stream",
     "text": [
      "Trang sức,15331,31,26,9,Nước ngoài,22134,17000,93,100,nan,0,0,0,0,9\n"
     ]
    },
    {
     "name": "stderr",
     "output_type": "stream",
     "text": [
      "\r",
      "Processing rows:  80%|███████▉  | 956/1200 [48:14<11:44,  2.89s/it]"
     ]
    },
    {
     "name": "stdout",
     "output_type": "stream",
     "text": [
      "Trang sức,115869,75,22,7,Nước ngoài,459000,17000,96,100,90,1,0,1,0,6\n"
     ]
    },
    {
     "name": "stderr",
     "output_type": "stream",
     "text": [
      "\r",
      "Processing rows:  80%|███████▉  | 957/1200 [48:17<11:51,  2.93s/it]"
     ]
    },
    {
     "name": "stdout",
     "output_type": "stream",
     "text": [
      "Trang sức,1000,50,None,None,Nước ngoài,2000,None,98,None,100,0,0,0,0\n"
     ]
    },
    {
     "name": "stderr",
     "output_type": "stream",
     "text": [
      "\r",
      "Processing rows:  80%|███████▉  | 958/1200 [48:19<10:41,  2.65s/it]"
     ]
    },
    {
     "name": "stdout",
     "output_type": "stream",
     "text": [
      "Trang sức,8295,41,147,29,Nước ngoài,14000,17000,96,100,100,0,0,0,29\n"
     ]
    },
    {
     "name": "stderr",
     "output_type": "stream",
     "text": [
      "\r",
      "Processing rows:  80%|███████▉  | 959/1200 [48:21<09:57,  2.48s/it]"
     ]
    },
    {
     "name": "stdout",
     "output_type": "stream",
     "text": [
      "Trang sức,28800,48,28,5,Nước ngoài,67000,17000,97,100,nan,0,0,0,0,5\n"
     ]
    },
    {
     "name": "stderr",
     "output_type": "stream",
     "text": [
      "\r",
      "Processing rows:  80%|████████  | 960/1200 [48:23<09:25,  2.36s/it]"
     ]
    },
    {
     "name": "stdout",
     "output_type": "stream",
     "text": [
      "Trang sức,11554,23,None,None,Ho Chi Minh,15336,17000,97,100,100,0,0,0,0\n"
     ]
    },
    {
     "name": "stderr",
     "output_type": "stream",
     "text": [
      "\r",
      "Processing rows:  80%|████████  | 961/1200 [48:26<10:32,  2.65s/it]"
     ]
    },
    {
     "name": "stdout",
     "output_type": "stream",
     "text": [
      "Trang sức,35000,65,8,4,Ho Chi Minh,100000,16500,97,100,85,0,0,0,4\n"
     ]
    },
    {
     "name": "stderr",
     "output_type": "stream",
     "text": [
      "\r",
      "Processing rows:  80%|████████  | 962/1200 [48:30<11:25,  2.88s/it]"
     ]
    },
    {
     "name": "stdout",
     "output_type": "stream",
     "text": [
      "Trang sức,9900,48,243,42,Nước ngoài,19000,17000,95,94,100,2,1,4,0,35\n"
     ]
    },
    {
     "name": "stderr",
     "output_type": "stream",
     "text": [
      "\r",
      "Processing rows:  80%|████████  | 963/1200 [48:34<12:19,  3.12s/it]"
     ]
    },
    {
     "name": "stdout",
     "output_type": "stream",
     "text": [
      "Trang suc,4717,46,23,4,Nước ngoài,8800,17000,96,98,100,2,0,0,0,2\n"
     ]
    },
    {
     "name": "stderr",
     "output_type": "stream",
     "text": [
      "\r",
      "Processing rows:  80%|████████  | 964/1200 [48:37<12:06,  3.08s/it]"
     ]
    },
    {
     "name": "stdout",
     "output_type": "stream",
     "text": [
      "Trang suc,4850,49,85,21,Nước ngoài,9534,17000,96,100,83,0,0,0,21\n"
     ]
    },
    {
     "name": "stderr",
     "output_type": "stream",
     "text": [
      "\r",
      "Processing rows:  80%|████████  | 965/1200 [48:39<11:38,  2.97s/it]"
     ]
    },
    {
     "name": "stdout",
     "output_type": "stream",
     "text": [
      "Trang sức,8685,59,172,99,Ho Chi Minh,36000,17000,96,95,97,0,3,3,2,91\n"
     ]
    },
    {
     "name": "stderr",
     "output_type": "stream",
     "text": [
      "\r",
      "Processing rows:  80%|████████  | 966/1200 [48:42<11:42,  3.00s/it]"
     ]
    },
    {
     "name": "stdout",
     "output_type": "stream",
     "text": [
      "Trang sức,6117,50,241,61,Ho Chi Minh,15833,17000,95,99,100,2,0,1,2,57\n"
     ]
    },
    {
     "name": "stderr",
     "output_type": "stream",
     "text": [
      "\r",
      "Processing rows:  81%|████████  | 967/1200 [48:45<11:28,  2.96s/it]"
     ]
    },
    {
     "name": "stdout",
     "output_type": "stream",
     "text": [
      "Trang sức,19718,58,1900,319,Ho Chi Minh,46400,17000,95,97,100,17,7,7,15,273\n"
     ]
    },
    {
     "name": "stderr",
     "output_type": "stream",
     "text": [
      "\r",
      "Processing rows:  81%|████████  | 968/1200 [48:48<10:48,  2.80s/it]"
     ]
    },
    {
     "name": "stdout",
     "output_type": "stream",
     "text": [
      "Trang sức,16548,40,147,30,Ho Chi Minh,27470,16500,96,100,100,0,0,0,30\n"
     ]
    },
    {
     "name": "stderr",
     "output_type": "stream",
     "text": [
      "\r",
      "Processing rows:  81%|████████  | 969/1200 [48:51<11:10,  2.90s/it]"
     ]
    },
    {
     "name": "stdout",
     "output_type": "stream",
     "text": [
      "Trang sức,7153,48,149,53,Ho Chi Minh,30932,17000,95,99,100,2,1,1,1,48\n"
     ]
    },
    {
     "name": "stderr",
     "output_type": "stream",
     "text": [
      "\r",
      "Processing rows:  81%|████████  | 970/1200 [48:54<11:01,  2.87s/it]"
     ]
    },
    {
     "name": "stdout",
     "output_type": "stream",
     "text": [
      "Trang sức,12487,71,86,43,Nước ngoài,43000,17000,97,99,100,0,0,0,1,42\n"
     ]
    },
    {
     "name": "stderr",
     "output_type": "stream",
     "text": [
      "\r",
      "Processing rows:  81%|████████  | 971/1200 [48:57<11:46,  3.09s/it]"
     ]
    },
    {
     "name": "stdout",
     "output_type": "stream",
     "text": [
      "Trang sức,34225,46,2600,421,Nước ngoài,73000,17000,93,100,100,29,4,1,7,381\n"
     ]
    },
    {
     "name": "stderr",
     "output_type": "stream",
     "text": [
      "\r",
      "Processing rows:  81%|████████  | 972/1200 [49:02<13:33,  3.57s/it]"
     ]
    },
    {
     "name": "stdout",
     "output_type": "stream",
     "text": [
      "Trang sức,9034,40,1300,220,Ho Chi Minh,20000,17000,97,100,100,4,1,1,6,208\n"
     ]
    },
    {
     "name": "stderr",
     "output_type": "stream",
     "text": [
      "\r",
      "Processing rows:  81%|████████  | 973/1200 [49:05<12:32,  3.32s/it]"
     ]
    },
    {
     "name": "stdout",
     "output_type": "stream",
     "text": [
      "Trang sức,18436,58,47,14,Ha Noi,44000,32700,95,100,0,0,0,0,14\n"
     ]
    },
    {
     "name": "stderr",
     "output_type": "stream",
     "text": [
      "\r",
      "Processing rows:  81%|████████  | 974/1200 [49:07<11:22,  3.02s/it]"
     ]
    },
    {
     "name": "stdout",
     "output_type": "stream",
     "text": [
      "Trang sức,11474,63,66,20,Ho Chi Minh,30700,17000,96,98,100,0,0,0,3,17\n"
     ]
    },
    {
     "name": "stderr",
     "output_type": "stream",
     "text": [
      "\r",
      "Processing rows:  81%|████████▏ | 975/1200 [49:10<10:55,  2.91s/it]"
     ]
    },
    {
     "name": "stdout",
     "output_type": "stream",
     "text": [
      "Trang sức,31600,44,294,77,Ho Chi Minh,56000,16500,98,100,100,3,1,0,2,71\n"
     ]
    },
    {
     "name": "stderr",
     "output_type": "stream",
     "text": [
      "\r",
      "Processing rows:  81%|████████▏ | 976/1200 [49:13<11:47,  3.16s/it]"
     ]
    },
    {
     "name": "stdout",
     "output_type": "stream",
     "text": [
      "Trang sức,28305,56,820,174,Nước ngoài,95000,17000,95,86,100,3,3,2,10,156\n"
     ]
    },
    {
     "name": "stderr",
     "output_type": "stream",
     "text": [
      "\r",
      "Processing rows:  81%|████████▏ | 977/1200 [49:17<12:01,  3.24s/it]"
     ]
    },
    {
     "name": "stdout",
     "output_type": "stream",
     "text": [
      "Trang sức,10000,47,2300,314,Ha Noi,19000,32700,84,86,100,22,9,17,16,250\n"
     ]
    },
    {
     "name": "stderr",
     "output_type": "stream",
     "text": [
      "\r",
      "Processing rows:  82%|████████▏ | 978/1200 [49:20<11:52,  3.21s/it]"
     ]
    },
    {
     "name": "stdout",
     "output_type": "stream",
     "text": [
      "Trang sức,53000,48,873,292,Ho Chi Minh,102000,16500,99,100,100,1,0,2,5,284\n"
     ]
    },
    {
     "name": "stderr",
     "output_type": "stream",
     "text": [
      "\r",
      "Processing rows:  82%|████████▏ | 979/1200 [49:22<11:09,  3.03s/it]"
     ]
    },
    {
     "name": "stdout",
     "output_type": "stream",
     "text": [
      "Trang sức,118052,62,184,49,Nước ngoài,311043,17000,97,100,nan,0,0,0,0,49\n"
     ]
    },
    {
     "name": "stderr",
     "output_type": "stream",
     "text": [
      "\r",
      "Processing rows:  82%|████████▏ | 980/1200 [49:25<10:08,  2.77s/it]"
     ]
    },
    {
     "name": "stdout",
     "output_type": "stream",
     "text": [
      "Trang sức,11099,50,224,35,Nước ngoài,22000,17000,97,100,None,1,0,0,2,33\n"
     ]
    },
    {
     "name": "stderr",
     "output_type": "stream",
     "text": [
      "\r",
      "Processing rows:  82%|████████▏ | 981/1200 [49:27<09:27,  2.59s/it]"
     ]
    },
    {
     "name": "stdout",
     "output_type": "stream",
     "text": [
      "Trang sức,33800,50,376,112,Ho Chi Minh,67400,17000,97,99,100,4,0,4,3,101\n"
     ]
    },
    {
     "name": "stderr",
     "output_type": "stream",
     "text": [
      "\r",
      "Processing rows:  82%|████████▏ | 982/1200 [49:29<08:51,  2.44s/it]"
     ]
    },
    {
     "name": "stdout",
     "output_type": "stream",
     "text": [
      "Trang sức,35000,42,141,30,Nước ngoài,67000,17000,95,100,None,1,0,2,2,26\n"
     ]
    },
    {
     "name": "stderr",
     "output_type": "stream",
     "text": [
      "\r",
      "Processing rows:  82%|████████▏ | 983/1200 [49:31<08:52,  2.46s/it]"
     ]
    },
    {
     "name": "stdout",
     "output_type": "stream",
     "text": [
      "Trang sức,11839,85,24,4,Nước ngoài,76700,17000,97,99,100,0,0,0,1,3\n"
     ]
    },
    {
     "name": "stderr",
     "output_type": "stream",
     "text": [
      "\r",
      "Processing rows:  82%|████████▏ | 984/1200 [49:35<09:41,  2.69s/it]"
     ]
    },
    {
     "name": "stdout",
     "output_type": "stream",
     "text": [
      "Trang sức,41062,66,79,15,Ho Chi Minh,120000,16500,95,97,100,0,0,0,0,14\n"
     ]
    },
    {
     "name": "stderr",
     "output_type": "stream",
     "text": [
      "\r",
      "Processing rows:  82%|████████▏ | 985/1200 [49:37<09:46,  2.73s/it]"
     ]
    },
    {
     "name": "stdout",
     "output_type": "stream",
     "text": [
      "Trang sức,15298,49,191,45,Ho Chi Minh,30000,17000,96,71,0,1,1,0,42\n"
     ]
    },
    {
     "name": "stderr",
     "output_type": "stream",
     "text": [
      "\r",
      "Processing rows:  82%|████████▏ | 986/1200 [49:40<10:01,  2.81s/it]"
     ]
    },
    {
     "name": "stdout",
     "output_type": "stream",
     "text": [
      "Trang sức,16733,29,48,10,Ho Chi Minh,23517,17000,96,76,100,0,0,0,1,9\n"
     ]
    },
    {
     "name": "stderr",
     "output_type": "stream",
     "text": [
      "\r",
      "Processing rows:  82%|████████▏ | 987/1200 [49:43<09:20,  2.63s/it]"
     ]
    },
    {
     "name": "stdout",
     "output_type": "stream",
     "text": [
      "Trang sức,12039,48,43,13,Nước ngoài,23000,17000,95,99,100,1,1,1,0,10\n"
     ]
    },
    {
     "name": "stderr",
     "output_type": "stream",
     "text": [
      "\r",
      "Processing rows:  82%|████████▏ | 988/1200 [49:45<09:05,  2.58s/it]"
     ]
    },
    {
     "name": "stdout",
     "output_type": "stream",
     "text": [
      "Trang sức,61000,40,185,12,Nước ngoài,274000,17000,96,97,100,0,0,0,12\n"
     ]
    },
    {
     "name": "stderr",
     "output_type": "stream",
     "text": [
      "\r",
      "Processing rows:  82%|████████▏ | 989/1200 [49:47<08:31,  2.43s/it]"
     ]
    },
    {
     "name": "stdout",
     "output_type": "stream",
     "text": [
      "Trang sức,45000,42,99,20,Ho Chi Minh,78000,16500,98,100,100,0,0,0,20\n"
     ]
    },
    {
     "name": "stderr",
     "output_type": "stream",
     "text": [
      "\r",
      "Processing rows:  82%|████████▎ | 990/1200 [49:50<08:48,  2.52s/it]"
     ]
    },
    {
     "name": "stdout",
     "output_type": "stream",
     "text": [
      "Trang sức,29293,54,43,16,Nước ngoài,64000,17000,96,89,100,1,0,0,0,15\n"
     ]
    },
    {
     "name": "stderr",
     "output_type": "stream",
     "text": [
      "\r",
      "Processing rows:  83%|████████▎ | 991/1200 [49:54<10:09,  2.92s/it]"
     ]
    },
    {
     "name": "stdout",
     "output_type": "stream",
     "text": [
      "Trang sức,119174,20,53,18,Ho Chi Minh,None,16500,97,99,87,1,0,0,1,17\n"
     ]
    },
    {
     "name": "stderr",
     "output_type": "stream",
     "text": [
      "\r",
      "Processing rows:  83%|████████▎ | 992/1200 [49:57<10:32,  3.04s/it]"
     ]
    },
    {
     "name": "stdout",
     "output_type": "stream",
     "text": [
      "Trang sức,27000,75,222,79,Ho Chi Minh,90000,16500,99,100,100,0,1,0,0,79\n"
     ]
    },
    {
     "name": "stderr",
     "output_type": "stream",
     "text": [
      "\r",
      "Processing rows:  83%|████████▎ | 993/1200 [50:02<12:21,  3.58s/it]"
     ]
    },
    {
     "name": "stdout",
     "output_type": "stream",
     "text": [
      "Trang sức,4622,49,1300,201,Nước ngoài,18000,17000,96,100,100,5,1,7,14,175\n"
     ]
    },
    {
     "name": "stderr",
     "output_type": "stream",
     "text": [
      "\r",
      "Processing rows:  83%|████████▎ | 994/1200 [50:05<12:04,  3.52s/it]"
     ]
    },
    {
     "name": "stdout",
     "output_type": "stream",
     "text": [
      "Trang sức,23846,54,16,7,Ho Chi Minh,36524,17000,98,100,100,1,0,0,0,6\n"
     ]
    },
    {
     "name": "stderr",
     "output_type": "stream",
     "text": [
      "\r",
      "Processing rows:  83%|████████▎ | 995/1200 [50:08<10:55,  3.20s/it]"
     ]
    },
    {
     "name": "stdout",
     "output_type": "stream",
     "text": [
      "Trang sức,109000,85,222,67,Nước ngoài,829000,17000,96,100,90,1,0,1,2,63\n"
     ]
    },
    {
     "name": "stderr",
     "output_type": "stream",
     "text": [
      "\r",
      "Processing rows:  83%|████████▎ | 996/1200 [50:10<10:14,  3.01s/it]"
     ]
    },
    {
     "name": "stdout",
     "output_type": "stream",
     "text": [
      "Trang sức,8800,41,2100,387,Nước ngoài,15000,17000,96,100,100,9,5,15,19,339\n"
     ]
    },
    {
     "name": "stderr",
     "output_type": "stream",
     "text": [
      "\r",
      "Processing rows:  83%|████████▎ | 997/1200 [50:13<09:53,  2.92s/it]"
     ]
    },
    {
     "name": "stdout",
     "output_type": "stream",
     "text": [
      "Trang sức,55000,50,None,None,Hà Nội,110000,32700,None,None,None,0,0,0,0,0\n"
     ]
    },
    {
     "name": "stderr",
     "output_type": "stream",
     "text": [
      "\r",
      "Processing rows:  83%|████████▎ | 998/1200 [50:17<10:46,  3.20s/it]"
     ]
    },
    {
     "name": "stdout",
     "output_type": "stream",
     "text": [
      "Trang sức,13955,45,nan,nan,Ho Chi Minh,25539,16500,96,100,100,0,0,0,0\n"
     ]
    },
    {
     "name": "stderr",
     "output_type": "stream",
     "text": [
      "\r",
      "Processing rows:  83%|████████▎ | 999/1200 [50:20<10:24,  3.11s/it]"
     ]
    },
    {
     "name": "stdout",
     "output_type": "stream",
     "text": [
      "Trang sức,10000,None,114,9,Ho Chi Minh,None,16500,93,99,85,1,0,0,0,8\n"
     ]
    },
    {
     "name": "stderr",
     "output_type": "stream",
     "text": [
      "\r",
      "Processing rows:  83%|████████▎ | 1000/1200 [50:22<09:16,  2.78s/it]"
     ]
    },
    {
     "name": "stdout",
     "output_type": "stream",
     "text": [
      "Trang sức,39000,34,None,None,Nước ngoài,59000,None,83,None,100,0,0,0,0\n"
     ]
    },
    {
     "name": "stderr",
     "output_type": "stream",
     "text": [
      "\r",
      "Processing rows:  83%|████████▎ | 1001/1200 [50:25<09:59,  3.01s/it]"
     ]
    },
    {
     "name": "stdout",
     "output_type": "stream",
     "text": [
      "Trang sức,5900,None,1900,597,Ho Chi Minh,None,None,None,None,13,8,15,14,547\n"
     ]
    },
    {
     "name": "stderr",
     "output_type": "stream",
     "text": [
      "\r",
      "Processing rows:  84%|████████▎ | 1002/1200 [50:28<09:40,  2.93s/it]"
     ]
    },
    {
     "name": "stdout",
     "output_type": "stream",
     "text": [
      "Trang sức,5000,None,1200,224,Ho Chi Minh,9000,17000,95,100,71,12,4,6,13,189\n"
     ]
    },
    {
     "name": "stderr",
     "output_type": "stream",
     "text": [
      "\r",
      "Processing rows:  84%|████████▎ | 1003/1200 [50:31<09:45,  2.97s/it]"
     ]
    },
    {
     "name": "stdout",
     "output_type": "stream",
     "text": [
      "Trang suc,4500,None,56,12,Nước ngoài,8000,17000,94,100,100,0,0,0,12\n"
     ]
    },
    {
     "name": "stderr",
     "output_type": "stream",
     "text": [
      "\r",
      "Processing rows:  84%|████████▎ | 1004/1200 [50:35<10:17,  3.15s/it]"
     ]
    },
    {
     "name": "stdout",
     "output_type": "stream",
     "text": [
      "Trang sức,5272,None,35,12,Ho Chi Minh,11300,17000,97,98,100,0,0,0,0,12\n"
     ]
    },
    {
     "name": "stderr",
     "output_type": "stream",
     "text": [
      "\r",
      "Processing rows:  84%|████████▍ | 1005/1200 [50:40<11:49,  3.64s/it]"
     ]
    },
    {
     "name": "stdout",
     "output_type": "stream",
     "text": [
      "Trang sức,9320,None,135,32,Ho Chi Minh,27975,17000,96,95,97,1,0,0,1,30\n"
     ]
    },
    {
     "name": "stderr",
     "output_type": "stream",
     "text": [
      "\r",
      "Processing rows:  84%|████████▍ | 1006/1200 [50:42<10:51,  3.36s/it]"
     ]
    },
    {
     "name": "stdout",
     "output_type": "stream",
     "text": [
      "Trang sức,4162,None,1100,302,Ho Chi Minh,8000,Miễn Phí,98,99,90,9,4,2,7,281\n"
     ]
    },
    {
     "name": "stderr",
     "output_type": "stream",
     "text": [
      "\r",
      "Processing rows:  84%|████████▍ | 1007/1200 [50:45<10:41,  3.32s/it]"
     ]
    },
    {
     "name": "stdout",
     "output_type": "stream",
     "text": [
      "Trang sức,8000,None,43,21,Ho Chi Minh,24000,17000,95,100,71,0,0,2,0,19\n"
     ]
    },
    {
     "name": "stderr",
     "output_type": "stream",
     "text": [
      "\r",
      "Processing rows:  84%|████████▍ | 1008/1200 [50:48<09:57,  3.11s/it]"
     ]
    },
    {
     "name": "stdout",
     "output_type": "stream",
     "text": [
      "Trang sức,11457,None,448,97,Ho Chi Minh,15851,17000,94,97,80,1,2,2,5,87\n"
     ]
    },
    {
     "name": "stderr",
     "output_type": "stream",
     "text": [
      "\r",
      "Processing rows:  84%|████████▍ | 1009/1200 [50:51<09:49,  3.09s/it]"
     ]
    },
    {
     "name": "stdout",
     "output_type": "stream",
     "text": [
      "Trang sức,6587,None,3500,953,Ho Chi Minh,18000,17000,96,95,97,6,9,11,13,915\n"
     ]
    },
    {
     "name": "stderr",
     "output_type": "stream",
     "text": [
      "\r",
      "Processing rows:  84%|████████▍ | 1010/1200 [50:55<10:05,  3.19s/it]"
     ]
    },
    {
     "name": "stdout",
     "output_type": "stream",
     "text": [
      "Trang sức,10174,None,5400,838,Ho Chi Minh,21000,17000,96,100,100,35,18,28,37,720\n"
     ]
    },
    {
     "name": "stderr",
     "output_type": "stream",
     "text": [
      "\r",
      "Processing rows:  84%|████████▍ | 1011/1200 [50:58<10:21,  3.29s/it]"
     ]
    },
    {
     "name": "stdout",
     "output_type": "stream",
     "text": [
      "Trang sức,35000,None,160,33,Nước ngoài,70000,17000,98,100,100,0,0,0,0,34\n"
     ]
    },
    {
     "name": "stderr",
     "output_type": "stream",
     "text": [
      "\r",
      "Processing rows:  84%|████████▍ | 1012/1200 [51:03<12:03,  3.85s/it]"
     ]
    },
    {
     "name": "stdout",
     "output_type": "stream",
     "text": [
      "Trang sức,24000,None,3000,647,Ha Noi,55000,32700,95,96,100,16,3,13,15,601\n"
     ]
    },
    {
     "name": "stderr",
     "output_type": "stream",
     "text": [
      "\r",
      "Processing rows:  84%|████████▍ | 1013/1200 [51:06<11:14,  3.61s/it]"
     ]
    },
    {
     "name": "stdout",
     "output_type": "stream",
     "text": [
      "Trang sức,6113,None,226,44,Ho Chi Minh,25419,17000,94,100,100,1,0,2,3,39\n"
     ]
    },
    {
     "name": "stderr",
     "output_type": "stream",
     "text": [
      "\r",
      "Processing rows:  84%|████████▍ | 1014/1200 [51:10<11:27,  3.70s/it]"
     ]
    },
    {
     "name": "stdout",
     "output_type": "stream",
     "text": [
      "Trang suc,4850,None,85,21,Nước ngoài,9534,17000,96,100,83,0,0,0,21\n"
     ]
    },
    {
     "name": "stderr",
     "output_type": "stream",
     "text": [
      "\r",
      "Processing rows:  85%|████████▍ | 1015/1200 [51:13<10:44,  3.48s/it]"
     ]
    },
    {
     "name": "stdout",
     "output_type": "stream",
     "text": [
      "Trang sức,13840,None,25,3,Ho Chi Minh,28000,17000,96,100,None,0,0,0,0,3\n"
     ]
    },
    {
     "name": "stderr",
     "output_type": "stream",
     "text": [
      "\r",
      "Processing rows:  85%|████████▍ | 1016/1200 [51:17<10:37,  3.47s/it]"
     ]
    },
    {
     "name": "stdout",
     "output_type": "stream",
     "text": [
      "Trang sức,44182,None,1100,279,Nước ngoài,93900,17000,97,94,36,2,1,2,2,272\n"
     ]
    },
    {
     "name": "stderr",
     "output_type": "stream",
     "text": [
      "\r",
      "Processing rows:  85%|████████▍ | 1017/1200 [51:21<11:10,  3.67s/it]"
     ]
    },
    {
     "name": "stdout",
     "output_type": "stream",
     "text": [
      "Trang sức,71000,None,238,79,Ho Chi Minh,99000,16500,97,99,87,0,1,1,1,76\n"
     ]
    },
    {
     "name": "stderr",
     "output_type": "stream",
     "text": [
      "\r",
      "Processing rows:  85%|████████▍ | 1018/1200 [51:23<10:17,  3.39s/it]"
     ]
    },
    {
     "name": "stdout",
     "output_type": "stream",
     "text": [
      "Trang sức,6000,None,457,77,Ho Chi Minh,12332,16500,96,100,100,1,1,1,4,71\n"
     ]
    },
    {
     "name": "stderr",
     "output_type": "stream",
     "text": [
      "\r",
      "Processing rows:  85%|████████▍ | 1019/1200 [51:26<09:47,  3.24s/it]"
     ]
    },
    {
     "name": "stdout",
     "output_type": "stream",
     "text": [
      "Trang sức,6660,None,65,16,Ho Chi Minh,14300,17000,97,98,100,0,0,0,1,15\n"
     ]
    },
    {
     "name": "stderr",
     "output_type": "stream",
     "text": [
      "\r",
      "Processing rows:  85%|████████▌ | 1020/1200 [51:29<09:11,  3.06s/it]"
     ]
    },
    {
     "name": "stdout",
     "output_type": "stream",
     "text": [
      "Trang sức,20000,None,149,64,Ho Chi Minh,30000,17000,95,100,71,7,2,0,1,54\n"
     ]
    },
    {
     "name": "stderr",
     "output_type": "stream",
     "text": [
      "\r",
      "Processing rows:  85%|████████▌ | 1021/1200 [51:32<09:24,  3.15s/it]"
     ]
    },
    {
     "name": "stdout",
     "output_type": "stream",
     "text": [
      "Trang sức,15000,None,351,63,Ha Noi,35000,32700,97,100,None,2,0,2,4,55\n"
     ]
    },
    {
     "name": "stderr",
     "output_type": "stream",
     "text": [
      "\r",
      "Processing rows:  85%|████████▌ | 1022/1200 [51:36<09:40,  3.26s/it]"
     ]
    },
    {
     "name": "stdout",
     "output_type": "stream",
     "text": [
      "Trang sức,17575,None,191,63,Ho Chi Minh,85000,17000,96,100,100,0,1,0,4,59\n"
     ]
    },
    {
     "name": "stderr",
     "output_type": "stream",
     "text": [
      "\r",
      "Processing rows:  85%|████████▌ | 1023/1200 [51:38<08:51,  3.00s/it]"
     ]
    },
    {
     "name": "stdout",
     "output_type": "stream",
     "text": [
      "Trang sức,1000,None,20,2,Ha Noi,32700,None,100,None,None,0,0,0,2\n"
     ]
    },
    {
     "name": "stderr",
     "output_type": "stream",
     "text": [
      "\r",
      "Processing rows:  85%|████████▌ | 1024/1200 [51:41<08:58,  3.06s/it]"
     ]
    },
    {
     "name": "stdout",
     "output_type": "stream",
     "text": [
      "Trang sức,10000,None,587,77,Ho Chi Minh,32000,17000,94,94,100,0,0,2,1,74\n"
     ]
    },
    {
     "name": "stderr",
     "output_type": "stream",
     "text": [
      "\r",
      "Processing rows:  85%|████████▌ | 1025/1200 [51:45<09:12,  3.16s/it]"
     ]
    },
    {
     "name": "stdout",
     "output_type": "stream",
     "text": [
      "Trang sức,5446,1,6700,1651,Ho Chi Minh,12900,17000,96,95,97,39,14,26,36,1536\n"
     ]
    },
    {
     "name": "stderr",
     "output_type": "stream",
     "text": [
      "\r",
      "Processing rows:  86%|████████▌ | 1026/1200 [51:48<08:58,  3.09s/it]"
     ]
    },
    {
     "name": "stdout",
     "output_type": "stream",
     "text": [
      "Trang sức,16000,None,1200,239,Ho Chi Minh,34000,17000,93,98,100,7,0,3,9,220\n"
     ]
    },
    {
     "name": "stderr",
     "output_type": "stream",
     "text": [
      "\r",
      "Processing rows:  86%|████████▌ | 1027/1200 [51:50<08:28,  2.94s/it]"
     ]
    },
    {
     "name": "stdout",
     "output_type": "stream",
     "text": [
      "Trang sức,41631,None,11,6,Ho Chi Minh,69000,16500,97,99,87,0,0,0,6\n"
     ]
    },
    {
     "name": "stderr",
     "output_type": "stream",
     "text": [
      "\r",
      "Processing rows:  86%|████████▌ | 1028/1200 [51:54<08:39,  3.02s/it]"
     ]
    },
    {
     "name": "stdout",
     "output_type": "stream",
     "text": [
      "Trang sức,33800,None,376,112,Ho Chi Minh,67400,17000,97,99,100,4,0,4,3,101\n"
     ]
    },
    {
     "name": "stderr",
     "output_type": "stream",
     "text": [
      "\r",
      "Processing rows:  86%|████████▌ | 1029/1200 [51:58<09:37,  3.38s/it]"
     ]
    },
    {
     "name": "stdout",
     "output_type": "stream",
     "text": [
      "Trang sức,4717,None,23,4,Nước ngoài,8800,17000,96,98,100,2,0,0,0,2\n"
     ]
    },
    {
     "name": "stderr",
     "output_type": "stream",
     "text": [
      "\r",
      "Processing rows:  86%|████████▌ | 1030/1200 [52:00<08:59,  3.17s/it]"
     ]
    },
    {
     "name": "stdout",
     "output_type": "stream",
     "text": [
      "Trang sức,22750,None,663,179,Ho Chi Minh,39000,16500,97,99,87,1,1,2,2,173\n"
     ]
    },
    {
     "name": "stderr",
     "output_type": "stream",
     "text": [
      "\r",
      "Processing rows:  86%|████████▌ | 1031/1200 [52:03<08:32,  3.03s/it]"
     ]
    },
    {
     "name": "stdout",
     "output_type": "stream",
     "text": [
      "Trang sức,17076,None,3100,496,Ho Chi Minh,50000,16500,97,100,85,7,4,4,6,475\n"
     ]
    },
    {
     "name": "stderr",
     "output_type": "stream",
     "text": [
      "\r",
      "Processing rows:  86%|████████▌ | 1032/1200 [52:06<08:16,  2.95s/it]"
     ]
    },
    {
     "name": "stdout",
     "output_type": "stream",
     "text": [
      "Trang sức,5851,None,41,19,Nước ngoài,14000,17000,95,99,100,1,2,0,0,16\n"
     ]
    },
    {
     "name": "stderr",
     "output_type": "stream",
     "text": [
      "\r",
      "Processing rows:  86%|████████▌ | 1033/1200 [52:08<07:41,  2.76s/it]"
     ]
    },
    {
     "name": "stdout",
     "output_type": "stream",
     "text": [
      "Trang suc,6000,None,90,20,Nước ngoài,12000,17000,95,100,71,1,0,0,0,19\n"
     ]
    },
    {
     "name": "stderr",
     "output_type": "stream",
     "text": [
      "\r",
      "Processing rows:  86%|████████▌ | 1034/1200 [52:12<08:09,  2.95s/it]"
     ]
    },
    {
     "name": "stdout",
     "output_type": "stream",
     "text": [
      "Trang sức,39000,None,5,2,Ho Chi Minh,59000,16500,97,99,87,0,0,0,3\n"
     ]
    },
    {
     "name": "stderr",
     "output_type": "stream",
     "text": [
      "\r",
      "Processing rows:  86%|████████▋ | 1035/1200 [52:14<07:57,  2.90s/it]"
     ]
    },
    {
     "name": "stdout",
     "output_type": "stream",
     "text": [
      "Trang sức,44160,None,95,28,Ho Chi Minh,536000,17000,95,93,99,1,0,1,1,25\n"
     ]
    },
    {
     "name": "stderr",
     "output_type": "stream",
     "text": [
      "\r",
      "Processing rows:  86%|████████▋ | 1036/1200 [52:17<07:27,  2.73s/it]"
     ]
    },
    {
     "name": "stdout",
     "output_type": "stream",
     "text": [
      "Trang suc,5851,None,15,20,Nước ngoài,31000,17000,95,99,100,1,0,0,1,19\n"
     ]
    },
    {
     "name": "stderr",
     "output_type": "stream",
     "text": [
      "\r",
      "Processing rows:  86%|████████▋ | 1037/1200 [52:19<06:50,  2.52s/it]"
     ]
    },
    {
     "name": "stdout",
     "output_type": "stream",
     "text": [
      "Trang sức,13266,None,None,2,Nước ngoài,17246,17000,96,100,None,0,0,0,0,2\n"
     ]
    },
    {
     "name": "stderr",
     "output_type": "stream",
     "text": [
      "\r",
      "Processing rows:  86%|████████▋ | 1038/1200 [52:21<06:47,  2.51s/it]"
     ]
    },
    {
     "name": "stdout",
     "output_type": "stream",
     "text": [
      "Trang sức,53306,None,52,9,Ho Chi Minh,89000,16500,97,99,87,0,0,0,9\n"
     ]
    },
    {
     "name": "stderr",
     "output_type": "stream",
     "text": [
      "\r",
      "Processing rows:  87%|████████▋ | 1039/1200 [52:24<07:05,  2.65s/it]"
     ]
    },
    {
     "name": "stdout",
     "output_type": "stream",
     "text": [
      "Trang sức,70000,None,43,13,Ho Chi Minh,100000,17000,98,100,100,1,0,0,0,12\n"
     ]
    },
    {
     "name": "stderr",
     "output_type": "stream",
     "text": [
      "\r",
      "Processing rows:  87%|████████▋ | 1040/1200 [52:27<07:11,  2.70s/it]"
     ]
    },
    {
     "name": "stdout",
     "output_type": "stream",
     "text": [
      "Trang sức,60122,None,1500,352,Ho Chi Minh,359000,17000,96,100,90,9,2,8,12,321\n"
     ]
    },
    {
     "name": "stderr",
     "output_type": "stream",
     "text": [
      "\r",
      "Processing rows:  87%|████████▋ | 1041/1200 [52:30<07:25,  2.80s/it]"
     ]
    },
    {
     "name": "stdout",
     "output_type": "stream",
     "text": [
      "Trang sức,5900,74,1900,597,Ho Chi Minh,22906,17000,96,95,97,13,8,15,14,547\n"
     ]
    },
    {
     "name": "stderr",
     "output_type": "stream",
     "text": [
      "\r",
      "Processing rows:  87%|████████▋ | 1042/1200 [52:34<07:56,  3.02s/it]"
     ]
    },
    {
     "name": "stdout",
     "output_type": "stream",
     "text": [
      "Trang sức,6587,56,3500,953,Ho Chi Minh,18000,17000,96,95,97,6,9,11,13,915\n"
     ]
    },
    {
     "name": "stderr",
     "output_type": "stream",
     "text": [
      "\r",
      "Processing rows:  87%|████████▋ | 1043/1200 [52:37<08:13,  3.14s/it]"
     ]
    },
    {
     "name": "stdout",
     "output_type": "stream",
     "text": [
      "Trang sức,5000,44,1200,224,Ho Chi Minh,9000,17000,95,100,71,12,4,6,13,189\n"
     ]
    },
    {
     "name": "stderr",
     "output_type": "stream",
     "text": [
      "\r",
      "Processing rows:  87%|████████▋ | 1044/1200 [52:40<07:55,  3.05s/it]"
     ]
    },
    {
     "name": "stdout",
     "output_type": "stream",
     "text": [
      "Trang sức,4500,44,56,12,Nước ngoài,8000,17000,94,100,100,0,0,0,12\n"
     ]
    },
    {
     "name": "stderr",
     "output_type": "stream",
     "text": [
      "\r",
      "Processing rows:  87%|████████▋ | 1045/1200 [52:43<08:00,  3.10s/it]"
     ]
    },
    {
     "name": "stdout",
     "output_type": "stream",
     "text": [
      "Trang sức,9157,49,246,52,Nước ngoài,17999,17000,96,100,100,4,1,1,2,43\n"
     ]
    },
    {
     "name": "stderr",
     "output_type": "stream",
     "text": [
      "\r",
      "Processing rows:  87%|████████▋ | 1046/1200 [52:46<07:49,  3.05s/it]"
     ]
    },
    {
     "name": "stdout",
     "output_type": "stream",
     "text": [
      "Trang sức,5272,53,35,12,Ho Chi Minh,11300,17000,97,98,100,0,0,0,0,12\n"
     ]
    },
    {
     "name": "stderr",
     "output_type": "stream",
     "text": [
      "\r",
      "Processing rows:  87%|████████▋ | 1047/1200 [52:49<07:20,  2.88s/it]"
     ]
    },
    {
     "name": "stdout",
     "output_type": "stream",
     "text": [
      "Trang sức,8000,38,43,21,Ho Chi Minh,24000,17000,95,100,71,0,0,2,0,19\n"
     ]
    },
    {
     "name": "stderr",
     "output_type": "stream",
     "text": [
      "\r",
      "Processing rows:  87%|████████▋ | 1048/1200 [52:51<07:05,  2.80s/it]"
     ]
    },
    {
     "name": "stdout",
     "output_type": "stream",
     "text": [
      "Trang sức,16000,47,1200,239,Ho Chi Minh,34000,17000,93,98,100,7,0,3,9,220\n"
     ]
    },
    {
     "name": "stderr",
     "output_type": "stream",
     "text": [
      "\r",
      "Processing rows:  87%|████████▋ | 1049/1200 [52:55<07:37,  3.03s/it]"
     ]
    },
    {
     "name": "stdout",
     "output_type": "stream",
     "text": [
      "Trang sức,11457,40,448,97,Ho Chi Minh,15851,17000,94,97,80,1,2,2,5,87\n"
     ]
    },
    {
     "name": "stderr",
     "output_type": "stream",
     "text": [
      "\r",
      "Processing rows:  88%|████████▊ | 1050/1200 [52:58<07:29,  3.00s/it]"
     ]
    },
    {
     "name": "stdout",
     "output_type": "stream",
     "text": [
      "Trang sức,4162,48,1100,302,Ho Chi Minh,8000,Miễn Phí,98,99,90,9,4,2,7,281\n"
     ]
    },
    {
     "name": "stderr",
     "output_type": "stream",
     "text": [
      "\r",
      "Processing rows:  88%|████████▊ | 1051/1200 [53:01<07:30,  3.03s/it]"
     ]
    },
    {
     "name": "stdout",
     "output_type": "stream",
     "text": [
      "Trang sức,25456,31,212,51,Ho Chi Minh,89000,16500,97,99,87,1,0,0,0,50\n"
     ]
    },
    {
     "name": "stderr",
     "output_type": "stream",
     "text": [
      "\r",
      "Processing rows:  88%|████████▊ | 1052/1200 [53:03<06:55,  2.81s/it]"
     ]
    },
    {
     "name": "stdout",
     "output_type": "stream",
     "text": [
      "Trang sức,26201,42,1200,273,Ha Noi,79000,32700,95,100,nan,14,5,4,8,242\n"
     ]
    },
    {
     "name": "stderr",
     "output_type": "stream",
     "text": [
      "\r",
      "Processing rows:  88%|████████▊ | 1053/1200 [53:08<08:16,  3.38s/it]"
     ]
    },
    {
     "name": "stdout",
     "output_type": "stream",
     "text": [
      "Trang sức,149000,45,108,24,Ha Noi,269000,32700,80,94,85,2,2,0,0,20\n"
     ]
    },
    {
     "name": "stderr",
     "output_type": "stream",
     "text": [
      "\r",
      "Processing rows:  88%|████████▊ | 1054/1200 [53:10<07:32,  3.10s/it]"
     ]
    },
    {
     "name": "stdout",
     "output_type": "stream",
     "text": [
      "Trang suc,4000,43,109,13,Nước ngoài,7000,17000,95,100,71,0,1,2,0,10\n"
     ]
    },
    {
     "name": "stderr",
     "output_type": "stream",
     "text": [
      "\r",
      "Processing rows:  88%|████████▊ | 1055/1200 [53:13<07:11,  2.97s/it]"
     ]
    },
    {
     "name": "stdout",
     "output_type": "stream",
     "text": [
      "Trang sức,6113,31,226,44,Ho Chi Minh,25419,17000,94,100,100,1,0,2,3,39\n"
     ]
    },
    {
     "name": "stderr",
     "output_type": "stream",
     "text": [
      "\r",
      "Processing rows:  88%|████████▊ | 1056/1200 [53:18<08:29,  3.54s/it]"
     ]
    },
    {
     "name": "stdout",
     "output_type": "stream",
     "text": [
      "Trang sức,44182,53,1100,279,Nước ngoài,93900,17000,97,94,36,2,1,2,2,272\n"
     ]
    },
    {
     "name": "stderr",
     "output_type": "stream",
     "text": [
      "\r",
      "Processing rows:  88%|████████▊ | 1057/1200 [53:21<08:27,  3.55s/it]"
     ]
    },
    {
     "name": "stdout",
     "output_type": "stream",
     "text": [
      "Trang sức,71000,28,238,79,Ho Chi Minh,99000,16500,97,99,87,0,1,1,1,76\n"
     ]
    },
    {
     "name": "stderr",
     "output_type": "stream",
     "text": [
      "\r",
      "Processing rows:  88%|████████▊ | 1058/1200 [53:24<07:30,  3.17s/it]"
     ]
    },
    {
     "name": "stdout",
     "output_type": "stream",
     "text": [
      "Trang sức,6000,33,457,77,Ho Chi Minh,12332,16500,96,100,100,1,1,1,4,71\n"
     ]
    },
    {
     "name": "stderr",
     "output_type": "stream",
     "text": [
      "\r",
      "Processing rows:  88%|████████▊ | 1059/1200 [53:26<06:43,  2.86s/it]"
     ]
    },
    {
     "name": "stdout",
     "output_type": "stream",
     "text": [
      "Trang sức,6660,53,65,16,Ho Chi Minh,14300,17000,97,98,100,0,0,0,1,15\n"
     ]
    },
    {
     "name": "stderr",
     "output_type": "stream",
     "text": [
      "\r",
      "Processing rows:  88%|████████▊ | 1060/1200 [53:29<07:05,  3.04s/it]"
     ]
    },
    {
     "name": "stdout",
     "output_type": "stream",
     "text": [
      "Trang sức,20000,47,149,64,Ho Chi Minh,30000,17000,95,100,71,7,2,0,1,54\n"
     ]
    },
    {
     "name": "stderr",
     "output_type": "stream",
     "text": [
      "\r",
      "Processing rows:  88%|████████▊ | 1061/1200 [53:32<06:44,  2.91s/it]"
     ]
    },
    {
     "name": "stdout",
     "output_type": "stream",
     "text": [
      "Trang sức,4145,19,231,43,Ho Chi Minh,5094,17000,96,89,100,1,0,0,1,41\n"
     ]
    },
    {
     "name": "stderr",
     "output_type": "stream",
     "text": [
      "\r",
      "Processing rows:  88%|████████▊ | 1062/1200 [53:35<06:32,  2.85s/it]"
     ]
    },
    {
     "name": "stdout",
     "output_type": "stream",
     "text": [
      "Trang sức,15000,25,351,63,Ha Noi,35000,32700,97,100,None,2,0,2,4,55\n"
     ]
    },
    {
     "name": "stderr",
     "output_type": "stream",
     "text": [
      "\r",
      "Processing rows:  89%|████████▊ | 1063/1200 [53:37<06:27,  2.83s/it]"
     ]
    },
    {
     "name": "stdout",
     "output_type": "stream",
     "text": [
      "Trang sức,17575,39,191,63,Ho Chi Minh,85000,17000,96,100,100,0,1,0,4,59\n"
     ]
    },
    {
     "name": "stderr",
     "output_type": "stream",
     "text": [
      "\r",
      "Processing rows:  89%|████████▊ | 1064/1200 [53:40<06:21,  2.80s/it]"
     ]
    },
    {
     "name": "stdout",
     "output_type": "stream",
     "text": [
      "Trang sức,1000,None,20,2,Ha Noi,32700,None,100,None,None,0,0,0,2\n"
     ]
    },
    {
     "name": "stderr",
     "output_type": "stream",
     "text": [
      "\r",
      "Processing rows:  89%|████████▉ | 1065/1200 [53:43<06:12,  2.76s/it]"
     ]
    },
    {
     "name": "stdout",
     "output_type": "stream",
     "text": [
      "Trang sức,10000,50,587,77,Ho Chi Minh,32000,17000,94,94,100,0,0,2,1,74\n"
     ]
    },
    {
     "name": "stderr",
     "output_type": "stream",
     "text": [
      "\r",
      "Processing rows:  89%|████████▉ | 1066/1200 [53:45<05:49,  2.61s/it]"
     ]
    },
    {
     "name": "stdout",
     "output_type": "stream",
     "text": [
      "Trang sức,20397,53,2300,451,Nước ngoài,43200,17000,94,97,100,5,6,10,15,415\n"
     ]
    },
    {
     "name": "stderr",
     "output_type": "stream",
     "text": [
      "\r",
      "Processing rows:  89%|████████▉ | 1067/1200 [53:48<05:59,  2.70s/it]"
     ]
    },
    {
     "name": "stdout",
     "output_type": "stream",
     "text": [
      "Trang sức,41631,40,11,6,Ho Chi Minh,69000,16500,97,99,87,0,0,0,6\n"
     ]
    },
    {
     "name": "stderr",
     "output_type": "stream",
     "text": [
      "\r",
      "Processing rows:  89%|████████▉ | 1068/1200 [53:51<06:23,  2.91s/it]"
     ]
    },
    {
     "name": "stdout",
     "output_type": "stream",
     "text": [
      "Trang sức,33800,50,376,112,Ho Chi Minh,67400,17000,97,99,100,4,0,4,3,101\n"
     ]
    },
    {
     "name": "stderr",
     "output_type": "stream",
     "text": [
      "\r",
      "Processing rows:  89%|████████▉ | 1069/1200 [53:54<06:29,  2.97s/it]"
     ]
    },
    {
     "name": "stdout",
     "output_type": "stream",
     "text": [
      "Trang sức,22750,42,663,179,Ho Chi Minh,39000,16500,97,99,87,1,1,2,2,173\n"
     ]
    },
    {
     "name": "stderr",
     "output_type": "stream",
     "text": [
      "\r",
      "Processing rows:  89%|████████▉ | 1070/1200 [53:59<07:11,  3.32s/it]"
     ]
    },
    {
     "name": "stdout",
     "output_type": "stream",
     "text": [
      "Trang sức,17076,66,3100,496,Ho Chi Minh,50000,16500,97,100,85,7,4,4,6,475\n"
     ]
    },
    {
     "name": "stderr",
     "output_type": "stream",
     "text": [
      "\r",
      "Processing rows:  89%|████████▉ | 1071/1200 [54:02<07:06,  3.31s/it]"
     ]
    },
    {
     "name": "stdout",
     "output_type": "stream",
     "text": [
      "Trang sức,53306,23,39,17,Ho Chi Minh,69000,16500,97,99,87,0,1,1,1,15\n"
     ]
    },
    {
     "name": "stderr",
     "output_type": "stream",
     "text": [
      "\r",
      "Processing rows:  89%|████████▉ | 1072/1200 [54:07<08:06,  3.80s/it]"
     ]
    },
    {
     "name": "stdout",
     "output_type": "stream",
     "text": [
      "Trang sức,9320,59,135,32,Ho Chi Minh,27975,17000,96,95,97,1,0,0,1,30\n"
     ]
    },
    {
     "name": "stderr",
     "output_type": "stream",
     "text": [
      "\r",
      "Processing rows:  89%|████████▉ | 1073/1200 [54:10<07:43,  3.65s/it]"
     ]
    },
    {
     "name": "stdout",
     "output_type": "stream",
     "text": [
      "Trang sức,15298,49,191,45,Ho Chi Minh,30000,17000,96,71,0,1,1,0,42\n"
     ]
    },
    {
     "name": "stderr",
     "output_type": "stream",
     "text": [
      "\r",
      "Processing rows:  90%|████████▉ | 1074/1200 [54:14<07:48,  3.72s/it]"
     ]
    },
    {
     "name": "stdout",
     "output_type": "stream",
     "text": [
      "Trang sức,16000,43,1100,176,Nước ngoài,28000,17000,95,100,None,9,7,10,10,140\n"
     ]
    },
    {
     "name": "stderr",
     "output_type": "stream",
     "text": [
      "\r",
      "Processing rows:  90%|████████▉ | 1075/1200 [54:17<07:36,  3.65s/it]"
     ]
    },
    {
     "name": "stdout",
     "output_type": "stream",
     "text": [
      "Trang sức,54495,50,88,37,Ho Chi Minh,110000,16500,98,91,None,0,0,0,3,34\n"
     ]
    },
    {
     "name": "stderr",
     "output_type": "stream",
     "text": [
      "\r",
      "Processing rows:  90%|████████▉ | 1076/1200 [54:21<07:20,  3.56s/it]"
     ]
    },
    {
     "name": "stdout",
     "output_type": "stream",
     "text": [
      "Trang sức,29000,41,5300,851,Ha Noi,49000,32700,99,100,None,4,1,5,16,825\n"
     ]
    },
    {
     "name": "stderr",
     "output_type": "stream",
     "text": [
      "\r",
      "Processing rows:  90%|████████▉ | 1077/1200 [54:24<07:20,  3.58s/it]"
     ]
    },
    {
     "name": "stdout",
     "output_type": "stream",
     "text": [
      "Trang sức,9035,47,1000,220,Ho Chi Minh,17000,17000,97,100,nan,2,2,4,7,206\n"
     ]
    },
    {
     "name": "stderr",
     "output_type": "stream",
     "text": [
      "\r",
      "Processing rows:  90%|████████▉ | 1078/1200 [54:29<07:55,  3.89s/it]"
     ]
    },
    {
     "name": "stdout",
     "output_type": "stream",
     "text": [
      "Trang sức,8000,43,20,4,Nước ngoài,21000,17000,95,100,71,0,0,1,0,3\n"
     ]
    },
    {
     "name": "stderr",
     "output_type": "stream",
     "text": [
      "\r",
      "Processing rows:  90%|████████▉ | 1079/1200 [54:33<08:01,  3.98s/it]"
     ]
    },
    {
     "name": "stdout",
     "output_type": "stream",
     "text": [
      "Trang sức,53306,40,52,9,Ho Chi Minh,89000,16500,97,99,87,0,0,0,9\n"
     ]
    },
    {
     "name": "stderr",
     "output_type": "stream",
     "text": [
      "\r",
      "Processing rows:  90%|█████████ | 1080/1200 [54:36<07:23,  3.70s/it]"
     ]
    },
    {
     "name": "stdout",
     "output_type": "stream",
     "text": [
      "Trang sức,53307,52,251,48,Ho Chi Minh,112000,16500,87,99,100,2,1,1,1,43\n"
     ]
    },
    {
     "name": "stderr",
     "output_type": "stream",
     "text": [
      "\r",
      "Processing rows:  90%|█████████ | 1081/1200 [54:39<06:54,  3.48s/it]"
     ]
    },
    {
     "name": "stdout",
     "output_type": "stream",
     "text": [
      "Trang sức,31844,64,14,4,Ho Chi Minh,199000,16500,98,100,nan,1,0,0,0,3\n"
     ]
    },
    {
     "name": "stderr",
     "output_type": "stream",
     "text": [
      "\r",
      "Processing rows:  90%|█████████ | 1082/1200 [54:44<07:31,  3.82s/it]"
     ]
    },
    {
     "name": "stdout",
     "output_type": "stream",
     "text": [
      "Trang sức,10174,52,5400,838,Ho Chi Minh,21000,17000,96,100,100,35,18,28,37,720\n"
     ]
    },
    {
     "name": "stderr",
     "output_type": "stream",
     "text": [
      "\r",
      "Processing rows:  90%|█████████ | 1083/1200 [54:46<06:46,  3.47s/it]"
     ]
    },
    {
     "name": "stdout",
     "output_type": "stream",
     "text": [
      "Trang sức,10999,49,922,245,Ho Chi Minh,21567,17000,95,97,None,3,1,5,6,230\n"
     ]
    },
    {
     "name": "stderr",
     "output_type": "stream",
     "text": [
      "\r",
      "Processing rows:  90%|█████████ | 1084/1200 [54:49<06:05,  3.15s/it]"
     ]
    },
    {
     "name": "stdout",
     "output_type": "stream",
     "text": [
      "Trang sức,5446,52,6700,1651,Ho Chi Minh,12900,17000,96,95,97,39,14,26,36,1536\n"
     ]
    },
    {
     "name": "stderr",
     "output_type": "stream",
     "text": [
      "\r",
      "Processing rows:  90%|█████████ | 1085/1200 [54:52<06:01,  3.14s/it]"
     ]
    },
    {
     "name": "stdout",
     "output_type": "stream",
     "text": [
      "Trang sức,12000,47,5,3,Nước ngoài,22500,17000,94,95,100,0,0,0,3\n"
     ]
    },
    {
     "name": "stderr",
     "output_type": "stream",
     "text": [
      "\r",
      "Processing rows:  90%|█████████ | 1086/1200 [54:55<06:09,  3.24s/it]"
     ]
    },
    {
     "name": "stdout",
     "output_type": "stream",
     "text": [
      "Trang sức,12024,43,907,232,Ho Chi Minh,44000,17000,94,100,100,4,1,4,3,221\n"
     ]
    },
    {
     "name": "stderr",
     "output_type": "stream",
     "text": [
      "\r",
      "Processing rows:  91%|█████████ | 1087/1200 [54:58<05:56,  3.16s/it]"
     ]
    },
    {
     "name": "stdout",
     "output_type": "stream",
     "text": [
      "Trang sức,18293,23,13,1,Nước ngoài,24005,17000,95,98,100,0,1,0,0,0\n"
     ]
    },
    {
     "name": "stderr",
     "output_type": "stream",
     "text": [
      "\r",
      "Processing rows:  91%|█████████ | 1088/1200 [55:01<05:24,  2.89s/it]"
     ]
    },
    {
     "name": "stdout",
     "output_type": "stream",
     "text": [
      "Trang sức,9900,48,243,42,Nước ngoài,19000,17000,95,94,100,2,1,4,0,35\n"
     ]
    },
    {
     "name": "stderr",
     "output_type": "stream",
     "text": [
      "\r",
      "Processing rows:  91%|█████████ | 1089/1200 [55:03<05:13,  2.82s/it]"
     ]
    },
    {
     "name": "stdout",
     "output_type": "stream",
     "text": [
      "Trang sức,19000,49,107,25,Nước ngoài,37000,17000,93,100,None,0,0,0,1,25\n"
     ]
    },
    {
     "name": "stderr",
     "output_type": "stream",
     "text": [
      "\r",
      "Processing rows:  91%|█████████ | 1090/1200 [55:06<05:19,  2.90s/it]"
     ]
    },
    {
     "name": "stdout",
     "output_type": "stream",
     "text": [
      "Trang sức,8000,47,18,2,Ho Chi Minh,15000,17000,94,100,100,0,1,0,0,1\n"
     ]
    },
    {
     "name": "stderr",
     "output_type": "stream",
     "text": [
      "\r",
      "Processing rows:  91%|█████████ | 1091/1200 [55:09<05:19,  2.93s/it]"
     ]
    },
    {
     "name": "stdout",
     "output_type": "stream",
     "text": [
      "Trang sức,109000,52,115,50,Ho Chi Minh,229000,16500,99,100,100,0,0,1,0,49\n"
     ]
    },
    {
     "name": "stderr",
     "output_type": "stream",
     "text": [
      "\r",
      "Processing rows:  91%|█████████ | 1092/1200 [55:12<04:55,  2.73s/it]"
     ]
    },
    {
     "name": "stdout",
     "output_type": "stream",
     "text": [
      "Trang sức,35000,50,160,33,Nước ngoài,70000,17000,98,100,100,0,0,0,34\n"
     ]
    },
    {
     "name": "stderr",
     "output_type": "stream",
     "text": [
      "\r",
      "Processing rows:  91%|█████████ | 1093/1200 [55:15<05:17,  2.97s/it]"
     ]
    },
    {
     "name": "stdout",
     "output_type": "stream",
     "text": [
      "Trang sức,24000,56,3000,647,Ha Noi,55000,32700,95,96,100,16,3,13,15,601\n"
     ]
    },
    {
     "name": "stderr",
     "output_type": "stream",
     "text": [
      "\r",
      "Processing rows:  91%|█████████ | 1094/1200 [55:19<05:28,  3.10s/it]"
     ]
    },
    {
     "name": "stdout",
     "output_type": "stream",
     "text": [
      "Trang sức,22587,50,6800,1348,Ha Noi,55000,32700,95,100,None,31,11,40,78,1188\n"
     ]
    },
    {
     "name": "stderr",
     "output_type": "stream",
     "text": [
      "\r",
      "Processing rows:  91%|█████████▏| 1095/1200 [55:22<05:20,  3.06s/it]"
     ]
    },
    {
     "name": "stdout",
     "output_type": "stream",
     "text": [
      "Trang sức,16700,50,69,23,Nước ngoài,33300,Miễn phí,97,99,100,1,0,0,4,19\n"
     ]
    },
    {
     "name": "stderr",
     "output_type": "stream",
     "text": [
      "\r",
      "Processing rows:  91%|█████████▏| 1096/1200 [55:24<05:02,  2.91s/it]"
     ]
    },
    {
     "name": "stdout",
     "output_type": "stream",
     "text": [
      "Trang suc,12487,71,86,43,Nước ngoài,43000,17000,97,99,100,0,0,0,1,42\n"
     ]
    },
    {
     "name": "stderr",
     "output_type": "stream",
     "text": [
      "\r",
      "Processing rows:  91%|█████████▏| 1097/1200 [55:27<05:10,  3.01s/it]"
     ]
    },
    {
     "name": "stdout",
     "output_type": "stream",
     "text": [
      "Trang sức,40873,50,548,130,Nước ngoài,81746,17000,95,100,None,1,0,3,1,125\n"
     ]
    },
    {
     "name": "stderr",
     "output_type": "stream",
     "text": [
      "\r",
      "Processing rows:  92%|█████████▏| 1098/1200 [55:32<06:02,  3.55s/it]"
     ]
    },
    {
     "name": "stdout",
     "output_type": "stream",
     "text": [
      "Trang sức,53000,48,873,292,Ho Chi Minh,102000,16500,99,100,100,1,0,2,5,284\n"
     ]
    },
    {
     "name": "stderr",
     "output_type": "stream",
     "text": [
      "\r",
      "Processing rows:  92%|█████████▏| 1099/1200 [55:34<05:11,  3.09s/it]"
     ]
    },
    {
     "name": "stdout",
     "output_type": "stream",
     "text": [
      "Trang sức,54470,21,64,17,Ho Chi Minh,69000,16500,97,99,87,0,0,0,17\n"
     ]
    },
    {
     "name": "stderr",
     "output_type": "stream",
     "text": [
      "\r",
      "Processing rows:  92%|█████████▏| 1100/1200 [55:36<04:40,  2.80s/it]"
     ]
    },
    {
     "name": "stdout",
     "output_type": "stream",
     "text": [
      "Trang sức,30000,58,445,79,Nước ngoài,71999,17000,93,100,100,7,6,2,4,60\n"
     ]
    },
    {
     "name": "stderr",
     "output_type": "stream",
     "text": [
      "\r",
      "Processing rows:  92%|█████████▏| 1101/1200 [55:40<04:53,  2.96s/it]"
     ]
    },
    {
     "name": "stdout",
     "output_type": "stream",
     "text": [
      "Trang sức,197900,60,77,28,Ha Noi,None,None,None,None,None,0,0,0,1,28\n"
     ]
    },
    {
     "name": "stderr",
     "output_type": "stream",
     "text": [
      "\r",
      "Processing rows:  92%|█████████▏| 1102/1200 [55:43<04:46,  2.92s/it]"
     ]
    },
    {
     "name": "stdout",
     "output_type": "stream",
     "text": [
      "Trang suc,5851,58,41,19,Nước ngoài,14000,17000,95,99,100,1,2,0,0,16\n"
     ]
    },
    {
     "name": "stderr",
     "output_type": "stream",
     "text": [
      "\r",
      "Processing rows:  92%|█████████▏| 1103/1200 [55:45<04:34,  2.83s/it]"
     ]
    },
    {
     "name": "stdout",
     "output_type": "stream",
     "text": [
      "Trang sức,57822,27,86,32,Ho Chi Minh,79000,16500,97,99,87,0,0,0,1,31\n"
     ]
    },
    {
     "name": "stderr",
     "output_type": "stream",
     "text": [
      "\r",
      "Processing rows:  92%|█████████▏| 1104/1200 [55:48<04:39,  2.91s/it]"
     ]
    },
    {
     "name": "stdout",
     "output_type": "stream",
     "text": [
      "Trang sức,49000,38,28,7,Ho Chi Minh,79000,16500,97,99,87,0,0,0,1,6\n"
     ]
    },
    {
     "name": "stderr",
     "output_type": "stream",
     "text": [
      "\r",
      "Processing rows:  92%|█████████▏| 1105/1200 [55:51<04:35,  2.90s/it]"
     ]
    },
    {
     "name": "stdout",
     "output_type": "stream",
     "text": [
      "Trang sức,26771,41,103,19,Nước ngoài,45023,17000,95,98,85,0,0,0,1,18\n"
     ]
    },
    {
     "name": "stderr",
     "output_type": "stream",
     "text": [
      "\r",
      "Processing rows:  92%|█████████▏| 1106/1200 [55:54<04:18,  2.75s/it]"
     ]
    },
    {
     "name": "stdout",
     "output_type": "stream",
     "text": [
      "Trang sức,35000,36,1600,377,Nước ngoài,100000,17000,98,100,100,9,0,3,11,355\n"
     ]
    },
    {
     "name": "stderr",
     "output_type": "stream",
     "text": [
      "\r",
      "Processing rows:  92%|█████████▏| 1107/1200 [55:57<04:28,  2.89s/it]"
     ]
    },
    {
     "name": "stdout",
     "output_type": "stream",
     "text": [
      "Trang sức,18000,45,18,5,Nước ngoài,48000,17000,95,100,71,0,0,0,5\n"
     ]
    },
    {
     "name": "stderr",
     "output_type": "stream",
     "text": [
      "\r",
      "Processing rows:  92%|█████████▏| 1108/1200 [55:59<04:05,  2.67s/it]"
     ]
    },
    {
     "name": "stdout",
     "output_type": "stream",
     "text": [
      "Trang sức,39000,34,5,2,Ho Chi Minh,59000,16500,97,99,87,0,0,0,3\n"
     ]
    },
    {
     "name": "stderr",
     "output_type": "stream",
     "text": [
      "\r",
      "Processing rows:  92%|█████████▏| 1109/1200 [56:01<03:57,  2.61s/it]"
     ]
    },
    {
     "name": "stdout",
     "output_type": "stream",
     "text": [
      "Trang sức,44160,92,95,28,Ho Chi Minh,536000,17000,95,93,99,1,0,1,1,25\n"
     ]
    },
    {
     "name": "stderr",
     "output_type": "stream",
     "text": [
      "\r",
      "Processing rows:  92%|█████████▎| 1110/1200 [56:05<04:24,  2.93s/it]"
     ]
    },
    {
     "name": "stdout",
     "output_type": "stream",
     "text": [
      "Trang suc,5851,58,15,20,Nước ngoài,31000,17000,95,99,100,1,0,0,1,19\n"
     ]
    },
    {
     "name": "stderr",
     "output_type": "stream",
     "text": [
      "\r",
      "Processing rows:  92%|█████████▎| 1110/1200 [56:06<04:32,  3.03s/it]"
     ]
    },
    {
     "name": "stdout",
     "output_type": "stream",
     "text": [
      "No choices found for row 1110\n"
     ]
    },
    {
     "name": "stderr",
     "output_type": "stream",
     "text": [
      "\n"
     ]
    }
   ],
   "source": [
    "def format_row(row):\n",
    "    return '|'.join(map(str, row.values))\n",
    "\n",
    "results = []\n",
    "for index, row in tqdm(data.iterrows(), total=data.shape[0], desc=\"Processing rows\"):\n",
    "    formatted_data = format_row(row)\n",
    "    api_response = call_api(formatted_data)\n",
    "    \n",
    "    if 'choices' in api_response and api_response['choices']:\n",
    "        cleaned_data = api_response['choices'][0]['message']['content'].strip()\n",
    "        cleaned_data = cleaned_data.replace('Here is the standardized data:\\n\\n', '').replace('\\n', ',')\n",
    "        print(cleaned_data)\n",
    "        results.append(cleaned_data.split(','))\n",
    "    else:\n",
    "        print(f\"No choices found for row {index}\")\n",
    "        break\n"
   ]
  },
  {
   "cell_type": "code",
   "execution_count": 23,
   "id": "03aa9eaf",
   "metadata": {},
   "outputs": [],
   "source": [
    "results[157] = ['Trang sức', '2500', '72', 'NaN', 'NaN', 'Nước ngoài', '9000', '17000', '95', '100', 'NaN', '0', '0', '0', '0', '0']"
   ]
  },
  {
   "cell_type": "code",
   "execution_count": 25,
   "id": "0a71c930",
   "metadata": {},
   "outputs": [
    {
     "data": {
      "text/html": [
       "<div>\n",
       "<style scoped>\n",
       "    .dataframe tbody tr th:only-of-type {\n",
       "        vertical-align: middle;\n",
       "    }\n",
       "\n",
       "    .dataframe tbody tr th {\n",
       "        vertical-align: top;\n",
       "    }\n",
       "\n",
       "    .dataframe thead th {\n",
       "        text-align: right;\n",
       "    }\n",
       "</style>\n",
       "<table border=\"1\" class=\"dataframe\">\n",
       "  <thead>\n",
       "    <tr style=\"text-align: right;\">\n",
       "      <th></th>\n",
       "      <th>Type</th>\n",
       "      <th>Price_sale</th>\n",
       "      <th>Sale_off</th>\n",
       "      <th>Total_sold</th>\n",
       "      <th>Preview</th>\n",
       "      <th>Location</th>\n",
       "      <th>Price_original</th>\n",
       "      <th>Ship_price</th>\n",
       "      <th>Sale_rating</th>\n",
       "      <th>Ship_on_time</th>\n",
       "      <th>Chat_response</th>\n",
       "      <th>One_star</th>\n",
       "      <th>Two_star</th>\n",
       "      <th>Three_star</th>\n",
       "      <th>Four_star</th>\n",
       "      <th>Five_star</th>\n",
       "    </tr>\n",
       "  </thead>\n",
       "  <tbody>\n",
       "    <tr>\n",
       "      <th>0</th>\n",
       "      <td>Trang sức</td>\n",
       "      <td>6848</td>\n",
       "      <td>46</td>\n",
       "      <td>1900</td>\n",
       "      <td>594</td>\n",
       "      <td>Ho Chi Minh</td>\n",
       "      <td>22906</td>\n",
       "      <td>17000</td>\n",
       "      <td>96</td>\n",
       "      <td>95</td>\n",
       "      <td>96</td>\n",
       "      <td>13</td>\n",
       "      <td>8</td>\n",
       "      <td>15</td>\n",
       "      <td>14</td>\n",
       "      <td>544</td>\n",
       "    </tr>\n",
       "    <tr>\n",
       "      <th>1</th>\n",
       "      <td>Trang sức</td>\n",
       "      <td>7458</td>\n",
       "      <td>58</td>\n",
       "      <td>2000</td>\n",
       "      <td>406</td>\n",
       "      <td>Ho Chi Minh</td>\n",
       "      <td>17600</td>\n",
       "      <td>16500</td>\n",
       "      <td>97</td>\n",
       "      <td>89</td>\n",
       "      <td>100</td>\n",
       "      <td>6</td>\n",
       "      <td>1</td>\n",
       "      <td>9</td>\n",
       "      <td>17</td>\n",
       "      <td>373</td>\n",
       "    </tr>\n",
       "    <tr>\n",
       "      <th>2</th>\n",
       "      <td>Trang sức</td>\n",
       "      <td>16000</td>\n",
       "      <td>47</td>\n",
       "      <td>1200</td>\n",
       "      <td>239</td>\n",
       "      <td>Ho Chi Minh</td>\n",
       "      <td>34000</td>\n",
       "      <td>17000</td>\n",
       "      <td>93</td>\n",
       "      <td>98</td>\n",
       "      <td>100</td>\n",
       "      <td>7</td>\n",
       "      <td>0</td>\n",
       "      <td>3</td>\n",
       "      <td>9</td>\n",
       "      <td>220</td>\n",
       "    </tr>\n",
       "    <tr>\n",
       "      <th>3</th>\n",
       "      <td>Trang sức</td>\n",
       "      <td>4850</td>\n",
       "      <td>49</td>\n",
       "      <td>82</td>\n",
       "      <td>21</td>\n",
       "      <td>Ho Chi Minh</td>\n",
       "      <td>9534</td>\n",
       "      <td>17000</td>\n",
       "      <td>96</td>\n",
       "      <td>100</td>\n",
       "      <td>83</td>\n",
       "      <td>0</td>\n",
       "      <td>0</td>\n",
       "      <td>0</td>\n",
       "      <td>21</td>\n",
       "      <td>None</td>\n",
       "    </tr>\n",
       "    <tr>\n",
       "      <th>4</th>\n",
       "      <td>Trang sức</td>\n",
       "      <td>5000</td>\n",
       "      <td>44</td>\n",
       "      <td>1200</td>\n",
       "      <td>222</td>\n",
       "      <td>Ho Chi Minh</td>\n",
       "      <td>9000</td>\n",
       "      <td>17000</td>\n",
       "      <td>95</td>\n",
       "      <td>99</td>\n",
       "      <td>62</td>\n",
       "      <td>12</td>\n",
       "      <td>4</td>\n",
       "      <td>6</td>\n",
       "      <td>13</td>\n",
       "      <td>187</td>\n",
       "    </tr>\n",
       "    <tr>\n",
       "      <th>...</th>\n",
       "      <td>...</td>\n",
       "      <td>...</td>\n",
       "      <td>...</td>\n",
       "      <td>...</td>\n",
       "      <td>...</td>\n",
       "      <td>...</td>\n",
       "      <td>...</td>\n",
       "      <td>...</td>\n",
       "      <td>...</td>\n",
       "      <td>...</td>\n",
       "      <td>...</td>\n",
       "      <td>...</td>\n",
       "      <td>...</td>\n",
       "      <td>...</td>\n",
       "      <td>...</td>\n",
       "      <td>...</td>\n",
       "    </tr>\n",
       "    <tr>\n",
       "      <th>1105</th>\n",
       "      <td>Trang sức</td>\n",
       "      <td>35000</td>\n",
       "      <td>36</td>\n",
       "      <td>1600</td>\n",
       "      <td>377</td>\n",
       "      <td>Nước ngoài</td>\n",
       "      <td>100000</td>\n",
       "      <td>17000</td>\n",
       "      <td>98</td>\n",
       "      <td>100</td>\n",
       "      <td>100</td>\n",
       "      <td>9</td>\n",
       "      <td>0</td>\n",
       "      <td>3</td>\n",
       "      <td>11</td>\n",
       "      <td>355</td>\n",
       "    </tr>\n",
       "    <tr>\n",
       "      <th>1106</th>\n",
       "      <td>Trang sức</td>\n",
       "      <td>18000</td>\n",
       "      <td>45</td>\n",
       "      <td>18</td>\n",
       "      <td>5</td>\n",
       "      <td>Nước ngoài</td>\n",
       "      <td>48000</td>\n",
       "      <td>17000</td>\n",
       "      <td>95</td>\n",
       "      <td>100</td>\n",
       "      <td>71</td>\n",
       "      <td>0</td>\n",
       "      <td>0</td>\n",
       "      <td>0</td>\n",
       "      <td>5</td>\n",
       "      <td>None</td>\n",
       "    </tr>\n",
       "    <tr>\n",
       "      <th>1107</th>\n",
       "      <td>Trang sức</td>\n",
       "      <td>39000</td>\n",
       "      <td>34</td>\n",
       "      <td>5</td>\n",
       "      <td>2</td>\n",
       "      <td>Ho Chi Minh</td>\n",
       "      <td>59000</td>\n",
       "      <td>16500</td>\n",
       "      <td>97</td>\n",
       "      <td>99</td>\n",
       "      <td>87</td>\n",
       "      <td>0</td>\n",
       "      <td>0</td>\n",
       "      <td>0</td>\n",
       "      <td>3</td>\n",
       "      <td>None</td>\n",
       "    </tr>\n",
       "    <tr>\n",
       "      <th>1108</th>\n",
       "      <td>Trang sức</td>\n",
       "      <td>44160</td>\n",
       "      <td>92</td>\n",
       "      <td>95</td>\n",
       "      <td>28</td>\n",
       "      <td>Ho Chi Minh</td>\n",
       "      <td>536000</td>\n",
       "      <td>17000</td>\n",
       "      <td>95</td>\n",
       "      <td>93</td>\n",
       "      <td>99</td>\n",
       "      <td>1</td>\n",
       "      <td>0</td>\n",
       "      <td>1</td>\n",
       "      <td>1</td>\n",
       "      <td>25</td>\n",
       "    </tr>\n",
       "    <tr>\n",
       "      <th>1109</th>\n",
       "      <td>Trang suc</td>\n",
       "      <td>5851</td>\n",
       "      <td>58</td>\n",
       "      <td>15</td>\n",
       "      <td>20</td>\n",
       "      <td>Nước ngoài</td>\n",
       "      <td>31000</td>\n",
       "      <td>17000</td>\n",
       "      <td>95</td>\n",
       "      <td>99</td>\n",
       "      <td>100</td>\n",
       "      <td>1</td>\n",
       "      <td>0</td>\n",
       "      <td>0</td>\n",
       "      <td>1</td>\n",
       "      <td>19</td>\n",
       "    </tr>\n",
       "  </tbody>\n",
       "</table>\n",
       "<p>1110 rows × 16 columns</p>\n",
       "</div>"
      ],
      "text/plain": [
       "           Type Price_sale Sale_off Total_sold Preview     Location  \\\n",
       "0     Trang sức       6848       46       1900     594  Ho Chi Minh   \n",
       "1     Trang sức       7458       58       2000     406  Ho Chi Minh   \n",
       "2     Trang sức      16000       47       1200     239  Ho Chi Minh   \n",
       "3     Trang sức       4850       49         82      21  Ho Chi Minh   \n",
       "4     Trang sức       5000       44       1200     222  Ho Chi Minh   \n",
       "...         ...        ...      ...        ...     ...          ...   \n",
       "1105  Trang sức      35000       36       1600     377   Nước ngoài   \n",
       "1106  Trang sức      18000       45         18       5   Nước ngoài   \n",
       "1107  Trang sức      39000       34          5       2  Ho Chi Minh   \n",
       "1108  Trang sức      44160       92         95      28  Ho Chi Minh   \n",
       "1109  Trang suc       5851       58         15      20   Nước ngoài   \n",
       "\n",
       "     Price_original Ship_price Sale_rating Ship_on_time Chat_response  \\\n",
       "0             22906      17000          96           95            96   \n",
       "1             17600      16500          97           89           100   \n",
       "2             34000      17000          93           98           100   \n",
       "3              9534      17000          96          100            83   \n",
       "4              9000      17000          95           99            62   \n",
       "...             ...        ...         ...          ...           ...   \n",
       "1105         100000      17000          98          100           100   \n",
       "1106          48000      17000          95          100            71   \n",
       "1107          59000      16500          97           99            87   \n",
       "1108         536000      17000          95           93            99   \n",
       "1109          31000      17000          95           99           100   \n",
       "\n",
       "     One_star Two_star Three_star Four_star Five_star  \n",
       "0          13        8         15        14       544  \n",
       "1           6        1          9        17       373  \n",
       "2           7        0          3         9       220  \n",
       "3           0        0          0        21      None  \n",
       "4          12        4          6        13       187  \n",
       "...       ...      ...        ...       ...       ...  \n",
       "1105        9        0          3        11       355  \n",
       "1106        0        0          0         5      None  \n",
       "1107        0        0          0         3      None  \n",
       "1108        1        0          1         1        25  \n",
       "1109        1        0          0         1        19  \n",
       "\n",
       "[1110 rows x 16 columns]"
      ]
     },
     "execution_count": 25,
     "metadata": {},
     "output_type": "execute_result"
    }
   ],
   "source": [
    "cleaned_df = pd.DataFrame(results, columns=data.columns)\n",
    "cleaned_df"
   ]
  },
  {
   "cell_type": "code",
   "execution_count": 26,
   "id": "b1581834",
   "metadata": {},
   "outputs": [],
   "source": [
    "data_lack = data.iloc[1110:1200, :]"
   ]
  },
  {
   "cell_type": "code",
   "execution_count": 28,
   "id": "dc02c284",
   "metadata": {},
   "outputs": [],
   "source": [
    "s = requests.Session()\n",
    "\n",
    "api_base = \"https://api.endpoints.anyscale.com/v1\"\n",
    "# Replace with long-lived credentials for production\n",
    "token = \"esecret_qhkdcaaq883rni2nfqw4hnkbpk\"\n",
    "url = f\"{api_base}/chat/completions\""
   ]
  },
  {
   "cell_type": "code",
   "execution_count": 29,
   "id": "d30d1466",
   "metadata": {},
   "outputs": [],
   "source": [
    "def call_api(formatted_data):\n",
    "    body = {\n",
    "        \"model\": \"meta-llama/Meta-Llama-3-70B-Instruct\",\n",
    "        \"messages\": [\n",
    "            {\n",
    "                \"role\": \"user\",\n",
    "                \"content\": \"Bạn là 1 trợ lí ảo về AI và có nhiệm vụ chính là chuẩn hóa data 1 cách chính xác nhất\"\n",
    "            },\n",
    "            {\n",
    "                \"role\": \"assistant\",\n",
    "                \"content\": \"Nice to meet you! As a virtual assistant specializing in AI, my primary task is to ensure accurate data standardization. I'm here to help you achieve high-quality data that meets the highest standards of precision and consistency.\\n\\nTo get started, could you please provide more context about the data you'd like me to standardize? What type of data is it (e.g., customer information, product details, sensor readings)? What is the current format of the data (e.g., CSV, JSON, Excel spreadsheet)? Are there any specific industry standards or regulations that need to be followed?\\n\\nAdditionally, are there any specific issues or challenges you're facing with the current data, such as:\\n\\n* Inconsistencies in formatting or naming conventions?\\n* Missing or duplicate values?\\n* Incorrect data types (e.g., date fields with invalid dates)?\\n* Need to conform to a specific data model or schema?\\n\\nOnce I have a better understanding of your data and requirements, I can provide guidance on the best approach to standardize your data accurately and efficiently.\"\n",
    "            },\n",
    "            {\n",
    "                \"role\": \"user\",\n",
    "                \"content\": \"Mỗi mục dữ liệu được ngăn cách bởi dấu |. Không bỏ bất kì 1 mục nào, không thêm bất kỳ mục nào, hãy chuẩn hóa thông tin về dạng số tương ứng, địa điểm thành không dấu, nếu là giá trị None thì ghi là None. Ngăn cách các giá trị bằng dấu phẩy, lưu ý: 52% Off\\\\nLazFlash Sale,kết thúc sau 9h (Đây là cùng 1 column), không cần giải thích output, output bạn trả ra cho tôi có đúng 16 cột nhé.       \\\\n\\\\n laptop | 7.223.999 ₫ | 52% Off\\\\\\\\\\\\\\\\nLazFlash Sale,kết thúc sau 9h | 51 Đã bán| (5)| Hải Phòng | 13.899.999 ₫ |Miễn phí |100%| 100% |80%| 0| 0| 0| 0| 5\"\n",
    "            },\n",
    "            {\n",
    "                \"role\": \"assistant\",\n",
    "                \"content\": \"Based on your requirements, I will standardize the data and provide the output in the correct format. Here is the output:\\n\\nlaptop, 7223999, 52, 51, 5, Hai Phong, 13899999, Mien phi, 100, 100, 80, 0, 0, 0, 0, 5\\n\\nHere's what I did:\\n\\n* Replaced the '|' characters with commas to separate the values.\\n* Removed the ' ₫' characters from the prices and converted them to numbers.\\n* Combined the two values in the third column into a single value.\\n* Removed the accents from the location (Hải Phòng -> Hai Phong).\\n* Replaced 'None' values with 'None' (although there were no 'None' values in this dataset).\\n* Ensured that there are exactly 16 columns in the output.\\n\\nLet me know if this meets your requirements!\"\n",
    "            },\n",
    "            {\n",
    "                \"role\": \"user\",\n",
    "                \"content\": \"Bạn phải trả về:\\\\\\\\nHere is the standardized data:\\\\n\\\\nlaptop,7223999,52,51,5,Hai Phong,13899999,Miễn Phí,100,100,80,0,0,0,5\"\n",
    "            },\n",
    "            {\n",
    "                \"role\": \"assistant\",\n",
    "                \"content\": \"Here is the standardized data:\\n\\nlaptop,7223999,52,51,5,Hai Phong,13899999,Miễn Phí,100,100,80,0,0,0,5\"\n",
    "            },\n",
    "            {\n",
    "                \"role\": \"user\",\n",
    "                \"content\": f\"{formatted_data}\"\n",
    "            },\n",
    "        ],\n",
    "        \"temperature\": 0,\n",
    "        \"max_tokens\": 256,\n",
    "        \"top_p\": 1,\n",
    "        \"frequency_penalty\": 0\n",
    "    }\n",
    "    response = s.post(url, headers={\"Authorization\": f\"Bearer {token}\"}, json=body)\n",
    "    return response.json()"
   ]
  },
  {
   "cell_type": "code",
   "execution_count": 30,
   "id": "9a9a6ae9",
   "metadata": {},
   "outputs": [
    {
     "name": "stderr",
     "output_type": "stream",
     "text": [
      "Processing rows:   1%|          | 1/90 [00:06<10:11,  6.87s/it]"
     ]
    },
    {
     "name": "stdout",
     "output_type": "stream",
     "text": [
      "Trang sức,87152,46,1700,294,Ha Noi,160000,32700,98,100,100,1,2,1,3,287\n"
     ]
    },
    {
     "name": "stderr",
     "output_type": "stream",
     "text": [
      "\r",
      "Processing rows:   2%|▏         | 2/90 [00:10<07:13,  4.93s/it]"
     ]
    },
    {
     "name": "stdout",
     "output_type": "stream",
     "text": [
      "Trang sức,29432,54,43,16,Nước ngoài,64000,17000,96,89,100,1,0,0,0,15\n"
     ]
    },
    {
     "name": "stderr",
     "output_type": "stream",
     "text": [
      "\r",
      "Processing rows:   3%|▎         | 3/90 [00:13<06:11,  4.27s/it]"
     ]
    },
    {
     "name": "stdout",
     "output_type": "stream",
     "text": [
      "Trang sức,104155,54,132,45,Ha Noi,227943,21700,98,100,,1,0,0,2,42\n"
     ]
    },
    {
     "name": "stderr",
     "output_type": "stream",
     "text": [
      "\r",
      "Processing rows:   4%|▍         | 4/90 [00:16<05:25,  3.79s/it]"
     ]
    },
    {
     "name": "stdout",
     "output_type": "stream",
     "text": [
      "Trang sức,225875,55,49,13,An Giang,500000,28700,97,82,82,0,0,0,0,13\n"
     ]
    },
    {
     "name": "stderr",
     "output_type": "stream",
     "text": [
      "\r",
      "Processing rows:   6%|▌         | 5/90 [00:19<04:50,  3.41s/it]"
     ]
    },
    {
     "name": "stdout",
     "output_type": "stream",
     "text": [
      "Trang sức,35000,50,446,118,Nước ngoài,70000,17000,95,97,100,1,1,2,4,110\n"
     ]
    },
    {
     "name": "stderr",
     "output_type": "stream",
     "text": [
      "\r",
      "Processing rows:   7%|▋         | 6/90 [00:22<04:25,  3.16s/it]"
     ]
    },
    {
     "name": "stdout",
     "output_type": "stream",
     "text": [
      "Trang sức,23200,50,154,36,Nước ngoài,46400,17000,95,97,100,1,0,0,0,35\n"
     ]
    },
    {
     "name": "stderr",
     "output_type": "stream",
     "text": [
      "\r",
      "Processing rows:   8%|▊         | 7/90 [00:26<04:36,  3.33s/it]"
     ]
    },
    {
     "name": "stdout",
     "output_type": "stream",
     "text": [
      "Trang sức,20950,79,559,136,Ha Noi,100000,32700,96,100,100,2,0,3,3,128\n"
     ]
    },
    {
     "name": "stderr",
     "output_type": "stream",
     "text": [
      "\r",
      "Processing rows:   9%|▉         | 8/90 [00:29<04:37,  3.39s/it]"
     ]
    },
    {
     "name": "stdout",
     "output_type": "stream",
     "text": [
      "Trang sức,70000,30,43,13,Ho Chi Minh,100000,17000,98,100,100,1,0,0,0,12\n"
     ]
    },
    {
     "name": "stderr",
     "output_type": "stream",
     "text": [
      "\r",
      "Processing rows:  10%|█         | 9/90 [00:33<04:36,  3.42s/it]"
     ]
    },
    {
     "name": "stdout",
     "output_type": "stream",
     "text": [
      "Trang sức,60122,81,1500,352,Ho Chi Minh,359000,17000,96,100,90,9,2,8,12,321\n"
     ]
    },
    {
     "name": "stderr",
     "output_type": "stream",
     "text": [
      "\r",
      "Processing rows:  11%|█         | 10/90 [00:36<04:32,  3.40s/it]"
     ]
    },
    {
     "name": "stdout",
     "output_type": "stream",
     "text": [
      "Trang sức,15000,38,27,7,Nước ngoài,24000,17000,97,100,100,1,0,0,1,5\n"
     ]
    },
    {
     "name": "stderr",
     "output_type": "stream",
     "text": [
      "\r",
      "Processing rows:  12%|█▏        | 11/90 [00:39<04:21,  3.31s/it]"
     ]
    },
    {
     "name": "stdout",
     "output_type": "stream",
     "text": [
      "Trang sức,5000,50,3800,666,Hà Nội,40000,32700,94,100,none,14,9,25,35,583\n"
     ]
    },
    {
     "name": "stderr",
     "output_type": "stream",
     "text": [
      "\r",
      "Processing rows:  13%|█▎        | 12/90 [00:42<04:21,  3.36s/it]"
     ]
    },
    {
     "name": "stdout",
     "output_type": "stream",
     "text": [
      "Trang sức,9000,59,5600,735,Ho Chi Minh,22000,17000,96,99,92,7,5,9,27,688\n"
     ]
    },
    {
     "name": "stderr",
     "output_type": "stream",
     "text": [
      "\r",
      "Processing rows:  14%|█▍        | 13/90 [00:45<04:07,  3.21s/it]"
     ]
    },
    {
     "name": "stdout",
     "output_type": "stream",
     "text": [
      "Trang sức,6146,50,241,61,Ho Chi Minh,15833,17000,95,99,100,2,0,1,2,57\n"
     ]
    },
    {
     "name": "stderr",
     "output_type": "stream",
     "text": [
      "\r",
      "Processing rows:  16%|█▌        | 14/90 [00:49<04:08,  3.27s/it]"
     ]
    },
    {
     "name": "stdout",
     "output_type": "stream",
     "text": [
      "Trang sức,8253,62,129,37,Ho Chi Minh,21500,17000,97,100,100,2,1,0,0,34\n"
     ]
    },
    {
     "name": "stderr",
     "output_type": "stream",
     "text": [
      "\r",
      "Processing rows:  17%|█▋        | 15/90 [00:54<04:44,  3.79s/it]"
     ]
    },
    {
     "name": "stdout",
     "output_type": "stream",
     "text": [
      "Trang sức,25000,50,284,57,Nước ngoài,50000,17000,94,94,100,1,2,0,3,51\n"
     ]
    },
    {
     "name": "stderr",
     "output_type": "stream",
     "text": [
      "\r",
      "Processing rows:  18%|█▊        | 16/90 [00:58<04:52,  3.95s/it]"
     ]
    },
    {
     "name": "stdout",
     "output_type": "stream",
     "text": [
      "Trang sức,51035,15,255,101,Ho Chi Minh,49000,17000,95,99,100,1,1,2,3,95\n"
     ]
    },
    {
     "name": "stderr",
     "output_type": "stream",
     "text": [
      "\r",
      "Processing rows:  19%|█▉        | 17/90 [01:01<04:27,  3.67s/it]"
     ]
    },
    {
     "name": "stdout",
     "output_type": "stream",
     "text": [
      "Trang sức,10056,28,34,8,Nước ngoài,14000,17000,95,100,100,1,1,0,0,6\n"
     ]
    },
    {
     "name": "stderr",
     "output_type": "stream",
     "text": [
      "\r",
      "Processing rows:  20%|██        | 18/90 [01:04<04:03,  3.38s/it]"
     ]
    },
    {
     "name": "stdout",
     "output_type": "stream",
     "text": [
      "Trang sức,20482,54,371,82,Ho Chi Minh,44550,17000,89,100,nan,16,7,4,3,53\n"
     ]
    },
    {
     "name": "stderr",
     "output_type": "stream",
     "text": [
      "\r",
      "Processing rows:  21%|██        | 19/90 [01:07<04:02,  3.41s/it]"
     ]
    },
    {
     "name": "stdout",
     "output_type": "stream",
     "text": [
      "Trang sức,14243,23,5,5,Nước ngoài,32834,17000,95,100,100,0,0,0,0,5\n"
     ]
    },
    {
     "name": "stderr",
     "output_type": "stream",
     "text": [
      "\r",
      "Processing rows:  22%|██▏       | 20/90 [01:10<03:52,  3.32s/it]"
     ]
    },
    {
     "name": "stdout",
     "output_type": "stream",
     "text": [
      "Trang sức,6800,50,7,0,Nước ngoài,13500,Miễn phí,97,99,100,0,0,0,0,0\n"
     ]
    },
    {
     "name": "stderr",
     "output_type": "stream",
     "text": [
      "\r",
      "Processing rows:  23%|██▎       | 21/90 [01:15<04:12,  3.66s/it]"
     ]
    },
    {
     "name": "stdout",
     "output_type": "stream",
     "text": [
      "Trang sức,34225,46,2600,421,Nước ngoài,73000,17000,93,100,100,29,4,1,7,381\n"
     ]
    },
    {
     "name": "stderr",
     "output_type": "stream",
     "text": [
      "\r",
      "Processing rows:  24%|██▍       | 22/90 [01:17<03:45,  3.32s/it]"
     ]
    },
    {
     "name": "stdout",
     "output_type": "stream",
     "text": [
      "Trang sức,13232,72,1400,289,Nước ngoài,47159,17000,94,100,100,16,4,7,12,250\n"
     ]
    },
    {
     "name": "stderr",
     "output_type": "stream",
     "text": [
      "\r",
      "Processing rows:  26%|██▌       | 23/90 [01:21<03:40,  3.29s/it]"
     ]
    },
    {
     "name": "stdout",
     "output_type": "stream",
     "text": [
      "Trang sức,14000,40,65,19,Ho Chi Minh,23333,17000,92,100,none,1,0,0,0,18\n"
     ]
    },
    {
     "name": "stderr",
     "output_type": "stream",
     "text": [
      "\r",
      "Processing rows:  27%|██▋       | 24/90 [01:23<03:22,  3.07s/it]"
     ]
    },
    {
     "name": "stdout",
     "output_type": "stream",
     "text": [
      "Trang sức,230000,15,89,19,Ha Noi,350000,21700,80,94,85,0,1,0,1,17\n"
     ]
    },
    {
     "name": "stderr",
     "output_type": "stream",
     "text": [
      "\r",
      "Processing rows:  28%|██▊       | 25/90 [01:29<04:08,  3.83s/it]"
     ]
    },
    {
     "name": "stdout",
     "output_type": "stream",
     "text": [
      "Trang sức,211000,47,346,122,Ha Noi,400000,32700,97,99,97,2,1,0,0,119\n"
     ]
    },
    {
     "name": "stderr",
     "output_type": "stream",
     "text": [
      "\r",
      "Processing rows:  29%|██▉       | 26/90 [01:32<04:01,  3.77s/it]"
     ]
    },
    {
     "name": "stdout",
     "output_type": "stream",
     "text": [
      "Trang sức,31000,56,98,31,Ha Noi,70000,32700,99,100,50,0,0,0,2,29\n"
     ]
    },
    {
     "name": "stderr",
     "output_type": "stream",
     "text": [
      "\r",
      "Processing rows:  30%|███       | 27/90 [01:35<03:38,  3.48s/it]"
     ]
    },
    {
     "name": "stdout",
     "output_type": "stream",
     "text": [
      "Trang sức,54000,50,570,167,Ho Chi Minh,109000,16500,99,100,100,1,0,2,5,159\n"
     ]
    },
    {
     "name": "stderr",
     "output_type": "stream",
     "text": [
      "\r",
      "Processing rows:  31%|███       | 28/90 [01:38<03:26,  3.33s/it]"
     ]
    },
    {
     "name": "stdout",
     "output_type": "stream",
     "text": [
      "Trang sức,12000,40,56,16,Ho Chi Minh,32000,17000,95,99,100,1,0,1,0,14\n"
     ]
    },
    {
     "name": "stderr",
     "output_type": "stream",
     "text": [
      "\r",
      "Processing rows:  32%|███▏      | 29/90 [01:41<03:12,  3.16s/it]"
     ]
    },
    {
     "name": "stdout",
     "output_type": "stream",
     "text": [
      "Trang sức,4717,46,23,4,Nước ngoài,8800,17000,96,98,100,2,0,0,0,2\n"
     ]
    },
    {
     "name": "stderr",
     "output_type": "stream",
     "text": [
      "\r",
      "Processing rows:  33%|███▎      | 30/90 [01:44<03:04,  3.08s/it]"
     ]
    },
    {
     "name": "stdout",
     "output_type": "stream",
     "text": [
      "Trang sức,14706,54,117,23,Nước ngoài,31700,17000,94,97,100,2,0,1,1,19\n"
     ]
    },
    {
     "name": "stderr",
     "output_type": "stream",
     "text": [
      "\r",
      "Processing rows:  34%|███▍      | 31/90 [01:46<02:46,  2.83s/it]"
     ]
    },
    {
     "name": "stdout",
     "output_type": "stream",
     "text": [
      "Trang sức,16000,35,nan,nan,Nước ngoài,24600,17000,nan,100,nan,0,0,0,0,0\n"
     ]
    },
    {
     "name": "stderr",
     "output_type": "stream",
     "text": [
      "\r",
      "Processing rows:  36%|███▌      | 32/90 [01:50<02:58,  3.08s/it]"
     ]
    },
    {
     "name": "stdout",
     "output_type": "stream",
     "text": [
      "Trang sức,12110,47,43,13,Nước ngoài,23000,17000,95,99,100,1,1,1,0,10\n"
     ]
    },
    {
     "name": "stderr",
     "output_type": "stream",
     "text": [
      "\r",
      "Processing rows:  37%|███▋      | 33/90 [01:53<02:51,  3.01s/it]"
     ]
    },
    {
     "name": "stdout",
     "output_type": "stream",
     "text": [
      "Trang sức,88000,None,746,150,Ho Chi Minh,None,Miễn Phí,99,100,None,1,1,2,4,143\n"
     ]
    },
    {
     "name": "stderr",
     "output_type": "stream",
     "text": [
      "\r",
      "Processing rows:  38%|███▊      | 34/90 [01:56<02:49,  3.03s/it]"
     ]
    },
    {
     "name": "stdout",
     "output_type": "stream",
     "text": [
      "Trang sức,7558,50,18,6,Nước ngoài,15211,17000,96,96,100,0,0,0,0,7\n"
     ]
    },
    {
     "name": "stderr",
     "output_type": "stream",
     "text": [
      "\r",
      "Processing rows:  39%|███▉      | 35/90 [01:58<02:36,  2.84s/it]"
     ]
    },
    {
     "name": "stdout",
     "output_type": "stream",
     "text": [
      "Trang sức,9005,40,10000,1551,Ho Chi Minh,15000,16500,97,100,,41,10,20,37,1443\n"
     ]
    },
    {
     "name": "stderr",
     "output_type": "stream",
     "text": [
      "\r",
      "Processing rows:  40%|████      | 36/90 [02:01<02:35,  2.88s/it]"
     ]
    },
    {
     "name": "stdout",
     "output_type": "stream",
     "text": [
      "Trang sức,26000,43,32,15,Ho Chi Minh,46000,17000,94,94,100,1,0,0,0,14\n"
     ]
    },
    {
     "name": "stderr",
     "output_type": "stream",
     "text": [
      "\r",
      "Processing rows:  41%|████      | 37/90 [02:04<02:30,  2.84s/it]"
     ]
    },
    {
     "name": "stdout",
     "output_type": "stream",
     "text": [
      "Trang sức,42000,48,1400,348,Nước ngoài,80000,17000,98,100,100,5,2,6,12,323\n"
     ]
    },
    {
     "name": "stderr",
     "output_type": "stream",
     "text": [
      "\r",
      "Processing rows:  42%|████▏     | 38/90 [02:07<02:30,  2.89s/it]"
     ]
    },
    {
     "name": "stdout",
     "output_type": "stream",
     "text": [
      "Trang sức,19000,32,226,56,Nước ngoài,28000,17000,98,90,100,1,0,0,0,55\n"
     ]
    },
    {
     "name": "stderr",
     "output_type": "stream",
     "text": [
      "\r",
      "Processing rows:  43%|████▎     | 39/90 [02:10<02:25,  2.85s/it]"
     ]
    },
    {
     "name": "stdout",
     "output_type": "stream",
     "text": [
      "Trang sức,600000,None,None,None,Hà Nội,None,Miễn Phí,100,None,None,0,0,0,0,0\n"
     ]
    },
    {
     "name": "stderr",
     "output_type": "stream",
     "text": [
      "\r",
      "Processing rows:  44%|████▍     | 40/90 [02:13<02:37,  3.15s/it]"
     ]
    },
    {
     "name": "stdout",
     "output_type": "stream",
     "text": [
      "Trang sức,32682,50,78,19,Ho Chi Minh,65000,16500,95,100,90,3,0,1,1,14\n"
     ]
    },
    {
     "name": "stderr",
     "output_type": "stream",
     "text": [
      "\r",
      "Processing rows:  46%|████▌     | 41/90 [02:17<02:41,  3.29s/it]"
     ]
    },
    {
     "name": "stdout",
     "output_type": "stream",
     "text": [
      "Trang sức,74000,33,nan,1,Hai Duong,220000,37700,96,60,100,0,0,0,0,1\n"
     ]
    },
    {
     "name": "stderr",
     "output_type": "stream",
     "text": [
      "\r",
      "Processing rows:  47%|████▋     | 42/90 [02:20<02:29,  3.12s/it]"
     ]
    },
    {
     "name": "stdout",
     "output_type": "stream",
     "text": [
      "Trang sức,54000,33,92,31,Nước ngoài,80000,17000,98,100,100,0,1,0,1,29\n"
     ]
    },
    {
     "name": "stderr",
     "output_type": "stream",
     "text": [
      "\r",
      "Processing rows:  48%|████▊     | 43/90 [02:23<02:23,  3.05s/it]"
     ]
    },
    {
     "name": "stdout",
     "output_type": "stream",
     "text": [
      "Trang sức,66913,25,35,14,Ho Chi Minh,89000,16500,97,99,87,1,0,0,0,14\n"
     ]
    },
    {
     "name": "stderr",
     "output_type": "stream",
     "text": [
      "\r",
      "Processing rows:  49%|████▉     | 44/90 [02:25<02:14,  2.93s/it]"
     ]
    },
    {
     "name": "stdout",
     "output_type": "stream",
     "text": [
      "Trang sức,82962,16,221,40,Ho Chi Minh,99000,16500,97,99,87,0,2,2,0,36\n"
     ]
    },
    {
     "name": "stderr",
     "output_type": "stream",
     "text": [
      "\r",
      "Processing rows:  50%|█████     | 45/90 [02:28<02:11,  2.92s/it]"
     ]
    },
    {
     "name": "stdout",
     "output_type": "stream",
     "text": [
      "Trang sức,26800,30,523,105,Nước ngoài,36400,17000,95,100,None,5,0,0,3,97\n"
     ]
    },
    {
     "name": "stderr",
     "output_type": "stream",
     "text": [
      "\r",
      "Processing rows:  51%|█████     | 46/90 [02:31<02:13,  3.04s/it]"
     ]
    },
    {
     "name": "stdout",
     "output_type": "stream",
     "text": [
      "Trang sức,3771,16,nan,nan,Ho Chi Minh,4500,16500,100,100,nan,0,0,0,0,0\n"
     ]
    },
    {
     "name": "stderr",
     "output_type": "stream",
     "text": [
      "\r",
      "Processing rows:  52%|█████▏    | 47/90 [02:35<02:18,  3.21s/it]"
     ]
    },
    {
     "name": "stdout",
     "output_type": "stream",
     "text": [
      "Trang sức,24050,82,16,3,Nước ngoài,130000,17000,98,100,100,0,0,0,0,3\n"
     ]
    },
    {
     "name": "stderr",
     "output_type": "stream",
     "text": [
      "\r",
      "Processing rows:  53%|█████▎    | 48/90 [02:38<02:13,  3.18s/it]"
     ]
    },
    {
     "name": "stdout",
     "output_type": "stream",
     "text": [
      "Trang sức,10661,47,52,7,Ha Noi,20060,32700,97,90,100,2,0,0,0,6\n"
     ]
    },
    {
     "name": "stderr",
     "output_type": "stream",
     "text": [
      "\r",
      "Processing rows:  54%|█████▍    | 49/90 [02:41<02:00,  2.93s/it]"
     ]
    },
    {
     "name": "stdout",
     "output_type": "stream",
     "text": [
      "Trang sức,34225,53,147,23,Nước ngoài,73000,17000,95,95,100,1,1,1,1,20\n"
     ]
    },
    {
     "name": "stderr",
     "output_type": "stream",
     "text": [
      "\r",
      "Processing rows:  56%|█████▌    | 50/90 [02:44<01:58,  2.95s/it]"
     ]
    },
    {
     "name": "stdout",
     "output_type": "stream",
     "text": [
      "Trang sức,55000,77,131,38,Nước ngoài,235555,17000,97,100,nan,1,0,0,0,37\n"
     ]
    },
    {
     "name": "stderr",
     "output_type": "stream",
     "text": [
      "\r",
      "Processing rows:  57%|█████▋    | 51/90 [02:46<01:51,  2.86s/it]"
     ]
    },
    {
     "name": "stdout",
     "output_type": "stream",
     "text": [
      "Trang sức,4440,26,666,120,Ho Chi Minh,13720,17000,96,99,63,1,0,1,0,118\n"
     ]
    },
    {
     "name": "stderr",
     "output_type": "stream",
     "text": [
      "\r",
      "Processing rows:  58%|█████▊    | 52/90 [02:49<01:45,  2.77s/it]"
     ]
    },
    {
     "name": "stdout",
     "output_type": "stream",
     "text": [
      "Trang sức,19718,58,1900,319,Ho Chi Minh,46400,17000,95,97,100,17,7,7,15,273\n"
     ]
    },
    {
     "name": "stderr",
     "output_type": "stream",
     "text": [
      "\r",
      "Processing rows:  59%|█████▉    | 53/90 [02:52<01:45,  2.86s/it]"
     ]
    },
    {
     "name": "stdout",
     "output_type": "stream",
     "text": [
      "Trang sức,4850,49,85,21,Nước ngoài,9534,17000,96,100,83,0,0,0,0,21\n"
     ]
    },
    {
     "name": "stderr",
     "output_type": "stream",
     "text": [
      "\r",
      "Processing rows:  60%|██████    | 54/90 [02:55<01:44,  2.90s/it]"
     ]
    },
    {
     "name": "stdout",
     "output_type": "stream",
     "text": [
      "Trang sức,14000,44,308,54,Ho Chi Minh,30000,17000,94,100,100,0,1,1,1,51\n"
     ]
    },
    {
     "name": "stderr",
     "output_type": "stream",
     "text": [
      "\r",
      "Processing rows:  61%|██████    | 55/90 [02:58<01:41,  2.89s/it]"
     ]
    },
    {
     "name": "stdout",
     "output_type": "stream",
     "text": [
      "Trang sức,11839,85,24,4,Nước ngoài,76700,17000,97,99,100,0,0,0,1,3\n"
     ]
    },
    {
     "name": "stderr",
     "output_type": "stream",
     "text": [
      "\r",
      "Processing rows:  62%|██████▏   | 56/90 [03:01<01:38,  2.90s/it]"
     ]
    },
    {
     "name": "stdout",
     "output_type": "stream",
     "text": [
      "Trang sức,11000,48,422,105,Ho Chi Minh,16000,17000,95,100,71,1,3,0,1,100\n"
     ]
    },
    {
     "name": "stderr",
     "output_type": "stream",
     "text": [
      "\r",
      "Processing rows:  63%|██████▎   | 57/90 [03:04<01:38,  2.98s/it]"
     ]
    },
    {
     "name": "stdout",
     "output_type": "stream",
     "text": [
      "Trang sức,33000,35,nan,1,Nước ngoài,50700,17000,nan,100,nan,0,0,0,0,1\n"
     ]
    },
    {
     "name": "stderr",
     "output_type": "stream",
     "text": [
      "\r",
      "Processing rows:  64%|██████▍   | 58/90 [03:07<01:39,  3.10s/it]"
     ]
    },
    {
     "name": "stdout",
     "output_type": "stream",
     "text": [
      "Trang sức,9712,98,539,97,Nước ngoài,471347,17000,96,98,100,4,4,8,3,78\n"
     ]
    },
    {
     "name": "stderr",
     "output_type": "stream",
     "text": [
      "\r",
      "Processing rows:  66%|██████▌   | 59/90 [03:10<01:36,  3.13s/it]"
     ]
    },
    {
     "name": "stdout",
     "output_type": "stream",
     "text": [
      "Trang sức,8925,45,246,68,Ho Chi Minh,23201,17000,95,99,100,5,0,0,3,60\n"
     ]
    },
    {
     "name": "stderr",
     "output_type": "stream",
     "text": [
      "\r",
      "Processing rows:  67%|██████▋   | 60/90 [03:13<01:32,  3.08s/it]"
     ]
    },
    {
     "name": "stdout",
     "output_type": "stream",
     "text": [
      "Trang sức,9527,76,6,1,Nước ngoài,39000,17000,97,99,100,1,0,0,0,0\n"
     ]
    },
    {
     "name": "stderr",
     "output_type": "stream",
     "text": [
      "\r",
      "Processing rows:  68%|██████▊   | 61/90 [03:16<01:23,  2.87s/it]"
     ]
    },
    {
     "name": "stdout",
     "output_type": "stream",
     "text": [
      "Trang sức,34333,58,1100,303,Ho Chi Minh,82000,16500,92,99,100,3,4,7,10,279\n"
     ]
    },
    {
     "name": "stderr",
     "output_type": "stream",
     "text": [
      "\r",
      "Processing rows:  69%|██████▉   | 62/90 [03:19<01:24,  3.01s/it]"
     ]
    },
    {
     "name": "stdout",
     "output_type": "stream",
     "text": [
      "Trang sức,79000,None,None,2,Nước ngoài,None,17000,40,100,None,0,0,0,0,2\n"
     ]
    },
    {
     "name": "stderr",
     "output_type": "stream",
     "text": [
      "\r",
      "Processing rows:  70%|███████   | 63/90 [03:21<01:15,  2.80s/it]"
     ]
    },
    {
     "name": "stdout",
     "output_type": "stream",
     "text": [
      "Trang sức,13840,51,25,3,Ho Chi Minh,28000,17000,96,100,none,0,0,0,0,3\n"
     ]
    },
    {
     "name": "stderr",
     "output_type": "stream",
     "text": [
      "\r",
      "Processing rows:  71%|███████   | 64/90 [03:25<01:18,  3.00s/it]"
     ]
    },
    {
     "name": "stdout",
     "output_type": "stream",
     "text": [
      "Trang sức,44100,48,42,15,Ho Chi Minh,84000,17000,97,100,none,0,0,0,0,15\n"
     ]
    },
    {
     "name": "stderr",
     "output_type": "stream",
     "text": [
      "\r",
      "Processing rows:  72%|███████▏  | 65/90 [03:29<01:20,  3.22s/it]"
     ]
    },
    {
     "name": "stdout",
     "output_type": "stream",
     "text": [
      "Trang sức,33900,55,236,57,Ho Chi Minh,75000,16500,97,100,nan,0,1,1,1,54\n"
     ]
    },
    {
     "name": "stderr",
     "output_type": "stream",
     "text": [
      "\r",
      "Processing rows:  73%|███████▎  | 66/90 [03:32<01:16,  3.18s/it]"
     ]
    },
    {
     "name": "stdout",
     "output_type": "stream",
     "text": [
      "Trang sức,33900,43,465,119,Ho Chi Minh,59000,16500,97,100,nan,1,0,1,0,117\n"
     ]
    },
    {
     "name": "stderr",
     "output_type": "stream",
     "text": [
      "\r",
      "Processing rows:  74%|███████▍  | 67/90 [03:34<01:10,  3.08s/it]"
     ]
    },
    {
     "name": "stdout",
     "output_type": "stream",
     "text": [
      "Trang sức,138300,47,591,145,Ho Chi Minh,259000,16500,97,100,nan,4,0,2,2,137\n"
     ]
    },
    {
     "name": "stderr",
     "output_type": "stream",
     "text": [
      "\r",
      "Processing rows:  76%|███████▌  | 68/90 [03:37<01:06,  3.04s/it]"
     ]
    },
    {
     "name": "stdout",
     "output_type": "stream",
     "text": [
      "Trang sức,32186,46,233,45,Nước ngoài,60000,17000,97,99,100,0,1,1,1,43\n"
     ]
    },
    {
     "name": "stderr",
     "output_type": "stream",
     "text": [
      "\r",
      "Processing rows:  77%|███████▋  | 69/90 [03:40<01:03,  3.02s/it]"
     ]
    },
    {
     "name": "stdout",
     "output_type": "stream",
     "text": [
      "Trang sức,15559,49,10,1,Ha Noi,30580,32700,96,94,100,0,0,0,0,1\n"
     ]
    },
    {
     "name": "stderr",
     "output_type": "stream",
     "text": [
      "\r",
      "Processing rows:  78%|███████▊  | 70/90 [03:43<00:57,  2.85s/it]"
     ]
    },
    {
     "name": "stdout",
     "output_type": "stream",
     "text": [
      "Trang sức,17000,37,172,45,Nước ngoài,50000,Miễn Phí,96,99,100,0,0,2,1,42\n"
     ]
    },
    {
     "name": "stderr",
     "output_type": "stream",
     "text": [
      "\r",
      "Processing rows:  79%|███████▉  | 71/90 [03:46<00:55,  2.92s/it]"
     ]
    },
    {
     "name": "stdout",
     "output_type": "stream",
     "text": [
      "Trang sức,15298,41,61,19,Nước ngoài,45492,17000,95,98,85,4,0,0,0,15\n"
     ]
    },
    {
     "name": "stderr",
     "output_type": "stream",
     "text": [
      "\r",
      "Processing rows:  80%|████████  | 72/90 [03:49<00:51,  2.88s/it]"
     ]
    },
    {
     "name": "stdout",
     "output_type": "stream",
     "text": [
      "Trang sức,46400,75,187,81,Ho Chi Minh,189000,17000,94,100,100,2,1,2,3,73\n"
     ]
    },
    {
     "name": "stderr",
     "output_type": "stream",
     "text": [
      "\r",
      "Processing rows:  81%|████████  | 73/90 [03:52<00:52,  3.07s/it]"
     ]
    },
    {
     "name": "stdout",
     "output_type": "stream",
     "text": [
      "Trang sức,78734,75,292,78,Nước ngoài,309990,17000,96,100,90,2,0,1,3,72\n"
     ]
    },
    {
     "name": "stderr",
     "output_type": "stream",
     "text": [
      "\r",
      "Processing rows:  82%|████████▏ | 74/90 [03:55<00:48,  3.03s/it]"
     ]
    },
    {
     "name": "stdout",
     "output_type": "stream",
     "text": [
      "Trang sức,73687,77,200,45,Ho Chi Minh,495862,17000,95,100,,0,0,0,1,44\n"
     ]
    },
    {
     "name": "stderr",
     "output_type": "stream",
     "text": [
      "\r",
      "Processing rows:  83%|████████▎ | 75/90 [03:59<00:49,  3.32s/it]"
     ]
    },
    {
     "name": "stdout",
     "output_type": "stream",
     "text": [
      "Trang sức,10113,33,nan,nan,Nước ngoài,15000,17000,95,100,100,0,0,0,0,0\n"
     ]
    },
    {
     "name": "stderr",
     "output_type": "stream",
     "text": [
      "\r",
      "Processing rows:  84%|████████▍ | 76/90 [04:03<00:46,  3.34s/it]"
     ]
    },
    {
     "name": "stdout",
     "output_type": "stream",
     "text": [
      "Trang sức,7556,20,270,101,Nước ngoài,12909,17000,94,100,100,2,0,0,1,98\n"
     ]
    },
    {
     "name": "stderr",
     "output_type": "stream",
     "text": [
      "\r",
      "Processing rows:  86%|████████▌ | 77/90 [04:06<00:42,  3.26s/it]"
     ]
    },
    {
     "name": "stdout",
     "output_type": "stream",
     "text": [
      "Trang sức,69000,43,398,80,Ha Noi,120000,32700,94,100,100,5,0,2,3,70\n"
     ]
    },
    {
     "name": "stderr",
     "output_type": "stream",
     "text": [
      "\r",
      "Processing rows:  87%|████████▋ | 78/90 [04:08<00:35,  2.97s/it]"
     ]
    },
    {
     "name": "stdout",
     "output_type": "stream",
     "text": [
      "Trang sức,27000,75,222,79,Ho Chi Minh,90000,16500,99,100,100,0,1,0,0,79\n"
     ]
    },
    {
     "name": "stderr",
     "output_type": "stream",
     "text": [
      "\r",
      "Processing rows:  88%|████████▊ | 79/90 [04:10<00:31,  2.83s/it]"
     ]
    },
    {
     "name": "stdout",
     "output_type": "stream",
     "text": [
      "Trang sức,29000,51,45,12,Ho Chi Minh,59000,16500,97,99,87,0,0,0,0,12\n"
     ]
    },
    {
     "name": "stderr",
     "output_type": "stream",
     "text": [
      "\r",
      "Processing rows:  89%|████████▉ | 80/90 [04:13<00:27,  2.75s/it]"
     ]
    },
    {
     "name": "stdout",
     "output_type": "stream",
     "text": [
      "Trang sức,38848,51,1200,287,Nước ngoài,80000,17000,97,99,100,2,1,0,5,279\n"
     ]
    },
    {
     "name": "stderr",
     "output_type": "stream",
     "text": [
      "\r",
      "Processing rows:  90%|█████████ | 81/90 [04:16<00:24,  2.73s/it]"
     ]
    },
    {
     "name": "stdout",
     "output_type": "stream",
     "text": [
      "Trang sức,74582,16,73,29,Ho Chi Minh,89000,16500,97,99,87,0,0,1,0,28\n"
     ]
    },
    {
     "name": "stderr",
     "output_type": "stream",
     "text": [
      "\r",
      "Processing rows:  91%|█████████ | 82/90 [04:20<00:25,  3.19s/it]"
     ]
    },
    {
     "name": "stdout",
     "output_type": "stream",
     "text": [
      "Trang sức,45295,22,729,190,Nước ngoài,58000,17000,97,100,none,4,0,2,6,177\n"
     ]
    },
    {
     "name": "stderr",
     "output_type": "stream",
     "text": [
      "\r",
      "Processing rows:  92%|█████████▏| 83/90 [04:22<00:20,  2.93s/it]"
     ]
    },
    {
     "name": "stdout",
     "output_type": "stream",
     "text": [
      "Trang sức,48000,39,114,30,Nước ngoài,79000,17000,96,97,60,1,3,0,3,24\n"
     ]
    },
    {
     "name": "stderr",
     "output_type": "stream",
     "text": [
      "\r",
      "Processing rows:  93%|█████████▎| 84/90 [04:25<00:17,  2.96s/it]"
     ]
    },
    {
     "name": "stdout",
     "output_type": "stream",
     "text": [
      "Trang sức,12000,48,10,3,Nước ngoài,23000,17000,95,94,100,1,0,0,0,2\n"
     ]
    },
    {
     "name": "stderr",
     "output_type": "stream",
     "text": [
      "\r",
      "Processing rows:  94%|█████████▍| 85/90 [04:28<00:14,  2.93s/it]"
     ]
    },
    {
     "name": "stdout",
     "output_type": "stream",
     "text": [
      "Trang sức,7073,35,8,8,Nước ngoài,13992,17000,93,100,100,0,0,0,0,8\n"
     ]
    },
    {
     "name": "stderr",
     "output_type": "stream",
     "text": [
      "\r",
      "Processing rows:  96%|█████████▌| 86/90 [04:31<00:11,  2.82s/it]"
     ]
    },
    {
     "name": "stdout",
     "output_type": "stream",
     "text": [
      "Trang sức,34225,54,15,3,Nước ngoài,74000,17000,96,99,100,0,0,0,0,4\n"
     ]
    },
    {
     "name": "stderr",
     "output_type": "stream",
     "text": [
      "\r",
      "Processing rows:  97%|█████████▋| 87/90 [04:33<00:07,  2.66s/it]"
     ]
    },
    {
     "name": "stdout",
     "output_type": "stream",
     "text": [
      "Trang sức,20900,49,12,1,Nước ngoài,41000,17000,95,100,None,0,0,0,1\n"
     ]
    },
    {
     "name": "stderr",
     "output_type": "stream",
     "text": [
      "\r",
      "Processing rows:  98%|█████████▊| 88/90 [04:35<00:05,  2.56s/it]"
     ]
    },
    {
     "name": "stdout",
     "output_type": "stream",
     "text": [
      "Trang sức,188000,62,256,53,Ha Noi,500000,32700,94,100,100,0,1,2,0,50\n"
     ]
    },
    {
     "name": "stderr",
     "output_type": "stream",
     "text": [
      "\r",
      "Processing rows:  99%|█████████▉| 89/90 [04:37<00:02,  2.45s/it]"
     ]
    },
    {
     "name": "stdout",
     "output_type": "stream",
     "text": [
      "Trang sức,15331,31,26,9,Nước ngoài,22134,17000,93,100,nan,0,0,0,0,9\n"
     ]
    },
    {
     "name": "stderr",
     "output_type": "stream",
     "text": [
      "Processing rows: 100%|██████████| 90/90 [04:42<00:00,  3.14s/it]"
     ]
    },
    {
     "name": "stdout",
     "output_type": "stream",
     "text": [
      "Trang sức,66913,25,38,7,Ho Chi Minh,89000,16500,97,99,87,0,0,0,7\n"
     ]
    },
    {
     "name": "stderr",
     "output_type": "stream",
     "text": [
      "\n"
     ]
    }
   ],
   "source": [
    "def format_row(row):\n",
    "    return '|'.join(map(str, row.values))\n",
    "\n",
    "results = []\n",
    "for index, row in tqdm(data_lack.iterrows(), total=data_lack.shape[0], desc=\"Processing rows\"):\n",
    "    formatted_data = format_row(row)\n",
    "    api_response = call_api(formatted_data)\n",
    "    \n",
    "    if 'choices' in api_response and api_response['choices']:\n",
    "        cleaned_data = api_response['choices'][0]['message']['content'].strip()\n",
    "        cleaned_data = cleaned_data.replace('Here is the standardized data:\\n\\n', '').replace('\\n', ',')\n",
    "        print(cleaned_data)\n",
    "        results.append(cleaned_data.split(','))\n",
    "    else:\n",
    "        print(f\"No choices found for row {index}\")\n",
    "        break\n"
   ]
  },
  {
   "cell_type": "code",
   "execution_count": 46,
   "id": "fd66bf50",
   "metadata": {},
   "outputs": [],
   "source": [
    "new_df = pd.DataFrame(results, columns=data.columns)"
   ]
  },
  {
   "cell_type": "code",
   "execution_count": 47,
   "id": "ccda8746",
   "metadata": {},
   "outputs": [
    {
     "data": {
      "text/html": [
       "<div>\n",
       "<style scoped>\n",
       "    .dataframe tbody tr th:only-of-type {\n",
       "        vertical-align: middle;\n",
       "    }\n",
       "\n",
       "    .dataframe tbody tr th {\n",
       "        vertical-align: top;\n",
       "    }\n",
       "\n",
       "    .dataframe thead th {\n",
       "        text-align: right;\n",
       "    }\n",
       "</style>\n",
       "<table border=\"1\" class=\"dataframe\">\n",
       "  <thead>\n",
       "    <tr style=\"text-align: right;\">\n",
       "      <th></th>\n",
       "      <th>Type</th>\n",
       "      <th>Price_sale</th>\n",
       "      <th>Sale_off</th>\n",
       "      <th>Total_sold</th>\n",
       "      <th>Preview</th>\n",
       "      <th>Location</th>\n",
       "      <th>Price_original</th>\n",
       "      <th>Ship_price</th>\n",
       "      <th>Sale_rating</th>\n",
       "      <th>Ship_on_time</th>\n",
       "      <th>Chat_response</th>\n",
       "      <th>One_star</th>\n",
       "      <th>Two_star</th>\n",
       "      <th>Three_star</th>\n",
       "      <th>Four_star</th>\n",
       "      <th>Five_star</th>\n",
       "    </tr>\n",
       "  </thead>\n",
       "  <tbody>\n",
       "    <tr>\n",
       "      <th>0</th>\n",
       "      <td>Trang sức</td>\n",
       "      <td>87152</td>\n",
       "      <td>46</td>\n",
       "      <td>1700</td>\n",
       "      <td>294</td>\n",
       "      <td>Ha Noi</td>\n",
       "      <td>160000</td>\n",
       "      <td>32700</td>\n",
       "      <td>98</td>\n",
       "      <td>100</td>\n",
       "      <td>100</td>\n",
       "      <td>1</td>\n",
       "      <td>2</td>\n",
       "      <td>1</td>\n",
       "      <td>3</td>\n",
       "      <td>287</td>\n",
       "    </tr>\n",
       "    <tr>\n",
       "      <th>1</th>\n",
       "      <td>Trang sức</td>\n",
       "      <td>29432</td>\n",
       "      <td>54</td>\n",
       "      <td>43</td>\n",
       "      <td>16</td>\n",
       "      <td>Nước ngoài</td>\n",
       "      <td>64000</td>\n",
       "      <td>17000</td>\n",
       "      <td>96</td>\n",
       "      <td>89</td>\n",
       "      <td>100</td>\n",
       "      <td>1</td>\n",
       "      <td>0</td>\n",
       "      <td>0</td>\n",
       "      <td>0</td>\n",
       "      <td>15</td>\n",
       "    </tr>\n",
       "    <tr>\n",
       "      <th>2</th>\n",
       "      <td>Trang sức</td>\n",
       "      <td>104155</td>\n",
       "      <td>54</td>\n",
       "      <td>132</td>\n",
       "      <td>45</td>\n",
       "      <td>Ha Noi</td>\n",
       "      <td>227943</td>\n",
       "      <td>21700</td>\n",
       "      <td>98</td>\n",
       "      <td>100</td>\n",
       "      <td></td>\n",
       "      <td>1</td>\n",
       "      <td>0</td>\n",
       "      <td>0</td>\n",
       "      <td>2</td>\n",
       "      <td>42</td>\n",
       "    </tr>\n",
       "    <tr>\n",
       "      <th>3</th>\n",
       "      <td>Trang sức</td>\n",
       "      <td>225875</td>\n",
       "      <td>55</td>\n",
       "      <td>49</td>\n",
       "      <td>13</td>\n",
       "      <td>An Giang</td>\n",
       "      <td>500000</td>\n",
       "      <td>28700</td>\n",
       "      <td>97</td>\n",
       "      <td>82</td>\n",
       "      <td>82</td>\n",
       "      <td>0</td>\n",
       "      <td>0</td>\n",
       "      <td>0</td>\n",
       "      <td>0</td>\n",
       "      <td>13</td>\n",
       "    </tr>\n",
       "    <tr>\n",
       "      <th>4</th>\n",
       "      <td>Trang sức</td>\n",
       "      <td>35000</td>\n",
       "      <td>50</td>\n",
       "      <td>446</td>\n",
       "      <td>118</td>\n",
       "      <td>Nước ngoài</td>\n",
       "      <td>70000</td>\n",
       "      <td>17000</td>\n",
       "      <td>95</td>\n",
       "      <td>97</td>\n",
       "      <td>100</td>\n",
       "      <td>1</td>\n",
       "      <td>1</td>\n",
       "      <td>2</td>\n",
       "      <td>4</td>\n",
       "      <td>110</td>\n",
       "    </tr>\n",
       "    <tr>\n",
       "      <th>...</th>\n",
       "      <td>...</td>\n",
       "      <td>...</td>\n",
       "      <td>...</td>\n",
       "      <td>...</td>\n",
       "      <td>...</td>\n",
       "      <td>...</td>\n",
       "      <td>...</td>\n",
       "      <td>...</td>\n",
       "      <td>...</td>\n",
       "      <td>...</td>\n",
       "      <td>...</td>\n",
       "      <td>...</td>\n",
       "      <td>...</td>\n",
       "      <td>...</td>\n",
       "      <td>...</td>\n",
       "      <td>...</td>\n",
       "    </tr>\n",
       "    <tr>\n",
       "      <th>85</th>\n",
       "      <td>Trang sức</td>\n",
       "      <td>34225</td>\n",
       "      <td>54</td>\n",
       "      <td>15</td>\n",
       "      <td>3</td>\n",
       "      <td>Nước ngoài</td>\n",
       "      <td>74000</td>\n",
       "      <td>17000</td>\n",
       "      <td>96</td>\n",
       "      <td>99</td>\n",
       "      <td>100</td>\n",
       "      <td>0</td>\n",
       "      <td>0</td>\n",
       "      <td>0</td>\n",
       "      <td>0</td>\n",
       "      <td>4</td>\n",
       "    </tr>\n",
       "    <tr>\n",
       "      <th>86</th>\n",
       "      <td>Trang sức</td>\n",
       "      <td>20900</td>\n",
       "      <td>49</td>\n",
       "      <td>12</td>\n",
       "      <td>1</td>\n",
       "      <td>Nước ngoài</td>\n",
       "      <td>41000</td>\n",
       "      <td>17000</td>\n",
       "      <td>95</td>\n",
       "      <td>100</td>\n",
       "      <td>None</td>\n",
       "      <td>0</td>\n",
       "      <td>0</td>\n",
       "      <td>0</td>\n",
       "      <td>1</td>\n",
       "      <td>None</td>\n",
       "    </tr>\n",
       "    <tr>\n",
       "      <th>87</th>\n",
       "      <td>Trang sức</td>\n",
       "      <td>188000</td>\n",
       "      <td>62</td>\n",
       "      <td>256</td>\n",
       "      <td>53</td>\n",
       "      <td>Ha Noi</td>\n",
       "      <td>500000</td>\n",
       "      <td>32700</td>\n",
       "      <td>94</td>\n",
       "      <td>100</td>\n",
       "      <td>100</td>\n",
       "      <td>0</td>\n",
       "      <td>1</td>\n",
       "      <td>2</td>\n",
       "      <td>0</td>\n",
       "      <td>50</td>\n",
       "    </tr>\n",
       "    <tr>\n",
       "      <th>88</th>\n",
       "      <td>Trang sức</td>\n",
       "      <td>15331</td>\n",
       "      <td>31</td>\n",
       "      <td>26</td>\n",
       "      <td>9</td>\n",
       "      <td>Nước ngoài</td>\n",
       "      <td>22134</td>\n",
       "      <td>17000</td>\n",
       "      <td>93</td>\n",
       "      <td>100</td>\n",
       "      <td>nan</td>\n",
       "      <td>0</td>\n",
       "      <td>0</td>\n",
       "      <td>0</td>\n",
       "      <td>0</td>\n",
       "      <td>9</td>\n",
       "    </tr>\n",
       "    <tr>\n",
       "      <th>89</th>\n",
       "      <td>Trang sức</td>\n",
       "      <td>66913</td>\n",
       "      <td>25</td>\n",
       "      <td>38</td>\n",
       "      <td>7</td>\n",
       "      <td>Ho Chi Minh</td>\n",
       "      <td>89000</td>\n",
       "      <td>16500</td>\n",
       "      <td>97</td>\n",
       "      <td>99</td>\n",
       "      <td>87</td>\n",
       "      <td>0</td>\n",
       "      <td>0</td>\n",
       "      <td>0</td>\n",
       "      <td>7</td>\n",
       "      <td>None</td>\n",
       "    </tr>\n",
       "  </tbody>\n",
       "</table>\n",
       "<p>90 rows × 16 columns</p>\n",
       "</div>"
      ],
      "text/plain": [
       "         Type Price_sale Sale_off Total_sold Preview     Location  \\\n",
       "0   Trang sức      87152       46       1700     294       Ha Noi   \n",
       "1   Trang sức      29432       54         43      16   Nước ngoài   \n",
       "2   Trang sức     104155       54        132      45       Ha Noi   \n",
       "3   Trang sức     225875       55         49      13     An Giang   \n",
       "4   Trang sức      35000       50        446     118   Nước ngoài   \n",
       "..        ...        ...      ...        ...     ...          ...   \n",
       "85  Trang sức      34225       54         15       3   Nước ngoài   \n",
       "86  Trang sức      20900       49         12       1   Nước ngoài   \n",
       "87  Trang sức     188000       62        256      53       Ha Noi   \n",
       "88  Trang sức      15331       31         26       9   Nước ngoài   \n",
       "89  Trang sức      66913       25         38       7  Ho Chi Minh   \n",
       "\n",
       "   Price_original Ship_price Sale_rating Ship_on_time Chat_response One_star  \\\n",
       "0          160000      32700          98          100           100        1   \n",
       "1           64000      17000          96           89           100        1   \n",
       "2          227943      21700          98          100                      1   \n",
       "3          500000      28700          97           82            82        0   \n",
       "4           70000      17000          95           97           100        1   \n",
       "..            ...        ...         ...          ...           ...      ...   \n",
       "85          74000      17000          96           99           100        0   \n",
       "86          41000      17000          95          100          None        0   \n",
       "87         500000      32700          94          100           100        0   \n",
       "88          22134      17000          93          100           nan        0   \n",
       "89          89000      16500          97           99            87        0   \n",
       "\n",
       "   Two_star Three_star Four_star Five_star  \n",
       "0         2          1         3       287  \n",
       "1         0          0         0        15  \n",
       "2         0          0         2        42  \n",
       "3         0          0         0        13  \n",
       "4         1          2         4       110  \n",
       "..      ...        ...       ...       ...  \n",
       "85        0          0         0         4  \n",
       "86        0          0         1      None  \n",
       "87        1          2         0        50  \n",
       "88        0          0         0         9  \n",
       "89        0          0         7      None  \n",
       "\n",
       "[90 rows x 16 columns]"
      ]
     },
     "execution_count": 47,
     "metadata": {},
     "output_type": "execute_result"
    }
   ],
   "source": [
    "new_df"
   ]
  },
  {
   "cell_type": "code",
   "execution_count": 48,
   "id": "dc707fb3",
   "metadata": {},
   "outputs": [
    {
     "data": {
      "text/html": [
       "<div>\n",
       "<style scoped>\n",
       "    .dataframe tbody tr th:only-of-type {\n",
       "        vertical-align: middle;\n",
       "    }\n",
       "\n",
       "    .dataframe tbody tr th {\n",
       "        vertical-align: top;\n",
       "    }\n",
       "\n",
       "    .dataframe thead th {\n",
       "        text-align: right;\n",
       "    }\n",
       "</style>\n",
       "<table border=\"1\" class=\"dataframe\">\n",
       "  <thead>\n",
       "    <tr style=\"text-align: right;\">\n",
       "      <th></th>\n",
       "      <th>Type</th>\n",
       "      <th>Price_sale</th>\n",
       "      <th>Sale_off</th>\n",
       "      <th>Total_sold</th>\n",
       "      <th>Preview</th>\n",
       "      <th>Location</th>\n",
       "      <th>Price_original</th>\n",
       "      <th>Ship_price</th>\n",
       "      <th>Sale_rating</th>\n",
       "      <th>Ship_on_time</th>\n",
       "      <th>Chat_response</th>\n",
       "      <th>One_star</th>\n",
       "      <th>Two_star</th>\n",
       "      <th>Three_star</th>\n",
       "      <th>Four_star</th>\n",
       "      <th>Five_star</th>\n",
       "    </tr>\n",
       "  </thead>\n",
       "  <tbody>\n",
       "    <tr>\n",
       "      <th>0</th>\n",
       "      <td>Trang sức</td>\n",
       "      <td>6848</td>\n",
       "      <td>46</td>\n",
       "      <td>1900</td>\n",
       "      <td>594</td>\n",
       "      <td>Ho Chi Minh</td>\n",
       "      <td>22906</td>\n",
       "      <td>17000</td>\n",
       "      <td>96</td>\n",
       "      <td>95</td>\n",
       "      <td>96</td>\n",
       "      <td>13</td>\n",
       "      <td>8</td>\n",
       "      <td>15</td>\n",
       "      <td>14</td>\n",
       "      <td>544</td>\n",
       "    </tr>\n",
       "    <tr>\n",
       "      <th>1</th>\n",
       "      <td>Trang sức</td>\n",
       "      <td>7458</td>\n",
       "      <td>58</td>\n",
       "      <td>2000</td>\n",
       "      <td>406</td>\n",
       "      <td>Ho Chi Minh</td>\n",
       "      <td>17600</td>\n",
       "      <td>16500</td>\n",
       "      <td>97</td>\n",
       "      <td>89</td>\n",
       "      <td>100</td>\n",
       "      <td>6</td>\n",
       "      <td>1</td>\n",
       "      <td>9</td>\n",
       "      <td>17</td>\n",
       "      <td>373</td>\n",
       "    </tr>\n",
       "    <tr>\n",
       "      <th>2</th>\n",
       "      <td>Trang sức</td>\n",
       "      <td>16000</td>\n",
       "      <td>47</td>\n",
       "      <td>1200</td>\n",
       "      <td>239</td>\n",
       "      <td>Ho Chi Minh</td>\n",
       "      <td>34000</td>\n",
       "      <td>17000</td>\n",
       "      <td>93</td>\n",
       "      <td>98</td>\n",
       "      <td>100</td>\n",
       "      <td>7</td>\n",
       "      <td>0</td>\n",
       "      <td>3</td>\n",
       "      <td>9</td>\n",
       "      <td>220</td>\n",
       "    </tr>\n",
       "    <tr>\n",
       "      <th>3</th>\n",
       "      <td>Trang sức</td>\n",
       "      <td>4850</td>\n",
       "      <td>49</td>\n",
       "      <td>82</td>\n",
       "      <td>21</td>\n",
       "      <td>Ho Chi Minh</td>\n",
       "      <td>9534</td>\n",
       "      <td>17000</td>\n",
       "      <td>96</td>\n",
       "      <td>100</td>\n",
       "      <td>83</td>\n",
       "      <td>0</td>\n",
       "      <td>0</td>\n",
       "      <td>0</td>\n",
       "      <td>21</td>\n",
       "      <td>None</td>\n",
       "    </tr>\n",
       "    <tr>\n",
       "      <th>4</th>\n",
       "      <td>Trang sức</td>\n",
       "      <td>5000</td>\n",
       "      <td>44</td>\n",
       "      <td>1200</td>\n",
       "      <td>222</td>\n",
       "      <td>Ho Chi Minh</td>\n",
       "      <td>9000</td>\n",
       "      <td>17000</td>\n",
       "      <td>95</td>\n",
       "      <td>99</td>\n",
       "      <td>62</td>\n",
       "      <td>12</td>\n",
       "      <td>4</td>\n",
       "      <td>6</td>\n",
       "      <td>13</td>\n",
       "      <td>187</td>\n",
       "    </tr>\n",
       "    <tr>\n",
       "      <th>...</th>\n",
       "      <td>...</td>\n",
       "      <td>...</td>\n",
       "      <td>...</td>\n",
       "      <td>...</td>\n",
       "      <td>...</td>\n",
       "      <td>...</td>\n",
       "      <td>...</td>\n",
       "      <td>...</td>\n",
       "      <td>...</td>\n",
       "      <td>...</td>\n",
       "      <td>...</td>\n",
       "      <td>...</td>\n",
       "      <td>...</td>\n",
       "      <td>...</td>\n",
       "      <td>...</td>\n",
       "      <td>...</td>\n",
       "    </tr>\n",
       "    <tr>\n",
       "      <th>1195</th>\n",
       "      <td>Trang sức</td>\n",
       "      <td>34225</td>\n",
       "      <td>54</td>\n",
       "      <td>15</td>\n",
       "      <td>3</td>\n",
       "      <td>Nước ngoài</td>\n",
       "      <td>74000</td>\n",
       "      <td>17000</td>\n",
       "      <td>96</td>\n",
       "      <td>99</td>\n",
       "      <td>100</td>\n",
       "      <td>0</td>\n",
       "      <td>0</td>\n",
       "      <td>0</td>\n",
       "      <td>0</td>\n",
       "      <td>4</td>\n",
       "    </tr>\n",
       "    <tr>\n",
       "      <th>1196</th>\n",
       "      <td>Trang sức</td>\n",
       "      <td>20900</td>\n",
       "      <td>49</td>\n",
       "      <td>12</td>\n",
       "      <td>1</td>\n",
       "      <td>Nước ngoài</td>\n",
       "      <td>41000</td>\n",
       "      <td>17000</td>\n",
       "      <td>95</td>\n",
       "      <td>100</td>\n",
       "      <td>None</td>\n",
       "      <td>0</td>\n",
       "      <td>0</td>\n",
       "      <td>0</td>\n",
       "      <td>1</td>\n",
       "      <td>None</td>\n",
       "    </tr>\n",
       "    <tr>\n",
       "      <th>1197</th>\n",
       "      <td>Trang sức</td>\n",
       "      <td>188000</td>\n",
       "      <td>62</td>\n",
       "      <td>256</td>\n",
       "      <td>53</td>\n",
       "      <td>Ha Noi</td>\n",
       "      <td>500000</td>\n",
       "      <td>32700</td>\n",
       "      <td>94</td>\n",
       "      <td>100</td>\n",
       "      <td>100</td>\n",
       "      <td>0</td>\n",
       "      <td>1</td>\n",
       "      <td>2</td>\n",
       "      <td>0</td>\n",
       "      <td>50</td>\n",
       "    </tr>\n",
       "    <tr>\n",
       "      <th>1198</th>\n",
       "      <td>Trang sức</td>\n",
       "      <td>15331</td>\n",
       "      <td>31</td>\n",
       "      <td>26</td>\n",
       "      <td>9</td>\n",
       "      <td>Nước ngoài</td>\n",
       "      <td>22134</td>\n",
       "      <td>17000</td>\n",
       "      <td>93</td>\n",
       "      <td>100</td>\n",
       "      <td>nan</td>\n",
       "      <td>0</td>\n",
       "      <td>0</td>\n",
       "      <td>0</td>\n",
       "      <td>0</td>\n",
       "      <td>9</td>\n",
       "    </tr>\n",
       "    <tr>\n",
       "      <th>1199</th>\n",
       "      <td>Trang sức</td>\n",
       "      <td>66913</td>\n",
       "      <td>25</td>\n",
       "      <td>38</td>\n",
       "      <td>7</td>\n",
       "      <td>Ho Chi Minh</td>\n",
       "      <td>89000</td>\n",
       "      <td>16500</td>\n",
       "      <td>97</td>\n",
       "      <td>99</td>\n",
       "      <td>87</td>\n",
       "      <td>0</td>\n",
       "      <td>0</td>\n",
       "      <td>0</td>\n",
       "      <td>7</td>\n",
       "      <td>None</td>\n",
       "    </tr>\n",
       "  </tbody>\n",
       "</table>\n",
       "<p>1200 rows × 16 columns</p>\n",
       "</div>"
      ],
      "text/plain": [
       "           Type Price_sale Sale_off Total_sold Preview     Location  \\\n",
       "0     Trang sức       6848       46       1900     594  Ho Chi Minh   \n",
       "1     Trang sức       7458       58       2000     406  Ho Chi Minh   \n",
       "2     Trang sức      16000       47       1200     239  Ho Chi Minh   \n",
       "3     Trang sức       4850       49         82      21  Ho Chi Minh   \n",
       "4     Trang sức       5000       44       1200     222  Ho Chi Minh   \n",
       "...         ...        ...      ...        ...     ...          ...   \n",
       "1195  Trang sức      34225       54         15       3   Nước ngoài   \n",
       "1196  Trang sức      20900       49         12       1   Nước ngoài   \n",
       "1197  Trang sức     188000       62        256      53       Ha Noi   \n",
       "1198  Trang sức      15331       31         26       9   Nước ngoài   \n",
       "1199  Trang sức      66913       25         38       7  Ho Chi Minh   \n",
       "\n",
       "     Price_original Ship_price Sale_rating Ship_on_time Chat_response  \\\n",
       "0             22906      17000          96           95            96   \n",
       "1             17600      16500          97           89           100   \n",
       "2             34000      17000          93           98           100   \n",
       "3              9534      17000          96          100            83   \n",
       "4              9000      17000          95           99            62   \n",
       "...             ...        ...         ...          ...           ...   \n",
       "1195          74000      17000          96           99           100   \n",
       "1196          41000      17000          95          100          None   \n",
       "1197         500000      32700          94          100           100   \n",
       "1198          22134      17000          93          100           nan   \n",
       "1199          89000      16500          97           99            87   \n",
       "\n",
       "     One_star Two_star Three_star Four_star Five_star  \n",
       "0          13        8         15        14       544  \n",
       "1           6        1          9        17       373  \n",
       "2           7        0          3         9       220  \n",
       "3           0        0          0        21      None  \n",
       "4          12        4          6        13       187  \n",
       "...       ...      ...        ...       ...       ...  \n",
       "1195        0        0          0         0         4  \n",
       "1196        0        0          0         1      None  \n",
       "1197        0        1          2         0        50  \n",
       "1198        0        0          0         0         9  \n",
       "1199        0        0          0         7      None  \n",
       "\n",
       "[1200 rows x 16 columns]"
      ]
     },
     "execution_count": 48,
     "metadata": {},
     "output_type": "execute_result"
    }
   ],
   "source": [
    "result_data = pd.concat([cleaned_df, new_df], ignore_index=True)\n",
    "result_data "
   ]
  },
  {
   "cell_type": "code",
   "execution_count": 49,
   "id": "b9c56bc1",
   "metadata": {},
   "outputs": [],
   "source": [
    "result_data.to_csv(\"Data_Jewelry_After_LLMs.csv\", index=False)"
   ]
  },
  {
   "cell_type": "code",
   "execution_count": null,
   "id": "4c863254",
   "metadata": {},
   "outputs": [],
   "source": []
  }
 ],
 "metadata": {
  "kernelspec": {
   "display_name": "Python 3 (ipykernel)",
   "language": "python",
   "name": "python3"
  },
  "language_info": {
   "codemirror_mode": {
    "name": "ipython",
    "version": 3
   },
   "file_extension": ".py",
   "mimetype": "text/x-python",
   "name": "python",
   "nbconvert_exporter": "python",
   "pygments_lexer": "ipython3",
   "version": "3.11.5"
  }
 },
 "nbformat": 4,
 "nbformat_minor": 5
}
