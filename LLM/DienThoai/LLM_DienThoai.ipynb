{
 "cells": [
  {
   "cell_type": "code",
   "execution_count": 18,
   "metadata": {},
   "outputs": [],
   "source": [
    "import os\n",
    "import requests\n",
    "import pandas as pd\n",
    "import unidecode\n",
    "from tqdm import tqdm"
   ]
  },
  {
   "cell_type": "code",
   "execution_count": 19,
   "metadata": {},
   "outputs": [
    {
     "data": {
      "text/html": [
       "<div>\n",
       "<style scoped>\n",
       "    .dataframe tbody tr th:only-of-type {\n",
       "        vertical-align: middle;\n",
       "    }\n",
       "\n",
       "    .dataframe tbody tr th {\n",
       "        vertical-align: top;\n",
       "    }\n",
       "\n",
       "    .dataframe thead th {\n",
       "        text-align: right;\n",
       "    }\n",
       "</style>\n",
       "<table border=\"1\" class=\"dataframe\">\n",
       "  <thead>\n",
       "    <tr style=\"text-align: right;\">\n",
       "      <th></th>\n",
       "      <th>Type</th>\n",
       "      <th>Price_sale</th>\n",
       "      <th>Sale_off</th>\n",
       "      <th>Total_sold</th>\n",
       "      <th>Preview</th>\n",
       "      <th>Location</th>\n",
       "      <th>Price_original</th>\n",
       "      <th>Ship_price</th>\n",
       "      <th>Sale_rating</th>\n",
       "      <th>Ship_on_time</th>\n",
       "      <th>Chat_response</th>\n",
       "      <th>One_star</th>\n",
       "      <th>Two_star</th>\n",
       "      <th>Three_star</th>\n",
       "      <th>Four_star</th>\n",
       "      <th>Five_star</th>\n",
       "    </tr>\n",
       "  </thead>\n",
       "  <tbody>\n",
       "    <tr>\n",
       "      <th>0</th>\n",
       "      <td>dien thoai</td>\n",
       "      <td>41.990.000 ₫</td>\n",
       "      <td>7% Off</td>\n",
       "      <td>11 Đã bán</td>\n",
       "      <td>NaN</td>\n",
       "      <td>Hồ Chí Minh</td>\n",
       "      <td>44.990.000 ₫</td>\n",
       "      <td>20.100 ₫</td>\n",
       "      <td>99%</td>\n",
       "      <td>100%</td>\n",
       "      <td>75%</td>\n",
       "      <td>0</td>\n",
       "      <td>0</td>\n",
       "      <td>0</td>\n",
       "      <td>0</td>\n",
       "      <td>0</td>\n",
       "    </tr>\n",
       "    <tr>\n",
       "      <th>1</th>\n",
       "      <td>dien thoai</td>\n",
       "      <td>39.890.000 ₫</td>\n",
       "      <td>10% Off</td>\n",
       "      <td>NaN</td>\n",
       "      <td>NaN</td>\n",
       "      <td>Hà Nội</td>\n",
       "      <td>44.490.000 ₫</td>\n",
       "      <td>38.000 ₫</td>\n",
       "      <td>99%</td>\n",
       "      <td>100%</td>\n",
       "      <td>85%</td>\n",
       "      <td>0</td>\n",
       "      <td>0</td>\n",
       "      <td>0</td>\n",
       "      <td>0</td>\n",
       "      <td>0</td>\n",
       "    </tr>\n",
       "    <tr>\n",
       "      <th>2</th>\n",
       "      <td>dien thoai</td>\n",
       "      <td>37.590.001 ₫</td>\n",
       "      <td>16% Off</td>\n",
       "      <td>24 Đã bán</td>\n",
       "      <td>(2)</td>\n",
       "      <td>Hồ Chí Minh</td>\n",
       "      <td>44.490.000 ₫</td>\n",
       "      <td>NaN</td>\n",
       "      <td>90%</td>\n",
       "      <td>NaN</td>\n",
       "      <td>100%</td>\n",
       "      <td>0</td>\n",
       "      <td>0</td>\n",
       "      <td>0</td>\n",
       "      <td>0</td>\n",
       "      <td>2</td>\n",
       "    </tr>\n",
       "    <tr>\n",
       "      <th>3</th>\n",
       "      <td>dien thoai</td>\n",
       "      <td>36.990.000 ₫</td>\n",
       "      <td>NaN</td>\n",
       "      <td>NaN</td>\n",
       "      <td>NaN</td>\n",
       "      <td>Hồ Chí Minh</td>\n",
       "      <td>NaN</td>\n",
       "      <td>16.500 ₫</td>\n",
       "      <td>98%</td>\n",
       "      <td>82%</td>\n",
       "      <td>100%</td>\n",
       "      <td>0</td>\n",
       "      <td>0</td>\n",
       "      <td>0</td>\n",
       "      <td>0</td>\n",
       "      <td>0</td>\n",
       "    </tr>\n",
       "    <tr>\n",
       "      <th>4</th>\n",
       "      <td>dien thoai</td>\n",
       "      <td>32.126.000 ₫</td>\n",
       "      <td>NaN</td>\n",
       "      <td>28 Đã bán</td>\n",
       "      <td>(1)</td>\n",
       "      <td>Hồ Chí Minh</td>\n",
       "      <td>38.470.000 ₫</td>\n",
       "      <td>18.300 ₫</td>\n",
       "      <td>98%</td>\n",
       "      <td>100%</td>\n",
       "      <td>100%</td>\n",
       "      <td>0</td>\n",
       "      <td>0</td>\n",
       "      <td>0</td>\n",
       "      <td>0</td>\n",
       "      <td>1</td>\n",
       "    </tr>\n",
       "    <tr>\n",
       "      <th>5</th>\n",
       "      <td>dien thoai</td>\n",
       "      <td>31.990.000 ₫</td>\n",
       "      <td>6% Off</td>\n",
       "      <td>1.3K Đã bán</td>\n",
       "      <td>(305)</td>\n",
       "      <td>Hồ Chí Minh</td>\n",
       "      <td>33.990.000 ₫</td>\n",
       "      <td>16.500 ₫</td>\n",
       "      <td>91%</td>\n",
       "      <td>99%</td>\n",
       "      <td>100%</td>\n",
       "      <td>2</td>\n",
       "      <td>0</td>\n",
       "      <td>1</td>\n",
       "      <td>0</td>\n",
       "      <td>302</td>\n",
       "    </tr>\n",
       "    <tr>\n",
       "      <th>6</th>\n",
       "      <td>dien thoai</td>\n",
       "      <td>31.590.000 ₫</td>\n",
       "      <td>16% Off</td>\n",
       "      <td>21 Đã bán</td>\n",
       "      <td>(2)</td>\n",
       "      <td>Hồ Chí Minh</td>\n",
       "      <td>37.490.000 ₫</td>\n",
       "      <td>NaN</td>\n",
       "      <td>90%</td>\n",
       "      <td>NaN</td>\n",
       "      <td>100%</td>\n",
       "      <td>0</td>\n",
       "      <td>0</td>\n",
       "      <td>0</td>\n",
       "      <td>0</td>\n",
       "      <td>3</td>\n",
       "    </tr>\n",
       "    <tr>\n",
       "      <th>7</th>\n",
       "      <td>dien thoai</td>\n",
       "      <td>30.090.000 ₫</td>\n",
       "      <td>15% Off</td>\n",
       "      <td>82 Đã bán</td>\n",
       "      <td>(10)</td>\n",
       "      <td>Hà Nội</td>\n",
       "      <td>35.990.000 ₫</td>\n",
       "      <td>38.000 ₫</td>\n",
       "      <td>99%</td>\n",
       "      <td>100%</td>\n",
       "      <td>85%</td>\n",
       "      <td>0</td>\n",
       "      <td>0</td>\n",
       "      <td>0</td>\n",
       "      <td>0</td>\n",
       "      <td>10</td>\n",
       "    </tr>\n",
       "    <tr>\n",
       "      <th>8</th>\n",
       "      <td>dien thoai</td>\n",
       "      <td>29.517.000 ₫</td>\n",
       "      <td>11% Off</td>\n",
       "      <td>6 Đã bán</td>\n",
       "      <td>NaN</td>\n",
       "      <td>Hồ Chí Minh</td>\n",
       "      <td>32.990.000 ₫</td>\n",
       "      <td>18.300 ₫</td>\n",
       "      <td>99%</td>\n",
       "      <td>100%</td>\n",
       "      <td>100%</td>\n",
       "      <td>0</td>\n",
       "      <td>0</td>\n",
       "      <td>0</td>\n",
       "      <td>0</td>\n",
       "      <td>0</td>\n",
       "    </tr>\n",
       "    <tr>\n",
       "      <th>9</th>\n",
       "      <td>dien thoai</td>\n",
       "      <td>29.590.000 ₫</td>\n",
       "      <td>15% Off</td>\n",
       "      <td>11.2K Đã bán</td>\n",
       "      <td>(2631)</td>\n",
       "      <td>Hồ Chí Minh</td>\n",
       "      <td>34.999.000 ₫</td>\n",
       "      <td>5.500 ₫</td>\n",
       "      <td>94%</td>\n",
       "      <td>98%</td>\n",
       "      <td>100%</td>\n",
       "      <td>30</td>\n",
       "      <td>3</td>\n",
       "      <td>8</td>\n",
       "      <td>9</td>\n",
       "      <td>2578</td>\n",
       "    </tr>\n",
       "  </tbody>\n",
       "</table>\n",
       "</div>"
      ],
      "text/plain": [
       "         Type    Price_sale Sale_off    Total_sold Preview     Location  \\\n",
       "0  dien thoai  41.990.000 ₫   7% Off     11 Đã bán     NaN  Hồ Chí Minh   \n",
       "1  dien thoai  39.890.000 ₫  10% Off           NaN     NaN       Hà Nội   \n",
       "2  dien thoai  37.590.001 ₫  16% Off     24 Đã bán     (2)  Hồ Chí Minh   \n",
       "3  dien thoai  36.990.000 ₫      NaN           NaN     NaN  Hồ Chí Minh   \n",
       "4  dien thoai  32.126.000 ₫      NaN     28 Đã bán     (1)  Hồ Chí Minh   \n",
       "5  dien thoai  31.990.000 ₫   6% Off   1.3K Đã bán   (305)  Hồ Chí Minh   \n",
       "6  dien thoai  31.590.000 ₫  16% Off     21 Đã bán     (2)  Hồ Chí Minh   \n",
       "7  dien thoai  30.090.000 ₫  15% Off     82 Đã bán    (10)       Hà Nội   \n",
       "8  dien thoai  29.517.000 ₫  11% Off      6 Đã bán     NaN  Hồ Chí Minh   \n",
       "9  dien thoai  29.590.000 ₫  15% Off  11.2K Đã bán  (2631)  Hồ Chí Minh   \n",
       "\n",
       "  Price_original Ship_price Sale_rating Ship_on_time Chat_response  One_star  \\\n",
       "0   44.990.000 ₫   20.100 ₫         99%         100%           75%         0   \n",
       "1   44.490.000 ₫   38.000 ₫         99%         100%           85%         0   \n",
       "2   44.490.000 ₫        NaN         90%          NaN          100%         0   \n",
       "3            NaN   16.500 ₫         98%          82%          100%         0   \n",
       "4   38.470.000 ₫   18.300 ₫         98%         100%          100%         0   \n",
       "5   33.990.000 ₫   16.500 ₫         91%          99%          100%         2   \n",
       "6   37.490.000 ₫        NaN         90%          NaN          100%         0   \n",
       "7   35.990.000 ₫   38.000 ₫         99%         100%           85%         0   \n",
       "8   32.990.000 ₫   18.300 ₫         99%         100%          100%         0   \n",
       "9   34.999.000 ₫    5.500 ₫         94%          98%          100%        30   \n",
       "\n",
       "   Two_star  Three_star  Four_star  Five_star  \n",
       "0         0           0          0          0  \n",
       "1         0           0          0          0  \n",
       "2         0           0          0          2  \n",
       "3         0           0          0          0  \n",
       "4         0           0          0          1  \n",
       "5         0           1          0        302  \n",
       "6         0           0          0          3  \n",
       "7         0           0          0         10  \n",
       "8         0           0          0          0  \n",
       "9         3           8          9       2578  "
      ]
     },
     "execution_count": 19,
     "metadata": {},
     "output_type": "execute_result"
    }
   ],
   "source": [
    "dienthoai = pd.read_csv(\"Preprocessing_DienThoai.csv\")\n",
    "dienthoai.head(10)"
   ]
  },
  {
   "cell_type": "code",
   "execution_count": 20,
   "metadata": {},
   "outputs": [],
   "source": [
    "# Khởi tạo phiên làm việc với requests\n",
    "s = requests.Session()\n",
    "\n",
    "api_base = \"https://api.endpoints.anyscale.com/v1\"\n",
    "# Replace with long-lived credentials for production\n",
    "token = \"esecret_y2flezatttwqezaw86fsemvvv2\"\n",
    "url = f\"{api_base}/chat/completions\""
   ]
  },
  {
   "cell_type": "code",
   "execution_count": 21,
   "metadata": {},
   "outputs": [],
   "source": [
    "def call_api(formatted_data):\n",
    "    body = {\n",
    "        \"model\": \"meta-llama/Meta-Llama-3-70B-Instruct\",\n",
    "        \"messages\": [\n",
    "            {\n",
    "                \"role\": \"user\",\n",
    "                \"content\": \"Bạn là 1 trợ lí ảo về AI và có nhiệm vụ chính là chuẩn hóa data một cách chính xác nhất\"\n",
    "            },\n",
    "            {\n",
    "                \"role\": \"assistant\",\n",
    "                \"content\": \"Nice to meet you! As a virtual assistant specializing in AI, my primary task is to standardize data with utmost accuracy. I'm here to help ensure that data is consistent, reliable, and ready for analysis or modeling.\\n\\nTo achieve this, I'll employ various techniques, including:\\n\\n1. **Data Profiling**: I'll analyze the data to understand its distribution, patterns, and quality. This helps identify errors, inconsistencies, and areas that require attention.\\n2. **Data Cleansing**: I'll detect and correct errors, handle missing values, and remove duplicates or irrelevant data. This ensures that the data is accurate, complete, and reliable.\\n3. **Data Transformation**: I'll convert data types, perform aggregations, and apply business rules to standardize the data format. This makes it easier to analyze and model the data.\\n4. **Data Validation**: I'll check the data against a set of rules, constraints, and formats to ensure it meets the required standards.\\n5. **Data Normalization**: I'll organize the data into a consistent structure, making it easier to manage, analyze, and scale.\\n\\nSome of the specific tasks I can perform to standardize data include:\\n\\n* Handling date and time formats\\n* Standardizing categorical variables (e.g., converting\"\n",
    "            },\n",
    "            {\n",
    "                \"role\": \"user\",\n",
    "                \"content\": \"Mỗi mục dữ liệu được ngăn cách bởi dấu |. Không bỏ bất kì 1 mục nào, không thêm bất kỳ mục nào, hãy chuẩn hóa thông tin về dạng:\\nkhông dấu, số, số, số, số, không dấu, số, số, số, số, số, số, số, số, số, số\\nNếu là None thì kết quả ghi là None.\\nNgăn cách các giá trị bằng dấu phẩy.Không hiển thị gì thêm, output trả về đúng 16 cột\\n\\ndien thoai  |  41.990.000 ₫  |  7% Off  |  11 Đã bán  |  NaN  |  Hồ Chí Minh  |  44.990.000 ₫ \\n |  20.100 ₫  |  99%  |  100%  |  75%  |  0  |  0  |  0  |  0  |  0\"\n",
    "            },\n",
    "            {\n",
    "                \"role\": \"assistant\",\n",
    "                \"content\": \"Here is the standardized data:\\n\\ndien thoai,41990000,7,11,None,Ho Chi Minh,44990000,20100,99,100,75,0,0,0,0,0\"\n",
    "            },\n",
    "            {\n",
    "                \"role\": \"user\",\n",
    "                \"content\": f\"{formatted_data}\"\n",
    "            },\n",
    "        ],\n",
    "        \"temperature\": 0,\n",
    "        \"max_tokens\": 256,\n",
    "        \"top_p\": 1,\n",
    "        \"frequency_penalty\": 0\n",
    "    }\n",
    "    response = s.post(url, headers={\"Authorization\": f\"Bearer {token}\"}, json=body)\n",
    "    return response.json()"
   ]
  },
  {
   "cell_type": "code",
   "execution_count": 22,
   "metadata": {},
   "outputs": [
    {
     "name": "stderr",
     "output_type": "stream",
     "text": [
      "Processing rows:   0%|          | 1/1200 [00:05<1:46:12,  5.31s/it]"
     ]
    },
    {
     "name": "stdout",
     "output_type": "stream",
     "text": [
      "dien thoai,41990000,7,11,None,Ho Chi Minh,44990000,20100,99,100,75,0,0,0,0,0\n"
     ]
    },
    {
     "name": "stderr",
     "output_type": "stream",
     "text": [
      "Processing rows:   0%|          | 2/1200 [00:08<1:21:18,  4.07s/it]"
     ]
    },
    {
     "name": "stdout",
     "output_type": "stream",
     "text": [
      "dien thoai,39890000,10,None,None,Ha Noi,44490000,38000,99,100,85,0,0,0,0,0\n"
     ]
    },
    {
     "name": "stderr",
     "output_type": "stream",
     "text": [
      "Processing rows:   0%|          | 3/1200 [00:11<1:15:37,  3.79s/it]"
     ]
    },
    {
     "name": "stdout",
     "output_type": "stream",
     "text": [
      "dien thoai,37590001,16,24,2,Ho Chi Minh,44490000,None,90,None,100,0,0,0,0,2\n"
     ]
    },
    {
     "name": "stderr",
     "output_type": "stream",
     "text": [
      "Processing rows:   0%|          | 4/1200 [00:15<1:11:36,  3.59s/it]"
     ]
    },
    {
     "name": "stdout",
     "output_type": "stream",
     "text": [
      "dien thoai,36990000,None,None,None,Ho Chi Minh,None,16500,98,82,100,0,0,0,0,0\n"
     ]
    },
    {
     "name": "stderr",
     "output_type": "stream",
     "text": [
      "Processing rows:   0%|          | 5/1200 [00:18<1:12:08,  3.62s/it]"
     ]
    },
    {
     "name": "stdout",
     "output_type": "stream",
     "text": [
      "dien thoai,32126000,NaN,28,1,Ho Chi Minh,38470000,18300,98,100,100,0,0,0,0,1\n"
     ]
    },
    {
     "name": "stderr",
     "output_type": "stream",
     "text": [
      "Processing rows:   0%|          | 6/1200 [00:21<1:07:40,  3.40s/it]"
     ]
    },
    {
     "name": "stdout",
     "output_type": "stream",
     "text": [
      "dien thoai,31990000,6,1300,305,Ho Chi Minh,33990000,16500,91,99,100,2,0,1,0,302\n"
     ]
    },
    {
     "name": "stderr",
     "output_type": "stream",
     "text": [
      "Processing rows:   1%|          | 7/1200 [00:25<1:08:51,  3.46s/it]"
     ]
    },
    {
     "name": "stdout",
     "output_type": "stream",
     "text": [
      "dien thoai,31590000,16,21,2,Ho Chi Minh,37490000,None,90,None,100,0,0,0,0,3\n"
     ]
    },
    {
     "name": "stderr",
     "output_type": "stream",
     "text": [
      "Processing rows:   1%|          | 8/1200 [00:29<1:09:32,  3.50s/it]"
     ]
    },
    {
     "name": "stdout",
     "output_type": "stream",
     "text": [
      "dien thoai,30090000,15,82,10,Ha Noi,35990000,38000,99,100,85,0,0,0,0,10\n"
     ]
    },
    {
     "name": "stderr",
     "output_type": "stream",
     "text": [
      "Processing rows:   1%|          | 9/1200 [00:33<1:13:14,  3.69s/it]"
     ]
    },
    {
     "name": "stdout",
     "output_type": "stream",
     "text": [
      "dien thoai,29517000,11,6,None,Ho Chi Minh,32990000,18300,99,100,100,0,0,0,0,0\n"
     ]
    },
    {
     "name": "stderr",
     "output_type": "stream",
     "text": [
      "Processing rows:   1%|          | 10/1200 [00:36<1:09:31,  3.51s/it]"
     ]
    },
    {
     "name": "stdout",
     "output_type": "stream",
     "text": [
      "dien thoai,29590000,15,11200,2631,Ho Chi Minh,34999000,5500,94,98,100,30,3,8,9,2578\n"
     ]
    },
    {
     "name": "stderr",
     "output_type": "stream",
     "text": [
      "Processing rows:   1%|          | 11/1200 [00:39<1:07:12,  3.39s/it]"
     ]
    },
    {
     "name": "stdout",
     "output_type": "stream",
     "text": [
      "dien thoai,28990000,12,None,None,Ha Noi,32990000,38000,98,100,90,0,0,0,0,0\n"
     ]
    },
    {
     "name": "stderr",
     "output_type": "stream",
     "text": [
      "Processing rows:   1%|          | 12/1200 [00:42<1:04:47,  3.27s/it]"
     ]
    },
    {
     "name": "stdout",
     "output_type": "stream",
     "text": [
      "dien thoai,28890000,11,7,1,Ha Noi,32490000,38000,99,100,85,0,0,0,0,1\n"
     ]
    },
    {
     "name": "stderr",
     "output_type": "stream",
     "text": [
      "Processing rows:   1%|          | 13/1200 [00:45<1:00:56,  3.08s/it]"
     ]
    },
    {
     "name": "stdout",
     "output_type": "stream",
     "text": [
      "dien thoai,28090000,17,13,None,Ho Chi Minh,33990000,None,90,None,100,0,0,0,0,0\n"
     ]
    },
    {
     "name": "stderr",
     "output_type": "stream",
     "text": [
      "Processing rows:   1%|          | 14/1200 [00:48<1:02:11,  3.15s/it]"
     ]
    },
    {
     "name": "stdout",
     "output_type": "stream",
     "text": [
      "dien thoai,27989000,8,123,26,Ho Chi Minh,30490000,16500,91,99,100,0,0,0,1,25\n"
     ]
    },
    {
     "name": "stderr",
     "output_type": "stream",
     "text": [
      "Processing rows:   1%|▏         | 15/1200 [00:52<1:06:09,  3.35s/it]"
     ]
    },
    {
     "name": "stdout",
     "output_type": "stream",
     "text": [
      "dien thoai,27030000,None,15,1,Ho Chi Minh,None,18300,98,100,100,0,0,0,0,1\n"
     ]
    },
    {
     "name": "stderr",
     "output_type": "stream",
     "text": [
      "Processing rows:   1%|▏         | 16/1200 [00:55<1:08:01,  3.45s/it]"
     ]
    },
    {
     "name": "stdout",
     "output_type": "stream",
     "text": [
      "dien thoai,25890000,13,None,None,Ha Noi,29790000,38000,99,100,85,0,0,0,0,0\n"
     ]
    },
    {
     "name": "stderr",
     "output_type": "stream",
     "text": [
      "Processing rows:   1%|▏         | 17/1200 [00:59<1:07:52,  3.44s/it]"
     ]
    },
    {
     "name": "stdout",
     "output_type": "stream",
     "text": [
      "dien thoai,25682000,NaN,7,1,Ho Chi Minh,25782000,19600,98,100,100,0,0,0,0,1\n"
     ]
    },
    {
     "name": "stderr",
     "output_type": "stream",
     "text": [
      "Processing rows:   2%|▏         | 18/1200 [01:02<1:08:53,  3.50s/it]"
     ]
    },
    {
     "name": "stdout",
     "output_type": "stream",
     "text": [
      "dien thoai,25590000,13,16,None,Ha Noi,29490000,38000,99,100,85,0,0,0,0,0\n"
     ]
    },
    {
     "name": "stderr",
     "output_type": "stream",
     "text": [
      "Processing rows:   2%|▏         | 19/1200 [01:06<1:06:55,  3.40s/it]"
     ]
    },
    {
     "name": "stdout",
     "output_type": "stream",
     "text": [
      "dien thoai,24898000,27,6,None,Ho Chi Minh,33990000,18300,99,99,95,0,0,0,0,0\n"
     ]
    },
    {
     "name": "stderr",
     "output_type": "stream",
     "text": [
      "Processing rows:   2%|▏         | 20/1200 [01:09<1:07:46,  3.45s/it]"
     ]
    },
    {
     "name": "stdout",
     "output_type": "stream",
     "text": [
      "dien thoai,24880000,22,None,None,Ha Noi,31990000,None,94,None,87,0,0,0,0,0\n"
     ]
    },
    {
     "name": "stderr",
     "output_type": "stream",
     "text": [
      "Processing rows:   2%|▏         | 21/1200 [01:12<1:03:07,  3.21s/it]"
     ]
    },
    {
     "name": "stdout",
     "output_type": "stream",
     "text": [
      "dien thoai,24430000,None,None,None,Ho Chi Minh,None,18300,98,100,100,0,0,0,0,0\n"
     ]
    },
    {
     "name": "stderr",
     "output_type": "stream",
     "text": [
      "Processing rows:   2%|▏         | 22/1200 [01:14<58:58,  3.00s/it]  "
     ]
    },
    {
     "name": "stdout",
     "output_type": "stream",
     "text": [
      "dien thoai,24140000,29,None,None,Ho Chi Minh,33990000,16500,98,82,100,0,0,0,0,0\n"
     ]
    },
    {
     "name": "stderr",
     "output_type": "stream",
     "text": [
      "Processing rows:   2%|▏         | 23/1200 [01:17<58:57,  3.01s/it]"
     ]
    },
    {
     "name": "stdout",
     "output_type": "stream",
     "text": [
      "dien thoai,23590000,11,14,1,Ho Chi Minh,26490000,None,90,None,100,1,0,0,0,0\n"
     ]
    },
    {
     "name": "stderr",
     "output_type": "stream",
     "text": [
      "Processing rows:   2%|▏         | 24/1200 [01:21<1:00:31,  3.09s/it]"
     ]
    },
    {
     "name": "stdout",
     "output_type": "stream",
     "text": [
      "dien thoai,22990000,None,5,None,Ho Chi Minh,None,19600,99,100,75,0,0,0,0,0\n"
     ]
    },
    {
     "name": "stderr",
     "output_type": "stream",
     "text": [
      "Processing rows:   2%|▏         | 25/1200 [01:23<59:00,  3.01s/it]  "
     ]
    },
    {
     "name": "stdout",
     "output_type": "stream",
     "text": [
      "dien thoai,22890000,15,7,None,Ha Noi,26790000,38000,99,100,85,0,0,0,0,0\n"
     ]
    },
    {
     "name": "stderr",
     "output_type": "stream",
     "text": [
      "Processing rows:   2%|▏         | 26/1200 [01:27<59:30,  3.04s/it]"
     ]
    },
    {
     "name": "stdout",
     "output_type": "stream",
     "text": [
      "dien thoai,21989000,27,2400,474,Ho Chi Minh,29990000,16500,91,99,100,16,4,3,12,440\n"
     ]
    },
    {
     "name": "stderr",
     "output_type": "stream",
     "text": [
      "Processing rows:   2%|▏         | 27/1200 [01:30<1:02:05,  3.18s/it]"
     ]
    },
    {
     "name": "stdout",
     "output_type": "stream",
     "text": [
      "dien thoai,21390000,7,None,None,Ho Chi Minh,22900000,18300,99,99,95,0,0,0,0,0\n"
     ]
    },
    {
     "name": "stderr",
     "output_type": "stream",
     "text": [
      "Processing rows:   2%|▏         | 28/1200 [01:33<1:01:55,  3.17s/it]"
     ]
    },
    {
     "name": "stdout",
     "output_type": "stream",
     "text": [
      "dien thoai,21310000,18,None,None,Ha Noi,25990000,None,94,None,87,0,0,0,0,0\n"
     ]
    },
    {
     "name": "stderr",
     "output_type": "stream",
     "text": [
      "Processing rows:   2%|▏         | 29/1200 [01:36<1:01:19,  3.14s/it]"
     ]
    },
    {
     "name": "stdout",
     "output_type": "stream",
     "text": [
      "dien thoai,21310000,None,None,None,Ho Chi Minh,None,18300,98,100,100,0,0,0,0,0\n"
     ]
    },
    {
     "name": "stderr",
     "output_type": "stream",
     "text": [
      "Processing rows:   2%|▎         | 30/1200 [01:40<1:02:38,  3.21s/it]"
     ]
    },
    {
     "name": "stdout",
     "output_type": "stream",
     "text": [
      "dien thoai,20989000,9,114,29,Ho Chi Minh,22990000,16500,91,99,100,1,1,4,1,22\n"
     ]
    },
    {
     "name": "stderr",
     "output_type": "stream",
     "text": [
      "Processing rows:   3%|▎         | 31/1200 [01:43<1:01:09,  3.14s/it]"
     ]
    },
    {
     "name": "stdout",
     "output_type": "stream",
     "text": [
      "dien thoai,20691000,10,None,None,Ha Noi,22990000,None,92,None,33,0,0,0,0,0\n"
     ]
    },
    {
     "name": "stderr",
     "output_type": "stream",
     "text": [
      "Processing rows:   3%|▎         | 32/1200 [01:46<1:04:53,  3.33s/it]"
     ]
    },
    {
     "name": "stdout",
     "output_type": "stream",
     "text": [
      "dien thoai,20090000,13,None,1,Ho Chi Minh,22990000,None,90,None,100,0,0,0,0,1\n"
     ]
    },
    {
     "name": "stderr",
     "output_type": "stream",
     "text": [
      "Processing rows:   3%|▎         | 33/1200 [01:50<1:04:04,  3.29s/it]"
     ]
    },
    {
     "name": "stdout",
     "output_type": "stream",
     "text": [
      "dien thoai,20090000,14,14,2,Ha Noi,23790000,38000,99,100,85,0,0,0,0,2\n"
     ]
    },
    {
     "name": "stderr",
     "output_type": "stream",
     "text": [
      "Processing rows:   3%|▎         | 34/1200 [01:53<1:03:53,  3.29s/it]"
     ]
    },
    {
     "name": "stdout",
     "output_type": "stream",
     "text": [
      "dien thoai,19640000,15,10,4,Ho Chi Minh,22990000,18300,99,100,100,0,0,0,0,4\n"
     ]
    },
    {
     "name": "stderr",
     "output_type": "stream",
     "text": [
      "Processing rows:   3%|▎         | 35/1200 [01:56<1:01:59,  3.19s/it]"
     ]
    },
    {
     "name": "stdout",
     "output_type": "stream",
     "text": [
      "dien thoai,19390000,31,361,51,Ho Chi Minh,27990000,5500,94,98,100,1,0,0,0,50\n"
     ]
    },
    {
     "name": "stderr",
     "output_type": "stream",
     "text": [
      "Processing rows:   3%|▎         | 36/1200 [01:59<1:02:22,  3.22s/it]"
     ]
    },
    {
     "name": "stdout",
     "output_type": "stream",
     "text": [
      "dien thoai,19190000,17,1000,236,Ho Chi Minh,25990000,5500,94,98,100,2,0,1,0,231\n"
     ]
    },
    {
     "name": "stderr",
     "output_type": "stream",
     "text": [
      "Processing rows:   3%|▎         | 37/1200 [02:03<1:03:19,  3.27s/it]"
     ]
    },
    {
     "name": "stdout",
     "output_type": "stream",
     "text": [
      "dien thoai,18190000,None,24,None,Ho Chi Minh,None,19600,98,100,100,0,0,0,0,0\n"
     ]
    },
    {
     "name": "stderr",
     "output_type": "stream",
     "text": [
      "Processing rows:   3%|▎         | 38/1200 [02:05<1:00:35,  3.13s/it]"
     ]
    },
    {
     "name": "stdout",
     "output_type": "stream",
     "text": [
      "dien thoai,17489000,42,75,12,Ho Chi Minh,29990000,20100,91,99,100,0,0,0,0,13\n"
     ]
    },
    {
     "name": "stderr",
     "output_type": "stream",
     "text": [
      "Processing rows:   3%|▎         | 39/1200 [02:08<57:25,  2.97s/it]  "
     ]
    },
    {
     "name": "stdout",
     "output_type": "stream",
     "text": [
      "dien thoai,16769000,35,None,None,Ho Chi Minh,25990000,18300,98,82,100,0,0,0,0,0\n"
     ]
    },
    {
     "name": "stderr",
     "output_type": "stream",
     "text": [
      "Processing rows:   3%|▎         | 40/1200 [02:12<1:03:00,  3.26s/it]"
     ]
    },
    {
     "name": "stdout",
     "output_type": "stream",
     "text": [
      "dien thoai,16490000,34,957,123,Ho Chi Minh,24990000,5500,94,98,100,0,0,2,2,119\n"
     ]
    },
    {
     "name": "stderr",
     "output_type": "stream",
     "text": [
      "Processing rows:   3%|▎         | 41/1200 [02:15<1:03:59,  3.31s/it]"
     ]
    },
    {
     "name": "stdout",
     "output_type": "stream",
     "text": [
      "dien thoai,41990000,7,11,None,Ho Chi Minh,44990000,20100,99,100,75,0,0,0,0,0\n"
     ]
    },
    {
     "name": "stderr",
     "output_type": "stream",
     "text": [
      "Processing rows:   4%|▎         | 42/1200 [02:18<1:03:09,  3.27s/it]"
     ]
    },
    {
     "name": "stdout",
     "output_type": "stream",
     "text": [
      "dien thoai,37590001,16,24,2,Ho Chi Minh,44490000,None,90,None,100,0,0,0,0,2\n"
     ]
    },
    {
     "name": "stderr",
     "output_type": "stream",
     "text": [
      "Processing rows:   4%|▎         | 43/1200 [02:22<1:06:04,  3.43s/it]"
     ]
    },
    {
     "name": "stdout",
     "output_type": "stream",
     "text": [
      "dien thoai,31989000,6,1300,305,Ho Chi Minh,33990000,16500,91,99,100,2,0,1,0,302\n"
     ]
    },
    {
     "name": "stderr",
     "output_type": "stream",
     "text": [
      "Processing rows:   4%|▎         | 44/1200 [02:26<1:06:24,  3.45s/it]"
     ]
    },
    {
     "name": "stdout",
     "output_type": "stream",
     "text": [
      "dien thoai,31990000,9,700,145,Bac Ninh,34990000,5500,94,98,100,1,0,1,0,143\n"
     ]
    },
    {
     "name": "stderr",
     "output_type": "stream",
     "text": [
      "Processing rows:   4%|▍         | 45/1200 [02:30<1:08:28,  3.56s/it]"
     ]
    },
    {
     "name": "stdout",
     "output_type": "stream",
     "text": [
      "dien thoai,31590000,16,21,2,Ho Chi Minh,37490000,None,90,None,100,0,0,0,0,3\n"
     ]
    },
    {
     "name": "stderr",
     "output_type": "stream",
     "text": [
      "Processing rows:   4%|▍         | 46/1200 [02:33<1:06:07,  3.44s/it]"
     ]
    },
    {
     "name": "stdout",
     "output_type": "stream",
     "text": [
      "dien thoai,30170000,25,538,168,Ho Chi Minh,39990000,19600,97,68,100,1,1,1,1,164\n"
     ]
    },
    {
     "name": "stderr",
     "output_type": "stream",
     "text": [
      "Processing rows:   4%|▍         | 47/1200 [02:35<1:00:51,  3.17s/it]"
     ]
    },
    {
     "name": "stdout",
     "output_type": "stream",
     "text": [
      "dien thoai,29517000,11,6,None,Ho Chi Minh,32990000,18300,99,100,100,0,0,0,0,0\n"
     ]
    },
    {
     "name": "stderr",
     "output_type": "stream",
     "text": [
      "Processing rows:   4%|▍         | 48/1200 [02:38<58:32,  3.05s/it]  "
     ]
    },
    {
     "name": "stdout",
     "output_type": "stream",
     "text": [
      "dien thoai,29590000,15,11200,2636,Ho Chi Minh,34999000,5500,94,98,100,30,3,8,9,2586\n"
     ]
    },
    {
     "name": "stderr",
     "output_type": "stream",
     "text": [
      "Processing rows:   4%|▍         | 49/1200 [02:42<1:01:26,  3.20s/it]"
     ]
    },
    {
     "name": "stdout",
     "output_type": "stream",
     "text": [
      "dien thoai,28990000,12,None,None,Ha Noi,32990000,38000,98,100,90,0,0,0,0,0\n"
     ]
    },
    {
     "name": "stderr",
     "output_type": "stream",
     "text": [
      "Processing rows:   4%|▍         | 50/1200 [02:44<56:55,  2.97s/it]  "
     ]
    },
    {
     "name": "stdout",
     "output_type": "stream",
     "text": [
      "dien thoai,28090000,17,13,None,Ho Chi Minh,33990000,None,90,None,100,0,0,0,0,0\n"
     ]
    },
    {
     "name": "stderr",
     "output_type": "stream",
     "text": [
      "Processing rows:   4%|▍         | 51/1200 [02:47<57:05,  2.98s/it]"
     ]
    },
    {
     "name": "stdout",
     "output_type": "stream",
     "text": [
      "dien thoai,27989000,8,123,26,Ho Chi Minh,30490000,16500,91,99,100,0,0,0,1,25\n"
     ]
    },
    {
     "name": "stderr",
     "output_type": "stream",
     "text": [
      "Processing rows:   4%|▍         | 52/1200 [02:50<56:27,  2.95s/it]"
     ]
    },
    {
     "name": "stdout",
     "output_type": "stream",
     "text": [
      "dien thoai,24898000,27,6,None,Ho Chi Minh,33990000,18300,99,99,95,0,0,0,0,0\n"
     ]
    },
    {
     "name": "stderr",
     "output_type": "stream",
     "text": [
      "Processing rows:   4%|▍         | 53/1200 [02:54<1:03:33,  3.32s/it]"
     ]
    },
    {
     "name": "stdout",
     "output_type": "stream",
     "text": [
      "dien thoai,24880000,22,None,None,Ha Noi,31990000,None,94,None,87,0,0,0,0,0\n"
     ]
    },
    {
     "name": "stderr",
     "output_type": "stream",
     "text": [
      "Processing rows:   4%|▍         | 54/1200 [02:57<1:03:48,  3.34s/it]"
     ]
    },
    {
     "name": "stdout",
     "output_type": "stream",
     "text": [
      "dien thoai,24290100,10,None,None,Ha Noi,29990000,None,94,None,87,0,0,0,0,0\n"
     ]
    },
    {
     "name": "stderr",
     "output_type": "stream",
     "text": [
      "Processing rows:   5%|▍         | 55/1200 [03:00<1:00:26,  3.17s/it]"
     ]
    },
    {
     "name": "stdout",
     "output_type": "stream",
     "text": [
      "dien thoai,24140000,29,None,None,Ho Chi Minh,33990000,16500,98,82,100,0,0,0,0,0\n"
     ]
    },
    {
     "name": "stderr",
     "output_type": "stream",
     "text": [
      "Processing rows:   5%|▍         | 56/1200 [03:03<58:41,  3.08s/it]  "
     ]
    },
    {
     "name": "stdout",
     "output_type": "stream",
     "text": [
      "dien thoai,23590000,11,14,1,Ho Chi Minh,26490000,None,90,None,100,1,0,0,0,0\n"
     ]
    },
    {
     "name": "stderr",
     "output_type": "stream",
     "text": [
      "Processing rows:   5%|▍         | 57/1200 [03:06<1:00:24,  3.17s/it]"
     ]
    },
    {
     "name": "stdout",
     "output_type": "stream",
     "text": [
      "dien thoai,23290000,31,7,3,Ho Chi Minh,44490000,0,98,100,90,0,0,0,1,2\n"
     ]
    },
    {
     "name": "stderr",
     "output_type": "stream",
     "text": [
      "Processing rows:   5%|▍         | 58/1200 [03:09<58:45,  3.09s/it]  "
     ]
    },
    {
     "name": "stdout",
     "output_type": "stream",
     "text": [
      "dien thoai,22990000,None,5,None,Ho Chi Minh,None,19600,99,100,75,0,0,0,0,0\n"
     ]
    },
    {
     "name": "stderr",
     "output_type": "stream",
     "text": [
      "Processing rows:   5%|▍         | 59/1200 [03:12<58:25,  3.07s/it]"
     ]
    },
    {
     "name": "stdout",
     "output_type": "stream",
     "text": [
      "dien thoai,21989000,27,2400,474,Ho Chi Minh,29990000,16500,91,99,100,16,4,3,12,440\n"
     ]
    },
    {
     "name": "stderr",
     "output_type": "stream",
     "text": [
      "Processing rows:   5%|▌         | 60/1200 [03:16<1:02:38,  3.30s/it]"
     ]
    },
    {
     "name": "stdout",
     "output_type": "stream",
     "text": [
      "dien thoai,21390000,7,None,None,Ho Chi Minh,22900000,18300,99,99,95,0,0,0,0,0\n"
     ]
    },
    {
     "name": "stderr",
     "output_type": "stream",
     "text": [
      "Processing rows:   5%|▌         | 61/1200 [03:19<57:40,  3.04s/it]  "
     ]
    },
    {
     "name": "stdout",
     "output_type": "stream",
     "text": [
      "dien thoai,21310000,18,None,None,Ha Noi,25990000,None,94,None,87,0,0,0,0,0\n"
     ]
    },
    {
     "name": "stderr",
     "output_type": "stream",
     "text": [
      "Processing rows:   5%|▌         | 62/1200 [03:22<58:21,  3.08s/it]"
     ]
    },
    {
     "name": "stdout",
     "output_type": "stream",
     "text": [
      "dien thoai,20989000,9,114,29,Ho Chi Minh,22990000,16500,91,99,100,1,1,4,1,22\n"
     ]
    },
    {
     "name": "stderr",
     "output_type": "stream",
     "text": [
      "Processing rows:   5%|▌         | 63/1200 [03:25<56:39,  2.99s/it]"
     ]
    },
    {
     "name": "stdout",
     "output_type": "stream",
     "text": [
      "dien thoai,20691000,10,None,None,Ha Noi,22990000,None,92,None,33,0,0,0,0,0\n"
     ]
    },
    {
     "name": "stderr",
     "output_type": "stream",
     "text": [
      "Processing rows:   5%|▌         | 64/1200 [03:29<1:03:19,  3.34s/it]"
     ]
    },
    {
     "name": "stdout",
     "output_type": "stream",
     "text": [
      "dien thoai,20090000,13,None,1,Ho Chi Minh,22990000,None,90,None,100,0,0,0,0,1\n"
     ]
    },
    {
     "name": "stderr",
     "output_type": "stream",
     "text": [
      "Processing rows:   5%|▌         | 65/1200 [03:32<1:03:53,  3.38s/it]"
     ]
    },
    {
     "name": "stdout",
     "output_type": "stream",
     "text": [
      "dien thoai,19930000,20,103,22,Ho Chi Minh,24990000,19600,97,68,100,1,0,0,0,21\n"
     ]
    },
    {
     "name": "stderr",
     "output_type": "stream",
     "text": [
      "Processing rows:   6%|▌         | 66/1200 [03:36<1:04:37,  3.42s/it]"
     ]
    },
    {
     "name": "stdout",
     "output_type": "stream",
     "text": [
      "dien thoai,19640000,15,10,4,Ho Chi Minh,22990000,18300,99,100,100,0,0,0,0,4\n"
     ]
    },
    {
     "name": "stderr",
     "output_type": "stream",
     "text": [
      "Processing rows:   6%|▌         | 67/1200 [03:39<1:05:26,  3.47s/it]"
     ]
    },
    {
     "name": "stdout",
     "output_type": "stream",
     "text": [
      "dien thoai,19190000,17,1000,236,Ho Chi Minh,22990000,5500,94,98,100,2,0,1,0,234\n"
     ]
    },
    {
     "name": "stderr",
     "output_type": "stream",
     "text": [
      "Processing rows:   6%|▌         | 68/1200 [03:43<1:05:41,  3.48s/it]"
     ]
    },
    {
     "name": "stdout",
     "output_type": "stream",
     "text": [
      "dien thoai,18990000,42,8,3,Ho Chi Minh,32990000,18300,99,100,75,0,0,0,0,2\n"
     ]
    },
    {
     "name": "stderr",
     "output_type": "stream",
     "text": [
      "Processing rows:   6%|▌         | 69/1200 [03:46<1:01:23,  3.26s/it]"
     ]
    },
    {
     "name": "stdout",
     "output_type": "stream",
     "text": [
      "dien thoai,16800000,None,None,None,Nam Định,None,202600,None,None,None,0,0,0,0,0\n"
     ]
    },
    {
     "name": "stderr",
     "output_type": "stream",
     "text": [
      "Processing rows:   6%|▌         | 70/1200 [03:49<1:01:28,  3.26s/it]"
     ]
    },
    {
     "name": "stdout",
     "output_type": "stream",
     "text": [
      "dien thoai,16769000,35,None,None,Ho Chi Minh,25990000,18300,98,82,100,0,0,0,0,0\n"
     ]
    },
    {
     "name": "stderr",
     "output_type": "stream",
     "text": [
      "Processing rows:   6%|▌         | 71/1200 [03:51<56:16,  2.99s/it]  "
     ]
    },
    {
     "name": "stdout",
     "output_type": "stream",
     "text": [
      "dien thoai,15382000,None,26,None,Ho Chi Minh,None,18300,98,100,100,0,0,0,0,0\n"
     ]
    },
    {
     "name": "stderr",
     "output_type": "stream",
     "text": [
      "Processing rows:   6%|▌         | 72/1200 [03:54<56:40,  3.01s/it]"
     ]
    },
    {
     "name": "stdout",
     "output_type": "stream",
     "text": [
      "dien thoai,14390000,20,303,70,Ha Noi,17990000,38000,99,100,85,0,0,1,3,66\n"
     ]
    },
    {
     "name": "stderr",
     "output_type": "stream",
     "text": [
      "Processing rows:   6%|▌         | 73/1200 [03:58<59:13,  3.15s/it]"
     ]
    },
    {
     "name": "stdout",
     "output_type": "stream",
     "text": [
      "dien thoai,14089000,17,67,6,Ho Chi Minh,16900000,18300,97,100,100,0,0,0,0,6\n"
     ]
    },
    {
     "name": "stderr",
     "output_type": "stream",
     "text": [
      "Processing rows:   6%|▌         | 74/1200 [04:01<59:56,  3.19s/it]"
     ]
    },
    {
     "name": "stdout",
     "output_type": "stream",
     "text": [
      "dien thoai,13990000,26,32,2,Ho Chi Minh,18990000,18300,99,100,75,0,0,0,0,2\n"
     ]
    },
    {
     "name": "stderr",
     "output_type": "stream",
     "text": [
      "Processing rows:   6%|▋         | 75/1200 [04:04<56:56,  3.04s/it]"
     ]
    },
    {
     "name": "stdout",
     "output_type": "stream",
     "text": [
      "dien thoai,12998500,23,16,2,Ho Chi Minh,16890500,None,90,None,100,0,0,0,1,2\n"
     ]
    },
    {
     "name": "stderr",
     "output_type": "stream",
     "text": [
      "Processing rows:   6%|▋         | 76/1200 [04:07<59:19,  3.17s/it]"
     ]
    },
    {
     "name": "stdout",
     "output_type": "stream",
     "text": [
      "dien thoai,12200000,18,None,1,Ha Noi,14900000,None,94,None,87,0,0,0,0,1\n"
     ]
    },
    {
     "name": "stderr",
     "output_type": "stream",
     "text": [
      "Processing rows:   6%|▋         | 77/1200 [04:10<57:34,  3.08s/it]"
     ]
    },
    {
     "name": "stdout",
     "output_type": "stream",
     "text": [
      "dien thoai,11989000,19,86,16,Ho Chi Minh,14890000,16500,91,99,100,1,0,0,0,15\n"
     ]
    },
    {
     "name": "stderr",
     "output_type": "stream",
     "text": [
      "Processing rows:   6%|▋         | 78/1200 [04:13<57:20,  3.07s/it]"
     ]
    },
    {
     "name": "stdout",
     "output_type": "stream",
     "text": [
      "dien thoai,11680000,10,35,8,Ho Chi Minh,12990000,18300,98,100,90,0,0,0,0,9\n"
     ]
    },
    {
     "name": "stderr",
     "output_type": "stream",
     "text": [
      "Processing rows:   7%|▋         | 79/1200 [04:16<54:35,  2.92s/it]"
     ]
    },
    {
     "name": "stdout",
     "output_type": "stream",
     "text": [
      "dien thoai,11617600,22,33,2,Ho Chi Minh,14889600,None,90,None,100,0,0,0,0,3\n"
     ]
    },
    {
     "name": "stderr",
     "output_type": "stream",
     "text": [
      "Processing rows:   7%|▋         | 80/1200 [04:18<53:38,  2.87s/it]"
     ]
    },
    {
     "name": "stdout",
     "output_type": "stream",
     "text": [
      "dien thoai,11039000,26,None,0,Ben Tre,14890000,28700,98,100,100,0,0,0,0,1\n"
     ]
    },
    {
     "name": "stderr",
     "output_type": "stream",
     "text": [
      "Processing rows:   7%|▋         | 81/1200 [04:21<50:18,  2.70s/it]"
     ]
    },
    {
     "name": "stdout",
     "output_type": "stream",
     "text": [
      "dien thoai,37020000,None,None,None,Ha Noi,None,38000,100,100,None,0,0,0,0,0\n"
     ]
    },
    {
     "name": "stderr",
     "output_type": "stream",
     "text": [
      "Processing rows:   7%|▋         | 82/1200 [04:23<48:55,  2.63s/it]"
     ]
    },
    {
     "name": "stdout",
     "output_type": "stream",
     "text": [
      "dien thoai,28791000,10,None,None,Ha Noi,31990000,None,94,None,87,0,0,0,0,0\n"
     ]
    },
    {
     "name": "stderr",
     "output_type": "stream",
     "text": [
      "Processing rows:   7%|▋         | 83/1200 [04:27<54:36,  2.93s/it]"
     ]
    },
    {
     "name": "stdout",
     "output_type": "stream",
     "text": [
      "dien thoai,23391000,10,None,None,Ha Noi,25990000,None,94,None,87,0,0,0,0,0\n"
     ]
    },
    {
     "name": "stderr",
     "output_type": "stream",
     "text": [
      "Processing rows:   7%|▋         | 84/1200 [04:30<55:16,  2.97s/it]"
     ]
    },
    {
     "name": "stdout",
     "output_type": "stream",
     "text": [
      "dien thoai,16990000,15,13,5,Ho Chi Minh,19990000,18300,99,100,75,0,0,0,0,5\n"
     ]
    },
    {
     "name": "stderr",
     "output_type": "stream",
     "text": [
      "Processing rows:   7%|▋         | 85/1200 [04:33<55:51,  3.01s/it]"
     ]
    },
    {
     "name": "stdout",
     "output_type": "stream",
     "text": [
      "dien thoai,10990000,None,15,1,Ho Chi Minh,None,18300,99,100,100,0,0,0,0,1\n"
     ]
    },
    {
     "name": "stderr",
     "output_type": "stream",
     "text": [
      "Processing rows:   7%|▋         | 86/1200 [04:36<55:03,  2.97s/it]"
     ]
    },
    {
     "name": "stdout",
     "output_type": "stream",
     "text": [
      "dien thoai,10500000,None,None,None,Nam Định,None,110800,None,None,None,0,0,0,0,0\n"
     ]
    },
    {
     "name": "stderr",
     "output_type": "stream",
     "text": [
      "Processing rows:   7%|▋         | 87/1200 [04:39<54:26,  2.93s/it]"
     ]
    },
    {
     "name": "stdout",
     "output_type": "stream",
     "text": [
      "dien thoai,10489500,None,None,None,Ho Chi Minh,None,16500,None,None,50,0,0,0,0,0\n"
     ]
    },
    {
     "name": "stderr",
     "output_type": "stream",
     "text": [
      "Processing rows:   7%|▋         | 88/1200 [04:42<54:59,  2.97s/it]"
     ]
    },
    {
     "name": "stdout",
     "output_type": "stream",
     "text": [
      "dien thoai,10490000,None,None,None,Ha Noi,None,19000,95,100,100,0,0,0,0,0\n"
     ]
    },
    {
     "name": "stderr",
     "output_type": "stream",
     "text": [
      "Processing rows:   7%|▋         | 89/1200 [04:45<56:18,  3.04s/it]"
     ]
    },
    {
     "name": "stdout",
     "output_type": "stream",
     "text": [
      "dien thoai,10489000,52,217,30,Ho Chi Minh,21990000,18300,91,99,100,2,0,0,2,26\n"
     ]
    },
    {
     "name": "stderr",
     "output_type": "stream",
     "text": [
      "Processing rows:   8%|▊         | 90/1200 [04:48<55:20,  2.99s/it]"
     ]
    },
    {
     "name": "stdout",
     "output_type": "stream",
     "text": [
      "dien thoai,10390000,22,None,None,Vinh Phuc,13390000,37700,100,100,100,0,0,0,0,0\n"
     ]
    },
    {
     "name": "stderr",
     "output_type": "stream",
     "text": [
      "Processing rows:   8%|▊         | 91/1200 [04:51<56:46,  3.07s/it]"
     ]
    },
    {
     "name": "stdout",
     "output_type": "stream",
     "text": [
      "dien thoai,10100000,8,6,2,Ho Chi Minh,10990000,18300,98,100,90,0,0,0,0,2\n"
     ]
    },
    {
     "name": "stderr",
     "output_type": "stream",
     "text": [
      "Processing rows:   8%|▊         | 92/1200 [04:54<54:25,  2.95s/it]"
     ]
    },
    {
     "name": "stdout",
     "output_type": "stream",
     "text": [
      "dien thoai,9990000,None,None,None,Ho Chi Minh,None,16500,None,None,50,0,0,0,0,0\n"
     ]
    },
    {
     "name": "stderr",
     "output_type": "stream",
     "text": [
      "Processing rows:   8%|▊         | 93/1200 [04:57<53:25,  2.90s/it]"
     ]
    },
    {
     "name": "stdout",
     "output_type": "stream",
     "text": [
      "dien thoai,9890000,21,38,12,Binh Duong,12490000,None,98,None,97,0,0,1,1,11\n"
     ]
    },
    {
     "name": "stderr",
     "output_type": "stream",
     "text": [
      "Processing rows:   8%|▊         | 94/1200 [05:00<54:15,  2.94s/it]"
     ]
    },
    {
     "name": "stdout",
     "output_type": "stream",
     "text": [
      "dien thoai,9790000,1,None,None,Ho Chi Minh,9900000,18300,99,99,95,0,0,0,0,0\n"
     ]
    },
    {
     "name": "stderr",
     "output_type": "stream",
     "text": [
      "Processing rows:   8%|▊         | 95/1200 [05:03<56:09,  3.05s/it]"
     ]
    },
    {
     "name": "stdout",
     "output_type": "stream",
     "text": [
      "dien thoai,9500000,None,10,None,Nam Định,None,37700,87,80,100,0,0,0,0,0\n"
     ]
    },
    {
     "name": "stderr",
     "output_type": "stream",
     "text": [
      "Processing rows:   8%|▊         | 96/1200 [05:06<57:54,  3.15s/it]"
     ]
    },
    {
     "name": "stdout",
     "output_type": "stream",
     "text": [
      "dien thoai,9499000,10,None,None,Ho Chi Minh,10499000,0,82,None,100,0,0,0,0,0\n"
     ]
    },
    {
     "name": "stderr",
     "output_type": "stream",
     "text": [
      "Processing rows:   8%|▊         | 97/1200 [05:09<56:46,  3.09s/it]"
     ]
    },
    {
     "name": "stdout",
     "output_type": "stream",
     "text": [
      "dien thoai,9220491,29,61,2,Ho Chi Minh,12990000,16500,97,100,100,0,0,0,1,1\n"
     ]
    },
    {
     "name": "stderr",
     "output_type": "stream",
     "text": [
      "Processing rows:   8%|▊         | 98/1200 [05:13<59:00,  3.21s/it]"
     ]
    },
    {
     "name": "stdout",
     "output_type": "stream",
     "text": [
      "dien thoai,9090000,24,533,126,Ha Noi,12990000,38000,99,100,85,1,0,0,2,123\n"
     ]
    },
    {
     "name": "stderr",
     "output_type": "stream",
     "text": [
      "Processing rows:   8%|▊         | 99/1200 [05:15<54:14,  2.96s/it]"
     ]
    },
    {
     "name": "stdout",
     "output_type": "stream",
     "text": [
      "dien thoai,8991000,None,None,None,Ho Chi Minh,None,0,79,None,None,0,0,0,0,0\n"
     ]
    },
    {
     "name": "stderr",
     "output_type": "stream",
     "text": [
      "Processing rows:   8%|▊         | 100/1200 [05:18<55:52,  3.05s/it]"
     ]
    },
    {
     "name": "stdout",
     "output_type": "stream",
     "text": [
      "dien thoai,8990000,None,None,None,Ho Chi Minh,None,45100,100,100,None,0,0,0,0,0\n"
     ]
    },
    {
     "name": "stderr",
     "output_type": "stream",
     "text": [
      "Processing rows:   8%|▊         | 101/1200 [05:22<56:32,  3.09s/it]"
     ]
    },
    {
     "name": "stdout",
     "output_type": "stream",
     "text": [
      "dien thoai,8990000,10,23,5,Ho Chi Minh,11490000,18300,99,100,100,0,0,0,0,5\n"
     ]
    },
    {
     "name": "stderr",
     "output_type": "stream",
     "text": [
      "Processing rows:   8%|▊         | 102/1200 [05:25<56:24,  3.08s/it]"
     ]
    },
    {
     "name": "stdout",
     "output_type": "stream",
     "text": [
      "dien thoai,8890000,60,9100,1555,Ho Chi Minh,23990000,5500,94,98,100,34,13,14,37,1458\n"
     ]
    },
    {
     "name": "stderr",
     "output_type": "stream",
     "text": [
      "Processing rows:   9%|▊         | 103/1200 [05:28<57:28,  3.14s/it]"
     ]
    },
    {
     "name": "stdout",
     "output_type": "stream",
     "text": [
      "dien thoai,8888000,23,16,7,Ho Chi Minh,11500000,18300,96,75,100,0,0,0,0,7\n"
     ]
    },
    {
     "name": "stderr",
     "output_type": "stream",
     "text": [
      "Processing rows:   9%|▊         | 104/1200 [05:30<53:05,  2.91s/it]"
     ]
    },
    {
     "name": "stdout",
     "output_type": "stream",
     "text": [
      "dien thoai,8390000,7,None,1,Long An,8990000,28700,99,100,91,0,0,0,0,1\n"
     ]
    },
    {
     "name": "stderr",
     "output_type": "stream",
     "text": [
      "Processing rows:   9%|▉         | 105/1200 [05:34<58:58,  3.23s/it]"
     ]
    },
    {
     "name": "stdout",
     "output_type": "stream",
     "text": [
      "dien thoai,8100000,5,None,None,Ho Chi Minh,8500000,0,None,100,100,0,0,0,0,0\n"
     ]
    },
    {
     "name": "stderr",
     "output_type": "stream",
     "text": [
      "Processing rows:   9%|▉         | 106/1200 [05:37<58:34,  3.21s/it]"
     ]
    },
    {
     "name": "stdout",
     "output_type": "stream",
     "text": [
      "dien thoai,7850000,17,None,None,Ho Chi Minh,9500000,16500,98,82,100,0,0,0,0,0\n"
     ]
    },
    {
     "name": "stderr",
     "output_type": "stream",
     "text": [
      "Processing rows:   9%|▉         | 107/1200 [05:40<56:07,  3.08s/it]"
     ]
    },
    {
     "name": "stdout",
     "output_type": "stream",
     "text": [
      "dien thoai,7590000,None,6,None,Nam Định,None,37700,87,80,100,0,0,0,0,0\n"
     ]
    },
    {
     "name": "stderr",
     "output_type": "stream",
     "text": [
      "Processing rows:   9%|▉         | 108/1200 [05:43<54:53,  3.02s/it]"
     ]
    },
    {
     "name": "stdout",
     "output_type": "stream",
     "text": [
      "dien thoai,7490000,7,7,1,Ho Chi Minh,8090000,18300,99,99,95,0,0,0,0,1\n"
     ]
    },
    {
     "name": "stderr",
     "output_type": "stream",
     "text": [
      "Processing rows:   9%|▉         | 109/1200 [05:46<53:30,  2.94s/it]"
     ]
    },
    {
     "name": "stdout",
     "output_type": "stream",
     "text": [
      "dien thoai,7490000,12,7,1,Ho Chi Minh,8990000,18300,99,100,100,0,0,0,0,2\n"
     ]
    },
    {
     "name": "stderr",
     "output_type": "stream",
     "text": [
      "Processing rows:   9%|▉         | 110/1200 [05:48<50:22,  2.77s/it]"
     ]
    },
    {
     "name": "stdout",
     "output_type": "stream",
     "text": [
      "dien thoai,7400000,1,22,1,Nam Dinh,10200000,37700,87,80,100,0,0,0,0,1\n"
     ]
    },
    {
     "name": "stderr",
     "output_type": "stream",
     "text": [
      "Processing rows:   9%|▉         | 111/1200 [05:52<53:25,  2.94s/it]"
     ]
    },
    {
     "name": "stdout",
     "output_type": "stream",
     "text": [
      "dien thoai,7349000,11,9,2,Ho Chi Minh,8290000,18300,99,99,95,0,0,0,0,2\n"
     ]
    },
    {
     "name": "stderr",
     "output_type": "stream",
     "text": [
      "Processing rows:   9%|▉         | 112/1200 [05:55<57:44,  3.18s/it]"
     ]
    },
    {
     "name": "stdout",
     "output_type": "stream",
     "text": [
      "dien thoai,7290000,None,None,None,Ho Chi Minh,None,1928000,99,100,100,0,0,0,0,0\n"
     ]
    },
    {
     "name": "stderr",
     "output_type": "stream",
     "text": [
      "Processing rows:   9%|▉         | 113/1200 [05:58<54:06,  2.99s/it]"
     ]
    },
    {
     "name": "stdout",
     "output_type": "stream",
     "text": [
      "dien thoai,7199000,None,None,None,Ha Noi,None,32700,None,None,None,0,0,0,0,0\n"
     ]
    },
    {
     "name": "stderr",
     "output_type": "stream",
     "text": [
      "Processing rows:  10%|▉         | 114/1200 [06:01<53:52,  2.98s/it]"
     ]
    },
    {
     "name": "stdout",
     "output_type": "stream",
     "text": [
      "dien thoai,7190000,7,None,2,Long An,7690000,28700,99,100,91,0,0,0,0,2\n"
     ]
    },
    {
     "name": "stderr",
     "output_type": "stream",
     "text": [
      "Processing rows:  10%|▉         | 115/1200 [06:05<59:21,  3.28s/it]"
     ]
    },
    {
     "name": "stdout",
     "output_type": "stream",
     "text": [
      "dien thoai,7180000,32,208,49,Ho Chi Minh,10490000,16500,99,99,95,0,0,0,0,49\n"
     ]
    },
    {
     "name": "stderr",
     "output_type": "stream",
     "text": [
      "Processing rows:  10%|▉         | 116/1200 [06:08<56:30,  3.13s/it]"
     ]
    },
    {
     "name": "stdout",
     "output_type": "stream",
     "text": [
      "dien thoai,6539000,6,9,3,Vinh Phuc,7980000,43900,100,100,100,0,0,0,0,3\n"
     ]
    },
    {
     "name": "stderr",
     "output_type": "stream",
     "text": [
      "Processing rows:  10%|▉         | 117/1200 [06:10<55:01,  3.05s/it]"
     ]
    },
    {
     "name": "stdout",
     "output_type": "stream",
     "text": [
      "dien thoai,6490000,10,9,5,Ho Chi Minh,7230000,18300,98,100,90,0,0,0,0,5\n"
     ]
    },
    {
     "name": "stderr",
     "output_type": "stream",
     "text": [
      "Processing rows:  10%|▉         | 118/1200 [06:14<1:00:40,  3.36s/it]"
     ]
    },
    {
     "name": "stdout",
     "output_type": "stream",
     "text": [
      "dien thoai,6388000,22,36,13,Tien Giang,8500000,28700,97,100,100,0,0,0,0,14\n"
     ]
    },
    {
     "name": "stderr",
     "output_type": "stream",
     "text": [
      "Processing rows:  10%|▉         | 119/1200 [06:17<58:29,  3.25s/it]  "
     ]
    },
    {
     "name": "stdout",
     "output_type": "stream",
     "text": [
      "dien thoai,6290000,3,14,5,Ho Chi Minh,6490000,18300,99,100,100,0,0,0,0,5\n"
     ]
    },
    {
     "name": "stderr",
     "output_type": "stream",
     "text": [
      "Processing rows:  10%|█         | 120/1200 [06:20<55:32,  3.09s/it]"
     ]
    },
    {
     "name": "stdout",
     "output_type": "stream",
     "text": [
      "dien thoai,6194000,NaN,58,9,Ho Chi Minh,NaN,0,NaN,100,100,0,0,0,0,9\n"
     ]
    },
    {
     "name": "stderr",
     "output_type": "stream",
     "text": [
      "Processing rows:  10%|█         | 121/1200 [06:23<56:43,  3.15s/it]"
     ]
    },
    {
     "name": "stdout",
     "output_type": "stream",
     "text": [
      "dien thoai,29890000,17,16,4,Binh Duong,35990000,None,98,None,97,0,0,0,0,4\n"
     ]
    },
    {
     "name": "stderr",
     "output_type": "stream",
     "text": [
      "Processing rows:  10%|█         | 122/1200 [06:26<54:38,  3.04s/it]"
     ]
    },
    {
     "name": "stdout",
     "output_type": "stream",
     "text": [
      "dien thoai,18990000,17,None,None,Da Nang,22990000,38000,97,83,76,0,0,0,0,0\n"
     ]
    },
    {
     "name": "stderr",
     "output_type": "stream",
     "text": [
      "Processing rows:  10%|█         | 123/1200 [06:29<51:25,  2.86s/it]"
     ]
    },
    {
     "name": "stdout",
     "output_type": "stream",
     "text": [
      "dien thoai,13490000,37,None,None,Ha Noi,21300000,38000,91,95,100,0,0,0,0,0\n"
     ]
    },
    {
     "name": "stderr",
     "output_type": "stream",
     "text": [
      "Processing rows:  10%|█         | 124/1200 [06:31<50:51,  2.84s/it]"
     ]
    },
    {
     "name": "stdout",
     "output_type": "stream",
     "text": [
      "dien thoai,12200000,18,None,None,Ha Noi,16890500,None,92,None,33,0,0,0,0,0\n"
     ]
    },
    {
     "name": "stderr",
     "output_type": "stream",
     "text": [
      "Processing rows:  10%|█         | 125/1200 [06:34<48:56,  2.73s/it]"
     ]
    },
    {
     "name": "stdout",
     "output_type": "stream",
     "text": [
      "dien thoai,10690000,11,None,None,Da Nang,11990000,27000,100,100,100,0,0,0,0,0\n"
     ]
    },
    {
     "name": "stderr",
     "output_type": "stream",
     "text": [
      "Processing rows:  10%|█         | 126/1200 [06:36<47:18,  2.64s/it]"
     ]
    },
    {
     "name": "stdout",
     "output_type": "stream",
     "text": [
      "dien thoai,6975000,None,None,None,Ho Chi Minh,None,16500,None,None,50,0,0,0,0,0\n"
     ]
    },
    {
     "name": "stderr",
     "output_type": "stream",
     "text": [
      "Processing rows:  11%|█         | 127/1200 [06:39<49:38,  2.78s/it]"
     ]
    },
    {
     "name": "stdout",
     "output_type": "stream",
     "text": [
      "dien thoai,6189000,15,None,2,Ho Chi Minh,7290000,18300,99,99,95,0,0,0,0,2\n"
     ]
    },
    {
     "name": "stderr",
     "output_type": "stream",
     "text": [
      "Processing rows:  11%|█         | 128/1200 [06:43<51:38,  2.89s/it]"
     ]
    },
    {
     "name": "stdout",
     "output_type": "stream",
     "text": [
      "dien thoai,6090000,24,60,11,Ho Chi Minh,7990000,18300,99,99,95,0,0,0,0,11\n"
     ]
    },
    {
     "name": "stderr",
     "output_type": "stream",
     "text": [
      "Processing rows:  11%|█         | 129/1200 [06:46<55:19,  3.10s/it]"
     ]
    },
    {
     "name": "stdout",
     "output_type": "stream",
     "text": [
      "dien thoai,5900000,26,216,122,Ho Chi Minh,7990000,16500,97,None,None,0,1,0,2,119\n"
     ]
    },
    {
     "name": "stderr",
     "output_type": "stream",
     "text": [
      "Processing rows:  11%|█         | 130/1200 [06:50<57:17,  3.21s/it]"
     ]
    },
    {
     "name": "stdout",
     "output_type": "stream",
     "text": [
      "dien thoai,5900000,None,None,1,Nam Định,None,37700,87,80,100,0,0,0,0,1\n"
     ]
    },
    {
     "name": "stderr",
     "output_type": "stream",
     "text": [
      "Processing rows:  11%|█         | 131/1200 [06:53<58:07,  3.26s/it]"
     ]
    },
    {
     "name": "stdout",
     "output_type": "stream",
     "text": [
      "dien thoai,5889000,15,None,None,Ho Chi Minh,6988000,0,82,None,100,0,0,0,0,0\n"
     ]
    },
    {
     "name": "stderr",
     "output_type": "stream",
     "text": [
      "Processing rows:  11%|█         | 132/1200 [06:56<58:26,  3.28s/it]"
     ]
    },
    {
     "name": "stdout",
     "output_type": "stream",
     "text": [
      "dien thoai,5700000,3,None,None,Nam Định,6990000,37700,87,80,100,0,0,0,0,0\n"
     ]
    },
    {
     "name": "stderr",
     "output_type": "stream",
     "text": [
      "Processing rows:  11%|█         | 133/1200 [07:00<57:31,  3.23s/it]"
     ]
    },
    {
     "name": "stdout",
     "output_type": "stream",
     "text": [
      "dien thoai,5687310,8,161,54,Ha Noi,9490000,26100,95,100,100,1,3,1,3,46\n"
     ]
    },
    {
     "name": "stderr",
     "output_type": "stream",
     "text": [
      "Processing rows:  11%|█         | 134/1200 [07:03<1:00:23,  3.40s/it]"
     ]
    },
    {
     "name": "stdout",
     "output_type": "stream",
     "text": [
      "dien thoai,5499000,15,None,None,Ho Chi Minh,6499000,0,82,None,100,0,0,0,0,0\n"
     ]
    },
    {
     "name": "stderr",
     "output_type": "stream",
     "text": [
      "Processing rows:  11%|█▏        | 135/1200 [07:07<59:41,  3.36s/it]  "
     ]
    },
    {
     "name": "stdout",
     "output_type": "stream",
     "text": [
      "dien thoai,5400000,5,None,1,Ha Noi,5700000,0,93,33,100,0,0,0,0,1\n"
     ]
    },
    {
     "name": "stderr",
     "output_type": "stream",
     "text": [
      "Processing rows:  11%|█▏        | 136/1200 [07:09<57:01,  3.22s/it]"
     ]
    },
    {
     "name": "stdout",
     "output_type": "stream",
     "text": [
      "dien thoai,5389000,23,38,15,Tien Giang,7500000,28700,97,100,100,0,0,0,2,14\n"
     ]
    },
    {
     "name": "stderr",
     "output_type": "stream",
     "text": [
      "Processing rows:  11%|█▏        | 137/1200 [07:13<56:11,  3.17s/it]"
     ]
    },
    {
     "name": "stdout",
     "output_type": "stream",
     "text": [
      "dien thoai,5129831,20,18,9,Vinh Phuc,6450000,43900,100,100,100,0,0,0,0,9\n"
     ]
    },
    {
     "name": "stderr",
     "output_type": "stream",
     "text": [
      "Processing rows:  12%|█▏        | 138/1200 [07:16<55:02,  3.11s/it]"
     ]
    },
    {
     "name": "stdout",
     "output_type": "stream",
     "text": [
      "dien thoai,5128000,11,68,41,Vinh Phuc,5750000,43900,100,100,100,0,0,0,0,41\n"
     ]
    },
    {
     "name": "stderr",
     "output_type": "stream",
     "text": [
      "Processing rows:  12%|█▏        | 139/1200 [07:19<56:26,  3.19s/it]"
     ]
    },
    {
     "name": "stdout",
     "output_type": "stream",
     "text": [
      "dien thoai,5089000,7,9,3,Ho Chi Minh,None,16500,96,100,75,0,0,0,0,3\n"
     ]
    },
    {
     "name": "stderr",
     "output_type": "stream",
     "text": [
      "Processing rows:  12%|█▏        | 140/1200 [07:22<56:18,  3.19s/it]"
     ]
    },
    {
     "name": "stdout",
     "output_type": "stream",
     "text": [
      "dien thoai,5000000,None,None,None,Hai Phong,None,37700,None,None,None,0,0,0,0,0\n"
     ]
    },
    {
     "name": "stderr",
     "output_type": "stream",
     "text": [
      "Processing rows:  12%|█▏        | 141/1200 [07:25<56:46,  3.22s/it]"
     ]
    },
    {
     "name": "stdout",
     "output_type": "stream",
     "text": [
      "dien thoai,4990000,9,None,None,Ho Chi Minh,5490000,16500,97,100,None,0,0,0,0,0\n"
     ]
    },
    {
     "name": "stderr",
     "output_type": "stream",
     "text": [
      "Processing rows:  12%|█▏        | 142/1200 [07:28<54:00,  3.06s/it]"
     ]
    },
    {
     "name": "stdout",
     "output_type": "stream",
     "text": [
      "dien thoai,4990000,9,None,None,Ho Chi Minh,5490000,0,96,100,80,0,0,0,0,0\n"
     ]
    },
    {
     "name": "stderr",
     "output_type": "stream",
     "text": [
      "Processing rows:  12%|█▏        | 143/1200 [07:31<54:15,  3.08s/it]"
     ]
    },
    {
     "name": "stdout",
     "output_type": "stream",
     "text": [
      "dien thoai,4990000,6,5,2,Long An,5290000,28700,99,100,91,0,0,0,0,2\n"
     ]
    },
    {
     "name": "stderr",
     "output_type": "stream",
     "text": [
      "Processing rows:  12%|█▏        | 144/1200 [07:34<55:00,  3.13s/it]"
     ]
    },
    {
     "name": "stdout",
     "output_type": "stream",
     "text": [
      "dien thoai,4939000,1,None,None,Ben Tre,4990000,28700,98,100,100,0,0,0,0,0\n"
     ]
    },
    {
     "name": "stderr",
     "output_type": "stream",
     "text": [
      "Processing rows:  12%|█▏        | 145/1200 [07:37<54:27,  3.10s/it]"
     ]
    },
    {
     "name": "stdout",
     "output_type": "stream",
     "text": [
      "dien thoai,4939000,1,None,None,Ben Tre,4990000,28700,97,100,100,0,0,0,0,0\n"
     ]
    },
    {
     "name": "stderr",
     "output_type": "stream",
     "text": [
      "Processing rows:  12%|█▏        | 146/1200 [07:40<52:13,  2.97s/it]"
     ]
    },
    {
     "name": "stdout",
     "output_type": "stream",
     "text": [
      "dien thoai,4920000,10,26,12,Ho Chi Minh,5490000,16500,99,100,76,0,0,0,1,11\n"
     ]
    },
    {
     "name": "stderr",
     "output_type": "stream",
     "text": [
      "Processing rows:  12%|█▏        | 147/1200 [07:43<53:10,  3.03s/it]"
     ]
    },
    {
     "name": "stdout",
     "output_type": "stream",
     "text": [
      "dien thoai,4914000,None,110,12,Ho Chi Minh,None,0,96,100,100,0,0,0,0,12\n"
     ]
    },
    {
     "name": "stderr",
     "output_type": "stream",
     "text": [
      "Processing rows:  12%|█▏        | 148/1200 [07:47<57:04,  3.26s/it]"
     ]
    },
    {
     "name": "stdout",
     "output_type": "stream",
     "text": [
      "dien thoai,4689000,371,35,Ho Chi Minh,4690000,16500,91,99,100,0,0,1,0,34\n"
     ]
    },
    {
     "name": "stderr",
     "output_type": "stream",
     "text": [
      "Processing rows:  12%|█▏        | 149/1200 [07:51<1:00:55,  3.48s/it]"
     ]
    },
    {
     "name": "stdout",
     "output_type": "stream",
     "text": [
      "dien thoai,4649000,7,53,28,Ho Chi Minh,4990000,16500,99,100,76,0,0,1,0,27\n"
     ]
    },
    {
     "name": "stderr",
     "output_type": "stream",
     "text": [
      "Processing rows:  12%|█▎        | 150/1200 [07:54<58:46,  3.36s/it]  "
     ]
    },
    {
     "name": "stdout",
     "output_type": "stream",
     "text": [
      "dien thoai,4599000,13,137,62,Ho Chi Minh,5290000,16500,99,100,76,2,0,0,1,60\n"
     ]
    },
    {
     "name": "stderr",
     "output_type": "stream",
     "text": [
      "Processing rows:  13%|█▎        | 151/1200 [07:57<58:09,  3.33s/it]"
     ]
    },
    {
     "name": "stdout",
     "output_type": "stream",
     "text": [
      "dien thoai,4590000,13,6,3,Ho Chi Minh,5290000,0,96,100,80,0,0,0,0,3\n"
     ]
    },
    {
     "name": "stderr",
     "output_type": "stream",
     "text": [
      "Processing rows:  13%|█▎        | 152/1200 [08:00<52:43,  3.02s/it]"
     ]
    },
    {
     "name": "stdout",
     "output_type": "stream",
     "text": [
      "dien thoai,4536040,None,None,None,Ha Noi,None,32700,None,None,None,0,0,0,0,0\n"
     ]
    },
    {
     "name": "stderr",
     "output_type": "stream",
     "text": [
      "Processing rows:  13%|█▎        | 153/1200 [08:05<1:04:12,  3.68s/it]"
     ]
    },
    {
     "name": "stdout",
     "output_type": "stream",
     "text": [
      "dien thoai,4490000,10,11,1,Ho Chi Minh,4990000,20100,99,99,95,0,0,0,0,1\n"
     ]
    },
    {
     "name": "stderr",
     "output_type": "stream",
     "text": [
      "Processing rows:  13%|█▎        | 154/1200 [08:08<1:00:43,  3.48s/it]"
     ]
    },
    {
     "name": "stdout",
     "output_type": "stream",
     "text": [
      "dien thoai,4390000,17,82,32,Ho Chi Minh,5290000,16500,96,100,75,1,0,0,1,30\n"
     ]
    },
    {
     "name": "stderr",
     "output_type": "stream",
     "text": [
      "Processing rows:  13%|█▎        | 155/1200 [08:11<1:00:12,  3.46s/it]"
     ]
    },
    {
     "name": "stdout",
     "output_type": "stream",
     "text": [
      "dien thoai,4390000,None,10,3,Nam Định,None,37700,87,80,100,1,0,0,0,2\n"
     ]
    },
    {
     "name": "stderr",
     "output_type": "stream",
     "text": [
      "Processing rows:  13%|█▎        | 156/1200 [08:14<55:23,  3.18s/it]  "
     ]
    },
    {
     "name": "stdout",
     "output_type": "stream",
     "text": [
      "dien thoai,4290000,32,None,None,Ho Chi Minh,6290000,18300,99,100,100,0,0,0,0,0\n"
     ]
    },
    {
     "name": "stderr",
     "output_type": "stream",
     "text": [
      "Processing rows:  13%|█▎        | 157/1200 [08:17<53:44,  3.09s/it]"
     ]
    },
    {
     "name": "stdout",
     "output_type": "stream",
     "text": [
      "dien thoai,4270000,13,181,76,Ho Chi Minh,4890000,18300,98,100,90,0,0,0,1,76\n"
     ]
    },
    {
     "name": "stderr",
     "output_type": "stream",
     "text": [
      "Processing rows:  13%|█▎        | 158/1200 [08:19<50:38,  2.92s/it]"
     ]
    },
    {
     "name": "stdout",
     "output_type": "stream",
     "text": [
      "dien thoai,4250000,13,319,134,Ho Chi Minh,4890000,18300,98,100,90,0,0,1,0,133\n"
     ]
    },
    {
     "name": "stderr",
     "output_type": "stream",
     "text": [
      "Processing rows:  13%|█▎        | 159/1200 [08:22<51:06,  2.95s/it]"
     ]
    },
    {
     "name": "stdout",
     "output_type": "stream",
     "text": [
      "dien thoai,4239000,34,99,55,Vinh Phuc,6420000,43900,100,100,100,0,0,0,2,53\n"
     ]
    },
    {
     "name": "stderr",
     "output_type": "stream",
     "text": [
      "Processing rows:  13%|█▎        | 160/1200 [08:25<49:36,  2.86s/it]"
     ]
    },
    {
     "name": "stdout",
     "output_type": "stream",
     "text": [
      "dien thoai,4209000,16,None,None,Ben Tre,4990000,28700,99,100,100,0,0,0,0,0\n"
     ]
    },
    {
     "name": "stderr",
     "output_type": "stream",
     "text": [
      "Processing rows:  13%|█▎        | 161/1200 [08:28<50:06,  2.89s/it]"
     ]
    },
    {
     "name": "stdout",
     "output_type": "stream",
     "text": [
      "dien thoai,28791000,10,None,None,Ha Noi,31990200,None,92,None,33,0,0,0,0,0\n"
     ]
    },
    {
     "name": "stderr",
     "output_type": "stream",
     "text": [
      "Processing rows:  14%|█▎        | 162/1200 [08:31<50:58,  2.95s/it]"
     ]
    },
    {
     "name": "stdout",
     "output_type": "stream",
     "text": [
      "dien thoai,23391000,10,None,None,Ha Noi,27490000,None,92,None,33,0,0,0,0,0\n"
     ]
    },
    {
     "name": "stderr",
     "output_type": "stream",
     "text": [
      "Processing rows:  14%|█▎        | 163/1200 [08:35<54:43,  3.17s/it]"
     ]
    },
    {
     "name": "stdout",
     "output_type": "stream",
     "text": [
      "dien thoai,14122403,9,69,18,Ha Noi,17990000,13700,95,100,100,0,1,0,0,17\n"
     ]
    },
    {
     "name": "stderr",
     "output_type": "stream",
     "text": [
      "Processing rows:  14%|█▎        | 164/1200 [08:39<58:26,  3.38s/it]"
     ]
    },
    {
     "name": "stdout",
     "output_type": "stream",
     "text": [
      "dien thoai,11800000,None,None,None,Nam Dinh,None,37700,87,80,100,0,0,0,0,0\n"
     ]
    },
    {
     "name": "stderr",
     "output_type": "stream",
     "text": [
      "Processing rows:  14%|█▍        | 165/1200 [08:42<59:58,  3.48s/it]"
     ]
    },
    {
     "name": "stdout",
     "output_type": "stream",
     "text": [
      "dien thoai,4199000,16,None,1,Ho Chi Minh,4990000,16500,98,82,100,0,0,0,0,1\n"
     ]
    },
    {
     "name": "stderr",
     "output_type": "stream",
     "text": [
      "Processing rows:  14%|█▍        | 166/1200 [08:45<56:10,  3.26s/it]"
     ]
    },
    {
     "name": "stdout",
     "output_type": "stream",
     "text": [
      "dien thoai,4190000,42,5,3,Ho Chi Minh,7190000,18300,98,100,90,0,0,0,0,3\n"
     ]
    },
    {
     "name": "stderr",
     "output_type": "stream",
     "text": [
      "Processing rows:  14%|█▍        | 167/1200 [08:49<58:23,  3.39s/it]"
     ]
    },
    {
     "name": "stdout",
     "output_type": "stream",
     "text": [
      "dien thoai,4189000,14,41,3,Ben Tre,4890000,28700,98,100,100,0,0,0,0,3\n"
     ]
    },
    {
     "name": "stderr",
     "output_type": "stream",
     "text": [
      "Processing rows:  14%|█▍        | 168/1200 [08:51<54:49,  3.19s/it]"
     ]
    },
    {
     "name": "stdout",
     "output_type": "stream",
     "text": [
      "dien thoai,4174900,15,426,135,Ho Chi Minh,4890000,18300,99,99,95,0,0,2,2,131\n"
     ]
    },
    {
     "name": "stderr",
     "output_type": "stream",
     "text": [
      "Processing rows:  14%|█▍        | 169/1200 [08:54<53:55,  3.14s/it]"
     ]
    },
    {
     "name": "stdout",
     "output_type": "stream",
     "text": [
      "dien thoai,4160000,24,27,9,Ho Chi Minh,5490000,20100,99,99,95,0,0,0,1,8\n"
     ]
    },
    {
     "name": "stderr",
     "output_type": "stream",
     "text": [
      "Processing rows:  14%|█▍        | 170/1200 [08:57<52:14,  3.04s/it]"
     ]
    },
    {
     "name": "stdout",
     "output_type": "stream",
     "text": [
      "dien thoai,4090000,40,None,None,Ha Noi,6790000,0,None,None,100,0,0,0,0,0\n"
     ]
    },
    {
     "name": "stderr",
     "output_type": "stream",
     "text": [
      "Processing rows:  14%|█▍        | 171/1200 [09:00<53:04,  3.09s/it]"
     ]
    },
    {
     "name": "stdout",
     "output_type": "stream",
     "text": [
      "dien thoai,4085000,18,None,None,Ho Chi Minh,4990000,16500,98,82,100,0,0,0,0,0\n"
     ]
    },
    {
     "name": "stderr",
     "output_type": "stream",
     "text": [
      "Processing rows:  14%|█▍        | 172/1200 [09:04<53:56,  3.15s/it]"
     ]
    },
    {
     "name": "stdout",
     "output_type": "stream",
     "text": [
      "dien thoai,4050000,19,767,287,Ho Chi Minh,4990000,None,91,99,100,0,0,0,1,286\n"
     ]
    },
    {
     "name": "stderr",
     "output_type": "stream",
     "text": [
      "Processing rows:  14%|█▍        | 173/1200 [09:07<55:07,  3.22s/it]"
     ]
    },
    {
     "name": "stdout",
     "output_type": "stream",
     "text": [
      "dien thoai,3997000,20,43,11,Ho Chi Minh,4990000,16500,98,100,66,0,0,0,0,11\n"
     ]
    },
    {
     "name": "stderr",
     "output_type": "stream",
     "text": [
      "Processing rows:  14%|█▍        | 174/1200 [09:10<55:19,  3.24s/it]"
     ]
    },
    {
     "name": "stdout",
     "output_type": "stream",
     "text": [
      "dien thoai,3990000,None,None,None,Ho Chi Minh,None,18300,99,99,95,0,0,0,0,0\n"
     ]
    },
    {
     "name": "stderr",
     "output_type": "stream",
     "text": [
      "Processing rows:  15%|█▍        | 175/1200 [09:13<52:47,  3.09s/it]"
     ]
    },
    {
     "name": "stdout",
     "output_type": "stream",
     "text": [
      "dien thoai,3990000,20,None,None,Long An,4990000,28700,99,100,91,0,0,0,0,0\n"
     ]
    },
    {
     "name": "stderr",
     "output_type": "stream",
     "text": [
      "Processing rows:  15%|█▍        | 176/1200 [09:16<50:36,  2.97s/it]"
     ]
    },
    {
     "name": "stdout",
     "output_type": "stream",
     "text": [
      "dien thoai,3990000,11,47,26,Ho Chi Minh,4490000,0,100,0,100,0,0,0,0,26\n"
     ]
    },
    {
     "name": "stderr",
     "output_type": "stream",
     "text": [
      "Processing rows:  15%|█▍        | 177/1200 [09:19<51:16,  3.01s/it]"
     ]
    },
    {
     "name": "stdout",
     "output_type": "stream",
     "text": [
      "dien thoai,3930000,46,20,9,Ho Chi Minh,7290000,18300,98,100,90,0,0,0,0,9\n"
     ]
    },
    {
     "name": "stderr",
     "output_type": "stream",
     "text": [
      "Processing rows:  15%|█▍        | 178/1200 [09:22<51:20,  3.01s/it]"
     ]
    },
    {
     "name": "stdout",
     "output_type": "stream",
     "text": [
      "dien thoai,3905000,17,6,3,Ha Noi,4690000,38000,98,100,90,0,0,0,0,3\n"
     ]
    },
    {
     "name": "stderr",
     "output_type": "stream",
     "text": [
      "Processing rows:  15%|█▍        | 179/1200 [09:25<50:34,  2.97s/it]"
     ]
    },
    {
     "name": "stdout",
     "output_type": "stream",
     "text": [
      "dien thoai,3839000,15,1200,559,Ho Chi Minh,4490000,16500,99,100,76,3,0,3,8,545\n"
     ]
    },
    {
     "name": "stderr",
     "output_type": "stream",
     "text": [
      "Processing rows:  15%|█▌        | 180/1200 [09:28<51:31,  3.03s/it]"
     ]
    },
    {
     "name": "stdout",
     "output_type": "stream",
     "text": [
      "dien thoai,3790000,24,259,96,Ho Chi Minh,4990000,18300,97,100,None,0,1,1,3,91\n"
     ]
    },
    {
     "name": "stderr",
     "output_type": "stream",
     "text": [
      "Processing rows:  15%|█▌        | 181/1200 [09:31<51:37,  3.04s/it]"
     ]
    },
    {
     "name": "stdout",
     "output_type": "stream",
     "text": [
      "dien thoai,3690000,12,5,2,Ha Noi,4200000,64800,95,100,100,0,0,0,0,2\n"
     ]
    },
    {
     "name": "stderr",
     "output_type": "stream",
     "text": [
      "Processing rows:  15%|█▌        | 182/1200 [09:34<53:27,  3.15s/it]"
     ]
    },
    {
     "name": "stdout",
     "output_type": "stream",
     "text": [
      "dien thoai,3689000,21,87,40,Ho Chi Minh,4690000,16500,99,100,76,0,0,1,1,38\n"
     ]
    },
    {
     "name": "stderr",
     "output_type": "stream",
     "text": [
      "Processing rows:  15%|█▌        | 183/1200 [09:38<54:28,  3.21s/it]"
     ]
    },
    {
     "name": "stdout",
     "output_type": "stream",
     "text": [
      "dien thoai,3599000,28,1700,471,Ben Tre,4990000,32200,98,100,100,2,0,0,5,464\n"
     ]
    },
    {
     "name": "stderr",
     "output_type": "stream",
     "text": [
      "Processing rows:  15%|█▌        | 184/1200 [09:41<51:43,  3.05s/it]"
     ]
    },
    {
     "name": "stdout",
     "output_type": "stream",
     "text": [
      "dien thoai,3590000,28,None,None,Ha Noi,4990000,0,None,None,100,0,0,0,0,0\n"
     ]
    },
    {
     "name": "stderr",
     "output_type": "stream",
     "text": [
      "Processing rows:  15%|█▌        | 185/1200 [09:43<49:28,  2.92s/it]"
     ]
    },
    {
     "name": "stdout",
     "output_type": "stream",
     "text": [
      "dien thoai,3490000,17,None,1,Ha Noi,4229000,38000,88,100,None,0,0,0,0,2\n"
     ]
    },
    {
     "name": "stderr",
     "output_type": "stream",
     "text": [
      "Processing rows:  16%|█▌        | 186/1200 [09:46<51:24,  3.04s/it]"
     ]
    },
    {
     "name": "stdout",
     "output_type": "stream",
     "text": [
      "dien thoai,3490000,30,19,6,Ho Chi Minh,4990000,16500,99,100,76,2,0,0,1,4\n"
     ]
    },
    {
     "name": "stderr",
     "output_type": "stream",
     "text": [
      "Processing rows:  16%|█▌        | 187/1200 [09:49<50:23,  2.98s/it]"
     ]
    },
    {
     "name": "stdout",
     "output_type": "stream",
     "text": [
      "dien thoai,3488000,27,100,51,Nghệ An,4758000,37700,94,91,90,0,0,0,4,47\n"
     ]
    },
    {
     "name": "stderr",
     "output_type": "stream",
     "text": [
      "Processing rows:  16%|█▌        | 188/1200 [09:52<49:55,  2.96s/it]"
     ]
    },
    {
     "name": "stdout",
     "output_type": "stream",
     "text": [
      "dien thoai,3450000,14,None,4,Ho Chi Minh,3990000,18300,99,99,95,0,0,0,0,4\n"
     ]
    },
    {
     "name": "stderr",
     "output_type": "stream",
     "text": [
      "Processing rows:  16%|█▌        | 189/1200 [09:55<50:11,  2.98s/it]"
     ]
    },
    {
     "name": "stdout",
     "output_type": "stream",
     "text": [
      "dien thoai,3449000,45,42,41,Ho Chi Minh,6299000,16500,97,98,99,0,0,0,0,41\n"
     ]
    },
    {
     "name": "stderr",
     "output_type": "stream",
     "text": [
      "Processing rows:  16%|█▌        | 190/1200 [09:59<52:33,  3.12s/it]"
     ]
    },
    {
     "name": "stdout",
     "output_type": "stream",
     "text": [
      "dien thoai,3240179,25,88,28,Ho Chi Minh,449000,16500,97,98,99,0,0,0,0,28\n"
     ]
    },
    {
     "name": "stderr",
     "output_type": "stream",
     "text": [
      "Processing rows:  16%|█▌        | 191/1200 [10:01<49:54,  2.97s/it]"
     ]
    },
    {
     "name": "stdout",
     "output_type": "stream",
     "text": [
      "dien thoai,3200000,36,6,None,Ha Noi,4990000,None,94,None,87,0,0,0,0,0\n"
     ]
    },
    {
     "name": "stderr",
     "output_type": "stream",
     "text": [
      "Processing rows:  16%|█▌        | 192/1200 [10:04<46:57,  2.79s/it]"
     ]
    },
    {
     "name": "stdout",
     "output_type": "stream",
     "text": [
      "dien thoai,3190000,20,3100,830,Ho Chi Minh,3990000,None,91,99,100,8,0,5,7,810\n"
     ]
    },
    {
     "name": "stderr",
     "output_type": "stream",
     "text": [
      "Processing rows:  16%|█▌        | 193/1200 [10:07<50:40,  3.02s/it]"
     ]
    },
    {
     "name": "stdout",
     "output_type": "stream",
     "text": [
      "dien thoai,3139000,21,9,2,Ben Tre,3990000,28700,99,100,100,0,0,0,0,3\n"
     ]
    },
    {
     "name": "stderr",
     "output_type": "stream",
     "text": [
      "Processing rows:  16%|█▌        | 194/1200 [10:11<52:27,  3.13s/it]"
     ]
    },
    {
     "name": "stdout",
     "output_type": "stream",
     "text": [
      "dien thoai,3099000,NaN,90,78,Ho Chi Minh,NaN,16500,99,100,75,2,0,0,0,76\n"
     ]
    },
    {
     "name": "stderr",
     "output_type": "stream",
     "text": [
      "Processing rows:  16%|█▋        | 195/1200 [10:14<54:47,  3.27s/it]"
     ]
    },
    {
     "name": "stdout",
     "output_type": "stream",
     "text": [
      "dien thoai,3090000,6,6,1,Ho Chi Minh,3290000,0,96,100,80,0,0,0,0,1\n"
     ]
    },
    {
     "name": "stderr",
     "output_type": "stream",
     "text": [
      "Processing rows:  16%|█▋        | 196/1200 [10:18<55:57,  3.34s/it]"
     ]
    },
    {
     "name": "stdout",
     "output_type": "stream",
     "text": [
      "dien thoai,3090000,11,207,115,Ho Chi Minh,3490000,18300,98,100,90,0,0,1,0,114\n"
     ]
    },
    {
     "name": "stderr",
     "output_type": "stream",
     "text": [
      "Processing rows:  16%|█▋        | 197/1200 [10:21<54:20,  3.25s/it]"
     ]
    },
    {
     "name": "stdout",
     "output_type": "stream",
     "text": [
      "dien thoai,3090000,38,654,261,Ho Chi Minh,4990000,18300,98,100,90,1,0,2,2,256\n"
     ]
    },
    {
     "name": "stderr",
     "output_type": "stream",
     "text": [
      "Processing rows:  16%|█▋        | 198/1200 [10:23<51:27,  3.08s/it]"
     ]
    },
    {
     "name": "stdout",
     "output_type": "stream",
     "text": [
      "dien thoai,3085000,16,10,1,Ho Chi Minh,3690000,18300,99,99,95,0,0,0,0,1\n"
     ]
    },
    {
     "name": "stderr",
     "output_type": "stream",
     "text": [
      "Processing rows:  17%|█▋        | 199/1200 [10:26<50:34,  3.03s/it]"
     ]
    },
    {
     "name": "stdout",
     "output_type": "stream",
     "text": [
      "dien thoai,3050000,46,None,None,Ha Noi,5690000,0,None,None,100,0,0,0,0,0\n"
     ]
    },
    {
     "name": "stderr",
     "output_type": "stream",
     "text": [
      "Processing rows:  17%|█▋        | 200/1200 [10:29<50:00,  3.00s/it]"
     ]
    },
    {
     "name": "stdout",
     "output_type": "stream",
     "text": [
      "dien thoai,3000000,23,None,None,Ha Noi,3900000,73600,94,100,100,0,0,0,0,0\n"
     ]
    },
    {
     "name": "stderr",
     "output_type": "stream",
     "text": [
      "Processing rows:  17%|█▋        | 201/1200 [10:33<52:18,  3.14s/it]"
     ]
    },
    {
     "name": "stdout",
     "output_type": "stream",
     "text": [
      "dien thoai,41990000,7,11,None,Ho Chi Minh,44990000,20100,99,100,83,0,0,0,0,0\n"
     ]
    },
    {
     "name": "stderr",
     "output_type": "stream",
     "text": [
      "Processing rows:  17%|█▋        | 202/1200 [10:36<50:27,  3.03s/it]"
     ]
    },
    {
     "name": "stdout",
     "output_type": "stream",
     "text": [
      "dien thoai,40990000,None,None,None,Ho Chi Minh,None,18300,97,99,88,0,0,0,0,0\n"
     ]
    },
    {
     "name": "stderr",
     "output_type": "stream",
     "text": [
      "Processing rows:  17%|█▋        | 203/1200 [10:39<53:58,  3.25s/it]"
     ]
    },
    {
     "name": "stdout",
     "output_type": "stream",
     "text": [
      "dien thoai,37590001,16,24,2,Ho Chi Minh,44490000,None,91,None,100,0,0,0,0,2\n"
     ]
    },
    {
     "name": "stderr",
     "output_type": "stream",
     "text": [
      "Processing rows:  17%|█▋        | 204/1200 [10:43<54:01,  3.25s/it]"
     ]
    },
    {
     "name": "stdout",
     "output_type": "stream",
     "text": [
      "dien thoai,31989000,6,1400,324,Bac Ninh,33990000,16500,91,99,100,2,0,1,0,320\n"
     ]
    },
    {
     "name": "stderr",
     "output_type": "stream",
     "text": [
      "Processing rows:  17%|█▋        | 205/1200 [10:46<55:01,  3.32s/it]"
     ]
    },
    {
     "name": "stdout",
     "output_type": "stream",
     "text": [
      "dien thoai,31990000,None,203,43,Ho Chi Minh,None,None,99,None,100,2,0,0,0,41\n"
     ]
    },
    {
     "name": "stderr",
     "output_type": "stream",
     "text": [
      "Processing rows:  17%|█▋        | 206/1200 [10:49<51:28,  3.11s/it]"
     ]
    },
    {
     "name": "stdout",
     "output_type": "stream",
     "text": [
      "dien thoai,31590000,16,21,2,Ho Chi Minh,37490000,None,91,None,100,0,0,0,0,3\n"
     ]
    },
    {
     "name": "stderr",
     "output_type": "stream",
     "text": [
      "Processing rows:  17%|█▋        | 207/1200 [10:52<52:20,  3.16s/it]"
     ]
    },
    {
     "name": "stdout",
     "output_type": "stream",
     "text": [
      "dien thoai,31210000,8,None,None,Ha Noi,33990000,None,94,None,71,0,0,0,0,0\n"
     ]
    },
    {
     "name": "stderr",
     "output_type": "stream",
     "text": [
      "Processing rows:  17%|█▋        | 208/1200 [10:54<48:33,  2.94s/it]"
     ]
    },
    {
     "name": "stdout",
     "output_type": "stream",
     "text": [
      "dien thoai,30470000,10,None,None,Ha Noi,44490000,None,94,None,71,0,0,0,0,0\n"
     ]
    },
    {
     "name": "stderr",
     "output_type": "stream",
     "text": [
      "Processing rows:  17%|█▋        | 209/1200 [10:58<50:02,  3.03s/it]"
     ]
    },
    {
     "name": "stdout",
     "output_type": "stream",
     "text": [
      "dien thoai,29990000,9,None,None,Ha Noi,32990000,38000,98,100,92,0,0,0,0,0\n"
     ]
    },
    {
     "name": "stderr",
     "output_type": "stream",
     "text": [
      "Processing rows:  18%|█▊        | 210/1200 [11:00<48:18,  2.93s/it]"
     ]
    },
    {
     "name": "stdout",
     "output_type": "stream",
     "text": [
      "dien thoai,29517000,11,6,1,Ho Chi Minh,32990000,18300,99,99,100,0,0,0,0,1\n"
     ]
    },
    {
     "name": "stderr",
     "output_type": "stream",
     "text": [
      "Processing rows:  18%|█▊        | 211/1200 [11:03<45:22,  2.75s/it]"
     ]
    },
    {
     "name": "stdout",
     "output_type": "stream",
     "text": [
      "dien thoai,29990000,None,None,None,Ho Chi Minh,None,18300,97,99,88,0,0,0,0,0\n"
     ]
    },
    {
     "name": "stderr",
     "output_type": "stream",
     "text": [
      "Processing rows:  18%|█▊        | 212/1200 [11:06<46:07,  2.80s/it]"
     ]
    },
    {
     "name": "stdout",
     "output_type": "stream",
     "text": [
      "dien thoai,29990000,None,None,None,Ho Chi Minh,None,7300,97,98,85,0,0,0,0,0\n"
     ]
    },
    {
     "name": "stderr",
     "output_type": "stream",
     "text": [
      "Processing rows:  18%|█▊        | 213/1200 [11:08<45:43,  2.78s/it]"
     ]
    },
    {
     "name": "stdout",
     "output_type": "stream",
     "text": [
      "dien thoai,29990000,33,None,None,Da Nang,44990000,0,93,None,100,0,0,0,0,0\n"
     ]
    },
    {
     "name": "stderr",
     "output_type": "stream",
     "text": [
      "Processing rows:  18%|█▊        | 214/1200 [11:11<46:07,  2.81s/it]"
     ]
    },
    {
     "name": "stdout",
     "output_type": "stream",
     "text": [
      "dien thoai,29890000,17,16,4,Binh Duong,35990000,None,98,None,97,0,0,0,0,4\n"
     ]
    },
    {
     "name": "stderr",
     "output_type": "stream",
     "text": [
      "Processing rows:  18%|█▊        | 215/1200 [11:14<47:57,  2.92s/it]"
     ]
    },
    {
     "name": "stdout",
     "output_type": "stream",
     "text": [
      "dien thoai,29590000,15,11800,2664,Ho Chi Minh,34999000,5500,94,98,100,31,3,8,9,2614\n"
     ]
    },
    {
     "name": "stderr",
     "output_type": "stream",
     "text": [
      "Processing rows:  18%|█▊        | 216/1200 [11:17<47:00,  2.87s/it]"
     ]
    },
    {
     "name": "stdout",
     "output_type": "stream",
     "text": [
      "dien thoai,28990000,None,None,None,Ha Noi,None,32700,None,None,None,0,0,0,0,0\n"
     ]
    },
    {
     "name": "stderr",
     "output_type": "stream",
     "text": [
      "Processing rows:  18%|█▊        | 217/1200 [11:20<44:44,  2.73s/it]"
     ]
    },
    {
     "name": "stdout",
     "output_type": "stream",
     "text": [
      "dien thoai,28090000,17,13,None,Ho Chi Minh,33990000,None,91,None,100,0,0,0,0,0\n"
     ]
    },
    {
     "name": "stderr",
     "output_type": "stream",
     "text": [
      "Processing rows:  18%|█▊        | 218/1200 [11:22<44:32,  2.72s/it]"
     ]
    },
    {
     "name": "stdout",
     "output_type": "stream",
     "text": [
      "dien thoai,27891000,10,None,None,Ha Noi,32990000,None,94,None,71,0,0,0,0,0\n"
     ]
    },
    {
     "name": "stderr",
     "output_type": "stream",
     "text": [
      "Processing rows:  18%|█▊        | 219/1200 [11:25<43:04,  2.63s/it]"
     ]
    },
    {
     "name": "stdout",
     "output_type": "stream",
     "text": [
      "dien thoai,27490000,11,7,5,Ha Noi,33990000,51500,94,96,100,0,0,0,0,5\n"
     ]
    },
    {
     "name": "stderr",
     "output_type": "stream",
     "text": [
      "Processing rows:  18%|█▊        | 220/1200 [11:28<45:14,  2.77s/it]"
     ]
    },
    {
     "name": "stdout",
     "output_type": "stream",
     "text": [
      "dien thoai,27399000,None,None,None,Ha Noi,None,32700,97,None,None,0,0,0,0,0\n"
     ]
    },
    {
     "name": "stderr",
     "output_type": "stream",
     "text": [
      "Processing rows:  18%|█▊        | 221/1200 [11:31<46:35,  2.86s/it]"
     ]
    },
    {
     "name": "stdout",
     "output_type": "stream",
     "text": [
      "dien thoai,26590000,22,None,1,Ho Chi Minh,33999000,7300,97,None,40,0,0,0,0,1\n"
     ]
    },
    {
     "name": "stderr",
     "output_type": "stream",
     "text": [
      "Processing rows:  18%|█▊        | 222/1200 [11:34<47:22,  2.91s/it]"
     ]
    },
    {
     "name": "stdout",
     "output_type": "stream",
     "text": [
      "dien thoai,25390000,41,None,None,Ha Noi,43000000,38000,91,95,100,0,0,0,0,0\n"
     ]
    },
    {
     "name": "stderr",
     "output_type": "stream",
     "text": [
      "Processing rows:  19%|█▊        | 223/1200 [11:37<47:27,  2.91s/it]"
     ]
    },
    {
     "name": "stdout",
     "output_type": "stream",
     "text": [
      "dien thoai,24898000,27,7,None,Ho Chi Minh,33990000,18300,99,99,97,0,0,0,0,0\n"
     ]
    },
    {
     "name": "stderr",
     "output_type": "stream",
     "text": [
      "Processing rows:  19%|█▊        | 224/1200 [11:40<48:20,  2.97s/it]"
     ]
    },
    {
     "name": "stdout",
     "output_type": "stream",
     "text": [
      "dien thoai,24880000,22,None,None,Ha Noi,31990000,None,94,None,71,0,0,0,0,0\n"
     ]
    },
    {
     "name": "stderr",
     "output_type": "stream",
     "text": [
      "Processing rows:  19%|█▉        | 225/1200 [11:43<48:05,  2.96s/it]"
     ]
    },
    {
     "name": "stdout",
     "output_type": "stream",
     "text": [
      "dien thoai,24290100,10,None,None,Ha Noi,29990000,None,94,None,71,0,0,0,0,0\n"
     ]
    },
    {
     "name": "stderr",
     "output_type": "stream",
     "text": [
      "Processing rows:  19%|█▉        | 226/1200 [11:46<47:15,  2.91s/it]"
     ]
    },
    {
     "name": "stdout",
     "output_type": "stream",
     "text": [
      "dien thoai,24190000,21,None,None,Ha Noi,26990000,None,94,None,71,0,0,0,0,0\n"
     ]
    },
    {
     "name": "stderr",
     "output_type": "stream",
     "text": [
      "Processing rows:  19%|█▉        | 227/1200 [11:48<46:56,  2.89s/it]"
     ]
    },
    {
     "name": "stdout",
     "output_type": "stream",
     "text": [
      "dien thoai,24140000,29,None,None,Ho Chi Minh,33990000,16500,98,82,100,0,0,0,0,0\n"
     ]
    },
    {
     "name": "stderr",
     "output_type": "stream",
     "text": [
      "Processing rows:  19%|█▉        | 228/1200 [11:51<47:13,  2.92s/it]"
     ]
    },
    {
     "name": "stdout",
     "output_type": "stream",
     "text": [
      "dien thoai,23600000,13,None,None,Ha Noi,30490000,None,94,None,71,0,0,0,0,0\n"
     ]
    },
    {
     "name": "stderr",
     "output_type": "stream",
     "text": [
      "Processing rows:  19%|█▉        | 229/1200 [11:54<46:05,  2.85s/it]"
     ]
    },
    {
     "name": "stdout",
     "output_type": "stream",
     "text": [
      "dien thoai,23391000,10,None,None,Ha Noi,25990000,None,94,None,71,0,0,0,0,0\n"
     ]
    },
    {
     "name": "stderr",
     "output_type": "stream",
     "text": [
      "Processing rows:  19%|█▉        | 230/1200 [11:57<46:01,  2.85s/it]"
     ]
    },
    {
     "name": "stdout",
     "output_type": "stream",
     "text": [
      "dien thoai,23290000,31,7,3,Ho Chi Minh,44490000,0,98,100,90,0,0,0,1,2\n"
     ]
    },
    {
     "name": "stderr",
     "output_type": "stream",
     "text": [
      "Processing rows:  19%|█▉        | 231/1200 [12:00<49:02,  3.04s/it]"
     ]
    },
    {
     "name": "stdout",
     "output_type": "stream",
     "text": [
      "dien thoai,22990000,None,None,None,Ha Noi,None,38000,98,100,92,0,0,0,0,0\n"
     ]
    },
    {
     "name": "stderr",
     "output_type": "stream",
     "text": [
      "Processing rows:  19%|█▉        | 232/1200 [12:04<49:50,  3.09s/it]"
     ]
    },
    {
     "name": "stdout",
     "output_type": "stream",
     "text": [
      "dien thoai,22990000,None,5,None,Ho Chi Minh,None,19600,99,100,83,0,0,0,0,0\n"
     ]
    },
    {
     "name": "stderr",
     "output_type": "stream",
     "text": [
      "Processing rows:  19%|█▉        | 233/1200 [12:07<48:48,  3.03s/it]"
     ]
    },
    {
     "name": "stdout",
     "output_type": "stream",
     "text": [
      "dien thoai,22990000,45,9,1,Da Nang,41990000,32700,94,100,100,0,0,0,0,1\n"
     ]
    },
    {
     "name": "stderr",
     "output_type": "stream",
     "text": [
      "Processing rows:  20%|█▉        | 234/1200 [12:10<49:11,  3.06s/it]"
     ]
    },
    {
     "name": "stdout",
     "output_type": "stream",
     "text": [
      "dien thoai,22990000,18,16,3,Binh Duong,27990000,None,98,None,97,0,0,0,0,6\n"
     ]
    },
    {
     "name": "stderr",
     "output_type": "stream",
     "text": [
      "Processing rows:  20%|█▉        | 235/1200 [12:13<51:00,  3.17s/it]"
     ]
    },
    {
     "name": "stdout",
     "output_type": "stream",
     "text": [
      "dien thoai,21490000,35,8,2,Ha Noi,32990000,51500,94,96,100,0,0,0,0,2\n"
     ]
    },
    {
     "name": "stderr",
     "output_type": "stream",
     "text": [
      "Processing rows:  20%|█▉        | 236/1200 [12:16<48:59,  3.05s/it]"
     ]
    },
    {
     "name": "stdout",
     "output_type": "stream",
     "text": [
      "dien thoai,21390000,7,None,None,Ho Chi Minh,22900000,18300,99,99,97,0,0,0,0,0\n"
     ]
    },
    {
     "name": "stderr",
     "output_type": "stream",
     "text": [
      "Processing rows:  20%|█▉        | 237/1200 [12:19<50:06,  3.12s/it]"
     ]
    },
    {
     "name": "stdout",
     "output_type": "stream",
     "text": [
      "dien thoai,21290000,31,35,3,Ho Chi Minh,30990000,16500,97,None,None,0,0,1,0,3\n"
     ]
    },
    {
     "name": "stderr",
     "output_type": "stream",
     "text": [
      "Processing rows:  20%|█▉        | 238/1200 [12:22<49:27,  3.08s/it]"
     ]
    },
    {
     "name": "stdout",
     "output_type": "stream",
     "text": [
      "dien thoai,20989000,9,120,29,Bac Ninh,22990000,16500,91,99,100,1,1,4,1,22\n"
     ]
    },
    {
     "name": "stderr",
     "output_type": "stream",
     "text": [
      "Processing rows:  20%|█▉        | 239/1200 [12:25<50:22,  3.15s/it]"
     ]
    },
    {
     "name": "stdout",
     "output_type": "stream",
     "text": [
      "dien thoai,20890000,23,None,None,Ho Chi Minh,26990000,18300,99,99,97,0,0,0,0,0\n"
     ]
    },
    {
     "name": "stderr",
     "output_type": "stream",
     "text": [
      "Processing rows:  20%|██        | 240/1200 [12:28<49:39,  3.10s/it]"
     ]
    },
    {
     "name": "stdout",
     "output_type": "stream",
     "text": [
      "dien thoai,20610000,10,None,None,Ha Noi,22990000,None,94,None,71,0,0,0,0,0\n"
     ]
    },
    {
     "name": "stderr",
     "output_type": "stream",
     "text": [
      "Processing rows:  20%|██        | 241/1200 [12:31<46:00,  2.88s/it]"
     ]
    },
    {
     "name": "stdout",
     "output_type": "stream",
     "text": [
      "dien thoai,20090000,13,None,1,Ho Chi Minh,22990000,None,91,None,100,0,0,0,0,1\n"
     ]
    },
    {
     "name": "stderr",
     "output_type": "stream",
     "text": [
      "Processing rows:  20%|██        | 242/1200 [12:35<50:32,  3.17s/it]"
     ]
    },
    {
     "name": "stdout",
     "output_type": "stream",
     "text": [
      "dien thoai,19995000,9,None,None,Ho Chi Minh,21990000,0,97,100,50,0,0,0,0,0\n"
     ]
    },
    {
     "name": "stderr",
     "output_type": "stream",
     "text": [
      "Processing rows:  20%|██        | 243/1200 [12:37<47:40,  2.99s/it]"
     ]
    },
    {
     "name": "stdout",
     "output_type": "stream",
     "text": [
      "dien thoai,19990000,26,None,None,Ho Chi Minh,26990000,16500,98,82,100,0,0,0,0,0\n"
     ]
    },
    {
     "name": "stderr",
     "output_type": "stream",
     "text": [
      "Processing rows:  20%|██        | 244/1200 [12:41<51:05,  3.21s/it]"
     ]
    },
    {
     "name": "stdout",
     "output_type": "stream",
     "text": [
      "dien thoai,19990000,5,None,None,Ho Chi Minh,20990000,19600,85,None,100,0,0,0,0,0\n"
     ]
    },
    {
     "name": "stderr",
     "output_type": "stream",
     "text": [
      "Processing rows:  20%|██        | 245/1200 [12:43<47:21,  2.98s/it]"
     ]
    },
    {
     "name": "stdout",
     "output_type": "stream",
     "text": [
      "dien thoai,19890000,1,None,None,Ho Chi Minh,19990000,0,97,100,50,0,0,0,0,0\n"
     ]
    },
    {
     "name": "stderr",
     "output_type": "stream",
     "text": [
      "Processing rows:  20%|██        | 246/1200 [12:46<47:28,  2.99s/it]"
     ]
    },
    {
     "name": "stdout",
     "output_type": "stream",
     "text": [
      "dien thoai,19890000,None,None,None,Ho Chi Minh,19900000,19600,85,None,100,0,0,0,0,0\n"
     ]
    },
    {
     "name": "stderr",
     "output_type": "stream",
     "text": [
      "Processing rows:  21%|██        | 247/1200 [12:49<47:09,  2.97s/it]"
     ]
    },
    {
     "name": "stdout",
     "output_type": "stream",
     "text": [
      "dien thoai,19640000,15,10,4,Ho Chi Minh,22990000,18300,99,99,100,0,0,0,0,4\n"
     ]
    },
    {
     "name": "stderr",
     "output_type": "stream",
     "text": [
      "Processing rows:  21%|██        | 248/1200 [12:52<46:06,  2.91s/it]"
     ]
    },
    {
     "name": "stdout",
     "output_type": "stream",
     "text": [
      "dien thoai,19190000,17,None,None,Ho Chi Minh,23000000,16500,98,82,100,0,0,0,0,1\n"
     ]
    },
    {
     "name": "stderr",
     "output_type": "stream",
     "text": [
      "Processing rows:  21%|██        | 249/1200 [12:55<46:49,  2.95s/it]"
     ]
    },
    {
     "name": "stdout",
     "output_type": "stream",
     "text": [
      "dien thoai,19140000,17,None,None,Ho Chi Minh,22990000,16500,100,99,100,0,0,0,0,0\n"
     ]
    },
    {
     "name": "stderr",
     "output_type": "stream",
     "text": [
      "Processing rows:  21%|██        | 250/1200 [12:57<43:52,  2.77s/it]"
     ]
    },
    {
     "name": "stdout",
     "output_type": "stream",
     "text": [
      "dien thoai,18990000,17,None,None,Da Nang,22990000,38000,97,82,86,0,0,0,0,0\n"
     ]
    },
    {
     "name": "stderr",
     "output_type": "stream",
     "text": [
      "Processing rows:  21%|██        | 251/1200 [13:01<46:10,  2.92s/it]"
     ]
    },
    {
     "name": "stdout",
     "output_type": "stream",
     "text": [
      "dien thoai,18990000,17,None,None,Da Nang,22990000,38000,96,28,100,0,0,0,0,0\n"
     ]
    },
    {
     "name": "stderr",
     "output_type": "stream",
     "text": [
      "Processing rows:  21%|██        | 252/1200 [13:04<47:30,  3.01s/it]"
     ]
    },
    {
     "name": "stdout",
     "output_type": "stream",
     "text": [
      "dien thoai,18990000,42,8,3,Ho Chi Minh,32990000,18300,99,100,83,0,0,0,0,2\n"
     ]
    },
    {
     "name": "stderr",
     "output_type": "stream",
     "text": [
      "Processing rows:  21%|██        | 253/1200 [13:07<45:38,  2.89s/it]"
     ]
    },
    {
     "name": "stdout",
     "output_type": "stream",
     "text": [
      "dien thoai,18866000,9,None,None,Ha Noi,21299000,32700,97,None,None,0,0,0,0,0\n"
     ]
    },
    {
     "name": "stderr",
     "output_type": "stream",
     "text": [
      "Processing rows:  21%|██        | 254/1200 [13:10<46:21,  2.94s/it]"
     ]
    },
    {
     "name": "stdout",
     "output_type": "stream",
     "text": [
      "dien thoai,18800000,22,9,4,Ha Noi,24000000,0,88,0,100,0,0,0,0,4\n"
     ]
    },
    {
     "name": "stderr",
     "output_type": "stream",
     "text": [
      "Processing rows:  21%|██▏       | 255/1200 [13:13<47:21,  3.01s/it]"
     ]
    },
    {
     "name": "stdout",
     "output_type": "stream",
     "text": [
      "dien thoai,18599000,11,None,None,Ha Noi,23990000,13700,100,100,100,0,0,0,0,0\n"
     ]
    },
    {
     "name": "stderr",
     "output_type": "stream",
     "text": [
      "Processing rows:  21%|██▏       | 256/1200 [13:16<46:22,  2.95s/it]"
     ]
    },
    {
     "name": "stdout",
     "output_type": "stream",
     "text": [
      "dien thoai,17990000,None,None,None,Ho Chi Minh,None,16500,None,None,60,0,0,0,0,0\n"
     ]
    },
    {
     "name": "stderr",
     "output_type": "stream",
     "text": [
      "Processing rows:  21%|██▏       | 257/1200 [13:18<45:27,  2.89s/it]"
     ]
    },
    {
     "name": "stdout",
     "output_type": "stream",
     "text": [
      "dien thoai,17990000,None,None,None,Ben Tre,None,28700,83,None,None,0,0,0,0,0\n"
     ]
    },
    {
     "name": "stderr",
     "output_type": "stream",
     "text": [
      "Processing rows:  22%|██▏       | 258/1200 [13:21<42:24,  2.70s/it]"
     ]
    },
    {
     "name": "stdout",
     "output_type": "stream",
     "text": [
      "dien thoai,17950000,22,None,None,Ho Chi Minh,None,None,None,None,None,0,0,0,0,0\n"
     ]
    },
    {
     "name": "stderr",
     "output_type": "stream",
     "text": [
      "Processing rows:  22%|██▏       | 259/1200 [13:23<42:41,  2.72s/it]"
     ]
    },
    {
     "name": "stdout",
     "output_type": "stream",
     "text": [
      "dien thoai,17800000,None,45,5,Ho Chi Minh,None,0,100,None,None,0,0,0,0,5\n"
     ]
    },
    {
     "name": "stderr",
     "output_type": "stream",
     "text": [
      "Processing rows:  22%|██▏       | 260/1200 [13:26<40:30,  2.59s/it]"
     ]
    },
    {
     "name": "stdout",
     "output_type": "stream",
     "text": [
      "dien thoai,17499000,None,None,None,Ho Chi Minh,None,16500,None,None,60,0,0,0,0,0\n"
     ]
    },
    {
     "name": "stderr",
     "output_type": "stream",
     "text": [
      "Processing rows:  22%|██▏       | 261/1200 [13:31<51:29,  3.29s/it]"
     ]
    },
    {
     "name": "stdout",
     "output_type": "stream",
     "text": [
      "dien thoai,17290000,36,None,None,Ho Chi Minh,26990000,0,98,100,90,0,0,0,0,0\n"
     ]
    },
    {
     "name": "stderr",
     "output_type": "stream",
     "text": [
      "Processing rows:  22%|██▏       | 262/1200 [13:34<50:36,  3.24s/it]"
     ]
    },
    {
     "name": "stdout",
     "output_type": "stream",
     "text": [
      "dien thoai,17020000,26,None,1,Ha Noi,22990000,None,94,None,71,0,0,0,0,1\n"
     ]
    },
    {
     "name": "stderr",
     "output_type": "stream",
     "text": [
      "Processing rows:  22%|██▏       | 263/1200 [13:37<53:09,  3.40s/it]"
     ]
    },
    {
     "name": "stdout",
     "output_type": "stream",
     "text": [
      "dien thoai,17020000,26,10,2,Ha Noi,24989800,None,92,None,33,0,0,0,0,2\n"
     ]
    },
    {
     "name": "stderr",
     "output_type": "stream",
     "text": [
      "Processing rows:  22%|██▏       | 264/1200 [13:42<56:36,  3.63s/it]"
     ]
    },
    {
     "name": "stdout",
     "output_type": "stream",
     "text": [
      "dien thoai,16990000,15,13,5,Ho Chi Minh,19990000,18300,99,100,83,0,0,0,0,5\n"
     ]
    },
    {
     "name": "stderr",
     "output_type": "stream",
     "text": [
      "Processing rows:  22%|██▏       | 265/1200 [13:45<54:21,  3.49s/it]"
     ]
    },
    {
     "name": "stdout",
     "output_type": "stream",
     "text": [
      "dien thoai,16990000,35,11,1,Ho Chi Minh,25990000,16500,97,None,None,0,0,0,0,1\n"
     ]
    },
    {
     "name": "stderr",
     "output_type": "stream",
     "text": [
      "Processing rows:  22%|██▏       | 266/1200 [13:48<50:46,  3.26s/it]"
     ]
    },
    {
     "name": "stdout",
     "output_type": "stream",
     "text": [
      "dien thoai,16990000,45,31,12,Ho Chi Minh,33990000,16500,97,None,None,0,0,0,2,10\n"
     ]
    },
    {
     "name": "stderr",
     "output_type": "stream",
     "text": [
      "Processing rows:  22%|██▏       | 267/1200 [13:50<49:21,  3.17s/it]"
     ]
    },
    {
     "name": "stdout",
     "output_type": "stream",
     "text": [
      "dien thoai,16490000,None,None,1,Ha Noi,None,13700,95,100,100,0,0,0,0,1\n"
     ]
    },
    {
     "name": "stderr",
     "output_type": "stream",
     "text": [
      "Processing rows:  22%|██▏       | 268/1200 [13:53<48:21,  3.11s/it]"
     ]
    },
    {
     "name": "stdout",
     "output_type": "stream",
     "text": [
      "dien thoai,15890000,38,7,1,Ha Noi,32900000,38000,91,95,100,0,0,0,0,1\n"
     ]
    },
    {
     "name": "stderr",
     "output_type": "stream",
     "text": [
      "Processing rows:  22%|██▏       | 269/1200 [13:56<47:39,  3.07s/it]"
     ]
    },
    {
     "name": "stdout",
     "output_type": "stream",
     "text": [
      "dien thoai,15580000,32,None,None,Ho Chi Minh,22900000,18300,99,99,97,0,0,0,0,0\n"
     ]
    },
    {
     "name": "stderr",
     "output_type": "stream",
     "text": [
      "Processing rows:  22%|██▎       | 270/1200 [13:59<45:41,  2.95s/it]"
     ]
    },
    {
     "name": "stdout",
     "output_type": "stream",
     "text": [
      "dien thoai,15490000,40,None,None,Da Nang,29990000,38000,97,82,86,0,0,0,0,0\n"
     ]
    },
    {
     "name": "stderr",
     "output_type": "stream",
     "text": [
      "Processing rows:  23%|██▎       | 271/1200 [14:02<47:09,  3.05s/it]"
     ]
    },
    {
     "name": "stdout",
     "output_type": "stream",
     "text": [
      "dien thoai,15390000,33,None,None,Ho Chi Minh,22990000,0,98,100,90,0,0,0,0,0\n"
     ]
    },
    {
     "name": "stderr",
     "output_type": "stream",
     "text": [
      "Processing rows:  23%|██▎       | 272/1200 [14:06<47:42,  3.08s/it]"
     ]
    },
    {
     "name": "stdout",
     "output_type": "stream",
     "text": [
      "dien thoai,14995000,5,None,None,Ho Chi Minh,15790000,0,97,100,50,0,0,0,0,0\n"
     ]
    },
    {
     "name": "stderr",
     "output_type": "stream",
     "text": [
      "Processing rows:  23%|██▎       | 273/1200 [14:08<46:15,  2.99s/it]"
     ]
    },
    {
     "name": "stdout",
     "output_type": "stream",
     "text": [
      "dien thoai,14500000,None,None,None,Ho Chi Minh,None,16500,None,66,100,0,0,0,0,0\n"
     ]
    },
    {
     "name": "stderr",
     "output_type": "stream",
     "text": [
      "Processing rows:  23%|██▎       | 274/1200 [14:11<43:39,  2.83s/it]"
     ]
    },
    {
     "name": "stdout",
     "output_type": "stream",
     "text": [
      "dien thoai,14500000,None,5,None,Ha Noi,None,0,None,None,None,0,0,0,0,0\n"
     ]
    },
    {
     "name": "stderr",
     "output_type": "stream",
     "text": [
      "Processing rows:  23%|██▎       | 275/1200 [14:14<44:12,  2.87s/it]"
     ]
    },
    {
     "name": "stdout",
     "output_type": "stream",
     "text": [
      "dien thoai,14390000,37,9,None,Ha Noi,22990000,0,97,50,50,0,0,0,0,0\n"
     ]
    },
    {
     "name": "stderr",
     "output_type": "stream",
     "text": [
      "Processing rows:  23%|██▎       | 276/1200 [14:17<46:05,  2.99s/it]"
     ]
    },
    {
     "name": "stdout",
     "output_type": "stream",
     "text": [
      "dien thoai,14122403,9,69,18,Ha Noi,17990000,13700,95,100,100,0,1,0,0,17\n"
     ]
    },
    {
     "name": "stderr",
     "output_type": "stream",
     "text": [
      "Processing rows:  23%|██▎       | 277/1200 [14:21<53:00,  3.45s/it]"
     ]
    },
    {
     "name": "stdout",
     "output_type": "stream",
     "text": [
      "dien thoai,13990000,None,None,None,Ben Tre,None,28700,83,None,None,0,0,0,0,0\n"
     ]
    },
    {
     "name": "stderr",
     "output_type": "stream",
     "text": [
      "Processing rows:  23%|██▎       | 278/1200 [14:25<55:01,  3.58s/it]"
     ]
    },
    {
     "name": "stdout",
     "output_type": "stream",
     "text": [
      "dien thoai,13990000,26,32,2,Ho Chi Minh,18990000,18300,99,100,83,0,0,0,0,2\n"
     ]
    },
    {
     "name": "stderr",
     "output_type": "stream",
     "text": [
      "Processing rows:  23%|██▎       | 279/1200 [14:28<52:36,  3.43s/it]"
     ]
    },
    {
     "name": "stdout",
     "output_type": "stream",
     "text": [
      "dien thoai,13878080,37,7,None,Ho Chi Minh,21990000,18300,97,None,40,0,0,0,0,0\n"
     ]
    },
    {
     "name": "stderr",
     "output_type": "stream",
     "text": [
      "Processing rows:  23%|██▎       | 280/1200 [14:32<50:55,  3.32s/it]"
     ]
    },
    {
     "name": "stdout",
     "output_type": "stream",
     "text": [
      "dien thoai,13500000,None,None,None,Ho Chi Minh,None,16500,None,66,100,0,0,0,0,0\n"
     ]
    },
    {
     "name": "stderr",
     "output_type": "stream",
     "text": [
      "Processing rows:  23%|██▎       | 281/1200 [14:35<52:36,  3.43s/it]"
     ]
    },
    {
     "name": "stdout",
     "output_type": "stream",
     "text": [
      "dien thoai,13400000,None,None,None,Nam Định,None,37700,87,80,100,0,0,0,0,0\n"
     ]
    },
    {
     "name": "stderr",
     "output_type": "stream",
     "text": [
      "Processing rows:  24%|██▎       | 282/1200 [14:38<50:52,  3.33s/it]"
     ]
    },
    {
     "name": "stdout",
     "output_type": "stream",
     "text": [
      "dien thoai,13200000,None,None,None,Ho Chi Minh,None,16500,None,66,100,0,0,0,0,0\n"
     ]
    },
    {
     "name": "stderr",
     "output_type": "stream",
     "text": [
      "Processing rows:  24%|██▎       | 283/1200 [14:41<48:11,  3.15s/it]"
     ]
    },
    {
     "name": "stdout",
     "output_type": "stream",
     "text": [
      "dien thoai,13190000,31,None,None,Ha Noi,24550000,38000,91,95,100,0,0,0,0,0\n"
     ]
    },
    {
     "name": "stderr",
     "output_type": "stream",
     "text": [
      "Processing rows:  24%|██▎       | 284/1200 [14:44<47:18,  3.10s/it]"
     ]
    },
    {
     "name": "stdout",
     "output_type": "stream",
     "text": [
      "dien thoai,12998500,23,16,2,Ho Chi Minh,16890500,None,91,None,100,0,0,0,1,2\n"
     ]
    },
    {
     "name": "stderr",
     "output_type": "stream",
     "text": [
      "Processing rows:  24%|██▍       | 285/1200 [14:47<45:47,  3.00s/it]"
     ]
    },
    {
     "name": "stdout",
     "output_type": "stream",
     "text": [
      "dien thoai,12990000,24,None,None,Ho Chi Minh,16990000,16500,None,None,60,0,0,0,0,0\n"
     ]
    },
    {
     "name": "stderr",
     "output_type": "stream",
     "text": [
      "Processing rows:  24%|██▍       | 286/1200 [14:50<46:19,  3.04s/it]"
     ]
    },
    {
     "name": "stdout",
     "output_type": "stream",
     "text": [
      "dien thoai,12940000,13,None,None,Ha Noi,16890000,38000,98,100,92,0,0,0,0,0\n"
     ]
    },
    {
     "name": "stderr",
     "output_type": "stream",
     "text": [
      "Processing rows:  24%|██▍       | 287/1200 [14:52<43:44,  2.87s/it]"
     ]
    },
    {
     "name": "stdout",
     "output_type": "stream",
     "text": [
      "dien thoai,12890000,None,None,None,Ha Noi,None,13700,95,100,100,0,0,0,0,0\n"
     ]
    },
    {
     "name": "stderr",
     "output_type": "stream",
     "text": [
      "Processing rows:  24%|██▍       | 288/1200 [14:55<43:54,  2.89s/it]"
     ]
    },
    {
     "name": "stdout",
     "output_type": "stream",
     "text": [
      "dien thoai,12690000,33,12,2,Ho Chi Minh,25990000,16500,97,None,40,0,0,0,0,2\n"
     ]
    },
    {
     "name": "stderr",
     "output_type": "stream",
     "text": [
      "Processing rows:  24%|██▍       | 289/1200 [14:58<43:02,  2.83s/it]"
     ]
    },
    {
     "name": "stdout",
     "output_type": "stream",
     "text": [
      "dien thoai,12389000,None,None,None,Nam Định,None,43900,None,None,100,0,0,0,0,0\n"
     ]
    },
    {
     "name": "stderr",
     "output_type": "stream",
     "text": [
      "Processing rows:  24%|██▍       | 290/1200 [15:01<45:06,  2.97s/it]"
     ]
    },
    {
     "name": "stdout",
     "output_type": "stream",
     "text": [
      "dien thoai,12290000,36,None,1,Ha Noi,19200000,38000,91,95,100,0,0,0,0,1\n"
     ]
    },
    {
     "name": "stderr",
     "output_type": "stream",
     "text": [
      "Processing rows:  24%|██▍       | 291/1200 [15:07<57:03,  3.77s/it]"
     ]
    },
    {
     "name": "stdout",
     "output_type": "stream",
     "text": [
      "dien thoai,12200000,18,None,1,Ha Noi,14900000,None,94,None,71,0,0,0,0,1\n"
     ]
    },
    {
     "name": "stderr",
     "output_type": "stream",
     "text": [
      "Processing rows:  24%|██▍       | 292/1200 [15:10<51:58,  3.43s/it]"
     ]
    },
    {
     "name": "stdout",
     "output_type": "stream",
     "text": [
      "dien thoai,12200000,18,None,None,Ha Noi,16890500,None,92,None,33,0,0,0,0,0\n"
     ]
    },
    {
     "name": "stderr",
     "output_type": "stream",
     "text": [
      "Processing rows:  24%|██▍       | 293/1200 [15:13<52:08,  3.45s/it]"
     ]
    },
    {
     "name": "stdout",
     "output_type": "stream",
     "text": [
      "dien thoai,11990000,8,None,3,Ho Chi Minh,12990000,19600,85,None,100,0,0,0,0,3\n"
     ]
    },
    {
     "name": "stderr",
     "output_type": "stream",
     "text": [
      "Processing rows:  24%|██▍       | 294/1200 [15:16<50:50,  3.37s/it]"
     ]
    },
    {
     "name": "stdout",
     "output_type": "stream",
     "text": [
      "dien thoai,11989000,19,90,16,Ho Chi Minh,14890000,16500,91,99,100,1,0,0,0,15\n"
     ]
    },
    {
     "name": "stderr",
     "output_type": "stream",
     "text": [
      "Processing rows:  25%|██▍       | 295/1200 [15:19<48:30,  3.22s/it]"
     ]
    },
    {
     "name": "stdout",
     "output_type": "stream",
     "text": [
      "dien thoai,11970000,None,None,None,Ho Chi Minh,11990000,0,97,100,50,0,0,0,0,0\n"
     ]
    },
    {
     "name": "stderr",
     "output_type": "stream",
     "text": [
      "Processing rows:  25%|██▍       | 296/1200 [15:22<45:04,  2.99s/it]"
     ]
    },
    {
     "name": "stdout",
     "output_type": "stream",
     "text": [
      "dien thoai,11800000,None,None,None,Nam Dinh,None,37700,87,80,100,0,0,0,0,0\n"
     ]
    },
    {
     "name": "stderr",
     "output_type": "stream",
     "text": [
      "Processing rows:  25%|██▍       | 297/1200 [15:24<44:28,  2.96s/it]"
     ]
    },
    {
     "name": "stdout",
     "output_type": "stream",
     "text": [
      "dien thoai,11700000,None,None,None,Ho Chi Minh,None,16500,None,66,100,0,0,0,0,0\n"
     ]
    },
    {
     "name": "stderr",
     "output_type": "stream",
     "text": [
      "Processing rows:  25%|██▍       | 298/1200 [15:28<46:48,  3.11s/it]"
     ]
    },
    {
     "name": "stdout",
     "output_type": "stream",
     "text": [
      "dien thoai,11680000,10,35,8,Ho Chi Minh,12990000,18300,98,100,92,0,0,0,0,9\n"
     ]
    },
    {
     "name": "stderr",
     "output_type": "stream",
     "text": [
      "Processing rows:  25%|██▍       | 299/1200 [15:31<45:07,  3.00s/it]"
     ]
    },
    {
     "name": "stdout",
     "output_type": "stream",
     "text": [
      "dien thoai,11617600,22,33,2,Ho Chi Minh,14889600,None,91,None,100,0,0,0,0,3\n"
     ]
    },
    {
     "name": "stderr",
     "output_type": "stream",
     "text": [
      "Processing rows:  25%|██▌       | 300/1200 [15:34<46:46,  3.12s/it]"
     ]
    },
    {
     "name": "stdout",
     "output_type": "stream",
     "text": [
      "dien thoai,11250000,16,None,None,Ha Noi,13350000,38000,91,95,100,0,0,0,0,0\n"
     ]
    },
    {
     "name": "stderr",
     "output_type": "stream",
     "text": [
      "Processing rows:  25%|██▌       | 301/1200 [15:37<45:06,  3.01s/it]"
     ]
    },
    {
     "name": "stdout",
     "output_type": "stream",
     "text": [
      "dien thoai,11146000,7,31,1,Ho Chi Minh,11990000,16500,99,100,80,0,0,0,0,1\n"
     ]
    },
    {
     "name": "stderr",
     "output_type": "stream",
     "text": [
      "Processing rows:  25%|██▌       | 302/1200 [15:40<43:35,  2.91s/it]"
     ]
    },
    {
     "name": "stdout",
     "output_type": "stream",
     "text": [
      "dien thoai,11078000,21,None,None,Ho Chi Minh,13990000,16500,100,99,100,0,0,0,0,0\n"
     ]
    },
    {
     "name": "stderr",
     "output_type": "stream",
     "text": [
      "Processing rows:  25%|██▌       | 303/1200 [15:42<43:38,  2.92s/it]"
     ]
    },
    {
     "name": "stdout",
     "output_type": "stream",
     "text": [
      "dien thoai,11039000,26,None,0,Ben Tre,14890000,28700,98,100,100,0,0,0,0,1\n"
     ]
    },
    {
     "name": "stderr",
     "output_type": "stream",
     "text": [
      "Processing rows:  25%|██▌       | 304/1200 [15:46<46:11,  3.09s/it]"
     ]
    },
    {
     "name": "stdout",
     "output_type": "stream",
     "text": [
      "dien thoai,10990000,None,15,1,Ho Chi Minh,None,18300,99,99,100,0,0,0,0,1\n"
     ]
    },
    {
     "name": "stderr",
     "output_type": "stream",
     "text": [
      "Processing rows:  25%|██▌       | 305/1200 [15:50<50:01,  3.35s/it]"
     ]
    },
    {
     "name": "stdout",
     "output_type": "stream",
     "text": [
      "dien thoai,10990000,27,None,None,Da Nang,14990000,0,93,None,100,0,0,0,0,0\n"
     ]
    },
    {
     "name": "stderr",
     "output_type": "stream",
     "text": [
      "Processing rows:  26%|██▌       | 306/1200 [15:53<47:56,  3.22s/it]"
     ]
    },
    {
     "name": "stdout",
     "output_type": "stream",
     "text": [
      "dien thoai,10990000,35,None,1,Ho Chi Minh,16900000,18300,96,75,100,0,0,0,0,1\n"
     ]
    },
    {
     "name": "stderr",
     "output_type": "stream",
     "text": [
      "Processing rows:  26%|██▌       | 307/1200 [15:56<48:38,  3.27s/it]"
     ]
    },
    {
     "name": "stdout",
     "output_type": "stream",
     "text": [
      "dien thoai,10990000,27,None,None,Da Nang,14990000,38000,97,82,86,0,0,0,0,0\n"
     ]
    },
    {
     "name": "stderr",
     "output_type": "stream",
     "text": [
      "Processing rows:  26%|██▌       | 308/1200 [15:59<48:07,  3.24s/it]"
     ]
    },
    {
     "name": "stdout",
     "output_type": "stream",
     "text": [
      "dien thoai,10890000,39,5,2,Ha Noi,17999000,26100,100,100,100,0,0,0,0,2\n"
     ]
    },
    {
     "name": "stderr",
     "output_type": "stream",
     "text": [
      "Processing rows:  26%|██▌       | 309/1200 [16:02<46:47,  3.15s/it]"
     ]
    },
    {
     "name": "stdout",
     "output_type": "stream",
     "text": [
      "dien thoai,10839000,27,None,None,Ben Tre,14890000,28700,97,100,100,0,0,0,0,0\n"
     ]
    },
    {
     "name": "stderr",
     "output_type": "stream",
     "text": [
      "Processing rows:  26%|██▌       | 310/1200 [16:05<44:39,  3.01s/it]"
     ]
    },
    {
     "name": "stdout",
     "output_type": "stream",
     "text": [
      "dien thoai,10800000,None,None,None,Ho Chi Minh,None,16500,None,66,100,0,0,0,0,0\n"
     ]
    },
    {
     "name": "stderr",
     "output_type": "stream",
     "text": [
      "Processing rows:  26%|██▌       | 311/1200 [16:08<44:00,  2.97s/it]"
     ]
    },
    {
     "name": "stdout",
     "output_type": "stream",
     "text": [
      "dien thoai,10791000,10,None,None,Ha Noi,11990000,None,94,None,71,0,0,0,0,0\n"
     ]
    },
    {
     "name": "stderr",
     "output_type": "stream",
     "text": [
      "Processing rows:  26%|██▌       | 312/1200 [16:12<47:33,  3.21s/it]"
     ]
    },
    {
     "name": "stdout",
     "output_type": "stream",
     "text": [
      "dien thoai,10782000,10,5,None,Ha Noi,12980000,None,92,None,33,0,0,0,0,0\n"
     ]
    },
    {
     "name": "stderr",
     "output_type": "stream",
     "text": [
      "Processing rows:  26%|██▌       | 313/1200 [16:14<42:47,  2.89s/it]"
     ]
    },
    {
     "name": "stdout",
     "output_type": "stream",
     "text": [
      "dien thoai,10560000,None,None,None,Ho Chi Minh,None,19600,100,None,None,0,0,0,0,0\n"
     ]
    },
    {
     "name": "stderr",
     "output_type": "stream",
     "text": [
      "Processing rows:  26%|██▌       | 314/1200 [16:17<44:54,  3.04s/it]"
     ]
    },
    {
     "name": "stdout",
     "output_type": "stream",
     "text": [
      "dien thoai,10500000,None,None,None,Ho Chi Minh,None,16500,None,66,100,0,0,0,0,0\n"
     ]
    },
    {
     "name": "stderr",
     "output_type": "stream",
     "text": [
      "Processing rows:  26%|██▋       | 315/1200 [16:20<44:03,  2.99s/it]"
     ]
    },
    {
     "name": "stdout",
     "output_type": "stream",
     "text": [
      "dien thoai,10490000,None,None,None,Ho Chi Minh,None,16500,99,100,None,0,0,0,0,0\n"
     ]
    },
    {
     "name": "stderr",
     "output_type": "stream",
     "text": [
      "Processing rows:  26%|██▋       | 316/1200 [16:23<43:56,  2.98s/it]"
     ]
    },
    {
     "name": "stdout",
     "output_type": "stream",
     "text": [
      "dien thoai,10490000,13,None,None,Da Nang,11990000,38000,97,82,86,0,0,0,0,0\n"
     ]
    },
    {
     "name": "stderr",
     "output_type": "stream",
     "text": [
      "Processing rows:  26%|██▋       | 317/1200 [16:26<43:23,  2.95s/it]"
     ]
    },
    {
     "name": "stdout",
     "output_type": "stream",
     "text": [
      "dien thoai,10490000,19,None,None,Da Nang,12990000,38000,97,82,86,0,0,0,0,0\n"
     ]
    },
    {
     "name": "stderr",
     "output_type": "stream",
     "text": [
      "Processing rows:  26%|██▋       | 318/1200 [16:29<43:02,  2.93s/it]"
     ]
    },
    {
     "name": "stdout",
     "output_type": "stream",
     "text": [
      "dien thoai,10490000,None,7,2,Ho Chi Minh,None,None,99,None,100,0,0,0,0,3\n"
     ]
    },
    {
     "name": "stderr",
     "output_type": "stream",
     "text": [
      "Processing rows:  27%|██▋       | 319/1200 [16:31<40:24,  2.75s/it]"
     ]
    },
    {
     "name": "stdout",
     "output_type": "stream",
     "text": [
      "dien thoai,10490000,None,None,None,Dak Nong,None,32200,None,None,None,0,0,0,0,0\n"
     ]
    },
    {
     "name": "stderr",
     "output_type": "stream",
     "text": [
      "Processing rows:  27%|██▋       | 320/1200 [16:34<39:29,  2.69s/it]"
     ]
    },
    {
     "name": "stdout",
     "output_type": "stream",
     "text": [
      "dien thoai,10489000,52,227,35,Ho Chi Minh,21990000,18300,91,99,100,2,0,0,2,31\n"
     ]
    },
    {
     "name": "stderr",
     "output_type": "stream",
     "text": [
      "Processing rows:  27%|██▋       | 321/1200 [16:37<41:08,  2.81s/it]"
     ]
    },
    {
     "name": "stdout",
     "output_type": "stream",
     "text": [
      "dien thoai,17985000,5,None,None,Ho Chi Minh,18990000,19600,85,None,100,0,0,0,0,0\n"
     ]
    },
    {
     "name": "stderr",
     "output_type": "stream",
     "text": [
      "Processing rows:  27%|██▋       | 322/1200 [16:40<43:08,  2.95s/it]"
     ]
    },
    {
     "name": "stdout",
     "output_type": "stream",
     "text": [
      "dien thoai,17590000,41,16,2,Ha Noi,29990000,0,97,50,50,0,0,0,0,2\n"
     ]
    },
    {
     "name": "stderr",
     "output_type": "stream",
     "text": [
      "Processing rows:  27%|██▋       | 323/1200 [16:43<44:58,  3.08s/it]"
     ]
    },
    {
     "name": "stdout",
     "output_type": "stream",
     "text": [
      "dien thoai,10690000,11,None,None,Da Nang,11990000,27000,100,100,100,0,0,0,0,0\n"
     ]
    },
    {
     "name": "stderr",
     "output_type": "stream",
     "text": [
      "Processing rows:  27%|██▋       | 324/1200 [16:46<44:50,  3.07s/it]"
     ]
    },
    {
     "name": "stdout",
     "output_type": "stream",
     "text": [
      "dien thoai,10450000,30,None,None,Ha Noi,14900000,38000,91,95,100,0,0,0,0,0\n"
     ]
    },
    {
     "name": "stderr",
     "output_type": "stream",
     "text": [
      "Processing rows:  27%|██▋       | 325/1200 [16:50<44:44,  3.07s/it]"
     ]
    },
    {
     "name": "stdout",
     "output_type": "stream",
     "text": [
      "dien thoai,10290000,34,None,None,Ha Noi,16000000,38000,91,95,100,0,0,0,0,0\n"
     ]
    },
    {
     "name": "stderr",
     "output_type": "stream",
     "text": [
      "Processing rows:  27%|██▋       | 326/1200 [16:52<42:36,  2.93s/it]"
     ]
    },
    {
     "name": "stdout",
     "output_type": "stream",
     "text": [
      "dien thoai,10290000,21,None,None,Da Nang,12990000,38000,96,28,100,0,0,0,0,0\n"
     ]
    },
    {
     "name": "stderr",
     "output_type": "stream",
     "text": [
      "Processing rows:  27%|██▋       | 327/1200 [16:56<46:48,  3.22s/it]"
     ]
    },
    {
     "name": "stdout",
     "output_type": "stream",
     "text": [
      "dien thoai,10266000,7,None,None,Ho Chi Minh,10990000,16500,100,99,100,0,0,0,0,0\n"
     ]
    },
    {
     "name": "stderr",
     "output_type": "stream",
     "text": [
      "Processing rows:  27%|██▋       | 328/1200 [16:59<46:04,  3.17s/it]"
     ]
    },
    {
     "name": "stdout",
     "output_type": "stream",
     "text": [
      "dien thoai,10235000,32,None,None,Da Nang,14990000,38000,97,82,86,0,0,0,0,0\n"
     ]
    },
    {
     "name": "stderr",
     "output_type": "stream",
     "text": [
      "Processing rows:  27%|██▋       | 329/1200 [17:02<43:52,  3.02s/it]"
     ]
    },
    {
     "name": "stdout",
     "output_type": "stream",
     "text": [
      "dien thoai,10200000,None,None,None,Ho Chi Minh,None,16500,None,66,100,0,0,0,0,0\n"
     ]
    },
    {
     "name": "stderr",
     "output_type": "stream",
     "text": [
      "Processing rows:  28%|██▊       | 330/1200 [17:05<42:37,  2.94s/it]"
     ]
    },
    {
     "name": "stdout",
     "output_type": "stream",
     "text": [
      "dien thoai,10100000,8,6,2,Ho Chi Minh,10990000,18300,98,100,92,0,0,0,0,2\n"
     ]
    },
    {
     "name": "stderr",
     "output_type": "stream",
     "text": [
      "Processing rows:  28%|██▊       | 331/1200 [17:07<41:27,  2.86s/it]"
     ]
    },
    {
     "name": "stdout",
     "output_type": "stream",
     "text": [
      "dien thoai,10099000,22,None,1,Ha Noi,13000000,38000,97,None,None,0,0,0,0,1\n"
     ]
    },
    {
     "name": "stderr",
     "output_type": "stream",
     "text": [
      "Processing rows:  28%|██▊       | 332/1200 [17:10<43:08,  2.98s/it]"
     ]
    },
    {
     "name": "stdout",
     "output_type": "stream",
     "text": [
      "dien thoai,10085523,17,45,3,Ha Noi,12090000,13700,95,100,100,0,0,0,0,3\n"
     ]
    },
    {
     "name": "stderr",
     "output_type": "stream",
     "text": [
      "Processing rows:  28%|██▊       | 333/1200 [17:15<48:22,  3.35s/it]"
     ]
    },
    {
     "name": "stdout",
     "output_type": "stream",
     "text": [
      "dien thoai,10000000,None,8,1,Da Nang,None,32700,99,100,100,0,0,0,0,1\n"
     ]
    },
    {
     "name": "stderr",
     "output_type": "stream",
     "text": [
      "Processing rows:  28%|██▊       | 334/1200 [17:18<47:07,  3.26s/it]"
     ]
    },
    {
     "name": "stdout",
     "output_type": "stream",
     "text": [
      "dien thoai,9990000,9,None,None,Da Nang,10990000,45100,96,28,100,0,0,0,0,0\n"
     ]
    },
    {
     "name": "stderr",
     "output_type": "stream",
     "text": [
      "Processing rows:  28%|██▊       | 335/1200 [17:20<44:51,  3.11s/it]"
     ]
    },
    {
     "name": "stdout",
     "output_type": "stream",
     "text": [
      "dien thoai,9990000,None,None,None,Ho Chi Minh,None,16500,None,None,60,0,0,0,0,0\n"
     ]
    },
    {
     "name": "stderr",
     "output_type": "stream",
     "text": [
      "Processing rows:  28%|██▊       | 336/1200 [17:24<46:00,  3.19s/it]"
     ]
    },
    {
     "name": "stdout",
     "output_type": "stream",
     "text": [
      "dien thoai,9990000,17,None,None,Ho Chi Minh,12000000,16500,98,82,100,0,0,0,0,0\n"
     ]
    },
    {
     "name": "stderr",
     "output_type": "stream",
     "text": [
      "Processing rows:  28%|██▊       | 337/1200 [17:27<44:42,  3.11s/it]"
     ]
    },
    {
     "name": "stdout",
     "output_type": "stream",
     "text": [
      "dien thoai,9990000,None,None,None,Ha Noi,None,None,94,None,71,0,0,0,0,0\n"
     ]
    },
    {
     "name": "stderr",
     "output_type": "stream",
     "text": [
      "Processing rows:  28%|██▊       | 338/1200 [17:29<42:36,  2.97s/it]"
     ]
    },
    {
     "name": "stdout",
     "output_type": "stream",
     "text": [
      "dien thoai,9990000,None,None,None,Da Nang,None,32700,100,80,None,0,0,0,0,0\n"
     ]
    },
    {
     "name": "stderr",
     "output_type": "stream",
     "text": [
      "Processing rows:  28%|██▊       | 339/1200 [17:32<41:53,  2.92s/it]"
     ]
    },
    {
     "name": "stdout",
     "output_type": "stream",
     "text": [
      "dien thoai,9990000,23,7,None,Ho Chi Minh,12890000,0,98,100,90,0,0,0,0,0\n"
     ]
    },
    {
     "name": "stderr",
     "output_type": "stream",
     "text": [
      "Processing rows:  28%|██▊       | 340/1200 [17:35<41:54,  2.92s/it]"
     ]
    },
    {
     "name": "stdout",
     "output_type": "stream",
     "text": [
      "dien thoai,9890000,21,38,12,Binh Duong,12490000,None,98,None,97,0,0,1,1,11\n"
     ]
    },
    {
     "name": "stderr",
     "output_type": "stream",
     "text": [
      "Processing rows:  28%|██▊       | 341/1200 [17:39<44:35,  3.12s/it]"
     ]
    },
    {
     "name": "stdout",
     "output_type": "stream",
     "text": [
      "dien thoai,9990000,None,7,None,Ha Noi,None,0,100,None,None,0,0,0,0,0\n"
     ]
    },
    {
     "name": "stderr",
     "output_type": "stream",
     "text": [
      "Processing rows:  28%|██▊       | 342/1200 [17:41<43:02,  3.01s/it]"
     ]
    },
    {
     "name": "stdout",
     "output_type": "stream",
     "text": [
      "dien thoai,9895000,None,None,None,Ha Noi,9900000,0,91,57,83,1,0,0,0,0\n"
     ]
    },
    {
     "name": "stderr",
     "output_type": "stream",
     "text": [
      "Processing rows:  29%|██▊       | 343/1200 [17:45<43:41,  3.06s/it]"
     ]
    },
    {
     "name": "stdout",
     "output_type": "stream",
     "text": [
      "dien thoai,9890000,18,8,5,Tien Giang,15900000,28700,97,100,100,0,0,1,0,4\n"
     ]
    },
    {
     "name": "stderr",
     "output_type": "stream",
     "text": [
      "Processing rows:  29%|██▊       | 344/1200 [17:48<43:54,  3.08s/it]"
     ]
    },
    {
     "name": "stdout",
     "output_type": "stream",
     "text": [
      "dien thoai,9790000,1,None,None,Ho Chi Minh,9900000,18300,99,99,97,0,0,0,0,0\n"
     ]
    },
    {
     "name": "stderr",
     "output_type": "stream",
     "text": [
      "Processing rows:  29%|██▉       | 345/1200 [17:51<42:46,  3.00s/it]"
     ]
    },
    {
     "name": "stdout",
     "output_type": "stream",
     "text": [
      "dien thoai,9675000,None,None,None,Ho Chi Minh,None,16500,None,None,60,0,0,0,0,0\n"
     ]
    },
    {
     "name": "stderr",
     "output_type": "stream",
     "text": [
      "Processing rows:  29%|██▉       | 346/1200 [17:54<42:31,  2.99s/it]"
     ]
    },
    {
     "name": "stdout",
     "output_type": "stream",
     "text": [
      "dien thoai,9590000,11,None,None,Tien Giang,10800000,28700,97,100,100,0,0,0,0,0\n"
     ]
    },
    {
     "name": "stderr",
     "output_type": "stream",
     "text": [
      "Processing rows:  29%|██▉       | 347/1200 [17:56<41:38,  2.93s/it]"
     ]
    },
    {
     "name": "stdout",
     "output_type": "stream",
     "text": [
      "dien thoai,9500000,None,None,None,Nam Định,None,37700,87,80,100,0,0,0,0,0\n"
     ]
    },
    {
     "name": "stderr",
     "output_type": "stream",
     "text": [
      "Processing rows:  29%|██▉       | 348/1200 [17:59<39:33,  2.79s/it]"
     ]
    },
    {
     "name": "stdout",
     "output_type": "stream",
     "text": [
      "dien thoai,9500000,32,None,None,Ha Noi,13900000,0,75,None,None,0,0,0,0,0\n"
     ]
    },
    {
     "name": "stderr",
     "output_type": "stream",
     "text": [
      "Processing rows:  29%|██▉       | 349/1200 [18:02<42:25,  2.99s/it]"
     ]
    },
    {
     "name": "stdout",
     "output_type": "stream",
     "text": [
      "dien thoai,9499000,10,None,None,Ho Chi Minh,10499000,0,82,None,100,0,0,0,0,0\n"
     ]
    },
    {
     "name": "stderr",
     "output_type": "stream",
     "text": [
      "Processing rows:  29%|██▉       | 350/1200 [18:06<46:12,  3.26s/it]"
     ]
    },
    {
     "name": "stdout",
     "output_type": "stream",
     "text": [
      "dien thoai,9490000,10,None,None,Ha Noi,10590000,13700,95,100,100,0,0,0,0,0\n"
     ]
    },
    {
     "name": "stderr",
     "output_type": "stream",
     "text": [
      "Processing rows:  29%|██▉       | 351/1200 [18:09<42:44,  3.02s/it]"
     ]
    },
    {
     "name": "stdout",
     "output_type": "stream",
     "text": [
      "dien thoai,9480000,14,None,None,Ho Chi Minh,10990000,0,100,None,100,0,0,0,0,0\n"
     ]
    },
    {
     "name": "stderr",
     "output_type": "stream",
     "text": [
      "Processing rows:  29%|██▉       | 352/1200 [18:11<41:35,  2.94s/it]"
     ]
    },
    {
     "name": "stdout",
     "output_type": "stream",
     "text": [
      "dien thoai,9440640,10,20,1,Ha Noi,10489600,None,92,None,33,0,0,0,0,2\n"
     ]
    },
    {
     "name": "stderr",
     "output_type": "stream",
     "text": [
      "Processing rows:  29%|██▉       | 353/1200 [18:14<39:21,  2.79s/it]"
     ]
    },
    {
     "name": "stdout",
     "output_type": "stream",
     "text": [
      "dien thoai,9390000,17,None,1,Vinh Phuc,None,None,None,None,None,0,0,0,0,1\n"
     ]
    },
    {
     "name": "stderr",
     "output_type": "stream",
     "text": [
      "Processing rows:  30%|██▉       | 354/1200 [18:17<39:49,  2.83s/it]"
     ]
    },
    {
     "name": "stdout",
     "output_type": "stream",
     "text": [
      "dien thoai,9351363,13,38,13,Ha Noi,10790000,13700,95,100,100,0,0,0,0,13\n"
     ]
    },
    {
     "name": "stderr",
     "output_type": "stream",
     "text": [
      "Processing rows:  30%|██▉       | 355/1200 [18:19<39:29,  2.80s/it]"
     ]
    },
    {
     "name": "stdout",
     "output_type": "stream",
     "text": [
      "dien thoai,9350000,38,35,18,Ha Noi,17000000,32700,91,95,100,0,0,0,0,19\n"
     ]
    },
    {
     "name": "stderr",
     "output_type": "stream",
     "text": [
      "Processing rows:  30%|██▉       | 356/1200 [18:23<40:36,  2.89s/it]"
     ]
    },
    {
     "name": "stdout",
     "output_type": "stream",
     "text": [
      "dien thoai,9300000,None,None,None,Ho Chi Minh,None,16500,None,66,100,0,0,0,0,0\n"
     ]
    },
    {
     "name": "stderr",
     "output_type": "stream",
     "text": [
      "Processing rows:  30%|██▉       | 357/1200 [18:26<41:17,  2.94s/it]"
     ]
    },
    {
     "name": "stdout",
     "output_type": "stream",
     "text": [
      "dien thoai,9299000,None,None,None,Ho Chi Minh,None,16500,None,None,60,0,0,0,0,0\n"
     ]
    },
    {
     "name": "stderr",
     "output_type": "stream",
     "text": [
      "Processing rows:  30%|██▉       | 358/1200 [18:30<46:38,  3.32s/it]"
     ]
    },
    {
     "name": "stdout",
     "output_type": "stream",
     "text": [
      "dien thoai,9150000,17,None,None,Ho Chi Minh,10990000,16500,98,82,100,0,0,0,0,0\n"
     ]
    },
    {
     "name": "stderr",
     "output_type": "stream",
     "text": [
      "Processing rows:  30%|██▉       | 359/1200 [18:33<44:46,  3.19s/it]"
     ]
    },
    {
     "name": "stdout",
     "output_type": "stream",
     "text": [
      "dien thoai,9090000,24,533,126,Ha Noi,11990000,38000,99,100,85,1,0,0,2,123\n"
     ]
    },
    {
     "name": "stderr",
     "output_type": "stream",
     "text": [
      "Processing rows:  30%|███       | 360/1200 [18:35<40:29,  2.89s/it]"
     ]
    },
    {
     "name": "stdout",
     "output_type": "stream",
     "text": [
      "dien thoai,9000000,None,None,None,Ho Chi Minh,None,16500,None,66,100,0,0,0,0,0\n"
     ]
    },
    {
     "name": "stderr",
     "output_type": "stream",
     "text": [
      "Processing rows:  30%|███       | 361/1200 [18:38<41:25,  2.96s/it]"
     ]
    },
    {
     "name": "stdout",
     "output_type": "stream",
     "text": [
      "dien thoai,28490000,16,None,None,Ho Chi Minh,33990000,18300,100,None,None,0,0,0,0,0\n"
     ]
    },
    {
     "name": "stderr",
     "output_type": "stream",
     "text": [
      "Processing rows:  30%|███       | 362/1200 [18:41<40:49,  2.92s/it]"
     ]
    },
    {
     "name": "stdout",
     "output_type": "stream",
     "text": [
      "dien thoai,19735000,38,None,None,Ha Noi,31900000,38000,100,100,None,0,0,0,0,0\n"
     ]
    },
    {
     "name": "stderr",
     "output_type": "stream",
     "text": [
      "Processing rows:  30%|███       | 363/1200 [18:44<40:58,  2.94s/it]"
     ]
    },
    {
     "name": "stdout",
     "output_type": "stream",
     "text": [
      "dien thoai,8990000,None,None,None,Ho Chi Minh,None,45100,100,100,100,0,0,0,0,0\n"
     ]
    },
    {
     "name": "stderr",
     "output_type": "stream",
     "text": [
      "Processing rows:  30%|███       | 364/1200 [18:46<39:20,  2.82s/it]"
     ]
    },
    {
     "name": "stdout",
     "output_type": "stream",
     "text": [
      "dien thoai,8990000,10,None,None,Ho Chi Minh,9990000,19600,85,None,100,0,0,0,0,0\n"
     ]
    },
    {
     "name": "stderr",
     "output_type": "stream",
     "text": [
      "Processing rows:  30%|███       | 365/1200 [18:49<39:11,  2.82s/it]"
     ]
    },
    {
     "name": "stdout",
     "output_type": "stream",
     "text": [
      "dien thoai,8990000,10,25,5,Ho Chi Minh,11490000,18300,99,99,100,0,0,0,0,5\n"
     ]
    },
    {
     "name": "stderr",
     "output_type": "stream",
     "text": [
      "Processing rows:  30%|███       | 366/1200 [18:52<38:34,  2.77s/it]"
     ]
    },
    {
     "name": "stdout",
     "output_type": "stream",
     "text": [
      "dien thoai,8990000,18,None,1,Ho Chi Minh,10990000,18300,85,None,100,0,0,0,0,1\n"
     ]
    },
    {
     "name": "stderr",
     "output_type": "stream",
     "text": [
      "Processing rows:  31%|███       | 367/1200 [18:54<37:24,  2.69s/it]"
     ]
    },
    {
     "name": "stdout",
     "output_type": "stream",
     "text": [
      "dien thoai,8990000,None,None,1,Ho Chi Minh,9000000,0,97,100,50,0,0,0,0,1\n"
     ]
    },
    {
     "name": "stderr",
     "output_type": "stream",
     "text": [
      "Processing rows:  31%|███       | 368/1200 [18:57<38:34,  2.78s/it]"
     ]
    },
    {
     "name": "stdout",
     "output_type": "stream",
     "text": [
      "dien thoai,8990000,25,101,41,Ho Chi Minh,11990000,16500,97,None,None,2,0,0,0,39\n"
     ]
    },
    {
     "name": "stderr",
     "output_type": "stream",
     "text": [
      "Processing rows:  31%|███       | 369/1200 [19:01<42:08,  3.04s/it]"
     ]
    },
    {
     "name": "stdout",
     "output_type": "stream",
     "text": [
      "dien thoai,8990000,2,14,6,Ha Noi,9190000,13700,95,100,100,0,0,0,1,5\n"
     ]
    },
    {
     "name": "stderr",
     "output_type": "stream",
     "text": [
      "Processing rows:  31%|███       | 370/1200 [19:03<39:40,  2.87s/it]"
     ]
    },
    {
     "name": "stdout",
     "output_type": "stream",
     "text": [
      "dien thoai,8990000,None,8,2,Ho Chi Minh,None,0,96,75,None,0,0,0,0,2\n"
     ]
    },
    {
     "name": "stderr",
     "output_type": "stream",
     "text": [
      "Processing rows:  31%|███       | 371/1200 [19:07<42:28,  3.07s/it]"
     ]
    },
    {
     "name": "stdout",
     "output_type": "stream",
     "text": [
      "dien thoai,8979000,10,None,None,Ben Tre,9990000,28700,97,100,100,0,0,0,0,0\n"
     ]
    },
    {
     "name": "stderr",
     "output_type": "stream",
     "text": [
      "Processing rows:  31%|███       | 372/1200 [19:10<42:11,  3.06s/it]"
     ]
    },
    {
     "name": "stdout",
     "output_type": "stream",
     "text": [
      "dien thoai,8979000,10,None,None,Ben Tre,9990000,28700,98,100,100,0,0,0,0,0\n"
     ]
    },
    {
     "name": "stderr",
     "output_type": "stream",
     "text": [
      "Processing rows:  31%|███       | 373/1200 [19:14<44:19,  3.22s/it]"
     ]
    },
    {
     "name": "stdout",
     "output_type": "stream",
     "text": [
      "dien thoai,8890000,60,9100,1557,Ho Chi Minh,23990000,5500,94,98,100,34,13,14,37,1459\n"
     ]
    },
    {
     "name": "stderr",
     "output_type": "stream",
     "text": [
      "Processing rows:  31%|███       | 374/1200 [19:17<45:47,  3.33s/it]"
     ]
    },
    {
     "name": "stdout",
     "output_type": "stream",
     "text": [
      "dien thoai,8889000,18,12,4,Tien Giang,12500000,28700,97,100,100,0,0,0,0,4\n"
     ]
    },
    {
     "name": "stderr",
     "output_type": "stream",
     "text": [
      "Processing rows:  31%|███▏      | 375/1200 [19:20<42:47,  3.11s/it]"
     ]
    },
    {
     "name": "stdout",
     "output_type": "stream",
     "text": [
      "dien thoai,8888000,23,16,7,Ho Chi Minh,11500000,18300,96,75,100,0,0,0,0,7\n"
     ]
    },
    {
     "name": "stderr",
     "output_type": "stream",
     "text": [
      "Processing rows:  31%|███▏      | 376/1200 [19:23<41:05,  2.99s/it]"
     ]
    },
    {
     "name": "stdout",
     "output_type": "stream",
     "text": [
      "dien thoai,8870000,NaN,5,3,Ho Chi Minh,NaN,16500,97,95,100,0,0,0,0,3\n"
     ]
    },
    {
     "name": "stderr",
     "output_type": "stream",
     "text": [
      "Processing rows:  31%|███▏      | 377/1200 [19:26<41:46,  3.05s/it]"
     ]
    },
    {
     "name": "stdout",
     "output_type": "stream",
     "text": [
      "dien thoai,8690000,None,None,None,Ha Noi,None,0,95,100,50,0,0,0,0,0\n"
     ]
    },
    {
     "name": "stderr",
     "output_type": "stream",
     "text": [
      "Processing rows:  32%|███▏      | 378/1200 [19:29<41:25,  3.02s/it]"
     ]
    },
    {
     "name": "stdout",
     "output_type": "stream",
     "text": [
      "dien thoai,8690000,24,9,4,Ho Chi Minh,11500000,16500,96,75,100,0,0,0,0,4\n"
     ]
    },
    {
     "name": "stderr",
     "output_type": "stream",
     "text": [
      "Processing rows:  32%|███▏      | 379/1200 [19:31<40:00,  2.92s/it]"
     ]
    },
    {
     "name": "stdout",
     "output_type": "stream",
     "text": [
      "dien thoai,8690000,None,None,None,Ho Chi Minh,None,1928000,None,None,None,0,0,0,0,0\n"
     ]
    },
    {
     "name": "stderr",
     "output_type": "stream",
     "text": [
      "Processing rows:  32%|███▏      | 380/1200 [19:35<43:23,  3.17s/it]"
     ]
    },
    {
     "name": "stdout",
     "output_type": "stream",
     "text": [
      "dien thoai,8690000,12,5,2,Vinh Phuc,10650000,37700,100,100,96,0,0,0,0,2\n"
     ]
    },
    {
     "name": "stderr",
     "output_type": "stream",
     "text": [
      "Processing rows:  32%|███▏      | 381/1200 [19:39<44:35,  3.27s/it]"
     ]
    },
    {
     "name": "stdout",
     "output_type": "stream",
     "text": [
      "dien thoai,8679000,42,43,12,Tien Giang,14900000,28700,97,100,100,0,0,0,0,12\n"
     ]
    },
    {
     "name": "stderr",
     "output_type": "stream",
     "text": [
      "Processing rows:  32%|███▏      | 382/1200 [19:42<43:06,  3.16s/it]"
     ]
    },
    {
     "name": "stdout",
     "output_type": "stream",
     "text": [
      "dien thoai,8600000,None,None,None,Ho Chi Minh,None,16500,None,66,100,0,0,0,0,0\n"
     ]
    },
    {
     "name": "stderr",
     "output_type": "stream",
     "text": [
      "Processing rows:  32%|███▏      | 383/1200 [19:44<41:55,  3.08s/it]"
     ]
    },
    {
     "name": "stdout",
     "output_type": "stream",
     "text": [
      "dien thoai,8590000,14,None,1,Ho Chi Minh,9990000,0,98,100,90,0,0,0,0,1\n"
     ]
    },
    {
     "name": "stderr",
     "output_type": "stream",
     "text": [
      "Processing rows:  32%|███▏      | 384/1200 [19:48<43:48,  3.22s/it]"
     ]
    },
    {
     "name": "stdout",
     "output_type": "stream",
     "text": [
      "dien thoai,8590000,22,None,None,Ho Chi Minh,11190000,0,96,75,100,0,0,0,0,0\n"
     ]
    },
    {
     "name": "stderr",
     "output_type": "stream",
     "text": [
      "Processing rows:  32%|███▏      | 385/1200 [19:52<45:04,  3.32s/it]"
     ]
    },
    {
     "name": "stdout",
     "output_type": "stream",
     "text": [
      "dien thoai,8590000,14,None,None,Da Nang,9990000,0,93,None,100,0,0,0,0,0\n"
     ]
    },
    {
     "name": "stderr",
     "output_type": "stream",
     "text": [
      "Processing rows:  32%|███▏      | 386/1200 [19:55<45:09,  3.33s/it]"
     ]
    },
    {
     "name": "stdout",
     "output_type": "stream",
     "text": [
      "dien thoai,8590000,17,5,2,Ha Noi,10990000,26100,100,100,100,0,0,0,1,1\n"
     ]
    },
    {
     "name": "stderr",
     "output_type": "stream",
     "text": [
      "Processing rows:  32%|███▏      | 387/1200 [19:58<44:35,  3.29s/it]"
     ]
    },
    {
     "name": "stdout",
     "output_type": "stream",
     "text": [
      "dien thoai,8590000,14,11,2,Da Nang,10990000,38000,97,82,86,0,0,0,0,2\n"
     ]
    },
    {
     "name": "stderr",
     "output_type": "stream",
     "text": [
      "Processing rows:  32%|███▏      | 388/1200 [20:01<41:33,  3.07s/it]"
     ]
    },
    {
     "name": "stdout",
     "output_type": "stream",
     "text": [
      "dien thoai,8499000,None,None,None,Ho Chi Minh,None,16500,None,None,60,0,0,0,0,0\n"
     ]
    },
    {
     "name": "stderr",
     "output_type": "stream",
     "text": [
      "Processing rows:  32%|███▏      | 389/1200 [20:04<42:09,  3.12s/it]"
     ]
    },
    {
     "name": "stdout",
     "output_type": "stream",
     "text": [
      "dien thoai,8498000,2,None,None,Ho Chi Minh,8690000,0,98,100,100,0,0,0,0,0\n"
     ]
    },
    {
     "name": "stderr",
     "output_type": "stream",
     "text": [
      "Processing rows:  32%|███▎      | 390/1200 [20:07<42:31,  3.15s/it]"
     ]
    },
    {
     "name": "stdout",
     "output_type": "stream",
     "text": [
      "dien thoai,8490000,6,None,None,Da Nang,9000000,38000,97,100,100,0,0,0,0,0\n"
     ]
    },
    {
     "name": "stderr",
     "output_type": "stream",
     "text": [
      "Processing rows:  33%|███▎      | 391/1200 [20:11<44:13,  3.28s/it]"
     ]
    },
    {
     "name": "stdout",
     "output_type": "stream",
     "text": [
      "dien thoai,8490000,15,None,None,Ho Chi Minh,9990000,0,97,100,50,0,0,0,0,0\n"
     ]
    },
    {
     "name": "stderr",
     "output_type": "stream",
     "text": [
      "Processing rows:  33%|███▎      | 392/1200 [20:14<45:48,  3.40s/it]"
     ]
    },
    {
     "name": "stdout",
     "output_type": "stream",
     "text": [
      "dien thoai,8490000,15,None,None,Ho Chi Minh,9990000,18300,85,None,100,0,0,0,0,0\n"
     ]
    },
    {
     "name": "stderr",
     "output_type": "stream",
     "text": [
      "Processing rows:  33%|███▎      | 393/1200 [20:18<46:04,  3.43s/it]"
     ]
    },
    {
     "name": "stdout",
     "output_type": "stream",
     "text": [
      "dien thoai,8490000,6,None,None,Ho Chi Minh,8990000,18300,85,None,100,0,0,0,0,0\n"
     ]
    },
    {
     "name": "stderr",
     "output_type": "stream",
     "text": [
      "Processing rows:  33%|███▎      | 394/1200 [20:21<46:39,  3.47s/it]"
     ]
    },
    {
     "name": "stdout",
     "output_type": "stream",
     "text": [
      "dien thoai,8490000,15,None,None,Da Nang,9990000,0,97,100,None,0,0,0,0,0\n"
     ]
    },
    {
     "name": "stderr",
     "output_type": "stream",
     "text": [
      "Processing rows:  33%|███▎      | 395/1200 [20:24<43:39,  3.25s/it]"
     ]
    },
    {
     "name": "stdout",
     "output_type": "stream",
     "text": [
      "dien thoai,8489000,15,9,None,Da Nang,9990000,38000,97,82,86,0,0,0,0,0\n"
     ]
    },
    {
     "name": "stderr",
     "output_type": "stream",
     "text": [
      "Processing rows:  33%|███▎      | 396/1200 [20:27<40:04,  2.99s/it]"
     ]
    },
    {
     "name": "stdout",
     "output_type": "stream",
     "text": [
      "dien thoai,8480000,6,None,None,Ho Chi Minh,8990000,0,97,100,50,0,0,0,0,0\n"
     ]
    },
    {
     "name": "stderr",
     "output_type": "stream",
     "text": [
      "Processing rows:  33%|███▎      | 397/1200 [20:29<39:32,  2.95s/it]"
     ]
    },
    {
     "name": "stdout",
     "output_type": "stream",
     "text": [
      "dien thoai,8410000,11,None,None,Ho Chi Minh,9490000,0,100,None,100,0,0,0,0,0\n"
     ]
    },
    {
     "name": "stderr",
     "output_type": "stream",
     "text": [
      "Processing rows:  33%|███▎      | 398/1200 [20:32<39:08,  2.93s/it]"
     ]
    },
    {
     "name": "stdout",
     "output_type": "stream",
     "text": [
      "dien thoai,8390000,7,7,1,Long An,8990000,28700,99,100,94,0,0,0,0,2\n"
     ]
    },
    {
     "name": "stderr",
     "output_type": "stream",
     "text": [
      "Processing rows:  33%|███▎      | 399/1200 [20:35<38:42,  2.90s/it]"
     ]
    },
    {
     "name": "stdout",
     "output_type": "stream",
     "text": [
      "dien thoai,8390000,30,14,None,Da Nang,11990000,38000,97,82,86,0,0,0,0,0\n"
     ]
    },
    {
     "name": "stderr",
     "output_type": "stream",
     "text": [
      "Processing rows:  33%|███▎      | 400/1200 [20:39<41:08,  3.09s/it]"
     ]
    },
    {
     "name": "stdout",
     "output_type": "stream",
     "text": [
      "dien thoai,8380000,27,None,None,Ho Chi Minh,11490000,16500,98,82,100,0,0,0,0,0\n"
     ]
    },
    {
     "name": "stderr",
     "output_type": "stream",
     "text": [
      "Processing rows:  33%|███▎      | 401/1200 [20:42<40:39,  3.05s/it]"
     ]
    },
    {
     "name": "stdout",
     "output_type": "stream",
     "text": [
      "dien thoai,28791000,10,None,None,Ha Noi,31990200,None,92,None,33,0,0,0,0,0\n"
     ]
    },
    {
     "name": "stderr",
     "output_type": "stream",
     "text": [
      "Processing rows:  34%|███▎      | 402/1200 [20:44<39:12,  2.95s/it]"
     ]
    },
    {
     "name": "stdout",
     "output_type": "stream",
     "text": [
      "dien thoai,14990000,None,None,1,Ho Chi Minh,None,0,100,None,100,0,0,0,0,1\n"
     ]
    },
    {
     "name": "stderr",
     "output_type": "stream",
     "text": [
      "Processing rows:  34%|███▎      | 403/1200 [20:48<40:40,  3.06s/it]"
     ]
    },
    {
     "name": "stdout",
     "output_type": "stream",
     "text": [
      "dien thoai,13400000,None,None,None,Nam Định,None,37700,87,80,100,0,0,0,0,0\n"
     ]
    },
    {
     "name": "stderr",
     "output_type": "stream",
     "text": [
      "Processing rows:  34%|███▎      | 404/1200 [20:50<39:00,  2.94s/it]"
     ]
    },
    {
     "name": "stdout",
     "output_type": "stream",
     "text": [
      "dien thoai,12200000,18,None,None,Ha Noi,16890500,None,92,None,33,0,0,0,0,0\n"
     ]
    },
    {
     "name": "stderr",
     "output_type": "stream",
     "text": [
      "Processing rows:  34%|███▍      | 405/1200 [20:53<39:05,  2.95s/it]"
     ]
    },
    {
     "name": "stdout",
     "output_type": "stream",
     "text": [
      "dien thoai,11800000,None,None,None,Nam Dinh,None,37700,87,80,100,0,0,0,0,0\n"
     ]
    },
    {
     "name": "stderr",
     "output_type": "stream",
     "text": [
      "Processing rows:  34%|███▍      | 406/1200 [20:56<38:18,  2.90s/it]"
     ]
    },
    {
     "name": "stdout",
     "output_type": "stream",
     "text": [
      "dien thoai,11690000,22,None,None,Da Nang,None,None,None,None,None,0,0,0,0,0\n"
     ]
    },
    {
     "name": "stderr",
     "output_type": "stream",
     "text": [
      "Processing rows:  34%|███▍      | 407/1200 [20:59<38:02,  2.88s/it]"
     ]
    },
    {
     "name": "stdout",
     "output_type": "stream",
     "text": [
      "dien thoai,11680000,10,35,8,Ho Chi Minh,12990000,18300,98,100,92,0,0,0,0,9\n"
     ]
    },
    {
     "name": "stderr",
     "output_type": "stream",
     "text": [
      "Processing rows:  34%|███▍      | 408/1200 [21:02<40:18,  3.05s/it]"
     ]
    },
    {
     "name": "stdout",
     "output_type": "stream",
     "text": [
      "dien thoai,11617600,22,33,2,Ho Chi Minh,14889600,None,91,None,100,0,0,0,0,3\n"
     ]
    },
    {
     "name": "stderr",
     "output_type": "stream",
     "text": [
      "Processing rows:  34%|███▍      | 409/1200 [21:06<41:20,  3.14s/it]"
     ]
    },
    {
     "name": "stdout",
     "output_type": "stream",
     "text": [
      "dien thoai,11039000,26,None,0,Ben Tre,14890000,28700,98,100,100,0,0,0,0,1\n"
     ]
    },
    {
     "name": "stderr",
     "output_type": "stream",
     "text": [
      "Processing rows:  34%|███▍      | 410/1200 [21:09<41:24,  3.14s/it]"
     ]
    },
    {
     "name": "stdout",
     "output_type": "stream",
     "text": [
      "dien thoai,10990000,None,15,1,Ho Chi Minh,None,18300,99,99,98,0,0,0,0,1\n"
     ]
    },
    {
     "name": "stderr",
     "output_type": "stream",
     "text": [
      "Processing rows:  34%|███▍      | 411/1200 [21:12<39:27,  3.00s/it]"
     ]
    },
    {
     "name": "stdout",
     "output_type": "stream",
     "text": [
      "dien thoai,10690000,11,None,None,Da Nang,11990000,27000,100,100,100,0,0,0,0,0\n"
     ]
    },
    {
     "name": "stderr",
     "output_type": "stream",
     "text": [
      "Processing rows:  34%|███▍      | 412/1200 [21:14<38:53,  2.96s/it]"
     ]
    },
    {
     "name": "stdout",
     "output_type": "stream",
     "text": [
      "dien thoai,10490000,None,None,None,Ho Chi Minh,None,16500,99,100,None,0,0,0,0,0\n"
     ]
    },
    {
     "name": "stderr",
     "output_type": "stream",
     "text": [
      "Processing rows:  34%|███▍      | 413/1200 [21:17<38:51,  2.96s/it]"
     ]
    },
    {
     "name": "stdout",
     "output_type": "stream",
     "text": [
      "dien thoai,10489500,None,None,None,Ho Chi Minh,None,16500,None,None,66,0,0,0,0,0\n"
     ]
    },
    {
     "name": "stderr",
     "output_type": "stream",
     "text": [
      "Processing rows:  34%|███▍      | 414/1200 [21:21<40:14,  3.07s/it]"
     ]
    },
    {
     "name": "stdout",
     "output_type": "stream",
     "text": [
      "dien thoai,10489000,52,237,35,Ho Chi Minh,21990000,18300,91,99,100,2,0,0,2,32\n"
     ]
    },
    {
     "name": "stderr",
     "output_type": "stream",
     "text": [
      "Processing rows:  35%|███▍      | 415/1200 [21:23<39:09,  2.99s/it]"
     ]
    },
    {
     "name": "stdout",
     "output_type": "stream",
     "text": [
      "dien thoai,10390000,22,None,None,Vinh Phuc,13390000,37700,100,100,97,0,0,0,0,0\n"
     ]
    },
    {
     "name": "stderr",
     "output_type": "stream",
     "text": [
      "Processing rows:  35%|███▍      | 416/1200 [21:27<40:01,  3.06s/it]"
     ]
    },
    {
     "name": "stdout",
     "output_type": "stream",
     "text": [
      "dien thoai,10100000,8,6,2,Ho Chi Minh,10990000,18300,98,100,92,0,0,0,0,2\n"
     ]
    },
    {
     "name": "stderr",
     "output_type": "stream",
     "text": [
      "Processing rows:  35%|███▍      | 417/1200 [21:30<39:21,  3.02s/it]"
     ]
    },
    {
     "name": "stdout",
     "output_type": "stream",
     "text": [
      "dien thoai,9990000,None,None,None,Ho Chi Minh,None,16500,None,None,66,0,0,0,0,0\n"
     ]
    },
    {
     "name": "stderr",
     "output_type": "stream",
     "text": [
      "Processing rows:  35%|███▍      | 418/1200 [21:32<38:01,  2.92s/it]"
     ]
    },
    {
     "name": "stdout",
     "output_type": "stream",
     "text": [
      "dien thoai,9890000,21,38,12,Binh Duong,12490000,None,98,None,98,0,0,1,1,11\n"
     ]
    },
    {
     "name": "stderr",
     "output_type": "stream",
     "text": [
      "Processing rows:  35%|███▍      | 419/1200 [21:35<36:34,  2.81s/it]"
     ]
    },
    {
     "name": "stdout",
     "output_type": "stream",
     "text": [
      "dien thoai,9790000,1,None,None,Ho Chi Minh,9900000,18300,99,99,98,0,0,0,0,0\n"
     ]
    },
    {
     "name": "stderr",
     "output_type": "stream",
     "text": [
      "Processing rows:  35%|███▌      | 420/1200 [21:38<36:13,  2.79s/it]"
     ]
    },
    {
     "name": "stdout",
     "output_type": "stream",
     "text": [
      "dien thoai,9500000,None,10,None,Nam Định,None,37700,87,80,100,0,0,0,0,0\n"
     ]
    },
    {
     "name": "stderr",
     "output_type": "stream",
     "text": [
      "Processing rows:  35%|███▌      | 421/1200 [21:41<39:24,  3.04s/it]"
     ]
    },
    {
     "name": "stdout",
     "output_type": "stream",
     "text": [
      "dien thoai,9499000,10,None,None,Ho Chi Minh,10499000,0,82,None,100,0,0,0,0,0\n"
     ]
    },
    {
     "name": "stderr",
     "output_type": "stream",
     "text": [
      "Processing rows:  35%|███▌      | 422/1200 [21:44<36:41,  2.83s/it]"
     ]
    },
    {
     "name": "stdout",
     "output_type": "stream",
     "text": [
      "dien thoai,9390000,17,None,1,Vinh Phuc,11250000,43900,100,100,97,0,0,0,0,1\n"
     ]
    },
    {
     "name": "stderr",
     "output_type": "stream",
     "text": [
      "Processing rows:  35%|███▌      | 423/1200 [21:47<37:33,  2.90s/it]"
     ]
    },
    {
     "name": "stdout",
     "output_type": "stream",
     "text": [
      "dien thoai,9220491,29,62,2,Ho Chi Minh,12990000,16500,97,100,100,0,0,0,1,1\n"
     ]
    },
    {
     "name": "stderr",
     "output_type": "stream",
     "text": [
      "Processing rows:  35%|███▌      | 424/1200 [21:49<35:11,  2.72s/it]"
     ]
    },
    {
     "name": "stdout",
     "output_type": "stream",
     "text": [
      "dien thoai,9090000,24,534,126,Ha Noi,11990000,38000,99,100,85,1,0,0,2,123\n"
     ]
    },
    {
     "name": "stderr",
     "output_type": "stream",
     "text": [
      "Processing rows:  35%|███▌      | 425/1200 [21:52<34:51,  2.70s/it]"
     ]
    },
    {
     "name": "stdout",
     "output_type": "stream",
     "text": [
      "dien thoai,9060000,18,None,None,Ho Chi Minh,10990000,0,100,None,100,0,0,0,0,0\n"
     ]
    },
    {
     "name": "stderr",
     "output_type": "stream",
     "text": [
      "Processing rows:  36%|███▌      | 426/1200 [21:54<32:18,  2.50s/it]"
     ]
    },
    {
     "name": "stdout",
     "output_type": "stream",
     "text": [
      "dien thoai,8991000,None,None,None,Ho Chi Minh,None,0,79,None,None,0,0,0,0,0\n"
     ]
    },
    {
     "name": "stderr",
     "output_type": "stream",
     "text": [
      "Processing rows:  36%|███▌      | 427/1200 [21:57<33:55,  2.63s/it]"
     ]
    },
    {
     "name": "stdout",
     "output_type": "stream",
     "text": [
      "dien thoai,8990000,None,None,None,Ho Chi Minh,None,45100,100,100,100,0,0,0,0,0\n"
     ]
    },
    {
     "name": "stderr",
     "output_type": "stream",
     "text": [
      "Processing rows:  36%|███▌      | 428/1200 [22:01<39:34,  3.08s/it]"
     ]
    },
    {
     "name": "stdout",
     "output_type": "stream",
     "text": [
      "dien thoai,8990000,10,23,5,Ho Chi Minh,11490000,18300,99,99,98,0,0,0,0,5\n"
     ]
    },
    {
     "name": "stderr",
     "output_type": "stream",
     "text": [
      "Processing rows:  36%|███▌      | 429/1200 [22:03<38:23,  2.99s/it]"
     ]
    },
    {
     "name": "stdout",
     "output_type": "stream",
     "text": [
      "dien thoai,8890000,60,9100,1558,Ho Chi Minh,23990000,5500,94,98,100,34,13,14,37,1460\n"
     ]
    },
    {
     "name": "stderr",
     "output_type": "stream",
     "text": [
      "Processing rows:  36%|███▌      | 430/1200 [22:07<39:08,  3.05s/it]"
     ]
    },
    {
     "name": "stdout",
     "output_type": "stream",
     "text": [
      "dien thoai,8888000,23,16,7,Ho Chi Minh,11500000,18300,96,75,75,0,0,0,0,7\n"
     ]
    },
    {
     "name": "stderr",
     "output_type": "stream",
     "text": [
      "Processing rows:  36%|███▌      | 431/1200 [22:09<36:58,  2.88s/it]"
     ]
    },
    {
     "name": "stdout",
     "output_type": "stream",
     "text": [
      "dien thoai,8390000,7,None,1,Long An,8990000,28700,99,100,96,0,0,0,0,2\n"
     ]
    },
    {
     "name": "stderr",
     "output_type": "stream",
     "text": [
      "Processing rows:  36%|███▌      | 432/1200 [22:12<36:11,  2.83s/it]"
     ]
    },
    {
     "name": "stdout",
     "output_type": "stream",
     "text": [
      "dien thoai,7850000,17,None,None,Ho Chi Minh,9500000,16500,98,82,100,0,0,0,0,0\n"
     ]
    },
    {
     "name": "stderr",
     "output_type": "stream",
     "text": [
      "Processing rows:  36%|███▌      | 433/1200 [22:15<36:39,  2.87s/it]"
     ]
    },
    {
     "name": "stdout",
     "output_type": "stream",
     "text": [
      "dien thoai,7490000,7,9,1,Ho Chi Minh,8090000,18300,99,99,98,0,0,0,0,1\n"
     ]
    },
    {
     "name": "stderr",
     "output_type": "stream",
     "text": [
      "Processing rows:  36%|███▌      | 434/1200 [22:18<36:36,  2.87s/it]"
     ]
    },
    {
     "name": "stdout",
     "output_type": "stream",
     "text": [
      "dien thoai,7490000,12,13,1,Ho Chi Minh,8990000,18300,99,99,98,0,0,0,0,2\n"
     ]
    },
    {
     "name": "stderr",
     "output_type": "stream",
     "text": [
      "Processing rows:  36%|███▋      | 435/1200 [22:21<36:40,  2.88s/it]"
     ]
    },
    {
     "name": "stdout",
     "output_type": "stream",
     "text": [
      "dien thoai,7400000,1,22,1,Nam Dinh,10200000,37700,87,80,100,0,0,0,0,1\n"
     ]
    },
    {
     "name": "stderr",
     "output_type": "stream",
     "text": [
      "Processing rows:  36%|███▋      | 436/1200 [22:24<38:49,  3.05s/it]"
     ]
    },
    {
     "name": "stdout",
     "output_type": "stream",
     "text": [
      "dien thoai,7349000,11,9,2,Ho Chi Minh,8290000,18300,99,99,98,0,0,0,0,2\n"
     ]
    },
    {
     "name": "stderr",
     "output_type": "stream",
     "text": [
      "Processing rows:  36%|███▋      | 437/1200 [22:28<41:17,  3.25s/it]"
     ]
    },
    {
     "name": "stdout",
     "output_type": "stream",
     "text": [
      "dien thoai,7290000,None,None,None,Ho Chi Minh,None,1928000,99,99,98,0,0,0,0,0\n"
     ]
    },
    {
     "name": "stderr",
     "output_type": "stream",
     "text": [
      "Processing rows:  36%|███▋      | 438/1200 [22:30<39:13,  3.09s/it]"
     ]
    },
    {
     "name": "stdout",
     "output_type": "stream",
     "text": [
      "dien thoai,7199000,None,None,None,Ha Noi,None,32700,None,None,None,0,0,0,0,0\n"
     ]
    },
    {
     "name": "stderr",
     "output_type": "stream",
     "text": [
      "Processing rows:  37%|███▋      | 439/1200 [22:33<36:05,  2.85s/it]"
     ]
    },
    {
     "name": "stdout",
     "output_type": "stream",
     "text": [
      "dien thoai,7190000,7,None,2,Long An,7690000,28700,99,100,96,0,0,0,0,2\n"
     ]
    },
    {
     "name": "stderr",
     "output_type": "stream",
     "text": [
      "Processing rows:  37%|███▋      | 440/1200 [22:36<37:17,  2.94s/it]"
     ]
    },
    {
     "name": "stdout",
     "output_type": "stream",
     "text": [
      "dien thoai,7180000,32,208,49,Ho Chi Minh,10490000,16500,99,99,98,0,0,0,0,49\n"
     ]
    },
    {
     "name": "stderr",
     "output_type": "stream",
     "text": [
      "Processing rows:  37%|███▋      | 441/1200 [22:39<37:19,  2.95s/it]"
     ]
    },
    {
     "name": "stdout",
     "output_type": "stream",
     "text": [
      "dien thoai,41990000,None,11,None,Ho Chi Minh,44990000,20100,99,100,85,0,0,0,0,0\n"
     ]
    },
    {
     "name": "stderr",
     "output_type": "stream",
     "text": [
      "Processing rows:  37%|███▋      | 442/1200 [22:41<35:00,  2.77s/it]"
     ]
    },
    {
     "name": "stdout",
     "output_type": "stream",
     "text": [
      "dien thoai,37590001,NaN,24,2,Ho Chi Minh,44490000,NaN,91,NaN,100,0,0,0,0,2\n"
     ]
    },
    {
     "name": "stderr",
     "output_type": "stream",
     "text": [
      "Processing rows:  37%|███▋      | 443/1200 [22:44<34:57,  2.77s/it]"
     ]
    },
    {
     "name": "stdout",
     "output_type": "stream",
     "text": [
      "dien thoai,37020000,None,None,None,Ha Noi,None,38000,100,100,None,0,0,0,0,0\n"
     ]
    },
    {
     "name": "stderr",
     "output_type": "stream",
     "text": [
      "Processing rows:  37%|███▋      | 444/1200 [22:47<36:40,  2.91s/it]"
     ]
    },
    {
     "name": "stdout",
     "output_type": "stream",
     "text": [
      "dien thoai,31989000,1400,340,Ho Chi Minh,33990000,16500,91,99,100,2,0,1,0,337\n"
     ]
    },
    {
     "name": "stderr",
     "output_type": "stream",
     "text": [
      "Processing rows:  37%|███▋      | 445/1200 [22:50<36:12,  2.88s/it]"
     ]
    },
    {
     "name": "stdout",
     "output_type": "stream",
     "text": [
      "dien thoai,31590000,None,21,2,Ho Chi Minh,37490000,None,91,None,100,0,0,0,0,3\n"
     ]
    },
    {
     "name": "stderr",
     "output_type": "stream",
     "text": [
      "Processing rows:  37%|███▋      | 446/1200 [22:54<38:27,  3.06s/it]"
     ]
    },
    {
     "name": "stdout",
     "output_type": "stream",
     "text": [
      "dien thoai,29990000,None,None,None,Ha Noi,32990000,38000,98,100,92,0,0,0,0,0\n"
     ]
    },
    {
     "name": "stderr",
     "output_type": "stream",
     "text": [
      "Processing rows:  37%|███▋      | 447/1200 [22:57<39:35,  3.15s/it]"
     ]
    },
    {
     "name": "stdout",
     "output_type": "stream",
     "text": [
      "dien thoai,29517000,6,1,Ho Chi Minh,32990000,18300,99,99,98,0,0,0,0,2\n"
     ]
    },
    {
     "name": "stderr",
     "output_type": "stream",
     "text": [
      "Processing rows:  37%|███▋      | 448/1200 [23:00<40:07,  3.20s/it]"
     ]
    },
    {
     "name": "stdout",
     "output_type": "stream",
     "text": [
      "dien thoai,29890000,16,4,Binh Duong,35990000,0,98,98,0,0,0,0,4\n"
     ]
    },
    {
     "name": "stderr",
     "output_type": "stream",
     "text": [
      "Processing rows:  37%|███▋      | 449/1200 [23:03<40:14,  3.22s/it]"
     ]
    },
    {
     "name": "stdout",
     "output_type": "stream",
     "text": [
      "dien thoai,29590000,NaN,11900,2674,Ho Chi Minh,34999000,5500,94,98,100,31,3,8,9,2625\n"
     ]
    },
    {
     "name": "stderr",
     "output_type": "stream",
     "text": [
      "Processing rows:  38%|███▊      | 450/1200 [23:06<37:44,  3.02s/it]"
     ]
    },
    {
     "name": "stdout",
     "output_type": "stream",
     "text": [
      "dien thoai,28791000,None,None,None,Ha Noi,31990000,None,94,None,83,0,0,0,0,0\n"
     ]
    },
    {
     "name": "stderr",
     "output_type": "stream",
     "text": [
      "Processing rows:  38%|███▊      | 451/1200 [23:09<38:16,  3.07s/it]"
     ]
    },
    {
     "name": "stdout",
     "output_type": "stream",
     "text": [
      "dien thoai,28090000,None,13,None,Ho Chi Minh,33990000,None,91,None,100,0,0,0,0,0\n"
     ]
    },
    {
     "name": "stderr",
     "output_type": "stream",
     "text": [
      "Processing rows:  38%|███▊      | 452/1200 [23:13<42:54,  3.44s/it]"
     ]
    },
    {
     "name": "stdout",
     "output_type": "stream",
     "text": [
      "dien thoai,27989000,155,28,Ho Chi Minh,30490000,16500,91,99,100,0,0,0,1,28\n"
     ]
    },
    {
     "name": "stderr",
     "output_type": "stream",
     "text": [
      "Processing rows:  38%|███▊      | 453/1200 [23:17<43:28,  3.49s/it]"
     ]
    },
    {
     "name": "stdout",
     "output_type": "stream",
     "text": [
      "dien thoai,24898000,6,6,None,Ho Chi Minh,33990000,18300,99,99,98,0,0,0,0,0\n"
     ]
    },
    {
     "name": "stderr",
     "output_type": "stream",
     "text": [
      "Processing rows:  38%|███▊      | 454/1200 [23:20<41:17,  3.32s/it]"
     ]
    },
    {
     "name": "stdout",
     "output_type": "stream",
     "text": [
      "dien thoai,24880000,None,None,None,Ha Noi,31990000,None,94,None,83,0,0,0,0,0\n"
     ]
    },
    {
     "name": "stderr",
     "output_type": "stream",
     "text": [
      "Processing rows:  38%|███▊      | 455/1200 [23:22<38:00,  3.06s/it]"
     ]
    },
    {
     "name": "stdout",
     "output_type": "stream",
     "text": [
      "dien thoai,24290100,None,None,None,Ha Noi,29990000,None,94,None,83,0,0,0,0,0\n"
     ]
    },
    {
     "name": "stderr",
     "output_type": "stream",
     "text": [
      "Processing rows:  38%|███▊      | 456/1200 [23:25<36:51,  2.97s/it]"
     ]
    },
    {
     "name": "stdout",
     "output_type": "stream",
     "text": [
      "dien thoai,24140000,None,None,None,Ho Chi Minh,33990000,16500,98,82,100,0,0,0,0,0\n"
     ]
    },
    {
     "name": "stderr",
     "output_type": "stream",
     "text": [
      "Processing rows:  38%|███▊      | 457/1200 [23:28<36:13,  2.93s/it]"
     ]
    },
    {
     "name": "stdout",
     "output_type": "stream",
     "text": [
      "dien thoai,23590000,None,14,1,Ho Chi Minh,26490000,None,91,None,100,1,0,0,0,0\n"
     ]
    },
    {
     "name": "stderr",
     "output_type": "stream",
     "text": [
      "Processing rows:  38%|███▊      | 458/1200 [23:30<34:15,  2.77s/it]"
     ]
    },
    {
     "name": "stdout",
     "output_type": "stream",
     "text": [
      "dien thoai,23290000,None,7,3,Ho Chi Minh,44490000,0,98,100,88,0,0,0,1,2\n"
     ]
    },
    {
     "name": "stderr",
     "output_type": "stream",
     "text": [
      "Processing rows:  38%|███▊      | 459/1200 [23:33<33:48,  2.74s/it]"
     ]
    },
    {
     "name": "stdout",
     "output_type": "stream",
     "text": [
      "dien thoai,22990000,None,5,None,Ho Chi Minh,None,19600,99,100,85,0,0,0,0,0\n"
     ]
    },
    {
     "name": "stderr",
     "output_type": "stream",
     "text": [
      "Processing rows:  38%|███▊      | 460/1200 [23:35<31:43,  2.57s/it]"
     ]
    },
    {
     "name": "stdout",
     "output_type": "stream",
     "text": [
      "dien thoai,22890000,None,7,None,Ha Noi,26790000,38000,99,100,85,0,0,0,0,0\n"
     ]
    },
    {
     "name": "stderr",
     "output_type": "stream",
     "text": [
      "Processing rows:  38%|███▊      | 461/1200 [23:38<32:33,  2.64s/it]"
     ]
    },
    {
     "name": "stdout",
     "output_type": "stream",
     "text": [
      "dien thoai,21390000,None,None,None,Ho Chi Minh,22900000,18300,99,99,98,0,0,0,0,0\n"
     ]
    },
    {
     "name": "stderr",
     "output_type": "stream",
     "text": [
      "Processing rows:  38%|███▊      | 462/1200 [23:41<33:48,  2.75s/it]"
     ]
    },
    {
     "name": "stdout",
     "output_type": "stream",
     "text": [
      "dien thoai,21310000,None,None,None,Ha Noi,25990000,None,94,None,83,0,0,0,0,0\n"
     ]
    },
    {
     "name": "stderr",
     "output_type": "stream",
     "text": [
      "Processing rows:  39%|███▊      | 463/1200 [23:45<36:27,  2.97s/it]"
     ]
    },
    {
     "name": "stdout",
     "output_type": "stream",
     "text": [
      "dien thoai,20989000,114,29,Ho Chi Minh,22990000,16500,91,99,100,1,1,4,1,22\n"
     ]
    },
    {
     "name": "stderr",
     "output_type": "stream",
     "text": [
      "Processing rows:  39%|███▊      | 464/1200 [23:47<33:46,  2.75s/it]"
     ]
    },
    {
     "name": "stdout",
     "output_type": "stream",
     "text": [
      "dien thoai,20691000,None,None,None,Ha Noi,22990000,None,92,None,33,0,0,0,0,0\n"
     ]
    },
    {
     "name": "stderr",
     "output_type": "stream",
     "text": [
      "Processing rows:  39%|███▉      | 465/1200 [23:50<33:22,  2.72s/it]"
     ]
    },
    {
     "name": "stdout",
     "output_type": "stream",
     "text": [
      "dien thoai,20090000,None,None,1,Ho Chi Minh,22990000,None,91,None,100,0,0,0,0,1\n"
     ]
    },
    {
     "name": "stderr",
     "output_type": "stream",
     "text": [
      "Processing rows:  39%|███▉      | 466/1200 [23:53<35:52,  2.93s/it]"
     ]
    },
    {
     "name": "stdout",
     "output_type": "stream",
     "text": [
      "dien thoai,19640000,10,4,Ho Chi Minh,22990000,18300,99,99,98,0,0,0,0,4\n"
     ]
    },
    {
     "name": "stderr",
     "output_type": "stream",
     "text": [
      "Processing rows:  39%|███▉      | 467/1200 [23:56<35:05,  2.87s/it]"
     ]
    },
    {
     "name": "stdout",
     "output_type": "stream",
     "text": [
      "dien thoai,18990000,None,None,None,Da Nang,22990000,38000,97,82,80,0,0,0,0,0\n"
     ]
    },
    {
     "name": "stderr",
     "output_type": "stream",
     "text": [
      "Processing rows:  39%|███▉      | 468/1200 [23:58<33:31,  2.75s/it]"
     ]
    },
    {
     "name": "stdout",
     "output_type": "stream",
     "text": [
      "dien thoai,18990000,NaN,8,3,Ho Chi Minh,32990000,18300,99,100,85,0,0,0,0,2\n"
     ]
    },
    {
     "name": "stderr",
     "output_type": "stream",
     "text": [
      "Processing rows:  39%|███▉      | 469/1200 [24:01<33:55,  2.78s/it]"
     ]
    },
    {
     "name": "stdout",
     "output_type": "stream",
     "text": [
      "dien thoai,16990000,NaN,13,5,Ho Chi Minh,19990000,18300,99,100,85,0,0,0,0,5\n"
     ]
    },
    {
     "name": "stderr",
     "output_type": "stream",
     "text": [
      "Processing rows:  39%|███▉      | 470/1200 [24:04<33:03,  2.72s/it]"
     ]
    },
    {
     "name": "stdout",
     "output_type": "stream",
     "text": [
      "dien thoai,16769000,None,None,None,Ho Chi Minh,25990000,18300,98,82,100,0,0,0,0,0\n"
     ]
    },
    {
     "name": "stderr",
     "output_type": "stream",
     "text": [
      "Processing rows:  39%|███▉      | 471/1200 [24:07<33:55,  2.79s/it]"
     ]
    },
    {
     "name": "stdout",
     "output_type": "stream",
     "text": [
      "dien thoai,14390000,NaN,303,70,Ha Noi,17990000,38000,99,100,85,0,0,1,3,66\n"
     ]
    },
    {
     "name": "stderr",
     "output_type": "stream",
     "text": [
      "Processing rows:  39%|███▉      | 472/1200 [24:10<34:54,  2.88s/it]"
     ]
    },
    {
     "name": "stdout",
     "output_type": "stream",
     "text": [
      "dien thoai,14122403,69,18,Hà Nội,17990000,13700,95,100,100,0,1,0,0,17\n"
     ]
    },
    {
     "name": "stderr",
     "output_type": "stream",
     "text": [
      "Processing rows:  39%|███▉      | 473/1200 [24:13<37:02,  3.06s/it]"
     ]
    },
    {
     "name": "stdout",
     "output_type": "stream",
     "text": [
      "dien thoai,14089000,NaN,67,6,Ho Chi Minh,16900000,18300,97,100,100,0,0,0,0,6\n"
     ]
    },
    {
     "name": "stderr",
     "output_type": "stream",
     "text": [
      "Processing rows:  40%|███▉      | 474/1200 [24:16<35:54,  2.97s/it]"
     ]
    },
    {
     "name": "stdout",
     "output_type": "stream",
     "text": [
      "dien thoai,13990000,None,32,2,Ho Chi Minh,18990000,18300,99,100,85,0,0,0,0,2\n"
     ]
    },
    {
     "name": "stderr",
     "output_type": "stream",
     "text": [
      "Processing rows:  40%|███▉      | 475/1200 [24:19<36:03,  2.98s/it]"
     ]
    },
    {
     "name": "stdout",
     "output_type": "stream",
     "text": [
      "dien thoai,13490000,None,None,None,Ha Noi,21300000,38000,91,95,100,0,0,0,0,0\n"
     ]
    },
    {
     "name": "stderr",
     "output_type": "stream",
     "text": [
      "Processing rows:  40%|███▉      | 476/1200 [24:22<36:42,  3.04s/it]"
     ]
    },
    {
     "name": "stdout",
     "output_type": "stream",
     "text": [
      "dien thoai,12998500,NaN,16,2,Ho Chi Minh,16890500,NaN,91,NaN,100,0,0,0,1,2\n"
     ]
    },
    {
     "name": "stderr",
     "output_type": "stream",
     "text": [
      "Processing rows:  40%|███▉      | 477/1200 [24:26<38:53,  3.23s/it]"
     ]
    },
    {
     "name": "stdout",
     "output_type": "stream",
     "text": [
      "dien thoai,12700000,None,None,None,Thai Binh,13000000,37700,None,None,None,0,0,0,0,0\n"
     ]
    },
    {
     "name": "stderr",
     "output_type": "stream",
     "text": [
      "Processing rows:  40%|███▉      | 478/1200 [24:29<37:32,  3.12s/it]"
     ]
    },
    {
     "name": "stdout",
     "output_type": "stream",
     "text": [
      "dien thoai,12200000,None,None,1,Ha Noi,14900000,None,94,None,83,0,0,0,0,1\n"
     ]
    },
    {
     "name": "stderr",
     "output_type": "stream",
     "text": [
      "Processing rows:  40%|███▉      | 479/1200 [24:32<38:50,  3.23s/it]"
     ]
    },
    {
     "name": "stdout",
     "output_type": "stream",
     "text": [
      "dien thoai,11989000,91,16,Ho Chi Minh,14890000,16500,91,99,100,1,0,0,0,15\n"
     ]
    },
    {
     "name": "stderr",
     "output_type": "stream",
     "text": [
      "Processing rows:  40%|████      | 480/1200 [24:34<35:53,  2.99s/it]"
     ]
    },
    {
     "name": "stdout",
     "output_type": "stream",
     "text": [
      "dien thoai,11680000,NaN,35,8,Ho Chi Minh,12990000,18300,98,100,92,0,0,0,0,9\n"
     ]
    },
    {
     "name": "stderr",
     "output_type": "stream",
     "text": [
      "Processing rows:  40%|████      | 481/1200 [24:37<34:06,  2.85s/it]"
     ]
    },
    {
     "name": "stdout",
     "output_type": "stream",
     "text": [
      "dien thoai,23391000,None,None,None,Ha Noi,25990000,None,94,None,83,0,0,0,0,0\n"
     ]
    },
    {
     "name": "stderr",
     "output_type": "stream",
     "text": [
      "Processing rows:  40%|████      | 482/1200 [24:40<35:39,  2.98s/it]"
     ]
    },
    {
     "name": "stdout",
     "output_type": "stream",
     "text": [
      "dien thoai,11800000,None,None,None,Nam Dinh,None,37700,87,80,100,0,0,0,0,0\n"
     ]
    },
    {
     "name": "stderr",
     "output_type": "stream",
     "text": [
      "Processing rows:  40%|████      | 483/1200 [24:43<35:17,  2.95s/it]"
     ]
    },
    {
     "name": "stdout",
     "output_type": "stream",
     "text": [
      "dien thoai,11617600,None,33,2,Ho Chi Minh,14889600,None,91,None,100,0,0,0,0,3\n"
     ]
    },
    {
     "name": "stderr",
     "output_type": "stream",
     "text": [
      "Processing rows:  40%|████      | 484/1200 [24:46<34:23,  2.88s/it]"
     ]
    },
    {
     "name": "stdout",
     "output_type": "stream",
     "text": [
      "dien thoai,11039000,None,None,0,Ben Tre,14890000,28700,98,100,100,0,0,0,0,1\n"
     ]
    },
    {
     "name": "stderr",
     "output_type": "stream",
     "text": [
      "Processing rows:  40%|████      | 485/1200 [24:49<33:22,  2.80s/it]"
     ]
    },
    {
     "name": "stdout",
     "output_type": "stream",
     "text": [
      "dien thoai,10990000,None,15,1,Ho Chi Minh,None,18300,99,99,98,0,0,0,0,1\n"
     ]
    },
    {
     "name": "stderr",
     "output_type": "stream",
     "text": [
      "Processing rows:  40%|████      | 486/1200 [24:51<32:07,  2.70s/it]"
     ]
    },
    {
     "name": "stdout",
     "output_type": "stream",
     "text": [
      "dien thoai,10690000,None,None,None,Da Nang,11990000,27000,100,100,100,0,0,0,0,0\n"
     ]
    },
    {
     "name": "stderr",
     "output_type": "stream",
     "text": [
      "Processing rows:  41%|████      | 487/1200 [24:53<31:11,  2.62s/it]"
     ]
    },
    {
     "name": "stdout",
     "output_type": "stream",
     "text": [
      "dien thoai,10490000,None,None,None,Ho Chi Minh,None,16500,99,100,None,0,0,0,0,0\n"
     ]
    },
    {
     "name": "stderr",
     "output_type": "stream",
     "text": [
      "Processing rows:  41%|████      | 488/1200 [24:56<32:44,  2.76s/it]"
     ]
    },
    {
     "name": "stdout",
     "output_type": "stream",
     "text": [
      "dien thoai,10489500,None,None,None,Ho Chi Minh,None,16500,None,None,66,0,0,0,0,0\n"
     ]
    },
    {
     "name": "stderr",
     "output_type": "stream",
     "text": [
      "Processing rows:  41%|████      | 489/1200 [24:59<31:25,  2.65s/it]"
     ]
    },
    {
     "name": "stdout",
     "output_type": "stream",
     "text": [
      "dien thoai,10489000,237,35,Ho Chi Minh,21990000,18300,91,99,100,2,0,0,2,32\n"
     ]
    },
    {
     "name": "stderr",
     "output_type": "stream",
     "text": [
      "Processing rows:  41%|████      | 490/1200 [25:02<32:50,  2.78s/it]"
     ]
    },
    {
     "name": "stdout",
     "output_type": "stream",
     "text": [
      "dien thoai,10390000,None,None,None,Vinh Phuc,13390000,37700,100,100,97,0,0,0,0,0\n"
     ]
    },
    {
     "name": "stderr",
     "output_type": "stream",
     "text": [
      "Processing rows:  41%|████      | 491/1200 [25:04<31:31,  2.67s/it]"
     ]
    },
    {
     "name": "stdout",
     "output_type": "stream",
     "text": [
      "dien thoai,10100000,6,2,Ho Chi Minh,10990000,18300,98,100,92,0,0,0,0,2\n"
     ]
    },
    {
     "name": "stderr",
     "output_type": "stream",
     "text": [
      "Processing rows:  41%|████      | 492/1200 [25:07<31:06,  2.64s/it]"
     ]
    },
    {
     "name": "stdout",
     "output_type": "stream",
     "text": [
      "dien thoai,9990000,None,None,None,Ho Chi Minh,None,16500,None,None,66,0,0,0,0,0\n"
     ]
    },
    {
     "name": "stderr",
     "output_type": "stream",
     "text": [
      "Processing rows:  41%|████      | 493/1200 [25:09<30:25,  2.58s/it]"
     ]
    },
    {
     "name": "stdout",
     "output_type": "stream",
     "text": [
      "dien thoai,9890000,None,38,12,Binh Duong,12490000,None,98,None,98,0,0,1,1,11\n"
     ]
    },
    {
     "name": "stderr",
     "output_type": "stream",
     "text": [
      "Processing rows:  41%|████      | 494/1200 [25:12<29:50,  2.54s/it]"
     ]
    },
    {
     "name": "stdout",
     "output_type": "stream",
     "text": [
      "dien thoai,9790000,None,None,None,Ho Chi Minh,9900000,18300,99,99,98,0,0,0,0,0\n"
     ]
    },
    {
     "name": "stderr",
     "output_type": "stream",
     "text": [
      "Processing rows:  41%|████▏     | 495/1200 [25:15<31:50,  2.71s/it]"
     ]
    },
    {
     "name": "stdout",
     "output_type": "stream",
     "text": [
      "dien thoai,9500000,None,10,None,Nam Định,None,37700,87,80,100,0,0,0,0,0\n"
     ]
    },
    {
     "name": "stderr",
     "output_type": "stream",
     "text": [
      "Processing rows:  41%|████▏     | 496/1200 [25:18<31:45,  2.71s/it]"
     ]
    },
    {
     "name": "stdout",
     "output_type": "stream",
     "text": [
      "dien thoai,9499000,None,None,None,Ho Chi Minh,10499000,0,82,None,100,0,0,0,0,0\n"
     ]
    },
    {
     "name": "stderr",
     "output_type": "stream",
     "text": [
      "Processing rows:  41%|████▏     | 497/1200 [25:21<35:20,  3.02s/it]"
     ]
    },
    {
     "name": "stdout",
     "output_type": "stream",
     "text": [
      "dien thoai,9390000,None,1,None,Vinh Phuc,11250000,43900,100,100,97,0,0,0,0,1\n"
     ]
    },
    {
     "name": "stderr",
     "output_type": "stream",
     "text": [
      "Processing rows:  42%|████▏     | 498/1200 [25:25<35:44,  3.05s/it]"
     ]
    },
    {
     "name": "stdout",
     "output_type": "stream",
     "text": [
      "dien thoai,9220491,None,62,2,Ho Chi Minh,12990000,16500,97,100,100,0,0,0,1,1\n"
     ]
    },
    {
     "name": "stderr",
     "output_type": "stream",
     "text": [
      "Processing rows:  42%|████▏     | 499/1200 [25:27<32:58,  2.82s/it]"
     ]
    },
    {
     "name": "stdout",
     "output_type": "stream",
     "text": [
      "dien thoai,9090000,NaN,534,126,Ha Noi,11990000,38000,99,100,85,1,0,0,2,123\n"
     ]
    },
    {
     "name": "stderr",
     "output_type": "stream",
     "text": [
      "Processing rows:  42%|████▏     | 500/1200 [25:29<31:02,  2.66s/it]"
     ]
    },
    {
     "name": "stdout",
     "output_type": "stream",
     "text": [
      "dien thoai,8991000,None,None,None,Ho Chi Minh,None,0,79,None,None,0,0,0,0,0\n"
     ]
    },
    {
     "name": "stderr",
     "output_type": "stream",
     "text": [
      "Processing rows:  42%|████▏     | 501/1200 [25:32<32:20,  2.78s/it]"
     ]
    },
    {
     "name": "stdout",
     "output_type": "stream",
     "text": [
      "dien thoai,8990000,None,None,None,Ho Chi Minh,None,45100,100,100,100,0,0,0,0,0\n"
     ]
    },
    {
     "name": "stderr",
     "output_type": "stream",
     "text": [
      "Processing rows:  42%|████▏     | 502/1200 [25:35<32:16,  2.77s/it]"
     ]
    },
    {
     "name": "stdout",
     "output_type": "stream",
     "text": [
      "dien thoai,8990000,23,5,Ho Chi Minh,11490000,18300,99,99,98,0,0,0,0,5\n"
     ]
    },
    {
     "name": "stderr",
     "output_type": "stream",
     "text": [
      "Processing rows:  42%|████▏     | 503/1200 [25:38<32:53,  2.83s/it]"
     ]
    },
    {
     "name": "stdout",
     "output_type": "stream",
     "text": [
      "dien thoai,8890000,NaN,9100,1558,Ho Chi Minh,23990000,5500,94,98,100,34,13,14,37,1460\n"
     ]
    },
    {
     "name": "stderr",
     "output_type": "stream",
     "text": [
      "Processing rows:  42%|████▏     | 504/1200 [25:40<31:31,  2.72s/it]"
     ]
    },
    {
     "name": "stdout",
     "output_type": "stream",
     "text": [
      "dien thoai,8888000,NaN,16,7,Ho Chi Minh,11500000,18300,96,75,75,0,0,0,0,7\n"
     ]
    },
    {
     "name": "stderr",
     "output_type": "stream",
     "text": [
      "Processing rows:  42%|████▏     | 505/1200 [25:43<32:21,  2.79s/it]"
     ]
    },
    {
     "name": "stdout",
     "output_type": "stream",
     "text": [
      "dien thoai,8390000,None,None,1,Ho Chi Minh,8990000,None,96,None,83,0,0,0,0,1\n"
     ]
    },
    {
     "name": "stderr",
     "output_type": "stream",
     "text": [
      "Processing rows:  42%|████▏     | 506/1200 [25:46<30:48,  2.66s/it]"
     ]
    },
    {
     "name": "stdout",
     "output_type": "stream",
     "text": [
      "dien thoai,8390000,None,1,None,Long An,8990000,28700,99,100,96,0,0,0,0,2\n"
     ]
    },
    {
     "name": "stderr",
     "output_type": "stream",
     "text": [
      "Processing rows:  42%|████▏     | 507/1200 [25:49<31:36,  2.74s/it]"
     ]
    },
    {
     "name": "stdout",
     "output_type": "stream",
     "text": [
      "dien thoai,7850000,None,None,None,Ho Chi Minh,None,None,None,None,None,0,0,0,0,0\n"
     ]
    },
    {
     "name": "stderr",
     "output_type": "stream",
     "text": [
      "Processing rows:  42%|████▏     | 508/1200 [25:52<32:34,  2.83s/it]"
     ]
    },
    {
     "name": "stdout",
     "output_type": "stream",
     "text": [
      "dien thoai,7490000,None,9,1,Ho Chi Minh,8090000,18300,99,99,98,0,0,0,0,1\n"
     ]
    },
    {
     "name": "stderr",
     "output_type": "stream",
     "text": [
      "Processing rows:  42%|████▏     | 509/1200 [25:54<32:40,  2.84s/it]"
     ]
    },
    {
     "name": "stdout",
     "output_type": "stream",
     "text": [
      "dien thoai,7490000,None,13,1,Ho Chi Minh,8990000,18300,99,99,98,0,0,0,0,2\n"
     ]
    },
    {
     "name": "stderr",
     "output_type": "stream",
     "text": [
      "Processing rows:  42%|████▎     | 510/1200 [25:58<34:08,  2.97s/it]"
     ]
    },
    {
     "name": "stdout",
     "output_type": "stream",
     "text": [
      "dien thoai,7400000,None,22,1,Nam Dinh,10200000,37700,87,80,100,0,0,0,0,1\n"
     ]
    },
    {
     "name": "stderr",
     "output_type": "stream",
     "text": [
      "Processing rows:  43%|████▎     | 511/1200 [26:00<33:24,  2.91s/it]"
     ]
    },
    {
     "name": "stdout",
     "output_type": "stream",
     "text": [
      "dien thoai,7349000,NaN,9,2,Ho Chi Minh,8290000,18300,99,99,98,0,0,0,0,2\n"
     ]
    },
    {
     "name": "stderr",
     "output_type": "stream",
     "text": [
      "Processing rows:  43%|████▎     | 512/1200 [26:03<31:48,  2.77s/it]"
     ]
    },
    {
     "name": "stdout",
     "output_type": "stream",
     "text": [
      "dien thoai,7290000,None,None,None,Ho Chi Minh,None,1928000,99,99,98,0,0,0,0,0\n"
     ]
    },
    {
     "name": "stderr",
     "output_type": "stream",
     "text": [
      "Processing rows:  43%|████▎     | 513/1200 [26:06<32:45,  2.86s/it]"
     ]
    },
    {
     "name": "stdout",
     "output_type": "stream",
     "text": [
      "dien thoai,7290000,4,None,4,Ho Chi Minh,8490000,18300,98,100,92,0,0,0,0,4\n"
     ]
    },
    {
     "name": "stderr",
     "output_type": "stream",
     "text": [
      "Processing rows:  43%|████▎     | 514/1200 [26:09<32:23,  2.83s/it]"
     ]
    },
    {
     "name": "stdout",
     "output_type": "stream",
     "text": [
      "dien thoai,7199000,None,None,None,Ha Noi,None,32700,None,None,None,0,0,0,0,0\n"
     ]
    },
    {
     "name": "stderr",
     "output_type": "stream",
     "text": [
      "Processing rows:  43%|████▎     | 515/1200 [26:11<30:53,  2.71s/it]"
     ]
    },
    {
     "name": "stdout",
     "output_type": "stream",
     "text": [
      "dien thoai,7190000,NaN,NaN,2,Long An,7690000,28700,99,100,96,0,0,0,0,2\n"
     ]
    },
    {
     "name": "stderr",
     "output_type": "stream",
     "text": [
      "Processing rows:  43%|████▎     | 516/1200 [26:13<29:22,  2.58s/it]"
     ]
    },
    {
     "name": "stdout",
     "output_type": "stream",
     "text": [
      "dien thoai,7180000,208,49,Ho Chi Minh,10490000,16500,99,99,98,0,0,0,0,49\n"
     ]
    },
    {
     "name": "stderr",
     "output_type": "stream",
     "text": [
      "Processing rows:  43%|████▎     | 517/1200 [26:17<33:06,  2.91s/it]"
     ]
    },
    {
     "name": "stdout",
     "output_type": "stream",
     "text": [
      "dien thoai,6975000,None,None,None,Ho Chi Minh,None,16500,None,None,66,0,0,0,0,0\n"
     ]
    },
    {
     "name": "stderr",
     "output_type": "stream",
     "text": [
      "Processing rows:  43%|████▎     | 518/1200 [26:20<34:25,  3.03s/it]"
     ]
    },
    {
     "name": "stdout",
     "output_type": "stream",
     "text": [
      "dien thoai,6539000,NaN,11,3,Vinh Phuc,7980000,43900,100,100,97,0,0,0,0,3\n"
     ]
    },
    {
     "name": "stderr",
     "output_type": "stream",
     "text": [
      "Processing rows:  43%|████▎     | 519/1200 [26:24<34:30,  3.04s/it]"
     ]
    },
    {
     "name": "stdout",
     "output_type": "stream",
     "text": [
      "dien thoai,6490000,10,5,Ho Chi Minh,7230000,18300,98,100,92,0,0,0,0,5\n"
     ]
    },
    {
     "name": "stderr",
     "output_type": "stream",
     "text": [
      "Processing rows:  43%|████▎     | 520/1200 [26:27<34:45,  3.07s/it]"
     ]
    },
    {
     "name": "stdout",
     "output_type": "stream",
     "text": [
      "dien thoai,6450000,None,None,None,Ho Chi Minh,7500000,16500,98,82,100,0,0,0,0,0\n"
     ]
    },
    {
     "name": "stderr",
     "output_type": "stream",
     "text": [
      "Processing rows:  43%|████▎     | 521/1200 [26:30<34:53,  3.08s/it]"
     ]
    },
    {
     "name": "stdout",
     "output_type": "stream",
     "text": [
      "dien thoai,13400000,None,None,None,Nam Định,None,37700,87,80,100,0,0,0,0,0\n"
     ]
    },
    {
     "name": "stderr",
     "output_type": "stream",
     "text": [
      "Processing rows:  44%|████▎     | 522/1200 [26:32<33:03,  2.93s/it]"
     ]
    },
    {
     "name": "stdout",
     "output_type": "stream",
     "text": [
      "dien thoai,6388000,36,None,Tien Giang,8500000,28700,97,100,100,0,0,0,0,14\n"
     ]
    },
    {
     "name": "stderr",
     "output_type": "stream",
     "text": [
      "Processing rows:  44%|████▎     | 523/1200 [26:36<33:51,  3.00s/it]"
     ]
    },
    {
     "name": "stdout",
     "output_type": "stream",
     "text": [
      "dien thoai,6290000,16,5,Ho Chi Minh,6490000,18300,99,99,98,0,0,0,0,5\n"
     ]
    },
    {
     "name": "stderr",
     "output_type": "stream",
     "text": [
      "Processing rows:  44%|████▎     | 524/1200 [26:38<33:41,  2.99s/it]"
     ]
    },
    {
     "name": "stdout",
     "output_type": "stream",
     "text": [
      "dien thoai,6194000,NaN,58,9,Ho Chi Minh,NaN,0,NaN,100,50,0,0,0,0,9\n"
     ]
    },
    {
     "name": "stderr",
     "output_type": "stream",
     "text": [
      "Processing rows:  44%|████▍     | 525/1200 [26:41<32:12,  2.86s/it]"
     ]
    },
    {
     "name": "stdout",
     "output_type": "stream",
     "text": [
      "dien thoai,6189000,None,None,2,Ho Chi Minh,7290000,18300,99,99,98,0,0,0,0,2\n"
     ]
    },
    {
     "name": "stderr",
     "output_type": "stream",
     "text": [
      "Processing rows:  44%|████▍     | 526/1200 [26:43<30:47,  2.74s/it]"
     ]
    },
    {
     "name": "stdout",
     "output_type": "stream",
     "text": [
      "dien thoai,6090000,NaN,60,11,Ho Chi Minh,7990000,18300,99,99,98,0,0,0,0,11\n"
     ]
    },
    {
     "name": "stderr",
     "output_type": "stream",
     "text": [
      "Processing rows:  44%|████▍     | 527/1200 [26:46<31:30,  2.81s/it]"
     ]
    },
    {
     "name": "stdout",
     "output_type": "stream",
     "text": [
      "dien thoai,5900000,NaN,216,122,Ho Chi Minh,7990000,16500,97,NaN,NaN,0,1,0,2,119\n"
     ]
    },
    {
     "name": "stderr",
     "output_type": "stream",
     "text": [
      "Processing rows:  44%|████▍     | 528/1200 [26:49<29:35,  2.64s/it]"
     ]
    },
    {
     "name": "stdout",
     "output_type": "stream",
     "text": [
      "dien thoai,5900000,None,None,1,Nam Định,None,37700,87,80,100,0,0,0,0,1\n"
     ]
    },
    {
     "name": "stderr",
     "output_type": "stream",
     "text": [
      "Processing rows:  44%|████▍     | 529/1200 [26:52<30:37,  2.74s/it]"
     ]
    },
    {
     "name": "stdout",
     "output_type": "stream",
     "text": [
      "dien thoai,5889000,None,None,None,Ho Chi Minh,6988000,0,82,None,100,0,0,0,0,0\n"
     ]
    },
    {
     "name": "stderr",
     "output_type": "stream",
     "text": [
      "Processing rows:  44%|████▍     | 530/1200 [26:54<30:24,  2.72s/it]"
     ]
    },
    {
     "name": "stdout",
     "output_type": "stream",
     "text": [
      "dien thoai,5700000,None,None,None,Nam Định,6990000,37700,87,80,100,0,0,0,0,0\n"
     ]
    },
    {
     "name": "stderr",
     "output_type": "stream",
     "text": [
      "Processing rows:  44%|████▍     | 531/1200 [26:57<30:45,  2.76s/it]"
     ]
    },
    {
     "name": "stdout",
     "output_type": "stream",
     "text": [
      "dien thoai,5499000,None,None,None,Ho Chi Minh,6499000,0,82,None,100,0,0,0,0,0\n"
     ]
    },
    {
     "name": "stderr",
     "output_type": "stream",
     "text": [
      "Processing rows:  44%|████▍     | 532/1200 [27:00<30:19,  2.72s/it]"
     ]
    },
    {
     "name": "stdout",
     "output_type": "stream",
     "text": [
      "dien thoai,5400000,None,None,1,Ha Noi,5700000,0,93,33,100,0,0,0,0,1\n"
     ]
    },
    {
     "name": "stderr",
     "output_type": "stream",
     "text": [
      "Processing rows:  44%|████▍     | 533/1200 [27:03<30:10,  2.71s/it]"
     ]
    },
    {
     "name": "stdout",
     "output_type": "stream",
     "text": [
      "dien thoai,5389000,NaN,38,15,Tien Giang,7500000,28700,97,100,100,0,0,0,2,14\n"
     ]
    },
    {
     "name": "stderr",
     "output_type": "stream",
     "text": [
      "Processing rows:  44%|████▍     | 534/1200 [27:06<32:40,  2.94s/it]"
     ]
    },
    {
     "name": "stdout",
     "output_type": "stream",
     "text": [
      "dien thoai,5329000,NaN,15,4,Nghệ An,6990000,37700,95,98,87,0,0,0,0,4\n"
     ]
    },
    {
     "name": "stderr",
     "output_type": "stream",
     "text": [
      "Processing rows:  45%|████▍     | 535/1200 [27:09<33:23,  3.01s/it]"
     ]
    },
    {
     "name": "stdout",
     "output_type": "stream",
     "text": [
      "dien thoai,5180000,31,None,Ho Chi Minh,5490000,16500,99,100,83,0,0,0,2,11\n"
     ]
    },
    {
     "name": "stderr",
     "output_type": "stream",
     "text": [
      "Processing rows:  45%|████▍     | 536/1200 [27:12<33:52,  3.06s/it]"
     ]
    },
    {
     "name": "stdout",
     "output_type": "stream",
     "text": [
      "dien thoai,5129831,NaN,18,9,Vinh Phuc,6450000,43900,100,100,97,0,0,0,0,9\n"
     ]
    },
    {
     "name": "stderr",
     "output_type": "stream",
     "text": [
      "Processing rows:  45%|████▍     | 537/1200 [27:16<34:52,  3.16s/it]"
     ]
    },
    {
     "name": "stdout",
     "output_type": "stream",
     "text": [
      "dien thoai,5128000,67,41,Vinh Phuc,5750000,43900,100,100,97,0,0,0,0,41\n"
     ]
    },
    {
     "name": "stderr",
     "output_type": "stream",
     "text": [
      "Processing rows:  45%|████▍     | 538/1200 [27:19<34:52,  3.16s/it]"
     ]
    },
    {
     "name": "stdout",
     "output_type": "stream",
     "text": [
      "dien thoai,5089000,13,13,3,Ho Chi Minh,None,16500,96,100,88,0,0,0,0,3\n"
     ]
    },
    {
     "name": "stderr",
     "output_type": "stream",
     "text": [
      "Processing rows:  45%|████▍     | 539/1200 [27:23<36:13,  3.29s/it]"
     ]
    },
    {
     "name": "stdout",
     "output_type": "stream",
     "text": [
      "dien thoai,5000000,None,None,None,Hai Phong,None,37700,None,None,None,0,0,0,0,0\n"
     ]
    },
    {
     "name": "stderr",
     "output_type": "stream",
     "text": [
      "Processing rows:  45%|████▌     | 540/1200 [27:25<33:27,  3.04s/it]"
     ]
    },
    {
     "name": "stdout",
     "output_type": "stream",
     "text": [
      "dien thoai,4990000,None,None,None,Ho Chi Minh,5490000,16500,97,100,None,0,0,0,0,0\n"
     ]
    },
    {
     "name": "stderr",
     "output_type": "stream",
     "text": [
      "Processing rows:  45%|████▌     | 541/1200 [27:28<33:29,  3.05s/it]"
     ]
    },
    {
     "name": "stdout",
     "output_type": "stream",
     "text": [
      "dien thoai,4990000,None,None,None,Ho Chi Minh,5490000,0,96,100,80,0,0,0,0,0\n"
     ]
    },
    {
     "name": "stderr",
     "output_type": "stream",
     "text": [
      "Processing rows:  45%|████▌     | 542/1200 [27:31<32:50,  2.99s/it]"
     ]
    },
    {
     "name": "stdout",
     "output_type": "stream",
     "text": [
      "dien thoai,4990000,7,2,Long An,5290000,28700,99,100,96,0,0,0,0,2\n"
     ]
    },
    {
     "name": "stderr",
     "output_type": "stream",
     "text": [
      "Processing rows:  45%|████▌     | 543/1200 [27:33<30:20,  2.77s/it]"
     ]
    },
    {
     "name": "stdout",
     "output_type": "stream",
     "text": [
      "dien thoai,4990000,None,285,140,Ho Chi Minh,7290000,16500,97,None,None,1,0,0,1,138\n"
     ]
    },
    {
     "name": "stderr",
     "output_type": "stream",
     "text": [
      "Processing rows:  45%|████▌     | 544/1200 [27:37<32:57,  3.02s/it]"
     ]
    },
    {
     "name": "stdout",
     "output_type": "stream",
     "text": [
      "dien thoai,4939000,None,None,None,Ben Tre,4990000,28700,98,100,100,0,0,0,0,0\n"
     ]
    },
    {
     "name": "stderr",
     "output_type": "stream",
     "text": [
      "Processing rows:  45%|████▌     | 545/1200 [27:40<32:14,  2.95s/it]"
     ]
    },
    {
     "name": "stdout",
     "output_type": "stream",
     "text": [
      "dien thoai,4939000,None,None,None,Ben Tre,4990000,28700,97,100,100,0,0,0,0,0\n"
     ]
    },
    {
     "name": "stderr",
     "output_type": "stream",
     "text": [
      "Processing rows:  46%|████▌     | 546/1200 [27:42<31:46,  2.92s/it]"
     ]
    },
    {
     "name": "stdout",
     "output_type": "stream",
     "text": [
      "dien thoai,4914000,None,110,12,Ho Chi Minh,None,0,96,100,100,0,0,0,0,12\n"
     ]
    },
    {
     "name": "stderr",
     "output_type": "stream",
     "text": [
      "Processing rows:  46%|████▌     | 547/1200 [27:45<31:53,  2.93s/it]"
     ]
    },
    {
     "name": "stdout",
     "output_type": "stream",
     "text": [
      "dien thoai,4689000,1300,None,Ho Chi Minh,4690000,16500,91,99,100,0,0,1,0,58\n"
     ]
    },
    {
     "name": "stderr",
     "output_type": "stream",
     "text": [
      "Processing rows:  46%|████▌     | 548/1200 [27:49<33:58,  3.13s/it]"
     ]
    },
    {
     "name": "stdout",
     "output_type": "stream",
     "text": [
      "dien thoai,4649000,NaN,54,28,Ho Chi Minh,4990000,16500,99,100,83,0,0,1,0,28\n"
     ]
    },
    {
     "name": "stderr",
     "output_type": "stream",
     "text": [
      "Processing rows:  46%|████▌     | 549/1200 [27:52<34:25,  3.17s/it]"
     ]
    },
    {
     "name": "stdout",
     "output_type": "stream",
     "text": [
      "dien thoai,4599000,NaN,137,62,Ho Chi Minh,5290000,16500,99,100,83,2,0,0,1,60\n"
     ]
    },
    {
     "name": "stderr",
     "output_type": "stream",
     "text": [
      "Processing rows:  46%|████▌     | 550/1200 [27:55<33:02,  3.05s/it]"
     ]
    },
    {
     "name": "stdout",
     "output_type": "stream",
     "text": [
      "dien thoai,4590000,None,6,3,Ho Chi Minh,5290000,0,96,100,80,0,0,0,0,3\n"
     ]
    },
    {
     "name": "stderr",
     "output_type": "stream",
     "text": [
      "Processing rows:  46%|████▌     | 551/1200 [27:58<32:29,  3.00s/it]"
     ]
    },
    {
     "name": "stdout",
     "output_type": "stream",
     "text": [
      "dien thoai,4539000,NaN,99,55,Vinh Phuc,6760000,43900,100,100,97,0,0,0,2,53\n"
     ]
    },
    {
     "name": "stderr",
     "output_type": "stream",
     "text": [
      "Processing rows:  46%|████▌     | 552/1200 [28:00<30:35,  2.83s/it]"
     ]
    },
    {
     "name": "stdout",
     "output_type": "stream",
     "text": [
      "dien thoai,4536040,None,None,None,Ha Noi,None,32700,None,None,None,0,0,0,0,0\n"
     ]
    },
    {
     "name": "stderr",
     "output_type": "stream",
     "text": [
      "Processing rows:  46%|████▌     | 553/1200 [28:03<29:19,  2.72s/it]"
     ]
    },
    {
     "name": "stdout",
     "output_type": "stream",
     "text": [
      "dien thoai,4499000,None,None,None,Ha Noi,7190000,0,None,None,100,0,0,0,0,0\n"
     ]
    },
    {
     "name": "stderr",
     "output_type": "stream",
     "text": [
      "Processing rows:  46%|████▌     | 554/1200 [28:05<28:25,  2.64s/it]"
     ]
    },
    {
     "name": "stdout",
     "output_type": "stream",
     "text": [
      "dien thoai,4490000,None,11,1,Ho Chi Minh,4990000,20100,99,99,98,0,0,0,0,1\n"
     ]
    },
    {
     "name": "stderr",
     "output_type": "stream",
     "text": [
      "Processing rows:  46%|████▋     | 555/1200 [28:08<30:07,  2.80s/it]"
     ]
    },
    {
     "name": "stdout",
     "output_type": "stream",
     "text": [
      "dien thoai,4400000,None,None,None,Ho Chi Minh,None,16500,None,66,100,0,0,0,0,0\n"
     ]
    },
    {
     "name": "stderr",
     "output_type": "stream",
     "text": [
      "Processing rows:  46%|████▋     | 556/1200 [28:11<30:16,  2.82s/it]"
     ]
    },
    {
     "name": "stdout",
     "output_type": "stream",
     "text": [
      "dien thoai,4390000,None,82,32,Ho Chi Minh,5290000,16500,96,100,88,1,0,0,1,30\n"
     ]
    },
    {
     "name": "stderr",
     "output_type": "stream",
     "text": [
      "Processing rows:  46%|████▋     | 557/1200 [28:14<28:44,  2.68s/it]"
     ]
    },
    {
     "name": "stdout",
     "output_type": "stream",
     "text": [
      "dien thoai,4390000,None,10,3,Nam Định,None,37700,87,80,100,1,0,0,0,2\n"
     ]
    },
    {
     "name": "stderr",
     "output_type": "stream",
     "text": [
      "Processing rows:  46%|████▋     | 558/1200 [28:18<32:53,  3.07s/it]"
     ]
    },
    {
     "name": "stdout",
     "output_type": "stream",
     "text": [
      "dien thoai,4290000,None,None,None,Ho Chi Minh,6290000,18300,99,99,98,0,0,0,0,0\n"
     ]
    },
    {
     "name": "stderr",
     "output_type": "stream",
     "text": [
      "Processing rows:  47%|████▋     | 559/1200 [28:20<30:26,  2.85s/it]"
     ]
    },
    {
     "name": "stdout",
     "output_type": "stream",
     "text": [
      "dien thoai,4270000,218,80,Ho Chi Minh,4890000,18300,98,100,92,0,0,0,1,79\n"
     ]
    },
    {
     "name": "stderr",
     "output_type": "stream",
     "text": [
      "Processing rows:  47%|████▋     | 560/1200 [28:23<31:51,  2.99s/it]"
     ]
    },
    {
     "name": "stdout",
     "output_type": "stream",
     "text": [
      "dien thoai,4269000,NaN,359,136,Ho Chi Minh,4890000,18300,98,100,92,0,0,1,0,135\n"
     ]
    },
    {
     "name": "stderr",
     "output_type": "stream",
     "text": [
      "Processing rows:  47%|████▋     | 561/1200 [28:25<29:07,  2.73s/it]"
     ]
    },
    {
     "name": "stdout",
     "output_type": "stream",
     "text": [
      "dien thoai,28791000,None,None,None,Ha Noi,31990200,None,92,None,33,0,0,0,0,0\n"
     ]
    },
    {
     "name": "stderr",
     "output_type": "stream",
     "text": [
      "Processing rows:  47%|████▋     | 562/1200 [28:27<26:57,  2.54s/it]"
     ]
    },
    {
     "name": "stdout",
     "output_type": "stream",
     "text": [
      "dien thoai,23391000,None,None,None,Ha Noi,27490000,None,92,None,33,0,0,0,0,0\n"
     ]
    },
    {
     "name": "stderr",
     "output_type": "stream",
     "text": [
      "Processing rows:  47%|████▋     | 563/1200 [28:31<28:33,  2.69s/it]"
     ]
    },
    {
     "name": "stdout",
     "output_type": "stream",
     "text": [
      "dien thoai,19990000,None,None,None,Da Nang,22990000,27000,100,100,100,0,0,0,0,0\n"
     ]
    },
    {
     "name": "stderr",
     "output_type": "stream",
     "text": [
      "Processing rows:  47%|████▋     | 564/1200 [28:33<27:07,  2.56s/it]"
     ]
    },
    {
     "name": "stdout",
     "output_type": "stream",
     "text": [
      "dien thoai,12200000,None,None,None,Ha Noi,16890500,None,92,None,33,0,0,0,0,0\n"
     ]
    },
    {
     "name": "stderr",
     "output_type": "stream",
     "text": [
      "Processing rows:  47%|████▋     | 565/1200 [28:35<27:05,  2.56s/it]"
     ]
    },
    {
     "name": "stdout",
     "output_type": "stream",
     "text": [
      "dien thoai,11690000,None,None,None,Da Nang,14990000,27000,100,100,100,0,0,0,0,0\n"
     ]
    },
    {
     "name": "stderr",
     "output_type": "stream",
     "text": [
      "Processing rows:  47%|████▋     | 566/1200 [28:38<26:42,  2.53s/it]"
     ]
    },
    {
     "name": "stdout",
     "output_type": "stream",
     "text": [
      "dien thoai,9060000,None,None,None,Ho Chi Minh,10990000,0,100,None,100,0,0,0,0,0\n"
     ]
    },
    {
     "name": "stderr",
     "output_type": "stream",
     "text": [
      "Processing rows:  47%|████▋     | 567/1200 [28:41<29:02,  2.75s/it]"
     ]
    },
    {
     "name": "stdout",
     "output_type": "stream",
     "text": [
      "dien thoai,4250000,530,94,Ho Chi Minh,4990000,16500,100,100,100,0,0,1,1,92\n"
     ]
    },
    {
     "name": "stderr",
     "output_type": "stream",
     "text": [
      "Processing rows:  47%|████▋     | 568/1200 [28:44<28:03,  2.66s/it]"
     ]
    },
    {
     "name": "stdout",
     "output_type": "stream",
     "text": [
      "dien thoai,4209000,None,None,None,Ben Tre,4990000,28700,99,100,100,0,0,0,0,0\n"
     ]
    },
    {
     "name": "stderr",
     "output_type": "stream",
     "text": [
      "Processing rows:  47%|████▋     | 569/1200 [28:46<27:42,  2.63s/it]"
     ]
    },
    {
     "name": "stdout",
     "output_type": "stream",
     "text": [
      "dien thoai,4199000,None,None,1,Ho Chi Minh,4990000,16500,98,82,100,0,0,0,0,1\n"
     ]
    },
    {
     "name": "stderr",
     "output_type": "stream",
     "text": [
      "Processing rows:  48%|████▊     | 570/1200 [28:49<29:21,  2.80s/it]"
     ]
    },
    {
     "name": "stdout",
     "output_type": "stream",
     "text": [
      "dien thoai,4190000,NaN,6,3,Ho Chi Minh,7190000,18300,98,100,92,0,0,0,0,3\n"
     ]
    },
    {
     "name": "stderr",
     "output_type": "stream",
     "text": [
      "Processing rows:  48%|████▊     | 571/1200 [28:53<33:04,  3.15s/it]"
     ]
    },
    {
     "name": "stdout",
     "output_type": "stream",
     "text": [
      "dien thoai,4189000,NaN,40,3,Ben Tre,4890000,28700,98,100,100,0,0,0,0,3\n"
     ]
    },
    {
     "name": "stderr",
     "output_type": "stream",
     "text": [
      "Processing rows:  48%|████▊     | 572/1200 [28:56<32:54,  3.14s/it]"
     ]
    },
    {
     "name": "stdout",
     "output_type": "stream",
     "text": [
      "dien thoai,4174900,437,136,Ho Chi Minh,4890000,18300,99,99,98,0,0,2,2,132\n"
     ]
    },
    {
     "name": "stderr",
     "output_type": "stream",
     "text": [
      "Processing rows:  48%|████▊     | 573/1200 [28:59<31:50,  3.05s/it]"
     ]
    },
    {
     "name": "stdout",
     "output_type": "stream",
     "text": [
      "dien thoai,4160000,NaN,33,9,Ho Chi Minh,5490000,20100,99,99,98,0,0,0,1,8\n"
     ]
    },
    {
     "name": "stderr",
     "output_type": "stream",
     "text": [
      "Processing rows:  48%|████▊     | 574/1200 [29:02<30:55,  2.96s/it]"
     ]
    },
    {
     "name": "stdout",
     "output_type": "stream",
     "text": [
      "dien thoai,4099000,None,45,19,Ben Tre,5790000,32200,98,100,100,0,0,0,2,17\n"
     ]
    },
    {
     "name": "stderr",
     "output_type": "stream",
     "text": [
      "Processing rows:  48%|████▊     | 575/1200 [29:05<32:10,  3.09s/it]"
     ]
    },
    {
     "name": "stdout",
     "output_type": "stream",
     "text": [
      "dien thoai,4090000,None,None,None,Ha Noi,6790000,0,None,None,100,0,0,0,0,0\n"
     ]
    },
    {
     "name": "stderr",
     "output_type": "stream",
     "text": [
      "Processing rows:  48%|████▊     | 576/1200 [29:08<32:03,  3.08s/it]"
     ]
    },
    {
     "name": "stdout",
     "output_type": "stream",
     "text": [
      "dien thoai,4085000,None,None,None,Ho Chi Minh,4990000,16500,98,82,100,0,0,0,0,0\n"
     ]
    },
    {
     "name": "stderr",
     "output_type": "stream",
     "text": [
      "Processing rows:  48%|████▊     | 577/1200 [29:11<30:03,  2.90s/it]"
     ]
    },
    {
     "name": "stdout",
     "output_type": "stream",
     "text": [
      "dien thoai,3997000,NaN,43,11,Ho Chi Minh,4990000,16500,98,100,100,0,0,0,0,11\n"
     ]
    },
    {
     "name": "stderr",
     "output_type": "stream",
     "text": [
      "Processing rows:  48%|████▊     | 578/1200 [29:14<30:33,  2.95s/it]"
     ]
    },
    {
     "name": "stdout",
     "output_type": "stream",
     "text": [
      "dien thoai,3990000,None,None,None,Ho Chi Minh,None,18300,99,99,98,0,0,0,0,0\n"
     ]
    },
    {
     "name": "stderr",
     "output_type": "stream",
     "text": [
      "Processing rows:  48%|████▊     | 579/1200 [29:16<28:32,  2.76s/it]"
     ]
    },
    {
     "name": "stdout",
     "output_type": "stream",
     "text": [
      "dien thoai,3990000,None,None,None,Long An,4990000,28700,99,100,96,0,0,0,0,0\n"
     ]
    },
    {
     "name": "stderr",
     "output_type": "stream",
     "text": [
      "Processing rows:  48%|████▊     | 580/1200 [29:19<29:36,  2.87s/it]"
     ]
    },
    {
     "name": "stdout",
     "output_type": "stream",
     "text": [
      "dien thoai,3990000,NaN,47,26,Ho Chi Minh,4490000,0,100,NaN,100,0,0,0,0,26\n"
     ]
    },
    {
     "name": "stderr",
     "output_type": "stream",
     "text": [
      "Processing rows:  48%|████▊     | 581/1200 [29:24<33:41,  3.27s/it]"
     ]
    },
    {
     "name": "stdout",
     "output_type": "stream",
     "text": [
      "dien thoai,3691000,22,9,Ho Chi Minh,7290000,18300,98,100,92,0,0,0,0,9\n"
     ]
    },
    {
     "name": "stderr",
     "output_type": "stream",
     "text": [
      "Processing rows:  48%|████▊     | 582/1200 [29:27<35:33,  3.45s/it]"
     ]
    },
    {
     "name": "stdout",
     "output_type": "stream",
     "text": [
      "dien thoai,3905000,NaN,6,3,Ha Noi,4690000,38000,98,100,92,0,0,0,0,3\n"
     ]
    },
    {
     "name": "stderr",
     "output_type": "stream",
     "text": [
      "Processing rows:  49%|████▊     | 583/1200 [29:31<36:09,  3.52s/it]"
     ]
    },
    {
     "name": "stdout",
     "output_type": "stream",
     "text": [
      "dien thoai,3839000,1200,1,None,Ho Chi Minh,4490000,16500,99,100,83,3,0,3,8,545\n"
     ]
    },
    {
     "name": "stderr",
     "output_type": "stream",
     "text": [
      "Processing rows:  49%|████▊     | 584/1200 [29:34<34:28,  3.36s/it]"
     ]
    },
    {
     "name": "stdout",
     "output_type": "stream",
     "text": [
      "dien thoai,3790000,None,None,None,Ha Noi,4650000,0,None,None,100,0,0,0,0,0\n"
     ]
    },
    {
     "name": "stderr",
     "output_type": "stream",
     "text": [
      "Processing rows:  49%|████▉     | 585/1200 [29:37<32:54,  3.21s/it]"
     ]
    },
    {
     "name": "stdout",
     "output_type": "stream",
     "text": [
      "dien thoai,3749000,NaN,144,46,Ho Chi Minh,4490000,16500,99,100,83,1,0,1,0,44\n"
     ]
    },
    {
     "name": "stderr",
     "output_type": "stream",
     "text": [
      "Processing rows:  49%|████▉     | 586/1200 [29:39<29:54,  2.92s/it]"
     ]
    },
    {
     "name": "stdout",
     "output_type": "stream",
     "text": [
      "dien thoai,3690000,None,5,2,Ha Noi,4200000,64800,95,100,100,0,0,0,0,2\n"
     ]
    },
    {
     "name": "stderr",
     "output_type": "stream",
     "text": [
      "Processing rows:  49%|████▉     | 587/1200 [29:42<28:07,  2.75s/it]"
     ]
    },
    {
     "name": "stdout",
     "output_type": "stream",
     "text": [
      "dien thoai,3689000,none,87,40,Ho Chi Minh,4690000,16500,99,100,83,0,0,1,1,38\n"
     ]
    },
    {
     "name": "stderr",
     "output_type": "stream",
     "text": [
      "Processing rows:  49%|████▉     | 588/1200 [29:46<31:52,  3.13s/it]"
     ]
    },
    {
     "name": "stdout",
     "output_type": "stream",
     "text": [
      "dien thoai,3668000,None,None,None,Dak Lak,None,37700,100,None,None,0,0,0,0,0\n"
     ]
    },
    {
     "name": "stderr",
     "output_type": "stream",
     "text": [
      "Processing rows:  49%|████▉     | 589/1200 [29:48<30:24,  2.99s/it]"
     ]
    },
    {
     "name": "stdout",
     "output_type": "stream",
     "text": [
      "dien thoai,3599000,NaN,1700,471,Ben Tre,4990000,32200,98,100,100,2,0,0,5,464\n"
     ]
    },
    {
     "name": "stderr",
     "output_type": "stream",
     "text": [
      "Processing rows:  49%|████▉     | 590/1200 [29:51<30:00,  2.95s/it]"
     ]
    },
    {
     "name": "stdout",
     "output_type": "stream",
     "text": [
      "dien thoai,3590000,None,None,None,Ha Noi,4990000,0,None,None,100,0,0,0,0,0\n"
     ]
    },
    {
     "name": "stderr",
     "output_type": "stream",
     "text": [
      "Processing rows:  49%|████▉     | 591/1200 [29:54<30:00,  2.96s/it]"
     ]
    },
    {
     "name": "stdout",
     "output_type": "stream",
     "text": [
      "dien thoai,3490000,None,None,1,Ha Noi,4229000,38000,88,100,71,0,0,0,0,2\n"
     ]
    },
    {
     "name": "stderr",
     "output_type": "stream",
     "text": [
      "Processing rows:  49%|████▉     | 592/1200 [29:57<29:03,  2.87s/it]"
     ]
    },
    {
     "name": "stdout",
     "output_type": "stream",
     "text": [
      "dien thoai,3490000,NaN,19,6,Ho Chi Minh,4990000,16500,99,100,83,2,0,0,1,4\n"
     ]
    },
    {
     "name": "stderr",
     "output_type": "stream",
     "text": [
      "Processing rows:  49%|████▉     | 593/1200 [30:01<31:49,  3.15s/it]"
     ]
    },
    {
     "name": "stdout",
     "output_type": "stream",
     "text": [
      "dien thoai,3488000,NaN,101,51,Nghệ An,4758000,37700,94,91,92,0,0,0,4,47\n"
     ]
    },
    {
     "name": "stderr",
     "output_type": "stream",
     "text": [
      "Processing rows:  50%|████▉     | 594/1200 [30:03<29:58,  2.97s/it]"
     ]
    },
    {
     "name": "stdout",
     "output_type": "stream",
     "text": [
      "dien thoai,3450000,None,6,5,Ho Chi Minh,3990000,18300,99,99,98,0,0,0,0,5\n"
     ]
    },
    {
     "name": "stderr",
     "output_type": "stream",
     "text": [
      "Processing rows:  50%|████▉     | 595/1200 [30:07<31:29,  3.12s/it]"
     ]
    },
    {
     "name": "stdout",
     "output_type": "stream",
     "text": [
      "dien thoai,3449000,None,42,41,Ho Chi Minh,6299000,16500,97,98,100,0,0,0,0,41\n"
     ]
    },
    {
     "name": "stderr",
     "output_type": "stream",
     "text": [
      "Processing rows:  50%|████▉     | 596/1200 [30:10<32:29,  3.23s/it]"
     ]
    },
    {
     "name": "stdout",
     "output_type": "stream",
     "text": [
      "dien thoai,3270000,123,46,Ho Chi Minh,3990000,18300,100,100,100,0,0,1,0,45\n"
     ]
    },
    {
     "name": "stderr",
     "output_type": "stream",
     "text": [
      "Processing rows:  50%|████▉     | 597/1200 [30:13<31:03,  3.09s/it]"
     ]
    },
    {
     "name": "stdout",
     "output_type": "stream",
     "text": [
      "dien thoai,3240179,NaN,88,30,Ho Chi Minh,449000,16500,97,98,100,0,0,0,0,31\n"
     ]
    },
    {
     "name": "stderr",
     "output_type": "stream",
     "text": [
      "Processing rows:  50%|████▉     | 598/1200 [30:15<28:28,  2.84s/it]"
     ]
    },
    {
     "name": "stdout",
     "output_type": "stream",
     "text": [
      "dien thoai,3200000,None,6,None,Ha Noi,4990000,None,94,None,83,0,0,0,0,0\n"
     ]
    },
    {
     "name": "stderr",
     "output_type": "stream",
     "text": [
      "Processing rows:  50%|████▉     | 599/1200 [30:19<30:59,  3.09s/it]"
     ]
    },
    {
     "name": "stdout",
     "output_type": "stream",
     "text": [
      "dien thoai,3139000,NaN,12,2,Ben Tre,3990000,28700,99,100,100,0,0,0,0,3\n"
     ]
    },
    {
     "name": "stderr",
     "output_type": "stream",
     "text": [
      "Processing rows:  50%|█████     | 600/1200 [30:22<31:29,  3.15s/it]"
     ]
    },
    {
     "name": "stdout",
     "output_type": "stream",
     "text": [
      "dien thoai,3120000,NaN,221,118,Ho Chi Minh,3490000,18300,98,100,92,0,0,1,0,117\n"
     ]
    },
    {
     "name": "stderr",
     "output_type": "stream",
     "text": [
      "Processing rows:  50%|█████     | 601/1200 [30:25<30:54,  3.10s/it]"
     ]
    },
    {
     "name": "stdout",
     "output_type": "stream",
     "text": [
      "dien thoai,24188000,29,11,1,Da Nang,33990000,38000,97,81,80,0,0,0,0,2\n"
     ]
    },
    {
     "name": "stderr",
     "output_type": "stream",
     "text": [
      "Processing rows:  50%|█████     | 602/1200 [30:29<34:08,  3.43s/it]"
     ]
    },
    {
     "name": "stdout",
     "output_type": "stream",
     "text": [
      "dien thoai,20090000,13,None,1,Ho Chi Minh,22990000,None,91,None,100,0,0,0,0,1\n"
     ]
    },
    {
     "name": "stderr",
     "output_type": "stream",
     "text": [
      "Processing rows:  50%|█████     | 603/1200 [30:32<32:07,  3.23s/it]"
     ]
    },
    {
     "name": "stdout",
     "output_type": "stream",
     "text": [
      "dien thoai,19995000,9,None,None,Ho Chi Minh,21990000,0,97,100,33,0,0,0,0,0\n"
     ]
    },
    {
     "name": "stderr",
     "output_type": "stream",
     "text": [
      "Processing rows:  50%|█████     | 604/1200 [30:35<31:16,  3.15s/it]"
     ]
    },
    {
     "name": "stdout",
     "output_type": "stream",
     "text": [
      "dien thoai,19990000,26,None,None,Ho Chi Minh,26990000,16500,98,83,100,0,0,0,0,0\n"
     ]
    },
    {
     "name": "stderr",
     "output_type": "stream",
     "text": [
      "Processing rows:  50%|█████     | 605/1200 [30:37<29:31,  2.98s/it]"
     ]
    },
    {
     "name": "stdout",
     "output_type": "stream",
     "text": [
      "dien thoai,19990000,5,None,None,Ho Chi Minh,20990000,19600,85,None,100,0,0,0,0,0\n"
     ]
    },
    {
     "name": "stderr",
     "output_type": "stream",
     "text": [
      "Processing rows:  50%|█████     | 606/1200 [30:40<28:06,  2.84s/it]"
     ]
    },
    {
     "name": "stdout",
     "output_type": "stream",
     "text": [
      "dien thoai,19890000,1,None,None,Ho Chi Minh,19990000,0,97,100,33,0,0,0,0,0\n"
     ]
    },
    {
     "name": "stderr",
     "output_type": "stream",
     "text": [
      "Processing rows:  51%|█████     | 607/1200 [30:43<29:08,  2.95s/it]"
     ]
    },
    {
     "name": "stdout",
     "output_type": "stream",
     "text": [
      "dien thoai,19890000,None,None,None,Ho Chi Minh,19900000,19600,85,None,100,0,0,0,0,0\n"
     ]
    },
    {
     "name": "stderr",
     "output_type": "stream",
     "text": [
      "Processing rows:  51%|█████     | 608/1200 [30:46<29:12,  2.96s/it]"
     ]
    },
    {
     "name": "stdout",
     "output_type": "stream",
     "text": [
      "dien thoai,19640000,15,10,4,Ho Chi Minh,22990000,18300,99,99,98,0,0,0,0,4\n"
     ]
    },
    {
     "name": "stderr",
     "output_type": "stream",
     "text": [
      "Processing rows:  51%|█████     | 609/1200 [30:50<30:20,  3.08s/it]"
     ]
    },
    {
     "name": "stdout",
     "output_type": "stream",
     "text": [
      "dien thoai,19190000,17,None,None,Ho Chi Minh,23000000,16500,98,83,100,0,0,0,0,1\n"
     ]
    },
    {
     "name": "stderr",
     "output_type": "stream",
     "text": [
      "Processing rows:  51%|█████     | 610/1200 [30:53<32:40,  3.32s/it]"
     ]
    },
    {
     "name": "stdout",
     "output_type": "stream",
     "text": [
      "dien thoai,19140000,17,None,None,Ho Chi Minh,22990000,16500,100,99,100,0,0,0,0,0\n"
     ]
    },
    {
     "name": "stderr",
     "output_type": "stream",
     "text": [
      "Processing rows:  51%|█████     | 611/1200 [30:56<30:13,  3.08s/it]"
     ]
    },
    {
     "name": "stdout",
     "output_type": "stream",
     "text": [
      "dien thoai,18990000,17,None,None,Da Nang,22990000,38000,97,81,80,0,0,0,0,0\n"
     ]
    },
    {
     "name": "stderr",
     "output_type": "stream",
     "text": [
      "Processing rows:  51%|█████     | 612/1200 [30:59<29:24,  3.00s/it]"
     ]
    },
    {
     "name": "stdout",
     "output_type": "stream",
     "text": [
      "dien thoai,18990000,17,None,None,Da Nang,22990000,38000,96,25,100,0,0,0,0,0\n"
     ]
    },
    {
     "name": "stderr",
     "output_type": "stream",
     "text": [
      "Processing rows:  51%|█████     | 613/1200 [31:01<28:21,  2.90s/it]"
     ]
    },
    {
     "name": "stdout",
     "output_type": "stream",
     "text": [
      "dien thoai,18990000,42,8,3,Ho Chi Minh,32990000,18300,99,100,85,0,0,0,0,2\n"
     ]
    },
    {
     "name": "stderr",
     "output_type": "stream",
     "text": [
      "Processing rows:  51%|█████     | 614/1200 [31:06<31:49,  3.26s/it]"
     ]
    },
    {
     "name": "stdout",
     "output_type": "stream",
     "text": [
      "dien thoai,18866000,9,None,None,Ha Noi,21299000,32700,97,None,None,0,0,0,0,0\n"
     ]
    },
    {
     "name": "stderr",
     "output_type": "stream",
     "text": [
      "Processing rows:  51%|█████▏    | 615/1200 [31:09<33:19,  3.42s/it]"
     ]
    },
    {
     "name": "stdout",
     "output_type": "stream",
     "text": [
      "dien thoai,18599000,11,None,None,Ha Noi,23990000,13700,100,100,100,0,0,0,0,0\n"
     ]
    },
    {
     "name": "stderr",
     "output_type": "stream",
     "text": [
      "Processing rows:  51%|█████▏    | 616/1200 [31:14<36:08,  3.71s/it]"
     ]
    },
    {
     "name": "stdout",
     "output_type": "stream",
     "text": [
      "dien thoai,17990000,None,None,None,Ho Chi Minh,None,16500,None,None,66,0,0,0,0,0\n"
     ]
    },
    {
     "name": "stderr",
     "output_type": "stream",
     "text": [
      "Processing rows:  51%|█████▏    | 617/1200 [31:16<31:45,  3.27s/it]"
     ]
    },
    {
     "name": "stdout",
     "output_type": "stream",
     "text": [
      "dien thoai,17990000,None,None,None,Ben Tre,None,28700,83,None,None,0,0,0,0,0\n"
     ]
    },
    {
     "name": "stderr",
     "output_type": "stream",
     "text": [
      "Processing rows:  52%|█████▏    | 618/1200 [31:20<33:34,  3.46s/it]"
     ]
    },
    {
     "name": "stdout",
     "output_type": "stream",
     "text": [
      "dien thoai,17950000,22,None,None,Ho Chi Minh,22990000,16500,98,83,100,0,0,0,0,0\n"
     ]
    },
    {
     "name": "stderr",
     "output_type": "stream",
     "text": [
      "Processing rows:  52%|█████▏    | 619/1200 [31:23<32:59,  3.41s/it]"
     ]
    },
    {
     "name": "stdout",
     "output_type": "stream",
     "text": [
      "dien thoai,17800000,None,45,5,Ho Chi Minh,None,0,100,None,None,0,0,0,0,5\n"
     ]
    },
    {
     "name": "stderr",
     "output_type": "stream",
     "text": [
      "Processing rows:  52%|█████▏    | 620/1200 [31:26<31:23,  3.25s/it]"
     ]
    },
    {
     "name": "stdout",
     "output_type": "stream",
     "text": [
      "dien thoai,17499000,None,None,None,Ho Chi Minh,None,16500,None,None,66,0,0,0,0,0\n"
     ]
    },
    {
     "name": "stderr",
     "output_type": "stream",
     "text": [
      "Processing rows:  52%|█████▏    | 621/1200 [31:29<29:16,  3.03s/it]"
     ]
    },
    {
     "name": "stdout",
     "output_type": "stream",
     "text": [
      "dien thoai,17290000,36,None,None,Ho Chi Minh,26990000,0,98,100,88,0,0,0,0,0\n"
     ]
    },
    {
     "name": "stderr",
     "output_type": "stream",
     "text": [
      "Processing rows:  52%|█████▏    | 622/1200 [31:32<29:22,  3.05s/it]"
     ]
    },
    {
     "name": "stdout",
     "output_type": "stream",
     "text": [
      "dien thoai,17020000,26,None,1,Ha Noi,22990000,None,94,None,83,0,0,0,0,1\n"
     ]
    },
    {
     "name": "stderr",
     "output_type": "stream",
     "text": [
      "Processing rows:  52%|█████▏    | 623/1200 [31:35<29:03,  3.02s/it]"
     ]
    },
    {
     "name": "stdout",
     "output_type": "stream",
     "text": [
      "dien thoai,17020000,26,10,2,Ha Noi,24989800,None,92,None,33,0,0,0,0,2\n"
     ]
    },
    {
     "name": "stderr",
     "output_type": "stream",
     "text": [
      "Processing rows:  52%|█████▏    | 624/1200 [31:37<27:43,  2.89s/it]"
     ]
    },
    {
     "name": "stdout",
     "output_type": "stream",
     "text": [
      "dien thoai,16990000,15,13,5,Ho Chi Minh,19990000,18300,99,100,85,0,0,0,0,5\n"
     ]
    },
    {
     "name": "stderr",
     "output_type": "stream",
     "text": [
      "Processing rows:  52%|█████▏    | 625/1200 [31:41<30:06,  3.14s/it]"
     ]
    },
    {
     "name": "stdout",
     "output_type": "stream",
     "text": [
      "dien thoai,16990000,35,11,1,Ho Chi Minh,25990000,16500,97,None,None,0,0,0,0,1\n"
     ]
    },
    {
     "name": "stderr",
     "output_type": "stream",
     "text": [
      "Processing rows:  52%|█████▏    | 626/1200 [31:44<30:35,  3.20s/it]"
     ]
    },
    {
     "name": "stdout",
     "output_type": "stream",
     "text": [
      "dien thoai,16490000,None,None,1,Ha Noi,None,13700,95,100,100,0,0,0,0,1\n"
     ]
    },
    {
     "name": "stderr",
     "output_type": "stream",
     "text": [
      "Processing rows:  52%|█████▏    | 627/1200 [31:47<29:28,  3.09s/it]"
     ]
    },
    {
     "name": "stdout",
     "output_type": "stream",
     "text": [
      "dien thoai,15890000,38,7,1,Ha Noi,32900000,38000,91,95,100,0,0,0,0,1\n"
     ]
    },
    {
     "name": "stderr",
     "output_type": "stream",
     "text": [
      "Processing rows:  52%|█████▏    | 628/1200 [31:52<33:54,  3.56s/it]"
     ]
    },
    {
     "name": "stdout",
     "output_type": "stream",
     "text": [
      "dien thoai,15580000,32,None,None,Ho Chi Minh,22900000,18300,99,99,98,0,0,0,0,0\n"
     ]
    },
    {
     "name": "stderr",
     "output_type": "stream",
     "text": [
      "Processing rows:  52%|█████▏    | 629/1200 [31:55<33:20,  3.50s/it]"
     ]
    },
    {
     "name": "stdout",
     "output_type": "stream",
     "text": [
      "dien thoai,15490000,40,None,None,Da Nang,29990000,38000,97,81,80,0,0,0,0,0\n"
     ]
    },
    {
     "name": "stderr",
     "output_type": "stream",
     "text": [
      "Processing rows:  52%|█████▎    | 630/1200 [31:59<33:08,  3.49s/it]"
     ]
    },
    {
     "name": "stdout",
     "output_type": "stream",
     "text": [
      "dien thoai,15390000,33,None,None,Ho Chi Minh,22990000,0,98,100,88,0,0,0,0,0\n"
     ]
    },
    {
     "name": "stderr",
     "output_type": "stream",
     "text": [
      "Processing rows:  53%|█████▎    | 631/1200 [32:03<36:56,  3.90s/it]"
     ]
    },
    {
     "name": "stdout",
     "output_type": "stream",
     "text": [
      "dien thoai,14500000,None,None,None,Ho Chi Minh,None,16500,None,66,100,0,0,0,0,0\n"
     ]
    },
    {
     "name": "stderr",
     "output_type": "stream",
     "text": [
      "Processing rows:  53%|█████▎    | 632/1200 [32:06<32:46,  3.46s/it]"
     ]
    },
    {
     "name": "stdout",
     "output_type": "stream",
     "text": [
      "dien thoai,14500000,None,5,None,Ha Noi,None,0,None,None,None,0,0,0,0,0\n"
     ]
    },
    {
     "name": "stderr",
     "output_type": "stream",
     "text": [
      "Processing rows:  53%|█████▎    | 633/1200 [32:09<31:57,  3.38s/it]"
     ]
    },
    {
     "name": "stdout",
     "output_type": "stream",
     "text": [
      "dien thoai,14390000,37,9,None,Ha Noi,22990000,0,97,50,50,0,0,0,0,0\n"
     ]
    },
    {
     "name": "stderr",
     "output_type": "stream",
     "text": [
      "Processing rows:  53%|█████▎    | 634/1200 [32:15<38:40,  4.10s/it]"
     ]
    },
    {
     "name": "stdout",
     "output_type": "stream",
     "text": [
      "dien thoai,14122403,9,69,18,Ha Noi,17990000,13700,95,100,100,0,1,0,0,17\n"
     ]
    },
    {
     "name": "stderr",
     "output_type": "stream",
     "text": [
      "Processing rows:  53%|█████▎    | 635/1200 [32:18<36:58,  3.93s/it]"
     ]
    },
    {
     "name": "stdout",
     "output_type": "stream",
     "text": [
      "dien thoai,13990000,None,None,None,Ben Tre,None,28700,83,None,None,0,0,0,0,0\n"
     ]
    },
    {
     "name": "stderr",
     "output_type": "stream",
     "text": [
      "Processing rows:  53%|█████▎    | 636/1200 [32:22<36:15,  3.86s/it]"
     ]
    },
    {
     "name": "stdout",
     "output_type": "stream",
     "text": [
      "dien thoai,13990000,26,32,2,Ho Chi Minh,18990000,18300,99,100,85,0,0,0,0,2\n"
     ]
    },
    {
     "name": "stderr",
     "output_type": "stream",
     "text": [
      "Processing rows:  53%|█████▎    | 637/1200 [32:25<34:15,  3.65s/it]"
     ]
    },
    {
     "name": "stdout",
     "output_type": "stream",
     "text": [
      "dien thoai,13878080,37,7,None,Ho Chi Minh,21990000,18300,97,None,50,0,0,0,0,0\n"
     ]
    },
    {
     "name": "stderr",
     "output_type": "stream",
     "text": [
      "Processing rows:  53%|█████▎    | 638/1200 [32:29<34:33,  3.69s/it]"
     ]
    },
    {
     "name": "stdout",
     "output_type": "stream",
     "text": [
      "dien thoai,13500000,None,None,None,Ho Chi Minh,None,16500,None,66,100,0,0,0,0,0\n"
     ]
    },
    {
     "name": "stderr",
     "output_type": "stream",
     "text": [
      "Processing rows:  53%|█████▎    | 639/1200 [32:33<34:13,  3.66s/it]"
     ]
    },
    {
     "name": "stdout",
     "output_type": "stream",
     "text": [
      "dien thoai,13400000,None,None,None,Nam Định,None,37700,87,80,100,0,0,0,0,0\n"
     ]
    },
    {
     "name": "stderr",
     "output_type": "stream",
     "text": [
      "Processing rows:  53%|█████▎    | 640/1200 [32:38<39:57,  4.28s/it]"
     ]
    },
    {
     "name": "stdout",
     "output_type": "stream",
     "text": [
      "dien thoai,13200000,None,None,None,Ho Chi Minh,None,16500,None,66,100,0,0,0,0,0\n"
     ]
    },
    {
     "name": "stderr",
     "output_type": "stream",
     "text": [
      "Processing rows:  53%|█████▎    | 641/1200 [32:41<35:22,  3.80s/it]"
     ]
    },
    {
     "name": "stdout",
     "output_type": "stream",
     "text": [
      "dien thoai,41990000,7,11,None,Ho Chi Minh,None,None,None,None,None,0,0,0,0,0\n"
     ]
    },
    {
     "name": "stderr",
     "output_type": "stream",
     "text": [
      "Processing rows:  54%|█████▎    | 642/1200 [32:45<34:32,  3.71s/it]"
     ]
    },
    {
     "name": "stdout",
     "output_type": "stream",
     "text": [
      "dien thoai,40990000,None,None,None,Ho Chi Minh,None,18300,97,99,88,0,0,0,0,0\n"
     ]
    },
    {
     "name": "stderr",
     "output_type": "stream",
     "text": [
      "Processing rows:  54%|█████▎    | 643/1200 [32:48<33:08,  3.57s/it]"
     ]
    },
    {
     "name": "stdout",
     "output_type": "stream",
     "text": [
      "dien thoai,37590001,16,24,2,Ho Chi Minh,44490000,None,91,None,100,0,0,0,0,2\n"
     ]
    },
    {
     "name": "stderr",
     "output_type": "stream",
     "text": [
      "Processing rows:  54%|█████▎    | 644/1200 [32:53<38:14,  4.13s/it]"
     ]
    },
    {
     "name": "stdout",
     "output_type": "stream",
     "text": [
      "dien thoai,31989000,6,1400,347,Ho Chi Minh,33990000,16500,91,99,100,2,0,1,0,344\n"
     ]
    },
    {
     "name": "stderr",
     "output_type": "stream",
     "text": [
      "Processing rows:  54%|█████▍    | 645/1200 [32:57<36:39,  3.96s/it]"
     ]
    },
    {
     "name": "stdout",
     "output_type": "stream",
     "text": [
      "dien thoai,31990000,9,712,151,Ho Chi Minh,34990000,5500,94,98,100,1,0,1,0,149\n"
     ]
    },
    {
     "name": "stderr",
     "output_type": "stream",
     "text": [
      "Processing rows:  54%|█████▍    | 646/1200 [33:00<35:33,  3.85s/it]"
     ]
    },
    {
     "name": "stdout",
     "output_type": "stream",
     "text": [
      "dien thoai,31990000,None,203,43,Ho Chi Minh,None,None,99,None,100,2,0,0,0,41\n"
     ]
    },
    {
     "name": "stderr",
     "output_type": "stream",
     "text": [
      "Processing rows:  54%|█████▍    | 647/1200 [33:04<33:54,  3.68s/it]"
     ]
    },
    {
     "name": "stdout",
     "output_type": "stream",
     "text": [
      "dien thoai,31590000,16,21,2,Ho Chi Minh,37490000,None,91,None,100,0,0,0,0,3\n"
     ]
    },
    {
     "name": "stderr",
     "output_type": "stream",
     "text": [
      "Processing rows:  54%|█████▍    | 648/1200 [33:08<36:14,  3.94s/it]"
     ]
    },
    {
     "name": "stdout",
     "output_type": "stream",
     "text": [
      "dien thoai,31210000,8,None,None,Ha Noi,33990000,None,94,None,83,0,0,0,0,0\n"
     ]
    },
    {
     "name": "stderr",
     "output_type": "stream",
     "text": [
      "Processing rows:  54%|█████▍    | 649/1200 [33:11<34:19,  3.74s/it]"
     ]
    },
    {
     "name": "stdout",
     "output_type": "stream",
     "text": [
      "dien thoai,30470000,10,6,None,Ha Noi,44490000,None,94,None,83,0,0,0,0,0\n"
     ]
    },
    {
     "name": "stderr",
     "output_type": "stream",
     "text": [
      "Processing rows:  54%|█████▍    | 650/1200 [33:15<33:45,  3.68s/it]"
     ]
    },
    {
     "name": "stdout",
     "output_type": "stream",
     "text": [
      "dien thoai,29990000,9,None,None,Ha Noi,32990000,38000,98,100,92,0,0,0,0,0\n"
     ]
    },
    {
     "name": "stderr",
     "output_type": "stream",
     "text": [
      "Processing rows:  54%|█████▍    | 651/1200 [33:18<30:58,  3.39s/it]"
     ]
    },
    {
     "name": "stdout",
     "output_type": "stream",
     "text": [
      "dien thoai,29517000,11,6,1,Ho Chi Minh,32990000,18300,99,99,98,0,0,0,0,2\n"
     ]
    },
    {
     "name": "stderr",
     "output_type": "stream",
     "text": [
      "Processing rows:  54%|█████▍    | 652/1200 [33:20<28:17,  3.10s/it]"
     ]
    },
    {
     "name": "stdout",
     "output_type": "stream",
     "text": [
      "dien thoai,29990000,None,None,None,Ho Chi Minh,None,18300,97,99,88,0,0,0,0,0\n"
     ]
    },
    {
     "name": "stderr",
     "output_type": "stream",
     "text": [
      "Processing rows:  54%|█████▍    | 653/1200 [33:23<27:25,  3.01s/it]"
     ]
    },
    {
     "name": "stdout",
     "output_type": "stream",
     "text": [
      "dien thoai,29990000,None,None,None,Ho Chi Minh,None,7300,97,98,85,0,0,0,0,0\n"
     ]
    },
    {
     "name": "stderr",
     "output_type": "stream",
     "text": [
      "Processing rows:  55%|█████▍    | 654/1200 [33:25<26:03,  2.86s/it]"
     ]
    },
    {
     "name": "stdout",
     "output_type": "stream",
     "text": [
      "dien thoai,29890000,17,16,4,Binh Duong,35990000,None,98,None,98,0,0,0,0,4\n"
     ]
    },
    {
     "name": "stderr",
     "output_type": "stream",
     "text": [
      "Processing rows:  55%|█████▍    | 655/1200 [33:29<28:23,  3.13s/it]"
     ]
    },
    {
     "name": "stdout",
     "output_type": "stream",
     "text": [
      "dien thoai,29689000,15,11900,2683,Ho Chi Minh,34999000,5500,94,98,100,31,3,8,9,2631\n"
     ]
    },
    {
     "name": "stderr",
     "output_type": "stream",
     "text": [
      "Processing rows:  55%|█████▍    | 656/1200 [33:33<29:51,  3.29s/it]"
     ]
    },
    {
     "name": "stdout",
     "output_type": "stream",
     "text": [
      "dien thoai,28990000,None,None,None,Ha Noi,None,32700,None,None,None,0,0,0,0,0\n"
     ]
    },
    {
     "name": "stderr",
     "output_type": "stream",
     "text": [
      "Processing rows:  55%|█████▍    | 657/1200 [33:36<30:44,  3.40s/it]"
     ]
    },
    {
     "name": "stdout",
     "output_type": "stream",
     "text": [
      "dien thoai,28791000,10,None,None,Ha Noi,31990000,None,94,None,83,0,0,0,0,0\n"
     ]
    },
    {
     "name": "stderr",
     "output_type": "stream",
     "text": [
      "Processing rows:  55%|█████▍    | 658/1200 [33:39<29:13,  3.24s/it]"
     ]
    },
    {
     "name": "stdout",
     "output_type": "stream",
     "text": [
      "dien thoai,28090000,17,13,None,Ho Chi Minh,33990000,None,91,None,100,0,0,0,0,0\n"
     ]
    },
    {
     "name": "stderr",
     "output_type": "stream",
     "text": [
      "Processing rows:  55%|█████▍    | 659/1200 [33:42<28:11,  3.13s/it]"
     ]
    },
    {
     "name": "stdout",
     "output_type": "stream",
     "text": [
      "dien thoai,27891000,10,None,None,Ha Noi,32990000,None,94,None,83,0,0,0,0,0\n"
     ]
    },
    {
     "name": "stderr",
     "output_type": "stream",
     "text": [
      "Processing rows:  55%|█████▌    | 660/1200 [33:45<27:58,  3.11s/it]"
     ]
    },
    {
     "name": "stdout",
     "output_type": "stream",
     "text": [
      "dien thoai,27490000,11,7,5,Ha Noi,33990000,51500,94,96,100,0,0,0,0,5\n"
     ]
    },
    {
     "name": "stderr",
     "output_type": "stream",
     "text": [
      "Processing rows:  55%|█████▌    | 661/1200 [33:49<28:57,  3.22s/it]"
     ]
    },
    {
     "name": "stdout",
     "output_type": "stream",
     "text": [
      "dien thoai,27399000,None,None,None,Ha Noi,None,32700,97,None,None,0,0,0,0,0\n"
     ]
    },
    {
     "name": "stderr",
     "output_type": "stream",
     "text": [
      "Processing rows:  55%|█████▌    | 662/1200 [33:52<30:08,  3.36s/it]"
     ]
    },
    {
     "name": "stdout",
     "output_type": "stream",
     "text": [
      "dien thoai,26590000,22,None,1,Ho Chi Minh,33999000,7300,97,None,50,0,0,0,0,1\n"
     ]
    },
    {
     "name": "stderr",
     "output_type": "stream",
     "text": [
      "Processing rows:  55%|█████▌    | 663/1200 [33:58<34:48,  3.89s/it]"
     ]
    },
    {
     "name": "stdout",
     "output_type": "stream",
     "text": [
      "dien thoai,25390000,41,None,None,Ha Noi,43000000,38000,91,95,100,0,0,0,0,0\n"
     ]
    },
    {
     "name": "stderr",
     "output_type": "stream",
     "text": [
      "Processing rows:  55%|█████▌    | 664/1200 [34:01<33:54,  3.80s/it]"
     ]
    },
    {
     "name": "stdout",
     "output_type": "stream",
     "text": [
      "dien thoai,24898000,27,7,None,Ho Chi Minh,33990000,18300,99,99,98,0,0,0,0,0\n"
     ]
    },
    {
     "name": "stderr",
     "output_type": "stream",
     "text": [
      "Processing rows:  55%|█████▌    | 665/1200 [34:04<31:38,  3.55s/it]"
     ]
    },
    {
     "name": "stdout",
     "output_type": "stream",
     "text": [
      "dien thoai,24880000,22,None,None,Ha Noi,31990000,None,94,None,83,0,0,0,0,0\n"
     ]
    },
    {
     "name": "stderr",
     "output_type": "stream",
     "text": [
      "Processing rows:  56%|█████▌    | 666/1200 [34:08<31:49,  3.58s/it]"
     ]
    },
    {
     "name": "stdout",
     "output_type": "stream",
     "text": [
      "dien thoai,24290100,10,None,None,Ha Noi,29990000,None,94,None,83,0,0,0,0,0\n"
     ]
    },
    {
     "name": "stderr",
     "output_type": "stream",
     "text": [
      "Processing rows:  56%|█████▌    | 667/1200 [34:11<31:54,  3.59s/it]"
     ]
    },
    {
     "name": "stdout",
     "output_type": "stream",
     "text": [
      "dien thoai,24190000,21,None,None,Ha Noi,26990000,None,94,None,83,0,0,0,0,0\n"
     ]
    },
    {
     "name": "stderr",
     "output_type": "stream",
     "text": [
      "Processing rows:  56%|█████▌    | 668/1200 [34:16<34:00,  3.84s/it]"
     ]
    },
    {
     "name": "stdout",
     "output_type": "stream",
     "text": [
      "dien thoai,24140000,29,None,None,Ho Chi Minh,33990000,16500,98,83,100,0,0,0,0,0\n"
     ]
    },
    {
     "name": "stderr",
     "output_type": "stream",
     "text": [
      "Processing rows:  56%|█████▌    | 669/1200 [34:20<34:05,  3.85s/it]"
     ]
    },
    {
     "name": "stdout",
     "output_type": "stream",
     "text": [
      "dien thoai,23600000,13,None,None,Ha Noi,30490000,None,94,None,83,0,0,0,0,0\n"
     ]
    },
    {
     "name": "stderr",
     "output_type": "stream",
     "text": [
      "Processing rows:  56%|█████▌    | 670/1200 [34:25<36:46,  4.16s/it]"
     ]
    },
    {
     "name": "stdout",
     "output_type": "stream",
     "text": [
      "dien thoai,23290000,31,7,3,Ho Chi Minh,44490000,0,98,100,88,0,0,0,1,2\n"
     ]
    },
    {
     "name": "stderr",
     "output_type": "stream",
     "text": [
      "Processing rows:  56%|█████▌    | 671/1200 [34:28<33:53,  3.84s/it]"
     ]
    },
    {
     "name": "stdout",
     "output_type": "stream",
     "text": [
      "dien thoai,22990000,None,None,None,Ha Noi,None,38000,98,100,92,0,0,0,0,0\n"
     ]
    },
    {
     "name": "stderr",
     "output_type": "stream",
     "text": [
      "Processing rows:  56%|█████▌    | 672/1200 [34:31<33:08,  3.77s/it]"
     ]
    },
    {
     "name": "stdout",
     "output_type": "stream",
     "text": [
      "dien thoai,22990000,None,5,None,Ho Chi Minh,None,19600,99,100,85,0,0,0,0,0\n"
     ]
    },
    {
     "name": "stderr",
     "output_type": "stream",
     "text": [
      "Processing rows:  56%|█████▌    | 673/1200 [34:36<35:01,  3.99s/it]"
     ]
    },
    {
     "name": "stdout",
     "output_type": "stream",
     "text": [
      "dien thoai,22990000,45,9,1,Da Nang,41990000,32700,94,100,100,0,0,0,0,1\n"
     ]
    },
    {
     "name": "stderr",
     "output_type": "stream",
     "text": [
      "Processing rows:  56%|█████▌    | 674/1200 [34:39<32:33,  3.71s/it]"
     ]
    },
    {
     "name": "stdout",
     "output_type": "stream",
     "text": [
      "dien thoai,22990000,18,16,3,Binh Duong,27990000,None,98,None,98,0,0,0,0,6\n"
     ]
    },
    {
     "name": "stderr",
     "output_type": "stream",
     "text": [
      "Processing rows:  56%|█████▋    | 675/1200 [34:42<30:56,  3.54s/it]"
     ]
    },
    {
     "name": "stdout",
     "output_type": "stream",
     "text": [
      "dien thoai,21490000,35,8,2,Ha Noi,32990000,51500,94,96,100,0,0,0,0,2\n"
     ]
    },
    {
     "name": "stderr",
     "output_type": "stream",
     "text": [
      "Processing rows:  56%|█████▋    | 676/1200 [34:45<28:59,  3.32s/it]"
     ]
    },
    {
     "name": "stdout",
     "output_type": "stream",
     "text": [
      "dien thoai,21390000,7,None,None,Ho Chi Minh,22900000,18300,99,99,98,0,0,0,0,0\n"
     ]
    },
    {
     "name": "stderr",
     "output_type": "stream",
     "text": [
      "Processing rows:  56%|█████▋    | 677/1200 [34:49<31:47,  3.65s/it]"
     ]
    },
    {
     "name": "stdout",
     "output_type": "stream",
     "text": [
      "dien thoai,21290000,31,36,3,Ho Chi Minh,30990000,16500,97,None,None,0,0,1,0,3\n"
     ]
    },
    {
     "name": "stderr",
     "output_type": "stream",
     "text": [
      "Processing rows:  56%|█████▋    | 678/1200 [34:53<31:00,  3.56s/it]"
     ]
    },
    {
     "name": "stdout",
     "output_type": "stream",
     "text": [
      "dien thoai,20989000,9,120,30,Bac Ninh,22990000,16500,91,99,100,1,1,4,1,23\n"
     ]
    },
    {
     "name": "stderr",
     "output_type": "stream",
     "text": [
      "Processing rows:  57%|█████▋    | 679/1200 [34:57<32:54,  3.79s/it]"
     ]
    },
    {
     "name": "stdout",
     "output_type": "stream",
     "text": [
      "dien thoai,20890000,23,None,None,Ho Chi Minh,26990000,18300,99,99,98,0,0,0,0,0\n"
     ]
    },
    {
     "name": "stderr",
     "output_type": "stream",
     "text": [
      "Processing rows:  57%|█████▋    | 680/1200 [35:01<34:57,  4.03s/it]"
     ]
    },
    {
     "name": "stdout",
     "output_type": "stream",
     "text": [
      "dien thoai,20610000,10,None,None,Ha Noi,22990000,None,94,None,83,0,0,0,0,0\n"
     ]
    },
    {
     "name": "stderr",
     "output_type": "stream",
     "text": [
      "Processing rows:  57%|█████▋    | 681/1200 [35:05<33:10,  3.83s/it]"
     ]
    },
    {
     "name": "stdout",
     "output_type": "stream",
     "text": [
      "dien thoai,20090000,13,None,1,Ho Chi Minh,22990000,None,91,None,100,0,0,0,0,1\n"
     ]
    },
    {
     "name": "stderr",
     "output_type": "stream",
     "text": [
      "Processing rows:  57%|█████▋    | 682/1200 [35:08<32:11,  3.73s/it]"
     ]
    },
    {
     "name": "stdout",
     "output_type": "stream",
     "text": [
      "dien thoai,19995000,9,None,None,Ho Chi Minh,21990000,0,97,100,33,0,0,0,0,0\n"
     ]
    },
    {
     "name": "stderr",
     "output_type": "stream",
     "text": [
      "Processing rows:  57%|█████▋    | 683/1200 [35:11<29:38,  3.44s/it]"
     ]
    },
    {
     "name": "stdout",
     "output_type": "stream",
     "text": [
      "dien thoai,19990000,26,None,None,Ho Chi Minh,26990000,16500,98,83,100,0,0,0,0,0\n"
     ]
    },
    {
     "name": "stderr",
     "output_type": "stream",
     "text": [
      "Processing rows:  57%|█████▋    | 684/1200 [35:18<38:55,  4.53s/it]"
     ]
    },
    {
     "name": "stdout",
     "output_type": "stream",
     "text": [
      "dien thoai,19990000,5,None,None,Ho Chi Minh,20990000,19600,85,None,100,0,0,0,0,0\n"
     ]
    },
    {
     "name": "stderr",
     "output_type": "stream",
     "text": [
      "Processing rows:  57%|█████▋    | 685/1200 [35:22<37:29,  4.37s/it]"
     ]
    },
    {
     "name": "stdout",
     "output_type": "stream",
     "text": [
      "dien thoai,19890000,1,None,None,Ho Chi Minh,19990000,0,97,100,33,0,0,0,0,0\n"
     ]
    },
    {
     "name": "stderr",
     "output_type": "stream",
     "text": [
      "Processing rows:  57%|█████▋    | 686/1200 [35:25<33:02,  3.86s/it]"
     ]
    },
    {
     "name": "stdout",
     "output_type": "stream",
     "text": [
      "dien thoai,19890000,None,None,None,Ho Chi Minh,19900000,19600,85,None,100,0,0,0,0,0\n"
     ]
    },
    {
     "name": "stderr",
     "output_type": "stream",
     "text": [
      "Processing rows:  57%|█████▋    | 687/1200 [35:28<30:25,  3.56s/it]"
     ]
    },
    {
     "name": "stdout",
     "output_type": "stream",
     "text": [
      "dien thoai,19640000,15,10,4,Ho Chi Minh,22990000,18300,99,99,98,0,0,0,0,4\n"
     ]
    },
    {
     "name": "stderr",
     "output_type": "stream",
     "text": [
      "Processing rows:  57%|█████▋    | 688/1200 [35:32<31:44,  3.72s/it]"
     ]
    },
    {
     "name": "stdout",
     "output_type": "stream",
     "text": [
      "dien thoai,19190000,17,None,None,Ho Chi Minh,23000000,16500,98,83,100,0,0,0,0,1\n"
     ]
    },
    {
     "name": "stderr",
     "output_type": "stream",
     "text": [
      "Processing rows:  57%|█████▋    | 689/1200 [35:37<35:00,  4.11s/it]"
     ]
    },
    {
     "name": "stdout",
     "output_type": "stream",
     "text": [
      "dien thoai,19140000,17,None,None,Ho Chi Minh,22990000,16500,100,99,100,0,0,0,0,0\n"
     ]
    },
    {
     "name": "stderr",
     "output_type": "stream",
     "text": [
      "Processing rows:  57%|█████▊    | 690/1200 [35:42<38:50,  4.57s/it]"
     ]
    },
    {
     "name": "stdout",
     "output_type": "stream",
     "text": [
      "dien thoai,18990000,17,None,None,Da Nang,22990000,38000,97,81,80,0,0,0,0,0\n"
     ]
    },
    {
     "name": "stderr",
     "output_type": "stream",
     "text": [
      "Processing rows:  58%|█████▊    | 691/1200 [35:46<35:03,  4.13s/it]"
     ]
    },
    {
     "name": "stdout",
     "output_type": "stream",
     "text": [
      "dien thoai,18990000,17,None,None,Da Nang,22990000,38000,96,25,100,0,0,0,0,0\n"
     ]
    },
    {
     "name": "stderr",
     "output_type": "stream",
     "text": [
      "Processing rows:  58%|█████▊    | 692/1200 [35:48<31:42,  3.74s/it]"
     ]
    },
    {
     "name": "stdout",
     "output_type": "stream",
     "text": [
      "dien thoai,18990000,42,8,3,Ho Chi Minh,32990000,18300,99,100,85,0,0,0,0,2\n"
     ]
    },
    {
     "name": "stderr",
     "output_type": "stream",
     "text": [
      "Processing rows:  58%|█████▊    | 693/1200 [35:52<30:39,  3.63s/it]"
     ]
    },
    {
     "name": "stdout",
     "output_type": "stream",
     "text": [
      "dien thoai,18866000,9,None,None,Ha Noi,21299000,32700,97,None,None,0,0,0,0,0\n"
     ]
    },
    {
     "name": "stderr",
     "output_type": "stream",
     "text": [
      "Processing rows:  58%|█████▊    | 694/1200 [35:55<29:27,  3.49s/it]"
     ]
    },
    {
     "name": "stdout",
     "output_type": "stream",
     "text": [
      "dien thoai,18599000,11,None,None,Ha Noi,23990000,13700,100,100,100,0,0,0,0,0\n"
     ]
    },
    {
     "name": "stderr",
     "output_type": "stream",
     "text": [
      "Processing rows:  58%|█████▊    | 695/1200 [35:58<28:29,  3.39s/it]"
     ]
    },
    {
     "name": "stdout",
     "output_type": "stream",
     "text": [
      "dien thoai,17990000,None,None,None,Ho Chi Minh,None,16500,None,None,66,0,0,0,0,0\n"
     ]
    },
    {
     "name": "stderr",
     "output_type": "stream",
     "text": [
      "Processing rows:  58%|█████▊    | 696/1200 [36:02<28:59,  3.45s/it]"
     ]
    },
    {
     "name": "stdout",
     "output_type": "stream",
     "text": [
      "dien thoai,17990000,None,None,None,Ben Tre,None,28700,83,None,None,0,0,0,0,0\n"
     ]
    },
    {
     "name": "stderr",
     "output_type": "stream",
     "text": [
      "Processing rows:  58%|█████▊    | 697/1200 [36:04<25:56,  3.09s/it]"
     ]
    },
    {
     "name": "stdout",
     "output_type": "stream",
     "text": [
      "dien thoai,17950000,22,None,None,Ho Chi Minh,22990000,16500,98,83,100,0,0,0,0,0\n"
     ]
    },
    {
     "name": "stderr",
     "output_type": "stream",
     "text": [
      "Processing rows:  58%|█████▊    | 698/1200 [36:07<24:49,  2.97s/it]"
     ]
    },
    {
     "name": "stdout",
     "output_type": "stream",
     "text": [
      "dien thoai,17800000,None,45,5,Ho Chi Minh,None,0,100,None,None,0,0,0,0,5\n"
     ]
    },
    {
     "name": "stderr",
     "output_type": "stream",
     "text": [
      "Processing rows:  58%|█████▊    | 699/1200 [36:11<27:35,  3.30s/it]"
     ]
    },
    {
     "name": "stdout",
     "output_type": "stream",
     "text": [
      "dien thoai,17499000,None,None,None,Ho Chi Minh,None,16500,None,None,66,0,0,0,0,0\n"
     ]
    },
    {
     "name": "stderr",
     "output_type": "stream",
     "text": [
      "Processing rows:  58%|█████▊    | 700/1200 [36:13<26:06,  3.13s/it]"
     ]
    },
    {
     "name": "stdout",
     "output_type": "stream",
     "text": [
      "dien thoai,17290000,36,None,None,Ho Chi Minh,26990000,0,98,100,88,0,0,0,0,0\n"
     ]
    },
    {
     "name": "stderr",
     "output_type": "stream",
     "text": [
      "Processing rows:  58%|█████▊    | 701/1200 [36:17<26:14,  3.15s/it]"
     ]
    },
    {
     "name": "stdout",
     "output_type": "stream",
     "text": [
      "dien thoai,17020000,26,None,1,Ha Noi,22990000,None,94,None,83,0,0,0,0,1\n"
     ]
    },
    {
     "name": "stderr",
     "output_type": "stream",
     "text": [
      "Processing rows:  58%|█████▊    | 702/1200 [36:19<24:39,  2.97s/it]"
     ]
    },
    {
     "name": "stdout",
     "output_type": "stream",
     "text": [
      "dien thoai,17020000,26,10,2,Ha Noi,24989800,None,92,None,33,0,0,0,0,2\n"
     ]
    },
    {
     "name": "stderr",
     "output_type": "stream",
     "text": [
      "Processing rows:  59%|█████▊    | 703/1200 [36:22<24:23,  2.95s/it]"
     ]
    },
    {
     "name": "stdout",
     "output_type": "stream",
     "text": [
      "dien thoai,16990000,15,13,5,Ho Chi Minh,19990000,18300,99,100,85,0,0,0,0,5\n"
     ]
    },
    {
     "name": "stderr",
     "output_type": "stream",
     "text": [
      "Processing rows:  59%|█████▊    | 704/1200 [36:25<24:25,  2.95s/it]"
     ]
    },
    {
     "name": "stdout",
     "output_type": "stream",
     "text": [
      "dien thoai,16990000,35,11,1,Ho Chi Minh,25990000,16500,97,None,None,0,0,0,0,1\n"
     ]
    },
    {
     "name": "stderr",
     "output_type": "stream",
     "text": [
      "Processing rows:  59%|█████▉    | 705/1200 [36:28<23:53,  2.90s/it]"
     ]
    },
    {
     "name": "stdout",
     "output_type": "stream",
     "text": [
      "dien thoai,16490000,None,None,1,Ha Noi,None,13700,95,100,100,0,0,0,0,1\n"
     ]
    },
    {
     "name": "stderr",
     "output_type": "stream",
     "text": [
      "Processing rows:  59%|█████▉    | 706/1200 [36:30<23:12,  2.82s/it]"
     ]
    },
    {
     "name": "stdout",
     "output_type": "stream",
     "text": [
      "dien thoai,15890000,38,7,1,Ha Noi,32900000,38000,91,95,100,0,0,0,0,1\n"
     ]
    },
    {
     "name": "stderr",
     "output_type": "stream",
     "text": [
      "Processing rows:  59%|█████▉    | 707/1200 [36:35<27:38,  3.36s/it]"
     ]
    },
    {
     "name": "stdout",
     "output_type": "stream",
     "text": [
      "dien thoai,15580000,32,None,None,Ho Chi Minh,22900000,18300,99,99,98,0,0,0,0,0\n"
     ]
    },
    {
     "name": "stderr",
     "output_type": "stream",
     "text": [
      "Processing rows:  59%|█████▉    | 708/1200 [36:40<30:43,  3.75s/it]"
     ]
    },
    {
     "name": "stdout",
     "output_type": "stream",
     "text": [
      "dien thoai,15490000,40,None,None,Da Nang,29990000,38000,97,81,80,0,0,0,0,0\n"
     ]
    },
    {
     "name": "stderr",
     "output_type": "stream",
     "text": [
      "Processing rows:  59%|█████▉    | 709/1200 [36:42<27:55,  3.41s/it]"
     ]
    },
    {
     "name": "stdout",
     "output_type": "stream",
     "text": [
      "dien thoai,15390000,33,None,None,Ho Chi Minh,22990000,0,98,100,88,0,0,0,0,0\n"
     ]
    },
    {
     "name": "stderr",
     "output_type": "stream",
     "text": [
      "Processing rows:  59%|█████▉    | 710/1200 [36:45<25:08,  3.08s/it]"
     ]
    },
    {
     "name": "stdout",
     "output_type": "stream",
     "text": [
      "dien thoai,14500000,None,None,None,Ho Chi Minh,None,16500,None,66,100,0,0,0,0,0\n"
     ]
    },
    {
     "name": "stderr",
     "output_type": "stream",
     "text": [
      "Processing rows:  59%|█████▉    | 711/1200 [36:47<24:27,  3.00s/it]"
     ]
    },
    {
     "name": "stdout",
     "output_type": "stream",
     "text": [
      "dien thoai,14500000,None,5,None,Ha Noi,None,0,None,None,None,0,0,0,0,0\n"
     ]
    },
    {
     "name": "stderr",
     "output_type": "stream",
     "text": [
      "Processing rows:  59%|█████▉    | 712/1200 [36:52<27:05,  3.33s/it]"
     ]
    },
    {
     "name": "stdout",
     "output_type": "stream",
     "text": [
      "dien thoai,14390000,37,9,None,Ha Noi,22990000,0,97,50,50,0,0,0,0,0\n"
     ]
    },
    {
     "name": "stderr",
     "output_type": "stream",
     "text": [
      "Processing rows:  59%|█████▉    | 713/1200 [36:54<25:19,  3.12s/it]"
     ]
    },
    {
     "name": "stdout",
     "output_type": "stream",
     "text": [
      "dien thoai,14122403,9,69,18,Ha Noi,17990000,13700,95,100,100,0,1,0,0,17\n"
     ]
    },
    {
     "name": "stderr",
     "output_type": "stream",
     "text": [
      "Processing rows:  60%|█████▉    | 714/1200 [36:57<24:22,  3.01s/it]"
     ]
    },
    {
     "name": "stdout",
     "output_type": "stream",
     "text": [
      "dien thoai,13990000,None,None,None,Ben Tre,None,28700,83,None,None,0,0,0,0,0\n"
     ]
    },
    {
     "name": "stderr",
     "output_type": "stream",
     "text": [
      "Processing rows:  60%|█████▉    | 715/1200 [37:01<26:04,  3.23s/it]"
     ]
    },
    {
     "name": "stdout",
     "output_type": "stream",
     "text": [
      "dien thoai,13990000,26,32,2,Ho Chi Minh,18990000,18300,99,100,85,0,0,0,0,2\n"
     ]
    },
    {
     "name": "stderr",
     "output_type": "stream",
     "text": [
      "Processing rows:  60%|█████▉    | 716/1200 [37:04<25:08,  3.12s/it]"
     ]
    },
    {
     "name": "stdout",
     "output_type": "stream",
     "text": [
      "dien thoai,13878080,37,7,None,Ho Chi Minh,None,None,None,None,None,0,0,0,0,0\n"
     ]
    },
    {
     "name": "stderr",
     "output_type": "stream",
     "text": [
      "Processing rows:  60%|█████▉    | 717/1200 [37:06<23:29,  2.92s/it]"
     ]
    },
    {
     "name": "stdout",
     "output_type": "stream",
     "text": [
      "dien thoai,13500000,None,None,None,Ho Chi Minh,None,16500,None,66,100,0,0,0,0,0\n"
     ]
    },
    {
     "name": "stderr",
     "output_type": "stream",
     "text": [
      "Processing rows:  60%|█████▉    | 718/1200 [37:11<28:46,  3.58s/it]"
     ]
    },
    {
     "name": "stdout",
     "output_type": "stream",
     "text": [
      "dien thoai,13400000,None,None,None,Nam Định,None,37700,87,80,100,0,0,0,0,0\n"
     ]
    },
    {
     "name": "stderr",
     "output_type": "stream",
     "text": [
      "Processing rows:  60%|█████▉    | 719/1200 [37:14<26:01,  3.25s/it]"
     ]
    },
    {
     "name": "stdout",
     "output_type": "stream",
     "text": [
      "dien thoai,13200000,None,None,None,Ho Chi Minh,None,16500,None,66,100,0,0,0,0,0\n"
     ]
    },
    {
     "name": "stderr",
     "output_type": "stream",
     "text": [
      "Processing rows:  60%|██████    | 720/1200 [37:16<24:32,  3.07s/it]"
     ]
    },
    {
     "name": "stdout",
     "output_type": "stream",
     "text": [
      "dien thoai,13190000,31,None,None,Ha Noi,24550000,38000,91,95,100,0,0,0,0,0\n"
     ]
    },
    {
     "name": "stderr",
     "output_type": "stream",
     "text": [
      "Processing rows:  60%|██████    | 721/1200 [37:20<26:03,  3.26s/it]"
     ]
    },
    {
     "name": "stdout",
     "output_type": "stream",
     "text": [
      "dien thoai,24188000,29,11,1,Da Nang,33990000,38000,97,81,80,0,0,0,0,2\n"
     ]
    },
    {
     "name": "stderr",
     "output_type": "stream",
     "text": [
      "Processing rows:  60%|██████    | 722/1200 [37:25<30:55,  3.88s/it]"
     ]
    },
    {
     "name": "stdout",
     "output_type": "stream",
     "text": [
      "dien thoai,16990000,45,31,12,Ho Chi Minh,33990000,16500,97,None,None,0,0,0,2,10\n"
     ]
    },
    {
     "name": "stderr",
     "output_type": "stream",
     "text": [
      "Processing rows:  60%|██████    | 723/1200 [37:30<33:29,  4.21s/it]"
     ]
    },
    {
     "name": "stdout",
     "output_type": "stream",
     "text": [
      "dien thoai,14990000,None,None,1,Ho Chi Minh,None,0,100,None,100,0,0,0,0,1\n"
     ]
    },
    {
     "name": "stderr",
     "output_type": "stream",
     "text": [
      "Processing rows:  60%|██████    | 724/1200 [37:34<33:12,  4.19s/it]"
     ]
    },
    {
     "name": "stdout",
     "output_type": "stream",
     "text": [
      "dien thoai,12998500,23,16,2,Ho Chi Minh,16890500,None,91,None,100,0,0,0,1,2\n"
     ]
    },
    {
     "name": "stderr",
     "output_type": "stream",
     "text": [
      "Processing rows:  60%|██████    | 725/1200 [37:39<34:20,  4.34s/it]"
     ]
    },
    {
     "name": "stdout",
     "output_type": "stream",
     "text": [
      "dien thoai,12990000,24,None,None,Ho Chi Minh,16990000,16500,None,None,66,0,0,0,0,0\n"
     ]
    },
    {
     "name": "stderr",
     "output_type": "stream",
     "text": [
      "Processing rows:  60%|██████    | 726/1200 [37:42<31:57,  4.05s/it]"
     ]
    },
    {
     "name": "stdout",
     "output_type": "stream",
     "text": [
      "dien thoai,12940000,13,None,None,Ha Noi,16890000,38000,98,100,92,0,0,0,0,0\n"
     ]
    },
    {
     "name": "stderr",
     "output_type": "stream",
     "text": [
      "Processing rows:  61%|██████    | 727/1200 [37:47<32:43,  4.15s/it]"
     ]
    },
    {
     "name": "stdout",
     "output_type": "stream",
     "text": [
      "dien thoai,12890000,None,None,None,Ha Noi,None,13700,95,100,100,0,0,0,0,0\n"
     ]
    },
    {
     "name": "stderr",
     "output_type": "stream",
     "text": [
      "Processing rows:  61%|██████    | 728/1200 [37:50<31:05,  3.95s/it]"
     ]
    },
    {
     "name": "stdout",
     "output_type": "stream",
     "text": [
      "dien thoai,12389000,None,None,None,Nam Định,None,43900,None,None,100,0,0,0,0,0\n"
     ]
    },
    {
     "name": "stderr",
     "output_type": "stream",
     "text": [
      "Processing rows:  61%|██████    | 729/1200 [37:53<28:27,  3.63s/it]"
     ]
    },
    {
     "name": "stdout",
     "output_type": "stream",
     "text": [
      "dien thoai,12290000,36,None,1,Ha Noi,19200000,38000,91,95,100,0,0,0,0,1\n"
     ]
    },
    {
     "name": "stderr",
     "output_type": "stream",
     "text": [
      "Processing rows:  61%|██████    | 730/1200 [37:57<28:03,  3.58s/it]"
     ]
    },
    {
     "name": "stdout",
     "output_type": "stream",
     "text": [
      "dien thoai,12200000,18,None,1,Ha Noi,14900000,None,94,None,83,0,0,0,0,1\n"
     ]
    },
    {
     "name": "stderr",
     "output_type": "stream",
     "text": [
      "Processing rows:  61%|██████    | 731/1200 [38:00<26:33,  3.40s/it]"
     ]
    },
    {
     "name": "stdout",
     "output_type": "stream",
     "text": [
      "dien thoai,12200000,18,None,None,Ha Noi,16890500,None,92,None,33,0,0,0,0,0\n"
     ]
    },
    {
     "name": "stderr",
     "output_type": "stream",
     "text": [
      "Processing rows:  61%|██████    | 732/1200 [38:04<29:20,  3.76s/it]"
     ]
    },
    {
     "name": "stdout",
     "output_type": "stream",
     "text": [
      "dien thoai,11990000,8,None,3,Ho Chi Minh,12990000,19600,85,None,100,0,0,0,0,3\n"
     ]
    },
    {
     "name": "stderr",
     "output_type": "stream",
     "text": [
      "Processing rows:  61%|██████    | 733/1200 [38:08<29:06,  3.74s/it]"
     ]
    },
    {
     "name": "stdout",
     "output_type": "stream",
     "text": [
      "dien thoai,11989000,19,91,16,Ho Chi Minh,14890000,16500,91,99,100,1,0,0,0,15\n"
     ]
    },
    {
     "name": "stderr",
     "output_type": "stream",
     "text": [
      "Processing rows:  61%|██████    | 734/1200 [38:12<29:00,  3.73s/it]"
     ]
    },
    {
     "name": "stdout",
     "output_type": "stream",
     "text": [
      "dien thoai,11980000,8,None,None,Ho Chi Minh,12990000,0,97,100,33,0,0,0,0,0\n"
     ]
    },
    {
     "name": "stderr",
     "output_type": "stream",
     "text": [
      "Processing rows:  61%|██████▏   | 735/1200 [38:15<27:32,  3.55s/it]"
     ]
    },
    {
     "name": "stdout",
     "output_type": "stream",
     "text": [
      "dien thoai,11800000,None,None,None,Nam Dinh,None,37700,87,80,100,0,0,0,0,0\n"
     ]
    },
    {
     "name": "stderr",
     "output_type": "stream",
     "text": [
      "Processing rows:  61%|██████▏   | 736/1200 [38:18<27:47,  3.59s/it]"
     ]
    },
    {
     "name": "stdout",
     "output_type": "stream",
     "text": [
      "dien thoai,11700000,None,None,None,Ho Chi Minh,None,16500,None,66,100,0,0,0,0,0\n"
     ]
    },
    {
     "name": "stderr",
     "output_type": "stream",
     "text": [
      "Processing rows:  61%|██████▏   | 737/1200 [38:22<28:40,  3.72s/it]"
     ]
    },
    {
     "name": "stdout",
     "output_type": "stream",
     "text": [
      "dien thoai,11680000,10,35,8,Ho Chi Minh,12990000,18300,98,100,92,0,0,0,0,9\n"
     ]
    },
    {
     "name": "stderr",
     "output_type": "stream",
     "text": [
      "Processing rows:  62%|██████▏   | 738/1200 [38:26<27:34,  3.58s/it]"
     ]
    },
    {
     "name": "stdout",
     "output_type": "stream",
     "text": [
      "dien thoai,11617600,22,33,2,Ho Chi Minh,14889600,None,91,None,100,0,0,0,0,3\n"
     ]
    },
    {
     "name": "stderr",
     "output_type": "stream",
     "text": [
      "Processing rows:  62%|██████▏   | 739/1200 [38:30<28:28,  3.71s/it]"
     ]
    },
    {
     "name": "stdout",
     "output_type": "stream",
     "text": [
      "dien thoai,11250000,16,None,None,Ha Noi,13350000,38000,91,95,100,0,0,0,0,0\n"
     ]
    },
    {
     "name": "stderr",
     "output_type": "stream",
     "text": [
      "Processing rows:  62%|██████▏   | 740/1200 [38:36<33:47,  4.41s/it]"
     ]
    },
    {
     "name": "stdout",
     "output_type": "stream",
     "text": [
      "dien thoai,11078000,21,None,None,Ho Chi Minh,13990000,16500,100,99,100,0,0,0,0,0\n"
     ]
    },
    {
     "name": "stderr",
     "output_type": "stream",
     "text": [
      "Processing rows:  62%|██████▏   | 741/1200 [38:42<36:45,  4.81s/it]"
     ]
    },
    {
     "name": "stdout",
     "output_type": "stream",
     "text": [
      "dien thoai,11039000,26,None,0,Ben Tre,14890000,28700,98,100,100,0,0,0,0,1\n"
     ]
    },
    {
     "name": "stderr",
     "output_type": "stream",
     "text": [
      "Processing rows:  62%|██████▏   | 742/1200 [38:48<40:27,  5.30s/it]"
     ]
    },
    {
     "name": "stdout",
     "output_type": "stream",
     "text": [
      "dien thoai,10990000,None,15,1,Ho Chi Minh,None,18300,99,99,98,0,0,0,0,1\n"
     ]
    },
    {
     "name": "stderr",
     "output_type": "stream",
     "text": [
      "Processing rows:  62%|██████▏   | 743/1200 [38:52<37:22,  4.91s/it]"
     ]
    },
    {
     "name": "stdout",
     "output_type": "stream",
     "text": [
      "dien thoai,10990000,27,None,None,Da Nang,14990000,0,93,None,100,0,0,0,0,0\n"
     ]
    },
    {
     "name": "stderr",
     "output_type": "stream",
     "text": [
      "Processing rows:  62%|██████▏   | 744/1200 [38:57<36:31,  4.81s/it]"
     ]
    },
    {
     "name": "stdout",
     "output_type": "stream",
     "text": [
      "dien thoai,10990000,35,5,1,Ho Chi Minh,16900000,18300,96,75,75,0,0,0,0,1\n"
     ]
    },
    {
     "name": "stderr",
     "output_type": "stream",
     "text": [
      "Processing rows:  62%|██████▏   | 745/1200 [38:59<31:38,  4.17s/it]"
     ]
    },
    {
     "name": "stdout",
     "output_type": "stream",
     "text": [
      "dien thoai,10990000,27,None,None,Da Nang,14990000,38000,97,81,80,0,0,0,0,0\n"
     ]
    },
    {
     "name": "stderr",
     "output_type": "stream",
     "text": [
      "Processing rows:  62%|██████▏   | 746/1200 [39:04<32:48,  4.34s/it]"
     ]
    },
    {
     "name": "stdout",
     "output_type": "stream",
     "text": [
      "dien thoai,10890000,39,5,2,Ha Noi,17999000,26100,100,100,100,0,0,0,0,2\n"
     ]
    },
    {
     "name": "stderr",
     "output_type": "stream",
     "text": [
      "Processing rows:  62%|██████▏   | 747/1200 [39:07<29:41,  3.93s/it]"
     ]
    },
    {
     "name": "stdout",
     "output_type": "stream",
     "text": [
      "dien thoai,10839000,27,None,None,Ben Tre,14890000,28700,97,100,100,0,0,0,0,0\n"
     ]
    },
    {
     "name": "stderr",
     "output_type": "stream",
     "text": [
      "Processing rows:  62%|██████▏   | 748/1200 [39:09<26:00,  3.45s/it]"
     ]
    },
    {
     "name": "stdout",
     "output_type": "stream",
     "text": [
      "dien thoai,10800000,None,None,None,Ho Chi Minh,None,16500,None,66,100,0,0,0,0,0\n"
     ]
    },
    {
     "name": "stderr",
     "output_type": "stream",
     "text": [
      "Processing rows:  62%|██████▏   | 749/1200 [39:13<27:10,  3.61s/it]"
     ]
    },
    {
     "name": "stdout",
     "output_type": "stream",
     "text": [
      "dien thoai,10791000,10,None,None,Ha Noi,11990000,None,94,None,83,0,0,0,0,0\n"
     ]
    },
    {
     "name": "stderr",
     "output_type": "stream",
     "text": [
      "Processing rows:  62%|██████▎   | 750/1200 [39:17<26:37,  3.55s/it]"
     ]
    },
    {
     "name": "stdout",
     "output_type": "stream",
     "text": [
      "dien thoai,10782000,10,5,None,Ha Noi,12980000,None,92,None,33,0,0,0,0,0\n"
     ]
    },
    {
     "name": "stderr",
     "output_type": "stream",
     "text": [
      "Processing rows:  63%|██████▎   | 751/1200 [39:22<29:48,  3.98s/it]"
     ]
    },
    {
     "name": "stdout",
     "output_type": "stream",
     "text": [
      "dien thoai,10560000,None,None,None,Ho Chi Minh,None,19600,100,None,None,0,0,0,0,0\n"
     ]
    },
    {
     "name": "stderr",
     "output_type": "stream",
     "text": [
      "Processing rows:  63%|██████▎   | 752/1200 [39:25<27:14,  3.65s/it]"
     ]
    },
    {
     "name": "stdout",
     "output_type": "stream",
     "text": [
      "dien thoai,10500000,None,None,None,Ho Chi Minh,None,16500,None,66,100,0,0,0,0,0\n"
     ]
    },
    {
     "name": "stderr",
     "output_type": "stream",
     "text": [
      "Processing rows:  63%|██████▎   | 753/1200 [39:28<26:01,  3.49s/it]"
     ]
    },
    {
     "name": "stdout",
     "output_type": "stream",
     "text": [
      "dien thoai,10490000,None,None,None,Ho Chi Minh,None,16500,99,100,None,0,0,0,0,0\n"
     ]
    },
    {
     "name": "stderr",
     "output_type": "stream",
     "text": [
      "Processing rows:  63%|██████▎   | 754/1200 [39:31<25:35,  3.44s/it]"
     ]
    },
    {
     "name": "stdout",
     "output_type": "stream",
     "text": [
      "dien thoai,10490000,19,None,None,Da Nang,12990000,38000,97,81,80,0,0,0,0,0\n"
     ]
    },
    {
     "name": "stderr",
     "output_type": "stream",
     "text": [
      "Processing rows:  63%|██████▎   | 755/1200 [39:35<26:06,  3.52s/it]"
     ]
    },
    {
     "name": "stdout",
     "output_type": "stream",
     "text": [
      "dien thoai,10490000,None,None,None,Dak Nong,None,32200,None,None,None,0,0,0,0,0\n"
     ]
    },
    {
     "name": "stderr",
     "output_type": "stream",
     "text": [
      "Processing rows:  63%|██████▎   | 756/1200 [39:38<24:33,  3.32s/it]"
     ]
    },
    {
     "name": "stdout",
     "output_type": "stream",
     "text": [
      "dien thoai,10489000,52,237,37,Ho Chi Minh,21990000,18300,91,99,100,2,0,0,2,33\n"
     ]
    },
    {
     "name": "stderr",
     "output_type": "stream",
     "text": [
      "Processing rows:  63%|██████▎   | 757/1200 [39:40<23:11,  3.14s/it]"
     ]
    },
    {
     "name": "stdout",
     "output_type": "stream",
     "text": [
      "dien thoai,10450000,30,None,None,Ha Noi,14900000,38000,91,95,100,0,0,0,0,0\n"
     ]
    },
    {
     "name": "stderr",
     "output_type": "stream",
     "text": [
      "Processing rows:  63%|██████▎   | 758/1200 [39:44<23:59,  3.26s/it]"
     ]
    },
    {
     "name": "stdout",
     "output_type": "stream",
     "text": [
      "dien thoai,10290000,34,None,None,Ha Noi,16000000,38000,91,95,100,0,0,0,0,0\n"
     ]
    },
    {
     "name": "stderr",
     "output_type": "stream",
     "text": [
      "Processing rows:  63%|██████▎   | 759/1200 [39:47<23:25,  3.19s/it]"
     ]
    },
    {
     "name": "stdout",
     "output_type": "stream",
     "text": [
      "dien thoai,10290000,21,None,None,Da Nang,12990000,38000,96,25,100,0,0,0,0,0\n"
     ]
    },
    {
     "name": "stderr",
     "output_type": "stream",
     "text": [
      "Processing rows:  63%|██████▎   | 760/1200 [39:50<22:18,  3.04s/it]"
     ]
    },
    {
     "name": "stdout",
     "output_type": "stream",
     "text": [
      "dien thoai,10266000,7,None,None,Ho Chi Minh,10990000,16500,100,99,100,0,0,0,0,0\n"
     ]
    },
    {
     "name": "stderr",
     "output_type": "stream",
     "text": [
      "Processing rows:  63%|██████▎   | 761/1200 [39:53<22:46,  3.11s/it]"
     ]
    },
    {
     "name": "stdout",
     "output_type": "stream",
     "text": [
      "dien thoai,10490000,13,None,None,Da Nang,11990000,38000,97,81,80,0,0,0,0,0\n"
     ]
    },
    {
     "name": "stderr",
     "output_type": "stream",
     "text": [
      "Processing rows:  64%|██████▎   | 762/1200 [39:56<23:33,  3.23s/it]"
     ]
    },
    {
     "name": "stdout",
     "output_type": "stream",
     "text": [
      "dien thoai,10490000,None,7,2,Ho Chi Minh,None,None,99,None,100,0,0,0,0,3\n"
     ]
    },
    {
     "name": "stderr",
     "output_type": "stream",
     "text": [
      "Processing rows:  64%|██████▎   | 763/1200 [40:00<25:04,  3.44s/it]"
     ]
    },
    {
     "name": "stdout",
     "output_type": "stream",
     "text": [
      "dien thoai,10235000,32,None,None,Da Nang,14990000,38000,97,81,80,0,0,0,0,0\n"
     ]
    },
    {
     "name": "stderr",
     "output_type": "stream",
     "text": [
      "Processing rows:  64%|██████▎   | 764/1200 [40:03<23:10,  3.19s/it]"
     ]
    },
    {
     "name": "stdout",
     "output_type": "stream",
     "text": [
      "dien thoai,10200000,None,None,None,Ho Chi Minh,None,16500,None,66,100,0,0,0,0,0\n"
     ]
    },
    {
     "name": "stderr",
     "output_type": "stream",
     "text": [
      "Processing rows:  64%|██████▍   | 765/1200 [40:06<22:52,  3.16s/it]"
     ]
    },
    {
     "name": "stdout",
     "output_type": "stream",
     "text": [
      "dien thoai,10100000,8,6,2,Ho Chi Minh,10990000,18300,98,100,92,0,0,0,0,2\n"
     ]
    },
    {
     "name": "stderr",
     "output_type": "stream",
     "text": [
      "Processing rows:  64%|██████▍   | 766/1200 [40:09<21:43,  3.00s/it]"
     ]
    },
    {
     "name": "stdout",
     "output_type": "stream",
     "text": [
      "dien thoai,10099000,22,None,1,Ha Noi,13000000,38000,97,None,None,0,0,0,0,1\n"
     ]
    },
    {
     "name": "stderr",
     "output_type": "stream",
     "text": [
      "Processing rows:  64%|██████▍   | 767/1200 [40:12<22:17,  3.09s/it]"
     ]
    },
    {
     "name": "stdout",
     "output_type": "stream",
     "text": [
      "dien thoai,10085523,17,45,3,Ha Noi,12090000,13700,95,100,100,0,0,0,0,3\n"
     ]
    },
    {
     "name": "stderr",
     "output_type": "stream",
     "text": [
      "Processing rows:  64%|██████▍   | 768/1200 [40:15<21:45,  3.02s/it]"
     ]
    },
    {
     "name": "stdout",
     "output_type": "stream",
     "text": [
      "dien thoai,9990000,9,None,None,Da Nang,10990000,45100,96,25,100,0,0,0,0,0\n"
     ]
    },
    {
     "name": "stderr",
     "output_type": "stream",
     "text": [
      "Processing rows:  64%|██████▍   | 769/1200 [40:17<20:57,  2.92s/it]"
     ]
    },
    {
     "name": "stdout",
     "output_type": "stream",
     "text": [
      "dien thoai,9990000,None,None,None,Ho Chi Minh,None,16500,None,None,66,0,0,0,0,0\n"
     ]
    },
    {
     "name": "stderr",
     "output_type": "stream",
     "text": [
      "Processing rows:  64%|██████▍   | 770/1200 [40:20<19:53,  2.78s/it]"
     ]
    },
    {
     "name": "stdout",
     "output_type": "stream",
     "text": [
      "dien thoai,9990000,17,None,None,Ho Chi Minh,12000000,16500,98,83,100,0,0,0,0,0\n"
     ]
    },
    {
     "name": "stderr",
     "output_type": "stream",
     "text": [
      "Processing rows:  64%|██████▍   | 771/1200 [40:22<19:23,  2.71s/it]"
     ]
    },
    {
     "name": "stdout",
     "output_type": "stream",
     "text": [
      "dien thoai,9990000,None,None,None,Ha Noi,None,None,94,None,83,0,0,0,0,0\n"
     ]
    },
    {
     "name": "stderr",
     "output_type": "stream",
     "text": [
      "Processing rows:  64%|██████▍   | 772/1200 [40:25<19:11,  2.69s/it]"
     ]
    },
    {
     "name": "stdout",
     "output_type": "stream",
     "text": [
      "dien thoai,9990000,None,None,None,Da Nang,None,32700,100,80,None,0,0,0,0,0\n"
     ]
    },
    {
     "name": "stderr",
     "output_type": "stream",
     "text": [
      "Processing rows:  64%|██████▍   | 773/1200 [40:28<19:46,  2.78s/it]"
     ]
    },
    {
     "name": "stdout",
     "output_type": "stream",
     "text": [
      "dien thoai,9990000,23,7,None,Ho Chi Minh,12890000,0,98,100,88,0,0,0,0,0\n"
     ]
    },
    {
     "name": "stderr",
     "output_type": "stream",
     "text": [
      "Processing rows:  64%|██████▍   | 774/1200 [40:33<24:30,  3.45s/it]"
     ]
    },
    {
     "name": "stdout",
     "output_type": "stream",
     "text": [
      "dien thoai,9890000,21,38,12,Binh Duong,12490000,None,98,None,98,0,0,1,1,11\n"
     ]
    },
    {
     "name": "stderr",
     "output_type": "stream",
     "text": [
      "Processing rows:  65%|██████▍   | 775/1200 [40:36<22:33,  3.18s/it]"
     ]
    },
    {
     "name": "stdout",
     "output_type": "stream",
     "text": [
      "dien thoai,9990000,None,7,None,Ha Noi,None,0,100,None,None,0,0,0,0,0\n"
     ]
    },
    {
     "name": "stderr",
     "output_type": "stream",
     "text": [
      "Processing rows:  65%|██████▍   | 776/1200 [40:39<22:35,  3.20s/it]"
     ]
    },
    {
     "name": "stdout",
     "output_type": "stream",
     "text": [
      "dien thoai,9895000,None,None,None,Ha Noi,9900000,0,91,55,78,1,0,0,0,0\n"
     ]
    },
    {
     "name": "stderr",
     "output_type": "stream",
     "text": [
      "Processing rows:  65%|██████▍   | 777/1200 [40:43<23:53,  3.39s/it]"
     ]
    },
    {
     "name": "stdout",
     "output_type": "stream",
     "text": [
      "dien thoai,9890000,18,8,5,Tien Giang,15900000,28700,97,100,100,0,0,1,0,4\n"
     ]
    },
    {
     "name": "stderr",
     "output_type": "stream",
     "text": [
      "Processing rows:  65%|██████▍   | 778/1200 [40:45<22:31,  3.20s/it]"
     ]
    },
    {
     "name": "stdout",
     "output_type": "stream",
     "text": [
      "dien thoai,9790000,1,None,None,Ho Chi Minh,9900000,18300,99,99,98,0,0,0,0,0\n"
     ]
    },
    {
     "name": "stderr",
     "output_type": "stream",
     "text": [
      "Processing rows:  65%|██████▍   | 779/1200 [40:48<21:54,  3.12s/it]"
     ]
    },
    {
     "name": "stdout",
     "output_type": "stream",
     "text": [
      "dien thoai,9675000,None,None,None,Ho Chi Minh,None,16500,None,None,66,0,0,0,0,0\n"
     ]
    },
    {
     "name": "stderr",
     "output_type": "stream",
     "text": [
      "Processing rows:  65%|██████▌   | 780/1200 [40:52<22:20,  3.19s/it]"
     ]
    },
    {
     "name": "stdout",
     "output_type": "stream",
     "text": [
      "dien thoai,9590000,9,None,None,Ho Chi Minh,10500000,16500,96,75,75,0,0,0,0,0\n"
     ]
    },
    {
     "name": "stderr",
     "output_type": "stream",
     "text": [
      "Processing rows:  65%|██████▌   | 781/1200 [40:54<21:17,  3.05s/it]"
     ]
    },
    {
     "name": "stdout",
     "output_type": "stream",
     "text": [
      "dien thoai,9590000,11,None,0,Tien Giang,10800000,28700,97,100,100,0,0,0,0,1\n"
     ]
    },
    {
     "name": "stderr",
     "output_type": "stream",
     "text": [
      "Processing rows:  65%|██████▌   | 782/1200 [40:58<22:09,  3.18s/it]"
     ]
    },
    {
     "name": "stdout",
     "output_type": "stream",
     "text": [
      "dien thoai,9500000,None,None,None,Nam Dinh,None,37700,87,80,100,0,0,0,0,0\n"
     ]
    },
    {
     "name": "stderr",
     "output_type": "stream",
     "text": [
      "Processing rows:  65%|██████▌   | 783/1200 [41:02<23:09,  3.33s/it]"
     ]
    },
    {
     "name": "stdout",
     "output_type": "stream",
     "text": [
      "dien thoai,9500000,32,None,None,Ha Noi,13900000,0,75,None,None,0,0,0,0,0\n"
     ]
    },
    {
     "name": "stderr",
     "output_type": "stream",
     "text": [
      "Processing rows:  65%|██████▌   | 784/1200 [41:05<22:25,  3.23s/it]"
     ]
    },
    {
     "name": "stdout",
     "output_type": "stream",
     "text": [
      "dien thoai,9499000,10,None,None,Ho Chi Minh,10499000,0,82,None,100,0,0,0,0,0\n"
     ]
    },
    {
     "name": "stderr",
     "output_type": "stream",
     "text": [
      "Processing rows:  65%|██████▌   | 785/1200 [41:07<20:30,  2.96s/it]"
     ]
    },
    {
     "name": "stdout",
     "output_type": "stream",
     "text": [
      "dien thoai,9490000,21,None,None,Ho Chi Minh,11990000,18300,85,None,100,0,0,0,0,0\n"
     ]
    },
    {
     "name": "stderr",
     "output_type": "stream",
     "text": [
      "Processing rows:  66%|██████▌   | 786/1200 [41:10<20:55,  3.03s/it]"
     ]
    },
    {
     "name": "stdout",
     "output_type": "stream",
     "text": [
      "dien thoai,9480000,14,None,None,Ho Chi Minh,10990000,0,100,None,100,0,0,0,0,0\n"
     ]
    },
    {
     "name": "stderr",
     "output_type": "stream",
     "text": [
      "Processing rows:  66%|██████▌   | 786/1200 [41:12<21:42,  3.15s/it]"
     ]
    },
    {
     "name": "stdout",
     "output_type": "stream",
     "text": [
      "No choices found for row 786\n"
     ]
    },
    {
     "name": "stderr",
     "output_type": "stream",
     "text": [
      "\n"
     ]
    }
   ],
   "source": [
    "#Chuyển row thành chuỗi ngăn cách nhau bởi dấu |\n",
    "def format_row(row):\n",
    "    return '|'.join(map(str, row.values))\\\n",
    "\n",
    "#LLM code\n",
    "results = []\n",
    "for index, row in tqdm(dienthoai.iterrows(), total=dienthoai.shape[0], desc=\"Processing rows\"):\n",
    "    formatted_data = format_row(row)\n",
    "    api_response = call_api(formatted_data)\n",
    "    \n",
    "    if 'choices' in api_response and api_response['choices']:\n",
    "        cleaned_data = api_response['choices'][0]['message']['content'].strip()\n",
    "        cleaned_data = cleaned_data.replace('Here is the standardized data:\\n\\n', '').replace('\\n', ',')\n",
    "        \n",
    "        print(cleaned_data)\n",
    "        results.append(cleaned_data.split(','))\n",
    "    else:\n",
    "        print(f\"No choices found for row {index}\")     #Nếu bị lỗi choices thì kết thúc vòng lặp\n",
    "        break"
   ]
  },
  {
   "cell_type": "code",
   "execution_count": 24,
   "metadata": {},
   "outputs": [
    {
     "data": {
      "text/html": [
       "<div>\n",
       "<style scoped>\n",
       "    .dataframe tbody tr th:only-of-type {\n",
       "        vertical-align: middle;\n",
       "    }\n",
       "\n",
       "    .dataframe tbody tr th {\n",
       "        vertical-align: top;\n",
       "    }\n",
       "\n",
       "    .dataframe thead th {\n",
       "        text-align: right;\n",
       "    }\n",
       "</style>\n",
       "<table border=\"1\" class=\"dataframe\">\n",
       "  <thead>\n",
       "    <tr style=\"text-align: right;\">\n",
       "      <th></th>\n",
       "      <th>Type</th>\n",
       "      <th>Price_sale</th>\n",
       "      <th>Sale_off</th>\n",
       "      <th>Total_sold</th>\n",
       "      <th>Preview</th>\n",
       "      <th>Location</th>\n",
       "      <th>Price_original</th>\n",
       "      <th>Ship_price</th>\n",
       "      <th>Sale_rating</th>\n",
       "      <th>Ship_on_time</th>\n",
       "      <th>Chat_response</th>\n",
       "      <th>One_star</th>\n",
       "      <th>Two_star</th>\n",
       "      <th>Three_star</th>\n",
       "      <th>Four_star</th>\n",
       "      <th>Five_star</th>\n",
       "    </tr>\n",
       "  </thead>\n",
       "  <tbody>\n",
       "    <tr>\n",
       "      <th>0</th>\n",
       "      <td>dien thoai</td>\n",
       "      <td>41990000</td>\n",
       "      <td>7</td>\n",
       "      <td>11</td>\n",
       "      <td>None</td>\n",
       "      <td>Ho Chi Minh</td>\n",
       "      <td>44990000</td>\n",
       "      <td>20100</td>\n",
       "      <td>99</td>\n",
       "      <td>100</td>\n",
       "      <td>75</td>\n",
       "      <td>0</td>\n",
       "      <td>0</td>\n",
       "      <td>0</td>\n",
       "      <td>0</td>\n",
       "      <td>0</td>\n",
       "    </tr>\n",
       "    <tr>\n",
       "      <th>1</th>\n",
       "      <td>dien thoai</td>\n",
       "      <td>39890000</td>\n",
       "      <td>10</td>\n",
       "      <td>None</td>\n",
       "      <td>None</td>\n",
       "      <td>Ha Noi</td>\n",
       "      <td>44490000</td>\n",
       "      <td>38000</td>\n",
       "      <td>99</td>\n",
       "      <td>100</td>\n",
       "      <td>85</td>\n",
       "      <td>0</td>\n",
       "      <td>0</td>\n",
       "      <td>0</td>\n",
       "      <td>0</td>\n",
       "      <td>0</td>\n",
       "    </tr>\n",
       "    <tr>\n",
       "      <th>2</th>\n",
       "      <td>dien thoai</td>\n",
       "      <td>37590001</td>\n",
       "      <td>16</td>\n",
       "      <td>24</td>\n",
       "      <td>2</td>\n",
       "      <td>Ho Chi Minh</td>\n",
       "      <td>44490000</td>\n",
       "      <td>None</td>\n",
       "      <td>90</td>\n",
       "      <td>None</td>\n",
       "      <td>100</td>\n",
       "      <td>0</td>\n",
       "      <td>0</td>\n",
       "      <td>0</td>\n",
       "      <td>0</td>\n",
       "      <td>2</td>\n",
       "    </tr>\n",
       "    <tr>\n",
       "      <th>3</th>\n",
       "      <td>dien thoai</td>\n",
       "      <td>36990000</td>\n",
       "      <td>None</td>\n",
       "      <td>None</td>\n",
       "      <td>None</td>\n",
       "      <td>Ho Chi Minh</td>\n",
       "      <td>None</td>\n",
       "      <td>16500</td>\n",
       "      <td>98</td>\n",
       "      <td>82</td>\n",
       "      <td>100</td>\n",
       "      <td>0</td>\n",
       "      <td>0</td>\n",
       "      <td>0</td>\n",
       "      <td>0</td>\n",
       "      <td>0</td>\n",
       "    </tr>\n",
       "    <tr>\n",
       "      <th>4</th>\n",
       "      <td>dien thoai</td>\n",
       "      <td>32126000</td>\n",
       "      <td>NaN</td>\n",
       "      <td>28</td>\n",
       "      <td>1</td>\n",
       "      <td>Ho Chi Minh</td>\n",
       "      <td>38470000</td>\n",
       "      <td>18300</td>\n",
       "      <td>98</td>\n",
       "      <td>100</td>\n",
       "      <td>100</td>\n",
       "      <td>0</td>\n",
       "      <td>0</td>\n",
       "      <td>0</td>\n",
       "      <td>0</td>\n",
       "      <td>1</td>\n",
       "    </tr>\n",
       "    <tr>\n",
       "      <th>...</th>\n",
       "      <td>...</td>\n",
       "      <td>...</td>\n",
       "      <td>...</td>\n",
       "      <td>...</td>\n",
       "      <td>...</td>\n",
       "      <td>...</td>\n",
       "      <td>...</td>\n",
       "      <td>...</td>\n",
       "      <td>...</td>\n",
       "      <td>...</td>\n",
       "      <td>...</td>\n",
       "      <td>...</td>\n",
       "      <td>...</td>\n",
       "      <td>...</td>\n",
       "      <td>...</td>\n",
       "      <td>...</td>\n",
       "    </tr>\n",
       "    <tr>\n",
       "      <th>781</th>\n",
       "      <td>dien thoai</td>\n",
       "      <td>9500000</td>\n",
       "      <td>None</td>\n",
       "      <td>None</td>\n",
       "      <td>None</td>\n",
       "      <td>Nam Dinh</td>\n",
       "      <td>None</td>\n",
       "      <td>37700</td>\n",
       "      <td>87</td>\n",
       "      <td>80</td>\n",
       "      <td>100</td>\n",
       "      <td>0</td>\n",
       "      <td>0</td>\n",
       "      <td>0</td>\n",
       "      <td>0</td>\n",
       "      <td>0</td>\n",
       "    </tr>\n",
       "    <tr>\n",
       "      <th>782</th>\n",
       "      <td>dien thoai</td>\n",
       "      <td>9500000</td>\n",
       "      <td>32</td>\n",
       "      <td>None</td>\n",
       "      <td>None</td>\n",
       "      <td>Ha Noi</td>\n",
       "      <td>13900000</td>\n",
       "      <td>0</td>\n",
       "      <td>75</td>\n",
       "      <td>None</td>\n",
       "      <td>None</td>\n",
       "      <td>0</td>\n",
       "      <td>0</td>\n",
       "      <td>0</td>\n",
       "      <td>0</td>\n",
       "      <td>0</td>\n",
       "    </tr>\n",
       "    <tr>\n",
       "      <th>783</th>\n",
       "      <td>dien thoai</td>\n",
       "      <td>9499000</td>\n",
       "      <td>10</td>\n",
       "      <td>None</td>\n",
       "      <td>None</td>\n",
       "      <td>Ho Chi Minh</td>\n",
       "      <td>10499000</td>\n",
       "      <td>0</td>\n",
       "      <td>82</td>\n",
       "      <td>None</td>\n",
       "      <td>100</td>\n",
       "      <td>0</td>\n",
       "      <td>0</td>\n",
       "      <td>0</td>\n",
       "      <td>0</td>\n",
       "      <td>0</td>\n",
       "    </tr>\n",
       "    <tr>\n",
       "      <th>784</th>\n",
       "      <td>dien thoai</td>\n",
       "      <td>9490000</td>\n",
       "      <td>21</td>\n",
       "      <td>None</td>\n",
       "      <td>None</td>\n",
       "      <td>Ho Chi Minh</td>\n",
       "      <td>11990000</td>\n",
       "      <td>18300</td>\n",
       "      <td>85</td>\n",
       "      <td>None</td>\n",
       "      <td>100</td>\n",
       "      <td>0</td>\n",
       "      <td>0</td>\n",
       "      <td>0</td>\n",
       "      <td>0</td>\n",
       "      <td>0</td>\n",
       "    </tr>\n",
       "    <tr>\n",
       "      <th>785</th>\n",
       "      <td>dien thoai</td>\n",
       "      <td>9480000</td>\n",
       "      <td>14</td>\n",
       "      <td>None</td>\n",
       "      <td>None</td>\n",
       "      <td>Ho Chi Minh</td>\n",
       "      <td>10990000</td>\n",
       "      <td>0</td>\n",
       "      <td>100</td>\n",
       "      <td>None</td>\n",
       "      <td>100</td>\n",
       "      <td>0</td>\n",
       "      <td>0</td>\n",
       "      <td>0</td>\n",
       "      <td>0</td>\n",
       "      <td>0</td>\n",
       "    </tr>\n",
       "  </tbody>\n",
       "</table>\n",
       "<p>786 rows × 16 columns</p>\n",
       "</div>"
      ],
      "text/plain": [
       "           Type Price_sale Sale_off Total_sold Preview     Location  \\\n",
       "0    dien thoai   41990000        7         11    None  Ho Chi Minh   \n",
       "1    dien thoai   39890000       10       None    None       Ha Noi   \n",
       "2    dien thoai   37590001       16         24       2  Ho Chi Minh   \n",
       "3    dien thoai   36990000     None       None    None  Ho Chi Minh   \n",
       "4    dien thoai   32126000      NaN         28       1  Ho Chi Minh   \n",
       "..          ...        ...      ...        ...     ...          ...   \n",
       "781  dien thoai    9500000     None       None    None     Nam Dinh   \n",
       "782  dien thoai    9500000       32       None    None       Ha Noi   \n",
       "783  dien thoai    9499000       10       None    None  Ho Chi Minh   \n",
       "784  dien thoai    9490000       21       None    None  Ho Chi Minh   \n",
       "785  dien thoai    9480000       14       None    None  Ho Chi Minh   \n",
       "\n",
       "    Price_original Ship_price Sale_rating Ship_on_time Chat_response One_star  \\\n",
       "0         44990000      20100          99          100            75        0   \n",
       "1         44490000      38000          99          100            85        0   \n",
       "2         44490000       None          90         None           100        0   \n",
       "3             None      16500          98           82           100        0   \n",
       "4         38470000      18300          98          100           100        0   \n",
       "..             ...        ...         ...          ...           ...      ...   \n",
       "781           None      37700          87           80           100        0   \n",
       "782       13900000          0          75         None          None        0   \n",
       "783       10499000          0          82         None           100        0   \n",
       "784       11990000      18300          85         None           100        0   \n",
       "785       10990000          0         100         None           100        0   \n",
       "\n",
       "    Two_star Three_star Four_star Five_star  \n",
       "0          0          0         0         0  \n",
       "1          0          0         0         0  \n",
       "2          0          0         0         2  \n",
       "3          0          0         0         0  \n",
       "4          0          0         0         1  \n",
       "..       ...        ...       ...       ...  \n",
       "781        0          0         0         0  \n",
       "782        0          0         0         0  \n",
       "783        0          0         0         0  \n",
       "784        0          0         0         0  \n",
       "785        0          0         0         0  \n",
       "\n",
       "[786 rows x 16 columns]"
      ]
     },
     "execution_count": 24,
     "metadata": {},
     "output_type": "execute_result"
    }
   ],
   "source": [
    "cleaned_df = pd.DataFrame(results, columns=dienthoai.columns)\n",
    "cleaned_df"
   ]
  },
  {
   "cell_type": "code",
   "execution_count": 27,
   "metadata": {},
   "outputs": [],
   "source": [
    "#Còn thiếu 414 rows\n",
    "dienthoai_lack = dienthoai.iloc[786:, :]"
   ]
  },
  {
   "cell_type": "code",
   "execution_count": 28,
   "metadata": {},
   "outputs": [],
   "source": [
    "#Tạo API mới\n",
    "s = requests.Session()\n",
    "\n",
    "api_base = \"https://api.endpoints.anyscale.com/v1\"\n",
    "# Replace with long-lived credentials for production\n",
    "token = \"esecret_2wf5w5vwg2473u21qejaduj31w\"\n",
    "url = f\"{api_base}/chat/completions\""
   ]
  },
  {
   "cell_type": "code",
   "execution_count": 29,
   "metadata": {},
   "outputs": [],
   "source": [
    "def call_api_lack(formatted_data):\n",
    "    body = {\n",
    "    \"model\": \"meta-llama/Meta-Llama-3-70B-Instruct\",\n",
    "    \"messages\": [\n",
    "        {\n",
    "            \"role\": \"user\",\n",
    "            \"content\": \"Bạn là 1 trợ lí ảo về AI và có khả năng chuẩn hóa data một cách chính xác nhất\"\n",
    "        },\n",
    "        {\n",
    "            \"role\": \"assistant\",\n",
    "            \"content\": \"Nice to meet you! As a virtual assistant specializing in AI, I can help with data standardization, which is a crucial step in ensuring data quality and consistency. Data standardization involves transforming data into a consistent format to facilitate efficient data processing, analysis, and decision-making.\\n\\nTo standardize data accurately, I can assist with the following tasks:\\n\\n1. **Data Profiling**: I can analyze the data to identify patterns, anomalies, and inconsistencies, providing insights into the data's structure and quality.\\n2. **Data Cleansing**: I can help remove duplicates, correct errors, and fill in missing values to ensure data accuracy and completeness.\\n3. **Data Transformation**: I can convert data from one format to another, such as converting date formats or categorical variables, to ensure consistency across the dataset.\\n4. **Data Normalization**: I can normalize data to reduce dimensionality and improve data quality by scaling/transforming numerical variables to a common range.\\n5. **Data Validation**: I can validate data against a set of rules or constraints to ensure it conforms to expected formats and patterns.\\n6. **Data Standardization**: I can apply standardized formats to data, such as formatting dates, times, or addresses, to ensure consistency across the dataset.\\n\\nSome common data standardization tasks\"\n",
    "        },\n",
    "        {\n",
    "            \"role\": \"user\",\n",
    "            \"content\": \"Mỗi mục dữ liệu được ngăn cách bởi dấu |. Không bỏ bất kì 1 mục nào, không thêm bất kỳ mục nào, hãy chuẩn hóa thông tin về dạng:\\nkhông dấu, số, số, số, số, không dấu, số, số, số, số, số, số, số, số, số, số\\nNếu là None thì kết quả ghi là None.\\nNgăn cách các giá trị bằng dấu phẩy. Không giải thích output, output trả về đúng 16 cột\\n\\ndien thoai  |  41.990.000 ₫  |  7% Off  |  11 Đã bán  |  NaN  |  Hồ Chí Minh  |  44.990.000 ₫  |  20.100 ₫  |  99%  |  100%  |  75%  |  0  |  0  |  0  |  0  |  0\"\n",
    "        },\n",
    "        {\n",
    "            \"role\": \"assistant\",\n",
    "            \"content\": \"Here is the standardized output:\\n\\ndien thoai,41990000,7,11,None,Ho Chi Minh,44990000,20100,99,100,75,0,0,0,0,0\"\n",
    "        },\n",
    "        {\n",
    "            \"role\": \"user\",\n",
    "            \"content\": f\"{formatted_data}\"\n",
    "        },\n",
    "\n",
    "    ],\n",
    "    \"temperature\": 0,\n",
    "    \"max_tokens\": 256,\n",
    "    \"top_p\": 1,\n",
    "    \"frequency_penalty\": 0\n",
    "    }\n",
    "    response = s.post(url, headers={\"Authorization\": f\"Bearer {token}\"}, json=body)\n",
    "    return response.json()"
   ]
  },
  {
   "cell_type": "code",
   "execution_count": 30,
   "metadata": {},
   "outputs": [
    {
     "name": "stderr",
     "output_type": "stream",
     "text": [
      "Processing rows:   0%|          | 1/414 [00:04<30:10,  4.38s/it]"
     ]
    },
    {
     "name": "stdout",
     "output_type": "stream",
     "text": [
      "dien thoai,9440640,10,20,1,Ha Noi,10489600,None,92,None,33,0,0,0,0,2\n"
     ]
    },
    {
     "name": "stderr",
     "output_type": "stream",
     "text": [
      "Processing rows:   0%|          | 2/414 [00:08<27:16,  3.97s/it]"
     ]
    },
    {
     "name": "stdout",
     "output_type": "stream",
     "text": [
      "dien thoai,9390000,17,None,1,Vinh Phuc,11250000,43900,100,100,97,0,0,0,0,1\n"
     ]
    },
    {
     "name": "stderr",
     "output_type": "stream",
     "text": [
      "Processing rows:   1%|          | 3/414 [00:11<24:04,  3.51s/it]"
     ]
    },
    {
     "name": "stdout",
     "output_type": "stream",
     "text": [
      "dien thoai,9351363,13,38,13,Ha Noi,10790000,13700,95,100,100,0,0,0,0,13\n"
     ]
    },
    {
     "name": "stderr",
     "output_type": "stream",
     "text": [
      "Processing rows:   1%|          | 4/414 [00:15<25:22,  3.71s/it]"
     ]
    },
    {
     "name": "stdout",
     "output_type": "stream",
     "text": [
      "dien thoai,9350000,38,35,18,Ha Noi,17000000,32700,91,95,100,0,0,0,0,19\n"
     ]
    },
    {
     "name": "stderr",
     "output_type": "stream",
     "text": [
      "Processing rows:   1%|          | 5/414 [00:18<24:41,  3.62s/it]"
     ]
    },
    {
     "name": "stdout",
     "output_type": "stream",
     "text": [
      "dien thoai,9300000,None,None,None,Ho Chi Minh,None,16500,None,66,100,0,0,0,0,0\n"
     ]
    },
    {
     "name": "stderr",
     "output_type": "stream",
     "text": [
      "Processing rows:   1%|▏         | 6/414 [00:21<22:38,  3.33s/it]"
     ]
    },
    {
     "name": "stdout",
     "output_type": "stream",
     "text": [
      "dien thoai,9150000,17,None,None,Ho Chi Minh,10990000,16500,98,83,100,0,0,0,0,0\n"
     ]
    },
    {
     "name": "stderr",
     "output_type": "stream",
     "text": [
      "Processing rows:   2%|▏         | 7/414 [00:24<21:58,  3.24s/it]"
     ]
    },
    {
     "name": "stdout",
     "output_type": "stream",
     "text": [
      "dien thoai,9090000,24,534,126,Ha Noi,11990000,38000,99,100,85,1,0,0,2,123\n"
     ]
    },
    {
     "name": "stderr",
     "output_type": "stream",
     "text": [
      "Processing rows:   2%|▏         | 8/414 [00:27<22:29,  3.32s/it]"
     ]
    },
    {
     "name": "stdout",
     "output_type": "stream",
     "text": [
      "dien thoai,9000000,None,None,None,Ho Chi Minh,None,16500,None,66,100,0,0,0,0,0\n"
     ]
    },
    {
     "name": "stderr",
     "output_type": "stream",
     "text": [
      "Processing rows:   2%|▏         | 9/414 [00:30<21:39,  3.21s/it]"
     ]
    },
    {
     "name": "stdout",
     "output_type": "stream",
     "text": [
      "dien thoai,8990000,10,None,None,Ho Chi Minh,9990000,0,97,100,33,0,0,0,0,0\n"
     ]
    },
    {
     "name": "stderr",
     "output_type": "stream",
     "text": [
      "Processing rows:   2%|▏         | 10/414 [00:34<22:52,  3.40s/it]"
     ]
    },
    {
     "name": "stdout",
     "output_type": "stream",
     "text": [
      "dien thoai,8990000,None,None,None,Ho Chi Minh,None,45100,100,100,100,0,0,0,0,0\n"
     ]
    },
    {
     "name": "stderr",
     "output_type": "stream",
     "text": [
      "Processing rows:   3%|▎         | 11/414 [00:37<21:47,  3.24s/it]"
     ]
    },
    {
     "name": "stdout",
     "output_type": "stream",
     "text": [
      "dien thoai,8990000,10,None,None,Ho Chi Minh,9990000,19600,85,None,100,0,0,0,0,0\n"
     ]
    },
    {
     "name": "stderr",
     "output_type": "stream",
     "text": [
      "Processing rows:   3%|▎         | 12/414 [00:40<20:16,  3.02s/it]"
     ]
    },
    {
     "name": "stdout",
     "output_type": "stream",
     "text": [
      "dien thoai,8990000,10,25,5,Ho Chi Minh,11490000,18300,99,99,98,0,0,0,0,5\n"
     ]
    },
    {
     "name": "stderr",
     "output_type": "stream",
     "text": [
      "Processing rows:   3%|▎         | 13/414 [00:43<20:54,  3.13s/it]"
     ]
    },
    {
     "name": "stdout",
     "output_type": "stream",
     "text": [
      "dien thoai,8990000,18,None,1,Ho Chi Minh,10990000,18300,85,None,100,0,0,0,0,1\n"
     ]
    },
    {
     "name": "stderr",
     "output_type": "stream",
     "text": [
      "Processing rows:   3%|▎         | 14/414 [00:46<21:10,  3.18s/it]"
     ]
    },
    {
     "name": "stdout",
     "output_type": "stream",
     "text": [
      "dien thoai,8990000,None,None,1,Ho Chi Minh,9000000,0,97,100,33,0,0,0,0,1\n"
     ]
    },
    {
     "name": "stderr",
     "output_type": "stream",
     "text": [
      "Processing rows:   4%|▎         | 15/414 [00:50<21:56,  3.30s/it]"
     ]
    },
    {
     "name": "stdout",
     "output_type": "stream",
     "text": [
      "dien thoai,41990000,None,11,None,Ho Chi Minh,44990000,20100,99,100,85,0,0,0,0,0\n"
     ]
    },
    {
     "name": "stderr",
     "output_type": "stream",
     "text": [
      "Processing rows:   4%|▍         | 16/414 [00:53<21:56,  3.31s/it]"
     ]
    },
    {
     "name": "stdout",
     "output_type": "stream",
     "text": [
      "dien thoai,40990000,None,None,None,Ho Chi Minh,None,18300,97,99,86,0,0,0,0,0\n"
     ]
    },
    {
     "name": "stderr",
     "output_type": "stream",
     "text": [
      "Processing rows:   4%|▍         | 17/414 [00:57<23:45,  3.59s/it]"
     ]
    },
    {
     "name": "stdout",
     "output_type": "stream",
     "text": [
      "dien thoai,37590001,NaN,25,2,Ho Chi Minh,44490000,NaN,91,NaN,100,0,0,0,0,2\n"
     ]
    },
    {
     "name": "stderr",
     "output_type": "stream",
     "text": [
      "Processing rows:   4%|▍         | 18/414 [01:02<24:52,  3.77s/it]"
     ]
    },
    {
     "name": "stdout",
     "output_type": "stream",
     "text": [
      "dien thoai,31990000,none,1500,355,Ho Chi Minh,33990000,16500,91,99,100,2,0,1,0,352\n"
     ]
    },
    {
     "name": "stderr",
     "output_type": "stream",
     "text": [
      "Processing rows:   5%|▍         | 19/414 [01:05<23:50,  3.62s/it]"
     ]
    },
    {
     "name": "stdout",
     "output_type": "stream",
     "text": [
      "dien thoai,31990000,None,203,43,Ho Chi Minh,None,None,99,None,100,2,0,0,0,41\n"
     ]
    },
    {
     "name": "stderr",
     "output_type": "stream",
     "text": [
      "Processing rows:   5%|▍         | 20/414 [01:08<22:05,  3.36s/it]"
     ]
    },
    {
     "name": "stdout",
     "output_type": "stream",
     "text": [
      "dien thoai,31590000,None,21,2,Ho Chi Minh,37490000,None,91,None,100,0,0,0,0,3\n"
     ]
    },
    {
     "name": "stderr",
     "output_type": "stream",
     "text": [
      "Processing rows:   5%|▌         | 21/414 [01:11<22:40,  3.46s/it]"
     ]
    },
    {
     "name": "stdout",
     "output_type": "stream",
     "text": [
      "dien thoai,31210000,None,None,None,Ha Noi,33990000,None,94,None,87,0,0,0,0,0\n"
     ]
    },
    {
     "name": "stderr",
     "output_type": "stream",
     "text": [
      "Processing rows:   5%|▌         | 22/414 [01:13<20:01,  3.06s/it]"
     ]
    },
    {
     "name": "stdout",
     "output_type": "stream",
     "text": [
      "dien thoai,30470000,None,6,None,Ha Noi,44490000,None,94,None,87,0,0,0,0,0\n"
     ]
    },
    {
     "name": "stderr",
     "output_type": "stream",
     "text": [
      "Processing rows:   6%|▌         | 23/414 [01:16<18:36,  2.85s/it]"
     ]
    },
    {
     "name": "stdout",
     "output_type": "stream",
     "text": [
      "dien thoai,29990000,None,None,None,Ha Noi,32990000,38000,98,100,92,0,0,0,0,0\n"
     ]
    },
    {
     "name": "stderr",
     "output_type": "stream",
     "text": [
      "Processing rows:   6%|▌         | 24/414 [01:19<18:34,  2.86s/it]"
     ]
    },
    {
     "name": "stdout",
     "output_type": "stream",
     "text": [
      "dien thoai,29517000,0,6,1,Ho Chi Minh,32990000,18300,99,99,98,0,0,0,0,2\n"
     ]
    },
    {
     "name": "stderr",
     "output_type": "stream",
     "text": [
      "Processing rows:   6%|▌         | 25/414 [01:22<19:44,  3.05s/it]"
     ]
    },
    {
     "name": "stdout",
     "output_type": "stream",
     "text": [
      "dien thoai,29990000,None,None,None,Ho Chi Minh,None,18300,97,99,86,0,0,0,0,0\n"
     ]
    },
    {
     "name": "stderr",
     "output_type": "stream",
     "text": [
      "Processing rows:   6%|▋         | 26/414 [01:24<17:57,  2.78s/it]"
     ]
    },
    {
     "name": "stdout",
     "output_type": "stream",
     "text": [
      "dien thoai,29990000,None,None,None,Ho Chi Minh,None,7300,97,98,89,0,0,0,0,0\n"
     ]
    },
    {
     "name": "stderr",
     "output_type": "stream",
     "text": [
      "Processing rows:   7%|▋         | 27/414 [01:27<18:28,  2.86s/it]"
     ]
    },
    {
     "name": "stdout",
     "output_type": "stream",
     "text": [
      "dien thoai,29890000,16,4,Binh Duong,35990000,0,98,0,97,0,0,0,0,4\n"
     ]
    },
    {
     "name": "stderr",
     "output_type": "stream",
     "text": [
      "Processing rows:   7%|▋         | 28/414 [01:31<20:12,  3.14s/it]"
     ]
    },
    {
     "name": "stdout",
     "output_type": "stream",
     "text": [
      "dien thoai,29590000,NaN,12000,2707,Ho Chi Minh,34999000,5500,94,98,100,31,3,8,9,2655\n"
     ]
    },
    {
     "name": "stderr",
     "output_type": "stream",
     "text": [
      "Processing rows:   7%|▋         | 29/414 [01:34<19:38,  3.06s/it]"
     ]
    },
    {
     "name": "stdout",
     "output_type": "stream",
     "text": [
      "dien thoai,28990000,None,None,None,Ha Noi,None,32700,None,None,None,0,0,0,0,0\n"
     ]
    },
    {
     "name": "stderr",
     "output_type": "stream",
     "text": [
      "Processing rows:   7%|▋         | 30/414 [01:37<19:49,  3.10s/it]"
     ]
    },
    {
     "name": "stdout",
     "output_type": "stream",
     "text": [
      "dien thoai,28791000,None,None,None,Ha Noi,31990000,None,94,None,87,0,0,0,0,0\n"
     ]
    },
    {
     "name": "stderr",
     "output_type": "stream",
     "text": [
      "Processing rows:   7%|▋         | 31/414 [01:40<19:18,  3.02s/it]"
     ]
    },
    {
     "name": "stdout",
     "output_type": "stream",
     "text": [
      "dien thoai,28090000,None,13,None,Ho Chi Minh,33990000,None,91,None,100,0,0,0,0,0\n"
     ]
    },
    {
     "name": "stderr",
     "output_type": "stream",
     "text": [
      "Processing rows:   8%|▊         | 32/414 [01:43<19:32,  3.07s/it]"
     ]
    },
    {
     "name": "stdout",
     "output_type": "stream",
     "text": [
      "dien thoai,27490000,NaN,7,5,Ha Noi,33990000,51500,94,96,100,0,0,0,0,5\n"
     ]
    },
    {
     "name": "stderr",
     "output_type": "stream",
     "text": [
      "Processing rows:   8%|▊         | 33/414 [01:46<18:42,  2.95s/it]"
     ]
    },
    {
     "name": "stdout",
     "output_type": "stream",
     "text": [
      "dien thoai,27399000,None,None,None,Ha Noi,None,32700,97,None,None,0,0,0,0,0\n"
     ]
    },
    {
     "name": "stderr",
     "output_type": "stream",
     "text": [
      "Processing rows:   8%|▊         | 34/414 [01:49<18:41,  2.95s/it]"
     ]
    },
    {
     "name": "stdout",
     "output_type": "stream",
     "text": [
      "dien thoai,26590000,None,None,1,Ho Chi Minh,33999000,7300,97,None,57,0,0,0,0,1\n"
     ]
    },
    {
     "name": "stderr",
     "output_type": "stream",
     "text": [
      "Processing rows:   8%|▊         | 35/414 [01:54<21:54,  3.47s/it]"
     ]
    },
    {
     "name": "stdout",
     "output_type": "stream",
     "text": [
      "dien thoai,25390000,None,None,None,Ha Noi,43000000,38000,91,100,100,0,0,0,0,0\n"
     ]
    },
    {
     "name": "stderr",
     "output_type": "stream",
     "text": [
      "Processing rows:   9%|▊         | 36/414 [01:56<20:47,  3.30s/it]"
     ]
    },
    {
     "name": "stdout",
     "output_type": "stream",
     "text": [
      "dien thoai,25300000,None,17,5,Ho Chi Minh,29990000,16500,97,None,33,0,0,0,0,5\n"
     ]
    },
    {
     "name": "stderr",
     "output_type": "stream",
     "text": [
      "Processing rows:   9%|▉         | 37/414 [01:59<18:32,  2.95s/it]"
     ]
    },
    {
     "name": "stdout",
     "output_type": "stream",
     "text": [
      "dien thoai,24999000,None,7,None,Ho Chi Minh,33990000,18300,99,99,98,0,0,0,0,0\n"
     ]
    },
    {
     "name": "stderr",
     "output_type": "stream",
     "text": [
      "Processing rows:   9%|▉         | 38/414 [02:01<18:00,  2.87s/it]"
     ]
    },
    {
     "name": "stdout",
     "output_type": "stream",
     "text": [
      "dien thoai,24880000,None,None,None,Ha Noi,31990000,None,94,None,87,0,0,0,0,0\n"
     ]
    },
    {
     "name": "stderr",
     "output_type": "stream",
     "text": [
      "Processing rows:   9%|▉         | 39/414 [02:04<17:55,  2.87s/it]"
     ]
    },
    {
     "name": "stdout",
     "output_type": "stream",
     "text": [
      "dien thoai,24290100,None,None,None,Ha Noi,29990000,None,94,None,87,0,0,0,0,0\n"
     ]
    },
    {
     "name": "stderr",
     "output_type": "stream",
     "text": [
      "Processing rows:  10%|▉         | 40/414 [02:07<17:31,  2.81s/it]"
     ]
    },
    {
     "name": "stdout",
     "output_type": "stream",
     "text": [
      "dien thoai,24190000,None,None,None,Ha Noi,26990000,None,94,None,87,0,0,0,0,0\n"
     ]
    },
    {
     "name": "stderr",
     "output_type": "stream",
     "text": [
      "Processing rows:  10%|▉         | 41/414 [02:10<17:44,  2.85s/it]"
     ]
    },
    {
     "name": "stdout",
     "output_type": "stream",
     "text": [
      "dien thoai,24188000,NaN,11,1,Da Nang,33990000,38000,97,81,87,0,0,0,0,2\n"
     ]
    },
    {
     "name": "stderr",
     "output_type": "stream",
     "text": [
      "Processing rows:  10%|█         | 42/414 [02:12<17:25,  2.81s/it]"
     ]
    },
    {
     "name": "stdout",
     "output_type": "stream",
     "text": [
      "dien thoai,24140000,None,None,None,Ho Chi Minh,33990000,16500,98,80,100,0,0,0,0,0\n"
     ]
    },
    {
     "name": "stderr",
     "output_type": "stream",
     "text": [
      "Processing rows:  10%|█         | 43/414 [02:16<17:57,  2.91s/it]"
     ]
    },
    {
     "name": "stdout",
     "output_type": "stream",
     "text": [
      "dien thoai,23600000,None,None,None,Ha Noi,30490000,None,94,None,87,0,0,0,0,0\n"
     ]
    },
    {
     "name": "stderr",
     "output_type": "stream",
     "text": [
      "Processing rows:  11%|█         | 44/414 [02:18<17:29,  2.84s/it]"
     ]
    },
    {
     "name": "stdout",
     "output_type": "stream",
     "text": [
      "dien thoai,23290000,None,7,3,Ho Chi Minh,44490000,0,98,100,100,0,0,0,1,2\n"
     ]
    },
    {
     "name": "stderr",
     "output_type": "stream",
     "text": [
      "Processing rows:  11%|█         | 45/414 [02:21<16:31,  2.69s/it]"
     ]
    },
    {
     "name": "stdout",
     "output_type": "stream",
     "text": [
      "dien thoai,22990000,None,None,None,Ha Noi,None,38000,98,100,92,0,0,0,0,0\n"
     ]
    },
    {
     "name": "stderr",
     "output_type": "stream",
     "text": [
      "Processing rows:  11%|█         | 46/414 [02:23<16:49,  2.74s/it]"
     ]
    },
    {
     "name": "stdout",
     "output_type": "stream",
     "text": [
      "dien thoai,22990000,None,5,None,Ho Chi Minh,None,19600,99,100,85,0,0,0,0,0\n"
     ]
    },
    {
     "name": "stderr",
     "output_type": "stream",
     "text": [
      "Processing rows:  11%|█▏        | 47/414 [02:27<18:07,  2.96s/it]"
     ]
    },
    {
     "name": "stdout",
     "output_type": "stream",
     "text": [
      "dien thoai,22990000,None,9,1,Da Nang,41990000,32700,94,100,100,0,0,0,0,1\n"
     ]
    },
    {
     "name": "stderr",
     "output_type": "stream",
     "text": [
      "Processing rows:  12%|█▏        | 48/414 [02:30<18:55,  3.10s/it]"
     ]
    },
    {
     "name": "stdout",
     "output_type": "stream",
     "text": [
      "dien thoai,22990000,None,16,3,Binh Duong,27990000,None,98,None,97,0,0,0,0,6\n"
     ]
    },
    {
     "name": "stderr",
     "output_type": "stream",
     "text": [
      "Processing rows:  12%|█▏        | 49/414 [02:33<18:56,  3.11s/it]"
     ]
    },
    {
     "name": "stdout",
     "output_type": "stream",
     "text": [
      "dien thoai,21490000,None,8,2,Ha Noi,32990000,51500,94,96,100,0,0,0,0,2\n"
     ]
    },
    {
     "name": "stderr",
     "output_type": "stream",
     "text": [
      "Processing rows:  12%|█▏        | 50/414 [02:37<19:09,  3.16s/it]"
     ]
    },
    {
     "name": "stdout",
     "output_type": "stream",
     "text": [
      "dien thoai,21390000,None,None,None,Ho Chi Minh,22900000,18300,99,99,98,0,0,0,0,0\n"
     ]
    },
    {
     "name": "stderr",
     "output_type": "stream",
     "text": [
      "Processing rows:  12%|█▏        | 51/414 [02:40<18:22,  3.04s/it]"
     ]
    },
    {
     "name": "stdout",
     "output_type": "stream",
     "text": [
      "dien thoai,21290000,None,36,3,Ho Chi Minh,30990000,16500,97,None,33,0,0,1,0,3\n"
     ]
    },
    {
     "name": "stderr",
     "output_type": "stream",
     "text": [
      "Processing rows:  13%|█▎        | 52/414 [02:42<17:30,  2.90s/it]"
     ]
    },
    {
     "name": "stdout",
     "output_type": "stream",
     "text": [
      "dien thoai,20989000,123,30,Bac Ninh,22990000,16500,91,99,100,1,1,4,1,23\n"
     ]
    },
    {
     "name": "stderr",
     "output_type": "stream",
     "text": [
      "Processing rows:  13%|█▎        | 53/414 [02:45<16:39,  2.77s/it]"
     ]
    },
    {
     "name": "stdout",
     "output_type": "stream",
     "text": [
      "dien thoai,20890000,None,None,None,Ho Chi Minh,26990000,18300,99,99,98,0,0,0,0,0\n"
     ]
    },
    {
     "name": "stderr",
     "output_type": "stream",
     "text": [
      "Processing rows:  13%|█▎        | 54/414 [02:47<16:46,  2.79s/it]"
     ]
    },
    {
     "name": "stdout",
     "output_type": "stream",
     "text": [
      "dien thoai,20610000,None,None,None,Ha Noi,22990000,None,94,None,87,0,0,0,0,0\n"
     ]
    },
    {
     "name": "stderr",
     "output_type": "stream",
     "text": [
      "Processing rows:  13%|█▎        | 55/414 [02:50<17:13,  2.88s/it]"
     ]
    },
    {
     "name": "stdout",
     "output_type": "stream",
     "text": [
      "dien thoai,20090000,None,None,1,Ho Chi Minh,22990000,None,91,None,100,0,0,0,0,1\n"
     ]
    },
    {
     "name": "stderr",
     "output_type": "stream",
     "text": [
      "Processing rows:  14%|█▎        | 56/414 [02:54<17:46,  2.98s/it]"
     ]
    },
    {
     "name": "stdout",
     "output_type": "stream",
     "text": [
      "dien thoai,19995000,None,None,None,Ho Chi Minh,21990000,0,97,100,33,0,0,0,0,0\n"
     ]
    },
    {
     "name": "stderr",
     "output_type": "stream",
     "text": [
      "Processing rows:  14%|█▍        | 57/414 [02:57<18:21,  3.09s/it]"
     ]
    },
    {
     "name": "stdout",
     "output_type": "stream",
     "text": [
      "dien thoai,19990000,None,None,None,Ho Chi Minh,26990000,16500,98,80,100,0,0,0,0,0\n"
     ]
    },
    {
     "name": "stderr",
     "output_type": "stream",
     "text": [
      "Processing rows:  14%|█▍        | 58/414 [03:00<17:55,  3.02s/it]"
     ]
    },
    {
     "name": "stdout",
     "output_type": "stream",
     "text": [
      "dien thoai,19890000,None,None,None,Ho Chi Minh,19990000,0,97,100,33,0,0,0,0,0\n"
     ]
    },
    {
     "name": "stderr",
     "output_type": "stream",
     "text": [
      "Processing rows:  14%|█▍        | 59/414 [03:02<16:41,  2.82s/it]"
     ]
    },
    {
     "name": "stdout",
     "output_type": "stream",
     "text": [
      "dien thoai,19890000,None,None,None,Ho Chi Minh,19900000,19600,85,None,100,0,0,0,0,0\n"
     ]
    },
    {
     "name": "stderr",
     "output_type": "stream",
     "text": [
      "Processing rows:  14%|█▍        | 60/414 [03:05<16:54,  2.87s/it]"
     ]
    },
    {
     "name": "stdout",
     "output_type": "stream",
     "text": [
      "dien thoai,19735000,None,None,None,Ha Noi,31900000,38000,100,100,None,0,0,0,0,0\n"
     ]
    },
    {
     "name": "stderr",
     "output_type": "stream",
     "text": [
      "Processing rows:  15%|█▍        | 61/414 [03:09<18:41,  3.18s/it]"
     ]
    },
    {
     "name": "stdout",
     "output_type": "stream",
     "text": [
      "dien thoai,19640000,None,10,4,Ho Chi Minh,22990000,18300,99,99,98,0,0,0,0,4\n"
     ]
    },
    {
     "name": "stderr",
     "output_type": "stream",
     "text": [
      "Processing rows:  15%|█▍        | 62/414 [03:11<17:10,  2.93s/it]"
     ]
    },
    {
     "name": "stdout",
     "output_type": "stream",
     "text": [
      "dien thoai,19190000,None,None,None,Ho Chi Minh,23000000,16500,98,80,100,0,0,0,0,1\n"
     ]
    },
    {
     "name": "stderr",
     "output_type": "stream",
     "text": [
      "Processing rows:  15%|█▌        | 63/414 [03:15<17:33,  3.00s/it]"
     ]
    },
    {
     "name": "stdout",
     "output_type": "stream",
     "text": [
      "dien thoai,19140000,None,None,None,Ho Chi Minh,22990000,16500,100,99,100,0,0,0,0,0\n"
     ]
    },
    {
     "name": "stderr",
     "output_type": "stream",
     "text": [
      "Processing rows:  15%|█▌        | 64/414 [03:17<17:09,  2.94s/it]"
     ]
    },
    {
     "name": "stdout",
     "output_type": "stream",
     "text": [
      "dien thoai,18990000,None,None,None,Da Nang,22990000,38000,97,81,87,0,0,0,0,0\n"
     ]
    },
    {
     "name": "stderr",
     "output_type": "stream",
     "text": [
      "Processing rows:  16%|█▌        | 65/414 [03:20<17:05,  2.94s/it]"
     ]
    },
    {
     "name": "stdout",
     "output_type": "stream",
     "text": [
      "dien thoai,18990000,None,None,None,Da Nang,22990000,38000,96,25,100,0,0,0,0,0\n"
     ]
    },
    {
     "name": "stderr",
     "output_type": "stream",
     "text": [
      "Processing rows:  16%|█▌        | 66/414 [03:23<16:18,  2.81s/it]"
     ]
    },
    {
     "name": "stdout",
     "output_type": "stream",
     "text": [
      "dien thoai,18990000,NaN,8,3,Ho Chi Minh,32990000,18300,99,100,85,0,0,0,0,2\n"
     ]
    },
    {
     "name": "stderr",
     "output_type": "stream",
     "text": [
      "Processing rows:  16%|█▌        | 67/414 [03:25<15:43,  2.72s/it]"
     ]
    },
    {
     "name": "stdout",
     "output_type": "stream",
     "text": [
      "dien thoai,18866000,None,None,None,Ha Noi,21299000,32700,97,None,None,0,0,0,0,0\n"
     ]
    },
    {
     "name": "stderr",
     "output_type": "stream",
     "text": [
      "Processing rows:  16%|█▋        | 68/414 [03:29<16:27,  2.85s/it]"
     ]
    },
    {
     "name": "stdout",
     "output_type": "stream",
     "text": [
      "dien thoai,18599000,None,None,None,Ha Noi,23990000,13700,100,None,100,0,0,0,0,0\n"
     ]
    },
    {
     "name": "stderr",
     "output_type": "stream",
     "text": [
      "Processing rows:  17%|█▋        | 69/414 [03:32<17:06,  2.97s/it]"
     ]
    },
    {
     "name": "stdout",
     "output_type": "stream",
     "text": [
      "dien thoai,17990000,None,None,None,Ho Chi Minh,None,16500,None,None,71,0,0,0,0,0\n"
     ]
    },
    {
     "name": "stderr",
     "output_type": "stream",
     "text": [
      "Processing rows:  17%|█▋        | 70/414 [03:34<15:35,  2.72s/it]"
     ]
    },
    {
     "name": "stdout",
     "output_type": "stream",
     "text": [
      "dien thoai,17990000,None,None,None,Ben Tre,None,28700,83,None,None,0,0,0,0,0\n"
     ]
    },
    {
     "name": "stderr",
     "output_type": "stream",
     "text": [
      "Processing rows:  17%|█▋        | 71/414 [03:36<14:41,  2.57s/it]"
     ]
    },
    {
     "name": "stdout",
     "output_type": "stream",
     "text": [
      "dien thoai,17950000,None,None,None,Ho Chi Minh,22990000,16500,98,80,100,0,0,0,0,0\n"
     ]
    },
    {
     "name": "stderr",
     "output_type": "stream",
     "text": [
      "Processing rows:  17%|█▋        | 72/414 [03:40<16:09,  2.84s/it]"
     ]
    },
    {
     "name": "stdout",
     "output_type": "stream",
     "text": [
      "dien thoai,17800000,None,45,5,Ho Chi Minh,None,0,100,None,None,0,0,0,0,5\n"
     ]
    },
    {
     "name": "stderr",
     "output_type": "stream",
     "text": [
      "Processing rows:  18%|█▊        | 73/414 [03:42<15:56,  2.80s/it]"
     ]
    },
    {
     "name": "stdout",
     "output_type": "stream",
     "text": [
      "dien thoai,17499000,None,None,None,Ho Chi Minh,None,16500,None,None,71,0,0,0,0,0\n"
     ]
    },
    {
     "name": "stderr",
     "output_type": "stream",
     "text": [
      "Processing rows:  18%|█▊        | 74/414 [03:45<16:06,  2.84s/it]"
     ]
    },
    {
     "name": "stdout",
     "output_type": "stream",
     "text": [
      "dien thoai,17290000,None,None,None,Ho Chi Minh,26990000,0,98,100,100,0,0,0,0,0\n"
     ]
    },
    {
     "name": "stderr",
     "output_type": "stream",
     "text": [
      "Processing rows:  18%|█▊        | 75/414 [03:48<15:11,  2.69s/it]"
     ]
    },
    {
     "name": "stdout",
     "output_type": "stream",
     "text": [
      "dien thoai,17020000,None,None,1,Ha Noi,22990000,None,94,None,87,0,0,0,0,1\n"
     ]
    },
    {
     "name": "stderr",
     "output_type": "stream",
     "text": [
      "Processing rows:  18%|█▊        | 76/414 [03:50<14:48,  2.63s/it]"
     ]
    },
    {
     "name": "stdout",
     "output_type": "stream",
     "text": [
      "dien thoai,17020000,None,10,2,Ha Noi,24989800,None,92,None,50,0,0,0,0,2\n"
     ]
    },
    {
     "name": "stderr",
     "output_type": "stream",
     "text": [
      "Processing rows:  19%|█▊        | 77/414 [03:53<15:21,  2.74s/it]"
     ]
    },
    {
     "name": "stdout",
     "output_type": "stream",
     "text": [
      "dien thoai,16990000,NaN,13,5,Ho Chi Minh,19990000,18300,99,100,85,0,0,0,0,5\n"
     ]
    },
    {
     "name": "stderr",
     "output_type": "stream",
     "text": [
      "Processing rows:  19%|█▉        | 78/414 [03:57<16:49,  3.01s/it]"
     ]
    },
    {
     "name": "stdout",
     "output_type": "stream",
     "text": [
      "dien thoai,16990000,None,11,1,Ho Chi Minh,25990000,16500,97,None,33,0,0,0,0,1\n"
     ]
    },
    {
     "name": "stderr",
     "output_type": "stream",
     "text": [
      "Processing rows:  19%|█▉        | 79/414 [03:59<15:18,  2.74s/it]"
     ]
    },
    {
     "name": "stdout",
     "output_type": "stream",
     "text": [
      "dien thoai,16490000,None,None,1,Ha Noi,None,13700,95,100,95,0,0,0,0,1\n"
     ]
    },
    {
     "name": "stderr",
     "output_type": "stream",
     "text": [
      "Processing rows:  19%|█▉        | 80/414 [04:02<15:10,  2.73s/it]"
     ]
    },
    {
     "name": "stdout",
     "output_type": "stream",
     "text": [
      "dien thoai,15890000,None,7,1,Ha Noi,32900000,38000,91,100,100,0,0,0,0,1\n"
     ]
    },
    {
     "name": "stderr",
     "output_type": "stream",
     "text": [
      "Processing rows:  20%|█▉        | 81/414 [04:04<15:23,  2.77s/it]"
     ]
    },
    {
     "name": "stdout",
     "output_type": "stream",
     "text": [
      "dien thoai,15580000,None,None,None,Ho Chi Minh,22900000,18300,99,99,98,0,0,0,0,0\n"
     ]
    },
    {
     "name": "stderr",
     "output_type": "stream",
     "text": [
      "Processing rows:  20%|█▉        | 82/414 [04:07<15:10,  2.74s/it]"
     ]
    },
    {
     "name": "stdout",
     "output_type": "stream",
     "text": [
      "dien thoai,15490000,None,None,None,Da Nang,29990000,38000,97,81,87,0,0,0,0,0\n"
     ]
    },
    {
     "name": "stderr",
     "output_type": "stream",
     "text": [
      "Processing rows:  20%|██        | 83/414 [04:10<15:48,  2.86s/it]"
     ]
    },
    {
     "name": "stdout",
     "output_type": "stream",
     "text": [
      "dien thoai,15390000,None,None,None,Ho Chi Minh,22990000,0,98,100,100,0,0,0,0,0\n"
     ]
    },
    {
     "name": "stderr",
     "output_type": "stream",
     "text": [
      "Processing rows:  20%|██        | 84/414 [04:13<15:55,  2.90s/it]"
     ]
    },
    {
     "name": "stdout",
     "output_type": "stream",
     "text": [
      "dien thoai,14995000,None,None,None,Ho Chi Minh,15790000,0,97,100,33,0,0,0,0,0\n"
     ]
    },
    {
     "name": "stderr",
     "output_type": "stream",
     "text": [
      "Processing rows:  21%|██        | 85/414 [04:16<15:19,  2.80s/it]"
     ]
    },
    {
     "name": "stdout",
     "output_type": "stream",
     "text": [
      "dien thoai,14990000,None,None,1,Ho Chi Minh,None,0,100,None,100,0,0,0,0,1\n"
     ]
    },
    {
     "name": "stderr",
     "output_type": "stream",
     "text": [
      "Processing rows:  21%|██        | 86/414 [04:19<15:34,  2.85s/it]"
     ]
    },
    {
     "name": "stdout",
     "output_type": "stream",
     "text": [
      "dien thoai,14500000,None,None,None,Ho Chi Minh,None,16500,None,66,92,0,0,0,0,0\n"
     ]
    },
    {
     "name": "stderr",
     "output_type": "stream",
     "text": [
      "Processing rows:  21%|██        | 87/414 [04:22<16:02,  2.94s/it]"
     ]
    },
    {
     "name": "stdout",
     "output_type": "stream",
     "text": [
      "dien thoai,14500000,None,5,None,Ha Noi,None,0,None,None,None,0,0,0,0,0\n"
     ]
    },
    {
     "name": "stderr",
     "output_type": "stream",
     "text": [
      "Processing rows:  21%|██▏       | 88/414 [04:25<16:12,  2.98s/it]"
     ]
    },
    {
     "name": "stdout",
     "output_type": "stream",
     "text": [
      "dien thoai,14390000,None,9,None,Ha Noi,22990000,0,97,100,50,0,0,0,0,0\n"
     ]
    },
    {
     "name": "stderr",
     "output_type": "stream",
     "text": [
      "Processing rows:  21%|██▏       | 89/414 [04:27<14:58,  2.76s/it]"
     ]
    },
    {
     "name": "stdout",
     "output_type": "stream",
     "text": [
      "dien thoai,14123403,NaN,69,18,Ha Noi,17990000,13700,95,100,95,0,1,0,0,17\n"
     ]
    },
    {
     "name": "stderr",
     "output_type": "stream",
     "text": [
      "Processing rows:  22%|██▏       | 90/414 [04:29<13:46,  2.55s/it]"
     ]
    },
    {
     "name": "stdout",
     "output_type": "stream",
     "text": [
      "dien thoai,13990000,None,None,None,Ben Tre,None,28700,83,None,None,0,0,0,0,0\n"
     ]
    },
    {
     "name": "stderr",
     "output_type": "stream",
     "text": [
      "Processing rows:  22%|██▏       | 91/414 [04:32<14:24,  2.68s/it]"
     ]
    },
    {
     "name": "stdout",
     "output_type": "stream",
     "text": [
      "dien thoai,13990000,None,32,2,Ho Chi Minh,18990000,18300,99,100,85,0,0,0,0,2\n"
     ]
    },
    {
     "name": "stderr",
     "output_type": "stream",
     "text": [
      "Processing rows:  22%|██▏       | 92/414 [04:35<15:00,  2.80s/it]"
     ]
    },
    {
     "name": "stdout",
     "output_type": "stream",
     "text": [
      "dien thoai,13878080,None,7,None,Ho Chi Minh,21990000,18300,97,None,57,0,0,0,0,0\n"
     ]
    },
    {
     "name": "stderr",
     "output_type": "stream",
     "text": [
      "Processing rows:  22%|██▏       | 93/414 [04:38<15:03,  2.82s/it]"
     ]
    },
    {
     "name": "stdout",
     "output_type": "stream",
     "text": [
      "dien thoai,13500000,None,None,None,Ho Chi Minh,None,16500,None,66,92,0,0,0,0,0\n"
     ]
    },
    {
     "name": "stderr",
     "output_type": "stream",
     "text": [
      "Processing rows:  23%|██▎       | 94/414 [04:41<14:44,  2.76s/it]"
     ]
    },
    {
     "name": "stdout",
     "output_type": "stream",
     "text": [
      "dien thoai,13400000,None,None,None,Nam Định,None,37700,87,75,100,0,0,0,0,0\n"
     ]
    },
    {
     "name": "stderr",
     "output_type": "stream",
     "text": [
      "Processing rows:  23%|██▎       | 95/414 [04:43<13:53,  2.61s/it]"
     ]
    },
    {
     "name": "stdout",
     "output_type": "stream",
     "text": [
      "dien thoai,29990000,None,None,None,Da Nang,44990000,0,93,None,100,0,0,0,0,0\n"
     ]
    },
    {
     "name": "stderr",
     "output_type": "stream",
     "text": [
      "Processing rows:  23%|██▎       | 96/414 [04:45<13:17,  2.51s/it]"
     ]
    },
    {
     "name": "stdout",
     "output_type": "stream",
     "text": [
      "dien thoai,27891000,None,None,None,Ha Noi,32990000,None,94,None,87,0,0,0,0,0\n"
     ]
    },
    {
     "name": "stderr",
     "output_type": "stream",
     "text": [
      "Processing rows:  23%|██▎       | 97/414 [04:48<13:49,  2.62s/it]"
     ]
    },
    {
     "name": "stdout",
     "output_type": "stream",
     "text": [
      "dien thoai,25990000,None,None,None,Da Nang,33990000,0,93,None,100,0,0,0,0,0\n"
     ]
    },
    {
     "name": "stderr",
     "output_type": "stream",
     "text": [
      "Processing rows:  24%|██▎       | 98/414 [04:51<13:55,  2.64s/it]"
     ]
    },
    {
     "name": "stdout",
     "output_type": "stream",
     "text": [
      "dien thoai,24599000,None,None,None,Ben Tre,33990000,28700,98,100,100,0,0,0,0,0\n"
     ]
    },
    {
     "name": "stderr",
     "output_type": "stream",
     "text": [
      "Processing rows:  24%|██▍       | 99/414 [04:53<12:59,  2.48s/it]"
     ]
    },
    {
     "name": "stdout",
     "output_type": "stream",
     "text": [
      "dien thoai,23391000,None,None,None,Ha Noi,25990000,None,94,None,87,0,0,0,0,0\n"
     ]
    },
    {
     "name": "stderr",
     "output_type": "stream",
     "text": [
      "Processing rows:  24%|██▍       | 100/414 [04:56<13:26,  2.57s/it]"
     ]
    },
    {
     "name": "stdout",
     "output_type": "stream",
     "text": [
      "dien thoai,21990000,None,None,None,Ha Noi,23000000,32700,100,100,None,0,0,0,0,0\n"
     ]
    },
    {
     "name": "stderr",
     "output_type": "stream",
     "text": [
      "Processing rows:  24%|██▍       | 101/414 [04:59<14:21,  2.75s/it]"
     ]
    },
    {
     "name": "stdout",
     "output_type": "stream",
     "text": [
      "dien thoai,19990000,None,None,None,Ho Chi Minh,20990000,19600,85,None,100,0,0,0,0,0\n"
     ]
    },
    {
     "name": "stderr",
     "output_type": "stream",
     "text": [
      "Processing rows:  25%|██▍       | 102/414 [05:02<14:28,  2.78s/it]"
     ]
    },
    {
     "name": "stdout",
     "output_type": "stream",
     "text": [
      "dien thoai,19791000,NaN,5,1,Ha Noi,23490000,NaN,92,NaN,50,0,0,0,0,1\n"
     ]
    },
    {
     "name": "stderr",
     "output_type": "stream",
     "text": [
      "Processing rows:  25%|██▍       | 103/414 [05:04<13:51,  2.67s/it]"
     ]
    },
    {
     "name": "stdout",
     "output_type": "stream",
     "text": [
      "dien thoai,17985000,None,None,None,Ho Chi Minh,18990000,19600,85,None,100,0,0,0,0,0\n"
     ]
    },
    {
     "name": "stderr",
     "output_type": "stream",
     "text": [
      "Processing rows:  25%|██▌       | 104/414 [05:07<13:13,  2.56s/it]"
     ]
    },
    {
     "name": "stdout",
     "output_type": "stream",
     "text": [
      "dien thoai,17699000,None,None,None,Ho Chi Minh,22990000,7300,97,None,57,0,0,0,0,0\n"
     ]
    },
    {
     "name": "stderr",
     "output_type": "stream",
     "text": [
      "Processing rows:  25%|██▌       | 105/414 [05:09<12:56,  2.51s/it]"
     ]
    },
    {
     "name": "stdout",
     "output_type": "stream",
     "text": [
      "dien thoai,17590000,None,16,2,Ha Noi,29990000,0,97,100,50,0,0,0,0,2\n"
     ]
    },
    {
     "name": "stderr",
     "output_type": "stream",
     "text": [
      "Processing rows:  26%|██▌       | 106/414 [05:12<13:31,  2.63s/it]"
     ]
    },
    {
     "name": "stdout",
     "output_type": "stream",
     "text": [
      "dien thoai,17229000,None,None,None,Ben Tre,29990000,32200,98,100,100,0,0,0,0,0\n"
     ]
    },
    {
     "name": "stderr",
     "output_type": "stream",
     "text": [
      "Processing rows:  26%|██▌       | 107/414 [05:15<14:10,  2.77s/it]"
     ]
    },
    {
     "name": "stdout",
     "output_type": "stream",
     "text": [
      "dien thoai,16990000,NaN,31,12,Ho Chi Minh,33990000,16500,97,NaN,33,0,0,0,2,10\n"
     ]
    },
    {
     "name": "stderr",
     "output_type": "stream",
     "text": [
      "Processing rows:  26%|██▌       | 108/414 [05:17<13:28,  2.64s/it]"
     ]
    },
    {
     "name": "stdout",
     "output_type": "stream",
     "text": [
      "dien thoai,15990000,None,None,None,Ho Chi Minh,19000000,16500,96,75,85,0,0,0,0,0\n"
     ]
    },
    {
     "name": "stderr",
     "output_type": "stream",
     "text": [
      "Processing rows:  26%|██▋       | 109/414 [05:20<13:10,  2.59s/it]"
     ]
    },
    {
     "name": "stdout",
     "output_type": "stream",
     "text": [
      "dien thoai,15980000,None,6,1,Tien Giang,19000000,28700,97,100,100,0,0,0,0,1\n"
     ]
    },
    {
     "name": "stderr",
     "output_type": "stream",
     "text": [
      "Processing rows:  27%|██▋       | 110/414 [05:22<13:15,  2.62s/it]"
     ]
    },
    {
     "name": "stdout",
     "output_type": "stream",
     "text": [
      "dien thoai,14500000,None,None,1,Ha Noi,20500000,0,88,None,100,0,0,0,0,1\n"
     ]
    },
    {
     "name": "stderr",
     "output_type": "stream",
     "text": [
      "Processing rows:  27%|██▋       | 111/414 [05:25<13:23,  2.65s/it]"
     ]
    },
    {
     "name": "stdout",
     "output_type": "stream",
     "text": [
      "dien thoai,14390000,NaN,303,70,Ha Noi,17990000,38000,99,100,90,0,0,1,3,66\n"
     ]
    },
    {
     "name": "stderr",
     "output_type": "stream",
     "text": [
      "Processing rows:  27%|██▋       | 112/414 [05:28<14:01,  2.79s/it]"
     ]
    },
    {
     "name": "stdout",
     "output_type": "stream",
     "text": [
      "dien thoai,14089000,NaN,67,6,Ho Chi Minh,16900000,18300,98,100,100,0,0,0,0,6\n"
     ]
    },
    {
     "name": "stderr",
     "output_type": "stream",
     "text": [
      "Processing rows:  27%|██▋       | 113/414 [05:32<15:06,  3.01s/it]"
     ]
    },
    {
     "name": "stdout",
     "output_type": "stream",
     "text": [
      "dien thoai,13990000,None,None,None,Ho Chi Minh,None,16500,100,99,100,0,0,0,0,0\n"
     ]
    },
    {
     "name": "stderr",
     "output_type": "stream",
     "text": [
      "Processing rows:  28%|██▊       | 114/414 [05:36<16:01,  3.20s/it]"
     ]
    },
    {
     "name": "stdout",
     "output_type": "stream",
     "text": [
      "dien thoai,13990000,None,None,None,Da Nang,24990000,38000,94,100,100,0,0,0,0,0\n"
     ]
    },
    {
     "name": "stderr",
     "output_type": "stream",
     "text": [
      "Processing rows:  28%|██▊       | 115/414 [05:38<14:44,  2.96s/it]"
     ]
    },
    {
     "name": "stdout",
     "output_type": "stream",
     "text": [
      "dien thoai,13200000,None,None,None,Ho Chi Minh,None,16500,None,66,92,0,0,0,0,0\n"
     ]
    },
    {
     "name": "stderr",
     "output_type": "stream",
     "text": [
      "Processing rows:  28%|██▊       | 116/414 [05:41<15:12,  3.06s/it]"
     ]
    },
    {
     "name": "stdout",
     "output_type": "stream",
     "text": [
      "dien thoai,13190000,None,None,None,Ha Noi,24550000,38000,91,100,100,0,0,0,0,0\n"
     ]
    },
    {
     "name": "stderr",
     "output_type": "stream",
     "text": [
      "Processing rows:  28%|██▊       | 117/414 [05:45<15:55,  3.22s/it]"
     ]
    },
    {
     "name": "stdout",
     "output_type": "stream",
     "text": [
      "dien thoai,12998500,NaN,16,2,Ho Chi Minh,16890500,NaN,91,NaN,100,0,0,0,1,2\n"
     ]
    },
    {
     "name": "stderr",
     "output_type": "stream",
     "text": [
      "Processing rows:  29%|██▊       | 118/414 [05:47<15:02,  3.05s/it]"
     ]
    },
    {
     "name": "stdout",
     "output_type": "stream",
     "text": [
      "dien thoai,12990000,None,None,None,Ho Chi Minh,16990000,16500,None,None,71,0,0,0,0,0\n"
     ]
    },
    {
     "name": "stderr",
     "output_type": "stream",
     "text": [
      "Processing rows:  29%|██▊       | 119/414 [05:50<14:25,  2.93s/it]"
     ]
    },
    {
     "name": "stdout",
     "output_type": "stream",
     "text": [
      "dien thoai,12940000,None,None,None,Ha Noi,16890000,38000,98,100,92,0,0,0,0,0\n"
     ]
    },
    {
     "name": "stderr",
     "output_type": "stream",
     "text": [
      "Processing rows:  29%|██▉       | 120/414 [05:52<13:22,  2.73s/it]"
     ]
    },
    {
     "name": "stdout",
     "output_type": "stream",
     "text": [
      "dien thoai,12890000,None,None,None,Ha Noi,None,13700,95,100,95,0,0,0,0,0\n"
     ]
    },
    {
     "name": "stderr",
     "output_type": "stream",
     "text": [
      "Processing rows:  29%|██▉       | 121/414 [05:56<14:07,  2.89s/it]"
     ]
    },
    {
     "name": "stdout",
     "output_type": "stream",
     "text": [
      "dien thoai,12490000,None,None,None,Ho Chi Minh,None,16500,98,None,None,0,0,0,0,0\n"
     ]
    },
    {
     "name": "stderr",
     "output_type": "stream",
     "text": [
      "Processing rows:  29%|██▉       | 122/414 [05:59<14:12,  2.92s/it]"
     ]
    },
    {
     "name": "stdout",
     "output_type": "stream",
     "text": [
      "dien thoai,12399000,None,None,None,Ha Noi,None,32700,None,None,None,0,0,0,0,0\n"
     ]
    },
    {
     "name": "stderr",
     "output_type": "stream",
     "text": [
      "Processing rows:  30%|██▉       | 123/414 [06:02<14:49,  3.06s/it]"
     ]
    },
    {
     "name": "stdout",
     "output_type": "stream",
     "text": [
      "dien thoai,12389000,None,None,None,Nam Định,None,43900,None,None,100,0,0,0,0,0\n"
     ]
    },
    {
     "name": "stderr",
     "output_type": "stream",
     "text": [
      "Processing rows:  30%|██▉       | 124/414 [06:05<15:09,  3.14s/it]"
     ]
    },
    {
     "name": "stdout",
     "output_type": "stream",
     "text": [
      "dien thoai,12290000,None,None,1,Ha Noi,19200000,38000,91,100,100,0,0,0,0,1\n"
     ]
    },
    {
     "name": "stderr",
     "output_type": "stream",
     "text": [
      "Processing rows:  30%|███       | 125/414 [06:08<15:05,  3.13s/it]"
     ]
    },
    {
     "name": "stdout",
     "output_type": "stream",
     "text": [
      "dien thoai,12200000,None,None,1,Ha Noi,14900000,None,94,None,87,0,0,0,0,1\n"
     ]
    },
    {
     "name": "stderr",
     "output_type": "stream",
     "text": [
      "Processing rows:  30%|███       | 126/414 [06:12<15:05,  3.14s/it]"
     ]
    },
    {
     "name": "stdout",
     "output_type": "stream",
     "text": [
      "dien thoai,12200000,None,5,None,Ha Noi,16890500,None,92,None,50,0,0,0,0,0\n"
     ]
    },
    {
     "name": "stderr",
     "output_type": "stream",
     "text": [
      "Processing rows:  31%|███       | 127/414 [06:14<14:12,  2.97s/it]"
     ]
    },
    {
     "name": "stdout",
     "output_type": "stream",
     "text": [
      "dien thoai,12190000,None,None,None,Ho Chi Minh,None,16500,97,95,100,0,0,0,0,0\n"
     ]
    },
    {
     "name": "stderr",
     "output_type": "stream",
     "text": [
      "Processing rows:  31%|███       | 128/414 [06:17<14:17,  3.00s/it]"
     ]
    },
    {
     "name": "stdout",
     "output_type": "stream",
     "text": [
      "dien thoai,11990000,None,None,None,Tien Giang,14500000,28700,97,100,100,0,0,0,0,0\n"
     ]
    },
    {
     "name": "stderr",
     "output_type": "stream",
     "text": [
      "Processing rows:  31%|███       | 129/414 [06:20<13:55,  2.93s/it]"
     ]
    },
    {
     "name": "stdout",
     "output_type": "stream",
     "text": [
      "dien thoai,11990000,None,None,None,Ho Chi Minh,12990000,18300,85,None,100,0,0,0,0,0\n"
     ]
    },
    {
     "name": "stderr",
     "output_type": "stream",
     "text": [
      "Processing rows:  31%|███▏      | 130/414 [06:23<13:44,  2.90s/it]"
     ]
    },
    {
     "name": "stdout",
     "output_type": "stream",
     "text": [
      "dien thoai,11990000,None,None,None,Ho Chi Minh,12990000,0,97,100,33,0,0,0,0,0\n"
     ]
    },
    {
     "name": "stderr",
     "output_type": "stream",
     "text": [
      "Processing rows:  32%|███▏      | 131/414 [06:25<13:20,  2.83s/it]"
     ]
    },
    {
     "name": "stdout",
     "output_type": "stream",
     "text": [
      "dien thoai,11990000,None,None,3,Ho Chi Minh,12990000,19600,85,None,100,0,0,0,0,3\n"
     ]
    },
    {
     "name": "stderr",
     "output_type": "stream",
     "text": [
      "Processing rows:  32%|███▏      | 132/414 [06:28<13:15,  2.82s/it]"
     ]
    },
    {
     "name": "stdout",
     "output_type": "stream",
     "text": [
      "dien thoai,11980000,None,None,None,Ho Chi Minh,11990000,19600,85,None,100,0,0,0,0,0\n"
     ]
    },
    {
     "name": "stderr",
     "output_type": "stream",
     "text": [
      "Processing rows:  32%|███▏      | 133/414 [06:31<13:29,  2.88s/it]"
     ]
    },
    {
     "name": "stdout",
     "output_type": "stream",
     "text": [
      "dien thoai,11980000,None,None,None,Ho Chi Minh,12990000,0,97,100,33,0,0,0,0,0\n"
     ]
    },
    {
     "name": "stderr",
     "output_type": "stream",
     "text": [
      "Processing rows:  32%|███▏      | 134/414 [06:34<13:46,  2.95s/it]"
     ]
    },
    {
     "name": "stdout",
     "output_type": "stream",
     "text": [
      "dien thoai,11948000,None,None,None,Ho Chi Minh,14890000,16500,100,99,100,0,0,0,0,0\n"
     ]
    },
    {
     "name": "stderr",
     "output_type": "stream",
     "text": [
      "Processing rows:  33%|███▎      | 135/414 [06:37<12:58,  2.79s/it]"
     ]
    },
    {
     "name": "stdout",
     "output_type": "stream",
     "text": [
      "dien thoai,12690000,None,12,2,Ho Chi Minh,25990000,16500,97,None,57,0,0,0,0,2\n"
     ]
    },
    {
     "name": "stderr",
     "output_type": "stream",
     "text": [
      "Processing rows:  33%|███▎      | 136/414 [06:40<13:14,  2.86s/it]"
     ]
    },
    {
     "name": "stdout",
     "output_type": "stream",
     "text": [
      "dien thoai,11989000,93,16,Ho Chi Minh,14890000,16500,91,99,100,1,0,0,0,15\n"
     ]
    },
    {
     "name": "stderr",
     "output_type": "stream",
     "text": [
      "Processing rows:  33%|███▎      | 137/414 [06:42<12:27,  2.70s/it]"
     ]
    },
    {
     "name": "stdout",
     "output_type": "stream",
     "text": [
      "dien thoai,11970000,None,None,None,Ho Chi Minh,11990000,0,97,100,33,0,0,0,0,0\n"
     ]
    },
    {
     "name": "stderr",
     "output_type": "stream",
     "text": [
      "Processing rows:  33%|███▎      | 138/414 [06:45<11:57,  2.60s/it]"
     ]
    },
    {
     "name": "stdout",
     "output_type": "stream",
     "text": [
      "dien thoai,11800000,None,None,None,Nam Dinh,None,37700,87,75,100,0,0,0,0,0\n"
     ]
    },
    {
     "name": "stderr",
     "output_type": "stream",
     "text": [
      "Processing rows:  34%|███▎      | 139/414 [06:49<14:00,  3.05s/it]"
     ]
    },
    {
     "name": "stdout",
     "output_type": "stream",
     "text": [
      "dien thoai,11700000,None,None,None,Ho Chi Minh,None,16500,None,66,92,0,0,0,0,0\n"
     ]
    },
    {
     "name": "stderr",
     "output_type": "stream",
     "text": [
      "Processing rows:  34%|███▍      | 140/414 [06:52<14:14,  3.12s/it]"
     ]
    },
    {
     "name": "stdout",
     "output_type": "stream",
     "text": [
      "dien thoai,11680000,NaN,35,8,Ho Chi Minh,12990000,18300,98,100,92,0,0,0,0,9\n"
     ]
    },
    {
     "name": "stderr",
     "output_type": "stream",
     "text": [
      "Processing rows:  34%|███▍      | 141/414 [06:54<13:24,  2.95s/it]"
     ]
    },
    {
     "name": "stdout",
     "output_type": "stream",
     "text": [
      "dien thoai,11617600,None,33,2,Ho Chi Minh,14889600,None,91,None,100,0,0,0,0,3\n"
     ]
    },
    {
     "name": "stderr",
     "output_type": "stream",
     "text": [
      "Processing rows:  34%|███▍      | 142/414 [06:57<13:11,  2.91s/it]"
     ]
    },
    {
     "name": "stdout",
     "output_type": "stream",
     "text": [
      "dien thoai,11390000,None,None,1,Ha Noi,12490000,13700,95,100,95,0,0,0,0,1\n"
     ]
    },
    {
     "name": "stderr",
     "output_type": "stream",
     "text": [
      "Processing rows:  35%|███▍      | 143/414 [07:01<14:01,  3.11s/it]"
     ]
    },
    {
     "name": "stdout",
     "output_type": "stream",
     "text": [
      "dien thoai,11250000,None,None,None,Ha Noi,13350000,38000,91,100,100,0,0,0,0,0\n"
     ]
    },
    {
     "name": "stderr",
     "output_type": "stream",
     "text": [
      "Processing rows:  35%|███▍      | 144/414 [07:04<14:11,  3.15s/it]"
     ]
    },
    {
     "name": "stdout",
     "output_type": "stream",
     "text": [
      "dien thoai,11146000,NaN,32,1,Ho Chi Minh,11990000,16500,99,100,78,0,0,0,0,1\n"
     ]
    },
    {
     "name": "stderr",
     "output_type": "stream",
     "text": [
      "Processing rows:  35%|███▌      | 145/414 [07:06<13:03,  2.91s/it]"
     ]
    },
    {
     "name": "stdout",
     "output_type": "stream",
     "text": [
      "dien thoai,11078000,None,None,None,Ho Chi Minh,13990000,16500,100,99,100,0,0,0,0,0\n"
     ]
    },
    {
     "name": "stderr",
     "output_type": "stream",
     "text": [
      "Processing rows:  35%|███▌      | 146/414 [07:09<12:41,  2.84s/it]"
     ]
    },
    {
     "name": "stdout",
     "output_type": "stream",
     "text": [
      "dien thoai,11039000,None,None,0,Ben Tre,14890000,28700,98,100,100,0,0,0,0,1\n"
     ]
    },
    {
     "name": "stderr",
     "output_type": "stream",
     "text": [
      "Processing rows:  36%|███▌      | 147/414 [07:12<12:56,  2.91s/it]"
     ]
    },
    {
     "name": "stdout",
     "output_type": "stream",
     "text": [
      "dien thoai,10990000,None,15,1,Ho Chi Minh,None,18300,99,99,98,0,0,0,0,1\n"
     ]
    },
    {
     "name": "stderr",
     "output_type": "stream",
     "text": [
      "Processing rows:  36%|███▌      | 148/414 [07:15<12:45,  2.88s/it]"
     ]
    },
    {
     "name": "stdout",
     "output_type": "stream",
     "text": [
      "dien thoai,10990000,None,None,None,Da Nang,14990000,0,93,None,100,0,0,0,0,0\n"
     ]
    },
    {
     "name": "stderr",
     "output_type": "stream",
     "text": [
      "Processing rows:  36%|███▌      | 149/414 [07:18<12:14,  2.77s/it]"
     ]
    },
    {
     "name": "stdout",
     "output_type": "stream",
     "text": [
      "dien thoai,10990000,None,5,1,Ho Chi Minh,16900000,18300,96,75,85,0,0,0,0,1\n"
     ]
    },
    {
     "name": "stderr",
     "output_type": "stream",
     "text": [
      "Processing rows:  36%|███▌      | 150/414 [07:20<12:15,  2.79s/it]"
     ]
    },
    {
     "name": "stdout",
     "output_type": "stream",
     "text": [
      "dien thoai,10990000,None,None,None,Da Nang,14990000,38000,97,81,87,0,0,0,0,0\n"
     ]
    },
    {
     "name": "stderr",
     "output_type": "stream",
     "text": [
      "Processing rows:  36%|███▋      | 151/414 [07:23<12:14,  2.79s/it]"
     ]
    },
    {
     "name": "stdout",
     "output_type": "stream",
     "text": [
      "dien thoai,10990000,None,None,1,Ho Chi Minh,12990000,18300,85,None,100,0,0,0,0,1\n"
     ]
    },
    {
     "name": "stderr",
     "output_type": "stream",
     "text": [
      "Processing rows:  37%|███▋      | 152/414 [07:26<12:15,  2.81s/it]"
     ]
    },
    {
     "name": "stdout",
     "output_type": "stream",
     "text": [
      "dien thoai,10890000,NaN,5,2,Ha Noi,17999000,26100,100,NaN,100,0,0,0,0,2\n"
     ]
    },
    {
     "name": "stderr",
     "output_type": "stream",
     "text": [
      "Processing rows:  37%|███▋      | 153/414 [07:29<12:38,  2.90s/it]"
     ]
    },
    {
     "name": "stdout",
     "output_type": "stream",
     "text": [
      "dien thoai,10839000,None,None,None,Ben Tre,14890000,28700,97,100,100,0,0,0,0,0\n"
     ]
    },
    {
     "name": "stderr",
     "output_type": "stream",
     "text": [
      "Processing rows:  37%|███▋      | 154/414 [07:31<11:46,  2.72s/it]"
     ]
    },
    {
     "name": "stdout",
     "output_type": "stream",
     "text": [
      "dien thoai,10800000,None,None,None,Ho Chi Minh,None,16500,None,66,92,0,0,0,0,0\n"
     ]
    },
    {
     "name": "stderr",
     "output_type": "stream",
     "text": [
      "Processing rows:  37%|███▋      | 155/414 [07:35<12:12,  2.83s/it]"
     ]
    },
    {
     "name": "stdout",
     "output_type": "stream",
     "text": [
      "dien thoai,10791000,None,None,None,Ha Noi,11990000,None,94,None,87,0,0,0,0,0\n"
     ]
    },
    {
     "name": "stderr",
     "output_type": "stream",
     "text": [
      "Processing rows:  38%|███▊      | 156/414 [07:37<12:03,  2.81s/it]"
     ]
    },
    {
     "name": "stdout",
     "output_type": "stream",
     "text": [
      "dien thoai,10782000,None,5,None,Ha Noi,12980000,None,92,None,50,0,0,0,0,0\n"
     ]
    },
    {
     "name": "stderr",
     "output_type": "stream",
     "text": [
      "Processing rows:  38%|███▊      | 157/414 [07:40<12:13,  2.85s/it]"
     ]
    },
    {
     "name": "stdout",
     "output_type": "stream",
     "text": [
      "dien thoai,10690000,None,None,None,Da Nang,11990000,27000,100,50,100,0,0,0,0,0\n"
     ]
    },
    {
     "name": "stderr",
     "output_type": "stream",
     "text": [
      "Processing rows:  38%|███▊      | 158/414 [07:42<11:23,  2.67s/it]"
     ]
    },
    {
     "name": "stdout",
     "output_type": "stream",
     "text": [
      "dien thoai,10560000,None,None,None,Ho Chi Minh,None,19600,100,None,None,0,0,0,0,0\n"
     ]
    },
    {
     "name": "stderr",
     "output_type": "stream",
     "text": [
      "Processing rows:  38%|███▊      | 159/414 [07:46<11:54,  2.80s/it]"
     ]
    },
    {
     "name": "stdout",
     "output_type": "stream",
     "text": [
      "dien thoai,10500000,None,None,None,Ho Chi Minh,None,16500,None,66,92,0,0,0,0,0\n"
     ]
    },
    {
     "name": "stderr",
     "output_type": "stream",
     "text": [
      "Processing rows:  39%|███▊      | 160/414 [07:48<11:57,  2.82s/it]"
     ]
    },
    {
     "name": "stdout",
     "output_type": "stream",
     "text": [
      "dien thoai,10490000,None,None,None,Ho Chi Minh,None,16500,99,100,None,0,0,0,0,0\n"
     ]
    },
    {
     "name": "stderr",
     "output_type": "stream",
     "text": [
      "Processing rows:  39%|███▉      | 161/414 [07:51<11:49,  2.81s/it]"
     ]
    },
    {
     "name": "stdout",
     "output_type": "stream",
     "text": [
      "dien thoai,10490000,None,None,None,Da Nang,11990000,38000,97,81,87,0,0,0,0,0\n"
     ]
    },
    {
     "name": "stderr",
     "output_type": "stream",
     "text": [
      "Processing rows:  39%|███▉      | 162/414 [07:54<12:07,  2.89s/it]"
     ]
    },
    {
     "name": "stdout",
     "output_type": "stream",
     "text": [
      "dien thoai,10490000,None,None,None,Da Nang,12990000,38000,97,81,87,0,0,0,0,0\n"
     ]
    },
    {
     "name": "stderr",
     "output_type": "stream",
     "text": [
      "Processing rows:  39%|███▉      | 163/414 [07:57<11:47,  2.82s/it]"
     ]
    },
    {
     "name": "stdout",
     "output_type": "stream",
     "text": [
      "dien thoai,10490000,None,None,None,Dak Nong,None,32200,None,None,None,0,0,0,0,0\n"
     ]
    },
    {
     "name": "stderr",
     "output_type": "stream",
     "text": [
      "Processing rows:  40%|███▉      | 164/414 [07:59<10:55,  2.62s/it]"
     ]
    },
    {
     "name": "stdout",
     "output_type": "stream",
     "text": [
      "dien thoai,10489000,240,37,Ho Chi Minh,21990000,18300,91,99,100,2,0,0,2,33\n"
     ]
    },
    {
     "name": "stderr",
     "output_type": "stream",
     "text": [
      "Processing rows:  40%|███▉      | 165/414 [08:02<11:20,  2.73s/it]"
     ]
    },
    {
     "name": "stdout",
     "output_type": "stream",
     "text": [
      "dien thoai,10450000,None,None,None,Ha Noi,14900000,38000,91,100,100,0,0,0,0,0\n"
     ]
    },
    {
     "name": "stderr",
     "output_type": "stream",
     "text": [
      "Processing rows:  40%|████      | 166/414 [08:05<11:48,  2.86s/it]"
     ]
    },
    {
     "name": "stdout",
     "output_type": "stream",
     "text": [
      "dien thoai,10290000,None,None,None,Ha Noi,16000000,38000,91,100,100,0,0,0,0,0\n"
     ]
    },
    {
     "name": "stderr",
     "output_type": "stream",
     "text": [
      "Processing rows:  40%|████      | 167/414 [08:08<11:08,  2.71s/it]"
     ]
    },
    {
     "name": "stdout",
     "output_type": "stream",
     "text": [
      "dien thoai,10266000,None,None,None,Ho Chi Minh,10990000,16500,100,99,100,0,0,0,0,0\n"
     ]
    },
    {
     "name": "stderr",
     "output_type": "stream",
     "text": [
      "Processing rows:  41%|████      | 168/414 [08:10<11:02,  2.69s/it]"
     ]
    },
    {
     "name": "stdout",
     "output_type": "stream",
     "text": [
      "dien thoai,10235000,None,None,None,Da Nang,14990000,38000,97,81,87,0,0,0,0,0\n"
     ]
    },
    {
     "name": "stderr",
     "output_type": "stream",
     "text": [
      "Processing rows:  41%|████      | 169/414 [08:13<10:49,  2.65s/it]"
     ]
    },
    {
     "name": "stdout",
     "output_type": "stream",
     "text": [
      "dien thoai,10200000,None,None,None,Ho Chi Minh,None,16500,None,66,92,0,0,0,0,0\n"
     ]
    },
    {
     "name": "stderr",
     "output_type": "stream",
     "text": [
      "Processing rows:  41%|████      | 170/414 [08:16<10:48,  2.66s/it]"
     ]
    },
    {
     "name": "stdout",
     "output_type": "stream",
     "text": [
      "dien thoai,10100000,NaN,6,2,Ha Noi,10990000,18300,98,100,92,0,0,0,0,2\n"
     ]
    },
    {
     "name": "stderr",
     "output_type": "stream",
     "text": [
      "Processing rows:  41%|████▏     | 171/414 [08:18<10:43,  2.65s/it]"
     ]
    },
    {
     "name": "stdout",
     "output_type": "stream",
     "text": [
      "dien thoai,10099000,None,None,1,Ha Noi,13000000,38000,97,None,None,0,0,0,0,1\n"
     ]
    },
    {
     "name": "stderr",
     "output_type": "stream",
     "text": [
      "Processing rows:  42%|████▏     | 172/414 [08:21<10:52,  2.70s/it]"
     ]
    },
    {
     "name": "stdout",
     "output_type": "stream",
     "text": [
      "dien thoai,10085523,NaN,45,3,Ha Noi,12090000,13700,95,100,95,0,0,0,0,3\n"
     ]
    },
    {
     "name": "stderr",
     "output_type": "stream",
     "text": [
      "Processing rows:  42%|████▏     | 173/414 [08:24<11:44,  2.92s/it]"
     ]
    },
    {
     "name": "stdout",
     "output_type": "stream",
     "text": [
      "dien thoai,9990000,None,None,None,Da Nang,10990000,45100,96,25,100,0,0,0,0,0\n"
     ]
    },
    {
     "name": "stderr",
     "output_type": "stream",
     "text": [
      "Processing rows:  42%|████▏     | 174/414 [08:27<11:22,  2.85s/it]"
     ]
    },
    {
     "name": "stdout",
     "output_type": "stream",
     "text": [
      "dien thoai,9990000,None,None,None,Ho Chi Minh,None,16500,None,None,71,0,0,0,0,0\n"
     ]
    },
    {
     "name": "stderr",
     "output_type": "stream",
     "text": [
      "Processing rows:  42%|████▏     | 175/414 [08:30<11:46,  2.96s/it]"
     ]
    },
    {
     "name": "stdout",
     "output_type": "stream",
     "text": [
      "dien thoai,9990000,None,None,None,Ho Chi Minh,12000000,16500,98,80,100,0,0,0,0,0\n"
     ]
    },
    {
     "name": "stderr",
     "output_type": "stream",
     "text": [
      "Processing rows:  43%|████▎     | 176/414 [08:33<10:51,  2.74s/it]"
     ]
    },
    {
     "name": "stdout",
     "output_type": "stream",
     "text": [
      "dien thoai,9990000,None,None,None,Ha Noi,None,None,94,None,87,0,0,0,0,0\n"
     ]
    },
    {
     "name": "stderr",
     "output_type": "stream",
     "text": [
      "Processing rows:  43%|████▎     | 177/414 [08:35<10:50,  2.75s/it]"
     ]
    },
    {
     "name": "stdout",
     "output_type": "stream",
     "text": [
      "dien thoai,9990000,None,None,None,Da Nang,None,32700,100,80,None,0,0,0,0,0\n"
     ]
    },
    {
     "name": "stderr",
     "output_type": "stream",
     "text": [
      "Processing rows:  43%|████▎     | 178/414 [08:38<10:25,  2.65s/it]"
     ]
    },
    {
     "name": "stdout",
     "output_type": "stream",
     "text": [
      "dien thoai,9990000,None,7,None,Ho Chi Minh,None,None,None,None,None,0,0,0,0,0\n"
     ]
    },
    {
     "name": "stderr",
     "output_type": "stream",
     "text": [
      "Processing rows:  43%|████▎     | 179/414 [08:40<10:30,  2.68s/it]"
     ]
    },
    {
     "name": "stdout",
     "output_type": "stream",
     "text": [
      "dien thoai,9890000,None,38,12,Binh Duong,12490000,None,98,None,97,0,0,1,1,11\n"
     ]
    },
    {
     "name": "stderr",
     "output_type": "stream",
     "text": [
      "Processing rows:  43%|████▎     | 180/414 [08:43<10:10,  2.61s/it]"
     ]
    },
    {
     "name": "stdout",
     "output_type": "stream",
     "text": [
      "dien thoai,9990000,None,7,None,Ha Noi,None,0,100,None,None,0,0,0,0,0\n"
     ]
    },
    {
     "name": "stderr",
     "output_type": "stream",
     "text": [
      "Processing rows:  44%|████▎     | 181/414 [08:46<10:41,  2.75s/it]"
     ]
    },
    {
     "name": "stdout",
     "output_type": "stream",
     "text": [
      "dien thoai,9895000,None,None,None,Ha Noi,9900000,0,91,55,73,1,0,0,0,0\n"
     ]
    },
    {
     "name": "stderr",
     "output_type": "stream",
     "text": [
      "Processing rows:  44%|████▍     | 182/414 [08:48<10:02,  2.60s/it]"
     ]
    },
    {
     "name": "stdout",
     "output_type": "stream",
     "text": [
      "dien thoai,9890000,None,8,5,Tien Giang,15900000,28700,97,100,100,0,0,1,0,4\n"
     ]
    },
    {
     "name": "stderr",
     "output_type": "stream",
     "text": [
      "Processing rows:  44%|████▍     | 183/414 [08:51<10:06,  2.62s/it]"
     ]
    },
    {
     "name": "stdout",
     "output_type": "stream",
     "text": [
      "dien thoai,9790000,None,None,None,Ho Chi Minh,9900000,18300,99,99,98,0,0,0,0,0\n"
     ]
    },
    {
     "name": "stderr",
     "output_type": "stream",
     "text": [
      "Processing rows:  44%|████▍     | 184/414 [08:54<10:02,  2.62s/it]"
     ]
    },
    {
     "name": "stdout",
     "output_type": "stream",
     "text": [
      "dien thoai,9675000,None,None,None,Ho Chi Minh,None,16500,None,None,71,0,0,0,0,0\n"
     ]
    },
    {
     "name": "stderr",
     "output_type": "stream",
     "text": [
      "Processing rows:  45%|████▍     | 185/414 [08:56<10:16,  2.69s/it]"
     ]
    },
    {
     "name": "stdout",
     "output_type": "stream",
     "text": [
      "dien thoai,9590000,None,None,None,Ho Chi Minh,10500000,16500,96,75,85,0,0,0,0,0\n"
     ]
    },
    {
     "name": "stderr",
     "output_type": "stream",
     "text": [
      "Processing rows:  45%|████▍     | 186/414 [08:59<09:53,  2.60s/it]"
     ]
    },
    {
     "name": "stdout",
     "output_type": "stream",
     "text": [
      "dien thoai,9590000,None,None,0,Tien Giang,10800000,28700,97,100,100,0,0,0,0,1\n"
     ]
    },
    {
     "name": "stderr",
     "output_type": "stream",
     "text": [
      "Processing rows:  45%|████▌     | 187/414 [09:01<09:59,  2.64s/it]"
     ]
    },
    {
     "name": "stdout",
     "output_type": "stream",
     "text": [
      "dien thoai,9500000,None,None,None,Nam Định,None,37700,87,75,100,0,0,0,0,0\n"
     ]
    },
    {
     "name": "stderr",
     "output_type": "stream",
     "text": [
      "Processing rows:  45%|████▌     | 188/414 [09:04<09:57,  2.65s/it]"
     ]
    },
    {
     "name": "stdout",
     "output_type": "stream",
     "text": [
      "dien thoai,9500000,None,None,None,Ha Noi,13900000,0,75,None,None,0,0,0,0,0\n"
     ]
    },
    {
     "name": "stderr",
     "output_type": "stream",
     "text": [
      "Processing rows:  46%|████▌     | 189/414 [09:07<09:53,  2.64s/it]"
     ]
    },
    {
     "name": "stdout",
     "output_type": "stream",
     "text": [
      "dien thoai,9499000,None,None,None,Ho Chi Minh,10499000,0,82,None,100,0,0,0,0,0\n"
     ]
    },
    {
     "name": "stderr",
     "output_type": "stream",
     "text": [
      "Processing rows:  46%|████▌     | 190/414 [09:09<09:48,  2.63s/it]"
     ]
    },
    {
     "name": "stdout",
     "output_type": "stream",
     "text": [
      "dien thoai,9480000,None,None,None,Ho Chi Minh,10990000,0,100,None,100,0,0,0,0,0\n"
     ]
    },
    {
     "name": "stderr",
     "output_type": "stream",
     "text": [
      "Processing rows:  46%|████▌     | 191/414 [09:12<09:23,  2.53s/it]"
     ]
    },
    {
     "name": "stdout",
     "output_type": "stream",
     "text": [
      "dien thoai,9390000,None,None,1,Vinh Phuc,11250000,43900,100,100,98,0,0,0,0,1\n"
     ]
    },
    {
     "name": "stderr",
     "output_type": "stream",
     "text": [
      "Processing rows:  46%|████▋     | 192/414 [09:15<09:54,  2.68s/it]"
     ]
    },
    {
     "name": "stdout",
     "output_type": "stream",
     "text": [
      "dien thoai,9351363,None,38,13,Ha Noi,10790000,13700,95,100,95,0,0,0,0,13\n"
     ]
    },
    {
     "name": "stderr",
     "output_type": "stream",
     "text": [
      "Processing rows:  47%|████▋     | 193/414 [09:17<09:59,  2.71s/it]"
     ]
    },
    {
     "name": "stdout",
     "output_type": "stream",
     "text": [
      "dien thoai,9350000,None,35,18,Ha Noi,17000000,32700,91,100,100,0,0,0,0,19\n"
     ]
    },
    {
     "name": "stderr",
     "output_type": "stream",
     "text": [
      "Processing rows:  47%|████▋     | 194/414 [09:20<09:29,  2.59s/it]"
     ]
    },
    {
     "name": "stdout",
     "output_type": "stream",
     "text": [
      "dien thoai,9300000,None,None,None,Ho Chi Minh,None,16500,None,66,92,0,0,0,0,0\n"
     ]
    },
    {
     "name": "stderr",
     "output_type": "stream",
     "text": [
      "Processing rows:  47%|████▋     | 195/414 [09:23<09:47,  2.68s/it]"
     ]
    },
    {
     "name": "stdout",
     "output_type": "stream",
     "text": [
      "dien thoai,9290000,None,None,None,Da Nang,12990000,38000,96,25,100,0,0,0,0,0\n"
     ]
    },
    {
     "name": "stderr",
     "output_type": "stream",
     "text": [
      "Processing rows:  47%|████▋     | 196/414 [09:26<10:08,  2.79s/it]"
     ]
    },
    {
     "name": "stdout",
     "output_type": "stream",
     "text": [
      "dien thoai,9220491,None,62,2,Ho Chi Minh,12990000,16500,98,100,100,0,0,0,1,2\n"
     ]
    },
    {
     "name": "stderr",
     "output_type": "stream",
     "text": [
      "Processing rows:  48%|████▊     | 197/414 [09:29<10:06,  2.79s/it]"
     ]
    },
    {
     "name": "stdout",
     "output_type": "stream",
     "text": [
      "dien thoai,9150000,None,None,None,Ho Chi Minh,10990000,16500,98,80,100,0,0,0,0,0\n"
     ]
    },
    {
     "name": "stderr",
     "output_type": "stream",
     "text": [
      "Processing rows:  48%|████▊     | 198/414 [09:31<09:56,  2.76s/it]"
     ]
    },
    {
     "name": "stdout",
     "output_type": "stream",
     "text": [
      "dien thoai,9090000,NaN,535,126,Ha Noi,11990000,38000,99,100,90,1,0,0,2,123\n"
     ]
    },
    {
     "name": "stderr",
     "output_type": "stream",
     "text": [
      "Processing rows:  48%|████▊     | 199/414 [09:34<09:51,  2.75s/it]"
     ]
    },
    {
     "name": "stdout",
     "output_type": "stream",
     "text": [
      "dien thoai,9000000,None,None,None,Ho Chi Minh,None,16500,None,66,92,0,0,0,0,0\n"
     ]
    },
    {
     "name": "stderr",
     "output_type": "stream",
     "text": [
      "Processing rows:  48%|████▊     | 200/414 [09:36<09:06,  2.56s/it]"
     ]
    },
    {
     "name": "stdout",
     "output_type": "stream",
     "text": [
      "dien thoai,8990000,None,None,None,Ho Chi Minh,9990000,0,97,100,33,0,0,0,0,0\n"
     ]
    },
    {
     "name": "stderr",
     "output_type": "stream",
     "text": [
      "Processing rows:  49%|████▊     | 201/414 [09:39<09:33,  2.69s/it]"
     ]
    },
    {
     "name": "stdout",
     "output_type": "stream",
     "text": [
      "dien thoai,8990000,None,None,None,Ho Chi Minh,None,45100,100,100,100,0,0,0,0,0\n"
     ]
    },
    {
     "name": "stderr",
     "output_type": "stream",
     "text": [
      "Processing rows:  49%|████▉     | 202/414 [09:42<09:43,  2.75s/it]"
     ]
    },
    {
     "name": "stdout",
     "output_type": "stream",
     "text": [
      "dien thoai,8990000,None,None,None,Ho Chi Minh,9990000,19600,85,None,100,0,0,0,0,0\n"
     ]
    },
    {
     "name": "stderr",
     "output_type": "stream",
     "text": [
      "Processing rows:  49%|████▉     | 203/414 [09:45<09:46,  2.78s/it]"
     ]
    },
    {
     "name": "stdout",
     "output_type": "stream",
     "text": [
      "dien thoai,8990000,27,5,Ho Chi Minh,11490000,18300,99,99,98,0,0,0,0,5\n"
     ]
    },
    {
     "name": "stderr",
     "output_type": "stream",
     "text": [
      "Processing rows:  49%|████▉     | 204/414 [09:47<09:26,  2.70s/it]"
     ]
    },
    {
     "name": "stdout",
     "output_type": "stream",
     "text": [
      "dien thoai,8990000,None,None,1,Ho Chi Minh,10990000,18300,85,None,100,0,0,0,0,1\n"
     ]
    },
    {
     "name": "stderr",
     "output_type": "stream",
     "text": [
      "Processing rows:  50%|████▉     | 205/414 [09:49<08:48,  2.53s/it]"
     ]
    },
    {
     "name": "stdout",
     "output_type": "stream",
     "text": [
      "dien thoai,8990000,None,None,1,Ho Chi Minh,9000000,0,97,100,33,0,0,0,0,1\n"
     ]
    },
    {
     "name": "stderr",
     "output_type": "stream",
     "text": [
      "Processing rows:  50%|████▉     | 206/414 [09:52<08:52,  2.56s/it]"
     ]
    },
    {
     "name": "stdout",
     "output_type": "stream",
     "text": [
      "dien thoai,8990000,None,101,41,Ho Chi Minh,11990000,16500,97,None,33,2,0,0,0,39\n"
     ]
    },
    {
     "name": "stderr",
     "output_type": "stream",
     "text": [
      "Processing rows:  50%|█████     | 207/414 [09:55<09:15,  2.68s/it]"
     ]
    },
    {
     "name": "stdout",
     "output_type": "stream",
     "text": [
      "dien thoai,8990000,NaN,14,6,Ha Noi,9190000,13700,95,100,95,0,0,0,1,5\n"
     ]
    },
    {
     "name": "stderr",
     "output_type": "stream",
     "text": [
      "Processing rows:  50%|█████     | 208/414 [09:57<08:38,  2.52s/it]"
     ]
    },
    {
     "name": "stdout",
     "output_type": "stream",
     "text": [
      "dien thoai,8990000,None,8,2,Ho Chi Minh,None,0,96,75,None,0,0,0,0,2\n"
     ]
    },
    {
     "name": "stderr",
     "output_type": "stream",
     "text": [
      "Processing rows:  50%|█████     | 209/414 [10:00<08:33,  2.50s/it]"
     ]
    },
    {
     "name": "stdout",
     "output_type": "stream",
     "text": [
      "dien thoai,8979000,None,None,None,Ben Tre,9990000,28700,97,100,100,0,0,0,0,0\n"
     ]
    },
    {
     "name": "stderr",
     "output_type": "stream",
     "text": [
      "Processing rows:  51%|█████     | 210/414 [10:03<09:44,  2.86s/it]"
     ]
    },
    {
     "name": "stdout",
     "output_type": "stream",
     "text": [
      "dien thoai,8979000,None,None,None,Ben Tre,9990000,28700,98,100,100,0,0,0,0,0\n"
     ]
    },
    {
     "name": "stderr",
     "output_type": "stream",
     "text": [
      "Processing rows:  51%|█████     | 211/414 [10:06<09:13,  2.73s/it]"
     ]
    },
    {
     "name": "stdout",
     "output_type": "stream",
     "text": [
      "dien thoai,8890000,NaN,9100,1558,Ho Chi Minh,23990000,5500,94,98,100,34,13,14,37,1460\n"
     ]
    },
    {
     "name": "stderr",
     "output_type": "stream",
     "text": [
      "Processing rows:  51%|█████     | 212/414 [10:08<09:09,  2.72s/it]"
     ]
    },
    {
     "name": "stdout",
     "output_type": "stream",
     "text": [
      "dien thoai,8889000,NaN,12,4,Tien Giang,12500000,28700,97,100,100,0,0,0,0,4\n"
     ]
    },
    {
     "name": "stderr",
     "output_type": "stream",
     "text": [
      "Processing rows:  51%|█████▏    | 213/414 [10:12<09:59,  2.98s/it]"
     ]
    },
    {
     "name": "stdout",
     "output_type": "stream",
     "text": [
      "dien thoai,8888000,NaN,16,7,Ho Chi Minh,11500000,18300,96,75,85,0,0,0,0,7\n"
     ]
    },
    {
     "name": "stderr",
     "output_type": "stream",
     "text": [
      "Processing rows:  52%|█████▏    | 214/414 [10:15<10:08,  3.04s/it]"
     ]
    },
    {
     "name": "stdout",
     "output_type": "stream",
     "text": [
      "dien thoai,8870000,NaN,5,3,Ho Chi Minh,NaN,16500,97,95,100,0,0,0,0,3\n"
     ]
    },
    {
     "name": "stderr",
     "output_type": "stream",
     "text": [
      "Processing rows:  52%|█████▏    | 215/414 [10:18<10:00,  3.02s/it]"
     ]
    },
    {
     "name": "stdout",
     "output_type": "stream",
     "text": [
      "dien thoai,41990000,None,11,None,Ho Chi Minh,44990000,20100,99,100,92,0,0,0,0,0\n"
     ]
    },
    {
     "name": "stderr",
     "output_type": "stream",
     "text": [
      "Processing rows:  52%|█████▏    | 216/414 [10:21<09:19,  2.83s/it]"
     ]
    },
    {
     "name": "stdout",
     "output_type": "stream",
     "text": [
      "dien thoai,37590001,nan,25,2,Ho Chi Minh,44490000,nan,91,nan,100,0,0,0,0,2\n"
     ]
    },
    {
     "name": "stderr",
     "output_type": "stream",
     "text": [
      "Processing rows:  52%|█████▏    | 217/414 [10:23<09:05,  2.77s/it]"
     ]
    },
    {
     "name": "stdout",
     "output_type": "stream",
     "text": [
      "dien thoai,34590000,nan,1700,347,Ho Chi Minh,37999000,5500,94,99,100,1,0,0,1,345\n"
     ]
    },
    {
     "name": "stderr",
     "output_type": "stream",
     "text": [
      "Processing rows:  53%|█████▎    | 218/414 [10:26<09:14,  2.83s/it]"
     ]
    },
    {
     "name": "stdout",
     "output_type": "stream",
     "text": [
      "dien thoai,31990000,NaN,1500,358,Ho Chi Minh,33990000,16500,91,99,100,2,0,1,0,356\n"
     ]
    },
    {
     "name": "stderr",
     "output_type": "stream",
     "text": [
      "Processing rows:  53%|█████▎    | 219/414 [10:29<09:19,  2.87s/it]"
     ]
    },
    {
     "name": "stdout",
     "output_type": "stream",
     "text": [
      "dien thoai,31990000,None,714,151,Bac Ninh,34990000,5500,94,99,100,1,0,1,0,149\n"
     ]
    },
    {
     "name": "stderr",
     "output_type": "stream",
     "text": [
      "Processing rows:  53%|█████▎    | 220/414 [10:32<09:25,  2.92s/it]"
     ]
    },
    {
     "name": "stdout",
     "output_type": "stream",
     "text": [
      "dien thoai,31990000,None,203,43,Ho Chi Minh,None,None,99,None,100,2,0,0,0,41\n"
     ]
    },
    {
     "name": "stderr",
     "output_type": "stream",
     "text": [
      "Processing rows:  53%|█████▎    | 221/414 [10:35<09:40,  3.01s/it]"
     ]
    },
    {
     "name": "stdout",
     "output_type": "stream",
     "text": [
      "dien thoai,31590000,NaN,21,2,Ho Chi Minh,37490000,NaN,91,NaN,100,0,0,0,0,3\n"
     ]
    },
    {
     "name": "stderr",
     "output_type": "stream",
     "text": [
      "Processing rows:  54%|█████▎    | 222/414 [10:38<09:35,  3.00s/it]"
     ]
    },
    {
     "name": "stdout",
     "output_type": "stream",
     "text": [
      "dien thoai,31210000,None,None,None,Ha Noi,33990000,None,94,None,80,0,0,0,0,0\n"
     ]
    },
    {
     "name": "stderr",
     "output_type": "stream",
     "text": [
      "Processing rows:  54%|█████▍    | 223/414 [10:42<09:42,  3.05s/it]"
     ]
    },
    {
     "name": "stdout",
     "output_type": "stream",
     "text": [
      "dien thoai,30470000,None,6,None,Ha Noi,44490000,None,94,None,80,0,0,0,0,0\n"
     ]
    },
    {
     "name": "stderr",
     "output_type": "stream",
     "text": [
      "Processing rows:  54%|█████▍    | 224/414 [10:44<09:31,  3.01s/it]"
     ]
    },
    {
     "name": "stdout",
     "output_type": "stream",
     "text": [
      "dien thoai,29990000,None,None,None,Ha Noi,32990000,38000,98,100,94,0,0,0,0,0\n"
     ]
    },
    {
     "name": "stderr",
     "output_type": "stream",
     "text": [
      "Processing rows:  54%|█████▍    | 225/414 [10:47<09:14,  2.93s/it]"
     ]
    },
    {
     "name": "stdout",
     "output_type": "stream",
     "text": [
      "dien thoai,29517000,0,6,1,Ho Chi Minh,32990000,18300,99,99,98,0,0,0,0,2\n"
     ]
    },
    {
     "name": "stderr",
     "output_type": "stream",
     "text": [
      "Processing rows:  55%|█████▍    | 226/414 [10:50<09:17,  2.97s/it]"
     ]
    },
    {
     "name": "stdout",
     "output_type": "stream",
     "text": [
      "dien thoai,29890000,17,4,Binh Duong,35990000,0,98,0,97,0,0,0,0,4\n"
     ]
    },
    {
     "name": "stderr",
     "output_type": "stream",
     "text": [
      "Processing rows:  55%|█████▍    | 227/414 [10:53<09:22,  3.01s/it]"
     ]
    },
    {
     "name": "stdout",
     "output_type": "stream",
     "text": [
      "dien thoai,29590000,NaN,12100,2736,Ho Chi Minh,34999000,5500,94,99,100,31,3,8,9,2676\n"
     ]
    },
    {
     "name": "stderr",
     "output_type": "stream",
     "text": [
      "Processing rows:  55%|█████▌    | 228/414 [10:56<09:18,  3.00s/it]"
     ]
    },
    {
     "name": "stdout",
     "output_type": "stream",
     "text": [
      "dien thoai,28990000,None,None,None,Ha Noi,None,32700,None,None,None,0,0,0,0,0\n"
     ]
    },
    {
     "name": "stderr",
     "output_type": "stream",
     "text": [
      "Processing rows:  55%|█████▌    | 229/414 [10:59<08:58,  2.91s/it]"
     ]
    },
    {
     "name": "stdout",
     "output_type": "stream",
     "text": [
      "dien thoai,28791000,None,None,None,Ha Noi,31990000,None,94,None,80,0,0,0,0,0\n"
     ]
    },
    {
     "name": "stderr",
     "output_type": "stream",
     "text": [
      "Processing rows:  56%|█████▌    | 230/414 [11:01<08:31,  2.78s/it]"
     ]
    },
    {
     "name": "stdout",
     "output_type": "stream",
     "text": [
      "dien thoai,28090000,None,13,None,Ho Chi Minh,33990000,None,91,None,100,0,0,0,0,0\n"
     ]
    },
    {
     "name": "stderr",
     "output_type": "stream",
     "text": [
      "Processing rows:  56%|█████▌    | 231/414 [11:05<09:04,  2.98s/it]"
     ]
    },
    {
     "name": "stdout",
     "output_type": "stream",
     "text": [
      "dien thoai,27990000,NaN,1000,252,Ho Chi Minh,31990000,5500,94,99,100,2,0,1,0,249\n"
     ]
    },
    {
     "name": "stderr",
     "output_type": "stream",
     "text": [
      "Processing rows:  56%|█████▌    | 232/414 [11:08<09:09,  3.02s/it]"
     ]
    },
    {
     "name": "stdout",
     "output_type": "stream",
     "text": [
      "dien thoai,27490000,NaN,7,5,Ha Noi,33990000,51500,94,96,100,0,0,0,0,5\n"
     ]
    },
    {
     "name": "stderr",
     "output_type": "stream",
     "text": [
      "Processing rows:  56%|█████▋    | 233/414 [11:11<08:45,  2.90s/it]"
     ]
    },
    {
     "name": "stdout",
     "output_type": "stream",
     "text": [
      "dien thoai,27399000,None,None,None,Ha Noi,None,32700,97,None,None,0,0,0,0,0\n"
     ]
    },
    {
     "name": "stderr",
     "output_type": "stream",
     "text": [
      "Processing rows:  57%|█████▋    | 234/414 [11:14<09:10,  3.06s/it]"
     ]
    },
    {
     "name": "stdout",
     "output_type": "stream",
     "text": [
      "dien thoai,26590000,None,None,1,Ho Chi Minh,33999000,7300,97,None,57,0,0,0,0,1\n"
     ]
    },
    {
     "name": "stderr",
     "output_type": "stream",
     "text": [
      "Processing rows:  57%|█████▋    | 235/414 [11:17<09:09,  3.07s/it]"
     ]
    },
    {
     "name": "stdout",
     "output_type": "stream",
     "text": [
      "dien thoai,25390000,None,None,None,Ha Noi,43000000,38000,91,100,100,0,0,0,0,0\n"
     ]
    },
    {
     "name": "stderr",
     "output_type": "stream",
     "text": [
      "Processing rows:  57%|█████▋    | 236/414 [11:20<08:58,  3.03s/it]"
     ]
    },
    {
     "name": "stdout",
     "output_type": "stream",
     "text": [
      "dien thoai,24999000,None,7,None,Ho Chi Minh,33990000,18300,99,99,98,0,0,0,0,0\n"
     ]
    },
    {
     "name": "stderr",
     "output_type": "stream",
     "text": [
      "Processing rows:  57%|█████▋    | 237/414 [11:24<09:15,  3.14s/it]"
     ]
    },
    {
     "name": "stdout",
     "output_type": "stream",
     "text": [
      "dien thoai,24880000,None,None,None,Ha Noi,31990000,None,94,None,80,0,0,0,0,0\n"
     ]
    },
    {
     "name": "stderr",
     "output_type": "stream",
     "text": [
      "Processing rows:  57%|█████▋    | 238/414 [11:26<08:44,  2.98s/it]"
     ]
    },
    {
     "name": "stdout",
     "output_type": "stream",
     "text": [
      "dien thoai,24290100,None,None,None,Ha Noi,29990000,None,94,None,80,0,0,0,0,0\n"
     ]
    },
    {
     "name": "stderr",
     "output_type": "stream",
     "text": [
      "Processing rows:  58%|█████▊    | 239/414 [11:29<08:21,  2.87s/it]"
     ]
    },
    {
     "name": "stdout",
     "output_type": "stream",
     "text": [
      "dien thoai,24190000,None,None,None,Ha Noi,26990000,None,94,None,80,0,0,0,0,0\n"
     ]
    },
    {
     "name": "stderr",
     "output_type": "stream",
     "text": [
      "Processing rows:  58%|█████▊    | 240/414 [11:32<08:55,  3.08s/it]"
     ]
    },
    {
     "name": "stdout",
     "output_type": "stream",
     "text": [
      "dien thoai,24188000,NaN,11,1,Da Nang,33990000,38000,97,78,78,0,0,0,0,2\n"
     ]
    },
    {
     "name": "stderr",
     "output_type": "stream",
     "text": [
      "Processing rows:  58%|█████▊    | 241/414 [11:36<09:08,  3.17s/it]"
     ]
    },
    {
     "name": "stdout",
     "output_type": "stream",
     "text": [
      "dien thoai,24140000,None,None,None,Ho Chi Minh,33990000,16500,98,85,100,0,0,0,0,0\n"
     ]
    },
    {
     "name": "stderr",
     "output_type": "stream",
     "text": [
      "Processing rows:  58%|█████▊    | 242/414 [11:39<08:50,  3.09s/it]"
     ]
    },
    {
     "name": "stdout",
     "output_type": "stream",
     "text": [
      "dien thoai,23600000,None,None,None,Ha Noi,30490000,None,94,None,80,0,0,0,0,0\n"
     ]
    },
    {
     "name": "stderr",
     "output_type": "stream",
     "text": [
      "Processing rows:  59%|█████▊    | 243/414 [11:41<08:33,  3.00s/it]"
     ]
    },
    {
     "name": "stdout",
     "output_type": "stream",
     "text": [
      "dien thoai,23290000,None,7,3,Ho Chi Minh,44490000,0,98,100,100,0,0,0,1,2\n"
     ]
    },
    {
     "name": "stderr",
     "output_type": "stream",
     "text": [
      "Processing rows:  59%|█████▉    | 244/414 [11:44<07:51,  2.77s/it]"
     ]
    },
    {
     "name": "stdout",
     "output_type": "stream",
     "text": [
      "dien thoai,22990000,None,None,None,Ha Noi,None,38000,98,100,94,0,0,0,0,0\n"
     ]
    },
    {
     "name": "stderr",
     "output_type": "stream",
     "text": [
      "Processing rows:  59%|█████▉    | 245/414 [11:46<07:48,  2.77s/it]"
     ]
    },
    {
     "name": "stdout",
     "output_type": "stream",
     "text": [
      "dien thoai,22990000,None,5,None,Ho Chi Minh,None,19600,99,100,92,0,0,0,0,0\n"
     ]
    },
    {
     "name": "stderr",
     "output_type": "stream",
     "text": [
      "Processing rows:  59%|█████▉    | 246/414 [11:49<07:52,  2.81s/it]"
     ]
    },
    {
     "name": "stdout",
     "output_type": "stream",
     "text": [
      "dien thoai,22990000,None,9,1,Da Nang,41990000,32700,94,100,100,0,0,0,0,1\n"
     ]
    },
    {
     "name": "stderr",
     "output_type": "stream",
     "text": [
      "Processing rows:  60%|█████▉    | 247/414 [11:52<07:52,  2.83s/it]"
     ]
    },
    {
     "name": "stdout",
     "output_type": "stream",
     "text": [
      "dien thoai,22990000,None,16,3,Binh Duong,27990000,None,98,None,97,0,0,0,0,6\n"
     ]
    },
    {
     "name": "stderr",
     "output_type": "stream",
     "text": [
      "Processing rows:  60%|█████▉    | 248/414 [11:55<07:58,  2.88s/it]"
     ]
    },
    {
     "name": "stdout",
     "output_type": "stream",
     "text": [
      "dien thoai,21490000,None,8,2,Ha Noi,32990000,51500,94,96,100,0,0,0,0,2\n"
     ]
    },
    {
     "name": "stderr",
     "output_type": "stream",
     "text": [
      "Processing rows:  60%|██████    | 249/414 [11:59<08:18,  3.02s/it]"
     ]
    },
    {
     "name": "stdout",
     "output_type": "stream",
     "text": [
      "dien thoai,21390000,None,None,None,Ho Chi Minh,22900000,18300,99,99,98,0,0,0,0,0\n"
     ]
    },
    {
     "name": "stderr",
     "output_type": "stream",
     "text": [
      "Processing rows:  60%|██████    | 250/414 [12:01<07:42,  2.82s/it]"
     ]
    },
    {
     "name": "stdout",
     "output_type": "stream",
     "text": [
      "dien thoai,21290000,NaN,36,3,Ho Chi Minh,30990000,16500,97,NaN,37,0,0,1,0,3\n"
     ]
    },
    {
     "name": "stderr",
     "output_type": "stream",
     "text": [
      "Processing rows:  61%|██████    | 251/414 [12:03<07:20,  2.70s/it]"
     ]
    },
    {
     "name": "stdout",
     "output_type": "stream",
     "text": [
      "dien thoai,20989000,125,30,Ho Chi Minh,22990000,16500,91,99,100,1,1,4,1,23\n"
     ]
    },
    {
     "name": "stderr",
     "output_type": "stream",
     "text": [
      "Processing rows:  61%|██████    | 252/414 [12:06<07:22,  2.73s/it]"
     ]
    },
    {
     "name": "stdout",
     "output_type": "stream",
     "text": [
      "dien thoai,20890000,None,None,None,Ho Chi Minh,26990000,18300,99,99,98,0,0,0,0,0\n"
     ]
    },
    {
     "name": "stderr",
     "output_type": "stream",
     "text": [
      "Processing rows:  61%|██████    | 253/414 [12:09<07:12,  2.68s/it]"
     ]
    },
    {
     "name": "stdout",
     "output_type": "stream",
     "text": [
      "dien thoai,20610000,None,None,None,Ha Noi,22990000,None,94,None,80,0,0,0,0,0\n"
     ]
    },
    {
     "name": "stderr",
     "output_type": "stream",
     "text": [
      "Processing rows:  61%|██████▏   | 254/414 [12:12<07:47,  2.92s/it]"
     ]
    },
    {
     "name": "stdout",
     "output_type": "stream",
     "text": [
      "dien thoai,20090000,None,None,1,Ho Chi Minh,22990000,None,91,None,100,0,0,0,0,1\n"
     ]
    },
    {
     "name": "stderr",
     "output_type": "stream",
     "text": [
      "Processing rows:  62%|██████▏   | 255/414 [12:15<07:42,  2.91s/it]"
     ]
    },
    {
     "name": "stdout",
     "output_type": "stream",
     "text": [
      "dien thoai,19995000,None,None,None,Ho Chi Minh,21990000,0,97,100,33,0,0,0,0,0\n"
     ]
    },
    {
     "name": "stderr",
     "output_type": "stream",
     "text": [
      "Processing rows:  62%|██████▏   | 256/414 [12:17<07:17,  2.77s/it]"
     ]
    },
    {
     "name": "stdout",
     "output_type": "stream",
     "text": [
      "dien thoai,19990000,None,None,None,Ho Chi Minh,26990000,16500,98,85,100,0,0,0,0,0\n"
     ]
    },
    {
     "name": "stderr",
     "output_type": "stream",
     "text": [
      "Processing rows:  62%|██████▏   | 257/414 [12:20<07:19,  2.80s/it]"
     ]
    },
    {
     "name": "stdout",
     "output_type": "stream",
     "text": [
      "dien thoai,19890000,None,None,None,Ho Chi Minh,19990000,0,97,100,33,0,0,0,0,0\n"
     ]
    },
    {
     "name": "stderr",
     "output_type": "stream",
     "text": [
      "Processing rows:  62%|██████▏   | 258/414 [12:23<07:14,  2.79s/it]"
     ]
    },
    {
     "name": "stdout",
     "output_type": "stream",
     "text": [
      "dien thoai,19890000,None,None,None,Ho Chi Minh,19900000,19600,85,None,100,0,0,0,0,0\n"
     ]
    },
    {
     "name": "stderr",
     "output_type": "stream",
     "text": [
      "Processing rows:  63%|██████▎   | 259/414 [12:27<07:44,  3.00s/it]"
     ]
    },
    {
     "name": "stdout",
     "output_type": "stream",
     "text": [
      "dien thoai,19640000,None,10,4,Ho Chi Minh,22990000,18300,99,99,98,0,0,0,0,4\n"
     ]
    },
    {
     "name": "stderr",
     "output_type": "stream",
     "text": [
      "Processing rows:  63%|██████▎   | 260/414 [12:29<07:02,  2.74s/it]"
     ]
    },
    {
     "name": "stdout",
     "output_type": "stream",
     "text": [
      "dien thoai,19190000,None,None,None,Ho Chi Minh,23000000,16500,98,85,100,0,0,0,0,1\n"
     ]
    },
    {
     "name": "stderr",
     "output_type": "stream",
     "text": [
      "Processing rows:  63%|██████▎   | 261/414 [12:31<06:41,  2.63s/it]"
     ]
    },
    {
     "name": "stdout",
     "output_type": "stream",
     "text": [
      "dien thoai,19140000,None,None,None,Ho Chi Minh,22990000,16500,100,99,100,0,0,0,0,0\n"
     ]
    },
    {
     "name": "stderr",
     "output_type": "stream",
     "text": [
      "Processing rows:  63%|██████▎   | 262/414 [12:34<06:40,  2.64s/it]"
     ]
    },
    {
     "name": "stdout",
     "output_type": "stream",
     "text": [
      "dien thoai,18990000,None,None,None,Da Nang,22990000,38000,97,78,78,0,0,0,0,0\n"
     ]
    },
    {
     "name": "stderr",
     "output_type": "stream",
     "text": [
      "Processing rows:  64%|██████▎   | 263/414 [12:36<06:34,  2.61s/it]"
     ]
    },
    {
     "name": "stdout",
     "output_type": "stream",
     "text": [
      "dien thoai,18990000,None,None,None,Da Nang,22990000,38000,96,14,100,0,0,0,0,0\n"
     ]
    },
    {
     "name": "stderr",
     "output_type": "stream",
     "text": [
      "Processing rows:  64%|██████▍   | 264/414 [12:39<06:48,  2.72s/it]"
     ]
    },
    {
     "name": "stdout",
     "output_type": "stream",
     "text": [
      "dien thoai,18990000,NaN,8,3,Ho Chi Minh,32990000,18300,99,100,92,0,0,0,0,2\n"
     ]
    },
    {
     "name": "stderr",
     "output_type": "stream",
     "text": [
      "Processing rows:  64%|██████▍   | 265/414 [12:43<07:07,  2.87s/it]"
     ]
    },
    {
     "name": "stdout",
     "output_type": "stream",
     "text": [
      "dien thoai,18866000,None,None,None,Ha Noi,21299000,32700,97,None,None,0,0,0,0,0\n"
     ]
    },
    {
     "name": "stderr",
     "output_type": "stream",
     "text": [
      "Processing rows:  64%|██████▍   | 266/414 [12:46<07:34,  3.07s/it]"
     ]
    },
    {
     "name": "stdout",
     "output_type": "stream",
     "text": [
      "dien thoai,18599000,None,None,None,Ha Noi,23990000,13700,100,None,100,0,0,0,0,0\n"
     ]
    },
    {
     "name": "stderr",
     "output_type": "stream",
     "text": [
      "Processing rows:  64%|██████▍   | 267/414 [12:49<07:22,  3.01s/it]"
     ]
    },
    {
     "name": "stdout",
     "output_type": "stream",
     "text": [
      "dien thoai,17990000,None,None,None,Ho Chi Minh,None,16500,None,None,66,0,0,0,0,0\n"
     ]
    },
    {
     "name": "stderr",
     "output_type": "stream",
     "text": [
      "Processing rows:  65%|██████▍   | 268/414 [12:51<06:57,  2.86s/it]"
     ]
    },
    {
     "name": "stdout",
     "output_type": "stream",
     "text": [
      "dien thoai,17990000,None,None,None,Ben Tre,None,28700,83,None,None,0,0,0,0,0\n"
     ]
    },
    {
     "name": "stderr",
     "output_type": "stream",
     "text": [
      "Processing rows:  65%|██████▍   | 269/414 [12:54<06:51,  2.84s/it]"
     ]
    },
    {
     "name": "stdout",
     "output_type": "stream",
     "text": [
      "dien thoai,17950000,None,None,None,Ho Chi Minh,22990000,16500,98,85,100,0,0,0,0,0\n"
     ]
    },
    {
     "name": "stderr",
     "output_type": "stream",
     "text": [
      "Processing rows:  65%|██████▌   | 270/414 [12:57<07:04,  2.95s/it]"
     ]
    },
    {
     "name": "stdout",
     "output_type": "stream",
     "text": [
      "dien thoai,17800000,None,45,5,Ho Chi Minh,None,0,100,None,None,0,0,0,0,5\n"
     ]
    },
    {
     "name": "stderr",
     "output_type": "stream",
     "text": [
      "Processing rows:  65%|██████▌   | 271/414 [13:00<06:49,  2.86s/it]"
     ]
    },
    {
     "name": "stdout",
     "output_type": "stream",
     "text": [
      "dien thoai,17499000,None,None,None,Ho Chi Minh,None,16500,None,None,66,0,0,0,0,0\n"
     ]
    },
    {
     "name": "stderr",
     "output_type": "stream",
     "text": [
      "Processing rows:  66%|██████▌   | 272/414 [13:03<06:46,  2.86s/it]"
     ]
    },
    {
     "name": "stdout",
     "output_type": "stream",
     "text": [
      "dien thoai,17290000,None,None,None,Ho Chi Minh,26990000,0,98,100,100,0,0,0,0,0\n"
     ]
    },
    {
     "name": "stderr",
     "output_type": "stream",
     "text": [
      "Processing rows:  66%|██████▌   | 273/414 [13:05<06:25,  2.74s/it]"
     ]
    },
    {
     "name": "stdout",
     "output_type": "stream",
     "text": [
      "dien thoai,17020000,None,None,1,Ha Noi,22990000,None,94,None,80,0,0,0,0,1\n"
     ]
    },
    {
     "name": "stderr",
     "output_type": "stream",
     "text": [
      "Processing rows:  66%|██████▌   | 274/414 [13:08<06:20,  2.72s/it]"
     ]
    },
    {
     "name": "stdout",
     "output_type": "stream",
     "text": [
      "dien thoai,16990000,NaN,13,5,Ho Chi Minh,19990000,18300,99,100,92,0,0,0,0,5\n"
     ]
    },
    {
     "name": "stderr",
     "output_type": "stream",
     "text": [
      "Processing rows:  66%|██████▋   | 275/414 [13:11<06:22,  2.75s/it]"
     ]
    },
    {
     "name": "stdout",
     "output_type": "stream",
     "text": [
      "dien thoai,16990000,None,11,1,Ho Chi Minh,25990000,16500,97,None,37,0,0,0,0,1\n"
     ]
    },
    {
     "name": "stderr",
     "output_type": "stream",
     "text": [
      "Processing rows:  67%|██████▋   | 276/414 [13:13<06:03,  2.64s/it]"
     ]
    },
    {
     "name": "stdout",
     "output_type": "stream",
     "text": [
      "dien thoai,16990000,NaN,31,12,Ho Chi Minh,33990000,16500,97,NaN,37,0,0,0,2,10\n"
     ]
    },
    {
     "name": "stderr",
     "output_type": "stream",
     "text": [
      "Processing rows:  67%|██████▋   | 277/414 [13:17<06:47,  2.98s/it]"
     ]
    },
    {
     "name": "stdout",
     "output_type": "stream",
     "text": [
      "dien thoai,16490000,None,None,1,Ha Noi,None,13700,95,100,96,0,0,0,0,1\n"
     ]
    },
    {
     "name": "stderr",
     "output_type": "stream",
     "text": [
      "Processing rows:  67%|██████▋   | 278/414 [13:20<06:46,  2.99s/it]"
     ]
    },
    {
     "name": "stdout",
     "output_type": "stream",
     "text": [
      "dien thoai,16490000,None,968,124,Ho Chi Minh,24990000,5500,94,99,100,0,0,2,2,120\n"
     ]
    },
    {
     "name": "stderr",
     "output_type": "stream",
     "text": [
      "Processing rows:  67%|██████▋   | 279/414 [13:23<06:38,  2.95s/it]"
     ]
    },
    {
     "name": "stdout",
     "output_type": "stream",
     "text": [
      "dien thoai,15890000,None,7,1,Ha Noi,32900000,38000,91,100,100,0,0,0,0,1\n"
     ]
    },
    {
     "name": "stderr",
     "output_type": "stream",
     "text": [
      "Processing rows:  68%|██████▊   | 280/414 [13:25<06:15,  2.80s/it]"
     ]
    },
    {
     "name": "stdout",
     "output_type": "stream",
     "text": [
      "dien thoai,15580000,None,None,None,Ho Chi Minh,22900000,18300,99,99,98,0,0,0,0,0\n"
     ]
    },
    {
     "name": "stderr",
     "output_type": "stream",
     "text": [
      "Processing rows:  68%|██████▊   | 281/414 [13:28<06:07,  2.76s/it]"
     ]
    },
    {
     "name": "stdout",
     "output_type": "stream",
     "text": [
      "dien thoai,15490000,None,None,None,Da Nang,29990000,38000,97,78,78,0,0,0,0,0\n"
     ]
    },
    {
     "name": "stderr",
     "output_type": "stream",
     "text": [
      "Processing rows:  68%|██████▊   | 282/414 [13:32<06:39,  3.03s/it]"
     ]
    },
    {
     "name": "stdout",
     "output_type": "stream",
     "text": [
      "dien thoai,15390000,None,None,None,Ho Chi Minh,22990000,0,98,100,100,0,0,0,0,0\n"
     ]
    },
    {
     "name": "stderr",
     "output_type": "stream",
     "text": [
      "Processing rows:  68%|██████▊   | 283/414 [13:34<06:21,  2.91s/it]"
     ]
    },
    {
     "name": "stdout",
     "output_type": "stream",
     "text": [
      "dien thoai,14995000,None,None,None,Ho Chi Minh,15790000,0,97,100,33,0,0,0,0,0\n"
     ]
    },
    {
     "name": "stderr",
     "output_type": "stream",
     "text": [
      "Processing rows:  69%|██████▊   | 284/414 [13:37<06:21,  2.93s/it]"
     ]
    },
    {
     "name": "stdout",
     "output_type": "stream",
     "text": [
      "dien thoai,14990000,None,None,1,Ho Chi Minh,None,0,100,None,100,0,0,0,0,1\n"
     ]
    },
    {
     "name": "stderr",
     "output_type": "stream",
     "text": [
      "Processing rows:  69%|██████▉   | 285/414 [13:40<06:25,  2.98s/it]"
     ]
    },
    {
     "name": "stdout",
     "output_type": "stream",
     "text": [
      "dien thoai,14500000,None,None,None,Ho Chi Minh,None,16500,None,66,93,0,0,0,0,0\n"
     ]
    },
    {
     "name": "stderr",
     "output_type": "stream",
     "text": [
      "Processing rows:  69%|██████▉   | 286/414 [13:43<06:24,  3.00s/it]"
     ]
    },
    {
     "name": "stdout",
     "output_type": "stream",
     "text": [
      "dien thoai,14500000,None,5,None,Ha Noi,None,0,None,None,None,0,0,0,0,0\n"
     ]
    },
    {
     "name": "stderr",
     "output_type": "stream",
     "text": [
      "Processing rows:  69%|██████▉   | 287/414 [13:46<06:11,  2.93s/it]"
     ]
    },
    {
     "name": "stdout",
     "output_type": "stream",
     "text": [
      "dien thoai,14390000,None,9,None,Ha Noi,22990000,0,97,100,50,0,0,0,0,0\n"
     ]
    },
    {
     "name": "stderr",
     "output_type": "stream",
     "text": [
      "Processing rows:  70%|██████▉   | 288/414 [13:51<07:02,  3.35s/it]"
     ]
    },
    {
     "name": "stdout",
     "output_type": "stream",
     "text": [
      "dien thoai,14123403,NaN,69,18,Ha Noi,17990000,13700,95,100,96,0,1,0,0,17\n"
     ]
    },
    {
     "name": "stderr",
     "output_type": "stream",
     "text": [
      "Processing rows:  70%|██████▉   | 289/414 [13:54<06:56,  3.33s/it]"
     ]
    },
    {
     "name": "stdout",
     "output_type": "stream",
     "text": [
      "dien thoai,13990000,None,None,None,Ben Tre,None,28700,83,None,None,0,0,0,0,0\n"
     ]
    },
    {
     "name": "stderr",
     "output_type": "stream",
     "text": [
      "Processing rows:  70%|███████   | 290/414 [13:57<06:33,  3.17s/it]"
     ]
    },
    {
     "name": "stdout",
     "output_type": "stream",
     "text": [
      "dien thoai,13990000,None,None,None,Ho Chi Minh,None,16500,100,99,100,0,0,0,0,0\n"
     ]
    },
    {
     "name": "stderr",
     "output_type": "stream",
     "text": [
      "Processing rows:  70%|███████   | 291/414 [13:59<06:02,  2.94s/it]"
     ]
    },
    {
     "name": "stdout",
     "output_type": "stream",
     "text": [
      "dien thoai,13990000,None,32,2,Ho Chi Minh,18990000,18300,99,100,92,0,0,0,0,2\n"
     ]
    },
    {
     "name": "stderr",
     "output_type": "stream",
     "text": [
      "Processing rows:  71%|███████   | 292/414 [14:02<06:02,  2.97s/it]"
     ]
    },
    {
     "name": "stdout",
     "output_type": "stream",
     "text": [
      "dien thoai,13878080,None,7,None,Ho Chi Minh,21990000,18300,97,None,57,0,0,0,0,0\n"
     ]
    },
    {
     "name": "stderr",
     "output_type": "stream",
     "text": [
      "Processing rows:  71%|███████   | 293/414 [14:04<05:35,  2.77s/it]"
     ]
    },
    {
     "name": "stdout",
     "output_type": "stream",
     "text": [
      "dien thoai,13500000,None,None,None,Ho Chi Minh,None,16500,None,66,93,0,0,0,0,0\n"
     ]
    },
    {
     "name": "stderr",
     "output_type": "stream",
     "text": [
      "Processing rows:  71%|███████   | 294/414 [14:06<05:02,  2.52s/it]"
     ]
    },
    {
     "name": "stdout",
     "output_type": "stream",
     "text": [
      "dien thoai,13400000,None,None,None,Nam Định,None,37700,87,66,100,0,0,0,0,0\n"
     ]
    },
    {
     "name": "stderr",
     "output_type": "stream",
     "text": [
      "Processing rows:  71%|███████▏  | 295/414 [14:09<05:03,  2.55s/it]"
     ]
    },
    {
     "name": "stdout",
     "output_type": "stream",
     "text": [
      "dien thoai,13200000,None,None,None,Ho Chi Minh,None,16500,None,66,93,0,0,0,0,0\n"
     ]
    },
    {
     "name": "stderr",
     "output_type": "stream",
     "text": [
      "Processing rows:  71%|███████▏  | 296/414 [14:12<05:17,  2.69s/it]"
     ]
    },
    {
     "name": "stdout",
     "output_type": "stream",
     "text": [
      "dien thoai,13190000,None,None,None,Ha Noi,24550000,38000,91,100,100,0,0,0,0,0\n"
     ]
    },
    {
     "name": "stderr",
     "output_type": "stream",
     "text": [
      "Processing rows:  72%|███████▏  | 297/414 [14:15<05:25,  2.78s/it]"
     ]
    },
    {
     "name": "stdout",
     "output_type": "stream",
     "text": [
      "dien thoai,12998500,NaN,16,2,Ho Chi Minh,16890500,NaN,91,NaN,100,0,0,0,1,2\n"
     ]
    },
    {
     "name": "stderr",
     "output_type": "stream",
     "text": [
      "Processing rows:  72%|███████▏  | 298/414 [14:18<05:41,  2.94s/it]"
     ]
    },
    {
     "name": "stdout",
     "output_type": "stream",
     "text": [
      "dien thoai,12990000,None,None,None,Ho Chi Minh,16990000,16500,None,None,66,0,0,0,0,0\n"
     ]
    },
    {
     "name": "stderr",
     "output_type": "stream",
     "text": [
      "Processing rows:  72%|███████▏  | 299/414 [14:21<05:16,  2.75s/it]"
     ]
    },
    {
     "name": "stdout",
     "output_type": "stream",
     "text": [
      "dien thoai,12940000,None,None,None,Ha Noi,16890000,38000,98,100,94,0,0,0,0,0\n"
     ]
    },
    {
     "name": "stderr",
     "output_type": "stream",
     "text": [
      "Processing rows:  72%|███████▏  | 300/414 [14:23<04:51,  2.55s/it]"
     ]
    },
    {
     "name": "stdout",
     "output_type": "stream",
     "text": [
      "dien thoai,12890000,None,None,None,Ha Noi,None,13700,95,100,96,0,0,0,0,0\n"
     ]
    },
    {
     "name": "stderr",
     "output_type": "stream",
     "text": [
      "Processing rows:  73%|███████▎  | 301/414 [14:25<04:57,  2.63s/it]"
     ]
    },
    {
     "name": "stdout",
     "output_type": "stream",
     "text": [
      "dien thoai,12690000,None,12,2,Ho Chi Minh,25990000,16500,97,None,57,0,0,0,0,2\n"
     ]
    },
    {
     "name": "stderr",
     "output_type": "stream",
     "text": [
      "Processing rows:  73%|███████▎  | 302/414 [14:28<04:54,  2.63s/it]"
     ]
    },
    {
     "name": "stdout",
     "output_type": "stream",
     "text": [
      "dien thoai,12389000,None,None,None,Nam Định,None,43900,None,None,None,0,0,0,0,0\n"
     ]
    },
    {
     "name": "stderr",
     "output_type": "stream",
     "text": [
      "Processing rows:  73%|███████▎  | 303/414 [14:30<04:37,  2.50s/it]"
     ]
    },
    {
     "name": "stdout",
     "output_type": "stream",
     "text": [
      "dien thoai,12290000,None,None,1,Ha Noi,19200000,38000,91,100,100,0,0,0,0,1\n"
     ]
    },
    {
     "name": "stderr",
     "output_type": "stream",
     "text": [
      "Processing rows:  73%|███████▎  | 304/414 [14:33<04:45,  2.59s/it]"
     ]
    },
    {
     "name": "stdout",
     "output_type": "stream",
     "text": [
      "dien thoai,12200000,None,None,1,Ha Noi,14900000,None,94,None,80,0,0,0,0,1\n"
     ]
    },
    {
     "name": "stderr",
     "output_type": "stream",
     "text": [
      "Processing rows:  74%|███████▎  | 305/414 [14:36<04:45,  2.62s/it]"
     ]
    },
    {
     "name": "stdout",
     "output_type": "stream",
     "text": [
      "dien thoai,12200000,None,5,None,Ha Noi,16890500,None,92,None,50,0,0,0,0,0\n"
     ]
    },
    {
     "name": "stderr",
     "output_type": "stream",
     "text": [
      "Processing rows:  74%|███████▍  | 306/414 [14:38<04:44,  2.63s/it]"
     ]
    },
    {
     "name": "stdout",
     "output_type": "stream",
     "text": [
      "dien thoai,11990000,None,None,None,Tien Giang,14500000,28700,97,100,100,0,0,0,0,0\n"
     ]
    },
    {
     "name": "stderr",
     "output_type": "stream",
     "text": [
      "Processing rows:  74%|███████▍  | 307/414 [14:41<04:24,  2.47s/it]"
     ]
    },
    {
     "name": "stdout",
     "output_type": "stream",
     "text": [
      "dien thoai,11990000,None,None,None,Ho Chi Minh,12990000,18300,85,None,100,0,0,0,0,0\n"
     ]
    },
    {
     "name": "stderr",
     "output_type": "stream",
     "text": [
      "Processing rows:  74%|███████▍  | 308/414 [14:43<04:23,  2.49s/it]"
     ]
    },
    {
     "name": "stdout",
     "output_type": "stream",
     "text": [
      "dien thoai,11989000,95,16,Ho Chi Minh,14890000,16500,91,99,100,1,0,0,0,15\n"
     ]
    },
    {
     "name": "stderr",
     "output_type": "stream",
     "text": [
      "Processing rows:  75%|███████▍  | 309/414 [14:46<04:29,  2.57s/it]"
     ]
    },
    {
     "name": "stdout",
     "output_type": "stream",
     "text": [
      "dien thoai,11980000,None,None,None,Ho Chi Minh,12990000,0,97,100,33,0,0,0,0,0\n"
     ]
    },
    {
     "name": "stderr",
     "output_type": "stream",
     "text": [
      "Processing rows:  75%|███████▍  | 310/414 [14:49<04:36,  2.66s/it]"
     ]
    },
    {
     "name": "stdout",
     "output_type": "stream",
     "text": [
      "dien thoai,11980000,None,None,None,Ho Chi Minh,12990000,0,97,100,33,0,0,0,0,0\n"
     ]
    },
    {
     "name": "stderr",
     "output_type": "stream",
     "text": [
      "Processing rows:  75%|███████▌  | 311/414 [14:52<04:45,  2.77s/it]"
     ]
    },
    {
     "name": "stdout",
     "output_type": "stream",
     "text": [
      "dien thoai,11800000,None,None,None,Nam Dinh,None,37700,87,66,100,0,0,0,0,0\n"
     ]
    },
    {
     "name": "stderr",
     "output_type": "stream",
     "text": [
      "Processing rows:  75%|███████▌  | 312/414 [14:54<04:25,  2.60s/it]"
     ]
    },
    {
     "name": "stdout",
     "output_type": "stream",
     "text": [
      "dien thoai,11700000,None,None,None,Ho Chi Minh,None,16500,None,66,93,0,0,0,0,0\n"
     ]
    },
    {
     "name": "stderr",
     "output_type": "stream",
     "text": [
      "Processing rows:  76%|███████▌  | 313/414 [14:57<04:45,  2.82s/it]"
     ]
    },
    {
     "name": "stdout",
     "output_type": "stream",
     "text": [
      "dien thoai,11680000,NaN,35,8,Ho Chi Minh,12990000,18300,98,100,94,0,0,0,0,9\n"
     ]
    },
    {
     "name": "stderr",
     "output_type": "stream",
     "text": [
      "Processing rows:  76%|███████▌  | 314/414 [15:00<04:43,  2.83s/it]"
     ]
    },
    {
     "name": "stdout",
     "output_type": "stream",
     "text": [
      "dien thoai,11617600,None,33,2,Ho Chi Minh,14889600,None,91,None,100,0,0,0,0,3\n"
     ]
    },
    {
     "name": "stderr",
     "output_type": "stream",
     "text": [
      "Processing rows:  76%|███████▌  | 315/414 [15:03<04:33,  2.77s/it]"
     ]
    },
    {
     "name": "stdout",
     "output_type": "stream",
     "text": [
      "dien thoai,11489000,4,818,Ho Chi Minh,24990000,5500,94,99,100,16,7,11,30,754\n"
     ]
    },
    {
     "name": "stderr",
     "output_type": "stream",
     "text": [
      "Processing rows:  76%|███████▋  | 316/414 [15:06<04:38,  2.84s/it]"
     ]
    },
    {
     "name": "stdout",
     "output_type": "stream",
     "text": [
      "dien thoai,11390000,None,None,1,Ha Noi,12490000,13700,95,100,96,0,0,0,0,1\n"
     ]
    },
    {
     "name": "stderr",
     "output_type": "stream",
     "text": [
      "Processing rows:  77%|███████▋  | 317/414 [15:09<04:47,  2.96s/it]"
     ]
    },
    {
     "name": "stdout",
     "output_type": "stream",
     "text": [
      "dien thoai,11250000,None,None,None,Ha Noi,13350000,38000,91,100,100,0,0,0,0,0\n"
     ]
    },
    {
     "name": "stderr",
     "output_type": "stream",
     "text": [
      "Processing rows:  77%|███████▋  | 318/414 [15:12<04:42,  2.94s/it]"
     ]
    },
    {
     "name": "stdout",
     "output_type": "stream",
     "text": [
      "dien thoai,11148000,NaN,32,1,Ho Chi Minh,11990000,16500,99,100,75,0,0,0,0,1\n"
     ]
    },
    {
     "name": "stderr",
     "output_type": "stream",
     "text": [
      "Processing rows:  77%|███████▋  | 319/414 [15:15<04:37,  2.92s/it]"
     ]
    },
    {
     "name": "stdout",
     "output_type": "stream",
     "text": [
      "dien thoai,11078000,None,None,None,Ho Chi Minh,13990000,16500,100,99,100,0,0,0,0,0\n"
     ]
    },
    {
     "name": "stderr",
     "output_type": "stream",
     "text": [
      "Processing rows:  77%|███████▋  | 320/414 [15:17<04:18,  2.75s/it]"
     ]
    },
    {
     "name": "stdout",
     "output_type": "stream",
     "text": [
      "dien thoai,11039000,None,None,0,Ben Tre,14890000,28700,98,100,100,0,0,0,0,1\n"
     ]
    },
    {
     "name": "stderr",
     "output_type": "stream",
     "text": [
      "Processing rows:  78%|███████▊  | 321/414 [15:19<04:03,  2.61s/it]"
     ]
    },
    {
     "name": "stdout",
     "output_type": "stream",
     "text": [
      "dien thoai,10990000,None,15,1,Ho Chi Minh,None,18300,99,99,98,0,0,0,0,1\n"
     ]
    },
    {
     "name": "stderr",
     "output_type": "stream",
     "text": [
      "Processing rows:  78%|███████▊  | 322/414 [15:22<04:12,  2.74s/it]"
     ]
    },
    {
     "name": "stdout",
     "output_type": "stream",
     "text": [
      "dien thoai,10990000,None,None,None,Da Nang,14990000,0,93,None,100,0,0,0,0,0\n"
     ]
    },
    {
     "name": "stderr",
     "output_type": "stream",
     "text": [
      "Processing rows:  78%|███████▊  | 323/414 [15:25<04:14,  2.80s/it]"
     ]
    },
    {
     "name": "stdout",
     "output_type": "stream",
     "text": [
      "dien thoai,10990000,None,5,1,Ho Chi Minh,16900000,18300,96,75,85,0,0,0,0,1\n"
     ]
    },
    {
     "name": "stderr",
     "output_type": "stream",
     "text": [
      "Processing rows:  78%|███████▊  | 324/414 [15:29<04:27,  2.98s/it]"
     ]
    },
    {
     "name": "stdout",
     "output_type": "stream",
     "text": [
      "dien thoai,10990000,None,None,None,Da Nang,14990000,38000,97,78,78,0,0,0,0,0\n"
     ]
    },
    {
     "name": "stderr",
     "output_type": "stream",
     "text": [
      "Processing rows:  79%|███████▊  | 325/414 [15:32<04:21,  2.94s/it]"
     ]
    },
    {
     "name": "stdout",
     "output_type": "stream",
     "text": [
      "dien thoai,10990000,None,None,1,Ho Chi Minh,12990000,18300,85,None,100,0,0,0,0,1\n"
     ]
    },
    {
     "name": "stderr",
     "output_type": "stream",
     "text": [
      "Processing rows:  79%|███████▊  | 326/414 [15:35<04:38,  3.17s/it]"
     ]
    },
    {
     "name": "stdout",
     "output_type": "stream",
     "text": [
      "dien thoai,10890000,NaN,5,2,Ha Noi,17999000,26100,100,NaN,100,0,0,0,0,2\n"
     ]
    },
    {
     "name": "stderr",
     "output_type": "stream",
     "text": [
      "Processing rows:  79%|███████▉  | 327/414 [15:38<04:22,  3.02s/it]"
     ]
    },
    {
     "name": "stdout",
     "output_type": "stream",
     "text": [
      "dien thoai,10839000,None,None,None,Ben Tre,14890000,28700,97,100,100,0,0,0,0,0\n"
     ]
    },
    {
     "name": "stderr",
     "output_type": "stream",
     "text": [
      "Processing rows:  79%|███████▉  | 328/414 [15:40<04:00,  2.80s/it]"
     ]
    },
    {
     "name": "stdout",
     "output_type": "stream",
     "text": [
      "dien thoai,10800000,None,None,None,Ho Chi Minh,None,16500,None,66,93,0,0,0,0,0\n"
     ]
    },
    {
     "name": "stderr",
     "output_type": "stream",
     "text": [
      "Processing rows:  79%|███████▉  | 329/414 [15:43<03:57,  2.79s/it]"
     ]
    },
    {
     "name": "stdout",
     "output_type": "stream",
     "text": [
      "dien thoai,10791000,None,None,None,Ha Noi,11990000,None,94,None,80,0,0,0,0,0\n"
     ]
    },
    {
     "name": "stderr",
     "output_type": "stream",
     "text": [
      "Processing rows:  80%|███████▉  | 330/414 [15:45<03:43,  2.66s/it]"
     ]
    },
    {
     "name": "stdout",
     "output_type": "stream",
     "text": [
      "dien thoai,10782000,None,5,None,Ha Noi,12980000,None,92,None,50,0,0,0,0,0\n"
     ]
    },
    {
     "name": "stderr",
     "output_type": "stream",
     "text": [
      "Processing rows:  80%|███████▉  | 331/414 [15:48<03:37,  2.62s/it]"
     ]
    },
    {
     "name": "stdout",
     "output_type": "stream",
     "text": [
      "dien thoai,10560000,None,None,None,Ho Chi Minh,None,19600,100,None,None,0,0,0,0,0\n"
     ]
    },
    {
     "name": "stderr",
     "output_type": "stream",
     "text": [
      "Processing rows:  80%|████████  | 332/414 [15:51<03:44,  2.74s/it]"
     ]
    },
    {
     "name": "stdout",
     "output_type": "stream",
     "text": [
      "dien thoai,10500000,None,None,None,Ho Chi Minh,None,16500,None,66,93,0,0,0,0,0\n"
     ]
    },
    {
     "name": "stderr",
     "output_type": "stream",
     "text": [
      "Processing rows:  80%|████████  | 333/414 [15:54<03:38,  2.70s/it]"
     ]
    },
    {
     "name": "stdout",
     "output_type": "stream",
     "text": [
      "dien thoai,10490000,None,None,None,Ho Chi Minh,None,16500,99,100,None,0,0,0,0,0\n"
     ]
    },
    {
     "name": "stderr",
     "output_type": "stream",
     "text": [
      "Processing rows:  81%|████████  | 334/414 [15:56<03:27,  2.60s/it]"
     ]
    },
    {
     "name": "stdout",
     "output_type": "stream",
     "text": [
      "dien thoai,10490000,None,None,None,Ho Chi Minh,None,16500,100,99,100,0,0,0,0,0\n"
     ]
    },
    {
     "name": "stderr",
     "output_type": "stream",
     "text": [
      "Processing rows:  81%|████████  | 335/414 [15:59<03:31,  2.68s/it]"
     ]
    },
    {
     "name": "stdout",
     "output_type": "stream",
     "text": [
      "dien thoai,10690000,None,None,None,Da Nang,11990000,27000,100,50,100,0,0,0,0,0\n"
     ]
    },
    {
     "name": "stderr",
     "output_type": "stream",
     "text": [
      "Processing rows:  81%|████████  | 336/414 [16:02<03:29,  2.69s/it]"
     ]
    },
    {
     "name": "stdout",
     "output_type": "stream",
     "text": [
      "dien thoai,10490000,None,None,None,Da Nang,11990000,38000,97,78,78,0,0,0,0,0\n"
     ]
    },
    {
     "name": "stderr",
     "output_type": "stream",
     "text": [
      "Processing rows:  81%|████████▏ | 337/414 [16:04<03:23,  2.65s/it]"
     ]
    },
    {
     "name": "stdout",
     "output_type": "stream",
     "text": [
      "dien thoai,10490000,None,None,None,Da Nang,12990000,38000,97,78,78,0,0,0,0,0\n"
     ]
    },
    {
     "name": "stderr",
     "output_type": "stream",
     "text": [
      "Processing rows:  82%|████████▏ | 338/414 [16:07<03:26,  2.72s/it]"
     ]
    },
    {
     "name": "stdout",
     "output_type": "stream",
     "text": [
      "dien thoai,10490000,NaN,245,39,Ho Chi Minh,21990000,18300,91,99,100,2,0,0,2,35\n"
     ]
    },
    {
     "name": "stderr",
     "output_type": "stream",
     "text": [
      "Processing rows:  82%|████████▏ | 339/414 [16:10<03:22,  2.69s/it]"
     ]
    },
    {
     "name": "stdout",
     "output_type": "stream",
     "text": [
      "dien thoai,10471047,NaN,70,3,Ho Chi Minh,15990000,18300,98,100,100,0,0,0,0,3\n"
     ]
    },
    {
     "name": "stderr",
     "output_type": "stream",
     "text": [
      "Processing rows:  82%|████████▏ | 340/414 [16:12<03:15,  2.64s/it]"
     ]
    },
    {
     "name": "stdout",
     "output_type": "stream",
     "text": [
      "dien thoai,10235000,None,None,None,Da Nang,14990000,38000,97,78,78,0,0,0,0,0\n"
     ]
    },
    {
     "name": "stderr",
     "output_type": "stream",
     "text": [
      "Processing rows:  82%|████████▏ | 341/414 [16:15<03:20,  2.75s/it]"
     ]
    },
    {
     "name": "stdout",
     "output_type": "stream",
     "text": [
      "dien thoai,10200000,None,None,None,Ho Chi Minh,None,16500,None,66,93,0,0,0,0,0\n"
     ]
    },
    {
     "name": "stderr",
     "output_type": "stream",
     "text": [
      "Processing rows:  83%|████████▎ | 342/414 [16:18<03:18,  2.76s/it]"
     ]
    },
    {
     "name": "stdout",
     "output_type": "stream",
     "text": [
      "dien thoai,10099000,None,None,1,Ha Noi,13000000,38000,97,None,None,0,0,0,0,1\n"
     ]
    },
    {
     "name": "stderr",
     "output_type": "stream",
     "text": [
      "Processing rows:  83%|████████▎ | 343/414 [16:20<03:07,  2.64s/it]"
     ]
    },
    {
     "name": "stdout",
     "output_type": "stream",
     "text": [
      "dien thoai,10085523,NaN,45,3,Ha Noi,12090000,13700,95,100,96,0,0,0,0,3\n"
     ]
    },
    {
     "name": "stderr",
     "output_type": "stream",
     "text": [
      "Processing rows:  83%|████████▎ | 344/414 [16:23<02:59,  2.57s/it]"
     ]
    },
    {
     "name": "stdout",
     "output_type": "stream",
     "text": [
      "dien thoai,9990000,None,None,None,Da Nang,10990000,45100,96,14,100,0,0,0,0,0\n"
     ]
    },
    {
     "name": "stderr",
     "output_type": "stream",
     "text": [
      "Processing rows:  83%|████████▎ | 345/414 [16:25<03:00,  2.62s/it]"
     ]
    },
    {
     "name": "stdout",
     "output_type": "stream",
     "text": [
      "dien thoai,9990000,None,None,None,Ho Chi Minh,12000000,16500,98,85,100,0,0,0,0,0\n"
     ]
    },
    {
     "name": "stderr",
     "output_type": "stream",
     "text": [
      "Processing rows:  84%|████████▎ | 346/414 [16:28<03:01,  2.67s/it]"
     ]
    },
    {
     "name": "stdout",
     "output_type": "stream",
     "text": [
      "dien thoai,9990000,None,None,None,Ha Noi,None,None,94,None,80,0,0,0,0,0\n"
     ]
    },
    {
     "name": "stderr",
     "output_type": "stream",
     "text": [
      "Processing rows:  84%|████████▍ | 347/414 [16:31<03:00,  2.69s/it]"
     ]
    },
    {
     "name": "stdout",
     "output_type": "stream",
     "text": [
      "dien thoai,9990000,None,None,None,Da Nang,None,32700,100,80,None,0,0,0,0,0\n"
     ]
    },
    {
     "name": "stderr",
     "output_type": "stream",
     "text": [
      "Processing rows:  84%|████████▍ | 348/414 [16:33<02:53,  2.62s/it]"
     ]
    },
    {
     "name": "stdout",
     "output_type": "stream",
     "text": [
      "dien thoai,9990000,None,7,None,Ho Chi Minh,12890000,0,98,100,100,0,0,0,0,0\n"
     ]
    },
    {
     "name": "stderr",
     "output_type": "stream",
     "text": [
      "Processing rows:  84%|████████▍ | 349/414 [16:36<02:50,  2.63s/it]"
     ]
    },
    {
     "name": "stdout",
     "output_type": "stream",
     "text": [
      "dien thoai,9890000,None,38,12,Binh Duong,12490000,None,98,None,97,0,0,1,1,11\n"
     ]
    },
    {
     "name": "stderr",
     "output_type": "stream",
     "text": [
      "Processing rows:  85%|████████▍ | 350/414 [16:39<02:48,  2.63s/it]"
     ]
    },
    {
     "name": "stdout",
     "output_type": "stream",
     "text": [
      "dien thoai,9990000,None,7,None,Ha Noi,None,0,100,None,None,0,0,0,0,0\n"
     ]
    },
    {
     "name": "stderr",
     "output_type": "stream",
     "text": [
      "Processing rows:  85%|████████▍ | 351/414 [16:42<02:56,  2.81s/it]"
     ]
    },
    {
     "name": "stdout",
     "output_type": "stream",
     "text": [
      "dien thoai,9895000,None,None,None,Ha Noi,9900000,0,91,50,71,1,0,0,0,0\n"
     ]
    },
    {
     "name": "stderr",
     "output_type": "stream",
     "text": [
      "Processing rows:  85%|████████▌ | 352/414 [16:44<02:45,  2.67s/it]"
     ]
    },
    {
     "name": "stdout",
     "output_type": "stream",
     "text": [
      "dien thoai,9890000,None,9,5,Tien Giang,15900000,28700,97,100,100,0,0,1,0,4\n"
     ]
    },
    {
     "name": "stderr",
     "output_type": "stream",
     "text": [
      "Processing rows:  85%|████████▌ | 353/414 [16:46<02:33,  2.51s/it]"
     ]
    },
    {
     "name": "stdout",
     "output_type": "stream",
     "text": [
      "dien thoai,9790000,None,None,None,Ho Chi Minh,9900000,18300,99,99,98,0,0,0,0,0\n"
     ]
    },
    {
     "name": "stderr",
     "output_type": "stream",
     "text": [
      "Processing rows:  86%|████████▌ | 354/414 [16:49<02:33,  2.56s/it]"
     ]
    },
    {
     "name": "stdout",
     "output_type": "stream",
     "text": [
      "dien thoai,9675000,None,None,None,Ho Chi Minh,None,16500,None,None,66,0,0,0,0,0\n"
     ]
    },
    {
     "name": "stderr",
     "output_type": "stream",
     "text": [
      "Processing rows:  86%|████████▌ | 355/414 [16:51<02:27,  2.50s/it]"
     ]
    },
    {
     "name": "stdout",
     "output_type": "stream",
     "text": [
      "dien thoai,9590000,None,None,None,Ho Chi Minh,10500000,16500,96,75,85,0,0,0,0,0\n"
     ]
    },
    {
     "name": "stderr",
     "output_type": "stream",
     "text": [
      "Processing rows:  86%|████████▌ | 356/414 [16:55<02:38,  2.74s/it]"
     ]
    },
    {
     "name": "stdout",
     "output_type": "stream",
     "text": [
      "dien thoai,9590000,None,None,0,Tien Giang,10800000,28700,97,100,100,0,0,0,0,1\n"
     ]
    },
    {
     "name": "stderr",
     "output_type": "stream",
     "text": [
      "Processing rows:  86%|████████▌ | 357/414 [16:58<02:37,  2.77s/it]"
     ]
    },
    {
     "name": "stdout",
     "output_type": "stream",
     "text": [
      "dien thoai,9590000,None,None,None,Ho Chi Minh,9990000,0,97,100,33,0,0,0,0,0\n"
     ]
    },
    {
     "name": "stderr",
     "output_type": "stream",
     "text": [
      "Processing rows:  86%|████████▋ | 358/414 [17:00<02:32,  2.73s/it]"
     ]
    },
    {
     "name": "stdout",
     "output_type": "stream",
     "text": [
      "dien thoai,9500000,None,None,None,Nam Dinh,None,37700,87,66,100,0,0,0,0,0\n"
     ]
    },
    {
     "name": "stderr",
     "output_type": "stream",
     "text": [
      "Processing rows:  87%|████████▋ | 359/414 [17:03<02:30,  2.74s/it]"
     ]
    },
    {
     "name": "stdout",
     "output_type": "stream",
     "text": [
      "dien thoai,9499000,None,None,None,Ho Chi Minh,10499000,0,82,None,100,0,0,0,0,0\n"
     ]
    },
    {
     "name": "stderr",
     "output_type": "stream",
     "text": [
      "Processing rows:  87%|████████▋ | 360/414 [17:05<02:24,  2.67s/it]"
     ]
    },
    {
     "name": "stdout",
     "output_type": "stream",
     "text": [
      "dien thoai,9490000,None,None,None,Ho Chi Minh,9990000,18300,85,None,100,0,0,0,0,0\n"
     ]
    },
    {
     "name": "stderr",
     "output_type": "stream",
     "text": [
      "Processing rows:  87%|████████▋ | 361/414 [17:09<02:40,  3.03s/it]"
     ]
    },
    {
     "name": "stdout",
     "output_type": "stream",
     "text": [
      "dien thoai,9480000,None,None,None,Ho Chi Minh,10990000,0,100,None,100,0,0,0,0,0\n"
     ]
    },
    {
     "name": "stderr",
     "output_type": "stream",
     "text": [
      "Processing rows:  87%|████████▋ | 362/414 [17:12<02:38,  3.04s/it]"
     ]
    },
    {
     "name": "stdout",
     "output_type": "stream",
     "text": [
      "dien thoai,9390000,None,None,1,Vinh Phuc,11250000,43900,100,100,97,0,0,0,0,1\n"
     ]
    },
    {
     "name": "stderr",
     "output_type": "stream",
     "text": [
      "Processing rows:  88%|████████▊ | 363/414 [17:16<02:48,  3.30s/it]"
     ]
    },
    {
     "name": "stdout",
     "output_type": "stream",
     "text": [
      "dien thoai,9351363,None,38,13,Ha Noi,10790000,13700,95,100,96,0,0,0,0,13\n"
     ]
    },
    {
     "name": "stderr",
     "output_type": "stream",
     "text": [
      "Processing rows:  88%|████████▊ | 364/414 [17:20<02:47,  3.35s/it]"
     ]
    },
    {
     "name": "stdout",
     "output_type": "stream",
     "text": [
      "dien thoai,9350000,None,35,18,Ha Noi,17000000,32700,91,100,100,0,0,0,0,19\n"
     ]
    },
    {
     "name": "stderr",
     "output_type": "stream",
     "text": [
      "Processing rows:  88%|████████▊ | 365/414 [17:22<02:31,  3.08s/it]"
     ]
    },
    {
     "name": "stdout",
     "output_type": "stream",
     "text": [
      "dien thoai,9300000,None,None,None,Ho Chi Minh,None,16500,None,66,93,0,0,0,0,0\n"
     ]
    },
    {
     "name": "stderr",
     "output_type": "stream",
     "text": [
      "Processing rows:  88%|████████▊ | 366/414 [17:25<02:27,  3.08s/it]"
     ]
    },
    {
     "name": "stdout",
     "output_type": "stream",
     "text": [
      "dien thoai,9290000,None,None,None,Da Nang,12990000,38000,96,14,100,0,0,0,0,0\n"
     ]
    },
    {
     "name": "stderr",
     "output_type": "stream",
     "text": [
      "Processing rows:  89%|████████▊ | 367/414 [17:28<02:19,  2.96s/it]"
     ]
    },
    {
     "name": "stdout",
     "output_type": "stream",
     "text": [
      "dien thoai,9150000,None,None,None,Ho Chi Minh,10990000,16500,98,85,100,0,0,0,0,0\n"
     ]
    },
    {
     "name": "stderr",
     "output_type": "stream",
     "text": [
      "Processing rows:  89%|████████▉ | 368/414 [17:31<02:13,  2.90s/it]"
     ]
    },
    {
     "name": "stdout",
     "output_type": "stream",
     "text": [
      "dien thoai,9090000,NaN,535,126,Ha Noi,11990000,38000,99,100,91,1,0,0,2,123\n"
     ]
    },
    {
     "name": "stderr",
     "output_type": "stream",
     "text": [
      "Processing rows:  89%|████████▉ | 369/414 [17:34<02:16,  3.04s/it]"
     ]
    },
    {
     "name": "stdout",
     "output_type": "stream",
     "text": [
      "dien thoai,8990000,None,None,None,Ha Noi,9990000,38000,98,100,94,0,0,0,0,0\n"
     ]
    },
    {
     "name": "stderr",
     "output_type": "stream",
     "text": [
      "Processing rows:  89%|████████▉ | 370/414 [17:37<02:16,  3.11s/it]"
     ]
    },
    {
     "name": "stdout",
     "output_type": "stream",
     "text": [
      "dien thoai,8990000,None,None,None,Ho Chi Minh,9990000,0,97,100,33,0,0,0,0,0\n"
     ]
    },
    {
     "name": "stderr",
     "output_type": "stream",
     "text": [
      "Processing rows:  90%|████████▉ | 371/414 [17:40<02:08,  2.98s/it]"
     ]
    },
    {
     "name": "stdout",
     "output_type": "stream",
     "text": [
      "dien thoai,8990000,None,None,None,Ho Chi Minh,None,45100,100,100,100,0,0,0,0,0\n"
     ]
    },
    {
     "name": "stderr",
     "output_type": "stream",
     "text": [
      "Processing rows:  90%|████████▉ | 372/414 [17:43<02:00,  2.88s/it]"
     ]
    },
    {
     "name": "stdout",
     "output_type": "stream",
     "text": [
      "dien thoai,8990000,None,None,None,Ho Chi Minh,9990000,19600,85,None,100,0,0,0,0,0\n"
     ]
    },
    {
     "name": "stderr",
     "output_type": "stream",
     "text": [
      "Processing rows:  90%|█████████ | 373/414 [17:46<01:58,  2.89s/it]"
     ]
    },
    {
     "name": "stdout",
     "output_type": "stream",
     "text": [
      "dien thoai,8990000,27,5,Ho Chi Minh,11490000,18300,99,99,98,0,0,0,0,5\n"
     ]
    },
    {
     "name": "stderr",
     "output_type": "stream",
     "text": [
      "Processing rows:  90%|█████████ | 374/414 [17:49<01:58,  2.96s/it]"
     ]
    },
    {
     "name": "stdout",
     "output_type": "stream",
     "text": [
      "dien thoai,8990000,None,None,1,Ho Chi Minh,9000000,0,97,100,33,0,0,0,0,1\n"
     ]
    },
    {
     "name": "stderr",
     "output_type": "stream",
     "text": [
      "Processing rows:  91%|█████████ | 375/414 [17:52<01:53,  2.92s/it]"
     ]
    },
    {
     "name": "stdout",
     "output_type": "stream",
     "text": [
      "dien thoai,14089000,NaN,67,6,Ho Chi Minh,16900000,18300,98,100,100,0,0,0,0,6\n"
     ]
    },
    {
     "name": "stderr",
     "output_type": "stream",
     "text": [
      "Processing rows:  91%|█████████ | 376/414 [17:54<01:49,  2.87s/it]"
     ]
    },
    {
     "name": "stdout",
     "output_type": "stream",
     "text": [
      "dien thoai,10490000,None,None,None,Dak Nong,None,32200,None,None,None,0,0,0,0,0\n"
     ]
    },
    {
     "name": "stderr",
     "output_type": "stream",
     "text": [
      "Processing rows:  91%|█████████ | 377/414 [17:57<01:39,  2.69s/it]"
     ]
    },
    {
     "name": "stdout",
     "output_type": "stream",
     "text": [
      "dien thoai,10450000,None,None,None,Ha Noi,14900000,38000,91,100,100,0,0,0,0,0\n"
     ]
    },
    {
     "name": "stderr",
     "output_type": "stream",
     "text": [
      "Processing rows:  91%|█████████▏| 378/414 [17:59<01:32,  2.56s/it]"
     ]
    },
    {
     "name": "stdout",
     "output_type": "stream",
     "text": [
      "dien thoai,10290000,None,None,None,Ha Noi,16000000,38000,91,100,100,0,0,0,0,0\n"
     ]
    },
    {
     "name": "stderr",
     "output_type": "stream",
     "text": [
      "Processing rows:  92%|█████████▏| 379/414 [18:01<01:26,  2.48s/it]"
     ]
    },
    {
     "name": "stdout",
     "output_type": "stream",
     "text": [
      "dien thoai,10266000,None,None,None,Ho Chi Minh,10990000,16500,100,99,100,0,0,0,0,0\n"
     ]
    },
    {
     "name": "stderr",
     "output_type": "stream",
     "text": [
      "Processing rows:  92%|█████████▏| 380/414 [18:04<01:26,  2.54s/it]"
     ]
    },
    {
     "name": "stdout",
     "output_type": "stream",
     "text": [
      "dien thoai,10100000,NaN,6,2,Ha Noi,10990000,18300,98,100,94,0,0,0,0,2\n"
     ]
    },
    {
     "name": "stderr",
     "output_type": "stream",
     "text": [
      "Processing rows:  92%|█████████▏| 381/414 [18:07<01:29,  2.73s/it]"
     ]
    },
    {
     "name": "stdout",
     "output_type": "stream",
     "text": [
      "dien thoai,9990000,None,None,None,Ho Chi Minh,None,16500,None,None,66,0,0,0,0,0\n"
     ]
    },
    {
     "name": "stderr",
     "output_type": "stream",
     "text": [
      "Processing rows:  92%|█████████▏| 382/414 [18:10<01:27,  2.73s/it]"
     ]
    },
    {
     "name": "stdout",
     "output_type": "stream",
     "text": [
      "dien thoai,9500000,None,None,None,Ha Noi,13900000,0,75,None,None,0,0,0,0,0\n"
     ]
    },
    {
     "name": "stderr",
     "output_type": "stream",
     "text": [
      "Processing rows:  93%|█████████▎| 383/414 [18:12<01:18,  2.52s/it]"
     ]
    },
    {
     "name": "stdout",
     "output_type": "stream",
     "text": [
      "dien thoai,9440640,None,20,1,Ha Noi,10489600,None,92,None,50,0,0,0,0,2\n"
     ]
    },
    {
     "name": "stderr",
     "output_type": "stream",
     "text": [
      "Processing rows:  93%|█████████▎| 384/414 [18:15<01:23,  2.78s/it]"
     ]
    },
    {
     "name": "stdout",
     "output_type": "stream",
     "text": [
      "dien thoai,9220491,None,62,2,Ho Chi Minh,12990000,16500,98,100,100,0,0,0,1,2\n"
     ]
    },
    {
     "name": "stderr",
     "output_type": "stream",
     "text": [
      "Processing rows:  93%|█████████▎| 385/414 [18:18<01:17,  2.67s/it]"
     ]
    },
    {
     "name": "stdout",
     "output_type": "stream",
     "text": [
      "dien thoai,8990000,None,None,1,Ho Chi Minh,10990000,18300,85,None,100,0,0,0,0,1\n"
     ]
    },
    {
     "name": "stderr",
     "output_type": "stream",
     "text": [
      "Processing rows:  93%|█████████▎| 386/414 [18:21<01:20,  2.86s/it]"
     ]
    },
    {
     "name": "stdout",
     "output_type": "stream",
     "text": [
      "dien thoai,8990000,NaN,101,41,Ho Chi Minh,11990000,16500,97,NaN,37,2,0,0,0,39\n"
     ]
    },
    {
     "name": "stderr",
     "output_type": "stream",
     "text": [
      "Processing rows:  93%|█████████▎| 387/414 [18:24<01:16,  2.82s/it]"
     ]
    },
    {
     "name": "stdout",
     "output_type": "stream",
     "text": [
      "dien thoai,8990000,NaN,14,6,Ha Noi,9190000,13700,95,100,96,0,0,0,1,5\n"
     ]
    },
    {
     "name": "stderr",
     "output_type": "stream",
     "text": [
      "Processing rows:  94%|█████████▎| 388/414 [18:27<01:14,  2.87s/it]"
     ]
    },
    {
     "name": "stdout",
     "output_type": "stream",
     "text": [
      "dien thoai,8990000,None,8,2,Ho Chi Minh,None,0,96,100,None,0,0,0,0,2\n"
     ]
    },
    {
     "name": "stderr",
     "output_type": "stream",
     "text": [
      "Processing rows:  94%|█████████▍| 389/414 [18:30<01:15,  3.01s/it]"
     ]
    },
    {
     "name": "stdout",
     "output_type": "stream",
     "text": [
      "dien thoai,8979000,None,None,None,Ben Tre,9990000,28700,97,100,100,0,0,0,0,0\n"
     ]
    },
    {
     "name": "stderr",
     "output_type": "stream",
     "text": [
      "Processing rows:  94%|█████████▍| 390/414 [18:32<01:08,  2.85s/it]"
     ]
    },
    {
     "name": "stdout",
     "output_type": "stream",
     "text": [
      "dien thoai,8979000,None,None,None,Ben Tre,9990000,28700,98,100,100,0,0,0,0,0\n"
     ]
    },
    {
     "name": "stderr",
     "output_type": "stream",
     "text": [
      "Processing rows:  94%|█████████▍| 391/414 [18:35<01:06,  2.91s/it]"
     ]
    },
    {
     "name": "stdout",
     "output_type": "stream",
     "text": [
      "dien thoai,8890000,NaN,9100,1558,Ho Chi Minh,23990000,5500,94,99,100,34,13,14,37,1460\n"
     ]
    },
    {
     "name": "stderr",
     "output_type": "stream",
     "text": [
      "Processing rows:  95%|█████████▍| 392/414 [18:38<01:01,  2.77s/it]"
     ]
    },
    {
     "name": "stdout",
     "output_type": "stream",
     "text": [
      "dien thoai,8888000,NaN,16,7,Ho Chi Minh,11500000,18300,96,75,85,0,0,0,0,7\n"
     ]
    },
    {
     "name": "stderr",
     "output_type": "stream",
     "text": [
      "Processing rows:  95%|█████████▍| 393/414 [18:41<00:59,  2.84s/it]"
     ]
    },
    {
     "name": "stdout",
     "output_type": "stream",
     "text": [
      "dien thoai,8870000,NaN,5,3,Ho Chi Minh,NaN,16500,97,95,100,0,0,0,0,3\n"
     ]
    },
    {
     "name": "stderr",
     "output_type": "stream",
     "text": [
      "Processing rows:  95%|█████████▌| 394/414 [18:44<00:57,  2.88s/it]"
     ]
    },
    {
     "name": "stdout",
     "output_type": "stream",
     "text": [
      "dien thoai,8860000,None,None,None,Ho Chi Minh,None,19600,100,None,None,0,0,0,0,0\n"
     ]
    },
    {
     "name": "stderr",
     "output_type": "stream",
     "text": [
      "Processing rows:  95%|█████████▌| 395/414 [18:47<00:56,  2.96s/it]"
     ]
    },
    {
     "name": "stdout",
     "output_type": "stream",
     "text": [
      "dien thoai,8690000,None,None,None,Ha Noi,None,0,95,None,40,0,0,0,0,0\n"
     ]
    },
    {
     "name": "stderr",
     "output_type": "stream",
     "text": [
      "Processing rows:  96%|█████████▌| 396/414 [18:50<00:50,  2.83s/it]"
     ]
    },
    {
     "name": "stdout",
     "output_type": "stream",
     "text": [
      "dien thoai,8690000,NaN,9,4,Ho Chi Minh,11500000,16500,96,75,85,0,0,0,0,4\n"
     ]
    },
    {
     "name": "stderr",
     "output_type": "stream",
     "text": [
      "Processing rows:  96%|█████████▌| 397/414 [18:53<00:49,  2.92s/it]"
     ]
    },
    {
     "name": "stdout",
     "output_type": "stream",
     "text": [
      "dien thoai,8690000,None,None,None,Ho Chi Minh,None,1928000,None,None,None,0,0,0,0,0\n"
     ]
    },
    {
     "name": "stderr",
     "output_type": "stream",
     "text": [
      "Processing rows:  96%|█████████▌| 398/414 [18:56<00:48,  3.02s/it]"
     ]
    },
    {
     "name": "stdout",
     "output_type": "stream",
     "text": [
      "dien thoai,8690000,None,5,2,Vinh Phuc,10650000,37700,100,100,97,0,0,0,0,2\n"
     ]
    },
    {
     "name": "stderr",
     "output_type": "stream",
     "text": [
      "Processing rows:  96%|█████████▋| 399/414 [19:00<00:48,  3.23s/it]"
     ]
    },
    {
     "name": "stdout",
     "output_type": "stream",
     "text": [
      "dien thoai,8679000,NaN,43,12,Tien Giang,14900000,28700,97,100,100,0,0,0,0,12\n"
     ]
    },
    {
     "name": "stderr",
     "output_type": "stream",
     "text": [
      "Processing rows:  97%|█████████▋| 400/414 [19:02<00:41,  2.96s/it]"
     ]
    },
    {
     "name": "stdout",
     "output_type": "stream",
     "text": [
      "dien thoai,8600000,None,None,None,Ho Chi Minh,None,16500,None,66,93,0,0,0,0,0\n"
     ]
    },
    {
     "name": "stderr",
     "output_type": "stream",
     "text": [
      "Processing rows:  97%|█████████▋| 401/414 [19:05<00:39,  3.06s/it]"
     ]
    },
    {
     "name": "stdout",
     "output_type": "stream",
     "text": [
      "dien thoai,8590000,None,None,1,Ho Chi Minh,9990000,0,98,100,100,0,0,0,0,1\n"
     ]
    },
    {
     "name": "stderr",
     "output_type": "stream",
     "text": [
      "Processing rows:  97%|█████████▋| 402/414 [19:08<00:34,  2.91s/it]"
     ]
    },
    {
     "name": "stdout",
     "output_type": "stream",
     "text": [
      "dien thoai,8590000,None,None,None,Ho Chi Minh,11190000,0,96,75,100,0,0,0,0,0\n"
     ]
    },
    {
     "name": "stderr",
     "output_type": "stream",
     "text": [
      "Processing rows:  97%|█████████▋| 403/414 [19:11<00:31,  2.89s/it]"
     ]
    },
    {
     "name": "stdout",
     "output_type": "stream",
     "text": [
      "dien thoai,8590000,None,None,None,Da Nang,9990000,0,93,None,100,0,0,0,0,0\n"
     ]
    },
    {
     "name": "stderr",
     "output_type": "stream",
     "text": [
      "Processing rows:  98%|█████████▊| 404/414 [19:13<00:28,  2.86s/it]"
     ]
    },
    {
     "name": "stdout",
     "output_type": "stream",
     "text": [
      "dien thoai,8590000,None,5,2,Ha Noi,10990000,26100,100,None,100,0,0,0,1,1\n"
     ]
    },
    {
     "name": "stderr",
     "output_type": "stream",
     "text": [
      "Processing rows:  98%|█████████▊| 405/414 [19:16<00:26,  2.89s/it]"
     ]
    },
    {
     "name": "stdout",
     "output_type": "stream",
     "text": [
      "dien thoai,8590000,None,11,2,Da Nang,10990000,38000,97,78,78,0,0,0,0,2\n"
     ]
    },
    {
     "name": "stderr",
     "output_type": "stream",
     "text": [
      "Processing rows:  98%|█████████▊| 406/414 [19:19<00:22,  2.82s/it]"
     ]
    },
    {
     "name": "stdout",
     "output_type": "stream",
     "text": [
      "dien thoai,8499000,None,None,None,Ho Chi Minh,None,16500,None,None,66,0,0,0,0,0\n"
     ]
    },
    {
     "name": "stderr",
     "output_type": "stream",
     "text": [
      "Processing rows:  98%|█████████▊| 407/414 [19:22<00:18,  2.71s/it]"
     ]
    },
    {
     "name": "stdout",
     "output_type": "stream",
     "text": [
      "dien thoai,8498000,None,None,None,Ho Chi Minh,8690000,0,98,100,83,0,0,0,0,0\n"
     ]
    },
    {
     "name": "stderr",
     "output_type": "stream",
     "text": [
      "Processing rows:  99%|█████████▊| 408/414 [19:24<00:15,  2.67s/it]"
     ]
    },
    {
     "name": "stdout",
     "output_type": "stream",
     "text": [
      "dien thoai,8490000,None,None,None,Ha Noi,None,38000,None,None,None,0,0,0,0,0\n"
     ]
    },
    {
     "name": "stderr",
     "output_type": "stream",
     "text": [
      "Processing rows:  99%|█████████▉| 409/414 [19:27<00:14,  2.84s/it]"
     ]
    },
    {
     "name": "stdout",
     "output_type": "stream",
     "text": [
      "dien thoai,8490000,None,11,1,Da Nang,11990000,38000,97,78,78,0,0,0,0,2\n"
     ]
    },
    {
     "name": "stderr",
     "output_type": "stream",
     "text": [
      "Processing rows:  99%|█████████▉| 410/414 [19:31<00:11,  2.96s/it]"
     ]
    },
    {
     "name": "stdout",
     "output_type": "stream",
     "text": [
      "dien thoai,8490000,None,None,None,Ho Chi Minh,9990000,0,97,100,33,0,0,0,0,0\n"
     ]
    },
    {
     "name": "stderr",
     "output_type": "stream",
     "text": [
      "Processing rows:  99%|█████████▉| 411/414 [19:33<00:08,  2.77s/it]"
     ]
    },
    {
     "name": "stdout",
     "output_type": "stream",
     "text": [
      "dien thoai,8490000,None,None,None,Ho Chi Minh,None,None,None,None,None,0,0,0,0,0\n"
     ]
    },
    {
     "name": "stderr",
     "output_type": "stream",
     "text": [
      "Processing rows: 100%|█████████▉| 412/414 [19:36<00:05,  2.89s/it]"
     ]
    },
    {
     "name": "stdout",
     "output_type": "stream",
     "text": [
      "dien thoai,8490000,None,None,None,Ho Chi Minh,8990000,18300,85,None,100,0,0,0,0,0\n"
     ]
    },
    {
     "name": "stderr",
     "output_type": "stream",
     "text": [
      "Processing rows: 100%|█████████▉| 413/414 [19:39<00:02,  2.95s/it]"
     ]
    },
    {
     "name": "stdout",
     "output_type": "stream",
     "text": [
      "dien thoai,8490000,None,None,None,Da Nang,9990000,0,97,100,None,0,0,0,0,0\n"
     ]
    },
    {
     "name": "stderr",
     "output_type": "stream",
     "text": [
      "Processing rows: 100%|██████████| 414/414 [19:42<00:00,  2.86s/it]"
     ]
    },
    {
     "name": "stdout",
     "output_type": "stream",
     "text": [
      "dien thoai,8480000,None,None,None,Ho Chi Minh,8990000,0,97,100,33,0,0,0,0,0\n"
     ]
    },
    {
     "name": "stderr",
     "output_type": "stream",
     "text": [
      "\n"
     ]
    }
   ],
   "source": [
    "results_lack = []\n",
    "\n",
    "for index, row in tqdm(dienthoai_lack.iterrows(), total=dienthoai_lack.shape[0], desc=\"Processing rows\"):\n",
    "    formatted_data = format_row(row)\n",
    "    api_response = call_api(formatted_data)\n",
    "    \n",
    "    if 'choices' in api_response and api_response['choices']:\n",
    "        cleaned_data = api_response['choices'][0]['message']['content'].strip()\n",
    "        cleaned_data = cleaned_data.replace('Here is the standardized data:\\n\\n', '').replace('\\n', ',')\n",
    "        print(cleaned_data)\n",
    "        results_lack.append(cleaned_data.split(','))\n",
    "    else:\n",
    "        print(f\"No choices found for row {index}\")\n",
    "        break"
   ]
  },
  {
   "cell_type": "code",
   "execution_count": 33,
   "metadata": {},
   "outputs": [
    {
     "data": {
      "text/html": [
       "<div>\n",
       "<style scoped>\n",
       "    .dataframe tbody tr th:only-of-type {\n",
       "        vertical-align: middle;\n",
       "    }\n",
       "\n",
       "    .dataframe tbody tr th {\n",
       "        vertical-align: top;\n",
       "    }\n",
       "\n",
       "    .dataframe thead th {\n",
       "        text-align: right;\n",
       "    }\n",
       "</style>\n",
       "<table border=\"1\" class=\"dataframe\">\n",
       "  <thead>\n",
       "    <tr style=\"text-align: right;\">\n",
       "      <th></th>\n",
       "      <th>Type</th>\n",
       "      <th>Price_sale</th>\n",
       "      <th>Sale_off</th>\n",
       "      <th>Total_sold</th>\n",
       "      <th>Preview</th>\n",
       "      <th>Location</th>\n",
       "      <th>Price_original</th>\n",
       "      <th>Ship_price</th>\n",
       "      <th>Sale_rating</th>\n",
       "      <th>Ship_on_time</th>\n",
       "      <th>Chat_response</th>\n",
       "      <th>One_star</th>\n",
       "      <th>Two_star</th>\n",
       "      <th>Three_star</th>\n",
       "      <th>Four_star</th>\n",
       "      <th>Five_star</th>\n",
       "    </tr>\n",
       "  </thead>\n",
       "  <tbody>\n",
       "    <tr>\n",
       "      <th>0</th>\n",
       "      <td>dien thoai</td>\n",
       "      <td>9440640</td>\n",
       "      <td>10</td>\n",
       "      <td>20</td>\n",
       "      <td>1</td>\n",
       "      <td>Ha Noi</td>\n",
       "      <td>10489600</td>\n",
       "      <td>None</td>\n",
       "      <td>92</td>\n",
       "      <td>None</td>\n",
       "      <td>33</td>\n",
       "      <td>0</td>\n",
       "      <td>0</td>\n",
       "      <td>0</td>\n",
       "      <td>0</td>\n",
       "      <td>2</td>\n",
       "    </tr>\n",
       "    <tr>\n",
       "      <th>1</th>\n",
       "      <td>dien thoai</td>\n",
       "      <td>9390000</td>\n",
       "      <td>17</td>\n",
       "      <td>None</td>\n",
       "      <td>1</td>\n",
       "      <td>Vinh Phuc</td>\n",
       "      <td>11250000</td>\n",
       "      <td>43900</td>\n",
       "      <td>100</td>\n",
       "      <td>100</td>\n",
       "      <td>97</td>\n",
       "      <td>0</td>\n",
       "      <td>0</td>\n",
       "      <td>0</td>\n",
       "      <td>0</td>\n",
       "      <td>1</td>\n",
       "    </tr>\n",
       "    <tr>\n",
       "      <th>2</th>\n",
       "      <td>dien thoai</td>\n",
       "      <td>9351363</td>\n",
       "      <td>13</td>\n",
       "      <td>38</td>\n",
       "      <td>13</td>\n",
       "      <td>Ha Noi</td>\n",
       "      <td>10790000</td>\n",
       "      <td>13700</td>\n",
       "      <td>95</td>\n",
       "      <td>100</td>\n",
       "      <td>100</td>\n",
       "      <td>0</td>\n",
       "      <td>0</td>\n",
       "      <td>0</td>\n",
       "      <td>0</td>\n",
       "      <td>13</td>\n",
       "    </tr>\n",
       "    <tr>\n",
       "      <th>3</th>\n",
       "      <td>dien thoai</td>\n",
       "      <td>9350000</td>\n",
       "      <td>38</td>\n",
       "      <td>35</td>\n",
       "      <td>18</td>\n",
       "      <td>Ha Noi</td>\n",
       "      <td>17000000</td>\n",
       "      <td>32700</td>\n",
       "      <td>91</td>\n",
       "      <td>95</td>\n",
       "      <td>100</td>\n",
       "      <td>0</td>\n",
       "      <td>0</td>\n",
       "      <td>0</td>\n",
       "      <td>0</td>\n",
       "      <td>19</td>\n",
       "    </tr>\n",
       "    <tr>\n",
       "      <th>4</th>\n",
       "      <td>dien thoai</td>\n",
       "      <td>9300000</td>\n",
       "      <td>None</td>\n",
       "      <td>None</td>\n",
       "      <td>None</td>\n",
       "      <td>Ho Chi Minh</td>\n",
       "      <td>None</td>\n",
       "      <td>16500</td>\n",
       "      <td>None</td>\n",
       "      <td>66</td>\n",
       "      <td>100</td>\n",
       "      <td>0</td>\n",
       "      <td>0</td>\n",
       "      <td>0</td>\n",
       "      <td>0</td>\n",
       "      <td>0</td>\n",
       "    </tr>\n",
       "  </tbody>\n",
       "</table>\n",
       "</div>"
      ],
      "text/plain": [
       "         Type Price_sale Sale_off Total_sold Preview     Location  \\\n",
       "0  dien thoai    9440640       10         20       1       Ha Noi   \n",
       "1  dien thoai    9390000       17       None       1    Vinh Phuc   \n",
       "2  dien thoai    9351363       13         38      13       Ha Noi   \n",
       "3  dien thoai    9350000       38         35      18       Ha Noi   \n",
       "4  dien thoai    9300000     None       None    None  Ho Chi Minh   \n",
       "\n",
       "  Price_original Ship_price Sale_rating Ship_on_time Chat_response One_star  \\\n",
       "0       10489600       None          92         None            33        0   \n",
       "1       11250000      43900         100          100            97        0   \n",
       "2       10790000      13700          95          100           100        0   \n",
       "3       17000000      32700          91           95           100        0   \n",
       "4           None      16500        None           66           100        0   \n",
       "\n",
       "  Two_star Three_star Four_star Five_star  \n",
       "0        0          0         0         2  \n",
       "1        0          0         0         1  \n",
       "2        0          0         0        13  \n",
       "3        0          0         0        19  \n",
       "4        0          0         0         0  "
      ]
     },
     "execution_count": 33,
     "metadata": {},
     "output_type": "execute_result"
    }
   ],
   "source": [
    "lack_df = pd.DataFrame(results_lack, columns=dienthoai_lack.columns)\n",
    "lack_df.head()"
   ]
  },
  {
   "cell_type": "code",
   "execution_count": 34,
   "metadata": {},
   "outputs": [
    {
     "data": {
      "text/html": [
       "<div>\n",
       "<style scoped>\n",
       "    .dataframe tbody tr th:only-of-type {\n",
       "        vertical-align: middle;\n",
       "    }\n",
       "\n",
       "    .dataframe tbody tr th {\n",
       "        vertical-align: top;\n",
       "    }\n",
       "\n",
       "    .dataframe thead th {\n",
       "        text-align: right;\n",
       "    }\n",
       "</style>\n",
       "<table border=\"1\" class=\"dataframe\">\n",
       "  <thead>\n",
       "    <tr style=\"text-align: right;\">\n",
       "      <th></th>\n",
       "      <th>Type</th>\n",
       "      <th>Price_sale</th>\n",
       "      <th>Sale_off</th>\n",
       "      <th>Total_sold</th>\n",
       "      <th>Preview</th>\n",
       "      <th>Location</th>\n",
       "      <th>Price_original</th>\n",
       "      <th>Ship_price</th>\n",
       "      <th>Sale_rating</th>\n",
       "      <th>Ship_on_time</th>\n",
       "      <th>Chat_response</th>\n",
       "      <th>One_star</th>\n",
       "      <th>Two_star</th>\n",
       "      <th>Three_star</th>\n",
       "      <th>Four_star</th>\n",
       "      <th>Five_star</th>\n",
       "    </tr>\n",
       "  </thead>\n",
       "  <tbody>\n",
       "    <tr>\n",
       "      <th>0</th>\n",
       "      <td>dien thoai</td>\n",
       "      <td>41990000</td>\n",
       "      <td>7</td>\n",
       "      <td>11</td>\n",
       "      <td>None</td>\n",
       "      <td>Ho Chi Minh</td>\n",
       "      <td>44990000</td>\n",
       "      <td>20100</td>\n",
       "      <td>99</td>\n",
       "      <td>100</td>\n",
       "      <td>75</td>\n",
       "      <td>0</td>\n",
       "      <td>0</td>\n",
       "      <td>0</td>\n",
       "      <td>0</td>\n",
       "      <td>0</td>\n",
       "    </tr>\n",
       "    <tr>\n",
       "      <th>1</th>\n",
       "      <td>dien thoai</td>\n",
       "      <td>39890000</td>\n",
       "      <td>10</td>\n",
       "      <td>None</td>\n",
       "      <td>None</td>\n",
       "      <td>Ha Noi</td>\n",
       "      <td>44490000</td>\n",
       "      <td>38000</td>\n",
       "      <td>99</td>\n",
       "      <td>100</td>\n",
       "      <td>85</td>\n",
       "      <td>0</td>\n",
       "      <td>0</td>\n",
       "      <td>0</td>\n",
       "      <td>0</td>\n",
       "      <td>0</td>\n",
       "    </tr>\n",
       "    <tr>\n",
       "      <th>2</th>\n",
       "      <td>dien thoai</td>\n",
       "      <td>37590001</td>\n",
       "      <td>16</td>\n",
       "      <td>24</td>\n",
       "      <td>2</td>\n",
       "      <td>Ho Chi Minh</td>\n",
       "      <td>44490000</td>\n",
       "      <td>None</td>\n",
       "      <td>90</td>\n",
       "      <td>None</td>\n",
       "      <td>100</td>\n",
       "      <td>0</td>\n",
       "      <td>0</td>\n",
       "      <td>0</td>\n",
       "      <td>0</td>\n",
       "      <td>2</td>\n",
       "    </tr>\n",
       "    <tr>\n",
       "      <th>3</th>\n",
       "      <td>dien thoai</td>\n",
       "      <td>36990000</td>\n",
       "      <td>None</td>\n",
       "      <td>None</td>\n",
       "      <td>None</td>\n",
       "      <td>Ho Chi Minh</td>\n",
       "      <td>None</td>\n",
       "      <td>16500</td>\n",
       "      <td>98</td>\n",
       "      <td>82</td>\n",
       "      <td>100</td>\n",
       "      <td>0</td>\n",
       "      <td>0</td>\n",
       "      <td>0</td>\n",
       "      <td>0</td>\n",
       "      <td>0</td>\n",
       "    </tr>\n",
       "    <tr>\n",
       "      <th>4</th>\n",
       "      <td>dien thoai</td>\n",
       "      <td>32126000</td>\n",
       "      <td>NaN</td>\n",
       "      <td>28</td>\n",
       "      <td>1</td>\n",
       "      <td>Ho Chi Minh</td>\n",
       "      <td>38470000</td>\n",
       "      <td>18300</td>\n",
       "      <td>98</td>\n",
       "      <td>100</td>\n",
       "      <td>100</td>\n",
       "      <td>0</td>\n",
       "      <td>0</td>\n",
       "      <td>0</td>\n",
       "      <td>0</td>\n",
       "      <td>1</td>\n",
       "    </tr>\n",
       "    <tr>\n",
       "      <th>...</th>\n",
       "      <td>...</td>\n",
       "      <td>...</td>\n",
       "      <td>...</td>\n",
       "      <td>...</td>\n",
       "      <td>...</td>\n",
       "      <td>...</td>\n",
       "      <td>...</td>\n",
       "      <td>...</td>\n",
       "      <td>...</td>\n",
       "      <td>...</td>\n",
       "      <td>...</td>\n",
       "      <td>...</td>\n",
       "      <td>...</td>\n",
       "      <td>...</td>\n",
       "      <td>...</td>\n",
       "      <td>...</td>\n",
       "    </tr>\n",
       "    <tr>\n",
       "      <th>1195</th>\n",
       "      <td>dien thoai</td>\n",
       "      <td>8490000</td>\n",
       "      <td>None</td>\n",
       "      <td>None</td>\n",
       "      <td>None</td>\n",
       "      <td>Ho Chi Minh</td>\n",
       "      <td>9990000</td>\n",
       "      <td>0</td>\n",
       "      <td>97</td>\n",
       "      <td>100</td>\n",
       "      <td>33</td>\n",
       "      <td>0</td>\n",
       "      <td>0</td>\n",
       "      <td>0</td>\n",
       "      <td>0</td>\n",
       "      <td>0</td>\n",
       "    </tr>\n",
       "    <tr>\n",
       "      <th>1196</th>\n",
       "      <td>dien thoai</td>\n",
       "      <td>8490000</td>\n",
       "      <td>None</td>\n",
       "      <td>None</td>\n",
       "      <td>None</td>\n",
       "      <td>Ho Chi Minh</td>\n",
       "      <td>None</td>\n",
       "      <td>None</td>\n",
       "      <td>None</td>\n",
       "      <td>None</td>\n",
       "      <td>None</td>\n",
       "      <td>0</td>\n",
       "      <td>0</td>\n",
       "      <td>0</td>\n",
       "      <td>0</td>\n",
       "      <td>0</td>\n",
       "    </tr>\n",
       "    <tr>\n",
       "      <th>1197</th>\n",
       "      <td>dien thoai</td>\n",
       "      <td>8490000</td>\n",
       "      <td>None</td>\n",
       "      <td>None</td>\n",
       "      <td>None</td>\n",
       "      <td>Ho Chi Minh</td>\n",
       "      <td>8990000</td>\n",
       "      <td>18300</td>\n",
       "      <td>85</td>\n",
       "      <td>None</td>\n",
       "      <td>100</td>\n",
       "      <td>0</td>\n",
       "      <td>0</td>\n",
       "      <td>0</td>\n",
       "      <td>0</td>\n",
       "      <td>0</td>\n",
       "    </tr>\n",
       "    <tr>\n",
       "      <th>1198</th>\n",
       "      <td>dien thoai</td>\n",
       "      <td>8490000</td>\n",
       "      <td>None</td>\n",
       "      <td>None</td>\n",
       "      <td>None</td>\n",
       "      <td>Da Nang</td>\n",
       "      <td>9990000</td>\n",
       "      <td>0</td>\n",
       "      <td>97</td>\n",
       "      <td>100</td>\n",
       "      <td>None</td>\n",
       "      <td>0</td>\n",
       "      <td>0</td>\n",
       "      <td>0</td>\n",
       "      <td>0</td>\n",
       "      <td>0</td>\n",
       "    </tr>\n",
       "    <tr>\n",
       "      <th>1199</th>\n",
       "      <td>dien thoai</td>\n",
       "      <td>8480000</td>\n",
       "      <td>None</td>\n",
       "      <td>None</td>\n",
       "      <td>None</td>\n",
       "      <td>Ho Chi Minh</td>\n",
       "      <td>8990000</td>\n",
       "      <td>0</td>\n",
       "      <td>97</td>\n",
       "      <td>100</td>\n",
       "      <td>33</td>\n",
       "      <td>0</td>\n",
       "      <td>0</td>\n",
       "      <td>0</td>\n",
       "      <td>0</td>\n",
       "      <td>0</td>\n",
       "    </tr>\n",
       "  </tbody>\n",
       "</table>\n",
       "<p>1200 rows × 16 columns</p>\n",
       "</div>"
      ],
      "text/plain": [
       "            Type Price_sale Sale_off Total_sold Preview     Location  \\\n",
       "0     dien thoai   41990000        7         11    None  Ho Chi Minh   \n",
       "1     dien thoai   39890000       10       None    None       Ha Noi   \n",
       "2     dien thoai   37590001       16         24       2  Ho Chi Minh   \n",
       "3     dien thoai   36990000     None       None    None  Ho Chi Minh   \n",
       "4     dien thoai   32126000      NaN         28       1  Ho Chi Minh   \n",
       "...          ...        ...      ...        ...     ...          ...   \n",
       "1195  dien thoai    8490000     None       None    None  Ho Chi Minh   \n",
       "1196  dien thoai    8490000     None       None    None  Ho Chi Minh   \n",
       "1197  dien thoai    8490000     None       None    None  Ho Chi Minh   \n",
       "1198  dien thoai    8490000     None       None    None      Da Nang   \n",
       "1199  dien thoai    8480000     None       None    None  Ho Chi Minh   \n",
       "\n",
       "     Price_original Ship_price Sale_rating Ship_on_time Chat_response  \\\n",
       "0          44990000      20100          99          100            75   \n",
       "1          44490000      38000          99          100            85   \n",
       "2          44490000       None          90         None           100   \n",
       "3              None      16500          98           82           100   \n",
       "4          38470000      18300          98          100           100   \n",
       "...             ...        ...         ...          ...           ...   \n",
       "1195        9990000          0          97          100            33   \n",
       "1196           None       None        None         None          None   \n",
       "1197        8990000      18300          85         None           100   \n",
       "1198        9990000          0          97          100          None   \n",
       "1199        8990000          0          97          100            33   \n",
       "\n",
       "     One_star Two_star Three_star Four_star Five_star  \n",
       "0           0        0          0         0         0  \n",
       "1           0        0          0         0         0  \n",
       "2           0        0          0         0         2  \n",
       "3           0        0          0         0         0  \n",
       "4           0        0          0         0         1  \n",
       "...       ...      ...        ...       ...       ...  \n",
       "1195        0        0          0         0         0  \n",
       "1196        0        0          0         0         0  \n",
       "1197        0        0          0         0         0  \n",
       "1198        0        0          0         0         0  \n",
       "1199        0        0          0         0         0  \n",
       "\n",
       "[1200 rows x 16 columns]"
      ]
     },
     "execution_count": 34,
     "metadata": {},
     "output_type": "execute_result"
    }
   ],
   "source": [
    "final_data = pd.concat([cleaned_df, lack_df], ignore_index=True)\n",
    "final_data "
   ]
  },
  {
   "cell_type": "code",
   "execution_count": 35,
   "metadata": {},
   "outputs": [],
   "source": [
    "final_data.to_csv(\"LLM_DienThoai.csv\", index=False)"
   ]
  },
  {
   "cell_type": "code",
   "execution_count": null,
   "metadata": {},
   "outputs": [],
   "source": []
  }
 ],
 "metadata": {
  "kernelspec": {
   "display_name": "base",
   "language": "python",
   "name": "python3"
  },
  "language_info": {
   "codemirror_mode": {
    "name": "ipython",
    "version": 3
   },
   "file_extension": ".py",
   "mimetype": "text/x-python",
   "name": "python",
   "nbconvert_exporter": "python",
   "pygments_lexer": "ipython3",
   "version": "3.11.7"
  }
 },
 "nbformat": 4,
 "nbformat_minor": 2
}
