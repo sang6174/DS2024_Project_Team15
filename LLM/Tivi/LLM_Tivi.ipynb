{
 "cells": [
  {
   "cell_type": "code",
   "execution_count": 1,
   "metadata": {},
   "outputs": [],
   "source": [
    "import os\n",
    "import requests\n",
    "import pandas as pd\n",
    "import unidecode\n",
    "from tqdm import tqdm"
   ]
  },
  {
   "cell_type": "code",
   "execution_count": 2,
   "metadata": {},
   "outputs": [
    {
     "data": {
      "text/html": [
       "<div>\n",
       "<style scoped>\n",
       "    .dataframe tbody tr th:only-of-type {\n",
       "        vertical-align: middle;\n",
       "    }\n",
       "\n",
       "    .dataframe tbody tr th {\n",
       "        vertical-align: top;\n",
       "    }\n",
       "\n",
       "    .dataframe thead th {\n",
       "        text-align: right;\n",
       "    }\n",
       "</style>\n",
       "<table border=\"1\" class=\"dataframe\">\n",
       "  <thead>\n",
       "    <tr style=\"text-align: right;\">\n",
       "      <th></th>\n",
       "      <th>Type</th>\n",
       "      <th>Price_sale</th>\n",
       "      <th>Sale_off</th>\n",
       "      <th>Total_sold</th>\n",
       "      <th>Preview</th>\n",
       "      <th>Location</th>\n",
       "      <th>Price_original</th>\n",
       "      <th>Ship_price</th>\n",
       "      <th>Sale_rating</th>\n",
       "      <th>Ship_on_time</th>\n",
       "      <th>Chat_response</th>\n",
       "      <th>One_star</th>\n",
       "      <th>Two_star</th>\n",
       "      <th>Three_star</th>\n",
       "      <th>Four_star</th>\n",
       "      <th>Five_star</th>\n",
       "    </tr>\n",
       "  </thead>\n",
       "  <tbody>\n",
       "    <tr>\n",
       "      <th>0</th>\n",
       "      <td>tivi</td>\n",
       "      <td>64.690.000 ₫</td>\n",
       "      <td>6% Off</td>\n",
       "      <td>NaN</td>\n",
       "      <td>NaN</td>\n",
       "      <td>Hồ Chí Minh</td>\n",
       "      <td>68.790.000 ₫</td>\n",
       "      <td>NaN</td>\n",
       "      <td>100%</td>\n",
       "      <td>NaN</td>\n",
       "      <td>100%</td>\n",
       "      <td>0</td>\n",
       "      <td>0</td>\n",
       "      <td>0</td>\n",
       "      <td>0</td>\n",
       "      <td>0</td>\n",
       "    </tr>\n",
       "    <tr>\n",
       "      <th>1</th>\n",
       "      <td>tivi</td>\n",
       "      <td>5.389.000 ₫</td>\n",
       "      <td>46% Off</td>\n",
       "      <td>130 Đã bán</td>\n",
       "      <td>(6)</td>\n",
       "      <td>Hà Nội</td>\n",
       "      <td>9.890.000 ₫</td>\n",
       "      <td>NaN</td>\n",
       "      <td>100%</td>\n",
       "      <td>NaN</td>\n",
       "      <td>100%</td>\n",
       "      <td>0</td>\n",
       "      <td>0</td>\n",
       "      <td>0</td>\n",
       "      <td>0</td>\n",
       "      <td>6</td>\n",
       "    </tr>\n",
       "    <tr>\n",
       "      <th>2</th>\n",
       "      <td>tivi</td>\n",
       "      <td>920.486 ₫</td>\n",
       "      <td>3% Off</td>\n",
       "      <td>77 Đã bán</td>\n",
       "      <td>(26)</td>\n",
       "      <td>Hà Nội</td>\n",
       "      <td>950.000 ₫</td>\n",
       "      <td>115.100 ₫</td>\n",
       "      <td>91%</td>\n",
       "      <td>95%</td>\n",
       "      <td>92%</td>\n",
       "      <td>0</td>\n",
       "      <td>0</td>\n",
       "      <td>0</td>\n",
       "      <td>2</td>\n",
       "      <td>24</td>\n",
       "    </tr>\n",
       "    <tr>\n",
       "      <th>3</th>\n",
       "      <td>tivi</td>\n",
       "      <td>3.989.000 ₫</td>\n",
       "      <td>50% Off</td>\n",
       "      <td>NaN</td>\n",
       "      <td>NaN</td>\n",
       "      <td>Hà Nội</td>\n",
       "      <td>7.990.000 ₫</td>\n",
       "      <td>NaN</td>\n",
       "      <td>NaN</td>\n",
       "      <td>NaN</td>\n",
       "      <td>100%</td>\n",
       "      <td>0</td>\n",
       "      <td>0</td>\n",
       "      <td>0</td>\n",
       "      <td>0</td>\n",
       "      <td>0</td>\n",
       "    </tr>\n",
       "    <tr>\n",
       "      <th>4</th>\n",
       "      <td>tivi</td>\n",
       "      <td>4.689.000 ₫</td>\n",
       "      <td>41% Off</td>\n",
       "      <td>16 Đã bán</td>\n",
       "      <td>NaN</td>\n",
       "      <td>Hà Nội</td>\n",
       "      <td>7.900.000 ₫</td>\n",
       "      <td>NaN</td>\n",
       "      <td>100%</td>\n",
       "      <td>NaN</td>\n",
       "      <td>100%</td>\n",
       "      <td>0</td>\n",
       "      <td>0</td>\n",
       "      <td>0</td>\n",
       "      <td>0</td>\n",
       "      <td>1</td>\n",
       "    </tr>\n",
       "    <tr>\n",
       "      <th>5</th>\n",
       "      <td>tivi</td>\n",
       "      <td>2.490.000 ₫</td>\n",
       "      <td>NaN</td>\n",
       "      <td>NaN</td>\n",
       "      <td>NaN</td>\n",
       "      <td>Thái Bình</td>\n",
       "      <td>NaN</td>\n",
       "      <td>141.300 ₫</td>\n",
       "      <td>NaN</td>\n",
       "      <td>NaN</td>\n",
       "      <td>100%</td>\n",
       "      <td>0</td>\n",
       "      <td>0</td>\n",
       "      <td>0</td>\n",
       "      <td>0</td>\n",
       "      <td>0</td>\n",
       "    </tr>\n",
       "    <tr>\n",
       "      <th>6</th>\n",
       "      <td>tivi</td>\n",
       "      <td>3.565.542 ₫</td>\n",
       "      <td>4% Off</td>\n",
       "      <td>31 Đã bán</td>\n",
       "      <td>(15)</td>\n",
       "      <td>Hà Nội</td>\n",
       "      <td>3.700.000 ₫</td>\n",
       "      <td>206.800 ₫</td>\n",
       "      <td>91%</td>\n",
       "      <td>95%</td>\n",
       "      <td>92%</td>\n",
       "      <td>1</td>\n",
       "      <td>0</td>\n",
       "      <td>1</td>\n",
       "      <td>0</td>\n",
       "      <td>14</td>\n",
       "    </tr>\n",
       "    <tr>\n",
       "      <th>7</th>\n",
       "      <td>tivi</td>\n",
       "      <td>4.689.000 ₫</td>\n",
       "      <td>48% Off</td>\n",
       "      <td>9 Đã bán</td>\n",
       "      <td>NaN</td>\n",
       "      <td>Hà Nội</td>\n",
       "      <td>9.090.000 ₫</td>\n",
       "      <td>NaN</td>\n",
       "      <td>100%</td>\n",
       "      <td>NaN</td>\n",
       "      <td>100%</td>\n",
       "      <td>0</td>\n",
       "      <td>0</td>\n",
       "      <td>0</td>\n",
       "      <td>0</td>\n",
       "      <td>0</td>\n",
       "    </tr>\n",
       "    <tr>\n",
       "      <th>8</th>\n",
       "      <td>tivi</td>\n",
       "      <td>3.003.074 ₫</td>\n",
       "      <td>2% Off</td>\n",
       "      <td>21 Đã bán</td>\n",
       "      <td>(17)</td>\n",
       "      <td>Hà Nội</td>\n",
       "      <td>3.070.000 ₫</td>\n",
       "      <td>198.200 ₫</td>\n",
       "      <td>91%</td>\n",
       "      <td>95%</td>\n",
       "      <td>92%</td>\n",
       "      <td>1</td>\n",
       "      <td>0</td>\n",
       "      <td>1</td>\n",
       "      <td>1</td>\n",
       "      <td>14</td>\n",
       "    </tr>\n",
       "    <tr>\n",
       "      <th>9</th>\n",
       "      <td>tivi</td>\n",
       "      <td>950.000 ₫</td>\n",
       "      <td>NaN</td>\n",
       "      <td>NaN</td>\n",
       "      <td>NaN</td>\n",
       "      <td>Hà Nội</td>\n",
       "      <td>NaN</td>\n",
       "      <td>198.200 ₫</td>\n",
       "      <td>86%</td>\n",
       "      <td>97%</td>\n",
       "      <td>66%</td>\n",
       "      <td>0</td>\n",
       "      <td>0</td>\n",
       "      <td>0</td>\n",
       "      <td>0</td>\n",
       "      <td>0</td>\n",
       "    </tr>\n",
       "  </tbody>\n",
       "</table>\n",
       "</div>"
      ],
      "text/plain": [
       "   Type    Price_sale Sale_off  Total_sold Preview     Location  \\\n",
       "0  tivi  64.690.000 ₫   6% Off         NaN     NaN  Hồ Chí Minh   \n",
       "1  tivi   5.389.000 ₫  46% Off  130 Đã bán     (6)       Hà Nội   \n",
       "2  tivi     920.486 ₫   3% Off   77 Đã bán    (26)       Hà Nội   \n",
       "3  tivi   3.989.000 ₫  50% Off         NaN     NaN       Hà Nội   \n",
       "4  tivi   4.689.000 ₫  41% Off   16 Đã bán     NaN       Hà Nội   \n",
       "5  tivi   2.490.000 ₫      NaN         NaN     NaN    Thái Bình   \n",
       "6  tivi   3.565.542 ₫   4% Off   31 Đã bán    (15)       Hà Nội   \n",
       "7  tivi   4.689.000 ₫  48% Off    9 Đã bán     NaN       Hà Nội   \n",
       "8  tivi   3.003.074 ₫   2% Off   21 Đã bán    (17)       Hà Nội   \n",
       "9  tivi     950.000 ₫      NaN         NaN     NaN       Hà Nội   \n",
       "\n",
       "  Price_original Ship_price Sale_rating Ship_on_time Chat_response  One_star  \\\n",
       "0   68.790.000 ₫        NaN        100%          NaN          100%         0   \n",
       "1    9.890.000 ₫        NaN        100%          NaN          100%         0   \n",
       "2      950.000 ₫  115.100 ₫         91%          95%           92%         0   \n",
       "3    7.990.000 ₫        NaN         NaN          NaN          100%         0   \n",
       "4    7.900.000 ₫        NaN        100%          NaN          100%         0   \n",
       "5            NaN  141.300 ₫         NaN          NaN          100%         0   \n",
       "6    3.700.000 ₫  206.800 ₫         91%          95%           92%         1   \n",
       "7    9.090.000 ₫        NaN        100%          NaN          100%         0   \n",
       "8    3.070.000 ₫  198.200 ₫         91%          95%           92%         1   \n",
       "9            NaN  198.200 ₫         86%          97%           66%         0   \n",
       "\n",
       "   Two_star  Three_star  Four_star  Five_star  \n",
       "0         0           0          0          0  \n",
       "1         0           0          0          6  \n",
       "2         0           0          2         24  \n",
       "3         0           0          0          0  \n",
       "4         0           0          0          1  \n",
       "5         0           0          0          0  \n",
       "6         0           1          0         14  \n",
       "7         0           0          0          0  \n",
       "8         0           1          1         14  \n",
       "9         0           0          0          0  "
      ]
     },
     "execution_count": 2,
     "metadata": {},
     "output_type": "execute_result"
    }
   ],
   "source": [
    "tivi = pd.read_csv(\"Preprocessing_Tivi.csv\")\n",
    "tivi.head(10)"
   ]
  },
  {
   "cell_type": "code",
   "execution_count": 3,
   "metadata": {},
   "outputs": [],
   "source": [
    "# Khởi tạo phiên làm việc với requests\n",
    "s = requests.Session()\n",
    "\n",
    "api_base = \"https://api.endpoints.anyscale.com/v1\"\n",
    "# Replace with long-lived credentials for production\n",
    "token = \"esecret_j626vlqqi569ljvpdayggnhaqj\"\n",
    "url = f\"{api_base}/chat/completions\""
   ]
  },
  {
   "cell_type": "code",
   "execution_count": 4,
   "metadata": {},
   "outputs": [],
   "source": [
    "def call_api(formatted_data):\n",
    "    body = {\n",
    "        \"model\": \"meta-llama/Meta-Llama-3-70B-Instruct\",\n",
    "        \"messages\": [\n",
    "            {\n",
    "                \"role\": \"user\",\n",
    "                \"content\": \"Bạn là 1 trợ lí ảo về AI và có nhiệm vụ chính là chuẩn hóa data một cách chính xác nhất\"\n",
    "            },\n",
    "            {\n",
    "                \"role\": \"assistant\",\n",
    "                \"content\": \"Nice to meet you! As a virtual assistant specializing in AI, my primary task is to standardize data with utmost accuracy. I'm here to help ensure that data is consistent, reliable, and ready for analysis or modeling.\\n\\nTo achieve this, I'll employ various techniques, including:\\n\\n1. **Data Profiling**: I'll analyze the data to understand its distribution, patterns, and quality. This helps identify errors, inconsistencies, and areas that require attention.\\n2. **Data Cleansing**: I'll detect and correct errors, handle missing values, and remove duplicates or irrelevant data. This ensures that the data is accurate, complete, and reliable.\\n3. **Data Transformation**: I'll convert data types, perform aggregations, and apply business rules to standardize the data format. This makes it easier to analyze and model the data.\\n4. **Data Validation**: I'll check the data against a set of rules, constraints, and formats to ensure it meets the required standards.\\n5. **Data Normalization**: I'll organize the data into a consistent structure, making it easier to manage, analyze, and scale.\\n\\nSome of the specific tasks I can perform to standardize data include:\\n\\n* Handling date and time formats\\n* Standardizing categorical variables (e.g., converting\"\n",
    "            },\n",
    "            {\n",
    "                \"role\": \"user\",\n",
    "                \"content\": \"Mỗi mục dữ liệu được ngăn cách bởi dấu |. Không bỏ bất kì 1 mục nào, không thêm bất kỳ mục nào, hãy chuẩn hóa thông tin về dạng:\\nkhông dấu, số, số, số, số, không dấu, số, số, số, số, số, số, số, số, số, số\\nNếu là None thì kết quả ghi là None.\\nNgăn cách các giá trị bằng dấu phẩy.Không hiển thị gì thêm, output trả về đúng 16 cột\\n\\ntivi  |  41.990.000 ₫  |  7% Off  |  11 Đã bán  |  NaN  |  Hồ Chí Minh  |  44.990.000 ₫ \\n |  20.100 ₫  |  99%  |  100%  |  75%  |  0  |  0  |  0  |  0  |  0\"\n",
    "            },\n",
    "            {\n",
    "                \"role\": \"assistant\",\n",
    "                \"content\": \"Here is the standardized data:\\n\\ntivi,41990000,7,11,None,Ho Chi Minh,44990000,20100,99,100,75,0,0,0,0,0\"\n",
    "            },\n",
    "            {\n",
    "                \"role\": \"user\",\n",
    "                \"content\": f\"{formatted_data}\"\n",
    "            },\n",
    "        ],\n",
    "        \"temperature\": 0,\n",
    "        \"max_tokens\": 256,\n",
    "        \"top_p\": 1,\n",
    "        \"frequency_penalty\": 0\n",
    "    }\n",
    "    response = s.post(url, headers={\"Authorization\": f\"Bearer {token}\"}, json=body)\n",
    "    return response.json()"
   ]
  },
  {
   "cell_type": "code",
   "execution_count": 5,
   "metadata": {},
   "outputs": [
    {
     "name": "stderr",
     "output_type": "stream",
     "text": [
      "Processing rows:   0%|          | 1/1200 [00:05<1:40:52,  5.05s/it]"
     ]
    },
    {
     "name": "stdout",
     "output_type": "stream",
     "text": [
      "tivi,64690000,6,None,None,Ho Chi Minh,68790000,None,100,None,100,0,0,0,0,0\n"
     ]
    },
    {
     "name": "stderr",
     "output_type": "stream",
     "text": [
      "Processing rows:   0%|          | 2/1200 [00:08<1:19:18,  3.97s/it]"
     ]
    },
    {
     "name": "stdout",
     "output_type": "stream",
     "text": [
      "tivi,5389000,46,130,6,Ha Noi,9890000,None,100,None,100,0,0,0,0,6\n"
     ]
    },
    {
     "name": "stderr",
     "output_type": "stream",
     "text": [
      "Processing rows:   0%|          | 3/1200 [00:11<1:16:33,  3.84s/it]"
     ]
    },
    {
     "name": "stdout",
     "output_type": "stream",
     "text": [
      "tivi,920486,3,77,26,Ha Noi,950000,115100,91,95,92,0,0,0,2,24\n"
     ]
    },
    {
     "name": "stderr",
     "output_type": "stream",
     "text": [
      "Processing rows:   0%|          | 4/1200 [00:14<1:06:45,  3.35s/it]"
     ]
    },
    {
     "name": "stdout",
     "output_type": "stream",
     "text": [
      "tivi,3989000,50,None,None,Ha Noi,7990000,None,None,None,100,0,0,0,0,0\n"
     ]
    },
    {
     "name": "stderr",
     "output_type": "stream",
     "text": [
      "Processing rows:   0%|          | 5/1200 [00:17<1:06:16,  3.33s/it]"
     ]
    },
    {
     "name": "stdout",
     "output_type": "stream",
     "text": [
      "tivi,4689000,41,16,None,Ha Noi,7900000,None,100,None,100,0,0,0,0,1\n"
     ]
    },
    {
     "name": "stderr",
     "output_type": "stream",
     "text": [
      "Processing rows:   0%|          | 6/1200 [00:21<1:05:32,  3.29s/it]"
     ]
    },
    {
     "name": "stdout",
     "output_type": "stream",
     "text": [
      "tivi,2490000,None,None,None,Thái Bình,None,141300,None,None,100,0,0,0,0,0\n"
     ]
    },
    {
     "name": "stderr",
     "output_type": "stream",
     "text": [
      "Processing rows:   1%|          | 7/1200 [00:24<1:05:38,  3.30s/it]"
     ]
    },
    {
     "name": "stdout",
     "output_type": "stream",
     "text": [
      "tivi,3565542,4,31,15,Ha Noi,3700000,206800,91,95,92,1,0,1,0,14\n"
     ]
    },
    {
     "name": "stderr",
     "output_type": "stream",
     "text": [
      "Processing rows:   1%|          | 8/1200 [00:27<1:03:58,  3.22s/it]"
     ]
    },
    {
     "name": "stdout",
     "output_type": "stream",
     "text": [
      "tivi,4689000,48,9,None,Ha Noi,9090000,None,100,None,100,0,0,0,0,0\n"
     ]
    },
    {
     "name": "stderr",
     "output_type": "stream",
     "text": [
      "Processing rows:   1%|          | 9/1200 [00:30<1:01:53,  3.12s/it]"
     ]
    },
    {
     "name": "stdout",
     "output_type": "stream",
     "text": [
      "tivi,3003074,2,21,17,Ha Noi,3070000,198200,91,95,92,1,0,1,1,14\n"
     ]
    },
    {
     "name": "stderr",
     "output_type": "stream",
     "text": [
      "Processing rows:   1%|          | 10/1200 [00:33<1:04:49,  3.27s/it]"
     ]
    },
    {
     "name": "stdout",
     "output_type": "stream",
     "text": [
      "tivi,950000,None,None,None,Ha Noi,None,198200,86,97,66,0,0,0,0,0\n"
     ]
    },
    {
     "name": "stderr",
     "output_type": "stream",
     "text": [
      "Processing rows:   1%|          | 11/1200 [00:36<1:00:49,  3.07s/it]"
     ]
    },
    {
     "name": "stdout",
     "output_type": "stream",
     "text": [
      "tivi,11589000,27,85,24,Ho Chi Minh,15900000,146000,None,100,100,0,0,1,0,23\n"
     ]
    },
    {
     "name": "stderr",
     "output_type": "stream",
     "text": [
      "Processing rows:   1%|          | 12/1200 [00:39<1:01:16,  3.09s/it]"
     ]
    },
    {
     "name": "stdout",
     "output_type": "stream",
     "text": [
      "tivi,99000,None,908,220,Ho Chi Minh,None,18300,94,100,None,3,3,2,8,205\n"
     ]
    },
    {
     "name": "stderr",
     "output_type": "stream",
     "text": [
      "Processing rows:   1%|          | 13/1200 [00:41<56:28,  2.85s/it]  "
     ]
    },
    {
     "name": "stdout",
     "output_type": "stream",
     "text": [
      "tivi,8589000,33,1000,234,Ho Chi Minh,12900000,159200,None,100,100,1,0,0,1,232\n"
     ]
    },
    {
     "name": "stderr",
     "output_type": "stream",
     "text": [
      "Processing rows:   1%|          | 14/1200 [00:45<1:00:36,  3.07s/it]"
     ]
    },
    {
     "name": "stdout",
     "output_type": "stream",
     "text": [
      "tivi,230000,None,72,26,Ho Chi Minh,None,16500,99,100,36,0,0,0,0,26\n"
     ]
    },
    {
     "name": "stderr",
     "output_type": "stream",
     "text": [
      "Processing rows:   1%|▏         | 15/1200 [00:47<55:54,  2.83s/it]  "
     ]
    },
    {
     "name": "stdout",
     "output_type": "stream",
     "text": [
      "tivi,8189000,28,102,24,Ho Chi Minh,11400000,131600,None,100,100,0,0,0,1,24\n"
     ]
    },
    {
     "name": "stderr",
     "output_type": "stream",
     "text": [
      "Processing rows:   1%|▏         | 16/1200 [00:50<52:35,  2.66s/it]"
     ]
    },
    {
     "name": "stdout",
     "output_type": "stream",
     "text": [
      "tivi,11589000,27,317,63,Ho Chi Minh,15900000,258200,None,100,100,1,0,0,2,60\n"
     ]
    },
    {
     "name": "stderr",
     "output_type": "stream",
     "text": [
      "Processing rows:   1%|▏         | 17/1200 [00:53<54:23,  2.76s/it]"
     ]
    },
    {
     "name": "stdout",
     "output_type": "stream",
     "text": [
      "tivi,5740000,48,2200,919,Ho Chi Minh,10990000,46000,97,93,100,5,0,1,17,896\n"
     ]
    },
    {
     "name": "stderr",
     "output_type": "stream",
     "text": [
      "Processing rows:   2%|▏         | 18/1200 [00:56<56:59,  2.89s/it]"
     ]
    },
    {
     "name": "stdout",
     "output_type": "stream",
     "text": [
      "tivi,9900000,44,5,None,Ho Chi Minh,17800000,238400,85,50,100,0,0,0,0,0\n"
     ]
    },
    {
     "name": "stderr",
     "output_type": "stream",
     "text": [
      "Processing rows:   2%|▏         | 19/1200 [00:58<55:47,  2.83s/it]"
     ]
    },
    {
     "name": "stdout",
     "output_type": "stream",
     "text": [
      "tivi,33890000,11,83,27,Binh Duong,38290000,None,96,100,99,0,0,0,0,27\n"
     ]
    },
    {
     "name": "stderr",
     "output_type": "stream",
     "text": [
      "Processing rows:   2%|▏         | 20/1200 [01:01<55:00,  2.80s/it]"
     ]
    },
    {
     "name": "stdout",
     "output_type": "stream",
     "text": [
      "tivi,250000,None,165,57,Ha Noi,None,32700,96,100,100,0,2,1,2,52\n"
     ]
    },
    {
     "name": "stderr",
     "output_type": "stream",
     "text": [
      "Processing rows:   2%|▏         | 21/1200 [01:04<53:30,  2.72s/it]"
     ]
    },
    {
     "name": "stdout",
     "output_type": "stream",
     "text": [
      "tivi,12600000,14,9,4,Ho Chi Minh,14690000,146000,85,50,100,0,0,0,0,5\n"
     ]
    },
    {
     "name": "stderr",
     "output_type": "stream",
     "text": [
      "Processing rows:   2%|▏         | 22/1200 [01:07<54:42,  2.79s/it]"
     ]
    },
    {
     "name": "stdout",
     "output_type": "stream",
     "text": [
      "tivi,31590000,36,8,None,Ho Chi Minh,48990000,None,100,None,100,0,0,0,0,0\n"
     ]
    },
    {
     "name": "stderr",
     "output_type": "stream",
     "text": [
      "Processing rows:   2%|▏         | 23/1200 [01:09<53:21,  2.72s/it]"
     ]
    },
    {
     "name": "stdout",
     "output_type": "stream",
     "text": [
      "tivi,11381000,51,None,None,Ho Chi Minh,22990000,None,97,None,86,0,0,0,0,0\n"
     ]
    },
    {
     "name": "stderr",
     "output_type": "stream",
     "text": [
      "Processing rows:   2%|▏         | 24/1200 [01:12<52:16,  2.67s/it]"
     ]
    },
    {
     "name": "stdout",
     "output_type": "stream",
     "text": [
      "tivi,120000,None,12,7,Tien Giang,None,28700,96,100,100,0,0,0,0,7\n"
     ]
    },
    {
     "name": "stderr",
     "output_type": "stream",
     "text": [
      "Processing rows:   2%|▏         | 25/1200 [01:15<53:05,  2.71s/it]"
     ]
    },
    {
     "name": "stdout",
     "output_type": "stream",
     "text": [
      "tivi,6100000,38,None,None,Ho Chi Minh,9900000,21600,None,None,None,0,0,0,0,0\n"
     ]
    },
    {
     "name": "stderr",
     "output_type": "stream",
     "text": [
      "Processing rows:   2%|▏         | 26/1200 [01:17<50:44,  2.59s/it]"
     ]
    },
    {
     "name": "stdout",
     "output_type": "stream",
     "text": [
      "tivi,4190000,46,None,None,Ho Chi Minh,7690000,131600,None,None,100,0,0,0,0,0\n"
     ]
    },
    {
     "name": "stderr",
     "output_type": "stream",
     "text": [
      "Processing rows:   2%|▏         | 27/1200 [01:21<58:00,  2.97s/it]"
     ]
    },
    {
     "name": "stdout",
     "output_type": "stream",
     "text": [
      "tivi,570000,None,None,None,Ha Noi,None,21700,97,96,55,0,0,0,0,0\n"
     ]
    },
    {
     "name": "stderr",
     "output_type": "stream",
     "text": [
      "Processing rows:   2%|▏         | 28/1200 [01:24<1:00:51,  3.12s/it]"
     ]
    },
    {
     "name": "stdout",
     "output_type": "stream",
     "text": [
      "tivi,2250000,None,59,20,Dong Thap,None,65500,97,94,100,0,0,0,4,16\n"
     ]
    },
    {
     "name": "stderr",
     "output_type": "stream",
     "text": [
      "Processing rows:   2%|▏         | 29/1200 [01:27<57:05,  2.93s/it]  "
     ]
    },
    {
     "name": "stdout",
     "output_type": "stream",
     "text": [
      "tivi,14200000,38,None,None,Ho Chi Minh,22900000,258200,85,50,100,0,0,0,0,0\n"
     ]
    },
    {
     "name": "stderr",
     "output_type": "stream",
     "text": [
      "Processing rows:   2%|▎         | 30/1200 [01:30<59:42,  3.06s/it]"
     ]
    },
    {
     "name": "stdout",
     "output_type": "stream",
     "text": [
      "tivi,6490000,44,None,None,Ho Chi Minh,11490000,131600,None,None,100,0,0,0,0,0\n"
     ]
    },
    {
     "name": "stderr",
     "output_type": "stream",
     "text": [
      "Processing rows:   3%|▎         | 31/1200 [01:32<54:02,  2.77s/it]"
     ]
    },
    {
     "name": "stdout",
     "output_type": "stream",
     "text": [
      "tivi,1675000,11,None,None,Ha Noi,1875000,198200,91,92,100,0,0,0,0,0\n"
     ]
    },
    {
     "name": "stderr",
     "output_type": "stream",
     "text": [
      "Processing rows:   3%|▎         | 32/1200 [01:36<1:02:53,  3.23s/it]"
     ]
    },
    {
     "name": "stdout",
     "output_type": "stream",
     "text": [
      "tivi,6490000,38,473,141,Bac Ninh,10490000,0,96,100,99,2,1,1,1,136\n"
     ]
    },
    {
     "name": "stderr",
     "output_type": "stream",
     "text": [
      "Processing rows:   3%|▎         | 33/1200 [01:39<59:58,  3.08s/it]  "
     ]
    },
    {
     "name": "stdout",
     "output_type": "stream",
     "text": [
      "tivi,2730000,None,None,None,Ho Chi Minh,None,38000,None,None,None,0,0,0,0,0\n"
     ]
    },
    {
     "name": "stderr",
     "output_type": "stream",
     "text": [
      "Processing rows:   3%|▎         | 34/1200 [01:42<56:15,  2.90s/it]"
     ]
    },
    {
     "name": "stdout",
     "output_type": "stream",
     "text": [
      "tivi,3050000,None,None,None,Dong Thap,None,88900,97,85,None,0,0,0,0,0\n"
     ]
    },
    {
     "name": "stderr",
     "output_type": "stream",
     "text": [
      "Processing rows:   3%|▎         | 35/1200 [01:44<53:05,  2.73s/it]"
     ]
    },
    {
     "name": "stdout",
     "output_type": "stream",
     "text": [
      "tivi,7490000,29,None,None,Ho Chi Minh,10490000,131600,None,None,100,0,0,0,0,0\n"
     ]
    },
    {
     "name": "stderr",
     "output_type": "stream",
     "text": [
      "Processing rows:   3%|▎         | 36/1200 [01:46<51:22,  2.65s/it]"
     ]
    },
    {
     "name": "stdout",
     "output_type": "stream",
     "text": [
      "tivi,7990000,None,20,8,Binh Duong,None,None,96,100,99,0,0,0,0,9\n"
     ]
    },
    {
     "name": "stderr",
     "output_type": "stream",
     "text": [
      "Processing rows:   3%|▎         | 37/1200 [01:49<51:58,  2.68s/it]"
     ]
    },
    {
     "name": "stdout",
     "output_type": "stream",
     "text": [
      "tivi,190000,None,18,2,Tien Giang,None,28700,96,100,100,0,0,0,0,3\n"
     ]
    },
    {
     "name": "stderr",
     "output_type": "stream",
     "text": [
      "Processing rows:   3%|▎         | 38/1200 [01:52<50:21,  2.60s/it]"
     ]
    },
    {
     "name": "stdout",
     "output_type": "stream",
     "text": [
      "tivi,230000,None,7,1,Ho Chi Minh,None,16500,99,100,36,0,0,0,0,1\n"
     ]
    },
    {
     "name": "stderr",
     "output_type": "stream",
     "text": [
      "Processing rows:   3%|▎         | 39/1200 [01:54<47:31,  2.46s/it]"
     ]
    },
    {
     "name": "stdout",
     "output_type": "stream",
     "text": [
      "tivi,165000,None,None,3,Ha Tinh,None,43900,96,100,100,0,0,0,0,3\n"
     ]
    },
    {
     "name": "stderr",
     "output_type": "stream",
     "text": [
      "Processing rows:   3%|▎         | 40/1200 [01:57<49:00,  2.54s/it]"
     ]
    },
    {
     "name": "stdout",
     "output_type": "stream",
     "text": [
      "tivi,320000,None,17,6,Tien Giang,None,32200,96,100,100,0,0,0,0,6\n"
     ]
    },
    {
     "name": "stderr",
     "output_type": "stream",
     "text": [
      "Processing rows:   3%|▎         | 41/1200 [01:59<49:50,  2.58s/it]"
     ]
    },
    {
     "name": "stdout",
     "output_type": "stream",
     "text": [
      "tivi,8589000,33,1100,234,Ho Chi Minh,12900000,159200,None,100,100,1,0,0,1,232\n"
     ]
    },
    {
     "name": "stderr",
     "output_type": "stream",
     "text": [
      "Processing rows:   4%|▎         | 42/1200 [02:02<53:22,  2.77s/it]"
     ]
    },
    {
     "name": "stdout",
     "output_type": "stream",
     "text": [
      "tivi,5389000,46,130,7,Ha Noi,9890000,None,100,None,100,0,0,0,0,7\n"
     ]
    },
    {
     "name": "stderr",
     "output_type": "stream",
     "text": [
      "Processing rows:   4%|▎         | 43/1200 [02:06<59:24,  3.08s/it]"
     ]
    },
    {
     "name": "stdout",
     "output_type": "stream",
     "text": [
      "tivi,1998000,20,6,6,Ha Noi,2500000,198200,91,90,100,0,0,0,0,6\n"
     ]
    },
    {
     "name": "stderr",
     "output_type": "stream",
     "text": [
      "Processing rows:   4%|▎         | 44/1200 [02:09<58:09,  3.02s/it]"
     ]
    },
    {
     "name": "stdout",
     "output_type": "stream",
     "text": [
      "tivi,3990000,50,None,None,Ha Noi,7990000,None,None,None,100,0,0,0,0,0\n"
     ]
    },
    {
     "name": "stderr",
     "output_type": "stream",
     "text": [
      "Processing rows:   4%|▍         | 45/1200 [02:11<53:30,  2.78s/it]"
     ]
    },
    {
     "name": "stdout",
     "output_type": "stream",
     "text": [
      "tivi,4290000,7,52,13,Bac Ninh,4590000,0,96,100,99,0,0,0,1,13\n"
     ]
    },
    {
     "name": "stderr",
     "output_type": "stream",
     "text": [
      "Processing rows:   4%|▍         | 46/1200 [02:14<52:05,  2.71s/it]"
     ]
    },
    {
     "name": "stdout",
     "output_type": "stream",
     "text": [
      "tivi,2399000,None,None,None,Ho Chi Minh,None,16500,None,None,60,0,0,0,0,0\n"
     ]
    },
    {
     "name": "stderr",
     "output_type": "stream",
     "text": [
      "Processing rows:   4%|▍         | 47/1200 [02:17<53:06,  2.76s/it]"
     ]
    },
    {
     "name": "stdout",
     "output_type": "stream",
     "text": [
      "tivi,4090000,49,668,291,Bac Ninh,7990000,0,97,93,100,2,2,2,13,272\n"
     ]
    },
    {
     "name": "stderr",
     "output_type": "stream",
     "text": [
      "Processing rows:   4%|▍         | 48/1200 [02:19<50:31,  2.63s/it]"
     ]
    },
    {
     "name": "stdout",
     "output_type": "stream",
     "text": [
      "tivi,5740000,48,2200,921,Ho Chi Minh,10990000,46000,97,93,100,5,0,1,17,898\n"
     ]
    },
    {
     "name": "stderr",
     "output_type": "stream",
     "text": [
      "Processing rows:   4%|▍         | 49/1200 [02:22<55:02,  2.87s/it]"
     ]
    },
    {
     "name": "stdout",
     "output_type": "stream",
     "text": [
      "tivi,7451000,49,75,32,Ho Chi Minh,14690000,79000,99,100,100,0,0,0,1,31\n"
     ]
    },
    {
     "name": "stderr",
     "output_type": "stream",
     "text": [
      "Processing rows:   4%|▍         | 50/1200 [02:25<50:37,  2.64s/it]"
     ]
    },
    {
     "name": "stdout",
     "output_type": "stream",
     "text": [
      "tivi,6289000,20,163,56,Ho Chi Minh,7900000,None,99,None,100,1,0,0,0,55\n"
     ]
    },
    {
     "name": "stderr",
     "output_type": "stream",
     "text": [
      "Processing rows:   4%|▍         | 51/1200 [02:27<49:13,  2.57s/it]"
     ]
    },
    {
     "name": "stdout",
     "output_type": "stream",
     "text": [
      "tivi,11589000,27,86,24,Ho Chi Minh,15900000,146000,None,100,100,0,0,1,0,23\n"
     ]
    },
    {
     "name": "stderr",
     "output_type": "stream",
     "text": [
      "Processing rows:   4%|▍         | 52/1200 [02:30<50:57,  2.66s/it]"
     ]
    },
    {
     "name": "stdout",
     "output_type": "stream",
     "text": [
      "tivi,8920000,47,21,5,Ho Chi Minh,16900000,None,99,None,100,0,0,0,0,5\n"
     ]
    },
    {
     "name": "stderr",
     "output_type": "stream",
     "text": [
      "Processing rows:   4%|▍         | 53/1200 [02:33<55:25,  2.90s/it]"
     ]
    },
    {
     "name": "stdout",
     "output_type": "stream",
     "text": [
      "tivi,8189000,28,103,24,Ho Chi Minh,11400000,131600,None,100,100,0,0,0,1,24\n"
     ]
    },
    {
     "name": "stderr",
     "output_type": "stream",
     "text": [
      "Processing rows:   4%|▍         | 54/1200 [02:36<55:41,  2.92s/it]"
     ]
    },
    {
     "name": "stdout",
     "output_type": "stream",
     "text": [
      "tivi,7889000,28,98,36,Ho Chi Minh,10900000,74700,None,100,100,0,0,0,0,36\n"
     ]
    },
    {
     "name": "stderr",
     "output_type": "stream",
     "text": [
      "Processing rows:   5%|▍         | 55/1200 [02:40<59:07,  3.10s/it]"
     ]
    },
    {
     "name": "stdout",
     "output_type": "stream",
     "text": [
      "tivi,11589000,27,323,63,Ho Chi Minh,15900000,258200,None,100,100,1,0,0,2,60\n"
     ]
    },
    {
     "name": "stderr",
     "output_type": "stream",
     "text": [
      "Processing rows:   5%|▍         | 56/1200 [02:43<1:01:06,  3.20s/it]"
     ]
    },
    {
     "name": "stdout",
     "output_type": "stream",
     "text": [
      "tivi,10899000,22,103,36,Ho Chi Minh,13900000,146000,0,100,100,0,0,0,0,36\n"
     ]
    },
    {
     "name": "stderr",
     "output_type": "stream",
     "text": [
      "Processing rows:   5%|▍         | 57/1200 [02:46<57:43,  3.03s/it]  "
     ]
    },
    {
     "name": "stdout",
     "output_type": "stream",
     "text": [
      "tivi,6390000,19,49,18,Ho Chi Minh,7900000,None,99,None,100,0,0,0,0,19\n"
     ]
    },
    {
     "name": "stderr",
     "output_type": "stream",
     "text": [
      "Processing rows:   5%|▍         | 58/1200 [02:49<59:36,  3.13s/it]"
     ]
    },
    {
     "name": "stdout",
     "output_type": "stream",
     "text": [
      "tivi,9900000,44,5,None,Ho Chi Minh,17800000,238400,85,50,100,0,0,0,0,0\n"
     ]
    },
    {
     "name": "stderr",
     "output_type": "stream",
     "text": [
      "Processing rows:   5%|▍         | 59/1200 [02:52<57:48,  3.04s/it]"
     ]
    },
    {
     "name": "stdout",
     "output_type": "stream",
     "text": [
      "tivi,145350000,20,6,None,Ho Chi Minh,181394000,None,97,None,94,0,0,0,0,0\n"
     ]
    },
    {
     "name": "stderr",
     "output_type": "stream",
     "text": [
      "Processing rows:   5%|▌         | 60/1200 [02:54<53:06,  2.80s/it]"
     ]
    },
    {
     "name": "stdout",
     "output_type": "stream",
     "text": [
      "tivi,33890000,11,84,27,Binh Duong,38290000,None,96,100,99,0,0,0,0,27\n"
     ]
    },
    {
     "name": "stderr",
     "output_type": "stream",
     "text": [
      "Processing rows:   5%|▌         | 61/1200 [02:57<50:55,  2.68s/it]"
     ]
    },
    {
     "name": "stdout",
     "output_type": "stream",
     "text": [
      "tivi,11190000,45,376,171,Ho Chi Minh,20490000,0,96,100,99,3,0,2,0,167\n"
     ]
    },
    {
     "name": "stderr",
     "output_type": "stream",
     "text": [
      "Processing rows:   5%|▌         | 62/1200 [03:00<54:36,  2.88s/it]"
     ]
    },
    {
     "name": "stdout",
     "output_type": "stream",
     "text": [
      "tivi,10095000,44,261,144,Ho Chi Minh,17990000,None,97,93,100,1,1,2,2,138\n"
     ]
    },
    {
     "name": "stderr",
     "output_type": "stream",
     "text": [
      "Processing rows:   5%|▌         | 63/1200 [03:02<51:22,  2.71s/it]"
     ]
    },
    {
     "name": "stdout",
     "output_type": "stream",
     "text": [
      "tivi,29900000,46,None,None,Ho Chi Minh,54900000,None,99,None,100,0,0,0,0,0\n"
     ]
    },
    {
     "name": "stderr",
     "output_type": "stream",
     "text": [
      "Processing rows:   5%|▌         | 64/1200 [03:05<50:06,  2.65s/it]"
     ]
    },
    {
     "name": "stdout",
     "output_type": "stream",
     "text": [
      "tivi,64690000,6,None,None,Ho Chi Minh,68790000,None,100,None,None,0,0,0,0,0\n"
     ]
    },
    {
     "name": "stderr",
     "output_type": "stream",
     "text": [
      "Processing rows:   5%|▌         | 65/1200 [03:08<51:03,  2.70s/it]"
     ]
    },
    {
     "name": "stdout",
     "output_type": "stream",
     "text": [
      "tivi,68119000,43,None,None,Ho Chi Minh,120000000,None,97,None,94,0,0,0,0,0\n"
     ]
    },
    {
     "name": "stderr",
     "output_type": "stream",
     "text": [
      "Processing rows:   6%|▌         | 66/1200 [03:10<49:56,  2.64s/it]"
     ]
    },
    {
     "name": "stdout",
     "output_type": "stream",
     "text": [
      "tivi,7590000,24,715,516,Ho Chi Minh,10000000,46000,97,93,100,3,2,4,4,503\n"
     ]
    },
    {
     "name": "stderr",
     "output_type": "stream",
     "text": [
      "Processing rows:   6%|▌         | 67/1200 [03:13<48:05,  2.55s/it]"
     ]
    },
    {
     "name": "stdout",
     "output_type": "stream",
     "text": [
      "tivi,8600000,46,15,2,Ho Chi Minh,15900000,None,99,None,100,0,0,0,0,2\n"
     ]
    },
    {
     "name": "stderr",
     "output_type": "stream",
     "text": [
      "Processing rows:   6%|▌         | 68/1200 [03:15<45:14,  2.40s/it]"
     ]
    },
    {
     "name": "stdout",
     "output_type": "stream",
     "text": [
      "tivi,60805000,5,None,None,Ho Chi Minh,63900000,None,92,None,100,0,0,0,0,0\n"
     ]
    },
    {
     "name": "stderr",
     "output_type": "stream",
     "text": [
      "Processing rows:   6%|▌         | 69/1200 [03:17<46:35,  2.47s/it]"
     ]
    },
    {
     "name": "stdout",
     "output_type": "stream",
     "text": [
      "tivi,8090000,42,1700,682,Ho Chi Minh,13990000,0,96,100,99,18,4,6,12,641\n"
     ]
    },
    {
     "name": "stderr",
     "output_type": "stream",
     "text": [
      "Processing rows:   6%|▌         | 70/1200 [03:20<47:34,  2.53s/it]"
     ]
    },
    {
     "name": "stdout",
     "output_type": "stream",
     "text": [
      "tivi,17300000,None,None,None,Ho Chi Minh,None,None,99,None,100,0,0,0,0,0\n"
     ]
    },
    {
     "name": "stderr",
     "output_type": "stream",
     "text": [
      "Processing rows:   6%|▌         | 71/1200 [03:22<46:06,  2.45s/it]"
     ]
    },
    {
     "name": "stdout",
     "output_type": "stream",
     "text": [
      "tivi,99900000,None,None,None,Ho Chi Minh,None,None,99,None,100,0,0,0,0,0\n"
     ]
    },
    {
     "name": "stderr",
     "output_type": "stream",
     "text": [
      "Processing rows:   6%|▌         | 72/1200 [03:24<43:55,  2.34s/it]"
     ]
    },
    {
     "name": "stdout",
     "output_type": "stream",
     "text": [
      "tivi,89900000,None,None,None,Ho Chi Minh,None,None,99,None,100,0,0,0,0,0\n"
     ]
    },
    {
     "name": "stderr",
     "output_type": "stream",
     "text": [
      "Processing rows:   6%|▌         | 73/1200 [03:26<43:10,  2.30s/it]"
     ]
    },
    {
     "name": "stdout",
     "output_type": "stream",
     "text": [
      "tivi,115900000,11,6,None,Ho Chi Minh,129900000,None,99,None,100,0,0,0,0,0\n"
     ]
    },
    {
     "name": "stderr",
     "output_type": "stream",
     "text": [
      "Processing rows:   6%|▌         | 74/1200 [03:30<49:16,  2.63s/it]"
     ]
    },
    {
     "name": "stdout",
     "output_type": "stream",
     "text": [
      "tivi,43890000,9,6,1,Binh Duong,48290000,None,96,100,99,0,0,0,0,1\n"
     ]
    },
    {
     "name": "stderr",
     "output_type": "stream",
     "text": [
      "Processing rows:   6%|▋         | 75/1200 [03:32<49:02,  2.62s/it]"
     ]
    },
    {
     "name": "stdout",
     "output_type": "stream",
     "text": [
      "tivi,11392000,14,99,54,Ho Chi Minh,13290000,0,96,100,99,0,1,0,1,53\n"
     ]
    },
    {
     "name": "stderr",
     "output_type": "stream",
     "text": [
      "Processing rows:   6%|▋         | 76/1200 [03:36<52:38,  2.81s/it]"
     ]
    },
    {
     "name": "stdout",
     "output_type": "stream",
     "text": [
      "tivi,6490000,38,490,141,Bac Ninh,10490000,0,96,100,99,2,1,1,1,136\n"
     ]
    },
    {
     "name": "stderr",
     "output_type": "stream",
     "text": [
      "Processing rows:   6%|▋         | 77/1200 [03:39<58:09,  3.11s/it]"
     ]
    },
    {
     "name": "stdout",
     "output_type": "stream",
     "text": [
      "tivi,19992000,9,5,None,Ho Chi Minh,21990000,0,96,100,99,0,0,0,0,0\n"
     ]
    },
    {
     "name": "stderr",
     "output_type": "stream",
     "text": [
      "Processing rows:   6%|▋         | 78/1200 [03:42<54:30,  2.91s/it]"
     ]
    },
    {
     "name": "stdout",
     "output_type": "stream",
     "text": [
      "tivi,12490000,11,12,2,Binh Duong,13990000,0,96,100,99,0,0,1,0,1\n"
     ]
    },
    {
     "name": "stderr",
     "output_type": "stream",
     "text": [
      "Processing rows:   7%|▋         | 79/1200 [03:44<52:01,  2.78s/it]"
     ]
    },
    {
     "name": "stdout",
     "output_type": "stream",
     "text": [
      "tivi,5990000,9,270,138,Ho Chi Minh,6590000,0,96,100,99,0,0,0,0,139\n"
     ]
    },
    {
     "name": "stderr",
     "output_type": "stream",
     "text": [
      "Processing rows:   7%|▋         | 80/1200 [03:47<52:41,  2.82s/it]"
     ]
    },
    {
     "name": "stdout",
     "output_type": "stream",
     "text": [
      "tivi,9250000,49,17,5,Ho Chi Minh,17990000,72400,99,100,100,0,0,0,1,4\n"
     ]
    },
    {
     "name": "stderr",
     "output_type": "stream",
     "text": [
      "Processing rows:   7%|▋         | 81/1200 [03:50<50:05,  2.69s/it]"
     ]
    },
    {
     "name": "stdout",
     "output_type": "stream",
     "text": [
      "tivi,920486,3,76,26,Ha Noi,950000,115100,91,95,93,0,0,0,2,24\n"
     ]
    },
    {
     "name": "stderr",
     "output_type": "stream",
     "text": [
      "Processing rows:   7%|▋         | 82/1200 [03:52<48:41,  2.61s/it]"
     ]
    },
    {
     "name": "stdout",
     "output_type": "stream",
     "text": [
      "tivi,2151660,8,28,12,Ha Noi,2350000,198200,91,95,93,1,0,0,0,11\n"
     ]
    },
    {
     "name": "stderr",
     "output_type": "stream",
     "text": [
      "Processing rows:   7%|▋         | 83/1200 [03:55<50:27,  2.71s/it]"
     ]
    },
    {
     "name": "stdout",
     "output_type": "stream",
     "text": [
      "tivi,1435853,7,20,9,Ha Noi,2050000,198200,91,95,93,1,0,0,1,7\n"
     ]
    },
    {
     "name": "stderr",
     "output_type": "stream",
     "text": [
      "Processing rows:   7%|▋         | 84/1200 [03:57<48:39,  2.62s/it]"
     ]
    },
    {
     "name": "stdout",
     "output_type": "stream",
     "text": [
      "tivi,1369480,2,24,7,Ha Noi,1400000,198200,91,95,93,0,0,0,0,7\n"
     ]
    },
    {
     "name": "stderr",
     "output_type": "stream",
     "text": [
      "Processing rows:   7%|▋         | 85/1200 [04:00<46:32,  2.50s/it]"
     ]
    },
    {
     "name": "stdout",
     "output_type": "stream",
     "text": [
      "tivi,1100000,None,9,3,Ho Chi Minh,None,74700,85,100,65,0,0,0,0,3\n"
     ]
    },
    {
     "name": "stderr",
     "output_type": "stream",
     "text": [
      "Processing rows:   7%|▋         | 86/1200 [04:03<50:32,  2.72s/it]"
     ]
    },
    {
     "name": "stdout",
     "output_type": "stream",
     "text": [
      "tivi,2777000,44,319,118,Ho Chi Minh,4990000,None,97,None,84,0,1,1,1,116\n"
     ]
    },
    {
     "name": "stderr",
     "output_type": "stream",
     "text": [
      "Processing rows:   7%|▋         | 87/1200 [04:05<48:26,  2.61s/it]"
     ]
    },
    {
     "name": "stdout",
     "output_type": "stream",
     "text": [
      "tivi,4689000,41,16,None,Ha Noi,7900000,None,100,None,100,0,0,0,0,1\n"
     ]
    },
    {
     "name": "stderr",
     "output_type": "stream",
     "text": [
      "Processing rows:   7%|▋         | 88/1200 [04:09<54:09,  2.92s/it]"
     ]
    },
    {
     "name": "stdout",
     "output_type": "stream",
     "text": [
      "tivi,4048000,19,388,107,Ho Chi Minh,4990000,None,97,None,84,2,3,1,4,98\n"
     ]
    },
    {
     "name": "stderr",
     "output_type": "stream",
     "text": [
      "Processing rows:   7%|▋         | 89/1200 [04:11<50:18,  2.72s/it]"
     ]
    },
    {
     "name": "stdout",
     "output_type": "stream",
     "text": [
      "tivi,7490000,49,9,5,Ha Noi,14790000,None,100,None,100,0,0,0,0,5\n"
     ]
    },
    {
     "name": "stderr",
     "output_type": "stream",
     "text": [
      "Processing rows:   8%|▊         | 90/1200 [04:14<48:20,  2.61s/it]"
     ]
    },
    {
     "name": "stdout",
     "output_type": "stream",
     "text": [
      "tivi,3366000,43,None,None,Ha Noi,5900000,None,None,None,100,0,0,0,0,1\n"
     ]
    },
    {
     "name": "stderr",
     "output_type": "stream",
     "text": [
      "Processing rows:   8%|▊         | 91/1200 [04:17<55:11,  2.99s/it]"
     ]
    },
    {
     "name": "stdout",
     "output_type": "stream",
     "text": [
      "tivi,7450000,25,17,10,Ho Chi Minh,9990000,0,97,0,84,0,0,0,0,10\n"
     ]
    },
    {
     "name": "stderr",
     "output_type": "stream",
     "text": [
      "Processing rows:   8%|▊         | 92/1200 [04:20<52:18,  2.83s/it]"
     ]
    },
    {
     "name": "stdout",
     "output_type": "stream",
     "text": [
      "tivi,8390000,15,78,34,Ho Chi Minh,9900000,0,99,0,100,0,0,0,0,35\n"
     ]
    },
    {
     "name": "stderr",
     "output_type": "stream",
     "text": [
      "Processing rows:   8%|▊         | 93/1200 [04:22<49:55,  2.71s/it]"
     ]
    },
    {
     "name": "stdout",
     "output_type": "stream",
     "text": [
      "tivi,7094000,29,262,180,Ho Chi Minh,10000000,31600,97,93,100,0,2,1,14,163\n"
     ]
    },
    {
     "name": "stderr",
     "output_type": "stream",
     "text": [
      "Processing rows:   8%|▊         | 94/1200 [04:26<55:21,  3.00s/it]"
     ]
    },
    {
     "name": "stdout",
     "output_type": "stream",
     "text": [
      "tivi,7090000,45,37,17,Ho Chi Minh,13000000,31600,97,93,100,0,0,2,0,16\n"
     ]
    },
    {
     "name": "stderr",
     "output_type": "stream",
     "text": [
      "Processing rows:   8%|▊         | 95/1200 [04:29<53:04,  2.88s/it]"
     ]
    },
    {
     "name": "stdout",
     "output_type": "stream",
     "text": [
      "tivi,4785000,47,62,27,Ho Chi Minh,8990000,112600,97,93,100,2,0,0,1,24\n"
     ]
    },
    {
     "name": "stderr",
     "output_type": "stream",
     "text": [
      "Processing rows:   8%|▊         | 96/1200 [04:31<51:54,  2.82s/it]"
     ]
    },
    {
     "name": "stdout",
     "output_type": "stream",
     "text": [
      "tivi,20900000,46,None,None,Ho Chi Minh,38900000,None,99,None,100,0,0,0,0,0\n"
     ]
    },
    {
     "name": "stderr",
     "output_type": "stream",
     "text": [
      "Processing rows:   8%|▊         | 97/1200 [04:34<52:16,  2.84s/it]"
     ]
    },
    {
     "name": "stdout",
     "output_type": "stream",
     "text": [
      "tivi,17590000,44,12,4,Ho Chi Minh,31290000,501400,99,100,100,0,0,0,0,4\n"
     ]
    },
    {
     "name": "stderr",
     "output_type": "stream",
     "text": [
      "Processing rows:   8%|▊         | 98/1200 [04:38<58:19,  3.18s/it]"
     ]
    },
    {
     "name": "stdout",
     "output_type": "stream",
     "text": [
      "tivi,31590000,36,8,None,Ho Chi Minh,48990000,None,100,None,100,0,0,0,0,0\n"
     ]
    },
    {
     "name": "stderr",
     "output_type": "stream",
     "text": [
      "Processing rows:   8%|▊         | 99/1200 [04:43<1:07:00,  3.65s/it]"
     ]
    },
    {
     "name": "stdout",
     "output_type": "stream",
     "text": [
      "tivi,8290000,16,None,None,Ho Chi Minh,9900000,74700,None,100,75,0,0,0,0,0\n"
     ]
    },
    {
     "name": "stderr",
     "output_type": "stream",
     "text": [
      "Processing rows:   8%|▊         | 100/1200 [04:46<1:02:53,  3.43s/it]"
     ]
    },
    {
     "name": "stdout",
     "output_type": "stream",
     "text": [
      "tivi,90589000,35,None,None,Ho Chi Minh,139900000,None,97,None,94,0,0,0,0,0\n"
     ]
    },
    {
     "name": "stderr",
     "output_type": "stream",
     "text": [
      "Processing rows:   8%|▊         | 101/1200 [04:48<57:35,  3.14s/it]  "
     ]
    },
    {
     "name": "stdout",
     "output_type": "stream",
     "text": [
      "tivi,9789000,25,66,15,Binh Duong,13000000,0,98,0,97,0,0,0,0,15\n"
     ]
    },
    {
     "name": "stderr",
     "output_type": "stream",
     "text": [
      "Processing rows:   8%|▊         | 102/1200 [04:51<54:37,  2.98s/it]"
     ]
    },
    {
     "name": "stdout",
     "output_type": "stream",
     "text": [
      "tivi,4190000,46,None,None,Ho Chi Minh,7690000,131600,None,None,100,0,0,0,0,0\n"
     ]
    },
    {
     "name": "stderr",
     "output_type": "stream",
     "text": [
      "Processing rows:   9%|▊         | 103/1200 [04:54<53:14,  2.91s/it]"
     ]
    },
    {
     "name": "stdout",
     "output_type": "stream",
     "text": [
      "tivi,8290000,44,None,None,Ho Chi Minh,14900000,74700,85,50,100,0,0,0,0,0\n"
     ]
    },
    {
     "name": "stderr",
     "output_type": "stream",
     "text": [
      "Processing rows:   9%|▊         | 104/1200 [04:56<49:41,  2.72s/it]"
     ]
    },
    {
     "name": "stdout",
     "output_type": "stream",
     "text": [
      "tivi,10990000,45,23,8,Ho Chi Minh,19990000,125200,99,100,100,0,0,0,0,9\n"
     ]
    },
    {
     "name": "stderr",
     "output_type": "stream",
     "text": [
      "Processing rows:   9%|▉         | 105/1200 [05:00<55:37,  3.05s/it]"
     ]
    },
    {
     "name": "stdout",
     "output_type": "stream",
     "text": [
      "tivi,14490000,None,21,1,Binh Duong,None,None,96,100,99,0,0,0,0,2\n"
     ]
    },
    {
     "name": "stderr",
     "output_type": "stream",
     "text": [
      "Processing rows:   9%|▉         | 106/1200 [05:02<52:43,  2.89s/it]"
     ]
    },
    {
     "name": "stdout",
     "output_type": "stream",
     "text": [
      "tivi,7990000,None,20,8,Binh Duong,None,None,96,100,99,0,0,0,0,9\n"
     ]
    },
    {
     "name": "stderr",
     "output_type": "stream",
     "text": [
      "Processing rows:   9%|▉         | 107/1200 [05:04<49:06,  2.70s/it]"
     ]
    },
    {
     "name": "stdout",
     "output_type": "stream",
     "text": [
      "tivi,13990000,26,None,None,Ha Noi,18990000,None,None,None,100,0,0,0,0,0\n"
     ]
    },
    {
     "name": "stderr",
     "output_type": "stream",
     "text": [
      "Processing rows:   9%|▉         | 108/1200 [05:08<51:46,  2.84s/it]"
     ]
    },
    {
     "name": "stdout",
     "output_type": "stream",
     "text": [
      "tivi,9420000,40,33,8,Ho Chi Minh,15690000,125200,99,100,100,0,0,0,0,8\n"
     ]
    },
    {
     "name": "stderr",
     "output_type": "stream",
     "text": [
      "Processing rows:   9%|▉         | 109/1200 [05:10<48:00,  2.64s/it]"
     ]
    },
    {
     "name": "stdout",
     "output_type": "stream",
     "text": [
      "tivi,34895000,6,None,None,Binh Duong,36990000,None,96,100,99,0,0,0,0,0\n"
     ]
    },
    {
     "name": "stderr",
     "output_type": "stream",
     "text": [
      "Processing rows:   9%|▉         | 110/1200 [05:13<48:26,  2.67s/it]"
     ]
    },
    {
     "name": "stdout",
     "output_type": "stream",
     "text": [
      "tivi,24990000,22,None,None,Ha Noi,32190000,None,None,None,100,0,0,0,0,0\n"
     ]
    },
    {
     "name": "stderr",
     "output_type": "stream",
     "text": [
      "Processing rows:   9%|▉         | 111/1200 [05:18<1:02:39,  3.45s/it]"
     ]
    },
    {
     "name": "stdout",
     "output_type": "stream",
     "text": [
      "tivi,62990000,11,None,None,Ha Noi,70590000,None,None,None,100,0,0,0,0,0\n"
     ]
    },
    {
     "name": "stderr",
     "output_type": "stream",
     "text": [
      "Processing rows:   9%|▉         | 112/1200 [05:20<55:42,  3.07s/it]  "
     ]
    },
    {
     "name": "stdout",
     "output_type": "stream",
     "text": [
      "tivi,23990000,35,None,None,Ha Noi,36900000,None,None,None,100,0,0,0,0,0\n"
     ]
    },
    {
     "name": "stderr",
     "output_type": "stream",
     "text": [
      "Processing rows:   9%|▉         | 113/1200 [05:23<53:00,  2.93s/it]"
     ]
    },
    {
     "name": "stdout",
     "output_type": "stream",
     "text": [
      "tivi,19990000,31,None,None,Ha Noi,28900000,None,None,None,100,0,0,0,0,0\n"
     ]
    },
    {
     "name": "stderr",
     "output_type": "stream",
     "text": [
      "Processing rows:  10%|▉         | 114/1200 [05:25<49:15,  2.72s/it]"
     ]
    },
    {
     "name": "stdout",
     "output_type": "stream",
     "text": [
      "tivi,20990000,62,5,None,Ho Chi Minh,54990000,270400,99,100,100,0,0,0,0,0\n"
     ]
    },
    {
     "name": "stderr",
     "output_type": "stream",
     "text": [
      "Processing rows:  10%|▉         | 115/1200 [05:27<46:53,  2.59s/it]"
     ]
    },
    {
     "name": "stdout",
     "output_type": "stream",
     "text": [
      "tivi,16490000,8,18,8,Binh Duong,17990000,0,96,100,99,0,0,0,1,7\n"
     ]
    },
    {
     "name": "stderr",
     "output_type": "stream",
     "text": [
      "Processing rows:  10%|▉         | 116/1200 [05:30<50:52,  2.82s/it]"
     ]
    },
    {
     "name": "stdout",
     "output_type": "stream",
     "text": [
      "tivi,24290000,7,None,0,Binh Duong,25990000,0,96,100,99,0,0,0,0,1\n"
     ]
    },
    {
     "name": "stderr",
     "output_type": "stream",
     "text": [
      "Processing rows:  10%|▉         | 117/1200 [05:33<50:17,  2.79s/it]"
     ]
    },
    {
     "name": "stdout",
     "output_type": "stream",
     "text": [
      "tivi,48498000,12,9,None,Ho Chi Minh,55000000,None,97,93,100,0,0,0,0,0\n"
     ]
    },
    {
     "name": "stderr",
     "output_type": "stream",
     "text": [
      "Processing rows:  10%|▉         | 118/1200 [05:36<48:32,  2.69s/it]"
     ]
    },
    {
     "name": "stdout",
     "output_type": "stream",
     "text": [
      "tivi,6989000,53,None,None,Ha Noi,14790000,None,None,None,100,0,0,0,0,0\n"
     ]
    },
    {
     "name": "stderr",
     "output_type": "stream",
     "text": [
      "Processing rows:  10%|▉         | 119/1200 [05:39<52:03,  2.89s/it]"
     ]
    },
    {
     "name": "stdout",
     "output_type": "stream",
     "text": [
      "tivi,10190000,None,None,None,Binh Duong,None,None,96,100,99,0,0,0,0,0\n"
     ]
    },
    {
     "name": "stderr",
     "output_type": "stream",
     "text": [
      "Processing rows:  10%|█         | 120/1200 [05:43<55:21,  3.08s/it]"
     ]
    },
    {
     "name": "stdout",
     "output_type": "stream",
     "text": [
      "tivi,19290000,None,None,None,Binh Duong,None,None,96,100,99,0,0,0,0,0\n"
     ]
    },
    {
     "name": "stderr",
     "output_type": "stream",
     "text": [
      "Processing rows:  10%|█         | 121/1200 [05:47<1:00:20,  3.36s/it]"
     ]
    },
    {
     "name": "stdout",
     "output_type": "stream",
     "text": [
      "tivi,5850000,6,11,5,Ha Noi,6250000,125300,100,40,None,0,0,0,0,6\n"
     ]
    },
    {
     "name": "stderr",
     "output_type": "stream",
     "text": [
      "Processing rows:  10%|█         | 122/1200 [05:50<1:01:51,  3.44s/it]"
     ]
    },
    {
     "name": "stdout",
     "output_type": "stream",
     "text": [
      "tivi,8363000,40,33,14,Ho Chi Minh,14000000,None,98,100,99,0,0,0,1,13\n"
     ]
    },
    {
     "name": "stderr",
     "output_type": "stream",
     "text": [
      "Processing rows:  10%|█         | 123/1200 [05:52<55:32,  3.09s/it]  "
     ]
    },
    {
     "name": "stdout",
     "output_type": "stream",
     "text": [
      "tivi,5713000,35,462,178,Ho Chi Minh,8800000,None,97,None,84,1,2,2,5,169\n"
     ]
    },
    {
     "name": "stderr",
     "output_type": "stream",
     "text": [
      "Processing rows:  10%|█         | 124/1200 [05:56<56:12,  3.13s/it]"
     ]
    },
    {
     "name": "stdout",
     "output_type": "stream",
     "text": [
      "tivi,5190000,37,5,3,Ha Noi,8290000,None,100,None,100,0,0,0,0,3\n"
     ]
    },
    {
     "name": "stderr",
     "output_type": "stream",
     "text": [
      "Processing rows:  10%|█         | 125/1200 [05:59<56:39,  3.16s/it]"
     ]
    },
    {
     "name": "stdout",
     "output_type": "stream",
     "text": [
      "tivi,2200950,15,60,27,Ha Noi,2600000,135500,91,95,93,2,0,0,1,24\n"
     ]
    },
    {
     "name": "stderr",
     "output_type": "stream",
     "text": [
      "Processing rows:  10%|█         | 126/1200 [06:02<54:56,  3.07s/it]"
     ]
    },
    {
     "name": "stdout",
     "output_type": "stream",
     "text": [
      "tivi,1850000,None,11,4,Ha Noi,None,206800,91,95,93,0,0,0,0,4\n"
     ]
    },
    {
     "name": "stderr",
     "output_type": "stream",
     "text": [
      "Processing rows:  11%|█         | 127/1200 [06:05<54:10,  3.03s/it]"
     ]
    },
    {
     "name": "stdout",
     "output_type": "stream",
     "text": [
      "tivi,3565542,4,30,17,Ha Noi,3700000,206800,91,95,93,1,0,1,0,15\n"
     ]
    },
    {
     "name": "stderr",
     "output_type": "stream",
     "text": [
      "Processing rows:  11%|█         | 128/1200 [06:07<50:25,  2.82s/it]"
     ]
    },
    {
     "name": "stdout",
     "output_type": "stream",
     "text": [
      "tivi,2490000,None,None,None,Thái Bình,None,141300,None,None,100,0,0,0,0,0\n"
     ]
    },
    {
     "name": "stderr",
     "output_type": "stream",
     "text": [
      "Processing rows:  11%|█         | 129/1200 [06:12<59:43,  3.35s/it]"
     ]
    },
    {
     "name": "stdout",
     "output_type": "stream",
     "text": [
      "tivi,3750000,None,5,1,Ha Noi,None,198200,91,95,93,0,0,0,0,1\n"
     ]
    },
    {
     "name": "stderr",
     "output_type": "stream",
     "text": [
      "Processing rows:  11%|█         | 130/1200 [06:14<55:47,  3.13s/it]"
     ]
    },
    {
     "name": "stdout",
     "output_type": "stream",
     "text": [
      "tivi,950000,None,None,1,Ha Noi,None,198200,86,96,80,0,0,0,0,1\n"
     ]
    },
    {
     "name": "stderr",
     "output_type": "stream",
     "text": [
      "Processing rows:  11%|█         | 131/1200 [06:19<1:01:44,  3.47s/it]"
     ]
    },
    {
     "name": "stdout",
     "output_type": "stream",
     "text": [
      "tivi,5492000,45,50,17,Ho Chi Minh,9900000,31600,97,93,100,0,0,0,1,16\n"
     ]
    },
    {
     "name": "stderr",
     "output_type": "stream",
     "text": [
      "Processing rows:  11%|█         | 132/1200 [06:21<56:44,  3.19s/it]  "
     ]
    },
    {
     "name": "stdout",
     "output_type": "stream",
     "text": [
      "tivi,8200000,39,10,4,Ho Chi Minh,13390000,159200,85,50,100,0,0,0,0,5\n"
     ]
    },
    {
     "name": "stderr",
     "output_type": "stream",
     "text": [
      "Processing rows:  11%|█         | 133/1200 [06:25<59:50,  3.37s/it]"
     ]
    },
    {
     "name": "stdout",
     "output_type": "stream",
     "text": [
      "tivi,14900000,48,7,None,Ho Chi Minh,28900000,None,99,None,100,0,0,0,0,0\n"
     ]
    },
    {
     "name": "stderr",
     "output_type": "stream",
     "text": [
      "Processing rows:  11%|█         | 134/1200 [06:28<57:17,  3.22s/it]"
     ]
    },
    {
     "name": "stdout",
     "output_type": "stream",
     "text": [
      "tivi,16790000,17,7,1,Ha Noi,20190000,None,97,100,94,0,0,0,0,1\n"
     ]
    },
    {
     "name": "stderr",
     "output_type": "stream",
     "text": [
      "Processing rows:  11%|█▏        | 135/1200 [06:31<58:27,  3.29s/it]"
     ]
    },
    {
     "name": "stdout",
     "output_type": "stream",
     "text": [
      "tivi,39990000,53,None,None,Ha Noi,84900000,None,100,None,100,0,0,0,0,0\n"
     ]
    },
    {
     "name": "stderr",
     "output_type": "stream",
     "text": [
      "Processing rows:  11%|█▏        | 136/1200 [06:34<54:25,  3.07s/it]"
     ]
    },
    {
     "name": "stdout",
     "output_type": "stream",
     "text": [
      "tivi,2280000,24,22,10,Ho Chi Minh,2990000,0,99,100,100,0,0,0,0,10\n"
     ]
    },
    {
     "name": "stderr",
     "output_type": "stream",
     "text": [
      "Processing rows:  11%|█▏        | 137/1200 [06:36<49:57,  2.82s/it]"
     ]
    },
    {
     "name": "stdout",
     "output_type": "stream",
     "text": [
      "tivi,6990000,None,None,None,Ho Chi Minh,None,59400,None,100,75,0,0,0,0,0\n"
     ]
    },
    {
     "name": "stderr",
     "output_type": "stream",
     "text": [
      "Processing rows:  12%|█▏        | 138/1200 [06:39<51:46,  2.93s/it]"
     ]
    },
    {
     "name": "stdout",
     "output_type": "stream",
     "text": [
      "tivi,35990000,37,None,None,Ha Noi,56900000,None,None,None,100,0,0,0,0,0\n"
     ]
    },
    {
     "name": "stderr",
     "output_type": "stream",
     "text": [
      "Processing rows:  12%|█▏        | 139/1200 [06:42<51:33,  2.92s/it]"
     ]
    },
    {
     "name": "stdout",
     "output_type": "stream",
     "text": [
      "tivi,54500000,None,18,None,Ho Chi Minh,None,None,78,None,None,0,0,0,0,0\n"
     ]
    },
    {
     "name": "stderr",
     "output_type": "stream",
     "text": [
      "Processing rows:  12%|█▏        | 140/1200 [06:45<49:35,  2.81s/it]"
     ]
    },
    {
     "name": "stdout",
     "output_type": "stream",
     "text": [
      "tivi,10190000,46,None,None,Ho Chi Minh,18990000,337400,None,None,100,0,0,0,0,0\n"
     ]
    },
    {
     "name": "stderr",
     "output_type": "stream",
     "text": [
      "Processing rows:  12%|█▏        | 141/1200 [06:47<49:13,  2.79s/it]"
     ]
    },
    {
     "name": "stdout",
     "output_type": "stream",
     "text": [
      "tivi,7956000,49,None,None,Ho Chi Minh,15600000,131600,None,100,75,0,0,0,0,0\n"
     ]
    },
    {
     "name": "stderr",
     "output_type": "stream",
     "text": [
      "Processing rows:  12%|█▏        | 142/1200 [06:52<57:33,  3.26s/it]"
     ]
    },
    {
     "name": "stdout",
     "output_type": "stream",
     "text": [
      "tivi,17690000,23,None,None,Ha Noi,22900000,None,None,None,100,0,0,0,0,0\n"
     ]
    },
    {
     "name": "stderr",
     "output_type": "stream",
     "text": [
      "Processing rows:  12%|█▏        | 143/1200 [06:54<52:20,  2.97s/it]"
     ]
    },
    {
     "name": "stdout",
     "output_type": "stream",
     "text": [
      "tivi,62290000,30,None,None,Ha Noi,89000000,None,None,None,100,0,0,0,0,0\n"
     ]
    },
    {
     "name": "stderr",
     "output_type": "stream",
     "text": [
      "Processing rows:  12%|█▏        | 144/1200 [06:58<57:01,  3.24s/it]"
     ]
    },
    {
     "name": "stdout",
     "output_type": "stream",
     "text": [
      "tivi,11990000,33,None,None,Ha Noi,17900000,None,None,None,100,0,0,0,0,0\n"
     ]
    },
    {
     "name": "stderr",
     "output_type": "stream",
     "text": [
      "Processing rows:  12%|█▏        | 145/1200 [07:00<51:17,  2.92s/it]"
     ]
    },
    {
     "name": "stdout",
     "output_type": "stream",
     "text": [
      "tivi,33990000,19,None,None,Ha Noi,41900000,None,None,None,100,0,0,0,0,0\n"
     ]
    },
    {
     "name": "stderr",
     "output_type": "stream",
     "text": [
      "Processing rows:  12%|█▏        | 146/1200 [07:03<51:33,  2.93s/it]"
     ]
    },
    {
     "name": "stdout",
     "output_type": "stream",
     "text": [
      "tivi,17490000,33,None,None,Ha Noi,25990000,None,None,None,100,0,0,0,0,0\n"
     ]
    },
    {
     "name": "stderr",
     "output_type": "stream",
     "text": [
      "Processing rows:  12%|█▏        | 147/1200 [07:06<53:25,  3.04s/it]"
     ]
    },
    {
     "name": "stdout",
     "output_type": "stream",
     "text": [
      "tivi,92900000,None,None,None,Ha Noi,None,None,None,None,100,0,0,0,0,0\n"
     ]
    },
    {
     "name": "stderr",
     "output_type": "stream",
     "text": [
      "Processing rows:  12%|█▏        | 148/1200 [07:09<51:32,  2.94s/it]"
     ]
    },
    {
     "name": "stdout",
     "output_type": "stream",
     "text": [
      "tivi,26990000,13,None,None,Ha Noi,30990000,None,None,None,100,0,0,0,0,0\n"
     ]
    },
    {
     "name": "stderr",
     "output_type": "stream",
     "text": [
      "Processing rows:  12%|█▏        | 149/1200 [07:11<47:13,  2.70s/it]"
     ]
    },
    {
     "name": "stdout",
     "output_type": "stream",
     "text": [
      "tivi,21990000,8,None,None,Ha Noi,23900000,None,None,None,100,0,0,0,0,0\n"
     ]
    },
    {
     "name": "stderr",
     "output_type": "stream",
     "text": [
      "Processing rows:  12%|█▎        | 150/1200 [07:15<50:49,  2.90s/it]"
     ]
    },
    {
     "name": "stdout",
     "output_type": "stream",
     "text": [
      "tivi,23990000,14,None,None,Ha Noi,27900000,None,None,None,100,0,0,0,0,0\n"
     ]
    },
    {
     "name": "stderr",
     "output_type": "stream",
     "text": [
      "Processing rows:  13%|█▎        | 151/1200 [07:18<56:04,  3.21s/it]"
     ]
    },
    {
     "name": "stdout",
     "output_type": "stream",
     "text": [
      "tivi,32990000,13,None,None,Ha Noi,37900000,None,None,None,100,0,0,0,0,0\n"
     ]
    },
    {
     "name": "stderr",
     "output_type": "stream",
     "text": [
      "Processing rows:  13%|█▎        | 152/1200 [07:21<51:22,  2.94s/it]"
     ]
    },
    {
     "name": "stdout",
     "output_type": "stream",
     "text": [
      "tivi,8290000,45,None,None,Ho Chi Minh,15000000,31600,97,93,100,0,0,0,0,0\n"
     ]
    },
    {
     "name": "stderr",
     "output_type": "stream",
     "text": [
      "Processing rows:  13%|█▎        | 153/1200 [07:23<47:28,  2.72s/it]"
     ]
    },
    {
     "name": "stdout",
     "output_type": "stream",
     "text": [
      "tivi,42900000,33,None,None,Ha Noi,63900000,None,None,None,100,0,0,0,0,0\n"
     ]
    },
    {
     "name": "stderr",
     "output_type": "stream",
     "text": [
      "Processing rows:  13%|█▎        | 154/1200 [07:26<46:39,  2.68s/it]"
     ]
    },
    {
     "name": "stdout",
     "output_type": "stream",
     "text": [
      "tivi,23990000,25,None,None,Ha Noi,31900000,None,None,None,100,0,0,0,0,0\n"
     ]
    },
    {
     "name": "stderr",
     "output_type": "stream",
     "text": [
      "Processing rows:  13%|█▎        | 155/1200 [07:28<45:42,  2.62s/it]"
     ]
    },
    {
     "name": "stdout",
     "output_type": "stream",
     "text": [
      "tivi,37990000,5,None,1,Binh Duong,39990000,0,96,100,99,0,0,0,0,1\n"
     ]
    },
    {
     "name": "stderr",
     "output_type": "stream",
     "text": [
      "Processing rows:  13%|█▎        | 156/1200 [07:31<48:51,  2.81s/it]"
     ]
    },
    {
     "name": "stdout",
     "output_type": "stream",
     "text": [
      "tivi,11271000,44,5,3,Ho Chi Minh,19990000,148600,97,100,100,0,0,0,0,2\n"
     ]
    },
    {
     "name": "stderr",
     "output_type": "stream",
     "text": [
      "Processing rows:  13%|█▎        | 157/1200 [07:34<45:57,  2.64s/it]"
     ]
    },
    {
     "name": "stdout",
     "output_type": "stream",
     "text": [
      "tivi,10690000,15,None,None,Ha Noi,12590000,None,None,None,100,0,0,0,0,0\n"
     ]
    },
    {
     "name": "stderr",
     "output_type": "stream",
     "text": [
      "Processing rows:  13%|█▎        | 158/1200 [07:36<46:02,  2.65s/it]"
     ]
    },
    {
     "name": "stdout",
     "output_type": "stream",
     "text": [
      "tivi,8090000,61,None,None,Ho Chi Minh,21000000,46000,97,93,100,0,0,0,0,0\n"
     ]
    },
    {
     "name": "stderr",
     "output_type": "stream",
     "text": [
      "Processing rows:  13%|█▎        | 159/1200 [07:39<44:50,  2.58s/it]"
     ]
    },
    {
     "name": "stdout",
     "output_type": "stream",
     "text": [
      "tivi,12990000,22,None,None,Ha Noi,16590000,None,None,None,100,0,0,0,0,0\n"
     ]
    },
    {
     "name": "stderr",
     "output_type": "stream",
     "text": [
      "Processing rows:  13%|█▎        | 160/1200 [07:42<47:13,  2.72s/it]"
     ]
    },
    {
     "name": "stdout",
     "output_type": "stream",
     "text": [
      "tivi,11090000,26,5,None,Ho Chi Minh,15000000,46000,97,93,100,0,0,0,0,0\n"
     ]
    },
    {
     "name": "stderr",
     "output_type": "stream",
     "text": [
      "Processing rows:  13%|█▎        | 161/1200 [07:44<47:19,  2.73s/it]"
     ]
    },
    {
     "name": "stdout",
     "output_type": "stream",
     "text": [
      "tivi,2990000,46,189,57,Ha Noi,5490000,None,98,None,None,0,0,0,0,58\n"
     ]
    },
    {
     "name": "stderr",
     "output_type": "stream",
     "text": [
      "Processing rows:  14%|█▎        | 162/1200 [07:47<45:32,  2.63s/it]"
     ]
    },
    {
     "name": "stdout",
     "output_type": "stream",
     "text": [
      "tivi,4689000,48,9,None,Ha Noi,9090000,None,100,None,100,0,0,0,0,0\n"
     ]
    },
    {
     "name": "stderr",
     "output_type": "stream",
     "text": [
      "Processing rows:  14%|█▎        | 163/1200 [07:50<46:50,  2.71s/it]"
     ]
    },
    {
     "name": "stdout",
     "output_type": "stream",
     "text": [
      "tivi,3003074,2,21,17,Ha Noi,3070000,198200,91,95,93,1,0,1,1,14\n"
     ]
    },
    {
     "name": "stderr",
     "output_type": "stream",
     "text": [
      "Processing rows:  14%|█▎        | 164/1200 [07:52<46:41,  2.70s/it]"
     ]
    },
    {
     "name": "stdout",
     "output_type": "stream",
     "text": [
      "tivi,3200000,None,24,10,Ha Noi,None,198200,91,95,93,0,0,0,0,10\n"
     ]
    },
    {
     "name": "stderr",
     "output_type": "stream",
     "text": [
      "Processing rows:  14%|█▍        | 165/1200 [07:55<45:31,  2.64s/it]"
     ]
    },
    {
     "name": "stdout",
     "output_type": "stream",
     "text": [
      "tivi,3257406,2,7,1,Ha Noi,3330000,198200,91,95,93,0,0,0,1,1\n"
     ]
    },
    {
     "name": "stderr",
     "output_type": "stream",
     "text": [
      "Processing rows:  14%|█▍        | 166/1200 [07:58<46:06,  2.68s/it]"
     ]
    },
    {
     "name": "stdout",
     "output_type": "stream",
     "text": [
      "tivi,1349000,7,9,2,Ha Noi,1450000,198200,91,90,100,0,0,0,0,2\n"
     ]
    },
    {
     "name": "stderr",
     "output_type": "stream",
     "text": [
      "Processing rows:  14%|█▍        | 167/1200 [08:01<48:26,  2.81s/it]"
     ]
    },
    {
     "name": "stdout",
     "output_type": "stream",
     "text": [
      "tivi,1694000,11,5,1,Ha Noi,1895000,198200,91,90,100,0,0,0,0,1\n"
     ]
    },
    {
     "name": "stderr",
     "output_type": "stream",
     "text": [
      "Processing rows:  14%|█▍        | 168/1200 [08:04<52:23,  3.05s/it]"
     ]
    },
    {
     "name": "stdout",
     "output_type": "stream",
     "text": [
      "tivi,1700000,None,7,3,Ho Chi Minh,None,74700,85,100,65,0,0,0,0,3\n"
     ]
    },
    {
     "name": "stderr",
     "output_type": "stream",
     "text": [
      "Processing rows:  14%|█▍        | 169/1200 [08:07<51:00,  2.97s/it]"
     ]
    },
    {
     "name": "stdout",
     "output_type": "stream",
     "text": [
      "tivi,2829000,29,58,25,Ho Chi Minh,4000000,None,97,None,94,0,0,0,0,25\n"
     ]
    },
    {
     "name": "stderr",
     "output_type": "stream",
     "text": [
      "Processing rows:  14%|█▍        | 170/1200 [08:11<53:54,  3.14s/it]"
     ]
    },
    {
     "name": "stdout",
     "output_type": "stream",
     "text": [
      "tivi,7290000,27,7,3,Ho Chi Minh,10000000,None,98,100,99,0,0,0,0,3\n"
     ]
    },
    {
     "name": "stderr",
     "output_type": "stream",
     "text": [
      "Processing rows:  14%|█▍        | 171/1200 [08:13<49:48,  2.90s/it]"
     ]
    },
    {
     "name": "stdout",
     "output_type": "stream",
     "text": [
      "tivi,8011000,30,28,10,Ho Chi Minh,11490000,None,97,None,84,0,0,0,0,11\n"
     ]
    },
    {
     "name": "stderr",
     "output_type": "stream",
     "text": [
      "Processing rows:  14%|█▍        | 172/1200 [08:16<49:14,  2.87s/it]"
     ]
    },
    {
     "name": "stdout",
     "output_type": "stream",
     "text": [
      "tivi,6348000,29,95,28,Ho Chi Minh,8900000,0,97,0,84,0,0,0,0,28\n"
     ]
    },
    {
     "name": "stderr",
     "output_type": "stream",
     "text": [
      "Processing rows:  14%|█▍        | 173/1200 [08:19<50:10,  2.93s/it]"
     ]
    },
    {
     "name": "stdout",
     "output_type": "stream",
     "text": [
      "tivi,230000,None,73,26,Ho Chi Minh,None,16500,99,100,None,0,0,0,0,26\n"
     ]
    },
    {
     "name": "stderr",
     "output_type": "stream",
     "text": [
      "Processing rows:  14%|█▍        | 174/1200 [08:21<46:44,  2.73s/it]"
     ]
    },
    {
     "name": "stdout",
     "output_type": "stream",
     "text": [
      "tivi,6376000,23,14,6,Ho Chi Minh,8288000,None,98,None,100,0,0,0,1,5\n"
     ]
    },
    {
     "name": "stderr",
     "output_type": "stream",
     "text": [
      "Processing rows:  15%|█▍        | 175/1200 [08:24<44:31,  2.61s/it]"
     ]
    },
    {
     "name": "stdout",
     "output_type": "stream",
     "text": [
      "tivi,33188000,22,26,1,Ho Chi Minh,42550000,None,100,None,50,0,0,0,0,1\n"
     ]
    },
    {
     "name": "stderr",
     "output_type": "stream",
     "text": [
      "Processing rows:  15%|█▍        | 176/1200 [08:26<46:06,  2.70s/it]"
     ]
    },
    {
     "name": "stdout",
     "output_type": "stream",
     "text": [
      "tivi,25990000,33,8,1,Ho Chi Minh,38850000,None,100,None,50,0,0,0,0,1\n"
     ]
    },
    {
     "name": "stderr",
     "output_type": "stream",
     "text": [
      "Processing rows:  15%|█▍        | 177/1200 [08:29<47:22,  2.78s/it]"
     ]
    },
    {
     "name": "stdout",
     "output_type": "stream",
     "text": [
      "tivi,8730000,27,None,1,Ho Chi Minh,12000000,None,97,None,94,0,0,0,1,0\n"
     ]
    },
    {
     "name": "stderr",
     "output_type": "stream",
     "text": [
      "Processing rows:  15%|█▍        | 178/1200 [08:33<49:27,  2.90s/it]"
     ]
    },
    {
     "name": "stdout",
     "output_type": "stream",
     "text": [
      "tivi,1499000,21,234,112,Ho Chi Minh,1899000,27300,98,100,100,3,0,2,12,95\n"
     ]
    },
    {
     "name": "stderr",
     "output_type": "stream",
     "text": [
      "Processing rows:  15%|█▍        | 179/1200 [08:36<49:33,  2.91s/it]"
     ]
    },
    {
     "name": "stdout",
     "output_type": "stream",
     "text": [
      "tivi,13600000,33,None,1,Ho Chi Minh,20390000,271400,85,50,100,0,0,0,0,1\n"
     ]
    },
    {
     "name": "stderr",
     "output_type": "stream",
     "text": [
      "Processing rows:  15%|█▌        | 180/1200 [08:38<49:39,  2.92s/it]"
     ]
    },
    {
     "name": "stdout",
     "output_type": "stream",
     "text": [
      "tivi,15299000,27,None,None,Ho Chi Minh,21000000,164800,97,93,100,0,0,0,0,0\n"
     ]
    },
    {
     "name": "stderr",
     "output_type": "stream",
     "text": [
      "Processing rows:  15%|█▌        | 181/1200 [08:41<47:00,  2.77s/it]"
     ]
    },
    {
     "name": "stdout",
     "output_type": "stream",
     "text": [
      "tivi,17290000,20,40,10,Binh Duong,21700000,None,98,None,97,0,0,0,0,10\n"
     ]
    },
    {
     "name": "stderr",
     "output_type": "stream",
     "text": [
      "Processing rows:  15%|█▌        | 182/1200 [08:44<46:19,  2.73s/it]"
     ]
    },
    {
     "name": "stdout",
     "output_type": "stream",
     "text": [
      "tivi,1500000,12,None,1,Ho Chi Minh,1700000,71100,92,100,75,0,0,1,0,1\n"
     ]
    },
    {
     "name": "stderr",
     "output_type": "stream",
     "text": [
      "Processing rows:  15%|█▌        | 183/1200 [08:47<50:46,  3.00s/it]"
     ]
    },
    {
     "name": "stdout",
     "output_type": "stream",
     "text": [
      "tivi,33900000,None,None,None,Ho Chi Minh,None,None,None,None,None,0,0,0,0,0\n"
     ]
    },
    {
     "name": "stderr",
     "output_type": "stream",
     "text": [
      "Processing rows:  15%|█▌        | 184/1200 [08:50<49:28,  2.92s/it]"
     ]
    },
    {
     "name": "stdout",
     "output_type": "stream",
     "text": [
      "tivi,67990000,32,None,None,Ha Noi,99999000,None,None,None,100,0,0,0,0,0\n"
     ]
    },
    {
     "name": "stderr",
     "output_type": "stream",
     "text": [
      "Processing rows:  15%|█▌        | 185/1200 [08:52<46:57,  2.78s/it]"
     ]
    },
    {
     "name": "stdout",
     "output_type": "stream",
     "text": [
      "tivi,2790000,None,None,None,Ho Chi Minh,None,46000,100,None,66,0,0,0,0,0\n"
     ]
    },
    {
     "name": "stderr",
     "output_type": "stream",
     "text": [
      "Processing rows:  16%|█▌        | 186/1200 [08:55<45:11,  2.67s/it]"
     ]
    },
    {
     "name": "stdout",
     "output_type": "stream",
     "text": [
      "tivi,1500000,None,None,None,Binh Duong,None,585800,None,None,None,0,0,0,0,0\n"
     ]
    },
    {
     "name": "stderr",
     "output_type": "stream",
     "text": [
      "Processing rows:  16%|█▌        | 187/1200 [08:57<42:29,  2.52s/it]"
     ]
    },
    {
     "name": "stdout",
     "output_type": "stream",
     "text": [
      "tivi,38990000,50,None,None,Ha Noi,77900000,None,None,None,100,0,0,0,0,0\n"
     ]
    },
    {
     "name": "stderr",
     "output_type": "stream",
     "text": [
      "Processing rows:  16%|█▌        | 188/1200 [08:59<41:17,  2.45s/it]"
     ]
    },
    {
     "name": "stdout",
     "output_type": "stream",
     "text": [
      "tivi,27990000,38,None,None,Ha Noi,44990000,None,None,None,100,0,0,0,0,0\n"
     ]
    },
    {
     "name": "stderr",
     "output_type": "stream",
     "text": [
      "Processing rows:  16%|█▌        | 189/1200 [09:02<41:21,  2.45s/it]"
     ]
    },
    {
     "name": "stdout",
     "output_type": "stream",
     "text": [
      "tivi,14490000,None,None,None,Bac Ninh,None,0,96,100,99,0,0,0,0,0\n"
     ]
    },
    {
     "name": "stderr",
     "output_type": "stream",
     "text": [
      "Processing rows:  16%|█▌        | 190/1200 [09:04<43:17,  2.57s/it]"
     ]
    },
    {
     "name": "stdout",
     "output_type": "stream",
     "text": [
      "tivi,3200000,9,None,2,Ho Chi Minh,3500000,74700,85,100,65,0,0,0,0,2\n"
     ]
    },
    {
     "name": "stderr",
     "output_type": "stream",
     "text": [
      "Processing rows:  16%|█▌        | 191/1200 [09:07<40:47,  2.43s/it]"
     ]
    },
    {
     "name": "stdout",
     "output_type": "stream",
     "text": [
      "tivi,6990000,41,None,None,Binh Duong,27990000,None,100,None,None,0,0,0,0,1\n"
     ]
    },
    {
     "name": "stderr",
     "output_type": "stream",
     "text": [
      "Processing rows:  16%|█▌        | 192/1200 [09:09<41:15,  2.46s/it]"
     ]
    },
    {
     "name": "stdout",
     "output_type": "stream",
     "text": [
      "tivi,12990000,23,None,None,Ha Noi,16900000,None,None,None,100,0,0,0,0,0\n"
     ]
    },
    {
     "name": "stderr",
     "output_type": "stream",
     "text": [
      "Processing rows:  16%|█▌        | 193/1200 [09:14<52:01,  3.10s/it]"
     ]
    },
    {
     "name": "stdout",
     "output_type": "stream",
     "text": [
      "tivi,8992000,18,15,5,Ho Chi Minh,10990000,0,96,100,99,0,0,0,0,5\n"
     ]
    },
    {
     "name": "stderr",
     "output_type": "stream",
     "text": [
      "Processing rows:  16%|█▌        | 194/1200 [09:17<53:30,  3.19s/it]"
     ]
    },
    {
     "name": "stdout",
     "output_type": "stream",
     "text": [
      "tivi,31990000,45,None,None,Ha Noi,57900000,None,None,None,100,0,0,0,0,0\n"
     ]
    },
    {
     "name": "stderr",
     "output_type": "stream",
     "text": [
      "Processing rows:  16%|█▋        | 195/1200 [09:20<51:28,  3.07s/it]"
     ]
    },
    {
     "name": "stdout",
     "output_type": "stream",
     "text": [
      "tivi,5890000,29,None,None,Ha Noi,8290000,None,None,None,100,0,0,0,0,0\n"
     ]
    },
    {
     "name": "stderr",
     "output_type": "stream",
     "text": [
      "Processing rows:  16%|█▋        | 196/1200 [09:22<46:39,  2.79s/it]"
     ]
    },
    {
     "name": "stdout",
     "output_type": "stream",
     "text": [
      "tivi,25990000,35,None,None,Ha Noi,39900000,None,None,None,100,0,0,0,0,0\n"
     ]
    },
    {
     "name": "stderr",
     "output_type": "stream",
     "text": [
      "Processing rows:  16%|█▋        | 197/1200 [09:25<46:22,  2.77s/it]"
     ]
    },
    {
     "name": "stdout",
     "output_type": "stream",
     "text": [
      "tivi,15990000,20,None,None,Ha Noi,None,None,None,None,None,0,0,0,0,0\n"
     ]
    },
    {
     "name": "stderr",
     "output_type": "stream",
     "text": [
      "Processing rows:  16%|█▋        | 198/1200 [09:27<43:24,  2.60s/it]"
     ]
    },
    {
     "name": "stdout",
     "output_type": "stream",
     "text": [
      "tivi,10890000,11,None,None,Ha Noi,12190000,None,None,None,100,0,0,0,0,0\n"
     ]
    },
    {
     "name": "stderr",
     "output_type": "stream",
     "text": [
      "Processing rows:  17%|█▋        | 199/1200 [09:30<43:25,  2.60s/it]"
     ]
    },
    {
     "name": "stdout",
     "output_type": "stream",
     "text": [
      "tivi,4590000,45,None,None,Ha Noi,8290000,None,None,None,100,0,0,0,0,0\n"
     ]
    },
    {
     "name": "stderr",
     "output_type": "stream",
     "text": [
      "Processing rows:  17%|█▋        | 200/1200 [09:32<40:34,  2.43s/it]"
     ]
    },
    {
     "name": "stdout",
     "output_type": "stream",
     "text": [
      "tivi,16990000,32,None,None,Ha Noi,24900000,None,None,None,100,0,0,0,0,0\n"
     ]
    },
    {
     "name": "stderr",
     "output_type": "stream",
     "text": [
      "Processing rows:  17%|█▋        | 201/1200 [09:34<41:54,  2.52s/it]"
     ]
    },
    {
     "name": "stdout",
     "output_type": "stream",
     "text": [
      "tivi,8589000,33,1100,234,Ho Chi Minh,12900000,159200,None,100,100,1,0,0,1,232\n"
     ]
    },
    {
     "name": "stderr",
     "output_type": "stream",
     "text": [
      "Processing rows:  17%|█▋        | 202/1200 [09:37<40:49,  2.45s/it]"
     ]
    },
    {
     "name": "stdout",
     "output_type": "stream",
     "text": [
      "tivi,8189000,28,102,24,Ho Chi Minh,11400000,131600,None,100,100,0,0,0,1,24\n"
     ]
    },
    {
     "name": "stderr",
     "output_type": "stream",
     "text": [
      "Processing rows:  17%|█▋        | 203/1200 [09:40<44:31,  2.68s/it]"
     ]
    },
    {
     "name": "stdout",
     "output_type": "stream",
     "text": [
      "tivi,11589000,27,324,64,Ho Chi Minh,15900000,258200,None,100,100,1,0,0,2,61\n"
     ]
    },
    {
     "name": "stderr",
     "output_type": "stream",
     "text": [
      "Processing rows:  17%|█▋        | 204/1200 [09:43<47:29,  2.86s/it]"
     ]
    },
    {
     "name": "stdout",
     "output_type": "stream",
     "text": [
      "tivi,7847300,44,1700,682,Ho Chi Minh,13990000,0,96,100,100,18,4,6,12,641\n"
     ]
    },
    {
     "name": "stderr",
     "output_type": "stream",
     "text": [
      "Processing rows:  17%|█▋        | 205/1200 [09:46<46:21,  2.80s/it]"
     ]
    },
    {
     "name": "stdout",
     "output_type": "stream",
     "text": [
      "tivi,6492000,38,494,142,Bac Ninh,10490000,0,96,100,100,2,1,1,1,137\n"
     ]
    },
    {
     "name": "stderr",
     "output_type": "stream",
     "text": [
      "Processing rows:  17%|█▋        | 206/1200 [09:49<47:19,  2.86s/it]"
     ]
    },
    {
     "name": "stdout",
     "output_type": "stream",
     "text": [
      "tivi,8920000,47,22,5,Ho Chi Minh,16900000,None,99,None,96,0,0,0,0,5\n"
     ]
    },
    {
     "name": "stderr",
     "output_type": "stream",
     "text": [
      "Processing rows:  17%|█▋        | 207/1200 [09:52<49:21,  2.98s/it]"
     ]
    },
    {
     "name": "stdout",
     "output_type": "stream",
     "text": [
      "tivi,7889000,28,98,36,Ho Chi Minh,10900000,74700,None,100,100,0,0,0,0,36\n"
     ]
    },
    {
     "name": "stderr",
     "output_type": "stream",
     "text": [
      "Processing rows:  17%|█▋        | 208/1200 [09:56<55:56,  3.38s/it]"
     ]
    },
    {
     "name": "stdout",
     "output_type": "stream",
     "text": [
      "tivi,5389000,46,131,7,Ha Noi,9890000,None,100,None,100,0,0,0,0,7\n"
     ]
    },
    {
     "name": "stderr",
     "output_type": "stream",
     "text": [
      "Processing rows:  17%|█▋        | 209/1200 [09:59<53:53,  3.26s/it]"
     ]
    },
    {
     "name": "stdout",
     "output_type": "stream",
     "text": [
      "tivi,8600000,46,11,2,Ho Chi Minh,15900000,None,99,None,96,0,0,0,0,2\n"
     ]
    },
    {
     "name": "stderr",
     "output_type": "stream",
     "text": [
      "Processing rows:  18%|█▊        | 210/1200 [10:02<50:02,  3.03s/it]"
     ]
    },
    {
     "name": "stdout",
     "output_type": "stream",
     "text": [
      "tivi,3990000,50,None,None,Ha Noi,7990000,None,None,None,100,0,0,0,0,0\n"
     ]
    },
    {
     "name": "stderr",
     "output_type": "stream",
     "text": [
      "Processing rows:  18%|█▊        | 211/1200 [10:06<57:06,  3.47s/it]"
     ]
    },
    {
     "name": "stdout",
     "output_type": "stream",
     "text": [
      "tivi,11589000,27,85,25,Ho Chi Minh,15900000,146000,None,100,100,0,0,1,0,24\n"
     ]
    },
    {
     "name": "stderr",
     "output_type": "stream",
     "text": [
      "Processing rows:  18%|█▊        | 212/1200 [10:09<53:23,  3.24s/it]"
     ]
    },
    {
     "name": "stdout",
     "output_type": "stream",
     "text": [
      "tivi,7090000,45,36,17,Ho Chi Minh,13000000,31600,97,93,100,0,0,2,0,16\n"
     ]
    },
    {
     "name": "stderr",
     "output_type": "stream",
     "text": [
      "Processing rows:  18%|█▊        | 213/1200 [10:11<48:14,  2.93s/it]"
     ]
    },
    {
     "name": "stdout",
     "output_type": "stream",
     "text": [
      "tivi,6390000,19,147,56,Ho Chi Minh,7900000,None,99,None,96,1,0,0,0,55\n"
     ]
    },
    {
     "name": "stderr",
     "output_type": "stream",
     "text": [
      "Processing rows:  18%|█▊        | 214/1200 [10:14<46:13,  2.81s/it]"
     ]
    },
    {
     "name": "stdout",
     "output_type": "stream",
     "text": [
      "tivi,230000,None,72,26,Ho Chi Minh,None,16500,99,100,None,0,0,0,0,26\n"
     ]
    },
    {
     "name": "stderr",
     "output_type": "stream",
     "text": [
      "Processing rows:  18%|█▊        | 215/1200 [10:17<48:43,  2.97s/it]"
     ]
    },
    {
     "name": "stdout",
     "output_type": "stream",
     "text": [
      "tivi,5740000,48,2200,921,Ho Chi Minh,10990000,46000,97,93,100,5,0,1,17,898\n"
     ]
    },
    {
     "name": "stderr",
     "output_type": "stream",
     "text": [
      "Processing rows:  18%|█▊        | 216/1200 [10:19<45:01,  2.75s/it]"
     ]
    },
    {
     "name": "stdout",
     "output_type": "stream",
     "text": [
      "tivi,10899000,22,103,36,Ho Chi Minh,13900000,146000,0,100,100,0,0,0,0,36\n"
     ]
    },
    {
     "name": "stderr",
     "output_type": "stream",
     "text": [
      "Processing rows:  18%|█▊        | 217/1200 [10:23<49:53,  3.05s/it]"
     ]
    },
    {
     "name": "stdout",
     "output_type": "stream",
     "text": [
      "tivi,2151660,8,28,12,Ha Noi,2350000,198200,91,95,93,1,0,0,0,11\n"
     ]
    },
    {
     "name": "stderr",
     "output_type": "stream",
     "text": [
      "Processing rows:  18%|█▊        | 218/1200 [10:26<50:03,  3.06s/it]"
     ]
    },
    {
     "name": "stdout",
     "output_type": "stream",
     "text": [
      "tivi,4090000,49,670,291,Bac Ninh,7990000,0,97,93,100,2,2,2,13,272\n"
     ]
    },
    {
     "name": "stderr",
     "output_type": "stream",
     "text": [
      "Processing rows:  18%|█▊        | 219/1200 [10:28<45:58,  2.81s/it]"
     ]
    },
    {
     "name": "stdout",
     "output_type": "stream",
     "text": [
      "tivi,6390000,19,49,18,Ho Chi Minh,7900000,None,99,None,96,0,0,0,0,19\n"
     ]
    },
    {
     "name": "stderr",
     "output_type": "stream",
     "text": [
      "Processing rows:  18%|█▊        | 220/1200 [10:31<43:36,  2.67s/it]"
     ]
    },
    {
     "name": "stdout",
     "output_type": "stream",
     "text": [
      "tivi,920486,3,76,26,Ha Noi,950000,115100,91,95,93,0,0,0,3,24\n"
     ]
    },
    {
     "name": "stderr",
     "output_type": "stream",
     "text": [
      "Processing rows:  18%|█▊        | 221/1200 [10:33<42:14,  2.59s/it]"
     ]
    },
    {
     "name": "stdout",
     "output_type": "stream",
     "text": [
      "tivi,9900000,44,5,None,Ho Chi Minh,17800000,238400,85,50,100,0,0,0,0,0\n"
     ]
    },
    {
     "name": "stderr",
     "output_type": "stream",
     "text": [
      "Processing rows:  18%|█▊        | 222/1200 [10:37<47:16,  2.90s/it]"
     ]
    },
    {
     "name": "stdout",
     "output_type": "stream",
     "text": [
      "tivi,2399000,None,None,None,Ho Chi Minh,None,16500,None,None,33,0,0,0,0,0\n"
     ]
    },
    {
     "name": "stderr",
     "output_type": "stream",
     "text": [
      "Processing rows:  19%|█▊        | 223/1200 [10:39<45:15,  2.78s/it]"
     ]
    },
    {
     "name": "stdout",
     "output_type": "stream",
     "text": [
      "tivi,33890000,11,83,27,Binh Duong,38290000,None,96,100,100,0,0,0,0,27\n"
     ]
    },
    {
     "name": "stderr",
     "output_type": "stream",
     "text": [
      "Processing rows:  19%|█▊        | 224/1200 [10:44<54:17,  3.34s/it]"
     ]
    },
    {
     "name": "stdout",
     "output_type": "stream",
     "text": [
      "tivi,11190000,45,375,171,Ho Chi Minh,20490000,0,96,100,100,3,0,2,0,167\n"
     ]
    },
    {
     "name": "stderr",
     "output_type": "stream",
     "text": [
      "Processing rows:  19%|█▉        | 225/1200 [10:47<53:52,  3.32s/it]"
     ]
    },
    {
     "name": "stdout",
     "output_type": "stream",
     "text": [
      "tivi,10095000,44,263,144,Ho Chi Minh,17990000,None,97,93,100,1,1,2,2,138\n"
     ]
    },
    {
     "name": "stderr",
     "output_type": "stream",
     "text": [
      "Processing rows:  19%|█▉        | 226/1200 [10:50<49:15,  3.03s/it]"
     ]
    },
    {
     "name": "stdout",
     "output_type": "stream",
     "text": [
      "tivi,7590000,24,710,516,Ho Chi Minh,10000000,46000,97,93,100,3,2,4,4,503\n"
     ]
    },
    {
     "name": "stderr",
     "output_type": "stream",
     "text": [
      "Processing rows:  19%|█▉        | 227/1200 [10:52<45:01,  2.78s/it]"
     ]
    },
    {
     "name": "stdout",
     "output_type": "stream",
     "text": [
      "tivi,60805000,5,None,None,Ho Chi Minh,63900000,None,92,None,100,0,0,0,0,0\n"
     ]
    },
    {
     "name": "stderr",
     "output_type": "stream",
     "text": [
      "Processing rows:  19%|█▉        | 228/1200 [10:54<43:21,  2.68s/it]"
     ]
    },
    {
     "name": "stdout",
     "output_type": "stream",
     "text": [
      "tivi,2998000,6,6,Hà Nội,2500000,198200,91,90,95,0,0,0,0,6\n"
     ]
    },
    {
     "name": "stderr",
     "output_type": "stream",
     "text": [
      "Processing rows:  19%|█▉        | 229/1200 [10:57<44:30,  2.75s/it]"
     ]
    },
    {
     "name": "stdout",
     "output_type": "stream",
     "text": [
      "tivi,7451000,49,76,33,Ho Chi Minh,14690000,79000,99,100,100,0,0,0,1,32\n"
     ]
    },
    {
     "name": "stderr",
     "output_type": "stream",
     "text": [
      "Processing rows:  19%|█▉        | 230/1200 [11:00<46:36,  2.88s/it]"
     ]
    },
    {
     "name": "stdout",
     "output_type": "stream",
     "text": [
      "tivi,99900000,None,None,None,Ho Chi Minh,None,None,99,None,96,0,0,0,0,0\n"
     ]
    },
    {
     "name": "stderr",
     "output_type": "stream",
     "text": [
      "Processing rows:  19%|█▉        | 231/1200 [11:03<43:49,  2.71s/it]"
     ]
    },
    {
     "name": "stdout",
     "output_type": "stream",
     "text": [
      "tivi,1100000,None,8,3,Ho Chi Minh,None,74700,85,100,70,0,0,0,0,3\n"
     ]
    },
    {
     "name": "stderr",
     "output_type": "stream",
     "text": [
      "Processing rows:  19%|█▉        | 232/1200 [11:06<47:19,  2.93s/it]"
     ]
    },
    {
     "name": "stdout",
     "output_type": "stream",
     "text": [
      "tivi,89900000,None,None,None,Ho Chi Minh,None,None,99,None,96,0,0,0,0,0\n"
     ]
    },
    {
     "name": "stderr",
     "output_type": "stream",
     "text": [
      "Processing rows:  19%|█▉        | 233/1200 [11:09<45:23,  2.82s/it]"
     ]
    },
    {
     "name": "stdout",
     "output_type": "stream",
     "text": [
      "tivi,171005000,5,None,None,Ho Chi Minh,179900000,None,92,None,100,0,0,0,0,0\n"
     ]
    },
    {
     "name": "stderr",
     "output_type": "stream",
     "text": [
      "Processing rows:  20%|█▉        | 234/1200 [11:12<45:50,  2.85s/it]"
     ]
    },
    {
     "name": "stdout",
     "output_type": "stream",
     "text": [
      "tivi,43890000,9,6,1,Binh Duong,48290000,None,96,100,100,0,0,0,0,1\n"
     ]
    },
    {
     "name": "stderr",
     "output_type": "stream",
     "text": [
      "Processing rows:  20%|█▉        | 235/1200 [11:14<44:23,  2.76s/it]"
     ]
    },
    {
     "name": "stdout",
     "output_type": "stream",
     "text": [
      "tivi,11392000,14,96,54,Ho Chi Minh,13290000,0,96,100,100,0,1,0,1,53\n"
     ]
    },
    {
     "name": "stderr",
     "output_type": "stream",
     "text": [
      "Processing rows:  20%|█▉        | 236/1200 [11:17<45:10,  2.81s/it]"
     ]
    },
    {
     "name": "stdout",
     "output_type": "stream",
     "text": [
      "tivi,1369480,2,24,7,Ha Noi,1400000,198200,91,95,93,0,0,0,0,7\n"
     ]
    },
    {
     "name": "stderr",
     "output_type": "stream",
     "text": [
      "Processing rows:  20%|█▉        | 237/1200 [11:20<44:29,  2.77s/it]"
     ]
    },
    {
     "name": "stdout",
     "output_type": "stream",
     "text": [
      "tivi,19992000,9,6,None,Ho Chi Minh,21990000,0,96,100,100,0,0,0,0,0\n"
     ]
    },
    {
     "name": "stderr",
     "output_type": "stream",
     "text": [
      "Processing rows:  20%|█▉        | 238/1200 [11:22<43:12,  2.70s/it]"
     ]
    },
    {
     "name": "stdout",
     "output_type": "stream",
     "text": [
      "tivi,12490000,11,7,2,Binh Duong,13990000,0,96,100,100,0,0,1,0,1\n"
     ]
    },
    {
     "name": "stderr",
     "output_type": "stream",
     "text": [
      "Processing rows:  20%|█▉        | 239/1200 [11:25<45:12,  2.82s/it]"
     ]
    },
    {
     "name": "stdout",
     "output_type": "stream",
     "text": [
      "tivi,9250000,49,16,5,Ho Chi Minh,17990000,72400,99,100,100,0,0,0,1,4\n"
     ]
    },
    {
     "name": "stderr",
     "output_type": "stream",
     "text": [
      "Processing rows:  20%|██        | 240/1200 [11:28<44:07,  2.76s/it]"
     ]
    },
    {
     "name": "stdout",
     "output_type": "stream",
     "text": [
      "tivi,7990000,None,20,8,Binh Duong,None,None,96,100,100,0,0,0,0,9\n"
     ]
    },
    {
     "name": "stderr",
     "output_type": "stream",
     "text": [
      "Processing rows:  20%|██        | 241/1200 [11:30<43:09,  2.70s/it]"
     ]
    },
    {
     "name": "stdout",
     "output_type": "stream",
     "text": [
      "tivi,4290000,7,52,13,Bac Ninh,4590000,0,96,100,100,0,0,0,1,13\n"
     ]
    },
    {
     "name": "stderr",
     "output_type": "stream",
     "text": [
      "Processing rows:  20%|██        | 242/1200 [11:33<42:38,  2.67s/it]"
     ]
    },
    {
     "name": "stdout",
     "output_type": "stream",
     "text": [
      "tivi,2777000,44,321,118,Ho Chi Minh,4990000,None,97,None,81,0,1,1,1,116\n"
     ]
    },
    {
     "name": "stderr",
     "output_type": "stream",
     "text": [
      "Processing rows:  20%|██        | 243/1200 [11:37<46:21,  2.91s/it]"
     ]
    },
    {
     "name": "stdout",
     "output_type": "stream",
     "text": [
      "tivi,16490000,8,22,8,Binh Duong,17990000,0,96,100,100,0,0,0,1,7\n"
     ]
    },
    {
     "name": "stderr",
     "output_type": "stream",
     "text": [
      "Processing rows:  20%|██        | 244/1200 [11:40<47:52,  3.00s/it]"
     ]
    },
    {
     "name": "stdout",
     "output_type": "stream",
     "text": [
      "tivi,7450000,25,18,10,Ho Chi Minh,9990000,0,97,0,81,0,0,0,0,10\n"
     ]
    },
    {
     "name": "stderr",
     "output_type": "stream",
     "text": [
      "Processing rows:  20%|██        | 245/1200 [11:42<46:24,  2.92s/it]"
     ]
    },
    {
     "name": "stdout",
     "output_type": "stream",
     "text": [
      "tivi,5713000,35,461,178,Ho Chi Minh,8800000,None,97,None,81,1,2,2,5,169\n"
     ]
    },
    {
     "name": "stderr",
     "output_type": "stream",
     "text": [
      "Processing rows:  20%|██        | 246/1200 [11:45<45:07,  2.84s/it]"
     ]
    },
    {
     "name": "stdout",
     "output_type": "stream",
     "text": [
      "tivi,4048000,19,386,107,Ho Chi Minh,4990000,None,97,None,81,2,3,1,4,98\n"
     ]
    },
    {
     "name": "stderr",
     "output_type": "stream",
     "text": [
      "Processing rows:  21%|██        | 247/1200 [11:48<43:27,  2.74s/it]"
     ]
    },
    {
     "name": "stdout",
     "output_type": "stream",
     "text": [
      "tivi,7490000,49,10,5,Ha Noi,14790000,None,100,None,100,0,0,0,0,5\n"
     ]
    },
    {
     "name": "stderr",
     "output_type": "stream",
     "text": [
      "Processing rows:  21%|██        | 248/1200 [11:50<42:59,  2.71s/it]"
     ]
    },
    {
     "name": "stdout",
     "output_type": "stream",
     "text": [
      "tivi,6590000,55,None,None,Ha Noi,14790000,None,None,None,100,0,0,0,0,0\n"
     ]
    },
    {
     "name": "stderr",
     "output_type": "stream",
     "text": [
      "Processing rows:  21%|██        | 249/1200 [11:53<42:50,  2.70s/it]"
     ]
    },
    {
     "name": "stdout",
     "output_type": "stream",
     "text": [
      "tivi,9789000,25,66,15,Binh Duong,13000000,0,98,0,98,0,0,0,0,15\n"
     ]
    },
    {
     "name": "stderr",
     "output_type": "stream",
     "text": [
      "Processing rows:  21%|██        | 250/1200 [11:55<41:02,  2.59s/it]"
     ]
    },
    {
     "name": "stdout",
     "output_type": "stream",
     "text": [
      "tivi,8390000,15,78,34,Ho Chi Minh,9900000,0,99,0,96,0,0,0,0,35\n"
     ]
    },
    {
     "name": "stderr",
     "output_type": "stream",
     "text": [
      "Processing rows:  21%|██        | 251/1200 [11:58<39:54,  2.52s/it]"
     ]
    },
    {
     "name": "stdout",
     "output_type": "stream",
     "text": [
      "tivi,4785000,47,63,27,Ho Chi Minh,8990000,112600,97,93,100,2,0,0,1,24\n"
     ]
    },
    {
     "name": "stderr",
     "output_type": "stream",
     "text": [
      "Processing rows:  21%|██        | 252/1200 [12:00<38:12,  2.42s/it]"
     ]
    },
    {
     "name": "stdout",
     "output_type": "stream",
     "text": [
      "tivi,5492000,45,49,17,Ho Chi Minh,9900000,31600,97,93,100,0,0,0,1,16\n"
     ]
    },
    {
     "name": "stderr",
     "output_type": "stream",
     "text": [
      "Processing rows:  21%|██        | 253/1200 [12:02<38:44,  2.45s/it]"
     ]
    },
    {
     "name": "stdout",
     "output_type": "stream",
     "text": [
      "tivi,145350000,20,6,None,Ho Chi Minh,181394000,None,97,None,95,0,0,0,0,0\n"
     ]
    },
    {
     "name": "stderr",
     "output_type": "stream",
     "text": [
      "Processing rows:  21%|██        | 254/1200 [12:05<38:01,  2.41s/it]"
     ]
    },
    {
     "name": "stdout",
     "output_type": "stream",
     "text": [
      "tivi,14900000,48,7,None,Ho Chi Minh,28900000,None,99,None,96,0,0,0,0,0\n"
     ]
    },
    {
     "name": "stderr",
     "output_type": "stream",
     "text": [
      "Processing rows:  21%|██▏       | 255/1200 [12:07<38:54,  2.47s/it]"
     ]
    },
    {
     "name": "stdout",
     "output_type": "stream",
     "text": [
      "tivi,64690000,6,None,None,Ho Chi Minh,68790000,None,100,None,None,0,0,0,0,0\n"
     ]
    },
    {
     "name": "stderr",
     "output_type": "stream",
     "text": [
      "Processing rows:  21%|██▏       | 256/1200 [12:10<39:32,  2.51s/it]"
     ]
    },
    {
     "name": "stdout",
     "output_type": "stream",
     "text": [
      "tivi,17590000,44,12,4,Ho Chi Minh,31290000,501400,99,100,100,0,0,0,0,4\n"
     ]
    },
    {
     "name": "stderr",
     "output_type": "stream",
     "text": [
      "Processing rows:  21%|██▏       | 257/1200 [12:12<37:44,  2.40s/it]"
     ]
    },
    {
     "name": "stdout",
     "output_type": "stream",
     "text": [
      "tivi,8290000,16,None,None,Ho Chi Minh,9900000,74700,None,100,75,0,0,0,0,0\n"
     ]
    },
    {
     "name": "stderr",
     "output_type": "stream",
     "text": [
      "Processing rows:  22%|██▏       | 258/1200 [12:15<40:06,  2.55s/it]"
     ]
    },
    {
     "name": "stdout",
     "output_type": "stream",
     "text": [
      "tivi,950000,None,None,1,Ha Noi,None,198200,86,96,80,0,0,0,0,1\n"
     ]
    },
    {
     "name": "stderr",
     "output_type": "stream",
     "text": [
      "Processing rows:  22%|██▏       | 259/1200 [12:18<40:36,  2.59s/it]"
     ]
    },
    {
     "name": "stdout",
     "output_type": "stream",
     "text": [
      "tivi,2280000,24,22,10,Ho Chi Minh,2990000,0,99,100,100,0,0,0,0,10\n"
     ]
    },
    {
     "name": "stderr",
     "output_type": "stream",
     "text": [
      "Processing rows:  22%|██▏       | 260/1200 [12:20<39:04,  2.49s/it]"
     ]
    },
    {
     "name": "stdout",
     "output_type": "stream",
     "text": [
      "tivi,6990000,None,None,None,Ho Chi Minh,None,59400,None,100,75,0,0,0,0,0\n"
     ]
    },
    {
     "name": "stderr",
     "output_type": "stream",
     "text": [
      "Processing rows:  22%|██▏       | 261/1200 [12:22<39:13,  2.51s/it]"
     ]
    },
    {
     "name": "stdout",
     "output_type": "stream",
     "text": [
      "tivi,15299000,27,None,None,Ho Chi Minh,21000000,164800,97,93,100,0,0,0,0,0\n"
     ]
    },
    {
     "name": "stderr",
     "output_type": "stream",
     "text": [
      "Processing rows:  22%|██▏       | 262/1200 [12:25<41:38,  2.66s/it]"
     ]
    },
    {
     "name": "stdout",
     "output_type": "stream",
     "text": [
      "tivi,1850000,None,11,4,Ha Noi,None,206800,91,95,93,0,0,0,0,4\n"
     ]
    },
    {
     "name": "stderr",
     "output_type": "stream",
     "text": [
      "Processing rows:  22%|██▏       | 263/1200 [12:28<40:24,  2.59s/it]"
     ]
    },
    {
     "name": "stdout",
     "output_type": "stream",
     "text": [
      "tivi,4190000,46,None,None,Ho Chi Minh,7690000,131600,None,None,100,0,0,0,0,0\n"
     ]
    },
    {
     "name": "stderr",
     "output_type": "stream",
     "text": [
      "Processing rows:  22%|██▏       | 264/1200 [12:31<42:42,  2.74s/it]"
     ]
    },
    {
     "name": "stdout",
     "output_type": "stream",
     "text": [
      "tivi,8290000,44,None,None,Ho Chi Minh,14900000,74700,85,50,100,0,0,0,0,0\n"
     ]
    },
    {
     "name": "stderr",
     "output_type": "stream",
     "text": [
      "Processing rows:  22%|██▏       | 265/1200 [12:34<43:28,  2.79s/it]"
     ]
    },
    {
     "name": "stdout",
     "output_type": "stream",
     "text": [
      "tivi,35990000,37,None,None,Ha Noi,56900000,None,None,None,100,0,0,0,0,0\n"
     ]
    },
    {
     "name": "stderr",
     "output_type": "stream",
     "text": [
      "Processing rows:  22%|██▏       | 266/1200 [12:36<41:07,  2.64s/it]"
     ]
    },
    {
     "name": "stdout",
     "output_type": "stream",
     "text": [
      "tivi,3750000,None,5,1,Ha Noi,None,198200,91,95,93,0,0,0,0,1\n"
     ]
    },
    {
     "name": "stderr",
     "output_type": "stream",
     "text": [
      "Processing rows:  22%|██▏       | 267/1200 [12:41<49:12,  3.16s/it]"
     ]
    },
    {
     "name": "stdout",
     "output_type": "stream",
     "text": [
      "tivi,10990000,45,23,8,Ho Chi Minh,19990000,125200,99,100,100,0,0,0,0,9\n"
     ]
    },
    {
     "name": "stderr",
     "output_type": "stream",
     "text": [
      "Processing rows:  22%|██▏       | 268/1200 [12:43<45:31,  2.93s/it]"
     ]
    },
    {
     "name": "stdout",
     "output_type": "stream",
     "text": [
      "tivi,5990000,9,270,138,Ho Chi Minh,6590000,0,96,100,100,0,0,0,0,139\n"
     ]
    },
    {
     "name": "stderr",
     "output_type": "stream",
     "text": [
      "Processing rows:  22%|██▏       | 269/1200 [12:46<47:05,  3.04s/it]"
     ]
    },
    {
     "name": "stdout",
     "output_type": "stream",
     "text": [
      "tivi,13990000,33,None,None,Ho Chi Minh,20990000,290200,99,100,100,0,0,0,0,0\n"
     ]
    },
    {
     "name": "stderr",
     "output_type": "stream",
     "text": [
      "Processing rows:  22%|██▎       | 270/1200 [12:49<44:37,  2.88s/it]"
     ]
    },
    {
     "name": "stdout",
     "output_type": "stream",
     "text": [
      "tivi,2490000,None,None,None,Thái Bình,None,141300,None,None,100,0,0,0,0,0\n"
     ]
    },
    {
     "name": "stderr",
     "output_type": "stream",
     "text": [
      "Processing rows:  23%|██▎       | 271/1200 [12:51<42:10,  2.72s/it]"
     ]
    },
    {
     "name": "stdout",
     "output_type": "stream",
     "text": [
      "tivi,13990000,26,None,None,Ha Noi,18990000,None,None,None,100,0,0,0,0,0\n"
     ]
    },
    {
     "name": "stderr",
     "output_type": "stream",
     "text": [
      "Processing rows:  23%|██▎       | 272/1200 [12:53<40:12,  2.60s/it]"
     ]
    },
    {
     "name": "stdout",
     "output_type": "stream",
     "text": [
      "tivi,14490000,None,None,None,Bac Ninh,None,0,96,100,100,0,0,0,0,0\n"
     ]
    },
    {
     "name": "stderr",
     "output_type": "stream",
     "text": [
      "Processing rows:  23%|██▎       | 273/1200 [12:56<39:42,  2.57s/it]"
     ]
    },
    {
     "name": "stdout",
     "output_type": "stream",
     "text": [
      "tivi,4689000,41,16,None,Ha Noi,7900000,None,100,None,100,0,0,0,0,1\n"
     ]
    },
    {
     "name": "stderr",
     "output_type": "stream",
     "text": [
      "Processing rows:  23%|██▎       | 274/1200 [12:58<38:06,  2.47s/it]"
     ]
    },
    {
     "name": "stdout",
     "output_type": "stream",
     "text": [
      "tivi,34895000,6,None,None,Binh Duong,36990000,None,96,100,100,0,0,0,0,0\n"
     ]
    },
    {
     "name": "stderr",
     "output_type": "stream",
     "text": [
      "Processing rows:  23%|██▎       | 275/1200 [13:00<37:10,  2.41s/it]"
     ]
    },
    {
     "name": "stdout",
     "output_type": "stream",
     "text": [
      "tivi,62990000,11,None,None,Ha Noi,70590000,None,None,None,100,0,0,0,0,0\n"
     ]
    },
    {
     "name": "stderr",
     "output_type": "stream",
     "text": [
      "Processing rows:  23%|██▎       | 276/1200 [13:03<35:50,  2.33s/it]"
     ]
    },
    {
     "name": "stdout",
     "output_type": "stream",
     "text": [
      "tivi,19990000,31,None,None,Ha Noi,28900000,None,None,None,100,0,0,0,0,0\n"
     ]
    },
    {
     "name": "stderr",
     "output_type": "stream",
     "text": [
      "Processing rows:  23%|██▎       | 277/1200 [13:05<36:10,  2.35s/it]"
     ]
    },
    {
     "name": "stdout",
     "output_type": "stream",
     "text": [
      "tivi,8992000,18,15,5,Ho Chi Minh,10990000,0,96,100,100,0,0,0,0,5\n"
     ]
    },
    {
     "name": "stderr",
     "output_type": "stream",
     "text": [
      "Processing rows:  23%|██▎       | 278/1200 [13:07<36:47,  2.39s/it]"
     ]
    },
    {
     "name": "stdout",
     "output_type": "stream",
     "text": [
      "tivi,1435853,7,20,9,Ha Noi,2050000,198200,91,95,93,1,0,0,1,7\n"
     ]
    },
    {
     "name": "stderr",
     "output_type": "stream",
     "text": [
      "Processing rows:  23%|██▎       | 279/1200 [13:10<35:16,  2.30s/it]"
     ]
    },
    {
     "name": "stdout",
     "output_type": "stream",
     "text": [
      "tivi,3366000,43,None,None,Ha Noi,5900000,None,None,None,100,0,0,0,0,1\n"
     ]
    },
    {
     "name": "stderr",
     "output_type": "stream",
     "text": [
      "Processing rows:  23%|██▎       | 280/1200 [13:12<36:55,  2.41s/it]"
     ]
    },
    {
     "name": "stdout",
     "output_type": "stream",
     "text": [
      "tivi,24290000,7,5,0,Binh Duong,25990000,0,96,100,100,0,0,0,0,1\n"
     ]
    },
    {
     "name": "stderr",
     "output_type": "stream",
     "text": [
      "Processing rows:  23%|██▎       | 281/1200 [13:15<39:17,  2.57s/it]"
     ]
    },
    {
     "name": "stdout",
     "output_type": "stream",
     "text": [
      "tivi,8363000,40,33,14,Ho Chi Minh,14000000,None,98,100,99,0,0,0,1,13\n"
     ]
    },
    {
     "name": "stderr",
     "output_type": "stream",
     "text": [
      "Processing rows:  24%|██▎       | 282/1200 [13:18<39:25,  2.58s/it]"
     ]
    },
    {
     "name": "stdout",
     "output_type": "stream",
     "text": [
      "tivi,8011000,30,28,10,Ho Chi Minh,11490000,None,97,None,81,0,0,0,0,11\n"
     ]
    },
    {
     "name": "stderr",
     "output_type": "stream",
     "text": [
      "Processing rows:  24%|██▎       | 283/1200 [13:20<37:50,  2.48s/it]"
     ]
    },
    {
     "name": "stdout",
     "output_type": "stream",
     "text": [
      "tivi,17290000,20,40,10,Binh Duong,21700000,None,98,None,98,0,0,0,0,10\n"
     ]
    },
    {
     "name": "stderr",
     "output_type": "stream",
     "text": [
      "Processing rows:  24%|██▎       | 284/1200 [13:22<36:31,  2.39s/it]"
     ]
    },
    {
     "name": "stdout",
     "output_type": "stream",
     "text": [
      "tivi,5850000,6,11,5,Ha Noi,6250000,125300,100,40,None,0,0,0,0,6\n"
     ]
    },
    {
     "name": "stderr",
     "output_type": "stream",
     "text": [
      "Processing rows:  24%|██▍       | 285/1200 [13:25<36:49,  2.41s/it]"
     ]
    },
    {
     "name": "stdout",
     "output_type": "stream",
     "text": [
      "tivi,7094000,29,261,180,Ho Chi Minh,10000000,31600,97,93,100,0,2,1,14,163\n"
     ]
    },
    {
     "name": "stderr",
     "output_type": "stream",
     "text": [
      "Processing rows:  24%|██▍       | 286/1200 [13:28<42:31,  2.79s/it]"
     ]
    },
    {
     "name": "stdout",
     "output_type": "stream",
     "text": [
      "tivi,5390000,4,33,9,Ho Chi Minh,5590000,0,96,100,100,2,0,0,0,7\n"
     ]
    },
    {
     "name": "stderr",
     "output_type": "stream",
     "text": [
      "Processing rows:  24%|██▍       | 287/1200 [13:31<43:36,  2.87s/it]"
     ]
    },
    {
     "name": "stdout",
     "output_type": "stream",
     "text": [
      "tivi,6376000,23,14,6,Ho Chi Minh,8288000,None,98,None,100,0,0,0,1,5\n"
     ]
    },
    {
     "name": "stderr",
     "output_type": "stream",
     "text": [
      "Processing rows:  24%|██▍       | 288/1200 [13:35<45:34,  3.00s/it]"
     ]
    },
    {
     "name": "stdout",
     "output_type": "stream",
     "text": [
      "tivi,2990000,46,189,57,Ha Noi,5490000,None,98,None,None,0,0,0,0,58\n"
     ]
    },
    {
     "name": "stderr",
     "output_type": "stream",
     "text": [
      "Processing rows:  24%|██▍       | 289/1200 [13:37<44:42,  2.94s/it]"
     ]
    },
    {
     "name": "stdout",
     "output_type": "stream",
     "text": [
      "tivi,2200950,15,61,28,Ha Noi,2600000,135500,91,95,93,2,0,0,1,25\n"
     ]
    },
    {
     "name": "stderr",
     "output_type": "stream",
     "text": [
      "Processing rows:  24%|██▍       | 290/1200 [13:41<45:30,  3.00s/it]"
     ]
    },
    {
     "name": "stdout",
     "output_type": "stream",
     "text": [
      "tivi,5190000,37,5,3,Ha Noi,8290000,None,100,None,100,0,0,0,0,3\n"
     ]
    },
    {
     "name": "stderr",
     "output_type": "stream",
     "text": [
      "Processing rows:  24%|██▍       | 291/1200 [13:43<44:36,  2.94s/it]"
     ]
    },
    {
     "name": "stdout",
     "output_type": "stream",
     "text": [
      "tivi,2829000,29,58,25,Ho Chi Minh,4000000,None,97,None,95,0,0,0,0,25\n"
     ]
    },
    {
     "name": "stderr",
     "output_type": "stream",
     "text": [
      "Processing rows:  24%|██▍       | 292/1200 [13:47<47:02,  3.11s/it]"
     ]
    },
    {
     "name": "stdout",
     "output_type": "stream",
     "text": [
      "tivi,9390000,11,54,11,Ho Chi Minh,10590000,None,99,None,96,0,0,0,0,12\n"
     ]
    },
    {
     "name": "stderr",
     "output_type": "stream",
     "text": [
      "Processing rows:  24%|██▍       | 293/1200 [13:49<42:35,  2.82s/it]"
     ]
    },
    {
     "name": "stdout",
     "output_type": "stream",
     "text": [
      "tivi,3200000,None,25,10,Ha Noi,None,198200,91,95,93,0,0,0,0,11\n"
     ]
    },
    {
     "name": "stderr",
     "output_type": "stream",
     "text": [
      "Processing rows:  24%|██▍       | 294/1200 [13:52<40:51,  2.71s/it]"
     ]
    },
    {
     "name": "stdout",
     "output_type": "stream",
     "text": [
      "tivi,8200000,39,10,4,Ho Chi Minh,13390000,159200,85,50,100,0,0,0,0,5\n"
     ]
    },
    {
     "name": "stderr",
     "output_type": "stream",
     "text": [
      "Processing rows:  25%|██▍       | 295/1200 [13:55<42:41,  2.83s/it]"
     ]
    },
    {
     "name": "stdout",
     "output_type": "stream",
     "text": [
      "tivi,3565542,4,30,17,Ha Noi,3700000,206800,91,95,93,1,0,1,0,15\n"
     ]
    },
    {
     "name": "stderr",
     "output_type": "stream",
     "text": [
      "Processing rows:  25%|██▍       | 296/1200 [13:58<45:28,  3.02s/it]"
     ]
    },
    {
     "name": "stdout",
     "output_type": "stream",
     "text": [
      "tivi,3003074,2,21,17,Ha Noi,3070000,198200,91,95,93,1,0,1,1,14\n"
     ]
    },
    {
     "name": "stderr",
     "output_type": "stream",
     "text": [
      "Processing rows:  25%|██▍       | 297/1200 [14:01<43:00,  2.86s/it]"
     ]
    },
    {
     "name": "stdout",
     "output_type": "stream",
     "text": [
      "tivi,2300000,None,None,1,Ho Chi Minh,None,74700,85,100,70,0,0,0,0,1\n"
     ]
    },
    {
     "name": "stderr",
     "output_type": "stream",
     "text": [
      "Processing rows:  25%|██▍       | 298/1200 [14:03<42:05,  2.80s/it]"
     ]
    },
    {
     "name": "stdout",
     "output_type": "stream",
     "text": [
      "tivi,1419000,7,7,3,Ha Noi,1521000,198200,91,90,95,1,0,0,0,2\n"
     ]
    },
    {
     "name": "stderr",
     "output_type": "stream",
     "text": [
      "Processing rows:  25%|██▍       | 299/1200 [14:06<42:55,  2.86s/it]"
     ]
    },
    {
     "name": "stdout",
     "output_type": "stream",
     "text": [
      "tivi,1499000,21,234,112,Ho Chi Minh,1899000,27300,98,100,100,3,0,2,12,95\n"
     ]
    },
    {
     "name": "stderr",
     "output_type": "stream",
     "text": [
      "Processing rows:  25%|██▌       | 300/1200 [14:10<45:05,  3.01s/it]"
     ]
    },
    {
     "name": "stdout",
     "output_type": "stream",
     "text": [
      "tivi,13600000,33,None,1,Ho Chi Minh,20390000,271400,85,50,100,0,0,0,0,1\n"
     ]
    },
    {
     "name": "stderr",
     "output_type": "stream",
     "text": [
      "Processing rows:  25%|██▌       | 301/1200 [14:13<47:59,  3.20s/it]"
     ]
    },
    {
     "name": "stdout",
     "output_type": "stream",
     "text": [
      "tivi,1700000,None,8,3,Ho Chi Minh,None,74700,85,100,70,0,0,0,0,3\n"
     ]
    },
    {
     "name": "stderr",
     "output_type": "stream",
     "text": [
      "Processing rows:  25%|██▌       | 302/1200 [14:16<47:16,  3.16s/it]"
     ]
    },
    {
     "name": "stdout",
     "output_type": "stream",
     "text": [
      "tivi,3257406,2,6,1,Ha Noi,3330000,198200,91,95,93,0,0,0,1,1\n"
     ]
    },
    {
     "name": "stderr",
     "output_type": "stream",
     "text": [
      "Processing rows:  25%|██▌       | 303/1200 [14:19<47:25,  3.17s/it]"
     ]
    },
    {
     "name": "stdout",
     "output_type": "stream",
     "text": [
      "tivi,1500000,12,None,1,Ho Chi Minh,1700000,71100,92,100,80,0,0,1,0,1\n"
     ]
    },
    {
     "name": "stderr",
     "output_type": "stream",
     "text": [
      "Processing rows:  25%|██▌       | 304/1200 [14:22<43:19,  2.90s/it]"
     ]
    },
    {
     "name": "stdout",
     "output_type": "stream",
     "text": [
      "tivi,3584000,25,None,1,Ho Chi Minh,4794000,None,98,None,100,0,0,0,0,1\n"
     ]
    },
    {
     "name": "stderr",
     "output_type": "stream",
     "text": [
      "Processing rows:  25%|██▌       | 305/1200 [14:24<41:17,  2.77s/it]"
     ]
    },
    {
     "name": "stdout",
     "output_type": "stream",
     "text": [
      "tivi,2790000,None,None,None,Ho Chi Minh,None,46000,100,None,66,0,0,0,0,0\n"
     ]
    },
    {
     "name": "stderr",
     "output_type": "stream",
     "text": [
      "Processing rows:  26%|██▌       | 306/1200 [14:27<41:34,  2.79s/it]"
     ]
    },
    {
     "name": "stdout",
     "output_type": "stream",
     "text": [
      "tivi,5590000,44,None,None,Ho Chi Minh,9990000,0,97,93,100,0,0,0,0,0\n"
     ]
    },
    {
     "name": "stderr",
     "output_type": "stream",
     "text": [
      "Processing rows:  26%|██▌       | 307/1200 [14:30<40:13,  2.70s/it]"
     ]
    },
    {
     "name": "stdout",
     "output_type": "stream",
     "text": [
      "tivi,1349000,7,9,2,Ha Noi,1450000,198200,91,90,95,0,0,0,0,2\n"
     ]
    },
    {
     "name": "stderr",
     "output_type": "stream",
     "text": [
      "Processing rows:  26%|██▌       | 308/1200 [14:32<38:54,  2.62s/it]"
     ]
    },
    {
     "name": "stdout",
     "output_type": "stream",
     "text": [
      "tivi,1500000,None,None,None,Binh Duong,None,585800,None,None,None,0,0,0,0,0\n"
     ]
    },
    {
     "name": "stderr",
     "output_type": "stream",
     "text": [
      "Processing rows:  26%|██▌       | 309/1200 [14:34<37:16,  2.51s/it]"
     ]
    },
    {
     "name": "stdout",
     "output_type": "stream",
     "text": [
      "tivi,2990000,47,None,None,Ho Chi Minh,5590000,59400,None,None,None,0,0,0,0,0\n"
     ]
    },
    {
     "name": "stderr",
     "output_type": "stream",
     "text": [
      "Processing rows:  26%|██▌       | 310/1200 [14:37<38:01,  2.56s/it]"
     ]
    },
    {
     "name": "stdout",
     "output_type": "stream",
     "text": [
      "tivi,1694000,11,5,1,Ha Noi,1895000,198200,91,90,95,0,0,0,0,1\n"
     ]
    },
    {
     "name": "stderr",
     "output_type": "stream",
     "text": [
      "Processing rows:  26%|██▌       | 311/1200 [14:39<35:51,  2.42s/it]"
     ]
    },
    {
     "name": "stdout",
     "output_type": "stream",
     "text": [
      "tivi,11990000,33,None,None,Ha Noi,17900000,None,None,None,100,0,0,0,0,0\n"
     ]
    },
    {
     "name": "stderr",
     "output_type": "stream",
     "text": [
      "Processing rows:  26%|██▌       | 312/1200 [14:41<34:41,  2.34s/it]"
     ]
    },
    {
     "name": "stdout",
     "output_type": "stream",
     "text": [
      "tivi,3200000,9,None,2,Ho Chi Minh,3500000,74700,85,100,70,0,0,0,0,2\n"
     ]
    },
    {
     "name": "stderr",
     "output_type": "stream",
     "text": [
      "Processing rows:  26%|██▌       | 313/1200 [14:43<33:11,  2.25s/it]"
     ]
    },
    {
     "name": "stdout",
     "output_type": "stream",
     "text": [
      "tivi,21990000,8,None,None,Ha Noi,23900000,None,None,None,100,0,0,0,0,0\n"
     ]
    },
    {
     "name": "stderr",
     "output_type": "stream",
     "text": [
      "Processing rows:  26%|██▌       | 314/1200 [14:46<34:52,  2.36s/it]"
     ]
    },
    {
     "name": "stdout",
     "output_type": "stream",
     "text": [
      "tivi,23990000,35,None,None,Ha Noi,36900000,None,None,None,100,0,0,0,0,0\n"
     ]
    },
    {
     "name": "stderr",
     "output_type": "stream",
     "text": [
      "Processing rows:  26%|██▋       | 315/1200 [14:49<38:09,  2.59s/it]"
     ]
    },
    {
     "name": "stdout",
     "output_type": "stream",
     "text": [
      "tivi,20990000,62,5,None,Ho Chi Minh,54990000,270400,99,100,100,0,0,0,0,0\n"
     ]
    },
    {
     "name": "stderr",
     "output_type": "stream",
     "text": [
      "Processing rows:  26%|██▋       | 316/1200 [14:52<37:59,  2.58s/it]"
     ]
    },
    {
     "name": "stdout",
     "output_type": "stream",
     "text": [
      "tivi,10190000,None,None,None,Binh Duong,None,None,96,100,100,0,0,0,0,0\n"
     ]
    },
    {
     "name": "stderr",
     "output_type": "stream",
     "text": [
      "Processing rows:  26%|██▋       | 317/1200 [14:54<37:29,  2.55s/it]"
     ]
    },
    {
     "name": "stdout",
     "output_type": "stream",
     "text": [
      "tivi,19290000,None,None,None,Binh Duong,None,None,96,100,100,0,0,0,0,0\n"
     ]
    },
    {
     "name": "stderr",
     "output_type": "stream",
     "text": [
      "Processing rows:  26%|██▋       | 318/1200 [14:57<40:16,  2.74s/it]"
     ]
    },
    {
     "name": "stdout",
     "output_type": "stream",
     "text": [
      "tivi,37990000,5,None,1,Binh Duong,39990000,0,96,100,100,0,0,0,0,1\n"
     ]
    },
    {
     "name": "stderr",
     "output_type": "stream",
     "text": [
      "Processing rows:  27%|██▋       | 319/1200 [15:00<40:08,  2.73s/it]"
     ]
    },
    {
     "name": "stdout",
     "output_type": "stream",
     "text": [
      "tivi,10690000,15,None,None,Ha Noi,12590000,None,None,None,100,0,0,0,0,0\n"
     ]
    },
    {
     "name": "stderr",
     "output_type": "stream",
     "text": [
      "Processing rows:  27%|██▋       | 320/1200 [15:03<40:06,  2.73s/it]"
     ]
    },
    {
     "name": "stdout",
     "output_type": "stream",
     "text": [
      "tivi,8090000,61,None,None,Ho Chi Minh,21000000,46000,97,93,100,0,0,0,0,0\n"
     ]
    },
    {
     "name": "stderr",
     "output_type": "stream",
     "text": [
      "Processing rows:  27%|██▋       | 321/1200 [15:05<39:52,  2.72s/it]"
     ]
    },
    {
     "name": "stdout",
     "output_type": "stream",
     "text": [
      "tivi,2990000,38,617,207,Ha Noi,4799000,None,98,None,None,4,0,3,4,196\n"
     ]
    },
    {
     "name": "stderr",
     "output_type": "stream",
     "text": [
      "Processing rows:  27%|██▋       | 322/1200 [15:08<40:04,  2.74s/it]"
     ]
    },
    {
     "name": "stdout",
     "output_type": "stream",
     "text": [
      "tivi,5950000,None,9,3,Ha Noi,None,253700,91,95,93,0,0,0,0,3\n"
     ]
    },
    {
     "name": "stderr",
     "output_type": "stream",
     "text": [
      "Processing rows:  27%|██▋       | 323/1200 [15:11<40:12,  2.75s/it]"
     ]
    },
    {
     "name": "stdout",
     "output_type": "stream",
     "text": [
      "tivi,3863890,2,17,11,Ha Noi,3950000,198200,91,95,93,0,0,0,0,11\n"
     ]
    },
    {
     "name": "stderr",
     "output_type": "stream",
     "text": [
      "Processing rows:  27%|██▋       | 324/1200 [15:13<39:21,  2.70s/it]"
     ]
    },
    {
     "name": "stdout",
     "output_type": "stream",
     "text": [
      "tivi,2250000,None,59,20,Dong Thap,None,65500,97,94,66,0,0,0,4,16\n"
     ]
    },
    {
     "name": "stderr",
     "output_type": "stream",
     "text": [
      "Processing rows:  27%|██▋       | 325/1200 [15:16<37:49,  2.59s/it]"
     ]
    },
    {
     "name": "stdout",
     "output_type": "stream",
     "text": [
      "tivi,3130240,2,8,6,Ha Noi,3200000,198200,91,95,93,0,0,0,0,6\n"
     ]
    },
    {
     "name": "stderr",
     "output_type": "stream",
     "text": [
      "Processing rows:  27%|██▋       | 326/1200 [15:18<36:20,  2.49s/it]"
     ]
    },
    {
     "name": "stdout",
     "output_type": "stream",
     "text": [
      "tivi,2350000,None,18,9,Ha Noi,None,135500,91,95,93,0,1,0,1,7\n"
     ]
    },
    {
     "name": "stderr",
     "output_type": "stream",
     "text": [
      "Processing rows:  27%|██▋       | 327/1200 [15:21<36:21,  2.50s/it]"
     ]
    },
    {
     "name": "stdout",
     "output_type": "stream",
     "text": [
      "tivi,2270000,None,None,None,Ho Chi Minh,None,45100,100,None,100,0,0,0,0,0\n"
     ]
    },
    {
     "name": "stderr",
     "output_type": "stream",
     "text": [
      "Processing rows:  27%|██▋       | 328/1200 [15:23<37:36,  2.59s/it]"
     ]
    },
    {
     "name": "stdout",
     "output_type": "stream",
     "text": [
      "tivi,1480000,5,23,9,Ha Noi,1550000,198200,91,95,93,0,0,1,0,9\n"
     ]
    },
    {
     "name": "stderr",
     "output_type": "stream",
     "text": [
      "Processing rows:  27%|██▋       | 329/1200 [15:26<36:01,  2.48s/it]"
     ]
    },
    {
     "name": "stdout",
     "output_type": "stream",
     "text": [
      "tivi,2350000,None,62,20,Ha Noi,None,198200,91,95,93,0,1,1,1,18\n"
     ]
    },
    {
     "name": "stderr",
     "output_type": "stream",
     "text": [
      "Processing rows:  28%|██▊       | 330/1200 [15:28<36:15,  2.50s/it]"
     ]
    },
    {
     "name": "stdout",
     "output_type": "stream",
     "text": [
      "tivi,1396646,9,81,33,Ha Noi,1530000,198200,91,95,93,0,0,0,2,31\n"
     ]
    },
    {
     "name": "stderr",
     "output_type": "stream",
     "text": [
      "Processing rows:  28%|██▊       | 331/1200 [15:31<35:57,  2.48s/it]"
     ]
    },
    {
     "name": "stdout",
     "output_type": "stream",
     "text": [
      "tivi,1800000,None,35,13,Ho Chi Minh,None,74700,85,100,70,0,0,0,1,13\n"
     ]
    },
    {
     "name": "stderr",
     "output_type": "stream",
     "text": [
      "Processing rows:  28%|██▊       | 332/1200 [15:33<35:31,  2.46s/it]"
     ]
    },
    {
     "name": "stdout",
     "output_type": "stream",
     "text": [
      "tivi,6348000,29,95,28,Ho Chi Minh,8900000,0,97,0,81,0,0,0,0,28\n"
     ]
    },
    {
     "name": "stderr",
     "output_type": "stream",
     "text": [
      "Processing rows:  28%|██▊       | 333/1200 [15:35<34:24,  2.38s/it]"
     ]
    },
    {
     "name": "stdout",
     "output_type": "stream",
     "text": [
      "tivi,1750000,10,None,1,Ho Chi Minh,1950000,71100,85,100,70,0,0,0,0,1\n"
     ]
    },
    {
     "name": "stderr",
     "output_type": "stream",
     "text": [
      "Processing rows:  28%|██▊       | 334/1200 [15:38<34:26,  2.39s/it]"
     ]
    },
    {
     "name": "stdout",
     "output_type": "stream",
     "text": [
      "tivi,3969000,40,11,8,Ho Chi Minh,6624000,None,97,None,95,0,0,0,0,8\n"
     ]
    },
    {
     "name": "stderr",
     "output_type": "stream",
     "text": [
      "Processing rows:  28%|██▊       | 335/1200 [15:40<35:45,  2.48s/it]"
     ]
    },
    {
     "name": "stdout",
     "output_type": "stream",
     "text": [
      "tivi,16790000,17,7,1,Ha Noi,20190000,None,97,100,97,0,0,0,0,1\n"
     ]
    },
    {
     "name": "stderr",
     "output_type": "stream",
     "text": [
      "Processing rows:  28%|██▊       | 336/1200 [15:42<34:18,  2.38s/it]"
     ]
    },
    {
     "name": "stdout",
     "output_type": "stream",
     "text": [
      "tivi,1800000,8,5,2,Ho Chi Minh,1950000,71100,85,100,70,0,0,0,0,2\n"
     ]
    },
    {
     "name": "stderr",
     "output_type": "stream",
     "text": [
      "Processing rows:  28%|██▊       | 337/1200 [15:45<33:46,  2.35s/it]"
     ]
    },
    {
     "name": "stdout",
     "output_type": "stream",
     "text": [
      "tivi,11990000,25,None,None,Ho Chi Minh,15890000,None,96,None,83,0,0,0,0,0\n"
     ]
    },
    {
     "name": "stderr",
     "output_type": "stream",
     "text": [
      "Processing rows:  28%|██▊       | 338/1200 [15:48<36:40,  2.55s/it]"
     ]
    },
    {
     "name": "stdout",
     "output_type": "stream",
     "text": [
      "tivi,1819452,2,28,9,Ha Noi,1860000,198200,91,95,93,0,0,0,1,9\n"
     ]
    },
    {
     "name": "stderr",
     "output_type": "stream",
     "text": [
      "Processing rows:  28%|██▊       | 339/1200 [15:51<37:55,  2.64s/it]"
     ]
    },
    {
     "name": "stdout",
     "output_type": "stream",
     "text": [
      "tivi,10989000,21,None,1,Bac Ninh,13900000,565500,None,100,100,0,0,0,0,1\n"
     ]
    },
    {
     "name": "stderr",
     "output_type": "stream",
     "text": [
      "Processing rows:  28%|██▊       | 340/1200 [15:53<35:33,  2.48s/it]"
     ]
    },
    {
     "name": "stdout",
     "output_type": "stream",
     "text": [
      "tivi,5380000,None,None,None,Ha Noi,None,206800,91,95,93,0,0,0,0,0\n"
     ]
    },
    {
     "name": "stderr",
     "output_type": "stream",
     "text": [
      "Processing rows:  28%|██▊       | 341/1200 [15:55<36:17,  2.54s/it]"
     ]
    },
    {
     "name": "stdout",
     "output_type": "stream",
     "text": [
      "tivi,7080000,32,None,None,Ho Chi Minh,10450000,None,100,None,None,0,0,0,0,0\n"
     ]
    },
    {
     "name": "stderr",
     "output_type": "stream",
     "text": [
      "Processing rows:  28%|██▊       | 342/1200 [15:57<34:32,  2.42s/it]"
     ]
    },
    {
     "name": "stdout",
     "output_type": "stream",
     "text": [
      "tivi,6300000,None,None,None,Ha Noi,None,2689300,None,None,100,0,0,0,0,0\n"
     ]
    },
    {
     "name": "stderr",
     "output_type": "stream",
     "text": [
      "Processing rows:  29%|██▊       | 343/1200 [16:00<34:05,  2.39s/it]"
     ]
    },
    {
     "name": "stdout",
     "output_type": "stream",
     "text": [
      "tivi,1699000,8,21,9,Ha Noi,1850000,198200,91,95,93,0,0,0,0,9\n"
     ]
    },
    {
     "name": "stderr",
     "output_type": "stream",
     "text": [
      "Processing rows:  29%|██▊       | 344/1200 [16:02<34:38,  2.43s/it]"
     ]
    },
    {
     "name": "stdout",
     "output_type": "stream",
     "text": [
      "tivi,2730000,None,None,None,Ho Chi Minh,None,38000,None,None,None,0,0,0,0,0\n"
     ]
    },
    {
     "name": "stderr",
     "output_type": "stream",
     "text": [
      "Processing rows:  29%|██▉       | 345/1200 [16:04<32:54,  2.31s/it]"
     ]
    },
    {
     "name": "stdout",
     "output_type": "stream",
     "text": [
      "tivi,33900000,None,None,None,Ho Chi Minh,None,None,None,None,None,0,0,0,0,0\n"
     ]
    },
    {
     "name": "stderr",
     "output_type": "stream",
     "text": [
      "Processing rows:  29%|██▉       | 346/1200 [16:06<31:13,  2.19s/it]"
     ]
    },
    {
     "name": "stdout",
     "output_type": "stream",
     "text": [
      "tivi,54500000,None,18,None,Ho Chi Minh,None,None,78,None,None,0,0,0,0,0\n"
     ]
    },
    {
     "name": "stderr",
     "output_type": "stream",
     "text": [
      "Processing rows:  29%|██▉       | 347/1200 [16:08<30:34,  2.15s/it]"
     ]
    },
    {
     "name": "stdout",
     "output_type": "stream",
     "text": [
      "tivi,1015000,None,None,None,Ho Chi Minh,None,None,None,None,None,0,0,0,0,0\n"
     ]
    },
    {
     "name": "stderr",
     "output_type": "stream",
     "text": [
      "Processing rows:  29%|██▉       | 348/1200 [16:11<32:16,  2.27s/it]"
     ]
    },
    {
     "name": "stdout",
     "output_type": "stream",
     "text": [
      "tivi,4490000,None,None,None,Ho Chi Minh,None,146000,99,99,98,0,0,0,0,0\n"
     ]
    },
    {
     "name": "stderr",
     "output_type": "stream",
     "text": [
      "Processing rows:  29%|██▉       | 349/1200 [16:14<33:40,  2.37s/it]"
     ]
    },
    {
     "name": "stdout",
     "output_type": "stream",
     "text": [
      "tivi,7490000,29,None,None,Ho Chi Minh,10490000,131600,None,None,100,0,0,0,0,0\n"
     ]
    },
    {
     "name": "stderr",
     "output_type": "stream",
     "text": [
      "Processing rows:  29%|██▉       | 350/1200 [16:16<32:07,  2.27s/it]"
     ]
    },
    {
     "name": "stdout",
     "output_type": "stream",
     "text": [
      "tivi,7000000,3,None,1,Binh Duong,7200000,None,97,98,100,0,0,0,0,1\n"
     ]
    },
    {
     "name": "stderr",
     "output_type": "stream",
     "text": [
      "Processing rows:  29%|██▉       | 351/1200 [16:17<30:46,  2.18s/it]"
     ]
    },
    {
     "name": "stdout",
     "output_type": "stream",
     "text": [
      "tivi,650000,None,None,None,Ho Chi Minh,None,16500,None,100,100,0,0,0,0,0\n"
     ]
    },
    {
     "name": "stderr",
     "output_type": "stream",
     "text": [
      "Processing rows:  29%|██▉       | 352/1200 [16:20<32:42,  2.31s/it]"
     ]
    },
    {
     "name": "stdout",
     "output_type": "stream",
     "text": [
      "tivi,3440000,57,None,None,Ho Chi Minh,7999000,52300,97,93,100,0,0,0,0,0\n"
     ]
    },
    {
     "name": "stderr",
     "output_type": "stream",
     "text": [
      "Processing rows:  29%|██▉       | 353/1200 [16:22<32:04,  2.27s/it]"
     ]
    },
    {
     "name": "stdout",
     "output_type": "stream",
     "text": [
      "tivi,600000,None,None,None,Hai Duong,None,43900,83,100,100,0,0,0,0,0\n"
     ]
    },
    {
     "name": "stderr",
     "output_type": "stream",
     "text": [
      "Processing rows:  30%|██▉       | 354/1200 [16:25<31:45,  2.25s/it]"
     ]
    },
    {
     "name": "stdout",
     "output_type": "stream",
     "text": [
      "tivi,6990000,41,None,None,Binh Duong,27990000,None,100,None,None,0,0,0,0,1\n"
     ]
    },
    {
     "name": "stderr",
     "output_type": "stream",
     "text": [
      "Processing rows:  30%|██▉       | 355/1200 [16:27<34:34,  2.46s/it]"
     ]
    },
    {
     "name": "stdout",
     "output_type": "stream",
     "text": [
      "tivi,32990000,13,None,None,Ha Noi,37900000,None,None,None,100,0,0,0,0,0\n"
     ]
    },
    {
     "name": "stderr",
     "output_type": "stream",
     "text": [
      "Processing rows:  30%|██▉       | 356/1200 [16:30<34:39,  2.46s/it]"
     ]
    },
    {
     "name": "stdout",
     "output_type": "stream",
     "text": [
      "tivi,17490000,19,None,None,Ha Noi,21700000,None,None,None,100,0,0,0,0,0\n"
     ]
    },
    {
     "name": "stderr",
     "output_type": "stream",
     "text": [
      "Processing rows:  30%|██▉       | 357/1200 [16:33<36:13,  2.58s/it]"
     ]
    },
    {
     "name": "stdout",
     "output_type": "stream",
     "text": [
      "tivi,11271000,44,5,3,Ho Chi Minh,19990000,148600,97,100,100,0,0,0,0,2\n"
     ]
    },
    {
     "name": "stderr",
     "output_type": "stream",
     "text": [
      "Processing rows:  30%|██▉       | 358/1200 [16:37<41:16,  2.94s/it]"
     ]
    },
    {
     "name": "stdout",
     "output_type": "stream",
     "text": [
      "tivi,11090000,26,None,None,Ho Chi Minh,15000000,46000,97,93,100,0,0,0,0,0\n"
     ]
    },
    {
     "name": "stderr",
     "output_type": "stream",
     "text": [
      "Processing rows:  30%|██▉       | 359/1200 [16:40<43:47,  3.12s/it]"
     ]
    },
    {
     "name": "stdout",
     "output_type": "stream",
     "text": [
      "tivi,15990000,20,None,None,Ha Noi,19990000,None,None,None,100,0,0,0,0,0\n"
     ]
    },
    {
     "name": "stderr",
     "output_type": "stream",
     "text": [
      "Processing rows:  30%|███       | 360/1200 [16:42<38:52,  2.78s/it]"
     ]
    },
    {
     "name": "stdout",
     "output_type": "stream",
     "text": [
      "tivi,10890000,11,None,None,Ha Noi,12190000,None,None,None,100,0,0,0,0,0\n"
     ]
    },
    {
     "name": "stderr",
     "output_type": "stream",
     "text": [
      "Processing rows:  30%|███       | 361/1200 [16:45<38:23,  2.75s/it]"
     ]
    },
    {
     "name": "stdout",
     "output_type": "stream",
     "text": [
      "tivi,8250000,23,1600,697,Ho Chi Minh,10730000,None,99,None,100,0,0,0,2,695\n"
     ]
    },
    {
     "name": "stderr",
     "output_type": "stream",
     "text": [
      "Processing rows:  30%|███       | 362/1200 [16:48<40:35,  2.91s/it]"
     ]
    },
    {
     "name": "stdout",
     "output_type": "stream",
     "text": [
      "tivi,7490000,41,346,259,Ha Noi,12600000,0,100,0,93,0,0,0,0,260\n"
     ]
    },
    {
     "name": "stderr",
     "output_type": "stream",
     "text": [
      "Processing rows:  30%|███       | 363/1200 [16:52<46:27,  3.33s/it]"
     ]
    },
    {
     "name": "stdout",
     "output_type": "stream",
     "text": [
      "tivi,8659000,49,54,19,Ho Chi Minh,17000000,None,98,100,99,0,0,0,0,19\n"
     ]
    },
    {
     "name": "stderr",
     "output_type": "stream",
     "text": [
      "Processing rows:  30%|███       | 364/1200 [16:55<42:49,  3.07s/it]"
     ]
    },
    {
     "name": "stdout",
     "output_type": "stream",
     "text": [
      "tivi,1400000,13,6,2,Ho Chi Minh,1600000,71100,92,100,80,0,0,0,0,2\n"
     ]
    },
    {
     "name": "stderr",
     "output_type": "stream",
     "text": [
      "Processing rows:  30%|███       | 365/1200 [16:57<39:34,  2.84s/it]"
     ]
    },
    {
     "name": "stdout",
     "output_type": "stream",
     "text": [
      "tivi,4699000,33,58,31,Ho Chi Minh,9000000,None,98,100,99,0,0,0,1,31\n"
     ]
    },
    {
     "name": "stderr",
     "output_type": "stream",
     "text": [
      "Processing rows:  30%|███       | 366/1200 [17:01<42:50,  3.08s/it]"
     ]
    },
    {
     "name": "stdout",
     "output_type": "stream",
     "text": [
      "tivi,6579000,45,13,5,Ho Chi Minh,12000000,0,98,100,99,0,0,0,0,5\n"
     ]
    },
    {
     "name": "stderr",
     "output_type": "stream",
     "text": [
      "Processing rows:  31%|███       | 367/1200 [17:03<38:14,  2.75s/it]"
     ]
    },
    {
     "name": "stdout",
     "output_type": "stream",
     "text": [
      "tivi,4590000,45,None,None,Ha Noi,8290000,None,None,None,100,0,0,0,0,0\n"
     ]
    },
    {
     "name": "stderr",
     "output_type": "stream",
     "text": [
      "Processing rows:  31%|███       | 368/1200 [17:05<37:21,  2.69s/it]"
     ]
    },
    {
     "name": "stdout",
     "output_type": "stream",
     "text": [
      "tivi,2349000,4,13,None,Ha Noi,2950000,206800,91,90,95,0,0,0,0,1\n"
     ]
    },
    {
     "name": "stderr",
     "output_type": "stream",
     "text": [
      "Processing rows:  31%|███       | 369/1200 [17:07<35:08,  2.54s/it]"
     ]
    },
    {
     "name": "stdout",
     "output_type": "stream",
     "text": [
      "tivi,6150000,28,49,12,Ho Chi Minh,8590000,None,96,None,89,0,0,0,0,12\n"
     ]
    },
    {
     "name": "stderr",
     "output_type": "stream",
     "text": [
      "Processing rows:  31%|███       | 370/1200 [17:10<34:30,  2.49s/it]"
     ]
    },
    {
     "name": "stdout",
     "output_type": "stream",
     "text": [
      "tivi,3903000,13,30,9,Ho Chi Minh,4490000,None,97,None,81,0,0,0,0,9\n"
     ]
    },
    {
     "name": "stderr",
     "output_type": "stream",
     "text": [
      "Processing rows:  31%|███       | 371/1200 [17:12<34:00,  2.46s/it]"
     ]
    },
    {
     "name": "stdout",
     "output_type": "stream",
     "text": [
      "tivi,3228000,19,32,14,Ho Chi Minh,3990000,None,96,None,100,0,0,0,0,14\n"
     ]
    },
    {
     "name": "stderr",
     "output_type": "stream",
     "text": [
      "Processing rows:  31%|███       | 372/1200 [17:15<33:16,  2.41s/it]"
     ]
    },
    {
     "name": "stdout",
     "output_type": "stream",
     "text": [
      "tivi,4024000,23,22,9,Ho Chi Minh,5473000,None,98,None,100,0,0,0,0,9\n"
     ]
    },
    {
     "name": "stderr",
     "output_type": "stream",
     "text": [
      "Processing rows:  31%|███       | 373/1200 [17:18<36:38,  2.66s/it]"
     ]
    },
    {
     "name": "stdout",
     "output_type": "stream",
     "text": [
      "tivi,12232000,23,17,4,Ho Chi Minh,15900000,None,97,None,81,0,0,0,0,4\n"
     ]
    },
    {
     "name": "stderr",
     "output_type": "stream",
     "text": [
      "Processing rows:  31%|███       | 374/1200 [17:21<39:15,  2.85s/it]"
     ]
    },
    {
     "name": "stdout",
     "output_type": "stream",
     "text": [
      "tivi,2500000,None,10,7,Ho Chi Minh,None,74700,85,100,70,0,0,0,1,5\n"
     ]
    },
    {
     "name": "stderr",
     "output_type": "stream",
     "text": [
      "Processing rows:  31%|███▏      | 375/1200 [17:23<36:19,  2.64s/it]"
     ]
    },
    {
     "name": "stdout",
     "output_type": "stream",
     "text": [
      "tivi,29900000,46,None,None,Ho Chi Minh,54900000,None,99,None,96,0,0,0,0,0\n"
     ]
    },
    {
     "name": "stderr",
     "output_type": "stream",
     "text": [
      "Processing rows:  31%|███▏      | 376/1200 [17:26<35:01,  2.55s/it]"
     ]
    },
    {
     "name": "stdout",
     "output_type": "stream",
     "text": [
      "tivi,4349000,27,None,2,Ho Chi Minh,5990000,None,97,100,96,0,0,0,0,2\n"
     ]
    },
    {
     "name": "stderr",
     "output_type": "stream",
     "text": [
      "Processing rows:  31%|███▏      | 377/1200 [17:28<33:38,  2.45s/it]"
     ]
    },
    {
     "name": "stdout",
     "output_type": "stream",
     "text": [
      "tivi,4200000,None,30,17,Ha Noi,None,198200,97,None,None,0,1,0,1,15\n"
     ]
    },
    {
     "name": "stderr",
     "output_type": "stream",
     "text": [
      "Processing rows:  32%|███▏      | 378/1200 [17:31<35:47,  2.61s/it]"
     ]
    },
    {
     "name": "stdout",
     "output_type": "stream",
     "text": [
      "tivi,6510000,None,None,None,Ha Noi,None,2689300,None,None,100,0,0,0,0,0\n"
     ]
    },
    {
     "name": "stderr",
     "output_type": "stream",
     "text": [
      "Processing rows:  32%|███▏      | 379/1200 [17:33<33:44,  2.47s/it]"
     ]
    },
    {
     "name": "stdout",
     "output_type": "stream",
     "text": [
      "tivi,12000000,50,None,None,Ha Noi,24000000,612500,97,97,100,0,0,0,0,0\n"
     ]
    },
    {
     "name": "stderr",
     "output_type": "stream",
     "text": [
      "Processing rows:  32%|███▏      | 380/1200 [17:37<40:09,  2.94s/it]"
     ]
    },
    {
     "name": "stdout",
     "output_type": "stream",
     "text": [
      "tivi,8990000,22,None,0,Ho Chi Minh,11490000,None,96,None,83,0,0,0,0,1\n"
     ]
    },
    {
     "name": "stderr",
     "output_type": "stream",
     "text": [
      "Processing rows:  32%|███▏      | 381/1200 [17:39<36:00,  2.64s/it]"
     ]
    },
    {
     "name": "stdout",
     "output_type": "stream",
     "text": [
      "tivi,120000,None,12,7,Tien Giang,None,28700,96,100,100,0,0,0,0,7\n"
     ]
    },
    {
     "name": "stderr",
     "output_type": "stream",
     "text": [
      "Processing rows:  32%|███▏      | 382/1200 [17:41<33:36,  2.47s/it]"
     ]
    },
    {
     "name": "stdout",
     "output_type": "stream",
     "text": [
      "tivi,1799000,25,276,134,Ho Chi Minh,2399000,30900,98,100,100,0,1,1,7,125\n"
     ]
    },
    {
     "name": "stderr",
     "output_type": "stream",
     "text": [
      "Processing rows:  32%|███▏      | 383/1200 [17:44<36:39,  2.69s/it]"
     ]
    },
    {
     "name": "stdout",
     "output_type": "stream",
     "text": [
      "tivi,1076020,2,26,9,Ha Noi,1100000,198200,91,95,93,0,0,0,0,9\n"
     ]
    },
    {
     "name": "stderr",
     "output_type": "stream",
     "text": [
      "Processing rows:  32%|███▏      | 384/1200 [17:46<34:11,  2.51s/it]"
     ]
    },
    {
     "name": "stdout",
     "output_type": "stream",
     "text": [
      "tivi,6490000,19,None,None,Ho Chi Minh,14990000,131600,None,None,None,0,0,0,0,0\n"
     ]
    },
    {
     "name": "stderr",
     "output_type": "stream",
     "text": [
      "Processing rows:  32%|███▏      | 385/1200 [17:49<34:43,  2.56s/it]"
     ]
    },
    {
     "name": "stdout",
     "output_type": "stream",
     "text": [
      "tivi,1350000,None,None,1,Binh Duong,None,65500,None,None,None,0,0,0,1,0\n"
     ]
    },
    {
     "name": "stderr",
     "output_type": "stream",
     "text": [
      "Processing rows:  32%|███▏      | 386/1200 [17:51<34:18,  2.53s/it]"
     ]
    },
    {
     "name": "stdout",
     "output_type": "stream",
     "text": [
      "tivi,3050000,None,66,18,Dong Thap,None,96100,97,94,66,0,0,2,0,16\n"
     ]
    },
    {
     "name": "stderr",
     "output_type": "stream",
     "text": [
      "Processing rows:  32%|███▏      | 387/1200 [17:54<32:41,  2.41s/it]"
     ]
    },
    {
     "name": "stdout",
     "output_type": "stream",
     "text": [
      "tivi,6490000,44,None,None,Ho Chi Minh,11490000,131600,None,None,100,0,0,0,0,0\n"
     ]
    },
    {
     "name": "stderr",
     "output_type": "stream",
     "text": [
      "Processing rows:  32%|███▏      | 388/1200 [17:56<33:37,  2.48s/it]"
     ]
    },
    {
     "name": "stdout",
     "output_type": "stream",
     "text": [
      "tivi,14490000,None,21,1,Binh Duong,None,None,96,100,100,0,0,0,0,2\n"
     ]
    },
    {
     "name": "stderr",
     "output_type": "stream",
     "text": [
      "Processing rows:  32%|███▏      | 389/1200 [17:59<34:42,  2.57s/it]"
     ]
    },
    {
     "name": "stdout",
     "output_type": "stream",
     "text": [
      "tivi,6500000,31,None,1,Ho Chi Minh,9400000,131600,85,50,100,0,0,0,0,1\n"
     ]
    },
    {
     "name": "stderr",
     "output_type": "stream",
     "text": [
      "Processing rows:  32%|███▎      | 390/1200 [18:01<33:43,  2.50s/it]"
     ]
    },
    {
     "name": "stdout",
     "output_type": "stream",
     "text": [
      "tivi,2829000,29,8,4,Ho Chi Minh,4000000,None,98,100,99,0,0,0,0,4\n"
     ]
    },
    {
     "name": "stderr",
     "output_type": "stream",
     "text": [
      "Processing rows:  33%|███▎      | 391/1200 [18:04<35:03,  2.60s/it]"
     ]
    },
    {
     "name": "stdout",
     "output_type": "stream",
     "text": [
      "tivi,28750000,50,30,9,Binh Duong,57500000,None,98,None,98,0,0,0,0,9\n"
     ]
    },
    {
     "name": "stderr",
     "output_type": "stream",
     "text": [
      "Processing rows:  33%|███▎      | 392/1200 [18:07<35:27,  2.63s/it]"
     ]
    },
    {
     "name": "stdout",
     "output_type": "stream",
     "text": [
      "tivi,1150000,None,14,2,Ho Chi Minh,None,71100,92,100,80,1,0,0,0,2\n"
     ]
    },
    {
     "name": "stderr",
     "output_type": "stream",
     "text": [
      "Processing rows:  33%|███▎      | 393/1200 [18:10<36:00,  2.68s/it]"
     ]
    },
    {
     "name": "stdout",
     "output_type": "stream",
     "text": [
      "tivi,320000,None,17,6,Tien Giang,None,32200,96,100,100,0,0,0,0,6\n"
     ]
    },
    {
     "name": "stderr",
     "output_type": "stream",
     "text": [
      "Processing rows:  33%|███▎      | 394/1200 [18:12<33:47,  2.52s/it]"
     ]
    },
    {
     "name": "stdout",
     "output_type": "stream",
     "text": [
      "tivi,92900000,None,None,None,Ha Noi,None,None,None,None,100,0,0,0,0,0\n"
     ]
    },
    {
     "name": "stderr",
     "output_type": "stream",
     "text": [
      "Processing rows:  33%|███▎      | 395/1200 [18:14<32:48,  2.45s/it]"
     ]
    },
    {
     "name": "stdout",
     "output_type": "stream",
     "text": [
      "tivi,29800000,None,None,1,Ho Chi Minh,None,258200,85,50,100,0,0,0,0,1\n"
     ]
    },
    {
     "name": "stderr",
     "output_type": "stream",
     "text": [
      "Processing rows:  33%|███▎      | 396/1200 [18:17<35:01,  2.61s/it]"
     ]
    },
    {
     "name": "stdout",
     "output_type": "stream",
     "text": [
      "tivi,1750000,None,None,None,Phu Yen,None,212600,None,None,None,0,0,0,0,0\n"
     ]
    },
    {
     "name": "stderr",
     "output_type": "stream",
     "text": [
      "Processing rows:  33%|███▎      | 397/1200 [18:19<33:15,  2.48s/it]"
     ]
    },
    {
     "name": "stdout",
     "output_type": "stream",
     "text": [
      "tivi,34995000,5,None,None,Binh Duong,36990000,None,96,100,100,0,0,0,0,0\n"
     ]
    },
    {
     "name": "stderr",
     "output_type": "stream",
     "text": [
      "Processing rows:  33%|███▎      | 398/1200 [18:21<31:43,  2.37s/it]"
     ]
    },
    {
     "name": "stdout",
     "output_type": "stream",
     "text": [
      "tivi,5490000,None,None,1,Ho Chi Minh,None,None,98,None,None,0,0,0,0,1\n"
     ]
    },
    {
     "name": "stderr",
     "output_type": "stream",
     "text": [
      "Processing rows:  33%|███▎      | 399/1200 [18:24<31:09,  2.33s/it]"
     ]
    },
    {
     "name": "stdout",
     "output_type": "stream",
     "text": [
      "tivi,48498000,12,9,None,Ho Chi Minh,55000000,None,97,93,100,0,0,0,0,0\n"
     ]
    },
    {
     "name": "stderr",
     "output_type": "stream",
     "text": [
      "Processing rows:  33%|███▎      | 400/1200 [18:27<33:51,  2.54s/it]"
     ]
    },
    {
     "name": "stdout",
     "output_type": "stream",
     "text": [
      "tivi,4490000,43,None,None,Ha Noi,7900000,None,None,None,100,0,0,0,0,0\n"
     ]
    },
    {
     "name": "stderr",
     "output_type": "stream",
     "text": [
      "Processing rows:  33%|███▎      | 401/1200 [18:29<34:15,  2.57s/it]"
     ]
    },
    {
     "name": "stdout",
     "output_type": "stream",
     "text": [
      "tivi,8589000,33,1100,234,Ho Chi Minh,12900000,159200,None,100,100,1,0,0,1,232\n"
     ]
    },
    {
     "name": "stderr",
     "output_type": "stream",
     "text": [
      "Processing rows:  34%|███▎      | 402/1200 [18:31<32:21,  2.43s/it]"
     ]
    },
    {
     "name": "stdout",
     "output_type": "stream",
     "text": [
      "tivi,8189000,28,103,26,Ho Chi Minh,None,None,None,None,None,0,0,0,0,0\n"
     ]
    },
    {
     "name": "stderr",
     "output_type": "stream",
     "text": [
      "Processing rows:  34%|███▎      | 403/1200 [18:34<32:27,  2.44s/it]"
     ]
    },
    {
     "name": "stdout",
     "output_type": "stream",
     "text": [
      "tivi,11589000,27,324,64,Ho Chi Minh,15900000,258200,None,100,100,1,0,0,2,61\n"
     ]
    },
    {
     "name": "stderr",
     "output_type": "stream",
     "text": [
      "Processing rows:  34%|███▎      | 404/1200 [18:36<31:49,  2.40s/it]"
     ]
    },
    {
     "name": "stdout",
     "output_type": "stream",
     "text": [
      "tivi,7847300,44,1700,682,Ho Chi Minh,13990000,0,96,100,100,18,4,6,12,641\n"
     ]
    },
    {
     "name": "stderr",
     "output_type": "stream",
     "text": [
      "Processing rows:  34%|███▍      | 405/1200 [18:39<32:42,  2.47s/it]"
     ]
    },
    {
     "name": "stdout",
     "output_type": "stream",
     "text": [
      "tivi,6492000,38,494,142,Ho Chi Minh,10490000,0,96,100,100,2,1,1,1,137\n"
     ]
    },
    {
     "name": "stderr",
     "output_type": "stream",
     "text": [
      "Processing rows:  34%|███▍      | 406/1200 [18:41<31:32,  2.38s/it]"
     ]
    },
    {
     "name": "stdout",
     "output_type": "stream",
     "text": [
      "tivi,8920000,47,22,5,Ho Chi Minh,16900000,None,99,None,96,0,0,0,0,5\n"
     ]
    },
    {
     "name": "stderr",
     "output_type": "stream",
     "text": [
      "Processing rows:  34%|███▍      | 407/1200 [18:43<31:18,  2.37s/it]"
     ]
    },
    {
     "name": "stdout",
     "output_type": "stream",
     "text": [
      "tivi,8600000,46,15,2,Ho Chi Minh,15900000,None,99,None,96,0,0,0,0,2\n"
     ]
    },
    {
     "name": "stderr",
     "output_type": "stream",
     "text": [
      "Processing rows:  34%|███▍      | 408/1200 [18:47<34:55,  2.65s/it]"
     ]
    },
    {
     "name": "stdout",
     "output_type": "stream",
     "text": [
      "tivi,5389000,46,131,7,Ha Noi,9890000,None,100,None,100,0,0,0,0,7\n"
     ]
    },
    {
     "name": "stderr",
     "output_type": "stream",
     "text": [
      "Processing rows:  34%|███▍      | 409/1200 [18:49<34:27,  2.61s/it]"
     ]
    },
    {
     "name": "stdout",
     "output_type": "stream",
     "text": [
      "tivi,7451000,49,76,33,Ho Chi Minh,14690000,79000,99,100,100,0,0,0,1,32\n"
     ]
    },
    {
     "name": "stderr",
     "output_type": "stream",
     "text": [
      "Processing rows:  34%|███▍      | 410/1200 [18:52<34:22,  2.61s/it]"
     ]
    },
    {
     "name": "stdout",
     "output_type": "stream",
     "text": [
      "tivi,7889000,28,99,36,Ho Chi Minh,10900000,74700,None,100,100,0,0,0,0,36\n"
     ]
    },
    {
     "name": "stderr",
     "output_type": "stream",
     "text": [
      "Processing rows:  34%|███▍      | 411/1200 [18:54<32:29,  2.47s/it]"
     ]
    },
    {
     "name": "stdout",
     "output_type": "stream",
     "text": [
      "tivi,7450000,25,18,10,Ho Chi Minh,None,None,None,None,None,0,0,0,0,0\n"
     ]
    },
    {
     "name": "stderr",
     "output_type": "stream",
     "text": [
      "Processing rows:  34%|███▍      | 412/1200 [18:57<35:19,  2.69s/it]"
     ]
    },
    {
     "name": "stdout",
     "output_type": "stream",
     "text": [
      "tivi,8390000,15,78,34,Ho Chi Minh,9900000,0,99,0,96,0,0,0,0,35\n"
     ]
    },
    {
     "name": "stderr",
     "output_type": "stream",
     "text": [
      "Processing rows:  34%|███▍      | 413/1200 [19:00<36:46,  2.80s/it]"
     ]
    },
    {
     "name": "stdout",
     "output_type": "stream",
     "text": [
      "tivi,11589000,27,86,25,Ho Chi Minh,15900000,146000,None,100,100,0,0,1,0,24\n"
     ]
    },
    {
     "name": "stderr",
     "output_type": "stream",
     "text": [
      "Processing rows:  34%|███▍      | 414/1200 [19:03<35:33,  2.71s/it]"
     ]
    },
    {
     "name": "stdout",
     "output_type": "stream",
     "text": [
      "tivi,4048000,19,388,107,Ho Chi Minh,4990000,None,97,None,81,2,3,1,4,98\n"
     ]
    },
    {
     "name": "stderr",
     "output_type": "stream",
     "text": [
      "Processing rows:  35%|███▍      | 415/1200 [19:05<33:48,  2.58s/it]"
     ]
    },
    {
     "name": "stdout",
     "output_type": "stream",
     "text": [
      "tivi,7090000,45,37,17,Ho Chi Minh,13000000,31600,97,93,100,0,0,2,0,16\n"
     ]
    },
    {
     "name": "stderr",
     "output_type": "stream",
     "text": [
      "Processing rows:  35%|███▍      | 416/1200 [19:07<32:59,  2.53s/it]"
     ]
    },
    {
     "name": "stdout",
     "output_type": "stream",
     "text": [
      "tivi,2777000,44,321,118,Ho Chi Minh,4990000,None,97,None,81,0,1,1,1,116\n"
     ]
    },
    {
     "name": "stderr",
     "output_type": "stream",
     "text": [
      "Processing rows:  35%|███▍      | 417/1200 [19:10<33:26,  2.56s/it]"
     ]
    },
    {
     "name": "stdout",
     "output_type": "stream",
     "text": [
      "tivi,6289000,20,163,56,Ho Chi Minh,7900000,None,99,None,96,1,0,0,0,55\n"
     ]
    },
    {
     "name": "stderr",
     "output_type": "stream",
     "text": [
      "Processing rows:  35%|███▍      | 418/1200 [19:12<32:57,  2.53s/it]"
     ]
    },
    {
     "name": "stdout",
     "output_type": "stream",
     "text": [
      "tivi,5740000,48,2200,921,Ho Chi Minh,10990000,46000,97,93,100,5,0,1,17,899\n"
     ]
    },
    {
     "name": "stderr",
     "output_type": "stream",
     "text": [
      "Processing rows:  35%|███▍      | 419/1200 [19:15<31:54,  2.45s/it]"
     ]
    },
    {
     "name": "stdout",
     "output_type": "stream",
     "text": [
      "tivi,10899000,22,103,36,Ho Chi Minh,13900000,146000,0,100,100,0,0,0,0,36\n"
     ]
    },
    {
     "name": "stderr",
     "output_type": "stream",
     "text": [
      "Processing rows:  35%|███▌      | 420/1200 [19:18<34:23,  2.65s/it]"
     ]
    },
    {
     "name": "stdout",
     "output_type": "stream",
     "text": [
      "tivi,2151660,8,28,12,Ha Noi,2350000,198200,91,95,93,1,0,0,0,11\n"
     ]
    },
    {
     "name": "stderr",
     "output_type": "stream",
     "text": [
      "Processing rows:  35%|███▌      | 421/1200 [19:20<32:32,  2.51s/it]"
     ]
    },
    {
     "name": "stdout",
     "output_type": "stream",
     "text": [
      "tivi,4090000,49,670,291,Ho Chi Minh,7990000,0,97,93,100,2,2,2,13,272\n"
     ]
    },
    {
     "name": "stderr",
     "output_type": "stream",
     "text": [
      "Processing rows:  35%|███▌      | 422/1200 [19:23<32:57,  2.54s/it]"
     ]
    },
    {
     "name": "stdout",
     "output_type": "stream",
     "text": [
      "tivi,6390000,19,49,18,Ho Chi Minh,7900000,None,99,None,96,0,0,0,0,19\n"
     ]
    },
    {
     "name": "stderr",
     "output_type": "stream",
     "text": [
      "Processing rows:  35%|███▌      | 423/1200 [19:25<31:41,  2.45s/it]"
     ]
    },
    {
     "name": "stdout",
     "output_type": "stream",
     "text": [
      "tivi,920486,3,77,26,Ha Noi,950000,115100,91,95,93,0,0,0,3,24\n"
     ]
    },
    {
     "name": "stderr",
     "output_type": "stream",
     "text": [
      "Processing rows:  35%|███▌      | 424/1200 [19:27<30:21,  2.35s/it]"
     ]
    },
    {
     "name": "stdout",
     "output_type": "stream",
     "text": [
      "tivi,2399000,None,None,None,Ho Chi Minh,None,16500,None,None,33,0,0,0,0,0\n"
     ]
    },
    {
     "name": "stderr",
     "output_type": "stream",
     "text": [
      "Processing rows:  35%|███▌      | 425/1200 [19:30<31:15,  2.42s/it]"
     ]
    },
    {
     "name": "stdout",
     "output_type": "stream",
     "text": [
      "tivi,33890000,11,84,27,Binh Duong,38290000,None,96,100,100,0,0,0,0,27\n"
     ]
    },
    {
     "name": "stderr",
     "output_type": "stream",
     "text": [
      "Processing rows:  36%|███▌      | 426/1200 [19:33<34:12,  2.65s/it]"
     ]
    },
    {
     "name": "stdout",
     "output_type": "stream",
     "text": [
      "tivi,11190000,45,376,171,Ho Chi Minh,20490000,0,96,100,100,3,0,2,0,167\n"
     ]
    },
    {
     "name": "stderr",
     "output_type": "stream",
     "text": [
      "Processing rows:  36%|███▌      | 427/1200 [19:35<33:40,  2.61s/it]"
     ]
    },
    {
     "name": "stdout",
     "output_type": "stream",
     "text": [
      "tivi,10095000,44,263,144,Ho Chi Minh,17990000,None,97,93,100,1,1,2,2,138\n"
     ]
    },
    {
     "name": "stderr",
     "output_type": "stream",
     "text": [
      "Processing rows:  36%|███▌      | 428/1200 [19:38<34:16,  2.66s/it]"
     ]
    },
    {
     "name": "stdout",
     "output_type": "stream",
     "text": [
      "tivi,7590000,24,715,516,Ho Chi Minh,10000000,46000,97,93,100,3,2,4,4,503\n"
     ]
    },
    {
     "name": "stderr",
     "output_type": "stream",
     "text": [
      "Processing rows:  36%|███▌      | 429/1200 [19:40<32:43,  2.55s/it]"
     ]
    },
    {
     "name": "stdout",
     "output_type": "stream",
     "text": [
      "tivi,60805000,5,None,None,Ho Chi Minh,63900000,None,92,None,100,0,0,0,0,0\n"
     ]
    },
    {
     "name": "stderr",
     "output_type": "stream",
     "text": [
      "Processing rows:  36%|███▌      | 430/1200 [19:42<31:23,  2.45s/it]"
     ]
    },
    {
     "name": "stdout",
     "output_type": "stream",
     "text": [
      "tivi,1998000,20,7,6,Ha Noi,2500000,198200,91,90,95,0,0,0,0,6\n"
     ]
    },
    {
     "name": "stderr",
     "output_type": "stream",
     "text": [
      "Processing rows:  36%|███▌      | 431/1200 [19:44<29:29,  2.30s/it]"
     ]
    },
    {
     "name": "stdout",
     "output_type": "stream",
     "text": [
      "tivi,17300000,None,None,None,Ho Chi Minh,None,None,99,None,100,0,0,0,0,0\n"
     ]
    },
    {
     "name": "stderr",
     "output_type": "stream",
     "text": [
      "Processing rows:  36%|███▌      | 432/1200 [19:47<30:09,  2.36s/it]"
     ]
    },
    {
     "name": "stdout",
     "output_type": "stream",
     "text": [
      "tivi,1100000,None,9,3,Ho Chi Minh,None,74700,85,100,70,0,0,0,0,3\n"
     ]
    },
    {
     "name": "stderr",
     "output_type": "stream",
     "text": [
      "Processing rows:  36%|███▌      | 433/1200 [19:49<29:26,  2.30s/it]"
     ]
    },
    {
     "name": "stdout",
     "output_type": "stream",
     "text": [
      "tivi,950000,None,None,1,Ha Noi,None,198200,86,97,80,0,0,0,0,1\n"
     ]
    },
    {
     "name": "stderr",
     "output_type": "stream",
     "text": [
      "Processing rows:  36%|███▌      | 434/1200 [19:53<33:49,  2.65s/it]"
     ]
    },
    {
     "name": "stdout",
     "output_type": "stream",
     "text": [
      "tivi,43890000,9,6,1,Binh Duong,48290000,None,96,100,100,0,0,0,0,1\n"
     ]
    },
    {
     "name": "stderr",
     "output_type": "stream",
     "text": [
      "Processing rows:  36%|███▋      | 435/1200 [19:55<32:19,  2.53s/it]"
     ]
    },
    {
     "name": "stdout",
     "output_type": "stream",
     "text": [
      "tivi,11392000,14,99,54,Ho Chi Minh,13290000,0,96,100,100,0,1,0,1,53\n"
     ]
    },
    {
     "name": "stderr",
     "output_type": "stream",
     "text": [
      "Processing rows:  36%|███▋      | 436/1200 [19:57<31:47,  2.50s/it]"
     ]
    },
    {
     "name": "stdout",
     "output_type": "stream",
     "text": [
      "tivi,1450000,None,None,None,Ho Chi Minh,None,23800,None,None,None,0,0,0,0,0\n"
     ]
    },
    {
     "name": "stderr",
     "output_type": "stream",
     "text": [
      "Processing rows:  36%|███▋      | 437/1200 [20:00<32:54,  2.59s/it]"
     ]
    },
    {
     "name": "stdout",
     "output_type": "stream",
     "text": [
      "tivi,1369480,2,25,7,Ha Noi,1400000,198200,91,95,93,0,0,0,0,7\n"
     ]
    },
    {
     "name": "stderr",
     "output_type": "stream",
     "text": [
      "Processing rows:  36%|███▋      | 438/1200 [20:02<31:30,  2.48s/it]"
     ]
    },
    {
     "name": "stdout",
     "output_type": "stream",
     "text": [
      "tivi,12490000,11,12,2,Ho Chi Minh,13990000,0,96,100,100,0,0,1,0,1\n"
     ]
    },
    {
     "name": "stderr",
     "output_type": "stream",
     "text": [
      "Processing rows:  37%|███▋      | 439/1200 [20:05<30:51,  2.43s/it]"
     ]
    },
    {
     "name": "stdout",
     "output_type": "stream",
     "text": [
      "tivi,9250000,49,17,5,Ho Chi Minh,17990000,72400,99,100,100,0,0,0,1,4\n"
     ]
    },
    {
     "name": "stderr",
     "output_type": "stream",
     "text": [
      "Processing rows:  37%|███▋      | 440/1200 [20:07<32:18,  2.55s/it]"
     ]
    },
    {
     "name": "stdout",
     "output_type": "stream",
     "text": [
      "tivi,4689000,41,16,None,Ha Noi,7900000,None,100,None,100,0,0,0,0,1\n"
     ]
    },
    {
     "name": "stderr",
     "output_type": "stream",
     "text": [
      "Processing rows:  37%|███▋      | 441/1200 [20:10<30:51,  2.44s/it]"
     ]
    },
    {
     "name": "stdout",
     "output_type": "stream",
     "text": [
      "tivi,16490000,8,22,8,Ho Chi Minh,17990000,0,96,100,100,0,0,0,1,7\n"
     ]
    },
    {
     "name": "stderr",
     "output_type": "stream",
     "text": [
      "Processing rows:  37%|███▋      | 442/1200 [20:12<31:57,  2.53s/it]"
     ]
    },
    {
     "name": "stdout",
     "output_type": "stream",
     "text": [
      "tivi,4290000,7,52,13,Ho Chi Minh,4590000,0,96,100,100,0,0,0,1,13\n"
     ]
    },
    {
     "name": "stderr",
     "output_type": "stream",
     "text": [
      "Processing rows:  37%|███▋      | 443/1200 [20:15<32:47,  2.60s/it]"
     ]
    },
    {
     "name": "stdout",
     "output_type": "stream",
     "text": [
      "tivi,5713000,35,462,178,Ho Chi Minh,8800000,None,97,None,81,1,2,2,5,169\n"
     ]
    },
    {
     "name": "stderr",
     "output_type": "stream",
     "text": [
      "Processing rows:  37%|███▋      | 444/1200 [20:17<31:38,  2.51s/it]"
     ]
    },
    {
     "name": "stdout",
     "output_type": "stream",
     "text": [
      "tivi,3989000,50,None,None,Ha Noi,7990000,None,None,None,100,0,0,0,0,0\n"
     ]
    },
    {
     "name": "stderr",
     "output_type": "stream",
     "text": [
      "Processing rows:  37%|███▋      | 445/1200 [20:19<29:56,  2.38s/it]"
     ]
    },
    {
     "name": "stdout",
     "output_type": "stream",
     "text": [
      "tivi,6590000,55,None,None,Ha Noi,14790000,None,None,None,100,0,0,0,0,0\n"
     ]
    },
    {
     "name": "stderr",
     "output_type": "stream",
     "text": [
      "Processing rows:  37%|███▋      | 446/1200 [20:22<29:33,  2.35s/it]"
     ]
    },
    {
     "name": "stdout",
     "output_type": "stream",
     "text": [
      "tivi,7490000,49,10,5,Ha Noi,14790000,None,99,None,100,0,0,0,0,5\n"
     ]
    },
    {
     "name": "stderr",
     "output_type": "stream",
     "text": [
      "Processing rows:  37%|███▋      | 447/1200 [20:24<29:45,  2.37s/it]"
     ]
    },
    {
     "name": "stdout",
     "output_type": "stream",
     "text": [
      "tivi,8363000,40,33,14,Ho Chi Minh,14000000,None,98,100,99,0,0,0,1,13\n"
     ]
    },
    {
     "name": "stderr",
     "output_type": "stream",
     "text": [
      "Processing rows:  37%|███▋      | 448/1200 [20:26<29:13,  2.33s/it]"
     ]
    },
    {
     "name": "stdout",
     "output_type": "stream",
     "text": [
      "tivi,9789000,25,66,15,Binh Duong,13000000,0,98,0,98,0,0,0,0,15\n"
     ]
    },
    {
     "name": "stderr",
     "output_type": "stream",
     "text": [
      "Processing rows:  37%|███▋      | 449/1200 [20:29<28:37,  2.29s/it]"
     ]
    },
    {
     "name": "stdout",
     "output_type": "stream",
     "text": [
      "tivi,8992000,18,15,5,Ho Chi Minh,10990000,0,96,100,100,0,0,0,0,5\n"
     ]
    },
    {
     "name": "stderr",
     "output_type": "stream",
     "text": [
      "Processing rows:  38%|███▊      | 450/1200 [20:31<28:27,  2.28s/it]"
     ]
    },
    {
     "name": "stdout",
     "output_type": "stream",
     "text": [
      "tivi,11898000,20,None,None,Ho Chi Minh,19900000,218600,None,100,100,0,0,0,0,0\n"
     ]
    },
    {
     "name": "stderr",
     "output_type": "stream",
     "text": [
      "Processing rows:  38%|███▊      | 451/1200 [20:33<28:09,  2.26s/it]"
     ]
    },
    {
     "name": "stdout",
     "output_type": "stream",
     "text": [
      "tivi,230000,None,73,26,Ho Chi Minh,None,16500,99,100,None,0,0,0,0,26\n"
     ]
    },
    {
     "name": "stderr",
     "output_type": "stream",
     "text": [
      "Processing rows:  38%|███▊      | 452/1200 [20:36<31:01,  2.49s/it]"
     ]
    },
    {
     "name": "stdout",
     "output_type": "stream",
     "text": [
      "tivi,4785000,47,63,27,Ho Chi Minh,8990000,112600,97,93,100,2,0,0,1,24\n"
     ]
    },
    {
     "name": "stderr",
     "output_type": "stream",
     "text": [
      "Processing rows:  38%|███▊      | 453/1200 [20:39<32:18,  2.59s/it]"
     ]
    },
    {
     "name": "stdout",
     "output_type": "stream",
     "text": [
      "tivi,2829000,29,58,25,Ho Chi Minh,4000000,None,97,None,95,0,0,0,0,25\n"
     ]
    },
    {
     "name": "stderr",
     "output_type": "stream",
     "text": [
      "Processing rows:  38%|███▊      | 454/1200 [20:42<33:05,  2.66s/it]"
     ]
    },
    {
     "name": "stdout",
     "output_type": "stream",
     "text": [
      "tivi,3565542,4,31,17,Ha Noi,3700000,206800,91,95,93,1,0,1,0,15\n"
     ]
    },
    {
     "name": "stderr",
     "output_type": "stream",
     "text": [
      "Processing rows:  38%|███▊      | 455/1200 [20:44<33:12,  2.67s/it]"
     ]
    },
    {
     "name": "stdout",
     "output_type": "stream",
     "text": [
      "tivi,145350000,20,6,None,Ho Chi Minh,181394000,None,97,None,95,0,0,0,0,0\n"
     ]
    },
    {
     "name": "stderr",
     "output_type": "stream",
     "text": [
      "Processing rows:  38%|███▊      | 456/1200 [20:47<31:30,  2.54s/it]"
     ]
    },
    {
     "name": "stdout",
     "output_type": "stream",
     "text": [
      "tivi,2200950,15,61,28,Ha Noi,2600000,135500,91,95,93,2,0,0,1,25\n"
     ]
    },
    {
     "name": "stderr",
     "output_type": "stream",
     "text": [
      "Processing rows:  38%|███▊      | 457/1200 [20:49<30:26,  2.46s/it]"
     ]
    },
    {
     "name": "stdout",
     "output_type": "stream",
     "text": [
      "tivi,8200000,39,10,4,Ho Chi Minh,13390000,159200,85,50,100,0,0,0,0,5\n"
     ]
    },
    {
     "name": "stderr",
     "output_type": "stream",
     "text": [
      "Processing rows:  38%|███▊      | 458/1200 [20:51<30:09,  2.44s/it]"
     ]
    },
    {
     "name": "stdout",
     "output_type": "stream",
     "text": [
      "tivi,5850000,6,11,5,Ha Noi,6250000,125300,100,40,None,0,0,0,0,6\n"
     ]
    },
    {
     "name": "stderr",
     "output_type": "stream",
     "text": [
      "Processing rows:  38%|███▊      | 459/1200 [20:53<28:49,  2.33s/it]"
     ]
    },
    {
     "name": "stdout",
     "output_type": "stream",
     "text": [
      "tivi,99900000,None,None,None,Ho Chi Minh,None,None,99,None,96,0,0,0,0,0\n"
     ]
    },
    {
     "name": "stderr",
     "output_type": "stream",
     "text": [
      "Processing rows:  38%|███▊      | 460/1200 [20:56<28:19,  2.30s/it]"
     ]
    },
    {
     "name": "stdout",
     "output_type": "stream",
     "text": [
      "tivi,9900000,44,5,None,Ho Chi Minh,17800000,238400,85,50,100,0,0,0,0,0\n"
     ]
    },
    {
     "name": "stderr",
     "output_type": "stream",
     "text": [
      "Processing rows:  38%|███▊      | 461/1200 [20:58<28:54,  2.35s/it]"
     ]
    },
    {
     "name": "stdout",
     "output_type": "stream",
     "text": [
      "tivi,1850000,None,11,4,Ha Noi,None,206800,91,95,93,0,0,0,0,4\n"
     ]
    },
    {
     "name": "stderr",
     "output_type": "stream",
     "text": [
      "Processing rows:  38%|███▊      | 462/1200 [21:01<31:54,  2.59s/it]"
     ]
    },
    {
     "name": "stdout",
     "output_type": "stream",
     "text": [
      "tivi,1499000,21,234,112,Ho Chi Minh,1899000,27300,98,None,100,3,0,2,12,95\n"
     ]
    },
    {
     "name": "stderr",
     "output_type": "stream",
     "text": [
      "Processing rows:  39%|███▊      | 463/1200 [21:04<30:36,  2.49s/it]"
     ]
    },
    {
     "name": "stdout",
     "output_type": "stream",
     "text": [
      "tivi,2300000,None,None,1,Ho Chi Minh,None,74700,85,100,70,0,0,0,0,1\n"
     ]
    },
    {
     "name": "stderr",
     "output_type": "stream",
     "text": [
      "Processing rows:  39%|███▊      | 464/1200 [21:06<30:09,  2.46s/it]"
     ]
    },
    {
     "name": "stdout",
     "output_type": "stream",
     "text": [
      "tivi,3003074,2,21,17,Ha Noi,3070000,198200,91,95,93,1,0,1,1,14\n"
     ]
    },
    {
     "name": "stderr",
     "output_type": "stream",
     "text": [
      "Processing rows:  39%|███▉      | 465/1200 [21:08<29:51,  2.44s/it]"
     ]
    },
    {
     "name": "stdout",
     "output_type": "stream",
     "text": [
      "tivi,62990000,11,None,None,Ha Noi,70590000,None,None,None,100,0,0,0,0,0\n"
     ]
    },
    {
     "name": "stderr",
     "output_type": "stream",
     "text": [
      "Processing rows:  39%|███▉      | 466/1200 [21:11<29:31,  2.41s/it]"
     ]
    },
    {
     "name": "stdout",
     "output_type": "stream",
     "text": [
      "tivi,17590000,44,12,4,Ho Chi Minh,31290000,501400,99,100,100,0,0,0,0,4\n"
     ]
    },
    {
     "name": "stderr",
     "output_type": "stream",
     "text": [
      "Processing rows:  39%|███▉      | 467/1200 [21:14<31:22,  2.57s/it]"
     ]
    },
    {
     "name": "stdout",
     "output_type": "stream",
     "text": [
      "tivi,2280000,24,22,10,Ho Chi Minh,2990000,0,99,100,100,0,0,0,0,10\n"
     ]
    },
    {
     "name": "stderr",
     "output_type": "stream",
     "text": [
      "Processing rows:  39%|███▉      | 468/1200 [21:16<30:18,  2.48s/it]"
     ]
    },
    {
     "name": "stdout",
     "output_type": "stream",
     "text": [
      "tivi,2790000,None,None,None,Ho Chi Minh,None,46000,100,None,66,0,0,0,0,0\n"
     ]
    },
    {
     "name": "stderr",
     "output_type": "stream",
     "text": [
      "Processing rows:  39%|███▉      | 469/1200 [21:18<29:38,  2.43s/it]"
     ]
    },
    {
     "name": "stdout",
     "output_type": "stream",
     "text": [
      "tivi,4190000,46,None,None,Ho Chi Minh,7690000,131600,None,None,100,0,0,0,0,0\n"
     ]
    },
    {
     "name": "stderr",
     "output_type": "stream",
     "text": [
      "Processing rows:  39%|███▉      | 470/1200 [21:21<30:06,  2.47s/it]"
     ]
    },
    {
     "name": "stdout",
     "output_type": "stream",
     "text": [
      "tivi,3750000,None,5,1,Ha Noi,None,198200,91,95,93,0,0,0,0,1\n"
     ]
    },
    {
     "name": "stderr",
     "output_type": "stream",
     "text": [
      "Processing rows:  39%|███▉      | 471/1200 [21:23<29:38,  2.44s/it]"
     ]
    },
    {
     "name": "stdout",
     "output_type": "stream",
     "text": [
      "tivi,1500000,None,None,None,Binh Duong,None,585800,None,None,None,0,0,0,0,0\n"
     ]
    },
    {
     "name": "stderr",
     "output_type": "stream",
     "text": [
      "Processing rows:  39%|███▉      | 472/1200 [21:26<32:30,  2.68s/it]"
     ]
    },
    {
     "name": "stdout",
     "output_type": "stream",
     "text": [
      "tivi,3257406,2,7,1,Ha Noi,3330000,198200,91,95,93,0,0,0,1,1\n"
     ]
    },
    {
     "name": "stderr",
     "output_type": "stream",
     "text": [
      "Processing rows:  39%|███▉      | 473/1200 [21:30<34:57,  2.88s/it]"
     ]
    },
    {
     "name": "stdout",
     "output_type": "stream",
     "text": [
      "tivi,1500000,12,None,1,Ho Chi Minh,1700000,71100,92,None,80,0,0,1,0,1\n"
     ]
    },
    {
     "name": "stderr",
     "output_type": "stream",
     "text": [
      "Processing rows:  40%|███▉      | 474/1200 [21:32<32:43,  2.70s/it]"
     ]
    },
    {
     "name": "stdout",
     "output_type": "stream",
     "text": [
      "tivi,5590000,44,None,None,Ho Chi Minh,9990000,0,97,93,100,0,0,0,0,0\n"
     ]
    },
    {
     "name": "stderr",
     "output_type": "stream",
     "text": [
      "Processing rows:  40%|███▉      | 475/1200 [21:34<31:07,  2.58s/it]"
     ]
    },
    {
     "name": "stdout",
     "output_type": "stream",
     "text": [
      "tivi,34895000,6,None,None,Binh Duong,36990000,None,96,100,100,0,0,0,0,0\n"
     ]
    },
    {
     "name": "stderr",
     "output_type": "stream",
     "text": [
      "Processing rows:  40%|███▉      | 476/1200 [21:37<32:01,  2.65s/it]"
     ]
    },
    {
     "name": "stdout",
     "output_type": "stream",
     "text": [
      "tivi,1694000,11,5,1,Ha Noi,1895000,198200,91,90,95,0,0,0,0,1\n"
     ]
    },
    {
     "name": "stderr",
     "output_type": "stream",
     "text": [
      "Processing rows:  40%|███▉      | 477/1200 [21:40<32:20,  2.68s/it]"
     ]
    },
    {
     "name": "stdout",
     "output_type": "stream",
     "text": [
      "tivi,1435853,7,20,9,Ha Noi,2050000,198200,91,95,93,1,0,0,1,7\n"
     ]
    },
    {
     "name": "stderr",
     "output_type": "stream",
     "text": [
      "Processing rows:  40%|███▉      | 478/1200 [21:42<30:56,  2.57s/it]"
     ]
    },
    {
     "name": "stdout",
     "output_type": "stream",
     "text": [
      "tivi,4590000,45,None,None,Ha Noi,None,None,None,None,None,0,0,0,0,0\n"
     ]
    },
    {
     "name": "stderr",
     "output_type": "stream",
     "text": [
      "Processing rows:  40%|███▉      | 479/1200 [21:45<30:35,  2.55s/it]"
     ]
    },
    {
     "name": "stdout",
     "output_type": "stream",
     "text": [
      "tivi,19992000,9,6,None,Ho Chi Minh,21990000,0,96,100,100,0,0,0,0,0\n"
     ]
    },
    {
     "name": "stderr",
     "output_type": "stream",
     "text": [
      "Processing rows:  40%|████      | 480/1200 [21:47<29:51,  2.49s/it]"
     ]
    },
    {
     "name": "stdout",
     "output_type": "stream",
     "text": [
      "tivi,2490000,None,None,None,Thái Bình,None,141300,None,None,100,0,0,0,0,0\n"
     ]
    },
    {
     "name": "stderr",
     "output_type": "stream",
     "text": [
      "Processing rows:  40%|████      | 481/1200 [21:49<29:07,  2.43s/it]"
     ]
    },
    {
     "name": "stdout",
     "output_type": "stream",
     "text": [
      "tivi,2990000,46,189,57,Ha Noi,5490000,None,98,None,None,0,0,0,0,58\n"
     ]
    },
    {
     "name": "stderr",
     "output_type": "stream",
     "text": [
      "Processing rows:  40%|████      | 482/1200 [21:52<30:46,  2.57s/it]"
     ]
    },
    {
     "name": "stdout",
     "output_type": "stream",
     "text": [
      "tivi,3366000,43,None,None,Ha Noi,5900000,None,None,None,100,0,0,0,0,1\n"
     ]
    },
    {
     "name": "stderr",
     "output_type": "stream",
     "text": [
      "Processing rows:  40%|████      | 483/1200 [21:55<33:05,  2.77s/it]"
     ]
    },
    {
     "name": "stdout",
     "output_type": "stream",
     "text": [
      "tivi,5390000,4,34,9,Ho Chi Minh,5590000,0,96,100,100,2,0,0,0,7\n"
     ]
    },
    {
     "name": "stderr",
     "output_type": "stream",
     "text": [
      "Processing rows:  40%|████      | 484/1200 [21:58<32:52,  2.76s/it]"
     ]
    },
    {
     "name": "stdout",
     "output_type": "stream",
     "text": [
      "tivi,3863890,2,17,11,Ha Noi,3950000,198200,91,95,93,0,0,0,0,11\n"
     ]
    },
    {
     "name": "stderr",
     "output_type": "stream",
     "text": [
      "Processing rows:  40%|████      | 485/1200 [22:01<33:22,  2.80s/it]"
     ]
    },
    {
     "name": "stdout",
     "output_type": "stream",
     "text": [
      "tivi,3200000,None,25,11,Ha Noi,None,198200,91,95,93,0,0,0,0,11\n"
     ]
    },
    {
     "name": "stderr",
     "output_type": "stream",
     "text": [
      "Processing rows:  40%|████      | 486/1200 [22:04<35:05,  2.95s/it]"
     ]
    },
    {
     "name": "stdout",
     "output_type": "stream",
     "text": [
      "tivi,3939000,21,50,15,Ho Chi Minh,5000000,None,98,100,99,0,0,0,0,15\n"
     ]
    },
    {
     "name": "stderr",
     "output_type": "stream",
     "text": [
      "Processing rows:  41%|████      | 487/1200 [22:07<35:33,  2.99s/it]"
     ]
    },
    {
     "name": "stdout",
     "output_type": "stream",
     "text": [
      "tivi,1700000,None,8,3,Ho Chi Minh,None,74700,85,100,70,0,0,0,0,3\n"
     ]
    },
    {
     "name": "stderr",
     "output_type": "stream",
     "text": [
      "Processing rows:  41%|████      | 488/1200 [22:10<33:33,  2.83s/it]"
     ]
    },
    {
     "name": "stdout",
     "output_type": "stream",
     "text": [
      "tivi,1349000,7,9,2,Ha Noi,1450000,198200,91,90,95,0,0,0,0,2\n"
     ]
    },
    {
     "name": "stderr",
     "output_type": "stream",
     "text": [
      "Processing rows:  41%|████      | 489/1200 [22:15<40:13,  3.40s/it]"
     ]
    },
    {
     "name": "stdout",
     "output_type": "stream",
     "text": [
      "tivi,1419000,7,7,3,Ha Noi,1521000,198200,91,90,95,1,0,0,0,2\n"
     ]
    },
    {
     "name": "stderr",
     "output_type": "stream",
     "text": [
      "Processing rows:  41%|████      | 490/1200 [22:18<38:44,  3.27s/it]"
     ]
    },
    {
     "name": "stdout",
     "output_type": "stream",
     "text": [
      "tivi,3590000,40,174,88,Ho Chi Minh,6000000,None,98,100,99,0,0,0,2,86\n"
     ]
    },
    {
     "name": "stderr",
     "output_type": "stream",
     "text": [
      "Processing rows:  41%|████      | 491/1200 [22:20<35:57,  3.04s/it]"
     ]
    },
    {
     "name": "stdout",
     "output_type": "stream",
     "text": [
      "tivi,8659000,49,55,19,Ho Chi Minh,17000000,None,98,100,99,0,0,0,0,19\n"
     ]
    },
    {
     "name": "stderr",
     "output_type": "stream",
     "text": [
      "Processing rows:  41%|████      | 492/1200 [22:23<33:44,  2.86s/it]"
     ]
    },
    {
     "name": "stdout",
     "output_type": "stream",
     "text": [
      "tivi,7094000,29,262,180,Ho Chi Minh,10000000,31600,97,93,100,0,2,1,14,163\n"
     ]
    },
    {
     "name": "stderr",
     "output_type": "stream",
     "text": [
      "Processing rows:  41%|████      | 493/1200 [22:25<33:39,  2.86s/it]"
     ]
    },
    {
     "name": "stdout",
     "output_type": "stream",
     "text": [
      "tivi,6348000,29,95,28,Ho Chi Minh,8900000,0,97,0,81,0,0,0,0,28\n"
     ]
    },
    {
     "name": "stderr",
     "output_type": "stream",
     "text": [
      "Processing rows:  41%|████      | 494/1200 [22:28<33:46,  2.87s/it]"
     ]
    },
    {
     "name": "stdout",
     "output_type": "stream",
     "text": [
      "tivi,13450000,33,53,18,Ho Chi Minh,20000000,None,98,100,99,0,0,0,0,18\n"
     ]
    },
    {
     "name": "stderr",
     "output_type": "stream",
     "text": [
      "Processing rows:  41%|████▏     | 495/1200 [22:31<32:54,  2.80s/it]"
     ]
    },
    {
     "name": "stdout",
     "output_type": "stream",
     "text": [
      "tivi,1396646,9,81,33,Ha Noi,1530000,198200,91,95,93,0,0,0,2,31\n"
     ]
    },
    {
     "name": "stderr",
     "output_type": "stream",
     "text": [
      "Processing rows:  41%|████▏     | 496/1200 [22:33<31:53,  2.72s/it]"
     ]
    },
    {
     "name": "stdout",
     "output_type": "stream",
     "text": [
      "tivi,6312240,24,14,6,Ho Chi Minh,8288000,None,98,None,100,0,0,0,1,5\n"
     ]
    },
    {
     "name": "stderr",
     "output_type": "stream",
     "text": [
      "Processing rows:  41%|████▏     | 497/1200 [22:37<34:35,  2.95s/it]"
     ]
    },
    {
     "name": "stdout",
     "output_type": "stream",
     "text": [
      "tivi,7590000,33,15,4,Ha Noi,11290000,None,97,100,97,0,0,0,0,5\n"
     ]
    },
    {
     "name": "stderr",
     "output_type": "stream",
     "text": [
      "Processing rows:  42%|████▏     | 498/1200 [22:39<31:38,  2.70s/it]"
     ]
    },
    {
     "name": "stdout",
     "output_type": "stream",
     "text": [
      "tivi,64690000,6,None,None,Ho Chi Minh,68790000,None,100,None,None,0,0,0,0,0\n"
     ]
    },
    {
     "name": "stderr",
     "output_type": "stream",
     "text": [
      "Processing rows:  42%|████▏     | 499/1200 [22:42<30:41,  2.63s/it]"
     ]
    },
    {
     "name": "stdout",
     "output_type": "stream",
     "text": [
      "tivi,2390000,43,30,17,Ha Noi,4200000,198200,97,None,None,0,1,0,1,15\n"
     ]
    },
    {
     "name": "stderr",
     "output_type": "stream",
     "text": [
      "Processing rows:  42%|████▏     | 500/1200 [22:45<32:37,  2.80s/it]"
     ]
    },
    {
     "name": "stdout",
     "output_type": "stream",
     "text": [
      "tivi,6990000,49,None,None,Ha Noi,13790000,None,99,None,100,0,0,0,0,0\n"
     ]
    },
    {
     "name": "stderr",
     "output_type": "stream",
     "text": [
      "Processing rows:  42%|████▏     | 501/1200 [22:48<33:14,  2.85s/it]"
     ]
    },
    {
     "name": "stdout",
     "output_type": "stream",
     "text": [
      "tivi,6579000,45,13,5,Ho Chi Minh,12000000,0,98,100,99,0,0,0,0,5\n"
     ]
    },
    {
     "name": "stderr",
     "output_type": "stream",
     "text": [
      "Processing rows:  42%|████▏     | 502/1200 [22:51<33:06,  2.85s/it]"
     ]
    },
    {
     "name": "stdout",
     "output_type": "stream",
     "text": [
      "tivi,1800000,8,5,2,Ho Chi Minh,1950000,71100,85,100,70,0,0,0,0,2\n"
     ]
    },
    {
     "name": "stderr",
     "output_type": "stream",
     "text": [
      "Processing rows:  42%|████▏     | 503/1200 [22:54<34:54,  3.00s/it]"
     ]
    },
    {
     "name": "stdout",
     "output_type": "stream",
     "text": [
      "tivi,13600000,33,None,1,Ho Chi Minh,20390000,271400,85,50,100,0,0,0,0,1\n"
     ]
    },
    {
     "name": "stderr",
     "output_type": "stream",
     "text": [
      "Processing rows:  42%|████▏     | 504/1200 [22:56<32:32,  2.80s/it]"
     ]
    },
    {
     "name": "stdout",
     "output_type": "stream",
     "text": [
      "tivi,10989000,21,None,1,Bac Ninh,13900000,565500,None,100,100,0,0,0,0,1\n"
     ]
    },
    {
     "name": "stderr",
     "output_type": "stream",
     "text": [
      "Processing rows:  42%|████▏     | 505/1200 [22:59<32:18,  2.79s/it]"
     ]
    },
    {
     "name": "stdout",
     "output_type": "stream",
     "text": [
      "tivi,17290000,20,40,10,Binh Duong,21700000,None,98,None,98,0,0,0,0,10\n"
     ]
    },
    {
     "name": "stderr",
     "output_type": "stream",
     "text": [
      "Processing rows:  42%|████▏     | 506/1200 [23:01<30:36,  2.65s/it]"
     ]
    },
    {
     "name": "stdout",
     "output_type": "stream",
     "text": [
      "tivi,2270000,None,None,None,Ho Chi Minh,None,45100,100,None,100,0,0,0,0,0\n"
     ]
    },
    {
     "name": "stderr",
     "output_type": "stream",
     "text": [
      "Processing rows:  42%|████▏     | 507/1200 [23:04<31:21,  2.71s/it]"
     ]
    },
    {
     "name": "stdout",
     "output_type": "stream",
     "text": [
      "tivi,1076020,2,26,9,Ha Noi,1100000,198200,91,95,93,0,0,0,0,9\n"
     ]
    },
    {
     "name": "stderr",
     "output_type": "stream",
     "text": [
      "Processing rows:  42%|████▏     | 508/1200 [23:07<32:39,  2.83s/it]"
     ]
    },
    {
     "name": "stdout",
     "output_type": "stream",
     "text": [
      "tivi,6980000,22,None,None,Ho Chi Minh,8990000,None,100,None,None,0,0,0,0,0\n"
     ]
    },
    {
     "name": "stderr",
     "output_type": "stream",
     "text": [
      "Processing rows:  42%|████▏     | 509/1200 [23:10<30:26,  2.64s/it]"
     ]
    },
    {
     "name": "stdout",
     "output_type": "stream",
     "text": [
      "tivi,1250000,None,7,5,Ha Noi,None,125300,91,95,93,0,0,0,0,5\n"
     ]
    },
    {
     "name": "stderr",
     "output_type": "stream",
     "text": [
      "Processing rows:  42%|████▎     | 510/1200 [23:12<28:48,  2.50s/it]"
     ]
    },
    {
     "name": "stdout",
     "output_type": "stream",
     "text": [
      "tivi,2730000,None,None,None,Ho Chi Minh,None,38000,None,None,None,0,0,0,0,0\n"
     ]
    },
    {
     "name": "stderr",
     "output_type": "stream",
     "text": [
      "Processing rows:  43%|████▎     | 511/1200 [23:14<28:27,  2.48s/it]"
     ]
    },
    {
     "name": "stdout",
     "output_type": "stream",
     "text": [
      "tivi,2390975,4,None,None,Ha Noi,2500000,198200,91,95,93,0,0,0,0,0\n"
     ]
    },
    {
     "name": "stderr",
     "output_type": "stream",
     "text": [
      "Processing rows:  43%|████▎     | 512/1200 [23:17<30:07,  2.63s/it]"
     ]
    },
    {
     "name": "stdout",
     "output_type": "stream",
     "text": [
      "tivi,13990000,33,None,None,Ho Chi Minh,20990000,290200,99,100,100,0,0,0,0,0\n"
     ]
    },
    {
     "name": "stderr",
     "output_type": "stream",
     "text": [
      "Processing rows:  43%|████▎     | 513/1200 [23:19<29:11,  2.55s/it]"
     ]
    },
    {
     "name": "stdout",
     "output_type": "stream",
     "text": [
      "tivi,7990000,None,20,8,Binh Duong,None,None,96,100,100,0,0,0,0,9\n"
     ]
    },
    {
     "name": "stderr",
     "output_type": "stream",
     "text": [
      "Processing rows:  43%|████▎     | 514/1200 [23:22<28:58,  2.53s/it]"
     ]
    },
    {
     "name": "stdout",
     "output_type": "stream",
     "text": [
      "tivi,13990000,26,None,None,Ha Noi,18990000,None,None,None,100,0,0,0,0,0\n"
     ]
    },
    {
     "name": "stderr",
     "output_type": "stream",
     "text": [
      "Processing rows:  43%|████▎     | 515/1200 [23:24<28:18,  2.48s/it]"
     ]
    },
    {
     "name": "stdout",
     "output_type": "stream",
     "text": [
      "tivi,13290000,16,16,3,Binh Duong,15800000,None,98,None,98,0,0,0,0,3\n"
     ]
    },
    {
     "name": "stderr",
     "output_type": "stream",
     "text": [
      "Processing rows:  43%|████▎     | 516/1200 [23:26<26:25,  2.32s/it]"
     ]
    },
    {
     "name": "stdout",
     "output_type": "stream",
     "text": [
      "tivi,7000000,3,None,1,Binh Duong,7200000,None,97,98,100,0,0,0,0,1\n"
     ]
    },
    {
     "name": "stderr",
     "output_type": "stream",
     "text": [
      "Processing rows:  43%|████▎     | 517/1200 [23:29<27:03,  2.38s/it]"
     ]
    },
    {
     "name": "stdout",
     "output_type": "stream",
     "text": [
      "tivi,23990000,23,None,None,Ha Noi,30990000,None,None,None,100,0,0,0,0,0\n"
     ]
    },
    {
     "name": "stderr",
     "output_type": "stream",
     "text": [
      "Processing rows:  43%|████▎     | 518/1200 [23:31<26:38,  2.34s/it]"
     ]
    },
    {
     "name": "stdout",
     "output_type": "stream",
     "text": [
      "tivi,600000,None,None,None,Hai Duong,None,43900,83,100,100,0,0,0,0,0\n"
     ]
    },
    {
     "name": "stderr",
     "output_type": "stream",
     "text": [
      "Processing rows:  43%|████▎     | 519/1200 [23:34<28:05,  2.48s/it]"
     ]
    },
    {
     "name": "stdout",
     "output_type": "stream",
     "text": [
      "tivi,3200000,9,None,2,Ho Chi Minh,3500000,74700,85,100,70,0,0,0,0,2\n"
     ]
    },
    {
     "name": "stderr",
     "output_type": "stream",
     "text": [
      "Processing rows:  43%|████▎     | 520/1200 [23:36<28:28,  2.51s/it]"
     ]
    },
    {
     "name": "stdout",
     "output_type": "stream",
     "text": [
      "tivi,6990000,41,None,None,Binh Duong,27990000,None,100,None,None,0,0,0,0,1\n"
     ]
    },
    {
     "name": "stderr",
     "output_type": "stream",
     "text": [
      "Processing rows:  43%|████▎     | 521/1200 [23:39<27:55,  2.47s/it]"
     ]
    },
    {
     "name": "stdout",
     "output_type": "stream",
     "text": [
      "tivi,2890000,42,2100,894,Ho Chi Minh,4990000,59400,97,93,100,14,3,13,23,841\n"
     ]
    },
    {
     "name": "stderr",
     "output_type": "stream",
     "text": [
      "Processing rows:  44%|████▎     | 522/1200 [23:42<31:59,  2.83s/it]"
     ]
    },
    {
     "name": "stdout",
     "output_type": "stream",
     "text": [
      "tivi,3989000,None,None,None,Ha Noi,None,278100,97,99,100,0,0,0,0,0\n"
     ]
    },
    {
     "name": "stderr",
     "output_type": "stream",
     "text": [
      "Processing rows:  44%|████▎     | 523/1200 [23:45<30:35,  2.71s/it]"
     ]
    },
    {
     "name": "stdout",
     "output_type": "stream",
     "text": [
      "tivi,2990000,38,617,207,Ha Noi,4799000,None,98,None,None,4,0,3,4,196\n"
     ]
    },
    {
     "name": "stderr",
     "output_type": "stream",
     "text": [
      "Processing rows:  44%|████▎     | 524/1200 [23:47<28:34,  2.54s/it]"
     ]
    },
    {
     "name": "stdout",
     "output_type": "stream",
     "text": [
      "tivi,2250000,None,59,20,Dong Thap,None,65500,97,94,66,0,0,0,4,16\n"
     ]
    },
    {
     "name": "stderr",
     "output_type": "stream",
     "text": [
      "Processing rows:  44%|████▍     | 525/1200 [23:49<28:15,  2.51s/it]"
     ]
    },
    {
     "name": "stdout",
     "output_type": "stream",
     "text": [
      "tivi,8011000,30,28,10,Ho Chi Minh,11490000,None,97,None,81,0,0,0,0,11\n"
     ]
    },
    {
     "name": "stderr",
     "output_type": "stream",
     "text": [
      "Processing rows:  44%|████▍     | 526/1200 [23:53<30:27,  2.71s/it]"
     ]
    },
    {
     "name": "stdout",
     "output_type": "stream",
     "text": [
      "tivi,5950000,None,9,3,Ha Noi,None,253700,91,95,93,0,0,0,0,3\n"
     ]
    },
    {
     "name": "stderr",
     "output_type": "stream",
     "text": [
      "Processing rows:  44%|████▍     | 527/1200 [23:55<30:47,  2.75s/it]"
     ]
    },
    {
     "name": "stdout",
     "output_type": "stream",
     "text": [
      "tivi,5190000,37,5,3,Ha Noi,8290000,None,99,None,100,0,0,0,0,3\n"
     ]
    },
    {
     "name": "stderr",
     "output_type": "stream",
     "text": [
      "Processing rows:  44%|████▍     | 528/1200 [23:59<32:21,  2.89s/it]"
     ]
    },
    {
     "name": "stdout",
     "output_type": "stream",
     "text": [
      "tivi,3969000,40,11,8,Ho Chi Minh,6624000,None,97,None,95,0,0,0,0,8\n"
     ]
    },
    {
     "name": "stderr",
     "output_type": "stream",
     "text": [
      "Processing rows:  44%|████▍     | 529/1200 [24:01<31:39,  2.83s/it]"
     ]
    },
    {
     "name": "stdout",
     "output_type": "stream",
     "text": [
      "tivi,5492000,45,50,17,Ho Chi Minh,9900000,31600,97,93,100,0,0,0,1,16\n"
     ]
    },
    {
     "name": "stderr",
     "output_type": "stream",
     "text": [
      "Processing rows:  44%|████▍     | 530/1200 [24:04<30:38,  2.74s/it]"
     ]
    },
    {
     "name": "stdout",
     "output_type": "stream",
     "text": [
      "tivi,8250000,23,1600,697,Ho Chi Minh,10730000,None,99,None,100,0,0,0,2,695\n"
     ]
    },
    {
     "name": "stderr",
     "output_type": "stream",
     "text": [
      "Processing rows:  44%|████▍     | 531/1200 [24:07<30:53,  2.77s/it]"
     ]
    },
    {
     "name": "stdout",
     "output_type": "stream",
     "text": [
      "tivi,1800000,None,35,13,Ho Chi Minh,None,74700,85,100,70,0,0,0,1,13\n"
     ]
    },
    {
     "name": "stderr",
     "output_type": "stream",
     "text": [
      "Processing rows:  44%|████▍     | 532/1200 [24:09<29:16,  2.63s/it]"
     ]
    },
    {
     "name": "stdout",
     "output_type": "stream",
     "text": [
      "tivi,10890000,45,57,27,Ha Noi,19850000,None,100,None,93,0,0,0,0,27\n"
     ]
    },
    {
     "name": "stderr",
     "output_type": "stream",
     "text": [
      "Processing rows:  44%|████▍     | 533/1200 [24:11<27:45,  2.50s/it]"
     ]
    },
    {
     "name": "stdout",
     "output_type": "stream",
     "text": [
      "tivi,12232000,23,17,4,Ho Chi Minh,15900000,None,97,None,81,0,0,0,0,4\n"
     ]
    },
    {
     "name": "stderr",
     "output_type": "stream",
     "text": [
      "Processing rows:  44%|████▍     | 534/1200 [24:15<31:24,  2.83s/it]"
     ]
    },
    {
     "name": "stdout",
     "output_type": "stream",
     "text": [
      "tivi,1750000,10,None,1,Ho Chi Minh,1950000,71100,85,100,70,0,0,0,0,1\n"
     ]
    },
    {
     "name": "stderr",
     "output_type": "stream",
     "text": [
      "Processing rows:  45%|████▍     | 535/1200 [24:17<28:43,  2.59s/it]"
     ]
    },
    {
     "name": "stdout",
     "output_type": "stream",
     "text": [
      "tivi,2350000,None,62,20,Ha Noi,None,198200,91,95,93,0,1,1,1,18\n"
     ]
    },
    {
     "name": "stderr",
     "output_type": "stream",
     "text": [
      "Processing rows:  45%|████▍     | 536/1200 [24:19<27:59,  2.53s/it]"
     ]
    },
    {
     "name": "stdout",
     "output_type": "stream",
     "text": [
      "tivi,8730000,27,None,1,Ho Chi Minh,12000000,None,97,None,95,0,0,0,1,0\n"
     ]
    },
    {
     "name": "stderr",
     "output_type": "stream",
     "text": [
      "Processing rows:  45%|████▍     | 537/1200 [24:22<28:49,  2.61s/it]"
     ]
    },
    {
     "name": "stdout",
     "output_type": "stream",
     "text": [
      "tivi,11990000,25,None,None,Ho Chi Minh,15890000,None,96,None,83,0,0,0,0,0\n"
     ]
    },
    {
     "name": "stderr",
     "output_type": "stream",
     "text": [
      "Processing rows:  45%|████▍     | 538/1200 [24:24<26:59,  2.45s/it]"
     ]
    },
    {
     "name": "stdout",
     "output_type": "stream",
     "text": [
      "tivi,17290000,35,None,None,Ho Chi Minh,26690000,None,100,None,100,0,0,0,0,0\n"
     ]
    },
    {
     "name": "stderr",
     "output_type": "stream",
     "text": [
      "Processing rows:  45%|████▍     | 539/1200 [24:27<27:38,  2.51s/it]"
     ]
    },
    {
     "name": "stdout",
     "output_type": "stream",
     "text": [
      "tivi,1819452,2,28,9,Ha Noi,1860000,198200,91,95,93,0,0,0,1,9\n"
     ]
    },
    {
     "name": "stderr",
     "output_type": "stream",
     "text": [
      "Processing rows:  45%|████▌     | 540/1200 [24:29<27:54,  2.54s/it]"
     ]
    },
    {
     "name": "stdout",
     "output_type": "stream",
     "text": [
      "tivi,171005000,5,None,None,Ho Chi Minh,179900000,None,92,None,100,0,0,0,0,0\n"
     ]
    },
    {
     "name": "stderr",
     "output_type": "stream",
     "text": [
      "Processing rows:  45%|████▌     | 541/1200 [24:32<28:34,  2.60s/it]"
     ]
    },
    {
     "name": "stdout",
     "output_type": "stream",
     "text": [
      "tivi,5380000,None,None,None,Ha Noi,None,206800,91,95,93,0,0,0,0,0\n"
     ]
    },
    {
     "name": "stderr",
     "output_type": "stream",
     "text": [
      "Processing rows:  45%|████▌     | 542/1200 [24:35<28:38,  2.61s/it]"
     ]
    },
    {
     "name": "stdout",
     "output_type": "stream",
     "text": [
      "tivi,7080000,32,None,None,Ho Chi Minh,10450000,None,100,None,None,0,0,0,0,0\n"
     ]
    },
    {
     "name": "stderr",
     "output_type": "stream",
     "text": [
      "Processing rows:  45%|████▌     | 543/1200 [24:37<28:34,  2.61s/it]"
     ]
    },
    {
     "name": "stdout",
     "output_type": "stream",
     "text": [
      "tivi,10030000,33,None,None,Ho Chi Minh,14900000,None,100,None,None,0,0,0,0,0\n"
     ]
    },
    {
     "name": "stderr",
     "output_type": "stream",
     "text": [
      "Processing rows:  45%|████▌     | 544/1200 [24:40<28:35,  2.62s/it]"
     ]
    },
    {
     "name": "stdout",
     "output_type": "stream",
     "text": [
      "tivi,6300000,None,None,None,Ha Noi,None,2689300,None,None,100,0,0,0,0,0\n"
     ]
    },
    {
     "name": "stderr",
     "output_type": "stream",
     "text": [
      "Processing rows:  45%|████▌     | 545/1200 [24:43<29:14,  2.68s/it]"
     ]
    },
    {
     "name": "stdout",
     "output_type": "stream",
     "text": [
      "tivi,7555000,46,None,None,Ho Chi Minh,13990000,None,97,None,81,0,0,0,0,0\n"
     ]
    },
    {
     "name": "stderr",
     "output_type": "stream",
     "text": [
      "Processing rows:  46%|████▌     | 546/1200 [24:46<30:15,  2.78s/it]"
     ]
    },
    {
     "name": "stdout",
     "output_type": "stream",
     "text": [
      "tivi,1480000,5,23,9,Ha Noi,1550000,198200,91,95,93,0,0,1,0,9\n"
     ]
    },
    {
     "name": "stderr",
     "output_type": "stream",
     "text": [
      "Processing rows:  46%|████▌     | 547/1200 [24:49<29:59,  2.76s/it]"
     ]
    },
    {
     "name": "stdout",
     "output_type": "stream",
     "text": [
      "tivi,10990000,45,23,8,Ho Chi Minh,19990000,25200,99,100,100,0,0,0,0,9\n"
     ]
    },
    {
     "name": "stderr",
     "output_type": "stream",
     "text": [
      "Processing rows:  46%|████▌     | 548/1200 [24:51<28:30,  2.62s/it]"
     ]
    },
    {
     "name": "stdout",
     "output_type": "stream",
     "text": [
      "tivi,3584000,25,None,1,Ho Chi Minh,4794000,None,98,None,100,0,0,0,0,1\n"
     ]
    },
    {
     "name": "stderr",
     "output_type": "stream",
     "text": [
      "Processing rows:  46%|████▌     | 549/1200 [24:54<28:39,  2.64s/it]"
     ]
    },
    {
     "name": "stdout",
     "output_type": "stream",
     "text": [
      "tivi,33900000,None,None,None,Ho Chi Minh,None,None,None,None,None,0,0,0,0,0\n"
     ]
    },
    {
     "name": "stderr",
     "output_type": "stream",
     "text": [
      "Processing rows:  46%|████▌     | 550/1200 [24:56<27:36,  2.55s/it]"
     ]
    },
    {
     "name": "stdout",
     "output_type": "stream",
     "text": [
      "tivi,54500000,None,18,None,Ho Chi Minh,None,None,78,None,None,0,0,0,0,0\n"
     ]
    },
    {
     "name": "stderr",
     "output_type": "stream",
     "text": [
      "Processing rows:  46%|████▌     | 551/1200 [24:59<28:45,  2.66s/it]"
     ]
    },
    {
     "name": "stdout",
     "output_type": "stream",
     "text": [
      "tivi,10190000,46,None,None,Ho Chi Minh,18990000,337400,None,None,100,0,0,0,0,0\n"
     ]
    },
    {
     "name": "stderr",
     "output_type": "stream",
     "text": [
      "Processing rows:  46%|████▌     | 552/1200 [25:02<29:23,  2.72s/it]"
     ]
    },
    {
     "name": "stdout",
     "output_type": "stream",
     "text": [
      "tivi,5990000,9,270,138,Ho Chi Minh,6590000,0,96,100,100,0,0,0,0,139\n"
     ]
    },
    {
     "name": "stderr",
     "output_type": "stream",
     "text": [
      "Processing rows:  46%|████▌     | 553/1200 [25:04<28:46,  2.67s/it]"
     ]
    },
    {
     "name": "stdout",
     "output_type": "stream",
     "text": [
      "tivi,28750000,50,30,9,Binh Duong,57500000,None,98,None,98,0,0,0,0,9\n"
     ]
    },
    {
     "name": "stderr",
     "output_type": "stream",
     "text": [
      "Processing rows:  46%|████▌     | 554/1200 [25:07<27:39,  2.57s/it]"
     ]
    },
    {
     "name": "stdout",
     "output_type": "stream",
     "text": [
      "tivi,2990000,47,None,None,Ho Chi Minh,5590000,59400,None,None,None,0,0,0,0,0\n"
     ]
    },
    {
     "name": "stderr",
     "output_type": "stream",
     "text": [
      "Processing rows:  46%|████▋     | 555/1200 [25:09<28:13,  2.63s/it]"
     ]
    },
    {
     "name": "stdout",
     "output_type": "stream",
     "text": [
      "tivi,4490000,None,None,None,Ho Chi Minh,None,146000,99,99,98,0,0,0,0,0\n"
     ]
    },
    {
     "name": "stderr",
     "output_type": "stream",
     "text": [
      "Processing rows:  46%|████▋     | 556/1200 [25:12<28:19,  2.64s/it]"
     ]
    },
    {
     "name": "stdout",
     "output_type": "stream",
     "text": [
      "tivi,3440000,57,None,None,Ho Chi Minh,7999000,52300,97,93,100,0,0,0,0,0\n"
     ]
    },
    {
     "name": "stderr",
     "output_type": "stream",
     "text": [
      "Processing rows:  46%|████▋     | 557/1200 [25:15<27:56,  2.61s/it]"
     ]
    },
    {
     "name": "stdout",
     "output_type": "stream",
     "text": [
      "tivi,20990000,62,5,None,Ho Chi Minh,54990000,270400,99,100,100,0,0,0,0,0\n"
     ]
    },
    {
     "name": "stderr",
     "output_type": "stream",
     "text": [
      "Processing rows:  46%|████▋     | 558/1200 [25:17<26:45,  2.50s/it]"
     ]
    },
    {
     "name": "stdout",
     "output_type": "stream",
     "text": [
      "tivi,22222000,68,None,None,Ho Chi Minh,69990000,448600,99,100,100,0,0,0,0,0\n"
     ]
    },
    {
     "name": "stderr",
     "output_type": "stream",
     "text": [
      "Processing rows:  47%|████▋     | 559/1200 [25:20<28:50,  2.70s/it]"
     ]
    },
    {
     "name": "stdout",
     "output_type": "stream",
     "text": [
      "tivi,24290000,7,5,0,Ho Chi Minh,25990000,0,96,100,100,0,0,0,0,1\n"
     ]
    },
    {
     "name": "stderr",
     "output_type": "stream",
     "text": [
      "Processing rows:  47%|████▋     | 560/1200 [25:22<27:08,  2.54s/it]"
     ]
    },
    {
     "name": "stdout",
     "output_type": "stream",
     "text": [
      "tivi,19290000,None,None,None,Binh Duong,None,None,96,100,100,0,0,0,0,0\n"
     ]
    },
    {
     "name": "stderr",
     "output_type": "stream",
     "text": [
      "Processing rows:  47%|████▋     | 561/1200 [25:25<27:44,  2.61s/it]"
     ]
    },
    {
     "name": "stdout",
     "output_type": "stream",
     "text": [
      "tivi,3050000,None,66,18,Dong Thap,None,96100,97,94,66,0,0,2,0,16\n"
     ]
    },
    {
     "name": "stderr",
     "output_type": "stream",
     "text": [
      "Processing rows:  47%|████▋     | 562/1200 [25:28<28:41,  2.70s/it]"
     ]
    },
    {
     "name": "stdout",
     "output_type": "stream",
     "text": [
      "tivi,7490000,41,346,259,Ha Noi,12600000,0,100,0,93,0,0,0,0,260\n"
     ]
    },
    {
     "name": "stderr",
     "output_type": "stream",
     "text": [
      "Processing rows:  47%|████▋     | 563/1200 [25:30<27:15,  2.57s/it]"
     ]
    },
    {
     "name": "stdout",
     "output_type": "stream",
     "text": [
      "tivi,1400000,13,6,2,Ho Chi Minh,1600000,71100,92,None,80,0,0,0,0,2\n"
     ]
    },
    {
     "name": "stderr",
     "output_type": "stream",
     "text": [
      "Processing rows:  47%|████▋     | 564/1200 [25:32<26:49,  2.53s/it]"
     ]
    },
    {
     "name": "stdout",
     "output_type": "stream",
     "text": [
      "tivi,6150000,28,49,12,Ho Chi Minh,8590000,None,96,None,89,0,0,0,0,12\n"
     ]
    },
    {
     "name": "stderr",
     "output_type": "stream",
     "text": [
      "Processing rows:  47%|████▋     | 565/1200 [25:35<26:30,  2.50s/it]"
     ]
    },
    {
     "name": "stdout",
     "output_type": "stream",
     "text": [
      "tivi,3130240,2,8,6,Ha Noi,3200000,198200,91,95,93,0,0,0,0,6\n"
     ]
    },
    {
     "name": "stderr",
     "output_type": "stream",
     "text": [
      "Processing rows:  47%|████▋     | 566/1200 [25:38<26:51,  2.54s/it]"
     ]
    },
    {
     "name": "stdout",
     "output_type": "stream",
     "text": [
      "tivi,2350000,None,18,9,Ha Noi,None,135500,91,95,93,0,1,0,1,7\n"
     ]
    },
    {
     "name": "stderr",
     "output_type": "stream",
     "text": [
      "Processing rows:  47%|████▋     | 567/1200 [25:41<28:36,  2.71s/it]"
     ]
    },
    {
     "name": "stdout",
     "output_type": "stream",
     "text": [
      "tivi,3903000,13,30,9,Ho Chi Minh,4490000,None,97,None,81,0,0,0,0,9\n"
     ]
    },
    {
     "name": "stderr",
     "output_type": "stream",
     "text": [
      "Processing rows:  47%|████▋     | 568/1200 [25:43<27:21,  2.60s/it]"
     ]
    },
    {
     "name": "stdout",
     "output_type": "stream",
     "text": [
      "tivi,2500000,None,10,7,Ho Chi Minh,None,74700,85,100,70,0,0,0,1,5\n"
     ]
    },
    {
     "name": "stderr",
     "output_type": "stream",
     "text": [
      "Processing rows:  47%|████▋     | 569/1200 [25:46<27:54,  2.65s/it]"
     ]
    },
    {
     "name": "stdout",
     "output_type": "stream",
     "text": [
      "tivi,2752000,37,69,26,Ho Chi Minh,4390000,59400,98,100,100,0,0,1,0,25\n"
     ]
    },
    {
     "name": "stderr",
     "output_type": "stream",
     "text": [
      "Processing rows:  48%|████▊     | 570/1200 [25:48<27:55,  2.66s/it]"
     ]
    },
    {
     "name": "stdout",
     "output_type": "stream",
     "text": [
      "tivi,455000,None,15,1,Ho Chi Minh,None,19600,98,100,57,0,0,0,1,0\n"
     ]
    },
    {
     "name": "stderr",
     "output_type": "stream",
     "text": [
      "Processing rows:  48%|████▊     | 571/1200 [25:51<28:21,  2.70s/it]"
     ]
    },
    {
     "name": "stdout",
     "output_type": "stream",
     "text": [
      "tivi,9390000,11,54,11,Ho Chi Minh,10590000,None,99,None,96,0,0,0,0,12\n"
     ]
    },
    {
     "name": "stderr",
     "output_type": "stream",
     "text": [
      "Processing rows:  48%|████▊     | 572/1200 [25:54<28:50,  2.76s/it]"
     ]
    },
    {
     "name": "stdout",
     "output_type": "stream",
     "text": [
      "tivi,4349000,27,None,2,Ho Chi Minh,5990000,None,97,100,96,0,0,0,0,2\n"
     ]
    },
    {
     "name": "stderr",
     "output_type": "stream",
     "text": [
      "Processing rows:  48%|████▊     | 573/1200 [25:56<27:23,  2.62s/it]"
     ]
    },
    {
     "name": "stdout",
     "output_type": "stream",
     "text": [
      "tivi,68119000,43,None,None,Ho Chi Minh,120000000,None,97,None,95,0,0,0,0,0\n"
     ]
    },
    {
     "name": "stderr",
     "output_type": "stream",
     "text": [
      "Processing rows:  48%|████▊     | 574/1200 [25:59<26:12,  2.51s/it]"
     ]
    },
    {
     "name": "stdout",
     "output_type": "stream",
     "text": [
      "tivi,6510000,None,None,None,Ha Noi,None,2689300,None,None,100,0,0,0,0,0\n"
     ]
    },
    {
     "name": "stderr",
     "output_type": "stream",
     "text": [
      "Processing rows:  48%|████▊     | 575/1200 [26:02<30:00,  2.88s/it]"
     ]
    },
    {
     "name": "stdout",
     "output_type": "stream",
     "text": [
      "tivi,12000000,50,None,None,Ha Noi,24000000,612500,97,97,100,0,0,0,0,0\n"
     ]
    },
    {
     "name": "stderr",
     "output_type": "stream",
     "text": [
      "Processing rows:  48%|████▊     | 576/1200 [26:05<28:18,  2.72s/it]"
     ]
    },
    {
     "name": "stdout",
     "output_type": "stream",
     "text": [
      "tivi,4340000,13,6,3,Ho Chi Minh,5000000,None,98,None,100,0,0,0,1,2\n"
     ]
    },
    {
     "name": "stderr",
     "output_type": "stream",
     "text": [
      "Processing rows:  48%|████▊     | 577/1200 [26:07<28:05,  2.70s/it]"
     ]
    },
    {
     "name": "stdout",
     "output_type": "stream",
     "text": [
      "tivi,16790000,17,7,1,Ha Noi,20190000,None,97,100,97,0,0,0,0,1\n"
     ]
    },
    {
     "name": "stderr",
     "output_type": "stream",
     "text": [
      "Processing rows:  48%|████▊     | 578/1200 [26:10<27:31,  2.66s/it]"
     ]
    },
    {
     "name": "stdout",
     "output_type": "stream",
     "text": [
      "tivi,8990000,22,None,0,Ho Chi Minh,11490000,None,96,None,83,0,0,0,0,1\n"
     ]
    },
    {
     "name": "stderr",
     "output_type": "stream",
     "text": [
      "Processing rows:  48%|████▊     | 579/1200 [26:12<25:36,  2.47s/it]"
     ]
    },
    {
     "name": "stdout",
     "output_type": "stream",
     "text": [
      "tivi,1350000,None,None,1,Binh Duong,None,None,None,None,None,0,0,0,0,0\n"
     ]
    },
    {
     "name": "stderr",
     "output_type": "stream",
     "text": [
      "Processing rows:  48%|████▊     | 580/1200 [26:14<24:52,  2.41s/it]"
     ]
    },
    {
     "name": "stdout",
     "output_type": "stream",
     "text": [
      "tivi,6770000,None,None,None,Ho Chi Minh,None,46000,100,None,66,0,0,0,0,0\n"
     ]
    },
    {
     "name": "stderr",
     "output_type": "stream",
     "text": [
      "Processing rows:  48%|████▊     | 581/1200 [26:17<24:25,  2.37s/it]"
     ]
    },
    {
     "name": "stdout",
     "output_type": "stream",
     "text": [
      "tivi,35990000,37,None,None,Ha Noi,56900000,None,None,None,100,0,0,0,0,0\n"
     ]
    },
    {
     "name": "stderr",
     "output_type": "stream",
     "text": [
      "Processing rows:  48%|████▊     | 582/1200 [26:19<24:11,  2.35s/it]"
     ]
    },
    {
     "name": "stdout",
     "output_type": "stream",
     "text": [
      "tivi,40790000,31,None,None,Binh Duong,59200000,None,98,None,98,0,0,0,0,0\n"
     ]
    },
    {
     "name": "stderr",
     "output_type": "stream",
     "text": [
      "Processing rows:  49%|████▊     | 583/1200 [26:22<25:22,  2.47s/it]"
     ]
    },
    {
     "name": "stdout",
     "output_type": "stream",
     "text": [
      "tivi,76397000,23,None,None,Ho Chi Minh,99316000,None,98,None,100,0,0,0,0,0\n"
     ]
    },
    {
     "name": "stderr",
     "output_type": "stream",
     "text": [
      "Processing rows:  49%|████▊     | 584/1200 [26:24<24:30,  2.39s/it]"
     ]
    },
    {
     "name": "stdout",
     "output_type": "stream",
     "text": [
      "tivi,2000000,None,None,None,Ho Chi Minh,None,23800,None,None,None,0,0,0,0,0\n"
     ]
    },
    {
     "name": "stderr",
     "output_type": "stream",
     "text": [
      "Processing rows:  49%|████▉     | 585/1200 [26:26<23:42,  2.31s/it]"
     ]
    },
    {
     "name": "stdout",
     "output_type": "stream",
     "text": [
      "tivi,12200000,None,None,None,Ho Chi Minh,None,71100,None,None,None,0,0,0,0,0\n"
     ]
    },
    {
     "name": "stderr",
     "output_type": "stream",
     "text": [
      "Processing rows:  49%|████▉     | 586/1200 [26:29<26:48,  2.62s/it]"
     ]
    },
    {
     "name": "stdout",
     "output_type": "stream",
     "text": [
      "tivi,2829000,29,8,4,Ho Chi Minh,4000000,None,98,100,99,0,0,0,0,4\n"
     ]
    },
    {
     "name": "stderr",
     "output_type": "stream",
     "text": [
      "Processing rows:  49%|████▉     | 587/1200 [26:32<27:49,  2.72s/it]"
     ]
    },
    {
     "name": "stdout",
     "output_type": "stream",
     "text": [
      "tivi,11990000,33,None,None,Ha Noi,17900000,None,None,None,100,0,0,0,0,0\n"
     ]
    },
    {
     "name": "stderr",
     "output_type": "stream",
     "text": [
      "Processing rows:  49%|████▉     | 588/1200 [26:35<29:06,  2.85s/it]"
     ]
    },
    {
     "name": "stdout",
     "output_type": "stream",
     "text": [
      "tivi,14490000,None,None,None,Ho Chi Minh,None,0,96,100,100,0,0,0,0,0\n"
     ]
    },
    {
     "name": "stderr",
     "output_type": "stream",
     "text": [
      "Processing rows:  49%|████▉     | 589/1200 [26:38<27:07,  2.66s/it]"
     ]
    },
    {
     "name": "stdout",
     "output_type": "stream",
     "text": [
      "tivi,80000000,None,None,None,Ha Noi,None,104900,None,None,None,0,0,0,0,0\n"
     ]
    },
    {
     "name": "stderr",
     "output_type": "stream",
     "text": [
      "Processing rows:  49%|████▉     | 590/1200 [26:40<25:59,  2.56s/it]"
     ]
    },
    {
     "name": "stdout",
     "output_type": "stream",
     "text": [
      "tivi,1750000,None,None,None,Phu Yen,None,212600,None,None,None,0,0,0,0,0\n"
     ]
    },
    {
     "name": "stderr",
     "output_type": "stream",
     "text": [
      "Processing rows:  49%|████▉     | 591/1200 [26:43<25:58,  2.56s/it]"
     ]
    },
    {
     "name": "stdout",
     "output_type": "stream",
     "text": [
      "tivi,24990000,22,None,None,Ha Noi,32190000,None,None,None,100,0,0,0,0,0\n"
     ]
    },
    {
     "name": "stderr",
     "output_type": "stream",
     "text": [
      "Processing rows:  49%|████▉     | 592/1200 [26:45<25:48,  2.55s/it]"
     ]
    },
    {
     "name": "stdout",
     "output_type": "stream",
     "text": [
      "tivi,34995000,5,None,None,Binh Duong,36990000,None,96,100,100,0,0,0,0,0\n"
     ]
    },
    {
     "name": "stderr",
     "output_type": "stream",
     "text": [
      "Processing rows:  49%|████▉     | 593/1200 [26:49<29:06,  2.88s/it]"
     ]
    },
    {
     "name": "stdout",
     "output_type": "stream",
     "text": [
      "tivi,19990000,31,None,None,Ha Noi,28900000,None,None,None,100,0,0,0,0,0\n"
     ]
    },
    {
     "name": "stderr",
     "output_type": "stream",
     "text": [
      "Processing rows:  50%|████▉     | 594/1200 [26:51<28:32,  2.83s/it]"
     ]
    },
    {
     "name": "stdout",
     "output_type": "stream",
     "text": [
      "tivi,3580000,23,None,None,Ho Chi Minh,4654000,None,98,None,100,0,0,0,0,0\n"
     ]
    },
    {
     "name": "stderr",
     "output_type": "stream",
     "text": [
      "Processing rows:  50%|████▉     | 595/1200 [26:54<27:03,  2.68s/it]"
     ]
    },
    {
     "name": "stdout",
     "output_type": "stream",
     "text": [
      "tivi,48498000,12,10,None,Ho Chi Minh,55000000,None,97,93,100,0,0,0,0,0\n"
     ]
    },
    {
     "name": "stderr",
     "output_type": "stream",
     "text": [
      "Processing rows:  50%|████▉     | 596/1200 [26:56<26:07,  2.59s/it]"
     ]
    },
    {
     "name": "stdout",
     "output_type": "stream",
     "text": [
      "tivi,14790000,15,None,1,Binh Duong,17400000,None,98,None,98,0,0,0,0,1\n"
     ]
    },
    {
     "name": "stderr",
     "output_type": "stream",
     "text": [
      "Processing rows:  50%|████▉     | 597/1200 [26:59<26:09,  2.60s/it]"
     ]
    },
    {
     "name": "stdout",
     "output_type": "stream",
     "text": [
      "tivi,10190000,None,None,None,Binh Duong,None,None,96,100,100,0,0,0,0,0\n"
     ]
    },
    {
     "name": "stderr",
     "output_type": "stream",
     "text": [
      "Processing rows:  50%|████▉     | 598/1200 [27:01<25:06,  2.50s/it]"
     ]
    },
    {
     "name": "stdout",
     "output_type": "stream",
     "text": [
      "tivi,4490000,43,None,None,Ha Noi,7900000,None,None,None,100,0,0,0,0,0\n"
     ]
    },
    {
     "name": "stderr",
     "output_type": "stream",
     "text": [
      "Processing rows:  50%|████▉     | 599/1200 [27:04<26:36,  2.66s/it]"
     ]
    },
    {
     "name": "stdout",
     "output_type": "stream",
     "text": [
      "tivi,37990000,5,None,1,Ho Chi Minh,39990000,0,96,100,100,0,0,0,0,1\n"
     ]
    },
    {
     "name": "stderr",
     "output_type": "stream",
     "text": [
      "Processing rows:  50%|█████     | 600/1200 [27:06<25:24,  2.54s/it]"
     ]
    },
    {
     "name": "stdout",
     "output_type": "stream",
     "text": [
      "tivi,11271000,44,5,3,Ho Chi Minh,19990000,148600,97,100,100,0,0,0,0,2\n"
     ]
    },
    {
     "name": "stderr",
     "output_type": "stream",
     "text": [
      "Processing rows:  50%|█████     | 601/1200 [27:09<25:51,  2.59s/it]"
     ]
    },
    {
     "name": "stdout",
     "output_type": "stream",
     "text": [
      "tivi,5850000,6,11,5,Ha Noi,6250000,125300,100,40,None,0,0,0,0,6\n"
     ]
    },
    {
     "name": "stderr",
     "output_type": "stream",
     "text": [
      "Processing rows:  50%|█████     | 602/1200 [27:12<26:07,  2.62s/it]"
     ]
    },
    {
     "name": "stdout",
     "output_type": "stream",
     "text": [
      "tivi,3990000,50,None,None,Ha Noi,7990000,None,None,None,100,0,0,0,0,0\n"
     ]
    },
    {
     "name": "stderr",
     "output_type": "stream",
     "text": [
      "Processing rows:  50%|█████     | 603/1200 [27:15<26:54,  2.70s/it]"
     ]
    },
    {
     "name": "stdout",
     "output_type": "stream",
     "text": [
      "tivi,4290000,7,52,13,Ho Chi Minh,4590000,0,96,100,100,0,0,0,1,13\n"
     ]
    },
    {
     "name": "stderr",
     "output_type": "stream",
     "text": [
      "Processing rows:  50%|█████     | 604/1200 [27:18<27:34,  2.78s/it]"
     ]
    },
    {
     "name": "stdout",
     "output_type": "stream",
     "text": [
      "tivi,8363000,40,33,14,Ho Chi Minh,14000000,None,98,100,99,0,0,0,1,13\n"
     ]
    },
    {
     "name": "stderr",
     "output_type": "stream",
     "text": [
      "Processing rows:  50%|█████     | 605/1200 [27:20<26:36,  2.68s/it]"
     ]
    },
    {
     "name": "stdout",
     "output_type": "stream",
     "text": [
      "tivi,7490000,49,10,5,Ha Noi,14790000,None,99,None,100,0,0,0,0,5\n"
     ]
    },
    {
     "name": "stderr",
     "output_type": "stream",
     "text": [
      "Processing rows:  50%|█████     | 606/1200 [27:23<27:38,  2.79s/it]"
     ]
    },
    {
     "name": "stdout",
     "output_type": "stream",
     "text": [
      "tivi,5713000,35,463,178,Ho Chi Minh,8800000,None,97,None,78,1,2,2,5,169\n"
     ]
    },
    {
     "name": "stderr",
     "output_type": "stream",
     "text": [
      "Processing rows:  51%|█████     | 607/1200 [27:26<27:00,  2.73s/it]"
     ]
    },
    {
     "name": "stdout",
     "output_type": "stream",
     "text": [
      "tivi,6590000,55,None,None,Ha Noi,14790000,None,None,None,100,0,0,0,0,0\n"
     ]
    },
    {
     "name": "stderr",
     "output_type": "stream",
     "text": [
      "Processing rows:  51%|█████     | 608/1200 [27:28<25:52,  2.62s/it]"
     ]
    },
    {
     "name": "stdout",
     "output_type": "stream",
     "text": [
      "tivi,4048000,19,388,107,Ho Chi Minh,4990000,None,97,None,78,2,3,1,4,98\n"
     ]
    },
    {
     "name": "stderr",
     "output_type": "stream",
     "text": [
      "Processing rows:  51%|█████     | 609/1200 [27:31<27:21,  2.78s/it]"
     ]
    },
    {
     "name": "stdout",
     "output_type": "stream",
     "text": [
      "tivi,2151660,8,28,12,Ha Noi,2350000,198200,91,95,93,1,0,0,0,11\n"
     ]
    },
    {
     "name": "stderr",
     "output_type": "stream",
     "text": [
      "Processing rows:  51%|█████     | 610/1200 [27:34<26:30,  2.70s/it]"
     ]
    },
    {
     "name": "stdout",
     "output_type": "stream",
     "text": [
      "tivi,1435853,7,20,9,Ha Noi,2050000,198200,91,95,93,1,0,0,1,7\n"
     ]
    },
    {
     "name": "stderr",
     "output_type": "stream",
     "text": [
      "Processing rows:  51%|█████     | 611/1200 [27:36<25:16,  2.57s/it]"
     ]
    },
    {
     "name": "stdout",
     "output_type": "stream",
     "text": [
      "tivi,9390000,11,54,11,Ho Chi Minh,10590000,None,99,None,97,0,0,0,0,12\n"
     ]
    },
    {
     "name": "stderr",
     "output_type": "stream",
     "text": [
      "Processing rows:  51%|█████     | 612/1200 [27:39<27:25,  2.80s/it]"
     ]
    },
    {
     "name": "stdout",
     "output_type": "stream",
     "text": [
      "tivi,6390000,19,49,18,Ho Chi Minh,7900000,None,99,None,97,0,0,0,0,19\n"
     ]
    },
    {
     "name": "stderr",
     "output_type": "stream",
     "text": [
      "Processing rows:  51%|█████     | 613/1200 [27:42<27:40,  2.83s/it]"
     ]
    },
    {
     "name": "stdout",
     "output_type": "stream",
     "text": [
      "tivi,3003074,2,21,17,Ha Noi,3070000,198200,91,95,93,1,0,1,1,14\n"
     ]
    },
    {
     "name": "stderr",
     "output_type": "stream",
     "text": [
      "Processing rows:  51%|█████     | 614/1200 [27:45<28:11,  2.89s/it]"
     ]
    },
    {
     "name": "stdout",
     "output_type": "stream",
     "text": [
      "tivi,48082600,16,None,None,Ho Chi Minh,56900000,None,92,None,100,0,0,0,0,0\n"
     ]
    },
    {
     "name": "stderr",
     "output_type": "stream",
     "text": [
      "Processing rows:  51%|█████▏    | 615/1200 [27:48<26:30,  2.72s/it]"
     ]
    },
    {
     "name": "stdout",
     "output_type": "stream",
     "text": [
      "tivi,60805000,5,None,None,Ho Chi Minh,63900000,None,92,None,100,0,0,0,0,0\n"
     ]
    },
    {
     "name": "stderr",
     "output_type": "stream",
     "text": [
      "Processing rows:  51%|█████▏    | 616/1200 [27:51<27:25,  2.82s/it]"
     ]
    },
    {
     "name": "stdout",
     "output_type": "stream",
     "text": [
      "tivi,1419000,7,7,3,Ha Noi,1521000,198200,91,90,96,1,0,0,0,2\n"
     ]
    },
    {
     "name": "stderr",
     "output_type": "stream",
     "text": [
      "Processing rows:  51%|█████▏    | 617/1200 [27:53<27:27,  2.83s/it]"
     ]
    },
    {
     "name": "stdout",
     "output_type": "stream",
     "text": [
      "tivi,8730000,27,None,1,Ho Chi Minh,12000000,None,97,None,96,0,0,0,1,0\n"
     ]
    },
    {
     "name": "stderr",
     "output_type": "stream",
     "text": [
      "Processing rows:  52%|█████▏    | 618/1200 [27:57<29:34,  3.05s/it]"
     ]
    },
    {
     "name": "stdout",
     "output_type": "stream",
     "text": [
      "tivi,11990000,25,None,None,Ho Chi Minh,15890000,None,96,None,81,0,0,0,0,0\n"
     ]
    },
    {
     "name": "stderr",
     "output_type": "stream",
     "text": [
      "Processing rows:  52%|█████▏    | 619/1200 [28:00<28:09,  2.91s/it]"
     ]
    },
    {
     "name": "stdout",
     "output_type": "stream",
     "text": [
      "tivi,17300000,None,None,None,Ho Chi Minh,None,None,99,None,100,0,0,0,0,0\n"
     ]
    },
    {
     "name": "stderr",
     "output_type": "stream",
     "text": [
      "Processing rows:  52%|█████▏    | 620/1200 [28:02<26:32,  2.75s/it]"
     ]
    },
    {
     "name": "stdout",
     "output_type": "stream",
     "text": [
      "tivi,9789000,25,66,15,Binh Duong,13000000,0,98,0,97,0,0,0,0,15\n"
     ]
    },
    {
     "name": "stderr",
     "output_type": "stream",
     "text": [
      "Processing rows:  52%|█████▏    | 621/1200 [28:04<25:55,  2.69s/it]"
     ]
    },
    {
     "name": "stdout",
     "output_type": "stream",
     "text": [
      "tivi,13600000,33,None,1,Ho Chi Minh,20390000,271400,85,50,100,0,0,0,0,1\n"
     ]
    },
    {
     "name": "stderr",
     "output_type": "stream",
     "text": [
      "Processing rows:  52%|█████▏    | 622/1200 [28:08<26:51,  2.79s/it]"
     ]
    },
    {
     "name": "stdout",
     "output_type": "stream",
     "text": [
      "tivi,1700000,None,8,3,Ho Chi Minh,None,74700,85,100,65,0,0,0,0,3\n"
     ]
    },
    {
     "name": "stderr",
     "output_type": "stream",
     "text": [
      "Processing rows:  52%|█████▏    | 623/1200 [28:10<26:12,  2.73s/it]"
     ]
    },
    {
     "name": "stdout",
     "output_type": "stream",
     "text": [
      "tivi,29728600,12,8,None,Ho Chi Minh,33900000,None,92,None,100,0,0,0,0,0\n"
     ]
    },
    {
     "name": "stderr",
     "output_type": "stream",
     "text": [
      "Processing rows:  52%|█████▏    | 624/1200 [28:13<27:00,  2.81s/it]"
     ]
    },
    {
     "name": "stdout",
     "output_type": "stream",
     "text": [
      "tivi,2280000,24,22,10,Ho Chi Minh,2990000,0,99,100,100,0,0,0,0,10\n"
     ]
    },
    {
     "name": "stderr",
     "output_type": "stream",
     "text": [
      "Processing rows:  52%|█████▏    | 625/1200 [28:16<26:13,  2.74s/it]"
     ]
    },
    {
     "name": "stdout",
     "output_type": "stream",
     "text": [
      "tivi,17290000,20,40,10,Binh Duong,21700000,None,98,None,97,0,0,0,0,10\n"
     ]
    },
    {
     "name": "stderr",
     "output_type": "stream",
     "text": [
      "Processing rows:  52%|█████▏    | 626/1200 [28:18<26:00,  2.72s/it]"
     ]
    },
    {
     "name": "stdout",
     "output_type": "stream",
     "text": [
      "tivi,1850000,None,12,4,Ha Noi,None,206800,91,95,93,0,0,0,0,4\n"
     ]
    },
    {
     "name": "stderr",
     "output_type": "stream",
     "text": [
      "Processing rows:  52%|█████▏    | 627/1200 [28:21<25:56,  2.72s/it]"
     ]
    },
    {
     "name": "stdout",
     "output_type": "stream",
     "text": [
      "tivi,7555000,46,None,None,Ho Chi Minh,13990000,None,97,None,78,0,0,0,0,0\n"
     ]
    },
    {
     "name": "stderr",
     "output_type": "stream",
     "text": [
      "Processing rows:  52%|█████▏    | 628/1200 [28:23<24:15,  2.54s/it]"
     ]
    },
    {
     "name": "stdout",
     "output_type": "stream",
     "text": [
      "tivi,8520000,30,None,None,Ho Chi Minh,12100000,None,97,100,96,0,0,0,0,0\n"
     ]
    },
    {
     "name": "stderr",
     "output_type": "stream",
     "text": [
      "Processing rows:  52%|█████▏    | 629/1200 [28:27<27:16,  2.87s/it]"
     ]
    },
    {
     "name": "stdout",
     "output_type": "stream",
     "text": [
      "tivi,19990000,9,6,None,Ho Chi Minh,21990000,0,96,100,100,0,0,0,0,0\n"
     ]
    },
    {
     "name": "stderr",
     "output_type": "stream",
     "text": [
      "Processing rows:  52%|█████▎    | 630/1200 [28:30<27:05,  2.85s/it]"
     ]
    },
    {
     "name": "stdout",
     "output_type": "stream",
     "text": [
      "tivi,10990000,45,24,8,Ho Chi Minh,19990000,25200,99,100,100,0,0,0,0,9\n"
     ]
    },
    {
     "name": "stderr",
     "output_type": "stream",
     "text": [
      "Processing rows:  53%|█████▎    | 631/1200 [28:32<24:48,  2.62s/it]"
     ]
    },
    {
     "name": "stdout",
     "output_type": "stream",
     "text": [
      "tivi,2790000,None,None,None,Ho Chi Minh,None,46000,100,None,66,0,0,0,0,0\n"
     ]
    },
    {
     "name": "stderr",
     "output_type": "stream",
     "text": [
      "Processing rows:  53%|█████▎    | 632/1200 [28:34<24:30,  2.59s/it]"
     ]
    },
    {
     "name": "stdout",
     "output_type": "stream",
     "text": [
      "tivi,47000,None,None,None,Ha Noi,None,38000,None,None,None,0,0,0,0,0\n"
     ]
    },
    {
     "name": "stderr",
     "output_type": "stream",
     "text": [
      "Processing rows:  53%|█████▎    | 633/1200 [28:36<23:26,  2.48s/it]"
     ]
    },
    {
     "name": "stdout",
     "output_type": "stream",
     "text": [
      "tivi,2829000,29,8,4,Ho Chi Minh,4000000,None,98,100,99,0,0,0,0,4\n"
     ]
    },
    {
     "name": "stderr",
     "output_type": "stream",
     "text": [
      "Processing rows:  53%|█████▎    | 634/1200 [28:39<22:25,  2.38s/it]"
     ]
    },
    {
     "name": "stdout",
     "output_type": "stream",
     "text": [
      "tivi,1500000,None,None,None,Binh Duong,None,585800,None,None,None,0,0,0,0,0\n"
     ]
    },
    {
     "name": "stderr",
     "output_type": "stream",
     "text": [
      "Processing rows:  53%|█████▎    | 635/1200 [28:42<24:02,  2.55s/it]"
     ]
    },
    {
     "name": "stdout",
     "output_type": "stream",
     "text": [
      "tivi,7990000,None,20,8,Binh Duong,None,None,96,100,100,0,0,0,0,9\n"
     ]
    },
    {
     "name": "stderr",
     "output_type": "stream",
     "text": [
      "Processing rows:  53%|█████▎    | 636/1200 [28:45<25:15,  2.69s/it]"
     ]
    },
    {
     "name": "stdout",
     "output_type": "stream",
     "text": [
      "tivi,13990000,26,None,None,Ha Noi,18990000,None,None,None,100,0,0,0,0,0\n"
     ]
    },
    {
     "name": "stderr",
     "output_type": "stream",
     "text": [
      "Processing rows:  53%|█████▎    | 637/1200 [28:48<26:19,  2.81s/it]"
     ]
    },
    {
     "name": "stdout",
     "output_type": "stream",
     "text": [
      "tivi,14490000,None,None,None,Ho Chi Minh,None,0,96,100,100,0,0,0,0,0\n"
     ]
    },
    {
     "name": "stderr",
     "output_type": "stream",
     "text": [
      "Processing rows:  53%|█████▎    | 638/1200 [28:50<25:08,  2.68s/it]"
     ]
    },
    {
     "name": "stdout",
     "output_type": "stream",
     "text": [
      "tivi,3440000,57,6,None,Ho Chi Minh,7999000,52300,97,93,100,0,0,0,0,0\n"
     ]
    },
    {
     "name": "stderr",
     "output_type": "stream",
     "text": [
      "Processing rows:  53%|█████▎    | 639/1200 [28:52<24:30,  2.62s/it]"
     ]
    },
    {
     "name": "stdout",
     "output_type": "stream",
     "text": [
      "tivi,4690000,41,16,None,Ha Noi,7900000,None,100,None,88,0,0,0,0,1\n"
     ]
    },
    {
     "name": "stderr",
     "output_type": "stream",
     "text": [
      "Processing rows:  53%|█████▎    | 640/1200 [28:55<23:41,  2.54s/it]"
     ]
    },
    {
     "name": "stdout",
     "output_type": "stream",
     "text": [
      "tivi,62990000,11,None,None,Ha Noi,70590000,None,None,None,100,0,0,0,0,0\n"
     ]
    },
    {
     "name": "stderr",
     "output_type": "stream",
     "text": [
      "Processing rows:  53%|█████▎    | 641/1200 [28:57<23:03,  2.47s/it]"
     ]
    },
    {
     "name": "stdout",
     "output_type": "stream",
     "text": [
      "tivi,8589000,33,1100,234,Ho Chi Minh,12900000,159200,None,100,94,1,0,0,1,232\n"
     ]
    },
    {
     "name": "stderr",
     "output_type": "stream",
     "text": [
      "Processing rows:  54%|█████▎    | 642/1200 [29:00<23:26,  2.52s/it]"
     ]
    },
    {
     "name": "stdout",
     "output_type": "stream",
     "text": [
      "tivi,2890000,42,2100,894,Ho Chi Minh,4990000,59400,97,93,100,14,3,13,23,841\n"
     ]
    },
    {
     "name": "stderr",
     "output_type": "stream",
     "text": [
      "Processing rows:  54%|█████▎    | 643/1200 [29:03<24:33,  2.65s/it]"
     ]
    },
    {
     "name": "stdout",
     "output_type": "stream",
     "text": [
      "tivi,7451000,49,78,33,Ho Chi Minh,14690000,79000,99,100,100,0,0,0,1,32\n"
     ]
    },
    {
     "name": "stderr",
     "output_type": "stream",
     "text": [
      "Processing rows:  54%|█████▎    | 644/1200 [29:06<25:18,  2.73s/it]"
     ]
    },
    {
     "name": "stdout",
     "output_type": "stream",
     "text": [
      "tivi,5690000,42,131,7,Ha Noi,None,None,None,None,None,0,0,0,0,7\n"
     ]
    },
    {
     "name": "stderr",
     "output_type": "stream",
     "text": [
      "Processing rows:  54%|█████▍    | 645/1200 [29:09<26:22,  2.85s/it]"
     ]
    },
    {
     "name": "stdout",
     "output_type": "stream",
     "text": [
      "tivi,8920000,47,23,5,Ho Chi Minh,16900000,None,99,None,97,0,0,0,0,5\n"
     ]
    },
    {
     "name": "stderr",
     "output_type": "stream",
     "text": [
      "Processing rows:  54%|█████▍    | 646/1200 [29:12<26:19,  2.85s/it]"
     ]
    },
    {
     "name": "stdout",
     "output_type": "stream",
     "text": [
      "tivi,8600000,46,15,2,Ho Chi Minh,None,None,None,None,None,0,0,0,0,2\n"
     ]
    },
    {
     "name": "stderr",
     "output_type": "stream",
     "text": [
      "Processing rows:  54%|█████▍    | 647/1200 [29:14<25:51,  2.81s/it]"
     ]
    },
    {
     "name": "stdout",
     "output_type": "stream",
     "text": [
      "tivi,6390000,19,167,56,Ho Chi Minh,7900000,None,99,None,97,1,0,0,0,55\n"
     ]
    },
    {
     "name": "stderr",
     "output_type": "stream",
     "text": [
      "Processing rows:  54%|█████▍    | 648/1200 [29:17<25:26,  2.76s/it]"
     ]
    },
    {
     "name": "stdout",
     "output_type": "stream",
     "text": [
      "tivi,1999000,20,8,6,Ha Noi,2500000,198200,91,90,96,0,0,0,0,6\n"
     ]
    },
    {
     "name": "stderr",
     "output_type": "stream",
     "text": [
      "Processing rows:  54%|█████▍    | 649/1200 [29:19<23:42,  2.58s/it]"
     ]
    },
    {
     "name": "stdout",
     "output_type": "stream",
     "text": [
      "tivi,3990000,50,None,None,Ha Noi,7990000,None,None,None,100,0,0,0,0,0\n"
     ]
    },
    {
     "name": "stderr",
     "output_type": "stream",
     "text": [
      "Processing rows:  54%|█████▍    | 650/1200 [29:22<23:58,  2.62s/it]"
     ]
    },
    {
     "name": "stdout",
     "output_type": "stream",
     "text": [
      "tivi,7450000,25,18,10,Ho Chi Minh,9990000,0,97,0,78,0,0,0,0,10\n"
     ]
    },
    {
     "name": "stderr",
     "output_type": "stream",
     "text": [
      "Processing rows:  54%|█████▍    | 651/1200 [29:24<22:52,  2.50s/it]"
     ]
    },
    {
     "name": "stdout",
     "output_type": "stream",
     "text": [
      "tivi,8090000,42,1700,682,Ho Chi Minh,13990000,0,96,100,100,18,4,6,12,642\n"
     ]
    },
    {
     "name": "stderr",
     "output_type": "stream",
     "text": [
      "Processing rows:  54%|█████▍    | 652/1200 [29:26<22:04,  2.42s/it]"
     ]
    },
    {
     "name": "stdout",
     "output_type": "stream",
     "text": [
      "tivi,4048000,19,388,107,Ho Chi Minh,4990000,None,97,None,78,2,3,1,4,98\n"
     ]
    },
    {
     "name": "stderr",
     "output_type": "stream",
     "text": [
      "Processing rows:  54%|█████▍    | 653/1200 [29:29<21:52,  2.40s/it]"
     ]
    },
    {
     "name": "stdout",
     "output_type": "stream",
     "text": [
      "tivi,8390000,15,78,34,Ho Chi Minh,9900000,0,99,0,97,0,0,0,0,35\n"
     ]
    },
    {
     "name": "stderr",
     "output_type": "stream",
     "text": [
      "Processing rows:  55%|█████▍    | 654/1200 [29:31<22:03,  2.42s/it]"
     ]
    },
    {
     "name": "stdout",
     "output_type": "stream",
     "text": [
      "tivi,33890000,11,84,27,Binh Duong,38290000,None,96,100,100,0,0,0,0,27\n"
     ]
    },
    {
     "name": "stderr",
     "output_type": "stream",
     "text": [
      "Processing rows:  55%|█████▍    | 655/1200 [29:34<23:45,  2.62s/it]"
     ]
    },
    {
     "name": "stdout",
     "output_type": "stream",
     "text": [
      "tivi,11190000,45,376,171,Ho Chi Minh,20490000,0,96,100,100,3,0,2,0,167\n"
     ]
    },
    {
     "name": "stderr",
     "output_type": "stream",
     "text": [
      "Processing rows:  55%|█████▍    | 656/1200 [29:37<23:53,  2.63s/it]"
     ]
    },
    {
     "name": "stdout",
     "output_type": "stream",
     "text": [
      "tivi,2777000,44,322,118,Ho Chi Minh,4990000,None,97,None,78,0,1,1,1,116\n"
     ]
    },
    {
     "name": "stderr",
     "output_type": "stream",
     "text": [
      "Processing rows:  55%|█████▍    | 657/1200 [29:41<26:27,  2.92s/it]"
     ]
    },
    {
     "name": "stdout",
     "output_type": "stream",
     "text": [
      "tivi,9395000,48,263,144,Ho Chi Minh,17990000,None,97,93,100,1,1,2,2,138\n"
     ]
    },
    {
     "name": "stderr",
     "output_type": "stream",
     "text": [
      "Processing rows:  55%|█████▍    | 658/1200 [29:43<25:49,  2.86s/it]"
     ]
    },
    {
     "name": "stdout",
     "output_type": "stream",
     "text": [
      "tivi,5540000,50,2200,921,Ho Chi Minh,10990000,46000,97,93,100,5,0,1,17,899\n"
     ]
    },
    {
     "name": "stderr",
     "output_type": "stream",
     "text": [
      "Processing rows:  55%|█████▍    | 659/1200 [29:46<25:09,  2.79s/it]"
     ]
    },
    {
     "name": "stdout",
     "output_type": "stream",
     "text": [
      "tivi,920486,3,77,26,Ha Noi,950000,115100,91,95,93,0,0,0,3,24\n"
     ]
    },
    {
     "name": "stderr",
     "output_type": "stream",
     "text": [
      "Processing rows:  55%|█████▌    | 660/1200 [29:49<25:32,  2.84s/it]"
     ]
    },
    {
     "name": "stdout",
     "output_type": "stream",
     "text": [
      "tivi,6490000,38,496,142,Ho Chi Minh,10490000,0,96,100,100,2,1,1,1,137\n"
     ]
    },
    {
     "name": "stderr",
     "output_type": "stream",
     "text": [
      "Processing rows:  55%|█████▌    | 661/1200 [29:51<24:42,  2.75s/it]"
     ]
    },
    {
     "name": "stdout",
     "output_type": "stream",
     "text": [
      "tivi,10899000,22,103,36,Ho Chi Minh,13900000,146000,none,100,94,0,0,0,0,36\n"
     ]
    },
    {
     "name": "stderr",
     "output_type": "stream",
     "text": [
      "Processing rows:  55%|█████▌    | 662/1200 [29:54<25:08,  2.80s/it]"
     ]
    },
    {
     "name": "stdout",
     "output_type": "stream",
     "text": [
      "tivi,7889000,28,99,36,Ho Chi Minh,10900000,74700,None,100,94,0,0,0,0,36\n"
     ]
    },
    {
     "name": "stderr",
     "output_type": "stream",
     "text": [
      "Processing rows:  55%|█████▌    | 663/1200 [29:57<25:21,  2.83s/it]"
     ]
    },
    {
     "name": "stdout",
     "output_type": "stream",
     "text": [
      "tivi,11589000,27,324,64,Ho Chi Minh,15900000,258200,None,100,94,1,0,0,2,61\n"
     ]
    },
    {
     "name": "stderr",
     "output_type": "stream",
     "text": [
      "Processing rows:  55%|█████▌    | 664/1200 [30:01<27:02,  3.03s/it]"
     ]
    },
    {
     "name": "stdout",
     "output_type": "stream",
     "text": [
      "tivi,11589000,27,86,25,Ho Chi Minh,15900000,146000,None,100,94,0,0,1,0,24\n"
     ]
    },
    {
     "name": "stderr",
     "output_type": "stream",
     "text": [
      "Processing rows:  55%|█████▌    | 665/1200 [30:03<25:03,  2.81s/it]"
     ]
    },
    {
     "name": "stdout",
     "output_type": "stream",
     "text": [
      "tivi,2399000,None,None,None,Ho Chi Minh,None,16500,None,None,None,0,0,0,0,0\n"
     ]
    },
    {
     "name": "stderr",
     "output_type": "stream",
     "text": [
      "Processing rows:  56%|█████▌    | 666/1200 [30:05<24:01,  2.70s/it]"
     ]
    },
    {
     "name": "stdout",
     "output_type": "stream",
     "text": [
      "tivi,2151660,8,28,12,Ha Noi,2350000,198200,91,95,93,1,0,0,0,11\n"
     ]
    },
    {
     "name": "stderr",
     "output_type": "stream",
     "text": [
      "Processing rows:  56%|█████▌    | 667/1200 [30:08<23:26,  2.64s/it]"
     ]
    },
    {
     "name": "stdout",
     "output_type": "stream",
     "text": [
      "tivi,11392000,14,99,54,Ho Chi Minh,13290000,0,96,100,100,0,1,0,1,53\n"
     ]
    },
    {
     "name": "stderr",
     "output_type": "stream",
     "text": [
      "Processing rows:  56%|█████▌    | 668/1200 [30:11<24:19,  2.74s/it]"
     ]
    },
    {
     "name": "stdout",
     "output_type": "stream",
     "text": [
      "tivi,7060000,29,717,516,Ho Chi Minh,10000000,46000,97,93,100,3,2,4,4,503\n"
     ]
    },
    {
     "name": "stderr",
     "output_type": "stream",
     "text": [
      "Processing rows:  56%|█████▌    | 669/1200 [30:14<24:36,  2.78s/it]"
     ]
    },
    {
     "name": "stdout",
     "output_type": "stream",
     "text": [
      "tivi,1100000,None,10,3,Ho Chi Minh,None,71100,85,100,65,0,0,0,0,3\n"
     ]
    },
    {
     "name": "stderr",
     "output_type": "stream",
     "text": [
      "Processing rows:  56%|█████▌    | 670/1200 [30:17<26:23,  2.99s/it]"
     ]
    },
    {
     "name": "stdout",
     "output_type": "stream",
     "text": [
      "tivi,8189000,28,103,26,Ho Chi Minh,11400000,131600,None,100,94,0,0,0,1,25\n"
     ]
    },
    {
     "name": "stderr",
     "output_type": "stream",
     "text": [
      "Processing rows:  56%|█████▌    | 671/1200 [30:20<25:13,  2.86s/it]"
     ]
    },
    {
     "name": "stdout",
     "output_type": "stream",
     "text": [
      "tivi,1450000,None,None,None,Ho Chi Minh,None,23800,None,None,None,0,0,0,0,0\n"
     ]
    },
    {
     "name": "stderr",
     "output_type": "stream",
     "text": [
      "Processing rows:  56%|█████▌    | 672/1200 [30:22<24:45,  2.81s/it]"
     ]
    },
    {
     "name": "stdout",
     "output_type": "stream",
     "text": [
      "tivi,8992000,18,16,5,Ho Chi Minh,10990000,0,96,100,100,0,0,0,0,5\n"
     ]
    },
    {
     "name": "stderr",
     "output_type": "stream",
     "text": [
      "Processing rows:  56%|█████▌    | 673/1200 [30:26<26:14,  2.99s/it]"
     ]
    },
    {
     "name": "stdout",
     "output_type": "stream",
     "text": [
      "tivi,9490000,47,17,5,Ho Chi Minh,17990000,72400,99,100,100,0,0,0,1,4\n"
     ]
    },
    {
     "name": "stderr",
     "output_type": "stream",
     "text": [
      "Processing rows:  56%|█████▌    | 674/1200 [30:29<26:40,  3.04s/it]"
     ]
    },
    {
     "name": "stdout",
     "output_type": "stream",
     "text": [
      "tivi,950000,None,None,1,Ha Noi,None,None,None,None,None,0,0,0,0,1\n"
     ]
    },
    {
     "name": "stderr",
     "output_type": "stream",
     "text": [
      "Processing rows:  56%|█████▋    | 675/1200 [30:31<24:44,  2.83s/it]"
     ]
    },
    {
     "name": "stdout",
     "output_type": "stream",
     "text": [
      "tivi,16490000,8,23,8,Ho Chi Minh,17990000,0,96,100,100,0,0,0,1,7\n"
     ]
    },
    {
     "name": "stderr",
     "output_type": "stream",
     "text": [
      "Processing rows:  56%|█████▋    | 676/1200 [30:34<24:19,  2.79s/it]"
     ]
    },
    {
     "name": "stdout",
     "output_type": "stream",
     "text": [
      "tivi,10989000,21,None,1,Bac Ninh,13900000,565500,None,100,94,0,0,0,0,1\n"
     ]
    },
    {
     "name": "stderr",
     "output_type": "stream",
     "text": [
      "Processing rows:  56%|█████▋    | 677/1200 [30:37<24:02,  2.76s/it]"
     ]
    },
    {
     "name": "stdout",
     "output_type": "stream",
     "text": [
      "tivi,4290000,7,52,13,Ho Chi Minh,4590000,0,96,100,100,0,0,0,1,13\n"
     ]
    },
    {
     "name": "stderr",
     "output_type": "stream",
     "text": [
      "Processing rows:  56%|█████▋    | 678/1200 [30:40<24:17,  2.79s/it]"
     ]
    },
    {
     "name": "stdout",
     "output_type": "stream",
     "text": [
      "tivi,24292000,7,5,0,Ho Chi Minh,25990000,0,96,100,100,0,0,0,0,1\n"
     ]
    },
    {
     "name": "stderr",
     "output_type": "stream",
     "text": [
      "Processing rows:  57%|█████▋    | 679/1200 [30:42<23:49,  2.74s/it]"
     ]
    },
    {
     "name": "stdout",
     "output_type": "stream",
     "text": [
      "tivi,8090000,61,None,None,Ho Chi Minh,21000000,46000,97,93,100,0,0,0,0,0\n"
     ]
    },
    {
     "name": "stderr",
     "output_type": "stream",
     "text": [
      "Processing rows:  57%|█████▋    | 680/1200 [30:45<23:32,  2.72s/it]"
     ]
    },
    {
     "name": "stdout",
     "output_type": "stream",
     "text": [
      "tivi,11899000,20,None,None,Ho Chi Minh,19900000,218600,None,100,94,0,0,0,0,0\n"
     ]
    },
    {
     "name": "stderr",
     "output_type": "stream",
     "text": [
      "Processing rows:  57%|█████▋    | 681/1200 [30:48<23:21,  2.70s/it]"
     ]
    },
    {
     "name": "stdout",
     "output_type": "stream",
     "text": [
      "tivi,7490000,49,10,5,Ha Noi,14790000,None,99,None,100,0,0,0,0,5\n"
     ]
    },
    {
     "name": "stderr",
     "output_type": "stream",
     "text": [
      "Processing rows:  57%|█████▋    | 682/1200 [30:50<21:49,  2.53s/it]"
     ]
    },
    {
     "name": "stdout",
     "output_type": "stream",
     "text": [
      "tivi,6590000,55,None,None,Ha Noi,14790000,None,None,None,100,0,0,0,0,0\n"
     ]
    },
    {
     "name": "stderr",
     "output_type": "stream",
     "text": [
      "Processing rows:  57%|█████▋    | 683/1200 [30:52<21:51,  2.54s/it]"
     ]
    },
    {
     "name": "stdout",
     "output_type": "stream",
     "text": [
      "tivi,5713000,35,463,178,Ho Chi Minh,8800000,None,97,None,78,1,2,2,5,169\n"
     ]
    },
    {
     "name": "stderr",
     "output_type": "stream",
     "text": [
      "Processing rows:  57%|█████▋    | 684/1200 [30:55<21:46,  2.53s/it]"
     ]
    },
    {
     "name": "stdout",
     "output_type": "stream",
     "text": [
      "tivi,1369480,2,25,7,Ha Noi,1400000,198200,91,95,93,0,0,0,0,7\n"
     ]
    },
    {
     "name": "stderr",
     "output_type": "stream",
     "text": [
      "Processing rows:  57%|█████▋    | 685/1200 [30:57<22:03,  2.57s/it]"
     ]
    },
    {
     "name": "stdout",
     "output_type": "stream",
     "text": [
      "tivi,2990000,46,189,57,Ha Noi,5490000,None,98,None,None,0,0,0,0,58\n"
     ]
    },
    {
     "name": "stderr",
     "output_type": "stream",
     "text": [
      "Processing rows:  57%|█████▋    | 686/1200 [31:00<23:13,  2.71s/it]"
     ]
    },
    {
     "name": "stdout",
     "output_type": "stream",
     "text": [
      "tivi,1435853,7,20,9,Ha Noi,2050000,198200,91,95,93,1,0,0,1,7\n"
     ]
    },
    {
     "name": "stderr",
     "output_type": "stream",
     "text": [
      "Processing rows:  57%|█████▋    | 687/1200 [31:03<23:43,  2.77s/it]"
     ]
    },
    {
     "name": "stdout",
     "output_type": "stream",
     "text": [
      "tivi,5850000,6,11,5,Ha Noi,6250000,125300,100,40,None,0,0,0,0,6\n"
     ]
    },
    {
     "name": "stderr",
     "output_type": "stream",
     "text": [
      "Processing rows:  57%|█████▋    | 688/1200 [31:07<25:38,  3.00s/it]"
     ]
    },
    {
     "name": "stdout",
     "output_type": "stream",
     "text": [
      "tivi,2990000,38,617,207,Ha Noi,4799000,None,98,None,None,4,0,3,4,196\n"
     ]
    },
    {
     "name": "stderr",
     "output_type": "stream",
     "text": [
      "Processing rows:  57%|█████▋    | 689/1200 [31:10<26:29,  3.11s/it]"
     ]
    },
    {
     "name": "stdout",
     "output_type": "stream",
     "text": [
      "tivi,1700000,None,8,3,Ho Chi Minh,None,74700,85,100,65,0,0,0,0,3\n"
     ]
    },
    {
     "name": "stderr",
     "output_type": "stream",
     "text": [
      "Processing rows:  57%|█████▊    | 690/1200 [31:13<26:05,  3.07s/it]"
     ]
    },
    {
     "name": "stdout",
     "output_type": "stream",
     "text": [
      "tivi,8011000,30,28,10,Ho Chi Minh,11490000,None,97,None,78,0,0,0,0,11\n"
     ]
    },
    {
     "name": "stderr",
     "output_type": "stream",
     "text": [
      "Processing rows:  58%|█████▊    | 691/1200 [31:17<28:12,  3.33s/it]"
     ]
    },
    {
     "name": "stdout",
     "output_type": "stream",
     "text": [
      "tivi,4785000,47,64,27,Bac Ninh,8990000,112600,97,93,100,2,0,0,1,24\n"
     ]
    },
    {
     "name": "stderr",
     "output_type": "stream",
     "text": [
      "Processing rows:  58%|█████▊    | 692/1200 [31:20<27:12,  3.21s/it]"
     ]
    },
    {
     "name": "stdout",
     "output_type": "stream",
     "text": [
      "tivi,230000,None,73,26,Ho Chi Minh,None,16500,99,100,None,0,0,0,0,26\n"
     ]
    },
    {
     "name": "stderr",
     "output_type": "stream",
     "text": [
      "Processing rows:  58%|█████▊    | 693/1200 [31:23<25:07,  2.97s/it]"
     ]
    },
    {
     "name": "stdout",
     "output_type": "stream",
     "text": [
      "tivi,8363000,40,33,14,Ho Chi Minh,14000000,None,98,100,99,0,0,0,1,13\n"
     ]
    },
    {
     "name": "stderr",
     "output_type": "stream",
     "text": [
      "Processing rows:  58%|█████▊    | 694/1200 [31:26<25:54,  3.07s/it]"
     ]
    },
    {
     "name": "stdout",
     "output_type": "stream",
     "text": [
      "tivi,2829000,29,58,25,Ho Chi Minh,4000000,None,97,None,96,0,0,0,0,25\n"
     ]
    },
    {
     "name": "stderr",
     "output_type": "stream",
     "text": [
      "Processing rows:  58%|█████▊    | 695/1200 [31:28<24:20,  2.89s/it]"
     ]
    },
    {
     "name": "stdout",
     "output_type": "stream",
     "text": [
      "tivi,9390000,11,54,11,Ho Chi Minh,10590000,None,99,None,97,0,0,0,0,12\n"
     ]
    },
    {
     "name": "stderr",
     "output_type": "stream",
     "text": [
      "Processing rows:  58%|█████▊    | 696/1200 [31:30<22:17,  2.65s/it]"
     ]
    },
    {
     "name": "stdout",
     "output_type": "stream",
     "text": [
      "tivi,6390000,19,49,18,Ho Chi Minh,7900000,None,99,None,97,0,0,0,0,19\n"
     ]
    },
    {
     "name": "stderr",
     "output_type": "stream",
     "text": [
      "Processing rows:  58%|█████▊    | 697/1200 [31:34<23:17,  2.78s/it]"
     ]
    },
    {
     "name": "stdout",
     "output_type": "stream",
     "text": [
      "tivi,3565542,4,31,17,Ha Noi,3700000,206800,91,95,93,1,0,1,0,15\n"
     ]
    },
    {
     "name": "stderr",
     "output_type": "stream",
     "text": [
      "Processing rows:  58%|█████▊    | 698/1200 [31:36<21:59,  2.63s/it]"
     ]
    },
    {
     "name": "stdout",
     "output_type": "stream",
     "text": [
      "tivi,2200950,15,61,28,Ha Noi,2600000,135500,91,95,93,2,0,0,1,25\n"
     ]
    },
    {
     "name": "stderr",
     "output_type": "stream",
     "text": [
      "Processing rows:  58%|█████▊    | 699/1200 [31:38<20:37,  2.47s/it]"
     ]
    },
    {
     "name": "stdout",
     "output_type": "stream",
     "text": [
      "tivi,3200000,None,25,11,Ha Noi,None,198200,91,95,93,0,0,0,0,11\n"
     ]
    },
    {
     "name": "stderr",
     "output_type": "stream",
     "text": [
      "Processing rows:  58%|█████▊    | 700/1200 [31:41<22:47,  2.74s/it]"
     ]
    },
    {
     "name": "stdout",
     "output_type": "stream",
     "text": [
      "tivi,3003074,2,21,17,Ha Noi,3070000,198200,91,95,93,1,0,1,1,14\n"
     ]
    },
    {
     "name": "stderr",
     "output_type": "stream",
     "text": [
      "Processing rows:  58%|█████▊    | 701/1200 [31:44<23:07,  2.78s/it]"
     ]
    },
    {
     "name": "stdout",
     "output_type": "stream",
     "text": [
      "tivi,43890000,9,7,1,Binh Duong,48290000,None,96,100,100,0,0,0,0,1\n"
     ]
    },
    {
     "name": "stderr",
     "output_type": "stream",
     "text": [
      "Processing rows:  58%|█████▊    | 702/1200 [31:47<22:08,  2.67s/it]"
     ]
    },
    {
     "name": "stdout",
     "output_type": "stream",
     "text": [
      "tivi,9789000,25,66,15,Binh Duong,13000000,0,98,0,97,0,0,0,0,15\n"
     ]
    },
    {
     "name": "stderr",
     "output_type": "stream",
     "text": [
      "Processing rows:  59%|█████▊    | 703/1200 [31:49<22:02,  2.66s/it]"
     ]
    },
    {
     "name": "stdout",
     "output_type": "stream",
     "text": [
      "tivi,10900000,44,7,2,Ho Chi Minh,19400000,None,99,None,97,0,0,0,0,2\n"
     ]
    },
    {
     "name": "stderr",
     "output_type": "stream",
     "text": [
      "Processing rows:  59%|█████▊    | 704/1200 [31:52<21:50,  2.64s/it]"
     ]
    },
    {
     "name": "stdout",
     "output_type": "stream",
     "text": [
      "tivi,3440000,57,6,None,Ho Chi Minh,7999000,52300,97,93,100,0,0,0,0,0\n"
     ]
    },
    {
     "name": "stderr",
     "output_type": "stream",
     "text": [
      "Processing rows:  59%|█████▉    | 705/1200 [31:54<21:13,  2.57s/it]"
     ]
    },
    {
     "name": "stdout",
     "output_type": "stream",
     "text": [
      "tivi,17590000,44,13,4,Ho Chi Minh,31290000,501400,99,100,100,0,0,0,0,4\n"
     ]
    },
    {
     "name": "stderr",
     "output_type": "stream",
     "text": [
      "Processing rows:  59%|█████▉    | 706/1200 [31:57<21:51,  2.66s/it]"
     ]
    },
    {
     "name": "stdout",
     "output_type": "stream",
     "text": [
      "tivi,17290000,20,40,10,Binh Duong,21700000,None,98,None,97,0,0,0,0,10\n"
     ]
    },
    {
     "name": "stderr",
     "output_type": "stream",
     "text": [
      "Processing rows:  59%|█████▉    | 707/1200 [32:00<23:28,  2.86s/it]"
     ]
    },
    {
     "name": "stdout",
     "output_type": "stream",
     "text": [
      "tivi,2790000,None,None,None,Ho Chi Minh,None,46000,100,None,66,0,0,0,0,0\n"
     ]
    },
    {
     "name": "stderr",
     "output_type": "stream",
     "text": [
      "Processing rows:  59%|█████▉    | 708/1200 [32:03<23:13,  2.83s/it]"
     ]
    },
    {
     "name": "stdout",
     "output_type": "stream",
     "text": [
      "tivi,2350000,None,62,20,Ha Noi,None,198200,91,95,93,0,1,1,1,18\n"
     ]
    },
    {
     "name": "stderr",
     "output_type": "stream",
     "text": [
      "Processing rows:  59%|█████▉    | 709/1200 [32:05<21:20,  2.61s/it]"
     ]
    },
    {
     "name": "stdout",
     "output_type": "stream",
     "text": [
      "tivi,171005000,5,None,None,Ho Chi Minh,179900000,None,92,None,100,0,0,0,0,0\n"
     ]
    },
    {
     "name": "stderr",
     "output_type": "stream",
     "text": [
      "Processing rows:  59%|█████▉    | 710/1200 [32:08<21:17,  2.61s/it]"
     ]
    },
    {
     "name": "stdout",
     "output_type": "stream",
     "text": [
      "tivi,2280000,24,22,10,Ho Chi Minh,2990000,0,99,100,100,0,0,0,0,10\n"
     ]
    },
    {
     "name": "stderr",
     "output_type": "stream",
     "text": [
      "Processing rows:  59%|█████▉    | 711/1200 [32:10<20:38,  2.53s/it]"
     ]
    },
    {
     "name": "stdout",
     "output_type": "stream",
     "text": [
      "tivi,4690000,48,9,None,Ha Noi,9090000,None,100,None,88,0,0,0,0,0\n"
     ]
    },
    {
     "name": "stderr",
     "output_type": "stream",
     "text": [
      "Processing rows:  59%|█████▉    | 712/1200 [32:13<20:43,  2.55s/it]"
     ]
    },
    {
     "name": "stdout",
     "output_type": "stream",
     "text": [
      "tivi,1850000,None,12,4,Ha Noi,None,206800,91,95,93,0,0,0,0,4\n"
     ]
    },
    {
     "name": "stderr",
     "output_type": "stream",
     "text": [
      "Processing rows:  59%|█████▉    | 713/1200 [32:16<21:39,  2.67s/it]"
     ]
    },
    {
     "name": "stdout",
     "output_type": "stream",
     "text": [
      "tivi,1419000,7,7,3,Ha Noi,1521000,198200,91,90,96,1,0,0,0,2\n"
     ]
    },
    {
     "name": "stderr",
     "output_type": "stream",
     "text": [
      "Processing rows:  60%|█████▉    | 714/1200 [32:19<22:57,  2.83s/it]"
     ]
    },
    {
     "name": "stdout",
     "output_type": "stream",
     "text": [
      "tivi,11090000,26,5,None,Ho Chi Minh,15000000,46000,97,93,100,0,0,0,0,0\n"
     ]
    },
    {
     "name": "stderr",
     "output_type": "stream",
     "text": [
      "Processing rows:  60%|█████▉    | 715/1200 [32:22<22:21,  2.77s/it]"
     ]
    },
    {
     "name": "stdout",
     "output_type": "stream",
     "text": [
      "tivi,1500000,None,None,None,Binh Duong,None,585800,None,None,None,0,0,0,0,0\n"
     ]
    },
    {
     "name": "stderr",
     "output_type": "stream",
     "text": [
      "Processing rows:  60%|█████▉    | 716/1200 [32:24<21:50,  2.71s/it]"
     ]
    },
    {
     "name": "stdout",
     "output_type": "stream",
     "text": [
      "tivi,3750000,None,5,1,Ha Noi,None,198200,91,95,93,0,0,0,0,1\n"
     ]
    },
    {
     "name": "stderr",
     "output_type": "stream",
     "text": [
      "Processing rows:  60%|█████▉    | 717/1200 [32:26<20:34,  2.56s/it]"
     ]
    },
    {
     "name": "stdout",
     "output_type": "stream",
     "text": [
      "tivi,1694000,11,5,1,Ha Noi,1895000,198200,91,90,96,0,0,0,0,1\n"
     ]
    },
    {
     "name": "stderr",
     "output_type": "stream",
     "text": [
      "Processing rows:  60%|█████▉    | 718/1200 [32:29<21:42,  2.70s/it]"
     ]
    },
    {
     "name": "stdout",
     "output_type": "stream",
     "text": [
      "tivi,3257406,2,7,1,Ha Noi,3330000,198200,91,95,93,0,0,0,1,1\n"
     ]
    },
    {
     "name": "stderr",
     "output_type": "stream",
     "text": [
      "Processing rows:  60%|█████▉    | 719/1200 [32:32<22:01,  2.75s/it]"
     ]
    },
    {
     "name": "stdout",
     "output_type": "stream",
     "text": [
      "tivi,4690000,41,16,None,Ha Noi,7900000,None,100,None,88,0,0,0,0,1\n"
     ]
    },
    {
     "name": "stderr",
     "output_type": "stream",
     "text": [
      "Processing rows:  60%|██████    | 720/1200 [32:35<23:13,  2.90s/it]"
     ]
    },
    {
     "name": "stdout",
     "output_type": "stream",
     "text": [
      "tivi,12490000,11,13,2,Ho Chi Minh,13990000,0,96,100,100,0,0,1,0,1\n"
     ]
    },
    {
     "name": "stderr",
     "output_type": "stream",
     "text": [
      "Processing rows:  60%|██████    | 721/1200 [32:39<24:07,  3.02s/it]"
     ]
    },
    {
     "name": "stdout",
     "output_type": "stream",
     "text": [
      "tivi,2490000,None,None,None,Thái Bình,None,141300,None,None,None,0,0,0,0,0\n"
     ]
    },
    {
     "name": "stderr",
     "output_type": "stream",
     "text": [
      "Processing rows:  60%|██████    | 722/1200 [32:41<22:42,  2.85s/it]"
     ]
    },
    {
     "name": "stdout",
     "output_type": "stream",
     "text": [
      "tivi,7490000,41,346,259,Ha Noi,12600000,0,100,0,92,0,0,0,0,260\n"
     ]
    },
    {
     "name": "stderr",
     "output_type": "stream",
     "text": [
      "Processing rows:  60%|██████    | 723/1200 [32:43<21:07,  2.66s/it]"
     ]
    },
    {
     "name": "stdout",
     "output_type": "stream",
     "text": [
      "tivi,3863890,2,17,11,Ha Noi,3950000,198200,91,95,93,0,0,0,0,11\n"
     ]
    },
    {
     "name": "stderr",
     "output_type": "stream",
     "text": [
      "Processing rows:  60%|██████    | 724/1200 [32:46<20:43,  2.61s/it]"
     ]
    },
    {
     "name": "stdout",
     "output_type": "stream",
     "text": [
      "tivi,5390000,4,34,9,Ho Chi Minh,5590000,0,96,100,100,2,0,0,0,7\n"
     ]
    },
    {
     "name": "stderr",
     "output_type": "stream",
     "text": [
      "Processing rows:  60%|██████    | 725/1200 [32:49<21:15,  2.68s/it]"
     ]
    },
    {
     "name": "stdout",
     "output_type": "stream",
     "text": [
      "tivi,3989000,None,None,None,Ha Noi,None,278100,97,99,100,0,0,0,0,0\n"
     ]
    },
    {
     "name": "stderr",
     "output_type": "stream",
     "text": [
      "Processing rows:  60%|██████    | 726/1200 [32:51<20:06,  2.55s/it]"
     ]
    },
    {
     "name": "stdout",
     "output_type": "stream",
     "text": [
      "tivi,3366000,43,None,None,Ha Noi,5900000,None,None,None,100,0,0,0,0,1\n"
     ]
    },
    {
     "name": "stderr",
     "output_type": "stream",
     "text": [
      "Processing rows:  61%|██████    | 727/1200 [32:54<20:24,  2.59s/it]"
     ]
    },
    {
     "name": "stdout",
     "output_type": "stream",
     "text": [
      "tivi,2349000,4,14,None,Ha Noi,2950000,206800,91,90,96,0,0,0,0,1\n"
     ]
    },
    {
     "name": "stderr",
     "output_type": "stream",
     "text": [
      "Processing rows:  61%|██████    | 728/1200 [32:56<19:25,  2.47s/it]"
     ]
    },
    {
     "name": "stdout",
     "output_type": "stream",
     "text": [
      "tivi,5190000,37,5,3,Ha Noi,8290000,None,99,None,100,0,0,0,0,3\n"
     ]
    },
    {
     "name": "stderr",
     "output_type": "stream",
     "text": [
      "Processing rows:  61%|██████    | 729/1200 [32:58<19:28,  2.48s/it]"
     ]
    },
    {
     "name": "stdout",
     "output_type": "stream",
     "text": [
      "tivi,5950000,None,9,3,Ha Noi,None,253700,91,95,93,0,0,0,0,3\n"
     ]
    },
    {
     "name": "stderr",
     "output_type": "stream",
     "text": [
      "Processing rows:  61%|██████    | 730/1200 [33:01<19:24,  2.48s/it]"
     ]
    },
    {
     "name": "stdout",
     "output_type": "stream",
     "text": [
      "tivi,1349000,7,9,2,Ha Noi,1450000,198200,91,90,96,0,0,0,0,2\n"
     ]
    },
    {
     "name": "stderr",
     "output_type": "stream",
     "text": [
      "Processing rows:  61%|██████    | 731/1200 [33:04<20:15,  2.59s/it]"
     ]
    },
    {
     "name": "stdout",
     "output_type": "stream",
     "text": [
      "tivi,13450000,33,53,18,Ho Chi Minh,20000000,None,98,100,99,0,0,0,0,18\n"
     ]
    },
    {
     "name": "stderr",
     "output_type": "stream",
     "text": [
      "Processing rows:  61%|██████    | 732/1200 [33:06<20:23,  2.61s/it]"
     ]
    },
    {
     "name": "stdout",
     "output_type": "stream",
     "text": [
      "tivi,10890000,45,57,27,Ha Noi,19850000,None,100,None,92,0,0,0,0,27\n"
     ]
    },
    {
     "name": "stderr",
     "output_type": "stream",
     "text": [
      "Processing rows:  61%|██████    | 733/1200 [33:09<20:26,  2.63s/it]"
     ]
    },
    {
     "name": "stdout",
     "output_type": "stream",
     "text": [
      "tivi,1396646,9,81,33,Ha Noi,1530000,198200,91,95,93,0,0,0,2,31\n"
     ]
    },
    {
     "name": "stderr",
     "output_type": "stream",
     "text": [
      "Processing rows:  61%|██████    | 734/1200 [33:11<19:09,  2.47s/it]"
     ]
    },
    {
     "name": "stdout",
     "output_type": "stream",
     "text": [
      "tivi,6376000,23,14,6,Ho Chi Minh,8288000,None,98,None,100,0,0,0,1,5\n"
     ]
    },
    {
     "name": "stderr",
     "output_type": "stream",
     "text": [
      "Processing rows:  61%|██████▏   | 735/1200 [33:14<20:46,  2.68s/it]"
     ]
    },
    {
     "name": "stdout",
     "output_type": "stream",
     "text": [
      "tivi,8200000,39,10,4,Ho Chi Minh,13390000,159200,85,50,100,0,0,0,0,5\n"
     ]
    },
    {
     "name": "stderr",
     "output_type": "stream",
     "text": [
      "Processing rows:  61%|██████▏   | 736/1200 [33:17<19:46,  2.56s/it]"
     ]
    },
    {
     "name": "stdout",
     "output_type": "stream",
     "text": [
      "tivi,9900000,44,5,None,Ho Chi Minh,17800000,238400,85,50,100,0,0,0,0,0\n"
     ]
    },
    {
     "name": "stderr",
     "output_type": "stream",
     "text": [
      "Processing rows:  61%|██████▏   | 737/1200 [33:19<19:18,  2.50s/it]"
     ]
    },
    {
     "name": "stdout",
     "output_type": "stream",
     "text": [
      "tivi,2500000,None,10,7,Ho Chi Minh,None,74700,85,100,65,0,0,0,1,5\n"
     ]
    },
    {
     "name": "stderr",
     "output_type": "stream",
     "text": [
      "Processing rows:  62%|██████▏   | 738/1200 [33:22<19:52,  2.58s/it]"
     ]
    },
    {
     "name": "stdout",
     "output_type": "stream",
     "text": [
      "tivi,2279000,4,6,3,Ha Noi,2380000,198200,91,90,96,0,0,0,0,3\n"
     ]
    },
    {
     "name": "stderr",
     "output_type": "stream",
     "text": [
      "Processing rows:  62%|██████▏   | 739/1200 [33:24<19:02,  2.48s/it]"
     ]
    },
    {
     "name": "stdout",
     "output_type": "stream",
     "text": [
      "tivi,2300000,None,None,1,Ho Chi Minh,None,74700,85,100,65,0,0,0,0,1\n"
     ]
    },
    {
     "name": "stderr",
     "output_type": "stream",
     "text": [
      "Processing rows:  62%|██████▏   | 740/1200 [33:26<18:34,  2.42s/it]"
     ]
    },
    {
     "name": "stdout",
     "output_type": "stream",
     "text": [
      "tivi,1750000,10,None,1,Ho Chi Minh,1950000,71100,85,100,65,0,0,0,0,1\n"
     ]
    },
    {
     "name": "stderr",
     "output_type": "stream",
     "text": [
      "Processing rows:  62%|██████▏   | 741/1200 [33:29<18:57,  2.48s/it]"
     ]
    },
    {
     "name": "stdout",
     "output_type": "stream",
     "text": [
      "tivi,3969000,40,11,8,Ho Chi Minh,6624000,None,97,None,96,0,0,0,0,8\n"
     ]
    },
    {
     "name": "stderr",
     "output_type": "stream",
     "text": [
      "Processing rows:  62%|██████▏   | 742/1200 [33:32<20:57,  2.75s/it]"
     ]
    },
    {
     "name": "stdout",
     "output_type": "stream",
     "text": [
      "tivi,1499000,21,234,112,Ho Chi Minh,1899000,27300,98,None,100,3,0,2,12,95\n"
     ]
    },
    {
     "name": "stderr",
     "output_type": "stream",
     "text": [
      "Processing rows:  62%|██████▏   | 743/1200 [33:35<21:58,  2.89s/it]"
     ]
    },
    {
     "name": "stdout",
     "output_type": "stream",
     "text": [
      "tivi,1800000,8,5,2,Ho Chi Minh,1950000,71100,85,100,65,0,0,0,0,2\n"
     ]
    },
    {
     "name": "stderr",
     "output_type": "stream",
     "text": [
      "Processing rows:  62%|██████▏   | 744/1200 [33:38<20:07,  2.65s/it]"
     ]
    },
    {
     "name": "stdout",
     "output_type": "stream",
     "text": [
      "tivi,11990000,25,None,None,Ho Chi Minh,15890000,None,96,None,81,0,0,0,0,0\n"
     ]
    },
    {
     "name": "stderr",
     "output_type": "stream",
     "text": [
      "Processing rows:  62%|██████▏   | 745/1200 [33:40<19:30,  2.57s/it]"
     ]
    },
    {
     "name": "stdout",
     "output_type": "stream",
     "text": [
      "tivi,1819452,2,28,9,Ha Noi,1860000,198200,91,95,93,0,0,0,1,9\n"
     ]
    },
    {
     "name": "stderr",
     "output_type": "stream",
     "text": [
      "Processing rows:  62%|██████▏   | 746/1200 [33:43<20:23,  2.69s/it]"
     ]
    },
    {
     "name": "stdout",
     "output_type": "stream",
     "text": [
      "tivi,13600000,33,None,1,Ho Chi Minh,20390000,271400,85,50,100,0,0,0,0,1\n"
     ]
    },
    {
     "name": "stderr",
     "output_type": "stream",
     "text": [
      "Processing rows:  62%|██████▏   | 747/1200 [33:46<20:43,  2.75s/it]"
     ]
    },
    {
     "name": "stdout",
     "output_type": "stream",
     "text": [
      "tivi,5380000,None,None,None,Ha Noi,None,206800,91,95,93,0,0,0,0,0\n"
     ]
    },
    {
     "name": "stderr",
     "output_type": "stream",
     "text": [
      "Processing rows:  62%|██████▏   | 748/1200 [33:49<21:52,  2.90s/it]"
     ]
    },
    {
     "name": "stdout",
     "output_type": "stream",
     "text": [
      "tivi,7080000,32,None,None,Ho Chi Minh,10450000,None,100,None,None,0,0,0,0,0\n"
     ]
    },
    {
     "name": "stderr",
     "output_type": "stream",
     "text": [
      "Processing rows:  62%|██████▏   | 749/1200 [33:51<20:24,  2.72s/it]"
     ]
    },
    {
     "name": "stdout",
     "output_type": "stream",
     "text": [
      "tivi,1076020,2,26,9,Ha Noi,1100000,198200,91,95,93,0,0,0,0,9\n"
     ]
    },
    {
     "name": "stderr",
     "output_type": "stream",
     "text": [
      "Processing rows:  62%|██████▎   | 750/1200 [33:54<19:56,  2.66s/it]"
     ]
    },
    {
     "name": "stdout",
     "output_type": "stream",
     "text": [
      "tivi,1480000,5,23,9,Ha Noi,1550000,198200,91,95,93,0,0,1,0,9\n"
     ]
    },
    {
     "name": "stderr",
     "output_type": "stream",
     "text": [
      "Processing rows:  63%|██████▎   | 751/1200 [33:57<20:19,  2.72s/it]"
     ]
    },
    {
     "name": "stdout",
     "output_type": "stream",
     "text": [
      "tivi,2350000,None,18,9,Ha Noi,None,135500,91,95,93,0,1,0,1,7\n"
     ]
    },
    {
     "name": "stderr",
     "output_type": "stream",
     "text": [
      "Processing rows:  63%|██████▎   | 752/1200 [34:01<22:47,  3.05s/it]"
     ]
    },
    {
     "name": "stdout",
     "output_type": "stream",
     "text": [
      "tivi,1699000,8,21,9,Ha Noi,1850000,198200,91,95,93,0,0,0,0,9\n"
     ]
    },
    {
     "name": "stderr",
     "output_type": "stream",
     "text": [
      "Processing rows:  63%|██████▎   | 753/1200 [34:03<22:24,  3.01s/it]"
     ]
    },
    {
     "name": "stdout",
     "output_type": "stream",
     "text": [
      "tivi,3816000,45,None,None,Ho Chi Minh,6990000,None,97,None,78,0,0,0,0,0\n"
     ]
    },
    {
     "name": "stderr",
     "output_type": "stream",
     "text": [
      "Processing rows:  63%|██████▎   | 754/1200 [34:08<25:08,  3.38s/it]"
     ]
    },
    {
     "name": "stdout",
     "output_type": "stream",
     "text": [
      "tivi,1675000,11,None,None,Ha Noi,1875000,198200,91,90,96,0,0,0,0,0\n"
     ]
    },
    {
     "name": "stderr",
     "output_type": "stream",
     "text": [
      "Processing rows:  63%|██████▎   | 755/1200 [34:10<22:56,  3.09s/it]"
     ]
    },
    {
     "name": "stdout",
     "output_type": "stream",
     "text": [
      "tivi,1500000,12,None,1,Ho Chi Minh,1700000,71100,92,None,80,0,0,1,0,1\n"
     ]
    },
    {
     "name": "stderr",
     "output_type": "stream",
     "text": [
      "Processing rows:  63%|██████▎   | 756/1200 [34:14<24:04,  3.25s/it]"
     ]
    },
    {
     "name": "stdout",
     "output_type": "stream",
     "text": [
      "tivi,10990000,45,24,8,Ho Chi Minh,19990000,25200,99,100,100,0,0,0,0,9\n"
     ]
    },
    {
     "name": "stderr",
     "output_type": "stream",
     "text": [
      "Processing rows:  63%|██████▎   | 757/1200 [34:17<23:28,  3.18s/it]"
     ]
    },
    {
     "name": "stdout",
     "output_type": "stream",
     "text": [
      "tivi,5990000,9,271,138,Ho Chi Minh,6590000,0,96,100,100,0,0,0,0,139\n"
     ]
    },
    {
     "name": "stderr",
     "output_type": "stream",
     "text": [
      "Processing rows:  63%|██████▎   | 758/1200 [34:21<25:34,  3.47s/it]"
     ]
    },
    {
     "name": "stdout",
     "output_type": "stream",
     "text": [
      "tivi,1650000,None,None,1,Ha Noi,None,206800,91,95,93,0,0,0,0,1\n"
     ]
    },
    {
     "name": "stderr",
     "output_type": "stream",
     "text": [
      "Processing rows:  63%|██████▎   | 759/1200 [34:23<22:50,  3.11s/it]"
     ]
    },
    {
     "name": "stdout",
     "output_type": "stream",
     "text": [
      "tivi,2990000,47,None,None,Ho Chi Minh,5590000,59400,None,None,None,0,0,0,0,0\n"
     ]
    },
    {
     "name": "stderr",
     "output_type": "stream",
     "text": [
      "Processing rows:  63%|██████▎   | 760/1200 [34:27<23:40,  3.23s/it]"
     ]
    },
    {
     "name": "stdout",
     "output_type": "stream",
     "text": [
      "tivi,4490000,None,None,None,Ho Chi Minh,None,146000,99,99,98,0,0,0,0,0\n"
     ]
    },
    {
     "name": "stderr",
     "output_type": "stream",
     "text": [
      "Processing rows:  63%|██████▎   | 761/1200 [34:29<21:30,  2.94s/it]"
     ]
    },
    {
     "name": "stdout",
     "output_type": "stream",
     "text": [
      "tivi,4190000,46,300,114,Ha Noi,7690000,None,100,None,92,0,0,0,0,114\n"
     ]
    },
    {
     "name": "stderr",
     "output_type": "stream",
     "text": [
      "Processing rows:  64%|██████▎   | 762/1200 [34:31<20:28,  2.81s/it]"
     ]
    },
    {
     "name": "stdout",
     "output_type": "stream",
     "text": [
      "tivi,3050000,NaN,66,18,Dong Thap,NaN,96100,97,94,75,0,0,2,0,16\n"
     ]
    },
    {
     "name": "stderr",
     "output_type": "stream",
     "text": [
      "Processing rows:  64%|██████▎   | 763/1200 [34:34<19:49,  2.72s/it]"
     ]
    },
    {
     "name": "stdout",
     "output_type": "stream",
     "text": [
      "tivi,6348000,29,95,28,Ho Chi Minh,8900000,0,97,0,78,0,0,0,0,28\n"
     ]
    },
    {
     "name": "stderr",
     "output_type": "stream",
     "text": [
      "Processing rows:  64%|██████▎   | 764/1200 [34:37<20:40,  2.85s/it]"
     ]
    },
    {
     "name": "stdout",
     "output_type": "stream",
     "text": [
      "tivi,7590000,33,15,4,Ha Noi,11290000,None,97,100,97,0,0,0,0,5\n"
     ]
    },
    {
     "name": "stderr",
     "output_type": "stream",
     "text": [
      "Processing rows:  64%|██████▍   | 765/1200 [34:40<20:01,  2.76s/it]"
     ]
    },
    {
     "name": "stdout",
     "output_type": "stream",
     "text": [
      "tivi,3590000,40,174,88,Ho Chi Minh,6000000,None,98,100,99,0,0,0,2,86\n"
     ]
    },
    {
     "name": "stderr",
     "output_type": "stream",
     "text": [
      "Processing rows:  64%|██████▍   | 766/1200 [34:43<21:53,  3.03s/it]"
     ]
    },
    {
     "name": "stdout",
     "output_type": "stream",
     "text": [
      "tivi,4699000,33,58,31,Ho Chi Minh,9000000,None,98,100,99,0,0,0,1,31\n"
     ]
    },
    {
     "name": "stderr",
     "output_type": "stream",
     "text": [
      "Processing rows:  64%|██████▍   | 767/1200 [34:47<23:12,  3.22s/it]"
     ]
    },
    {
     "name": "stdout",
     "output_type": "stream",
     "text": [
      "tivi,4190000,46,None,None,Ho Chi Minh,7690000,131600,None,None,100,0,0,0,0,0\n"
     ]
    },
    {
     "name": "stderr",
     "output_type": "stream",
     "text": [
      "Processing rows:  64%|██████▍   | 768/1200 [34:49<21:17,  2.96s/it]"
     ]
    },
    {
     "name": "stdout",
     "output_type": "stream",
     "text": [
      "tivi,1800000,None,35,13,Ho Chi Minh,None,74700,85,100,65,0,0,0,1,13\n"
     ]
    },
    {
     "name": "stderr",
     "output_type": "stream",
     "text": [
      "Processing rows:  64%|██████▍   | 769/1200 [34:52<20:22,  2.84s/it]"
     ]
    },
    {
     "name": "stdout",
     "output_type": "stream",
     "text": [
      "tivi,5492000,45,50,17,Ho Chi Minh,9900000,31600,97,93,100,0,0,0,1,16\n"
     ]
    },
    {
     "name": "stderr",
     "output_type": "stream",
     "text": [
      "Processing rows:  64%|██████▍   | 770/1200 [34:56<22:17,  3.11s/it]"
     ]
    },
    {
     "name": "stdout",
     "output_type": "stream",
     "text": [
      "tivi,2390000,43,30,17,Ha Noi,4200000,198200,97,None,None,0,1,0,1,15\n"
     ]
    },
    {
     "name": "stderr",
     "output_type": "stream",
     "text": [
      "Processing rows:  64%|██████▍   | 771/1200 [34:58<21:04,  2.95s/it]"
     ]
    },
    {
     "name": "stdout",
     "output_type": "stream",
     "text": [
      "tivi,7094000,29,262,180,Ho Chi Minh,10000000,31600,97,93,100,0,2,1,14,163\n"
     ]
    },
    {
     "name": "stderr",
     "output_type": "stream",
     "text": [
      "Processing rows:  64%|██████▍   | 772/1200 [35:01<20:45,  2.91s/it]"
     ]
    },
    {
     "name": "stdout",
     "output_type": "stream",
     "text": [
      "tivi,7090000,45,38,17,Ho Chi Minh,13000000,31600,97,93,100,0,0,2,0,16\n"
     ]
    },
    {
     "name": "stderr",
     "output_type": "stream",
     "text": [
      "Processing rows:  64%|██████▍   | 773/1200 [35:04<20:13,  2.84s/it]"
     ]
    },
    {
     "name": "stdout",
     "output_type": "stream",
     "text": [
      "tivi,3990000,7,39,13,Ha Noi,4290000,206800,98,100,100,1,0,1,1,10\n"
     ]
    },
    {
     "name": "stderr",
     "output_type": "stream",
     "text": [
      "Processing rows:  64%|██████▍   | 774/1200 [35:06<18:58,  2.67s/it]"
     ]
    },
    {
     "name": "stdout",
     "output_type": "stream",
     "text": [
      "tivi,2829000,29,39,15,Ho Chi Minh,None,None,None,None,None,0,0,0,0,0\n"
     ]
    },
    {
     "name": "stderr",
     "output_type": "stream",
     "text": [
      "Processing rows:  65%|██████▍   | 775/1200 [35:08<18:05,  2.55s/it]"
     ]
    },
    {
     "name": "stdout",
     "output_type": "stream",
     "text": [
      "tivi,12232000,23,18,4,Ho Chi Minh,None,None,None,None,None,0,0,0,0,0\n"
     ]
    },
    {
     "name": "stderr",
     "output_type": "stream",
     "text": [
      "Processing rows:  65%|██████▍   | 776/1200 [35:11<18:13,  2.58s/it]"
     ]
    },
    {
     "name": "stdout",
     "output_type": "stream",
     "text": [
      "tivi,4349000,27,None,2,Ho Chi Minh,5990000,None,97,100,96,0,0,0,0,2\n"
     ]
    },
    {
     "name": "stderr",
     "output_type": "stream",
     "text": [
      "Processing rows:  65%|██████▍   | 777/1200 [35:13<16:49,  2.39s/it]"
     ]
    },
    {
     "name": "stdout",
     "output_type": "stream",
     "text": [
      "tivi,6510000,None,None,None,Ha Noi,None,2689300,None,None,100,0,0,0,0,0\n"
     ]
    },
    {
     "name": "stderr",
     "output_type": "stream",
     "text": [
      "Processing rows:  65%|██████▍   | 778/1200 [35:15<17:21,  2.47s/it]"
     ]
    },
    {
     "name": "stdout",
     "output_type": "stream",
     "text": [
      "tivi,13043000,56,8,1,Ho Chi Minh,29900000,None,92,None,100,0,0,0,0,1\n"
     ]
    },
    {
     "name": "stderr",
     "output_type": "stream",
     "text": [
      "Processing rows:  65%|██████▍   | 779/1200 [35:19<18:30,  2.64s/it]"
     ]
    },
    {
     "name": "stdout",
     "output_type": "stream",
     "text": [
      "tivi,12000000,50,None,None,Ha Noi,24000000,612500,97,97,100,0,0,0,0,0\n"
     ]
    },
    {
     "name": "stderr",
     "output_type": "stream",
     "text": [
      "Processing rows:  65%|██████▌   | 780/1200 [35:21<18:18,  2.62s/it]"
     ]
    },
    {
     "name": "stdout",
     "output_type": "stream",
     "text": [
      "tivi,16790000,17,7,1,Ha Noi,20190000,None,97,100,97,0,0,0,0,1\n"
     ]
    },
    {
     "name": "stderr",
     "output_type": "stream",
     "text": [
      "Processing rows:  65%|██████▌   | 781/1200 [35:24<19:13,  2.75s/it]"
     ]
    },
    {
     "name": "stdout",
     "output_type": "stream",
     "text": [
      "tivi,39990000,53,None,None,Ha Noi,84900000,None,99,None,100,0,0,0,0,0\n"
     ]
    },
    {
     "name": "stderr",
     "output_type": "stream",
     "text": [
      "Processing rows:  65%|██████▌   | 782/1200 [35:28<21:04,  3.03s/it]"
     ]
    },
    {
     "name": "stdout",
     "output_type": "stream",
     "text": [
      "tivi,7641000,30,None,1,Ho Chi Minh,10990000,None,97,None,78,0,0,0,0,1\n"
     ]
    },
    {
     "name": "stderr",
     "output_type": "stream",
     "text": [
      "Processing rows:  65%|██████▌   | 783/1200 [35:31<21:27,  3.09s/it]"
     ]
    },
    {
     "name": "stdout",
     "output_type": "stream",
     "text": [
      "tivi,1248000,8,None,1,Ha Noi,1350000,104900,91,90,96,0,0,0,0,1\n"
     ]
    },
    {
     "name": "stderr",
     "output_type": "stream",
     "text": [
      "Processing rows:  65%|██████▌   | 784/1200 [35:34<20:36,  2.97s/it]"
     ]
    },
    {
     "name": "stdout",
     "output_type": "stream",
     "text": [
      "tivi,6390000,15,12,3,Ho Chi Minh,7500000,None,99,None,97,0,0,0,0,3\n"
     ]
    },
    {
     "name": "stderr",
     "output_type": "stream",
     "text": [
      "Processing rows:  65%|██████▌   | 785/1200 [35:36<20:01,  2.89s/it]"
     ]
    },
    {
     "name": "stdout",
     "output_type": "stream",
     "text": [
      "tivi,6300000,None,None,None,Ha Noi,None,2689300,None,None,100,0,0,0,0,0\n"
     ]
    },
    {
     "name": "stderr",
     "output_type": "stream",
     "text": [
      "Processing rows:  66%|██████▌   | 786/1200 [35:39<19:00,  2.75s/it]"
     ]
    },
    {
     "name": "stdout",
     "output_type": "stream",
     "text": [
      "tivi,6490000,19,None,None,Ho Chi Minh,14990000,131600,None,None,None,0,0,0,0,0\n"
     ]
    },
    {
     "name": "stderr",
     "output_type": "stream",
     "text": [
      "Processing rows:  66%|██████▌   | 787/1200 [35:43<20:59,  3.05s/it]"
     ]
    },
    {
     "name": "stdout",
     "output_type": "stream",
     "text": [
      "tivi,310000,None,12,4,Ha Noi,None,32700,97,96,70,0,0,0,0,4\n"
     ]
    },
    {
     "name": "stderr",
     "output_type": "stream",
     "text": [
      "Processing rows:  66%|██████▌   | 788/1200 [35:46<21:34,  3.14s/it]"
     ]
    },
    {
     "name": "stdout",
     "output_type": "stream",
     "text": [
      "tivi,1250000,None,7,5,Ha Noi,None,125300,91,95,93,0,0,0,0,5\n"
     ]
    },
    {
     "name": "stderr",
     "output_type": "stream",
     "text": [
      "Processing rows:  66%|██████▌   | 789/1200 [35:49<20:26,  2.98s/it]"
     ]
    },
    {
     "name": "stdout",
     "output_type": "stream",
     "text": [
      "tivi,3584000,25,None,1,Ho Chi Minh,4794000,None,98,None,100,0,0,0,0,1\n"
     ]
    },
    {
     "name": "stderr",
     "output_type": "stream",
     "text": [
      "Processing rows:  66%|██████▌   | 790/1200 [35:51<19:50,  2.90s/it]"
     ]
    },
    {
     "name": "stdout",
     "output_type": "stream",
     "text": [
      "tivi,2390975,4,None,None,Ha Noi,2500000,198200,91,95,93,0,0,0,0,0\n"
     ]
    },
    {
     "name": "stderr",
     "output_type": "stream",
     "text": [
      "Processing rows:  66%|██████▌   | 791/1200 [35:55<20:45,  3.04s/it]"
     ]
    },
    {
     "name": "stdout",
     "output_type": "stream",
     "text": [
      "tivi,13990000,33,None,None,Ho Chi Minh,20990000,290200,99,100,100,0,0,0,0,0\n"
     ]
    },
    {
     "name": "stderr",
     "output_type": "stream",
     "text": [
      "Processing rows:  66%|██████▌   | 792/1200 [35:58<20:32,  3.02s/it]"
     ]
    },
    {
     "name": "stdout",
     "output_type": "stream",
     "text": [
      "tivi,1015000,None,None,None,Ho Chi Minh,None,None,None,None,None,0,0,0,0,0\n"
     ]
    },
    {
     "name": "stderr",
     "output_type": "stream",
     "text": [
      "Processing rows:  66%|██████▌   | 793/1200 [36:01<20:34,  3.03s/it]"
     ]
    },
    {
     "name": "stdout",
     "output_type": "stream",
     "text": [
      "tivi,5590000,44,None,None,Ho Chi Minh,9990000,0,97,93,100,0,0,0,0,0\n"
     ]
    },
    {
     "name": "stderr",
     "output_type": "stream",
     "text": [
      "Processing rows:  66%|██████▌   | 794/1200 [36:03<19:48,  2.93s/it]"
     ]
    },
    {
     "name": "stdout",
     "output_type": "stream",
     "text": [
      "tivi,2829000,29,8,4,Ho Chi Minh,4000000,None,98,100,99,0,0,0,0,4\n"
     ]
    },
    {
     "name": "stderr",
     "output_type": "stream",
     "text": [
      "Processing rows:  66%|██████▋   | 795/1200 [36:06<19:54,  2.95s/it]"
     ]
    },
    {
     "name": "stdout",
     "output_type": "stream",
     "text": [
      "tivi,7990000,None,20,8,Binh Duong,None,None,96,100,100,0,0,0,0,9\n"
     ]
    },
    {
     "name": "stderr",
     "output_type": "stream",
     "text": [
      "Processing rows:  66%|██████▋   | 796/1200 [36:09<18:20,  2.72s/it]"
     ]
    },
    {
     "name": "stdout",
     "output_type": "stream",
     "text": [
      "tivi,13990000,26,None,None,Ha Noi,18990000,None,None,None,100,0,0,0,0,0\n"
     ]
    },
    {
     "name": "stderr",
     "output_type": "stream",
     "text": [
      "Processing rows:  66%|██████▋   | 797/1200 [36:11<17:58,  2.68s/it]"
     ]
    },
    {
     "name": "stdout",
     "output_type": "stream",
     "text": [
      "tivi,7000000,3,None,1,Binh Duong,7200000,None,97,98,100,0,0,0,0,1\n"
     ]
    },
    {
     "name": "stderr",
     "output_type": "stream",
     "text": [
      "Processing rows:  66%|██████▋   | 798/1200 [36:13<16:52,  2.52s/it]"
     ]
    },
    {
     "name": "stdout",
     "output_type": "stream",
     "text": [
      "tivi,14490000,None,None,None,Ho Chi Minh,None,0,96,100,100,0,0,0,0,0\n"
     ]
    },
    {
     "name": "stderr",
     "output_type": "stream",
     "text": [
      "Processing rows:  67%|██████▋   | 799/1200 [36:16<17:02,  2.55s/it]"
     ]
    },
    {
     "name": "stdout",
     "output_type": "stream",
     "text": [
      "tivi,600000,None,None,None,Hai Duong,None,43900,83,100,100,0,0,0,0,0\n"
     ]
    },
    {
     "name": "stderr",
     "output_type": "stream",
     "text": [
      "Processing rows:  67%|██████▋   | 800/1200 [36:19<18:03,  2.71s/it]"
     ]
    },
    {
     "name": "stdout",
     "output_type": "stream",
     "text": [
      "tivi,3200000,9,None,2,Ho Chi Minh,3500000,74700,85,100,65,0,0,0,0,2\n"
     ]
    },
    {
     "name": "stderr",
     "output_type": "stream",
     "text": [
      "Processing rows:  67%|██████▋   | 801/1200 [36:22<18:09,  2.73s/it]"
     ]
    },
    {
     "name": "stdout",
     "output_type": "stream",
     "text": [
      "tivi,8589000,33,1100,235,Ho Chi Minh,12900000,159200,None,100,94,1,0,0,2,232\n"
     ]
    },
    {
     "name": "stderr",
     "output_type": "stream",
     "text": [
      "Processing rows:  67%|██████▋   | 802/1200 [36:25<18:17,  2.76s/it]"
     ]
    },
    {
     "name": "stdout",
     "output_type": "stream",
     "text": [
      "tivi,8189000,28,103,26,Ho Chi Minh,11400000,131600,None,100,94,0,0,0,1,25\n"
     ]
    },
    {
     "name": "stderr",
     "output_type": "stream",
     "text": [
      "Processing rows:  67%|██████▋   | 803/1200 [36:28<19:13,  2.91s/it]"
     ]
    },
    {
     "name": "stdout",
     "output_type": "stream",
     "text": [
      "tivi,7451000,49,78,33,Ho Chi Minh,None,None,None,None,None,0,0,0,1,32\n"
     ]
    },
    {
     "name": "stderr",
     "output_type": "stream",
     "text": [
      "Processing rows:  67%|██████▋   | 804/1200 [36:32<21:38,  3.28s/it]"
     ]
    },
    {
     "name": "stdout",
     "output_type": "stream",
     "text": [
      "tivi,8920000,47,23,5,Ho Chi Minh,16900000,None,99,None,97,0,0,0,0,5\n"
     ]
    },
    {
     "name": "stderr",
     "output_type": "stream",
     "text": [
      "Processing rows:  67%|██████▋   | 805/1200 [36:35<21:33,  3.27s/it]"
     ]
    },
    {
     "name": "stdout",
     "output_type": "stream",
     "text": [
      "tivi,8600000,46,15,2,Ho Chi Minh,15900000,None,99,None,97,0,0,0,0,2\n"
     ]
    },
    {
     "name": "stderr",
     "output_type": "stream",
     "text": [
      "Processing rows:  67%|██████▋   | 806/1200 [36:38<21:03,  3.21s/it]"
     ]
    },
    {
     "name": "stdout",
     "output_type": "stream",
     "text": [
      "tivi,6289000,20,167,57,Ho Chi Minh,7900000,None,99,None,97,1,0,0,0,56\n"
     ]
    },
    {
     "name": "stderr",
     "output_type": "stream",
     "text": [
      "Processing rows:  67%|██████▋   | 807/1200 [36:41<19:54,  3.04s/it]"
     ]
    },
    {
     "name": "stdout",
     "output_type": "stream",
     "text": [
      "tivi,1999000,20,8,6,Ha Noi,2500000,198200,91,90,96,0,0,0,0,6\n"
     ]
    },
    {
     "name": "stderr",
     "output_type": "stream",
     "text": [
      "Processing rows:  67%|██████▋   | 808/1200 [36:43<18:40,  2.86s/it]"
     ]
    },
    {
     "name": "stdout",
     "output_type": "stream",
     "text": [
      "tivi,3990000,50,None,None,Ha Noi,7990000,None,None,None,100,0,0,0,0,0\n"
     ]
    },
    {
     "name": "stderr",
     "output_type": "stream",
     "text": [
      "Processing rows:  67%|██████▋   | 809/1200 [36:47<19:10,  2.94s/it]"
     ]
    },
    {
     "name": "stdout",
     "output_type": "stream",
     "text": [
      "tivi,7450000,25,18,10,Ho Chi Minh,9990000,0,97,0,78,0,0,0,0,10\n"
     ]
    },
    {
     "name": "stderr",
     "output_type": "stream",
     "text": [
      "Processing rows:  68%|██████▊   | 810/1200 [36:49<19:04,  2.93s/it]"
     ]
    },
    {
     "name": "stdout",
     "output_type": "stream",
     "text": [
      "tivi,2777000,44,322,118,Ho Chi Minh,4990000,None,97,None,78,0,1,1,1,116\n"
     ]
    },
    {
     "name": "stderr",
     "output_type": "stream",
     "text": [
      "Processing rows:  68%|██████▊   | 811/1200 [36:52<18:21,  2.83s/it]"
     ]
    },
    {
     "name": "stdout",
     "output_type": "stream",
     "text": [
      "tivi,8090000,42,1700,683,Ho Chi Minh,13990000,0,96,100,100,18,4,6,12,643\n"
     ]
    },
    {
     "name": "stderr",
     "output_type": "stream",
     "text": [
      "Processing rows:  68%|██████▊   | 812/1200 [36:54<17:08,  2.65s/it]"
     ]
    },
    {
     "name": "stdout",
     "output_type": "stream",
     "text": [
      "tivi,4048000,19,388,107,Ho Chi Minh,4990000,None,97,None,78,2,3,1,4,98\n"
     ]
    },
    {
     "name": "stderr",
     "output_type": "stream",
     "text": [
      "Processing rows:  68%|██████▊   | 813/1200 [36:57<17:14,  2.67s/it]"
     ]
    },
    {
     "name": "stdout",
     "output_type": "stream",
     "text": [
      "tivi,33890000,11,84,27,Binh Duong,38290000,None,96,100,100,0,0,0,0,27\n"
     ]
    },
    {
     "name": "stderr",
     "output_type": "stream",
     "text": [
      "Processing rows:  68%|██████▊   | 814/1200 [37:00<17:47,  2.77s/it]"
     ]
    },
    {
     "name": "stdout",
     "output_type": "stream",
     "text": [
      "tivi,11190000,45,376,171,Ho Chi Minh,20490000,0,96,100,100,3,0,2,0,167\n"
     ]
    },
    {
     "name": "stderr",
     "output_type": "stream",
     "text": [
      "Processing rows:  68%|██████▊   | 815/1200 [37:03<17:23,  2.71s/it]"
     ]
    },
    {
     "name": "stdout",
     "output_type": "stream",
     "text": [
      "tivi,9395000,48,263,144,Ho Chi Minh,17990000,None,97,93,100,1,1,2,2,138\n"
     ]
    },
    {
     "name": "stderr",
     "output_type": "stream",
     "text": [
      "Processing rows:  68%|██████▊   | 816/1200 [37:06<18:19,  2.86s/it]"
     ]
    },
    {
     "name": "stdout",
     "output_type": "stream",
     "text": [
      "tivi,5540000,50,2200,921,Ho Chi Minh,10990000,46000,97,93,100,5,0,1,17,899\n"
     ]
    },
    {
     "name": "stderr",
     "output_type": "stream",
     "text": [
      "Processing rows:  68%|██████▊   | 817/1200 [37:08<17:04,  2.67s/it]"
     ]
    },
    {
     "name": "stdout",
     "output_type": "stream",
     "text": [
      "tivi,920486,3,77,26,Ha Noi,950000,115100,91,95,93,0,0,0,3,24\n"
     ]
    },
    {
     "name": "stderr",
     "output_type": "stream",
     "text": [
      "Processing rows:  68%|██████▊   | 818/1200 [37:11<17:48,  2.80s/it]"
     ]
    },
    {
     "name": "stdout",
     "output_type": "stream",
     "text": [
      "tivi,6490000,38,496,142,Ho Chi Minh,10490000,0,96,100,100,2,1,1,1,137\n"
     ]
    },
    {
     "name": "stderr",
     "output_type": "stream",
     "text": [
      "Processing rows:  68%|██████▊   | 819/1200 [37:14<18:19,  2.89s/it]"
     ]
    },
    {
     "name": "stdout",
     "output_type": "stream",
     "text": [
      "tivi,10899000,22,103,36,Ho Chi Minh,13900000,146000,none,100,94,0,0,0,0,36\n"
     ]
    },
    {
     "name": "stderr",
     "output_type": "stream",
     "text": [
      "Processing rows:  68%|██████▊   | 820/1200 [37:17<18:23,  2.90s/it]"
     ]
    },
    {
     "name": "stdout",
     "output_type": "stream",
     "text": [
      "tivi,7889000,28,99,36,Ho Chi Minh,10900000,74700,None,100,94,0,0,0,0,36\n"
     ]
    },
    {
     "name": "stderr",
     "output_type": "stream",
     "text": [
      "Processing rows:  68%|██████▊   | 821/1200 [37:20<17:51,  2.83s/it]"
     ]
    },
    {
     "name": "stdout",
     "output_type": "stream",
     "text": [
      "tivi,11589000,27,324,64,Ho Chi Minh,15900000,258200,None,100,94,1,0,0,2,61\n"
     ]
    },
    {
     "name": "stderr",
     "output_type": "stream",
     "text": [
      "Processing rows:  68%|██████▊   | 822/1200 [37:22<16:58,  2.69s/it]"
     ]
    },
    {
     "name": "stdout",
     "output_type": "stream",
     "text": [
      "tivi,11589000,27,86,25,Ho Chi Minh,15900000,146000,None,100,94,0,0,1,0,24\n"
     ]
    },
    {
     "name": "stderr",
     "output_type": "stream",
     "text": [
      "Processing rows:  69%|██████▊   | 823/1200 [37:25<16:48,  2.68s/it]"
     ]
    },
    {
     "name": "stdout",
     "output_type": "stream",
     "text": [
      "tivi,2399000,None,None,None,Ho Chi Minh,None,16500,None,None,None,0,0,0,0,0\n"
     ]
    },
    {
     "name": "stderr",
     "output_type": "stream",
     "text": [
      "Processing rows:  69%|██████▊   | 824/1200 [37:28<18:09,  2.90s/it]"
     ]
    },
    {
     "name": "stdout",
     "output_type": "stream",
     "text": [
      "tivi,2151660,8,28,12,Ha Noi,2350000,198200,91,95,93,1,0,0,0,11\n"
     ]
    },
    {
     "name": "stderr",
     "output_type": "stream",
     "text": [
      "Processing rows:  69%|██████▉   | 825/1200 [37:31<18:24,  2.95s/it]"
     ]
    },
    {
     "name": "stdout",
     "output_type": "stream",
     "text": [
      "tivi,11392000,14,99,54,Ho Chi Minh,13290000,0,96,100,100,0,1,0,1,53\n"
     ]
    },
    {
     "name": "stderr",
     "output_type": "stream",
     "text": [
      "Processing rows:  69%|██████▉   | 826/1200 [37:34<17:42,  2.84s/it]"
     ]
    },
    {
     "name": "stdout",
     "output_type": "stream",
     "text": [
      "tivi,7060000,29,717,516,Ho Chi Minh,10000000,46000,97,93,100,3,2,4,4,503\n"
     ]
    },
    {
     "name": "stderr",
     "output_type": "stream",
     "text": [
      "Processing rows:  69%|██████▉   | 827/1200 [37:37<17:27,  2.81s/it]"
     ]
    },
    {
     "name": "stdout",
     "output_type": "stream",
     "text": [
      "tivi,1100000,None,10,3,Ho Chi Minh,None,71100,85,100,65,0,0,0,0,3\n"
     ]
    },
    {
     "name": "stderr",
     "output_type": "stream",
     "text": [
      "Processing rows:  69%|██████▉   | 828/1200 [37:39<17:27,  2.81s/it]"
     ]
    },
    {
     "name": "stdout",
     "output_type": "stream",
     "text": [
      "tivi,3440000,57,6,None,Ho Chi Minh,7999000,52300,97,93,100,0,0,0,0,0\n"
     ]
    },
    {
     "name": "stderr",
     "output_type": "stream",
     "text": [
      "Processing rows:  69%|██████▉   | 829/1200 [37:42<16:34,  2.68s/it]"
     ]
    },
    {
     "name": "stdout",
     "output_type": "stream",
     "text": [
      "tivi,1300000,None,None,None,Ho Chi Minh,None,23800,None,None,None,0,0,0,0,0\n"
     ]
    },
    {
     "name": "stderr",
     "output_type": "stream",
     "text": [
      "Processing rows:  69%|██████▉   | 830/1200 [37:45<16:42,  2.71s/it]"
     ]
    },
    {
     "name": "stdout",
     "output_type": "stream",
     "text": [
      "tivi,8992000,18,16,5,Ho Chi Minh,10990000,0,96,100,100,0,0,0,0,6\n"
     ]
    },
    {
     "name": "stderr",
     "output_type": "stream",
     "text": [
      "Processing rows:  69%|██████▉   | 831/1200 [37:48<17:11,  2.80s/it]"
     ]
    },
    {
     "name": "stdout",
     "output_type": "stream",
     "text": [
      "tivi,9490000,47,17,5,Ho Chi Minh,17990000,72400,99,100,100,0,0,0,1,4\n"
     ]
    },
    {
     "name": "stderr",
     "output_type": "stream",
     "text": [
      "Processing rows:  69%|██████▉   | 832/1200 [37:50<17:02,  2.78s/it]"
     ]
    },
    {
     "name": "stdout",
     "output_type": "stream",
     "text": [
      "tivi,950000,None,None,1,Ha Noi,None,198200,86,96,75,0,0,0,0,1\n"
     ]
    },
    {
     "name": "stderr",
     "output_type": "stream",
     "text": [
      "Processing rows:  69%|██████▉   | 833/1200 [37:53<17:29,  2.86s/it]"
     ]
    },
    {
     "name": "stdout",
     "output_type": "stream",
     "text": [
      "tivi,1700000,None,8,3,Ho Chi Minh,None,74700,85,100,65,0,0,0,0,3\n"
     ]
    },
    {
     "name": "stderr",
     "output_type": "stream",
     "text": [
      "Processing rows:  70%|██████▉   | 834/1200 [37:56<16:33,  2.71s/it]"
     ]
    },
    {
     "name": "stdout",
     "output_type": "stream",
     "text": [
      "tivi,16490000,8,23,8,Ho Chi Minh,17990000,0,96,100,100,0,0,0,1,7\n"
     ]
    },
    {
     "name": "stderr",
     "output_type": "stream",
     "text": [
      "Processing rows:  70%|██████▉   | 835/1200 [37:59<17:14,  2.83s/it]"
     ]
    },
    {
     "name": "stdout",
     "output_type": "stream",
     "text": [
      "tivi,1419000,7,7,3,Ha Noi,1521000,198200,91,90,96,1,0,0,0,2\n"
     ]
    },
    {
     "name": "stderr",
     "output_type": "stream",
     "text": [
      "Processing rows:  70%|██████▉   | 836/1200 [38:01<16:43,  2.76s/it]"
     ]
    },
    {
     "name": "stdout",
     "output_type": "stream",
     "text": [
      "tivi,10989000,21,None,1,Bac Ninh,13900000,565500,None,100,94,0,0,0,0,1\n"
     ]
    },
    {
     "name": "stderr",
     "output_type": "stream",
     "text": [
      "Processing rows:  70%|██████▉   | 837/1200 [38:04<15:43,  2.60s/it]"
     ]
    },
    {
     "name": "stdout",
     "output_type": "stream",
     "text": [
      "tivi,4290000,7,52,13,Ho Chi Minh,4590000,0,96,100,100,0,0,0,1,13\n"
     ]
    },
    {
     "name": "stderr",
     "output_type": "stream",
     "text": [
      "Processing rows:  70%|██████▉   | 838/1200 [38:08<19:10,  3.18s/it]"
     ]
    },
    {
     "name": "stdout",
     "output_type": "stream",
     "text": [
      "tivi,24292000,7,5,0,Ho Chi Minh,25990000,0,96,100,100,0,0,0,0,1\n"
     ]
    },
    {
     "name": "stderr",
     "output_type": "stream",
     "text": [
      "Processing rows:  70%|██████▉   | 839/1200 [38:11<17:35,  2.92s/it]"
     ]
    },
    {
     "name": "stdout",
     "output_type": "stream",
     "text": [
      "tivi,8090000,61,None,None,Ho Chi Minh,21000000,46000,97,93,100,0,0,0,0,0\n"
     ]
    },
    {
     "name": "stderr",
     "output_type": "stream",
     "text": [
      "Processing rows:  70%|███████   | 840/1200 [38:13<17:15,  2.88s/it]"
     ]
    },
    {
     "name": "stdout",
     "output_type": "stream",
     "text": [
      "tivi,11899000,20,None,None,Ho Chi Minh,19900000,218600,None,100,94,0,0,0,0,0\n"
     ]
    },
    {
     "name": "stderr",
     "output_type": "stream",
     "text": [
      "Processing rows:  70%|███████   | 841/1200 [38:16<16:17,  2.72s/it]"
     ]
    },
    {
     "name": "stdout",
     "output_type": "stream",
     "text": [
      "tivi,8363000,40,33,14,Ho Chi Minh,14000000,None,98,100,99,0,0,0,1,13\n"
     ]
    },
    {
     "name": "stderr",
     "output_type": "stream",
     "text": [
      "Processing rows:  70%|███████   | 842/1200 [38:18<16:16,  2.73s/it]"
     ]
    },
    {
     "name": "stdout",
     "output_type": "stream",
     "text": [
      "tivi,5850000,6,11,5,Ha Noi,6250000,125300,100,40,None,0,0,0,0,6\n"
     ]
    },
    {
     "name": "stderr",
     "output_type": "stream",
     "text": [
      "Processing rows:  70%|███████   | 843/1200 [38:21<16:25,  2.76s/it]"
     ]
    },
    {
     "name": "stdout",
     "output_type": "stream",
     "text": [
      "tivi,7490000,49,10,5,Ha Noi,14790000,None,99,None,100,0,0,0,0,5\n"
     ]
    },
    {
     "name": "stderr",
     "output_type": "stream",
     "text": [
      "Processing rows:  70%|███████   | 844/1200 [38:24<15:59,  2.70s/it]"
     ]
    },
    {
     "name": "stdout",
     "output_type": "stream",
     "text": [
      "tivi,6590000,55,None,None,Ha Noi,14790000,None,None,None,100,0,0,0,0,0\n"
     ]
    },
    {
     "name": "stderr",
     "output_type": "stream",
     "text": [
      "Processing rows:  70%|███████   | 845/1200 [38:26<15:30,  2.62s/it]"
     ]
    },
    {
     "name": "stdout",
     "output_type": "stream",
     "text": [
      "tivi,5713000,35,463,178,Ho Chi Minh,8800000,None,97,None,78,1,2,2,5,169\n"
     ]
    },
    {
     "name": "stderr",
     "output_type": "stream",
     "text": [
      "Processing rows:  70%|███████   | 846/1200 [38:29<15:45,  2.67s/it]"
     ]
    },
    {
     "name": "stdout",
     "output_type": "stream",
     "text": [
      "tivi,1369480,2,25,7,Ha Noi,1400000,198200,91,95,93,0,0,0,0,7\n"
     ]
    },
    {
     "name": "stderr",
     "output_type": "stream",
     "text": [
      "Processing rows:  71%|███████   | 847/1200 [38:32<15:48,  2.69s/it]"
     ]
    },
    {
     "name": "stdout",
     "output_type": "stream",
     "text": [
      "tivi,1435853,7,20,9,Ha Noi,2050000,198200,91,95,93,1,0,0,1,7\n"
     ]
    },
    {
     "name": "stderr",
     "output_type": "stream",
     "text": [
      "Processing rows:  71%|███████   | 848/1200 [38:34<15:16,  2.60s/it]"
     ]
    },
    {
     "name": "stdout",
     "output_type": "stream",
     "text": [
      "tivi,2990000,46,189,57,Ha Noi,5490000,None,98,None,None,0,0,0,0,58\n"
     ]
    },
    {
     "name": "stderr",
     "output_type": "stream",
     "text": [
      "Processing rows:  71%|███████   | 849/1200 [38:37<15:20,  2.62s/it]"
     ]
    },
    {
     "name": "stdout",
     "output_type": "stream",
     "text": [
      "tivi,2490000,None,None,None,Thái Bình,None,141300,None,None,None,0,0,0,0,0\n"
     ]
    },
    {
     "name": "stderr",
     "output_type": "stream",
     "text": [
      "Processing rows:  71%|███████   | 850/1200 [38:39<14:50,  2.55s/it]"
     ]
    },
    {
     "name": "stdout",
     "output_type": "stream",
     "text": [
      "tivi,5390000,4,34,9,Ho Chi Minh,5590000,0,96,100,100,2,0,0,0,7\n"
     ]
    },
    {
     "name": "stderr",
     "output_type": "stream",
     "text": [
      "Processing rows:  71%|███████   | 851/1200 [38:42<14:31,  2.50s/it]"
     ]
    },
    {
     "name": "stdout",
     "output_type": "stream",
     "text": [
      "tivi,8011000,30,28,10,Ho Chi Minh,11490000,None,97,None,78,0,0,0,0,11\n"
     ]
    },
    {
     "name": "stderr",
     "output_type": "stream",
     "text": [
      "Processing rows:  71%|███████   | 852/1200 [38:44<14:11,  2.45s/it]"
     ]
    },
    {
     "name": "stdout",
     "output_type": "stream",
     "text": [
      "tivi,8390000,15,78,34,Ho Chi Minh,9900000,0,99,0,97,0,0,0,0,35\n"
     ]
    },
    {
     "name": "stderr",
     "output_type": "stream",
     "text": [
      "Processing rows:  71%|███████   | 853/1200 [38:46<14:12,  2.46s/it]"
     ]
    },
    {
     "name": "stdout",
     "output_type": "stream",
     "text": [
      "tivi,2829000,29,58,25,Ho Chi Minh,4000000,None,97,None,96,0,0,0,0,25\n"
     ]
    },
    {
     "name": "stderr",
     "output_type": "stream",
     "text": [
      "Processing rows:  71%|███████   | 854/1200 [38:49<13:35,  2.36s/it]"
     ]
    },
    {
     "name": "stdout",
     "output_type": "stream",
     "text": [
      "tivi,230000,None,73,26,Ho Chi Minh,None,16500,99,100,None,0,0,0,0,26\n"
     ]
    },
    {
     "name": "stderr",
     "output_type": "stream",
     "text": [
      "Processing rows:  71%|███████▏  | 855/1200 [38:51<13:27,  2.34s/it]"
     ]
    },
    {
     "name": "stdout",
     "output_type": "stream",
     "text": [
      "tivi,2200950,15,61,28,Ha Noi,2600000,135500,91,95,93,2,0,0,1,25\n"
     ]
    },
    {
     "name": "stderr",
     "output_type": "stream",
     "text": [
      "Processing rows:  71%|███████▏  | 856/1200 [38:53<13:36,  2.37s/it]"
     ]
    },
    {
     "name": "stdout",
     "output_type": "stream",
     "text": [
      "tivi,3200000,None,25,11,Ha Noi,None,198200,91,95,93,0,0,0,0,11\n"
     ]
    },
    {
     "name": "stderr",
     "output_type": "stream",
     "text": [
      "Processing rows:  71%|███████▏  | 857/1200 [38:56<14:09,  2.48s/it]"
     ]
    },
    {
     "name": "stdout",
     "output_type": "stream",
     "text": [
      "tivi,4785000,47,64,28,Bac Ninh,8990000,112600,97,93,100,2,0,0,1,25\n"
     ]
    },
    {
     "name": "stderr",
     "output_type": "stream",
     "text": [
      "Processing rows:  72%|███████▏  | 858/1200 [38:58<14:05,  2.47s/it]"
     ]
    },
    {
     "name": "stdout",
     "output_type": "stream",
     "text": [
      "tivi,6390000,19,49,18,Ho Chi Minh,7900000,None,99,None,97,0,0,0,0,19\n"
     ]
    },
    {
     "name": "stderr",
     "output_type": "stream",
     "text": [
      "Processing rows:  72%|███████▏  | 859/1200 [39:02<15:19,  2.70s/it]"
     ]
    },
    {
     "name": "stdout",
     "output_type": "stream",
     "text": [
      "tivi,8200000,39,10,4,Ho Chi Minh,13390000,159200,85,50,100,0,0,0,0,5\n"
     ]
    },
    {
     "name": "stderr",
     "output_type": "stream",
     "text": [
      "Processing rows:  72%|███████▏  | 860/1200 [39:06<18:22,  3.24s/it]"
     ]
    },
    {
     "name": "stdout",
     "output_type": "stream",
     "text": [
      "tivi,2990000,38,617,207,Ha Noi,4799000,None,98,None,None,4,0,3,4,196\n"
     ]
    },
    {
     "name": "stderr",
     "output_type": "stream",
     "text": [
      "Processing rows:  72%|███████▏  | 861/1200 [39:09<17:35,  3.11s/it]"
     ]
    },
    {
     "name": "stdout",
     "output_type": "stream",
     "text": [
      "tivi,3565542,4,31,17,Ha Noi,3700000,206800,91,95,93,1,0,1,0,15\n"
     ]
    },
    {
     "name": "stderr",
     "output_type": "stream",
     "text": [
      "Processing rows:  72%|███████▏  | 862/1200 [39:12<17:08,  3.04s/it]"
     ]
    },
    {
     "name": "stdout",
     "output_type": "stream",
     "text": [
      "tivi,10900000,44,7,2,Ho Chi Minh,19400000,None,99,None,97,0,0,0,0,2\n"
     ]
    },
    {
     "name": "stderr",
     "output_type": "stream",
     "text": [
      "Processing rows:  72%|███████▏  | 863/1200 [39:14<16:00,  2.85s/it]"
     ]
    },
    {
     "name": "stdout",
     "output_type": "stream",
     "text": [
      "tivi,3003074,2,21,17,Ha Noi,3070000,198200,91,95,93,1,0,1,1,14\n"
     ]
    },
    {
     "name": "stderr",
     "output_type": "stream",
     "text": [
      "Processing rows:  72%|███████▏  | 864/1200 [39:17<15:50,  2.83s/it]"
     ]
    },
    {
     "name": "stdout",
     "output_type": "stream",
     "text": [
      "tivi,3290000,18,9,4,Ho Chi Minh,3990000,74700,85,100,65,0,0,0,1,3\n"
     ]
    },
    {
     "name": "stderr",
     "output_type": "stream",
     "text": [
      "Processing rows:  72%|███████▏  | 865/1200 [39:21<16:53,  3.02s/it]"
     ]
    },
    {
     "name": "stdout",
     "output_type": "stream",
     "text": [
      "tivi,17590000,44,13,4,Ho Chi Minh,31290000,501400,99,100,100,0,0,0,0,4\n"
     ]
    },
    {
     "name": "stderr",
     "output_type": "stream",
     "text": [
      "Processing rows:  72%|███████▏  | 866/1200 [39:23<15:31,  2.79s/it]"
     ]
    },
    {
     "name": "stdout",
     "output_type": "stream",
     "text": [
      "tivi,2350000,None,62,20,Ha Noi,None,198200,91,95,93,0,1,1,1,18\n"
     ]
    },
    {
     "name": "stderr",
     "output_type": "stream",
     "text": [
      "Processing rows:  72%|███████▏  | 867/1200 [39:26<15:37,  2.82s/it]"
     ]
    },
    {
     "name": "stdout",
     "output_type": "stream",
     "text": [
      "tivi,6579000,45,13,5,Ho Chi Minh,12000000,0,98,100,99,0,0,0,0,5\n"
     ]
    },
    {
     "name": "stderr",
     "output_type": "stream",
     "text": [
      "Processing rows:  72%|███████▏  | 868/1200 [39:28<14:54,  2.70s/it]"
     ]
    },
    {
     "name": "stdout",
     "output_type": "stream",
     "text": [
      "tivi,9789000,25,66,15,Binh Duong,13000000,0,98,0,97,0,0,0,0,15\n"
     ]
    },
    {
     "name": "stderr",
     "output_type": "stream",
     "text": [
      "Processing rows:  72%|███████▏  | 869/1200 [39:31<14:29,  2.63s/it]"
     ]
    },
    {
     "name": "stdout",
     "output_type": "stream",
     "text": [
      "tivi,2280000,24,22,10,Ho Chi Minh,2990000,0,99,100,100,0,0,0,0,10\n"
     ]
    },
    {
     "name": "stderr",
     "output_type": "stream",
     "text": [
      "Processing rows:  72%|███████▎  | 870/1200 [39:33<14:42,  2.67s/it]"
     ]
    },
    {
     "name": "stdout",
     "output_type": "stream",
     "text": [
      "tivi,3257406,2,7,1,Ha Noi,3330000,198200,91,95,93,0,0,0,1,1\n"
     ]
    },
    {
     "name": "stderr",
     "output_type": "stream",
     "text": [
      "Processing rows:  73%|███████▎  | 871/1200 [39:36<14:07,  2.58s/it]"
     ]
    },
    {
     "name": "stdout",
     "output_type": "stream",
     "text": [
      "tivi,17290000,20,40,10,Binh Duong,21700000,None,98,None,97,0,0,0,0,10\n"
     ]
    },
    {
     "name": "stderr",
     "output_type": "stream",
     "text": [
      "Processing rows:  73%|███████▎  | 872/1200 [39:38<13:43,  2.51s/it]"
     ]
    },
    {
     "name": "stdout",
     "output_type": "stream",
     "text": [
      "tivi,1850000,None,12,4,Ha Noi,None,206800,91,95,93,0,0,0,0,4\n"
     ]
    },
    {
     "name": "stderr",
     "output_type": "stream",
     "text": [
      "Processing rows:  73%|███████▎  | 873/1200 [39:41<14:43,  2.70s/it]"
     ]
    },
    {
     "name": "stdout",
     "output_type": "stream",
     "text": [
      "tivi,4690000,48,9,None,Ha Noi,9090000,None,100,None,88,0,0,0,0,0\n"
     ]
    },
    {
     "name": "stderr",
     "output_type": "stream",
     "text": [
      "Processing rows:  73%|███████▎  | 874/1200 [39:44<14:28,  2.66s/it]"
     ]
    },
    {
     "name": "stdout",
     "output_type": "stream",
     "text": [
      "tivi,43890000,9,7,1,Binh Duong,48290000,None,96,100,100,0,0,0,0,1\n"
     ]
    },
    {
     "name": "stderr",
     "output_type": "stream",
     "text": [
      "Processing rows:  73%|███████▎  | 875/1200 [39:46<14:03,  2.59s/it]"
     ]
    },
    {
     "name": "stdout",
     "output_type": "stream",
     "text": [
      "tivi,2350000,None,18,9,Ha Noi,None,135500,91,95,93,0,1,0,1,7\n"
     ]
    },
    {
     "name": "stderr",
     "output_type": "stream",
     "text": [
      "Processing rows:  73%|███████▎  | 876/1200 [39:49<13:41,  2.54s/it]"
     ]
    },
    {
     "name": "stdout",
     "output_type": "stream",
     "text": [
      "tivi,3750000,None,5,1,Ha Noi,None,198200,91,95,93,0,0,0,0,1\n"
     ]
    },
    {
     "name": "stderr",
     "output_type": "stream",
     "text": [
      "Processing rows:  73%|███████▎  | 877/1200 [39:52<14:18,  2.66s/it]"
     ]
    },
    {
     "name": "stdout",
     "output_type": "stream",
     "text": [
      "tivi,12490000,11,13,2,Ho Chi Minh,13990000,0,96,100,100,0,0,1,0,1\n"
     ]
    },
    {
     "name": "stderr",
     "output_type": "stream",
     "text": [
      "Processing rows:  73%|███████▎  | 878/1200 [39:54<14:05,  2.63s/it]"
     ]
    },
    {
     "name": "stdout",
     "output_type": "stream",
     "text": [
      "tivi,2790000,None,None,None,Ho Chi Minh,None,46000,100,None,66,0,0,0,0,0\n"
     ]
    },
    {
     "name": "stderr",
     "output_type": "stream",
     "text": [
      "Processing rows:  73%|███████▎  | 879/1200 [39:58<15:36,  2.92s/it]"
     ]
    },
    {
     "name": "stdout",
     "output_type": "stream",
     "text": [
      "tivi,1349000,7,9,2,Ha Noi,1450000,198200,91,90,96,0,0,0,0,2\n"
     ]
    },
    {
     "name": "stderr",
     "output_type": "stream",
     "text": [
      "Processing rows:  73%|███████▎  | 880/1200 [40:00<14:44,  2.76s/it]"
     ]
    },
    {
     "name": "stdout",
     "output_type": "stream",
     "text": [
      "tivi,1500000,None,None,None,Binh Duong,None,585800,None,None,None,0,0,0,0,0\n"
     ]
    },
    {
     "name": "stderr",
     "output_type": "stream",
     "text": [
      "Processing rows:  73%|███████▎  | 881/1200 [40:02<13:35,  2.56s/it]"
     ]
    },
    {
     "name": "stdout",
     "output_type": "stream",
     "text": [
      "tivi,3989000,None,None,None,Ha Noi,None,278100,97,99,100,0,0,0,0,0\n"
     ]
    },
    {
     "name": "stderr",
     "output_type": "stream",
     "text": [
      "Processing rows:  74%|███████▎  | 882/1200 [40:04<12:33,  2.37s/it]"
     ]
    },
    {
     "name": "stdout",
     "output_type": "stream",
     "text": [
      "tivi,3366000,43,None,None,Ha Noi,None,None,None,None,None,0,0,0,0,1\n"
     ]
    },
    {
     "name": "stderr",
     "output_type": "stream",
     "text": [
      "Processing rows:  74%|███████▎  | 883/1200 [40:08<14:58,  2.83s/it]"
     ]
    },
    {
     "name": "stdout",
     "output_type": "stream",
     "text": [
      "tivi,3863890,2,17,11,Ha Noi,3950000,198200,91,95,93,0,0,0,0,11\n"
     ]
    },
    {
     "name": "stderr",
     "output_type": "stream",
     "text": [
      "Processing rows:  74%|███████▎  | 884/1200 [40:12<16:29,  3.13s/it]"
     ]
    },
    {
     "name": "stdout",
     "output_type": "stream",
     "text": [
      "tivi,4690000,41,16,None,Ha Noi,7900000,None,100,None,88,0,0,0,0,1\n"
     ]
    },
    {
     "name": "stderr",
     "output_type": "stream",
     "text": [
      "Processing rows:  74%|███████▍  | 885/1200 [40:14<15:20,  2.92s/it]"
     ]
    },
    {
     "name": "stdout",
     "output_type": "stream",
     "text": [
      "tivi,2349000,4,14,1,Ha Noi,2950000,206800,91,90,96,0,0,0,0,2\n"
     ]
    },
    {
     "name": "stderr",
     "output_type": "stream",
     "text": [
      "Processing rows:  74%|███████▍  | 886/1200 [40:17<15:31,  2.97s/it]"
     ]
    },
    {
     "name": "stdout",
     "output_type": "stream",
     "text": [
      "tivi,4590000,45,None,None,Ha Noi,8290000,None,None,None,100,0,0,0,0,0\n"
     ]
    },
    {
     "name": "stderr",
     "output_type": "stream",
     "text": [
      "Processing rows:  74%|███████▍  | 887/1200 [40:21<15:54,  3.05s/it]"
     ]
    },
    {
     "name": "stdout",
     "output_type": "stream",
     "text": [
      "tivi,1694000,11,5,1,Ha Noi,1895000,198200,91,90,96,0,0,0,0,1\n"
     ]
    },
    {
     "name": "stderr",
     "output_type": "stream",
     "text": [
      "Processing rows:  74%|███████▍  | 888/1200 [40:23<15:39,  3.01s/it]"
     ]
    },
    {
     "name": "stdout",
     "output_type": "stream",
     "text": [
      "tivi,1499000,21,234,112,Ho Chi Minh,1899000,27300,98,None,100,3,0,2,12,95\n"
     ]
    },
    {
     "name": "stderr",
     "output_type": "stream",
     "text": [
      "Processing rows:  74%|███████▍  | 889/1200 [40:26<15:25,  2.98s/it]"
     ]
    },
    {
     "name": "stdout",
     "output_type": "stream",
     "text": [
      "tivi,5190000,37,5,3,Ha Noi,8290000,None,99,None,100,0,0,0,0,3\n"
     ]
    },
    {
     "name": "stderr",
     "output_type": "stream",
     "text": [
      "Processing rows:  74%|███████▍  | 890/1200 [40:29<14:32,  2.81s/it]"
     ]
    },
    {
     "name": "stdout",
     "output_type": "stream",
     "text": [
      "tivi,4699000,33,58,31,Ho Chi Minh,9000000,None,98,100,99,0,0,0,1,31\n"
     ]
    },
    {
     "name": "stderr",
     "output_type": "stream",
     "text": [
      "Processing rows:  74%|███████▍  | 891/1200 [40:31<13:52,  2.69s/it]"
     ]
    },
    {
     "name": "stdout",
     "output_type": "stream",
     "text": [
      "tivi,5492000,45,50,17,Ho Chi Minh,9900000,31600,97,93,100,0,0,0,1,16\n"
     ]
    },
    {
     "name": "stderr",
     "output_type": "stream",
     "text": [
      "Processing rows:  74%|███████▍  | 892/1200 [40:35<15:02,  2.93s/it]"
     ]
    },
    {
     "name": "stdout",
     "output_type": "stream",
     "text": [
      "tivi,10890000,45,57,27,Ha Noi,19850000,None,100,None,92,0,0,0,0,27\n"
     ]
    },
    {
     "name": "stderr",
     "output_type": "stream",
     "text": [
      "Processing rows:  74%|███████▍  | 893/1200 [40:38<14:49,  2.90s/it]"
     ]
    },
    {
     "name": "stdout",
     "output_type": "stream",
     "text": [
      "tivi,6312240,24,14,6,Ho Chi Minh,8288000,None,98,None,100,0,0,0,1,5\n"
     ]
    },
    {
     "name": "stderr",
     "output_type": "stream",
     "text": [
      "Processing rows:  74%|███████▍  | 894/1200 [40:40<14:19,  2.81s/it]"
     ]
    },
    {
     "name": "stdout",
     "output_type": "stream",
     "text": [
      "tivi,7590000,33,15,4,Ha Noi,11290000,None,97,100,97,0,0,0,0,5\n"
     ]
    },
    {
     "name": "stderr",
     "output_type": "stream",
     "text": [
      "Processing rows:  75%|███████▍  | 895/1200 [40:43<14:10,  2.79s/it]"
     ]
    },
    {
     "name": "stdout",
     "output_type": "stream",
     "text": [
      "tivi,12232000,23,18,4,Ho Chi Minh,15900000,None,97,None,78,0,0,0,0,4\n"
     ]
    },
    {
     "name": "stderr",
     "output_type": "stream",
     "text": [
      "Processing rows:  75%|███████▍  | 896/1200 [40:47<15:26,  3.05s/it]"
     ]
    },
    {
     "name": "stdout",
     "output_type": "stream",
     "text": [
      "tivi,2500000,None,10,7,Ho Chi Minh,None,74700,85,100,65,0,0,0,1,5\n"
     ]
    },
    {
     "name": "stderr",
     "output_type": "stream",
     "text": [
      "Processing rows:  75%|███████▍  | 897/1200 [40:49<14:33,  2.88s/it]"
     ]
    },
    {
     "name": "stdout",
     "output_type": "stream",
     "text": [
      "tivi,7080000,32,None,None,Ho Chi Minh,10450000,None,100,None,None,0,0,0,0,0\n"
     ]
    },
    {
     "name": "stderr",
     "output_type": "stream",
     "text": [
      "Processing rows:  75%|███████▍  | 898/1200 [40:51<13:41,  2.72s/it]"
     ]
    },
    {
     "name": "stdout",
     "output_type": "stream",
     "text": [
      "tivi,1480000,5,23,9,Ha Noi,1550000,198200,91,95,93,0,0,1,0,9\n"
     ]
    },
    {
     "name": "stderr",
     "output_type": "stream",
     "text": [
      "Processing rows:  75%|███████▍  | 899/1200 [40:54<14:11,  2.83s/it]"
     ]
    },
    {
     "name": "stdout",
     "output_type": "stream",
     "text": [
      "tivi,1819452,2,28,9,Ha Noi,1860000,198200,91,95,93,0,0,0,1,9\n"
     ]
    },
    {
     "name": "stderr",
     "output_type": "stream",
     "text": [
      "Processing rows:  75%|███████▌  | 900/1200 [40:58<15:01,  3.00s/it]"
     ]
    },
    {
     "name": "stdout",
     "output_type": "stream",
     "text": [
      "tivi,1396646,9,81,33,Ha Noi,1530000,198200,91,95,93,0,0,0,2,31\n"
     ]
    },
    {
     "name": "stderr",
     "output_type": "stream",
     "text": [
      "Processing rows:  75%|███████▌  | 901/1200 [41:00<13:43,  2.76s/it]"
     ]
    },
    {
     "name": "stdout",
     "output_type": "stream",
     "text": [
      "tivi,2829000,29,8,4,Ho Chi Minh,4000000,None,98,100,99,0,0,0,0,4\n"
     ]
    },
    {
     "name": "stderr",
     "output_type": "stream",
     "text": [
      "Processing rows:  75%|███████▌  | 902/1200 [41:03<14:00,  2.82s/it]"
     ]
    },
    {
     "name": "stdout",
     "output_type": "stream",
     "text": [
      "tivi,1699000,8,21,10,Ha Noi,1850000,198200,91,95,93,0,0,0,0,10\n"
     ]
    },
    {
     "name": "stderr",
     "output_type": "stream",
     "text": [
      "Processing rows:  75%|███████▌  | 903/1200 [41:05<13:28,  2.72s/it]"
     ]
    },
    {
     "name": "stdout",
     "output_type": "stream",
     "text": [
      "tivi,2300000,None,None,1,Ho Chi Minh,None,74700,85,100,65,0,0,0,0,1\n"
     ]
    },
    {
     "name": "stderr",
     "output_type": "stream",
     "text": [
      "Processing rows:  75%|███████▌  | 904/1200 [41:08<12:51,  2.60s/it]"
     ]
    },
    {
     "name": "stdout",
     "output_type": "stream",
     "text": [
      "tivi,3200000,9,None,2,Ho Chi Minh,3500000,74700,85,100,65,0,0,0,0,2\n"
     ]
    },
    {
     "name": "stderr",
     "output_type": "stream",
     "text": [
      "Processing rows:  75%|███████▌  | 905/1200 [41:10<12:49,  2.61s/it]"
     ]
    },
    {
     "name": "stdout",
     "output_type": "stream",
     "text": [
      "tivi,11990000,25,None,None,Ho Chi Minh,15890000,None,96,None,81,0,0,0,0,0\n"
     ]
    },
    {
     "name": "stderr",
     "output_type": "stream",
     "text": [
      "Processing rows:  76%|███████▌  | 906/1200 [41:13<13:00,  2.65s/it]"
     ]
    },
    {
     "name": "stdout",
     "output_type": "stream",
     "text": [
      "tivi,5990000,9,271,138,Ho Chi Minh,6590000,0,96,100,100,0,0,0,0,139\n"
     ]
    },
    {
     "name": "stderr",
     "output_type": "stream",
     "text": [
      "Processing rows:  76%|███████▌  | 907/1200 [41:16<12:44,  2.61s/it]"
     ]
    },
    {
     "name": "stdout",
     "output_type": "stream",
     "text": [
      "tivi,3816000,45,None,None,Ho Chi Minh,6990000,None,97,None,78,0,0,0,0,0\n"
     ]
    },
    {
     "name": "stderr",
     "output_type": "stream",
     "text": [
      "Processing rows:  76%|███████▌  | 908/1200 [41:18<12:34,  2.58s/it]"
     ]
    },
    {
     "name": "stdout",
     "output_type": "stream",
     "text": [
      "tivi,1750000,10,None,1,Ho Chi Minh,1950000,71100,85,100,65,0,0,0,0,1\n"
     ]
    },
    {
     "name": "stderr",
     "output_type": "stream",
     "text": [
      "Processing rows:  76%|███████▌  | 909/1200 [41:20<11:53,  2.45s/it]"
     ]
    },
    {
     "name": "stdout",
     "output_type": "stream",
     "text": [
      "tivi,10990000,45,24,8,Ho Chi Minh,19990000,25200,99,100,100,0,0,0,0,9\n"
     ]
    },
    {
     "name": "stderr",
     "output_type": "stream",
     "text": [
      "Processing rows:  76%|███████▌  | 910/1200 [41:23<11:30,  2.38s/it]"
     ]
    },
    {
     "name": "stdout",
     "output_type": "stream",
     "text": [
      "tivi,9900000,44,5,None,Ho Chi Minh,17800000,238400,85,50,100,0,0,0,0,0\n"
     ]
    },
    {
     "name": "stderr",
     "output_type": "stream",
     "text": [
      "Processing rows:  76%|███████▌  | 911/1200 [41:25<11:15,  2.34s/it]"
     ]
    },
    {
     "name": "stdout",
     "output_type": "stream",
     "text": [
      "tivi,2279000,4,6,3,Ha Noi,2380000,198200,91,90,96,0,0,0,0,3\n"
     ]
    },
    {
     "name": "stderr",
     "output_type": "stream",
     "text": [
      "Processing rows:  76%|███████▌  | 912/1200 [41:29<13:17,  2.77s/it]"
     ]
    },
    {
     "name": "stdout",
     "output_type": "stream",
     "text": [
      "tivi,13600000,33,None,1,Ho Chi Minh,20390000,271400,85,50,100,0,0,0,0,1\n"
     ]
    },
    {
     "name": "stderr",
     "output_type": "stream",
     "text": [
      "Processing rows:  76%|███████▌  | 913/1200 [41:33<16:13,  3.39s/it]"
     ]
    },
    {
     "name": "stdout",
     "output_type": "stream",
     "text": [
      "tivi,13290000,16,16,3,Binh Duong,15800000,None,98,None,97,0,0,0,0,3\n"
     ]
    },
    {
     "name": "stderr",
     "output_type": "stream",
     "text": [
      "Processing rows:  76%|███████▌  | 914/1200 [41:36<14:46,  3.10s/it]"
     ]
    },
    {
     "name": "stdout",
     "output_type": "stream",
     "text": [
      "tivi,11090000,26,5,None,Ho Chi Minh,15000000,46000,97,93,100,0,0,0,0,0\n"
     ]
    },
    {
     "name": "stderr",
     "output_type": "stream",
     "text": [
      "Processing rows:  76%|███████▋  | 915/1200 [41:38<14:03,  2.96s/it]"
     ]
    },
    {
     "name": "stdout",
     "output_type": "stream",
     "text": [
      "tivi,1250000,None,7,5,Ha Noi,None,125300,91,95,93,0,0,0,0,5\n"
     ]
    },
    {
     "name": "stderr",
     "output_type": "stream",
     "text": [
      "Processing rows:  76%|███████▋  | 916/1200 [41:41<13:04,  2.76s/it]"
     ]
    },
    {
     "name": "stdout",
     "output_type": "stream",
     "text": [
      "tivi,1650000,None,None,1,Ha Noi,None,206800,91,95,93,0,0,0,0,1\n"
     ]
    },
    {
     "name": "stderr",
     "output_type": "stream",
     "text": [
      "Processing rows:  76%|███████▋  | 917/1200 [41:43<12:49,  2.72s/it]"
     ]
    },
    {
     "name": "stdout",
     "output_type": "stream",
     "text": [
      "tivi,2990000,47,None,None,Ho Chi Minh,5590000,59400,None,None,None,0,0,0,0,0\n"
     ]
    },
    {
     "name": "stderr",
     "output_type": "stream",
     "text": [
      "Processing rows:  76%|███████▋  | 918/1200 [41:46<12:28,  2.65s/it]"
     ]
    },
    {
     "name": "stdout",
     "output_type": "stream",
     "text": [
      "tivi,4490000,None,None,None,Ho Chi Minh,None,146000,99,99,98,0,0,0,0,0\n"
     ]
    },
    {
     "name": "stderr",
     "output_type": "stream",
     "text": [
      "Processing rows:  77%|███████▋  | 919/1200 [41:48<11:47,  2.52s/it]"
     ]
    },
    {
     "name": "stdout",
     "output_type": "stream",
     "text": [
      "tivi,1076020,2,26,9,Ha Noi,1100000,198200,91,95,93,0,0,0,0,9\n"
     ]
    },
    {
     "name": "stderr",
     "output_type": "stream",
     "text": [
      "Processing rows:  77%|███████▋  | 920/1200 [41:51<12:01,  2.58s/it]"
     ]
    },
    {
     "name": "stdout",
     "output_type": "stream",
     "text": [
      "tivi,5380000,None,None,None,Ha Noi,None,206800,91,95,93,0,0,0,0,0\n"
     ]
    },
    {
     "name": "stderr",
     "output_type": "stream",
     "text": [
      "Processing rows:  77%|███████▋  | 921/1200 [41:53<11:47,  2.54s/it]"
     ]
    },
    {
     "name": "stdout",
     "output_type": "stream",
     "text": [
      "tivi,4190000,46,300,114,Ha Noi,7690000,None,100,None,92,0,0,0,0,114\n"
     ]
    },
    {
     "name": "stderr",
     "output_type": "stream",
     "text": [
      "Processing rows:  77%|███████▋  | 922/1200 [41:56<11:31,  2.49s/it]"
     ]
    },
    {
     "name": "stdout",
     "output_type": "stream",
     "text": [
      "tivi,7490000,41,346,259,Ha Noi,12600000,0,100,0,92,0,0,0,0,260\n"
     ]
    },
    {
     "name": "stderr",
     "output_type": "stream",
     "text": [
      "Processing rows:  77%|███████▋  | 923/1200 [41:58<11:58,  2.59s/it]"
     ]
    },
    {
     "name": "stdout",
     "output_type": "stream",
     "text": [
      "tivi,5950000,None,9,3,Ha Noi,None,253700,91,95,93,0,0,0,0,3\n"
     ]
    },
    {
     "name": "stderr",
     "output_type": "stream",
     "text": [
      "Processing rows:  77%|███████▋  | 924/1200 [42:01<11:52,  2.58s/it]"
     ]
    },
    {
     "name": "stdout",
     "output_type": "stream",
     "text": [
      "tivi,3050000,NaN,66,18,Dong Thap,NaN,96100,97,95,75,0,0,2,0,16\n"
     ]
    },
    {
     "name": "stderr",
     "output_type": "stream",
     "text": [
      "Processing rows:  77%|███████▋  | 925/1200 [42:04<11:47,  2.57s/it]"
     ]
    },
    {
     "name": "stdout",
     "output_type": "stream",
     "text": [
      "tivi,6348000,29,95,28,Ho Chi Minh,8900000,0,97,0,78,0,0,0,0,28\n"
     ]
    },
    {
     "name": "stderr",
     "output_type": "stream",
     "text": [
      "Processing rows:  77%|███████▋  | 926/1200 [42:06<12:06,  2.65s/it]"
     ]
    },
    {
     "name": "stdout",
     "output_type": "stream",
     "text": [
      "tivi,3590000,40,174,88,Ho Chi Minh,6000000,None,98,100,99,0,0,0,2,86\n"
     ]
    },
    {
     "name": "stderr",
     "output_type": "stream",
     "text": [
      "Processing rows:  77%|███████▋  | 927/1200 [42:10<13:27,  2.96s/it]"
     ]
    },
    {
     "name": "stdout",
     "output_type": "stream",
     "text": [
      "tivi,4190000,46,None,None,Ho Chi Minh,7690000,131600,None,None,100,0,0,0,0,0\n"
     ]
    },
    {
     "name": "stderr",
     "output_type": "stream",
     "text": [
      "Processing rows:  77%|███████▋  | 928/1200 [42:13<12:47,  2.82s/it]"
     ]
    },
    {
     "name": "stdout",
     "output_type": "stream",
     "text": [
      "tivi,1800000,None,35,13,Ho Chi Minh,None,74700,85,100,65,0,0,0,1,13\n"
     ]
    },
    {
     "name": "stderr",
     "output_type": "stream",
     "text": [
      "Processing rows:  77%|███████▋  | 929/1200 [42:16<12:59,  2.88s/it]"
     ]
    },
    {
     "name": "stdout",
     "output_type": "stream",
     "text": [
      "tivi,3969000,40,11,8,Ho Chi Minh,6624000,None,97,None,96,0,0,0,0,8\n"
     ]
    },
    {
     "name": "stderr",
     "output_type": "stream",
     "text": [
      "Processing rows:  78%|███████▊  | 930/1200 [42:18<12:31,  2.78s/it]"
     ]
    },
    {
     "name": "stdout",
     "output_type": "stream",
     "text": [
      "tivi,1675000,11,None,None,Ha Noi,1875000,198200,91,90,96,0,0,0,0,0\n"
     ]
    },
    {
     "name": "stderr",
     "output_type": "stream",
     "text": [
      "Processing rows:  78%|███████▊  | 931/1200 [42:21<11:55,  2.66s/it]"
     ]
    },
    {
     "name": "stdout",
     "output_type": "stream",
     "text": [
      "tivi,7094000,29,262,180,Ho Chi Minh,10000000,31600,97,93,100,0,2,1,14,163\n"
     ]
    },
    {
     "name": "stderr",
     "output_type": "stream",
     "text": [
      "Processing rows:  78%|███████▊  | 932/1200 [42:23<11:33,  2.59s/it]"
     ]
    },
    {
     "name": "stdout",
     "output_type": "stream",
     "text": [
      "tivi,7090000,45,38,17,Ho Chi Minh,13000000,31600,97,93,100,0,0,2,0,16\n"
     ]
    },
    {
     "name": "stderr",
     "output_type": "stream",
     "text": [
      "Processing rows:  78%|███████▊  | 933/1200 [42:26<12:08,  2.73s/it]"
     ]
    },
    {
     "name": "stdout",
     "output_type": "stream",
     "text": [
      "tivi,9390000,11,54,11,Ho Chi Minh,10590000,None,99,None,97,0,0,0,0,12\n"
     ]
    },
    {
     "name": "stderr",
     "output_type": "stream",
     "text": [
      "Processing rows:  78%|███████▊  | 934/1200 [42:29<12:30,  2.82s/it]"
     ]
    },
    {
     "name": "stdout",
     "output_type": "stream",
     "text": [
      "tivi,3990000,7,39,13,Ha Noi,4290000,206800,98,100,100,1,0,1,1,10\n"
     ]
    },
    {
     "name": "stderr",
     "output_type": "stream",
     "text": [
      "Processing rows:  78%|███████▊  | 935/1200 [42:33<13:43,  3.11s/it]"
     ]
    },
    {
     "name": "stdout",
     "output_type": "stream",
     "text": [
      "tivi,2829000,29,39,15,Ho Chi Minh,4000000,None,98,100,99,0,0,0,1,14\n"
     ]
    },
    {
     "name": "stderr",
     "output_type": "stream",
     "text": [
      "Processing rows:  78%|███████▊  | 936/1200 [42:35<12:46,  2.90s/it]"
     ]
    },
    {
     "name": "stdout",
     "output_type": "stream",
     "text": [
      "tivi,13450000,33,53,18,Ho Chi Minh,20000000,None,98,100,99,0,0,0,0,18\n"
     ]
    },
    {
     "name": "stderr",
     "output_type": "stream",
     "text": [
      "Processing rows:  78%|███████▊  | 937/1200 [42:39<13:49,  3.15s/it]"
     ]
    },
    {
     "name": "stdout",
     "output_type": "stream",
     "text": [
      "tivi,4349000,27,None,2,Ho Chi Minh,5990000,None,97,100,96,0,0,0,0,2\n"
     ]
    },
    {
     "name": "stderr",
     "output_type": "stream",
     "text": [
      "Processing rows:  78%|███████▊  | 938/1200 [42:42<12:57,  2.97s/it]"
     ]
    },
    {
     "name": "stdout",
     "output_type": "stream",
     "text": [
      "tivi,2390000,43,30,17,Ha Noi,4200000,198200,97,None,None,0,1,0,1,15\n"
     ]
    },
    {
     "name": "stderr",
     "output_type": "stream",
     "text": [
      "Processing rows:  78%|███████▊  | 939/1200 [42:44<11:49,  2.72s/it]"
     ]
    },
    {
     "name": "stdout",
     "output_type": "stream",
     "text": [
      "tivi,6510000,None,None,None,Ha Noi,None,2689300,None,None,100,0,0,0,0,0\n"
     ]
    },
    {
     "name": "stderr",
     "output_type": "stream",
     "text": [
      "Processing rows:  78%|███████▊  | 940/1200 [42:47<13:11,  3.05s/it]"
     ]
    },
    {
     "name": "stdout",
     "output_type": "stream",
     "text": [
      "tivi,12000000,50,None,None,Ha Noi,24000000,612500,97,97,100,0,0,0,0,0\n"
     ]
    },
    {
     "name": "stderr",
     "output_type": "stream",
     "text": [
      "Processing rows:  78%|███████▊  | 941/1200 [42:50<12:16,  2.84s/it]"
     ]
    },
    {
     "name": "stdout",
     "output_type": "stream",
     "text": [
      "tivi,7020000,16,None,1,Ha Noi,8400000,None,92,None,50,0,0,0,0,1\n"
     ]
    },
    {
     "name": "stderr",
     "output_type": "stream",
     "text": [
      "Processing rows:  78%|███████▊  | 942/1200 [42:53<12:32,  2.92s/it]"
     ]
    },
    {
     "name": "stdout",
     "output_type": "stream",
     "text": [
      "tivi,16790000,17,7,1,Ha Noi,20190000,None,97,100,97,0,0,0,0,1\n"
     ]
    },
    {
     "name": "stderr",
     "output_type": "stream",
     "text": [
      "Processing rows:  79%|███████▊  | 943/1200 [42:56<12:46,  2.98s/it]"
     ]
    },
    {
     "name": "stdout",
     "output_type": "stream",
     "text": [
      "tivi,2752000,37,69,26,Ho Chi Minh,4390000,59400,98,100,100,0,0,1,0,25\n"
     ]
    },
    {
     "name": "stderr",
     "output_type": "stream",
     "text": [
      "Processing rows:  79%|███████▊  | 944/1200 [42:59<12:20,  2.89s/it]"
     ]
    },
    {
     "name": "stdout",
     "output_type": "stream",
     "text": [
      "tivi,39990000,53,None,None,Ha Noi,84900000,None,99,None,100,0,0,0,0,0\n"
     ]
    },
    {
     "name": "stderr",
     "output_type": "stream",
     "text": [
      "Processing rows:  79%|███████▉  | 945/1200 [43:01<11:21,  2.67s/it]"
     ]
    },
    {
     "name": "stdout",
     "output_type": "stream",
     "text": [
      "tivi,7641000,30,None,1,Ho Chi Minh,10990000,None,97,None,78,0,0,0,0,1\n"
     ]
    },
    {
     "name": "stderr",
     "output_type": "stream",
     "text": [
      "Processing rows:  79%|███████▉  | 946/1200 [43:04<11:32,  2.73s/it]"
     ]
    },
    {
     "name": "stdout",
     "output_type": "stream",
     "text": [
      "tivi,1248000,8,None,1,Ha Noi,1350000,104900,91,90,96,0,0,0,0,1\n"
     ]
    },
    {
     "name": "stderr",
     "output_type": "stream",
     "text": [
      "Processing rows:  79%|███████▉  | 947/1200 [43:07<11:48,  2.80s/it]"
     ]
    },
    {
     "name": "stdout",
     "output_type": "stream",
     "text": [
      "tivi,6390000,15,12,3,Ho Chi Minh,7500000,None,99,None,97,0,0,0,0,3\n"
     ]
    },
    {
     "name": "stderr",
     "output_type": "stream",
     "text": [
      "Processing rows:  79%|███████▉  | 948/1200 [43:09<11:29,  2.73s/it]"
     ]
    },
    {
     "name": "stdout",
     "output_type": "stream",
     "text": [
      "tivi,171005000,5,None,None,Ho Chi Minh,179900000,None,92,None,100,0,0,0,0,0\n"
     ]
    },
    {
     "name": "stderr",
     "output_type": "stream",
     "text": [
      "Processing rows:  79%|███████▉  | 949/1200 [43:12<11:13,  2.68s/it]"
     ]
    },
    {
     "name": "stdout",
     "output_type": "stream",
     "text": [
      "tivi,6300000,None,None,None,Ha Noi,None,2689300,None,None,100,0,0,0,0,0\n"
     ]
    },
    {
     "name": "stderr",
     "output_type": "stream",
     "text": [
      "Processing rows:  79%|███████▉  | 950/1200 [43:14<10:44,  2.58s/it]"
     ]
    },
    {
     "name": "stdout",
     "output_type": "stream",
     "text": [
      "tivi,6490000,19,None,None,Ho Chi Minh,14990000,131600,None,None,None,0,0,0,0,0\n"
     ]
    },
    {
     "name": "stderr",
     "output_type": "stream",
     "text": [
      "Processing rows:  79%|███████▉  | 951/1200 [43:17<10:19,  2.49s/it]"
     ]
    },
    {
     "name": "stdout",
     "output_type": "stream",
     "text": [
      "tivi,6770000,None,None,None,Ho Chi Minh,None,46000,100,None,66,0,0,0,0,0\n"
     ]
    },
    {
     "name": "stderr",
     "output_type": "stream",
     "text": [
      "Processing rows:  79%|███████▉  | 952/1200 [43:19<10:21,  2.51s/it]"
     ]
    },
    {
     "name": "stdout",
     "output_type": "stream",
     "text": [
      "tivi,1500000,12,None,1,Ho Chi Minh,1700000,71100,92,None,80,0,0,1,0,1\n"
     ]
    },
    {
     "name": "stderr",
     "output_type": "stream",
     "text": [
      "Processing rows:  79%|███████▉  | 953/1200 [43:22<10:17,  2.50s/it]"
     ]
    },
    {
     "name": "stdout",
     "output_type": "stream",
     "text": [
      "tivi,19990000,9,6,None,Ho Chi Minh,21990000,0,96,100,100,0,0,0,0,0\n"
     ]
    },
    {
     "name": "stderr",
     "output_type": "stream",
     "text": [
      "Processing rows:  80%|███████▉  | 954/1200 [43:24<10:11,  2.49s/it]"
     ]
    },
    {
     "name": "stdout",
     "output_type": "stream",
     "text": [
      "tivi,3584000,25,None,1,Ho Chi Minh,4794000,None,98,None,100,0,0,0,0,1\n"
     ]
    },
    {
     "name": "stderr",
     "output_type": "stream",
     "text": [
      "Processing rows:  80%|███████▉  | 955/1200 [43:27<10:59,  2.69s/it]"
     ]
    },
    {
     "name": "stdout",
     "output_type": "stream",
     "text": [
      "tivi,2390975,4,None,None,Ha Noi,2500000,198200,91,95,93,0,0,0,0,0\n"
     ]
    },
    {
     "name": "stderr",
     "output_type": "stream",
     "text": [
      "Processing rows:  80%|███████▉  | 956/1200 [43:31<12:01,  2.96s/it]"
     ]
    },
    {
     "name": "stdout",
     "output_type": "stream",
     "text": [
      "tivi,13990000,33,None,None,Ho Chi Minh,20990000,290200,99,100,100,0,0,0,0,0\n"
     ]
    },
    {
     "name": "stderr",
     "output_type": "stream",
     "text": [
      "Processing rows:  80%|███████▉  | 957/1200 [43:33<11:09,  2.75s/it]"
     ]
    },
    {
     "name": "stdout",
     "output_type": "stream",
     "text": [
      "tivi,5590000,44,None,None,Ho Chi Minh,9990000,0,97,93,100,0,0,0,0,0\n"
     ]
    },
    {
     "name": "stderr",
     "output_type": "stream",
     "text": [
      "Processing rows:  80%|███████▉  | 958/1200 [43:36<11:37,  2.88s/it]"
     ]
    },
    {
     "name": "stdout",
     "output_type": "stream",
     "text": [
      "tivi,7990000,None,20,8,Binh Duong,None,None,96,100,100,0,0,0,0,9\n"
     ]
    },
    {
     "name": "stderr",
     "output_type": "stream",
     "text": [
      "Processing rows:  80%|███████▉  | 959/1200 [43:38<10:51,  2.70s/it]"
     ]
    },
    {
     "name": "stdout",
     "output_type": "stream",
     "text": [
      "tivi,7000000,3,None,1,Binh Duong,7200000,None,97,98,100,0,0,0,0,1\n"
     ]
    },
    {
     "name": "stderr",
     "output_type": "stream",
     "text": [
      "Processing rows:  80%|████████  | 960/1200 [43:41<10:39,  2.66s/it]"
     ]
    },
    {
     "name": "stdout",
     "output_type": "stream",
     "text": [
      "tivi,230000,None,7,1,Ho Chi Minh,None,16500,99,100,None,0,0,0,0,1\n"
     ]
    },
    {
     "name": "stderr",
     "output_type": "stream",
     "text": [
      "Processing rows:  80%|████████  | 961/1200 [43:44<10:47,  2.71s/it]"
     ]
    },
    {
     "name": "stdout",
     "output_type": "stream",
     "text": [
      "tivi,11271000,44,5,3,Ho Chi Minh,19990000,148600,97,100,88,0,0,0,0,2\n"
     ]
    },
    {
     "name": "stderr",
     "output_type": "stream",
     "text": [
      "Processing rows:  80%|████████  | 962/1200 [43:48<11:59,  3.02s/it]"
     ]
    },
    {
     "name": "stdout",
     "output_type": "stream",
     "text": [
      "tivi,11790000,28,None,None,Ha Noi,16390000,None,97,100,97,0,0,0,0,0\n"
     ]
    },
    {
     "name": "stderr",
     "output_type": "stream",
     "text": [
      "Processing rows:  80%|████████  | 963/1200 [43:50<11:09,  2.82s/it]"
     ]
    },
    {
     "name": "stdout",
     "output_type": "stream",
     "text": [
      "tivi,5948000,41,43,19,Ho Chi Minh,10000000,None,98,100,99,1,0,0,0,19\n"
     ]
    },
    {
     "name": "stderr",
     "output_type": "stream",
     "text": [
      "Processing rows:  80%|████████  | 964/1200 [43:52<10:34,  2.69s/it]"
     ]
    },
    {
     "name": "stdout",
     "output_type": "stream",
     "text": [
      "tivi,1150000,None,14,2,Ho Chi Minh,None,71100,92,None,80,1,0,0,0,2\n"
     ]
    },
    {
     "name": "stderr",
     "output_type": "stream",
     "text": [
      "Processing rows:  80%|████████  | 965/1200 [43:54<09:49,  2.51s/it]"
     ]
    },
    {
     "name": "stdout",
     "output_type": "stream",
     "text": [
      "tivi,600000,None,None,None,Hai Duong,None,43900,83,100,100,0,0,0,0,0\n"
     ]
    },
    {
     "name": "stderr",
     "output_type": "stream",
     "text": [
      "Processing rows:  80%|████████  | 966/1200 [43:57<09:49,  2.52s/it]"
     ]
    },
    {
     "name": "stdout",
     "output_type": "stream",
     "text": [
      "tivi,1350000,None,None,1,Binh Duong,None,65500,None,None,None,0,0,0,1,0\n"
     ]
    },
    {
     "name": "stderr",
     "output_type": "stream",
     "text": [
      "Processing rows:  81%|████████  | 967/1200 [44:00<09:55,  2.56s/it]"
     ]
    },
    {
     "name": "stdout",
     "output_type": "stream",
     "text": [
      "tivi,5432000,16,25,6,Ho Chi Minh,6490000,None,97,None,78,0,0,0,0,6\n"
     ]
    },
    {
     "name": "stderr",
     "output_type": "stream",
     "text": [
      "Processing rows:  81%|████████  | 968/1200 [44:02<09:29,  2.46s/it]"
     ]
    },
    {
     "name": "stdout",
     "output_type": "stream",
     "text": [
      "tivi,650000,None,None,None,Ho Chi Minh,None,18300,None,75,100,0,0,0,0,0\n"
     ]
    },
    {
     "name": "stderr",
     "output_type": "stream",
     "text": [
      "Processing rows:  81%|████████  | 969/1200 [44:05<10:28,  2.72s/it]"
     ]
    },
    {
     "name": "stdout",
     "output_type": "stream",
     "text": [
      "tivi,3903000,13,30,9,Ho Chi Minh,4490000,None,97,None,78,0,0,0,0,9\n"
     ]
    },
    {
     "name": "stderr",
     "output_type": "stream",
     "text": [
      "Processing rows:  81%|████████  | 970/1200 [44:08<10:01,  2.62s/it]"
     ]
    },
    {
     "name": "stdout",
     "output_type": "stream",
     "text": [
      "tivi,5135000,36,83,34,Ho Chi Minh,8000000,None,98,100,99,0,0,0,0,34\n"
     ]
    },
    {
     "name": "stderr",
     "output_type": "stream",
     "text": [
      "Processing rows:  81%|████████  | 971/1200 [44:10<10:04,  2.64s/it]"
     ]
    },
    {
     "name": "stdout",
     "output_type": "stream",
     "text": [
      "tivi,3939000,21,50,15,Ho Chi Minh,5000000,None,98,100,99,0,0,0,0,15\n"
     ]
    },
    {
     "name": "stderr",
     "output_type": "stream",
     "text": [
      "Processing rows:  81%|████████  | 972/1200 [44:13<10:00,  2.63s/it]"
     ]
    },
    {
     "name": "stdout",
     "output_type": "stream",
     "text": [
      "tivi,6329000,28,51,19,Ho Chi Minh,9220000,None,98,100,99,0,0,0,0,19\n"
     ]
    },
    {
     "name": "stderr",
     "output_type": "stream",
     "text": [
      "Processing rows:  81%|████████  | 973/1200 [44:15<09:34,  2.53s/it]"
     ]
    },
    {
     "name": "stdout",
     "output_type": "stream",
     "text": [
      "tivi,6250000,34,21,6,Ho Chi Minh,9500000,None,97,None,78,0,0,0,0,7\n"
     ]
    },
    {
     "name": "stderr",
     "output_type": "stream",
     "text": [
      "Processing rows:  81%|████████  | 974/1200 [44:18<09:37,  2.56s/it]"
     ]
    },
    {
     "name": "stdout",
     "output_type": "stream",
     "text": [
      "tivi,6150000,28,49,12,Ho Chi Minh,8590000,None,96,None,89,0,0,0,0,12\n"
     ]
    },
    {
     "name": "stderr",
     "output_type": "stream",
     "text": [
      "Processing rows:  81%|████████▏ | 975/1200 [44:20<09:44,  2.60s/it]"
     ]
    },
    {
     "name": "stdout",
     "output_type": "stream",
     "text": [
      "tivi,4390000,37,385,121,Ha Noi,6990000,None,98,None,None,2,0,0,1,119\n"
     ]
    },
    {
     "name": "stderr",
     "output_type": "stream",
     "text": [
      "Processing rows:  81%|████████▏ | 976/1200 [44:24<10:39,  2.85s/it]"
     ]
    },
    {
     "name": "stdout",
     "output_type": "stream",
     "text": [
      "tivi,7161000,28,9,7,Ho Chi Minh,10000000,None,98,100,99,0,0,1,1,5\n"
     ]
    },
    {
     "name": "stderr",
     "output_type": "stream",
     "text": [
      "Processing rows:  81%|████████▏ | 977/1200 [44:27<10:42,  2.88s/it]"
     ]
    },
    {
     "name": "stdout",
     "output_type": "stream",
     "text": [
      "tivi,8580000,28,None,None,Ho Chi Minh,11900000,None,100,None,None,0,0,0,0,0\n"
     ]
    },
    {
     "name": "stderr",
     "output_type": "stream",
     "text": [
      "Processing rows:  82%|████████▏ | 978/1200 [44:30<10:36,  2.87s/it]"
     ]
    },
    {
     "name": "stdout",
     "output_type": "stream",
     "text": [
      "tivi,7163000,45,None,1,Ho Chi Minh,12990000,None,97,None,78,0,0,0,0,1\n"
     ]
    },
    {
     "name": "stderr",
     "output_type": "stream",
     "text": [
      "Processing rows:  82%|████████▏ | 979/1200 [44:32<10:21,  2.81s/it]"
     ]
    },
    {
     "name": "stdout",
     "output_type": "stream",
     "text": [
      "tivi,9290000,19,None,0,Ho Chi Minh,11490000,None,96,None,81,0,0,0,0,1\n"
     ]
    },
    {
     "name": "stderr",
     "output_type": "stream",
     "text": [
      "Processing rows:  82%|████████▏ | 980/1200 [44:36<10:57,  2.99s/it]"
     ]
    },
    {
     "name": "stdout",
     "output_type": "stream",
     "text": [
      "tivi,2000000,None,None,None,Ho Chi Minh,None,23800,None,None,None,0,0,0,0,0\n"
     ]
    },
    {
     "name": "stderr",
     "output_type": "stream",
     "text": [
      "Processing rows:  82%|████████▏ | 981/1200 [44:39<11:08,  3.05s/it]"
     ]
    },
    {
     "name": "stdout",
     "output_type": "stream",
     "text": [
      "tivi,5590000,None,5,None,Ho Chi Minh,None,None,99,None,100,0,0,0,0,0\n"
     ]
    },
    {
     "name": "stderr",
     "output_type": "stream",
     "text": [
      "Processing rows:  82%|████████▏ | 982/1200 [44:42<10:46,  2.96s/it]"
     ]
    },
    {
     "name": "stdout",
     "output_type": "stream",
     "text": [
      "tivi,3600000,None,None,1,Ha Noi,None,None,None,None,None,0,0,0,0,1\n"
     ]
    },
    {
     "name": "stderr",
     "output_type": "stream",
     "text": [
      "Processing rows:  82%|████████▏ | 983/1200 [44:45<11:04,  3.06s/it]"
     ]
    },
    {
     "name": "stdout",
     "output_type": "stream",
     "text": [
      "tivi,3759000,25,None,2,Ho Chi Minh,5000000,None,97,None,96,0,0,0,0,2\n"
     ]
    },
    {
     "name": "stderr",
     "output_type": "stream",
     "text": [
      "Processing rows:  82%|████████▏ | 984/1200 [44:48<10:44,  2.98s/it]"
     ]
    },
    {
     "name": "stdout",
     "output_type": "stream",
     "text": [
      "tivi,3990000,23,None,None,Ho Chi Minh,5150000,59400,None,None,None,0,0,0,0,0\n"
     ]
    },
    {
     "name": "stderr",
     "output_type": "stream",
     "text": [
      "Processing rows:  82%|████████▏ | 985/1200 [44:50<09:58,  2.78s/it]"
     ]
    },
    {
     "name": "stdout",
     "output_type": "stream",
     "text": [
      "tivi,200000,None,14,6,Ho Chi Minh,None,16500,99,100,None,0,0,0,0,6\n"
     ]
    },
    {
     "name": "stderr",
     "output_type": "stream",
     "text": [
      "Processing rows:  82%|████████▏ | 986/1200 [44:53<09:29,  2.66s/it]"
     ]
    },
    {
     "name": "stdout",
     "output_type": "stream",
     "text": [
      "tivi,15790000,12,None,1,Binh Duong,17900000,None,98,None,97,0,0,0,0,1\n"
     ]
    },
    {
     "name": "stderr",
     "output_type": "stream",
     "text": [
      "Processing rows:  82%|████████▏ | 987/1200 [44:56<09:55,  2.80s/it]"
     ]
    },
    {
     "name": "stdout",
     "output_type": "stream",
     "text": [
      "tivi,1397000,7,None,4,Ha Noi,1499000,198200,91,90,96,0,0,0,0,4\n"
     ]
    },
    {
     "name": "stderr",
     "output_type": "stream",
     "text": [
      "Processing rows:  82%|████████▏ | 988/1200 [44:59<09:56,  2.81s/it]"
     ]
    },
    {
     "name": "stdout",
     "output_type": "stream",
     "text": [
      "tivi,10190000,46,None,None,Ho Chi Minh,18990000,337400,None,None,100,0,0,0,0,0\n"
     ]
    },
    {
     "name": "stderr",
     "output_type": "stream",
     "text": [
      "Processing rows:  82%|████████▏ | 989/1200 [45:02<10:50,  3.08s/it]"
     ]
    },
    {
     "name": "stdout",
     "output_type": "stream",
     "text": [
      "tivi,22222000,68,5,None,Ho Chi Minh,69990000,448600,99,100,100,0,0,0,0,0\n"
     ]
    },
    {
     "name": "stderr",
     "output_type": "stream",
     "text": [
      "Processing rows:  82%|████████▎ | 990/1200 [45:05<10:49,  3.09s/it]"
     ]
    },
    {
     "name": "stdout",
     "output_type": "stream",
     "text": [
      "tivi,3709000,38,10,3,Ho Chi Minh,6000000,None,98,100,99,0,0,0,0,3\n"
     ]
    },
    {
     "name": "stderr",
     "output_type": "stream",
     "text": [
      "Processing rows:  83%|████████▎ | 991/1200 [45:08<09:48,  2.82s/it]"
     ]
    },
    {
     "name": "stdout",
     "output_type": "stream",
     "text": [
      "tivi,3790000,36,None,None,Ha Noi,5900000,None,99,None,100,0,0,0,0,0\n"
     ]
    },
    {
     "name": "stderr",
     "output_type": "stream",
     "text": [
      "Processing rows:  83%|████████▎ | 992/1200 [45:09<08:51,  2.55s/it]"
     ]
    },
    {
     "name": "stdout",
     "output_type": "stream",
     "text": [
      "tivi,17790000,19,None,None,Binh Duong,21900000,None,98,None,97,0,0,0,0,0\n"
     ]
    },
    {
     "name": "stderr",
     "output_type": "stream",
     "text": [
      "Processing rows:  83%|████████▎ | 993/1200 [45:12<08:40,  2.52s/it]"
     ]
    },
    {
     "name": "stdout",
     "output_type": "stream",
     "text": [
      "tivi,450000,None,None,None,Ha Noi,None,32700,96,100,66,0,0,0,0,0\n"
     ]
    },
    {
     "name": "stderr",
     "output_type": "stream",
     "text": [
      "Processing rows:  83%|████████▎ | 994/1200 [45:15<08:51,  2.58s/it]"
     ]
    },
    {
     "name": "stdout",
     "output_type": "stream",
     "text": [
      "tivi,13990000,13,6,None,Ho Chi Minh,15990000,None,98,98,96,0,0,0,0,0\n"
     ]
    },
    {
     "name": "stderr",
     "output_type": "stream",
     "text": [
      "Processing rows:  83%|████████▎ | 995/1200 [45:18<09:50,  2.88s/it]"
     ]
    },
    {
     "name": "stdout",
     "output_type": "stream",
     "text": [
      "tivi,8490000,42,6,4,Ho Chi Minh,14690000,102400,97,100,88,0,0,0,0,4\n"
     ]
    },
    {
     "name": "stderr",
     "output_type": "stream",
     "text": [
      "Processing rows:  83%|████████▎ | 996/1200 [45:22<10:15,  3.02s/it]"
     ]
    },
    {
     "name": "stdout",
     "output_type": "stream",
     "text": [
      "tivi,1500000,5,None,1,Ha Noi,1580000,198200,91,90,96,0,0,0,0,1\n"
     ]
    },
    {
     "name": "stderr",
     "output_type": "stream",
     "text": [
      "Processing rows:  83%|████████▎ | 997/1200 [45:24<09:41,  2.86s/it]"
     ]
    },
    {
     "name": "stdout",
     "output_type": "stream",
     "text": [
      "tivi,14490000,None,None,None,Ho Chi Minh,None,0,96,100,100,0,0,0,0,0\n"
     ]
    },
    {
     "name": "stderr",
     "output_type": "stream",
     "text": [
      "Processing rows:  83%|████████▎ | 998/1200 [45:27<09:36,  2.85s/it]"
     ]
    },
    {
     "name": "stdout",
     "output_type": "stream",
     "text": [
      "tivi,7090000,41,None,None,Ho Chi Minh,11990000,None,97,98,89,0,0,0,0,0\n"
     ]
    },
    {
     "name": "stderr",
     "output_type": "stream",
     "text": [
      "Processing rows:  83%|████████▎ | 999/1200 [45:29<09:01,  2.69s/it]"
     ]
    },
    {
     "name": "stdout",
     "output_type": "stream",
     "text": [
      "tivi,10689000,33,None,None,Ha Noi,15990000,None,None,None,100,0,0,0,0,0\n"
     ]
    },
    {
     "name": "stderr",
     "output_type": "stream",
     "text": [
      "Processing rows:  83%|████████▎ | 1000/1200 [45:32<09:01,  2.71s/it]"
     ]
    },
    {
     "name": "stdout",
     "output_type": "stream",
     "text": [
      "tivi,37995000,5,None,1,Ho Chi Minh,39990000,0,96,100,100,0,0,0,0,1\n"
     ]
    },
    {
     "name": "stderr",
     "output_type": "stream",
     "text": [
      "Processing rows:  83%|████████▎ | 1001/1200 [45:34<08:33,  2.58s/it]"
     ]
    },
    {
     "name": "stdout",
     "output_type": "stream",
     "text": [
      "tivi,8589000,1.1,1111,235,Ho Chi Minh,12900000,159200,None,100,94,1,0,0,2,232\n"
     ]
    },
    {
     "name": "stderr",
     "output_type": "stream",
     "text": [
      "Processing rows:  84%|████████▎ | 1002/1200 [45:37<08:44,  2.65s/it]"
     ]
    },
    {
     "name": "stdout",
     "output_type": "stream",
     "text": [
      "tivi,13589000,528,176,Ho Chi Minh,19400000,238400,None,100,94,1,0,1,1,173\n"
     ]
    },
    {
     "name": "stderr",
     "output_type": "stream",
     "text": [
      "Processing rows:  84%|████████▎ | 1003/1200 [45:40<08:32,  2.60s/it]"
     ]
    },
    {
     "name": "stdout",
     "output_type": "stream",
     "text": [
      "tivi,11589000,324,None,Ho Chi Minh,15900000,258200,None,100,94,1,0,0,2,61\n"
     ]
    },
    {
     "name": "stderr",
     "output_type": "stream",
     "text": [
      "Processing rows:  84%|████████▎ | 1004/1200 [45:42<08:24,  2.58s/it]"
     ]
    },
    {
     "name": "stdout",
     "output_type": "stream",
     "text": [
      "tivi,8189000,103,26,Ho Chi Minh,11400000,131600,None,100,94,0,0,0,1,25\n"
     ]
    },
    {
     "name": "stderr",
     "output_type": "stream",
     "text": [
      "Processing rows:  84%|████████▍ | 1005/1200 [45:46<09:21,  2.88s/it]"
     ]
    },
    {
     "name": "stdout",
     "output_type": "stream",
     "text": [
      "tivi,3990000,None,None,None,Ha Noi,7990000,None,None,None,100,0,0,0,0,0\n"
     ]
    },
    {
     "name": "stderr",
     "output_type": "stream",
     "text": [
      "Processing rows:  84%|████████▍ | 1006/1200 [45:48<08:36,  2.66s/it]"
     ]
    },
    {
     "name": "stdout",
     "output_type": "stream",
     "text": [
      "tivi,8600000,None,15,2,Ho Chi Minh,15900000,None,99,None,97,0,0,0,0,2\n"
     ]
    },
    {
     "name": "stderr",
     "output_type": "stream",
     "text": [
      "Processing rows:  84%|████████▍ | 1007/1200 [45:50<08:33,  2.66s/it]"
     ]
    },
    {
     "name": "stdout",
     "output_type": "stream",
     "text": [
      "tivi,8920000,None,23,5,Ho Chi Minh,16900000,None,99,None,97,0,0,0,0,5\n"
     ]
    },
    {
     "name": "stderr",
     "output_type": "stream",
     "text": [
      "Processing rows:  84%|████████▍ | 1008/1200 [45:54<09:35,  3.00s/it]"
     ]
    },
    {
     "name": "stdout",
     "output_type": "stream",
     "text": [
      "tivi,6289000,NaN,167,57,Ho Chi Minh,7900000,NaN,99,NaN,97,1,0,0,0,56\n"
     ]
    },
    {
     "name": "stderr",
     "output_type": "stream",
     "text": [
      "Processing rows:  84%|████████▍ | 1009/1200 [45:57<08:54,  2.80s/it]"
     ]
    },
    {
     "name": "stdout",
     "output_type": "stream",
     "text": [
      "tivi,6490000,None,496,144,Ho Chi Minh,10490000,0,96,100,100,2,1,1,1,140\n"
     ]
    },
    {
     "name": "stderr",
     "output_type": "stream",
     "text": [
      "Processing rows:  84%|████████▍ | 1010/1200 [45:59<08:40,  2.74s/it]"
     ]
    },
    {
     "name": "stdout",
     "output_type": "stream",
     "text": [
      "tivi,7889000,99,99,36,Ho Chi Minh,10900000,74700,None,100,94,0,0,0,0,36\n"
     ]
    },
    {
     "name": "stderr",
     "output_type": "stream",
     "text": [
      "Processing rows:  84%|████████▍ | 1011/1200 [46:01<08:10,  2.60s/it]"
     ]
    },
    {
     "name": "stdout",
     "output_type": "stream",
     "text": [
      "tivi,20692,None,76,17,Nước ngoài,30815,17000,93,100,100,0,0,0,0,17\n"
     ]
    },
    {
     "name": "stderr",
     "output_type": "stream",
     "text": [
      "Processing rows:  84%|████████▍ | 1012/1200 [46:04<08:10,  2.61s/it]"
     ]
    },
    {
     "name": "stdout",
     "output_type": "stream",
     "text": [
      "tivi,7450000,None,18,10,Ho Chi Minh,9990000,None,97,None,78,0,0,0,0,10\n"
     ]
    },
    {
     "name": "stderr",
     "output_type": "stream",
     "text": [
      "Processing rows:  84%|████████▍ | 1013/1200 [46:06<07:55,  2.54s/it]"
     ]
    },
    {
     "name": "stdout",
     "output_type": "stream",
     "text": [
      "tivi,110000,0,42,17,Ha Noi,190000,38000,95,100,None,0,0,0,0,18\n"
     ]
    },
    {
     "name": "stderr",
     "output_type": "stream",
     "text": [
      "Processing rows:  84%|████████▍ | 1014/1200 [46:09<07:33,  2.44s/it]"
     ]
    },
    {
     "name": "stdout",
     "output_type": "stream",
     "text": [
      "tivi,230000,None,73,26,Ho Chi Minh,None,16500,99,100,None,0,0,0,0,26\n"
     ]
    },
    {
     "name": "stderr",
     "output_type": "stream",
     "text": [
      "Processing rows:  85%|████████▍ | 1015/1200 [46:11<07:36,  2.47s/it]"
     ]
    },
    {
     "name": "stdout",
     "output_type": "stream",
     "text": [
      "tivi,8090000,1700,683,Ho Chi Minh,13990000,0,96,100,100,18,4,6,12,643\n"
     ]
    },
    {
     "name": "stderr",
     "output_type": "stream",
     "text": [
      "Processing rows:  85%|████████▍ | 1016/1200 [46:14<08:21,  2.72s/it]"
     ]
    },
    {
     "name": "stdout",
     "output_type": "stream",
     "text": [
      "tivi,2777000,None,322,118,Ho Chi Minh,4990000,None,97,None,78,0,1,1,1,116\n"
     ]
    },
    {
     "name": "stderr",
     "output_type": "stream",
     "text": [
      "Processing rows:  85%|████████▍ | 1017/1200 [46:18<08:44,  2.87s/it]"
     ]
    },
    {
     "name": "stdout",
     "output_type": "stream",
     "text": [
      "tivi,5540000,2200,921,Ho Chi Minh,10990000,46000,97,93,100,5,0,1,17,899\n"
     ]
    },
    {
     "name": "stderr",
     "output_type": "stream",
     "text": [
      "Processing rows:  85%|████████▍ | 1018/1200 [46:20<08:20,  2.75s/it]"
     ]
    },
    {
     "name": "stdout",
     "output_type": "stream",
     "text": [
      "tivi,920486,NaN,77,26,Ha Noi,950000,115100,91,95,93,0,0,0,3,24\n"
     ]
    },
    {
     "name": "stderr",
     "output_type": "stream",
     "text": [
      "Processing rows:  85%|████████▍ | 1019/1200 [46:22<07:46,  2.58s/it]"
     ]
    },
    {
     "name": "stdout",
     "output_type": "stream",
     "text": [
      "tivi,99000,None,908,220,Ho Chi Minh,None,18300,94,100,None,3,3,2,8,205\n"
     ]
    },
    {
     "name": "stderr",
     "output_type": "stream",
     "text": [
      "Processing rows:  85%|████████▌ | 1020/1200 [46:25<07:40,  2.56s/it]"
     ]
    },
    {
     "name": "stdout",
     "output_type": "stream",
     "text": [
      "tivi,11589000,86,25,Ho Chi Minh,15900000,146000,None,100,94,0,0,1,0,24\n"
     ]
    },
    {
     "name": "stderr",
     "output_type": "stream",
     "text": [
      "Processing rows:  85%|████████▌ | 1021/1200 [46:30<09:37,  3.23s/it]"
     ]
    },
    {
     "name": "stdout",
     "output_type": "stream",
     "text": [
      "tivi,2399000,None,None,None,Ho Chi Minh,None,16500,None,None,None,0,0,0,0,0\n"
     ]
    },
    {
     "name": "stderr",
     "output_type": "stream",
     "text": [
      "Processing rows:  85%|████████▌ | 1022/1200 [46:35<11:23,  3.84s/it]"
     ]
    },
    {
     "name": "stdout",
     "output_type": "stream",
     "text": [
      "tivi,2151660,None,28,12,Ha Noi,2350000,198200,91,95,93,1,0,0,0,11\n"
     ]
    },
    {
     "name": "stderr",
     "output_type": "stream",
     "text": [
      "Processing rows:  85%|████████▌ | 1023/1200 [46:38<10:38,  3.61s/it]"
     ]
    },
    {
     "name": "stdout",
     "output_type": "stream",
     "text": [
      "tivi,1100000,None,10,3,Ho Chi Minh,None,71100,85,100,65,0,0,0,0,3\n"
     ]
    },
    {
     "name": "stderr",
     "output_type": "stream",
     "text": [
      "Processing rows:  85%|████████▌ | 1024/1200 [46:41<09:47,  3.34s/it]"
     ]
    },
    {
     "name": "stdout",
     "output_type": "stream",
     "text": [
      "tivi,3989000,None,None,None,Ha Noi,None,278100,97,99,100,0,0,0,0,0\n"
     ]
    },
    {
     "name": "stderr",
     "output_type": "stream",
     "text": [
      "Processing rows:  85%|████████▌ | 1025/1200 [46:43<09:05,  3.12s/it]"
     ]
    },
    {
     "name": "stdout",
     "output_type": "stream",
     "text": [
      "tivi,370000,None,None,1,Tien Giang,None,28700,96,100,100,0,0,0,0,1\n"
     ]
    },
    {
     "name": "stderr",
     "output_type": "stream",
     "text": [
      "Processing rows:  86%|████████▌ | 1026/1200 [46:49<10:52,  3.75s/it]"
     ]
    },
    {
     "name": "stdout",
     "output_type": "stream",
     "text": [
      "tivi,120000,None,12,7,Tien Giang,None,28700,96,100,100,0,0,0,0,7\n"
     ]
    },
    {
     "name": "stderr",
     "output_type": "stream",
     "text": [
      "Processing rows:  86%|████████▌ | 1027/1200 [46:51<09:42,  3.36s/it]"
     ]
    },
    {
     "name": "stdout",
     "output_type": "stream",
     "text": [
      "tivi,3200000,None,None,2,Ho Chi Minh,3500000,74700,85,100,65,0,0,0,0,2\n"
     ]
    },
    {
     "name": "stderr",
     "output_type": "stream",
     "text": [
      "Processing rows:  86%|████████▌ | 1028/1200 [46:53<08:35,  3.00s/it]"
     ]
    },
    {
     "name": "stdout",
     "output_type": "stream",
     "text": [
      "tivi,1300000,None,None,None,Ho Chi Minh,None,23800,None,None,None,0,0,0,0,0\n"
     ]
    },
    {
     "name": "stderr",
     "output_type": "stream",
     "text": [
      "Processing rows:  86%|████████▌ | 1029/1200 [46:56<08:30,  2.99s/it]"
     ]
    },
    {
     "name": "stdout",
     "output_type": "stream",
     "text": [
      "tivi,2000000,None,None,None,Ho Chi Minh,None,23800,None,None,None,0,0,0,0,0\n"
     ]
    },
    {
     "name": "stderr",
     "output_type": "stream",
     "text": [
      "Processing rows:  86%|████████▌ | 1030/1200 [46:58<07:49,  2.76s/it]"
     ]
    },
    {
     "name": "stdout",
     "output_type": "stream",
     "text": [
      "tivi,100000,None,301,89,Ho Chi Minh,None,16500,99,100,None,3,0,0,2,84\n"
     ]
    },
    {
     "name": "stderr",
     "output_type": "stream",
     "text": [
      "Processing rows:  86%|████████▌ | 1031/1200 [47:01<07:47,  2.77s/it]"
     ]
    },
    {
     "name": "stdout",
     "output_type": "stream",
     "text": [
      "tivi,3816000,None,None,None,Ho Chi Minh,6990000,None,97,None,78,0,0,0,0,0\n"
     ]
    },
    {
     "name": "stderr",
     "output_type": "stream",
     "text": [
      "Processing rows:  86%|████████▌ | 1032/1200 [47:03<07:14,  2.59s/it]"
     ]
    },
    {
     "name": "stdout",
     "output_type": "stream",
     "text": [
      "tivi,950000,None,None,1,Ha Noi,None,198200,86,96,75,0,0,0,0,1\n"
     ]
    },
    {
     "name": "stderr",
     "output_type": "stream",
     "text": [
      "Processing rows:  86%|████████▌ | 1033/1200 [47:07<08:02,  2.89s/it]"
     ]
    },
    {
     "name": "stdout",
     "output_type": "stream",
     "text": [
      "tivi,1700000,None,8,3,Ho Chi Minh,None,74700,85,100,65,0,0,0,0,3\n"
     ]
    },
    {
     "name": "stderr",
     "output_type": "stream",
     "text": [
      "Processing rows:  86%|████████▌ | 1034/1200 [47:10<07:55,  2.86s/it]"
     ]
    },
    {
     "name": "stdout",
     "output_type": "stream",
     "text": [
      "tivi,16490000,23,8,Ho Chi Minh,17990000,0,96,100,100,0,0,0,1,7\n"
     ]
    },
    {
     "name": "stderr",
     "output_type": "stream",
     "text": [
      "Processing rows:  86%|████████▋ | 1035/1200 [47:12<07:36,  2.77s/it]"
     ]
    },
    {
     "name": "stdout",
     "output_type": "stream",
     "text": [
      "tivi,4690000,None,9,None,Ha Noi,9090000,None,100,None,88,0,0,0,0,0\n"
     ]
    },
    {
     "name": "stderr",
     "output_type": "stream",
     "text": [
      "Processing rows:  86%|████████▋ | 1036/1200 [47:15<07:51,  2.87s/it]"
     ]
    },
    {
     "name": "stdout",
     "output_type": "stream",
     "text": [
      "tivi,100000,None,13,6,Ba Ria Vung Tau,None,28700,97,93,95,0,0,0,0,6\n"
     ]
    },
    {
     "name": "stderr",
     "output_type": "stream",
     "text": [
      "Processing rows:  86%|████████▋ | 1037/1200 [47:18<07:47,  2.87s/it]"
     ]
    },
    {
     "name": "stdout",
     "output_type": "stream",
     "text": [
      "tivi,10989000,1,None,1,Bac Ninh,13900000,565500,None,100,94,0,0,0,0,1\n"
     ]
    },
    {
     "name": "stderr",
     "output_type": "stream",
     "text": [
      "Processing rows:  86%|████████▋ | 1038/1200 [47:21<07:51,  2.91s/it]"
     ]
    },
    {
     "name": "stdout",
     "output_type": "stream",
     "text": [
      "tivi,1500000,None,None,None,Binh Duong,None,585800,None,None,None,0,0,0,0,0\n"
     ]
    },
    {
     "name": "stderr",
     "output_type": "stream",
     "text": [
      "Processing rows:  87%|████████▋ | 1039/1200 [47:24<07:35,  2.83s/it]"
     ]
    },
    {
     "name": "stdout",
     "output_type": "stream",
     "text": [
      "tivi,29000,None,35,11,Ho Chi Minh,89000,18300,96,94,100,0,0,1,1,9\n"
     ]
    },
    {
     "name": "stderr",
     "output_type": "stream",
     "text": [
      "Processing rows:  87%|████████▋ | 1040/1200 [47:26<06:58,  2.61s/it]"
     ]
    },
    {
     "name": "stdout",
     "output_type": "stream",
     "text": [
      "tivi,8090000,None,None,None,Ho Chi Minh,21000000,46000,97,93,100,0,0,0,0,0\n"
     ]
    },
    {
     "name": "stderr",
     "output_type": "stream",
     "text": [
      "Processing rows:  87%|████████▋ | 1041/1200 [47:31<08:40,  3.27s/it]"
     ]
    },
    {
     "name": "stdout",
     "output_type": "stream",
     "text": [
      "tivi,7451000,78,33,Ho Chi Minh,14690000,79000,99,100,100,0,0,0,1,32\n"
     ]
    },
    {
     "name": "stderr",
     "output_type": "stream",
     "text": [
      "Processing rows:  87%|████████▋ | 1042/1200 [47:34<08:31,  3.24s/it]"
     ]
    },
    {
     "name": "stdout",
     "output_type": "stream",
     "text": [
      "tivi,1999000,None,8,6,Ha Noi,2500000,198200,91,90,96,0,0,0,0,6\n"
     ]
    },
    {
     "name": "stderr",
     "output_type": "stream",
     "text": [
      "Processing rows:  87%|████████▋ | 1043/1200 [47:37<08:24,  3.22s/it]"
     ]
    },
    {
     "name": "stdout",
     "output_type": "stream",
     "text": [
      "tivi,7490000,None,10,5,Ha Noi,14790000,None,99,None,100,0,0,0,0,5\n"
     ]
    },
    {
     "name": "stderr",
     "output_type": "stream",
     "text": [
      "Processing rows:  87%|████████▋ | 1044/1200 [47:40<07:56,  3.06s/it]"
     ]
    },
    {
     "name": "stdout",
     "output_type": "stream",
     "text": [
      "tivi,6590000,None,1,Hà Nội,14790000,None,None,None,100,0,0,0,0,1\n"
     ]
    },
    {
     "name": "stderr",
     "output_type": "stream",
     "text": [
      "Processing rows:  87%|████████▋ | 1045/1200 [47:44<08:45,  3.39s/it]"
     ]
    },
    {
     "name": "stdout",
     "output_type": "stream",
     "text": [
      "tivi,1369480,None,25,7,Ha Noi,1400000,198200,91,95,93,0,0,0,0,7\n"
     ]
    },
    {
     "name": "stderr",
     "output_type": "stream",
     "text": [
      "Processing rows:  87%|████████▋ | 1046/1200 [47:47<08:13,  3.21s/it]"
     ]
    },
    {
     "name": "stdout",
     "output_type": "stream",
     "text": [
      "tivi,7060000,None,717,516,Ho Chi Minh,10000000,46000,97,93,100,3,2,4,4,503\n"
     ]
    },
    {
     "name": "stderr",
     "output_type": "stream",
     "text": [
      "Processing rows:  87%|████████▋ | 1047/1200 [47:51<09:05,  3.57s/it]"
     ]
    },
    {
     "name": "stdout",
     "output_type": "stream",
     "text": [
      "tivi,1435853,None,20,9,Ha Noi,2050000,198200,91,95,93,1,0,0,1,7\n"
     ]
    },
    {
     "name": "stderr",
     "output_type": "stream",
     "text": [
      "Processing rows:  87%|████████▋ | 1048/1200 [47:54<08:40,  3.42s/it]"
     ]
    },
    {
     "name": "stdout",
     "output_type": "stream",
     "text": [
      "tivi,480000,0,175,46,Ha Noi,900000,125300,96,100,92,0,0,0,2,44\n"
     ]
    },
    {
     "name": "stderr",
     "output_type": "stream",
     "text": [
      "Processing rows:  87%|████████▋ | 1049/1200 [47:58<08:42,  3.46s/it]"
     ]
    },
    {
     "name": "stdout",
     "output_type": "stream",
     "text": [
      "tivi,389000,NaN,61,16,Ho Chi Minh,NaN,38000,100,88,100,0,0,0,1,15\n"
     ]
    },
    {
     "name": "stderr",
     "output_type": "stream",
     "text": [
      "Processing rows:  88%|████████▊ | 1050/1200 [48:02<09:30,  3.81s/it]"
     ]
    },
    {
     "name": "stdout",
     "output_type": "stream",
     "text": [
      "tivi,4690000,None,16,None,Ha Noi,7900000,None,100,None,88,0,0,0,0,1\n"
     ]
    },
    {
     "name": "stderr",
     "output_type": "stream",
     "text": [
      "Processing rows:  88%|████████▊ | 1051/1200 [48:06<09:12,  3.71s/it]"
     ]
    },
    {
     "name": "stdout",
     "output_type": "stream",
     "text": [
      "tivi,31463,None,1900,461,Nước ngoài,39014,17000,93,96,100,7,4,4,15,431\n"
     ]
    },
    {
     "name": "stderr",
     "output_type": "stream",
     "text": [
      "Processing rows:  88%|████████▊ | 1052/1200 [48:08<08:17,  3.36s/it]"
     ]
    },
    {
     "name": "stdout",
     "output_type": "stream",
     "text": [
      "tivi,4048000,NaN,388,107,Ho Chi Minh,4990000,NaN,97,NaN,78,2,3,1,4,98\n"
     ]
    },
    {
     "name": "stderr",
     "output_type": "stream",
     "text": [
      "Processing rows:  88%|████████▊ | 1053/1200 [48:11<07:53,  3.22s/it]"
     ]
    },
    {
     "name": "stdout",
     "output_type": "stream",
     "text": [
      "tivi,11190000,376,171,Ho Chi Minh,20490000,0,96,100,100,3,0,2,0,167\n"
     ]
    },
    {
     "name": "stderr",
     "output_type": "stream",
     "text": [
      "Processing rows:  88%|████████▊ | 1054/1200 [48:15<08:01,  3.30s/it]"
     ]
    },
    {
     "name": "stdout",
     "output_type": "stream",
     "text": [
      "tivi,3565542,None,31,17,Ha Noi,3700000,206800,91,95,93,1,0,1,0,15\n"
     ]
    },
    {
     "name": "stderr",
     "output_type": "stream",
     "text": [
      "Processing rows:  88%|████████▊ | 1055/1200 [48:18<07:38,  3.16s/it]"
     ]
    },
    {
     "name": "stdout",
     "output_type": "stream",
     "text": [
      "tivi,3003074,NaN,21,17,Ha Noi,3070000,198200,91,95,93,1,0,1,1,14\n"
     ]
    },
    {
     "name": "stderr",
     "output_type": "stream",
     "text": [
      "Processing rows:  88%|████████▊ | 1056/1200 [48:22<08:11,  3.41s/it]"
     ]
    },
    {
     "name": "stdout",
     "output_type": "stream",
     "text": [
      "tivi,1480000,None,23,9,Ha Noi,1550000,198200,91,95,93,0,0,1,0,9\n"
     ]
    },
    {
     "name": "stderr",
     "output_type": "stream",
     "text": [
      "Processing rows:  88%|████████▊ | 1057/1200 [48:24<07:20,  3.08s/it]"
     ]
    },
    {
     "name": "stdout",
     "output_type": "stream",
     "text": [
      "tivi,3440000,None,6,None,Ho Chi Minh,7999000,52300,97,93,100,0,0,0,0,0\n"
     ]
    },
    {
     "name": "stderr",
     "output_type": "stream",
     "text": [
      "Processing rows:  88%|████████▊ | 1058/1200 [48:27<07:28,  3.16s/it]"
     ]
    },
    {
     "name": "stdout",
     "output_type": "stream",
     "text": [
      "tivi,2350000,None,62,20,Ha Noi,None,198200,91,95,93,0,1,1,1,18\n"
     ]
    },
    {
     "name": "stderr",
     "output_type": "stream",
     "text": [
      "Processing rows:  88%|████████▊ | 1059/1200 [48:32<08:20,  3.55s/it]"
     ]
    },
    {
     "name": "stdout",
     "output_type": "stream",
     "text": [
      "tivi,320000,None,17,6,Tien Giang,None,32200,96,100,100,0,0,0,0,6\n"
     ]
    },
    {
     "name": "stderr",
     "output_type": "stream",
     "text": [
      "Processing rows:  88%|████████▊ | 1060/1200 [48:34<07:41,  3.29s/it]"
     ]
    },
    {
     "name": "stdout",
     "output_type": "stream",
     "text": [
      "tivi,270000,None,20,8,Tien Giang,None,32200,96,100,100,0,0,0,0,8\n"
     ]
    },
    {
     "name": "stderr",
     "output_type": "stream",
     "text": [
      "Processing rows:  88%|████████▊ | 1061/1200 [48:37<07:21,  3.17s/it]"
     ]
    },
    {
     "name": "stdout",
     "output_type": "stream",
     "text": [
      "tivi,8992000,NaN,16,5,Ho Chi Minh,10990000,0,96,100,100,0,0,0,0,6\n"
     ]
    },
    {
     "name": "stderr",
     "output_type": "stream",
     "text": [
      "Processing rows:  88%|████████▊ | 1062/1200 [48:40<06:50,  2.98s/it]"
     ]
    },
    {
     "name": "stdout",
     "output_type": "stream",
     "text": [
      "tivi,250000,None,165,57,Ha Noi,None,32700,96,100,100,0,2,1,2,52\n"
     ]
    },
    {
     "name": "stderr",
     "output_type": "stream",
     "text": [
      "Processing rows:  89%|████████▊ | 1063/1200 [48:43<06:40,  2.93s/it]"
     ]
    },
    {
     "name": "stdout",
     "output_type": "stream",
     "text": [
      "tivi,160000,None,17,5,Ho Chi Minh,None,16500,99,100,None,0,0,0,1,4\n"
     ]
    },
    {
     "name": "stderr",
     "output_type": "stream",
     "text": [
      "Processing rows:  89%|████████▊ | 1064/1200 [48:45<05:56,  2.62s/it]"
     ]
    },
    {
     "name": "stdout",
     "output_type": "stream",
     "text": [
      "tivi,1350000,None,None,1,Binh Duong,None,65500,None,None,None,0,0,0,1,0\n"
     ]
    },
    {
     "name": "stderr",
     "output_type": "stream",
     "text": [
      "Processing rows:  89%|████████▉ | 1065/1200 [48:48<06:45,  3.00s/it]"
     ]
    },
    {
     "name": "stdout",
     "output_type": "stream",
     "text": [
      "tivi,1850000,None,12,4,Ha Noi,None,206800,91,95,93,0,0,0,0,4\n"
     ]
    },
    {
     "name": "stderr",
     "output_type": "stream",
     "text": [
      "Processing rows:  89%|████████▉ | 1066/1200 [48:51<06:09,  2.76s/it]"
     ]
    },
    {
     "name": "stdout",
     "output_type": "stream",
     "text": [
      "tivi,1419000,None,7,3,Ha Noi,1521000,198200,91,90,96,1,0,0,0,2\n"
     ]
    },
    {
     "name": "stderr",
     "output_type": "stream",
     "text": [
      "Processing rows:  89%|████████▉ | 1067/1200 [48:54<06:50,  3.09s/it]"
     ]
    },
    {
     "name": "stdout",
     "output_type": "stream",
     "text": [
      "tivi,330000,None,None,None,Tien Giang,None,28700,96,100,100,0,0,0,0,0\n"
     ]
    },
    {
     "name": "stderr",
     "output_type": "stream",
     "text": [
      "Processing rows:  89%|████████▉ | 1068/1200 [48:57<06:11,  2.81s/it]"
     ]
    },
    {
     "name": "stdout",
     "output_type": "stream",
     "text": [
      "tivi,200000,None,14,6,Ho Chi Minh,None,16500,99,100,None,0,0,0,0,6\n"
     ]
    },
    {
     "name": "stderr",
     "output_type": "stream",
     "text": [
      "Processing rows:  89%|████████▉ | 1069/1200 [48:59<06:01,  2.76s/it]"
     ]
    },
    {
     "name": "stdout",
     "output_type": "stream",
     "text": [
      "tivi,600000,None,None,None,Hai Duong,None,43900,83,100,100,0,0,0,0,0\n"
     ]
    },
    {
     "name": "stderr",
     "output_type": "stream",
     "text": [
      "Processing rows:  89%|████████▉ | 1070/1200 [49:02<06:15,  2.89s/it]"
     ]
    },
    {
     "name": "stdout",
     "output_type": "stream",
     "text": [
      "tivi,4290000,52,13,1,Ho Chi Minh,4590000,0,96,100,100,0,0,0,1,13\n"
     ]
    },
    {
     "name": "stderr",
     "output_type": "stream",
     "text": [
      "Processing rows:  89%|████████▉ | 1071/1200 [49:05<05:40,  2.64s/it]"
     ]
    },
    {
     "name": "stdout",
     "output_type": "stream",
     "text": [
      "tivi,2550000,None,None,None,Ho Chi Minh,None,21200,96,None,None,0,0,0,0,0\n"
     ]
    },
    {
     "name": "stderr",
     "output_type": "stream",
     "text": [
      "Processing rows:  89%|████████▉ | 1072/1200 [49:07<05:44,  2.69s/it]"
     ]
    },
    {
     "name": "stdout",
     "output_type": "stream",
     "text": [
      "tivi,1248000,None,None,1,Ha Noi,1350000,104900,91,90,96,0,0,0,0,1\n"
     ]
    },
    {
     "name": "stderr",
     "output_type": "stream",
     "text": [
      "Processing rows:  89%|████████▉ | 1073/1200 [49:10<05:37,  2.66s/it]"
     ]
    },
    {
     "name": "stdout",
     "output_type": "stream",
     "text": [
      "tivi,165315,None,6,4,Ha Noi,169000,38000,97,96,70,0,0,0,0,4\n"
     ]
    },
    {
     "name": "stderr",
     "output_type": "stream",
     "text": [
      "Processing rows:  90%|████████▉ | 1074/1200 [49:12<05:16,  2.51s/it]"
     ]
    },
    {
     "name": "stdout",
     "output_type": "stream",
     "text": [
      "tivi,24292000,None,5,0,Ho Chi Minh,25990000,0,96,100,100,0,0,0,0,1\n"
     ]
    },
    {
     "name": "stderr",
     "output_type": "stream",
     "text": [
      "Processing rows:  90%|████████▉ | 1075/1200 [49:15<05:17,  2.54s/it]"
     ]
    },
    {
     "name": "stdout",
     "output_type": "stream",
     "text": [
      "tivi,3050000,None,66,18,Dong Thap,None,96100,97,95,75,0,0,2,0,16\n"
     ]
    },
    {
     "name": "stderr",
     "output_type": "stream",
     "text": [
      "Processing rows:  90%|████████▉ | 1076/1200 [49:17<05:23,  2.61s/it]"
     ]
    },
    {
     "name": "stdout",
     "output_type": "stream",
     "text": [
      "tivi,98000,None,6,4,Ho Chi Minh,None,0,94,100,None,0,0,0,0,4\n"
     ]
    },
    {
     "name": "stderr",
     "output_type": "stream",
     "text": [
      "Processing rows:  90%|████████▉ | 1077/1200 [49:20<05:22,  2.62s/it]"
     ]
    },
    {
     "name": "stdout",
     "output_type": "stream",
     "text": [
      "tivi,1076020,None,26,9,Ha Noi,1100000,198200,91,95,93,0,0,0,0,9\n"
     ]
    },
    {
     "name": "stderr",
     "output_type": "stream",
     "text": [
      "Processing rows:  90%|████████▉ | 1078/1200 [49:22<05:06,  2.51s/it]"
     ]
    },
    {
     "name": "stdout",
     "output_type": "stream",
     "text": [
      "tivi,11899000,None,None,None,Ho Chi Minh,19900000,218600,None,100,94,0,0,0,0,0\n"
     ]
    },
    {
     "name": "stderr",
     "output_type": "stream",
     "text": [
      "Processing rows:  90%|████████▉ | 1079/1200 [49:25<05:18,  2.63s/it]"
     ]
    },
    {
     "name": "stdout",
     "output_type": "stream",
     "text": [
      "tivi,230000,None,7,1,Ho Chi Minh,None,16500,99,100,None,0,0,0,0,1\n"
     ]
    },
    {
     "name": "stderr",
     "output_type": "stream",
     "text": [
      "Processing rows:  90%|█████████ | 1080/1200 [49:28<05:23,  2.70s/it]"
     ]
    },
    {
     "name": "stdout",
     "output_type": "stream",
     "text": [
      "tivi,3050000,None,None,None,Dong Thap,None,88900,97,82,None,0,0,0,0,0\n"
     ]
    },
    {
     "name": "stderr",
     "output_type": "stream",
     "text": [
      "Processing rows:  90%|█████████ | 1081/1200 [49:33<06:44,  3.40s/it]"
     ]
    },
    {
     "name": "stdout",
     "output_type": "stream",
     "text": [
      "tivi,4590000,None,None,None,Ha Noi,8290000,None,None,None,100,0,0,0,0,0\n"
     ]
    },
    {
     "name": "stderr",
     "output_type": "stream",
     "text": [
      "Processing rows:  90%|█████████ | 1082/1200 [49:37<07:05,  3.61s/it]"
     ]
    },
    {
     "name": "stdout",
     "output_type": "stream",
     "text": [
      "tivi,3366000,None,None,None,Ha Noi,5900000,None,None,None,100,0,0,0,0,1\n"
     ]
    },
    {
     "name": "stderr",
     "output_type": "stream",
     "text": [
      "Processing rows:  90%|█████████ | 1083/1200 [49:40<06:31,  3.35s/it]"
     ]
    },
    {
     "name": "stdout",
     "output_type": "stream",
     "text": [
      "tivi,4190000,None,300,114,Ha Noi,7690000,None,100,None,92,0,0,0,0,114\n"
     ]
    },
    {
     "name": "stderr",
     "output_type": "stream",
     "text": [
      "Processing rows:  90%|█████████ | 1084/1200 [49:43<05:58,  3.09s/it]"
     ]
    },
    {
     "name": "stdout",
     "output_type": "stream",
     "text": [
      "tivi,249771,None,5,1,Ha Noi,700200,32700,91,99,100,0,0,0,0,2\n"
     ]
    },
    {
     "name": "stderr",
     "output_type": "stream",
     "text": [
      "Processing rows:  90%|█████████ | 1085/1200 [49:48<07:27,  3.89s/it]"
     ]
    },
    {
     "name": "stdout",
     "output_type": "stream",
     "text": [
      "tivi,3200000,None,25,11,Ha Noi,None,198200,91,95,93,0,0,0,0,11\n"
     ]
    },
    {
     "name": "stderr",
     "output_type": "stream",
     "text": [
      "Processing rows:  90%|█████████ | 1086/1200 [49:54<08:33,  4.50s/it]"
     ]
    },
    {
     "name": "stdout",
     "output_type": "stream",
     "text": [
      "tivi,3257406,NaN,7,1,Ha Noi,3330000,198200,91,95,93,0,0,0,1,1\n"
     ]
    },
    {
     "name": "stderr",
     "output_type": "stream",
     "text": [
      "Processing rows:  91%|█████████ | 1087/1200 [49:57<07:38,  4.06s/it]"
     ]
    },
    {
     "name": "stdout",
     "output_type": "stream",
     "text": [
      "tivi,1349000,None,9,2,Ha Noi,1450000,198200,91,90,96,0,0,0,0,2\n"
     ]
    },
    {
     "name": "stderr",
     "output_type": "stream",
     "text": [
      "Processing rows:  91%|█████████ | 1088/1200 [50:00<06:57,  3.73s/it]"
     ]
    },
    {
     "name": "stdout",
     "output_type": "stream",
     "text": [
      "tivi,3750000,None,5,1,Ha Noi,None,198200,91,95,93,0,0,0,0,1\n"
     ]
    },
    {
     "name": "stderr",
     "output_type": "stream",
     "text": [
      "Processing rows:  91%|█████████ | 1089/1200 [50:03<06:23,  3.45s/it]"
     ]
    },
    {
     "name": "stdout",
     "output_type": "stream",
     "text": [
      "tivi,1694000,None,5,1,Ha Noi,None,None,None,None,None,0,0,0,0,1\n"
     ]
    },
    {
     "name": "stderr",
     "output_type": "stream",
     "text": [
      "Processing rows:  91%|█████████ | 1090/1200 [50:08<07:22,  4.02s/it]"
     ]
    },
    {
     "name": "stdout",
     "output_type": "stream",
     "text": [
      "tivi,650000,None,None,None,Ho Chi Minh,None,16500,None,75,100,0,0,0,0,0\n"
     ]
    },
    {
     "name": "stderr",
     "output_type": "stream",
     "text": [
      "Processing rows:  91%|█████████ | 1091/1200 [50:12<07:01,  3.87s/it]"
     ]
    },
    {
     "name": "stdout",
     "output_type": "stream",
     "text": [
      "tivi,1800000,None,35,13,Ho Chi Minh,None,74700,85,100,65,0,0,0,1,13\n"
     ]
    },
    {
     "name": "stderr",
     "output_type": "stream",
     "text": [
      "Processing rows:  91%|█████████ | 1092/1200 [50:15<06:21,  3.54s/it]"
     ]
    },
    {
     "name": "stdout",
     "output_type": "stream",
     "text": [
      "tivi,11392000,None,99,54,Ho Chi Minh,13290000,0,96,100,100,0,1,0,1,53\n"
     ]
    },
    {
     "name": "stderr",
     "output_type": "stream",
     "text": [
      "Processing rows:  91%|█████████ | 1093/1200 [50:17<05:46,  3.24s/it]"
     ]
    },
    {
     "name": "stdout",
     "output_type": "stream",
     "text": [
      "tivi,1499000,None,234,112,Ho Chi Minh,1899000,27300,98,None,100,3,0,2,12,95\n"
     ]
    },
    {
     "name": "stderr",
     "output_type": "stream",
     "text": [
      "Processing rows:  91%|█████████ | 1094/1200 [50:19<05:05,  2.88s/it]"
     ]
    },
    {
     "name": "stdout",
     "output_type": "stream",
     "text": [
      "tivi,3290000,None,9,4,Ho Chi Minh,3990000,74700,85,100,65,0,0,0,1,3\n"
     ]
    },
    {
     "name": "stderr",
     "output_type": "stream",
     "text": [
      "Processing rows:  91%|█████████▏| 1095/1200 [50:24<06:08,  3.51s/it]"
     ]
    },
    {
     "name": "stdout",
     "output_type": "stream",
     "text": [
      "tivi,2500000,None,10,7,Ho Chi Minh,None,74700,85,100,65,0,0,0,1,5\n"
     ]
    },
    {
     "name": "stderr",
     "output_type": "stream",
     "text": [
      "Processing rows:  91%|█████████▏| 1096/1200 [50:28<06:12,  3.58s/it]"
     ]
    },
    {
     "name": "stdout",
     "output_type": "stream",
     "text": [
      "tivi,1396646,None,81,33,Ha Noi,1530000,198200,91,95,93,0,0,0,2,31\n"
     ]
    },
    {
     "name": "stderr",
     "output_type": "stream",
     "text": [
      "Processing rows:  91%|█████████▏| 1097/1200 [50:31<05:52,  3.42s/it]"
     ]
    },
    {
     "name": "stdout",
     "output_type": "stream",
     "text": [
      "tivi,2300000,None,None,1,Ho Chi Minh,None,74700,85,100,65,0,0,0,0,1\n"
     ]
    },
    {
     "name": "stderr",
     "output_type": "stream",
     "text": [
      "Processing rows:  92%|█████████▏| 1098/1200 [50:34<05:25,  3.19s/it]"
     ]
    },
    {
     "name": "stdout",
     "output_type": "stream",
     "text": [
      "tivi,950000,None,None,None,Nghệ An,None,202600,94,None,None,0,0,0,0,0\n"
     ]
    },
    {
     "name": "stderr",
     "output_type": "stream",
     "text": [
      "Processing rows:  92%|█████████▏| 1099/1200 [50:37<05:21,  3.18s/it]"
     ]
    },
    {
     "name": "stdout",
     "output_type": "stream",
     "text": [
      "tivi,4190000,None,None,None,Ho Chi Minh,7690000,131600,None,None,100,0,0,0,0,0\n"
     ]
    },
    {
     "name": "stderr",
     "output_type": "stream",
     "text": [
      "Processing rows:  92%|█████████▏| 1100/1200 [50:41<05:59,  3.59s/it]"
     ]
    },
    {
     "name": "stdout",
     "output_type": "stream",
     "text": [
      "tivi,1750000,None,None,1,Ho Chi Minh,1950000,71100,85,100,65,0,0,0,0,1\n"
     ]
    },
    {
     "name": "stderr",
     "output_type": "stream",
     "text": [
      "Processing rows:  92%|█████████▏| 1101/1200 [50:44<05:25,  3.29s/it]"
     ]
    },
    {
     "name": "stdout",
     "output_type": "stream",
     "text": [
      "tivi,2280000,None,22,10,Ho Chi Minh,2990000,0,99,100,100,0,0,0,0,10\n"
     ]
    },
    {
     "name": "stderr",
     "output_type": "stream",
     "text": [
      "Processing rows:  92%|█████████▏| 1102/1200 [50:48<05:50,  3.57s/it]"
     ]
    },
    {
     "name": "stdout",
     "output_type": "stream",
     "text": [
      "tivi,230000,None,5,1,Ho Chi Minh,None,16500,99,100,None,0,0,0,1,0\n"
     ]
    },
    {
     "name": "stderr",
     "output_type": "stream",
     "text": [
      "Processing rows:  92%|█████████▏| 1103/1200 [50:50<05:10,  3.20s/it]"
     ]
    },
    {
     "name": "stdout",
     "output_type": "stream",
     "text": [
      "tivi,98000,None,None,None,Ho Chi Minh,None,0,94,100,None,0,0,0,0,0\n"
     ]
    },
    {
     "name": "stderr",
     "output_type": "stream",
     "text": [
      "Processing rows:  92%|█████████▏| 1104/1200 [50:53<04:33,  2.85s/it]"
     ]
    },
    {
     "name": "stdout",
     "output_type": "stream",
     "text": [
      "tivi,2000000,None,None,None,Bac Giang,None,63300,None,None,None,0,0,0,0,0\n"
     ]
    },
    {
     "name": "stderr",
     "output_type": "stream",
     "text": [
      "Processing rows:  92%|█████████▏| 1105/1200 [50:55<04:28,  2.83s/it]"
     ]
    },
    {
     "name": "stdout",
     "output_type": "stream",
     "text": [
      "tivi,1550000,None,None,None,Binh Duong,None,74700,None,None,None,0,0,0,0,0\n"
     ]
    },
    {
     "name": "stderr",
     "output_type": "stream",
     "text": [
      "Processing rows:  92%|█████████▏| 1106/1200 [51:00<05:26,  3.47s/it]"
     ]
    },
    {
     "name": "stdout",
     "output_type": "stream",
     "text": [
      "tivi,1250000,None,7,5,Ha Noi,None,125300,91,95,93,0,0,0,0,5\n"
     ]
    },
    {
     "name": "stderr",
     "output_type": "stream",
     "text": [
      "Processing rows:  92%|█████████▏| 1107/1200 [51:03<05:08,  3.32s/it]"
     ]
    },
    {
     "name": "stdout",
     "output_type": "stream",
     "text": [
      "tivi,260000,None,None,None,Ho Chi Minh,None,16500,99,100,None,0,0,0,0,0\n"
     ]
    },
    {
     "name": "stderr",
     "output_type": "stream",
     "text": [
      "Processing rows:  92%|█████████▏| 1108/1200 [51:06<04:42,  3.07s/it]"
     ]
    },
    {
     "name": "stdout",
     "output_type": "stream",
     "text": [
      "tivi,200000,None,11,7,Ho Chi Minh,None,16500,99,100,None,0,0,0,0,6\n"
     ]
    },
    {
     "name": "stderr",
     "output_type": "stream",
     "text": [
      "Processing rows:  92%|█████████▏| 1109/1200 [51:08<04:30,  2.97s/it]"
     ]
    },
    {
     "name": "stdout",
     "output_type": "stream",
     "text": [
      "tivi,2990000,None,None,None,Ho Chi Minh,5590000,59400,None,None,None,0,0,0,0,0\n"
     ]
    },
    {
     "name": "stderr",
     "output_type": "stream",
     "text": [
      "Processing rows:  92%|█████████▎| 1110/1200 [51:12<04:39,  3.11s/it]"
     ]
    },
    {
     "name": "stdout",
     "output_type": "stream",
     "text": [
      "tivi,390000,None,6,1,Ho Chi Minh,None,16500,99,100,None,0,0,0,0,1\n"
     ]
    },
    {
     "name": "stderr",
     "output_type": "stream",
     "text": [
      "Processing rows:  93%|█████████▎| 1111/1200 [51:18<05:49,  3.92s/it]"
     ]
    },
    {
     "name": "stdout",
     "output_type": "stream",
     "text": [
      "tivi,95000,None,None,None,Ho Chi Minh,None,16500,94,100,None,0,0,0,0,0\n"
     ]
    },
    {
     "name": "stderr",
     "output_type": "stream",
     "text": [
      "Processing rows:  93%|█████████▎| 1112/1200 [51:21<05:20,  3.64s/it]"
     ]
    },
    {
     "name": "stdout",
     "output_type": "stream",
     "text": [
      "tivi,450000,None,None,None,Ha Noi,None,32700,96,100,66,0,0,0,0,0\n"
     ]
    },
    {
     "name": "stderr",
     "output_type": "stream",
     "text": [
      "Processing rows:  93%|█████████▎| 1113/1200 [51:24<05:06,  3.53s/it]"
     ]
    },
    {
     "name": "stdout",
     "output_type": "stream",
     "text": [
      "tivi,145751,None,12,5,Ha Noi,149000,38000,97,96,70,0,0,0,0,5\n"
     ]
    },
    {
     "name": "stderr",
     "output_type": "stream",
     "text": [
      "Processing rows:  93%|█████████▎| 1114/1200 [51:27<04:40,  3.26s/it]"
     ]
    },
    {
     "name": "stdout",
     "output_type": "stream",
     "text": [
      "tivi,500000,None,None,None,Ho Chi Minh,None,18300,None,75,100,0,0,0,0,0\n"
     ]
    },
    {
     "name": "stderr",
     "output_type": "stream",
     "text": [
      "Processing rows:  93%|█████████▎| 1115/1200 [51:30<04:30,  3.19s/it]"
     ]
    },
    {
     "name": "stdout",
     "output_type": "stream",
     "text": [
      "tivi,2780000,None,None,2,Ho Chi Minh,None,31600,100,None,66,0,0,0,0,2\n"
     ]
    },
    {
     "name": "stderr",
     "output_type": "stream",
     "text": [
      "Processing rows:  93%|█████████▎| 1116/1200 [51:33<04:32,  3.24s/it]"
     ]
    },
    {
     "name": "stdout",
     "output_type": "stream",
     "text": [
      "tivi,12490000,13,2,Ho Chi Minh,13990000,0,96,100,100,0,0,1,0,1\n"
     ]
    },
    {
     "name": "stderr",
     "output_type": "stream",
     "text": [
      "Processing rows:  93%|█████████▎| 1117/1200 [51:36<04:22,  3.16s/it]"
     ]
    },
    {
     "name": "stdout",
     "output_type": "stream",
     "text": [
      "tivi,2390975,None,None,None,Ha Noi,2500000,198200,91,95,93,0,0,0,0,0\n"
     ]
    },
    {
     "name": "stderr",
     "output_type": "stream",
     "text": [
      "Processing rows:  93%|█████████▎| 1118/1200 [51:40<04:43,  3.46s/it]"
     ]
    },
    {
     "name": "stdout",
     "output_type": "stream",
     "text": [
      "tivi,1675000,None,None,None,Ha Noi,1875000,198200,91,90,96,0,0,0,0,0\n"
     ]
    },
    {
     "name": "stderr",
     "output_type": "stream",
     "text": [
      "Processing rows:  93%|█████████▎| 1119/1200 [51:44<05:01,  3.72s/it]"
     ]
    },
    {
     "name": "stdout",
     "output_type": "stream",
     "text": [
      "tivi,10689000,None,None,None,Ha Noi,15990000,None,None,None,100,0,0,0,0,0\n"
     ]
    },
    {
     "name": "stderr",
     "output_type": "stream",
     "text": [
      "Processing rows:  93%|█████████▎| 1120/1200 [51:49<05:14,  3.93s/it]"
     ]
    },
    {
     "name": "stdout",
     "output_type": "stream",
     "text": [
      "tivi,250000,None,None,None,Tien Giang,None,28700,96,100,100,0,0,0,0,0\n"
     ]
    },
    {
     "name": "stderr",
     "output_type": "stream",
     "text": [
      "Processing rows:  93%|█████████▎| 1121/1200 [51:52<04:55,  3.75s/it]"
     ]
    },
    {
     "name": "stdout",
     "output_type": "stream",
     "text": [
      "tivi,2250000,None,59,20,Dong Thap,None,65500,97,95,75,0,0,0,4,16\n"
     ]
    },
    {
     "name": "stderr",
     "output_type": "stream",
     "text": [
      "Processing rows:  94%|█████████▎| 1122/1200 [51:55<04:34,  3.52s/it]"
     ]
    },
    {
     "name": "stdout",
     "output_type": "stream",
     "text": [
      "tivi,6390000,NaN,49,18,Ho Chi Minh,7900000,NaN,99,NaN,97,0,0,0,0,19\n"
     ]
    },
    {
     "name": "stderr",
     "output_type": "stream",
     "text": [
      "Processing rows:  94%|█████████▎| 1123/1200 [51:59<04:29,  3.50s/it]"
     ]
    },
    {
     "name": "stdout",
     "output_type": "stream",
     "text": [
      "tivi,61000,None,20,1,Da Nang,90000,32700,100,None,100,0,0,0,0,1\n"
     ]
    },
    {
     "name": "stderr",
     "output_type": "stream",
     "text": [
      "Processing rows:  94%|█████████▎| 1124/1200 [52:02<04:19,  3.41s/it]"
     ]
    },
    {
     "name": "stdout",
     "output_type": "stream",
     "text": [
      "tivi,200000,None,9,3,Vinh Long,None,36500,95,100,None,1,0,0,0,2\n"
     ]
    },
    {
     "name": "stderr",
     "output_type": "stream",
     "text": [
      "Processing rows:  94%|█████████▍| 1125/1200 [52:06<04:35,  3.67s/it]"
     ]
    },
    {
     "name": "stdout",
     "output_type": "stream",
     "text": [
      "tivi,45000,None,None,2,Ho Chi Minh,None,16500,96,97,52,0,0,0,0,2\n"
     ]
    },
    {
     "name": "stderr",
     "output_type": "stream",
     "text": [
      "Processing rows:  94%|█████████▍| 1126/1200 [52:10<04:45,  3.86s/it]"
     ]
    },
    {
     "name": "stdout",
     "output_type": "stream",
     "text": [
      "tivi,165000,None,None,3,Ha Tinh,None,43900,96,100,100,0,0,0,0,3\n"
     ]
    },
    {
     "name": "stderr",
     "output_type": "stream",
     "text": [
      "Processing rows:  94%|█████████▍| 1127/1200 [52:14<04:30,  3.71s/it]"
     ]
    },
    {
     "name": "stdout",
     "output_type": "stream",
     "text": [
      "tivi,5190000,None,5,3,Ha Noi,8290000,None,99,None,100,0,0,0,0,3\n"
     ]
    },
    {
     "name": "stderr",
     "output_type": "stream",
     "text": [
      "Processing rows:  94%|█████████▍| 1128/1200 [52:18<04:43,  3.94s/it]"
     ]
    },
    {
     "name": "stdout",
     "output_type": "stream",
     "text": [
      "tivi,2490000,None,None,None,Thái Bình,None,141300,None,None,None,0,0,0,0,0\n"
     ]
    },
    {
     "name": "stderr",
     "output_type": "stream",
     "text": [
      "Processing rows:  94%|█████████▍| 1129/1200 [52:21<04:23,  3.72s/it]"
     ]
    },
    {
     "name": "stdout",
     "output_type": "stream",
     "text": [
      "tivi,400000,None,None,None,Quang Nam,None,43900,94,71,75,0,0,0,0,0\n"
     ]
    },
    {
     "name": "stderr",
     "output_type": "stream",
     "text": [
      "Processing rows:  94%|█████████▍| 1130/1200 [52:27<04:48,  4.12s/it]"
     ]
    },
    {
     "name": "stdout",
     "output_type": "stream",
     "text": [
      "tivi,3280000,NaN,76,17,Ho Chi Minh,4290000,59400,98,100,100,0,0,0,0,17\n"
     ]
    },
    {
     "name": "stderr",
     "output_type": "stream",
     "text": [
      "Processing rows:  94%|█████████▍| 1131/1200 [52:30<04:25,  3.84s/it]"
     ]
    },
    {
     "name": "stdout",
     "output_type": "stream",
     "text": [
      "tivi,7641000,None,None,1,Ho Chi Minh,10990000,None,97,None,78,0,0,0,0,1\n"
     ]
    },
    {
     "name": "stderr",
     "output_type": "stream",
     "text": [
      "Processing rows:  94%|█████████▍| 1132/1200 [52:33<04:00,  3.54s/it]"
     ]
    },
    {
     "name": "stdout",
     "output_type": "stream",
     "text": [
      "tivi,28750000,None,None,None,Ho Chi Minh,38850000,None,100,None,None,0,0,0,0,0\n"
     ]
    },
    {
     "name": "stderr",
     "output_type": "stream",
     "text": [
      "Processing rows:  94%|█████████▍| 1133/1200 [52:37<04:13,  3.79s/it]"
     ]
    },
    {
     "name": "stdout",
     "output_type": "stream",
     "text": [
      "tivi,4699000,NaN,58,31,Ho Chi Minh,9000000,NaN,98,100,99,0,0,0,1,31\n"
     ]
    },
    {
     "name": "stderr",
     "output_type": "stream",
     "text": [
      "Processing rows:  94%|█████████▍| 1134/1200 [52:40<04:02,  3.68s/it]"
     ]
    },
    {
     "name": "stdout",
     "output_type": "stream",
     "text": [
      "tivi,320000,None,48,21,Tien Giang,None,32200,96,100,100,0,0,0,0,21\n"
     ]
    },
    {
     "name": "stderr",
     "output_type": "stream",
     "text": [
      "Processing rows:  95%|█████████▍| 1135/1200 [52:45<04:13,  3.90s/it]"
     ]
    },
    {
     "name": "stdout",
     "output_type": "stream",
     "text": [
      "tivi,310000,None,12,4,Ha Noi,None,32700,97,96,70,0,0,0,0,4\n"
     ]
    },
    {
     "name": "stderr",
     "output_type": "stream",
     "text": [
      "Processing rows:  95%|█████████▍| 1136/1200 [52:47<03:33,  3.34s/it]"
     ]
    },
    {
     "name": "stdout",
     "output_type": "stream",
     "text": [
      "tivi,7080000,None,None,None,Ho Chi Minh,10450000,None,100,None,None,0,0,0,0,0\n"
     ]
    },
    {
     "name": "stderr",
     "output_type": "stream",
     "text": [
      "Processing rows:  95%|█████████▍| 1137/1200 [52:49<03:10,  3.02s/it]"
     ]
    },
    {
     "name": "stdout",
     "output_type": "stream",
     "text": [
      "tivi,1819452,None,28,9,Ha Noi,1860000,198200,91,95,93,0,0,0,1,9\n"
     ]
    },
    {
     "name": "stderr",
     "output_type": "stream",
     "text": [
      "Processing rows:  95%|█████████▍| 1138/1200 [52:52<03:10,  3.07s/it]"
     ]
    },
    {
     "name": "stdout",
     "output_type": "stream",
     "text": [
      "tivi,4349000,None,None,None,Ho Chi Minh,5950000,None,100,None,None,0,0,0,0,0\n"
     ]
    },
    {
     "name": "stderr",
     "output_type": "stream",
     "text": [
      "Processing rows:  95%|█████████▍| 1139/1200 [52:55<02:58,  2.92s/it]"
     ]
    },
    {
     "name": "stdout",
     "output_type": "stream",
     "text": [
      "tivi,6100000,None,None,None,Ho Chi Minh,9900000,21600,None,None,100,0,0,0,0,0\n"
     ]
    },
    {
     "name": "stderr",
     "output_type": "stream",
     "text": [
      "Processing rows:  95%|█████████▍| 1139/1200 [52:56<02:50,  2.79s/it]"
     ]
    },
    {
     "name": "stdout",
     "output_type": "stream",
     "text": [
      "No choices found for row 1139\n"
     ]
    },
    {
     "name": "stderr",
     "output_type": "stream",
     "text": [
      "\n"
     ]
    }
   ],
   "source": [
    "#Chuyển row thành chuỗi ngăn cách nhau bởi dấu |\n",
    "def format_row(row):\n",
    "    return '|'.join(map(str, row.values))\\\n",
    "\n",
    "#LLM code\n",
    "results = []\n",
    "for index, row in tqdm(tivi.iterrows(), total=tivi.shape[0], desc=\"Processing rows\"):\n",
    "    formatted_data = format_row(row)\n",
    "    api_response = call_api(formatted_data)\n",
    "    \n",
    "    if 'choices' in api_response and api_response['choices']:\n",
    "        cleaned_data = api_response['choices'][0]['message']['content'].strip()\n",
    "        cleaned_data = cleaned_data.replace('Here is the standardized data:\\n\\n', '').replace('\\n', ',')\n",
    "        \n",
    "        print(cleaned_data)\n",
    "        results.append(cleaned_data.split(','))\n",
    "    else:\n",
    "        print(f\"No choices found for row {index}\")     #Nếu bị lỗi choices thì kết thúc vòng lặp\n",
    "        break"
   ]
  },
  {
   "cell_type": "code",
   "execution_count": 6,
   "metadata": {},
   "outputs": [
    {
     "data": {
      "text/html": [
       "<div>\n",
       "<style scoped>\n",
       "    .dataframe tbody tr th:only-of-type {\n",
       "        vertical-align: middle;\n",
       "    }\n",
       "\n",
       "    .dataframe tbody tr th {\n",
       "        vertical-align: top;\n",
       "    }\n",
       "\n",
       "    .dataframe thead th {\n",
       "        text-align: right;\n",
       "    }\n",
       "</style>\n",
       "<table border=\"1\" class=\"dataframe\">\n",
       "  <thead>\n",
       "    <tr style=\"text-align: right;\">\n",
       "      <th></th>\n",
       "      <th>Type</th>\n",
       "      <th>Price_sale</th>\n",
       "      <th>Sale_off</th>\n",
       "      <th>Total_sold</th>\n",
       "      <th>Preview</th>\n",
       "      <th>Location</th>\n",
       "      <th>Price_original</th>\n",
       "      <th>Ship_price</th>\n",
       "      <th>Sale_rating</th>\n",
       "      <th>Ship_on_time</th>\n",
       "      <th>Chat_response</th>\n",
       "      <th>One_star</th>\n",
       "      <th>Two_star</th>\n",
       "      <th>Three_star</th>\n",
       "      <th>Four_star</th>\n",
       "      <th>Five_star</th>\n",
       "    </tr>\n",
       "  </thead>\n",
       "  <tbody>\n",
       "    <tr>\n",
       "      <th>0</th>\n",
       "      <td>tivi</td>\n",
       "      <td>64690000</td>\n",
       "      <td>6</td>\n",
       "      <td>None</td>\n",
       "      <td>None</td>\n",
       "      <td>Ho Chi Minh</td>\n",
       "      <td>68790000</td>\n",
       "      <td>None</td>\n",
       "      <td>100</td>\n",
       "      <td>None</td>\n",
       "      <td>100</td>\n",
       "      <td>0</td>\n",
       "      <td>0</td>\n",
       "      <td>0</td>\n",
       "      <td>0</td>\n",
       "      <td>0</td>\n",
       "    </tr>\n",
       "    <tr>\n",
       "      <th>1</th>\n",
       "      <td>tivi</td>\n",
       "      <td>5389000</td>\n",
       "      <td>46</td>\n",
       "      <td>130</td>\n",
       "      <td>6</td>\n",
       "      <td>Ha Noi</td>\n",
       "      <td>9890000</td>\n",
       "      <td>None</td>\n",
       "      <td>100</td>\n",
       "      <td>None</td>\n",
       "      <td>100</td>\n",
       "      <td>0</td>\n",
       "      <td>0</td>\n",
       "      <td>0</td>\n",
       "      <td>0</td>\n",
       "      <td>6</td>\n",
       "    </tr>\n",
       "    <tr>\n",
       "      <th>2</th>\n",
       "      <td>tivi</td>\n",
       "      <td>920486</td>\n",
       "      <td>3</td>\n",
       "      <td>77</td>\n",
       "      <td>26</td>\n",
       "      <td>Ha Noi</td>\n",
       "      <td>950000</td>\n",
       "      <td>115100</td>\n",
       "      <td>91</td>\n",
       "      <td>95</td>\n",
       "      <td>92</td>\n",
       "      <td>0</td>\n",
       "      <td>0</td>\n",
       "      <td>0</td>\n",
       "      <td>2</td>\n",
       "      <td>24</td>\n",
       "    </tr>\n",
       "    <tr>\n",
       "      <th>3</th>\n",
       "      <td>tivi</td>\n",
       "      <td>3989000</td>\n",
       "      <td>50</td>\n",
       "      <td>None</td>\n",
       "      <td>None</td>\n",
       "      <td>Ha Noi</td>\n",
       "      <td>7990000</td>\n",
       "      <td>None</td>\n",
       "      <td>None</td>\n",
       "      <td>None</td>\n",
       "      <td>100</td>\n",
       "      <td>0</td>\n",
       "      <td>0</td>\n",
       "      <td>0</td>\n",
       "      <td>0</td>\n",
       "      <td>0</td>\n",
       "    </tr>\n",
       "    <tr>\n",
       "      <th>4</th>\n",
       "      <td>tivi</td>\n",
       "      <td>4689000</td>\n",
       "      <td>41</td>\n",
       "      <td>16</td>\n",
       "      <td>None</td>\n",
       "      <td>Ha Noi</td>\n",
       "      <td>7900000</td>\n",
       "      <td>None</td>\n",
       "      <td>100</td>\n",
       "      <td>None</td>\n",
       "      <td>100</td>\n",
       "      <td>0</td>\n",
       "      <td>0</td>\n",
       "      <td>0</td>\n",
       "      <td>0</td>\n",
       "      <td>1</td>\n",
       "    </tr>\n",
       "    <tr>\n",
       "      <th>...</th>\n",
       "      <td>...</td>\n",
       "      <td>...</td>\n",
       "      <td>...</td>\n",
       "      <td>...</td>\n",
       "      <td>...</td>\n",
       "      <td>...</td>\n",
       "      <td>...</td>\n",
       "      <td>...</td>\n",
       "      <td>...</td>\n",
       "      <td>...</td>\n",
       "      <td>...</td>\n",
       "      <td>...</td>\n",
       "      <td>...</td>\n",
       "      <td>...</td>\n",
       "      <td>...</td>\n",
       "      <td>...</td>\n",
       "    </tr>\n",
       "    <tr>\n",
       "      <th>1134</th>\n",
       "      <td>tivi</td>\n",
       "      <td>310000</td>\n",
       "      <td>None</td>\n",
       "      <td>12</td>\n",
       "      <td>4</td>\n",
       "      <td>Ha Noi</td>\n",
       "      <td>None</td>\n",
       "      <td>32700</td>\n",
       "      <td>97</td>\n",
       "      <td>96</td>\n",
       "      <td>70</td>\n",
       "      <td>0</td>\n",
       "      <td>0</td>\n",
       "      <td>0</td>\n",
       "      <td>0</td>\n",
       "      <td>4</td>\n",
       "    </tr>\n",
       "    <tr>\n",
       "      <th>1135</th>\n",
       "      <td>tivi</td>\n",
       "      <td>7080000</td>\n",
       "      <td>None</td>\n",
       "      <td>None</td>\n",
       "      <td>None</td>\n",
       "      <td>Ho Chi Minh</td>\n",
       "      <td>10450000</td>\n",
       "      <td>None</td>\n",
       "      <td>100</td>\n",
       "      <td>None</td>\n",
       "      <td>None</td>\n",
       "      <td>0</td>\n",
       "      <td>0</td>\n",
       "      <td>0</td>\n",
       "      <td>0</td>\n",
       "      <td>0</td>\n",
       "    </tr>\n",
       "    <tr>\n",
       "      <th>1136</th>\n",
       "      <td>tivi</td>\n",
       "      <td>1819452</td>\n",
       "      <td>None</td>\n",
       "      <td>28</td>\n",
       "      <td>9</td>\n",
       "      <td>Ha Noi</td>\n",
       "      <td>1860000</td>\n",
       "      <td>198200</td>\n",
       "      <td>91</td>\n",
       "      <td>95</td>\n",
       "      <td>93</td>\n",
       "      <td>0</td>\n",
       "      <td>0</td>\n",
       "      <td>0</td>\n",
       "      <td>1</td>\n",
       "      <td>9</td>\n",
       "    </tr>\n",
       "    <tr>\n",
       "      <th>1137</th>\n",
       "      <td>tivi</td>\n",
       "      <td>4349000</td>\n",
       "      <td>None</td>\n",
       "      <td>None</td>\n",
       "      <td>None</td>\n",
       "      <td>Ho Chi Minh</td>\n",
       "      <td>5950000</td>\n",
       "      <td>None</td>\n",
       "      <td>100</td>\n",
       "      <td>None</td>\n",
       "      <td>None</td>\n",
       "      <td>0</td>\n",
       "      <td>0</td>\n",
       "      <td>0</td>\n",
       "      <td>0</td>\n",
       "      <td>0</td>\n",
       "    </tr>\n",
       "    <tr>\n",
       "      <th>1138</th>\n",
       "      <td>tivi</td>\n",
       "      <td>6100000</td>\n",
       "      <td>None</td>\n",
       "      <td>None</td>\n",
       "      <td>None</td>\n",
       "      <td>Ho Chi Minh</td>\n",
       "      <td>9900000</td>\n",
       "      <td>21600</td>\n",
       "      <td>None</td>\n",
       "      <td>None</td>\n",
       "      <td>100</td>\n",
       "      <td>0</td>\n",
       "      <td>0</td>\n",
       "      <td>0</td>\n",
       "      <td>0</td>\n",
       "      <td>0</td>\n",
       "    </tr>\n",
       "  </tbody>\n",
       "</table>\n",
       "<p>1139 rows × 16 columns</p>\n",
       "</div>"
      ],
      "text/plain": [
       "      Type Price_sale Sale_off Total_sold Preview     Location Price_original  \\\n",
       "0     tivi   64690000        6       None    None  Ho Chi Minh       68790000   \n",
       "1     tivi    5389000       46        130       6       Ha Noi        9890000   \n",
       "2     tivi     920486        3         77      26       Ha Noi         950000   \n",
       "3     tivi    3989000       50       None    None       Ha Noi        7990000   \n",
       "4     tivi    4689000       41         16    None       Ha Noi        7900000   \n",
       "...    ...        ...      ...        ...     ...          ...            ...   \n",
       "1134  tivi     310000     None         12       4       Ha Noi           None   \n",
       "1135  tivi    7080000     None       None    None  Ho Chi Minh       10450000   \n",
       "1136  tivi    1819452     None         28       9       Ha Noi        1860000   \n",
       "1137  tivi    4349000     None       None    None  Ho Chi Minh        5950000   \n",
       "1138  tivi    6100000     None       None    None  Ho Chi Minh        9900000   \n",
       "\n",
       "     Ship_price Sale_rating Ship_on_time Chat_response One_star Two_star  \\\n",
       "0          None         100         None           100        0        0   \n",
       "1          None         100         None           100        0        0   \n",
       "2        115100          91           95            92        0        0   \n",
       "3          None        None         None           100        0        0   \n",
       "4          None         100         None           100        0        0   \n",
       "...         ...         ...          ...           ...      ...      ...   \n",
       "1134      32700          97           96            70        0        0   \n",
       "1135       None         100         None          None        0        0   \n",
       "1136     198200          91           95            93        0        0   \n",
       "1137       None         100         None          None        0        0   \n",
       "1138      21600        None         None           100        0        0   \n",
       "\n",
       "     Three_star Four_star Five_star  \n",
       "0             0         0         0  \n",
       "1             0         0         6  \n",
       "2             0         2        24  \n",
       "3             0         0         0  \n",
       "4             0         0         1  \n",
       "...         ...       ...       ...  \n",
       "1134          0         0         4  \n",
       "1135          0         0         0  \n",
       "1136          0         1         9  \n",
       "1137          0         0         0  \n",
       "1138          0         0         0  \n",
       "\n",
       "[1139 rows x 16 columns]"
      ]
     },
     "execution_count": 6,
     "metadata": {},
     "output_type": "execute_result"
    }
   ],
   "source": [
    "cleaned_df = pd.DataFrame(results, columns=tivi.columns)\n",
    "cleaned_df"
   ]
  },
  {
   "cell_type": "code",
   "execution_count": 14,
   "metadata": {},
   "outputs": [],
   "source": [
    "#Còn thiếu 61 rows\n",
    "tivi_lack = tivi.iloc[1139:, :]"
   ]
  },
  {
   "cell_type": "code",
   "execution_count": 15,
   "metadata": {},
   "outputs": [],
   "source": [
    "#Tạo API mới\n",
    "s = requests.Session()\n",
    "\n",
    "api_base = \"https://api.endpoints.anyscale.com/v1\"\n",
    "# Replace with long-lived credentials for production\n",
    "token = \"esecret_sbtbku3acce7j3huyaz24zbixp\"\n",
    "url = f\"{api_base}/chat/completions\""
   ]
  },
  {
   "cell_type": "code",
   "execution_count": 16,
   "metadata": {},
   "outputs": [],
   "source": [
    "def call_api_lack(formatted_data):\n",
    "    body = {\n",
    "    \"model\": \"meta-llama/Meta-Llama-3-70B-Instruct\",\n",
    "    \"messages\": [\n",
    "        {\n",
    "        \"role\": \"user\",\n",
    "        \"content\": \"Bạn là trợ lí ảo về AI và có khả năng chuẩn hóa data 1 cách chính xác nhất\"\n",
    "        },\n",
    "        {\n",
    "        \"role\": \"assistant\",\n",
    "        \"content\": \"Nice to meet you! As a virtual assistant specializing in AI and data standardization, I'm here to help you with any data-related tasks. My capabilities include:\\n\\n1. **Data Cleaning**: I can identify and correct errors, inconsistencies, and inaccuracies in your data, ensuring it's reliable and trustworthy.\\n2. **Data Normalization**: I can transform your data into a consistent format, making it easier to analyze, process, and store.\\n3. **Data Standardization**: I can apply standardized formats, codes, and conventions to your data, enabling seamless integration and comparison across different systems and datasets.\\n4. **Data Transformation**: I can convert your data from one format to another, such as from CSV to JSON or from Excel to SQL, while preserving its integrity and structure.\\n5. **Data Quality Control**: I can perform checks and balances to ensure your data meets specific quality standards, detecting and correcting errors, duplicates, or inconsistencies.\\n6. **Data Enrichment**: I can enhance your data by adding missing information, filling gaps, or appending relevant data from external sources, making it more comprehensive and valuable.\\n7. **Data Validation**: I can verify the accuracy and consistency of your data against predefined rules, constraints, or reference data, ensuring it conforms to\"\n",
    "        },\n",
    "        {\n",
    "        \"role\": \"user\",\n",
    "        \"content\": \"\\\"Mỗi mục dữ liệu được ngăn cách bởi dấu |. Không bỏ bất kì 1 mục nào, không thêm bất kỳ mục nào, hãy chuẩn hóa thông tin về dạng:\\nkhông dấu, số, số, số, số, không dấu, số, số, số, số, số, số, số, số, số, số\\nNếu là None thì kết quả ghi là None.\\nNgăn cách các giá trị bằng dấu phẩy.Không giải thích output, output trả về đúng 16 cột\\n\\ntivi  |  41.990.000 ₫  |  7% Off  |  11 Đã bán  |  NaN  |  Hồ Chí Minh  |  44.990.000 ₫ |  20.100 ₫  |  99%  |  100%  |  75%  |  0  |  0  |  0  |  0  |  0\\\"\"\n",
    "        },\n",
    "        {\n",
    "        \"role\": \"assistant\",\n",
    "        \"content\": \"Here is the standardized output:\\n\\ntivi,41990000,7,11,None,Ho Chi Minh,44990000,20100,99,100,75,0,0,0,0,0\"\n",
    "        },\n",
    "        {\n",
    "            \"role\": \"user\",\n",
    "            \"content\": f\"{formatted_data}\"\n",
    "        },\n",
    "    ],\n",
    "    \"temperature\": 0,\n",
    "    \"max_tokens\": 256,\n",
    "    \"top_p\": 1,\n",
    "    \"frequency_penalty\": 0\n",
    "    }\n",
    "    response = s.post(url, headers={\"Authorization\": f\"Bearer {token}\"}, json=body)\n",
    "    return response.json()"
   ]
  },
  {
   "cell_type": "code",
   "execution_count": 17,
   "metadata": {},
   "outputs": [
    {
     "name": "stderr",
     "output_type": "stream",
     "text": [
      "Processing rows:   2%|▏         | 1/61 [00:04<04:13,  4.23s/it]"
     ]
    },
    {
     "name": "stdout",
     "output_type": "stream",
     "text": [
      "tivi,6490000,None,None,None,Ho Chi Minh,11490000,131600,None,None,100,0,0,0,0,0\n"
     ]
    },
    {
     "name": "stderr",
     "output_type": "stream",
     "text": [
      "Processing rows:   3%|▎         | 2/61 [00:07<03:29,  3.56s/it]"
     ]
    },
    {
     "name": "stdout",
     "output_type": "stream",
     "text": [
      "tivi,2790000,None,None,None,Ho Chi Minh,None,46000,100,None,66,0,0,0,0,0\n"
     ]
    },
    {
     "name": "stderr",
     "output_type": "stream",
     "text": [
      "Processing rows:   5%|▍         | 3/61 [00:10<03:16,  3.38s/it]"
     ]
    },
    {
     "name": "stdout",
     "output_type": "stream",
     "text": [
      "tivi,5590000,None,5,None,Ho Chi Minh,None,None,99,None,100,0,0,0,0,0\n"
     ]
    },
    {
     "name": "stderr",
     "output_type": "stream",
     "text": [
      "Processing rows:   7%|▋         | 4/61 [00:13<03:15,  3.43s/it]"
     ]
    },
    {
     "name": "stdout",
     "output_type": "stream",
     "text": [
      "tivi,2350000,None,18,9,Ha Noi,None,135500,91,95,93,0,1,0,1,7\n"
     ]
    },
    {
     "name": "stderr",
     "output_type": "stream",
     "text": [
      "Processing rows:   8%|▊         | 5/61 [00:15<02:41,  2.88s/it]"
     ]
    },
    {
     "name": "stdout",
     "output_type": "stream",
     "text": [
      "tivi,1850000,None,38,14,Ha Noi,None,198200,91,95,93,1,0,1,4,9\n"
     ]
    },
    {
     "name": "stderr",
     "output_type": "stream",
     "text": [
      "Processing rows:  10%|▉         | 6/61 [00:18<02:36,  2.85s/it]"
     ]
    },
    {
     "name": "stdout",
     "output_type": "stream",
     "text": [
      "tivi,171005000,None,None,None,Ho Chi Minh,179900000,None,92,None,100,0,0,0,0,0\n"
     ]
    },
    {
     "name": "stderr",
     "output_type": "stream",
     "text": [
      "Processing rows:  11%|█▏        | 7/61 [00:21<02:31,  2.81s/it]"
     ]
    },
    {
     "name": "stdout",
     "output_type": "stream",
     "text": [
      "tivi,1500000,None,None,1,Ho Chi Minh,1700000,71100,92,None,80,0,0,1,0,1\n"
     ]
    },
    {
     "name": "stderr",
     "output_type": "stream",
     "text": [
      "Processing rows:  13%|█▎        | 8/61 [00:23<02:17,  2.60s/it]"
     ]
    },
    {
     "name": "stdout",
     "output_type": "stream",
     "text": [
      "tivi,9900000,None,5,None,Ho Chi Minh,17800000,238400,85,50,100,0,0,0,0,0\n"
     ]
    },
    {
     "name": "stderr",
     "output_type": "stream",
     "text": [
      "Processing rows:  15%|█▍        | 9/61 [00:26<02:25,  2.80s/it]"
     ]
    },
    {
     "name": "stdout",
     "output_type": "stream",
     "text": [
      "tivi,3600000,None,None,1,Ha Noi,None,206800,91,95,93,0,0,0,0,1\n"
     ]
    },
    {
     "name": "stderr",
     "output_type": "stream",
     "text": [
      "Processing rows:  16%|█▋        | 10/61 [00:29<02:25,  2.85s/it]"
     ]
    },
    {
     "name": "stdout",
     "output_type": "stream",
     "text": [
      "tivi,9600000,None,None,None,Ho Chi Minh,None,46000,100,100,100,0,0,0,0,0\n"
     ]
    },
    {
     "name": "stderr",
     "output_type": "stream",
     "text": [
      "Processing rows:  18%|█▊        | 11/61 [00:32<02:28,  2.97s/it]"
     ]
    },
    {
     "name": "stdout",
     "output_type": "stream",
     "text": [
      "tivi,4263100,NaN,19,5,Ho Chi Minh,5805000,NaN,98,100,99,0,0,1,0,4\n"
     ]
    },
    {
     "name": "stderr",
     "output_type": "stream",
     "text": [
      "Processing rows:  20%|█▉        | 12/61 [00:37<02:51,  3.50s/it]"
     ]
    },
    {
     "name": "stdout",
     "output_type": "stream",
     "text": [
      "tivi,330000,None,6,3,Tien Giang,None,28700,96,100,100,0,0,0,0,3\n"
     ]
    },
    {
     "name": "stderr",
     "output_type": "stream",
     "text": [
      "Processing rows:  21%|██▏       | 13/61 [00:40<02:40,  3.34s/it]"
     ]
    },
    {
     "name": "stdout",
     "output_type": "stream",
     "text": [
      "tivi,320000,None,7,3,Tien Giang,None,28700,96,100,100,0,0,0,0,3\n"
     ]
    },
    {
     "name": "stderr",
     "output_type": "stream",
     "text": [
      "Processing rows:  23%|██▎       | 14/61 [00:44<02:48,  3.59s/it]"
     ]
    },
    {
     "name": "stdout",
     "output_type": "stream",
     "text": [
      "tivi,1150000,None,14,2,Ho Chi Minh,None,71100,92,None,80,1,0,0,0,2\n"
     ]
    },
    {
     "name": "stderr",
     "output_type": "stream",
     "text": [
      "Processing rows:  25%|██▍       | 15/61 [00:47<02:27,  3.21s/it]"
     ]
    },
    {
     "name": "stdout",
     "output_type": "stream",
     "text": [
      "tivi,1650000,None,None,1,Ha Noi,None,206800,91,95,93,0,0,0,0,1\n"
     ]
    },
    {
     "name": "stderr",
     "output_type": "stream",
     "text": [
      "Processing rows:  26%|██▌       | 16/61 [00:49<02:13,  2.97s/it]"
     ]
    },
    {
     "name": "stdout",
     "output_type": "stream",
     "text": [
      "tivi,3709000,NaN,10,3,Ho Chi Minh,6000000,NaN,98,100,99,0,0,0,0,3\n"
     ]
    },
    {
     "name": "stderr",
     "output_type": "stream",
     "text": [
      "Processing rows:  28%|██▊       | 17/61 [00:52<02:12,  3.00s/it]"
     ]
    },
    {
     "name": "stdout",
     "output_type": "stream",
     "text": [
      "tivi,169000,None,None,1,Ha Noi,None,38000,97,96,70,0,0,0,0,1\n"
     ]
    },
    {
     "name": "stderr",
     "output_type": "stream",
     "text": [
      "Processing rows:  30%|██▉       | 18/61 [00:55<02:02,  2.85s/it]"
     ]
    },
    {
     "name": "stdout",
     "output_type": "stream",
     "text": [
      "tivi,5380000,None,None,None,Ha Noi,None,206800,91,95,93,0,0,0,0,0\n"
     ]
    },
    {
     "name": "stderr",
     "output_type": "stream",
     "text": [
      "Processing rows:  31%|███       | 19/61 [00:57<01:57,  2.80s/it]"
     ]
    },
    {
     "name": "stdout",
     "output_type": "stream",
     "text": [
      "tivi,2380000,None,None,3,Ho Chi Minh,None,0,100,None,66,0,0,0,0,3\n"
     ]
    },
    {
     "name": "stderr",
     "output_type": "stream",
     "text": [
      "Processing rows:  33%|███▎      | 20/61 [01:00<01:53,  2.77s/it]"
     ]
    },
    {
     "name": "stdout",
     "output_type": "stream",
     "text": [
      "tivi,6490000,None,None,None,Ho Chi Minh,14990000,131600,None,None,None,0,0,0,0,0\n"
     ]
    },
    {
     "name": "stderr",
     "output_type": "stream",
     "text": [
      "Processing rows:  34%|███▍      | 21/61 [01:03<01:51,  2.79s/it]"
     ]
    },
    {
     "name": "stdout",
     "output_type": "stream",
     "text": [
      "tivi,350000,None,None,None,Quang Nam,None,37700,94,71,75,0,0,0,0,0\n"
     ]
    },
    {
     "name": "stderr",
     "output_type": "stream",
     "text": [
      "Processing rows:  36%|███▌      | 22/61 [01:06<01:47,  2.76s/it]"
     ]
    },
    {
     "name": "stdout",
     "output_type": "stream",
     "text": [
      "tivi,64690000,None,None,None,Ho Chi Minh,68790000,None,100,None,None,0,0,0,0,0\n"
     ]
    },
    {
     "name": "stderr",
     "output_type": "stream",
     "text": [
      "Processing rows:  38%|███▊      | 23/61 [01:09<01:53,  3.00s/it]"
     ]
    },
    {
     "name": "stdout",
     "output_type": "stream",
     "text": [
      "tivi,3863890,None,17,11,Ha Noi,3950000,198200,91,95,93,0,0,0,0,11\n"
     ]
    },
    {
     "name": "stderr",
     "output_type": "stream",
     "text": [
      "Processing rows:  39%|███▉      | 24/61 [01:12<01:53,  3.08s/it]"
     ]
    },
    {
     "name": "stdout",
     "output_type": "stream",
     "text": [
      "tivi,2990000,None,617,207,Ha Noi,4799000,None,98,None,None,4,0,3,4,196\n"
     ]
    },
    {
     "name": "stderr",
     "output_type": "stream",
     "text": [
      "Processing rows:  41%|████      | 25/61 [01:16<01:51,  3.10s/it]"
     ]
    },
    {
     "name": "stdout",
     "output_type": "stream",
     "text": [
      "tivi,2990000,None,189,57,Ha Noi,5490000,None,98,None,None,0,0,0,0,58\n"
     ]
    },
    {
     "name": "stderr",
     "output_type": "stream",
     "text": [
      "Processing rows:  43%|████▎     | 26/61 [01:18<01:44,  2.99s/it]"
     ]
    },
    {
     "name": "stdout",
     "output_type": "stream",
     "text": [
      "tivi,2200950,None,61,28,Ha Noi,2600000,135500,91,95,93,2,0,0,1,25\n"
     ]
    },
    {
     "name": "stderr",
     "output_type": "stream",
     "text": [
      "Processing rows:  44%|████▍     | 27/61 [01:23<02:02,  3.60s/it]"
     ]
    },
    {
     "name": "stdout",
     "output_type": "stream",
     "text": [
      "tivi,5713000,NaN,463,178,Ho Chi Minh,8800000,NaN,97,NaN,78,1,2,2,5,169\n"
     ]
    },
    {
     "name": "stderr",
     "output_type": "stream",
     "text": [
      "Processing rows:  46%|████▌     | 28/61 [01:25<01:44,  3.17s/it]"
     ]
    },
    {
     "name": "stdout",
     "output_type": "stream",
     "text": [
      "tivi,5490000,None,None,None,Ho Chi Minh,None,146000,100,100,100,0,0,0,0,0\n"
     ]
    },
    {
     "name": "stderr",
     "output_type": "stream",
     "text": [
      "Processing rows:  48%|████▊     | 29/61 [01:28<01:35,  3.00s/it]"
     ]
    },
    {
     "name": "stdout",
     "output_type": "stream",
     "text": [
      "tivi,1750000,None,None,None,Phu Yen,None,212600,None,None,None,0,0,0,0,0\n"
     ]
    },
    {
     "name": "stderr",
     "output_type": "stream",
     "text": [
      "Processing rows:  49%|████▉     | 30/61 [01:30<01:27,  2.82s/it]"
     ]
    },
    {
     "name": "stdout",
     "output_type": "stream",
     "text": [
      "tivi,650000,None,None,None,Ho Chi Minh,None,18300,None,75,100,0,0,0,0,0\n"
     ]
    },
    {
     "name": "stderr",
     "output_type": "stream",
     "text": [
      "Processing rows:  51%|█████     | 31/61 [01:33<01:20,  2.70s/it]"
     ]
    },
    {
     "name": "stdout",
     "output_type": "stream",
     "text": [
      "tivi,8011000,NaN,28,10,Ho Chi Minh,11490000,NaN,97,NaN,78,0,0,0,0,11\n"
     ]
    },
    {
     "name": "stderr",
     "output_type": "stream",
     "text": [
      "Processing rows:  52%|█████▏    | 32/61 [01:35<01:16,  2.65s/it]"
     ]
    },
    {
     "name": "stdout",
     "output_type": "stream",
     "text": [
      "tivi,3958000,None,5,3,Ho Chi Minh,6990000,None,97,None,78,0,0,0,0,3\n"
     ]
    },
    {
     "name": "stderr",
     "output_type": "stream",
     "text": [
      "Processing rows:  54%|█████▍    | 33/61 [01:38<01:17,  2.76s/it]"
     ]
    },
    {
     "name": "stdout",
     "output_type": "stream",
     "text": [
      "tivi,6510000,None,None,None,Ha Noi,None,2689300,None,None,100,0,0,0,0,0\n"
     ]
    },
    {
     "name": "stderr",
     "output_type": "stream",
     "text": [
      "Processing rows:  56%|█████▌    | 34/61 [01:41<01:12,  2.69s/it]"
     ]
    },
    {
     "name": "stdout",
     "output_type": "stream",
     "text": [
      "tivi,1799000,NaN,276,134,Ho Chi Minh,2399000,30900,98,NaN,100,0,1,1,7,125\n"
     ]
    },
    {
     "name": "stderr",
     "output_type": "stream",
     "text": [
      "Processing rows:  57%|█████▋    | 35/61 [01:43<01:04,  2.46s/it]"
     ]
    },
    {
     "name": "stdout",
     "output_type": "stream",
     "text": [
      "tivi,8580000,None,None,None,Ho Chi Minh,11900000,None,100,None,None,0,0,0,0,0\n"
     ]
    },
    {
     "name": "stderr",
     "output_type": "stream",
     "text": [
      "Processing rows:  59%|█████▉    | 36/61 [01:46<01:04,  2.58s/it]"
     ]
    },
    {
     "name": "stdout",
     "output_type": "stream",
     "text": [
      "tivi,7490000,None,None,None,Ho Chi Minh,10490000,131600,None,None,100,0,0,0,0,0\n"
     ]
    },
    {
     "name": "stderr",
     "output_type": "stream",
     "text": [
      "Processing rows:  61%|██████    | 37/61 [01:49<01:04,  2.70s/it]"
     ]
    },
    {
     "name": "stdout",
     "output_type": "stream",
     "text": [
      "tivi,6200000,None,None,None,Ho Chi Minh,None,59400,None,None,None,0,0,0,0,0\n"
     ]
    },
    {
     "name": "stderr",
     "output_type": "stream",
     "text": [
      "Processing rows:  62%|██████▏   | 38/61 [01:52<01:05,  2.86s/it]"
     ]
    },
    {
     "name": "stdout",
     "output_type": "stream",
     "text": [
      "tivi,8290000,None,None,None,Ho Chi Minh,9900000,74700,None,100,66,0,0,0,0,0\n"
     ]
    },
    {
     "name": "stderr",
     "output_type": "stream",
     "text": [
      "Processing rows:  64%|██████▍   | 39/61 [01:55<01:02,  2.86s/it]"
     ]
    },
    {
     "name": "stdout",
     "output_type": "stream",
     "text": [
      "tivi,1400000,None,None,1,Ho Chi Minh,1700000,71100,92,None,80,0,0,0,0,1\n"
     ]
    },
    {
     "name": "stderr",
     "output_type": "stream",
     "text": [
      "Processing rows:  66%|██████▌   | 40/61 [01:57<00:54,  2.61s/it]"
     ]
    },
    {
     "name": "stdout",
     "output_type": "stream",
     "text": [
      "tivi,9989000,None,None,None,Ha Noi,14900000,None,100,None,88,0,0,0,0,0\n"
     ]
    },
    {
     "name": "stderr",
     "output_type": "stream",
     "text": [
      "Processing rows:  67%|██████▋   | 41/61 [01:59<00:51,  2.59s/it]"
     ]
    },
    {
     "name": "stdout",
     "output_type": "stream",
     "text": [
      "tivi,2380000,None,None,None,Ha Noi,None,2689300,None,None,100,0,0,0,0,0\n"
     ]
    },
    {
     "name": "stderr",
     "output_type": "stream",
     "text": [
      "Processing rows:  69%|██████▉   | 42/61 [02:03<00:52,  2.76s/it]"
     ]
    },
    {
     "name": "stdout",
     "output_type": "stream",
     "text": [
      "tivi,5990000,None,None,None,Ha Noi,9990000,None,100,None,88,0,0,0,0,0\n"
     ]
    },
    {
     "name": "stderr",
     "output_type": "stream",
     "text": [
      "Processing rows:  70%|███████   | 43/61 [02:05<00:48,  2.68s/it]"
     ]
    },
    {
     "name": "stdout",
     "output_type": "stream",
     "text": [
      "tivi,6500000,None,None,1,Ho Chi Minh,12300000,74700,85,50,100,0,0,0,0,1\n"
     ]
    },
    {
     "name": "stderr",
     "output_type": "stream",
     "text": [
      "Processing rows:  72%|███████▏  | 44/61 [02:08<00:45,  2.66s/it]"
     ]
    },
    {
     "name": "stdout",
     "output_type": "stream",
     "text": [
      "tivi,3490000,None,None,None,Ho Chi Minh,5990000,131600,None,None,100,0,0,0,0,0\n"
     ]
    },
    {
     "name": "stderr",
     "output_type": "stream",
     "text": [
      "Processing rows:  74%|███████▍  | 45/61 [02:10<00:40,  2.54s/it]"
     ]
    },
    {
     "name": "stdout",
     "output_type": "stream",
     "text": [
      "tivi,2150000,None,None,None,Ho Chi Minh,None,71100,92,None,80,0,0,0,0,0\n"
     ]
    },
    {
     "name": "stderr",
     "output_type": "stream",
     "text": [
      "Processing rows:  75%|███████▌  | 46/61 [02:12<00:37,  2.48s/it]"
     ]
    },
    {
     "name": "stdout",
     "output_type": "stream",
     "text": [
      "tivi,6300000,None,None,None,Ha Noi,None,2689300,None,None,100,0,0,0,0,0\n"
     ]
    },
    {
     "name": "stderr",
     "output_type": "stream",
     "text": [
      "Processing rows:  77%|███████▋  | 47/61 [02:15<00:35,  2.52s/it]"
     ]
    },
    {
     "name": "stdout",
     "output_type": "stream",
     "text": [
      "tivi,2200000,None,None,None,Ho Chi Minh,None,131600,92,None,80,0,0,0,0,0\n"
     ]
    },
    {
     "name": "stderr",
     "output_type": "stream",
     "text": [
      "Processing rows:  79%|███████▊  | 48/61 [02:17<00:31,  2.43s/it]"
     ]
    },
    {
     "name": "stdout",
     "output_type": "stream",
     "text": [
      "tivi,2990000,None,None,None,Ba Ria Vung Tau,None,81800,95,63,None,0,0,0,0,0\n"
     ]
    },
    {
     "name": "stderr",
     "output_type": "stream",
     "text": [
      "Processing rows:  80%|████████  | 49/61 [02:19<00:27,  2.32s/it]"
     ]
    },
    {
     "name": "stdout",
     "output_type": "stream",
     "text": [
      "tivi,1000000,None,None,None,Ho Chi Minh,None,16500,None,None,None,0,0,0,0,0\n"
     ]
    },
    {
     "name": "stderr",
     "output_type": "stream",
     "text": [
      "Processing rows:  82%|████████▏ | 50/61 [02:21<00:25,  2.33s/it]"
     ]
    },
    {
     "name": "stdout",
     "output_type": "stream",
     "text": [
      "tivi,13590000,None,None,3,Ha Noi,None,None,None,None,None,0,0,0,0,3\n"
     ]
    },
    {
     "name": "stderr",
     "output_type": "stream",
     "text": [
      "Processing rows:  84%|████████▎ | 51/61 [02:24<00:24,  2.41s/it]"
     ]
    },
    {
     "name": "stdout",
     "output_type": "stream",
     "text": [
      "tivi,1397000,None,None,4,Ha Noi,1499000,198200,91,90,96,0,0,0,0,4\n"
     ]
    },
    {
     "name": "stderr",
     "output_type": "stream",
     "text": [
      "Processing rows:  85%|████████▌ | 52/61 [02:27<00:21,  2.44s/it]"
     ]
    },
    {
     "name": "stdout",
     "output_type": "stream",
     "text": [
      "tivi,2000000,None,14,3,Ho Chi Minh,None,27300,100,None,50,0,0,0,0,3\n"
     ]
    },
    {
     "name": "stderr",
     "output_type": "stream",
     "text": [
      "Processing rows:  87%|████████▋ | 53/61 [02:30<00:20,  2.61s/it]"
     ]
    },
    {
     "name": "stdout",
     "output_type": "stream",
     "text": [
      "tivi,3690000,None,None,None,Ho Chi Minh,4750000,None,100,None,100,0,0,0,0,0\n"
     ]
    },
    {
     "name": "stderr",
     "output_type": "stream",
     "text": [
      "Processing rows:  89%|████████▊ | 54/61 [02:32<00:18,  2.61s/it]"
     ]
    },
    {
     "name": "stdout",
     "output_type": "stream",
     "text": [
      "tivi,1000000,None,None,None,Dong Nai,None,74700,None,None,None,0,0,0,0,0\n"
     ]
    },
    {
     "name": "stderr",
     "output_type": "stream",
     "text": [
      "Processing rows:  90%|█████████ | 55/61 [02:35<00:16,  2.69s/it]"
     ]
    },
    {
     "name": "stdout",
     "output_type": "stream",
     "text": [
      "tivi,1500000,None,None,1,Ha Noi,1580000,198200,91,90,96,0,0,0,0,1\n"
     ]
    },
    {
     "name": "stderr",
     "output_type": "stream",
     "text": [
      "Processing rows:  92%|█████████▏| 56/61 [02:38<00:13,  2.76s/it]"
     ]
    },
    {
     "name": "stdout",
     "output_type": "stream",
     "text": [
      "tivi,7990000,None,20,8,Binh Duong,None,None,96,100,100,0,0,0,0,9\n"
     ]
    },
    {
     "name": "stderr",
     "output_type": "stream",
     "text": [
      "Processing rows:  93%|█████████▎| 57/61 [02:41<00:11,  2.81s/it]"
     ]
    },
    {
     "name": "stdout",
     "output_type": "stream",
     "text": [
      "tivi,5390000,34,9,Ho Chi Minh,5590000,0,96,100,100,2,0,0,0,7\n"
     ]
    },
    {
     "name": "stderr",
     "output_type": "stream",
     "text": [
      "Processing rows:  95%|█████████▌| 58/61 [02:43<00:07,  2.60s/it]"
     ]
    },
    {
     "name": "stdout",
     "output_type": "stream",
     "text": [
      "tivi,2730000,None,None,None,Ho Chi Minh,None,38000,None,None,None,0,0,0,0,0\n"
     ]
    },
    {
     "name": "stderr",
     "output_type": "stream",
     "text": [
      "Processing rows:  97%|█████████▋| 59/61 [02:45<00:04,  2.44s/it]"
     ]
    },
    {
     "name": "stdout",
     "output_type": "stream",
     "text": [
      "tivi,6150000,None,None,None,Ho Chi Minh,9990000,None,97,98,89,0,0,0,0,0\n"
     ]
    },
    {
     "name": "stderr",
     "output_type": "stream",
     "text": [
      "Processing rows:  98%|█████████▊| 60/61 [02:48<00:02,  2.56s/it]"
     ]
    },
    {
     "name": "stdout",
     "output_type": "stream",
     "text": [
      "tivi,4250000,None,None,None,Ha Noi,4990000,135500,100,40,None,0,0,0,0,0\n"
     ]
    },
    {
     "name": "stderr",
     "output_type": "stream",
     "text": [
      "Processing rows: 100%|██████████| 61/61 [02:50<00:00,  2.80s/it]"
     ]
    },
    {
     "name": "stdout",
     "output_type": "stream",
     "text": [
      "tivi,2650000,None,None,None,Ho Chi Minh,None,45100,100,None,50,0,0,0,0,0\n"
     ]
    },
    {
     "name": "stderr",
     "output_type": "stream",
     "text": [
      "\n"
     ]
    }
   ],
   "source": [
    "results_lack = []\n",
    "\n",
    "for index, row in tqdm(tivi_lack.iterrows(), total=tivi_lack.shape[0], desc=\"Processing rows\"):\n",
    "    formatted_data = format_row(row)\n",
    "    api_response = call_api(formatted_data)\n",
    "    \n",
    "    if 'choices' in api_response and api_response['choices']:\n",
    "        cleaned_data = api_response['choices'][0]['message']['content'].strip()\n",
    "        cleaned_data = cleaned_data.replace('Here is the standardized data:\\n\\n', '').replace('\\n', ',')\n",
    "        print(cleaned_data)\n",
    "        results_lack.append(cleaned_data.split(','))\n",
    "    else:\n",
    "        print(f\"No choices found for row {index}\")\n",
    "        break"
   ]
  },
  {
   "cell_type": "code",
   "execution_count": 18,
   "metadata": {},
   "outputs": [
    {
     "data": {
      "text/html": [
       "<div>\n",
       "<style scoped>\n",
       "    .dataframe tbody tr th:only-of-type {\n",
       "        vertical-align: middle;\n",
       "    }\n",
       "\n",
       "    .dataframe tbody tr th {\n",
       "        vertical-align: top;\n",
       "    }\n",
       "\n",
       "    .dataframe thead th {\n",
       "        text-align: right;\n",
       "    }\n",
       "</style>\n",
       "<table border=\"1\" class=\"dataframe\">\n",
       "  <thead>\n",
       "    <tr style=\"text-align: right;\">\n",
       "      <th></th>\n",
       "      <th>Type</th>\n",
       "      <th>Price_sale</th>\n",
       "      <th>Sale_off</th>\n",
       "      <th>Total_sold</th>\n",
       "      <th>Preview</th>\n",
       "      <th>Location</th>\n",
       "      <th>Price_original</th>\n",
       "      <th>Ship_price</th>\n",
       "      <th>Sale_rating</th>\n",
       "      <th>Ship_on_time</th>\n",
       "      <th>Chat_response</th>\n",
       "      <th>One_star</th>\n",
       "      <th>Two_star</th>\n",
       "      <th>Three_star</th>\n",
       "      <th>Four_star</th>\n",
       "      <th>Five_star</th>\n",
       "    </tr>\n",
       "  </thead>\n",
       "  <tbody>\n",
       "    <tr>\n",
       "      <th>0</th>\n",
       "      <td>tivi</td>\n",
       "      <td>6490000</td>\n",
       "      <td>None</td>\n",
       "      <td>None</td>\n",
       "      <td>None</td>\n",
       "      <td>Ho Chi Minh</td>\n",
       "      <td>11490000</td>\n",
       "      <td>131600</td>\n",
       "      <td>None</td>\n",
       "      <td>None</td>\n",
       "      <td>100</td>\n",
       "      <td>0</td>\n",
       "      <td>0</td>\n",
       "      <td>0</td>\n",
       "      <td>0</td>\n",
       "      <td>0</td>\n",
       "    </tr>\n",
       "    <tr>\n",
       "      <th>1</th>\n",
       "      <td>tivi</td>\n",
       "      <td>2790000</td>\n",
       "      <td>None</td>\n",
       "      <td>None</td>\n",
       "      <td>None</td>\n",
       "      <td>Ho Chi Minh</td>\n",
       "      <td>None</td>\n",
       "      <td>46000</td>\n",
       "      <td>100</td>\n",
       "      <td>None</td>\n",
       "      <td>66</td>\n",
       "      <td>0</td>\n",
       "      <td>0</td>\n",
       "      <td>0</td>\n",
       "      <td>0</td>\n",
       "      <td>0</td>\n",
       "    </tr>\n",
       "    <tr>\n",
       "      <th>2</th>\n",
       "      <td>tivi</td>\n",
       "      <td>5590000</td>\n",
       "      <td>None</td>\n",
       "      <td>5</td>\n",
       "      <td>None</td>\n",
       "      <td>Ho Chi Minh</td>\n",
       "      <td>None</td>\n",
       "      <td>None</td>\n",
       "      <td>99</td>\n",
       "      <td>None</td>\n",
       "      <td>100</td>\n",
       "      <td>0</td>\n",
       "      <td>0</td>\n",
       "      <td>0</td>\n",
       "      <td>0</td>\n",
       "      <td>0</td>\n",
       "    </tr>\n",
       "    <tr>\n",
       "      <th>3</th>\n",
       "      <td>tivi</td>\n",
       "      <td>2350000</td>\n",
       "      <td>None</td>\n",
       "      <td>18</td>\n",
       "      <td>9</td>\n",
       "      <td>Ha Noi</td>\n",
       "      <td>None</td>\n",
       "      <td>135500</td>\n",
       "      <td>91</td>\n",
       "      <td>95</td>\n",
       "      <td>93</td>\n",
       "      <td>0</td>\n",
       "      <td>1</td>\n",
       "      <td>0</td>\n",
       "      <td>1</td>\n",
       "      <td>7</td>\n",
       "    </tr>\n",
       "    <tr>\n",
       "      <th>4</th>\n",
       "      <td>tivi</td>\n",
       "      <td>1850000</td>\n",
       "      <td>None</td>\n",
       "      <td>38</td>\n",
       "      <td>14</td>\n",
       "      <td>Ha Noi</td>\n",
       "      <td>None</td>\n",
       "      <td>198200</td>\n",
       "      <td>91</td>\n",
       "      <td>95</td>\n",
       "      <td>93</td>\n",
       "      <td>1</td>\n",
       "      <td>0</td>\n",
       "      <td>1</td>\n",
       "      <td>4</td>\n",
       "      <td>9</td>\n",
       "    </tr>\n",
       "  </tbody>\n",
       "</table>\n",
       "</div>"
      ],
      "text/plain": [
       "   Type Price_sale Sale_off Total_sold Preview     Location Price_original  \\\n",
       "0  tivi    6490000     None       None    None  Ho Chi Minh       11490000   \n",
       "1  tivi    2790000     None       None    None  Ho Chi Minh           None   \n",
       "2  tivi    5590000     None          5    None  Ho Chi Minh           None   \n",
       "3  tivi    2350000     None         18       9       Ha Noi           None   \n",
       "4  tivi    1850000     None         38      14       Ha Noi           None   \n",
       "\n",
       "  Ship_price Sale_rating Ship_on_time Chat_response One_star Two_star  \\\n",
       "0     131600        None         None           100        0        0   \n",
       "1      46000         100         None            66        0        0   \n",
       "2       None          99         None           100        0        0   \n",
       "3     135500          91           95            93        0        1   \n",
       "4     198200          91           95            93        1        0   \n",
       "\n",
       "  Three_star Four_star Five_star  \n",
       "0          0         0         0  \n",
       "1          0         0         0  \n",
       "2          0         0         0  \n",
       "3          0         1         7  \n",
       "4          1         4         9  "
      ]
     },
     "execution_count": 18,
     "metadata": {},
     "output_type": "execute_result"
    }
   ],
   "source": [
    "lack_df = pd.DataFrame(results_lack, columns=tivi_lack.columns)\n",
    "lack_df.head()"
   ]
  },
  {
   "cell_type": "code",
   "execution_count": 19,
   "metadata": {},
   "outputs": [
    {
     "data": {
      "text/html": [
       "<div>\n",
       "<style scoped>\n",
       "    .dataframe tbody tr th:only-of-type {\n",
       "        vertical-align: middle;\n",
       "    }\n",
       "\n",
       "    .dataframe tbody tr th {\n",
       "        vertical-align: top;\n",
       "    }\n",
       "\n",
       "    .dataframe thead th {\n",
       "        text-align: right;\n",
       "    }\n",
       "</style>\n",
       "<table border=\"1\" class=\"dataframe\">\n",
       "  <thead>\n",
       "    <tr style=\"text-align: right;\">\n",
       "      <th></th>\n",
       "      <th>Type</th>\n",
       "      <th>Price_sale</th>\n",
       "      <th>Sale_off</th>\n",
       "      <th>Total_sold</th>\n",
       "      <th>Preview</th>\n",
       "      <th>Location</th>\n",
       "      <th>Price_original</th>\n",
       "      <th>Ship_price</th>\n",
       "      <th>Sale_rating</th>\n",
       "      <th>Ship_on_time</th>\n",
       "      <th>Chat_response</th>\n",
       "      <th>One_star</th>\n",
       "      <th>Two_star</th>\n",
       "      <th>Three_star</th>\n",
       "      <th>Four_star</th>\n",
       "      <th>Five_star</th>\n",
       "    </tr>\n",
       "  </thead>\n",
       "  <tbody>\n",
       "    <tr>\n",
       "      <th>0</th>\n",
       "      <td>tivi</td>\n",
       "      <td>64690000</td>\n",
       "      <td>6</td>\n",
       "      <td>None</td>\n",
       "      <td>None</td>\n",
       "      <td>Ho Chi Minh</td>\n",
       "      <td>68790000</td>\n",
       "      <td>None</td>\n",
       "      <td>100</td>\n",
       "      <td>None</td>\n",
       "      <td>100</td>\n",
       "      <td>0</td>\n",
       "      <td>0</td>\n",
       "      <td>0</td>\n",
       "      <td>0</td>\n",
       "      <td>0</td>\n",
       "    </tr>\n",
       "    <tr>\n",
       "      <th>1</th>\n",
       "      <td>tivi</td>\n",
       "      <td>5389000</td>\n",
       "      <td>46</td>\n",
       "      <td>130</td>\n",
       "      <td>6</td>\n",
       "      <td>Ha Noi</td>\n",
       "      <td>9890000</td>\n",
       "      <td>None</td>\n",
       "      <td>100</td>\n",
       "      <td>None</td>\n",
       "      <td>100</td>\n",
       "      <td>0</td>\n",
       "      <td>0</td>\n",
       "      <td>0</td>\n",
       "      <td>0</td>\n",
       "      <td>6</td>\n",
       "    </tr>\n",
       "    <tr>\n",
       "      <th>2</th>\n",
       "      <td>tivi</td>\n",
       "      <td>920486</td>\n",
       "      <td>3</td>\n",
       "      <td>77</td>\n",
       "      <td>26</td>\n",
       "      <td>Ha Noi</td>\n",
       "      <td>950000</td>\n",
       "      <td>115100</td>\n",
       "      <td>91</td>\n",
       "      <td>95</td>\n",
       "      <td>92</td>\n",
       "      <td>0</td>\n",
       "      <td>0</td>\n",
       "      <td>0</td>\n",
       "      <td>2</td>\n",
       "      <td>24</td>\n",
       "    </tr>\n",
       "    <tr>\n",
       "      <th>3</th>\n",
       "      <td>tivi</td>\n",
       "      <td>3989000</td>\n",
       "      <td>50</td>\n",
       "      <td>None</td>\n",
       "      <td>None</td>\n",
       "      <td>Ha Noi</td>\n",
       "      <td>7990000</td>\n",
       "      <td>None</td>\n",
       "      <td>None</td>\n",
       "      <td>None</td>\n",
       "      <td>100</td>\n",
       "      <td>0</td>\n",
       "      <td>0</td>\n",
       "      <td>0</td>\n",
       "      <td>0</td>\n",
       "      <td>0</td>\n",
       "    </tr>\n",
       "    <tr>\n",
       "      <th>4</th>\n",
       "      <td>tivi</td>\n",
       "      <td>4689000</td>\n",
       "      <td>41</td>\n",
       "      <td>16</td>\n",
       "      <td>None</td>\n",
       "      <td>Ha Noi</td>\n",
       "      <td>7900000</td>\n",
       "      <td>None</td>\n",
       "      <td>100</td>\n",
       "      <td>None</td>\n",
       "      <td>100</td>\n",
       "      <td>0</td>\n",
       "      <td>0</td>\n",
       "      <td>0</td>\n",
       "      <td>0</td>\n",
       "      <td>1</td>\n",
       "    </tr>\n",
       "    <tr>\n",
       "      <th>...</th>\n",
       "      <td>...</td>\n",
       "      <td>...</td>\n",
       "      <td>...</td>\n",
       "      <td>...</td>\n",
       "      <td>...</td>\n",
       "      <td>...</td>\n",
       "      <td>...</td>\n",
       "      <td>...</td>\n",
       "      <td>...</td>\n",
       "      <td>...</td>\n",
       "      <td>...</td>\n",
       "      <td>...</td>\n",
       "      <td>...</td>\n",
       "      <td>...</td>\n",
       "      <td>...</td>\n",
       "      <td>...</td>\n",
       "    </tr>\n",
       "    <tr>\n",
       "      <th>1195</th>\n",
       "      <td>tivi</td>\n",
       "      <td>5390000</td>\n",
       "      <td>34</td>\n",
       "      <td>9</td>\n",
       "      <td>Ho Chi Minh</td>\n",
       "      <td>5590000</td>\n",
       "      <td>0</td>\n",
       "      <td>96</td>\n",
       "      <td>100</td>\n",
       "      <td>100</td>\n",
       "      <td>2</td>\n",
       "      <td>0</td>\n",
       "      <td>0</td>\n",
       "      <td>0</td>\n",
       "      <td>7</td>\n",
       "      <td>None</td>\n",
       "    </tr>\n",
       "    <tr>\n",
       "      <th>1196</th>\n",
       "      <td>tivi</td>\n",
       "      <td>2730000</td>\n",
       "      <td>None</td>\n",
       "      <td>None</td>\n",
       "      <td>None</td>\n",
       "      <td>Ho Chi Minh</td>\n",
       "      <td>None</td>\n",
       "      <td>38000</td>\n",
       "      <td>None</td>\n",
       "      <td>None</td>\n",
       "      <td>None</td>\n",
       "      <td>0</td>\n",
       "      <td>0</td>\n",
       "      <td>0</td>\n",
       "      <td>0</td>\n",
       "      <td>0</td>\n",
       "    </tr>\n",
       "    <tr>\n",
       "      <th>1197</th>\n",
       "      <td>tivi</td>\n",
       "      <td>6150000</td>\n",
       "      <td>None</td>\n",
       "      <td>None</td>\n",
       "      <td>None</td>\n",
       "      <td>Ho Chi Minh</td>\n",
       "      <td>9990000</td>\n",
       "      <td>None</td>\n",
       "      <td>97</td>\n",
       "      <td>98</td>\n",
       "      <td>89</td>\n",
       "      <td>0</td>\n",
       "      <td>0</td>\n",
       "      <td>0</td>\n",
       "      <td>0</td>\n",
       "      <td>0</td>\n",
       "    </tr>\n",
       "    <tr>\n",
       "      <th>1198</th>\n",
       "      <td>tivi</td>\n",
       "      <td>4250000</td>\n",
       "      <td>None</td>\n",
       "      <td>None</td>\n",
       "      <td>None</td>\n",
       "      <td>Ha Noi</td>\n",
       "      <td>4990000</td>\n",
       "      <td>135500</td>\n",
       "      <td>100</td>\n",
       "      <td>40</td>\n",
       "      <td>None</td>\n",
       "      <td>0</td>\n",
       "      <td>0</td>\n",
       "      <td>0</td>\n",
       "      <td>0</td>\n",
       "      <td>0</td>\n",
       "    </tr>\n",
       "    <tr>\n",
       "      <th>1199</th>\n",
       "      <td>tivi</td>\n",
       "      <td>2650000</td>\n",
       "      <td>None</td>\n",
       "      <td>None</td>\n",
       "      <td>None</td>\n",
       "      <td>Ho Chi Minh</td>\n",
       "      <td>None</td>\n",
       "      <td>45100</td>\n",
       "      <td>100</td>\n",
       "      <td>None</td>\n",
       "      <td>50</td>\n",
       "      <td>0</td>\n",
       "      <td>0</td>\n",
       "      <td>0</td>\n",
       "      <td>0</td>\n",
       "      <td>0</td>\n",
       "    </tr>\n",
       "  </tbody>\n",
       "</table>\n",
       "<p>1200 rows × 16 columns</p>\n",
       "</div>"
      ],
      "text/plain": [
       "      Type Price_sale Sale_off Total_sold      Preview     Location  \\\n",
       "0     tivi   64690000        6       None         None  Ho Chi Minh   \n",
       "1     tivi    5389000       46        130            6       Ha Noi   \n",
       "2     tivi     920486        3         77           26       Ha Noi   \n",
       "3     tivi    3989000       50       None         None       Ha Noi   \n",
       "4     tivi    4689000       41         16         None       Ha Noi   \n",
       "...    ...        ...      ...        ...          ...          ...   \n",
       "1195  tivi    5390000       34          9  Ho Chi Minh      5590000   \n",
       "1196  tivi    2730000     None       None         None  Ho Chi Minh   \n",
       "1197  tivi    6150000     None       None         None  Ho Chi Minh   \n",
       "1198  tivi    4250000     None       None         None       Ha Noi   \n",
       "1199  tivi    2650000     None       None         None  Ho Chi Minh   \n",
       "\n",
       "     Price_original Ship_price Sale_rating Ship_on_time Chat_response  \\\n",
       "0          68790000       None         100         None           100   \n",
       "1           9890000       None         100         None           100   \n",
       "2            950000     115100          91           95            92   \n",
       "3           7990000       None        None         None           100   \n",
       "4           7900000       None         100         None           100   \n",
       "...             ...        ...         ...          ...           ...   \n",
       "1195              0         96         100          100             2   \n",
       "1196           None      38000        None         None          None   \n",
       "1197        9990000       None          97           98            89   \n",
       "1198        4990000     135500         100           40          None   \n",
       "1199           None      45100         100         None            50   \n",
       "\n",
       "     One_star Two_star Three_star Four_star Five_star  \n",
       "0           0        0          0         0         0  \n",
       "1           0        0          0         0         6  \n",
       "2           0        0          0         2        24  \n",
       "3           0        0          0         0         0  \n",
       "4           0        0          0         0         1  \n",
       "...       ...      ...        ...       ...       ...  \n",
       "1195        0        0          0         7      None  \n",
       "1196        0        0          0         0         0  \n",
       "1197        0        0          0         0         0  \n",
       "1198        0        0          0         0         0  \n",
       "1199        0        0          0         0         0  \n",
       "\n",
       "[1200 rows x 16 columns]"
      ]
     },
     "execution_count": 19,
     "metadata": {},
     "output_type": "execute_result"
    }
   ],
   "source": [
    "final_data = pd.concat([cleaned_df, lack_df], ignore_index=True)\n",
    "final_data "
   ]
  },
  {
   "cell_type": "code",
   "execution_count": 20,
   "metadata": {},
   "outputs": [],
   "source": [
    "final_data.to_csv(\"LLM_Tivi.csv\", index=False)"
   ]
  },
  {
   "cell_type": "code",
   "execution_count": null,
   "metadata": {},
   "outputs": [],
   "source": []
  }
 ],
 "metadata": {
  "kernelspec": {
   "display_name": "base",
   "language": "python",
   "name": "python3"
  },
  "language_info": {
   "codemirror_mode": {
    "name": "ipython",
    "version": 3
   },
   "file_extension": ".py",
   "mimetype": "text/x-python",
   "name": "python",
   "nbconvert_exporter": "python",
   "pygments_lexer": "ipython3",
   "version": "3.11.7"
  }
 },
 "nbformat": 4,
 "nbformat_minor": 2
}
