{
 "cells": [
  {
   "cell_type": "code",
   "execution_count": 1,
   "id": "3e994fcc",
   "metadata": {},
   "outputs": [],
   "source": [
    "import os\n",
    "import requests\n",
    "import pandas as pd\n",
    "import unidecode\n",
    "from tqdm import tqdm"
   ]
  },
  {
   "cell_type": "code",
   "execution_count": 2,
   "id": "0f6cdd67",
   "metadata": {},
   "outputs": [
    {
     "data": {
      "text/html": [
       "<div>\n",
       "<style scoped>\n",
       "    .dataframe tbody tr th:only-of-type {\n",
       "        vertical-align: middle;\n",
       "    }\n",
       "\n",
       "    .dataframe tbody tr th {\n",
       "        vertical-align: top;\n",
       "    }\n",
       "\n",
       "    .dataframe thead th {\n",
       "        text-align: right;\n",
       "    }\n",
       "</style>\n",
       "<table border=\"1\" class=\"dataframe\">\n",
       "  <thead>\n",
       "    <tr style=\"text-align: right;\">\n",
       "      <th></th>\n",
       "      <th>Type</th>\n",
       "      <th>Price_sale</th>\n",
       "      <th>Sale_off</th>\n",
       "      <th>Total_sold</th>\n",
       "      <th>Preview</th>\n",
       "      <th>Location</th>\n",
       "      <th>Price_original</th>\n",
       "      <th>Ship_price</th>\n",
       "      <th>Sale_rating</th>\n",
       "      <th>Ship_on_time</th>\n",
       "      <th>Chat_response</th>\n",
       "      <th>One_star</th>\n",
       "      <th>Two_star</th>\n",
       "      <th>Three_star</th>\n",
       "      <th>Four_star</th>\n",
       "      <th>Five_star</th>\n",
       "    </tr>\n",
       "  </thead>\n",
       "  <tbody>\n",
       "    <tr>\n",
       "      <th>0</th>\n",
       "      <td>laptop</td>\n",
       "      <td>17.990.000 ₫</td>\n",
       "      <td>38% Off</td>\n",
       "      <td>3.0K Đã bán</td>\n",
       "      <td>(666)</td>\n",
       "      <td>Hồ Chí Minh</td>\n",
       "      <td>28.990.000 ₫</td>\n",
       "      <td>10.200 ₫</td>\n",
       "      <td>94%</td>\n",
       "      <td>98%</td>\n",
       "      <td>100%</td>\n",
       "      <td>28</td>\n",
       "      <td>5</td>\n",
       "      <td>10</td>\n",
       "      <td>17</td>\n",
       "      <td>606</td>\n",
       "    </tr>\n",
       "    <tr>\n",
       "      <th>1</th>\n",
       "      <td>laptop</td>\n",
       "      <td>7.223.999 ₫</td>\n",
       "      <td>52% Off\\nLazFlash Sale,kết thúc sau 9h</td>\n",
       "      <td>51 Đã bán</td>\n",
       "      <td>(5)</td>\n",
       "      <td>Hải Phòng</td>\n",
       "      <td>13.899.999 ₫</td>\n",
       "      <td>Miễn phí</td>\n",
       "      <td>100%</td>\n",
       "      <td>100%</td>\n",
       "      <td>80%</td>\n",
       "      <td>0</td>\n",
       "      <td>0</td>\n",
       "      <td>0</td>\n",
       "      <td>0</td>\n",
       "      <td>5</td>\n",
       "    </tr>\n",
       "    <tr>\n",
       "      <th>2</th>\n",
       "      <td>laptop</td>\n",
       "      <td>39.000 ₫</td>\n",
       "      <td>17% Off</td>\n",
       "      <td>312 Đã bán</td>\n",
       "      <td>(67)</td>\n",
       "      <td>Hồ Chí Minh</td>\n",
       "      <td>47.000 ₫</td>\n",
       "      <td>17.000 ₫</td>\n",
       "      <td>96%</td>\n",
       "      <td>98%</td>\n",
       "      <td>90%</td>\n",
       "      <td>11</td>\n",
       "      <td>1</td>\n",
       "      <td>3</td>\n",
       "      <td>5</td>\n",
       "      <td>47</td>\n",
       "    </tr>\n",
       "    <tr>\n",
       "      <th>3</th>\n",
       "      <td>laptop</td>\n",
       "      <td>7.254.959 ₫</td>\n",
       "      <td>45% Off</td>\n",
       "      <td>16 Đã bán</td>\n",
       "      <td>(3)</td>\n",
       "      <td>Hải Phòng</td>\n",
       "      <td>13.199.999 ₫</td>\n",
       "      <td>Miễn phí</td>\n",
       "      <td>100%</td>\n",
       "      <td>100%</td>\n",
       "      <td>80%</td>\n",
       "      <td>0</td>\n",
       "      <td>0</td>\n",
       "      <td>0</td>\n",
       "      <td>0</td>\n",
       "      <td>3</td>\n",
       "    </tr>\n",
       "    <tr>\n",
       "      <th>4</th>\n",
       "      <td>laptop</td>\n",
       "      <td>4.390.000 ₫</td>\n",
       "      <td>20% Off\\nLazFlash Sale,kết thúc sau 9h</td>\n",
       "      <td>126 Đã bán</td>\n",
       "      <td>(29)</td>\n",
       "      <td>Hà Nội</td>\n",
       "      <td>5.900.000 ₫</td>\n",
       "      <td>Miễn phí</td>\n",
       "      <td>98%</td>\n",
       "      <td>100%</td>\n",
       "      <td>100%</td>\n",
       "      <td>0</td>\n",
       "      <td>0</td>\n",
       "      <td>1</td>\n",
       "      <td>0</td>\n",
       "      <td>28</td>\n",
       "    </tr>\n",
       "    <tr>\n",
       "      <th>...</th>\n",
       "      <td>...</td>\n",
       "      <td>...</td>\n",
       "      <td>...</td>\n",
       "      <td>...</td>\n",
       "      <td>...</td>\n",
       "      <td>...</td>\n",
       "      <td>...</td>\n",
       "      <td>...</td>\n",
       "      <td>...</td>\n",
       "      <td>...</td>\n",
       "      <td>...</td>\n",
       "      <td>...</td>\n",
       "      <td>...</td>\n",
       "      <td>...</td>\n",
       "      <td>...</td>\n",
       "      <td>...</td>\n",
       "    </tr>\n",
       "    <tr>\n",
       "      <th>95</th>\n",
       "      <td>laptop</td>\n",
       "      <td>1.200.000 ₫</td>\n",
       "      <td>48% Off</td>\n",
       "      <td>24 Đã bán</td>\n",
       "      <td>(11)</td>\n",
       "      <td>Hồ Chí Minh</td>\n",
       "      <td>2.300.000 ₫</td>\n",
       "      <td>Miễn phí</td>\n",
       "      <td>91%</td>\n",
       "      <td>100%</td>\n",
       "      <td>100%</td>\n",
       "      <td>0</td>\n",
       "      <td>1</td>\n",
       "      <td>0</td>\n",
       "      <td>1</td>\n",
       "      <td>9</td>\n",
       "    </tr>\n",
       "    <tr>\n",
       "      <th>96</th>\n",
       "      <td>laptop</td>\n",
       "      <td>6.000.000 ₫</td>\n",
       "      <td>NaN</td>\n",
       "      <td>136 Đã bán</td>\n",
       "      <td>(42)</td>\n",
       "      <td>Nam Định</td>\n",
       "      <td>NaN</td>\n",
       "      <td>56.800 ₫</td>\n",
       "      <td>99%</td>\n",
       "      <td>100%</td>\n",
       "      <td>100%</td>\n",
       "      <td>0</td>\n",
       "      <td>0</td>\n",
       "      <td>0</td>\n",
       "      <td>0</td>\n",
       "      <td>42</td>\n",
       "    </tr>\n",
       "    <tr>\n",
       "      <th>97</th>\n",
       "      <td>laptop</td>\n",
       "      <td>27.590.000 ₫</td>\n",
       "      <td>16% Off</td>\n",
       "      <td>147 Đã bán</td>\n",
       "      <td>(3)</td>\n",
       "      <td>Bắc Ninh</td>\n",
       "      <td>32.990.000 ₫</td>\n",
       "      <td>10.200 ₫</td>\n",
       "      <td>94%</td>\n",
       "      <td>98%</td>\n",
       "      <td>100%</td>\n",
       "      <td>0</td>\n",
       "      <td>0</td>\n",
       "      <td>0</td>\n",
       "      <td>0</td>\n",
       "      <td>4</td>\n",
       "    </tr>\n",
       "    <tr>\n",
       "      <th>98</th>\n",
       "      <td>laptop</td>\n",
       "      <td>27.290.000 ₫</td>\n",
       "      <td>3% Off</td>\n",
       "      <td>10 Đã bán</td>\n",
       "      <td>NaN</td>\n",
       "      <td>Hồ Chí Minh</td>\n",
       "      <td>32.999.000 ₫</td>\n",
       "      <td>9.700 ₫</td>\n",
       "      <td>94%</td>\n",
       "      <td>98%</td>\n",
       "      <td>100%</td>\n",
       "      <td>0</td>\n",
       "      <td>0</td>\n",
       "      <td>0</td>\n",
       "      <td>0</td>\n",
       "      <td>0</td>\n",
       "    </tr>\n",
       "    <tr>\n",
       "      <th>99</th>\n",
       "      <td>laptop</td>\n",
       "      <td>383.775 ₫</td>\n",
       "      <td>50% Off</td>\n",
       "      <td>193 Đã bán</td>\n",
       "      <td>(171)</td>\n",
       "      <td>Nước ngoài</td>\n",
       "      <td>772.800 ₫</td>\n",
       "      <td>NaN</td>\n",
       "      <td>99%</td>\n",
       "      <td>NaN</td>\n",
       "      <td>100%</td>\n",
       "      <td>2</td>\n",
       "      <td>0</td>\n",
       "      <td>1</td>\n",
       "      <td>2</td>\n",
       "      <td>166</td>\n",
       "    </tr>\n",
       "  </tbody>\n",
       "</table>\n",
       "<p>100 rows × 16 columns</p>\n",
       "</div>"
      ],
      "text/plain": [
       "      Type    Price_sale                                Sale_off   Total_sold  \\\n",
       "0   laptop  17.990.000 ₫                                 38% Off  3.0K Đã bán   \n",
       "1   laptop   7.223.999 ₫  52% Off\\nLazFlash Sale,kết thúc sau 9h    51 Đã bán   \n",
       "2   laptop      39.000 ₫                                 17% Off   312 Đã bán   \n",
       "3   laptop   7.254.959 ₫                                 45% Off    16 Đã bán   \n",
       "4   laptop   4.390.000 ₫  20% Off\\nLazFlash Sale,kết thúc sau 9h   126 Đã bán   \n",
       "..     ...           ...                                     ...          ...   \n",
       "95  laptop   1.200.000 ₫                                 48% Off    24 Đã bán   \n",
       "96  laptop   6.000.000 ₫                                     NaN   136 Đã bán   \n",
       "97  laptop  27.590.000 ₫                                 16% Off   147 Đã bán   \n",
       "98  laptop  27.290.000 ₫                                  3% Off    10 Đã bán   \n",
       "99  laptop     383.775 ₫                                 50% Off   193 Đã bán   \n",
       "\n",
       "   Preview     Location Price_original Ship_price Sale_rating Ship_on_time  \\\n",
       "0    (666)  Hồ Chí Minh   28.990.000 ₫   10.200 ₫         94%          98%   \n",
       "1      (5)    Hải Phòng   13.899.999 ₫   Miễn phí        100%         100%   \n",
       "2     (67)  Hồ Chí Minh       47.000 ₫   17.000 ₫         96%          98%   \n",
       "3      (3)    Hải Phòng   13.199.999 ₫   Miễn phí        100%         100%   \n",
       "4     (29)       Hà Nội    5.900.000 ₫   Miễn phí         98%         100%   \n",
       "..     ...          ...            ...        ...         ...          ...   \n",
       "95    (11)  Hồ Chí Minh    2.300.000 ₫   Miễn phí         91%         100%   \n",
       "96    (42)     Nam Định            NaN   56.800 ₫         99%         100%   \n",
       "97     (3)     Bắc Ninh   32.990.000 ₫   10.200 ₫         94%          98%   \n",
       "98     NaN  Hồ Chí Minh   32.999.000 ₫    9.700 ₫         94%          98%   \n",
       "99   (171)   Nước ngoài      772.800 ₫        NaN         99%          NaN   \n",
       "\n",
       "   Chat_response  One_star  Two_star  Three_star  Four_star  Five_star  \n",
       "0           100%        28         5          10         17        606  \n",
       "1            80%         0         0           0          0          5  \n",
       "2            90%        11         1           3          5         47  \n",
       "3            80%         0         0           0          0          3  \n",
       "4           100%         0         0           1          0         28  \n",
       "..           ...       ...       ...         ...        ...        ...  \n",
       "95          100%         0         1           0          1          9  \n",
       "96          100%         0         0           0          0         42  \n",
       "97          100%         0         0           0          0          4  \n",
       "98          100%         0         0           0          0          0  \n",
       "99          100%         2         0           1          2        166  \n",
       "\n",
       "[100 rows x 16 columns]"
      ]
     },
     "execution_count": 2,
     "metadata": {},
     "output_type": "execute_result"
    }
   ],
   "source": [
    "data = pd.read_csv('Preprocessing_Data_Laptop.csv')\n",
    "data.head(100)"
   ]
  },
  {
   "cell_type": "code",
   "execution_count": 3,
   "id": "8cded523",
   "metadata": {},
   "outputs": [],
   "source": [
    "s = requests.Session()\n",
    "\n",
    "api_base = \"https://api.endpoints.anyscale.com/v1\"\n",
    "# Replace with long-lived credentials for production\n",
    "token = \"esecret_nlqldkrl2baeg63bhqpx7ap89i\"\n",
    "url = f\"{api_base}/chat/completions\""
   ]
  },
  {
   "cell_type": "code",
   "execution_count": 4,
   "id": "ec4b0014",
   "metadata": {},
   "outputs": [],
   "source": [
    "def call_api(formatted_data):\n",
    "    body = {\n",
    "        \"model\": \"meta-llama/Meta-Llama-3-70B-Instruct\",\n",
    "        \"messages\": [\n",
    "            {\n",
    "                \"role\": \"user\",\n",
    "                \"content\": \"Bạn là 1 trợ lí ảo về AI và có nhiệm vụ chính là chuẩn hóa data 1 cách chính xác nhất\"\n",
    "            },\n",
    "            {\n",
    "                \"role\": \"assistant\",\n",
    "                \"content\": \"Nice to meet you! As a virtual assistant specializing in AI, my primary responsibility is to ensure the accuracy and standardization of data. This is a crucial task, as high-quality data is essential for training reliable AI models and making informed decisions.\\n\\nTo achieve this goal, I'll employ a range of techniques and tools to preprocess, transform, and validate data. Here are some of the methods I'll use:\\n\\n1. **Data Cleaning**: I'll identify and correct errors, inconsistencies, and inaccuracies in the data, ensuring that it's complete, valid, and reliable.\\n2. **Data Normalization**: I'll transform data into a consistent format, making it easier to compare and analyze. This includes converting data types, handling missing values, and performing feature scaling.\\n3. **Data Standardization**: I'll apply standardized templates and formats to ensure data consistency across different sources and systems.\\n4. **Data Validation**: I'll verify data against a set of rules, constraints, and business logic to ensure it meets the required standards and formats.\\n5. **Data Enrichment**: I'll augment data by adding relevant information from external sources, such as APIs, databases, or other datasets, to enhance its value and accuracy.\\n6. **Data Quality Metrics**: I'll track\"\n",
    "            },\n",
    "            {\n",
    "                \"role\": \"user\",\n",
    "                \"content\": \"Mỗi mục dữ liệu được ngăn cách bởi dấu |. Không bỏ bất kì 1 mục nào, không thêm bất kỳ mục nào, hãy chuẩn hóa thông tin về dạng số tương ứng, địa điểm thành không dấu, nếu là giá trị None thì ghi là None. Ngăn cách các giá trị bằng dấu phẩy, lưu ý: 52% Off\\\\\\\\nLazFlash Sale,kết thúc sau 9h (Đây là cùng 1 column), không cần giải thích output.         \\nlaptop | 7.223.999 ₫ | 52% Off\\\\\\\\nLazFlash Sale,kết thúc sau 9h | 51 Đã bán| (5)| Hải Phòng | 13.899.999 ₫ |Miễn phí |100%| 100% |80%| 0| 0| 0| 0| 5\\\"\"\n",
    "            },\n",
    "            {\n",
    "                \"role\": \"assistant\",\n",
    "                \"content\": \"Here is the standardized data:\\n\\nlaptop,7223999,52,51,5,Hai Phong,13899999,100,100,80,0,0,0,0,5\"\n",
    "            },\n",
    "            {\n",
    "                \"role\": \"user\",\n",
    "                \"content\": f\"{formatted_data}\"\n",
    "            },\n",
    "        ],\n",
    "        \"temperature\": 0,\n",
    "        \"max_tokens\": 256,\n",
    "        \"top_p\": 1,\n",
    "        \"frequency_penalty\": 0\n",
    "    }\n",
    "    response = s.post(url, headers={\"Authorization\": f\"Bearer {token}\"}, json=body)\n",
    "    return response.json()"
   ]
  },
  {
   "cell_type": "code",
   "execution_count": 5,
   "id": "80519b41",
   "metadata": {},
   "outputs": [
    {
     "name": "stderr",
     "output_type": "stream",
     "text": [
      "Processing rows:   0%|          | 1/1200 [00:04<1:23:31,  4.18s/it]"
     ]
    },
    {
     "name": "stdout",
     "output_type": "stream",
     "text": [
      "laptop,17990000,38,3000,666,Ho Chi Minh,28990000,10200,94,98,100,28,5,10,17,606\n"
     ]
    },
    {
     "name": "stderr",
     "output_type": "stream",
     "text": [
      "\r",
      "Processing rows:   0%|          | 2/1200 [00:08<1:22:59,  4.16s/it]"
     ]
    },
    {
     "name": "stdout",
     "output_type": "stream",
     "text": [
      "laptop,7223999,52,51,5,Hai Phong,13899999,None,100,100,80,0,0,0,0,5\n"
     ]
    },
    {
     "name": "stderr",
     "output_type": "stream",
     "text": [
      "\r",
      "Processing rows:   0%|          | 3/1200 [00:11<1:11:43,  3.60s/it]"
     ]
    },
    {
     "name": "stdout",
     "output_type": "stream",
     "text": [
      "laptop,39000,17,312,67,Ho Chi Minh,47000,17000,96,98,90,11,1,3,5,47\n"
     ]
    },
    {
     "name": "stderr",
     "output_type": "stream",
     "text": [
      "\r",
      "Processing rows:   0%|          | 4/1200 [00:14<1:08:22,  3.43s/it]"
     ]
    },
    {
     "name": "stdout",
     "output_type": "stream",
     "text": [
      "laptop,7254959,45,16,3,Hai Phong,13199999,100,100,80,0,0,0,0,3\n"
     ]
    },
    {
     "name": "stderr",
     "output_type": "stream",
     "text": [
      "\r",
      "Processing rows:   0%|          | 5/1200 [00:17<1:03:17,  3.18s/it]"
     ]
    },
    {
     "name": "stdout",
     "output_type": "stream",
     "text": [
      "laptop,4390000,20,126,29,Hà Nội,5900000,98,100,100,0,0,1,0,28\n"
     ]
    },
    {
     "name": "stderr",
     "output_type": "stream",
     "text": [
      "\r",
      "Processing rows:   0%|          | 6/1200 [00:19<58:34,  2.94s/it]  "
     ]
    },
    {
     "name": "stdout",
     "output_type": "stream",
     "text": [
      "laptop,3200000,50,None,None,Hanoi,6400000,100,None,None,None,0,0,0,0,0\n"
     ]
    },
    {
     "name": "stderr",
     "output_type": "stream",
     "text": [
      "\r",
      "Processing rows:   1%|          | 7/1200 [00:22<57:31,  2.89s/it]"
     ]
    },
    {
     "name": "stdout",
     "output_type": "stream",
     "text": [
      "laptop,1798761,10,18,6,Ha Noi,4290000,84600,94,100,76,0,0,0,0,6\n"
     ]
    },
    {
     "name": "stderr",
     "output_type": "stream",
     "text": [
      "\r",
      "Processing rows:   1%|          | 8/1200 [00:24<54:58,  2.77s/it]"
     ]
    },
    {
     "name": "stdout",
     "output_type": "stream",
     "text": [
      "laptop,6519809,8,294,118,Ho Chi Minh,8999999,100,96,100,None,1,0,2,0,115\n"
     ]
    },
    {
     "name": "stderr",
     "output_type": "stream",
     "text": [
      "\r",
      "Processing rows:   1%|          | 9/1200 [00:27<56:07,  2.83s/it]"
     ]
    },
    {
     "name": "stdout",
     "output_type": "stream",
     "text": [
      "laptop,6614299,27,91,49,Ho Chi Minh,8999999,100,96,100,None,1,0,0,2,46\n"
     ]
    },
    {
     "name": "stderr",
     "output_type": "stream",
     "text": [
      "\r",
      "Processing rows:   1%|          | 10/1200 [00:30<55:05,  2.78s/it]"
     ]
    },
    {
     "name": "stdout",
     "output_type": "stream",
     "text": [
      "laptop,1000000,None,81,28,Hà Nội,None,198200,94,20,83,2,1,1,3,21\n"
     ]
    },
    {
     "name": "stderr",
     "output_type": "stream",
     "text": [
      "\r",
      "Processing rows:   1%|          | 11/1200 [00:33<56:10,  2.83s/it]"
     ]
    },
    {
     "name": "stdout",
     "output_type": "stream",
     "text": [
      "laptop,1200000,None,25,10,Tien Giang,None,32200,87,37,100,0,0,0,1,9\n"
     ]
    },
    {
     "name": "stderr",
     "output_type": "stream",
     "text": [
      "\r",
      "Processing rows:   1%|          | 12/1200 [00:36<54:57,  2.78s/it]"
     ]
    },
    {
     "name": "stdout",
     "output_type": "stream",
     "text": [
      "laptop,4173000,11,154,49,Hung Yen,6459000,56800,97,100,100,0,0,1,3,46\n"
     ]
    },
    {
     "name": "stderr",
     "output_type": "stream",
     "text": [
      "\r",
      "Processing rows:   1%|          | 13/1200 [00:39<56:24,  2.85s/it]"
     ]
    },
    {
     "name": "stdout",
     "output_type": "stream",
     "text": [
      "laptop,1300000,28,82,41,Hà Nội,None,744000,92,66,85,0,0,0,6,35\n"
     ]
    },
    {
     "name": "stderr",
     "output_type": "stream",
     "text": [
      "\r",
      "Processing rows:   1%|          | 14/1200 [00:42<1:00:09,  3.04s/it]"
     ]
    },
    {
     "name": "stdout",
     "output_type": "stream",
     "text": [
      "laptop,2668000,8,33,18,Nghệ An,2898000,56800,94,91,92,0,2,0,2,15\n"
     ]
    },
    {
     "name": "stderr",
     "output_type": "stream",
     "text": [
      "\r",
      "Processing rows:   1%|▏         | 15/1200 [00:45<57:21,  2.90s/it]  "
     ]
    },
    {
     "name": "stdout",
     "output_type": "stream",
     "text": [
      "laptop,3248000,10,64,28,Nghệ An,3598000,56800,94,91,92,0,0,0,0,28\n"
     ]
    },
    {
     "name": "stderr",
     "output_type": "stream",
     "text": [
      "\r",
      "Processing rows:   1%|▏         | 16/1200 [00:48<57:14,  2.90s/it]"
     ]
    },
    {
     "name": "stdout",
     "output_type": "stream",
     "text": [
      "laptop,3258000,19,73,32,Nghệ An,3998000,56800,94,91,92,0,0,1,0,31\n"
     ]
    },
    {
     "name": "stderr",
     "output_type": "stream",
     "text": [
      "\r",
      "Processing rows:   1%|▏         | 17/1200 [00:50<53:58,  2.74s/it]"
     ]
    },
    {
     "name": "stdout",
     "output_type": "stream",
     "text": [
      "laptop,1200000,48,24,11,Ho Chi Minh,2300000,100,91,100,100,0,1,0,1,9\n"
     ]
    },
    {
     "name": "stderr",
     "output_type": "stream",
     "text": [
      "\r",
      "Processing rows:   2%|▏         | 18/1200 [00:53<56:54,  2.89s/it]"
     ]
    },
    {
     "name": "stdout",
     "output_type": "stream",
     "text": [
      "laptop,269233,7,2200,789,Ho Chi Minh,199000,16500,99,100,100,3,1,2,12,771\n"
     ]
    },
    {
     "name": "stderr",
     "output_type": "stream",
     "text": [
      "\r",
      "Processing rows:   2%|▏         | 19/1200 [00:56<55:11,  2.80s/it]"
     ]
    },
    {
     "name": "stdout",
     "output_type": "stream",
     "text": [
      "laptop,10490000,19,351,108,Ho Chi Minh,12990000,21200,98,75,66,3,0,0,1,104\n"
     ]
    },
    {
     "name": "stderr",
     "output_type": "stream",
     "text": [
      "\r",
      "Processing rows:   2%|▏         | 20/1200 [00:59<58:29,  2.97s/it]"
     ]
    },
    {
     "name": "stdout",
     "output_type": "stream",
     "text": [
      "laptop,1799000,None,117,35,Dong Nai,None,65500,96,50,100,0,0,0,1,35\n"
     ]
    },
    {
     "name": "stderr",
     "output_type": "stream",
     "text": [
      "\r",
      "Processing rows:   2%|▏         | 21/1200 [01:02<55:25,  2.82s/it]"
     ]
    },
    {
     "name": "stdout",
     "output_type": "stream",
     "text": [
      "laptop,27590000,16,147,3,Bac Ninh,32990000,10200,94,98,100,0,0,0,0,4\n"
     ]
    },
    {
     "name": "stderr",
     "output_type": "stream",
     "text": [
      "\r",
      "Processing rows:   2%|▏         | 22/1200 [01:05<55:30,  2.83s/it]"
     ]
    },
    {
     "name": "stdout",
     "output_type": "stream",
     "text": [
      "laptop,2455000,None,14,2,Hà Nội,None,38000,79,86,95,0,0,1,0,1\n"
     ]
    },
    {
     "name": "stderr",
     "output_type": "stream",
     "text": [
      "\r",
      "Processing rows:   2%|▏         | 23/1200 [01:08<57:55,  2.95s/it]"
     ]
    },
    {
     "name": "stdout",
     "output_type": "stream",
     "text": [
      "laptop,27290000,3,7,None,Ho Chi Minh,32999000,9700,94,98,100,0,0,0,0,0\n"
     ]
    },
    {
     "name": "stderr",
     "output_type": "stream",
     "text": [
      "\r",
      "Processing rows:   2%|▏         | 24/1200 [01:10<56:11,  2.87s/it]"
     ]
    },
    {
     "name": "stdout",
     "output_type": "stream",
     "text": [
      "laptop,1239000,38,22,10,Ho Chi Minh,2200000,100,91,100,100,0,0,0,0,10\n"
     ]
    },
    {
     "name": "stderr",
     "output_type": "stream",
     "text": [
      "\r",
      "Processing rows:   2%|▏         | 25/1200 [01:13<56:14,  2.87s/it]"
     ]
    },
    {
     "name": "stdout",
     "output_type": "stream",
     "text": [
      "laptop,14699000,30,38,12,Ho Chi Minh,21000000,23800,100,100,100,0,0,0,0,12\n"
     ]
    },
    {
     "name": "stderr",
     "output_type": "stream",
     "text": [
      "\r",
      "Processing rows:   2%|▏         | 26/1200 [01:17<1:00:33,  3.10s/it]"
     ]
    },
    {
     "name": "stdout",
     "output_type": "stream",
     "text": [
      "laptop,3500000,None,15,3,Ho Chi Minh,None,20100,88,100,None,0,0,0,0,3\n"
     ]
    },
    {
     "name": "stderr",
     "output_type": "stream",
     "text": [
      "\r",
      "Processing rows:   2%|▏         | 27/1200 [01:19<56:16,  2.88s/it]  "
     ]
    },
    {
     "name": "stdout",
     "output_type": "stream",
     "text": [
      "laptop,4804919,44,97,23,Hai Phong,8599999,51100,88,100,100,3,0,1,0,20\n"
     ]
    },
    {
     "name": "stderr",
     "output_type": "stream",
     "text": [
      "\r",
      "Processing rows:   2%|▏         | 28/1200 [01:22<54:53,  2.81s/it]"
     ]
    },
    {
     "name": "stdout",
     "output_type": "stream",
     "text": [
      "laptop,6500000,27,None,1,Ho Chi Minh,11900000,100,96,100,100,0,0,0,0,2\n"
     ]
    },
    {
     "name": "stderr",
     "output_type": "stream",
     "text": [
      "\r",
      "Processing rows:   2%|▏         | 29/1200 [01:25<55:25,  2.84s/it]"
     ]
    },
    {
     "name": "stdout",
     "output_type": "stream",
     "text": [
      "laptop,7689000,None,40,7,Hung Yen,None,37700,100,98,100,0,0,0,0,7\n"
     ]
    },
    {
     "name": "stderr",
     "output_type": "stream",
     "text": [
      "\r",
      "Processing rows:   2%|▎         | 30/1200 [01:27<51:56,  2.66s/it]"
     ]
    },
    {
     "name": "stdout",
     "output_type": "stream",
     "text": [
      "laptop,902899,25,11,2,Hung Yen,1499999,70000,86,100,88,1,0,0,0,2\n"
     ]
    },
    {
     "name": "stderr",
     "output_type": "stream",
     "text": [
      "\r",
      "Processing rows:   3%|▎         | 31/1200 [01:30<54:36,  2.80s/it]"
     ]
    },
    {
     "name": "stdout",
     "output_type": "stream",
     "text": [
      "laptop,3390000,15,None,3,Hanoi,4000000,52400,91,85,100,0,0,0,0,3\n"
     ]
    },
    {
     "name": "stderr",
     "output_type": "stream",
     "text": [
      "\r",
      "Processing rows:   3%|▎         | 32/1200 [01:33<52:04,  2.68s/it]"
     ]
    },
    {
     "name": "stdout",
     "output_type": "stream",
     "text": [
      "laptop,55188000,None,48,None,Ho Chi Minh,None,Mien phi,82,None,100,0,0,0,0,0\n"
     ]
    },
    {
     "name": "stderr",
     "output_type": "stream",
     "text": [
      "\r",
      "Processing rows:   3%|▎         | 33/1200 [01:35<51:37,  2.65s/it]"
     ]
    },
    {
     "name": "stdout",
     "output_type": "stream",
     "text": [
      "laptop,1089839,16,None,3,Hung Yen,1399999,80200,86,100,88,0,0,0,0,3\n"
     ]
    },
    {
     "name": "stderr",
     "output_type": "stream",
     "text": [
      "\r",
      "Processing rows:   3%|▎         | 34/1200 [01:38<55:05,  2.84s/it]"
     ]
    },
    {
     "name": "stdout",
     "output_type": "stream",
     "text": [
      "laptop,4560080,21,28,15,Hà Nội,6500000,84600,94,100,76,0,2,0,1,12\n"
     ]
    },
    {
     "name": "stderr",
     "output_type": "stream",
     "text": [
      "\r",
      "Processing rows:   3%|▎         | 35/1200 [01:41<54:31,  2.81s/it]"
     ]
    },
    {
     "name": "stdout",
     "output_type": "stream",
     "text": [
      "laptop,4799999,40,117,33,Hai Phong,7939999,100,95,99,100,1,0,0,0,32\n"
     ]
    },
    {
     "name": "stderr",
     "output_type": "stream",
     "text": [
      "\r",
      "Processing rows:   3%|▎         | 36/1200 [01:44<53:33,  2.76s/it]"
     ]
    },
    {
     "name": "stdout",
     "output_type": "stream",
     "text": [
      "laptop,2833699,19,50,4,Ha Noi,6500000,98,100,100,0,0,0,0,4\n"
     ]
    },
    {
     "name": "stderr",
     "output_type": "stream",
     "text": [
      "\r",
      "Processing rows:   3%|▎         | 37/1200 [01:46<52:28,  2.71s/it]"
     ]
    },
    {
     "name": "stdout",
     "output_type": "stream",
     "text": [
      "laptop,2550000,20,33,9,Ha Noi,3200000,52400,91,85,100,0,0,0,0,9\n"
     ]
    },
    {
     "name": "stderr",
     "output_type": "stream",
     "text": [
      "\r",
      "Processing rows:   3%|▎         | 38/1200 [01:50<54:26,  2.81s/it]"
     ]
    },
    {
     "name": "stdout",
     "output_type": "stream",
     "text": [
      "laptop,7250089,19,129,35,Ho Chi Minh,8999999,100,95,100,83,1,0,0,0,34\n"
     ]
    },
    {
     "name": "stderr",
     "output_type": "stream",
     "text": [
      "\r",
      "Processing rows:   3%|▎         | 39/1200 [01:52<53:22,  2.76s/it]"
     ]
    },
    {
     "name": "stdout",
     "output_type": "stream",
     "text": [
      "laptop,4351599,48,25,5,Hai Phong,8299999,100,100,80,0,0,0,0,5\n"
     ]
    },
    {
     "name": "stderr",
     "output_type": "stream",
     "text": [
      "\r",
      "Processing rows:   3%|▎         | 40/1200 [01:55<55:59,  2.90s/it]"
     ]
    },
    {
     "name": "stdout",
     "output_type": "stream",
     "text": [
      "laptop,21600000,8,nan,1,Ho Chi Minh,23590000,100,94,81,100,0,0,0,0,1\n"
     ]
    },
    {
     "name": "stderr",
     "output_type": "stream",
     "text": [
      "\r",
      "Processing rows:   3%|▎         | 41/1200 [01:58<53:46,  2.78s/it]"
     ]
    },
    {
     "name": "stdout",
     "output_type": "stream",
     "text": [
      "laptop,864999,28,None,None,Hung Yen,None,None,None,None,1,0,0,0,1\n"
     ]
    },
    {
     "name": "stderr",
     "output_type": "stream",
     "text": [
      "\r",
      "Processing rows:   4%|▎         | 42/1200 [02:00<49:38,  2.57s/it]"
     ]
    },
    {
     "name": "stdout",
     "output_type": "stream",
     "text": [
      "laptop,400000,None,None,None,Tien Giang,None,40300,87,37,100,0,0,0,0,2\n"
     ]
    },
    {
     "name": "stderr",
     "output_type": "stream",
     "text": [
      "\r",
      "Processing rows:   4%|▎         | 43/1200 [02:02<49:08,  2.55s/it]"
     ]
    },
    {
     "name": "stdout",
     "output_type": "stream",
     "text": [
      "laptop,3800000,46,None,None,Ho Chi Minh,7000000,16500,96,80,94,0,0,0,1,0\n"
     ]
    },
    {
     "name": "stderr",
     "output_type": "stream",
     "text": [
      "\r",
      "Processing rows:   4%|▎         | 44/1200 [02:06<51:58,  2.70s/it]"
     ]
    },
    {
     "name": "stdout",
     "output_type": "stream",
     "text": [
      "laptop,2300000,8,nan,nan,Ha Noi,3000000,104900,92,66,85,0,0,0,0,1\n"
     ]
    },
    {
     "name": "stderr",
     "output_type": "stream",
     "text": [
      "\r",
      "Processing rows:   4%|▍         | 45/1200 [02:08<47:52,  2.49s/it]"
     ]
    },
    {
     "name": "stdout",
     "output_type": "stream",
     "text": [
      "laptop,1300000,None,None,None,Hanoi,None,104900,92,66,85,0,0,0,0,8\n"
     ]
    },
    {
     "name": "stderr",
     "output_type": "stream",
     "text": [
      "\r",
      "Processing rows:   4%|▍         | 46/1200 [02:10<45:35,  2.37s/it]"
     ]
    },
    {
     "name": "stdout",
     "output_type": "stream",
     "text": [
      "laptop,2500000,None,None,None,Hanoi,None,104900,92,66,85,0,0,2,1,43\n"
     ]
    },
    {
     "name": "stderr",
     "output_type": "stream",
     "text": [
      "\r",
      "Processing rows:   4%|▍         | 47/1200 [02:13<52:02,  2.71s/it]"
     ]
    },
    {
     "name": "stdout",
     "output_type": "stream",
     "text": [
      "laptop,2750000,31,nan,nan,Ho Chi Minh,4000000,16500,96,80,94,0,0,0,0,0\n"
     ]
    },
    {
     "name": "stderr",
     "output_type": "stream",
     "text": [
      "\r",
      "Processing rows:   4%|▍         | 48/1200 [02:16<50:17,  2.62s/it]"
     ]
    },
    {
     "name": "stdout",
     "output_type": "stream",
     "text": [
      "laptop,1600000,None,None,None,Nghệ An,None,56800,95,100,None,6,1,2,9,115\n"
     ]
    },
    {
     "name": "stderr",
     "output_type": "stream",
     "text": [
      "\r",
      "Processing rows:   4%|▍         | 49/1200 [02:18<49:14,  2.57s/it]"
     ]
    },
    {
     "name": "stdout",
     "output_type": "stream",
     "text": [
      "laptop,2550000,49,None,None,Thai Binh,5000000,80200,95,100,None,2,0,0,2,46\n"
     ]
    },
    {
     "name": "stderr",
     "output_type": "stream",
     "text": [
      "\r",
      "Processing rows:   4%|▍         | 50/1200 [02:21<49:40,  2.59s/it]"
     ]
    },
    {
     "name": "stdout",
     "output_type": "stream",
     "text": [
      "laptop,3240000,None,None,None,Hanoi,None,100,98,100,100,0,0,0,0,0\n"
     ]
    },
    {
     "name": "stderr",
     "output_type": "stream",
     "text": [
      "\r",
      "Processing rows:   4%|▍         | 51/1200 [02:23<50:06,  2.62s/it]"
     ]
    },
    {
     "name": "stdout",
     "output_type": "stream",
     "text": [
      "laptop,465000,6,nan,nan,Ho Chi Minh,199000,16500,99,100,100,3,1,2,12,771\n"
     ]
    },
    {
     "name": "stderr",
     "output_type": "stream",
     "text": [
      "\r",
      "Processing rows:   4%|▍         | 52/1200 [02:26<49:27,  2.59s/it]"
     ]
    },
    {
     "name": "stdout",
     "output_type": "stream",
     "text": [
      "laptop,6000000,None,None,None,Nam Dinh,None,56800,99,100,100,0,0,0,0,42\n"
     ]
    },
    {
     "name": "stderr",
     "output_type": "stream",
     "text": [
      "\r",
      "Processing rows:   4%|▍         | 53/1200 [02:29<50:10,  2.62s/it]"
     ]
    },
    {
     "name": "stdout",
     "output_type": "stream",
     "text": [
      "laptop,1799000,None,None,None,Dong Nai,None,65500,96,50,100,0,0,0,1,12\n"
     ]
    },
    {
     "name": "stderr",
     "output_type": "stream",
     "text": [
      "\r",
      "Processing rows:   4%|▍         | 54/1200 [02:31<50:45,  2.66s/it]"
     ]
    },
    {
     "name": "stdout",
     "output_type": "stream",
     "text": [
      "laptop,4000000,50,nan,nan,Ho Chi Minh,8598000,10200,91,100,80,0,0,0,0,1\n"
     ]
    },
    {
     "name": "stderr",
     "output_type": "stream",
     "text": [
      "\r",
      "Processing rows:   5%|▍         | 55/1200 [02:34<52:24,  2.75s/it]"
     ]
    },
    {
     "name": "stdout",
     "output_type": "stream",
     "text": [
      "laptop,3200000,33,nan,nan,Ho Chi Minh,4800000,23800,96,100,100,0,0,0,0,1\n"
     ]
    },
    {
     "name": "stderr",
     "output_type": "stream",
     "text": [
      "\r",
      "Processing rows:   5%|▍         | 56/1200 [02:37<52:56,  2.78s/it]"
     ]
    },
    {
     "name": "stdout",
     "output_type": "stream",
     "text": [
      "laptop,9999000,26,None,None,Ho Chi Minh,4800000,23800,96,100,100,0,0,0,0,1\n"
     ]
    },
    {
     "name": "stderr",
     "output_type": "stream",
     "text": [
      "\r",
      "Processing rows:   5%|▍         | 57/1200 [02:40<52:47,  2.77s/it]"
     ]
    },
    {
     "name": "stdout",
     "output_type": "stream",
     "text": [
      "laptop,12000000,None,None,None,Thai Nguyen,None,43900,None,None,None,0,0,0,0,0\n"
     ]
    },
    {
     "name": "stderr",
     "output_type": "stream",
     "text": [
      "\r",
      "Processing rows:   5%|▍         | 58/1200 [02:43<54:17,  2.85s/it]"
     ]
    },
    {
     "name": "stdout",
     "output_type": "stream",
     "text": [
      "laptop,6851459,24,None,None,Ho Chi Minh,9999999,100,97,None,100,0,0,0,0,27\n"
     ]
    },
    {
     "name": "stderr",
     "output_type": "stream",
     "text": [
      "\r",
      "Processing rows:   5%|▍         | 59/1200 [02:46<58:38,  3.08s/it]"
     ]
    },
    {
     "name": "stdout",
     "output_type": "stream",
     "text": [
      "laptop,2700000,36,nan,nan,Ho Chi Minh,4200000,20100,88,100,nan,0,0,0,0,1\n"
     ]
    },
    {
     "name": "stderr",
     "output_type": "stream",
     "text": [
      "\r",
      "Processing rows:   5%|▌         | 60/1200 [02:49<55:12,  2.91s/it]"
     ]
    },
    {
     "name": "stdout",
     "output_type": "stream",
     "text": [
      "laptop,6950000,None,None,None,Ho Chi Minh,None,Miễn phí,96,100,93,0,0,0,0,0\n"
     ]
    },
    {
     "name": "stderr",
     "output_type": "stream",
     "text": [
      "\r",
      "Processing rows:   5%|▌         | 61/1200 [02:52<56:23,  2.97s/it]"
     ]
    },
    {
     "name": "stdout",
     "output_type": "stream",
     "text": [
      "laptop,6414925,52,nan,nan,Ho Chi Minh,12999999,97,81,100,1,0,0,0,18\n"
     ]
    },
    {
     "name": "stderr",
     "output_type": "stream",
     "text": [
      "\r",
      "Processing rows:   5%|▌         | 62/1200 [02:55<55:24,  2.92s/it]"
     ]
    },
    {
     "name": "stdout",
     "output_type": "stream",
     "text": [
      "laptop,4600000,None,None,None,Hung Yen,None,70000,91,65,100,0,0,0,0,1\n"
     ]
    },
    {
     "name": "stderr",
     "output_type": "stream",
     "text": [
      "\r",
      "Processing rows:   5%|▌         | 63/1200 [02:58<53:51,  2.84s/it]"
     ]
    },
    {
     "name": "stdout",
     "output_type": "stream",
     "text": [
      "laptop,240000,nan,nan,nan,Ho Chi Minh,12999999,100,97,81,100,1,0,0,0,18\n"
     ]
    },
    {
     "name": "stderr",
     "output_type": "stream",
     "text": [
      "\r",
      "Processing rows:   5%|▌         | 64/1200 [03:00<52:04,  2.75s/it]"
     ]
    },
    {
     "name": "stdout",
     "output_type": "stream",
     "text": [
      "laptop,12870000,20,nan,nan,Hà Nội,15990000,74400,98,100,92,0,0,0,0,2\n"
     ]
    },
    {
     "name": "stderr",
     "output_type": "stream",
     "text": [
      "\r",
      "Processing rows:   5%|▌         | 65/1200 [03:03<53:39,  2.84s/it]"
     ]
    },
    {
     "name": "stdout",
     "output_type": "stream",
     "text": [
      "laptop,21799000,13,nan,nan,Ho Chi Minh,25000000,23800,93,100,nan,0,0,0,0,0\n"
     ]
    },
    {
     "name": "stderr",
     "output_type": "stream",
     "text": [
      "\r",
      "Processing rows:   6%|▌         | 66/1200 [03:06<52:36,  2.78s/it]"
     ]
    },
    {
     "name": "stdout",
     "output_type": "stream",
     "text": [
      "laptop,8275139,36,nan,nan,Ho Chi Minh,13999999,97,81,100,0,0,0,0,4\n"
     ]
    },
    {
     "name": "stderr",
     "output_type": "stream",
     "text": [
      "\r",
      "Processing rows:   6%|▌         | 67/1200 [03:08<50:34,  2.68s/it]"
     ]
    },
    {
     "name": "stdout",
     "output_type": "stream",
     "text": [
      "laptop,11200000,44,None,None,Ho Chi Minh,20000000,1200,99,75,100,0,0,0,0,0\n"
     ]
    },
    {
     "name": "stderr",
     "output_type": "stream",
     "text": [
      "\r",
      "Processing rows:   6%|▌         | 68/1200 [03:11<51:19,  2.72s/it]"
     ]
    },
    {
     "name": "stdout",
     "output_type": "stream",
     "text": [
      "laptop,6047091,45,None,None,Hanoi,11000000,38000,94,100,76,0,0,0,0,5\n"
     ]
    },
    {
     "name": "stderr",
     "output_type": "stream",
     "text": [
      "\r",
      "Processing rows:   6%|▌         | 69/1200 [03:14<51:13,  2.72s/it]"
     ]
    },
    {
     "name": "stdout",
     "output_type": "stream",
     "text": [
      "laptop,2789000,20,nan,nan,Quang Tri,4199000,70000,97,nan,nan,0,0,0,4,62\n"
     ]
    },
    {
     "name": "stderr",
     "output_type": "stream",
     "text": [
      "\r",
      "Processing rows:   6%|▌         | 70/1200 [03:17<53:02,  2.82s/it]"
     ]
    },
    {
     "name": "stdout",
     "output_type": "stream",
     "text": [
      "laptop,7850000,43,None,None,Ho Chi Minh,13800000,27300,96,100,None,0,0,0,0,4\n"
     ]
    },
    {
     "name": "stderr",
     "output_type": "stream",
     "text": [
      "\r",
      "Processing rows:   6%|▌         | 71/1200 [03:19<52:19,  2.78s/it]"
     ]
    },
    {
     "name": "stdout",
     "output_type": "stream",
     "text": [
      "laptop,14590000,23,None,None,Ho Chi Minh,18990000,10200,97,98,85,0,0,0,0,0\n"
     ]
    },
    {
     "name": "stderr",
     "output_type": "stream",
     "text": [
      "\r",
      "Processing rows:   6%|▌         | 72/1200 [03:22<52:58,  2.82s/it]"
     ]
    },
    {
     "name": "stdout",
     "output_type": "stream",
     "text": [
      "laptop,16290000,4,nan,nan,Ho Chi Minh,16990000,nan,96,nan,83,0,0,0,0,1\n"
     ]
    },
    {
     "name": "stderr",
     "output_type": "stream",
     "text": [
      "\r",
      "Processing rows:   6%|▌         | 73/1200 [03:26<58:42,  3.13s/it]"
     ]
    },
    {
     "name": "stdout",
     "output_type": "stream",
     "text": [
      "laptop,19100000,9,nan,nan,Ho Chi Minh,20990000,100,94,86,100,0,0,0,0,0\n"
     ]
    },
    {
     "name": "stderr",
     "output_type": "stream",
     "text": [
      "\r",
      "Processing rows:   6%|▌         | 74/1200 [03:29<58:35,  3.12s/it]"
     ]
    },
    {
     "name": "stdout",
     "output_type": "stream",
     "text": [
      "laptop,10290000,21,None,None,Ho Chi Minh,12990000,10200,97,98,85,0,0,0,0,0\n"
     ]
    },
    {
     "name": "stderr",
     "output_type": "stream",
     "text": [
      "\r",
      "Processing rows:   6%|▋         | 75/1200 [03:32<54:37,  2.91s/it]"
     ]
    },
    {
     "name": "stdout",
     "output_type": "stream",
     "text": [
      "laptop,15000000,12,nan,nan,Ho Chi Minh,16990000,100,94,86,100,0,0,0,0,0\n"
     ]
    },
    {
     "name": "stderr",
     "output_type": "stream",
     "text": [
      "\r",
      "Processing rows:   6%|▋         | 76/1200 [03:34<52:45,  2.82s/it]"
     ]
    },
    {
     "name": "stdout",
     "output_type": "stream",
     "text": [
      "laptop,35990000,None,None,None,Ho Chi Minh,None,27300,None,None,None,0,0,0,0,0\n"
     ]
    },
    {
     "name": "stderr",
     "output_type": "stream",
     "text": [
      "\r",
      "Processing rows:   6%|▋         | 77/1200 [03:38<56:50,  3.04s/it]"
     ]
    },
    {
     "name": "stdout",
     "output_type": "stream",
     "text": [
      "laptop,20143200,25,nan,nan,Ho Chi Minh,44899000,100,97,100,100,0,0,0,0,0\n"
     ]
    },
    {
     "name": "stderr",
     "output_type": "stream",
     "text": [
      "\r",
      "Processing rows:   6%|▋         | 78/1200 [03:41<55:52,  2.99s/it]"
     ]
    },
    {
     "name": "stdout",
     "output_type": "stream",
     "text": [
      "laptop,5900000,31,nan,nan,Thanh Hoa,8500000,56800,96,100,75,0,0,0,0,0\n"
     ]
    },
    {
     "name": "stderr",
     "output_type": "stream",
     "text": [
      "\r",
      "Processing rows:   7%|▋         | 79/1200 [03:44<54:25,  2.91s/it]"
     ]
    },
    {
     "name": "stdout",
     "output_type": "stream",
     "text": [
      "laptop,20950000,7,nan,nan,Ho Chi Minh,22590000,100,94,86,100,0,0,0,0,0\n"
     ]
    },
    {
     "name": "stderr",
     "output_type": "stream",
     "text": [
      "\r",
      "Processing rows:   7%|▋         | 80/1200 [03:48<1:00:55,  3.26s/it]"
     ]
    },
    {
     "name": "stdout",
     "output_type": "stream",
     "text": [
      "laptop,5800000,None,None,None,Hanoi,None,100,98,100,100,0,0,0,0,0\n"
     ]
    },
    {
     "name": "stderr",
     "output_type": "stream",
     "text": [
      "\r",
      "Processing rows:   7%|▋         | 81/1200 [03:50<57:11,  3.07s/it]  "
     ]
    },
    {
     "name": "stdout",
     "output_type": "stream",
     "text": [
      "laptop,17990000,38,3000,666,Bac Ninh,28990000,10200,94,98,100,28,5,10,17,606\n"
     ]
    },
    {
     "name": "stderr",
     "output_type": "stream",
     "text": [
      "\r",
      "Processing rows:   7%|▋         | 82/1200 [03:53<56:31,  3.03s/it]"
     ]
    },
    {
     "name": "stdout",
     "output_type": "stream",
     "text": [
      "laptop,14900000,None,None,None,Ho Chi Minh,None,27300,None,None,None,0,0,0,0,0\n"
     ]
    },
    {
     "name": "stderr",
     "output_type": "stream",
     "text": [
      "\r",
      "Processing rows:   7%|▋         | 83/1200 [03:56<53:41,  2.88s/it]"
     ]
    },
    {
     "name": "stdout",
     "output_type": "stream",
     "text": [
      "laptop,3200000,50,None,None,Hanoi,6400000,100,None,None,None,0,0,0,0,0\n"
     ]
    },
    {
     "name": "stderr",
     "output_type": "stream",
     "text": [
      "\r",
      "Processing rows:   7%|▋         | 84/1200 [03:59<57:25,  3.09s/it]"
     ]
    },
    {
     "name": "stdout",
     "output_type": "stream",
     "text": [
      "laptop,10490000,19,351,108,Ho Chi Minh,12990000,21200,98,77,66,3,0,0,1,104\n"
     ]
    },
    {
     "name": "stderr",
     "output_type": "stream",
     "text": [
      "\r",
      "Processing rows:   7%|▋         | 85/1200 [04:03<58:57,  3.17s/it]"
     ]
    },
    {
     "name": "stdout",
     "output_type": "stream",
     "text": [
      "laptop,7254959,45,16,3,Hai Phong,13199999,100,100,80,0,0,0,0,3\n"
     ]
    },
    {
     "name": "stderr",
     "output_type": "stream",
     "text": [
      "\r",
      "Processing rows:   7%|▋         | 86/1200 [04:05<55:40,  3.00s/it]"
     ]
    },
    {
     "name": "stdout",
     "output_type": "stream",
     "text": [
      "laptop,2550000,20,33,9,Ha Noi,3200000,52400,91,75,100,0,0,0,0,9\n"
     ]
    },
    {
     "name": "stderr",
     "output_type": "stream",
     "text": [
      "\r",
      "Processing rows:   7%|▋         | 87/1200 [04:08<54:55,  2.96s/it]"
     ]
    },
    {
     "name": "stdout",
     "output_type": "stream",
     "text": [
      "laptop,7223999,52,51,5,Hai Phong,13899999,None,100,100,80,0,0,0,0,5\n"
     ]
    },
    {
     "name": "stderr",
     "output_type": "stream",
     "text": [
      "\r",
      "Processing rows:   7%|▋         | 88/1200 [04:11<54:43,  2.95s/it]"
     ]
    },
    {
     "name": "stdout",
     "output_type": "stream",
     "text": [
      "laptop,4351599,48,25,5,Hai Phong,8299999,100,100,80,0,0,0,0,5\n"
     ]
    },
    {
     "name": "stderr",
     "output_type": "stream",
     "text": [
      "\r",
      "Processing rows:   7%|▋         | 89/1200 [04:14<54:24,  2.94s/it]"
     ]
    },
    {
     "name": "stdout",
     "output_type": "stream",
     "text": [
      "laptop,902899,25,11,2,Hung Yen,1499999,70000,86,100,88,1,0,0,0,2\n"
     ]
    },
    {
     "name": "stderr",
     "output_type": "stream",
     "text": [
      "\r",
      "Processing rows:   8%|▊         | 90/1200 [04:17<53:28,  2.89s/it]"
     ]
    },
    {
     "name": "stdout",
     "output_type": "stream",
     "text": [
      "laptop,4804919,44,97,23,Hai Phong,8599999,51100,88,100,100,3,0,1,0,20\n"
     ]
    },
    {
     "name": "stderr",
     "output_type": "stream",
     "text": [
      "\r",
      "Processing rows:   8%|▊         | 91/1200 [04:20<53:15,  2.88s/it]"
     ]
    },
    {
     "name": "stdout",
     "output_type": "stream",
     "text": [
      "laptop,8600000,33,nan,nan,Ho Chi Minh,12800000,100,96,100,100,0,0,0,0,0\n"
     ]
    },
    {
     "name": "stderr",
     "output_type": "stream",
     "text": [
      "\r",
      "Processing rows:   8%|▊         | 92/1200 [04:23<53:37,  2.90s/it]"
     ]
    },
    {
     "name": "stdout",
     "output_type": "stream",
     "text": [
      "laptop,499000,64,131,22,Nước ngoài,1400916,17000,96,98,100,0,0,0,0,22\n"
     ]
    },
    {
     "name": "stderr",
     "output_type": "stream",
     "text": [
      "\r",
      "Processing rows:   8%|▊         | 93/1200 [04:25<53:44,  2.91s/it]"
     ]
    },
    {
     "name": "stdout",
     "output_type": "stream",
     "text": [
      "laptop,1300000,28,83,41,Hà Nội,None,744000,92,50,85,0,0,0,6,35\n"
     ]
    },
    {
     "name": "stderr",
     "output_type": "stream",
     "text": [
      "\r",
      "Processing rows:   8%|▊         | 94/1200 [04:28<51:49,  2.81s/it]"
     ]
    },
    {
     "name": "stdout",
     "output_type": "stream",
     "text": [
      "laptop,3248000,10,64,28,Nghệ An,3598000,56800,94,92,92,0,0,0,0,28\n"
     ]
    },
    {
     "name": "stderr",
     "output_type": "stream",
     "text": [
      "\r",
      "Processing rows:   8%|▊         | 95/1200 [04:31<50:51,  2.76s/it]"
     ]
    },
    {
     "name": "stdout",
     "output_type": "stream",
     "text": [
      "laptop,3258000,19,73,32,Nghệ An,3998000,56800,94,92,92,0,0,1,0,31\n"
     ]
    },
    {
     "name": "stderr",
     "output_type": "stream",
     "text": [
      "\r",
      "Processing rows:   8%|▊         | 96/1200 [04:34<51:56,  2.82s/it]"
     ]
    },
    {
     "name": "stdout",
     "output_type": "stream",
     "text": [
      "laptop,1200000,48,24,11,Ho Chi Minh,2300000,100,91,100,100,0,1,0,1,9\n"
     ]
    },
    {
     "name": "stderr",
     "output_type": "stream",
     "text": [
      "\r",
      "Processing rows:   8%|▊         | 97/1200 [04:36<51:32,  2.80s/it]"
     ]
    },
    {
     "name": "stdout",
     "output_type": "stream",
     "text": [
      "laptop,6000000,None,136,42,Nam Dinh,None,56800,99,100,100,0,0,0,0,42\n"
     ]
    },
    {
     "name": "stderr",
     "output_type": "stream",
     "text": [
      "\r",
      "Processing rows:   8%|▊         | 98/1200 [04:39<48:50,  2.66s/it]"
     ]
    },
    {
     "name": "stdout",
     "output_type": "stream",
     "text": [
      "laptop,27590000,16,147,3,Bac Ninh,32990000,10200,94,98,100,0,0,0,0,4\n"
     ]
    },
    {
     "name": "stderr",
     "output_type": "stream",
     "text": [
      "\r",
      "Processing rows:   8%|▊         | 99/1200 [04:41<48:10,  2.63s/it]"
     ]
    },
    {
     "name": "stdout",
     "output_type": "stream",
     "text": [
      "laptop,27290000,3,10,None,Ho Chi Minh,32999000,9700,94,98,100,0,0,0,0,0\n"
     ]
    },
    {
     "name": "stderr",
     "output_type": "stream",
     "text": [
      "\r",
      "Processing rows:   8%|▊         | 100/1200 [04:45<52:43,  2.88s/it]"
     ]
    },
    {
     "name": "stdout",
     "output_type": "stream",
     "text": [
      "laptop,383775,50,193,171,Nước ngoài,772800,None,99,None,100,2,0,1,2,166\n"
     ]
    },
    {
     "name": "stderr",
     "output_type": "stream",
     "text": [
      "\r",
      "Processing rows:   8%|▊         | 101/1200 [04:49<59:01,  3.22s/it]"
     ]
    },
    {
     "name": "stdout",
     "output_type": "stream",
     "text": [
      "laptop,690000,12,1500,430,Ho Chi Minh,1670000,18300,98,100,100,11,0,7,3,409\n"
     ]
    },
    {
     "name": "stderr",
     "output_type": "stream",
     "text": [
      "\r",
      "Processing rows:   8%|▊         | 102/1200 [04:52<56:16,  3.07s/it]"
     ]
    },
    {
     "name": "stdout",
     "output_type": "stream",
     "text": [
      "laptop,619000,65,988,317,Nước ngoài,1750000,17000,96,98,100,2,4,5,12,294\n"
     ]
    },
    {
     "name": "stderr",
     "output_type": "stream",
     "text": [
      "\r",
      "Processing rows:   9%|▊         | 103/1200 [04:54<54:43,  2.99s/it]"
     ]
    },
    {
     "name": "stdout",
     "output_type": "stream",
     "text": [
      "laptop,3111000,49,None,None,Hanoi,6100000,100,None,None,None,0,0,0,0,0\n"
     ]
    },
    {
     "name": "stderr",
     "output_type": "stream",
     "text": [
      "\r",
      "Processing rows:   9%|▊         | 104/1200 [04:57<53:15,  2.92s/it]"
     ]
    },
    {
     "name": "stdout",
     "output_type": "stream",
     "text": [
      "laptop,12000000,None,None,None,Thai Nguyen,None,43900,None,None,None,0,0,0,0,0\n"
     ]
    },
    {
     "name": "stderr",
     "output_type": "stream",
     "text": [
      "\r",
      "Processing rows:   9%|▉         | 105/1200 [05:01<56:28,  3.09s/it]"
     ]
    },
    {
     "name": "stdout",
     "output_type": "stream",
     "text": [
      "laptop,8000000,32,74,7,Ha Noi,11800000,84600,98,100,100,0,0,0,0,7\n"
     ]
    },
    {
     "name": "stderr",
     "output_type": "stream",
     "text": [
      "\r",
      "Processing rows:   9%|▉         | 106/1200 [05:04<57:58,  3.18s/it]"
     ]
    },
    {
     "name": "stdout",
     "output_type": "stream",
     "text": [
      "laptop,1089839,16,None,3,Hung Yen,1399999,80200,86,100,88,0,0,0,0,3\n"
     ]
    },
    {
     "name": "stderr",
     "output_type": "stream",
     "text": [
      "\r",
      "Processing rows:   9%|▉         | 107/1200 [05:07<57:31,  3.16s/it]"
     ]
    },
    {
     "name": "stdout",
     "output_type": "stream",
     "text": [
      "laptop,19800000,None,None,None,Ho Chi Minh,None,74700,92,20,90,0,0,0,0,0\n"
     ]
    },
    {
     "name": "stderr",
     "output_type": "stream",
     "text": [
      "\r",
      "Processing rows:   9%|▉         | 108/1200 [05:10<54:13,  2.98s/it]"
     ]
    },
    {
     "name": "stdout",
     "output_type": "stream",
     "text": [
      "laptop,46490000,None,38,None,Ho Chi Minh,None,None,96,None,83,0,0,0,0,0\n"
     ]
    },
    {
     "name": "stderr",
     "output_type": "stream",
     "text": [
      "\r",
      "Processing rows:   9%|▉         | 109/1200 [05:12<53:32,  2.94s/it]"
     ]
    },
    {
     "name": "stdout",
     "output_type": "stream",
     "text": [
      "laptop,14790000,22,None,None,Ho Chi Minh,18990000,21200,97,99,88,0,0,0,0,0\n"
     ]
    },
    {
     "name": "stderr",
     "output_type": "stream",
     "text": [
      "\r",
      "Processing rows:   9%|▉         | 110/1200 [05:14<47:59,  2.64s/it]"
     ]
    },
    {
     "name": "stdout",
     "output_type": "stream",
     "text": [
      "laptop,8890000,29,None,None,Ho Chi Minh,12490000,20100,97,99,88,0,0,0,0,0\n"
     ]
    },
    {
     "name": "stderr",
     "output_type": "stream",
     "text": [
      "\r",
      "Processing rows:   9%|▉         | 111/1200 [05:17<48:17,  2.66s/it]"
     ]
    },
    {
     "name": "stdout",
     "output_type": "stream",
     "text": [
      "laptop,25290000,None,5,None,Ho Chi Minh,None,None,96,None,83,0,0,0,0,0\n"
     ]
    },
    {
     "name": "stderr",
     "output_type": "stream",
     "text": [
      "\r",
      "Processing rows:   9%|▉         | 112/1200 [05:19<46:28,  2.56s/it]"
     ]
    },
    {
     "name": "stdout",
     "output_type": "stream",
     "text": [
      "laptop,26000000,10,8,None,Ho Chi Minh,28790000,100,94,86,100,0,0,0,0,0\n"
     ]
    },
    {
     "name": "stderr",
     "output_type": "stream",
     "text": [
      "\r",
      "Processing rows:   9%|▉         | 113/1200 [05:22<47:24,  2.62s/it]"
     ]
    },
    {
     "name": "stdout",
     "output_type": "stream",
     "text": [
      "laptop,7850000,43,8,4,Ho Chi Minh,13800000,27300,96,100,,0,0,0,0,4\n"
     ]
    },
    {
     "name": "stderr",
     "output_type": "stream",
     "text": [
      "\r",
      "Processing rows:  10%|▉         | 114/1200 [05:24<44:24,  2.45s/it]"
     ]
    },
    {
     "name": "stdout",
     "output_type": "stream",
     "text": [
      "laptop,1700000,None,None,None,Hung Yen,None,70000,91,65,100,0,0,0,0,0\n"
     ]
    },
    {
     "name": "stderr",
     "output_type": "stream",
     "text": [
      "\r",
      "Processing rows:  10%|▉         | 115/1200 [05:26<42:21,  2.34s/it]"
     ]
    },
    {
     "name": "stdout",
     "output_type": "stream",
     "text": [
      "laptop,14590000,23,None,None,Ho Chi Minh,18990000,10200,97,98,85,0,0,0,0,0\n"
     ]
    },
    {
     "name": "stderr",
     "output_type": "stream",
     "text": [
      "\r",
      "Processing rows:  10%|▉         | 116/1200 [05:29<41:57,  2.32s/it]"
     ]
    },
    {
     "name": "stdout",
     "output_type": "stream",
     "text": [
      "laptop,2622600,42,89,36,Ho Chi Minh,4100000,16500,96,80,94,1,1,1,5,28\n"
     ]
    },
    {
     "name": "stderr",
     "output_type": "stream",
     "text": [
      "\r",
      "Processing rows:  10%|▉         | 117/1200 [05:31<42:54,  2.38s/it]"
     ]
    },
    {
     "name": "stdout",
     "output_type": "stream",
     "text": [
      "laptop,7131799,52,21,4,Hai Phong,16099999,100,100,80,0,0,0,0,5\n"
     ]
    },
    {
     "name": "stderr",
     "output_type": "stream",
     "text": [
      "\r",
      "Processing rows:  10%|▉         | 118/1200 [05:34<45:51,  2.54s/it]"
     ]
    },
    {
     "name": "stdout",
     "output_type": "stream",
     "text": [
      "laptop,3400000,None,14,None,Quang Tri,None,37700,97,None,None,0,0,0,0,0\n"
     ]
    },
    {
     "name": "stderr",
     "output_type": "stream",
     "text": [
      "\r",
      "Processing rows:  10%|▉         | 119/1200 [05:37<45:59,  2.55s/it]"
     ]
    },
    {
     "name": "stdout",
     "output_type": "stream",
     "text": [
      "laptop,8269999,44,None,None,Hai Phong,15399999,100,100,80,0,0,0,0,0\n"
     ]
    },
    {
     "name": "stderr",
     "output_type": "stream",
     "text": [
      "\r",
      "Processing rows:  10%|█         | 120/1200 [05:39<43:16,  2.40s/it]"
     ]
    },
    {
     "name": "stdout",
     "output_type": "stream",
     "text": [
      "laptop,4200000,28,5,3,Ho Chi Minh,5800000,16500,96,80,94,0,0,0,0,4\n"
     ]
    },
    {
     "name": "stderr",
     "output_type": "stream",
     "text": [
      "\r",
      "Processing rows:  10%|█         | 121/1200 [05:41<42:46,  2.38s/it]"
     ]
    },
    {
     "name": "stdout",
     "output_type": "stream",
     "text": [
      "laptop,39000,17,312,67,Ho Chi Minh,None,None,None,None,None,11,1,3,5,47\n"
     ]
    },
    {
     "name": "stderr",
     "output_type": "stream",
     "text": [
      "\r",
      "Processing rows:  10%|█         | 122/1200 [05:43<43:06,  2.40s/it]"
     ]
    },
    {
     "name": "stdout",
     "output_type": "stream",
     "text": [
      "laptop,6626250,53,158,51,Hai Phong,15000000,100,96,100,96,0,0,1,0,50\n"
     ]
    },
    {
     "name": "stderr",
     "output_type": "stream",
     "text": [
      "\r",
      "Processing rows:  10%|█         | 123/1200 [05:46<43:54,  2.45s/it]"
     ]
    },
    {
     "name": "stdout",
     "output_type": "stream",
     "text": [
      "laptop,6933599,50,238,65,Hai Phong,13999999,95,100,78,0,0,0,3,62\n"
     ]
    },
    {
     "name": "stderr",
     "output_type": "stream",
     "text": [
      "\r",
      "Processing rows:  10%|█         | 124/1200 [05:48<40:57,  2.28s/it]"
     ]
    },
    {
     "name": "stdout",
     "output_type": "stream",
     "text": [
      "laptop,3750000,50,None,None,Hanoi,7500000,100,None,None,None,0,0,0,0,0\n"
     ]
    },
    {
     "name": "stderr",
     "output_type": "stream",
     "text": [
      "\r",
      "Processing rows:  10%|█         | 125/1200 [05:51<43:02,  2.40s/it]"
     ]
    },
    {
     "name": "stdout",
     "output_type": "stream",
     "text": [
      "laptop,6519809,8,294,118,Ho Chi Minh,8999999,100,96,100,,1,0,2,0,115\n"
     ]
    },
    {
     "name": "stderr",
     "output_type": "stream",
     "text": [
      "\r",
      "Processing rows:  10%|█         | 126/1200 [05:53<45:29,  2.54s/it]"
     ]
    },
    {
     "name": "stdout",
     "output_type": "stream",
     "text": [
      "laptop,1099000,52,7,3,Bac Ninh,2299000,100,100,71,0,0,0,0,3\n"
     ]
    },
    {
     "name": "stderr",
     "output_type": "stream",
     "text": [
      "\r",
      "Processing rows:  11%|█         | 127/1200 [05:57<50:10,  2.81s/it]"
     ]
    },
    {
     "name": "stdout",
     "output_type": "stream",
     "text": [
      "laptop,1239000,38,22,10,Ho Chi Minh,2200000,100,91,100,100,0,0,0,0,10\n"
     ]
    },
    {
     "name": "stderr",
     "output_type": "stream",
     "text": [
      "\r",
      "Processing rows:  11%|█         | 128/1200 [06:00<50:37,  2.83s/it]"
     ]
    },
    {
     "name": "stdout",
     "output_type": "stream",
     "text": [
      "laptop,32940000,6,9,None,Ho Chi Minh,39900000,19600,97,67,100,0,0,0,0,0\n"
     ]
    },
    {
     "name": "stderr",
     "output_type": "stream",
     "text": [
      "\r",
      "Processing rows:  11%|█         | 129/1200 [06:03<53:00,  2.97s/it]"
     ]
    },
    {
     "name": "stdout",
     "output_type": "stream",
     "text": [
      "laptop,864999,28,15,2,Hung Yen,1499999,100600,86,100,88,1,0,0,0,1\n"
     ]
    },
    {
     "name": "stderr",
     "output_type": "stream",
     "text": [
      "\r",
      "Processing rows:  11%|█         | 130/1200 [06:06<52:16,  2.93s/it]"
     ]
    },
    {
     "name": "stdout",
     "output_type": "stream",
     "text": [
      "laptop,687608,31,25,14,Nước ngoài,999999,100,98,100,100,0,0,0,0,14\n"
     ]
    },
    {
     "name": "stderr",
     "output_type": "stream",
     "text": [
      "\r",
      "Processing rows:  11%|█         | 131/1200 [06:09<51:15,  2.88s/it]"
     ]
    },
    {
     "name": "stdout",
     "output_type": "stream",
     "text": [
      "laptop,74000,50,nan,40,Nước ngoài,148000,17000,90,71,nan,1,0,1,1,38\n"
     ]
    },
    {
     "name": "stderr",
     "output_type": "stream",
     "text": [
      "\r",
      "Processing rows:  11%|█         | 132/1200 [06:11<50:07,  2.82s/it]"
     ]
    },
    {
     "name": "stdout",
     "output_type": "stream",
     "text": [
      "laptop,465000,6,2200,789,Ho Chi Minh,199000,16500,99,100,100,3,1,2,12,771\n"
     ]
    },
    {
     "name": "stderr",
     "output_type": "stream",
     "text": [
      "\r",
      "Processing rows:  11%|█         | 133/1200 [06:14<48:23,  2.72s/it]"
     ]
    },
    {
     "name": "stdout",
     "output_type": "stream",
     "text": [
      "laptop,6520000,None,43,14,Hung Yen,None,37700,100,98,100,0,0,0,2,12\n"
     ]
    },
    {
     "name": "stderr",
     "output_type": "stream",
     "text": [
      "\r",
      "Processing rows:  11%|█         | 134/1200 [06:17<50:12,  2.83s/it]"
     ]
    },
    {
     "name": "stdout",
     "output_type": "stream",
     "text": [
      "laptop,121000,56,16,6,Ha Noi,278000,32700,96,100,100,0,0,0,0,6\n"
     ]
    },
    {
     "name": "stderr",
     "output_type": "stream",
     "text": [
      "\r",
      "Processing rows:  11%|█▏        | 135/1200 [06:20<49:17,  2.78s/it]"
     ]
    },
    {
     "name": "stdout",
     "output_type": "stream",
     "text": [
      "laptop,1290000,None,None,None,Binh Duong,None,118500,None,None,None,0,0,0,0,0\n"
     ]
    },
    {
     "name": "stderr",
     "output_type": "stream",
     "text": [
      "\r",
      "Processing rows:  11%|█▏        | 136/1200 [06:22<47:11,  2.66s/it]"
     ]
    },
    {
     "name": "stdout",
     "output_type": "stream",
     "text": [
      "laptop,3390000,15,None,3,Hanoi,4000000,52400,91,75,100,0,0,0,0,3\n"
     ]
    },
    {
     "name": "stderr",
     "output_type": "stream",
     "text": [
      "\r",
      "Processing rows:  11%|█▏        | 137/1200 [06:25<47:54,  2.70s/it]"
     ]
    },
    {
     "name": "stdout",
     "output_type": "stream",
     "text": [
      "laptop,5499000,25,130,57,Ha Noi,7299000,74400,96,100,100,0,0,0,2,55\n"
     ]
    },
    {
     "name": "stderr",
     "output_type": "stream",
     "text": [
      "\r",
      "Processing rows:  12%|█▏        | 138/1200 [06:28<49:46,  2.81s/it]"
     ]
    },
    {
     "name": "stdout",
     "output_type": "stream",
     "text": [
      "laptop,1490000,32,10,3,Ha Noi,2200000,55400,95,100,100,0,0,0,1,2\n"
     ]
    },
    {
     "name": "stderr",
     "output_type": "stream",
     "text": [
      "\r",
      "Processing rows:  12%|█▏        | 139/1200 [06:30<48:42,  2.75s/it]"
     ]
    },
    {
     "name": "stdout",
     "output_type": "stream",
     "text": [
      "laptop,24610000,None,6,None,Ho Chi Minh,None,74700,92,20,90,0,0,0,0,0\n"
     ]
    },
    {
     "name": "stderr",
     "output_type": "stream",
     "text": [
      "\r",
      "Processing rows:  12%|█▏        | 140/1200 [06:33<47:01,  2.66s/it]"
     ]
    },
    {
     "name": "stdout",
     "output_type": "stream",
     "text": [
      "laptop,5618818,57,33,19,Ho Chi Minh,13999998,100,97,81,100,1,0,0,0,18\n"
     ]
    },
    {
     "name": "stderr",
     "output_type": "stream",
     "text": [
      "\r",
      "Processing rows:  12%|█▏        | 141/1200 [06:35<46:05,  2.61s/it]"
     ]
    },
    {
     "name": "stdout",
     "output_type": "stream",
     "text": [
      "laptop,15490000,25,20,7,Ho Chi Minh,20590000,20700,98,77,66,0,0,0,1,6\n"
     ]
    },
    {
     "name": "stderr",
     "output_type": "stream",
     "text": [
      "\r",
      "Processing rows:  12%|█▏        | 142/1200 [06:38<48:07,  2.73s/it]"
     ]
    },
    {
     "name": "stdout",
     "output_type": "stream",
     "text": [
      "laptop,4600000,None,None,1,Hung Yen,None,70000,91,65,100,0,0,0,0,1\n"
     ]
    },
    {
     "name": "stderr",
     "output_type": "stream",
     "text": [
      "\r",
      "Processing rows:  12%|█▏        | 143/1200 [06:41<47:54,  2.72s/it]"
     ]
    },
    {
     "name": "stdout",
     "output_type": "stream",
     "text": [
      "laptop,3900000,None,None,None,Hung Yen,None,70000,91,65,100,0,0,0,0,0\n"
     ]
    },
    {
     "name": "stderr",
     "output_type": "stream",
     "text": [
      "\r",
      "Processing rows:  12%|█▏        | 144/1200 [06:44<47:08,  2.68s/it]"
     ]
    },
    {
     "name": "stdout",
     "output_type": "stream",
     "text": [
      "laptop,21799000,13,8,None,Ho Chi Minh,25000000,23800,93,100,None,0,0,0,0,0\n"
     ]
    },
    {
     "name": "stderr",
     "output_type": "stream",
     "text": [
      "\r",
      "Processing rows:  12%|█▏        | 145/1200 [06:46<46:17,  2.63s/it]"
     ]
    },
    {
     "name": "stdout",
     "output_type": "stream",
     "text": [
      "laptop,21600000,8,nan,1,Ho Chi Minh,23590000,100,94,86,100,0,0,0,0,1\n"
     ]
    },
    {
     "name": "stderr",
     "output_type": "stream",
     "text": [
      "\r",
      "Processing rows:  12%|█▏        | 146/1200 [06:49<44:55,  2.56s/it]"
     ]
    },
    {
     "name": "stdout",
     "output_type": "stream",
     "text": [
      "laptop,5200000,None,None,None,Thanh Hoa,None,100600,None,None,None,0,0,0,0,0\n"
     ]
    },
    {
     "name": "stderr",
     "output_type": "stream",
     "text": [
      "\r",
      "Processing rows:  12%|█▏        | 147/1200 [06:51<43:18,  2.47s/it]"
     ]
    },
    {
     "name": "stdout",
     "output_type": "stream",
     "text": [
      "laptop,6500000,None,19,8,Hung Yen,None,70000,91,65,100,0,0,0,0,8\n"
     ]
    },
    {
     "name": "stderr",
     "output_type": "stream",
     "text": [
      "\r",
      "Processing rows:  12%|█▏        | 148/1200 [06:53<43:39,  2.49s/it]"
     ]
    },
    {
     "name": "stdout",
     "output_type": "stream",
     "text": [
      "laptop,19690000,10,nan,nan,Ho Chi Minh,21990000,nan,96,nan,83,0,0,0,0,0\n"
     ]
    },
    {
     "name": "stderr",
     "output_type": "stream",
     "text": [
      "\r",
      "Processing rows:  12%|█▏        | 149/1200 [06:56<44:20,  2.53s/it]"
     ]
    },
    {
     "name": "stdout",
     "output_type": "stream",
     "text": [
      "laptop,10590000,None,None,None,Thanh Hoa,None,56800,96,100,75,0,0,0,0,0\n"
     ]
    },
    {
     "name": "stderr",
     "output_type": "stream",
     "text": [
      "\r",
      "Processing rows:  12%|█▎        | 150/1200 [06:59<44:24,  2.54s/it]"
     ]
    },
    {
     "name": "stdout",
     "output_type": "stream",
     "text": [
      "laptop,3500000,12,10,4,Hung Yen,3990000,56800,91,65,100,0,0,0,0,4\n"
     ]
    },
    {
     "name": "stderr",
     "output_type": "stream",
     "text": [
      "\r",
      "Processing rows:  13%|█▎        | 151/1200 [07:01<43:22,  2.48s/it]"
     ]
    },
    {
     "name": "stdout",
     "output_type": "stream",
     "text": [
      "laptop,48683200,None,10,None,Hà Nội,None,74400,92,None,None,0,0,0,0,0\n"
     ]
    },
    {
     "name": "stderr",
     "output_type": "stream",
     "text": [
      "\r",
      "Processing rows:  13%|█▎        | 152/1200 [07:04<47:01,  2.69s/it]"
     ]
    },
    {
     "name": "stdout",
     "output_type": "stream",
     "text": [
      "laptop,8400000,None,16,5,Hung Yen,None,70000,91,65,100,0,0,0,0,5\n"
     ]
    },
    {
     "name": "stderr",
     "output_type": "stream",
     "text": [
      "\r",
      "Processing rows:  13%|█▎        | 153/1200 [07:07<47:35,  2.73s/it]"
     ]
    },
    {
     "name": "stdout",
     "output_type": "stream",
     "text": [
      "laptop,3400000,None,12,5,Hung Yen,None,70000,91,65,100,0,0,0,0,5\n"
     ]
    },
    {
     "name": "stderr",
     "output_type": "stream",
     "text": [
      "\r",
      "Processing rows:  13%|█▎        | 154/1200 [07:09<46:28,  2.67s/it]"
     ]
    },
    {
     "name": "stdout",
     "output_type": "stream",
     "text": [
      "laptop,1700000,None,None,None,Hung Yen,None,80200,None,None,None,0,0,0,0,0\n"
     ]
    },
    {
     "name": "stderr",
     "output_type": "stream",
     "text": [
      "\r",
      "Processing rows:  13%|█▎        | 155/1200 [07:11<42:48,  2.46s/it]"
     ]
    },
    {
     "name": "stdout",
     "output_type": "stream",
     "text": [
      "laptop,7156999,53,20,4,Hai Phong,14099999,100,100,80,0,0,0,0,4\n"
     ]
    },
    {
     "name": "stderr",
     "output_type": "stream",
     "text": [
      "\r",
      "Processing rows:  13%|█▎        | 156/1200 [07:14<42:53,  2.46s/it]"
     ]
    },
    {
     "name": "stdout",
     "output_type": "stream",
     "text": [
      "laptop,29990000,25,nan,nan,Ho Chi Minh,39990000,100,99,97,95,0,0,0,0,0\n"
     ]
    },
    {
     "name": "stderr",
     "output_type": "stream",
     "text": [
      "\r",
      "Processing rows:  13%|█▎        | 157/1200 [07:16<43:29,  2.50s/it]"
     ]
    },
    {
     "name": "stdout",
     "output_type": "stream",
     "text": [
      "laptop,27990000,26,nan,nan,Ho Chi Minh,37999000,100,99,97,95,0,0,0,0,0\n"
     ]
    },
    {
     "name": "stderr",
     "output_type": "stream",
     "text": [
      "\r",
      "Processing rows:  13%|█▎        | 158/1200 [07:19<42:55,  2.47s/it]"
     ]
    },
    {
     "name": "stdout",
     "output_type": "stream",
     "text": [
      "laptop,2990000,None,None,None,Hung Yen,None,70000,91,65,100,0,0,0,0,0\n"
     ]
    },
    {
     "name": "stderr",
     "output_type": "stream",
     "text": [
      "\r",
      "Processing rows:  13%|█▎        | 159/1200 [07:22<47:18,  2.73s/it]"
     ]
    },
    {
     "name": "stdout",
     "output_type": "stream",
     "text": [
      "laptop,15089000,8,nan,nan,Ho Chi Minh,16489000,12800,97,98,85,0,0,0,0,0\n"
     ]
    },
    {
     "name": "stderr",
     "output_type": "stream",
     "text": [
      "\r",
      "Processing rows:  13%|█▎        | 160/1200 [07:25<45:53,  2.65s/it]"
     ]
    },
    {
     "name": "stdout",
     "output_type": "stream",
     "text": [
      "laptop,350000,None,None,None,Tay Ninh,None,48200,97,100,80,0,0,0,0,0\n"
     ]
    },
    {
     "name": "stderr",
     "output_type": "stream",
     "text": [
      "\r",
      "Processing rows:  13%|█▎        | 161/1200 [07:27<45:26,  2.62s/it]"
     ]
    },
    {
     "name": "stdout",
     "output_type": "stream",
     "text": [
      "laptop,689000,23,8,7,Ha Noi,899000,38000,97,100,100,0,0,0,0,7\n"
     ]
    },
    {
     "name": "stderr",
     "output_type": "stream",
     "text": [
      "\r",
      "Processing rows:  14%|█▎        | 162/1200 [07:30<48:14,  2.79s/it]"
     ]
    },
    {
     "name": "stdout",
     "output_type": "stream",
     "text": [
      "laptop,1798761,10,19,6,Ha Noi,4290000,84600,94,100,76,0,0,0,0,6\n"
     ]
    },
    {
     "name": "stderr",
     "output_type": "stream",
     "text": [
      "\r",
      "Processing rows:  14%|█▎        | 163/1200 [07:33<44:41,  2.59s/it]"
     ]
    },
    {
     "name": "stdout",
     "output_type": "stream",
     "text": [
      "laptop,1000000,None,81,28,Hà Nội,None,198200,94,20,83,2,1,1,3,21\n"
     ]
    },
    {
     "name": "stderr",
     "output_type": "stream",
     "text": [
      "\r",
      "Processing rows:  14%|█▎        | 164/1200 [07:35<42:07,  2.44s/it]"
     ]
    },
    {
     "name": "stdout",
     "output_type": "stream",
     "text": [
      "laptop,990000,1,36,15,Hai Duong,1500000,90700,94,100,75,1,0,1,0,13\n"
     ]
    },
    {
     "name": "stderr",
     "output_type": "stream",
     "text": [
      "\r",
      "Processing rows:  14%|█▍        | 165/1200 [07:37<42:25,  2.46s/it]"
     ]
    },
    {
     "name": "stdout",
     "output_type": "stream",
     "text": [
      "laptop,1799000,None,118,35,Dong Nai,None,65500,96,50,100,0,0,0,1,35\n"
     ]
    },
    {
     "name": "stderr",
     "output_type": "stream",
     "text": [
      "\r",
      "Processing rows:  14%|█▍        | 166/1200 [07:40<43:29,  2.52s/it]"
     ]
    },
    {
     "name": "stdout",
     "output_type": "stream",
     "text": [
      "laptop,2300000,47,56,25,Binh Duong,4300000,28700,88,100,66,3,2,1,2,17\n"
     ]
    },
    {
     "name": "stderr",
     "output_type": "stream",
     "text": [
      "\r",
      "Processing rows:  14%|█▍        | 167/1200 [07:42<41:13,  2.39s/it]"
     ]
    },
    {
     "name": "stdout",
     "output_type": "stream",
     "text": [
      "laptop,6614299,27,91,49,Ho Chi Minh,8999999,100,96,100,None,1,0,0,2,46\n"
     ]
    },
    {
     "name": "stderr",
     "output_type": "stream",
     "text": [
      "\r",
      "Processing rows:  14%|█▍        | 168/1200 [07:44<39:38,  2.30s/it]"
     ]
    },
    {
     "name": "stdout",
     "output_type": "stream",
     "text": [
      "laptop,1799000,None,146,41,Dong Nai,None,65500,99,100,100,0,0,0,1,40\n"
     ]
    },
    {
     "name": "stderr",
     "output_type": "stream",
     "text": [
      "\r",
      "Processing rows:  14%|█▍        | 169/1200 [07:47<41:19,  2.40s/it]"
     ]
    },
    {
     "name": "stdout",
     "output_type": "stream",
     "text": [
      "laptop,47000,53,18,3,Ha Noi,129000,32700,99,100,100,0,0,0,0,4\n"
     ]
    },
    {
     "name": "stderr",
     "output_type": "stream",
     "text": [
      "\r",
      "Processing rows:  14%|█▍        | 170/1200 [07:50<43:48,  2.55s/it]"
     ]
    },
    {
     "name": "stdout",
     "output_type": "stream",
     "text": [
      "laptop,52406,53,1600,440,Ho Chi Minh,151000,17000,93,99,100,8,1,3,16,412\n"
     ]
    },
    {
     "name": "stderr",
     "output_type": "stream",
     "text": [
      "\r",
      "Processing rows:  14%|█▍        | 171/1200 [07:52<44:19,  2.58s/it]"
     ]
    },
    {
     "name": "stdout",
     "output_type": "stream",
     "text": [
      "laptop,4000000,50,nan,1,Ho Chi Minh,8598000,10200,91,100,80,0,0,0,0,1\n"
     ]
    },
    {
     "name": "stderr",
     "output_type": "stream",
     "text": [
      "\r",
      "Processing rows:  14%|█▍        | 172/1200 [07:55<45:21,  2.65s/it]"
     ]
    },
    {
     "name": "stdout",
     "output_type": "stream",
     "text": [
      "laptop,2550000,49,169,50,Thai Binh,5000000,80200,95,100,None,2,0,0,2,46\n"
     ]
    },
    {
     "name": "stderr",
     "output_type": "stream",
     "text": [
      "\r",
      "Processing rows:  14%|█▍        | 173/1200 [07:58<45:41,  2.67s/it]"
     ]
    },
    {
     "name": "stdout",
     "output_type": "stream",
     "text": [
      "laptop,3300000,43,None,None,Ho Chi Minh,6500000,23800,96,100,100,0,0,0,0,0\n"
     ]
    },
    {
     "name": "stderr",
     "output_type": "stream",
     "text": [
      "\r",
      "Processing rows:  14%|█▍        | 174/1200 [08:01<46:28,  2.72s/it]"
     ]
    },
    {
     "name": "stdout",
     "output_type": "stream",
     "text": [
      "laptop,14699000,30,38,12,Ho Chi Minh,21000000,23800,100,100,100,0,0,0,0,12\n"
     ]
    },
    {
     "name": "stderr",
     "output_type": "stream",
     "text": [
      "\r",
      "Processing rows:  15%|█▍        | 175/1200 [08:04<49:18,  2.89s/it]"
     ]
    },
    {
     "name": "stdout",
     "output_type": "stream",
     "text": [
      "laptop,1700000,None,17,8,Hung Yen,None,56800,91,65,100,0,0,0,1,7\n"
     ]
    },
    {
     "name": "stderr",
     "output_type": "stream",
     "text": [
      "\r",
      "Processing rows:  15%|█▍        | 176/1200 [08:06<44:31,  2.61s/it]"
     ]
    },
    {
     "name": "stdout",
     "output_type": "stream",
     "text": [
      "laptop,2268000,None,None,1,Nghệ An,None,56800,94,92,92,0,0,0,0,1\n"
     ]
    },
    {
     "name": "stderr",
     "output_type": "stream",
     "text": [
      "\r",
      "Processing rows:  15%|█▍        | 177/1200 [08:08<43:58,  2.58s/it]"
     ]
    },
    {
     "name": "stdout",
     "output_type": "stream",
     "text": [
      "laptop,361200,23,None,None,Nước ngoài,469560,100,97,100,100,0,0,0,0,0\n"
     ]
    },
    {
     "name": "stderr",
     "output_type": "stream",
     "text": [
      "\r",
      "Processing rows:  15%|█▍        | 178/1200 [08:10<41:25,  2.43s/it]"
     ]
    },
    {
     "name": "stdout",
     "output_type": "stream",
     "text": [
      "laptop,2848000,None,None,1,Nghệ An,None,56800,94,92,92,0,0,0,0,1\n"
     ]
    },
    {
     "name": "stderr",
     "output_type": "stream",
     "text": [
      "\r",
      "Processing rows:  15%|█▍        | 179/1200 [08:13<44:42,  2.63s/it]"
     ]
    },
    {
     "name": "stdout",
     "output_type": "stream",
     "text": [
      "laptop,3788000,12,11,5,Nghệ An,None,63300,94,92,92,0,0,1,1,3\n"
     ]
    },
    {
     "name": "stderr",
     "output_type": "stream",
     "text": [
      "\r",
      "Processing rows:  15%|█▌        | 180/1200 [08:16<43:36,  2.57s/it]"
     ]
    },
    {
     "name": "stdout",
     "output_type": "stream",
     "text": [
      "laptop,4388000,None,None,None,Nghệ An,None,63300,94,92,92,0,0,0,0,0\n"
     ]
    },
    {
     "name": "stderr",
     "output_type": "stream",
     "text": [
      "\r",
      "Processing rows:  15%|█▌        | 181/1200 [08:19<45:20,  2.67s/it]"
     ]
    },
    {
     "name": "stdout",
     "output_type": "stream",
     "text": [
      "laptop,2500000,None,None,None,Dong Nai,None,40300,None,None,100,0,0,0,0,0\n"
     ]
    },
    {
     "name": "stderr",
     "output_type": "stream",
     "text": [
      "\r",
      "Processing rows:  15%|█▌        | 182/1200 [08:21<44:19,  2.61s/it]"
     ]
    },
    {
     "name": "stdout",
     "output_type": "stream",
     "text": [
      "laptop,195000,38,9,9,Nước ngoài,312000,None,95,None,100,0,0,0,0,9\n"
     ]
    },
    {
     "name": "stderr",
     "output_type": "stream",
     "text": [
      "\r",
      "Processing rows:  15%|█▌        | 183/1200 [08:24<43:58,  2.59s/it]"
     ]
    },
    {
     "name": "stdout",
     "output_type": "stream",
     "text": [
      "laptop,3890000,15,None,1,Ha Noi,4600000,52400,91,75,100,0,0,0,0,1\n"
     ]
    },
    {
     "name": "stderr",
     "output_type": "stream",
     "text": [
      "\r",
      "Processing rows:  15%|█▌        | 184/1200 [08:26<43:48,  2.59s/it]"
     ]
    },
    {
     "name": "stdout",
     "output_type": "stream",
     "text": [
      "laptop,8500000,None,None,1,Thanh Hoa,None,Miễn phí,92,None,33,0,0,0,0,1\n"
     ]
    },
    {
     "name": "stderr",
     "output_type": "stream",
     "text": [
      "\r",
      "Processing rows:  15%|█▌        | 185/1200 [08:28<40:53,  2.42s/it]"
     ]
    },
    {
     "name": "stdout",
     "output_type": "stream",
     "text": [
      "laptop,3800000,None,17,5,Hung Yen,None,70000,91,65,100,1,0,1,0,3\n"
     ]
    },
    {
     "name": "stderr",
     "output_type": "stream",
     "text": [
      "\r",
      "Processing rows:  16%|█▌        | 186/1200 [08:31<43:52,  2.60s/it]"
     ]
    },
    {
     "name": "stdout",
     "output_type": "stream",
     "text": [
      "laptop,2358000,15,None,1,Nghệ An,2788000,63300,94,92,92,0,0,0,0,1\n"
     ]
    },
    {
     "name": "stderr",
     "output_type": "stream",
     "text": [
      "\r",
      "Processing rows:  16%|█▌        | 187/1200 [08:34<45:52,  2.72s/it]"
     ]
    },
    {
     "name": "stdout",
     "output_type": "stream",
     "text": [
      "laptop,5990000,9,nan,2,Thanh Hoa,6590000,56800,96,100,75,1,0,0,0,1\n"
     ]
    },
    {
     "name": "stderr",
     "output_type": "stream",
     "text": [
      "\r",
      "Processing rows:  16%|█▌        | 188/1200 [08:37<45:07,  2.68s/it]"
     ]
    },
    {
     "name": "stdout",
     "output_type": "stream",
     "text": [
      "laptop,47990000,None,6,None,Ho Chi Minh,None,45100,None,None,None,0,0,0,0,0\n"
     ]
    },
    {
     "name": "stderr",
     "output_type": "stream",
     "text": [
      "\r",
      "Processing rows:  16%|█▌        | 189/1200 [08:40<46:54,  2.78s/it]"
     ]
    },
    {
     "name": "stdout",
     "output_type": "stream",
     "text": [
      "laptop,6300000,None,15,1,Hung Yen,None,70000,91,65,100,0,0,0,0,1\n"
     ]
    },
    {
     "name": "stderr",
     "output_type": "stream",
     "text": [
      "\r",
      "Processing rows:  16%|█▌        | 190/1200 [08:43<49:05,  2.92s/it]"
     ]
    },
    {
     "name": "stdout",
     "output_type": "stream",
     "text": [
      "laptop,9630000,None,19,None,Ho Chi Minh,None,52300,92,20,90,0,0,0,0,0\n"
     ]
    },
    {
     "name": "stderr",
     "output_type": "stream",
     "text": [
      "\r",
      "Processing rows:  16%|█▌        | 191/1200 [08:46<47:18,  2.81s/it]"
     ]
    },
    {
     "name": "stdout",
     "output_type": "stream",
     "text": [
      "laptop,22990000,43,None,None,Ho Chi Minh,39990000,100,98,98,94,0,0,0,0,0\n"
     ]
    },
    {
     "name": "stderr",
     "output_type": "stream",
     "text": [
      "\r",
      "Processing rows:  16%|█▌        | 192/1200 [08:48<43:48,  2.61s/it]"
     ]
    },
    {
     "name": "stdout",
     "output_type": "stream",
     "text": [
      "laptop,2990000,None,19,9,Hung Yen,None,90400,91,65,100,0,0,0,1,8\n"
     ]
    },
    {
     "name": "stderr",
     "output_type": "stream",
     "text": [
      "\r",
      "Processing rows:  16%|█▌        | 193/1200 [08:50<43:03,  2.57s/it]"
     ]
    },
    {
     "name": "stdout",
     "output_type": "stream",
     "text": [
      "laptop,9890000,18,None,None,Ho Chi Minh,11990000,21200,97,99,88,0,0,0,0,0\n"
     ]
    },
    {
     "name": "stderr",
     "output_type": "stream",
     "text": [
      "\r",
      "Processing rows:  16%|█▌        | 194/1200 [08:53<42:52,  2.56s/it]"
     ]
    },
    {
     "name": "stdout",
     "output_type": "stream",
     "text": [
      "laptop,3500000,12,30,12,Hung Yen,4600000,80200,91,65,100,1,1,4,0,6\n"
     ]
    },
    {
     "name": "stderr",
     "output_type": "stream",
     "text": [
      "\r",
      "Processing rows:  16%|█▋        | 195/1200 [08:56<44:27,  2.65s/it]"
     ]
    },
    {
     "name": "stdout",
     "output_type": "stream",
     "text": [
      "laptop,5900000,31,nan,nan,Thanh Hoa,8500000,56800,96,100,75,0,0,0,0,0\n"
     ]
    },
    {
     "name": "stderr",
     "output_type": "stream",
     "text": [
      "\r",
      "Processing rows:  16%|█▋        | 196/1200 [08:59<48:15,  2.88s/it]"
     ]
    },
    {
     "name": "stdout",
     "output_type": "stream",
     "text": [
      "laptop,42315000,None,7,None,Ho Chi Minh,None,74700,92,20,90,0,0,0,0,0\n"
     ]
    },
    {
     "name": "stderr",
     "output_type": "stream",
     "text": [
      "\r",
      "Processing rows:  16%|█▋        | 197/1200 [09:02<47:12,  2.82s/it]"
     ]
    },
    {
     "name": "stdout",
     "output_type": "stream",
     "text": [
      "laptop,20950000,7,nan,nan,Ho Chi Minh,22590000,100,94,86,100,0,0,0,0,0\n"
     ]
    },
    {
     "name": "stderr",
     "output_type": "stream",
     "text": [
      "\r",
      "Processing rows:  16%|█▋        | 198/1200 [09:05<46:20,  2.78s/it]"
     ]
    },
    {
     "name": "stdout",
     "output_type": "stream",
     "text": [
      "laptop,29900000,None,5,None,Hanoi,None,34100,90,100,75,0,0,0,0,0\n"
     ]
    },
    {
     "name": "stderr",
     "output_type": "stream",
     "text": [
      "\r",
      "Processing rows:  17%|█▋        | 199/1200 [09:08<47:39,  2.86s/it]"
     ]
    },
    {
     "name": "stdout",
     "output_type": "stream",
     "text": [
      "laptop,2500000,None,None,1,Hung Yen,None,80200,91,65,100,0,0,0,0,1\n"
     ]
    },
    {
     "name": "stderr",
     "output_type": "stream",
     "text": [
      "\r",
      "Processing rows:  17%|█▋        | 200/1200 [09:11<51:15,  3.08s/it]"
     ]
    },
    {
     "name": "stdout",
     "output_type": "stream",
     "text": [
      "laptop,2500000,None,6,None,Hung Yen,None,56800,91,65,100,0,0,0,0,0\n"
     ]
    },
    {
     "name": "stderr",
     "output_type": "stream",
     "text": [
      "\r",
      "Processing rows:  17%|█▋        | 201/1200 [09:14<49:02,  2.95s/it]"
     ]
    },
    {
     "name": "stdout",
     "output_type": "stream",
     "text": [
      "laptop,17989000,38,3000,671,Bac Ninh,28990000,10200,94,98,100,28,5,10,17,611\n"
     ]
    },
    {
     "name": "stderr",
     "output_type": "stream",
     "text": [
      "\r",
      "Processing rows:  17%|█▋        | 202/1200 [09:17<47:48,  2.87s/it]"
     ]
    },
    {
     "name": "stdout",
     "output_type": "stream",
     "text": [
      "laptop,2995000,50,None,None,Hanoi,5990000,100,None,None,None,0,0,0,0,0\n"
     ]
    },
    {
     "name": "stderr",
     "output_type": "stream",
     "text": [
      "\r",
      "Processing rows:  17%|█▋        | 203/1200 [09:19<46:53,  2.82s/it]"
     ]
    },
    {
     "name": "stdout",
     "output_type": "stream",
     "text": [
      "laptop,3200000,50,None,None,Hanoi,6400000,100,None,None,None,0,0,0,0,0\n"
     ]
    },
    {
     "name": "stderr",
     "output_type": "stream",
     "text": [
      "\r",
      "Processing rows:  17%|█▋        | 204/1200 [09:23<49:33,  2.99s/it]"
     ]
    },
    {
     "name": "stdout",
     "output_type": "stream",
     "text": [
      "laptop,10490000,19,351,108,Ho Chi Minh,12990000,21200,98,77,66,3,0,0,1,104\n"
     ]
    },
    {
     "name": "stderr",
     "output_type": "stream",
     "text": [
      "\r",
      "Processing rows:  17%|█▋        | 205/1200 [09:25<47:41,  2.88s/it]"
     ]
    },
    {
     "name": "stdout",
     "output_type": "stream",
     "text": [
      "laptop,6685956,27,69,28,Ho Chi Minh,9999999,100,97,None,100,0,0,0,0,28\n"
     ]
    },
    {
     "name": "stderr",
     "output_type": "stream",
     "text": [
      "\r",
      "Processing rows:  17%|█▋        | 206/1200 [09:28<45:20,  2.74s/it]"
     ]
    },
    {
     "name": "stdout",
     "output_type": "stream",
     "text": [
      "laptop,1000000,None,81,28,Hà Nội,None,198200,94,20,83,2,1,1,3,21\n"
     ]
    },
    {
     "name": "stderr",
     "output_type": "stream",
     "text": [
      "\r",
      "Processing rows:  17%|█▋        | 207/1200 [09:30<44:24,  2.68s/it]"
     ]
    },
    {
     "name": "stdout",
     "output_type": "stream",
     "text": [
      "laptop,39000,17,312,67,Ho Chi Minh,47000,17000,96,98,90,11,1,3,5,47\n"
     ]
    },
    {
     "name": "stderr",
     "output_type": "stream",
     "text": [
      "\r",
      "Processing rows:  17%|█▋        | 208/1200 [09:33<43:56,  2.66s/it]"
     ]
    },
    {
     "name": "stdout",
     "output_type": "stream",
     "text": [
      "laptop,902899,25,11,2,Hung Yen,1499999,70000,86,100,88,1,0,0,0,2\n"
     ]
    },
    {
     "name": "stderr",
     "output_type": "stream",
     "text": [
      "\r",
      "Processing rows:  17%|█▋        | 209/1200 [09:35<41:34,  2.52s/it]"
     ]
    },
    {
     "name": "stdout",
     "output_type": "stream",
     "text": [
      "laptop,1571000,None,17,6,Hà Nội,None,64700,79,84,95,0,0,1,0,4\n"
     ]
    },
    {
     "name": "stderr",
     "output_type": "stream",
     "text": [
      "\r",
      "Processing rows:  18%|█▊        | 210/1200 [09:37<41:14,  2.50s/it]"
     ]
    },
    {
     "name": "stdout",
     "output_type": "stream",
     "text": [
      "laptop,350000,None,None,None,Tay Ninh,None,48200,97,100,80,0,0,0,0,0\n"
     ]
    },
    {
     "name": "stderr",
     "output_type": "stream",
     "text": [
      "\r",
      "Processing rows:  18%|█▊        | 211/1200 [09:40<40:15,  2.44s/it]"
     ]
    },
    {
     "name": "stdout",
     "output_type": "stream",
     "text": [
      "laptop,4173000,11,154,49,Hung Yen,6459000,56800,97,100,100,0,0,1,3,46\n"
     ]
    },
    {
     "name": "stderr",
     "output_type": "stream",
     "text": [
      "\r",
      "Processing rows:  18%|█▊        | 212/1200 [09:42<39:44,  2.41s/it]"
     ]
    },
    {
     "name": "stdout",
     "output_type": "stream",
     "text": [
      "laptop,1300000,28,83,41,Ha Noi,None,744000,92,50,85,0,0,0,6,35\n"
     ]
    },
    {
     "name": "stderr",
     "output_type": "stream",
     "text": [
      "\r",
      "Processing rows:  18%|█▊        | 213/1200 [09:45<42:28,  2.58s/it]"
     ]
    },
    {
     "name": "stdout",
     "output_type": "stream",
     "text": [
      "laptop,3248000,10,64,28,Nghệ An,3598000,56800,94,92,92,0,0,0,0,28\n"
     ]
    },
    {
     "name": "stderr",
     "output_type": "stream",
     "text": [
      "\r",
      "Processing rows:  18%|█▊        | 214/1200 [09:48<44:02,  2.68s/it]"
     ]
    },
    {
     "name": "stdout",
     "output_type": "stream",
     "text": [
      "laptop,3258000,19,73,32,Nghệ An,3998000,56800,94,92,92,0,0,1,0,31\n"
     ]
    },
    {
     "name": "stderr",
     "output_type": "stream",
     "text": [
      "\r",
      "Processing rows:  18%|█▊        | 215/1200 [09:51<44:50,  2.73s/it]"
     ]
    },
    {
     "name": "stdout",
     "output_type": "stream",
     "text": [
      "laptop,1200000,48,24,11,Ho Chi Minh,2300000,100,91,100,100,0,1,0,1,9\n"
     ]
    },
    {
     "name": "stderr",
     "output_type": "stream",
     "text": [
      "\r",
      "Processing rows:  18%|█▊        | 216/1200 [09:53<44:01,  2.68s/it]"
     ]
    },
    {
     "name": "stdout",
     "output_type": "stream",
     "text": [
      "laptop,465000,6,2200,789,Ho Chi Minh,199000,16500,99,100,100,3,1,2,12,771\n"
     ]
    },
    {
     "name": "stderr",
     "output_type": "stream",
     "text": [
      "\r",
      "Processing rows:  18%|█▊        | 217/1200 [09:57<47:24,  2.89s/it]"
     ]
    },
    {
     "name": "stdout",
     "output_type": "stream",
     "text": [
      "laptop,4390000,20,126,29,Hà Nội,5900000,98,100,100,0,0,1,0,28\n"
     ]
    },
    {
     "name": "stderr",
     "output_type": "stream",
     "text": [
      "\r",
      "Processing rows:  18%|█▊        | 218/1200 [10:00<49:32,  3.03s/it]"
     ]
    },
    {
     "name": "stdout",
     "output_type": "stream",
     "text": [
      "laptop,978780,11,9,1,Tien Giang,1100000,40300,82,86,88,0,0,0,0,1\n"
     ]
    },
    {
     "name": "stderr",
     "output_type": "stream",
     "text": [
      "\r",
      "Processing rows:  18%|█▊        | 219/1200 [10:02<45:12,  2.76s/it]"
     ]
    },
    {
     "name": "stdout",
     "output_type": "stream",
     "text": [
      "laptop,1799000,None,118,35,Dong Nai,None,65500,96,50,100,0,0,0,1,35\n"
     ]
    },
    {
     "name": "stderr",
     "output_type": "stream",
     "text": [
      "\r",
      "Processing rows:  18%|█▊        | 220/1200 [10:05<45:33,  2.79s/it]"
     ]
    },
    {
     "name": "stdout",
     "output_type": "stream",
     "text": [
      "laptop,27590000,16,147,3,Ho Chi Minh,32990000,10200,94,98,100,0,0,0,0,4\n"
     ]
    },
    {
     "name": "stderr",
     "output_type": "stream",
     "text": [
      "\r",
      "Processing rows:  18%|█▊        | 221/1200 [10:08<45:47,  2.81s/it]"
     ]
    },
    {
     "name": "stdout",
     "output_type": "stream",
     "text": [
      "laptop,2455000,None,14,2,Hà Nội,None,38000,79,84,95,0,0,1,0,1\n"
     ]
    },
    {
     "name": "stderr",
     "output_type": "stream",
     "text": [
      "\r",
      "Processing rows:  18%|█▊        | 222/1200 [10:11<45:31,  2.79s/it]"
     ]
    },
    {
     "name": "stdout",
     "output_type": "stream",
     "text": [
      "laptop,27290000,3,10,None,Ho Chi Minh,32999000,9700,94,98,100,0,0,0,0,0\n"
     ]
    },
    {
     "name": "stderr",
     "output_type": "stream",
     "text": [
      "\r",
      "Processing rows:  19%|█▊        | 223/1200 [10:14<45:08,  2.77s/it]"
     ]
    },
    {
     "name": "stdout",
     "output_type": "stream",
     "text": [
      "laptop,1200000,8,147,62,Ho Chi Minh,1500000,13800,90,100,100,5,0,1,3,54\n"
     ]
    },
    {
     "name": "stderr",
     "output_type": "stream",
     "text": [
      "\r",
      "Processing rows:  19%|█▊        | 224/1200 [10:16<42:39,  2.62s/it]"
     ]
    },
    {
     "name": "stdout",
     "output_type": "stream",
     "text": [
      "laptop,1239000,38,22,10,Ho Chi Minh,2200000,100,91,100,100,0,0,0,0,10\n"
     ]
    },
    {
     "name": "stderr",
     "output_type": "stream",
     "text": [
      "\r",
      "Processing rows:  19%|█▉        | 225/1200 [10:19<43:23,  2.67s/it]"
     ]
    },
    {
     "name": "stdout",
     "output_type": "stream",
     "text": [
      "laptop,2550000,49,169,50,Thai Binh,5000000,80200,95,100,None,2,0,0,2,46\n"
     ]
    },
    {
     "name": "stderr",
     "output_type": "stream",
     "text": [
      "\r",
      "Processing rows:  19%|█▉        | 226/1200 [10:21<43:12,  2.66s/it]"
     ]
    },
    {
     "name": "stdout",
     "output_type": "stream",
     "text": [
      "laptop,990000,1,36,15,Hai Duong,1500000,90700,94,100,75,1,0,1,0,13\n"
     ]
    },
    {
     "name": "stderr",
     "output_type": "stream",
     "text": [
      "\r",
      "Processing rows:  19%|█▉        | 227/1200 [10:24<41:31,  2.56s/it]"
     ]
    },
    {
     "name": "stdout",
     "output_type": "stream",
     "text": [
      "laptop,4804919,44,97,23,Hai Phong,8599999,51100,88,100,100,3,0,1,0,20\n"
     ]
    },
    {
     "name": "stderr",
     "output_type": "stream",
     "text": [
      "\r",
      "Processing rows:  19%|█▉        | 228/1200 [10:26<40:49,  2.52s/it]"
     ]
    },
    {
     "name": "stdout",
     "output_type": "stream",
     "text": [
      "laptop,1600000,None,261,133,Nghệ An,None,56800,95,100,None,6,1,2,9,115\n"
     ]
    },
    {
     "name": "stderr",
     "output_type": "stream",
     "text": [
      "\r",
      "Processing rows:  19%|█▉        | 229/1200 [10:29<45:37,  2.82s/it]"
     ]
    },
    {
     "name": "stdout",
     "output_type": "stream",
     "text": [
      "laptop,7689000,None,40,7,Hung Yen,None,37700,100,98,100,0,0,0,0,7\n"
     ]
    },
    {
     "name": "stderr",
     "output_type": "stream",
     "text": [
      "\r",
      "Processing rows:  19%|█▉        | 230/1200 [10:32<42:00,  2.60s/it]"
     ]
    },
    {
     "name": "stdout",
     "output_type": "stream",
     "text": [
      "laptop,3390000,15,None,3,Hanoi,4000000,52400,91,75,100,0,0,0,0,3\n"
     ]
    },
    {
     "name": "stderr",
     "output_type": "stream",
     "text": [
      "\r",
      "Processing rows:  19%|█▉        | 231/1200 [10:36<50:29,  3.13s/it]"
     ]
    },
    {
     "name": "stdout",
     "output_type": "stream",
     "text": [
      "laptop,1089839,16,None,3,Hung Yen,1399999,80200,86,100,88,0,0,0,0,3\n"
     ]
    },
    {
     "name": "stderr",
     "output_type": "stream",
     "text": [
      "\r",
      "Processing rows:  19%|█▉        | 232/1200 [10:40<57:17,  3.55s/it]"
     ]
    },
    {
     "name": "stdout",
     "output_type": "stream",
     "text": [
      "laptop,400000,None,None,1,Tien Giang,None,40300,87,28,100,0,0,0,0,1\n"
     ]
    },
    {
     "name": "stderr",
     "output_type": "stream",
     "text": [
      "\r",
      "Processing rows:  19%|█▉        | 233/1200 [10:47<1:10:42,  4.39s/it]"
     ]
    },
    {
     "name": "stdout",
     "output_type": "stream",
     "text": [
      "laptop,400000,None,9,2,Tien Giang,None,40300,87,28,100,0,0,0,0,2\n"
     ]
    },
    {
     "name": "stderr",
     "output_type": "stream",
     "text": [
      "\r",
      "Processing rows:  20%|█▉        | 234/1200 [10:50<1:05:29,  4.07s/it]"
     ]
    },
    {
     "name": "stdout",
     "output_type": "stream",
     "text": [
      "laptop,4799999,40,117,33,Hai Phong,7939999,100,95,99,100,1,0,0,0,32\n"
     ]
    },
    {
     "name": "stderr",
     "output_type": "stream",
     "text": [
      "\r",
      "Processing rows:  20%|█▉        | 235/1200 [10:57<1:16:37,  4.76s/it]"
     ]
    },
    {
     "name": "stdout",
     "output_type": "stream",
     "text": [
      "laptop,1200000,48,None,None,Ho Chi Minh,2300000,100,91,100,100,0,0,0,0,0\n"
     ]
    },
    {
     "name": "stderr",
     "output_type": "stream",
     "text": [
      "\r",
      "Processing rows:  20%|█▉        | 236/1200 [11:00<1:09:44,  4.34s/it]"
     ]
    },
    {
     "name": "stdout",
     "output_type": "stream",
     "text": [
      "laptop,6614299,27,91,49,Ho Chi Minh,8999999,100,96,100,None,1,0,0,2,46\n"
     ]
    },
    {
     "name": "stderr",
     "output_type": "stream",
     "text": [
      "\r",
      "Processing rows:  20%|█▉        | 237/1200 [11:05<1:14:03,  4.61s/it]"
     ]
    },
    {
     "name": "stdout",
     "output_type": "stream",
     "text": [
      "laptop,631000,18,None,None,Nước ngoài,768000,100,100,None,100,0,0,0,0\n"
     ]
    },
    {
     "name": "stderr",
     "output_type": "stream",
     "text": [
      "\r",
      "Processing rows:  20%|█▉        | 238/1200 [11:08<1:05:37,  4.09s/it]"
     ]
    },
    {
     "name": "stdout",
     "output_type": "stream",
     "text": [
      "laptop,6519809,8,294,118,Ho Chi Minh,8999999,100,96,100,None,1,0,2,0,115\n"
     ]
    },
    {
     "name": "stderr",
     "output_type": "stream",
     "text": [
      "\r",
      "Processing rows:  20%|█▉        | 239/1200 [11:12<1:07:20,  4.20s/it]"
     ]
    },
    {
     "name": "stdout",
     "output_type": "stream",
     "text": [
      "laptop,2550000,20,33,9,Ha Noi,3200000,52400,91,75,100,0,0,0,0,9\n"
     ]
    },
    {
     "name": "stderr",
     "output_type": "stream",
     "text": [
      "\r",
      "Processing rows:  20%|██        | 240/1200 [11:16<1:02:29,  3.91s/it]"
     ]
    },
    {
     "name": "stdout",
     "output_type": "stream",
     "text": [
      "laptop,1790000,None,11,1,Hà Nội,None,51500,79,84,95,0,0,0,0,1\n"
     ]
    },
    {
     "name": "stderr",
     "output_type": "stream",
     "text": [
      "\r",
      "Processing rows:  20%|██        | 241/1200 [11:19<57:57,  3.63s/it]  "
     ]
    },
    {
     "name": "stdout",
     "output_type": "stream",
     "text": [
      "laptop,1798761,10,19,6,Ha Noi,4290000,84600,94,100,76,0,0,0,0,6\n"
     ]
    },
    {
     "name": "stderr",
     "output_type": "stream",
     "text": [
      "\r",
      "Processing rows:  20%|██        | 242/1200 [11:23<1:03:41,  3.99s/it]"
     ]
    },
    {
     "name": "stdout",
     "output_type": "stream",
     "text": [
      "laptop,4560080,21,28,15,Hà Nội,6500000,84600,94,100,76,0,2,0,1,12\n"
     ]
    },
    {
     "name": "stderr",
     "output_type": "stream",
     "text": [
      "\r",
      "Processing rows:  20%|██        | 243/1200 [11:26<56:57,  3.57s/it]  "
     ]
    },
    {
     "name": "stdout",
     "output_type": "stream",
     "text": [
      "laptop,2622600,42,89,36,Ho Chi Minh,4100000,16500,96,80,94,1,1,1,5,28\n"
     ]
    },
    {
     "name": "stderr",
     "output_type": "stream",
     "text": [
      "\r",
      "Processing rows:  20%|██        | 244/1200 [11:29<51:43,  3.25s/it]"
     ]
    },
    {
     "name": "stdout",
     "output_type": "stream",
     "text": [
      "laptop,2834699,19,52,4,Ha Noi,6500000,100,98,100,100,0,0,0,0,4\n"
     ]
    },
    {
     "name": "stderr",
     "output_type": "stream",
     "text": [
      "\r",
      "Processing rows:  20%|██        | 245/1200 [11:33<59:04,  3.71s/it]"
     ]
    },
    {
     "name": "stdout",
     "output_type": "stream",
     "text": [
      "laptop,79120,65,9,5,Nuoc Ngoai,228000,17000,95,93,99,0,0,0,0,6\n"
     ]
    },
    {
     "name": "stderr",
     "output_type": "stream",
     "text": [
      "\r",
      "Processing rows:  20%|██        | 246/1200 [11:36<53:54,  3.39s/it]"
     ]
    },
    {
     "name": "stdout",
     "output_type": "stream",
     "text": [
      "laptop,3240000,None,5,None,Hà Nội,None,100,98,100,100,0,0,0,0,0\n"
     ]
    },
    {
     "name": "stderr",
     "output_type": "stream",
     "text": [
      "\r",
      "Processing rows:  21%|██        | 247/1200 [11:39<52:17,  3.29s/it]"
     ]
    },
    {
     "name": "stdout",
     "output_type": "stream",
     "text": [
      "laptop,3730000,37,31,11,Ho Chi Minh,6800000,27300,96,100,100,1,0,0,0,10\n"
     ]
    },
    {
     "name": "stderr",
     "output_type": "stream",
     "text": [
      "\r",
      "Processing rows:  21%|██        | 248/1200 [11:42<51:52,  3.27s/it]"
     ]
    },
    {
     "name": "stdout",
     "output_type": "stream",
     "text": [
      "laptop,2668000,8,33,18,Nghệ An,2898000,56800,94,92,92,0,2,0,2,15\n"
     ]
    },
    {
     "name": "stderr",
     "output_type": "stream",
     "text": [
      "\r",
      "Processing rows:  21%|██        | 249/1200 [11:46<51:52,  3.27s/it]"
     ]
    },
    {
     "name": "stdout",
     "output_type": "stream",
     "text": [
      "laptop,3400000,None,14,None,Quang Tri,None,37700,97,None,None,0,0,0,0,0\n"
     ]
    },
    {
     "name": "stderr",
     "output_type": "stream",
     "text": [
      "\r",
      "Processing rows:  21%|██        | 250/1200 [11:48<49:12,  3.11s/it]"
     ]
    },
    {
     "name": "stdout",
     "output_type": "stream",
     "text": [
      "laptop,864999,28,15,2,Hung Yen,1499999,100600,86,100,88,1,0,0,0,1\n"
     ]
    },
    {
     "name": "stderr",
     "output_type": "stream",
     "text": [
      "\r",
      "Processing rows:  21%|██        | 251/1200 [11:52<50:13,  3.17s/it]"
     ]
    },
    {
     "name": "stdout",
     "output_type": "stream",
     "text": [
      "laptop,1200000,None,25,10,Tien Giang,None,32200,87,28,100,0,0,0,1,9\n"
     ]
    },
    {
     "name": "stderr",
     "output_type": "stream",
     "text": [
      "\r",
      "Processing rows:  21%|██        | 252/1200 [11:54<46:45,  2.96s/it]"
     ]
    },
    {
     "name": "stdout",
     "output_type": "stream",
     "text": [
      "laptop,2500000,None,102,46,Hà Nội,None,104900,92,50,85,0,0,2,1,43\n"
     ]
    },
    {
     "name": "stderr",
     "output_type": "stream",
     "text": [
      "\r",
      "Processing rows:  21%|██        | 253/1200 [11:56<42:28,  2.69s/it]"
     ]
    },
    {
     "name": "stdout",
     "output_type": "stream",
     "text": [
      "laptop,1300000,13,58,24,Ho Chi Minh,1500000,13800,90,100,100,1,0,1,4,18\n"
     ]
    },
    {
     "name": "stderr",
     "output_type": "stream",
     "text": [
      "\r",
      "Processing rows:  21%|██        | 254/1200 [12:00<46:08,  2.93s/it]"
     ]
    },
    {
     "name": "stdout",
     "output_type": "stream",
     "text": [
      "laptop,1799000,None,146,41,Dong Nai,None,65500,99,100,100,0,0,0,1,40\n"
     ]
    },
    {
     "name": "stderr",
     "output_type": "stream",
     "text": [
      "\r",
      "Processing rows:  21%|██▏       | 255/1200 [12:03<46:35,  2.96s/it]"
     ]
    },
    {
     "name": "stdout",
     "output_type": "stream",
     "text": [
      "laptop,999999,17,38,10,Hung Yen,1199999,100600,82,100,nan,1,1,1,0,7\n"
     ]
    },
    {
     "name": "stderr",
     "output_type": "stream",
     "text": [
      "\r",
      "Processing rows:  21%|██▏       | 256/1200 [12:05<44:53,  2.85s/it]"
     ]
    },
    {
     "name": "stdout",
     "output_type": "stream",
     "text": [
      "laptop,1200000,8,138,56,Ho Chi Minh,1850000,13800,90,100,100,4,2,1,2,47\n"
     ]
    },
    {
     "name": "stderr",
     "output_type": "stream",
     "text": [
      "\r",
      "Processing rows:  21%|██▏       | 257/1200 [12:08<43:40,  2.78s/it]"
     ]
    },
    {
     "name": "stdout",
     "output_type": "stream",
     "text": [
      "laptop,1799000,None,147,39,Dong Nai,None,65500,99,100,100,0,0,0,1,39\n"
     ]
    },
    {
     "name": "stderr",
     "output_type": "stream",
     "text": [
      "\r",
      "Processing rows:  22%|██▏       | 258/1200 [12:11<46:32,  2.96s/it]"
     ]
    },
    {
     "name": "stdout",
     "output_type": "stream",
     "text": [
      "laptop,2300000,8,nan,0,Ha Noi,3000000,104900,92,50,85,0,0,0,0,1\n"
     ]
    },
    {
     "name": "stderr",
     "output_type": "stream",
     "text": [
      "\r",
      "Processing rows:  22%|██▏       | 259/1200 [12:15<47:57,  3.06s/it]"
     ]
    },
    {
     "name": "stdout",
     "output_type": "stream",
     "text": [
      "laptop,1900000,None,29,5,Hà Nội,None,38000,79,84,95,1,0,0,0,4\n"
     ]
    },
    {
     "name": "stderr",
     "output_type": "stream",
     "text": [
      "\r",
      "Processing rows:  22%|██▏       | 260/1200 [12:17<42:54,  2.74s/it]"
     ]
    },
    {
     "name": "stdout",
     "output_type": "stream",
     "text": [
      "laptop,1799000,None,52,13,Dong Nai,None,100,96,50,100,0,0,0,0,14\n"
     ]
    },
    {
     "name": "stderr",
     "output_type": "stream",
     "text": [
      "\r",
      "Processing rows:  22%|██▏       | 261/1200 [12:20<45:12,  2.89s/it]"
     ]
    },
    {
     "name": "stdout",
     "output_type": "stream",
     "text": [
      "laptop,1950000,None,None,None,Ho Chi Minh,None,38000,None,None,100,0,0,0,0,0\n"
     ]
    },
    {
     "name": "stderr",
     "output_type": "stream",
     "text": [
      "\r",
      "Processing rows:  22%|██▏       | 262/1200 [12:23<44:53,  2.87s/it]"
     ]
    },
    {
     "name": "stdout",
     "output_type": "stream",
     "text": [
      "laptop,6851459,24,127,27,Ho Chi Minh,9999999,100,97,None,100,0,0,0,0,27\n"
     ]
    },
    {
     "name": "stderr",
     "output_type": "stream",
     "text": [
      "\r",
      "Processing rows:  22%|██▏       | 263/1200 [12:25<43:45,  2.80s/it]"
     ]
    },
    {
     "name": "stdout",
     "output_type": "stream",
     "text": [
      "laptop,1067760,18,18,6,Ho Chi Minh,1300000,13800,90,100,100,0,0,0,0,6\n"
     ]
    },
    {
     "name": "stderr",
     "output_type": "stream",
     "text": [
      "\r",
      "Processing rows:  22%|██▏       | 264/1200 [12:28<44:43,  2.87s/it]"
     ]
    },
    {
     "name": "stdout",
     "output_type": "stream",
     "text": [
      "laptop,1490000,32,10,3,Ha Noi,2200000,55400,95,100,100,0,0,0,1,2\n"
     ]
    },
    {
     "name": "stderr",
     "output_type": "stream",
     "text": [
      "\r",
      "Processing rows:  22%|██▏       | 265/1200 [12:32<48:34,  3.12s/it]"
     ]
    },
    {
     "name": "stdout",
     "output_type": "stream",
     "text": [
      "laptop,5618818,57,33,19,Ho Chi Minh,13999998,97,81,100,1,0,0,0,18\n"
     ]
    },
    {
     "name": "stderr",
     "output_type": "stream",
     "text": [
      "\r",
      "Processing rows:  22%|██▏       | 266/1200 [12:36<53:01,  3.41s/it]"
     ]
    },
    {
     "name": "stdout",
     "output_type": "stream",
     "text": [
      "laptop,4351599,48,25,5,Hai Phong,8299999,100,100,80,0,0,0,0,5\n"
     ]
    },
    {
     "name": "stderr",
     "output_type": "stream",
     "text": [
      "\r",
      "Processing rows:  22%|██▏       | 267/1200 [12:39<49:36,  3.19s/it]"
     ]
    },
    {
     "name": "stdout",
     "output_type": "stream",
     "text": [
      "laptop,2700000,36,None,2,Ho Chi Minh,4200000,20100,88,100,None,0,0,0,0,1\n"
     ]
    },
    {
     "name": "stderr",
     "output_type": "stream",
     "text": [
      "\r",
      "Processing rows:  22%|██▏       | 268/1200 [12:42<48:10,  3.10s/it]"
     ]
    },
    {
     "name": "stdout",
     "output_type": "stream",
     "text": [
      "laptop,7250089,19,129,35,Ho Chi Minh,8999999,100,95,100,83,1,0,0,0,34\n"
     ]
    },
    {
     "name": "stderr",
     "output_type": "stream",
     "text": [
      "\r",
      "Processing rows:  22%|██▏       | 269/1200 [12:44<46:59,  3.03s/it]"
     ]
    },
    {
     "name": "stdout",
     "output_type": "stream",
     "text": [
      "laptop,6228599,28,302,126,Ho Chi Minh,12900000,100,95,100,83,5,0,0,0,122\n"
     ]
    },
    {
     "name": "stderr",
     "output_type": "stream",
     "text": [
      "\r",
      "Processing rows:  22%|██▎       | 270/1200 [12:47<46:53,  3.03s/it]"
     ]
    },
    {
     "name": "stdout",
     "output_type": "stream",
     "text": [
      "laptop,3999999,None,7,3,Hà Nội,None,100,98,100,100,0,0,0,0,3\n"
     ]
    },
    {
     "name": "stderr",
     "output_type": "stream",
     "text": [
      "\r",
      "Processing rows:  23%|██▎       | 271/1200 [12:51<48:53,  3.16s/it]"
     ]
    },
    {
     "name": "stdout",
     "output_type": "stream",
     "text": [
      "laptop,1700000,None,17,8,Hung Yen,None,56800,91,65,100,0,0,0,1,7\n"
     ]
    },
    {
     "name": "stderr",
     "output_type": "stream",
     "text": [
      "\r",
      "Processing rows:  23%|██▎       | 272/1200 [12:53<43:04,  2.78s/it]"
     ]
    },
    {
     "name": "stdout",
     "output_type": "stream",
     "text": [
      "laptop,2990000,None,None,None,Hung Yen,None,70000,91,65,100,0,0,0,0,0\n"
     ]
    },
    {
     "name": "stderr",
     "output_type": "stream",
     "text": [
      "\r",
      "Processing rows:  23%|██▎       | 273/1200 [12:56<46:40,  3.02s/it]"
     ]
    },
    {
     "name": "stdout",
     "output_type": "stream",
     "text": [
      "laptop,2500000,44,7,2,Phu Tho,4800000,51100,87,None,None,0,0,0,0,2\n"
     ]
    },
    {
     "name": "stderr",
     "output_type": "stream",
     "text": [
      "\r",
      "Processing rows:  23%|██▎       | 274/1200 [12:59<45:17,  2.93s/it]"
     ]
    },
    {
     "name": "stdout",
     "output_type": "stream",
     "text": [
      "laptop,1499999,6,None,None,Hung Yen,1999999,100600,86,100,88,0,0,0,0,0\n"
     ]
    },
    {
     "name": "stderr",
     "output_type": "stream",
     "text": [
      "\r",
      "Processing rows:  23%|██▎       | 275/1200 [13:02<45:55,  2.98s/it]"
     ]
    },
    {
     "name": "stdout",
     "output_type": "stream",
     "text": [
      "laptop,5622499,14,8,2,Hà Nội,None,100,98,100,100,0,0,0,0,2\n"
     ]
    },
    {
     "name": "stderr",
     "output_type": "stream",
     "text": [
      "\r",
      "Processing rows:  23%|██▎       | 276/1200 [13:05<44:44,  2.90s/it]"
     ]
    },
    {
     "name": "stdout",
     "output_type": "stream",
     "text": [
      "laptop,29990000,25,nan,nan,Hà Nội,39990000,21200,99,97,98,0,0,0,0,0\n"
     ]
    },
    {
     "name": "stderr",
     "output_type": "stream",
     "text": [
      "\r",
      "Processing rows:  23%|██▎       | 277/1200 [13:08<43:19,  2.82s/it]"
     ]
    },
    {
     "name": "stdout",
     "output_type": "stream",
     "text": [
      "laptop,2789000,20,157,66,Quang Tri,4199000,70000,97,None,None,0,0,0,4,62\n"
     ]
    },
    {
     "name": "stderr",
     "output_type": "stream",
     "text": [
      "\r",
      "Processing rows:  23%|██▎       | 278/1200 [13:10<40:06,  2.61s/it]"
     ]
    },
    {
     "name": "stdout",
     "output_type": "stream",
     "text": [
      "laptop,455555,18,None,None,Nước ngoài,555555,100,100,None,100,0,0,0,0,0\n"
     ]
    },
    {
     "name": "stderr",
     "output_type": "stream",
     "text": [
      "\r",
      "Processing rows:  23%|██▎       | 279/1200 [13:13<42:46,  2.79s/it]"
     ]
    },
    {
     "name": "stdout",
     "output_type": "stream",
     "text": [
      "laptop,8890000,29,None,None,Ho Chi Minh,12490000,20100,97,99,88,0,0,0,0,0\n"
     ]
    },
    {
     "name": "stderr",
     "output_type": "stream",
     "text": [
      "\r",
      "Processing rows:  23%|██▎       | 280/1200 [13:15<41:43,  2.72s/it]"
     ]
    },
    {
     "name": "stdout",
     "output_type": "stream",
     "text": [
      "laptop,7224999,52,51,5,Hai Phong,13899999,100,100,80,0,0,0,0,5\n"
     ]
    },
    {
     "name": "stderr",
     "output_type": "stream",
     "text": [
      "\r",
      "Processing rows:  23%|██▎       | 281/1200 [13:18<40:23,  2.64s/it]"
     ]
    },
    {
     "name": "stdout",
     "output_type": "stream",
     "text": [
      "laptop,631000,18,None,None,Nước ngoài,845000,100,100,None,100,0,0,0,0\n"
     ]
    },
    {
     "name": "stderr",
     "output_type": "stream",
     "text": [
      "\r",
      "Processing rows:  24%|██▎       | 282/1200 [13:20<39:10,  2.56s/it]"
     ]
    },
    {
     "name": "stdout",
     "output_type": "stream",
     "text": [
      "laptop,7020000,33,nan,1,Ho Chi Minh,10500000,100,96,100,100,0,0,0,0,1\n"
     ]
    },
    {
     "name": "stderr",
     "output_type": "stream",
     "text": [
      "\r",
      "Processing rows:  24%|██▎       | 283/1200 [13:23<38:46,  2.54s/it]"
     ]
    },
    {
     "name": "stdout",
     "output_type": "stream",
     "text": [
      "laptop,7570000,None,55,13,Hà Nội,None,100,98,100,100,0,0,0,0,13\n"
     ]
    },
    {
     "name": "stderr",
     "output_type": "stream",
     "text": [
      "\r",
      "Processing rows:  24%|██▎       | 284/1200 [13:25<38:55,  2.55s/it]"
     ]
    },
    {
     "name": "stdout",
     "output_type": "stream",
     "text": [
      "laptop,5999999,25,13,9,Ho Chi Minh,7999999,100,97,None,100,0,1,0,0,8\n"
     ]
    },
    {
     "name": "stderr",
     "output_type": "stream",
     "text": [
      "\r",
      "Processing rows:  24%|██▍       | 285/1200 [13:29<41:34,  2.73s/it]"
     ]
    },
    {
     "name": "stdout",
     "output_type": "stream",
     "text": [
      "laptop,1799000,None,75,21,Dong Nai,None,65500,96,50,100,1,0,0,1,19\n"
     ]
    },
    {
     "name": "stderr",
     "output_type": "stream",
     "text": [
      "\r",
      "Processing rows:  24%|██▍       | 286/1200 [13:31<41:47,  2.74s/it]"
     ]
    },
    {
     "name": "stdout",
     "output_type": "stream",
     "text": [
      "laptop,2900000,50,13,3,Ho Chi Minh,5800000,27300,96,100,100,0,0,0,0,4\n"
     ]
    },
    {
     "name": "stderr",
     "output_type": "stream",
     "text": [
      "\r",
      "Processing rows:  24%|██▍       | 287/1200 [13:34<40:42,  2.68s/it]"
     ]
    },
    {
     "name": "stdout",
     "output_type": "stream",
     "text": [
      "laptop,400000,None,5,1,Tien Giang,None,40300,87,28,100,1,0,0,0,0\n"
     ]
    },
    {
     "name": "stderr",
     "output_type": "stream",
     "text": [
      "\r",
      "Processing rows:  24%|██▍       | 288/1200 [13:36<39:06,  2.57s/it]"
     ]
    },
    {
     "name": "stdout",
     "output_type": "stream",
     "text": [
      "laptop,1842000,None,None,None,Hanoi,None,64700,79,84,95,0,0,0,0,0\n"
     ]
    },
    {
     "name": "stderr",
     "output_type": "stream",
     "text": [
      "\r",
      "Processing rows:  24%|██▍       | 289/1200 [13:39<42:06,  2.77s/it]"
     ]
    },
    {
     "name": "stdout",
     "output_type": "stream",
     "text": [
      "laptop,700000,None,None,1,Tien Giang,None,32200,82,86,88,1,0,0,0,0\n"
     ]
    },
    {
     "name": "stderr",
     "output_type": "stream",
     "text": [
      "\r",
      "Processing rows:  24%|██▍       | 290/1200 [13:41<38:17,  2.52s/it]"
     ]
    },
    {
     "name": "stdout",
     "output_type": "stream",
     "text": [
      "laptop,2570000,10,33,10,Ha Noi,3270000,100,98,100,100,0,0,0,1,10\n"
     ]
    },
    {
     "name": "stderr",
     "output_type": "stream",
     "text": [
      "\r",
      "Processing rows:  24%|██▍       | 291/1200 [13:45<41:32,  2.74s/it]"
     ]
    },
    {
     "name": "stdout",
     "output_type": "stream",
     "text": [
      "laptop,2400000,None,31,10,Hà Nội,None,74400,92,50,85,0,0,1,2,7\n"
     ]
    },
    {
     "name": "stderr",
     "output_type": "stream",
     "text": [
      "\r",
      "Processing rows:  24%|██▍       | 292/1200 [13:47<41:38,  2.75s/it]"
     ]
    },
    {
     "name": "stdout",
     "output_type": "stream",
     "text": [
      "laptop,1300000,None,14,8,Hà Nội,None,104900,92,50,85,0,0,0,0,8\n"
     ]
    },
    {
     "name": "stderr",
     "output_type": "stream",
     "text": [
      "\r",
      "Processing rows:  24%|██▍       | 293/1200 [13:50<41:27,  2.74s/it]"
     ]
    },
    {
     "name": "stdout",
     "output_type": "stream",
     "text": [
      "laptop,1799000,None,170,49,Dong Nai,None,65500,97,None,None,2,0,0,0,47\n"
     ]
    },
    {
     "name": "stderr",
     "output_type": "stream",
     "text": [
      "\r",
      "Processing rows:  24%|██▍       | 294/1200 [13:52<39:04,  2.59s/it]"
     ]
    },
    {
     "name": "stdout",
     "output_type": "stream",
     "text": [
      "laptop,1900000,5,33,14,Ho Chi Minh,2000000,13800,90,100,100,0,0,1,1,12\n"
     ]
    },
    {
     "name": "stderr",
     "output_type": "stream",
     "text": [
      "\r",
      "Processing rows:  25%|██▍       | 295/1200 [13:55<39:27,  2.62s/it]"
     ]
    },
    {
     "name": "stdout",
     "output_type": "stream",
     "text": [
      "laptop,4000000,50,nan,1,Ho Chi Minh,8598000,10200,91,100,80,0,0,0,0,1\n"
     ]
    },
    {
     "name": "stderr",
     "output_type": "stream",
     "text": [
      "\r",
      "Processing rows:  25%|██▍       | 296/1200 [13:57<37:31,  2.49s/it]"
     ]
    },
    {
     "name": "stdout",
     "output_type": "stream",
     "text": [
      "laptop,1799000,None,133,36,Dong Nai,None,65500,99,100,100,0,0,0,0,36\n"
     ]
    },
    {
     "name": "stderr",
     "output_type": "stream",
     "text": [
      "\r",
      "Processing rows:  25%|██▍       | 297/1200 [14:00<37:28,  2.49s/it]"
     ]
    },
    {
     "name": "stdout",
     "output_type": "stream",
     "text": [
      "laptop,14699000,30,38,12,Ho Chi Minh,21000000,23800,100,100,100,0,0,0,0,12\n"
     ]
    },
    {
     "name": "stderr",
     "output_type": "stream",
     "text": [
      "\r",
      "Processing rows:  25%|██▍       | 298/1200 [14:02<37:49,  2.52s/it]"
     ]
    },
    {
     "name": "stdout",
     "output_type": "stream",
     "text": [
      "laptop,1799000,None,50,13,Dong Nai,None,65500,96,50,100,0,0,0,1,12\n"
     ]
    },
    {
     "name": "stderr",
     "output_type": "stream",
     "text": [
      "\r",
      "Processing rows:  25%|██▍       | 299/1200 [14:04<35:10,  2.34s/it]"
     ]
    },
    {
     "name": "stdout",
     "output_type": "stream",
     "text": [
      "laptop,78886,None,None,1,Ho Chi Minh,None,18300,99,100,100,0,0,0,0,1\n"
     ]
    },
    {
     "name": "stderr",
     "output_type": "stream",
     "text": [
      "\r",
      "Processing rows:  25%|██▌       | 300/1200 [14:06<33:45,  2.25s/it]"
     ]
    },
    {
     "name": "stdout",
     "output_type": "stream",
     "text": [
      "laptop,2000000,None,5,None,Ho Chi Minh,None,27300,None,None,None,0,0,0,0,0\n"
     ]
    },
    {
     "name": "stderr",
     "output_type": "stream",
     "text": [
      "\r",
      "Processing rows:  25%|██▌       | 301/1200 [14:09<36:42,  2.45s/it]"
     ]
    },
    {
     "name": "stdout",
     "output_type": "stream",
     "text": [
      "laptop,400000,1,nan,nan,Nuoc ngai,935000,100,nan,33,nan,0,0,0,0,0\n"
     ]
    },
    {
     "name": "stderr",
     "output_type": "stream",
     "text": [
      "\r",
      "Processing rows:  25%|██▌       | 302/1200 [14:12<36:22,  2.43s/it]"
     ]
    },
    {
     "name": "stdout",
     "output_type": "stream",
     "text": [
      "laptop,6414925,52,27,20,Ho Chi Minh,12999999,97,81,100,1,0,0,0,18\n"
     ]
    },
    {
     "name": "stderr",
     "output_type": "stream",
     "text": [
      "\r",
      "Processing rows:  25%|██▌       | 303/1200 [14:14<38:30,  2.58s/it]"
     ]
    },
    {
     "name": "stdout",
     "output_type": "stream",
     "text": [
      "laptop,7191218,40,103,39,Ho Chi Minh,None,100,98,None,None,1,0,1,0,37\n"
     ]
    },
    {
     "name": "stderr",
     "output_type": "stream",
     "text": [
      "\r",
      "Processing rows:  25%|██▌       | 304/1200 [14:17<39:47,  2.66s/it]"
     ]
    },
    {
     "name": "stdout",
     "output_type": "stream",
     "text": [
      "laptop,5499000,25,130,57,Ha Noi,7299000,74400,96,100,100,0,0,0,2,55\n"
     ]
    },
    {
     "name": "stderr",
     "output_type": "stream",
     "text": [
      "\r",
      "Processing rows:  25%|██▌       | 305/1200 [14:20<39:08,  2.62s/it]"
     ]
    },
    {
     "name": "stdout",
     "output_type": "stream",
     "text": [
      "laptop,3500000,None,15,3,Ho Chi Minh,None,20100,88,100,None,0,0,0,0,3\n"
     ]
    },
    {
     "name": "stderr",
     "output_type": "stream",
     "text": [
      "\r",
      "Processing rows:  26%|██▌       | 306/1200 [14:22<38:32,  2.59s/it]"
     ]
    },
    {
     "name": "stdout",
     "output_type": "stream",
     "text": [
      "laptop,2100000,None,None,None,Hanoi,None,Miễn phí,None,None,None,0,0,0,0,0\n"
     ]
    },
    {
     "name": "stderr",
     "output_type": "stream",
     "text": [
      "\r",
      "Processing rows:  26%|██▌       | 307/1200 [14:25<39:08,  2.63s/it]"
     ]
    },
    {
     "name": "stdout",
     "output_type": "stream",
     "text": [
      "laptop,1290000,None,None,None,Binh Duong,None,118500,None,None,None,0,0,0,0,0\n"
     ]
    },
    {
     "name": "stderr",
     "output_type": "stream",
     "text": [
      "\r",
      "Processing rows:  26%|██▌       | 308/1200 [14:27<38:11,  2.57s/it]"
     ]
    },
    {
     "name": "stdout",
     "output_type": "stream",
     "text": [
      "laptop,222000,73,None,None,Nước ngoài,863000,17000,95,93,99,0,0,0,0,0\n"
     ]
    },
    {
     "name": "stderr",
     "output_type": "stream",
     "text": [
      "\r",
      "Processing rows:  26%|██▌       | 309/1200 [14:30<38:04,  2.56s/it]"
     ]
    },
    {
     "name": "stdout",
     "output_type": "stream",
     "text": [
      "laptop,2350000,22,48,24,Ha Noi,3000000,55400,95,100,100,0,2,0,2,20\n"
     ]
    },
    {
     "name": "stderr",
     "output_type": "stream",
     "text": [
      "\r",
      "Processing rows:  26%|██▌       | 310/1200 [14:32<36:16,  2.45s/it]"
     ]
    },
    {
     "name": "stdout",
     "output_type": "stream",
     "text": [
      "laptop,2198000,None,None,None,Nghệ An,None,63300,94,92,92,0,0,0,0,0\n"
     ]
    },
    {
     "name": "stderr",
     "output_type": "stream",
     "text": [
      "\r",
      "Processing rows:  26%|██▌       | 311/1200 [14:36<41:15,  2.78s/it]"
     ]
    },
    {
     "name": "stdout",
     "output_type": "stream",
     "text": [
      "laptop,2268000,None,None,1,Nghệ An,None,56800,94,92,92,0,0,0,0,1\n"
     ]
    },
    {
     "name": "stderr",
     "output_type": "stream",
     "text": [
      "\r",
      "Processing rows:  26%|██▌       | 312/1200 [14:39<40:54,  2.76s/it]"
     ]
    },
    {
     "name": "stdout",
     "output_type": "stream",
     "text": [
      "laptop,5900000,31,nan,nan,Thanh Hoa,8500000,56800,96,100,75,0,0,0,0,0\n"
     ]
    },
    {
     "name": "stderr",
     "output_type": "stream",
     "text": [
      "\r",
      "Processing rows:  26%|██▌       | 313/1200 [14:41<37:44,  2.55s/it]"
     ]
    },
    {
     "name": "stdout",
     "output_type": "stream",
     "text": [
      "laptop,3800000,None,17,5,Hung Yen,None,70000,91,65,100,1,0,1,0,3\n"
     ]
    },
    {
     "name": "stderr",
     "output_type": "stream",
     "text": [
      "\r",
      "Processing rows:  26%|██▌       | 314/1200 [14:43<35:34,  2.41s/it]"
     ]
    },
    {
     "name": "stdout",
     "output_type": "stream",
     "text": [
      "laptop,990000,42,None,None,Thanh Hoa,1699969,80200,86,100,None,0,0,0,0,0\n"
     ]
    },
    {
     "name": "stderr",
     "output_type": "stream",
     "text": [
      "\r",
      "Processing rows:  26%|██▋       | 315/1200 [14:46<40:00,  2.71s/it]"
     ]
    },
    {
     "name": "stdout",
     "output_type": "stream",
     "text": [
      "laptop,3500000,49,None,1,Ho Chi Minh,6800000,23800,96,100,100,0,0,0,0,1\n"
     ]
    },
    {
     "name": "stderr",
     "output_type": "stream",
     "text": [
      "\r",
      "Processing rows:  26%|██▋       | 316/1200 [14:50<44:01,  2.99s/it]"
     ]
    },
    {
     "name": "stdout",
     "output_type": "stream",
     "text": [
      "laptop,25080000,13,nan,nan,Hà Nội,28840000,74400,100,nan,nan,0,0,0,0,0\n"
     ]
    },
    {
     "name": "stderr",
     "output_type": "stream",
     "text": [
      "\r",
      "Processing rows:  26%|██▋       | 317/1200 [14:52<42:17,  2.87s/it]"
     ]
    },
    {
     "name": "stdout",
     "output_type": "stream",
     "text": [
      "laptop,2990000,25,13,8,Hà Nội,3990000,51500,100,100,None,0,1,0,0,7\n"
     ]
    },
    {
     "name": "stderr",
     "output_type": "stream",
     "text": [
      "\r",
      "Processing rows:  26%|██▋       | 318/1200 [14:55<40:08,  2.73s/it]"
     ]
    },
    {
     "name": "stdout",
     "output_type": "stream",
     "text": [
      "laptop,7131799,52,21,4,Hai Phong,16099999,100,100,80,0,0,0,0,5\n"
     ]
    },
    {
     "name": "stderr",
     "output_type": "stream",
     "text": [
      "\r",
      "Processing rows:  27%|██▋       | 319/1200 [14:57<39:28,  2.69s/it]"
     ]
    },
    {
     "name": "stdout",
     "output_type": "stream",
     "text": [
      "laptop,4600000,None,None,1,Hung Yen,None,70000,91,65,100,0,0,0,0,1\n"
     ]
    },
    {
     "name": "stderr",
     "output_type": "stream",
     "text": [
      "\r",
      "Processing rows:  27%|██▋       | 320/1200 [15:00<38:52,  2.65s/it]"
     ]
    },
    {
     "name": "stdout",
     "output_type": "stream",
     "text": [
      "laptop,3800000,46,None,1,Ho Chi Minh,7000000,16500,96,80,94,0,0,0,1,0\n"
     ]
    },
    {
     "name": "stderr",
     "output_type": "stream",
     "text": [
      "\r",
      "Processing rows:  27%|██▋       | 321/1200 [15:03<39:01,  2.66s/it]"
     ]
    },
    {
     "name": "stdout",
     "output_type": "stream",
     "text": [
      "laptop,1200000,14,145,53,Ho Chi Minh,1400000,13800,90,100,100,3,2,1,2,45\n"
     ]
    },
    {
     "name": "stderr",
     "output_type": "stream",
     "text": [
      "\r",
      "Processing rows:  27%|██▋       | 322/1200 [15:06<40:50,  2.79s/it]"
     ]
    },
    {
     "name": "stdout",
     "output_type": "stream",
     "text": [
      "laptop,9490000,42,8,3,Hà Nội,16426000,51500,92,None,None,0,0,0,0,3\n"
     ]
    },
    {
     "name": "stderr",
     "output_type": "stream",
     "text": [
      "\r",
      "Processing rows:  27%|██▋       | 323/1200 [15:09<44:00,  3.01s/it]"
     ]
    },
    {
     "name": "stdout",
     "output_type": "stream",
     "text": [
      "laptop,7254959,45,16,3,Hai Phong,13199999,100,100,80,0,0,0,0,3\n"
     ]
    },
    {
     "name": "stderr",
     "output_type": "stream",
     "text": [
      "\r",
      "Processing rows:  27%|██▋       | 324/1200 [15:12<44:54,  3.08s/it]"
     ]
    },
    {
     "name": "stdout",
     "output_type": "stream",
     "text": [
      "laptop,3470000,None,9,5,Hà Nội,None,100,98,100,100,0,0,1,0,4\n"
     ]
    },
    {
     "name": "stderr",
     "output_type": "stream",
     "text": [
      "\r",
      "Processing rows:  27%|██▋       | 325/1200 [15:15<43:10,  2.96s/it]"
     ]
    },
    {
     "name": "stdout",
     "output_type": "stream",
     "text": [
      "laptop,3890000,15,None,1,Ha Noi,4600000,52400,91,75,100,0,0,0,0,1\n"
     ]
    },
    {
     "name": "stderr",
     "output_type": "stream",
     "text": [
      "\r",
      "Processing rows:  27%|██▋       | 326/1200 [15:18<44:13,  3.04s/it]"
     ]
    },
    {
     "name": "stdout",
     "output_type": "stream",
     "text": [
      "laptop,4439400,56,None,None,Ho Chi Minh,10500000,16500,96,80,94,0,0,0,0,0\n"
     ]
    },
    {
     "name": "stderr",
     "output_type": "stream",
     "text": [
      "\r",
      "Processing rows:  27%|██▋       | 327/1200 [15:21<40:36,  2.79s/it]"
     ]
    },
    {
     "name": "stdout",
     "output_type": "stream",
     "text": [
      "laptop,8400000,None,16,5,Hung Yen,None,70000,91,65,100,0,0,0,0,5\n"
     ]
    },
    {
     "name": "stderr",
     "output_type": "stream",
     "text": [
      "\r",
      "Processing rows:  27%|██▋       | 328/1200 [15:23<39:56,  2.75s/it]"
     ]
    },
    {
     "name": "stdout",
     "output_type": "stream",
     "text": [
      "laptop,6900000,None,123,52,Hà Nội,None,494000,96,None,None,0,0,0,0,52\n"
     ]
    },
    {
     "name": "stderr",
     "output_type": "stream",
     "text": [
      "\r",
      "Processing rows:  27%|██▋       | 329/1200 [15:26<39:26,  2.72s/it]"
     ]
    },
    {
     "name": "stdout",
     "output_type": "stream",
     "text": [
      "laptop,4650000,None,8,1,Ha Noi,None,45100,99,100,100,0,0,0,0,1\n"
     ]
    },
    {
     "name": "stderr",
     "output_type": "stream",
     "text": [
      "\r",
      "Processing rows:  28%|██▊       | 330/1200 [15:28<38:57,  2.69s/it]"
     ]
    },
    {
     "name": "stdout",
     "output_type": "stream",
     "text": [
      "laptop,6047091,45,11,5,Ha Noi,11000000,38000,94,100,76,0,0,0,0,5\n"
     ]
    },
    {
     "name": "stderr",
     "output_type": "stream",
     "text": [
      "\r",
      "Processing rows:  28%|██▊       | 331/1200 [15:31<40:03,  2.77s/it]"
     ]
    },
    {
     "name": "stdout",
     "output_type": "stream",
     "text": [
      "laptop,3800000,None,90,25,Nam Dinh,None,56800,99,100,100,0,0,0,0,25\n"
     ]
    },
    {
     "name": "stderr",
     "output_type": "stream",
     "text": [
      "\r",
      "Processing rows:  28%|██▊       | 332/1200 [15:33<37:12,  2.57s/it]"
     ]
    },
    {
     "name": "stdout",
     "output_type": "stream",
     "text": [
      "laptop,6000000,None,136,42,Nam Dinh,None,56800,99,100,100,0,0,0,0,42\n"
     ]
    },
    {
     "name": "stderr",
     "output_type": "stream",
     "text": [
      "\r",
      "Processing rows:  28%|██▊       | 333/1200 [15:37<42:11,  2.92s/it]"
     ]
    },
    {
     "name": "stdout",
     "output_type": "stream",
     "text": [
      "laptop,3256000,45,45,16,Ho Chi Minh,8800000,23800,96,100,100,0,0,1,0,15\n"
     ]
    },
    {
     "name": "stderr",
     "output_type": "stream",
     "text": [
      "\r",
      "Processing rows:  28%|██▊       | 334/1200 [15:40<40:38,  2.82s/it]"
     ]
    },
    {
     "name": "stdout",
     "output_type": "stream",
     "text": [
      "laptop,1799000,None,64,18,Dong Nai,None,65500,96,50,100,1,0,0,1,16\n"
     ]
    },
    {
     "name": "stderr",
     "output_type": "stream",
     "text": [
      "\r",
      "Processing rows:  28%|██▊       | 335/1200 [15:42<38:21,  2.66s/it]"
     ]
    },
    {
     "name": "stdout",
     "output_type": "stream",
     "text": [
      "laptop,2699000,None,None,None,Dong Nai,None,48200,97,100,None,0,0,0,0,0\n"
     ]
    },
    {
     "name": "stderr",
     "output_type": "stream",
     "text": [
      "\r",
      "Processing rows:  28%|██▊       | 336/1200 [15:45<37:30,  2.60s/it]"
     ]
    },
    {
     "name": "stdout",
     "output_type": "stream",
     "text": [
      "laptop,2699000,None,None,None,Dong Nai,None,48200,97,100,None,0,0,0,0,0\n"
     ]
    },
    {
     "name": "stderr",
     "output_type": "stream",
     "text": [
      "\r",
      "Processing rows:  28%|██▊       | 337/1200 [15:47<37:13,  2.59s/it]"
     ]
    },
    {
     "name": "stdout",
     "output_type": "stream",
     "text": [
      "laptop,2500000,None,25,10,Hà Nội,None,104900,92,50,85,0,0,0,2,9\n"
     ]
    },
    {
     "name": "stderr",
     "output_type": "stream",
     "text": [
      "\r",
      "Processing rows:  28%|██▊       | 338/1200 [15:50<37:30,  2.61s/it]"
     ]
    },
    {
     "name": "stdout",
     "output_type": "stream",
     "text": [
      "laptop,3000000,40,5,4,Hà Nội,4998000,74400,79,84,95,0,0,0,0,3\n"
     ]
    },
    {
     "name": "stderr",
     "output_type": "stream",
     "text": [
      "\r",
      "Processing rows:  28%|██▊       | 339/1200 [15:53<38:00,  2.65s/it]"
     ]
    },
    {
     "name": "stdout",
     "output_type": "stream",
     "text": [
      "laptop,1799000,None,125,34,Dong Nai,None,65500,99,100,100,1,0,0,0,33\n"
     ]
    },
    {
     "name": "stderr",
     "output_type": "stream",
     "text": [
      "\r",
      "Processing rows:  28%|██▊       | 340/1200 [15:54<34:58,  2.44s/it]"
     ]
    },
    {
     "name": "stdout",
     "output_type": "stream",
     "text": [
      "laptop,299712,None,None,None,Ho Chi Minh,None,18300,99,100,100,0,0,0,0,0\n"
     ]
    },
    {
     "name": "stderr",
     "output_type": "stream",
     "text": [
      "\r",
      "Processing rows:  28%|██▊       | 341/1200 [15:57<33:41,  2.35s/it]"
     ]
    },
    {
     "name": "stdout",
     "output_type": "stream",
     "text": [
      "laptop,668113,33,None,None,Nước ngoài,999900,17000,100,None,None,0,0,0,0,0\n"
     ]
    },
    {
     "name": "stderr",
     "output_type": "stream",
     "text": [
      "\r",
      "Processing rows:  28%|██▊       | 342/1200 [15:59<34:49,  2.44s/it]"
     ]
    },
    {
     "name": "stdout",
     "output_type": "stream",
     "text": [
      "laptop,15200000,31,69,22,Ho Chi Minh,22000000,23800,100,100,100,0,0,0,0,22\n"
     ]
    },
    {
     "name": "stderr",
     "output_type": "stream",
     "text": [
      "\r",
      "Processing rows:  29%|██▊       | 343/1200 [16:02<35:53,  2.51s/it]"
     ]
    },
    {
     "name": "stdout",
     "output_type": "stream",
     "text": [
      "laptop,2789000,29,22,8,Hung Yen,5200000,63300,91,65,100,0,0,0,1,6\n"
     ]
    },
    {
     "name": "stderr",
     "output_type": "stream",
     "text": [
      "\r",
      "Processing rows:  29%|██▊       | 344/1200 [16:05<36:10,  2.54s/it]"
     ]
    },
    {
     "name": "stdout",
     "output_type": "stream",
     "text": [
      "laptop,11000000,13,nan,nan,Ha Noi,12650000,64700,100,nan,nan,0,0,0,0,1\n"
     ]
    },
    {
     "name": "stderr",
     "output_type": "stream",
     "text": [
      "\r",
      "Processing rows:  29%|██▉       | 345/1200 [16:07<36:54,  2.59s/it]"
     ]
    },
    {
     "name": "stdout",
     "output_type": "stream",
     "text": [
      "laptop,3900000,None,None,None,Hung Yen,None,70000,91,65,100,0,0,0,0,0\n"
     ]
    },
    {
     "name": "stderr",
     "output_type": "stream",
     "text": [
      "\r",
      "Processing rows:  29%|██▉       | 346/1200 [16:10<37:15,  2.62s/it]"
     ]
    },
    {
     "name": "stdout",
     "output_type": "stream",
     "text": [
      "laptop,2150000,None,23,7,Hà Nội,None,100,97,100,100,0,0,0,0,7\n"
     ]
    },
    {
     "name": "stderr",
     "output_type": "stream",
     "text": [
      "\r",
      "Processing rows:  29%|██▉       | 347/1200 [16:13<38:27,  2.71s/it]"
     ]
    },
    {
     "name": "stdout",
     "output_type": "stream",
     "text": [
      "laptop,8800000,None,24,7,Hà Nội,None,38000,97,100,100,0,0,0,0,7\n"
     ]
    },
    {
     "name": "stderr",
     "output_type": "stream",
     "text": [
      "\r",
      "Processing rows:  29%|██▉       | 348/1200 [16:15<35:01,  2.47s/it]"
     ]
    },
    {
     "name": "stdout",
     "output_type": "stream",
     "text": [
      "laptop,1799000,None,177,43,Dong Nai,None,65500,97,None,None,1,0,1,0,41\n"
     ]
    },
    {
     "name": "stderr",
     "output_type": "stream",
     "text": [
      "\r",
      "Processing rows:  29%|██▉       | 349/1200 [16:17<32:43,  2.31s/it]"
     ]
    },
    {
     "name": "stdout",
     "output_type": "stream",
     "text": [
      "laptop,1990000,None,7,1,Hà Nội,None,100,95,None,None,0,0,0,0,1\n"
     ]
    },
    {
     "name": "stderr",
     "output_type": "stream",
     "text": [
      "\r",
      "Processing rows:  29%|██▉       | 350/1200 [16:19<33:32,  2.37s/it]"
     ]
    },
    {
     "name": "stdout",
     "output_type": "stream",
     "text": [
      "laptop,26000000,10,8,None,Ho Chi Minh,28790000,100,94,86,100,0,0,0,0,0\n"
     ]
    },
    {
     "name": "stderr",
     "output_type": "stream",
     "text": [
      "\r",
      "Processing rows:  29%|██▉       | 351/1200 [16:22<36:36,  2.59s/it]"
     ]
    },
    {
     "name": "stdout",
     "output_type": "stream",
     "text": [
      "laptop,5200000,None,None,None,Thanh Hoa,None,100600,None,None,None,0,0,0,0,0\n"
     ]
    },
    {
     "name": "stderr",
     "output_type": "stream",
     "text": [
      "\r",
      "Processing rows:  29%|██▉       | 352/1200 [16:25<36:38,  2.59s/it]"
     ]
    },
    {
     "name": "stdout",
     "output_type": "stream",
     "text": [
      "laptop,5300000,None,None,None,Hanoi,None,Miễn phí,None,100,100,0,0,0,0,0\n"
     ]
    },
    {
     "name": "stderr",
     "output_type": "stream",
     "text": [
      "\r",
      "Processing rows:  29%|██▉       | 353/1200 [16:27<36:38,  2.60s/it]"
     ]
    },
    {
     "name": "stdout",
     "output_type": "stream",
     "text": [
      "laptop,4500000,None,14,5,Hung Yen,None,51100,100,98,100,0,0,0,0,5\n"
     ]
    },
    {
     "name": "stderr",
     "output_type": "stream",
     "text": [
      "\r",
      "Processing rows:  30%|██▉       | 354/1200 [16:30<38:02,  2.70s/it]"
     ]
    },
    {
     "name": "stdout",
     "output_type": "stream",
     "text": [
      "laptop,3900000,None,None,None,Thanh Hoa,None,100600,None,None,None,0,0,0,0,0\n"
     ]
    },
    {
     "name": "stderr",
     "output_type": "stream",
     "text": [
      "\r",
      "Processing rows:  30%|██▉       | 355/1200 [16:33<39:30,  2.81s/it]"
     ]
    },
    {
     "name": "stdout",
     "output_type": "stream",
     "text": [
      "laptop,8269999,44,None,None,Hai Phong,15399999,100,100,80,0,0,0,0,0\n"
     ]
    },
    {
     "name": "stderr",
     "output_type": "stream",
     "text": [
      "\r",
      "Processing rows:  30%|██▉       | 356/1200 [16:36<38:45,  2.75s/it]"
     ]
    },
    {
     "name": "stdout",
     "output_type": "stream",
     "text": [
      "laptop,4200000,28,5,3,Ho Chi Minh,5800000,16500,96,80,94,0,0,0,0,4\n"
     ]
    },
    {
     "name": "stderr",
     "output_type": "stream",
     "text": [
      "\r",
      "Processing rows:  30%|██▉       | 357/1200 [16:38<36:55,  2.63s/it]"
     ]
    },
    {
     "name": "stdout",
     "output_type": "stream",
     "text": [
      "laptop,7156999,53,20,4,Hai Phong,14099999,100,100,80,0,0,0,0,4\n"
     ]
    },
    {
     "name": "stderr",
     "output_type": "stream",
     "text": [
      "\r",
      "Processing rows:  30%|██▉       | 358/1200 [16:41<36:25,  2.60s/it]"
     ]
    },
    {
     "name": "stdout",
     "output_type": "stream",
     "text": [
      "laptop,3500000,12,30,12,Hung Yen,4600000,80200,91,65,100,1,1,4,0,6\n"
     ]
    },
    {
     "name": "stderr",
     "output_type": "stream",
     "text": [
      "\r",
      "Processing rows:  30%|██▉       | 359/1200 [16:44<37:00,  2.64s/it]"
     ]
    },
    {
     "name": "stdout",
     "output_type": "stream",
     "text": [
      "laptop,2496000,7,5,2,Nghệ An,2998000,63300,94,92,92,0,0,0,0,3\n"
     ]
    },
    {
     "name": "stderr",
     "output_type": "stream",
     "text": [
      "\r",
      "Processing rows:  30%|███       | 360/1200 [16:47<39:17,  2.81s/it]"
     ]
    },
    {
     "name": "stdout",
     "output_type": "stream",
     "text": [
      "laptop,3270000,24,9,1,Ha Noi,4289000,100,98,100,100,0,0,0,0,1\n"
     ]
    },
    {
     "name": "stderr",
     "output_type": "stream",
     "text": [
      "\r",
      "Processing rows:  30%|███       | 361/1200 [16:50<39:01,  2.79s/it]"
     ]
    },
    {
     "name": "stdout",
     "output_type": "stream",
     "text": [
      "laptop,1099000,None,None,None,Hanoi,None,63400,93,92,85,0,0,0,0,0\n"
     ]
    },
    {
     "name": "stderr",
     "output_type": "stream",
     "text": [
      "\r",
      "Processing rows:  30%|███       | 362/1200 [16:52<35:47,  2.56s/it]"
     ]
    },
    {
     "name": "stdout",
     "output_type": "stream",
     "text": [
      "laptop,9956862,11,32,6,Hà Nội,12190000,None,95,100,100,0,0,0,0,6\n"
     ]
    },
    {
     "name": "stderr",
     "output_type": "stream",
     "text": [
      "\r",
      "Processing rows:  30%|███       | 363/1200 [16:54<36:18,  2.60s/it]"
     ]
    },
    {
     "name": "stdout",
     "output_type": "stream",
     "text": [
      "laptop,8300000,None,46,5,Hà Nội,None,100,95,None,None,0,0,0,0,5\n"
     ]
    },
    {
     "name": "stderr",
     "output_type": "stream",
     "text": [
      "\r",
      "Processing rows:  30%|███       | 364/1200 [16:57<35:20,  2.54s/it]"
     ]
    },
    {
     "name": "stdout",
     "output_type": "stream",
     "text": [
      "laptop,800000,None,None,None,Tien Giang,None,40300,87,28,100,0,0,0,0,0\n"
     ]
    },
    {
     "name": "stderr",
     "output_type": "stream",
     "text": [
      "\r",
      "Processing rows:  30%|███       | 365/1200 [16:59<35:01,  2.52s/it]"
     ]
    },
    {
     "name": "stdout",
     "output_type": "stream",
     "text": [
      "laptop,9706000,None,18,3,Hà Nội,None,64700,92,None,None,0,0,0,0,3\n"
     ]
    },
    {
     "name": "stderr",
     "output_type": "stream",
     "text": [
      "\r",
      "Processing rows:  30%|███       | 366/1200 [17:02<35:24,  2.55s/it]"
     ]
    },
    {
     "name": "stdout",
     "output_type": "stream",
     "text": [
      "laptop,7290599,49,15,2,Hai Phong,14299999,100,100,80,0,0,0,0,3\n"
     ]
    },
    {
     "name": "stderr",
     "output_type": "stream",
     "text": [
      "\r",
      "Processing rows:  31%|███       | 367/1200 [17:04<35:10,  2.53s/it]"
     ]
    },
    {
     "name": "stdout",
     "output_type": "stream",
     "text": [
      "laptop,2870000,12,7,2,Hà Nội,3270000,100,98,100,100,0,0,0,1,1\n"
     ]
    },
    {
     "name": "stderr",
     "output_type": "stream",
     "text": [
      "\r",
      "Processing rows:  31%|███       | 368/1200 [17:07<34:19,  2.47s/it]"
     ]
    },
    {
     "name": "stdout",
     "output_type": "stream",
     "text": [
      "laptop,3990000,20,5,2,Hà Nội,5390000,57700,100,None,None,0,0,0,0,2\n"
     ]
    },
    {
     "name": "stderr",
     "output_type": "stream",
     "text": [
      "\r",
      "Processing rows:  31%|███       | 369/1200 [17:10<36:43,  2.65s/it]"
     ]
    },
    {
     "name": "stdout",
     "output_type": "stream",
     "text": [
      "laptop,500000,None,None,None,Vinh Phuc,None,2695100,None,None,None,0,0,0,0,0\n"
     ]
    },
    {
     "name": "stderr",
     "output_type": "stream",
     "text": [
      "\r",
      "Processing rows:  31%|███       | 370/1200 [17:13<37:45,  2.73s/it]"
     ]
    },
    {
     "name": "stdout",
     "output_type": "stream",
     "text": [
      "laptop,990000,42,None,2,Thanh Hoa,1699989,70000,86,100,None,0,1,0,0,1\n"
     ]
    },
    {
     "name": "stderr",
     "output_type": "stream",
     "text": [
      "\r",
      "Processing rows:  31%|███       | 371/1200 [17:15<37:04,  2.68s/it]"
     ]
    },
    {
     "name": "stdout",
     "output_type": "stream",
     "text": [
      "laptop,2450000,None,17,10,Binh Duong,None,40300,96,None,100,0,0,1,0,9\n"
     ]
    },
    {
     "name": "stderr",
     "output_type": "stream",
     "text": [
      "\r",
      "Processing rows:  31%|███       | 372/1200 [17:18<36:45,  2.66s/it]"
     ]
    },
    {
     "name": "stdout",
     "output_type": "stream",
     "text": [
      "laptop,6570000,None,131,23,Hung Yen,None,56800,97,100,100,0,0,0,2,21\n"
     ]
    },
    {
     "name": "stderr",
     "output_type": "stream",
     "text": [
      "\r",
      "Processing rows:  31%|███       | 373/1200 [17:20<33:28,  2.43s/it]"
     ]
    },
    {
     "name": "stdout",
     "output_type": "stream",
     "text": [
      "laptop,12000000,None,None,None,Thai Nguyen,None,43900,None,None,None,0,0,0,0,0\n"
     ]
    },
    {
     "name": "stderr",
     "output_type": "stream",
     "text": [
      "\r",
      "Processing rows:  31%|███       | 374/1200 [17:22<33:51,  2.46s/it]"
     ]
    },
    {
     "name": "stdout",
     "output_type": "stream",
     "text": [
      "laptop,8500000,None,None,None,Hanoi,None,Miễn phí,None,100,100,0,0,0,0,0\n"
     ]
    },
    {
     "name": "stderr",
     "output_type": "stream",
     "text": [
      "\r",
      "Processing rows:  31%|███▏      | 375/1200 [17:25<32:52,  2.39s/it]"
     ]
    },
    {
     "name": "stdout",
     "output_type": "stream",
     "text": [
      "laptop,1799000,None,52,13,Dong Nai,None,65500,96,50,100,0,0,0,0,13\n"
     ]
    },
    {
     "name": "stderr",
     "output_type": "stream",
     "text": [
      "\r",
      "Processing rows:  31%|███▏      | 376/1200 [17:27<33:37,  2.45s/it]"
     ]
    },
    {
     "name": "stdout",
     "output_type": "stream",
     "text": [
      "laptop,8890000,30,6,2,Ho Chi Minh,12790000,23800,94,100,,0,0,0,0,2\n"
     ]
    },
    {
     "name": "stderr",
     "output_type": "stream",
     "text": [
      "\r",
      "Processing rows:  31%|███▏      | 377/1200 [17:30<33:27,  2.44s/it]"
     ]
    },
    {
     "name": "stdout",
     "output_type": "stream",
     "text": [
      "laptop,8566770,None,None,None,Hung Yen,None,37700,100,98,100,0,0,0,0,0\n"
     ]
    },
    {
     "name": "stderr",
     "output_type": "stream",
     "text": [
      "\r",
      "Processing rows:  32%|███▏      | 378/1200 [17:32<33:06,  2.42s/it]"
     ]
    },
    {
     "name": "stdout",
     "output_type": "stream",
     "text": [
      "laptop,28990000,None,None,None,Ho Chi Minh,None,10200,97,98,85,0,0,0,0,0\n"
     ]
    },
    {
     "name": "stderr",
     "output_type": "stream",
     "text": [
      "\r",
      "Processing rows:  32%|███▏      | 379/1200 [17:34<33:49,  2.47s/it]"
     ]
    },
    {
     "name": "stdout",
     "output_type": "stream",
     "text": [
      "laptop,17337000,21,nan,nan,Ho Chi Minh,21990000,16300,94,100,nan,0,0,0,0,0\n"
     ]
    },
    {
     "name": "stderr",
     "output_type": "stream",
     "text": [
      "\r",
      "Processing rows:  32%|███▏      | 380/1200 [17:38<36:55,  2.70s/it]"
     ]
    },
    {
     "name": "stdout",
     "output_type": "stream",
     "text": [
      "laptop,3700000,None,None,None,Ho Chi Minh,None,20100,90,86,None,0,0,0,0,0\n"
     ]
    },
    {
     "name": "stderr",
     "output_type": "stream",
     "text": [
      "\r",
      "Processing rows:  32%|███▏      | 381/1200 [17:40<36:08,  2.65s/it]"
     ]
    },
    {
     "name": "stdout",
     "output_type": "stream",
     "text": [
      "laptop,4900000,37,None,1,Ho Chi Minh,7800000,100,96,100,100,0,0,0,0,1\n"
     ]
    },
    {
     "name": "stderr",
     "output_type": "stream",
     "text": [
      "\r",
      "Processing rows:  32%|███▏      | 382/1200 [17:44<38:46,  2.84s/it]"
     ]
    },
    {
     "name": "stdout",
     "output_type": "stream",
     "text": [
      "laptop,899999,10,11,4,Hung Yen,999999,100600,86,100,88,1,0,0,0,4\n"
     ]
    },
    {
     "name": "stderr",
     "output_type": "stream",
     "text": [
      "\r",
      "Processing rows:  32%|███▏      | 383/1200 [17:46<37:35,  2.76s/it]"
     ]
    },
    {
     "name": "stdout",
     "output_type": "stream",
     "text": [
      "laptop,6350000,31,5,None,Ho Chi Minh,9250000,20100,88,100,None,0,0,0,0,0\n"
     ]
    },
    {
     "name": "stderr",
     "output_type": "stream",
     "text": [
      "\r",
      "Processing rows:  32%|███▏      | 384/1200 [17:49<36:28,  2.68s/it]"
     ]
    },
    {
     "name": "stdout",
     "output_type": "stream",
     "text": [
      "laptop,2800000,None,None,1,Ho Chi Minh,None,27300,100,None,None,0,0,0,0,1\n"
     ]
    },
    {
     "name": "stderr",
     "output_type": "stream",
     "text": [
      "\r",
      "Processing rows:  32%|███▏      | 385/1200 [17:51<36:00,  2.65s/it]"
     ]
    },
    {
     "name": "stdout",
     "output_type": "stream",
     "text": [
      "laptop,7100000,None,42,4,Hung Yen,None,37700,100,98,100,0,0,0,0,4\n"
     ]
    },
    {
     "name": "stderr",
     "output_type": "stream",
     "text": [
      "\r",
      "Processing rows:  32%|███▏      | 386/1200 [17:53<33:31,  2.47s/it]"
     ]
    },
    {
     "name": "stdout",
     "output_type": "stream",
     "text": [
      "laptop,7750000,22,8,None,Hanoi,9990000,74400,98,100,92,0,0,0,0,0\n"
     ]
    },
    {
     "name": "stderr",
     "output_type": "stream",
     "text": [
      "\r",
      "Processing rows:  32%|███▏      | 387/1200 [17:55<32:11,  2.38s/it]"
     ]
    },
    {
     "name": "stdout",
     "output_type": "stream",
     "text": [
      "laptop,7600000,None,40,9,Hung Yen,None,70000,91,65,100,0,0,0,0,9\n"
     ]
    },
    {
     "name": "stderr",
     "output_type": "stream",
     "text": [
      "\r",
      "Processing rows:  32%|███▏      | 388/1200 [17:58<33:47,  2.50s/it]"
     ]
    },
    {
     "name": "stdout",
     "output_type": "stream",
     "text": [
      "laptop,8999000,None,24,6,Hung Yen,None,70000,91,65,100,0,0,1,0,5\n"
     ]
    },
    {
     "name": "stderr",
     "output_type": "stream",
     "text": [
      "\r",
      "Processing rows:  32%|███▏      | 389/1200 [18:01<33:45,  2.50s/it]"
     ]
    },
    {
     "name": "stdout",
     "output_type": "stream",
     "text": [
      "laptop,8500000,None,23,4,Hung Yen,None,70000,91,65,100,0,0,1,0,3\n"
     ]
    },
    {
     "name": "stderr",
     "output_type": "stream",
     "text": [
      "\r",
      "Processing rows:  32%|███▎      | 390/1200 [18:03<32:15,  2.39s/it]"
     ]
    },
    {
     "name": "stdout",
     "output_type": "stream",
     "text": [
      "laptop,11780000,33,nan,nan,Hà Nội,17490000,84600,98,100,92,0,0,0,0,0\n"
     ]
    },
    {
     "name": "stderr",
     "output_type": "stream",
     "text": [
      "\r",
      "Processing rows:  33%|███▎      | 391/1200 [18:05<30:54,  2.29s/it]"
     ]
    },
    {
     "name": "stdout",
     "output_type": "stream",
     "text": [
      "laptop,3000000,14,None,None,Ho Chi Minh,None,None,None,None,0,0,0,0,0\n"
     ]
    },
    {
     "name": "stderr",
     "output_type": "stream",
     "text": [
      "\r",
      "Processing rows:  33%|███▎      | 392/1200 [18:07<31:18,  2.32s/it]"
     ]
    },
    {
     "name": "stdout",
     "output_type": "stream",
     "text": [
      "laptop,1650000,None,None,None,Ho Chi Minh,None,27300,100,100,None,0,0,0,0,0\n"
     ]
    },
    {
     "name": "stderr",
     "output_type": "stream",
     "text": [
      "\r",
      "Processing rows:  33%|███▎      | 393/1200 [18:10<32:11,  2.39s/it]"
     ]
    },
    {
     "name": "stdout",
     "output_type": "stream",
     "text": [
      "laptop,7352999,52,15,3,Hai Phong,14399999,100,100,80,0,0,0,0,3\n"
     ]
    },
    {
     "name": "stderr",
     "output_type": "stream",
     "text": [
      "\r",
      "Processing rows:  33%|███▎      | 394/1200 [18:14<37:54,  2.82s/it]"
     ]
    },
    {
     "name": "stdout",
     "output_type": "stream",
     "text": [
      "laptop,3500000,12,10,4,Hung Yen,3990000,56800,91,65,100,0,0,0,0,4\n"
     ]
    },
    {
     "name": "stderr",
     "output_type": "stream",
     "text": [
      "\r",
      "Processing rows:  33%|███▎      | 395/1200 [18:16<36:53,  2.75s/it]"
     ]
    },
    {
     "name": "stdout",
     "output_type": "stream",
     "text": [
      "laptop,6300000,None,15,1,Hung Yen,None,70000,91,65,100,0,0,0,0,1\n"
     ]
    },
    {
     "name": "stderr",
     "output_type": "stream",
     "text": [
      "\r",
      "Processing rows:  33%|███▎      | 396/1200 [18:19<37:04,  2.77s/it]"
     ]
    },
    {
     "name": "stdout",
     "output_type": "stream",
     "text": [
      "laptop,680000,None,None,None,Ho Chi Minh,None,27300,100,83,85,0,0,0,0,0\n"
     ]
    },
    {
     "name": "stderr",
     "output_type": "stream",
     "text": [
      "\r",
      "Processing rows:  33%|███▎      | 397/1200 [18:22<36:47,  2.75s/it]"
     ]
    },
    {
     "name": "stdout",
     "output_type": "stream",
     "text": [
      "laptop,2970000,None,5,3,Hà Nội,None,100,98,100,100,0,0,0,0,3\n"
     ]
    },
    {
     "name": "stderr",
     "output_type": "stream",
     "text": [
      "\r",
      "Processing rows:  33%|███▎      | 398/1200 [18:24<35:15,  2.64s/it]"
     ]
    },
    {
     "name": "stdout",
     "output_type": "stream",
     "text": [
      "laptop,1790000,None,None,None,Ho Chi Minh,None,27300,100,100,None,0,0,0,0,0\n"
     ]
    },
    {
     "name": "stderr",
     "output_type": "stream",
     "text": [
      "\r",
      "Processing rows:  33%|███▎      | 399/1200 [18:27<34:55,  2.62s/it]"
     ]
    },
    {
     "name": "stdout",
     "output_type": "stream",
     "text": [
      "laptop,29990000,25,nan,nan,Ho Chi Minh,39990000,100,99,97,95,0,0,0,0,0\n"
     ]
    },
    {
     "name": "stderr",
     "output_type": "stream",
     "text": [
      "\r",
      "Processing rows:  33%|███▎      | 400/1200 [18:29<34:50,  2.61s/it]"
     ]
    },
    {
     "name": "stdout",
     "output_type": "stream",
     "text": [
      "laptop,1900000,5,nan,nan,Da Nang,2000000,45100,100,nan,nan,0,0,0,0,0\n"
     ]
    },
    {
     "name": "stderr",
     "output_type": "stream",
     "text": [
      "\r",
      "Processing rows:  33%|███▎      | 401/1200 [18:32<36:15,  2.72s/it]"
     ]
    },
    {
     "name": "stdout",
     "output_type": "stream",
     "text": [
      "laptop,2128000,None,18,3,Hà Nội,None,64700,79,84,95,1,0,0,0,2\n"
     ]
    },
    {
     "name": "stderr",
     "output_type": "stream",
     "text": [
      "\r",
      "Processing rows:  34%|███▎      | 402/1200 [18:35<35:19,  2.66s/it]"
     ]
    },
    {
     "name": "stdout",
     "output_type": "stream",
     "text": [
      "laptop,10190000,17,5,None,Ho Chi Minh,12290000,None,96,None,83,0,0,0,0,0\n"
     ]
    },
    {
     "name": "stderr",
     "output_type": "stream",
     "text": [
      "\r",
      "Processing rows:  34%|███▎      | 403/1200 [18:38<39:02,  2.94s/it]"
     ]
    },
    {
     "name": "stdout",
     "output_type": "stream",
     "text": [
      "laptop,5990000,48,None,None,Hanoi,11490000,100,85,None,None,0,0,0,0,0\n"
     ]
    },
    {
     "name": "stderr",
     "output_type": "stream",
     "text": [
      "\r",
      "Processing rows:  34%|███▎      | 404/1200 [18:41<36:56,  2.78s/it]"
     ]
    },
    {
     "name": "stdout",
     "output_type": "stream",
     "text": [
      "laptop,2350000,None,None,None,Hanoi,None,100,97,100,100,0,0,0,0,0\n"
     ]
    },
    {
     "name": "stderr",
     "output_type": "stream",
     "text": [
      "\r",
      "Processing rows:  34%|███▍      | 405/1200 [18:43<34:34,  2.61s/it]"
     ]
    },
    {
     "name": "stdout",
     "output_type": "stream",
     "text": [
      "laptop,4500000,None,5,4,Hà Nội,None,100,98,100,100,0,0,0,0,4\n"
     ]
    },
    {
     "name": "stderr",
     "output_type": "stream",
     "text": [
      "\r",
      "Processing rows:  34%|███▍      | 406/1200 [18:46<34:14,  2.59s/it]"
     ]
    },
    {
     "name": "stdout",
     "output_type": "stream",
     "text": [
      "laptop,4427000,None,None,None,Hanoi,None,64700,79,84,95,0,0,0,0,0\n"
     ]
    },
    {
     "name": "stderr",
     "output_type": "stream",
     "text": [
      "\r",
      "Processing rows:  34%|███▍      | 407/1200 [18:48<33:52,  2.56s/it]"
     ]
    },
    {
     "name": "stdout",
     "output_type": "stream",
     "text": [
      "laptop,3070000,6,5,1,Ha Noi,3270000,100,98,100,100,0,0,0,0,1\n"
     ]
    },
    {
     "name": "stderr",
     "output_type": "stream",
     "text": [
      "\r",
      "Processing rows:  34%|███▍      | 408/1200 [18:52<40:35,  3.08s/it]"
     ]
    },
    {
     "name": "stdout",
     "output_type": "stream",
     "text": [
      "laptop,4893899,11,23,19,Hà Nội,None,100,98,100,100,0,0,0,0,20\n"
     ]
    },
    {
     "name": "stderr",
     "output_type": "stream",
     "text": [
      "\r",
      "Processing rows:  34%|███▍      | 409/1200 [18:55<40:23,  3.06s/it]"
     ]
    },
    {
     "name": "stdout",
     "output_type": "stream",
     "text": [
      "laptop,2870000,None,None,None,Hanoi,None,100,98,100,100,0,0,0,0,0\n"
     ]
    },
    {
     "name": "stderr",
     "output_type": "stream",
     "text": [
      "\r",
      "Processing rows:  34%|███▍      | 410/1200 [18:58<40:12,  3.05s/it]"
     ]
    },
    {
     "name": "stdout",
     "output_type": "stream",
     "text": [
      "laptop,2650000,None,None,None,Hanoi,None,100,97,100,100,0,0,0,0,0\n"
     ]
    },
    {
     "name": "stderr",
     "output_type": "stream",
     "text": [
      "\r",
      "Processing rows:  34%|███▍      | 411/1200 [19:01<39:10,  2.98s/it]"
     ]
    },
    {
     "name": "stdout",
     "output_type": "stream",
     "text": [
      "laptop,6520000,None,43,14,Hung Yen,None,37700,100,98,100,0,0,0,2,12\n"
     ]
    },
    {
     "name": "stderr",
     "output_type": "stream",
     "text": [
      "\r",
      "Processing rows:  34%|███▍      | 412/1200 [19:04<40:03,  3.05s/it]"
     ]
    },
    {
     "name": "stdout",
     "output_type": "stream",
     "text": [
      "laptop,6569000,None,77,11,Hung Yen,None,37700,97,100,100,0,0,0,1,10\n"
     ]
    },
    {
     "name": "stderr",
     "output_type": "stream",
     "text": [
      "\r",
      "Processing rows:  34%|███▍      | 413/1200 [19:07<38:36,  2.94s/it]"
     ]
    },
    {
     "name": "stdout",
     "output_type": "stream",
     "text": [
      "laptop,5200000,None,102,14,Hung Yen,6760000,56800,97,100,100,0,0,0,1,13\n"
     ]
    },
    {
     "name": "stderr",
     "output_type": "stream",
     "text": [
      "\r",
      "Processing rows:  34%|███▍      | 414/1200 [19:10<37:53,  2.89s/it]"
     ]
    },
    {
     "name": "stdout",
     "output_type": "stream",
     "text": [
      "laptop,14900000,None,None,None,Ho Chi Minh,None,27300,None,None,None,0,0,0,0,0\n"
     ]
    },
    {
     "name": "stderr",
     "output_type": "stream",
     "text": [
      "\r",
      "Processing rows:  35%|███▍      | 415/1200 [19:13<36:55,  2.82s/it]"
     ]
    },
    {
     "name": "stdout",
     "output_type": "stream",
     "text": [
      "laptop,9999000,26,9,3,Ho Chi Minh,13490000,27300,93,100,None,0,0,0,0,3\n"
     ]
    },
    {
     "name": "stderr",
     "output_type": "stream",
     "text": [
      "\r",
      "Processing rows:  35%|███▍      | 416/1200 [19:16<38:23,  2.94s/it]"
     ]
    },
    {
     "name": "stdout",
     "output_type": "stream",
     "text": [
      "laptop,9499000,None,None,None,Dong Nai,None,Miễn phí,95,100,100,0,0,0,0,0\n"
     ]
    },
    {
     "name": "stderr",
     "output_type": "stream",
     "text": [
      "\r",
      "Processing rows:  35%|███▍      | 417/1200 [19:18<36:19,  2.78s/it]"
     ]
    },
    {
     "name": "stdout",
     "output_type": "stream",
     "text": [
      "laptop,7290000,None,113,29,Hung Yen,None,56800,97,100,100,0,0,0,1,29\n"
     ]
    },
    {
     "name": "stderr",
     "output_type": "stream",
     "text": [
      "\r",
      "Processing rows:  35%|███▍      | 418/1200 [19:21<36:18,  2.79s/it]"
     ]
    },
    {
     "name": "stdout",
     "output_type": "stream",
     "text": [
      "laptop,4404510,32,12,4,Ho Chi Minh,8200000,90,nan,nan,0,0,0,0,5\n"
     ]
    },
    {
     "name": "stderr",
     "output_type": "stream",
     "text": [
      "\r",
      "Processing rows:  35%|███▍      | 419/1200 [19:24<38:59,  3.00s/it]"
     ]
    },
    {
     "name": "stdout",
     "output_type": "stream",
     "text": [
      "laptop,22790000,19,None,None,Ho Chi Minh,27990000,9700,97,98,85,0,0,0,0,0\n"
     ]
    },
    {
     "name": "stderr",
     "output_type": "stream",
     "text": [
      "\r",
      "Processing rows:  35%|███▌      | 420/1200 [19:27<36:36,  2.82s/it]"
     ]
    },
    {
     "name": "stdout",
     "output_type": "stream",
     "text": [
      "laptop,10590000,None,None,None,Thanh Hoa,None,56800,96,100,75,0,0,0,0,0\n"
     ]
    },
    {
     "name": "stderr",
     "output_type": "stream",
     "text": [
      "\r",
      "Processing rows:  35%|███▌      | 421/1200 [19:29<33:33,  2.58s/it]"
     ]
    },
    {
     "name": "stdout",
     "output_type": "stream",
     "text": [
      "laptop,6900000,None,13,5,Hung Yen,None,70000,91,65,100,1,0,1,1,2\n"
     ]
    },
    {
     "name": "stderr",
     "output_type": "stream",
     "text": [
      "\r",
      "Processing rows:  35%|███▌      | 422/1200 [19:32<34:10,  2.64s/it]"
     ]
    },
    {
     "name": "stdout",
     "output_type": "stream",
     "text": [
      "laptop,8500000,None,None,1,Thanh Hoa,None,Miễn phí,92,None,33,0,0,0,0,1\n"
     ]
    },
    {
     "name": "stderr",
     "output_type": "stream",
     "text": [
      "\r",
      "Processing rows:  35%|███▌      | 423/1200 [19:34<34:41,  2.68s/it]"
     ]
    },
    {
     "name": "stdout",
     "output_type": "stream",
     "text": [
      "laptop,2150000,None,None,None,Hanoi,None,100,97,100,100,0,0,0,0,0\n"
     ]
    },
    {
     "name": "stderr",
     "output_type": "stream",
     "text": [
      "\r",
      "Processing rows:  35%|███▌      | 424/1200 [19:37<35:06,  2.71s/it]"
     ]
    },
    {
     "name": "stdout",
     "output_type": "stream",
     "text": [
      "laptop,4790000,40,nan,2,Ha Noi,8000000,84600,94,100,76,0,0,0,0,2\n"
     ]
    },
    {
     "name": "stderr",
     "output_type": "stream",
     "text": [
      "\r",
      "Processing rows:  35%|███▌      | 425/1200 [19:40<34:27,  2.67s/it]"
     ]
    },
    {
     "name": "stdout",
     "output_type": "stream",
     "text": [
      "laptop,5600000,None,None,None,Hanoi,None,100,98,100,100,0,0,0,0,0\n"
     ]
    },
    {
     "name": "stderr",
     "output_type": "stream",
     "text": [
      "\r",
      "Processing rows:  36%|███▌      | 426/1200 [19:42<32:19,  2.51s/it]"
     ]
    },
    {
     "name": "stdout",
     "output_type": "stream",
     "text": [
      "laptop,19690000,10,None,None,Ho Chi Minh,21990000,None,96,None,83,0,0,0,0,0\n"
     ]
    },
    {
     "name": "stderr",
     "output_type": "stream",
     "text": [
      "\r",
      "Processing rows:  36%|███▌      | 427/1200 [19:44<30:22,  2.36s/it]"
     ]
    },
    {
     "name": "stdout",
     "output_type": "stream",
     "text": [
      "laptop,4299000,None,None,None,Dong Nai,None,65500,99,100,100,0,0,0,0,0\n"
     ]
    },
    {
     "name": "stderr",
     "output_type": "stream",
     "text": [
      "\r",
      "Processing rows:  36%|███▌      | 428/1200 [19:47<33:04,  2.57s/it]"
     ]
    },
    {
     "name": "stdout",
     "output_type": "stream",
     "text": [
      "laptop,3550000,24,17,7,Thanh Hoa,4690000,80200,96,100,75,0,0,0,0,7\n"
     ]
    },
    {
     "name": "stderr",
     "output_type": "stream",
     "text": [
      "\r",
      "Processing rows:  36%|███▌      | 429/1200 [19:49<31:06,  2.42s/it]"
     ]
    },
    {
     "name": "stdout",
     "output_type": "stream",
     "text": [
      "laptop,8500000,None,None,2,Hung Yen,None,70000,91,65,100,0,0,0,0,2\n"
     ]
    },
    {
     "name": "stderr",
     "output_type": "stream",
     "text": [
      "\r",
      "Processing rows:  36%|███▌      | 430/1200 [19:52<31:45,  2.47s/it]"
     ]
    },
    {
     "name": "stdout",
     "output_type": "stream",
     "text": [
      "laptop,31999000,6,nan,nan,Ho Chi Minh,34000000,52300,98,100,nan,0,0,0,0,0\n"
     ]
    },
    {
     "name": "stderr",
     "output_type": "stream",
     "text": [
      "\r",
      "Processing rows:  36%|███▌      | 431/1200 [19:54<29:56,  2.34s/it]"
     ]
    },
    {
     "name": "stdout",
     "output_type": "stream",
     "text": [
      "laptop,19990000,None,None,None,Ho Chi Minh,None,None,99,None,100,0,0,0,0,0\n"
     ]
    },
    {
     "name": "stderr",
     "output_type": "stream",
     "text": [
      "\r",
      "Processing rows:  36%|███▌      | 432/1200 [19:56<31:07,  2.43s/it]"
     ]
    },
    {
     "name": "stdout",
     "output_type": "stream",
     "text": [
      "laptop,7900000,21,nan,nan,Hà Nội,10000000,84600,94,100,76,0,0,0,0,0\n"
     ]
    },
    {
     "name": "stderr",
     "output_type": "stream",
     "text": [
      "\r",
      "Processing rows:  36%|███▌      | 433/1200 [19:59<32:17,  2.53s/it]"
     ]
    },
    {
     "name": "stdout",
     "output_type": "stream",
     "text": [
      "laptop,14590000,23,None,None,Ho Chi Minh,18990000,10200,97,98,85,0,0,0,0,0\n"
     ]
    },
    {
     "name": "stderr",
     "output_type": "stream",
     "text": [
      "\r",
      "Processing rows:  36%|███▌      | 434/1200 [20:01<31:00,  2.43s/it]"
     ]
    },
    {
     "name": "stdout",
     "output_type": "stream",
     "text": [
      "laptop,19790000,None,None,None,Ho Chi Minh,None,None,99,None,100,0,0,0,0,0\n"
     ]
    },
    {
     "name": "stderr",
     "output_type": "stream",
     "text": [
      "\r",
      "Processing rows:  36%|███▋      | 435/1200 [20:04<32:24,  2.54s/it]"
     ]
    },
    {
     "name": "stdout",
     "output_type": "stream",
     "text": [
      "laptop,6500000,None,19,8,Hung Yen,None,70000,91,65,100,0,0,0,0,8\n"
     ]
    },
    {
     "name": "stderr",
     "output_type": "stream",
     "text": [
      "\r",
      "Processing rows:  36%|███▋      | 436/1200 [20:07<33:22,  2.62s/it]"
     ]
    },
    {
     "name": "stdout",
     "output_type": "stream",
     "text": [
      "laptop,27990000,26,None,None,Ho Chi Minh,37999000,21200,99,97,98,0,0,0,0,0\n"
     ]
    },
    {
     "name": "stderr",
     "output_type": "stream",
     "text": [
      "\r",
      "Processing rows:  36%|███▋      | 437/1200 [20:10<33:22,  2.63s/it]"
     ]
    },
    {
     "name": "stdout",
     "output_type": "stream",
     "text": [
      "laptop,6299000,3,nan,0,Dong Nai,6500000,100,95,100,100,0,0,0,0,1\n"
     ]
    },
    {
     "name": "stderr",
     "output_type": "stream",
     "text": [
      "\r",
      "Processing rows:  36%|███▋      | 438/1200 [20:12<33:13,  2.62s/it]"
     ]
    },
    {
     "name": "stdout",
     "output_type": "stream",
     "text": [
      "laptop,5500000,4,None,1,Dong Nai,5700000,100,95,100,100,0,0,0,0,1\n"
     ]
    },
    {
     "name": "stderr",
     "output_type": "stream",
     "text": [
      "\r",
      "Processing rows:  37%|███▋      | 439/1200 [20:15<33:34,  2.65s/it]"
     ]
    },
    {
     "name": "stdout",
     "output_type": "stream",
     "text": [
      "laptop,11999999,8,None,None,Ho Chi Minh,12999999,100,96,100,None,0,0,0,0,0\n"
     ]
    },
    {
     "name": "stderr",
     "output_type": "stream",
     "text": [
      "\r",
      "Processing rows:  37%|███▋      | 440/1200 [20:17<32:57,  2.60s/it]"
     ]
    },
    {
     "name": "stdout",
     "output_type": "stream",
     "text": [
      "laptop,4200000,None,9,3,Hà Nội,None,38000,98,None,100,1,0,0,0,3\n"
     ]
    },
    {
     "name": "stderr",
     "output_type": "stream",
     "text": [
      "\r",
      "Processing rows:  37%|███▋      | 441/1200 [20:20<32:14,  2.55s/it]"
     ]
    },
    {
     "name": "stdout",
     "output_type": "stream",
     "text": [
      "laptop,2900000,None,None,None,Hanoi,None,32700,None,None,None,0,0,0,0,0\n"
     ]
    },
    {
     "name": "stderr",
     "output_type": "stream",
     "text": [
      "\r",
      "Processing rows:  37%|███▋      | 442/1200 [20:23<33:02,  2.62s/it]"
     ]
    },
    {
     "name": "stdout",
     "output_type": "stream",
     "text": [
      "laptop,8000000,32,74,7,Ha Noi,11800000,84600,98,100,100,0,0,0,0,7\n"
     ]
    },
    {
     "name": "stderr",
     "output_type": "stream",
     "text": [
      "\r",
      "Processing rows:  37%|███▋      | 443/1200 [20:26<35:14,  2.79s/it]"
     ]
    },
    {
     "name": "stdout",
     "output_type": "stream",
     "text": [
      "laptop,6500000,None,11,5,Hung Yen,None,70000,91,65,100,0,0,0,1,4\n"
     ]
    },
    {
     "name": "stderr",
     "output_type": "stream",
     "text": [
      "\r",
      "Processing rows:  37%|███▋      | 444/1200 [20:29<35:14,  2.80s/it]"
     ]
    },
    {
     "name": "stdout",
     "output_type": "stream",
     "text": [
      "laptop,1642000,None,25,4,Hà Nội,None,64700,79,84,95,1,0,0,0,3\n"
     ]
    },
    {
     "name": "stderr",
     "output_type": "stream",
     "text": [
      "\r",
      "Processing rows:  37%|███▋      | 445/1200 [20:32<37:21,  2.97s/it]"
     ]
    },
    {
     "name": "stdout",
     "output_type": "stream",
     "text": [
      "laptop,3600000,40,11,3,Ha Noi,6750000,84600,98,100,100,0,0,0,0,3\n"
     ]
    },
    {
     "name": "stderr",
     "output_type": "stream",
     "text": [
      "\r",
      "Processing rows:  37%|███▋      | 446/1200 [20:35<37:02,  2.95s/it]"
     ]
    },
    {
     "name": "stdout",
     "output_type": "stream",
     "text": [
      "laptop,5800000,34,12,2,Ha Noi,8800000,84600,98,100,100,0,0,0,0,3\n"
     ]
    },
    {
     "name": "stderr",
     "output_type": "stream",
     "text": [
      "\r",
      "Processing rows:  37%|███▋      | 447/1200 [20:37<35:41,  2.84s/it]"
     ]
    },
    {
     "name": "stdout",
     "output_type": "stream",
     "text": [
      "laptop,7050000,30,11,3,Ha Noi,11550000,84600,98,100,100,0,0,0,0,3\n"
     ]
    },
    {
     "name": "stderr",
     "output_type": "stream",
     "text": [
      "\r",
      "Processing rows:  37%|███▋      | 448/1200 [20:40<34:50,  2.78s/it]"
     ]
    },
    {
     "name": "stdout",
     "output_type": "stream",
     "text": [
      "laptop,3570000,12,7,4,Hà Nội,4070000,100,98,100,100,0,1,0,0,3\n"
     ]
    },
    {
     "name": "stderr",
     "output_type": "stream",
     "text": [
      "\r",
      "Processing rows:  37%|███▋      | 449/1200 [20:43<33:59,  2.72s/it]"
     ]
    },
    {
     "name": "stdout",
     "output_type": "stream",
     "text": [
      "laptop,4600000,None,16,15,Hà Nội,None,100,None,None,0,0,0,0,15\n"
     ]
    },
    {
     "name": "stderr",
     "output_type": "stream",
     "text": [
      "\r",
      "Processing rows:  38%|███▊      | 450/1200 [20:45<34:04,  2.73s/it]"
     ]
    },
    {
     "name": "stdout",
     "output_type": "stream",
     "text": [
      "laptop,999999,17,16,7,Hung Yen,1499999,80200,82,100,nan,1,1,0,0,5\n"
     ]
    },
    {
     "name": "stderr",
     "output_type": "stream",
     "text": [
      "\r",
      "Processing rows:  38%|███▊      | 451/1200 [20:48<35:28,  2.84s/it]"
     ]
    },
    {
     "name": "stdout",
     "output_type": "stream",
     "text": [
      "laptop,6000000,None,80,24,Nam Dinh,None,56800,99,100,100,0,0,0,0,24\n"
     ]
    },
    {
     "name": "stderr",
     "output_type": "stream",
     "text": [
      "\r",
      "Processing rows:  38%|███▊      | 452/1200 [20:51<34:35,  2.77s/it]"
     ]
    },
    {
     "name": "stdout",
     "output_type": "stream",
     "text": [
      "laptop,1399999,None,25,12,Hung Yen,None,80200,86,None,None,3,0,0,1,8\n"
     ]
    },
    {
     "name": "stderr",
     "output_type": "stream",
     "text": [
      "\r",
      "Processing rows:  38%|███▊      | 453/1200 [20:53<33:09,  2.66s/it]"
     ]
    },
    {
     "name": "stdout",
     "output_type": "stream",
     "text": [
      "laptop,3650000,None,None,None,Hung Yen,None,43900,100,98,100,0,0,0,0,0\n"
     ]
    },
    {
     "name": "stderr",
     "output_type": "stream",
     "text": [
      "\r",
      "Processing rows:  38%|███▊      | 454/1200 [20:56<32:51,  2.64s/it]"
     ]
    },
    {
     "name": "stdout",
     "output_type": "stream",
     "text": [
      "laptop,1000000,None,None,None,Tien Giang,None,40300,82,86,88,0,0,0,0,0\n"
     ]
    },
    {
     "name": "stderr",
     "output_type": "stream",
     "text": [
      "\r",
      "Processing rows:  38%|███▊      | 455/1200 [20:59<34:11,  2.75s/it]"
     ]
    },
    {
     "name": "stdout",
     "output_type": "stream",
     "text": [
      "laptop,4799000,None,None,1,Ho Chi Minh,None,100,86,75,None,0,0,1,0,0\n"
     ]
    },
    {
     "name": "stderr",
     "output_type": "stream",
     "text": [
      "\r",
      "Processing rows:  38%|███▊      | 456/1200 [21:02<33:15,  2.68s/it]"
     ]
    },
    {
     "name": "stdout",
     "output_type": "stream",
     "text": [
      "laptop,2500000,None,None,None,Dong Nai,None,65500,None,None,100,0,0,0,0,0\n"
     ]
    },
    {
     "name": "stderr",
     "output_type": "stream",
     "text": [
      "\r",
      "Processing rows:  38%|███▊      | 457/1200 [21:05<34:52,  2.82s/it]"
     ]
    },
    {
     "name": "stdout",
     "output_type": "stream",
     "text": [
      "laptop,23712000,49,8,None,Hanoi,46452480,32700,97,100,100,0,0,0,0,0\n"
     ]
    },
    {
     "name": "stderr",
     "output_type": "stream",
     "text": [
      "\r",
      "Processing rows:  38%|███▊      | 458/1200 [21:07<33:32,  2.71s/it]"
     ]
    },
    {
     "name": "stdout",
     "output_type": "stream",
     "text": [
      "laptop,6700000,None,None,None,Thanh Hoa,None,100600,None,None,None,0,0,0,0,0\n"
     ]
    },
    {
     "name": "stderr",
     "output_type": "stream",
     "text": [
      "\r",
      "Processing rows:  38%|███▊      | 459/1200 [21:11<36:55,  2.99s/it]"
     ]
    },
    {
     "name": "stdout",
     "output_type": "stream",
     "text": [
      "laptop,5300000,17,None,1,Ho Chi Minh,7100000,100,90,None,None,0,0,0,0,1\n"
     ]
    },
    {
     "name": "stderr",
     "output_type": "stream",
     "text": [
      "\r",
      "Processing rows:  38%|███▊      | 460/1200 [21:15<40:15,  3.26s/it]"
     ]
    },
    {
     "name": "stdout",
     "output_type": "stream",
     "text": [
      "laptop,12690000,None,None,None,Ho Chi Minh,None,None,99,None,100,0,0,0,0,0\n"
     ]
    },
    {
     "name": "stderr",
     "output_type": "stream",
     "text": [
      "\r",
      "Processing rows:  38%|███▊      | 461/1200 [21:17<36:28,  2.96s/it]"
     ]
    },
    {
     "name": "stdout",
     "output_type": "stream",
     "text": [
      "laptop,3790000,None,19,6,Hung Yen,None,56800,100,98,100,0,0,0,0,6\n"
     ]
    },
    {
     "name": "stderr",
     "output_type": "stream",
     "text": [
      "\r",
      "Processing rows:  38%|███▊      | 462/1200 [21:19<34:16,  2.79s/it]"
     ]
    },
    {
     "name": "stdout",
     "output_type": "stream",
     "text": [
      "laptop,7549557,42,49,27,Ho Chi Minh,15954300,98,nan,nan,0,0,0,0,27\n"
     ]
    },
    {
     "name": "stderr",
     "output_type": "stream",
     "text": [
      "\r",
      "Processing rows:  39%|███▊      | 463/1200 [21:22<34:02,  2.77s/it]"
     ]
    },
    {
     "name": "stdout",
     "output_type": "stream",
     "text": [
      "laptop,8500000,None,None,None,Hanoi,None,100,98,100,100,0,0,0,0,0\n"
     ]
    },
    {
     "name": "stderr",
     "output_type": "stream",
     "text": [
      "\r",
      "Processing rows:  39%|███▊      | 464/1200 [21:25<36:01,  2.94s/it]"
     ]
    },
    {
     "name": "stdout",
     "output_type": "stream",
     "text": [
      "laptop,4790000,19,5,1,Ho Chi Minh,5900000,90,nan,nan,0,0,0,0,1\n"
     ]
    },
    {
     "name": "stderr",
     "output_type": "stream",
     "text": [
      "\r",
      "Processing rows:  39%|███▉      | 465/1200 [21:28<34:07,  2.79s/it]"
     ]
    },
    {
     "name": "stdout",
     "output_type": "stream",
     "text": [
      "laptop,6950000,None,None,None,Ho Chi Minh,None,Miễn phí,96,100,93,0,0,0,0,0\n"
     ]
    },
    {
     "name": "stderr",
     "output_type": "stream",
     "text": [
      "\r",
      "Processing rows:  39%|███▉      | 466/1200 [21:31<36:35,  2.99s/it]"
     ]
    },
    {
     "name": "stdout",
     "output_type": "stream",
     "text": [
      "laptop,5990000,9,nan,2,Thanh Hoa,6590000,56800,96,100,75,1,0,0,0,1\n"
     ]
    },
    {
     "name": "stderr",
     "output_type": "stream",
     "text": [
      "\r",
      "Processing rows:  39%|███▉      | 467/1200 [21:34<35:52,  2.94s/it]"
     ]
    },
    {
     "name": "stdout",
     "output_type": "stream",
     "text": [
      "laptop,20270000,None,23,None,Ho Chi Minh,None,19600,98,100,100,0,0,0,0,0\n"
     ]
    },
    {
     "name": "stderr",
     "output_type": "stream",
     "text": [
      "\r",
      "Processing rows:  39%|███▉      | 468/1200 [21:37<36:14,  2.97s/it]"
     ]
    },
    {
     "name": "stdout",
     "output_type": "stream",
     "text": [
      "laptop,5338799,11,9,4,Hà Nội,None,100,98,100,100,0,0,0,0,4\n"
     ]
    },
    {
     "name": "stderr",
     "output_type": "stream",
     "text": [
      "\r",
      "Processing rows:  39%|███▉      | 469/1200 [21:40<34:25,  2.83s/it]"
     ]
    },
    {
     "name": "stdout",
     "output_type": "stream",
     "text": [
      "laptop,4499999,None,None,None,Hanoi,None,Miễn phí,None,100,100,0,0,0,0,0\n"
     ]
    },
    {
     "name": "stderr",
     "output_type": "stream",
     "text": [
      "\r",
      "Processing rows:  39%|███▉      | 470/1200 [21:42<31:38,  2.60s/it]"
     ]
    },
    {
     "name": "stdout",
     "output_type": "stream",
     "text": [
      "laptop,9500000,None,8,None,Hà Nội,None,100,98,100,100,0,0,0,0,0\n"
     ]
    },
    {
     "name": "stderr",
     "output_type": "stream",
     "text": [
      "\r",
      "Processing rows:  39%|███▉      | 471/1200 [21:44<31:37,  2.60s/it]"
     ]
    },
    {
     "name": "stdout",
     "output_type": "stream",
     "text": [
      "laptop,14690000,21,None,None,Ho Chi Minh,18490000,10200,97,98,85,0,0,0,0,0\n"
     ]
    },
    {
     "name": "stderr",
     "output_type": "stream",
     "text": [
      "\r",
      "Processing rows:  39%|███▉      | 472/1200 [21:47<31:36,  2.61s/it]"
     ]
    },
    {
     "name": "stdout",
     "output_type": "stream",
     "text": [
      "laptop,3990002,34,None,None,Hanoi,6000000,104900,94,100,76,0,0,0,0,0\n"
     ]
    },
    {
     "name": "stderr",
     "output_type": "stream",
     "text": [
      "\r",
      "Processing rows:  39%|███▉      | 473/1200 [21:50<32:58,  2.72s/it]"
     ]
    },
    {
     "name": "stdout",
     "output_type": "stream",
     "text": [
      "laptop,2500000,22,8,4,Ha Noi,3200000,62600,91,75,100,0,0,0,1,3\n"
     ]
    },
    {
     "name": "stderr",
     "output_type": "stream",
     "text": [
      "\r",
      "Processing rows:  40%|███▉      | 474/1200 [21:53<33:24,  2.76s/it]"
     ]
    },
    {
     "name": "stdout",
     "output_type": "stream",
     "text": [
      "laptop,10590000,15,None,None,Hanoi,12460000,115100,92,None,None,0,0,0,0,0\n"
     ]
    },
    {
     "name": "stderr",
     "output_type": "stream",
     "text": [
      "\r",
      "Processing rows:  40%|███▉      | 475/1200 [21:55<30:41,  2.54s/it]"
     ]
    },
    {
     "name": "stdout",
     "output_type": "stream",
     "text": [
      "laptop,7599999,47,None,1,Hai Phong,14799999,100,95,99,100,0,0,0,0,1\n"
     ]
    },
    {
     "name": "stderr",
     "output_type": "stream",
     "text": [
      "\r",
      "Processing rows:  40%|███▉      | 476/1200 [21:58<33:49,  2.80s/it]"
     ]
    },
    {
     "name": "stdout",
     "output_type": "stream",
     "text": [
      "laptop,5500000,None,None,1,Ho Chi Minh,None,100,97,100,100,0,0,0,0,1\n"
     ]
    },
    {
     "name": "stderr",
     "output_type": "stream",
     "text": [
      "\r",
      "Processing rows:  40%|███▉      | 477/1200 [22:01<34:28,  2.86s/it]"
     ]
    },
    {
     "name": "stdout",
     "output_type": "stream",
     "text": [
      "laptop,2990000,None,19,9,Hung Yen,None,90400,91,65,100,0,0,0,1,8\n"
     ]
    },
    {
     "name": "stderr",
     "output_type": "stream",
     "text": [
      "\r",
      "Processing rows:  40%|███▉      | 478/1200 [22:04<35:06,  2.92s/it]"
     ]
    },
    {
     "name": "stdout",
     "output_type": "stream",
     "text": [
      "laptop,10490000,None,27,1,Hà Nội,None,26100,95,100,100,0,0,0,0,1\n"
     ]
    },
    {
     "name": "stderr",
     "output_type": "stream",
     "text": [
      "\r",
      "Processing rows:  40%|███▉      | 479/1200 [22:08<36:36,  3.05s/it]"
     ]
    },
    {
     "name": "stdout",
     "output_type": "stream",
     "text": [
      "laptop,8990000,44,None,3,Ha Noi,16000000,84600,94,100,76,0,0,0,2,1\n"
     ]
    },
    {
     "name": "stderr",
     "output_type": "stream",
     "text": [
      "\r",
      "Processing rows:  40%|████      | 480/1200 [22:10<34:33,  2.88s/it]"
     ]
    },
    {
     "name": "stdout",
     "output_type": "stream",
     "text": [
      "laptop,2970000,None,None,None,Hanoi,None,100,98,100,100,0,0,0,0,0\n"
     ]
    },
    {
     "name": "stderr",
     "output_type": "stream",
     "text": [
      "\r",
      "Processing rows:  40%|████      | 481/1200 [22:12<32:36,  2.72s/it]"
     ]
    },
    {
     "name": "stdout",
     "output_type": "stream",
     "text": [
      "laptop,1990000,50,25,8,Ho Chi Minh,3980000,9100,91,100,80,0,0,0,1,7\n"
     ]
    },
    {
     "name": "stderr",
     "output_type": "stream",
     "text": [
      "\r",
      "Processing rows:  40%|████      | 482/1200 [22:15<33:21,  2.79s/it]"
     ]
    },
    {
     "name": "stdout",
     "output_type": "stream",
     "text": [
      "laptop,48683200,None,10,None,Hà Nội,None,74400,92,None,None,0,0,0,0,0\n"
     ]
    },
    {
     "name": "stderr",
     "output_type": "stream",
     "text": [
      "\r",
      "Processing rows:  40%|████      | 483/1200 [22:18<31:34,  2.64s/it]"
     ]
    },
    {
     "name": "stdout",
     "output_type": "stream",
     "text": [
      "laptop,13590000,30,11,3,Ho Chi Minh,19490000,9700,97,98,85,0,0,0,0,3\n"
     ]
    },
    {
     "name": "stderr",
     "output_type": "stream",
     "text": [
      "\r",
      "Processing rows:  40%|████      | 484/1200 [22:20<29:53,  2.51s/it]"
     ]
    },
    {
     "name": "stdout",
     "output_type": "stream",
     "text": [
      "laptop,151000,74,None,None,Nước ngoài,580000,17000,96,94,100,0,0,0,0,0\n"
     ]
    },
    {
     "name": "stderr",
     "output_type": "stream",
     "text": [
      "\r",
      "Processing rows:  40%|████      | 485/1200 [22:23<31:22,  2.63s/it]"
     ]
    },
    {
     "name": "stdout",
     "output_type": "stream",
     "text": [
      "laptop,1500000,None,None,None,Tien Giang,None,48200,87,28,100,0,0,0,0,0\n"
     ]
    },
    {
     "name": "stderr",
     "output_type": "stream",
     "text": [
      "\r",
      "Processing rows:  40%|████      | 486/1200 [22:26<32:47,  2.76s/it]"
     ]
    },
    {
     "name": "stdout",
     "output_type": "stream",
     "text": [
      "laptop,14990000,None,None,None,Ho Chi Minh,None,None,99,None,100,0,0,0,0,0\n"
     ]
    },
    {
     "name": "stderr",
     "output_type": "stream",
     "text": [
      "\r",
      "Processing rows:  41%|████      | 487/1200 [22:29<33:13,  2.80s/it]"
     ]
    },
    {
     "name": "stdout",
     "output_type": "stream",
     "text": [
      "laptop,8008199,20,5,1,Ho Chi Minh,9999999,100,95,100,83,0,0,0,0,2\n"
     ]
    },
    {
     "name": "stderr",
     "output_type": "stream",
     "text": [
      "\r",
      "Processing rows:  41%|████      | 488/1200 [22:32<35:08,  2.96s/it]"
     ]
    },
    {
     "name": "stdout",
     "output_type": "stream",
     "text": [
      "laptop,1910000,5,5,1,Ho Chi Minh,3790000,100,92,66,None,0,0,0,0,1\n"
     ]
    },
    {
     "name": "stderr",
     "output_type": "stream",
     "text": [
      "\r",
      "Processing rows:  41%|████      | 489/1200 [22:35<32:57,  2.78s/it]"
     ]
    },
    {
     "name": "stdout",
     "output_type": "stream",
     "text": [
      "laptop,1970000,None,None,None,Hanoi,None,100,98,100,100,0,0,0,0,0\n"
     ]
    },
    {
     "name": "stderr",
     "output_type": "stream",
     "text": [
      "\r",
      "Processing rows:  41%|████      | 490/1200 [22:38<35:01,  2.96s/it]"
     ]
    },
    {
     "name": "stdout",
     "output_type": "stream",
     "text": [
      "laptop,1354350,10,5,1,Tien Giang,None,None,None,None,None,0,0,0,0,1\n"
     ]
    },
    {
     "name": "stderr",
     "output_type": "stream",
     "text": [
      "\r",
      "Processing rows:  41%|████      | 491/1200 [22:40<33:24,  2.83s/it]"
     ]
    },
    {
     "name": "stdout",
     "output_type": "stream",
     "text": [
      "laptop,7750000,28,119,11,Ha Noi,10750000,84600,98,100,100,0,0,0,0,11\n"
     ]
    },
    {
     "name": "stderr",
     "output_type": "stream",
     "text": [
      "\r",
      "Processing rows:  41%|████      | 492/1200 [22:44<35:03,  2.97s/it]"
     ]
    },
    {
     "name": "stdout",
     "output_type": "stream",
     "text": [
      "laptop,5600000,None,13,13,Hà Nội,None,100,None,None,0,0,0,0,13\n"
     ]
    },
    {
     "name": "stderr",
     "output_type": "stream",
     "text": [
      "\r",
      "Processing rows:  41%|████      | 493/1200 [22:46<34:04,  2.89s/it]"
     ]
    },
    {
     "name": "stdout",
     "output_type": "stream",
     "text": [
      "laptop,1499999,None,101,29,Hung Yen,None,90600,84,100,None,4,2,1,1,21\n"
     ]
    },
    {
     "name": "stderr",
     "output_type": "stream",
     "text": [
      "\r",
      "Processing rows:  41%|████      | 494/1200 [22:49<34:28,  2.93s/it]"
     ]
    },
    {
     "name": "stdout",
     "output_type": "stream",
     "text": [
      "laptop,27950000,7,nan,nan,Ho Chi Minh,35990000,19600,97,67,100,0,0,0,0,0\n"
     ]
    },
    {
     "name": "stderr",
     "output_type": "stream",
     "text": [
      "\r",
      "Processing rows:  41%|████▏     | 495/1200 [22:52<33:52,  2.88s/it]"
     ]
    },
    {
     "name": "stdout",
     "output_type": "stream",
     "text": [
      "laptop,2000000,50,8,3,Ho Chi Minh,4000000,63700,91,100,80,0,0,0,0,3\n"
     ]
    },
    {
     "name": "stderr",
     "output_type": "stream",
     "text": [
      "\r",
      "Processing rows:  41%|████▏     | 496/1200 [22:55<33:31,  2.86s/it]"
     ]
    },
    {
     "name": "stdout",
     "output_type": "stream",
     "text": [
      "laptop,6500000,27,None,1,Ho Chi Minh,11900000,100,96,100,100,0,0,0,0,2\n"
     ]
    },
    {
     "name": "stderr",
     "output_type": "stream",
     "text": [
      "\r",
      "Processing rows:  41%|████▏     | 497/1200 [22:58<34:01,  2.90s/it]"
     ]
    },
    {
     "name": "stdout",
     "output_type": "stream",
     "text": [
      "laptop,2848000,None,None,1,Nghệ An,None,56800,94,92,92,0,0,0,0,1\n"
     ]
    },
    {
     "name": "stderr",
     "output_type": "stream",
     "text": [
      "\r",
      "Processing rows:  42%|████▏     | 498/1200 [23:00<31:34,  2.70s/it]"
     ]
    },
    {
     "name": "stdout",
     "output_type": "stream",
     "text": [
      "laptop,1500000,None,11,6,Tien Giang,None,40300,87,28,100,0,0,2,0,3\n"
     ]
    },
    {
     "name": "stderr",
     "output_type": "stream",
     "text": [
      "\r",
      "Processing rows:  42%|████▏     | 499/1200 [23:04<35:01,  3.00s/it]"
     ]
    },
    {
     "name": "stdout",
     "output_type": "stream",
     "text": [
      "laptop,31590000,None,25,None,Ho Chi Minh,31720000,20100,98,100,100,0,0,0,0,0\n"
     ]
    },
    {
     "name": "stderr",
     "output_type": "stream",
     "text": [
      "\r",
      "Processing rows:  42%|████▏     | 500/1200 [23:06<32:52,  2.82s/it]"
     ]
    },
    {
     "name": "stdout",
     "output_type": "stream",
     "text": [
      "laptop,170000,None,None,0,Hà Nội,None,38000,96,100,100,0,0,0,0,1\n"
     ]
    },
    {
     "name": "stderr",
     "output_type": "stream",
     "text": [
      "\r",
      "Processing rows:  42%|████▏     | 501/1200 [23:10<35:33,  3.05s/it]"
     ]
    },
    {
     "name": "stdout",
     "output_type": "stream",
     "text": [
      "laptop,1900000,5,11,5,Ho Chi Minh,2000000,13800,90,100,100,0,0,0,0,5\n"
     ]
    },
    {
     "name": "stderr",
     "output_type": "stream",
     "text": [
      "\r",
      "Processing rows:  42%|████▏     | 502/1200 [23:12<33:48,  2.91s/it]"
     ]
    },
    {
     "name": "stdout",
     "output_type": "stream",
     "text": [
      "laptop,2500000,None,8,6,Hà Nội,None,104900,92,50,85,1,0,0,0,5\n"
     ]
    },
    {
     "name": "stderr",
     "output_type": "stream",
     "text": [
      "\r",
      "Processing rows:  42%|████▏     | 503/1200 [23:15<33:36,  2.89s/it]"
     ]
    },
    {
     "name": "stdout",
     "output_type": "stream",
     "text": [
      "laptop,2580420,43,None,1,Ho Chi Minh,5500000,23800,96,100,100,0,0,0,0,1\n"
     ]
    },
    {
     "name": "stderr",
     "output_type": "stream",
     "text": [
      "\r",
      "Processing rows:  42%|████▏     | 504/1200 [23:18<31:28,  2.71s/it]"
     ]
    },
    {
     "name": "stdout",
     "output_type": "stream",
     "text": [
      "laptop,3800000,21,None,1,Ho Chi Minh,5800000,27300,96,100,100,0,0,0,0,1\n"
     ]
    },
    {
     "name": "stderr",
     "output_type": "stream",
     "text": [
      "\r",
      "Processing rows:  42%|████▏     | 505/1200 [23:21<33:49,  2.92s/it]"
     ]
    },
    {
     "name": "stdout",
     "output_type": "stream",
     "text": [
      "laptop,15490000,3,nan,nan,Ho Chi Minh,15990000,nan,96,nan,83,0,0,0,0,0\n"
     ]
    },
    {
     "name": "stderr",
     "output_type": "stream",
     "text": [
      "\r",
      "Processing rows:  42%|████▏     | 506/1200 [23:24<34:04,  2.95s/it]"
     ]
    },
    {
     "name": "stdout",
     "output_type": "stream",
     "text": [
      "laptop,6054999,24,26,3,Hà Nội,None,100,98,100,100,0,0,0,0,4\n"
     ]
    },
    {
     "name": "stderr",
     "output_type": "stream",
     "text": [
      "\r",
      "Processing rows:  42%|████▏     | 507/1200 [23:26<31:41,  2.74s/it]"
     ]
    },
    {
     "name": "stdout",
     "output_type": "stream",
     "text": [
      "laptop,24610000,None,6,None,Ho Chi Minh,None,74700,92,20,90,0,0,0,0,0\n"
     ]
    },
    {
     "name": "stderr",
     "output_type": "stream",
     "text": [
      "\r",
      "Processing rows:  42%|████▏     | 508/1200 [23:29<31:31,  2.73s/it]"
     ]
    },
    {
     "name": "stdout",
     "output_type": "stream",
     "text": [
      "laptop,1100000,8,nan,nan,Dong Nai,1200000,100,100,100,0,0,0,0,0\n"
     ]
    },
    {
     "name": "stderr",
     "output_type": "stream",
     "text": [
      "\r",
      "Processing rows:  42%|████▏     | 509/1200 [23:32<32:08,  2.79s/it]"
     ]
    },
    {
     "name": "stdout",
     "output_type": "stream",
     "text": [
      "laptop,3690000,12,None,None,Hanoi,4200000,55400,95,100,100,0,0,0,0,0\n"
     ]
    },
    {
     "name": "stderr",
     "output_type": "stream",
     "text": [
      "\r",
      "Processing rows:  42%|████▎     | 510/1200 [23:34<30:25,  2.65s/it]"
     ]
    },
    {
     "name": "stdout",
     "output_type": "stream",
     "text": [
      "laptop,12600000,None,None,None,Hanoi,None,100,98,100,100,0,0,0,0,0\n"
     ]
    },
    {
     "name": "stderr",
     "output_type": "stream",
     "text": [
      "\r",
      "Processing rows:  43%|████▎     | 511/1200 [23:37<30:17,  2.64s/it]"
     ]
    },
    {
     "name": "stdout",
     "output_type": "stream",
     "text": [
      "laptop,20390000,None,None,None,Hanoi,None,38000,None,None,None,0,0,0,0,0\n"
     ]
    },
    {
     "name": "stderr",
     "output_type": "stream",
     "text": [
      "\r",
      "Processing rows:  43%|████▎     | 512/1200 [23:40<31:34,  2.75s/it]"
     ]
    },
    {
     "name": "stdout",
     "output_type": "stream",
     "text": [
      "laptop,16990000,17,nan,1,Ho Chi Minh,20490000,nan,96,nan,83,0,0,0,0,1\n"
     ]
    },
    {
     "name": "stderr",
     "output_type": "stream",
     "text": [
      "\r",
      "Processing rows:  43%|████▎     | 513/1200 [23:43<31:11,  2.72s/it]"
     ]
    },
    {
     "name": "stdout",
     "output_type": "stream",
     "text": [
      "laptop,4500000,None,None,None,Ho Chi Minh,None,Miễn phí,100,100,100,0,0,0,0,0\n"
     ]
    },
    {
     "name": "stderr",
     "output_type": "stream",
     "text": [
      "\r",
      "Processing rows:  43%|████▎     | 514/1200 [23:46<32:49,  2.87s/it]"
     ]
    },
    {
     "name": "stdout",
     "output_type": "stream",
     "text": [
      "laptop,14790000,10,nan,nan,Ho Chi Minh,16490000,nan,96,nan,83,0,0,0,0,0\n"
     ]
    },
    {
     "name": "stderr",
     "output_type": "stream",
     "text": [
      "\r",
      "Processing rows:  43%|████▎     | 515/1200 [23:48<31:33,  2.76s/it]"
     ]
    },
    {
     "name": "stdout",
     "output_type": "stream",
     "text": [
      "laptop,4271040,11,None,1,Ha Noi,5200000,100,100,100,0,0,0,0,1\n"
     ]
    },
    {
     "name": "stderr",
     "output_type": "stream",
     "text": [
      "\r",
      "Processing rows:  43%|████▎     | 516/1200 [23:51<32:56,  2.89s/it]"
     ]
    },
    {
     "name": "stdout",
     "output_type": "stream",
     "text": [
      "laptop,6300000,40,nan,1,Ho Chi Minh,10500000,100,96,100,100,0,0,0,0,1\n"
     ]
    },
    {
     "name": "stderr",
     "output_type": "stream",
     "text": [
      "\r",
      "Processing rows:  43%|████▎     | 517/1200 [23:55<34:36,  3.04s/it]"
     ]
    },
    {
     "name": "stdout",
     "output_type": "stream",
     "text": [
      "laptop,3381240,48,6,4,Ho Chi Minh,6500000,27300,96,100,100,0,0,0,0,4\n"
     ]
    },
    {
     "name": "stderr",
     "output_type": "stream",
     "text": [
      "\r",
      "Processing rows:  43%|████▎     | 518/1200 [23:58<34:21,  3.02s/it]"
     ]
    },
    {
     "name": "stdout",
     "output_type": "stream",
     "text": [
      "laptop,16500000,None,None,None,Ho Chi Minh,None,27300,None,None,None,0,0,0,0,0\n"
     ]
    },
    {
     "name": "stderr",
     "output_type": "stream",
     "text": [
      "\r",
      "Processing rows:  43%|████▎     | 519/1200 [24:01<33:05,  2.92s/it]"
     ]
    },
    {
     "name": "stdout",
     "output_type": "stream",
     "text": [
      "laptop,2990000,None,5,0,Hung Yen,None,56800,91,65,100,0,0,0,0,1\n"
     ]
    },
    {
     "name": "stderr",
     "output_type": "stream",
     "text": [
      "\r",
      "Processing rows:  43%|████▎     | 520/1200 [24:03<31:52,  2.81s/it]"
     ]
    },
    {
     "name": "stdout",
     "output_type": "stream",
     "text": [
      "laptop,27990000,26,nan,nan,Ho Chi Minh,37999000,100,99,97,95,0,0,0,0,0\n"
     ]
    },
    {
     "name": "stderr",
     "output_type": "stream",
     "text": [
      "\r",
      "Processing rows:  43%|████▎     | 521/1200 [24:06<33:22,  2.95s/it]"
     ]
    },
    {
     "name": "stdout",
     "output_type": "stream",
     "text": [
      "laptop,1000000,None,11,2,Tien Giang,None,40300,82,86,88,1,0,1,0,1\n"
     ]
    },
    {
     "name": "stderr",
     "output_type": "stream",
     "text": [
      "\r",
      "Processing rows:  44%|████▎     | 522/1200 [24:09<33:51,  3.00s/it]"
     ]
    },
    {
     "name": "stdout",
     "output_type": "stream",
     "text": [
      "laptop,9990000,9,nan,nan,Ho Chi Minh,10990000,nan,96,nan,83,0,0,0,0,0\n"
     ]
    },
    {
     "name": "stderr",
     "output_type": "stream",
     "text": [
      "\r",
      "Processing rows:  44%|████▎     | 523/1200 [24:12<31:46,  2.82s/it]"
     ]
    },
    {
     "name": "stdout",
     "output_type": "stream",
     "text": [
      "laptop,11290000,6,None,None,Ho Chi Minh,11990000,None,96,None,83,0,0,0,0,0\n"
     ]
    },
    {
     "name": "stderr",
     "output_type": "stream",
     "text": [
      "\r",
      "Processing rows:  44%|████▎     | 524/1200 [24:14<29:16,  2.60s/it]"
     ]
    },
    {
     "name": "stdout",
     "output_type": "stream",
     "text": [
      "laptop,1031000,None,None,None,Tien Giang,None,40300,87,28,100,0,0,0,0,0\n"
     ]
    },
    {
     "name": "stderr",
     "output_type": "stream",
     "text": [
      "\r",
      "Processing rows:  44%|████▍     | 525/1200 [24:16<28:05,  2.50s/it]"
     ]
    },
    {
     "name": "stdout",
     "output_type": "stream",
     "text": [
      "laptop,2880000,None,None,None,Hanoi,None,100,98,100,100,0,0,0,0,0\n"
     ]
    },
    {
     "name": "stderr",
     "output_type": "stream",
     "text": [
      "\r",
      "Processing rows:  44%|████▍     | 526/1200 [24:19<27:44,  2.47s/it]"
     ]
    },
    {
     "name": "stdout",
     "output_type": "stream",
     "text": [
      "laptop,7850000,43,8,4,Ho Chi Minh,13800000,27300,96,100,,0,0,0,0,4\n"
     ]
    },
    {
     "name": "stderr",
     "output_type": "stream",
     "text": [
      "\r",
      "Processing rows:  44%|████▍     | 527/1200 [24:21<27:47,  2.48s/it]"
     ]
    },
    {
     "name": "stdout",
     "output_type": "stream",
     "text": [
      "laptop,6399999,17,28,11,Hà Nội,None,100,98,100,100,0,0,0,0,11\n"
     ]
    },
    {
     "name": "stderr",
     "output_type": "stream",
     "text": [
      "\r",
      "Processing rows:  44%|████▍     | 528/1200 [24:24<28:06,  2.51s/it]"
     ]
    },
    {
     "name": "stdout",
     "output_type": "stream",
     "text": [
      "laptop,177070,11,18,None,Hanoi,199000,38000,96,100,100,0,0,0,0,0\n"
     ]
    },
    {
     "name": "stderr",
     "output_type": "stream",
     "text": [
      "\r",
      "Processing rows:  44%|████▍     | 529/1200 [24:26<27:09,  2.43s/it]"
     ]
    },
    {
     "name": "stdout",
     "output_type": "stream",
     "text": [
      "laptop,15089000,8,None,None,Ho Chi Minh,16489000,12800,97,98,85,0,0,0,0,0\n"
     ]
    },
    {
     "name": "stderr",
     "output_type": "stream",
     "text": [
      "\r",
      "Processing rows:  44%|████▍     | 530/1200 [24:29<28:11,  2.52s/it]"
     ]
    },
    {
     "name": "stdout",
     "output_type": "stream",
     "text": [
      "laptop,6234719,58,7,4,Ho Chi Minh,17999999,97,81,100,0,0,0,0,4\n"
     ]
    },
    {
     "name": "stderr",
     "output_type": "stream",
     "text": [
      "\r",
      "Processing rows:  44%|████▍     | 531/1200 [24:32<29:23,  2.64s/it]"
     ]
    },
    {
     "name": "stdout",
     "output_type": "stream",
     "text": [
      "laptop,5500000,None,95,23,Nam Dinh,None,56800,99,100,100,0,0,0,0,23\n"
     ]
    },
    {
     "name": "stderr",
     "output_type": "stream",
     "text": [
      "\r",
      "Processing rows:  44%|████▍     | 532/1200 [24:35<32:51,  2.95s/it]"
     ]
    },
    {
     "name": "stdout",
     "output_type": "stream",
     "text": [
      "laptop,2474010,1,80,41,An Giang,2990000,44100,96,None,None,0,1,1,0,39\n"
     ]
    },
    {
     "name": "stderr",
     "output_type": "stream",
     "text": [
      "\r",
      "Processing rows:  44%|████▍     | 533/1200 [24:38<31:47,  2.86s/it]"
     ]
    },
    {
     "name": "stdout",
     "output_type": "stream",
     "text": [
      "laptop,5160000,34,21,12,Ho Chi Minh,7800000,100,96,100,100,0,0,0,1,11\n"
     ]
    },
    {
     "name": "stderr",
     "output_type": "stream",
     "text": [
      "\r",
      "Processing rows:  44%|████▍     | 534/1200 [24:41<31:45,  2.86s/it]"
     ]
    },
    {
     "name": "stdout",
     "output_type": "stream",
     "text": [
      "laptop,4800000,None,196,65,Nam Dinh,None,56800,99,100,100,0,0,0,0,65\n"
     ]
    },
    {
     "name": "stderr",
     "output_type": "stream",
     "text": [
      "\r",
      "Processing rows:  45%|████▍     | 535/1200 [24:43<29:28,  2.66s/it]"
     ]
    },
    {
     "name": "stdout",
     "output_type": "stream",
     "text": [
      "laptop,4800000,None,75,23,Nam Dinh,None,56800,99,100,100,0,0,0,0,24\n"
     ]
    },
    {
     "name": "stderr",
     "output_type": "stream",
     "text": [
      "\r",
      "Processing rows:  45%|████▍     | 536/1200 [24:46<30:47,  2.78s/it]"
     ]
    },
    {
     "name": "stdout",
     "output_type": "stream",
     "text": [
      "laptop,2512000,None,9,1,Hà Nội,None,64700,79,84,95,0,1,0,0,0\n"
     ]
    },
    {
     "name": "stderr",
     "output_type": "stream",
     "text": [
      "\r",
      "Processing rows:  45%|████▍     | 537/1200 [24:49<30:09,  2.73s/it]"
     ]
    },
    {
     "name": "stdout",
     "output_type": "stream",
     "text": [
      "laptop,5200000,None,None,None,Hanoi,None,64700,None,None,100,0,0,0,0,0\n"
     ]
    },
    {
     "name": "stderr",
     "output_type": "stream",
     "text": [
      "\r",
      "Processing rows:  45%|████▍     | 538/1200 [24:51<29:28,  2.67s/it]"
     ]
    },
    {
     "name": "stdout",
     "output_type": "stream",
     "text": [
      "laptop,5999999,None,8,4,Hà Nội,None,100,98,100,100,0,0,0,0,4\n"
     ]
    },
    {
     "name": "stderr",
     "output_type": "stream",
     "text": [
      "\r",
      "Processing rows:  45%|████▍     | 539/1200 [24:54<30:37,  2.78s/it]"
     ]
    },
    {
     "name": "stdout",
     "output_type": "stream",
     "text": [
      "laptop,2428000,None,None,1,Hanoi,None,64700,79,84,95,1,0,0,0,0\n"
     ]
    },
    {
     "name": "stderr",
     "output_type": "stream",
     "text": [
      "\r",
      "Processing rows:  45%|████▌     | 540/1200 [24:57<29:45,  2.71s/it]"
     ]
    },
    {
     "name": "stdout",
     "output_type": "stream",
     "text": [
      "laptop,3390000,11,None,1,Ha Noi,3800000,55400,95,100,100,0,0,0,0,1\n"
     ]
    },
    {
     "name": "stderr",
     "output_type": "stream",
     "text": [
      "\r",
      "Processing rows:  45%|████▌     | 541/1200 [25:00<31:53,  2.90s/it]"
     ]
    },
    {
     "name": "stdout",
     "output_type": "stream",
     "text": [
      "laptop,4200000,13,nan,nan,Hà Nội,4800000,52400,91,75,100,0,0,0,0,0\n"
     ]
    },
    {
     "name": "stderr",
     "output_type": "stream",
     "text": [
      "\r",
      "Processing rows:  45%|████▌     | 542/1200 [25:03<32:35,  2.97s/it]"
     ]
    },
    {
     "name": "stdout",
     "output_type": "stream",
     "text": [
      "laptop,3380000,32,None,None,Ho Chi Minh,5000000,23800,96,100,100,0,0,0,0,0\n"
     ]
    },
    {
     "name": "stderr",
     "output_type": "stream",
     "text": [
      "\r",
      "Processing rows:  45%|████▌     | 543/1200 [25:07<33:40,  3.08s/it]"
     ]
    },
    {
     "name": "stdout",
     "output_type": "stream",
     "text": [
      "laptop,19569000,22,None,None,Ho Chi Minh,25000000,38000,99,None,None,0,0,0,0,0\n"
     ]
    },
    {
     "name": "stderr",
     "output_type": "stream",
     "text": [
      "\r",
      "Processing rows:  45%|████▌     | 544/1200 [25:09<32:12,  2.95s/it]"
     ]
    },
    {
     "name": "stdout",
     "output_type": "stream",
     "text": [
      "laptop,5300000,None,None,None,Thanh Hoa,None,100600,None,None,None,0,0,0,0,0\n"
     ]
    },
    {
     "name": "stderr",
     "output_type": "stream",
     "text": [
      "\r",
      "Processing rows:  45%|████▌     | 545/1200 [25:12<31:17,  2.87s/it]"
     ]
    },
    {
     "name": "stdout",
     "output_type": "stream",
     "text": [
      "laptop,21600000,8,nan,1,Ho Chi Minh,23590000,100,94,86,100,0,0,0,0,1\n"
     ]
    },
    {
     "name": "stderr",
     "output_type": "stream",
     "text": [
      "\r",
      "Processing rows:  46%|████▌     | 546/1200 [25:15<33:02,  3.03s/it]"
     ]
    },
    {
     "name": "stdout",
     "output_type": "stream",
     "text": [
      "laptop,5863000,35,18,4,Hà Nội,9000000,74400,95,100,88,0,0,0,0,4\n"
     ]
    },
    {
     "name": "stderr",
     "output_type": "stream",
     "text": [
      "\r",
      "Processing rows:  46%|████▌     | 547/1200 [25:18<30:47,  2.83s/it]"
     ]
    },
    {
     "name": "stdout",
     "output_type": "stream",
     "text": [
      "laptop,8275139,36,17,6,Ho Chi Minh,13999999,97,81,100,0,0,0,0,6\n"
     ]
    },
    {
     "name": "stderr",
     "output_type": "stream",
     "text": [
      "\r",
      "Processing rows:  46%|████▌     | 548/1200 [25:21<32:27,  2.99s/it]"
     ]
    },
    {
     "name": "stdout",
     "output_type": "stream",
     "text": [
      "laptop,8590000,22,5,4,Ho Chi Minh,11010000,27300,96,100,None,0,0,0,0,4\n"
     ]
    },
    {
     "name": "stderr",
     "output_type": "stream",
     "text": [
      "\r",
      "Processing rows:  46%|████▌     | 549/1200 [25:24<31:32,  2.91s/it]"
     ]
    },
    {
     "name": "stdout",
     "output_type": "stream",
     "text": [
      "laptop,14699000,18,17,8,Ho Chi Minh,18000000,30900,100,100,100,0,0,0,0,8\n"
     ]
    },
    {
     "name": "stderr",
     "output_type": "stream",
     "text": [
      "\r",
      "Processing rows:  46%|████▌     | 550/1200 [25:27<31:07,  2.87s/it]"
     ]
    },
    {
     "name": "stdout",
     "output_type": "stream",
     "text": [
      "laptop,2678000,None,None,1,Hung Yen,None,63300,91,65,100,0,0,0,0,1\n"
     ]
    },
    {
     "name": "stderr",
     "output_type": "stream",
     "text": [
      "\r",
      "Processing rows:  46%|████▌     | 551/1200 [25:29<31:22,  2.90s/it]"
     ]
    },
    {
     "name": "stdout",
     "output_type": "stream",
     "text": [
      "laptop,5350000,47,None,None,Hanoi,10000000,84600,94,100,76,0,0,0,0,0\n"
     ]
    },
    {
     "name": "stderr",
     "output_type": "stream",
     "text": [
      "\r",
      "Processing rows:  46%|████▌     | 552/1200 [25:33<34:01,  3.15s/it]"
     ]
    },
    {
     "name": "stdout",
     "output_type": "stream",
     "text": [
      "laptop,6500000,28,11,6,Ha Noi,8490000,94800,94,100,76,0,0,0,0,6\n"
     ]
    },
    {
     "name": "stderr",
     "output_type": "stream",
     "text": [
      "\r",
      "Processing rows:  46%|████▌     | 553/1200 [25:35<30:37,  2.84s/it]"
     ]
    },
    {
     "name": "stdout",
     "output_type": "stream",
     "text": [
      "laptop,3990000,43,None,None,Hanoi,9000000,84600,94,100,76,0,0,0,0,0\n"
     ]
    },
    {
     "name": "stderr",
     "output_type": "stream",
     "text": [
      "\r",
      "Processing rows:  46%|████▌     | 554/1200 [25:39<31:43,  2.95s/it]"
     ]
    },
    {
     "name": "stdout",
     "output_type": "stream",
     "text": [
      "laptop,2750000,14,None,1,Ha Noi,3200000,52400,91,75,100,0,0,0,0,1\n"
     ]
    },
    {
     "name": "stderr",
     "output_type": "stream",
     "text": [
      "\r",
      "Processing rows:  46%|████▋     | 555/1200 [25:41<31:05,  2.89s/it]"
     ]
    },
    {
     "name": "stdout",
     "output_type": "stream",
     "text": [
      "laptop,3400000,None,12,5,Hung Yen,None,70000,91,65,100,0,0,0,0,5\n"
     ]
    },
    {
     "name": "stderr",
     "output_type": "stream",
     "text": [
      "\r",
      "Processing rows:  46%|████▋     | 556/1200 [25:44<30:43,  2.86s/it]"
     ]
    },
    {
     "name": "stdout",
     "output_type": "stream",
     "text": [
      "laptop,9800000,None,None,None,Hanoi,None,34100,90,100,75,0,0,0,0,0\n"
     ]
    },
    {
     "name": "stderr",
     "output_type": "stream",
     "text": [
      "\r",
      "Processing rows:  46%|████▋     | 557/1200 [25:47<31:49,  2.97s/it]"
     ]
    },
    {
     "name": "stdout",
     "output_type": "stream",
     "text": [
      "laptop,3600000,14,6,2,Ha Noi,4200000,38000,98,None,100,0,0,0,0,2\n"
     ]
    },
    {
     "name": "stderr",
     "output_type": "stream",
     "text": [
      "\r",
      "Processing rows:  46%|████▋     | 558/1200 [25:50<31:17,  2.92s/it]"
     ]
    },
    {
     "name": "stdout",
     "output_type": "stream",
     "text": [
      "laptop,2200000,None,None,None,Hung Yen,None,80200,91,65,100,0,0,0,0,0\n"
     ]
    },
    {
     "name": "stderr",
     "output_type": "stream",
     "text": [
      "\r",
      "Processing rows:  47%|████▋     | 559/1200 [25:53<30:33,  2.86s/it]"
     ]
    },
    {
     "name": "stdout",
     "output_type": "stream",
     "text": [
      "laptop,5400000,None,None,None,Hanoi,None,100,98,100,100,0,0,0,0,0\n"
     ]
    },
    {
     "name": "stderr",
     "output_type": "stream",
     "text": [
      "\r",
      "Processing rows:  47%|████▋     | 560/1200 [25:56<31:06,  2.92s/it]"
     ]
    },
    {
     "name": "stdout",
     "output_type": "stream",
     "text": [
      "laptop,4249999,23,7,2,Hà Nội,None,100,98,100,100,0,0,1,0,1\n"
     ]
    },
    {
     "name": "stderr",
     "output_type": "stream",
     "text": [
      "\r",
      "Processing rows:  47%|████▋     | 561/1200 [25:59<30:21,  2.85s/it]"
     ]
    },
    {
     "name": "stdout",
     "output_type": "stream",
     "text": [
      "laptop,539000,18,None,None,Nước ngoài,730000,100,100,None,100,0,0,0,0\n"
     ]
    },
    {
     "name": "stderr",
     "output_type": "stream",
     "text": [
      "\r",
      "Processing rows:  47%|████▋     | 562/1200 [26:01<29:29,  2.77s/it]"
     ]
    },
    {
     "name": "stdout",
     "output_type": "stream",
     "text": [
      "laptop,400000,None,None,1,Tien Giang,None,40300,87,28,100,0,0,0,1,0\n"
     ]
    },
    {
     "name": "stderr",
     "output_type": "stream",
     "text": [
      "\r",
      "Processing rows:  47%|████▋     | 563/1200 [26:04<30:45,  2.90s/it]"
     ]
    },
    {
     "name": "stdout",
     "output_type": "stream",
     "text": [
      "laptop,32940000,6,9,None,Ho Chi Minh,39900000,19600,97,67,100,0,0,0,0,0\n"
     ]
    },
    {
     "name": "stderr",
     "output_type": "stream",
     "text": [
      "\r",
      "Processing rows:  47%|████▋     | 564/1200 [26:07<29:24,  2.77s/it]"
     ]
    },
    {
     "name": "stdout",
     "output_type": "stream",
     "text": [
      "laptop,5792597,36,5,1,Ho Chi Minh,9999999,97,81,100,0,0,0,0,1\n"
     ]
    },
    {
     "name": "stderr",
     "output_type": "stream",
     "text": [
      "\r",
      "Processing rows:  47%|████▋     | 565/1200 [26:10<30:21,  2.87s/it]"
     ]
    },
    {
     "name": "stdout",
     "output_type": "stream",
     "text": [
      "laptop,980000,None,5,1,Dak Lak,None,100,90,None,100,0,0,0,0,1\n"
     ]
    },
    {
     "name": "stderr",
     "output_type": "stream",
     "text": [
      "\r",
      "Processing rows:  47%|████▋     | 566/1200 [26:13<31:00,  2.93s/it]"
     ]
    },
    {
     "name": "stdout",
     "output_type": "stream",
     "text": [
      "laptop,1957560,53,None,None,Ho Chi Minh,4200000,27300,96,100,100,0,0,0,0,0\n"
     ]
    },
    {
     "name": "stderr",
     "output_type": "stream",
     "text": [
      "\r",
      "Processing rows:  47%|████▋     | 567/1200 [26:17<34:15,  3.25s/it]"
     ]
    },
    {
     "name": "stdout",
     "output_type": "stream",
     "text": [
      "laptop,8999999,10,10,4,Ho Chi Minh,10890099,100,95,100,85,0,0,0,0,4\n"
     ]
    },
    {
     "name": "stderr",
     "output_type": "stream",
     "text": [
      "\r",
      "Processing rows:  47%|████▋     | 568/1200 [26:20<32:33,  3.09s/it]"
     ]
    },
    {
     "name": "stdout",
     "output_type": "stream",
     "text": [
      "laptop,8599999,39,None,None,Ho Chi Minh,14999999,100,95,100,85,0,0,0,0,1\n"
     ]
    },
    {
     "name": "stderr",
     "output_type": "stream",
     "text": [
      "\r",
      "Processing rows:  47%|████▋     | 569/1200 [26:23<32:56,  3.13s/it]"
     ]
    },
    {
     "name": "stdout",
     "output_type": "stream",
     "text": [
      "laptop,2750000,31,nan,nan,Ho Chi Minh,4000000,16500,96,80,94,0,0,0,0,0\n"
     ]
    },
    {
     "name": "stderr",
     "output_type": "stream",
     "text": [
      "\r",
      "Processing rows:  48%|████▊     | 570/1200 [26:25<30:06,  2.87s/it]"
     ]
    },
    {
     "name": "stdout",
     "output_type": "stream",
     "text": [
      "laptop,3149000,54,12,4,Ho Chi Minh,6800000,27300,96,100,100,0,0,0,0,4\n"
     ]
    },
    {
     "name": "stderr",
     "output_type": "stream",
     "text": [
      "\r",
      "Processing rows:  48%|████▊     | 571/1200 [26:28<29:29,  2.81s/it]"
     ]
    },
    {
     "name": "stdout",
     "output_type": "stream",
     "text": [
      "laptop,5670000,None,52,17,Hung Yen,None,56800,97,100,100,0,0,1,0,16\n"
     ]
    },
    {
     "name": "stderr",
     "output_type": "stream",
     "text": [
      "\r",
      "Processing rows:  48%|████▊     | 572/1200 [26:31<30:00,  2.87s/it]"
     ]
    },
    {
     "name": "stdout",
     "output_type": "stream",
     "text": [
      "laptop,1200000,None,5,3,Tien Giang,None,40300,87,28,100,0,0,0,1,2\n"
     ]
    },
    {
     "name": "stderr",
     "output_type": "stream",
     "text": [
      "\r",
      "Processing rows:  48%|████▊     | 573/1200 [26:33<28:45,  2.75s/it]"
     ]
    },
    {
     "name": "stdout",
     "output_type": "stream",
     "text": [
      "laptop,14799000,30,7,4,Ho Chi Minh,21000000,23800,100,100,100,0,0,0,0,4\n"
     ]
    },
    {
     "name": "stderr",
     "output_type": "stream",
     "text": [
      "\r",
      "Processing rows:  48%|████▊     | 574/1200 [26:36<28:48,  2.76s/it]"
     ]
    },
    {
     "name": "stdout",
     "output_type": "stream",
     "text": [
      "laptop,1500000,None,6,3,Tien Giang,None,40300,82,86,88,0,1,0,0,2\n"
     ]
    },
    {
     "name": "stderr",
     "output_type": "stream",
     "text": [
      "\r",
      "Processing rows:  48%|████▊     | 575/1200 [26:40<30:38,  2.94s/it]"
     ]
    },
    {
     "name": "stdout",
     "output_type": "stream",
     "text": [
      "laptop,1500000,None,None,1,Tien Giang,None,48200,87,28,100,0,0,0,0,0\n"
     ]
    },
    {
     "name": "stderr",
     "output_type": "stream",
     "text": [
      "\r",
      "Processing rows:  48%|████▊     | 576/1200 [26:42<29:06,  2.80s/it]"
     ]
    },
    {
     "name": "stdout",
     "output_type": "stream",
     "text": [
      "laptop,600000,None,None,None,Hanoi,None,64700,94,100,87,0,0,0,0,0\n"
     ]
    },
    {
     "name": "stderr",
     "output_type": "stream",
     "text": [
      "\r",
      "Processing rows:  48%|████▊     | 577/1200 [26:45<28:29,  2.74s/it]"
     ]
    },
    {
     "name": "stdout",
     "output_type": "stream",
     "text": [
      "laptop,1000000,None,None,None,Tien Giang,None,40300,82,86,88,0,0,0,0,0\n"
     ]
    },
    {
     "name": "stderr",
     "output_type": "stream",
     "text": [
      "\r",
      "Processing rows:  48%|████▊     | 578/1200 [26:49<34:58,  3.37s/it]"
     ]
    },
    {
     "name": "stdout",
     "output_type": "stream",
     "text": [
      "laptop,2300000,15,7,4,Ha Noi,2700000,55400,95,100,100,0,0,0,1,3\n"
     ]
    },
    {
     "name": "stderr",
     "output_type": "stream",
     "text": [
      "\r",
      "Processing rows:  48%|████▊     | 579/1200 [26:53<36:53,  3.56s/it]"
     ]
    },
    {
     "name": "stdout",
     "output_type": "stream",
     "text": [
      "laptop,2650000,None,13,3,Ho Chi Minh,None,19600,100,None,100,0,0,0,1,2\n"
     ]
    },
    {
     "name": "stderr",
     "output_type": "stream",
     "text": [
      "\r",
      "Processing rows:  48%|████▊     | 580/1200 [26:56<34:23,  3.33s/it]"
     ]
    },
    {
     "name": "stdout",
     "output_type": "stream",
     "text": [
      "laptop,24500000,None,None,None,Ho Chi Minh,None,20100,96,100,None,0,0,0,0,0\n"
     ]
    },
    {
     "name": "stderr",
     "output_type": "stream",
     "text": [
      "\r",
      "Processing rows:  48%|████▊     | 581/1200 [26:58<30:40,  2.97s/it]"
     ]
    },
    {
     "name": "stdout",
     "output_type": "stream",
     "text": [
      "laptop,3100000,None,20,10,Ho Chi Minh,None,21200,100,None,None,0,0,0,2,8\n"
     ]
    },
    {
     "name": "stderr",
     "output_type": "stream",
     "text": [
      "\r",
      "Processing rows:  48%|████▊     | 582/1200 [27:01<30:04,  2.92s/it]"
     ]
    },
    {
     "name": "stdout",
     "output_type": "stream",
     "text": [
      "laptop,6250000,32,16,3,Ha Noi,10800000,84600,98,100,100,0,0,0,0,3\n"
     ]
    },
    {
     "name": "stderr",
     "output_type": "stream",
     "text": [
      "\r",
      "Processing rows:  49%|████▊     | 583/1200 [27:04<28:38,  2.78s/it]"
     ]
    },
    {
     "name": "stdout",
     "output_type": "stream",
     "text": [
      "laptop,14590000,42,nan,1,Ho Chi Minh,25000000,30900,99,nan,nan,0,0,0,0,1\n"
     ]
    },
    {
     "name": "stderr",
     "output_type": "stream",
     "text": [
      "\r",
      "Processing rows:  49%|████▊     | 584/1200 [27:07<29:03,  2.83s/it]"
     ]
    },
    {
     "name": "stdout",
     "output_type": "stream",
     "text": [
      "laptop,15090000,8,nan,nan,Ho Chi Minh,16489000,9700,97,98,85,0,0,0,0,0\n"
     ]
    },
    {
     "name": "stderr",
     "output_type": "stream",
     "text": [
      "\r",
      "Processing rows:  49%|████▉     | 585/1200 [27:09<28:14,  2.75s/it]"
     ]
    },
    {
     "name": "stdout",
     "output_type": "stream",
     "text": [
      "laptop,3500000,None,None,None,Hanoi,None,Miễn phí,None,100,100,0,0,0,0,0\n"
     ]
    },
    {
     "name": "stderr",
     "output_type": "stream",
     "text": [
      "\r",
      "Processing rows:  49%|████▉     | 586/1200 [27:12<28:40,  2.80s/it]"
     ]
    },
    {
     "name": "stdout",
     "output_type": "stream",
     "text": [
      "laptop,3990000,20,None,1,Ha Noi,4990000,57700,88,100,71,0,0,0,1,1\n"
     ]
    },
    {
     "name": "stderr",
     "output_type": "stream",
     "text": [
      "\r",
      "Processing rows:  49%|████▉     | 587/1200 [27:15<28:02,  2.74s/it]"
     ]
    },
    {
     "name": "stdout",
     "output_type": "stream",
     "text": [
      "laptop,2668000,11,nan,nan,Nghệ An,2998000,63300,94,92,92,0,0,0,0,0\n"
     ]
    },
    {
     "name": "stderr",
     "output_type": "stream",
     "text": [
      "\r",
      "Processing rows:  49%|████▉     | 588/1200 [27:18<28:23,  2.78s/it]"
     ]
    },
    {
     "name": "stdout",
     "output_type": "stream",
     "text": [
      "laptop,3600000,14,None,None,Hanoi,4200000,52400,91,75,100,0,0,0,0,0\n"
     ]
    },
    {
     "name": "stderr",
     "output_type": "stream",
     "text": [
      "\r",
      "Processing rows:  49%|████▉     | 589/1200 [27:21<29:30,  2.90s/it]"
     ]
    },
    {
     "name": "stdout",
     "output_type": "stream",
     "text": [
      "laptop,5750000,None,6,None,Thai Binh,None,100,95,100,None,0,0,0,0,0\n"
     ]
    },
    {
     "name": "stderr",
     "output_type": "stream",
     "text": [
      "\r",
      "Processing rows:  49%|████▉     | 590/1200 [27:25<34:39,  3.41s/it]"
     ]
    },
    {
     "name": "stdout",
     "output_type": "stream",
     "text": [
      "laptop,1900000,None,None,2,Ho Chi Minh,None,27300,96,100,100,0,0,0,0,2\n"
     ]
    },
    {
     "name": "stderr",
     "output_type": "stream",
     "text": [
      "\r",
      "Processing rows:  49%|████▉     | 591/1200 [27:28<33:22,  3.29s/it]"
     ]
    },
    {
     "name": "stdout",
     "output_type": "stream",
     "text": [
      "laptop,19590000,9,nan,nan,Ho Chi Minh,21490000,nan,96,nan,83,0,0,0,0,0\n"
     ]
    },
    {
     "name": "stderr",
     "output_type": "stream",
     "text": [
      "\r",
      "Processing rows:  49%|████▉     | 592/1200 [27:34<40:41,  4.02s/it]"
     ]
    },
    {
     "name": "stdout",
     "output_type": "stream",
     "text": [
      "laptop,8999999,None,11,3,Hà Nội,None,100,98,100,100,0,0,0,0,3\n"
     ]
    },
    {
     "name": "stderr",
     "output_type": "stream",
     "text": [
      "\r",
      "Processing rows:  49%|████▉     | 593/1200 [27:36<35:26,  3.50s/it]"
     ]
    },
    {
     "name": "stdout",
     "output_type": "stream",
     "text": [
      "laptop,4500000,13,nan,nan,Hà Nội,5200000,52400,91,75,100,0,0,0,0,0\n"
     ]
    },
    {
     "name": "stderr",
     "output_type": "stream",
     "text": [
      "\r",
      "Processing rows:  50%|████▉     | 594/1200 [27:39<34:00,  3.37s/it]"
     ]
    },
    {
     "name": "stdout",
     "output_type": "stream",
     "text": [
      "laptop,2500000,None,None,1,Hung Yen,None,80200,91,65,100,0,0,0,0,1\n"
     ]
    },
    {
     "name": "stderr",
     "output_type": "stream",
     "text": [
      "\r",
      "Processing rows:  50%|████▉     | 595/1200 [27:42<31:57,  3.17s/it]"
     ]
    },
    {
     "name": "stdout",
     "output_type": "stream",
     "text": [
      "laptop,25990000,None,6,1,Ho Chi Minh,None,23800,100,None,None,0,0,0,0,1\n"
     ]
    },
    {
     "name": "stderr",
     "output_type": "stream",
     "text": [
      "\r",
      "Processing rows:  50%|████▉     | 596/1200 [27:45<30:02,  2.98s/it]"
     ]
    },
    {
     "name": "stdout",
     "output_type": "stream",
     "text": [
      "laptop,4199000,None,None,None,Quang Tri,None,100,97,None,None,0,0,0,0,0\n"
     ]
    },
    {
     "name": "stderr",
     "output_type": "stream",
     "text": [
      "\r",
      "Processing rows:  50%|████▉     | 597/1200 [27:48<31:02,  3.09s/it]"
     ]
    },
    {
     "name": "stdout",
     "output_type": "stream",
     "text": [
      "laptop,1700000,None,None,None,Hung Yen,None,80200,91,65,100,0,0,0,0,0\n"
     ]
    },
    {
     "name": "stderr",
     "output_type": "stream",
     "text": [
      "\r",
      "Processing rows:  50%|████▉     | 598/1200 [27:51<29:20,  2.92s/it]"
     ]
    },
    {
     "name": "stdout",
     "output_type": "stream",
     "text": [
      "laptop,25300000,17,9,None,Hanoi,30360000,64700,99,83,None,0,0,0,0,0\n"
     ]
    },
    {
     "name": "stderr",
     "output_type": "stream",
     "text": [
      "\r",
      "Processing rows:  50%|████▉     | 599/1200 [27:55<33:34,  3.35s/it]"
     ]
    },
    {
     "name": "stdout",
     "output_type": "stream",
     "text": [
      "laptop,7500000,16,None,2,Ho Chi Minh,8900000,100,97,100,100,0,0,0,0,2\n"
     ]
    },
    {
     "name": "stderr",
     "output_type": "stream",
     "text": [
      "\r",
      "Processing rows:  50%|█████     | 600/1200 [27:58<31:42,  3.17s/it]"
     ]
    },
    {
     "name": "stdout",
     "output_type": "stream",
     "text": [
      "laptop,5800000,None,None,None,Hanoi,None,100,98,100,100,0,0,0,0,0\n"
     ]
    },
    {
     "name": "stderr",
     "output_type": "stream",
     "text": [
      "\r",
      "Processing rows:  50%|█████     | 601/1200 [28:02<35:08,  3.52s/it]"
     ]
    },
    {
     "name": "stdout",
     "output_type": "stream",
     "text": [
      "laptop,2995000,50,None,None,Hanoi,None,None,None,None,0,0,0,0,0\n"
     ]
    },
    {
     "name": "stderr",
     "output_type": "stream",
     "text": [
      "\r",
      "Processing rows:  50%|█████     | 602/1200 [28:05<32:32,  3.26s/it]"
     ]
    },
    {
     "name": "stdout",
     "output_type": "stream",
     "text": [
      "laptop,39000,17,313,67,Ho Chi Minh,47000,17000,96,98,97,11,1,3,5,47\n"
     ]
    },
    {
     "name": "stderr",
     "output_type": "stream",
     "text": [
      "\r",
      "Processing rows:  50%|█████     | 603/1200 [28:07<30:22,  3.05s/it]"
     ]
    },
    {
     "name": "stdout",
     "output_type": "stream",
     "text": [
      "laptop,29000,42,184,78,Ho Chi Minh,50000,16500,None,100,71,7,2,1,1,68\n"
     ]
    },
    {
     "name": "stderr",
     "output_type": "stream",
     "text": [
      "\r",
      "Processing rows:  50%|█████     | 604/1200 [28:10<30:17,  3.05s/it]"
     ]
    },
    {
     "name": "stdout",
     "output_type": "stream",
     "text": [
      "laptop,1727600,None,None,None,Hanoi,None,Miễn phí,None,None,None,0,0,0,0,0\n"
     ]
    },
    {
     "name": "stderr",
     "output_type": "stream",
     "text": [
      "\r",
      "Processing rows:  50%|█████     | 605/1200 [28:13<29:46,  3.00s/it]"
     ]
    },
    {
     "name": "stdout",
     "output_type": "stream",
     "text": [
      "laptop,3200000,50,None,None,Hanoi,6400000,100,None,None,None,0,0,0,0,0\n"
     ]
    },
    {
     "name": "stderr",
     "output_type": "stream",
     "text": [
      "\r",
      "Processing rows:  50%|█████     | 606/1200 [28:16<30:06,  3.04s/it]"
     ]
    },
    {
     "name": "stdout",
     "output_type": "stream",
     "text": [
      "laptop,902899,25,11,2,Hung Yen,1499999,70000,86,100,87,1,0,0,0,2\n"
     ]
    },
    {
     "name": "stderr",
     "output_type": "stream",
     "text": [
      "\r",
      "Processing rows:  51%|█████     | 607/1200 [28:20<31:28,  3.18s/it]"
     ]
    },
    {
     "name": "stdout",
     "output_type": "stream",
     "text": [
      "laptop,1000000,None,81,28,Hà Nội,None,198200,94,20,83,2,1,1,3,21\n"
     ]
    },
    {
     "name": "stderr",
     "output_type": "stream",
     "text": [
      "\r",
      "Processing rows:  51%|█████     | 608/1200 [28:22<29:41,  3.01s/it]"
     ]
    },
    {
     "name": "stdout",
     "output_type": "stream",
     "text": [
      "laptop,7224999,52,51,5,Hai Phong,13899999,100,100,100,0,0,0,0,5\n"
     ]
    },
    {
     "name": "stderr",
     "output_type": "stream",
     "text": [
      "\r",
      "Processing rows:  51%|█████     | 609/1200 [28:25<28:58,  2.94s/it]"
     ]
    },
    {
     "name": "stdout",
     "output_type": "stream",
     "text": [
      "laptop,6519809,8,294,118,Ho Chi Minh,8999999,100,96,100,100,1,0,2,0,115\n"
     ]
    },
    {
     "name": "stderr",
     "output_type": "stream",
     "text": [
      "\r",
      "Processing rows:  51%|█████     | 610/1200 [28:27<26:56,  2.74s/it]"
     ]
    },
    {
     "name": "stdout",
     "output_type": "stream",
     "text": [
      "laptop,2622600,42,89,36,Ho Chi Minh,4100000,16500,96,80,94,1,1,1,5,28\n"
     ]
    },
    {
     "name": "stderr",
     "output_type": "stream",
     "text": [
      "\r",
      "Processing rows:  51%|█████     | 611/1200 [28:33<34:08,  3.48s/it]"
     ]
    },
    {
     "name": "stdout",
     "output_type": "stream",
     "text": [
      "laptop,619000,65,993,317,Nước ngoài,1750000,17000,96,98,100,2,4,5,12,294\n"
     ]
    },
    {
     "name": "stderr",
     "output_type": "stream",
     "text": [
      "\r",
      "Processing rows:  51%|█████     | 612/1200 [28:35<31:12,  3.18s/it]"
     ]
    },
    {
     "name": "stdout",
     "output_type": "stream",
     "text": [
      "laptop,17990000,38,3000,671,Ho Chi Minh,28990000,10200,94,98,100,28,5,10,17,611\n"
     ]
    },
    {
     "name": "stderr",
     "output_type": "stream",
     "text": [
      "\r",
      "Processing rows:  51%|█████     | 613/1200 [28:39<32:06,  3.28s/it]"
     ]
    },
    {
     "name": "stdout",
     "output_type": "stream",
     "text": [
      "laptop,125332,23,2200,789,Ho Chi Minh,199000,16500,99,100,100,3,1,2,12,771\n"
     ]
    },
    {
     "name": "stderr",
     "output_type": "stream",
     "text": [
      "\r",
      "Processing rows:  51%|█████     | 614/1200 [28:41<28:14,  2.89s/it]"
     ]
    },
    {
     "name": "stdout",
     "output_type": "stream",
     "text": [
      "laptop,1300000,28,83,41,Ha Noi,None,744000,92,50,85,0,0,0,6,35\n"
     ]
    },
    {
     "name": "stderr",
     "output_type": "stream",
     "text": [
      "\r",
      "Processing rows:  51%|█████▏    | 615/1200 [28:43<28:04,  2.88s/it]"
     ]
    },
    {
     "name": "stdout",
     "output_type": "stream",
     "text": [
      "laptop,10490000,19,353,108,Ho Chi Minh,12990000,21200,98,77,50,3,0,0,1,104\n"
     ]
    },
    {
     "name": "stderr",
     "output_type": "stream",
     "text": [
      "\r",
      "Processing rows:  51%|█████▏    | 616/1200 [28:46<27:26,  2.82s/it]"
     ]
    },
    {
     "name": "stdout",
     "output_type": "stream",
     "text": [
      "laptop,2668000,8,33,18,Nghệ An,2898000,56800,94,92,91,0,2,0,2,15\n"
     ]
    },
    {
     "name": "stderr",
     "output_type": "stream",
     "text": [
      "\r",
      "Processing rows:  51%|█████▏    | 617/1200 [28:49<26:54,  2.77s/it]"
     ]
    },
    {
     "name": "stdout",
     "output_type": "stream",
     "text": [
      "laptop,27590000,16,147,3,Ho Chi Minh,32990000,10200,94,98,100,0,0,0,0,4\n"
     ]
    },
    {
     "name": "stderr",
     "output_type": "stream",
     "text": [
      "\r",
      "Processing rows:  52%|█████▏    | 618/1200 [28:52<28:08,  2.90s/it]"
     ]
    },
    {
     "name": "stdout",
     "output_type": "stream",
     "text": [
      "laptop,3248000,10,64,28,Nghệ An,3598000,56800,94,92,91,0,0,0,0,28\n"
     ]
    },
    {
     "name": "stderr",
     "output_type": "stream",
     "text": [
      "\r",
      "Processing rows:  52%|█████▏    | 619/1200 [28:56<31:10,  3.22s/it]"
     ]
    },
    {
     "name": "stdout",
     "output_type": "stream",
     "text": [
      "laptop,3258000,19,73,32,Nghệ An,3998000,56800,94,92,91,0,0,1,0,31\n"
     ]
    },
    {
     "name": "stderr",
     "output_type": "stream",
     "text": [
      "\r",
      "Processing rows:  52%|█████▏    | 620/1200 [29:01<35:15,  3.65s/it]"
     ]
    },
    {
     "name": "stdout",
     "output_type": "stream",
     "text": [
      "laptop,4173000,11,154,49,Hung Yen,6459000,56800,97,100,100,0,0,1,3,46\n"
     ]
    },
    {
     "name": "stderr",
     "output_type": "stream",
     "text": [
      "\r",
      "Processing rows:  52%|█████▏    | 621/1200 [29:04<32:59,  3.42s/it]"
     ]
    },
    {
     "name": "stdout",
     "output_type": "stream",
     "text": [
      "laptop,2455000,None,14,2,Hà Nội,None,38000,79,84,96,0,0,1,0,1\n"
     ]
    },
    {
     "name": "stderr",
     "output_type": "stream",
     "text": [
      "\r",
      "Processing rows:  52%|█████▏    | 622/1200 [29:07<32:12,  3.34s/it]"
     ]
    },
    {
     "name": "stdout",
     "output_type": "stream",
     "text": [
      "laptop,1600000,43,24,11,Ho Chi Minh,2800000,100,91,100,100,0,1,0,1,9\n"
     ]
    },
    {
     "name": "stderr",
     "output_type": "stream",
     "text": [
      "\r",
      "Processing rows:  52%|█████▏    | 623/1200 [29:09<30:31,  3.17s/it]"
     ]
    },
    {
     "name": "stdout",
     "output_type": "stream",
     "text": [
      "laptop,6500000,27,None,1,Ho Chi Minh,11900000,100,96,100,100,0,0,0,0,2\n"
     ]
    },
    {
     "name": "stderr",
     "output_type": "stream",
     "text": [
      "\r",
      "Processing rows:  52%|█████▏    | 624/1200 [29:13<32:23,  3.37s/it]"
     ]
    },
    {
     "name": "stdout",
     "output_type": "stream",
     "text": [
      "laptop,4390000,20,126,29,Hà Nội,5900000,98,100,100,0,0,1,0,28\n"
     ]
    },
    {
     "name": "stderr",
     "output_type": "stream",
     "text": [
      "\r",
      "Processing rows:  52%|█████▏    | 625/1200 [29:17<32:05,  3.35s/it]"
     ]
    },
    {
     "name": "stdout",
     "output_type": "stream",
     "text": [
      "laptop,1239000,38,22,10,Ho Chi Minh,2200000,100,91,100,100,0,0,0,0,10\n"
     ]
    },
    {
     "name": "stderr",
     "output_type": "stream",
     "text": [
      "\r",
      "Processing rows:  52%|█████▏    | 626/1200 [29:19<30:04,  3.14s/it]"
     ]
    },
    {
     "name": "stdout",
     "output_type": "stream",
     "text": [
      "laptop,2900000,50,13,3,Ho Chi Minh,5800000,27300,96,100,100,0,0,0,0,5\n"
     ]
    },
    {
     "name": "stderr",
     "output_type": "stream",
     "text": [
      "\r",
      "Processing rows:  52%|█████▏    | 627/1200 [29:22<29:38,  3.10s/it]"
     ]
    },
    {
     "name": "stdout",
     "output_type": "stream",
     "text": [
      "laptop,5618818,57,33,19,Ho Chi Minh,13999998,97,81,100,1,0,0,0,18\n"
     ]
    },
    {
     "name": "stderr",
     "output_type": "stream",
     "text": [
      "\r",
      "Processing rows:  52%|█████▏    | 628/1200 [29:26<32:08,  3.37s/it]"
     ]
    },
    {
     "name": "stdout",
     "output_type": "stream",
     "text": [
      "laptop,6685956,27,69,28,Ho Chi Minh,9999999,100,97,None,None,0,0,0,0,28\n"
     ]
    },
    {
     "name": "stderr",
     "output_type": "stream",
     "text": [
      "\r",
      "Processing rows:  52%|█████▏    | 629/1200 [29:29<31:03,  3.26s/it]"
     ]
    },
    {
     "name": "stdout",
     "output_type": "stream",
     "text": [
      "laptop,4799999,40,117,33,Hai Phong,7939999,100,95,99,100,1,0,0,0,32\n"
     ]
    },
    {
     "name": "stderr",
     "output_type": "stream",
     "text": [
      "\r",
      "Processing rows:  52%|█████▎    | 630/1200 [29:32<28:50,  3.04s/it]"
     ]
    },
    {
     "name": "stdout",
     "output_type": "stream",
     "text": [
      "laptop,4804919,44,97,23,Hai Phong,8599999,51100,88,100,100,3,0,1,0,20\n"
     ]
    },
    {
     "name": "stderr",
     "output_type": "stream",
     "text": [
      "\r",
      "Processing rows:  53%|█████▎    | 631/1200 [29:35<28:19,  2.99s/it]"
     ]
    },
    {
     "name": "stdout",
     "output_type": "stream",
     "text": [
      "laptop,864999,28,15,2,Hung Yen,1499999,100600,86,100,87,1,0,0,0,1\n"
     ]
    },
    {
     "name": "stderr",
     "output_type": "stream",
     "text": [
      "\r",
      "Processing rows:  53%|█████▎    | 632/1200 [29:37<27:14,  2.88s/it]"
     ]
    },
    {
     "name": "stdout",
     "output_type": "stream",
     "text": [
      "laptop,7689000,None,40,7,Hung Yen,None,37700,100,98,100,0,0,0,0,7\n"
     ]
    },
    {
     "name": "stderr",
     "output_type": "stream",
     "text": [
      "\r",
      "Processing rows:  53%|█████▎    | 633/1200 [29:41<30:01,  3.18s/it]"
     ]
    },
    {
     "name": "stdout",
     "output_type": "stream",
     "text": [
      "laptop,6614299,27,91,49,Ho Chi Minh,8999999,100,96,100,100,1,0,0,2,46\n"
     ]
    },
    {
     "name": "stderr",
     "output_type": "stream",
     "text": [
      "\r",
      "Processing rows:  53%|█████▎    | 634/1200 [29:45<31:19,  3.32s/it]"
     ]
    },
    {
     "name": "stdout",
     "output_type": "stream",
     "text": [
      "laptop,1798761,10,20,6,Ha Noi,4290000,84600,94,100,82,0,0,0,0,6\n"
     ]
    },
    {
     "name": "stderr",
     "output_type": "stream",
     "text": [
      "\r",
      "Processing rows:  53%|█████▎    | 635/1200 [29:48<30:31,  3.24s/it]"
     ]
    },
    {
     "name": "stdout",
     "output_type": "stream",
     "text": [
      "laptop,1089839,16,None,3,Hung Yen,1399999,80200,86,100,87,0,0,0,0,3\n"
     ]
    },
    {
     "name": "stderr",
     "output_type": "stream",
     "text": [
      "\r",
      "Processing rows:  53%|█████▎    | 636/1200 [29:52<32:20,  3.44s/it]"
     ]
    },
    {
     "name": "stdout",
     "output_type": "stream",
     "text": [
      "laptop,4560080,21,28,15,Hà Nội,6500000,84600,94,100,82,0,2,0,1,12\n"
     ]
    },
    {
     "name": "stderr",
     "output_type": "stream",
     "text": [
      "\r",
      "Processing rows:  53%|█████▎    | 637/1200 [29:57<36:26,  3.88s/it]"
     ]
    },
    {
     "name": "stdout",
     "output_type": "stream",
     "text": [
      "laptop,2834699,19,53,4,Hà Nội,6500000,100,98,100,100,0,0,0,0,4\n"
     ]
    },
    {
     "name": "stderr",
     "output_type": "stream",
     "text": [
      "\r",
      "Processing rows:  53%|█████▎    | 638/1200 [30:00<33:43,  3.60s/it]"
     ]
    },
    {
     "name": "stdout",
     "output_type": "stream",
     "text": [
      "laptop,6047091,45,11,5,Ha Noi,11000000,38000,94,100,82,0,0,0,0,5\n"
     ]
    },
    {
     "name": "stderr",
     "output_type": "stream",
     "text": [
      "\r",
      "Processing rows:  53%|█████▎    | 639/1200 [30:03<33:00,  3.53s/it]"
     ]
    },
    {
     "name": "stdout",
     "output_type": "stream",
     "text": [
      "laptop,631000,18,None,None,Nước ngoài,845000,100,100,None,100,0,0,0,0\n"
     ]
    },
    {
     "name": "stderr",
     "output_type": "stream",
     "text": [
      "\r",
      "Processing rows:  53%|█████▎    | 640/1200 [30:05<28:26,  3.05s/it]"
     ]
    },
    {
     "name": "stdout",
     "output_type": "stream",
     "text": [
      "laptop,2990000,None,None,None,Hung Yen,None,70000,91,65,100,0,0,0,0,0\n"
     ]
    },
    {
     "name": "stderr",
     "output_type": "stream",
     "text": [
      "\r",
      "Processing rows:  53%|█████▎    | 641/1200 [30:07<26:32,  2.85s/it]"
     ]
    },
    {
     "name": "stdout",
     "output_type": "stream",
     "text": [
      "laptop,3400000,None,14,None,Quang Tri,None,37700,97,None,None,0,0,0,0,0\n"
     ]
    },
    {
     "name": "stderr",
     "output_type": "stream",
     "text": [
      "\r",
      "Processing rows:  54%|█████▎    | 642/1200 [30:10<26:19,  2.83s/it]"
     ]
    },
    {
     "name": "stdout",
     "output_type": "stream",
     "text": [
      "laptop,7254959,45,16,3,Hai Phong,13199999,100,100,100,0,0,0,0,3\n"
     ]
    },
    {
     "name": "stderr",
     "output_type": "stream",
     "text": [
      "\r",
      "Processing rows:  54%|█████▎    | 643/1200 [30:13<25:31,  2.75s/it]"
     ]
    },
    {
     "name": "stdout",
     "output_type": "stream",
     "text": [
      "laptop,7131799,52,21,4,Hai Phong,16099999,100,100,100,0,0,0,0,5\n"
     ]
    },
    {
     "name": "stderr",
     "output_type": "stream",
     "text": [
      "\r",
      "Processing rows:  54%|█████▎    | 644/1200 [30:15<25:29,  2.75s/it]"
     ]
    },
    {
     "name": "stdout",
     "output_type": "stream",
     "text": [
      "laptop,990000,1,36,15,Hai Duong,1500000,90700,94,100,75,1,0,1,0,13\n"
     ]
    },
    {
     "name": "stderr",
     "output_type": "stream",
     "text": [
      "\r",
      "Processing rows:  54%|█████▍    | 645/1200 [30:18<24:43,  2.67s/it]"
     ]
    },
    {
     "name": "stdout",
     "output_type": "stream",
     "text": [
      "laptop,350000,None,None,None,Tay Ninh,None,48200,97,100,80,0,0,0,0,0\n"
     ]
    },
    {
     "name": "stderr",
     "output_type": "stream",
     "text": [
      "\r",
      "Processing rows:  54%|█████▍    | 646/1200 [30:22<28:56,  3.14s/it]"
     ]
    },
    {
     "name": "stdout",
     "output_type": "stream",
     "text": [
      "laptop,4351599,48,25,5,Hai Phong,8299999,100,100,100,0,0,0,0,5\n"
     ]
    },
    {
     "name": "stderr",
     "output_type": "stream",
     "text": [
      "\r",
      "Processing rows:  54%|█████▍    | 647/1200 [30:25<27:39,  3.00s/it]"
     ]
    },
    {
     "name": "stdout",
     "output_type": "stream",
     "text": [
      "laptop,4439400,56,None,None,Ho Chi Minh,10500000,16500,96,80,94,0,0,0,0,0\n"
     ]
    },
    {
     "name": "stderr",
     "output_type": "stream",
     "text": [
      "\r",
      "Processing rows:  54%|█████▍    | 648/1200 [30:27<26:33,  2.89s/it]"
     ]
    },
    {
     "name": "stdout",
     "output_type": "stream",
     "text": [
      "laptop,1799000,None,75,21,Dong Nai,None,65500,96,50,50,1,0,0,1,19\n"
     ]
    },
    {
     "name": "stderr",
     "output_type": "stream",
     "text": [
      "\r",
      "Processing rows:  54%|█████▍    | 649/1200 [30:30<26:04,  2.84s/it]"
     ]
    },
    {
     "name": "stdout",
     "output_type": "stream",
     "text": [
      "laptop,2550000,20,33,9,Ha Noi,3200000,52400,91,75,100,0,0,0,0,9\n"
     ]
    },
    {
     "name": "stderr",
     "output_type": "stream",
     "text": [
      "\r",
      "Processing rows:  54%|█████▍    | 650/1200 [30:33<25:41,  2.80s/it]"
     ]
    },
    {
     "name": "stdout",
     "output_type": "stream",
     "text": [
      "laptop,1799000,None,118,37,Dong Nai,None,65500,96,50,50,0,0,0,1,36\n"
     ]
    },
    {
     "name": "stderr",
     "output_type": "stream",
     "text": [
      "\r",
      "Processing rows:  54%|█████▍    | 651/1200 [30:37<28:34,  3.12s/it]"
     ]
    },
    {
     "name": "stdout",
     "output_type": "stream",
     "text": [
      "laptop,1200000,None,25,10,Tien Giang,None,32200,87,28,100,0,0,0,1,9\n"
     ]
    },
    {
     "name": "stderr",
     "output_type": "stream",
     "text": [
      "\r",
      "Processing rows:  54%|█████▍    | 652/1200 [30:40<28:23,  3.11s/it]"
     ]
    },
    {
     "name": "stdout",
     "output_type": "stream",
     "text": [
      "laptop,978780,11,9,1,Tien Giang,1100000,40300,82,86,87,0,0,0,0,1\n"
     ]
    },
    {
     "name": "stderr",
     "output_type": "stream",
     "text": [
      "\r",
      "Processing rows:  54%|█████▍    | 653/1200 [30:43<28:34,  3.13s/it]"
     ]
    },
    {
     "name": "stdout",
     "output_type": "stream",
     "text": [
      "laptop,3390000,15,None,3,Hanoi,4000000,52400,91,75,100,0,0,0,0,3\n"
     ]
    },
    {
     "name": "stderr",
     "output_type": "stream",
     "text": [
      "\r",
      "Processing rows:  55%|█████▍    | 654/1200 [30:46<28:22,  3.12s/it]"
     ]
    },
    {
     "name": "stdout",
     "output_type": "stream",
     "text": [
      "laptop,9490000,42,8,3,Hà Nội,16426000,51500,92,None,None,0,0,0,0,3\n"
     ]
    },
    {
     "name": "stderr",
     "output_type": "stream",
     "text": [
      "\r",
      "Processing rows:  55%|█████▍    | 655/1200 [30:48<25:38,  2.82s/it]"
     ]
    },
    {
     "name": "stdout",
     "output_type": "stream",
     "text": [
      "laptop,1700000,None,None,None,Hung Yen,None,70000,91,65,100,0,0,0,0,0\n"
     ]
    },
    {
     "name": "stderr",
     "output_type": "stream",
     "text": [
      "\r",
      "Processing rows:  55%|█████▍    | 656/1200 [30:51<25:17,  2.79s/it]"
     ]
    },
    {
     "name": "stdout",
     "output_type": "stream",
     "text": [
      "laptop,5999999,25,13,9,Ho Chi Minh,7999999,100,97,None,None,0,1,0,0,8\n"
     ]
    },
    {
     "name": "stderr",
     "output_type": "stream",
     "text": [
      "\r",
      "Processing rows:  55%|█████▍    | 657/1200 [30:54<25:20,  2.80s/it]"
     ]
    },
    {
     "name": "stdout",
     "output_type": "stream",
     "text": [
      "laptop,2550000,49,169,50,Thai Binh,5000000,80200,95,100,None,2,0,0,2,46\n"
     ]
    },
    {
     "name": "stderr",
     "output_type": "stream",
     "text": [
      "\r",
      "Processing rows:  55%|█████▍    | 658/1200 [30:57<27:35,  3.05s/it]"
     ]
    },
    {
     "name": "stdout",
     "output_type": "stream",
     "text": [
      "laptop,14699000,30,38,12,Ho Chi Minh,21000000,23800,100,100,100,0,0,0,0,12\n"
     ]
    },
    {
     "name": "stderr",
     "output_type": "stream",
     "text": [
      "\r",
      "Processing rows:  55%|█████▍    | 659/1200 [30:59<24:47,  2.75s/it]"
     ]
    },
    {
     "name": "stdout",
     "output_type": "stream",
     "text": [
      "laptop,6851459,24,127,27,Ho Chi Minh,9999999,100,97,None,None,0,0,0,0,27\n"
     ]
    },
    {
     "name": "stderr",
     "output_type": "stream",
     "text": [
      "\r",
      "Processing rows:  55%|█████▌    | 660/1200 [31:03<28:16,  3.14s/it]"
     ]
    },
    {
     "name": "stdout",
     "output_type": "stream",
     "text": [
      "laptop,1600000,None,261,133,Nghệ An,None,56800,95,100,None,6,1,2,9,115\n"
     ]
    },
    {
     "name": "stderr",
     "output_type": "stream",
     "text": [
      "\r",
      "Processing rows:  55%|█████▌    | 661/1200 [31:06<27:05,  3.01s/it]"
     ]
    },
    {
     "name": "stdout",
     "output_type": "stream",
     "text": [
      "laptop,6414925,52,27,20,Ho Chi Minh,12999999,97,81,100,1,0,0,0,18\n"
     ]
    },
    {
     "name": "stderr",
     "output_type": "stream",
     "text": [
      "\r",
      "Processing rows:  55%|█████▌    | 662/1200 [31:08<24:58,  2.78s/it]"
     ]
    },
    {
     "name": "stdout",
     "output_type": "stream",
     "text": [
      "laptop,15200000,31,69,22,Ho Chi Minh,22000000,23800,100,100,100,0,0,0,0,22\n"
     ]
    },
    {
     "name": "stderr",
     "output_type": "stream",
     "text": [
      "\r",
      "Processing rows:  55%|█████▌    | 663/1200 [31:11<24:43,  2.76s/it]"
     ]
    },
    {
     "name": "stdout",
     "output_type": "stream",
     "text": [
      "laptop,8275139,36,17,6,Ho Chi Minh,13999999,97,81,100,0,0,0,0,6\n"
     ]
    },
    {
     "name": "stderr",
     "output_type": "stream",
     "text": [
      "\r",
      "Processing rows:  55%|█████▌    | 664/1200 [31:14<24:31,  2.75s/it]"
     ]
    },
    {
     "name": "stdout",
     "output_type": "stream",
     "text": [
      "laptop,400000,None,9,2,Tien Giang,None,40300,87,28,100,0,0,0,0,2\n"
     ]
    },
    {
     "name": "stderr",
     "output_type": "stream",
     "text": [
      "\r",
      "Processing rows:  55%|█████▌    | 665/1200 [31:17<25:28,  2.86s/it]"
     ]
    },
    {
     "name": "stdout",
     "output_type": "stream",
     "text": [
      "laptop,3500000,None,15,3,Ho Chi Minh,None,20100,88,100,100,0,0,0,0,3\n"
     ]
    },
    {
     "name": "stderr",
     "output_type": "stream",
     "text": [
      "\r",
      "Processing rows:  56%|█████▌    | 666/1200 [31:20<26:24,  2.97s/it]"
     ]
    },
    {
     "name": "stdout",
     "output_type": "stream",
     "text": [
      "laptop,1700000,None,17,8,Hung Yen,None,56800,91,65,100,0,0,0,1,7\n"
     ]
    },
    {
     "name": "stderr",
     "output_type": "stream",
     "text": [
      "\r",
      "Processing rows:  56%|█████▌    | 667/1200 [31:23<26:16,  2.96s/it]"
     ]
    },
    {
     "name": "stdout",
     "output_type": "stream",
     "text": [
      "laptop,2268000,None,None,1,Nghệ An,None,56800,94,92,91,0,0,0,0,1\n"
     ]
    },
    {
     "name": "stderr",
     "output_type": "stream",
     "text": [
      "\r",
      "Processing rows:  56%|█████▌    | 668/1200 [31:26<25:54,  2.92s/it]"
     ]
    },
    {
     "name": "stdout",
     "output_type": "stream",
     "text": [
      "laptop,6228599,28,302,126,Ho Chi Minh,12900000,100,95,100,85,5,0,0,0,122\n"
     ]
    },
    {
     "name": "stderr",
     "output_type": "stream",
     "text": [
      "\r",
      "Processing rows:  56%|█████▌    | 669/1200 [31:30<27:49,  3.14s/it]"
     ]
    },
    {
     "name": "stdout",
     "output_type": "stream",
     "text": [
      "laptop,15089000,8,None,None,Ho Chi Minh,16489000,12800,97,98,89,0,0,0,0,0\n"
     ]
    },
    {
     "name": "stderr",
     "output_type": "stream",
     "text": [
      "\r",
      "Processing rows:  56%|█████▌    | 670/1200 [31:33<27:18,  3.09s/it]"
     ]
    },
    {
     "name": "stdout",
     "output_type": "stream",
     "text": [
      "laptop,7250089,19,129,35,Ho Chi Minh,8999999,100,95,100,85,1,0,0,0,34\n"
     ]
    },
    {
     "name": "stderr",
     "output_type": "stream",
     "text": [
      "\r",
      "Processing rows:  56%|█████▌    | 671/1200 [31:35<26:37,  3.02s/it]"
     ]
    },
    {
     "name": "stdout",
     "output_type": "stream",
     "text": [
      "laptop,3500000,49,None,1,Ho Chi Minh,6800000,23800,96,100,100,0,0,0,0,1\n"
     ]
    },
    {
     "name": "stderr",
     "output_type": "stream",
     "text": [
      "\r",
      "Processing rows:  56%|█████▌    | 672/1200 [31:38<25:53,  2.94s/it]"
     ]
    },
    {
     "name": "stdout",
     "output_type": "stream",
     "text": [
      "laptop,6234719,58,7,4,Ho Chi Minh,17999999,97,81,100,0,0,0,0,4\n"
     ]
    },
    {
     "name": "stderr",
     "output_type": "stream",
     "text": [
      "\r",
      "Processing rows:  56%|█████▌    | 673/1200 [31:41<25:38,  2.92s/it]"
     ]
    },
    {
     "name": "stdout",
     "output_type": "stream",
     "text": [
      "laptop,5622499,14,8,2,Hà Nội,None,100,98,100,100,0,0,0,0,2\n"
     ]
    },
    {
     "name": "stderr",
     "output_type": "stream",
     "text": [
      "\r",
      "Processing rows:  56%|█████▌    | 674/1200 [31:45<27:06,  3.09s/it]"
     ]
    },
    {
     "name": "stdout",
     "output_type": "stream",
     "text": [
      "laptop,4600000,None,None,1,Hung Yen,None,70000,91,65,100,0,0,0,0,1\n"
     ]
    },
    {
     "name": "stderr",
     "output_type": "stream",
     "text": [
      "\r",
      "Processing rows:  56%|█████▋    | 675/1200 [31:47<25:44,  2.94s/it]"
     ]
    },
    {
     "name": "stdout",
     "output_type": "stream",
     "text": [
      "laptop,3800000,None,17,5,Hung Yen,None,70000,91,65,100,1,0,1,0,3\n"
     ]
    },
    {
     "name": "stderr",
     "output_type": "stream",
     "text": [
      "\r",
      "Processing rows:  56%|█████▋    | 676/1200 [31:50<24:54,  2.85s/it]"
     ]
    },
    {
     "name": "stdout",
     "output_type": "stream",
     "text": [
      "laptop,4900000,37,None,1,Ho Chi Minh,7800000,100,96,100,100,0,0,0,0,1\n"
     ]
    },
    {
     "name": "stderr",
     "output_type": "stream",
     "text": [
      "\r",
      "Processing rows:  56%|█████▋    | 677/1200 [31:53<25:33,  2.93s/it]"
     ]
    },
    {
     "name": "stdout",
     "output_type": "stream",
     "text": [
      "laptop,4650000,None,8,1,Ha Noi,None,45100,99,100,100,0,0,0,0,1\n"
     ]
    },
    {
     "name": "stderr",
     "output_type": "stream",
     "text": [
      "\r",
      "Processing rows:  56%|█████▋    | 678/1200 [31:55<24:27,  2.81s/it]"
     ]
    },
    {
     "name": "stdout",
     "output_type": "stream",
     "text": [
      "laptop,3800000,46,None,1,Ho Chi Minh,7000000,16500,96,80,94,0,0,0,1,0\n"
     ]
    },
    {
     "name": "stderr",
     "output_type": "stream",
     "text": [
      "\r",
      "Processing rows:  57%|█████▋    | 679/1200 [31:58<24:44,  2.85s/it]"
     ]
    },
    {
     "name": "stdout",
     "output_type": "stream",
     "text": [
      "laptop,7570000,None,55,13,Hà Nội,None,100,98,100,100,0,0,0,0,13\n"
     ]
    },
    {
     "name": "stderr",
     "output_type": "stream",
     "text": [
      "\r",
      "Processing rows:  57%|█████▋    | 680/1200 [32:01<24:52,  2.87s/it]"
     ]
    },
    {
     "name": "stdout",
     "output_type": "stream",
     "text": [
      "laptop,2570000,10,33,10,Ha Noi,3270000,100,98,100,100,0,0,0,1,10\n"
     ]
    },
    {
     "name": "stderr",
     "output_type": "stream",
     "text": [
      "\r",
      "Processing rows:  57%|█████▋    | 681/1200 [32:04<24:16,  2.81s/it]"
     ]
    },
    {
     "name": "stdout",
     "output_type": "stream",
     "text": [
      "laptop,14900000,None,None,None,Ho Chi Minh,None,27300,None,None,None,0,0,0,0,0\n"
     ]
    },
    {
     "name": "stderr",
     "output_type": "stream",
     "text": [
      "\r",
      "Processing rows:  57%|█████▋    | 682/1200 [32:07<23:40,  2.74s/it]"
     ]
    },
    {
     "name": "stdout",
     "output_type": "stream",
     "text": [
      "laptop,3730000,37,31,11,Ho Chi Minh,6800000,27300,96,100,100,1,0,0,0,10\n"
     ]
    },
    {
     "name": "stderr",
     "output_type": "stream",
     "text": [
      "\r",
      "Processing rows:  57%|█████▋    | 683/1200 [32:09<23:46,  2.76s/it]"
     ]
    },
    {
     "name": "stdout",
     "output_type": "stream",
     "text": [
      "laptop,1799000,None,147,39,Dong Nai,None,65500,99,100,50,0,0,0,1,39\n"
     ]
    },
    {
     "name": "stderr",
     "output_type": "stream",
     "text": [
      "\r",
      "Processing rows:  57%|█████▋    | 684/1200 [32:12<23:03,  2.68s/it]"
     ]
    },
    {
     "name": "stdout",
     "output_type": "stream",
     "text": [
      "laptop,455555,18,None,None,Nước ngoài,555555,100,100,None,100,0,0,0,0,0\n"
     ]
    },
    {
     "name": "stderr",
     "output_type": "stream",
     "text": [
      "\r",
      "Processing rows:  57%|█████▋    | 685/1200 [32:14<21:50,  2.55s/it]"
     ]
    },
    {
     "name": "stdout",
     "output_type": "stream",
     "text": [
      "laptop,5900000,31,nan,nan,Thanh Hoa,8500000,56800,96,100,66,0,0,0,0,0\n"
     ]
    },
    {
     "name": "stderr",
     "output_type": "stream",
     "text": [
      "\r",
      "Processing rows:  57%|█████▋    | 686/1200 [32:17<22:34,  2.64s/it]"
     ]
    },
    {
     "name": "stdout",
     "output_type": "stream",
     "text": [
      "laptop,2789000,20,157,66,Quang Tri,4199000,70000,97,None,None,0,0,0,4,62\n"
     ]
    },
    {
     "name": "stderr",
     "output_type": "stream",
     "text": [
      "\r",
      "Processing rows:  57%|█████▋    | 687/1200 [32:21<26:14,  3.07s/it]"
     ]
    },
    {
     "name": "stdout",
     "output_type": "stream",
     "text": [
      "laptop,2430000,14,nan,2,Ha Noi,2840000,100,98,100,100,0,0,0,0,2\n"
     ]
    },
    {
     "name": "stderr",
     "output_type": "stream",
     "text": [
      "\r",
      "Processing rows:  57%|█████▋    | 688/1200 [32:24<25:38,  3.01s/it]"
     ]
    },
    {
     "name": "stdout",
     "output_type": "stream",
     "text": [
      "laptop,2500000,None,102,46,Hà Nội,None,104900,92,50,85,0,0,2,1,43\n"
     ]
    },
    {
     "name": "stderr",
     "output_type": "stream",
     "text": [
      "\r",
      "Processing rows:  57%|█████▋    | 689/1200 [32:26<23:58,  2.82s/it]"
     ]
    },
    {
     "name": "stdout",
     "output_type": "stream",
     "text": [
      "laptop,4200000,28,5,3,Ho Chi Minh,5800000,16500,96,80,94,0,0,0,0,4\n"
     ]
    },
    {
     "name": "stderr",
     "output_type": "stream",
     "text": [
      "\r",
      "Processing rows:  57%|█████▊    | 690/1200 [32:29<24:43,  2.91s/it]"
     ]
    },
    {
     "name": "stdout",
     "output_type": "stream",
     "text": [
      "laptop,3240000,None,5,None,Hanoi,None,100,98,100,100,0,0,0,0,0\n"
     ]
    },
    {
     "name": "stderr",
     "output_type": "stream",
     "text": [
      "\r",
      "Processing rows:  58%|█████▊    | 691/1200 [32:33<25:53,  3.05s/it]"
     ]
    },
    {
     "name": "stdout",
     "output_type": "stream",
     "text": [
      "laptop,1300000,13,58,24,Ho Chi Minh,1500000,13800,90,100,100,1,0,1,4,18\n"
     ]
    },
    {
     "name": "stderr",
     "output_type": "stream",
     "text": [
      "\r",
      "Processing rows:  58%|█████▊    | 692/1200 [32:38<32:05,  3.79s/it]"
     ]
    },
    {
     "name": "stdout",
     "output_type": "stream",
     "text": [
      "laptop,1799000,None,50,13,Dong Nai,None,65500,96,50,50,0,0,0,1,12\n"
     ]
    },
    {
     "name": "stderr",
     "output_type": "stream",
     "text": [
      "\r",
      "Processing rows:  58%|█████▊    | 693/1200 [32:41<30:17,  3.59s/it]"
     ]
    },
    {
     "name": "stdout",
     "output_type": "stream",
     "text": [
      "laptop,1799000,None,52,13,Dong Nai,None,100,96,50,50,0,0,0,0,14\n"
     ]
    },
    {
     "name": "stderr",
     "output_type": "stream",
     "text": [
      "\r",
      "Processing rows:  58%|█████▊    | 694/1200 [32:44<28:01,  3.32s/it]"
     ]
    },
    {
     "name": "stdout",
     "output_type": "stream",
     "text": [
      "laptop,2300000,8,None,0,Ha Noi,3000000,104900,92,50,85,0,0,0,0,1\n"
     ]
    },
    {
     "name": "stderr",
     "output_type": "stream",
     "text": [
      "\r",
      "Processing rows:  58%|█████▊    | 695/1200 [32:47<26:33,  3.16s/it]"
     ]
    },
    {
     "name": "stdout",
     "output_type": "stream",
     "text": [
      "laptop,2699000,None,None,None,Dong Nai,None,48200,97,100,None,0,0,0,0,0\n"
     ]
    },
    {
     "name": "stderr",
     "output_type": "stream",
     "text": [
      "\r",
      "Processing rows:  58%|█████▊    | 696/1200 [32:50<25:55,  3.09s/it]"
     ]
    },
    {
     "name": "stdout",
     "output_type": "stream",
     "text": [
      "laptop,2699000,None,None,None,Dong Nai,None,48200,97,100,None,0,0,0,0,0\n"
     ]
    },
    {
     "name": "stderr",
     "output_type": "stream",
     "text": [
      "\r",
      "Processing rows:  58%|█████▊    | 697/1200 [32:52<24:25,  2.91s/it]"
     ]
    },
    {
     "name": "stdout",
     "output_type": "stream",
     "text": [
      "laptop,1500000,None,11,6,Tien Giang,None,None,None,None,None,0,0,2,0,3\n"
     ]
    },
    {
     "name": "stderr",
     "output_type": "stream",
     "text": [
      "\r",
      "Processing rows:  58%|█████▊    | 698/1200 [32:55<24:20,  2.91s/it]"
     ]
    },
    {
     "name": "stdout",
     "output_type": "stream",
     "text": [
      "laptop,1799000,None,64,18,Dong Nai,None,65500,96,50,50,1,0,0,1,16\n"
     ]
    },
    {
     "name": "stderr",
     "output_type": "stream",
     "text": [
      "\r",
      "Processing rows:  58%|█████▊    | 699/1200 [32:58<23:56,  2.87s/it]"
     ]
    },
    {
     "name": "stdout",
     "output_type": "stream",
     "text": [
      "laptop,3256000,45,45,16,Ho Chi Minh,8800000,23800,96,100,100,0,0,1,0,15\n"
     ]
    },
    {
     "name": "stderr",
     "output_type": "stream",
     "text": [
      "\r",
      "Processing rows:  58%|█████▊    | 700/1200 [33:01<24:12,  2.90s/it]"
     ]
    },
    {
     "name": "stdout",
     "output_type": "stream",
     "text": [
      "laptop,13590000,30,11,3,Ho Chi Minh,19490000,9700,97,98,89,0,0,0,0,3\n"
     ]
    },
    {
     "name": "stderr",
     "output_type": "stream",
     "text": [
      "\r",
      "Processing rows:  58%|█████▊    | 701/1200 [33:04<23:29,  2.82s/it]"
     ]
    },
    {
     "name": "stdout",
     "output_type": "stream",
     "text": [
      "laptop,2580420,43,None,1,Ho Chi Minh,5500000,23800,96,100,100,0,0,0,0,1\n"
     ]
    },
    {
     "name": "stderr",
     "output_type": "stream",
     "text": [
      "\r",
      "Processing rows:  58%|█████▊    | 702/1200 [33:06<22:49,  2.75s/it]"
     ]
    },
    {
     "name": "stdout",
     "output_type": "stream",
     "text": [
      "laptop,3999999,None,7,3,Hà Nội,None,100,98,100,100,0,0,0,0,3\n"
     ]
    },
    {
     "name": "stderr",
     "output_type": "stream",
     "text": [
      "\r",
      "Processing rows:  59%|█████▊    | 703/1200 [33:10<26:11,  3.16s/it]"
     ]
    },
    {
     "name": "stdout",
     "output_type": "stream",
     "text": [
      "laptop,4500000,None,5,4,Hà Nội,None,100,98,100,100,0,0,0,0,4\n"
     ]
    },
    {
     "name": "stderr",
     "output_type": "stream",
     "text": [
      "\r",
      "Processing rows:  59%|█████▊    | 704/1200 [33:12<23:37,  2.86s/it]"
     ]
    },
    {
     "name": "stdout",
     "output_type": "stream",
     "text": [
      "laptop,8890000,30,6,2,Ho Chi Minh,12790000,23800,94,100,None,0,0,0,0,2\n"
     ]
    },
    {
     "name": "stderr",
     "output_type": "stream",
     "text": [
      "\r",
      "Processing rows:  59%|█████▉    | 705/1200 [33:16<24:59,  3.03s/it]"
     ]
    },
    {
     "name": "stdout",
     "output_type": "stream",
     "text": [
      "laptop,700000,None,None,1,Tien Giang,None,32200,82,86,87,1,0,0,0,0\n"
     ]
    },
    {
     "name": "stderr",
     "output_type": "stream",
     "text": [
      "\r",
      "Processing rows:  59%|█████▉    | 706/1200 [33:19<24:03,  2.92s/it]"
     ]
    },
    {
     "name": "stdout",
     "output_type": "stream",
     "text": [
      "laptop,2350000,22,48,24,Hà Nội,3000000,55400,95,100,100,0,2,0,2,21\n"
     ]
    },
    {
     "name": "stderr",
     "output_type": "stream",
     "text": [
      "\r",
      "Processing rows:  59%|█████▉    | 707/1200 [33:21<23:23,  2.85s/it]"
     ]
    },
    {
     "name": "stdout",
     "output_type": "stream",
     "text": [
      "laptop,9956862,11,32,6,Ha Noi,12190000,32500,95,100,95,0,0,0,0,6\n"
     ]
    },
    {
     "name": "stderr",
     "output_type": "stream",
     "text": [
      "\r",
      "Processing rows:  59%|█████▉    | 708/1200 [33:24<23:43,  2.89s/it]"
     ]
    },
    {
     "name": "stdout",
     "output_type": "stream",
     "text": [
      "laptop,4404510,32,12,4,Ho Chi Minh,8200000,90,nan,nan,0,0,0,0,5\n"
     ]
    },
    {
     "name": "stderr",
     "output_type": "stream",
     "text": [
      "\r",
      "Processing rows:  59%|█████▉    | 709/1200 [33:27<24:18,  2.97s/it]"
     ]
    },
    {
     "name": "stdout",
     "output_type": "stream",
     "text": [
      "laptop,4500000,None,14,5,Hung Yen,None,51100,100,98,100,0,0,0,0,5\n"
     ]
    },
    {
     "name": "stderr",
     "output_type": "stream",
     "text": [
      "\r",
      "Processing rows:  59%|█████▉    | 710/1200 [33:30<23:44,  2.91s/it]"
     ]
    },
    {
     "name": "stdout",
     "output_type": "stream",
     "text": [
      "laptop,2800000,None,None,1,Ho Chi Minh,None,27300,100,None,None,0,0,0,0,1\n"
     ]
    },
    {
     "name": "stderr",
     "output_type": "stream",
     "text": [
      "\r",
      "Processing rows:  59%|█████▉    | 711/1200 [33:35<27:33,  3.38s/it]"
     ]
    },
    {
     "name": "stdout",
     "output_type": "stream",
     "text": [
      "laptop,1790000,None,11,1,Hà Nội,None,51500,79,84,96,0,0,0,0,1\n"
     ]
    },
    {
     "name": "stderr",
     "output_type": "stream",
     "text": [
      "\r",
      "Processing rows:  59%|█████▉    | 712/1200 [33:38<28:34,  3.51s/it]"
     ]
    },
    {
     "name": "stdout",
     "output_type": "stream",
     "text": [
      "laptop,26000000,10,8,None,Ho Chi Minh,28790000,100,94,86,100,0,0,0,0,0\n"
     ]
    },
    {
     "name": "stderr",
     "output_type": "stream",
     "text": [
      "\r",
      "Processing rows:  59%|█████▉    | 713/1200 [33:41<27:00,  3.33s/it]"
     ]
    },
    {
     "name": "stdout",
     "output_type": "stream",
     "text": [
      "laptop,8008199,20,5,1,Ho Chi Minh,9999999,100,95,100,85,0,0,0,0,2\n"
     ]
    },
    {
     "name": "stderr",
     "output_type": "stream",
     "text": [
      "\r",
      "Processing rows:  60%|█████▉    | 714/1200 [33:44<25:21,  3.13s/it]"
     ]
    },
    {
     "name": "stdout",
     "output_type": "stream",
     "text": [
      "laptop,4500000,None,None,None,Ho Chi Minh,None,Miễn phí,100,100,100,0,0,0,0,0\n"
     ]
    },
    {
     "name": "stderr",
     "output_type": "stream",
     "text": [
      "\r",
      "Processing rows:  60%|█████▉    | 715/1200 [33:47<24:32,  3.04s/it]"
     ]
    },
    {
     "name": "stdout",
     "output_type": "stream",
     "text": [
      "laptop,7352999,52,15,3,Hai Phong,14399999,100,100,100,0,0,0,0,3\n"
     ]
    },
    {
     "name": "stderr",
     "output_type": "stream",
     "text": [
      "\r",
      "Processing rows:  60%|█████▉    | 716/1200 [33:50<24:07,  2.99s/it]"
     ]
    },
    {
     "name": "stdout",
     "output_type": "stream",
     "text": [
      "laptop,7156999,53,20,4,Hai Phong,14099999,100,100,100,0,0,0,0,4\n"
     ]
    },
    {
     "name": "stderr",
     "output_type": "stream",
     "text": [
      "\r",
      "Processing rows:  60%|█████▉    | 717/1200 [33:52<23:21,  2.90s/it]"
     ]
    },
    {
     "name": "stdout",
     "output_type": "stream",
     "text": [
      "laptop,7850000,43,8,4,Ho Chi Minh,13800000,27300,96,100,,0,0,0,0,4\n"
     ]
    },
    {
     "name": "stderr",
     "output_type": "stream",
     "text": [
      "\r",
      "Processing rows:  60%|█████▉    | 718/1200 [33:55<22:30,  2.80s/it]"
     ]
    },
    {
     "name": "stdout",
     "output_type": "stream",
     "text": [
      "laptop,6299000,3,None,0,Dong Nai,6500000,100,95,100,100,0,0,0,0,1\n"
     ]
    },
    {
     "name": "stderr",
     "output_type": "stream",
     "text": [
      "\r",
      "Processing rows:  60%|█████▉    | 719/1200 [33:58<22:12,  2.77s/it]"
     ]
    },
    {
     "name": "stdout",
     "output_type": "stream",
     "text": [
      "laptop,6300000,None,15,1,Hung Yen,None,70000,91,65,100,0,0,0,0,1\n"
     ]
    },
    {
     "name": "stderr",
     "output_type": "stream",
     "text": [
      "\r",
      "Processing rows:  60%|██████    | 720/1200 [34:01<22:20,  2.79s/it]"
     ]
    },
    {
     "name": "stdout",
     "output_type": "stream",
     "text": [
      "laptop,3270000,24,9,1,Ha Noi,4289000,100,98,100,100,0,0,0,0,1\n"
     ]
    },
    {
     "name": "stderr",
     "output_type": "stream",
     "text": [
      "\r",
      "Processing rows:  60%|██████    | 721/1200 [34:03<22:43,  2.85s/it]"
     ]
    },
    {
     "name": "stdout",
     "output_type": "stream",
     "text": [
      "laptop,631000,18,None,None,Nước ngoài,768000,100,100,None,100,0,0,0,0\n"
     ]
    },
    {
     "name": "stderr",
     "output_type": "stream",
     "text": [
      "\r",
      "Processing rows:  60%|██████    | 722/1200 [34:08<25:59,  3.26s/it]"
     ]
    },
    {
     "name": "stdout",
     "output_type": "stream",
     "text": [
      "laptop,1799000,None,146,41,Dong Nai,None,65500,99,100,50,0,0,0,1,40\n"
     ]
    },
    {
     "name": "stderr",
     "output_type": "stream",
     "text": [
      "\r",
      "Processing rows:  60%|██████    | 723/1200 [34:11<26:37,  3.35s/it]"
     ]
    },
    {
     "name": "stdout",
     "output_type": "stream",
     "text": [
      "laptop,400000,None,None,1,Tien Giang,None,40300,87,28,100,0,0,0,0,1\n"
     ]
    },
    {
     "name": "stderr",
     "output_type": "stream",
     "text": [
      "\r",
      "Processing rows:  60%|██████    | 724/1200 [34:14<26:00,  3.28s/it]"
     ]
    },
    {
     "name": "stdout",
     "output_type": "stream",
     "text": [
      "laptop,3470000,None,9,5,Hà Nội,None,100,98,100,100,0,0,1,0,4\n"
     ]
    },
    {
     "name": "stderr",
     "output_type": "stream",
     "text": [
      "\r",
      "Processing rows:  60%|██████    | 725/1200 [34:17<25:00,  3.16s/it]"
     ]
    },
    {
     "name": "stdout",
     "output_type": "stream",
     "text": [
      "laptop,4000000,50,nan,1,Ho Chi Minh,8598000,10200,91,100,80,0,0,0,0,1\n"
     ]
    },
    {
     "name": "stderr",
     "output_type": "stream",
     "text": [
      "\r",
      "Processing rows:  60%|██████    | 726/1200 [34:22<29:26,  3.73s/it]"
     ]
    },
    {
     "name": "stdout",
     "output_type": "stream",
     "text": [
      "laptop,2750000,31,None,None,Ho Chi Minh,4000000,16500,96,80,94,0,0,0,0,0\n"
     ]
    },
    {
     "name": "stderr",
     "output_type": "stream",
     "text": [
      "\r",
      "Processing rows:  61%|██████    | 727/1200 [34:24<24:58,  3.17s/it]"
     ]
    },
    {
     "name": "stdout",
     "output_type": "stream",
     "text": [
      "laptop,3470000,None,None,None,Hanoi,None,100,98,100,100,0,0,0,0,0\n"
     ]
    },
    {
     "name": "stderr",
     "output_type": "stream",
     "text": [
      "\r",
      "Processing rows:  61%|██████    | 728/1200 [34:27<24:27,  3.11s/it]"
     ]
    },
    {
     "name": "stdout",
     "output_type": "stream",
     "text": [
      "laptop,1400000,None,24,10,Tien Giang,None,40300,87,28,100,2,0,0,0,9\n"
     ]
    },
    {
     "name": "stderr",
     "output_type": "stream",
     "text": [
      "\r",
      "Processing rows:  61%|██████    | 729/1200 [34:30<24:11,  3.08s/it]"
     ]
    },
    {
     "name": "stdout",
     "output_type": "stream",
     "text": [
      "laptop,899999,10,11,4,Hung Yen,999999,100600,86,100,87,1,0,0,0,4\n"
     ]
    },
    {
     "name": "stderr",
     "output_type": "stream",
     "text": [
      "\r",
      "Processing rows:  61%|██████    | 730/1200 [34:32<22:04,  2.82s/it]"
     ]
    },
    {
     "name": "stdout",
     "output_type": "stream",
     "text": [
      "laptop,1499999,6,None,None,Hung Yen,1999999,100600,86,100,87,0,0,0,0,0\n"
     ]
    },
    {
     "name": "stderr",
     "output_type": "stream",
     "text": [
      "\r",
      "Processing rows:  61%|██████    | 731/1200 [34:35<22:01,  2.82s/it]"
     ]
    },
    {
     "name": "stdout",
     "output_type": "stream",
     "text": [
      "laptop,2400000,None,31,10,Hà Nội,None,74400,92,50,85,0,0,1,2,7\n"
     ]
    },
    {
     "name": "stderr",
     "output_type": "stream",
     "text": [
      "\r",
      "Processing rows:  61%|██████    | 732/1200 [34:38<21:34,  2.77s/it]"
     ]
    },
    {
     "name": "stdout",
     "output_type": "stream",
     "text": [
      "laptop,1200000,8,147,62,Ho Chi Minh,1500000,13800,90,100,100,5,0,1,3,54\n"
     ]
    },
    {
     "name": "stderr",
     "output_type": "stream",
     "text": [
      "\r",
      "Processing rows:  61%|██████    | 733/1200 [34:41<22:23,  2.88s/it]"
     ]
    },
    {
     "name": "stdout",
     "output_type": "stream",
     "text": [
      "laptop,1900000,None,29,5,Hà Nội,None,38000,79,84,96,1,0,0,0,4\n"
     ]
    },
    {
     "name": "stderr",
     "output_type": "stream",
     "text": [
      "\r",
      "Processing rows:  61%|██████    | 734/1200 [34:44<23:35,  3.04s/it]"
     ]
    },
    {
     "name": "stdout",
     "output_type": "stream",
     "text": [
      "laptop,1067760,18,18,6,Ho Chi Minh,1300000,13800,90,100,100,0,0,0,0,6\n"
     ]
    },
    {
     "name": "stderr",
     "output_type": "stream",
     "text": [
      "\r",
      "Processing rows:  61%|██████▏   | 735/1200 [34:47<21:46,  2.81s/it]"
     ]
    },
    {
     "name": "stdout",
     "output_type": "stream",
     "text": [
      "laptop,2848000,None,None,1,Nghệ An,None,56800,94,92,91,0,0,0,0,1\n"
     ]
    },
    {
     "name": "stderr",
     "output_type": "stream",
     "text": [
      "\r",
      "Processing rows:  61%|██████▏   | 736/1200 [34:50<22:12,  2.87s/it]"
     ]
    },
    {
     "name": "stdout",
     "output_type": "stream",
     "text": [
      "laptop,3788000,12,11,5,Nghệ An,None,63300,94,92,91,0,0,1,1,3\n"
     ]
    },
    {
     "name": "stderr",
     "output_type": "stream",
     "text": [
      "\r",
      "Processing rows:  61%|██████▏   | 737/1200 [34:52<20:35,  2.67s/it]"
     ]
    },
    {
     "name": "stdout",
     "output_type": "stream",
     "text": [
      "laptop,1950000,None,None,None,Ho Chi Minh,None,38000,None,None,100,0,0,0,0,0\n"
     ]
    },
    {
     "name": "stderr",
     "output_type": "stream",
     "text": [
      "\r",
      "Processing rows:  62%|██████▏   | 738/1200 [34:55<20:59,  2.73s/it]"
     ]
    },
    {
     "name": "stdout",
     "output_type": "stream",
     "text": [
      "laptop,9999000,26,9,3,Ho Chi Minh,13490000,27300,93,100,None,0,0,0,0,3\n"
     ]
    },
    {
     "name": "stderr",
     "output_type": "stream",
     "text": [
      "\r",
      "Processing rows:  62%|██████▏   | 739/1200 [34:59<25:06,  3.27s/it]"
     ]
    },
    {
     "name": "stdout",
     "output_type": "stream",
     "text": [
      "laptop,7191218,40,103,39,Ho Chi Minh,None,100,98,None,None,1,0,1,0,37\n"
     ]
    },
    {
     "name": "stderr",
     "output_type": "stream",
     "text": [
      "\r",
      "Processing rows:  62%|██████▏   | 740/1200 [35:02<24:24,  3.18s/it]"
     ]
    },
    {
     "name": "stdout",
     "output_type": "stream",
     "text": [
      "laptop,2789000,29,22,8,Hung Yen,5200000,63300,91,65,100,0,0,0,1,6\n"
     ]
    },
    {
     "name": "stderr",
     "output_type": "stream",
     "text": [
      "\r",
      "Processing rows:  62%|██████▏   | 741/1200 [35:06<24:41,  3.23s/it]"
     ]
    },
    {
     "name": "stdout",
     "output_type": "stream",
     "text": [
      "laptop,6350000,31,5,None,Ho Chi Minh,9250000,20100,88,100,100,0,0,0,0,0\n"
     ]
    },
    {
     "name": "stderr",
     "output_type": "stream",
     "text": [
      "\r",
      "Processing rows:  62%|██████▏   | 742/1200 [35:08<23:38,  3.10s/it]"
     ]
    },
    {
     "name": "stdout",
     "output_type": "stream",
     "text": [
      "laptop,1200000,48,None,None,Ho Chi Minh,2300000,100,91,100,100,0,0,0,0,0\n"
     ]
    },
    {
     "name": "stderr",
     "output_type": "stream",
     "text": [
      "\r",
      "Processing rows:  62%|██████▏   | 743/1200 [35:11<23:14,  3.05s/it]"
     ]
    },
    {
     "name": "stdout",
     "output_type": "stream",
     "text": [
      "laptop,6950000,None,None,None,Ho Chi Minh,None,Miễn phí,96,100,100,0,0,0,0,0\n"
     ]
    },
    {
     "name": "stderr",
     "output_type": "stream",
     "text": [
      "\r",
      "Processing rows:  62%|██████▏   | 744/1200 [35:14<23:28,  3.09s/it]"
     ]
    },
    {
     "name": "stdout",
     "output_type": "stream",
     "text": [
      "laptop,3900000,None,None,None,Thanh Hoa,None,100600,None,None,None,0,0,0,0,0\n"
     ]
    },
    {
     "name": "stderr",
     "output_type": "stream",
     "text": [
      "\r",
      "Processing rows:  62%|██████▏   | 745/1200 [35:17<21:57,  2.90s/it]"
     ]
    },
    {
     "name": "stdout",
     "output_type": "stream",
     "text": [
      "laptop,2198000,None,None,None,Nghệ An,None,63300,94,92,91,0,0,0,0,0\n"
     ]
    },
    {
     "name": "stderr",
     "output_type": "stream",
     "text": [
      "\r",
      "Processing rows:  62%|██████▏   | 746/1200 [35:20<21:25,  2.83s/it]"
     ]
    },
    {
     "name": "stdout",
     "output_type": "stream",
     "text": [
      "laptop,3990002,34,None,None,Hanoi,6000000,104900,94,100,82,0,0,0,0,0\n"
     ]
    },
    {
     "name": "stderr",
     "output_type": "stream",
     "text": [
      "\r",
      "Processing rows:  62%|██████▏   | 747/1200 [35:23<21:56,  2.91s/it]"
     ]
    },
    {
     "name": "stdout",
     "output_type": "stream",
     "text": [
      "laptop,2700000,36,None,2,Ho Chi Minh,4200000,20100,88,100,100,0,0,0,0,1\n"
     ]
    },
    {
     "name": "stderr",
     "output_type": "stream",
     "text": [
      "\r",
      "Processing rows:  62%|██████▏   | 748/1200 [35:25<21:31,  2.86s/it]"
     ]
    },
    {
     "name": "stdout",
     "output_type": "stream",
     "text": [
      "laptop,5200000,None,None,None,Thanh Hoa,None,100600,None,None,None,0,0,0,0,0\n"
     ]
    },
    {
     "name": "stderr",
     "output_type": "stream",
     "text": [
      "\r",
      "Processing rows:  62%|██████▏   | 749/1200 [35:28<20:31,  2.73s/it]"
     ]
    },
    {
     "name": "stdout",
     "output_type": "stream",
     "text": [
      "laptop,2150000,None,23,7,Hà Nội,None,100,97,100,100,0,0,0,0,7\n"
     ]
    },
    {
     "name": "stderr",
     "output_type": "stream",
     "text": [
      "\r",
      "Processing rows:  62%|██████▎   | 750/1200 [35:31<20:20,  2.71s/it]"
     ]
    },
    {
     "name": "stdout",
     "output_type": "stream",
     "text": [
      "laptop,7600000,None,40,9,Hung Yen,None,70000,91,65,100,0,0,0,0,9\n"
     ]
    },
    {
     "name": "stderr",
     "output_type": "stream",
     "text": [
      "\r",
      "Processing rows:  63%|██████▎   | 751/1200 [35:33<19:40,  2.63s/it]"
     ]
    },
    {
     "name": "stdout",
     "output_type": "stream",
     "text": [
      "laptop,7100000,None,42,4,Hung Yen,None,37700,100,98,100,0,0,0,0,4\n"
     ]
    },
    {
     "name": "stderr",
     "output_type": "stream",
     "text": [
      "\r",
      "Processing rows:  63%|██████▎   | 752/1200 [35:35<18:53,  2.53s/it]"
     ]
    },
    {
     "name": "stdout",
     "output_type": "stream",
     "text": [
      "laptop,6500000,28,11,6,Ha Noi,8490000,94800,94,100,82,0,0,0,0,6\n"
     ]
    },
    {
     "name": "stderr",
     "output_type": "stream",
     "text": [
      "\r",
      "Processing rows:  63%|██████▎   | 753/1200 [35:38<20:03,  2.69s/it]"
     ]
    },
    {
     "name": "stdout",
     "output_type": "stream",
     "text": [
      "laptop,8400000,None,16,5,Hung Yen,None,70000,91,65,100,0,0,0,0,5\n"
     ]
    },
    {
     "name": "stderr",
     "output_type": "stream",
     "text": [
      "\r",
      "Processing rows:  63%|██████▎   | 754/1200 [35:41<20:31,  2.76s/it]"
     ]
    },
    {
     "name": "stdout",
     "output_type": "stream",
     "text": [
      "laptop,6500000,None,11,5,Hung Yen,None,70000,91,65,100,0,0,0,1,4\n"
     ]
    },
    {
     "name": "stderr",
     "output_type": "stream",
     "text": [
      "\r",
      "Processing rows:  63%|██████▎   | 755/1200 [35:44<20:07,  2.71s/it]"
     ]
    },
    {
     "name": "stdout",
     "output_type": "stream",
     "text": [
      "laptop,4790000,40,nan,2,Ha Noi,8000000,84600,94,100,82,0,0,0,0,2\n"
     ]
    },
    {
     "name": "stderr",
     "output_type": "stream",
     "text": [
      "\r",
      "Processing rows:  63%|██████▎   | 756/1200 [35:46<19:10,  2.59s/it]"
     ]
    },
    {
     "name": "stdout",
     "output_type": "stream",
     "text": [
      "laptop,2496000,7,5,2,Nghệ An,2998000,63300,94,92,91,0,0,0,0,3\n"
     ]
    },
    {
     "name": "stderr",
     "output_type": "stream",
     "text": [
      "\r",
      "Processing rows:  63%|██████▎   | 757/1200 [35:49<19:23,  2.63s/it]"
     ]
    },
    {
     "name": "stdout",
     "output_type": "stream",
     "text": [
      "laptop,8990000,44,None,3,Ha Noi,16000000,84600,94,100,82,0,0,0,2,1\n"
     ]
    },
    {
     "name": "stderr",
     "output_type": "stream",
     "text": [
      "\r",
      "Processing rows:  63%|██████▎   | 758/1200 [35:53<22:27,  3.05s/it]"
     ]
    },
    {
     "name": "stdout",
     "output_type": "stream",
     "text": [
      "laptop,5338799,11,9,4,Hà Nội,None,100,98,100,100,0,0,0,0,4\n"
     ]
    },
    {
     "name": "stderr",
     "output_type": "stream",
     "text": [
      "\r",
      "Processing rows:  63%|██████▎   | 759/1200 [35:56<22:46,  3.10s/it]"
     ]
    },
    {
     "name": "stdout",
     "output_type": "stream",
     "text": [
      "laptop,8590000,22,5,4,Ho Chi Minh,11010000,27300,96,100,None,0,0,0,0,4\n"
     ]
    },
    {
     "name": "stderr",
     "output_type": "stream",
     "text": [
      "\r",
      "Processing rows:  63%|██████▎   | 760/1200 [35:59<22:15,  3.03s/it]"
     ]
    },
    {
     "name": "stdout",
     "output_type": "stream",
     "text": [
      "laptop,3500000,12,30,12,Hung Yen,4600000,80200,91,65,100,1,1,4,0,6\n"
     ]
    },
    {
     "name": "stderr",
     "output_type": "stream",
     "text": [
      "\r",
      "Processing rows:  63%|██████▎   | 761/1200 [36:02<22:56,  3.13s/it]"
     ]
    },
    {
     "name": "stdout",
     "output_type": "stream",
     "text": [
      "laptop,3890000,15,None,1,Ha Noi,4600000,52400,91,75,100,0,0,0,0,1\n"
     ]
    },
    {
     "name": "stderr",
     "output_type": "stream",
     "text": [
      "\r",
      "Processing rows:  64%|██████▎   | 762/1200 [36:05<22:07,  3.03s/it]"
     ]
    },
    {
     "name": "stdout",
     "output_type": "stream",
     "text": [
      "laptop,2870000,12,7,2,Hà Nội,3270000,100,98,100,100,0,0,0,1,1\n"
     ]
    },
    {
     "name": "stderr",
     "output_type": "stream",
     "text": [
      "\r",
      "Processing rows:  64%|██████▎   | 763/1200 [36:07<20:10,  2.77s/it]"
     ]
    },
    {
     "name": "stdout",
     "output_type": "stream",
     "text": [
      "laptop,3000000,40,5,4,Hà Nội,4998000,74400,79,84,96,0,0,0,0,3\n"
     ]
    },
    {
     "name": "stderr",
     "output_type": "stream",
     "text": [
      "\r",
      "Processing rows:  64%|██████▎   | 764/1200 [36:09<18:08,  2.50s/it]"
     ]
    },
    {
     "name": "stdout",
     "output_type": "stream",
     "text": [
      "laptop,1000000,None,14,5,Tien Giang,None,40300,87,28,100,0,0,0,0,6\n"
     ]
    },
    {
     "name": "stderr",
     "output_type": "stream",
     "text": [
      "\r",
      "Processing rows:  64%|██████▍   | 765/1200 [36:12<18:24,  2.54s/it]"
     ]
    },
    {
     "name": "stdout",
     "output_type": "stream",
     "text": [
      "laptop,1799000,None,177,43,Dong Nai,None,65500,97,None,None,1,0,1,0,41\n"
     ]
    },
    {
     "name": "stderr",
     "output_type": "stream",
     "text": [
      "\r",
      "Processing rows:  64%|██████▍   | 766/1200 [36:15<18:56,  2.62s/it]"
     ]
    },
    {
     "name": "stdout",
     "output_type": "stream",
     "text": [
      "laptop,990000,42,None,None,Thanh Hoa,1699969,80200,86,100,None,0,0,0,0,0\n"
     ]
    },
    {
     "name": "stderr",
     "output_type": "stream",
     "text": [
      "\r",
      "Processing rows:  64%|██████▍   | 767/1200 [36:17<18:20,  2.54s/it]"
     ]
    },
    {
     "name": "stdout",
     "output_type": "stream",
     "text": [
      "laptop,800000,None,None,None,Tien Giang,None,40300,87,28,100,0,0,0,0,0\n"
     ]
    },
    {
     "name": "stderr",
     "output_type": "stream",
     "text": [
      "\r",
      "Processing rows:  64%|██████▍   | 768/1200 [36:20<18:28,  2.57s/it]"
     ]
    },
    {
     "name": "stdout",
     "output_type": "stream",
     "text": [
      "laptop,1031000,None,None,None,Tien Giang,None,40300,87,28,100,0,0,0,0,0\n"
     ]
    },
    {
     "name": "stderr",
     "output_type": "stream",
     "text": [
      "\r",
      "Processing rows:  64%|██████▍   | 769/1200 [36:22<18:58,  2.64s/it]"
     ]
    },
    {
     "name": "stdout",
     "output_type": "stream",
     "text": [
      "laptop,1200000,8,138,56,Ho Chi Minh,1850000,13800,90,100,100,4,2,1,2,47\n"
     ]
    },
    {
     "name": "stderr",
     "output_type": "stream",
     "text": [
      "\r",
      "Processing rows:  64%|██████▍   | 770/1200 [36:26<20:00,  2.79s/it]"
     ]
    },
    {
     "name": "stdout",
     "output_type": "stream",
     "text": [
      "laptop,3070000,6,5,1,Ha Noi,3270000,100,98,100,100,0,0,0,0,1\n"
     ]
    },
    {
     "name": "stderr",
     "output_type": "stream",
     "text": [
      "\r",
      "Processing rows:  64%|██████▍   | 771/1200 [36:28<19:30,  2.73s/it]"
     ]
    },
    {
     "name": "stdout",
     "output_type": "stream",
     "text": [
      "laptop,1300000,None,14,8,Hà Nội,None,104900,92,50,85,0,0,0,0,8\n"
     ]
    },
    {
     "name": "stderr",
     "output_type": "stream",
     "text": [
      "\r",
      "Processing rows:  64%|██████▍   | 772/1200 [36:31<18:49,  2.64s/it]"
     ]
    },
    {
     "name": "stdout",
     "output_type": "stream",
     "text": [
      "laptop,999999,17,38,10,Hung Yen,1199999,100600,82,100,nan,1,1,1,0,7\n"
     ]
    },
    {
     "name": "stderr",
     "output_type": "stream",
     "text": [
      "\r",
      "Processing rows:  64%|██████▍   | 773/1200 [36:33<19:00,  2.67s/it]"
     ]
    },
    {
     "name": "stdout",
     "output_type": "stream",
     "text": [
      "laptop,1799000,None,52,13,Dong Nai,None,65500,96,50,50,0,0,0,0,13\n"
     ]
    },
    {
     "name": "stderr",
     "output_type": "stream",
     "text": [
      "\r",
      "Processing rows:  64%|██████▍   | 774/1200 [36:36<18:21,  2.59s/it]"
     ]
    },
    {
     "name": "stdout",
     "output_type": "stream",
     "text": [
      "laptop,6900000,None,123,52,Hà Nội,None,494000,96,None,None,0,0,0,0,52\n"
     ]
    },
    {
     "name": "stderr",
     "output_type": "stream",
     "text": [
      "\r",
      "Processing rows:  65%|██████▍   | 775/1200 [36:39<19:06,  2.70s/it]"
     ]
    },
    {
     "name": "stdout",
     "output_type": "stream",
     "text": [
      "laptop,1490000,32,10,3,Ha Noi,2200000,55400,95,100,100,0,0,0,1,2\n"
     ]
    },
    {
     "name": "stderr",
     "output_type": "stream",
     "text": [
      "\r",
      "Processing rows:  65%|██████▍   | 776/1200 [36:41<17:40,  2.50s/it]"
     ]
    },
    {
     "name": "stdout",
     "output_type": "stream",
     "text": [
      "laptop,5499000,25,130,57,Ha Noi,7299000,74400,96,100,100,0,0,0,2,55\n"
     ]
    },
    {
     "name": "stderr",
     "output_type": "stream",
     "text": [
      "\r",
      "Processing rows:  65%|██████▍   | 777/1200 [36:44<18:35,  2.64s/it]"
     ]
    },
    {
     "name": "stdout",
     "output_type": "stream",
     "text": [
      "laptop,11290000,6,None,None,Ho Chi Minh,11990000,None,96,None,81,0,0,0,0,0\n"
     ]
    },
    {
     "name": "stderr",
     "output_type": "stream",
     "text": [
      "\r",
      "Processing rows:  65%|██████▍   | 778/1200 [36:46<18:04,  2.57s/it]"
     ]
    },
    {
     "name": "stdout",
     "output_type": "stream",
     "text": [
      "laptop,7050000,30,11,3,Hanoi,None,None,None,None,None,0,0,0,0,3\n"
     ]
    },
    {
     "name": "stderr",
     "output_type": "stream",
     "text": [
      "\r",
      "Processing rows:  65%|██████▍   | 779/1200 [36:49<18:11,  2.59s/it]"
     ]
    },
    {
     "name": "stdout",
     "output_type": "stream",
     "text": [
      "laptop,1500000,None,None,1,Tien Giang,None,48200,87,28,100,0,0,0,0,0\n"
     ]
    },
    {
     "name": "stderr",
     "output_type": "stream",
     "text": [
      "\r",
      "Processing rows:  65%|██████▌   | 780/1200 [36:51<17:07,  2.45s/it]"
     ]
    },
    {
     "name": "stdout",
     "output_type": "stream",
     "text": [
      "laptop,1990000,None,7,1,Hà Nội,None,100,95,None,None,0,0,0,0,1\n"
     ]
    },
    {
     "name": "stderr",
     "output_type": "stream",
     "text": [
      "\r",
      "Processing rows:  65%|██████▌   | 781/1200 [36:54<17:53,  2.56s/it]"
     ]
    },
    {
     "name": "stdout",
     "output_type": "stream",
     "text": [
      "laptop,2500000,44,7,2,Phu Tho,4800000,51100,87,None,None,0,0,0,0,2\n"
     ]
    },
    {
     "name": "stderr",
     "output_type": "stream",
     "text": [
      "\r",
      "Processing rows:  65%|██████▌   | 782/1200 [36:56<17:49,  2.56s/it]"
     ]
    },
    {
     "name": "stdout",
     "output_type": "stream",
     "text": [
      "laptop,2500000,None,None,None,Ho Chi Minh,None,23800,79,100,None,0,0,0,0,0\n"
     ]
    },
    {
     "name": "stderr",
     "output_type": "stream",
     "text": [
      "\r",
      "Processing rows:  65%|██████▌   | 783/1200 [36:59<17:26,  2.51s/it]"
     ]
    },
    {
     "name": "stdout",
     "output_type": "stream",
     "text": [
      "laptop,9706000,None,18,3,Hà Nội,None,64700,92,None,None,0,0,0,0,3\n"
     ]
    },
    {
     "name": "stderr",
     "output_type": "stream",
     "text": [
      "\r",
      "Processing rows:  65%|██████▌   | 784/1200 [37:01<18:05,  2.61s/it]"
     ]
    },
    {
     "name": "stdout",
     "output_type": "stream",
     "text": [
      "laptop,3600000,40,11,3,Ha Noi,6750000,84600,98,100,100,0,0,0,0,3\n"
     ]
    },
    {
     "name": "stderr",
     "output_type": "stream",
     "text": [
      "\r",
      "Processing rows:  65%|██████▌   | 785/1200 [37:05<19:16,  2.79s/it]"
     ]
    },
    {
     "name": "stdout",
     "output_type": "stream",
     "text": [
      "laptop,8890000,29,None,None,Ho Chi Minh,12490000,20100,97,99,86,0,0,0,0,0\n"
     ]
    },
    {
     "name": "stderr",
     "output_type": "stream",
     "text": [
      "\r",
      "Processing rows:  66%|██████▌   | 786/1200 [37:08<20:08,  2.92s/it]"
     ]
    },
    {
     "name": "stdout",
     "output_type": "stream",
     "text": [
      "laptop,6500000,None,19,8,Hung Yen,None,70000,91,65,100,0,0,0,0,8\n"
     ]
    },
    {
     "name": "stderr",
     "output_type": "stream",
     "text": [
      "\r",
      "Processing rows:  66%|██████▌   | 787/1200 [37:10<18:37,  2.71s/it]"
     ]
    },
    {
     "name": "stdout",
     "output_type": "stream",
     "text": [
      "laptop,5800000,34,12,2,Ha Noi,8800000,84600,98,100,100,0,0,0,0,3\n"
     ]
    },
    {
     "name": "stderr",
     "output_type": "stream",
     "text": [
      "\r",
      "Processing rows:  66%|██████▌   | 788/1200 [37:13<19:14,  2.80s/it]"
     ]
    },
    {
     "name": "stdout",
     "output_type": "stream",
     "text": [
      "laptop,5792597,36,5,1,Ho Chi Minh,9999999,97,81,100,0,0,0,0,1\n"
     ]
    },
    {
     "name": "stderr",
     "output_type": "stream",
     "text": [
      "\r",
      "Processing rows:  66%|██████▌   | 789/1200 [37:16<18:42,  2.73s/it]"
     ]
    },
    {
     "name": "stdout",
     "output_type": "stream",
     "text": [
      "laptop,2350000,None,None,None,Hanoi,None,100,97,100,100,0,0,0,0,0\n"
     ]
    },
    {
     "name": "stderr",
     "output_type": "stream",
     "text": [
      "\r",
      "Processing rows:  66%|██████▌   | 790/1200 [37:18<18:12,  2.66s/it]"
     ]
    },
    {
     "name": "stdout",
     "output_type": "stream",
     "text": [
      "laptop,25080000,13,nan,nan,Hà Nội,28840000,74400,100,nan,nan,0,0,0,0,0\n"
     ]
    },
    {
     "name": "stderr",
     "output_type": "stream",
     "text": [
      "\r",
      "Processing rows:  66%|██████▌   | 791/1200 [37:20<17:16,  2.54s/it]"
     ]
    },
    {
     "name": "stdout",
     "output_type": "stream",
     "text": [
      "laptop,2650000,None,None,None,Hanoi,None,100,97,100,100,0,0,0,0,0\n"
     ]
    },
    {
     "name": "stderr",
     "output_type": "stream",
     "text": [
      "\r",
      "Processing rows:  66%|██████▌   | 792/1200 [37:23<17:36,  2.59s/it]"
     ]
    },
    {
     "name": "stdout",
     "output_type": "stream",
     "text": [
      "laptop,2990000,25,13,8,Hà Nội,3990000,51500,100,100,None,0,1,0,0,7\n"
     ]
    },
    {
     "name": "stderr",
     "output_type": "stream",
     "text": [
      "\r",
      "Processing rows:  66%|██████▌   | 793/1200 [37:26<17:26,  2.57s/it]"
     ]
    },
    {
     "name": "stdout",
     "output_type": "stream",
     "text": [
      "laptop,3500000,12,10,4,Hung Yen,None,None,None,None,None,0,0,0,0,4\n"
     ]
    },
    {
     "name": "stderr",
     "output_type": "stream",
     "text": [
      "\r",
      "Processing rows:  66%|██████▌   | 794/1200 [37:28<17:43,  2.62s/it]"
     ]
    },
    {
     "name": "stdout",
     "output_type": "stream",
     "text": [
      "laptop,8599999,39,None,None,Ho Chi Minh,14999999,100,95,100,85,0,0,0,0,1\n"
     ]
    },
    {
     "name": "stderr",
     "output_type": "stream",
     "text": [
      "\r",
      "Processing rows:  66%|██████▋   | 795/1200 [37:32<18:45,  2.78s/it]"
     ]
    },
    {
     "name": "stdout",
     "output_type": "stream",
     "text": [
      "laptop,9990000,9,nan,nan,Ho Chi Minh,10990000,nan,96,nan,81,0,0,0,0,0\n"
     ]
    },
    {
     "name": "stderr",
     "output_type": "stream",
     "text": [
      "\r",
      "Processing rows:  66%|██████▋   | 796/1200 [37:34<17:16,  2.57s/it]"
     ]
    },
    {
     "name": "stdout",
     "output_type": "stream",
     "text": [
      "laptop,21600000,8,nan,1,Ho Chi Minh,23590000,100,94,86,100,0,0,0,0,1\n"
     ]
    },
    {
     "name": "stderr",
     "output_type": "stream",
     "text": [
      "\r",
      "Processing rows:  66%|██████▋   | 797/1200 [37:36<17:47,  2.65s/it]"
     ]
    },
    {
     "name": "stdout",
     "output_type": "stream",
     "text": [
      "laptop,2500000,None,None,1,Hung Yen,None,80200,91,65,100,0,0,0,0,1\n"
     ]
    },
    {
     "name": "stderr",
     "output_type": "stream",
     "text": [
      "\r",
      "Processing rows:  66%|██████▋   | 798/1200 [37:39<18:06,  2.70s/it]"
     ]
    },
    {
     "name": "stdout",
     "output_type": "stream",
     "text": [
      "laptop,2200000,None,None,None,Hung Yen,None,80200,91,65,100,0,0,0,0,1\n"
     ]
    },
    {
     "name": "stderr",
     "output_type": "stream",
     "text": [
      "\r",
      "Processing rows:  67%|██████▋   | 799/1200 [37:42<18:02,  2.70s/it]"
     ]
    },
    {
     "name": "stdout",
     "output_type": "stream",
     "text": [
      "laptop,5800000,None,None,None,Hanoi,None,100,98,100,100,0,0,0,0,0\n"
     ]
    },
    {
     "name": "stderr",
     "output_type": "stream",
     "text": [
      "\r",
      "Processing rows:  67%|██████▋   | 800/1200 [37:45<17:48,  2.67s/it]"
     ]
    },
    {
     "name": "stdout",
     "output_type": "stream",
     "text": [
      "laptop,7290599,49,15,2,Hai Phong,14299999,100,100,100,0,0,0,0,3\n"
     ]
    },
    {
     "name": "stderr",
     "output_type": "stream",
     "text": [
      "\r",
      "Processing rows:  67%|██████▋   | 801/1200 [37:47<16:36,  2.50s/it]"
     ]
    },
    {
     "name": "stdout",
     "output_type": "stream",
     "text": [
      "laptop,1799000,None,170,49,Dong Nai,None,65500,97,None,None,2,0,0,0,47\n"
     ]
    },
    {
     "name": "stderr",
     "output_type": "stream",
     "text": [
      "\r",
      "Processing rows:  67%|██████▋   | 802/1200 [37:49<16:32,  2.49s/it]"
     ]
    },
    {
     "name": "stdout",
     "output_type": "stream",
     "text": [
      "laptop,1100000,8,nan,nan,Dong Nai,1200000,100,100,100,0,0,0,0,0\n"
     ]
    },
    {
     "name": "stderr",
     "output_type": "stream",
     "text": [
      "\r",
      "Processing rows:  67%|██████▋   | 803/1200 [37:52<17:53,  2.70s/it]"
     ]
    },
    {
     "name": "stdout",
     "output_type": "stream",
     "text": [
      "laptop,2880000,None,None,None,Hanoi,None,100,98,100,100,0,0,0,0,0\n"
     ]
    },
    {
     "name": "stderr",
     "output_type": "stream",
     "text": [
      "\r",
      "Processing rows:  67%|██████▋   | 804/1200 [37:55<17:34,  2.66s/it]"
     ]
    },
    {
     "name": "stdout",
     "output_type": "stream",
     "text": [
      "laptop,2667000,None,None,None,Hanoi,None,100,98,100,100,0,0,0,0,0\n"
     ]
    },
    {
     "name": "stderr",
     "output_type": "stream",
     "text": [
      "\r",
      "Processing rows:  67%|██████▋   | 805/1200 [37:57<17:14,  2.62s/it]"
     ]
    },
    {
     "name": "stdout",
     "output_type": "stream",
     "text": [
      "laptop,2970000,None,5,3,Hà Nội,None,100,98,100,100,0,0,0,0,3\n"
     ]
    },
    {
     "name": "stderr",
     "output_type": "stream",
     "text": [
      "\r",
      "Processing rows:  67%|██████▋   | 806/1200 [38:00<17:35,  2.68s/it]"
     ]
    },
    {
     "name": "stdout",
     "output_type": "stream",
     "text": [
      "laptop,1500000,None,None,None,Ho Chi Minh,None,Miễn phí,93,100,100,0,0,0,0,0\n"
     ]
    },
    {
     "name": "stderr",
     "output_type": "stream",
     "text": [
      "\r",
      "Processing rows:  67%|██████▋   | 807/1200 [38:03<16:40,  2.55s/it]"
     ]
    },
    {
     "name": "stdout",
     "output_type": "stream",
     "text": [
      "laptop,3349000,None,30,6,Quang Tri,None,100,97,None,None,0,0,0,0,6\n"
     ]
    },
    {
     "name": "stderr",
     "output_type": "stream",
     "text": [
      "\r",
      "Processing rows:  67%|██████▋   | 808/1200 [38:05<16:42,  2.56s/it]"
     ]
    },
    {
     "name": "stdout",
     "output_type": "stream",
     "text": [
      "laptop,680000,None,None,None,Ho Chi Minh,None,27300,100,83,100,0,0,0,0,0\n"
     ]
    },
    {
     "name": "stderr",
     "output_type": "stream",
     "text": [
      "\r",
      "Processing rows:  67%|██████▋   | 809/1200 [38:08<16:54,  2.60s/it]"
     ]
    },
    {
     "name": "stdout",
     "output_type": "stream",
     "text": [
      "laptop,3800000,None,90,25,Nam Dinh,None,56800,99,100,100,0,0,0,0,25\n"
     ]
    },
    {
     "name": "stderr",
     "output_type": "stream",
     "text": [
      "\r",
      "Processing rows:  68%|██████▊   | 810/1200 [38:10<16:54,  2.60s/it]"
     ]
    },
    {
     "name": "stdout",
     "output_type": "stream",
     "text": [
      "laptop,2240000,19,5,2,Ha Noi,2770000,100,98,100,100,0,0,0,0,2\n"
     ]
    },
    {
     "name": "stderr",
     "output_type": "stream",
     "text": [
      "\r",
      "Processing rows:  68%|██████▊   | 811/1200 [38:13<16:48,  2.59s/it]"
     ]
    },
    {
     "name": "stdout",
     "output_type": "stream",
     "text": [
      "laptop,1200000,14,145,53,Ho Chi Minh,1400000,13800,90,100,100,3,2,1,2,45\n"
     ]
    },
    {
     "name": "stderr",
     "output_type": "stream",
     "text": [
      "\r",
      "Processing rows:  68%|██████▊   | 812/1200 [38:16<16:42,  2.58s/it]"
     ]
    },
    {
     "name": "stdout",
     "output_type": "stream",
     "text": [
      "laptop,2450000,None,17,10,Binh Duong,None,40300,96,None,None,0,0,1,0,9\n"
     ]
    },
    {
     "name": "stderr",
     "output_type": "stream",
     "text": [
      "\r",
      "Processing rows:  68%|██████▊   | 813/1200 [38:19<17:33,  2.72s/it]"
     ]
    },
    {
     "name": "stdout",
     "output_type": "stream",
     "text": [
      "laptop,2500000,None,8,6,Hà Nội,None,104900,92,50,85,1,0,0,0,5\n"
     ]
    },
    {
     "name": "stderr",
     "output_type": "stream",
     "text": [
      "\r",
      "Processing rows:  68%|██████▊   | 814/1200 [38:21<17:40,  2.75s/it]"
     ]
    },
    {
     "name": "stdout",
     "output_type": "stream",
     "text": [
      "laptop,5700000,35,nan,1,Ho Chi Minh,8800000,100,96,100,100,0,0,0,0,1\n"
     ]
    },
    {
     "name": "stderr",
     "output_type": "stream",
     "text": [
      "\r",
      "Processing rows:  68%|██████▊   | 815/1200 [38:24<16:39,  2.60s/it]"
     ]
    },
    {
     "name": "stdout",
     "output_type": "stream",
     "text": [
      "laptop,9590000,24,None,None,Ho Chi Minh,12590000,30900,88,None,None,0,0,0,0,0\n"
     ]
    },
    {
     "name": "stderr",
     "output_type": "stream",
     "text": [
      "\r",
      "Processing rows:  68%|██████▊   | 816/1200 [38:27<17:35,  2.75s/it]"
     ]
    },
    {
     "name": "stdout",
     "output_type": "stream",
     "text": [
      "laptop,3390000,11,None,1,Ha Noi,3800000,55400,95,100,100,0,0,0,0,1\n"
     ]
    },
    {
     "name": "stderr",
     "output_type": "stream",
     "text": [
      "\r",
      "Processing rows:  68%|██████▊   | 817/1200 [38:30<17:38,  2.76s/it]"
     ]
    },
    {
     "name": "stdout",
     "output_type": "stream",
     "text": [
      "laptop,29990000,25,nan,nan,Hà Nội,39990000,21200,99,97,99,0,0,0,0,0\n"
     ]
    },
    {
     "name": "stderr",
     "output_type": "stream",
     "text": [
      "\r",
      "Processing rows:  68%|██████▊   | 818/1200 [38:34<19:52,  3.12s/it]"
     ]
    },
    {
     "name": "stdout",
     "output_type": "stream",
     "text": [
      "laptop,9490000,36,None,None,Ho Chi Minh,14790000,10200,97,98,89,0,0,0,0,0\n"
     ]
    },
    {
     "name": "stderr",
     "output_type": "stream",
     "text": [
      "\r",
      "Processing rows:  68%|██████▊   | 819/1200 [38:36<18:36,  2.93s/it]"
     ]
    },
    {
     "name": "stdout",
     "output_type": "stream",
     "text": [
      "laptop,1290000,None,None,None,Binh Duong,None,118500,None,None,None,0,0,0,0,0\n"
     ]
    },
    {
     "name": "stderr",
     "output_type": "stream",
     "text": [
      "\r",
      "Processing rows:  68%|██████▊   | 820/1200 [38:39<18:20,  2.90s/it]"
     ]
    },
    {
     "name": "stdout",
     "output_type": "stream",
     "text": [
      "laptop,19690000,10,nan,nan,Ho Chi Minh,21990000,nan,96,nan,81,0,0,0,0,0\n"
     ]
    },
    {
     "name": "stderr",
     "output_type": "stream",
     "text": [
      "\r",
      "Processing rows:  68%|██████▊   | 821/1200 [38:41<17:54,  2.83s/it]"
     ]
    },
    {
     "name": "stdout",
     "output_type": "stream",
     "text": [
      "laptop,15090000,8,nan,nan,Ho Chi Minh,16489000,9700,97,98,89,0,0,0,0,0\n"
     ]
    },
    {
     "name": "stderr",
     "output_type": "stream",
     "text": [
      "\r",
      "Processing rows:  68%|██████▊   | 822/1200 [38:45<19:35,  3.11s/it]"
     ]
    },
    {
     "name": "stdout",
     "output_type": "stream",
     "text": [
      "laptop,15500000,26,5,None,Ho Chi Minh,20990000,12800,94,100,None,0,0,0,0,0\n"
     ]
    },
    {
     "name": "stderr",
     "output_type": "stream",
     "text": [
      "\r",
      "Processing rows:  69%|██████▊   | 823/1200 [38:48<18:41,  2.98s/it]"
     ]
    },
    {
     "name": "stdout",
     "output_type": "stream",
     "text": [
      "laptop,6300000,40,nan,1,Ho Chi Minh,10500000,100,96,100,100,0,0,0,0,1\n"
     ]
    },
    {
     "name": "stderr",
     "output_type": "stream",
     "text": [
      "\r",
      "Processing rows:  69%|██████▊   | 824/1200 [38:50<17:46,  2.84s/it]"
     ]
    },
    {
     "name": "stdout",
     "output_type": "stream",
     "text": [
      "laptop,3950000,None,None,None,Hanoi,None,100,97,100,100,0,0,0,0,0\n"
     ]
    },
    {
     "name": "stderr",
     "output_type": "stream",
     "text": [
      "\r",
      "Processing rows:  69%|██████▉   | 825/1200 [38:53<16:43,  2.68s/it]"
     ]
    },
    {
     "name": "stdout",
     "output_type": "stream",
     "text": [
      "laptop,17337000,21,nan,nan,Ho Chi Minh,21990000,16300,94,100,nan,0,0,0,0,0\n"
     ]
    },
    {
     "name": "stderr",
     "output_type": "stream",
     "text": [
      "\r",
      "Processing rows:  69%|██████▉   | 826/1200 [38:55<16:38,  2.67s/it]"
     ]
    },
    {
     "name": "stdout",
     "output_type": "stream",
     "text": [
      "laptop,3500000,None,None,None,Hanoi,None,64700,100,None,None,0,0,0,0,0\n"
     ]
    },
    {
     "name": "stderr",
     "output_type": "stream",
     "text": [
      "\r",
      "Processing rows:  69%|██████▉   | 827/1200 [38:58<16:44,  2.69s/it]"
     ]
    },
    {
     "name": "stdout",
     "output_type": "stream",
     "text": [
      "laptop,16500000,13,nan,nan,Hanoi,18980000,64700,100,nan,nan,0,0,0,0,0\n"
     ]
    },
    {
     "name": "stderr",
     "output_type": "stream",
     "text": [
      "\r",
      "Processing rows:  69%|██████▉   | 828/1200 [39:01<16:34,  2.67s/it]"
     ]
    },
    {
     "name": "stdout",
     "output_type": "stream",
     "text": [
      "laptop,7750000,22,8,None,Hanoi,9990000,74400,98,100,92,0,0,0,0,0\n"
     ]
    },
    {
     "name": "stderr",
     "output_type": "stream",
     "text": [
      "\r",
      "Processing rows:  69%|██████▉   | 829/1200 [39:04<16:41,  2.70s/it]"
     ]
    },
    {
     "name": "stdout",
     "output_type": "stream",
     "text": [
      "laptop,3700000,None,None,None,Ho Chi Minh,None,20100,90,86,None,0,0,0,0,0\n"
     ]
    },
    {
     "name": "stderr",
     "output_type": "stream",
     "text": [
      "\r",
      "Processing rows:  69%|██████▉   | 830/1200 [39:06<16:35,  2.69s/it]"
     ]
    },
    {
     "name": "stdout",
     "output_type": "stream",
     "text": [
      "laptop,26694000,11,nan,nan,Hà Nội,30000000,100,98,100,100,0,0,0,0,0\n"
     ]
    },
    {
     "name": "stderr",
     "output_type": "stream",
     "text": [
      "\r",
      "Processing rows:  69%|██████▉   | 831/1200 [39:08<15:36,  2.54s/it]"
     ]
    },
    {
     "name": "stdout",
     "output_type": "stream",
     "text": [
      "laptop,10590000,24,9,1,Ho Chi Minh,13890000,23800,94,100,None,0,0,1,0,0\n"
     ]
    },
    {
     "name": "stderr",
     "output_type": "stream",
     "text": [
      "\r",
      "Processing rows:  69%|██████▉   | 832/1200 [39:11<16:03,  2.62s/it]"
     ]
    },
    {
     "name": "stdout",
     "output_type": "stream",
     "text": [
      "laptop,3381240,42,None,1,Ho Chi Minh,5800000,23800,96,100,100,0,0,0,0,1\n"
     ]
    },
    {
     "name": "stderr",
     "output_type": "stream",
     "text": [
      "\r",
      "Processing rows:  69%|██████▉   | 833/1200 [39:14<16:47,  2.74s/it]"
     ]
    },
    {
     "name": "stdout",
     "output_type": "stream",
     "text": [
      "laptop,13890000,13,nan,nan,Ho Chi Minh,15990000,nan,96,nan,81,0,0,0,0,0\n"
     ]
    },
    {
     "name": "stderr",
     "output_type": "stream",
     "text": [
      "\r",
      "Processing rows:  70%|██████▉   | 834/1200 [39:17<16:12,  2.66s/it]"
     ]
    },
    {
     "name": "stdout",
     "output_type": "stream",
     "text": [
      "laptop,9950000,26,None,1,Ho Chi Minh,13480000,27300,96,100,None,0,0,0,0,1\n"
     ]
    },
    {
     "name": "stderr",
     "output_type": "stream",
     "text": [
      "\r",
      "Processing rows:  70%|██████▉   | 835/1200 [39:19<16:21,  2.69s/it]"
     ]
    },
    {
     "name": "stdout",
     "output_type": "stream",
     "text": [
      "laptop,11780000,33,nan,nan,Hà Nội,17490000,84600,98,100,92,0,0,0,0,0\n"
     ]
    },
    {
     "name": "stderr",
     "output_type": "stream",
     "text": [
      "\r",
      "Processing rows:  70%|██████▉   | 836/1200 [39:23<17:19,  2.86s/it]"
     ]
    },
    {
     "name": "stdout",
     "output_type": "stream",
     "text": [
      "laptop,8800000,7,nan,1,Ha Noi,9500000,64700,100,nan,nan,0,0,0,0,1\n"
     ]
    },
    {
     "name": "stderr",
     "output_type": "stream",
     "text": [
      "\r",
      "Processing rows:  70%|██████▉   | 837/1200 [39:25<16:59,  2.81s/it]"
     ]
    },
    {
     "name": "stdout",
     "output_type": "stream",
     "text": [
      "laptop,15400000,13,nan,1,Ha Noi,17710000,64700,100,nan,nan,0,0,0,0,1\n"
     ]
    },
    {
     "name": "stderr",
     "output_type": "stream",
     "text": [
      "\r",
      "Processing rows:  70%|██████▉   | 838/1200 [39:28<16:47,  2.78s/it]"
     ]
    },
    {
     "name": "stdout",
     "output_type": "stream",
     "text": [
      "laptop,7900000,21,None,None,Hanoi,10000000,84600,94,100,82,0,0,0,0,0\n"
     ]
    },
    {
     "name": "stderr",
     "output_type": "stream",
     "text": [
      "\r",
      "Processing rows:  70%|██████▉   | 839/1200 [39:31<16:14,  2.70s/it]"
     ]
    },
    {
     "name": "stdout",
     "output_type": "stream",
     "text": [
      "laptop,8897999,26,14,1,Ho Chi Minh,12599999,100,95,100,85,0,0,0,0,1\n"
     ]
    },
    {
     "name": "stderr",
     "output_type": "stream",
     "text": [
      "\r",
      "Processing rows:  70%|███████   | 840/1200 [39:33<15:18,  2.55s/it]"
     ]
    },
    {
     "name": "stdout",
     "output_type": "stream",
     "text": [
      "laptop,1900000,5,nan,nan,Da Nang,2000000,45100,100,nan,nan,0,0,0,0,0\n"
     ]
    },
    {
     "name": "stderr",
     "output_type": "stream",
     "text": [
      "\r",
      "Processing rows:  70%|███████   | 841/1200 [39:35<14:50,  2.48s/it]"
     ]
    },
    {
     "name": "stdout",
     "output_type": "stream",
     "text": [
      "laptop,2530000,None,None,None,Ho Chi Minh,None,20100,None,None,None,0,0,0,0,0\n"
     ]
    },
    {
     "name": "stderr",
     "output_type": "stream",
     "text": [
      "\r",
      "Processing rows:  70%|███████   | 842/1200 [39:39<16:45,  2.81s/it]"
     ]
    },
    {
     "name": "stdout",
     "output_type": "stream",
     "text": [
      "laptop,3800000,21,None,1,Ho Chi Minh,5800000,27300,96,100,100,0,0,0,0,1\n"
     ]
    },
    {
     "name": "stderr",
     "output_type": "stream",
     "text": [
      "\r",
      "Processing rows:  70%|███████   | 843/1200 [39:41<16:00,  2.69s/it]"
     ]
    },
    {
     "name": "stdout",
     "output_type": "stream",
     "text": [
      "laptop,3380000,32,None,None,Ho Chi Minh,5000000,23800,96,100,100,0,0,0,0,0\n"
     ]
    },
    {
     "name": "stderr",
     "output_type": "stream",
     "text": [
      "\r",
      "Processing rows:  70%|███████   | 844/1200 [39:45<17:17,  2.91s/it]"
     ]
    },
    {
     "name": "stdout",
     "output_type": "stream",
     "text": [
      "laptop,1354350,10,5,1,Tien Giang,1500000,48200,82,86,87,0,0,0,0,1\n"
     ]
    },
    {
     "name": "stderr",
     "output_type": "stream",
     "text": [
      "\r",
      "Processing rows:  70%|███████   | 845/1200 [39:47<15:51,  2.68s/it]"
     ]
    },
    {
     "name": "stdout",
     "output_type": "stream",
     "text": [
      "laptop,668113,33,None,None,Nước ngoài,999900,17000,100,None,None,0,0,0,0,0\n"
     ]
    },
    {
     "name": "stderr",
     "output_type": "stream",
     "text": [
      "\r",
      "Processing rows:  70%|███████   | 846/1200 [39:49<15:17,  2.59s/it]"
     ]
    },
    {
     "name": "stdout",
     "output_type": "stream",
     "text": [
      "laptop,1842000,None,None,None,Hanoi,None,64700,79,84,96,0,0,0,0,0\n"
     ]
    },
    {
     "name": "stderr",
     "output_type": "stream",
     "text": [
      "\r",
      "Processing rows:  71%|███████   | 847/1200 [39:52<15:12,  2.59s/it]"
     ]
    },
    {
     "name": "stdout",
     "output_type": "stream",
     "text": [
      "laptop,1957560,53,None,None,Ho Chi Minh,4200000,27300,96,100,100,0,0,0,0,0\n"
     ]
    },
    {
     "name": "stderr",
     "output_type": "stream",
     "text": [
      "\r",
      "Processing rows:  71%|███████   | 848/1200 [39:55<15:43,  2.68s/it]"
     ]
    },
    {
     "name": "stdout",
     "output_type": "stream",
     "text": [
      "laptop,1799000,None,146,35,Dong Nai,None,65500,97,None,None,0,0,0,0,35\n"
     ]
    },
    {
     "name": "stderr",
     "output_type": "stream",
     "text": [
      "\r",
      "Processing rows:  71%|███████   | 849/1200 [39:57<15:12,  2.60s/it]"
     ]
    },
    {
     "name": "stdout",
     "output_type": "stream",
     "text": [
      "laptop,1970000,None,None,None,Hanoi,None,100,98,100,100,0,0,0,0,0\n"
     ]
    },
    {
     "name": "stderr",
     "output_type": "stream",
     "text": [
      "\r",
      "Processing rows:  71%|███████   | 850/1200 [39:59<14:24,  2.47s/it]"
     ]
    },
    {
     "name": "stdout",
     "output_type": "stream",
     "text": [
      "laptop,1790000,None,None,None,Ho Chi Minh,None,27300,100,100,None,0,0,0,0,0\n"
     ]
    },
    {
     "name": "stderr",
     "output_type": "stream",
     "text": [
      "\r",
      "Processing rows:  71%|███████   | 851/1200 [40:02<14:23,  2.48s/it]"
     ]
    },
    {
     "name": "stdout",
     "output_type": "stream",
     "text": [
      "laptop,4600000,None,16,15,Hà Nội,None,100,None,None,0,0,0,0,15\n"
     ]
    },
    {
     "name": "stderr",
     "output_type": "stream",
     "text": [
      "\r",
      "Processing rows:  71%|███████   | 852/1200 [40:04<13:43,  2.37s/it]"
     ]
    },
    {
     "name": "stdout",
     "output_type": "stream",
     "text": [
      "laptop,2500000,None,25,10,Hà Nội,None,104900,92,50,85,0,0,0,2,9\n"
     ]
    },
    {
     "name": "stderr",
     "output_type": "stream",
     "text": [
      "\r",
      "Processing rows:  71%|███████   | 853/1200 [40:06<13:44,  2.37s/it]"
     ]
    },
    {
     "name": "stdout",
     "output_type": "stream",
     "text": [
      "laptop,2300000,15,7,4,Ha Noi,2700000,55400,95,100,100,0,0,0,1,3\n"
     ]
    },
    {
     "name": "stderr",
     "output_type": "stream",
     "text": [
      "\r",
      "Processing rows:  71%|███████   | 854/1200 [40:09<15:22,  2.67s/it]"
     ]
    },
    {
     "name": "stdout",
     "output_type": "stream",
     "text": [
      "laptop,2699000,None,None,None,Dong Nai,None,48200,97,100,None,0,0,0,0,0\n"
     ]
    },
    {
     "name": "stderr",
     "output_type": "stream",
     "text": [
      "\r",
      "Processing rows:  71%|███████▏  | 855/1200 [40:12<15:01,  2.61s/it]"
     ]
    },
    {
     "name": "stdout",
     "output_type": "stream",
     "text": [
      "laptop,1500000,None,None,None,Tien Giang,None,48200,87,28,100,0,0,0,0,0\n"
     ]
    },
    {
     "name": "stderr",
     "output_type": "stream",
     "text": [
      "\r",
      "Processing rows:  71%|███████▏  | 856/1200 [40:15<15:05,  2.63s/it]"
     ]
    },
    {
     "name": "stdout",
     "output_type": "stream",
     "text": [
      "laptop,9990000,19,5,None,Ho Chi Minh,12290000,None,96,None,81,0,0,0,0,0\n"
     ]
    },
    {
     "name": "stderr",
     "output_type": "stream",
     "text": [
      "\r",
      "Processing rows:  71%|███████▏  | 857/1200 [40:17<14:51,  2.60s/it]"
     ]
    },
    {
     "name": "stdout",
     "output_type": "stream",
     "text": [
      "laptop,1999000,None,None,None,Ho Chi Minh,None,18300,92,100,77,0,0,0,0,0\n"
     ]
    },
    {
     "name": "stderr",
     "output_type": "stream",
     "text": [
      "\r",
      "Processing rows:  72%|███████▏  | 858/1200 [40:19<14:19,  2.51s/it]"
     ]
    },
    {
     "name": "stdout",
     "output_type": "stream",
     "text": [
      "laptop,3690000,12,None,None,Hanoi,4200000,55400,95,100,100,0,0,0,0,0\n"
     ]
    },
    {
     "name": "stderr",
     "output_type": "stream",
     "text": [
      "\r",
      "Processing rows:  72%|███████▏  | 859/1200 [40:22<14:05,  2.48s/it]"
     ]
    },
    {
     "name": "stdout",
     "output_type": "stream",
     "text": [
      "laptop,6570000,None,131,23,Hung Yen,None,56800,97,100,100,0,0,0,2,21\n"
     ]
    },
    {
     "name": "stderr",
     "output_type": "stream",
     "text": [
      "\r",
      "Processing rows:  72%|███████▏  | 860/1200 [40:25<15:03,  2.66s/it]"
     ]
    },
    {
     "name": "stdout",
     "output_type": "stream",
     "text": [
      "laptop,8000000,32,74,7,Ha Noi,11800000,84600,98,100,100,0,0,0,0,7\n"
     ]
    },
    {
     "name": "stderr",
     "output_type": "stream",
     "text": [
      "\r",
      "Processing rows:  72%|███████▏  | 861/1200 [40:28<15:05,  2.67s/it]"
     ]
    },
    {
     "name": "stdout",
     "output_type": "stream",
     "text": [
      "laptop,950000,None,None,None,Ho Chi Minh,None,Miễn phí,93,100,100,0,0,0,0,0\n"
     ]
    },
    {
     "name": "stderr",
     "output_type": "stream",
     "text": [
      "\r",
      "Processing rows:  72%|███████▏  | 862/1200 [40:30<14:35,  2.59s/it]"
     ]
    },
    {
     "name": "stdout",
     "output_type": "stream",
     "text": [
      "laptop,3381240,48,6,4,Ho Chi Minh,6500000,27300,96,100,100,0,0,0,0,4\n"
     ]
    },
    {
     "name": "stderr",
     "output_type": "stream",
     "text": [
      "\r",
      "Processing rows:  72%|███████▏  | 863/1200 [40:33<15:47,  2.81s/it]"
     ]
    },
    {
     "name": "stdout",
     "output_type": "stream",
     "text": [
      "laptop,14990000,9,nan,nan,Ho Chi Minh,16490000,9700,97,98,89,0,0,0,0,0\n"
     ]
    },
    {
     "name": "stderr",
     "output_type": "stream",
     "text": [
      "\r",
      "Processing rows:  72%|███████▏  | 864/1200 [40:37<16:33,  2.96s/it]"
     ]
    },
    {
     "name": "stdout",
     "output_type": "stream",
     "text": [
      "laptop,2660000,25,153,43,Hung Yen,3560000,90400,91,65,100,1,4,2,10,26\n"
     ]
    },
    {
     "name": "stderr",
     "output_type": "stream",
     "text": [
      "\r",
      "Processing rows:  72%|███████▏  | 865/1200 [40:39<15:13,  2.73s/it]"
     ]
    },
    {
     "name": "stdout",
     "output_type": "stream",
     "text": [
      "laptop,27990000,26,None,None,Ho Chi Minh,37999000,21200,99,97,99,0,0,0,0,0\n"
     ]
    },
    {
     "name": "stderr",
     "output_type": "stream",
     "text": [
      "\r",
      "Processing rows:  72%|███████▏  | 866/1200 [40:41<14:44,  2.65s/it]"
     ]
    },
    {
     "name": "stdout",
     "output_type": "stream",
     "text": [
      "laptop,60420400,None,None,None,Hanoi,None,74400,92,None,None,0,0,0,0,0\n"
     ]
    },
    {
     "name": "stderr",
     "output_type": "stream",
     "text": [
      "\r",
      "Processing rows:  72%|███████▏  | 867/1200 [40:46<17:17,  3.12s/it]"
     ]
    },
    {
     "name": "stdout",
     "output_type": "stream",
     "text": [
      "laptop,2500000,22,8,4,Ha Noi,3200000,62600,91,75,100,0,0,0,1,3\n"
     ]
    },
    {
     "name": "stderr",
     "output_type": "stream",
     "text": [
      "\r",
      "Processing rows:  72%|███████▏  | 868/1200 [40:48<16:21,  2.96s/it]"
     ]
    },
    {
     "name": "stdout",
     "output_type": "stream",
     "text": [
      "laptop,2800000,20,nan,nan,Ho Chi Minh,3500000,27300,96,100,80,0,0,0,0,0\n"
     ]
    },
    {
     "name": "stderr",
     "output_type": "stream",
     "text": [
      "\r",
      "Processing rows:  72%|███████▏  | 869/1200 [40:51<15:43,  2.85s/it]"
     ]
    },
    {
     "name": "stdout",
     "output_type": "stream",
     "text": [
      "laptop,1500000,25,nan,2,Ho Chi Minh,2000000,100,91,100,100,0,0,0,0,2\n"
     ]
    },
    {
     "name": "stderr",
     "output_type": "stream",
     "text": [
      "\r",
      "Processing rows:  72%|███████▎  | 870/1200 [40:53<15:34,  2.83s/it]"
     ]
    },
    {
     "name": "stdout",
     "output_type": "stream",
     "text": [
      "laptop,11000000,13,nan,nan,Hanoi,12650000,64700,100,nan,nan,0,0,0,0,1\n"
     ]
    },
    {
     "name": "stderr",
     "output_type": "stream",
     "text": [
      "\r",
      "Processing rows:  73%|███████▎  | 871/1200 [40:56<15:37,  2.85s/it]"
     ]
    },
    {
     "name": "stdout",
     "output_type": "stream",
     "text": [
      "laptop,2990000,None,19,9,Hung Yen,None,90400,91,65,100,0,0,0,1,8\n"
     ]
    },
    {
     "name": "stderr",
     "output_type": "stream",
     "text": [
      "\r",
      "Processing rows:  73%|███████▎  | 872/1200 [40:59<15:29,  2.83s/it]"
     ]
    },
    {
     "name": "stdout",
     "output_type": "stream",
     "text": [
      "laptop,8800000,None,24,7,Hà Nội,None,38000,97,100,100,0,0,0,0,7\n"
     ]
    },
    {
     "name": "stderr",
     "output_type": "stream",
     "text": [
      "\r",
      "Processing rows:  73%|███████▎  | 873/1200 [41:03<16:21,  3.00s/it]"
     ]
    },
    {
     "name": "stdout",
     "output_type": "stream",
     "text": [
      "laptop,18370000,13,nan,nan,Hanoi,21130000,64700,100,nan,nan,0,0,0,0,0\n"
     ]
    },
    {
     "name": "stderr",
     "output_type": "stream",
     "text": [
      "\r",
      "Processing rows:  73%|███████▎  | 874/1200 [41:05<15:04,  2.77s/it]"
     ]
    },
    {
     "name": "stdout",
     "output_type": "stream",
     "text": [
      "laptop,18370000,13,nan,nan,Hanoi,21130000,64700,100,nan,nan,0,0,0,0,0\n"
     ]
    },
    {
     "name": "stderr",
     "output_type": "stream",
     "text": [
      "\r",
      "Processing rows:  73%|███████▎  | 875/1200 [41:08<15:15,  2.82s/it]"
     ]
    },
    {
     "name": "stdout",
     "output_type": "stream",
     "text": [
      "laptop,6620111,53,nan,1,Ho Chi Minh,15999999,97,81,100,0,0,0,0,1\n"
     ]
    },
    {
     "name": "stderr",
     "output_type": "stream",
     "text": [
      "\r",
      "Processing rows:  73%|███████▎  | 876/1200 [41:10<14:46,  2.74s/it]"
     ]
    },
    {
     "name": "stdout",
     "output_type": "stream",
     "text": [
      "laptop,13200000,13,nan,nan,Ha Noi,15180000,64700,100,nan,nan,0,0,0,0,0\n"
     ]
    },
    {
     "name": "stderr",
     "output_type": "stream",
     "text": [
      "\r",
      "Processing rows:  73%|███████▎  | 877/1200 [41:14<15:35,  2.90s/it]"
     ]
    },
    {
     "name": "stdout",
     "output_type": "stream",
     "text": [
      "laptop,24750000,13,nan,nan,Hanoi,28460000,74400,100,nan,nan,0,0,0,0,0\n"
     ]
    },
    {
     "name": "stderr",
     "output_type": "stream",
     "text": [
      "\r",
      "Processing rows:  73%|███████▎  | 878/1200 [41:16<15:07,  2.82s/it]"
     ]
    },
    {
     "name": "stdout",
     "output_type": "stream",
     "text": [
      "laptop,1650000,None,None,None,Ho Chi Minh,None,27300,100,100,None,0,0,0,0,0\n"
     ]
    },
    {
     "name": "stderr",
     "output_type": "stream",
     "text": [
      "\r",
      "Processing rows:  73%|███████▎  | 879/1200 [41:18<13:43,  2.57s/it]"
     ]
    },
    {
     "name": "stdout",
     "output_type": "stream",
     "text": [
      "laptop,39999000,None,7,None,Ho Chi Minh,None,Mien phi,97,100,100,0,0,0,0,0\n"
     ]
    },
    {
     "name": "stderr",
     "output_type": "stream",
     "text": [
      "\r",
      "Processing rows:  73%|███████▎  | 880/1200 [41:21<13:49,  2.59s/it]"
     ]
    },
    {
     "name": "stdout",
     "output_type": "stream",
     "text": [
      "laptop,11999999,8,None,None,Ho Chi Minh,12999999,100,96,100,100,0,0,0,0,0\n"
     ]
    },
    {
     "name": "stderr",
     "output_type": "stream",
     "text": [
      "\r",
      "Processing rows:  73%|███████▎  | 881/1200 [41:24<14:38,  2.75s/it]"
     ]
    },
    {
     "name": "stdout",
     "output_type": "stream",
     "text": [
      "laptop,4388000,None,None,None,Nghệ An,None,63300,94,92,91,0,0,0,0,0\n"
     ]
    },
    {
     "name": "stderr",
     "output_type": "stream",
     "text": [
      "\r",
      "Processing rows:  74%|███████▎  | 882/1200 [41:27<14:50,  2.80s/it]"
     ]
    },
    {
     "name": "stdout",
     "output_type": "stream",
     "text": [
      "laptop,4199000,None,None,None,Quang Tri,None,100,97,None,None,0,0,0,0,0\n"
     ]
    },
    {
     "name": "stderr",
     "output_type": "stream",
     "text": [
      "\r",
      "Processing rows:  74%|███████▎  | 883/1200 [41:30<15:27,  2.93s/it]"
     ]
    },
    {
     "name": "stdout",
     "output_type": "stream",
     "text": [
      "laptop,2870000,None,None,None,Hanoi,None,100,98,100,100,0,0,0,0,0\n"
     ]
    },
    {
     "name": "stderr",
     "output_type": "stream",
     "text": [
      "\r",
      "Processing rows:  74%|███████▎  | 884/1200 [41:33<14:40,  2.79s/it]"
     ]
    },
    {
     "name": "stdout",
     "output_type": "stream",
     "text": [
      "laptop,1799000,None,67,17,Dong Nai,None,65500,96,50,50,1,0,0,0,17\n"
     ]
    },
    {
     "name": "stderr",
     "output_type": "stream",
     "text": [
      "\r",
      "Processing rows:  74%|███████▍  | 885/1200 [41:35<13:29,  2.57s/it]"
     ]
    },
    {
     "name": "stdout",
     "output_type": "stream",
     "text": [
      "laptop,1800000,None,30,12,Hung Yen,None,63300,91,65,100,0,0,0,1,11\n"
     ]
    },
    {
     "name": "stderr",
     "output_type": "stream",
     "text": [
      "\r",
      "Processing rows:  74%|███████▍  | 886/1200 [41:37<13:49,  2.64s/it]"
     ]
    },
    {
     "name": "stdout",
     "output_type": "stream",
     "text": [
      "laptop,990000,42,None,2,Thanh Hoa,1699989,70000,86,100,None,0,1,0,0,1\n"
     ]
    },
    {
     "name": "stderr",
     "output_type": "stream",
     "text": [
      "\r",
      "Processing rows:  74%|███████▍  | 887/1200 [41:40<13:40,  2.62s/it]"
     ]
    },
    {
     "name": "stdout",
     "output_type": "stream",
     "text": [
      "laptop,1099000,None,None,None,Hanoi,None,63400,93,92,78,0,0,0,0,0\n"
     ]
    },
    {
     "name": "stderr",
     "output_type": "stream",
     "text": [
      "\r",
      "Processing rows:  74%|███████▍  | 888/1200 [41:43<13:55,  2.68s/it]"
     ]
    },
    {
     "name": "stdout",
     "output_type": "stream",
     "text": [
      "laptop,1200000,14,nan,2,Ho Chi Minh,1400000,13800,90,100,100,0,0,0,0,2\n"
     ]
    },
    {
     "name": "stderr",
     "output_type": "stream",
     "text": [
      "\r",
      "Processing rows:  74%|███████▍  | 889/1200 [41:46<13:56,  2.69s/it]"
     ]
    },
    {
     "name": "stdout",
     "output_type": "stream",
     "text": [
      "laptop,2000000,50,11,1,Ho Chi Minh,4000000,20100,67,None,None,0,0,0,0,1\n"
     ]
    },
    {
     "name": "stderr",
     "output_type": "stream",
     "text": [
      "\r",
      "Processing rows:  74%|███████▍  | 890/1200 [41:48<13:48,  2.67s/it]"
     ]
    },
    {
     "name": "stdout",
     "output_type": "stream",
     "text": [
      "laptop,1900000,5,33,14,Ho Chi Minh,2000000,13800,90,100,100,0,0,1,1,12\n"
     ]
    },
    {
     "name": "stderr",
     "output_type": "stream",
     "text": [
      "\r",
      "Processing rows:  74%|███████▍  | 891/1200 [41:51<14:19,  2.78s/it]"
     ]
    },
    {
     "name": "stdout",
     "output_type": "stream",
     "text": [
      "laptop,4526000,43,210,69,Hà Nội,8000000,74400,95,100,90,0,1,1,2,65\n"
     ]
    },
    {
     "name": "stderr",
     "output_type": "stream",
     "text": [
      "\r",
      "Processing rows:  74%|███████▍  | 892/1200 [41:54<13:41,  2.67s/it]"
     ]
    },
    {
     "name": "stdout",
     "output_type": "stream",
     "text": [
      "laptop,7750000,28,119,11,Ha Noi,None,None,None,None,None,0,0,0,0,11\n"
     ]
    },
    {
     "name": "stderr",
     "output_type": "stream",
     "text": [
      "\r",
      "Processing rows:  74%|███████▍  | 893/1200 [41:56<12:50,  2.51s/it]"
     ]
    },
    {
     "name": "stdout",
     "output_type": "stream",
     "text": [
      "laptop,2100000,None,None,None,Hanoi,None,Miễn phí,None,None,None,0,0,0,0,0\n"
     ]
    },
    {
     "name": "stderr",
     "output_type": "stream",
     "text": [
      "\r",
      "Processing rows:  74%|███████▍  | 894/1200 [41:59<14:24,  2.82s/it]"
     ]
    },
    {
     "name": "stdout",
     "output_type": "stream",
     "text": [
      "laptop,14599000,25,nan,nan,Ho Chi Minh,19490000,27300,93,100,nan,0,0,0,0,0\n"
     ]
    },
    {
     "name": "stderr",
     "output_type": "stream",
     "text": [
      "\r",
      "Processing rows:  75%|███████▍  | 895/1200 [42:02<14:06,  2.78s/it]"
     ]
    },
    {
     "name": "stdout",
     "output_type": "stream",
     "text": [
      "laptop,1950000,None,None,None,Ho Chi Minh,None,19600,None,None,100,0,0,0,0,0\n"
     ]
    },
    {
     "name": "stderr",
     "output_type": "stream",
     "text": [
      "\r",
      "Processing rows:  75%|███████▍  | 896/1200 [42:04<13:42,  2.71s/it]"
     ]
    },
    {
     "name": "stdout",
     "output_type": "stream",
     "text": [
      "laptop,1900000,5,11,5,Ho Chi Minh,2000000,13800,90,100,100,0,0,0,0,5\n"
     ]
    },
    {
     "name": "stderr",
     "output_type": "stream",
     "text": [
      "\r",
      "Processing rows:  75%|███████▍  | 897/1200 [42:07<13:54,  2.75s/it]"
     ]
    },
    {
     "name": "stdout",
     "output_type": "stream",
     "text": [
      "laptop,2128000,None,18,3,Hà Nội,None,64700,79,84,96,1,0,0,0,2\n"
     ]
    },
    {
     "name": "stderr",
     "output_type": "stream",
     "text": [
      "\r",
      "Processing rows:  75%|███████▍  | 898/1200 [42:10<13:13,  2.63s/it]"
     ]
    },
    {
     "name": "stdout",
     "output_type": "stream",
     "text": [
      "laptop,2500000,None,None,None,Dong Nai,None,40300,None,None,100,0,0,0,0,0\n"
     ]
    },
    {
     "name": "stderr",
     "output_type": "stream",
     "text": [
      "\r",
      "Processing rows:  75%|███████▍  | 899/1200 [42:12<13:16,  2.65s/it]"
     ]
    },
    {
     "name": "stdout",
     "output_type": "stream",
     "text": [
      "laptop,3650000,None,None,None,Hung Yen,None,43900,100,98,100,0,0,0,0,0\n"
     ]
    },
    {
     "name": "stderr",
     "output_type": "stream",
     "text": [
      "\r",
      "Processing rows:  75%|███████▌  | 900/1200 [42:14<12:23,  2.48s/it]"
     ]
    },
    {
     "name": "stdout",
     "output_type": "stream",
     "text": [
      "laptop,24610000,None,6,None,Ho Chi Minh,None,74700,92,20,83,0,0,0,0,0\n"
     ]
    },
    {
     "name": "stderr",
     "output_type": "stream",
     "text": [
      "\r",
      "Processing rows:  75%|███████▌  | 901/1200 [42:17<12:09,  2.44s/it]"
     ]
    },
    {
     "name": "stdout",
     "output_type": "stream",
     "text": [
      "laptop,900000,None,None,None,Ho Chi Minh,None,Miễn phí,93,100,100,0,0,0,0,0\n"
     ]
    },
    {
     "name": "stderr",
     "output_type": "stream",
     "text": [
      "\r",
      "Processing rows:  75%|███████▌  | 902/1200 [42:19<12:19,  2.48s/it]"
     ]
    },
    {
     "name": "stdout",
     "output_type": "stream",
     "text": [
      "laptop,3800000,37,None,None,Ho Chi Minh,7500000,100,96,100,100,0,0,0,0,0\n"
     ]
    },
    {
     "name": "stderr",
     "output_type": "stream",
     "text": [
      "\r",
      "Processing rows:  75%|███████▌  | 903/1200 [42:23<13:14,  2.67s/it]"
     ]
    },
    {
     "name": "stdout",
     "output_type": "stream",
     "text": [
      "laptop,13500000,12,None,None,Ho Chi Minh,15400000,30900,96,100,None,0,0,0,0,0\n"
     ]
    },
    {
     "name": "stderr",
     "output_type": "stream",
     "text": [
      "\r",
      "Processing rows:  75%|███████▌  | 904/1200 [42:25<13:27,  2.73s/it]"
     ]
    },
    {
     "name": "stdout",
     "output_type": "stream",
     "text": [
      "laptop,6900000,None,13,5,Hung Yen,None,70000,91,65,100,1,0,1,1,2\n"
     ]
    },
    {
     "name": "stderr",
     "output_type": "stream",
     "text": [
      "\r",
      "Processing rows:  75%|███████▌  | 905/1200 [42:28<12:56,  2.63s/it]"
     ]
    },
    {
     "name": "stdout",
     "output_type": "stream",
     "text": [
      "laptop,3900000,None,None,None,Hung Yen,None,70000,91,65,100,0,0,0,0,0\n"
     ]
    },
    {
     "name": "stderr",
     "output_type": "stream",
     "text": [
      "\r",
      "Processing rows:  76%|███████▌  | 906/1200 [42:31<13:14,  2.70s/it]"
     ]
    },
    {
     "name": "stdout",
     "output_type": "stream",
     "text": [
      "laptop,2610000,48,None,None,Ho Chi Minh,5000000,23800,96,100,100,0,0,0,0,0\n"
     ]
    },
    {
     "name": "stderr",
     "output_type": "stream",
     "text": [
      "\r",
      "Processing rows:  76%|███████▌  | 907/1200 [42:33<13:25,  2.75s/it]"
     ]
    },
    {
     "name": "stdout",
     "output_type": "stream",
     "text": [
      "laptop,2450000,18,6,4,Ha Noi,3000000,55400,95,100,100,0,0,0,1,2\n"
     ]
    },
    {
     "name": "stderr",
     "output_type": "stream",
     "text": [
      "\r",
      "Processing rows:  76%|███████▌  | 908/1200 [42:37<14:35,  3.00s/it]"
     ]
    },
    {
     "name": "stdout",
     "output_type": "stream",
     "text": [
      "laptop,14790000,10,nan,nan,Ho Chi Minh,16490000,nan,96,nan,81,0,0,0,0,0\n"
     ]
    },
    {
     "name": "stderr",
     "output_type": "stream",
     "text": [
      "\r",
      "Processing rows:  76%|███████▌  | 909/1200 [42:40<14:13,  2.93s/it]"
     ]
    },
    {
     "name": "stdout",
     "output_type": "stream",
     "text": [
      "laptop,5990000,9,nan,2,Thanh Hoa,6590000,56800,96,100,66,1,0,0,0,1\n"
     ]
    },
    {
     "name": "stderr",
     "output_type": "stream",
     "text": [
      "\r",
      "Processing rows:  76%|███████▌  | 910/1200 [42:42<13:17,  2.75s/it]"
     ]
    },
    {
     "name": "stdout",
     "output_type": "stream",
     "text": [
      "laptop,3149000,54,12,4,Ho Chi Minh,6800000,27300,96,100,100,0,0,0,0,4\n"
     ]
    },
    {
     "name": "stderr",
     "output_type": "stream",
     "text": [
      "\r",
      "Processing rows:  76%|███████▌  | 911/1200 [42:45<13:47,  2.86s/it]"
     ]
    },
    {
     "name": "stdout",
     "output_type": "stream",
     "text": [
      "laptop,5350000,47,None,None,Hà Nội,10000000,84600,94,100,82,0,0,0,0,0\n"
     ]
    },
    {
     "name": "stderr",
     "output_type": "stream",
     "text": [
      "\r",
      "Processing rows:  76%|███████▌  | 912/1200 [42:49<14:18,  2.98s/it]"
     ]
    },
    {
     "name": "stdout",
     "output_type": "stream",
     "text": [
      "laptop,8999000,None,24,6,Hung Yen,None,70000,91,65,100,0,0,1,0,5\n"
     ]
    },
    {
     "name": "stderr",
     "output_type": "stream",
     "text": [
      "\r",
      "Processing rows:  76%|███████▌  | 913/1200 [42:51<13:58,  2.92s/it]"
     ]
    },
    {
     "name": "stdout",
     "output_type": "stream",
     "text": [
      "laptop,2990000,None,5,0,Hung Yen,None,56800,91,65,100,0,0,0,0,1\n"
     ]
    },
    {
     "name": "stderr",
     "output_type": "stream",
     "text": [
      "\r",
      "Processing rows:  76%|███████▌  | 914/1200 [42:55<14:34,  3.06s/it]"
     ]
    },
    {
     "name": "stdout",
     "output_type": "stream",
     "text": [
      "laptop,1950000,25,nan,nan,Hà Nội,2600000,55400,95,100,100,0,0,0,0,0\n"
     ]
    },
    {
     "name": "stderr",
     "output_type": "stream",
     "text": [
      "\r",
      "Processing rows:  76%|███████▋  | 915/1200 [42:58<14:34,  3.07s/it]"
     ]
    },
    {
     "name": "stdout",
     "output_type": "stream",
     "text": [
      "laptop,24750000,13,nan,nan,Hanoi,28460000,64700,100,nan,nan,0,0,0,0,0\n"
     ]
    },
    {
     "name": "stderr",
     "output_type": "stream",
     "text": [
      "\r",
      "Processing rows:  76%|███████▋  | 916/1200 [43:00<13:53,  2.94s/it]"
     ]
    },
    {
     "name": "stdout",
     "output_type": "stream",
     "text": [
      "laptop,1700000,None,None,None,Hung Yen,None,80200,91,65,100,0,0,0,0,0\n"
     ]
    },
    {
     "name": "stderr",
     "output_type": "stream",
     "text": [
      "\r",
      "Processing rows:  76%|███████▋  | 917/1200 [43:04<14:13,  3.02s/it]"
     ]
    },
    {
     "name": "stdout",
     "output_type": "stream",
     "text": [
      "laptop,11490000,12,None,None,Ho Chi Minh,12990000,None,96,None,81,0,0,0,0,0\n"
     ]
    },
    {
     "name": "stderr",
     "output_type": "stream",
     "text": [
      "\r",
      "Processing rows:  76%|███████▋  | 918/1200 [43:07<14:35,  3.11s/it]"
     ]
    },
    {
     "name": "stdout",
     "output_type": "stream",
     "text": [
      "laptop,20950000,7,nan,nan,Ho Chi Minh,22590000,100,94,86,100,0,0,0,0,0\n"
     ]
    },
    {
     "name": "stderr",
     "output_type": "stream",
     "text": [
      "\r",
      "Processing rows:  77%|███████▋  | 919/1200 [43:10<14:23,  3.07s/it]"
     ]
    },
    {
     "name": "stdout",
     "output_type": "stream",
     "text": [
      "laptop,2900000,None,None,None,Hanoi,None,32700,None,None,None,0,0,0,0,0\n"
     ]
    },
    {
     "name": "stderr",
     "output_type": "stream",
     "text": [
      "\r",
      "Processing rows:  77%|███████▋  | 920/1200 [43:13<14:31,  3.11s/it]"
     ]
    },
    {
     "name": "stdout",
     "output_type": "stream",
     "text": [
      "laptop,5500000,None,None,1,Ho Chi Minh,None,100,97,100,100,0,0,0,0,1\n"
     ]
    },
    {
     "name": "stderr",
     "output_type": "stream",
     "text": [
      "\r",
      "Processing rows:  77%|███████▋  | 921/1200 [43:16<14:45,  3.17s/it]"
     ]
    },
    {
     "name": "stdout",
     "output_type": "stream",
     "text": [
      "laptop,400000,1,nan,nan,Nuoc ngai,935000,100,nan,33,nan,0,0,0,0,0\n"
     ]
    },
    {
     "name": "stderr",
     "output_type": "stream",
     "text": [
      "\r",
      "Processing rows:  77%|███████▋  | 922/1200 [43:19<14:19,  3.09s/it]"
     ]
    },
    {
     "name": "stdout",
     "output_type": "stream",
     "text": [
      "laptop,2970000,None,None,None,Hanoi,None,100,98,100,100,0,0,0,0,0\n"
     ]
    },
    {
     "name": "stderr",
     "output_type": "stream",
     "text": [
      "\r",
      "Processing rows:  77%|███████▋  | 923/1200 [43:22<13:39,  2.96s/it]"
     ]
    },
    {
     "name": "stdout",
     "output_type": "stream",
     "text": [
      "laptop,2290000,50,nan,2,Ho Chi Minh,4580000,9100,91,100,80,0,0,0,0,2\n"
     ]
    },
    {
     "name": "stderr",
     "output_type": "stream",
     "text": [
      "\r",
      "Processing rows:  77%|███████▋  | 924/1200 [43:25<13:17,  2.89s/it]"
     ]
    },
    {
     "name": "stdout",
     "output_type": "stream",
     "text": [
      "laptop,1799000,None,59,15,Dong Nai,None,100,96,50,50,0,0,0,0,15\n"
     ]
    },
    {
     "name": "stderr",
     "output_type": "stream",
     "text": [
      "\r",
      "Processing rows:  77%|███████▋  | 925/1200 [43:28<13:24,  2.92s/it]"
     ]
    },
    {
     "name": "stdout",
     "output_type": "stream",
     "text": [
      "laptop,1990000,50,25,8,Ho Chi Minh,3980000,9100,91,100,80,0,0,0,1,7\n"
     ]
    },
    {
     "name": "stderr",
     "output_type": "stream",
     "text": [
      "\r",
      "Processing rows:  77%|███████▋  | 926/1200 [43:30<12:57,  2.84s/it]"
     ]
    },
    {
     "name": "stdout",
     "output_type": "stream",
     "text": [
      "laptop,1000000,None,None,None,Tien Giang,None,40300,82,86,87,0,0,0,0,0\n"
     ]
    },
    {
     "name": "stderr",
     "output_type": "stream",
     "text": [
      "\r",
      "Processing rows:  77%|███████▋  | 927/1200 [43:32<11:49,  2.60s/it]"
     ]
    },
    {
     "name": "stdout",
     "output_type": "stream",
     "text": [
      "laptop,2500000,None,None,None,Dong Nai,None,65500,None,None,100,0,0,0,0,0\n"
     ]
    },
    {
     "name": "stderr",
     "output_type": "stream",
     "text": [
      "\r",
      "Processing rows:  77%|███████▋  | 928/1200 [43:35<11:43,  2.59s/it]"
     ]
    },
    {
     "name": "stdout",
     "output_type": "stream",
     "text": [
      "laptop,2750000,None,None,None,Dong Nai,None,40300,None,None,100,0,0,0,0,0\n"
     ]
    },
    {
     "name": "stderr",
     "output_type": "stream",
     "text": [
      "\r",
      "Processing rows:  77%|███████▋  | 929/1200 [43:37<11:21,  2.51s/it]"
     ]
    },
    {
     "name": "stdout",
     "output_type": "stream",
     "text": [
      "laptop,3570000,12,7,4,Hà Nội,4070000,100,98,100,100,0,1,0,0,3\n"
     ]
    },
    {
     "name": "stderr",
     "output_type": "stream",
     "text": [
      "\r",
      "Processing rows:  78%|███████▊  | 930/1200 [43:41<12:41,  2.82s/it]"
     ]
    },
    {
     "name": "stdout",
     "output_type": "stream",
     "text": [
      "laptop,6500000,None,None,None,Ho Chi Minh,None,27300,None,None,None,0,0,0,0,0\n"
     ]
    },
    {
     "name": "stderr",
     "output_type": "stream",
     "text": [
      "\r",
      "Processing rows:  78%|███████▊  | 931/1200 [43:44<12:28,  2.78s/it]"
     ]
    },
    {
     "name": "stdout",
     "output_type": "stream",
     "text": [
      "laptop,6569000,None,77,11,Hung Yen,None,37700,97,100,100,0,0,0,1,10\n"
     ]
    },
    {
     "name": "stderr",
     "output_type": "stream",
     "text": [
      "\r",
      "Processing rows:  78%|███████▊  | 932/1200 [43:48<14:05,  3.15s/it]"
     ]
    },
    {
     "name": "stdout",
     "output_type": "stream",
     "text": [
      "laptop,27950000,7,nan,nan,Ho Chi Minh,35990000,19600,97,67,100,0,0,0,0,0\n"
     ]
    },
    {
     "name": "stderr",
     "output_type": "stream",
     "text": [
      "\r",
      "Processing rows:  78%|███████▊  | 933/1200 [43:50<13:30,  3.04s/it]"
     ]
    },
    {
     "name": "stdout",
     "output_type": "stream",
     "text": [
      "laptop,4893899,11,24,19,Hà Nội,None,100,98,100,100,0,0,0,0,20\n"
     ]
    },
    {
     "name": "stderr",
     "output_type": "stream",
     "text": [
      "\r",
      "Processing rows:  78%|███████▊  | 934/1200 [43:53<13:21,  3.01s/it]"
     ]
    },
    {
     "name": "stdout",
     "output_type": "stream",
     "text": [
      "laptop,4800000,None,196,65,Nam Dinh,None,56800,99,100,100,0,0,0,0,65\n"
     ]
    },
    {
     "name": "stderr",
     "output_type": "stream",
     "text": [
      "\r",
      "Processing rows:  78%|███████▊  | 935/1200 [43:56<13:28,  3.05s/it]"
     ]
    },
    {
     "name": "stdout",
     "output_type": "stream",
     "text": [
      "laptop,32940000,6,9,None,Ho Chi Minh,39900000,19600,97,67,100,0,0,0,0,0\n"
     ]
    },
    {
     "name": "stderr",
     "output_type": "stream",
     "text": [
      "\r",
      "Processing rows:  78%|███████▊  | 936/1200 [44:00<14:09,  3.22s/it]"
     ]
    },
    {
     "name": "stdout",
     "output_type": "stream",
     "text": [
      "laptop,8566770,None,None,None,Hung Yen,None,37700,100,98,100,0,0,0,0,0\n"
     ]
    },
    {
     "name": "stderr",
     "output_type": "stream",
     "text": [
      "\r",
      "Processing rows:  78%|███████▊  | 937/1200 [44:03<14:06,  3.22s/it]"
     ]
    },
    {
     "name": "stdout",
     "output_type": "stream",
     "text": [
      "laptop,11999000,29,None,None,Ho Chi Minh,16990000,27300,93,100,None,0,0,0,0,0\n"
     ]
    },
    {
     "name": "stderr",
     "output_type": "stream",
     "text": [
      "\r",
      "Processing rows:  78%|███████▊  | 938/1200 [44:06<13:48,  3.16s/it]"
     ]
    },
    {
     "name": "stdout",
     "output_type": "stream",
     "text": [
      "laptop,15490000,3,nan,nan,Ho Chi Minh,15990000,nan,96,nan,81,0,0,0,0,0\n"
     ]
    },
    {
     "name": "stderr",
     "output_type": "stream",
     "text": [
      "\r",
      "Processing rows:  78%|███████▊  | 939/1200 [44:10<14:00,  3.22s/it]"
     ]
    },
    {
     "name": "stdout",
     "output_type": "stream",
     "text": [
      "laptop,7549557,42,49,27,Ho Chi Minh,15954300,98,nan,nan,0,0,0,0,27\n"
     ]
    },
    {
     "name": "stderr",
     "output_type": "stream",
     "text": [
      "\r",
      "Processing rows:  78%|███████▊  | 940/1200 [44:12<13:23,  3.09s/it]"
     ]
    },
    {
     "name": "stdout",
     "output_type": "stream",
     "text": [
      "laptop,19569000,22,None,None,Ho Chi Minh,25000000,38000,99,None,None,0,0,0,0,0\n"
     ]
    },
    {
     "name": "stderr",
     "output_type": "stream",
     "text": [
      "\r",
      "Processing rows:  78%|███████▊  | 941/1200 [44:15<13:12,  3.06s/it]"
     ]
    },
    {
     "name": "stdout",
     "output_type": "stream",
     "text": [
      "laptop,12600000,None,None,None,Hanoi,None,100,98,100,100,0,0,0,0,0\n"
     ]
    },
    {
     "name": "stderr",
     "output_type": "stream",
     "text": [
      "\r",
      "Processing rows:  78%|███████▊  | 942/1200 [44:18<12:36,  2.93s/it]"
     ]
    },
    {
     "name": "stdout",
     "output_type": "stream",
     "text": [
      "laptop,20390000,None,None,None,Hanoi,None,38000,None,None,None,0,0,0,0,0\n"
     ]
    },
    {
     "name": "stderr",
     "output_type": "stream",
     "text": [
      "\r",
      "Processing rows:  79%|███████▊  | 943/1200 [44:21<12:40,  2.96s/it]"
     ]
    },
    {
     "name": "stdout",
     "output_type": "stream",
     "text": [
      "laptop,5750000,None,6,None,Thai Binh,None,100,95,100,None,0,0,0,0,0\n"
     ]
    },
    {
     "name": "stderr",
     "output_type": "stream",
     "text": [
      "\r",
      "Processing rows:  79%|███████▊  | 944/1200 [44:24<12:12,  2.86s/it]"
     ]
    },
    {
     "name": "stdout",
     "output_type": "stream",
     "text": [
      "laptop,16990000,17,nan,1,Ho Chi Minh,20490000,nan,96,nan,81,0,0,0,0,1\n"
     ]
    },
    {
     "name": "stderr",
     "output_type": "stream",
     "text": [
      "\r",
      "Processing rows:  79%|███████▉  | 945/1200 [44:27<12:16,  2.89s/it]"
     ]
    },
    {
     "name": "stdout",
     "output_type": "stream",
     "text": [
      "laptop,8500000,None,None,1,Thanh Hoa,None,Miễn phí,92,None,33,0,0,0,0,1\n"
     ]
    },
    {
     "name": "stderr",
     "output_type": "stream",
     "text": [
      "\r",
      "Processing rows:  79%|███████▉  | 946/1200 [44:29<12:03,  2.85s/it]"
     ]
    },
    {
     "name": "stdout",
     "output_type": "stream",
     "text": [
      "laptop,11290000,2,nan,nan,Ho Chi Minh,11490000,nan,96,nan,81,0,0,0,0,0\n"
     ]
    },
    {
     "name": "stderr",
     "output_type": "stream",
     "text": [
      "\r",
      "Processing rows:  79%|███████▉  | 947/1200 [44:32<11:45,  2.79s/it]"
     ]
    },
    {
     "name": "stdout",
     "output_type": "stream",
     "text": [
      "laptop,21799000,13,8,None,Ho Chi Minh,25000000,23800,93,100,None,0,0,0,0,0\n"
     ]
    },
    {
     "name": "stderr",
     "output_type": "stream",
     "text": [
      "\r",
      "Processing rows:  79%|███████▉  | 948/1200 [44:35<11:29,  2.74s/it]"
     ]
    },
    {
     "name": "stdout",
     "output_type": "stream",
     "text": [
      "laptop,18370000,17,5,1,Ha Noi,22044000,64700,99,83,40,0,0,0,0,1\n"
     ]
    },
    {
     "name": "stderr",
     "output_type": "stream",
     "text": [
      "\r",
      "Processing rows:  79%|███████▉  | 949/1200 [44:38<11:31,  2.76s/it]"
     ]
    },
    {
     "name": "stdout",
     "output_type": "stream",
     "text": [
      "laptop,10307500,None,None,1,Ho Chi Minh,None,74700,92,20,83,0,0,0,0,1\n"
     ]
    },
    {
     "name": "stderr",
     "output_type": "stream",
     "text": [
      "\r",
      "Processing rows:  79%|███████▉  | 950/1200 [44:40<11:42,  2.81s/it]"
     ]
    },
    {
     "name": "stdout",
     "output_type": "stream",
     "text": [
      "laptop,7990000,None,None,None,Hanoi,None,100,95,None,40,0,0,0,0,0\n"
     ]
    },
    {
     "name": "stderr",
     "output_type": "stream",
     "text": [
      "\r",
      "Processing rows:  79%|███████▉  | 951/1200 [44:43<11:49,  2.85s/it]"
     ]
    },
    {
     "name": "stdout",
     "output_type": "stream",
     "text": [
      "laptop,9630000,None,19,None,Ho Chi Minh,None,52300,92,20,83,0,0,0,0,0\n"
     ]
    },
    {
     "name": "stderr",
     "output_type": "stream",
     "text": [
      "\r",
      "Processing rows:  79%|███████▉  | 952/1200 [44:46<11:57,  2.89s/it]"
     ]
    },
    {
     "name": "stdout",
     "output_type": "stream",
     "text": [
      "laptop,8990000,18,None,None,Ho Chi Minh,10990000,None,96,None,81,0,0,0,0,0\n"
     ]
    },
    {
     "name": "stderr",
     "output_type": "stream",
     "text": [
      "\r",
      "Processing rows:  79%|███████▉  | 953/1200 [44:49<11:43,  2.85s/it]"
     ]
    },
    {
     "name": "stdout",
     "output_type": "stream",
     "text": [
      "laptop,25990000,None,6,1,Ho Chi Minh,None,23800,100,None,None,0,0,0,0,1\n"
     ]
    },
    {
     "name": "stderr",
     "output_type": "stream",
     "text": [
      "\r",
      "Processing rows:  80%|███████▉  | 954/1200 [44:52<11:35,  2.83s/it]"
     ]
    },
    {
     "name": "stdout",
     "output_type": "stream",
     "text": [
      "laptop,16500000,None,None,None,Ho Chi Minh,None,27300,None,None,None,0,0,0,0,0\n"
     ]
    },
    {
     "name": "stderr",
     "output_type": "stream",
     "text": [
      "\r",
      "Processing rows:  80%|███████▉  | 955/1200 [44:55<11:17,  2.76s/it]"
     ]
    },
    {
     "name": "stdout",
     "output_type": "stream",
     "text": [
      "laptop,20143200,25,5,None,Ho Chi Minh,44899000,100,97,100,100,0,0,0,0,0\n"
     ]
    },
    {
     "name": "stderr",
     "output_type": "stream",
     "text": [
      "\r",
      "Processing rows:  80%|███████▉  | 956/1200 [44:57<10:55,  2.69s/it]"
     ]
    },
    {
     "name": "stdout",
     "output_type": "stream",
     "text": [
      "laptop,15890000,None,8,1,Ho Chi Minh,None,23800,100,None,None,0,0,0,0,1\n"
     ]
    },
    {
     "name": "stderr",
     "output_type": "stream",
     "text": [
      "\r",
      "Processing rows:  80%|███████▉  | 957/1200 [45:00<10:42,  2.64s/it]"
     ]
    },
    {
     "name": "stdout",
     "output_type": "stream",
     "text": [
      "laptop,18990000,None,None,None,Ho Chi Minh,None,23800,100,None,None,0,0,0,0,0\n"
     ]
    },
    {
     "name": "stderr",
     "output_type": "stream",
     "text": [
      "\r",
      "Processing rows:  80%|███████▉  | 958/1200 [45:02<10:38,  2.64s/it]"
     ]
    },
    {
     "name": "stdout",
     "output_type": "stream",
     "text": [
      "laptop,27990000,26,nan,nan,Ho Chi Minh,37999000,100,99,97,94,0,0,0,0,0\n"
     ]
    },
    {
     "name": "stderr",
     "output_type": "stream",
     "text": [
      "\r",
      "Processing rows:  80%|███████▉  | 959/1200 [45:05<10:28,  2.61s/it]"
     ]
    },
    {
     "name": "stdout",
     "output_type": "stream",
     "text": [
      "laptop,22790000,19,None,None,Ho Chi Minh,27990000,9700,97,98,89,0,0,0,0,0\n"
     ]
    },
    {
     "name": "stderr",
     "output_type": "stream",
     "text": [
      "\r",
      "Processing rows:  80%|████████  | 960/1200 [45:07<10:29,  2.62s/it]"
     ]
    },
    {
     "name": "stdout",
     "output_type": "stream",
     "text": [
      "laptop,7599999,47,None,1,Hai Phong,14799999,100,95,99,100,0,0,0,0,1\n"
     ]
    },
    {
     "name": "stderr",
     "output_type": "stream",
     "text": [
      "\r",
      "Processing rows:  80%|████████  | 961/1200 [45:10<10:11,  2.56s/it]"
     ]
    },
    {
     "name": "stdout",
     "output_type": "stream",
     "text": [
      "laptop,19390000,None,6,2,Ho Chi Minh,None,100,99,100,100,0,0,0,0,2\n"
     ]
    },
    {
     "name": "stderr",
     "output_type": "stream",
     "text": [
      "\r",
      "Processing rows:  80%|████████  | 962/1200 [45:13<11:00,  2.78s/it]"
     ]
    },
    {
     "name": "stdout",
     "output_type": "stream",
     "text": [
      "laptop,8999999,10,10,4,Ho Chi Minh,10890099,100,95,100,85,0,0,0,0,4\n"
     ]
    },
    {
     "name": "stderr",
     "output_type": "stream",
     "text": [
      "\r",
      "Processing rows:  80%|████████  | 963/1200 [45:16<10:37,  2.69s/it]"
     ]
    },
    {
     "name": "stdout",
     "output_type": "stream",
     "text": [
      "laptop,5300000,None,None,None,Thanh Hoa,None,100600,None,None,None,0,0,0,0,0\n"
     ]
    },
    {
     "name": "stderr",
     "output_type": "stream",
     "text": [
      "\r",
      "Processing rows:  80%|████████  | 964/1200 [45:18<10:33,  2.68s/it]"
     ]
    },
    {
     "name": "stdout",
     "output_type": "stream",
     "text": [
      "laptop,3990000,20,5,2,Hà Nội,5390000,57700,100,None,None,0,0,0,0,2\n"
     ]
    },
    {
     "name": "stderr",
     "output_type": "stream",
     "text": [
      "\r",
      "Processing rows:  80%|████████  | 965/1200 [45:21<10:33,  2.70s/it]"
     ]
    },
    {
     "name": "stdout",
     "output_type": "stream",
     "text": [
      "laptop,1000000,None,11,2,Tien Giang,None,40300,82,86,87,1,0,1,0,1\n"
     ]
    },
    {
     "name": "stderr",
     "output_type": "stream",
     "text": [
      "\r",
      "Processing rows:  80%|████████  | 966/1200 [45:24<10:35,  2.71s/it]"
     ]
    },
    {
     "name": "stdout",
     "output_type": "stream",
     "text": [
      "laptop,1000000,None,None,None,Tien Giang,None,40300,82,86,87,0,0,0,0,0\n"
     ]
    },
    {
     "name": "stderr",
     "output_type": "stream",
     "text": [
      "\r",
      "Processing rows:  81%|████████  | 967/1200 [45:26<10:29,  2.70s/it]"
     ]
    },
    {
     "name": "stdout",
     "output_type": "stream",
     "text": [
      "laptop,6000000,None,136,42,Nam Dinh,None,56800,99,100,100,0,0,0,0,42\n"
     ]
    },
    {
     "name": "stderr",
     "output_type": "stream",
     "text": [
      "\r",
      "Processing rows:  81%|████████  | 968/1200 [45:29<10:39,  2.76s/it]"
     ]
    },
    {
     "name": "stdout",
     "output_type": "stream",
     "text": [
      "laptop,2250000,46,9,4,Ho Chi Minh,4200000,20100,96,100,100,0,0,0,0,5\n"
     ]
    },
    {
     "name": "stderr",
     "output_type": "stream",
     "text": [
      "\r",
      "Processing rows:  81%|████████  | 969/1200 [45:32<10:43,  2.79s/it]"
     ]
    },
    {
     "name": "stdout",
     "output_type": "stream",
     "text": [
      "laptop,1700000,None,None,None,Ho Chi Minh,None,18300,92,100,77,0,0,0,0,0\n"
     ]
    },
    {
     "name": "stderr",
     "output_type": "stream",
     "text": [
      "\r",
      "Processing rows:  81%|████████  | 970/1200 [45:35<11:08,  2.91s/it]"
     ]
    },
    {
     "name": "stdout",
     "output_type": "stream",
     "text": [
      "laptop,2668000,11,nan,nan,Nghệ An,2998000,63300,94,92,91,0,0,0,0,0\n"
     ]
    },
    {
     "name": "stderr",
     "output_type": "stream",
     "text": [
      "\r",
      "Processing rows:  81%|████████  | 971/1200 [45:38<10:42,  2.80s/it]"
     ]
    },
    {
     "name": "stdout",
     "output_type": "stream",
     "text": [
      "laptop,6520000,None,43,14,Hung Yen,None,37700,100,98,100,0,0,0,2,12\n"
     ]
    },
    {
     "name": "stderr",
     "output_type": "stream",
     "text": [
      "\r",
      "Processing rows:  81%|████████  | 972/1200 [45:40<10:23,  2.74s/it]"
     ]
    },
    {
     "name": "stdout",
     "output_type": "stream",
     "text": [
      "laptop,990000,None,38,12,Ho Chi Minh,None,27300,90,None,100,1,1,0,2,8\n"
     ]
    },
    {
     "name": "stderr",
     "output_type": "stream",
     "text": [
      "\r",
      "Processing rows:  81%|████████  | 973/1200 [45:43<10:10,  2.69s/it]"
     ]
    },
    {
     "name": "stdout",
     "output_type": "stream",
     "text": [
      "laptop,4800000,None,75,23,Nam Dinh,None,56800,99,100,100,0,0,0,0,24\n"
     ]
    },
    {
     "name": "stderr",
     "output_type": "stream",
     "text": [
      "\r",
      "Processing rows:  81%|████████  | 974/1200 [45:46<10:15,  2.72s/it]"
     ]
    },
    {
     "name": "stdout",
     "output_type": "stream",
     "text": [
      "laptop,151000,74,None,None,Nước ngoài,580000,17000,96,94,100,0,0,0,0,0\n"
     ]
    },
    {
     "name": "stderr",
     "output_type": "stream",
     "text": [
      "\r",
      "Processing rows:  81%|████████▏ | 975/1200 [45:49<10:54,  2.91s/it]"
     ]
    },
    {
     "name": "stdout",
     "output_type": "stream",
     "text": [
      "laptop,5990000,48,None,None,Hanoi,11490000,100,85,None,None,0,0,0,0,0\n"
     ]
    },
    {
     "name": "stderr",
     "output_type": "stream",
     "text": [
      "\r",
      "Processing rows:  81%|████████▏ | 976/1200 [45:51<09:53,  2.65s/it]"
     ]
    },
    {
     "name": "stdout",
     "output_type": "stream",
     "text": [
      "laptop,6399999,17,28,11,Hà Nội,None,100,98,100,100,0,0,0,0,11\n"
     ]
    },
    {
     "name": "stderr",
     "output_type": "stream",
     "text": [
      "\r",
      "Processing rows:  81%|████████▏ | 977/1200 [45:54<09:53,  2.66s/it]"
     ]
    },
    {
     "name": "stdout",
     "output_type": "stream",
     "text": [
      "laptop,361200,23,None,None,Nước ngoài,469560,100,97,100,100,0,0,0,0,0\n"
     ]
    },
    {
     "name": "stderr",
     "output_type": "stream",
     "text": [
      "\r",
      "Processing rows:  82%|████████▏ | 978/1200 [45:56<09:42,  2.62s/it]"
     ]
    },
    {
     "name": "stdout",
     "output_type": "stream",
     "text": [
      "laptop,2650000,None,13,3,Ho Chi Minh,None,19600,100,None,100,0,0,0,1,2\n"
     ]
    },
    {
     "name": "stderr",
     "output_type": "stream",
     "text": [
      "\r",
      "Processing rows:  82%|████████▏ | 979/1200 [45:59<09:53,  2.69s/it]"
     ]
    },
    {
     "name": "stdout",
     "output_type": "stream",
     "text": [
      "laptop,12000000,None,None,None,Thai Nguyen,None,43900,None,None,None,0,0,0,0,0\n"
     ]
    },
    {
     "name": "stderr",
     "output_type": "stream",
     "text": [
      "\r",
      "Processing rows:  82%|████████▏ | 980/1200 [46:02<09:54,  2.70s/it]"
     ]
    },
    {
     "name": "stdout",
     "output_type": "stream",
     "text": [
      "laptop,4800000,38,None,None,Ho Chi Minh,7800000,100,96,100,100,0,0,0,0,0\n"
     ]
    },
    {
     "name": "stderr",
     "output_type": "stream",
     "text": [
      "\r",
      "Processing rows:  82%|████████▏ | 981/1200 [46:05<10:15,  2.81s/it]"
     ]
    },
    {
     "name": "stdout",
     "output_type": "stream",
     "text": [
      "laptop,3900000,None,12,3,Hà Nội,None,51500,79,84,96,0,0,0,1,2\n"
     ]
    },
    {
     "name": "stderr",
     "output_type": "stream",
     "text": [
      "\r",
      "Processing rows:  82%|████████▏ | 982/1200 [46:08<10:51,  2.99s/it]"
     ]
    },
    {
     "name": "stdout",
     "output_type": "stream",
     "text": [
      "laptop,55188000,None,49,None,Ho Chi Minh,None,Mien phi,82,None,100,0,0,0,0,0\n"
     ]
    },
    {
     "name": "stderr",
     "output_type": "stream",
     "text": [
      "\r",
      "Processing rows:  82%|████████▏ | 983/1200 [46:12<11:22,  3.15s/it]"
     ]
    },
    {
     "name": "stdout",
     "output_type": "stream",
     "text": [
      "laptop,3995000,None,6,5,Ho Chi Minh,None,20700,99,100,100,0,0,0,0,5\n"
     ]
    },
    {
     "name": "stderr",
     "output_type": "stream",
     "text": [
      "\r",
      "Processing rows:  82%|████████▏ | 984/1200 [46:15<10:43,  2.98s/it]"
     ]
    },
    {
     "name": "stdout",
     "output_type": "stream",
     "text": [
      "laptop,1999000,None,None,None,Ho Chi Minh,None,18300,92,100,77,0,0,0,0,0\n"
     ]
    },
    {
     "name": "stderr",
     "output_type": "stream",
     "text": [
      "\r",
      "Processing rows:  82%|████████▏ | 985/1200 [46:17<10:34,  2.95s/it]"
     ]
    },
    {
     "name": "stdout",
     "output_type": "stream",
     "text": [
      "laptop,2000000,None,5,None,Ho Chi Minh,None,27300,None,None,None,0,0,0,0,0\n"
     ]
    },
    {
     "name": "stderr",
     "output_type": "stream",
     "text": [
      "\r",
      "Processing rows:  82%|████████▏ | 986/1200 [46:20<10:23,  2.91s/it]"
     ]
    },
    {
     "name": "stdout",
     "output_type": "stream",
     "text": [
      "laptop,4427000,None,None,None,Hanoi,None,64700,79,84,96,0,0,0,0,0\n"
     ]
    },
    {
     "name": "stderr",
     "output_type": "stream",
     "text": [
      "\r",
      "Processing rows:  82%|████████▏ | 987/1200 [46:23<09:57,  2.81s/it]"
     ]
    },
    {
     "name": "stdout",
     "output_type": "stream",
     "text": [
      "laptop,3100000,None,20,10,Ho Chi Minh,None,21200,100,None,None,0,0,0,2,8\n"
     ]
    },
    {
     "name": "stderr",
     "output_type": "stream",
     "text": [
      "\r",
      "Processing rows:  82%|████████▏ | 988/1200 [46:26<09:54,  2.81s/it]"
     ]
    },
    {
     "name": "stdout",
     "output_type": "stream",
     "text": [
      "laptop,79120,65,9,5,Nước ngoài,228000,17000,95,93,99,0,0,0,0,6\n"
     ]
    },
    {
     "name": "stderr",
     "output_type": "stream",
     "text": [
      "\r",
      "Processing rows:  82%|████████▏ | 989/1200 [46:28<09:37,  2.74s/it]"
     ]
    },
    {
     "name": "stdout",
     "output_type": "stream",
     "text": [
      "laptop,46490000,None,38,None,Ho Chi Minh,None,None,96,None,81,0,0,0,0,0\n"
     ]
    },
    {
     "name": "stderr",
     "output_type": "stream",
     "text": [
      "\r",
      "Processing rows:  82%|████████▎ | 990/1200 [46:31<10:00,  2.86s/it]"
     ]
    },
    {
     "name": "stdout",
     "output_type": "stream",
     "text": [
      "laptop,1642000,None,25,4,Hà Nội,None,64700,79,84,96,1,0,0,0,3\n"
     ]
    },
    {
     "name": "stderr",
     "output_type": "stream",
     "text": [
      "\r",
      "Processing rows:  83%|████████▎ | 991/1200 [46:34<09:10,  2.63s/it]"
     ]
    },
    {
     "name": "stdout",
     "output_type": "stream",
     "text": [
      "laptop,1326000,None,None,None,Ho Chi Minh,None,23800,98,83,100,0,0,0,0,0\n"
     ]
    },
    {
     "name": "stderr",
     "output_type": "stream",
     "text": [
      "\r",
      "Processing rows:  83%|████████▎ | 992/1200 [46:36<09:10,  2.65s/it]"
     ]
    },
    {
     "name": "stdout",
     "output_type": "stream",
     "text": [
      "laptop,5300000,None,None,None,Hanoi,None,None,None,None,0,0,0,0,0\n"
     ]
    },
    {
     "name": "stderr",
     "output_type": "stream",
     "text": [
      "\r",
      "Processing rows:  83%|████████▎ | 993/1200 [46:39<09:25,  2.73s/it]"
     ]
    },
    {
     "name": "stdout",
     "output_type": "stream",
     "text": [
      "laptop,14699000,18,17,8,Ho Chi Minh,18000000,30900,100,100,100,0,0,0,0,8\n"
     ]
    },
    {
     "name": "stderr",
     "output_type": "stream",
     "text": [
      "\r",
      "Processing rows:  83%|████████▎ | 994/1200 [46:42<09:10,  2.67s/it]"
     ]
    },
    {
     "name": "stdout",
     "output_type": "stream",
     "text": [
      "laptop,4093080,31,None,2,Ho Chi Minh,5900000,27300,96,100,100,0,0,0,0,3\n"
     ]
    },
    {
     "name": "stderr",
     "output_type": "stream",
     "text": [
      "\r",
      "Processing rows:  83%|████████▎ | 995/1200 [46:44<09:08,  2.68s/it]"
     ]
    },
    {
     "name": "stdout",
     "output_type": "stream",
     "text": [
      "laptop,8500000,None,23,4,Hung Yen,None,70000,91,65,100,0,0,1,0,3\n"
     ]
    },
    {
     "name": "stderr",
     "output_type": "stream",
     "text": [
      "\r",
      "Processing rows:  83%|████████▎ | 996/1200 [46:46<08:30,  2.50s/it]"
     ]
    },
    {
     "name": "stdout",
     "output_type": "stream",
     "text": [
      "laptop,10590000,15,None,None,Hanoi,12460000,115100,92,None,None,0,0,0,0,0\n"
     ]
    },
    {
     "name": "stderr",
     "output_type": "stream",
     "text": [
      "\r",
      "Processing rows:  83%|████████▎ | 997/1200 [46:49<08:36,  2.54s/it]"
     ]
    },
    {
     "name": "stdout",
     "output_type": "stream",
     "text": [
      "laptop,4790000,19,5,1,Ho Chi Minh,5900000,90,nan,nan,0,0,0,0,1\n"
     ]
    },
    {
     "name": "stderr",
     "output_type": "stream",
     "text": [
      "\r",
      "Processing rows:  83%|████████▎ | 998/1200 [46:52<09:15,  2.75s/it]"
     ]
    },
    {
     "name": "stdout",
     "output_type": "stream",
     "text": [
      "laptop,3400000,None,12,5,Hung Yen,None,70000,91,65,100,0,0,0,0,5\n"
     ]
    },
    {
     "name": "stderr",
     "output_type": "stream",
     "text": [
      "\r",
      "Processing rows:  83%|████████▎ | 999/1200 [46:56<09:42,  2.90s/it]"
     ]
    },
    {
     "name": "stdout",
     "output_type": "stream",
     "text": [
      "laptop,6250000,4,nan,nan,Ho Chi Minh,8500000,100,97,100,100,0,0,0,0,0\n"
     ]
    },
    {
     "name": "stderr",
     "output_type": "stream",
     "text": [
      "\r",
      "Processing rows:  83%|████████▎ | 1000/1200 [46:58<09:31,  2.86s/it]"
     ]
    },
    {
     "name": "stdout",
     "output_type": "stream",
     "text": [
      "laptop,18190000,9,nan,nan,Ho Chi Minh,19990000,nan,96,nan,81,0,0,0,0,0\n"
     ]
    },
    {
     "name": "stderr",
     "output_type": "stream",
     "text": [
      "\r",
      "Processing rows:  83%|████████▎ | 1001/1200 [47:01<09:26,  2.85s/it]"
     ]
    },
    {
     "name": "stdout",
     "output_type": "stream",
     "text": [
      "laptop,39000,17,313,67,Ho Chi Minh,None,None,None,None,None,11,1,3,5,47\n"
     ]
    },
    {
     "name": "stderr",
     "output_type": "stream",
     "text": [
      "\r",
      "Processing rows:  84%|████████▎ | 1002/1200 [47:04<09:24,  2.85s/it]"
     ]
    },
    {
     "name": "stdout",
     "output_type": "stream",
     "text": [
      "laptop,1727600,None,None,None,Hanoi,None,None,None,None,0,0,0,0,0\n"
     ]
    },
    {
     "name": "stderr",
     "output_type": "stream",
     "text": [
      "\r",
      "Processing rows:  84%|████████▎ | 1003/1200 [47:07<09:48,  2.99s/it]"
     ]
    },
    {
     "name": "stdout",
     "output_type": "stream",
     "text": [
      "laptop,3200000,50,None,None,Hanoi,6400000,100,None,None,None,0,0,0,0,0\n"
     ]
    },
    {
     "name": "stderr",
     "output_type": "stream",
     "text": [
      "\r",
      "Processing rows:  84%|████████▎ | 1004/1200 [47:10<09:30,  2.91s/it]"
     ]
    },
    {
     "name": "stdout",
     "output_type": "stream",
     "text": [
      "laptop,3899,None,14,0,Quang Tri,None,37700,97,None,None,0,0,0,0,1\n"
     ]
    },
    {
     "name": "stderr",
     "output_type": "stream",
     "text": [
      "\r",
      "Processing rows:  84%|████████▍ | 1005/1200 [47:12<08:37,  2.66s/it]"
     ]
    },
    {
     "name": "stdout",
     "output_type": "stream",
     "text": [
      "laptop,17990000,38,3000,672,Ho Chi Minh,28990000,10200,94,98,100,28,5,10,17,612\n"
     ]
    },
    {
     "name": "stderr",
     "output_type": "stream",
     "text": [
      "\r",
      "Processing rows:  84%|████████▍ | 1006/1200 [47:15<09:03,  2.80s/it]"
     ]
    },
    {
     "name": "stdout",
     "output_type": "stream",
     "text": [
      "laptop,6685956,27,69,28,Ho Chi Minh,9999999,100,97,None,None,0,0,0,0,28\n"
     ]
    },
    {
     "name": "stderr",
     "output_type": "stream",
     "text": [
      "\r",
      "Processing rows:  84%|████████▍ | 1007/1200 [47:18<09:00,  2.80s/it]"
     ]
    },
    {
     "name": "stdout",
     "output_type": "stream",
     "text": [
      "laptop,1000000,None,81,28,Hà Nội,None,198200,94,20,83,2,1,1,3,21\n"
     ]
    },
    {
     "name": "stderr",
     "output_type": "stream",
     "text": [
      "\r",
      "Processing rows:  84%|████████▍ | 1008/1200 [47:21<09:29,  2.97s/it]"
     ]
    },
    {
     "name": "stdout",
     "output_type": "stream",
     "text": [
      "laptop,79120,65,9,5,Nuoc Ngoai,228000,17000,95,93,99,0,0,0,0,6\n"
     ]
    },
    {
     "name": "stderr",
     "output_type": "stream",
     "text": [
      "\r",
      "Processing rows:  84%|████████▍ | 1009/1200 [47:24<09:05,  2.86s/it]"
     ]
    },
    {
     "name": "stdout",
     "output_type": "stream",
     "text": [
      "laptop,350000,None,None,None,Tay Ninh,None,48200,97,100,80,0,0,0,0,0\n"
     ]
    },
    {
     "name": "stderr",
     "output_type": "stream",
     "text": [
      "\r",
      "Processing rows:  84%|████████▍ | 1010/1200 [47:26<08:27,  2.67s/it]"
     ]
    },
    {
     "name": "stdout",
     "output_type": "stream",
     "text": [
      "laptop,902899,25,11,2,Hung Yen,1499999,70000,86,100,87,1,0,0,0,2\n"
     ]
    },
    {
     "name": "stderr",
     "output_type": "stream",
     "text": [
      "\r",
      "Processing rows:  84%|████████▍ | 1011/1200 [47:29<08:53,  2.82s/it]"
     ]
    },
    {
     "name": "stdout",
     "output_type": "stream",
     "text": [
      "laptop,125332,23,2200,790,Ho Chi Minh,199000,16500,99,100,100,3,1,2,12,772\n"
     ]
    },
    {
     "name": "stderr",
     "output_type": "stream",
     "text": [
      "\r",
      "Processing rows:  84%|████████▍ | 1012/1200 [47:32<08:33,  2.73s/it]"
     ]
    },
    {
     "name": "stdout",
     "output_type": "stream",
     "text": [
      "laptop,1300000,28,83,41,Hà Nội,None,744000,92,50,85,0,0,0,6,35\n"
     ]
    },
    {
     "name": "stderr",
     "output_type": "stream",
     "text": [
      "\r",
      "Processing rows:  84%|████████▍ | 1013/1200 [47:35<08:42,  2.79s/it]"
     ]
    },
    {
     "name": "stdout",
     "output_type": "stream",
     "text": [
      "laptop,1300000,13,58,24,Ho Chi Minh,1500000,13800,90,100,100,1,0,1,4,18\n"
     ]
    },
    {
     "name": "stderr",
     "output_type": "stream",
     "text": [
      "\r",
      "Processing rows:  84%|████████▍ | 1014/1200 [47:38<09:17,  3.00s/it]"
     ]
    },
    {
     "name": "stdout",
     "output_type": "stream",
     "text": [
      "laptop,1200000,8,138,56,Ho Chi Minh,1850000,13800,90,100,100,4,2,1,2,47\n"
     ]
    },
    {
     "name": "stderr",
     "output_type": "stream",
     "text": [
      "\r",
      "Processing rows:  85%|████████▍ | 1015/1200 [47:42<09:39,  3.13s/it]"
     ]
    },
    {
     "name": "stdout",
     "output_type": "stream",
     "text": [
      "laptop,3730000,37,31,11,Ho Chi Minh,6800000,27300,96,100,100,1,0,0,0,10\n"
     ]
    },
    {
     "name": "stderr",
     "output_type": "stream",
     "text": [
      "\r",
      "Processing rows:  85%|████████▍ | 1016/1200 [47:45<09:19,  3.04s/it]"
     ]
    },
    {
     "name": "stdout",
     "output_type": "stream",
     "text": [
      "laptop,27590000,16,147,3,Ho Chi Minh,32990000,None,94,98,100,0,0,0,0,4\n"
     ]
    },
    {
     "name": "stderr",
     "output_type": "stream",
     "text": [
      "\r",
      "Processing rows:  85%|████████▍ | 1017/1200 [47:47<09:04,  2.98s/it]"
     ]
    },
    {
     "name": "stdout",
     "output_type": "stream",
     "text": [
      "laptop,1799000,None,118,37,Dong Nai,None,65500,96,50,50,0,0,0,1,36\n"
     ]
    },
    {
     "name": "stderr",
     "output_type": "stream",
     "text": [
      "\r",
      "Processing rows:  85%|████████▍ | 1018/1200 [47:50<08:40,  2.86s/it]"
     ]
    },
    {
     "name": "stdout",
     "output_type": "stream",
     "text": [
      "laptop,3248000,10,64,28,Nghệ An,3598000,56800,94,92,91,0,0,0,0,28\n"
     ]
    },
    {
     "name": "stderr",
     "output_type": "stream",
     "text": [
      "\r",
      "Processing rows:  85%|████████▍ | 1019/1200 [47:54<09:42,  3.22s/it]"
     ]
    },
    {
     "name": "stdout",
     "output_type": "stream",
     "text": [
      "laptop,1200000,8,147,62,Ho Chi Minh,1500000,13800,90,100,100,5,0,1,3,54\n"
     ]
    },
    {
     "name": "stderr",
     "output_type": "stream",
     "text": [
      "\r",
      "Processing rows:  85%|████████▌ | 1020/1200 [47:57<09:34,  3.19s/it]"
     ]
    },
    {
     "name": "stdout",
     "output_type": "stream",
     "text": [
      "laptop,3258000,19,73,32,Nghệ An,3998000,56800,94,92,91,0,0,1,0,31\n"
     ]
    },
    {
     "name": "stderr",
     "output_type": "stream",
     "text": [
      "\r",
      "Processing rows:  85%|████████▌ | 1021/1200 [48:00<09:13,  3.09s/it]"
     ]
    },
    {
     "name": "stdout",
     "output_type": "stream",
     "text": [
      "laptop,978780,11,9,1,Tien Giang,1100000,40300,82,86,87,0,0,0,0,1\n"
     ]
    },
    {
     "name": "stderr",
     "output_type": "stream",
     "text": [
      "\r",
      "Processing rows:  85%|████████▌ | 1022/1200 [48:03<08:36,  2.90s/it]"
     ]
    },
    {
     "name": "stdout",
     "output_type": "stream",
     "text": [
      "laptop,2455000,None,14,2,Hà Nội,None,38000,79,84,96,0,0,1,0,1\n"
     ]
    },
    {
     "name": "stderr",
     "output_type": "stream",
     "text": [
      "\r",
      "Processing rows:  85%|████████▌ | 1023/1200 [48:06<08:53,  3.02s/it]"
     ]
    },
    {
     "name": "stdout",
     "output_type": "stream",
     "text": [
      "laptop,3390000,15,None,3,Hanoi,4000000,52400,91,75,100,0,0,0,0,3\n"
     ]
    },
    {
     "name": "stderr",
     "output_type": "stream",
     "text": [
      "\r",
      "Processing rows:  85%|████████▌ | 1024/1200 [48:09<08:50,  3.01s/it]"
     ]
    },
    {
     "name": "stdout",
     "output_type": "stream",
     "text": [
      "laptop,1200000,48,24,11,Ho Chi Minh,2500000,100,91,100,100,0,1,0,1,9\n"
     ]
    },
    {
     "name": "stderr",
     "output_type": "stream",
     "text": [
      "\r",
      "Processing rows:  85%|████████▌ | 1025/1200 [48:12<08:41,  2.98s/it]"
     ]
    },
    {
     "name": "stdout",
     "output_type": "stream",
     "text": [
      "laptop,2300000,8,nan,0,Ha Noi,3000000,104900,92,50,85,0,0,0,0,1\n"
     ]
    },
    {
     "name": "stderr",
     "output_type": "stream",
     "text": [
      "\r",
      "Processing rows:  86%|████████▌ | 1026/1200 [48:15<09:02,  3.12s/it]"
     ]
    },
    {
     "name": "stdout",
     "output_type": "stream",
     "text": [
      "laptop,1067760,18,18,6,Ho Chi Minh,1300000,13800,90,100,100,0,0,0,0,6\n"
     ]
    },
    {
     "name": "stderr",
     "output_type": "stream",
     "text": [
      "\r",
      "Processing rows:  86%|████████▌ | 1027/1200 [48:18<08:41,  3.01s/it]"
     ]
    },
    {
     "name": "stdout",
     "output_type": "stream",
     "text": [
      "laptop,1600000,None,261,133,Nghệ An,None,56800,95,100,None,6,1,2,9,115\n"
     ]
    },
    {
     "name": "stderr",
     "output_type": "stream",
     "text": [
      "\r",
      "Processing rows:  86%|████████▌ | 1028/1200 [48:22<09:32,  3.33s/it]"
     ]
    },
    {
     "name": "stdout",
     "output_type": "stream",
     "text": [
      "laptop,299712,None,None,None,Ho Chi Minh,None,18300,99,100,100,0,0,0,0,0\n"
     ]
    },
    {
     "name": "stderr",
     "output_type": "stream",
     "text": [
      "\r",
      "Processing rows:  86%|████████▌ | 1029/1200 [48:25<09:08,  3.21s/it]"
     ]
    },
    {
     "name": "stdout",
     "output_type": "stream",
     "text": [
      "laptop,990000,1,36,15,Hai Duong,1500000,90700,94,100,75,1,0,1,0,13\n"
     ]
    },
    {
     "name": "stderr",
     "output_type": "stream",
     "text": [
      "\r",
      "Processing rows:  86%|████████▌ | 1030/1200 [48:27<08:33,  3.02s/it]"
     ]
    },
    {
     "name": "stdout",
     "output_type": "stream",
     "text": [
      "laptop,1239000,38,22,10,Ho Chi Minh,2200000,100,91,100,100,0,0,0,0,10\n"
     ]
    },
    {
     "name": "stderr",
     "output_type": "stream",
     "text": [
      "\r",
      "Processing rows:  86%|████████▌ | 1031/1200 [48:30<08:19,  2.96s/it]"
     ]
    },
    {
     "name": "stdout",
     "output_type": "stream",
     "text": [
      "laptop,78886,None,None,1,Ho Chi Minh,None,18300,99,100,100,0,0,0,0,1\n"
     ]
    },
    {
     "name": "stderr",
     "output_type": "stream",
     "text": [
      "\r",
      "Processing rows:  86%|████████▌ | 1032/1200 [48:33<08:03,  2.88s/it]"
     ]
    },
    {
     "name": "stdout",
     "output_type": "stream",
     "text": [
      "laptop,400000,1,nan,nan,Nuoc ngai,935000,100,nan,33,nan,0,0,0,0,0\n"
     ]
    },
    {
     "name": "stderr",
     "output_type": "stream",
     "text": [
      "\r",
      "Processing rows:  86%|████████▌ | 1033/1200 [48:36<07:43,  2.77s/it]"
     ]
    },
    {
     "name": "stdout",
     "output_type": "stream",
     "text": [
      "laptop,4799999,40,117,33,Hai Phong,7939999,100,95,99,100,1,0,0,0,32\n"
     ]
    },
    {
     "name": "stderr",
     "output_type": "stream",
     "text": [
      "\r",
      "Processing rows:  86%|████████▌ | 1034/1200 [48:38<07:47,  2.82s/it]"
     ]
    },
    {
     "name": "stdout",
     "output_type": "stream",
     "text": [
      "laptop,400000,None,9,2,Tien Giang,None,40300,87,37,100,0,0,0,0,2\n"
     ]
    },
    {
     "name": "stderr",
     "output_type": "stream",
     "text": [
      "\r",
      "Processing rows:  86%|████████▋ | 1035/1200 [48:42<08:02,  2.92s/it]"
     ]
    },
    {
     "name": "stdout",
     "output_type": "stream",
     "text": [
      "laptop,4804919,44,97,23,Hai Phong,8599999,51100,88,100,100,3,0,1,0,20\n"
     ]
    },
    {
     "name": "stderr",
     "output_type": "stream",
     "text": [
      "\r",
      "Processing rows:  86%|████████▋ | 1036/1200 [48:45<08:22,  3.06s/it]"
     ]
    },
    {
     "name": "stdout",
     "output_type": "stream",
     "text": [
      "laptop,6614299,27,91,49,Ho Chi Minh,8999999,100,96,100,100,1,0,0,2,46\n"
     ]
    },
    {
     "name": "stderr",
     "output_type": "stream",
     "text": [
      "\r",
      "Processing rows:  86%|████████▋ | 1037/1200 [48:48<08:22,  3.08s/it]"
     ]
    },
    {
     "name": "stdout",
     "output_type": "stream",
     "text": [
      "laptop,6519809,8,294,118,Ho Chi Minh,8999999,100,96,100,100,1,0,2,0,115\n"
     ]
    },
    {
     "name": "stderr",
     "output_type": "stream",
     "text": [
      "\r",
      "Processing rows:  86%|████████▋ | 1038/1200 [48:52<08:44,  3.24s/it]"
     ]
    },
    {
     "name": "stdout",
     "output_type": "stream",
     "text": [
      "laptop,400000,None,None,1,Tien Giang,None,40300,87,37,100,0,0,0,0,1\n"
     ]
    },
    {
     "name": "stderr",
     "output_type": "stream",
     "text": [
      "\r",
      "Processing rows:  87%|████████▋ | 1039/1200 [48:55<08:18,  3.10s/it]"
     ]
    },
    {
     "name": "stdout",
     "output_type": "stream",
     "text": [
      "laptop,1089839,16,None,3,Hung Yen,1399999,80200,86,100,87,0,0,0,0,3\n"
     ]
    },
    {
     "name": "stderr",
     "output_type": "stream",
     "text": [
      "\r",
      "Processing rows:  87%|████████▋ | 1040/1200 [48:57<07:53,  2.96s/it]"
     ]
    },
    {
     "name": "stdout",
     "output_type": "stream",
     "text": [
      "laptop,1200000,48,None,None,Ho Chi Minh,2300000,100,91,100,100,0,0,0,0,0\n"
     ]
    },
    {
     "name": "stderr",
     "output_type": "stream",
     "text": [
      "\r",
      "Processing rows:  87%|████████▋ | 1041/1200 [49:01<08:22,  3.16s/it]"
     ]
    },
    {
     "name": "stdout",
     "output_type": "stream",
     "text": [
      "laptop,631000,18,None,None,Nước ngoài,845000,100,100,None,100,0,0,0,0\n"
     ]
    },
    {
     "name": "stderr",
     "output_type": "stream",
     "text": [
      "\r",
      "Processing rows:  87%|████████▋ | 1042/1200 [49:03<07:28,  2.84s/it]"
     ]
    },
    {
     "name": "stdout",
     "output_type": "stream",
     "text": [
      "laptop,631000,18,None,None,Nước ngoài,768000,100,100,None,100,0,0,0,0\n"
     ]
    },
    {
     "name": "stderr",
     "output_type": "stream",
     "text": [
      "\r",
      "Processing rows:  87%|████████▋ | 1043/1200 [49:06<07:51,  3.00s/it]"
     ]
    },
    {
     "name": "stdout",
     "output_type": "stream",
     "text": [
      "laptop,400000,None,5,1,Tien Giang,None,40300,87,37,100,1,0,0,0,0\n"
     ]
    },
    {
     "name": "stderr",
     "output_type": "stream",
     "text": [
      "\r",
      "Processing rows:  87%|████████▋ | 1044/1200 [49:10<08:10,  3.14s/it]"
     ]
    },
    {
     "name": "stdout",
     "output_type": "stream",
     "text": [
      "laptop,455555,18,None,None,Nước ngoài,555555,100,100,None,100,0,0,0,0,0\n"
     ]
    },
    {
     "name": "stderr",
     "output_type": "stream",
     "text": [
      "\r",
      "Processing rows:  87%|████████▋ | 1045/1200 [49:13<08:10,  3.17s/it]"
     ]
    },
    {
     "name": "stdout",
     "output_type": "stream",
     "text": [
      "laptop,548800,26,None,None,Nước ngoài,740880,261,None,100,None,0,0,0,0,0\n"
     ]
    },
    {
     "name": "stderr",
     "output_type": "stream",
     "text": [
      "\r",
      "Processing rows:  87%|████████▋ | 1046/1200 [49:16<08:08,  3.17s/it]"
     ]
    },
    {
     "name": "stdout",
     "output_type": "stream",
     "text": [
      "laptop,4390000,20,126,29,Hà Nội,5900000,98,100,100,0,0,1,0,28\n"
     ]
    },
    {
     "name": "stderr",
     "output_type": "stream",
     "text": [
      "\r",
      "Processing rows:  87%|████████▋ | 1047/1200 [49:19<07:44,  3.04s/it]"
     ]
    },
    {
     "name": "stdout",
     "output_type": "stream",
     "text": [
      "laptop,2550000,20,33,9,Ha Noi,3200000,52400,91,75,100,0,0,0,0,9\n"
     ]
    },
    {
     "name": "stderr",
     "output_type": "stream",
     "text": [
      "\r",
      "Processing rows:  87%|████████▋ | 1048/1200 [49:23<08:12,  3.24s/it]"
     ]
    },
    {
     "name": "stdout",
     "output_type": "stream",
     "text": [
      "laptop,1790000,None,11,1,Hà Nội,None,51500,79,84,96,0,0,0,0,1\n"
     ]
    },
    {
     "name": "stderr",
     "output_type": "stream",
     "text": [
      "\r",
      "Processing rows:  87%|████████▋ | 1049/1200 [49:26<08:34,  3.41s/it]"
     ]
    },
    {
     "name": "stdout",
     "output_type": "stream",
     "text": [
      "laptop,700000,None,None,1,Tien Giang,None,32200,82,86,87,1,0,0,0,0\n"
     ]
    },
    {
     "name": "stderr",
     "output_type": "stream",
     "text": [
      "\r",
      "Processing rows:  88%|████████▊ | 1050/1200 [49:30<08:58,  3.59s/it]"
     ]
    },
    {
     "name": "stdout",
     "output_type": "stream",
     "text": [
      "laptop,110000,None,33,11,Thua Thien Hue,None,56800,92,82,37,4,0,0,0,7\n"
     ]
    },
    {
     "name": "stderr",
     "output_type": "stream",
     "text": [
      "\r",
      "Processing rows:  88%|████████▊ | 1051/1200 [49:33<08:27,  3.41s/it]"
     ]
    },
    {
     "name": "stdout",
     "output_type": "stream",
     "text": [
      "laptop,1200000,None,25,10,Tien Giang,None,32200,87,37,100,0,0,0,1,9\n"
     ]
    },
    {
     "name": "stderr",
     "output_type": "stream",
     "text": [
      "\r",
      "Processing rows:  88%|████████▊ | 1052/1200 [49:38<08:57,  3.63s/it]"
     ]
    },
    {
     "name": "stdout",
     "output_type": "stream",
     "text": [
      "laptop,2500000,None,102,46,Ha Noi,None,104900,92,50,85,0,0,2,1,43\n"
     ]
    },
    {
     "name": "stderr",
     "output_type": "stream",
     "text": [
      "\r",
      "Processing rows:  88%|████████▊ | 1053/1200 [49:41<08:37,  3.52s/it]"
     ]
    },
    {
     "name": "stdout",
     "output_type": "stream",
     "text": [
      "laptop,10490000,19,353,108,Ho Chi Minh,12990000,21200,98,77,50,3,0,0,1,104\n"
     ]
    },
    {
     "name": "stderr",
     "output_type": "stream",
     "text": [
      "\r",
      "Processing rows:  88%|████████▊ | 1054/1200 [49:44<08:29,  3.49s/it]"
     ]
    },
    {
     "name": "stdout",
     "output_type": "stream",
     "text": [
      "laptop,1799000,None,146,41,Dong Nai,None,65500,99,100,50,0,0,0,1,40\n"
     ]
    },
    {
     "name": "stderr",
     "output_type": "stream",
     "text": [
      "\r",
      "Processing rows:  88%|████████▊ | 1055/1200 [49:47<07:50,  3.25s/it]"
     ]
    },
    {
     "name": "stdout",
     "output_type": "stream",
     "text": [
      "laptop,4173000,11,154,49,Hung Yen,6459000,56800,97,100,100,0,0,1,3,46\n"
     ]
    },
    {
     "name": "stderr",
     "output_type": "stream",
     "text": [
      "\r",
      "Processing rows:  88%|████████▊ | 1056/1200 [49:50<07:50,  3.26s/it]"
     ]
    },
    {
     "name": "stdout",
     "output_type": "stream",
     "text": [
      "laptop,1990000,50,25,8,Ho Chi Minh,3980000,9100,91,100,80,0,0,0,1,7\n"
     ]
    },
    {
     "name": "stderr",
     "output_type": "stream",
     "text": [
      "\r",
      "Processing rows:  88%|████████▊ | 1057/1200 [49:53<07:48,  3.27s/it]"
     ]
    },
    {
     "name": "stdout",
     "output_type": "stream",
     "text": [
      "laptop,4000000,50,nan,1,Ho Chi Minh,8598000,10200,91,100,80,0,0,0,0,1\n"
     ]
    },
    {
     "name": "stderr",
     "output_type": "stream",
     "text": [
      "\r",
      "Processing rows:  88%|████████▊ | 1058/1200 [49:57<07:45,  3.28s/it]"
     ]
    },
    {
     "name": "stdout",
     "output_type": "stream",
     "text": [
      "laptop,1799000,None,147,39,Dong Nai,None,65500,99,100,50,0,0,0,1,39\n"
     ]
    },
    {
     "name": "stderr",
     "output_type": "stream",
     "text": [
      "\r",
      "Processing rows:  88%|████████▊ | 1059/1200 [50:00<07:35,  3.23s/it]"
     ]
    },
    {
     "name": "stdout",
     "output_type": "stream",
     "text": [
      "laptop,1900000,None,29,5,Hà Nội,None,38000,79,84,96,1,0,0,0,4\n"
     ]
    },
    {
     "name": "stderr",
     "output_type": "stream",
     "text": [
      "\r",
      "Processing rows:  88%|████████▊ | 1060/1200 [50:03<07:26,  3.19s/it]"
     ]
    },
    {
     "name": "stdout",
     "output_type": "stream",
     "text": [
      "laptop,1799000,None,52,13,Dong Nai,None,100,96,50,50,0,0,0,0,14\n"
     ]
    },
    {
     "name": "stderr",
     "output_type": "stream",
     "text": [
      "\r",
      "Processing rows:  88%|████████▊ | 1061/1200 [50:07<07:57,  3.43s/it]"
     ]
    },
    {
     "name": "stdout",
     "output_type": "stream",
     "text": [
      "laptop,1842000,None,None,None,Hanoi,None,64700,79,84,96,0,0,0,0,0\n"
     ]
    },
    {
     "name": "stderr",
     "output_type": "stream",
     "text": [
      "\r",
      "Processing rows:  88%|████████▊ | 1062/1200 [50:10<07:36,  3.31s/it]"
     ]
    },
    {
     "name": "stdout",
     "output_type": "stream",
     "text": [
      "laptop,3000000,40,5,4,Hà Nội,4998000,74400,79,84,96,0,0,0,0,3\n"
     ]
    },
    {
     "name": "stderr",
     "output_type": "stream",
     "text": [
      "\r",
      "Processing rows:  89%|████████▊ | 1063/1200 [50:13<07:12,  3.16s/it]"
     ]
    },
    {
     "name": "stdout",
     "output_type": "stream",
     "text": [
      "laptop,2190000,None,None,None,Ho Chi Minh,None,18300,92,100,77,0,0,0,0,0\n"
     ]
    },
    {
     "name": "stderr",
     "output_type": "stream",
     "text": [
      "\r",
      "Processing rows:  89%|████████▊ | 1064/1200 [50:15<06:49,  3.01s/it]"
     ]
    },
    {
     "name": "stdout",
     "output_type": "stream",
     "text": [
      "laptop,1799000,None,75,21,Dong Nai,None,65500,96,50,50,1,0,0,1,19\n"
     ]
    },
    {
     "name": "stderr",
     "output_type": "stream",
     "text": [
      "\r",
      "Processing rows:  89%|████████▉ | 1065/1200 [50:18<06:28,  2.88s/it]"
     ]
    },
    {
     "name": "stdout",
     "output_type": "stream",
     "text": [
      "laptop,1500000,None,11,6,Tien Giang,None,40300,87,37,100,0,0,2,0,3\n"
     ]
    },
    {
     "name": "stderr",
     "output_type": "stream",
     "text": [
      "\r",
      "Processing rows:  89%|████████▉ | 1066/1200 [50:21<06:30,  2.91s/it]"
     ]
    },
    {
     "name": "stdout",
     "output_type": "stream",
     "text": [
      "laptop,2900000,50,13,4,Ho Chi Minh,5800000,27300,96,100,100,0,0,0,0,5\n"
     ]
    },
    {
     "name": "stderr",
     "output_type": "stream",
     "text": [
      "\r",
      "Processing rows:  89%|████████▉ | 1067/1200 [50:24<06:14,  2.81s/it]"
     ]
    },
    {
     "name": "stdout",
     "output_type": "stream",
     "text": [
      "laptop,1950000,None,None,None,Ho Chi Minh,None,38000,None,None,100,0,0,0,0,0\n"
     ]
    },
    {
     "name": "stderr",
     "output_type": "stream",
     "text": [
      "\r",
      "Processing rows:  89%|████████▉ | 1068/1200 [50:27<06:16,  2.85s/it]"
     ]
    },
    {
     "name": "stdout",
     "output_type": "stream",
     "text": [
      "laptop,864999,28,15,2,Hung Yen,1499999,100600,86,100,87,1,0,0,0,1\n"
     ]
    },
    {
     "name": "stderr",
     "output_type": "stream",
     "text": [
      "\r",
      "Processing rows:  89%|████████▉ | 1069/1200 [50:29<06:03,  2.77s/it]"
     ]
    },
    {
     "name": "stdout",
     "output_type": "stream",
     "text": [
      "laptop,222000,73,None,None,Nước ngoài,863000,17000,95,93,99,0,0,0,0,0\n"
     ]
    },
    {
     "name": "stderr",
     "output_type": "stream",
     "text": [
      "\r",
      "Processing rows:  89%|████████▉ | 1070/1200 [50:33<06:30,  3.01s/it]"
     ]
    },
    {
     "name": "stdout",
     "output_type": "stream",
     "text": [
      "laptop,1798761,10,20,6,Ha Noi,4290000,84600,94,100,82,0,0,0,0,6\n"
     ]
    },
    {
     "name": "stderr",
     "output_type": "stream",
     "text": [
      "\r",
      "Processing rows:  89%|████████▉ | 1071/1200 [50:35<06:03,  2.82s/it]"
     ]
    },
    {
     "name": "stdout",
     "output_type": "stream",
     "text": [
      "laptop,800000,None,None,None,Tien Giang,None,40300,87,37,100,0,0,0,0,0\n"
     ]
    },
    {
     "name": "stderr",
     "output_type": "stream",
     "text": [
      "\r",
      "Processing rows:  89%|████████▉ | 1072/1200 [50:38<05:53,  2.76s/it]"
     ]
    },
    {
     "name": "stdout",
     "output_type": "stream",
     "text": [
      "laptop,4560080,21,28,15,Hà Nội,6500000,84600,94,100,82,0,2,0,1,12\n"
     ]
    },
    {
     "name": "stderr",
     "output_type": "stream",
     "text": [
      "\r",
      "Processing rows:  89%|████████▉ | 1073/1200 [50:40<05:48,  2.75s/it]"
     ]
    },
    {
     "name": "stdout",
     "output_type": "stream",
     "text": [
      "laptop,1499999,6,None,None,Hung Yen,1999999,100600,86,100,87,0,0,0,0,0\n"
     ]
    },
    {
     "name": "stderr",
     "output_type": "stream",
     "text": [
      "\r",
      "Processing rows:  90%|████████▉ | 1074/1200 [50:43<05:51,  2.79s/it]"
     ]
    },
    {
     "name": "stdout",
     "output_type": "stream",
     "text": [
      "laptop,2834699,19,53,4,Hà Nội,6500000,100,98,100,100,0,0,0,0,4\n"
     ]
    },
    {
     "name": "stderr",
     "output_type": "stream",
     "text": [
      "\r",
      "Processing rows:  90%|████████▉ | 1075/1200 [50:45<05:26,  2.61s/it]"
     ]
    },
    {
     "name": "stdout",
     "output_type": "stream",
     "text": [
      "laptop,1500000,None,None,1,Tien Giang,None,48200,87,37,100,0,0,0,0,0\n"
     ]
    },
    {
     "name": "stderr",
     "output_type": "stream",
     "text": [
      "\r",
      "Processing rows:  90%|████████▉ | 1076/1200 [50:48<05:11,  2.51s/it]"
     ]
    },
    {
     "name": "stdout",
     "output_type": "stream",
     "text": [
      "laptop,6228599,28,302,126,Ho Chi Minh,12900000,100,95,100,85,5,0,0,0,122\n"
     ]
    },
    {
     "name": "stderr",
     "output_type": "stream",
     "text": [
      "\r",
      "Processing rows:  90%|████████▉ | 1077/1200 [50:51<05:22,  2.62s/it]"
     ]
    },
    {
     "name": "stdout",
     "output_type": "stream",
     "text": [
      "laptop,4351599,48,25,5,Hai Phong,8299999,100,100,100,0,0,0,0,5\n"
     ]
    },
    {
     "name": "stderr",
     "output_type": "stream",
     "text": [
      "\r",
      "Processing rows:  90%|████████▉ | 1078/1200 [50:54<05:29,  2.70s/it]"
     ]
    },
    {
     "name": "stdout",
     "output_type": "stream",
     "text": [
      "laptop,2500000,44,7,2,Phu Tho,4800000,51100,87,None,None,0,0,0,0,2\n"
     ]
    },
    {
     "name": "stderr",
     "output_type": "stream",
     "text": [
      "\r",
      "Processing rows:  90%|████████▉ | 1079/1200 [50:56<05:28,  2.71s/it]"
     ]
    },
    {
     "name": "stdout",
     "output_type": "stream",
     "text": [
      "laptop,2622600,42,89,36,Ho Chi Minh,4100000,16500,96,80,94,1,1,1,5,28\n"
     ]
    },
    {
     "name": "stderr",
     "output_type": "stream",
     "text": [
      "\r",
      "Processing rows:  90%|█████████ | 1080/1200 [51:00<06:01,  3.01s/it]"
     ]
    },
    {
     "name": "stdout",
     "output_type": "stream",
     "text": [
      "laptop,7250089,19,129,35,Ho Chi Minh,8999999,100,95,100,85,1,0,0,0,34\n"
     ]
    },
    {
     "name": "stderr",
     "output_type": "stream",
     "text": [
      "\r",
      "Processing rows:  90%|█████████ | 1081/1200 [51:02<05:33,  2.80s/it]"
     ]
    },
    {
     "name": "stdout",
     "output_type": "stream",
     "text": [
      "laptop,3240000,None,5,None,Hanoi,None,100,98,100,100,0,0,0,0,0\n"
     ]
    },
    {
     "name": "stderr",
     "output_type": "stream",
     "text": [
      "\r",
      "Processing rows:  90%|█████████ | 1082/1200 [51:04<05:05,  2.59s/it]"
     ]
    },
    {
     "name": "stdout",
     "output_type": "stream",
     "text": [
      "laptop,5999999,25,13,9,Ho Chi Minh,7999999,100,97,None,None,0,1,0,0,8\n"
     ]
    },
    {
     "name": "stderr",
     "output_type": "stream",
     "text": [
      "\r",
      "Processing rows:  90%|█████████ | 1083/1200 [51:07<05:07,  2.63s/it]"
     ]
    },
    {
     "name": "stdout",
     "output_type": "stream",
     "text": [
      "laptop,4900000,37,None,1,Ho Chi Minh,7800000,100,96,100,100,0,0,0,0,1\n"
     ]
    },
    {
     "name": "stderr",
     "output_type": "stream",
     "text": [
      "\r",
      "Processing rows:  90%|█████████ | 1084/1200 [51:11<05:34,  2.89s/it]"
     ]
    },
    {
     "name": "stdout",
     "output_type": "stream",
     "text": [
      "laptop,1300000,None,14,8,Hà Nội,None,104900,92,50,85,0,0,0,0,8\n"
     ]
    },
    {
     "name": "stderr",
     "output_type": "stream",
     "text": [
      "\r",
      "Processing rows:  90%|█████████ | 1085/1200 [51:14<05:36,  2.92s/it]"
     ]
    },
    {
     "name": "stdout",
     "output_type": "stream",
     "text": [
      "laptop,3500000,49,None,1,Ho Chi Minh,6800000,23800,96,100,100,0,0,0,0,1\n"
     ]
    },
    {
     "name": "stderr",
     "output_type": "stream",
     "text": [
      "\r",
      "Processing rows:  90%|█████████ | 1086/1200 [51:16<05:13,  2.75s/it]"
     ]
    },
    {
     "name": "stdout",
     "output_type": "stream",
     "text": [
      "laptop,7570000,None,55,13,Hà Nội,None,100,98,100,100,0,0,0,0,13\n"
     ]
    },
    {
     "name": "stderr",
     "output_type": "stream",
     "text": [
      "\r",
      "Processing rows:  91%|█████████ | 1087/1200 [51:19<05:14,  2.79s/it]"
     ]
    },
    {
     "name": "stdout",
     "output_type": "stream",
     "text": [
      "laptop,6851459,24,127,27,Ho Chi Minh,9999999,100,97,None,None,0,0,0,0,27\n"
     ]
    },
    {
     "name": "stderr",
     "output_type": "stream",
     "text": [
      "\r",
      "Processing rows:  91%|█████████ | 1088/1200 [51:21<04:55,  2.64s/it]"
     ]
    },
    {
     "name": "stdout",
     "output_type": "stream",
     "text": [
      "laptop,2570000,10,33,10,Ha Noi,3270000,100,98,100,100,0,0,0,1,10\n"
     ]
    },
    {
     "name": "stderr",
     "output_type": "stream",
     "text": [
      "\r",
      "Processing rows:  91%|█████████ | 1089/1200 [51:23<04:32,  2.46s/it]"
     ]
    },
    {
     "name": "stdout",
     "output_type": "stream",
     "text": [
      "laptop,1990000,None,7,1,Hà Nội,None,100,95,None,None,0,0,0,0,1\n"
     ]
    },
    {
     "name": "stderr",
     "output_type": "stream",
     "text": [
      "\r",
      "Processing rows:  91%|█████████ | 1090/1200 [51:27<05:05,  2.78s/it]"
     ]
    },
    {
     "name": "stdout",
     "output_type": "stream",
     "text": [
      "laptop,200000,50,nan,nan,Thua Thien Hue,400000,100600,94,95,78,0,0,0,0,0\n"
     ]
    },
    {
     "name": "stderr",
     "output_type": "stream",
     "text": [
      "\r",
      "Processing rows:  91%|█████████ | 1091/1200 [51:30<05:04,  2.79s/it]"
     ]
    },
    {
     "name": "stdout",
     "output_type": "stream",
     "text": [
      "laptop,1900000,5,33,14,Ho Chi Minh,2000000,13800,90,100,100,0,0,1,1,12\n"
     ]
    },
    {
     "name": "stderr",
     "output_type": "stream",
     "text": [
      "\r",
      "Processing rows:  91%|█████████ | 1092/1200 [51:32<04:53,  2.71s/it]"
     ]
    },
    {
     "name": "stdout",
     "output_type": "stream",
     "text": [
      "laptop,2668000,8,33,18,Nghệ An,2898000,56800,94,92,91,0,2,0,2,15\n"
     ]
    },
    {
     "name": "stderr",
     "output_type": "stream",
     "text": [
      "\r",
      "Processing rows:  91%|█████████ | 1093/1200 [51:35<04:52,  2.74s/it]"
     ]
    },
    {
     "name": "stdout",
     "output_type": "stream",
     "text": [
      "laptop,1200000,14,145,53,Ho Chi Minh,1400000,13800,90,100,100,3,2,1,2,45\n"
     ]
    },
    {
     "name": "stderr",
     "output_type": "stream",
     "text": [
      "\r",
      "Processing rows:  91%|█████████ | 1094/1200 [51:38<05:01,  2.84s/it]"
     ]
    },
    {
     "name": "stdout",
     "output_type": "stream",
     "text": [
      "laptop,1799000,None,50,13,Dong Nai,None,65500,96,50,50,0,0,0,1,12\n"
     ]
    },
    {
     "name": "stderr",
     "output_type": "stream",
     "text": [
      "\r",
      "Processing rows:  91%|█████████▏| 1095/1200 [51:40<04:50,  2.76s/it]"
     ]
    },
    {
     "name": "stdout",
     "output_type": "stream",
     "text": [
      "laptop,999999,17,38,10,Hung Yen,1199999,100600,82,100,nan,1,1,1,0,7\n"
     ]
    },
    {
     "name": "stderr",
     "output_type": "stream",
     "text": [
      "\r",
      "Processing rows:  91%|█████████▏| 1096/1200 [51:44<04:56,  2.85s/it]"
     ]
    },
    {
     "name": "stdout",
     "output_type": "stream",
     "text": [
      "laptop,2699000,None,None,None,Dong Nai,None,48200,97,100,None,0,0,0,0,0\n"
     ]
    },
    {
     "name": "stderr",
     "output_type": "stream",
     "text": [
      "\r",
      "Processing rows:  91%|█████████▏| 1097/1200 [51:46<04:43,  2.75s/it]"
     ]
    },
    {
     "name": "stdout",
     "output_type": "stream",
     "text": [
      "laptop,2290000,50,nan,2,Ho Chi Minh,4580000,9100,91,100,80,0,0,0,0,2\n"
     ]
    },
    {
     "name": "stderr",
     "output_type": "stream",
     "text": [
      "\r",
      "Processing rows:  92%|█████████▏| 1098/1200 [51:49<04:49,  2.84s/it]"
     ]
    },
    {
     "name": "stdout",
     "output_type": "stream",
     "text": [
      "laptop,1354350,10,5,1,Tien Giang,1500000,48200,82,86,87,0,0,0,0,1\n"
     ]
    },
    {
     "name": "stderr",
     "output_type": "stream",
     "text": [
      "\r",
      "Processing rows:  92%|█████████▏| 1099/1200 [51:52<04:38,  2.76s/it]"
     ]
    },
    {
     "name": "stdout",
     "output_type": "stream",
     "text": [
      "laptop,2699000,None,None,None,Dong Nai,None,48200,97,100,None,0,0,0,0,0\n"
     ]
    },
    {
     "name": "stderr",
     "output_type": "stream",
     "text": [
      "\r",
      "Processing rows:  92%|█████████▏| 1100/1200 [51:54<04:31,  2.72s/it]"
     ]
    },
    {
     "name": "stdout",
     "output_type": "stream",
     "text": [
      "laptop,80000,None,None,1,Ho Chi Minh,None,18300,97,100,100,0,0,0,0,1\n"
     ]
    },
    {
     "name": "stderr",
     "output_type": "stream",
     "text": [
      "\r",
      "Processing rows:  92%|█████████▏| 1101/1200 [51:57<04:25,  2.68s/it]"
     ]
    },
    {
     "name": "stdout",
     "output_type": "stream",
     "text": [
      "laptop,5618818,57,33,19,Ho Chi Minh,None,None,None,None,None,1,0,0,0,18\n"
     ]
    },
    {
     "name": "stderr",
     "output_type": "stream",
     "text": [
      "\r",
      "Processing rows:  92%|█████████▏| 1102/1200 [52:00<04:24,  2.70s/it]"
     ]
    },
    {
     "name": "stdout",
     "output_type": "stream",
     "text": [
      "laptop,668113,33,None,None,Nước ngoài,999900,17000,100,None,None,0,0,0,0,0\n"
     ]
    },
    {
     "name": "stderr",
     "output_type": "stream",
     "text": [
      "\r",
      "Processing rows:  92%|█████████▏| 1103/1200 [52:03<04:26,  2.75s/it]"
     ]
    },
    {
     "name": "stdout",
     "output_type": "stream",
     "text": [
      "laptop,7689000,None,40,7,Hung Yen,None,37700,100,98,100,0,0,0,0,7\n"
     ]
    },
    {
     "name": "stderr",
     "output_type": "stream",
     "text": [
      "\r",
      "Processing rows:  92%|█████████▏| 1104/1200 [52:05<04:03,  2.54s/it]"
     ]
    },
    {
     "name": "stdout",
     "output_type": "stream",
     "text": [
      "laptop,3500000,None,15,3,Ho Chi Minh,None,20100,88,100,100,0,0,0,0,3\n"
     ]
    },
    {
     "name": "stderr",
     "output_type": "stream",
     "text": [
      "\r",
      "Processing rows:  92%|█████████▏| 1105/1200 [52:08<04:24,  2.78s/it]"
     ]
    },
    {
     "name": "stdout",
     "output_type": "stream",
     "text": [
      "laptop,11550000,None,None,None,Nghệ An,None,90400,100,100,100,0,0,0,0,0\n"
     ]
    },
    {
     "name": "stderr",
     "output_type": "stream",
     "text": [
      "\r",
      "Processing rows:  92%|█████████▏| 1106/1200 [52:11<04:28,  2.86s/it]"
     ]
    },
    {
     "name": "stdout",
     "output_type": "stream",
     "text": [
      "laptop,3999999,None,7,3,Hà Nội,None,100,98,100,100,0,0,0,0,3\n"
     ]
    },
    {
     "name": "stderr",
     "output_type": "stream",
     "text": [
      "\r",
      "Processing rows:  92%|█████████▏| 1107/1200 [52:13<04:06,  2.65s/it]"
     ]
    },
    {
     "name": "stdout",
     "output_type": "stream",
     "text": [
      "laptop,1957560,53,None,None,Ho Chi Minh,4200000,27300,96,100,100,0,0,0,0,0\n"
     ]
    },
    {
     "name": "stderr",
     "output_type": "stream",
     "text": [
      "\r",
      "Processing rows:  92%|█████████▏| 1108/1200 [52:16<04:03,  2.65s/it]"
     ]
    },
    {
     "name": "stdout",
     "output_type": "stream",
     "text": [
      "laptop,11100000,None,None,None,Thai Nguyen,None,Miễn phí,None,None,None,0,0,0,0,0\n"
     ]
    },
    {
     "name": "stderr",
     "output_type": "stream",
     "text": [
      "\r",
      "Processing rows:  92%|█████████▏| 1109/1200 [52:18<03:43,  2.46s/it]"
     ]
    },
    {
     "name": "stdout",
     "output_type": "stream",
     "text": [
      "laptop,2990000,None,None,None,Hung Yen,None,70000,91,65,100,0,0,0,0,0\n"
     ]
    },
    {
     "name": "stderr",
     "output_type": "stream",
     "text": [
      "\r",
      "Processing rows:  92%|█████████▎| 1110/1200 [52:20<03:43,  2.48s/it]"
     ]
    },
    {
     "name": "stdout",
     "output_type": "stream",
     "text": [
      "laptop,11950000,None,None,None,Nghệ An,None,90400,100,100,100,0,0,0,0,0\n"
     ]
    },
    {
     "name": "stderr",
     "output_type": "stream",
     "text": [
      "\r",
      "Processing rows:  93%|█████████▎| 1111/1200 [52:23<03:41,  2.49s/it]"
     ]
    },
    {
     "name": "stdout",
     "output_type": "stream",
     "text": [
      "laptop,2800000,None,None,1,Ho Chi Minh,None,27300,100,None,None,0,0,0,0,1\n"
     ]
    },
    {
     "name": "stderr",
     "output_type": "stream",
     "text": [
      "\r",
      "Processing rows:  93%|█████████▎| 1112/1200 [52:25<03:43,  2.54s/it]"
     ]
    },
    {
     "name": "stdout",
     "output_type": "stream",
     "text": [
      "laptop,3800000,None,17,5,Hung Yen,None,70000,91,65,100,1,0,1,0,3\n"
     ]
    },
    {
     "name": "stderr",
     "output_type": "stream",
     "text": [
      "\r",
      "Processing rows:  93%|█████████▎| 1113/1200 [52:28<03:37,  2.50s/it]"
     ]
    },
    {
     "name": "stdout",
     "output_type": "stream",
     "text": [
      "laptop,3800000,46,None,1,Ho Chi Minh,7000000,16500,96,80,94,0,0,0,1,0\n"
     ]
    },
    {
     "name": "stderr",
     "output_type": "stream",
     "text": [
      "\r",
      "Processing rows:  93%|█████████▎| 1114/1200 [52:30<03:37,  2.53s/it]"
     ]
    },
    {
     "name": "stdout",
     "output_type": "stream",
     "text": [
      "laptop,14850000,None,5,None,Nghệ An,None,90400,100,100,100,0,0,0,0,0\n"
     ]
    },
    {
     "name": "stderr",
     "output_type": "stream",
     "text": [
      "\r",
      "Processing rows:  93%|█████████▎| 1115/1200 [52:34<04:10,  2.94s/it]"
     ]
    },
    {
     "name": "stdout",
     "output_type": "stream",
     "text": [
      "laptop,7254959,45,16,3,Hai Phong,13199999,100,100,100,0,0,0,0,3\n"
     ]
    },
    {
     "name": "stderr",
     "output_type": "stream",
     "text": [
      "\r",
      "Processing rows:  93%|█████████▎| 1116/1200 [52:37<03:47,  2.71s/it]"
     ]
    },
    {
     "name": "stdout",
     "output_type": "stream",
     "text": [
      "laptop,1800000,28,None,1,Ho Chi Minh,2500000,27300,96,100,100,0,0,0,0,1\n"
     ]
    },
    {
     "name": "stderr",
     "output_type": "stream",
     "text": [
      "\r",
      "Processing rows:  93%|█████████▎| 1117/1200 [52:40<03:59,  2.89s/it]"
     ]
    },
    {
     "name": "stdout",
     "output_type": "stream",
     "text": [
      "laptop,7131799,52,21,4,Hai Phong,16099999,100,100,100,0,0,0,0,5\n"
     ]
    },
    {
     "name": "stderr",
     "output_type": "stream",
     "text": [
      "\r",
      "Processing rows:  93%|█████████▎| 1118/1200 [52:43<03:56,  2.88s/it]"
     ]
    },
    {
     "name": "stdout",
     "output_type": "stream",
     "text": [
      "laptop,2600000,None,None,None,Ho Chi Minh,None,20100,88,100,None,0,0,0,0,0\n"
     ]
    },
    {
     "name": "stderr",
     "output_type": "stream",
     "text": [
      "\r",
      "Processing rows:  93%|█████████▎| 1119/1200 [52:45<03:47,  2.80s/it]"
     ]
    },
    {
     "name": "stdout",
     "output_type": "stream",
     "text": [
      "laptop,7224999,52,51,5,Hai Phong,13899999,100,100,100,0,0,0,0,5\n"
     ]
    },
    {
     "name": "stderr",
     "output_type": "stream",
     "text": [
      "\r",
      "Processing rows:  93%|█████████▎| 1120/1200 [52:48<03:39,  2.75s/it]"
     ]
    },
    {
     "name": "stdout",
     "output_type": "stream",
     "text": [
      "laptop,1650000,None,None,None,Ho Chi Minh,None,27300,100,100,None,0,0,0,0,0\n"
     ]
    },
    {
     "name": "stderr",
     "output_type": "stream",
     "text": [
      "\r",
      "Processing rows:  93%|█████████▎| 1121/1200 [52:51<03:39,  2.78s/it]"
     ]
    },
    {
     "name": "stdout",
     "output_type": "stream",
     "text": [
      "laptop,147177,10,None,None,Nước ngoài,163530,17000,None,None,None,0,0,0,0,0\n"
     ]
    },
    {
     "name": "stderr",
     "output_type": "stream",
     "text": [
      "\r",
      "Processing rows:  94%|█████████▎| 1122/1200 [52:54<03:42,  2.85s/it]"
     ]
    },
    {
     "name": "stdout",
     "output_type": "stream",
     "text": [
      "laptop,5499000,25,130,57,Hà Nội,7299000,74400,96,100,100,0,0,0,2,55\n"
     ]
    },
    {
     "name": "stderr",
     "output_type": "stream",
     "text": [
      "\r",
      "Processing rows:  94%|█████████▎| 1123/1200 [52:57<03:54,  3.04s/it]"
     ]
    },
    {
     "name": "stdout",
     "output_type": "stream",
     "text": [
      "laptop,539000,18,None,None,Nước ngoài,922000,100,100,None,100,0,0,0,0\n"
     ]
    },
    {
     "name": "stderr",
     "output_type": "stream",
     "text": [
      "\r",
      "Processing rows:  94%|█████████▎| 1124/1200 [52:59<03:25,  2.70s/it]"
     ]
    },
    {
     "name": "stdout",
     "output_type": "stream",
     "text": [
      "laptop,361200,23,None,None,Nước ngoài,469560,100,97,100,100,0,0,0,0,0\n"
     ]
    },
    {
     "name": "stderr",
     "output_type": "stream",
     "text": [
      "\r",
      "Processing rows:  94%|█████████▍| 1125/1200 [53:02<03:22,  2.70s/it]"
     ]
    },
    {
     "name": "stdout",
     "output_type": "stream",
     "text": [
      "laptop,1099000,None,None,None,Hanoi,None,63400,93,92,78,0,0,0,0,0\n"
     ]
    },
    {
     "name": "stderr",
     "output_type": "stream",
     "text": [
      "\r",
      "Processing rows:  94%|█████████▍| 1126/1200 [53:05<03:21,  2.73s/it]"
     ]
    },
    {
     "name": "stdout",
     "output_type": "stream",
     "text": [
      "laptop,680000,None,None,None,Ho Chi Minh,None,27300,100,75,100,0,0,0,0,0\n"
     ]
    },
    {
     "name": "stderr",
     "output_type": "stream",
     "text": [
      "\r",
      "Processing rows:  94%|█████████▍| 1127/1200 [53:07<03:19,  2.73s/it]"
     ]
    },
    {
     "name": "stdout",
     "output_type": "stream",
     "text": [
      "laptop,990000,42,None,None,Thanh Hoa,1699969,80200,86,100,None,0,0,0,0,0\n"
     ]
    },
    {
     "name": "stderr",
     "output_type": "stream",
     "text": [
      "\r",
      "Processing rows:  94%|█████████▍| 1128/1200 [53:10<03:02,  2.54s/it]"
     ]
    },
    {
     "name": "stdout",
     "output_type": "stream",
     "text": [
      "laptop,219000,None,None,None,Nước ngoài,None,17000,96,94,100,0,0,0,0,0\n"
     ]
    },
    {
     "name": "stderr",
     "output_type": "stream",
     "text": [
      "\r",
      "Processing rows:  94%|█████████▍| 1129/1200 [53:12<02:51,  2.42s/it]"
     ]
    },
    {
     "name": "stdout",
     "output_type": "stream",
     "text": [
      "laptop,1031000,None,None,None,Tien Giang,None,40300,87,37,100,0,0,0,0,0\n"
     ]
    },
    {
     "name": "stderr",
     "output_type": "stream",
     "text": [
      "\r",
      "Processing rows:  94%|█████████▍| 1130/1200 [53:14<02:54,  2.49s/it]"
     ]
    },
    {
     "name": "stdout",
     "output_type": "stream",
     "text": [
      "laptop,2580420,43,None,1,Ho Chi Minh,5500000,23800,96,100,100,0,0,0,0,1\n"
     ]
    },
    {
     "name": "stderr",
     "output_type": "stream",
     "text": [
      "\r",
      "Processing rows:  94%|█████████▍| 1131/1200 [53:17<02:54,  2.53s/it]"
     ]
    },
    {
     "name": "stdout",
     "output_type": "stream",
     "text": [
      "laptop,2400000,None,31,10,Hà Nội,None,74400,92,50,85,0,0,1,2,7\n"
     ]
    },
    {
     "name": "stderr",
     "output_type": "stream",
     "text": [
      "\r",
      "Processing rows:  94%|█████████▍| 1132/1200 [53:19<02:42,  2.39s/it]"
     ]
    },
    {
     "name": "stdout",
     "output_type": "stream",
     "text": [
      "laptop,1400000,None,24,10,Tien Giang,None,40300,87,37,100,2,0,0,0,9\n"
     ]
    },
    {
     "name": "stderr",
     "output_type": "stream",
     "text": [
      "\r",
      "Processing rows:  94%|█████████▍| 1133/1200 [53:22<03:00,  2.69s/it]"
     ]
    },
    {
     "name": "stdout",
     "output_type": "stream",
     "text": [
      "laptop,151000,74,None,None,Nước ngoài,580000,17000,96,94,100,0,0,0,0,0\n"
     ]
    },
    {
     "name": "stderr",
     "output_type": "stream",
     "text": [
      "\r",
      "Processing rows:  94%|█████████▍| 1134/1200 [53:25<02:47,  2.54s/it]"
     ]
    },
    {
     "name": "stdout",
     "output_type": "stream",
     "text": [
      "laptop,2550000,49,169,50,Thai Binh,5000000,80200,95,100,None,2,0,0,2,46\n"
     ]
    },
    {
     "name": "stderr",
     "output_type": "stream",
     "text": [
      "\r",
      "Processing rows:  95%|█████████▍| 1135/1200 [53:29<03:15,  3.01s/it]"
     ]
    },
    {
     "name": "stdout",
     "output_type": "stream",
     "text": [
      "laptop,13350000,None,None,None,Nghệ An,None,90400,100,100,100,0,0,0,0,0\n"
     ]
    },
    {
     "name": "stderr",
     "output_type": "stream",
     "text": [
      "\r",
      "Processing rows:  95%|█████████▍| 1136/1200 [53:31<03:03,  2.86s/it]"
     ]
    },
    {
     "name": "stdout",
     "output_type": "stream",
     "text": [
      "laptop,1100000,8,nan,nan,Dong Nai,1200000,100,100,100,0,0,0,0,0\n"
     ]
    },
    {
     "name": "stderr",
     "output_type": "stream",
     "text": [
      "\r",
      "Processing rows:  95%|█████████▍| 1137/1200 [53:34<03:02,  2.89s/it]"
     ]
    },
    {
     "name": "stdout",
     "output_type": "stream",
     "text": [
      "laptop,2699000,None,None,None,Dong Nai,None,48200,97,100,None,0,0,0,0,0\n"
     ]
    },
    {
     "name": "stderr",
     "output_type": "stream",
     "text": [
      "\r",
      "Processing rows:  95%|█████████▍| 1138/1200 [53:37<02:51,  2.77s/it]"
     ]
    },
    {
     "name": "stdout",
     "output_type": "stream",
     "text": [
      "laptop,15000000,None,35,6,Hung Yen,None,37700,100,98,100,0,0,0,0,6\n"
     ]
    },
    {
     "name": "stderr",
     "output_type": "stream",
     "text": [
      "\r",
      "Processing rows:  95%|█████████▍| 1139/1200 [53:40<03:00,  2.95s/it]"
     ]
    },
    {
     "name": "stdout",
     "output_type": "stream",
     "text": [
      "laptop,1200000,14,nan,2,Ho Chi Minh,1400000,13800,90,100,100,0,0,0,0,2\n"
     ]
    },
    {
     "name": "stderr",
     "output_type": "stream",
     "text": [
      "\r",
      "Processing rows:  95%|█████████▌| 1140/1200 [53:43<02:51,  2.86s/it]"
     ]
    },
    {
     "name": "stdout",
     "output_type": "stream",
     "text": [
      "laptop,6350000,31,5,None,Ho Chi Minh,9250000,20100,88,100,100,0,0,0,0,0\n"
     ]
    },
    {
     "name": "stderr",
     "output_type": "stream",
     "text": [
      "\r",
      "Processing rows:  95%|█████████▌| 1141/1200 [53:45<02:40,  2.72s/it]"
     ]
    },
    {
     "name": "stdout",
     "output_type": "stream",
     "text": [
      "laptop,1700000,None,17,8,Hung Yen,None,56800,91,65,100,0,0,0,1,7\n"
     ]
    },
    {
     "name": "stderr",
     "output_type": "stream",
     "text": [
      "\r",
      "Processing rows:  95%|█████████▌| 1142/1200 [53:48<02:36,  2.70s/it]"
     ]
    },
    {
     "name": "stdout",
     "output_type": "stream",
     "text": [
      "laptop,3900000,None,None,None,Thanh Hoa,None,100600,None,None,None,0,0,0,0,0\n"
     ]
    },
    {
     "name": "stderr",
     "output_type": "stream",
     "text": [
      "\r",
      "Processing rows:  95%|█████████▌| 1143/1200 [53:50<02:28,  2.61s/it]"
     ]
    },
    {
     "name": "stdout",
     "output_type": "stream",
     "text": [
      "laptop,2100000,None,None,None,Hanoi,None,None,None,None,0,0,0,0,0\n"
     ]
    },
    {
     "name": "stderr",
     "output_type": "stream",
     "text": [
      "\r",
      "Processing rows:  95%|█████████▌| 1144/1200 [53:54<02:46,  2.97s/it]"
     ]
    },
    {
     "name": "stdout",
     "output_type": "stream",
     "text": [
      "laptop,8566770,None,None,None,Hung Yen,None,37700,100,98,100,0,0,0,0,0\n"
     ]
    },
    {
     "name": "stderr",
     "output_type": "stream",
     "text": [
      "\r",
      "Processing rows:  95%|█████████▌| 1145/1200 [53:57<02:40,  2.92s/it]"
     ]
    },
    {
     "name": "stdout",
     "output_type": "stream",
     "text": [
      "laptop,29990000,25,nan,nan,Ho Chi Minh,39990000,21200,99,97,99,0,0,0,0,0\n"
     ]
    },
    {
     "name": "stderr",
     "output_type": "stream",
     "text": [
      "\r",
      "Processing rows:  96%|█████████▌| 1146/1200 [54:00<02:34,  2.86s/it]"
     ]
    },
    {
     "name": "stdout",
     "output_type": "stream",
     "text": [
      "laptop,4500000,None,14,5,Hung Yen,None,51100,100,98,100,0,0,0,0,5\n"
     ]
    },
    {
     "name": "stderr",
     "output_type": "stream",
     "text": [
      "\r",
      "Processing rows:  96%|█████████▌| 1147/1200 [54:02<02:21,  2.67s/it]"
     ]
    },
    {
     "name": "stdout",
     "output_type": "stream",
     "text": [
      "laptop,15500000,26,5,None,Ho Chi Minh,20990000,12800,94,100,None,0,0,0,0,0\n"
     ]
    },
    {
     "name": "stderr",
     "output_type": "stream",
     "text": [
      "\r",
      "Processing rows:  96%|█████████▌| 1148/1200 [54:04<02:18,  2.66s/it]"
     ]
    },
    {
     "name": "stdout",
     "output_type": "stream",
     "text": [
      "laptop,5622499,14,8,2,Hà Nội,None,100,98,100,100,0,0,0,0,2\n"
     ]
    },
    {
     "name": "stderr",
     "output_type": "stream",
     "text": [
      "\r",
      "Processing rows:  96%|█████████▌| 1149/1200 [54:07<02:14,  2.65s/it]"
     ]
    },
    {
     "name": "stdout",
     "output_type": "stream",
     "text": [
      "laptop,17337000,21,nan,nan,Ho Chi Minh,21990000,16300,94,100,nan,0,0,0,0,0\n"
     ]
    },
    {
     "name": "stderr",
     "output_type": "stream",
     "text": [
      "\r",
      "Processing rows:  96%|█████████▌| 1150/1200 [54:10<02:10,  2.62s/it]"
     ]
    },
    {
     "name": "stdout",
     "output_type": "stream",
     "text": [
      "laptop,1571000,None,None,None,Hanoi,None,64700,79,84,96,0,0,0,0,1\n"
     ]
    },
    {
     "name": "stderr",
     "output_type": "stream",
     "text": [
      "\r",
      "Processing rows:  96%|█████████▌| 1151/1200 [54:12<02:01,  2.48s/it]"
     ]
    },
    {
     "name": "stdout",
     "output_type": "stream",
     "text": [
      "laptop,6500000,None,20,4,Hung Yen,14000000,70000,91,65,100,0,0,1,0,3\n"
     ]
    },
    {
     "name": "stderr",
     "output_type": "stream",
     "text": [
      "\r",
      "Processing rows:  96%|█████████▌| 1152/1200 [54:14<02:01,  2.54s/it]"
     ]
    },
    {
     "name": "stdout",
     "output_type": "stream",
     "text": [
      "laptop,6500000,None,11,5,Hung Yen,None,70000,91,65,100,0,0,0,1,4\n"
     ]
    },
    {
     "name": "stderr",
     "output_type": "stream",
     "text": [
      "\r",
      "Processing rows:  96%|█████████▌| 1153/1200 [54:18<02:15,  2.89s/it]"
     ]
    },
    {
     "name": "stdout",
     "output_type": "stream",
     "text": [
      "laptop,10590000,24,9,1,Ho Chi Minh,13890000,23800,94,100,None,0,0,1,0,0\n"
     ]
    },
    {
     "name": "stderr",
     "output_type": "stream",
     "text": [
      "\r",
      "Processing rows:  96%|█████████▌| 1154/1200 [54:21<02:09,  2.80s/it]"
     ]
    },
    {
     "name": "stdout",
     "output_type": "stream",
     "text": [
      "laptop,8800000,None,24,7,Hà Nội,None,38000,97,100,100,0,0,0,0,7\n"
     ]
    },
    {
     "name": "stderr",
     "output_type": "stream",
     "text": [
      "\r",
      "Processing rows:  96%|█████████▋| 1155/1200 [54:24<02:07,  2.84s/it]"
     ]
    },
    {
     "name": "stdout",
     "output_type": "stream",
     "text": [
      "laptop,8999000,None,24,6,Hung Yen,None,70000,91,65,100,0,0,1,0,5\n"
     ]
    },
    {
     "name": "stderr",
     "output_type": "stream",
     "text": [
      "\r",
      "Processing rows:  96%|█████████▋| 1156/1200 [54:26<01:56,  2.65s/it]"
     ]
    },
    {
     "name": "stdout",
     "output_type": "stream",
     "text": [
      "laptop,14000000,None,None,None,Hanoi,None,78950100,None,None,None,0,0,0,0,0\n"
     ]
    },
    {
     "name": "stderr",
     "output_type": "stream",
     "text": [
      "\r",
      "Processing rows:  96%|█████████▋| 1157/1200 [54:28<01:47,  2.50s/it]"
     ]
    },
    {
     "name": "stdout",
     "output_type": "stream",
     "text": [
      "laptop,4200000,28,5,3,Ho Chi Minh,5800000,16500,96,80,94,0,0,0,0,4\n"
     ]
    },
    {
     "name": "stderr",
     "output_type": "stream",
     "text": [
      "\r",
      "Processing rows:  96%|█████████▋| 1158/1200 [54:30<01:39,  2.37s/it]"
     ]
    },
    {
     "name": "stdout",
     "output_type": "stream",
     "text": [
      "laptop,2530000,None,None,None,Ho Chi Minh,None,20100,None,None,None,0,0,0,0,0\n"
     ]
    },
    {
     "name": "stderr",
     "output_type": "stream",
     "text": [
      "\r",
      "Processing rows:  97%|█████████▋| 1159/1200 [54:33<01:42,  2.51s/it]"
     ]
    },
    {
     "name": "stdout",
     "output_type": "stream",
     "text": [
      "laptop,6600000,6,nan,nan,Dong Nai,7699000,100,95,100,100,0,0,0,0,0\n"
     ]
    },
    {
     "name": "stderr",
     "output_type": "stream",
     "text": [
      "\r",
      "Processing rows:  97%|█████████▋| 1160/1200 [54:35<01:41,  2.54s/it]"
     ]
    },
    {
     "name": "stdout",
     "output_type": "stream",
     "text": [
      "laptop,6850000,None,None,None,Nam Dinh,None,90400,91,90,100,0,0,0,0,0\n"
     ]
    },
    {
     "name": "stderr",
     "output_type": "stream",
     "text": [
      "\r",
      "Processing rows:  97%|█████████▋| 1161/1200 [54:38<01:44,  2.67s/it]"
     ]
    },
    {
     "name": "stdout",
     "output_type": "stream",
     "text": [
      "laptop,2870000,12,7,2,Hà Nội,3270000,100,98,100,100,0,0,0,1,1\n"
     ]
    },
    {
     "name": "stderr",
     "output_type": "stream",
     "text": [
      "\r",
      "Processing rows:  97%|█████████▋| 1162/1200 [54:41<01:38,  2.59s/it]"
     ]
    },
    {
     "name": "stdout",
     "output_type": "stream",
     "text": [
      "laptop,2900000,None,None,None,Hanoi,None,32700,None,None,None,0,0,0,0,0\n"
     ]
    },
    {
     "name": "stderr",
     "output_type": "stream",
     "text": [
      "\r",
      "Processing rows:  97%|█████████▋| 1163/1200 [54:43<01:35,  2.58s/it]"
     ]
    },
    {
     "name": "stdout",
     "output_type": "stream",
     "text": [
      "laptop,4439400,56,None,None,Ho Chi Minh,10500000,16500,96,80,94,0,0,0,0,0\n"
     ]
    },
    {
     "name": "stderr",
     "output_type": "stream",
     "text": [
      "\r",
      "Processing rows:  97%|█████████▋| 1164/1200 [54:45<01:26,  2.41s/it]"
     ]
    },
    {
     "name": "stdout",
     "output_type": "stream",
     "text": [
      "laptop,7191218,40,103,39,Ho Chi Minh,None,100,98,None,None,1,0,1,0,37\n"
     ]
    },
    {
     "name": "stderr",
     "output_type": "stream",
     "text": [
      "\r",
      "Processing rows:  97%|█████████▋| 1165/1200 [54:48<01:29,  2.57s/it]"
     ]
    },
    {
     "name": "stdout",
     "output_type": "stream",
     "text": [
      "laptop,4650000,None,8,1,Ha Noi,None,45100,99,100,100,0,0,0,0,1\n"
     ]
    },
    {
     "name": "stderr",
     "output_type": "stream",
     "text": [
      "\r",
      "Processing rows:  97%|█████████▋| 1166/1200 [54:51<01:31,  2.68s/it]"
     ]
    },
    {
     "name": "stdout",
     "output_type": "stream",
     "text": [
      "laptop,3470000,None,9,5,Hà Nội,None,100,98,100,100,0,0,1,0,4\n"
     ]
    },
    {
     "name": "stderr",
     "output_type": "stream",
     "text": [
      "\r",
      "Processing rows:  97%|█████████▋| 1167/1200 [54:54<01:31,  2.77s/it]"
     ]
    },
    {
     "name": "stdout",
     "output_type": "stream",
     "text": [
      "laptop,3270000,24,9,1,Ha Noi,4289000,100,98,100,100,0,0,0,0,1\n"
     ]
    },
    {
     "name": "stderr",
     "output_type": "stream",
     "text": [
      "\r",
      "Processing rows:  97%|█████████▋| 1168/1200 [54:57<01:26,  2.69s/it]"
     ]
    },
    {
     "name": "stdout",
     "output_type": "stream",
     "text": [
      "laptop,3070000,6,5,1,Ha Noi,3270000,100,98,100,100,0,0,0,0,1\n"
     ]
    },
    {
     "name": "stderr",
     "output_type": "stream",
     "text": [
      "\r",
      "Processing rows:  97%|█████████▋| 1169/1200 [55:01<01:32,  3.00s/it]"
     ]
    },
    {
     "name": "stdout",
     "output_type": "stream",
     "text": [
      "laptop,2870000,None,None,None,Hanoi,None,100,98,100,100,0,0,0,0,0\n"
     ]
    },
    {
     "name": "stderr",
     "output_type": "stream",
     "text": [
      "\r",
      "Processing rows:  98%|█████████▊| 1170/1200 [55:04<01:34,  3.16s/it]"
     ]
    },
    {
     "name": "stdout",
     "output_type": "stream",
     "text": [
      "laptop,1790000,None,None,None,Ho Chi Minh,None,27300,100,100,None,0,0,0,0,0\n"
     ]
    },
    {
     "name": "stderr",
     "output_type": "stream",
     "text": [
      "\r",
      "Processing rows:  98%|█████████▊| 1171/1200 [55:06<01:25,  2.94s/it]"
     ]
    },
    {
     "name": "stdout",
     "output_type": "stream",
     "text": [
      "laptop,1799000,None,133,36,Dong Nai,None,65500,99,100,50,0,0,0,0,36\n"
     ]
    },
    {
     "name": "stderr",
     "output_type": "stream",
     "text": [
      "\r",
      "Processing rows:  98%|█████████▊| 1172/1200 [55:09<01:22,  2.94s/it]"
     ]
    },
    {
     "name": "stdout",
     "output_type": "stream",
     "text": [
      "laptop,4200000,None,None,None,Hung Yen,None,56800,100,98,100,0,0,0,0,0\n"
     ]
    },
    {
     "name": "stderr",
     "output_type": "stream",
     "text": [
      "\r",
      "Processing rows:  98%|█████████▊| 1173/1200 [55:12<01:16,  2.84s/it]"
     ]
    },
    {
     "name": "stdout",
     "output_type": "stream",
     "text": [
      "laptop,12000000,None,None,None,Thai Nguyen,None,43900,None,None,None,0,0,0,0,0\n"
     ]
    },
    {
     "name": "stderr",
     "output_type": "stream",
     "text": [
      "\r",
      "Processing rows:  98%|█████████▊| 1174/1200 [55:16<01:25,  3.30s/it]"
     ]
    },
    {
     "name": "stdout",
     "output_type": "stream",
     "text": [
      "laptop,1799000,None,64,18,Dong Nai,None,65500,96,50,50,1,0,0,1,16\n"
     ]
    },
    {
     "name": "stderr",
     "output_type": "stream",
     "text": [
      "\r",
      "Processing rows:  98%|█████████▊| 1175/1200 [55:18<01:12,  2.90s/it]"
     ]
    },
    {
     "name": "stdout",
     "output_type": "stream",
     "text": [
      "laptop,14900000,None,None,None,Ho Chi Minh,None,27300,None,None,None,0,0,0,0,0\n"
     ]
    },
    {
     "name": "stderr",
     "output_type": "stream",
     "text": [
      "\r",
      "Processing rows:  98%|█████████▊| 1176/1200 [55:22<01:11,  2.98s/it]"
     ]
    },
    {
     "name": "stdout",
     "output_type": "stream",
     "text": [
      "laptop,8500000,None,None,None,Hanoi,None,Miễn phí,None,100,100,0,0,0,0,0\n"
     ]
    },
    {
     "name": "stderr",
     "output_type": "stream",
     "text": [
      "\r",
      "Processing rows:  98%|█████████▊| 1177/1200 [55:25<01:10,  3.09s/it]"
     ]
    },
    {
     "name": "stdout",
     "output_type": "stream",
     "text": [
      "laptop,8120000,None,100,15,Hung Yen,None,37700,97,100,100,0,0,0,0,15\n"
     ]
    },
    {
     "name": "stderr",
     "output_type": "stream",
     "text": [
      "\r",
      "Processing rows:  98%|█████████▊| 1178/1200 [55:28<01:04,  2.95s/it]"
     ]
    },
    {
     "name": "stdout",
     "output_type": "stream",
     "text": [
      "laptop,6900000,None,13,5,Hung Yen,None,70000,91,65,100,1,0,1,1,2\n"
     ]
    },
    {
     "name": "stderr",
     "output_type": "stream",
     "text": [
      "\r",
      "Processing rows:  98%|█████████▊| 1179/1200 [55:31<01:06,  3.17s/it]"
     ]
    },
    {
     "name": "stdout",
     "output_type": "stream",
     "text": [
      "laptop,7250000,None,None,None,Nghệ An,None,90400,100,100,100,0,0,0,0,0\n"
     ]
    },
    {
     "name": "stderr",
     "output_type": "stream",
     "text": [
      "\r",
      "Processing rows:  98%|█████████▊| 1180/1200 [55:34<01:00,  3.01s/it]"
     ]
    },
    {
     "name": "stdout",
     "output_type": "stream",
     "text": [
      "laptop,12690000,None,None,None,Ho Chi Minh,None,None,99,None,100,0,0,0,0,0\n"
     ]
    },
    {
     "name": "stderr",
     "output_type": "stream",
     "text": [
      "\r",
      "Processing rows:  98%|█████████▊| 1181/1200 [55:36<00:53,  2.81s/it]"
     ]
    },
    {
     "name": "stdout",
     "output_type": "stream",
     "text": [
      "laptop,6800000,None,None,None,Thanh Hoa,None,100600,None,None,None,0,0,0,0,0\n"
     ]
    },
    {
     "name": "stderr",
     "output_type": "stream",
     "text": [
      "\r",
      "Processing rows:  98%|█████████▊| 1182/1200 [55:39<00:50,  2.78s/it]"
     ]
    },
    {
     "name": "stdout",
     "output_type": "stream",
     "text": [
      "laptop,8890000,30,6,2,Ho Chi Minh,12790000,23800,94,100,,0,0,0,0,2\n"
     ]
    },
    {
     "name": "stderr",
     "output_type": "stream",
     "text": [
      "\r",
      "Processing rows:  99%|█████████▊| 1183/1200 [55:42<00:47,  2.77s/it]"
     ]
    },
    {
     "name": "stdout",
     "output_type": "stream",
     "text": [
      "laptop,5200000,None,None,None,Thanh Hoa,None,100600,None,None,None,0,0,0,0,0\n"
     ]
    },
    {
     "name": "stderr",
     "output_type": "stream",
     "text": [
      "\r",
      "Processing rows:  99%|█████████▊| 1184/1200 [55:44<00:42,  2.64s/it]"
     ]
    },
    {
     "name": "stdout",
     "output_type": "stream",
     "text": [
      "laptop,8550000,None,None,None,Nghệ An,None,90400,100,100,100,0,0,0,0,0\n"
     ]
    },
    {
     "name": "stderr",
     "output_type": "stream",
     "text": [
      "\r",
      "Processing rows:  99%|█████████▉| 1185/1200 [55:47<00:42,  2.80s/it]"
     ]
    },
    {
     "name": "stdout",
     "output_type": "stream",
     "text": [
      "laptop,19690000,10,nan,nan,Ho Chi Minh,21990000,nan,96,nan,81,0,0,0,0,0\n"
     ]
    },
    {
     "name": "stderr",
     "output_type": "stream",
     "text": [
      "\r",
      "Processing rows:  99%|█████████▉| 1186/1200 [55:50<00:40,  2.88s/it]"
     ]
    },
    {
     "name": "stdout",
     "output_type": "stream",
     "text": [
      "laptop,10590000,None,None,None,Thanh Hoa,None,56800,96,100,66,0,0,0,0,0\n"
     ]
    },
    {
     "name": "stderr",
     "output_type": "stream",
     "text": [
      "\r",
      "Processing rows:  99%|█████████▉| 1187/1200 [55:52<00:33,  2.60s/it]"
     ]
    },
    {
     "name": "stdout",
     "output_type": "stream",
     "text": [
      "laptop,5750000,None,6,None,Thai Binh,None,Miễn phí,95,100,None,0,0,0,0,0\n"
     ]
    },
    {
     "name": "stderr",
     "output_type": "stream",
     "text": [
      "\r",
      "Processing rows:  99%|█████████▉| 1188/1200 [55:55<00:30,  2.57s/it]"
     ]
    },
    {
     "name": "stdout",
     "output_type": "stream",
     "text": [
      "laptop,5790000,3,nan,nan,Nam Dinh,5998000,90400,91,90,100,0,0,0,0,0\n"
     ]
    },
    {
     "name": "stderr",
     "output_type": "stream",
     "text": [
      "\r",
      "Processing rows:  99%|█████████▉| 1189/1200 [55:57<00:26,  2.39s/it]"
     ]
    },
    {
     "name": "stdout",
     "output_type": "stream",
     "text": [
      "laptop,9950000,15,7,1,Ha Noi,11700000,94800,100,None,None,0,0,0,0,1\n"
     ]
    },
    {
     "name": "stderr",
     "output_type": "stream",
     "text": [
      "\r",
      "Processing rows:  99%|█████████▉| 1190/1200 [56:01<00:29,  2.95s/it]"
     ]
    },
    {
     "name": "stdout",
     "output_type": "stream",
     "text": [
      "laptop,27990000,26,None,None,Ho Chi Minh,37999000,21200,99,97,99,0,0,0,0,0\n"
     ]
    },
    {
     "name": "stderr",
     "output_type": "stream",
     "text": [
      "\r",
      "Processing rows:  99%|█████████▉| 1191/1200 [56:03<00:24,  2.76s/it]"
     ]
    },
    {
     "name": "stdout",
     "output_type": "stream",
     "text": [
      "laptop,8500000,None,None,1,Thanh Hoa,None,Miễn phí,92,None,33,0,0,0,0,1\n"
     ]
    },
    {
     "name": "stderr",
     "output_type": "stream",
     "text": [
      "\r",
      "Processing rows:  99%|█████████▉| 1192/1200 [56:05<00:20,  2.51s/it]"
     ]
    },
    {
     "name": "stdout",
     "output_type": "stream",
     "text": [
      "laptop,12600000,None,None,None,Hanoi,None,100,98,100,100,0,0,0,0,0\n"
     ]
    },
    {
     "name": "stderr",
     "output_type": "stream",
     "text": [
      "\r",
      "Processing rows:  99%|█████████▉| 1193/1200 [56:08<00:17,  2.48s/it]"
     ]
    },
    {
     "name": "stdout",
     "output_type": "stream",
     "text": [
      "laptop,9800000,None,None,None,Hanoi,None,34100,90,100,75,0,0,0,0,0\n"
     ]
    },
    {
     "name": "stderr",
     "output_type": "stream",
     "text": [
      "\r",
      "Processing rows: 100%|█████████▉| 1194/1200 [56:11<00:16,  2.70s/it]"
     ]
    },
    {
     "name": "stdout",
     "output_type": "stream",
     "text": [
      "laptop,8400000,None,16,5,Hung Yen,None,70000,91,65,100,0,0,0,0,5\n"
     ]
    },
    {
     "name": "stderr",
     "output_type": "stream",
     "text": [
      "\r",
      "Processing rows: 100%|█████████▉| 1195/1200 [56:13<00:12,  2.53s/it]"
     ]
    },
    {
     "name": "stdout",
     "output_type": "stream",
     "text": [
      "laptop,8500000,None,23,4,Hung Yen,None,70000,91,65,100,0,0,1,0,3\n"
     ]
    },
    {
     "name": "stderr",
     "output_type": "stream",
     "text": [
      "\r",
      "Processing rows: 100%|█████████▉| 1196/1200 [56:15<00:10,  2.51s/it]"
     ]
    },
    {
     "name": "stdout",
     "output_type": "stream",
     "text": [
      "laptop,17200000,None,None,None,Hanoi,None,78950100,None,None,None,0,0,0,0,0\n"
     ]
    },
    {
     "name": "stderr",
     "output_type": "stream",
     "text": [
      "\r",
      "Processing rows: 100%|█████████▉| 1197/1200 [56:18<00:07,  2.47s/it]"
     ]
    },
    {
     "name": "stdout",
     "output_type": "stream",
     "text": [
      "laptop,19990000,None,None,None,Ho Chi Minh,None,None,99,None,100,0,0,0,0,0\n"
     ]
    },
    {
     "name": "stderr",
     "output_type": "stream",
     "text": [
      "\r",
      "Processing rows: 100%|█████████▉| 1198/1200 [56:20<00:05,  2.52s/it]"
     ]
    },
    {
     "name": "stdout",
     "output_type": "stream",
     "text": [
      "laptop,12990000,None,None,1,Nghệ An,None,90400,100,100,100,0,0,0,0,1\n"
     ]
    },
    {
     "name": "stderr",
     "output_type": "stream",
     "text": [
      "\r",
      "Processing rows: 100%|█████████▉| 1199/1200 [56:23<00:02,  2.63s/it]"
     ]
    },
    {
     "name": "stdout",
     "output_type": "stream",
     "text": [
      "laptop,5900000,14,None,None,Hanoi,6900000,None,97,100,100,0,0,0,0,0\n"
     ]
    },
    {
     "name": "stderr",
     "output_type": "stream",
     "text": [
      "Processing rows: 100%|██████████| 1200/1200 [56:26<00:00,  2.82s/it]"
     ]
    },
    {
     "name": "stdout",
     "output_type": "stream",
     "text": [
      "laptop,6299000,3,nan,0,Dong Nai,6500000,100,95,100,100,0,0,0,0,1\n"
     ]
    },
    {
     "name": "stderr",
     "output_type": "stream",
     "text": [
      "\n"
     ]
    }
   ],
   "source": [
    "def format_row(row):\n",
    "    return '|'.join(map(str, row.values))\n",
    "\n",
    "results = []\n",
    "for index, row in tqdm(data.iterrows(), total=data.shape[0], desc=\"Processing rows\"):\n",
    "    formatted_data = format_row(row)\n",
    "    api_response = call_api(formatted_data)\n",
    "    cleaned_data = api_response['choices'][0]['message']['content'].strip()\n",
    "    #print(cleaned_data)\n",
    "    cleaned_data = cleaned_data.replace('Here is the standardized data:\\n\\n', '').replace('\\n', ',')\n",
    "    print(cleaned_data)\n",
    "    results.append(cleaned_data.split(','))"
   ]
  },
  {
   "cell_type": "code",
   "execution_count": 12,
   "id": "3a203cbd",
   "metadata": {},
   "outputs": [
    {
     "data": {
      "text/html": [
       "<div>\n",
       "<style scoped>\n",
       "    .dataframe tbody tr th:only-of-type {\n",
       "        vertical-align: middle;\n",
       "    }\n",
       "\n",
       "    .dataframe tbody tr th {\n",
       "        vertical-align: top;\n",
       "    }\n",
       "\n",
       "    .dataframe thead th {\n",
       "        text-align: right;\n",
       "    }\n",
       "</style>\n",
       "<table border=\"1\" class=\"dataframe\">\n",
       "  <thead>\n",
       "    <tr style=\"text-align: right;\">\n",
       "      <th></th>\n",
       "      <th>Type</th>\n",
       "      <th>Price_sale</th>\n",
       "      <th>Sale_off</th>\n",
       "      <th>Total_sold</th>\n",
       "      <th>Preview</th>\n",
       "      <th>Location</th>\n",
       "      <th>Price_original</th>\n",
       "      <th>Ship_price</th>\n",
       "      <th>Sale_rating</th>\n",
       "      <th>Ship_on_time</th>\n",
       "      <th>Chat_response</th>\n",
       "      <th>One_star</th>\n",
       "      <th>Two_star</th>\n",
       "      <th>Three_star</th>\n",
       "      <th>Four_star</th>\n",
       "      <th>Five_star</th>\n",
       "    </tr>\n",
       "  </thead>\n",
       "  <tbody>\n",
       "    <tr>\n",
       "      <th>0</th>\n",
       "      <td>laptop</td>\n",
       "      <td>17990000</td>\n",
       "      <td>38</td>\n",
       "      <td>3000</td>\n",
       "      <td>666</td>\n",
       "      <td>Ho Chi Minh</td>\n",
       "      <td>28990000</td>\n",
       "      <td>10200</td>\n",
       "      <td>94</td>\n",
       "      <td>98</td>\n",
       "      <td>100</td>\n",
       "      <td>28</td>\n",
       "      <td>5</td>\n",
       "      <td>10</td>\n",
       "      <td>17</td>\n",
       "      <td>606</td>\n",
       "    </tr>\n",
       "    <tr>\n",
       "      <th>1</th>\n",
       "      <td>laptop</td>\n",
       "      <td>7223999</td>\n",
       "      <td>52</td>\n",
       "      <td>51</td>\n",
       "      <td>5</td>\n",
       "      <td>Hai Phong</td>\n",
       "      <td>13899999</td>\n",
       "      <td>None</td>\n",
       "      <td>100</td>\n",
       "      <td>100</td>\n",
       "      <td>80</td>\n",
       "      <td>0</td>\n",
       "      <td>0</td>\n",
       "      <td>0</td>\n",
       "      <td>0</td>\n",
       "      <td>5</td>\n",
       "    </tr>\n",
       "    <tr>\n",
       "      <th>2</th>\n",
       "      <td>laptop</td>\n",
       "      <td>39000</td>\n",
       "      <td>17</td>\n",
       "      <td>312</td>\n",
       "      <td>67</td>\n",
       "      <td>Ho Chi Minh</td>\n",
       "      <td>47000</td>\n",
       "      <td>17000</td>\n",
       "      <td>96</td>\n",
       "      <td>98</td>\n",
       "      <td>90</td>\n",
       "      <td>11</td>\n",
       "      <td>1</td>\n",
       "      <td>3</td>\n",
       "      <td>5</td>\n",
       "      <td>47</td>\n",
       "    </tr>\n",
       "    <tr>\n",
       "      <th>3</th>\n",
       "      <td>laptop</td>\n",
       "      <td>7254959</td>\n",
       "      <td>45</td>\n",
       "      <td>16</td>\n",
       "      <td>3</td>\n",
       "      <td>Hai Phong</td>\n",
       "      <td>13199999</td>\n",
       "      <td>100</td>\n",
       "      <td>100</td>\n",
       "      <td>80</td>\n",
       "      <td>0</td>\n",
       "      <td>0</td>\n",
       "      <td>0</td>\n",
       "      <td>0</td>\n",
       "      <td>3</td>\n",
       "      <td>None</td>\n",
       "    </tr>\n",
       "    <tr>\n",
       "      <th>4</th>\n",
       "      <td>laptop</td>\n",
       "      <td>4390000</td>\n",
       "      <td>20</td>\n",
       "      <td>126</td>\n",
       "      <td>29</td>\n",
       "      <td>Hà Nội</td>\n",
       "      <td>5900000</td>\n",
       "      <td>98</td>\n",
       "      <td>100</td>\n",
       "      <td>100</td>\n",
       "      <td>0</td>\n",
       "      <td>0</td>\n",
       "      <td>1</td>\n",
       "      <td>0</td>\n",
       "      <td>28</td>\n",
       "      <td>None</td>\n",
       "    </tr>\n",
       "    <tr>\n",
       "      <th>...</th>\n",
       "      <td>...</td>\n",
       "      <td>...</td>\n",
       "      <td>...</td>\n",
       "      <td>...</td>\n",
       "      <td>...</td>\n",
       "      <td>...</td>\n",
       "      <td>...</td>\n",
       "      <td>...</td>\n",
       "      <td>...</td>\n",
       "      <td>...</td>\n",
       "      <td>...</td>\n",
       "      <td>...</td>\n",
       "      <td>...</td>\n",
       "      <td>...</td>\n",
       "      <td>...</td>\n",
       "      <td>...</td>\n",
       "    </tr>\n",
       "    <tr>\n",
       "      <th>1195</th>\n",
       "      <td>laptop</td>\n",
       "      <td>17200000</td>\n",
       "      <td>None</td>\n",
       "      <td>None</td>\n",
       "      <td>None</td>\n",
       "      <td>Hanoi</td>\n",
       "      <td>None</td>\n",
       "      <td>78950100</td>\n",
       "      <td>None</td>\n",
       "      <td>None</td>\n",
       "      <td>None</td>\n",
       "      <td>0</td>\n",
       "      <td>0</td>\n",
       "      <td>0</td>\n",
       "      <td>0</td>\n",
       "      <td>0</td>\n",
       "    </tr>\n",
       "    <tr>\n",
       "      <th>1196</th>\n",
       "      <td>laptop</td>\n",
       "      <td>19990000</td>\n",
       "      <td>None</td>\n",
       "      <td>None</td>\n",
       "      <td>None</td>\n",
       "      <td>Ho Chi Minh</td>\n",
       "      <td>None</td>\n",
       "      <td>None</td>\n",
       "      <td>99</td>\n",
       "      <td>None</td>\n",
       "      <td>100</td>\n",
       "      <td>0</td>\n",
       "      <td>0</td>\n",
       "      <td>0</td>\n",
       "      <td>0</td>\n",
       "      <td>0</td>\n",
       "    </tr>\n",
       "    <tr>\n",
       "      <th>1197</th>\n",
       "      <td>laptop</td>\n",
       "      <td>12990000</td>\n",
       "      <td>None</td>\n",
       "      <td>None</td>\n",
       "      <td>1</td>\n",
       "      <td>Nghệ An</td>\n",
       "      <td>None</td>\n",
       "      <td>90400</td>\n",
       "      <td>100</td>\n",
       "      <td>100</td>\n",
       "      <td>100</td>\n",
       "      <td>0</td>\n",
       "      <td>0</td>\n",
       "      <td>0</td>\n",
       "      <td>0</td>\n",
       "      <td>1</td>\n",
       "    </tr>\n",
       "    <tr>\n",
       "      <th>1198</th>\n",
       "      <td>laptop</td>\n",
       "      <td>5900000</td>\n",
       "      <td>14</td>\n",
       "      <td>None</td>\n",
       "      <td>None</td>\n",
       "      <td>Hanoi</td>\n",
       "      <td>6900000</td>\n",
       "      <td>None</td>\n",
       "      <td>97</td>\n",
       "      <td>100</td>\n",
       "      <td>100</td>\n",
       "      <td>0</td>\n",
       "      <td>0</td>\n",
       "      <td>0</td>\n",
       "      <td>0</td>\n",
       "      <td>0</td>\n",
       "    </tr>\n",
       "    <tr>\n",
       "      <th>1199</th>\n",
       "      <td>laptop</td>\n",
       "      <td>6299000</td>\n",
       "      <td>3</td>\n",
       "      <td>nan</td>\n",
       "      <td>0</td>\n",
       "      <td>Dong Nai</td>\n",
       "      <td>6500000</td>\n",
       "      <td>100</td>\n",
       "      <td>95</td>\n",
       "      <td>100</td>\n",
       "      <td>100</td>\n",
       "      <td>0</td>\n",
       "      <td>0</td>\n",
       "      <td>0</td>\n",
       "      <td>0</td>\n",
       "      <td>1</td>\n",
       "    </tr>\n",
       "  </tbody>\n",
       "</table>\n",
       "<p>1200 rows × 16 columns</p>\n",
       "</div>"
      ],
      "text/plain": [
       "        Type Price_sale Sale_off Total_sold Preview     Location  \\\n",
       "0     laptop   17990000       38       3000     666  Ho Chi Minh   \n",
       "1     laptop    7223999       52         51       5    Hai Phong   \n",
       "2     laptop      39000       17        312      67  Ho Chi Minh   \n",
       "3     laptop    7254959       45         16       3    Hai Phong   \n",
       "4     laptop    4390000       20        126      29       Hà Nội   \n",
       "...      ...        ...      ...        ...     ...          ...   \n",
       "1195  laptop   17200000     None       None    None        Hanoi   \n",
       "1196  laptop   19990000     None       None    None  Ho Chi Minh   \n",
       "1197  laptop   12990000     None       None       1      Nghệ An   \n",
       "1198  laptop    5900000       14       None    None        Hanoi   \n",
       "1199  laptop    6299000        3        nan       0     Dong Nai   \n",
       "\n",
       "     Price_original Ship_price Sale_rating Ship_on_time Chat_response  \\\n",
       "0          28990000      10200          94           98           100   \n",
       "1          13899999       None         100          100            80   \n",
       "2             47000      17000          96           98            90   \n",
       "3          13199999        100         100           80             0   \n",
       "4           5900000         98         100          100             0   \n",
       "...             ...        ...         ...          ...           ...   \n",
       "1195           None   78950100        None         None          None   \n",
       "1196           None       None          99         None           100   \n",
       "1197           None      90400         100          100           100   \n",
       "1198        6900000       None          97          100           100   \n",
       "1199        6500000        100          95          100           100   \n",
       "\n",
       "     One_star Two_star Three_star Four_star Five_star  \n",
       "0          28        5         10        17       606  \n",
       "1           0        0          0         0         5  \n",
       "2          11        1          3         5        47  \n",
       "3           0        0          0         3      None  \n",
       "4           0        1          0        28      None  \n",
       "...       ...      ...        ...       ...       ...  \n",
       "1195        0        0          0         0         0  \n",
       "1196        0        0          0         0         0  \n",
       "1197        0        0          0         0         1  \n",
       "1198        0        0          0         0         0  \n",
       "1199        0        0          0         0         1  \n",
       "\n",
       "[1200 rows x 16 columns]"
      ]
     },
     "execution_count": 12,
     "metadata": {},
     "output_type": "execute_result"
    }
   ],
   "source": [
    "cleaned_df = pd.DataFrame(results, columns=data.columns)\n",
    "cleaned_df"
   ]
  },
  {
   "cell_type": "code",
   "execution_count": 13,
   "id": "0715a740",
   "metadata": {},
   "outputs": [],
   "source": [
    "cleaned_df.to_csv(\"Data_Laptop_After_LLMs.csv\", index=False)"
   ]
  },
  {
   "cell_type": "code",
   "execution_count": null,
   "id": "71539005",
   "metadata": {},
   "outputs": [],
   "source": []
  }
 ],
 "metadata": {
  "kernelspec": {
   "display_name": "Python 3 (ipykernel)",
   "language": "python",
   "name": "python3"
  },
  "language_info": {
   "codemirror_mode": {
    "name": "ipython",
    "version": 3
   },
   "file_extension": ".py",
   "mimetype": "text/x-python",
   "name": "python",
   "nbconvert_exporter": "python",
   "pygments_lexer": "ipython3",
   "version": "3.11.5"
  }
 },
 "nbformat": 4,
 "nbformat_minor": 5
}
