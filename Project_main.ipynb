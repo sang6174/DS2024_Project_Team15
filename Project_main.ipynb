{
  "cells": [
    {
      "cell_type": "markdown",
      "metadata": {
        "id": "stOeTj-HXpgH"
      },
      "source": [
        "# **FINAL PROJECT: 03**\n",
        "### 22KDL - TEAM15\n"
      ]
    },
    {
      "cell_type": "markdown",
      "metadata": {
        "id": "V-WMa9vlXpgJ"
      },
      "source": [
        "<table width=\"100%\" style=\"border:0px;\">\n",
        "    <tr style=\"font-size: 10pt\">\n",
        "        <td><b>Name:</b> Huỳnh Thảo Quỳnh</td>\n",
        "        <td><b>MSSV:</b> 22280075</td>\n",
        "    </tr>\n",
        "    <tr style=\"font-size: 10pt\">\n",
        "        <td><b>Name:</b> Lê Thanh Sang</td>\n",
        "        <td><b>MSSV:</b> 22280076</td>\n",
        "    </tr>\n",
        "    <tr style=\"font-size: 10pt\">\n",
        "        <td><b>Name:</b> Đinh Xuân Khang</td>\n",
        "        <td><b>MSSV:</b> 22280042</td>\n",
        "    </tr>\n",
        "</table>\n"
      ]
    },
    {
      "cell_type": "markdown",
      "metadata": {
        "id": "LnM3aAEjXpgK"
      },
      "source": [
        "**HYPOTHESIS**: Tổng số lượt bán của từng sản phẩm bị ảnh hưởng bởi nhiều yếu tố."
      ]
    },
    {
      "cell_type": "markdown",
      "metadata": {
        "id": "3104VAoyXpgL"
      },
      "source": [
        "**Phân tích đề bài**"
      ]
    },
    {
      "cell_type": "markdown",
      "metadata": {
        "id": "Z3MUSSdGX8TY"
      },
      "source": [
        "**Data collection**\n",
        "- Lazada:\n",
        "   * thời trang: quần áo, giày dép, trang sức\n",
        "   * điện tử: điện thoại, laptop, tivi\n",
        "- Features cần thu thập:\n",
        "  * **Type**:     danh mục\n",
        "  * **Title**:    tên sản phẩm\n",
        "  * **Link**\n",
        "  * **Price_sale**: giá sau khi được giảm giá\n",
        "  * **Sale_off**: phần trăm giảm giá\n",
        "  * **Total_sold**: tổng số lượt mua\n",
        "  * **Preview**: tổng số lượt đánh giá\n",
        "  * **Location**: địa điểm\n",
        "  * **Price_original**: giá ban đầu\n",
        "  * **Ship_price**: tiền ship\n",
        "  * **Return**: chính sách trả hàng\n",
        "  * **Sale_rating**: phần trăm đơn hàng được đánh giá tích cực\n",
        "  * **Ship_on_time**: phần trăm đơn hàng được ship đúng thời gian\n",
        "  * **Chat_response**: phần trăm khả năng phản hồi của người bán\n",
        "  * **One_star**: tổng số lượt đánh giá 1 sao\n",
        "  * **Two_star**: tổng số lượt đánh giá 2 sao\n",
        "  * **Three_star**: tổng số lượt đánh giá 3 sao\n",
        "  * **Four_star**: tổng số lượt đánh giá 4 sao\n",
        "  * **Five_star**: tổng số lượt đánh giá 5 sao\n",
        "\n"
      ]
    },
    {
      "cell_type": "markdown",
      "metadata": {
        "id": "_m7qFalM3EJ-"
      },
      "source": [
        "### **I/ Crawl data from the web (text, HTML) that is relevant to your hypothesis.**"
      ]
    },
    {
      "cell_type": "markdown",
      "metadata": {
        "id": "0_-eLoSz3OIc"
      },
      "source": []
    },
    {
      "cell_type": "markdown",
      "metadata": {},
      "source": [
        "### **II/ Use a Large Language Model (LLM) to parse this unstructured data into features.**"
      ]
    },
    {
      "cell_type": "markdown",
      "metadata": {},
      "source": []
    },
    {
      "cell_type": "markdown",
      "metadata": {},
      "source": [
        "### **III/ Apply causal inference techniques to test your hypothesis.**"
      ]
    },
    {
      "cell_type": "markdown",
      "metadata": {},
      "source": [
        "#### 3.1 Handling missing values"
      ]
    },
    {
      "cell_type": "code",
      "execution_count": 47,
      "metadata": {},
      "outputs": [],
      "source": [
        "import pandas as pd\n",
        "import numpy as np\n",
        "from unidecode import unidecode"
      ]
    },
    {
      "cell_type": "code",
      "execution_count": 48,
      "metadata": {},
      "outputs": [
        {
          "data": {
            "text/html": [
              "<div>\n",
              "<style scoped>\n",
              "    .dataframe tbody tr th:only-of-type {\n",
              "        vertical-align: middle;\n",
              "    }\n",
              "\n",
              "    .dataframe tbody tr th {\n",
              "        vertical-align: top;\n",
              "    }\n",
              "\n",
              "    .dataframe thead th {\n",
              "        text-align: right;\n",
              "    }\n",
              "</style>\n",
              "<table border=\"1\" class=\"dataframe\">\n",
              "  <thead>\n",
              "    <tr style=\"text-align: right;\">\n",
              "      <th></th>\n",
              "      <th>Type</th>\n",
              "      <th>Price_sale</th>\n",
              "      <th>Sale_off</th>\n",
              "      <th>Total_sold</th>\n",
              "      <th>Preview</th>\n",
              "      <th>Location</th>\n",
              "      <th>Price_original</th>\n",
              "      <th>Ship_price</th>\n",
              "      <th>Sale_rating</th>\n",
              "      <th>Ship_on_time</th>\n",
              "      <th>Chat_response</th>\n",
              "      <th>One_star</th>\n",
              "      <th>Two_star</th>\n",
              "      <th>Three_star</th>\n",
              "      <th>Four_star</th>\n",
              "      <th>Five_star</th>\n",
              "    </tr>\n",
              "  </thead>\n",
              "  <tbody>\n",
              "    <tr>\n",
              "      <th>0</th>\n",
              "      <td>quần áo</td>\n",
              "      <td>35891</td>\n",
              "      <td>64.0</td>\n",
              "      <td>3000.0</td>\n",
              "      <td>1022.0</td>\n",
              "      <td>Hồ Chí Minh</td>\n",
              "      <td>100000.0</td>\n",
              "      <td>16500.0</td>\n",
              "      <td>97.0</td>\n",
              "      <td>100.0</td>\n",
              "      <td>100.0</td>\n",
              "      <td>20.0</td>\n",
              "      <td>7.0</td>\n",
              "      <td>27.0</td>\n",
              "      <td>36.0</td>\n",
              "      <td>932.0</td>\n",
              "    </tr>\n",
              "    <tr>\n",
              "      <th>1</th>\n",
              "      <td>quần áo</td>\n",
              "      <td>25000</td>\n",
              "      <td>50.0</td>\n",
              "      <td>907.0</td>\n",
              "      <td>241.0</td>\n",
              "      <td>Hồ Chí Minh</td>\n",
              "      <td>71998.0</td>\n",
              "      <td>16500.0</td>\n",
              "      <td>91.0</td>\n",
              "      <td>100.0</td>\n",
              "      <td>50.0</td>\n",
              "      <td>5.0</td>\n",
              "      <td>2.0</td>\n",
              "      <td>6.0</td>\n",
              "      <td>7.0</td>\n",
              "      <td>222.0</td>\n",
              "    </tr>\n",
              "    <tr>\n",
              "      <th>2</th>\n",
              "      <td>quần áo</td>\n",
              "      <td>79000</td>\n",
              "      <td>43.0</td>\n",
              "      <td>961.0</td>\n",
              "      <td>260.0</td>\n",
              "      <td>Hà Nội</td>\n",
              "      <td>139000.0</td>\n",
              "      <td>32700.0</td>\n",
              "      <td>92.0</td>\n",
              "      <td>99.0</td>\n",
              "      <td>33.0</td>\n",
              "      <td>11.0</td>\n",
              "      <td>8.0</td>\n",
              "      <td>8.0</td>\n",
              "      <td>16.0</td>\n",
              "      <td>218.0</td>\n",
              "    </tr>\n",
              "  </tbody>\n",
              "</table>\n",
              "</div>"
            ],
            "text/plain": [
              "      Type  Price_sale Sale_off Total_sold Preview     Location  \\\n",
              "0  quần áo       35891     64.0     3000.0  1022.0  Hồ Chí Minh   \n",
              "1  quần áo       25000     50.0      907.0   241.0  Hồ Chí Minh   \n",
              "2  quần áo       79000     43.0      961.0   260.0       Hà Nội   \n",
              "\n",
              "   Price_original Ship_price Sale_rating  Ship_on_time Chat_response  \\\n",
              "0        100000.0    16500.0        97.0         100.0         100.0   \n",
              "1         71998.0    16500.0        91.0         100.0          50.0   \n",
              "2        139000.0    32700.0        92.0          99.0          33.0   \n",
              "\n",
              "   One_star  Two_star  Three_star  Four_star  Five_star  \n",
              "0      20.0       7.0        27.0       36.0      932.0  \n",
              "1       5.0       2.0         6.0        7.0      222.0  \n",
              "2      11.0       8.0         8.0       16.0      218.0  "
            ]
          },
          "execution_count": 48,
          "metadata": {},
          "output_type": "execute_result"
        }
      ],
      "source": [
        "data = pd.read_csv(\"Final_Data_LLM.csv\")\n",
        "data.head(3)"
      ]
    },
    {
      "cell_type": "code",
      "execution_count": 49,
      "metadata": {},
      "outputs": [
        {
          "name": "stdout",
          "output_type": "stream",
          "text": [
            "<class 'pandas.core.frame.DataFrame'>\n",
            "RangeIndex: 7152 entries, 0 to 7151\n",
            "Data columns (total 16 columns):\n",
            " #   Column          Non-Null Count  Dtype  \n",
            "---  ------          --------------  -----  \n",
            " 0   Type            7152 non-null   object \n",
            " 1   Price_sale      7152 non-null   int64  \n",
            " 2   Sale_off        5306 non-null   object \n",
            " 3   Total_sold      5312 non-null   object \n",
            " 4   Preview         5435 non-null   object \n",
            " 5   Location        7152 non-null   object \n",
            " 6   Price_original  5755 non-null   float64\n",
            " 7   Ship_price      5905 non-null   object \n",
            " 8   Sale_rating     6489 non-null   object \n",
            " 9   Ship_on_time    5398 non-null   float64\n",
            " 10  Chat_response   6060 non-null   object \n",
            " 11  One_star        7152 non-null   float64\n",
            " 12  Two_star        7152 non-null   float64\n",
            " 13  Three_star      7152 non-null   float64\n",
            " 14  Four_star       7152 non-null   float64\n",
            " 15  Five_star       6887 non-null   float64\n",
            "dtypes: float64(7), int64(1), object(8)\n",
            "memory usage: 894.1+ KB\n"
          ]
        }
      ],
      "source": [
        "data.info()"
      ]
    },
    {
      "cell_type": "code",
      "execution_count": 50,
      "metadata": {},
      "outputs": [
        {
          "name": "stdout",
          "output_type": "stream",
          "text": [
            "Số quan sát bị lặp: 2577\n"
          ]
        }
      ],
      "source": [
        "print(\"Số quan sát bị lặp:\" ,data.duplicated().sum())"
      ]
    },
    {
      "cell_type": "code",
      "execution_count": 51,
      "metadata": {},
      "outputs": [],
      "source": [
        "# Bỏ các quan sát bị lặp\n",
        "data.drop_duplicates(inplace=True)"
      ]
    },
    {
      "cell_type": "code",
      "execution_count": 52,
      "metadata": {},
      "outputs": [
        {
          "data": {
            "text/plain": [
              "Sale_off          1202\n",
              "Total_sold        1202\n",
              "Preview           1107\n",
              "Ship_on_time      1047\n",
              "Price_original     845\n",
              "Ship_price         765\n",
              "Chat_response      690\n",
              "Sale_rating        430\n",
              "Five_star          196\n",
              "Type                 0\n",
              "Price_sale           0\n",
              "Location             0\n",
              "One_star             0\n",
              "Two_star             0\n",
              "Three_star           0\n",
              "Four_star            0\n",
              "dtype: int64"
            ]
          },
          "execution_count": 52,
          "metadata": {},
          "output_type": "execute_result"
        }
      ],
      "source": [
        "data.isnull().sum().sort_values(ascending=False)"
      ]
    },
    {
      "cell_type": "markdown",
      "metadata": {},
      "source": [
        "**Type & Location**"
      ]
    },
    {
      "cell_type": "code",
      "execution_count": 53,
      "metadata": {},
      "outputs": [
        {
          "name": "stdout",
          "output_type": "stream",
          "text": [
            "['quần áo' 'giày dép' 'Trang sức' 'Trang suc' 'dien thoai' 'laptop' 'tivi'] \n",
            "\n",
            "['Hồ Chí Minh' 'Hà Nội' 'Nam Định' 'Nước ngoài' 'Tiền Giang' 'Cần Thơ'\n",
            " 'Hà Nam' 'Trà Vinh' 'Thanh Hóa' 'Hưng Yên' 'Long An' 'Bến Tre' 'Phú Thọ'\n",
            " 'Lâm Đồng' 'Đồng Nai' 'Hải Dương' 'Cà Mau' 'Bắc Giang' 'Quảng Ngãi'\n",
            " 'Tây Ninh' 'Bình Định' 'Phú Yên' 'Bình Dương' 'Bắc Ninh' 'Đà Nẵng'\n",
            " 'Vĩnh Phúc' 'Ho Chi Minh' 'Ha Noi' 'Hai Duong' 'Nghệ An' 'Binh Duong'\n",
            " 'Hung Yen' 'Hai Phong' 'Da Nang' 'An Giang' 'Bac Ninh' 'Ben Tre'\n",
            " 'Vinh Phuc' 'Nam Dinh' 'Tien Giang' 'Dak Nong' 'Thai Binh' 'Dak Lak'\n",
            " 'Hanoi' 'Dong Nai' 'Thai Nguyen' 'Quang Tri' 'Thanh Hoa' 'Tay Ninh'\n",
            " 'Nuoc Ngoai' 'Phu Tho' 'Nuoc ngai' 'Thua Thien Hue' 'Thái Bình'\n",
            " 'Dong Thap' 'Ha Tinh' 'Phu Yen' 'Ba Ria Vung Tau' 'Bac Giang' 'Vinh Long'\n",
            " 'Quang Nam'] \n",
            "\n"
          ]
        }
      ],
      "source": [
        "#Chuyển các cột Type và Location thành không dấu\n",
        "print(data['Type'].unique(), \"\\n\")\n",
        "print(data['Location'].unique(), \"\\n\")"
      ]
    },
    {
      "cell_type": "code",
      "execution_count": 54,
      "metadata": {},
      "outputs": [],
      "source": [
        "#Chuyển cột Type\n",
        "data['Type'].replace(['quần áo'], 'quan ao', inplace=True)\n",
        "data['Type'].replace(['giày dép'], 'giay dep', inplace=True)\n",
        "data['Type'].replace(['Trang sức', 'Trang suc'], 'trang suc', inplace=True)"
      ]
    },
    {
      "cell_type": "code",
      "execution_count": 55,
      "metadata": {},
      "outputs": [
        {
          "data": {
            "text/plain": [
              "array(['Ho Chi Minh', 'Ha Noi', 'Nam Dinh', 'Nuoc ngoai', 'Tien Giang',\n",
              "       'Can Tho', 'Ha Nam', 'Tra Vinh', 'Thanh Hoa', 'Hung Yen',\n",
              "       'Long An', 'Ben Tre', 'Phu Tho', 'Lam Dong', 'Dong Nai',\n",
              "       'Hai Duong', 'Ca Mau', 'Bac Giang', 'Quang Ngai', 'Tay Ninh',\n",
              "       'Binh Dinh', 'Phu Yen', 'Binh Duong', 'Bac Ninh', 'Da Nang',\n",
              "       'Vinh Phuc', 'Nghe An', 'Hai Phong', 'An Giang', 'Dak Nong',\n",
              "       'Thai Binh', 'Dak Lak', 'Hanoi', 'Thai Nguyen', 'Quang Tri',\n",
              "       'Nuoc Ngoai', 'Nuoc ngai', 'Thua Thien Hue', 'Dong Thap',\n",
              "       'Ha Tinh', 'Ba Ria Vung Tau', 'Vinh Long', 'Quang Nam'],\n",
              "      dtype=object)"
            ]
          },
          "execution_count": 55,
          "metadata": {},
          "output_type": "execute_result"
        }
      ],
      "source": [
        "#Hàm chuyển đổi thành không dấu\n",
        "def remove_diacritics(text):\n",
        "    return unidecode(text)\n",
        "\n",
        "data['Location'] = data['Location'].apply(remove_diacritics)\n",
        "data['Location'].unique()"
      ]
    },
    {
      "cell_type": "code",
      "execution_count": 56,
      "metadata": {},
      "outputs": [
        {
          "data": {
            "text/plain": [
              "array(['Ho Chi Minh', 'Ha Noi', 'Nam Dinh', 'Nuoc Ngoai', 'Tien Giang',\n",
              "       'Can Tho', 'Ha Nam', 'Tra Vinh', 'Thanh Hoa', 'Hung Yen',\n",
              "       'Long An', 'Ben Tre', 'Phu Tho', 'Lam Dong', 'Dong Nai',\n",
              "       'Hai Duong', 'Ca Mau', 'Bac Giang', 'Quang Ngai', 'Tay Ninh',\n",
              "       'Binh Dinh', 'Phu Yen', 'Binh Duong', 'Bac Ninh', 'Da Nang',\n",
              "       'Vinh Phuc', 'Nghe An', 'Hai Phong', 'An Giang', 'Dak Nong',\n",
              "       'Thai Binh', 'Dak Lak', 'Thai Nguyen', 'Quang Tri',\n",
              "       'Thua Thien Hue', 'Dong Thap', 'Ha Tinh', 'Ba Ria Vung Tau',\n",
              "       'Vinh Long', 'Quang Nam'], dtype=object)"
            ]
          },
          "execution_count": 56,
          "metadata": {},
          "output_type": "execute_result"
        }
      ],
      "source": [
        "#Chỉnh lại dữ liệu cho đồng nhất\n",
        "data['Location'].replace(['Hanoi'], 'Ha Noi', inplace=True)\n",
        "data['Location'].replace(['Nuoc ngoai', 'Nuoc ngai'], 'Nuoc Ngoai', inplace=True)\n",
        "data['Location'].unique()"
      ]
    },
    {
      "cell_type": "markdown",
      "metadata": {},
      "source": [
        "**Price_Sale & Sale_off & Price_original**"
      ]
    },
    {
      "cell_type": "code",
      "execution_count": 57,
      "metadata": {},
      "outputs": [
        {
          "name": "stdout",
          "output_type": "stream",
          "text": [
            "['64.0' '50.0' '43.0' '60.0' '54.0' '67.0' nan '61.0' '66.0' '53.0' '47.0'\n",
            " '45.0' '57.0' '52.0' '49.0' '44.0' '30.0' '29.0' '56.0' '59.0' '8.0'\n",
            " '35.0' '58.0' '31.0' '12.0' '51.0' '21.0' '81.0' '41.0' '96.0' '39.0'\n",
            " '40.0' '46.0' '48.0' '33.0' '15.0' '42.0' '13.0' '79.0' '76.0' '24.0'\n",
            " '7.0' '23.0' '62.0' '65.0' '32.0' '55.0' '14.0' '26.0' '70.0' '37.0'\n",
            " '82.0' '83.0' '69.0' '63.0' '34.0' '94.0' '71.0' '73.0' '18.0' '77.0'\n",
            " '16.0' '72.0' '36.0' '86.0' '85.0' '78.0' '84.0' '28.0' '38.0' '25.0'\n",
            " '97.0' '20.0' '68.0' '17.0' '89.0' '88.0' '1.0' '75.0' '74.0' '22.0'\n",
            " '80.0' '92.0' '27.0' '5.0' '10.0' '11.0' '100.0' '6.0' '19.0' '9.0'\n",
            " '99.0' '98.0' '93.0' '7' '10' '16' '6' '15' '11' '12' '17' '8' '13' '27'\n",
            " '22' '29' '18' '9' '14' '31' '42' '35' '34' '25' '20' '26' '23' '19' '52'\n",
            " '21' '1' '24' '60' '5' '32' '3' '37' '40' '46' '28' '30' '45' '36' '38'\n",
            " '33' '41' '39' '2' '4' '1200' 'none' '0' '3.0' '4.0' '2.0' '1.1' '0.0']\n"
          ]
        }
      ],
      "source": [
        "print(data['Sale_off'].unique())"
      ]
    },
    {
      "cell_type": "code",
      "execution_count": 58,
      "metadata": {},
      "outputs": [
        {
          "data": {
            "text/plain": [
              "1204"
            ]
          },
          "execution_count": 58,
          "metadata": {},
          "output_type": "execute_result"
        }
      ],
      "source": [
        "data['Sale_off'] = data['Sale_off'].replace(\"none\", None)\n",
        "\n",
        "#Chuyển đổi float cho Sale_off & Price_sale\n",
        "data['Sale_off'] = data['Sale_off'].astype(float)\n",
        "data['Price_sale'] = data['Price_sale'].astype(float)\n",
        "\n",
        "#Check null cho cột Sale_off\n",
        "data['Sale_off'].isnull().sum()"
      ]
    },
    {
      "cell_type": "code",
      "execution_count": 59,
      "metadata": {},
      "outputs": [
        {
          "name": "stdout",
          "output_type": "stream",
          "text": [
            "Int64Index([2040, 4158], dtype='int64')\n"
          ]
        }
      ],
      "source": [
        "# Xoá dữ liệu cột Sale_off >= 100\n",
        "indices_to_drop = data.loc[data['Sale_off'] >= 100].index\n",
        "print(indices_to_drop)\n",
        "data = data.drop(indices_to_drop)"
      ]
    },
    {
      "cell_type": "code",
      "execution_count": 60,
      "metadata": {},
      "outputs": [],
      "source": [
        "# Tính toán giá trị vào NaN\n",
        "#TH1: Price_original == NULL, Sale_off != NULL\n",
        "data['Price_original'].fillna(data['Price_sale'] / (1 - data['Sale_off'] / 100), inplace=True)\n",
        "\n",
        "#TH2: Sale_off == NULL,  Price_original != NULL\n",
        "data['Sale_off'].fillna(((data['Price_original'] - data['Price_sale']) / data['Price_original']) * 100, inplace=True)\n",
        "\n",
        "#TH3: Sale_off & Price_original == NULL\n",
        "data['Sale_off'].fillna(0, inplace=True)\n",
        "data['Price_original'].fillna(data['Price_sale'], inplace=True)"
      ]
    },
    {
      "cell_type": "code",
      "execution_count": 61,
      "metadata": {},
      "outputs": [
        {
          "data": {
            "text/html": [
              "<div>\n",
              "<style scoped>\n",
              "    .dataframe tbody tr th:only-of-type {\n",
              "        vertical-align: middle;\n",
              "    }\n",
              "\n",
              "    .dataframe tbody tr th {\n",
              "        vertical-align: top;\n",
              "    }\n",
              "\n",
              "    .dataframe thead th {\n",
              "        text-align: right;\n",
              "    }\n",
              "</style>\n",
              "<table border=\"1\" class=\"dataframe\">\n",
              "  <thead>\n",
              "    <tr style=\"text-align: right;\">\n",
              "      <th></th>\n",
              "      <th>Type</th>\n",
              "      <th>Price_sale</th>\n",
              "      <th>Sale_off</th>\n",
              "      <th>Total_sold</th>\n",
              "      <th>Preview</th>\n",
              "      <th>Location</th>\n",
              "      <th>Price_original</th>\n",
              "      <th>Ship_price</th>\n",
              "      <th>Sale_rating</th>\n",
              "      <th>Ship_on_time</th>\n",
              "      <th>Chat_response</th>\n",
              "      <th>One_star</th>\n",
              "      <th>Two_star</th>\n",
              "      <th>Three_star</th>\n",
              "      <th>Four_star</th>\n",
              "      <th>Five_star</th>\n",
              "    </tr>\n",
              "  </thead>\n",
              "  <tbody>\n",
              "    <tr>\n",
              "      <th>0</th>\n",
              "      <td>quan ao</td>\n",
              "      <td>35891.0</td>\n",
              "      <td>64.0</td>\n",
              "      <td>3000.0</td>\n",
              "      <td>1022.0</td>\n",
              "      <td>Ho Chi Minh</td>\n",
              "      <td>100000.0</td>\n",
              "      <td>16500.0</td>\n",
              "      <td>97.0</td>\n",
              "      <td>100.0</td>\n",
              "      <td>100.0</td>\n",
              "      <td>20.0</td>\n",
              "      <td>7.0</td>\n",
              "      <td>27.0</td>\n",
              "      <td>36.0</td>\n",
              "      <td>932.0</td>\n",
              "    </tr>\n",
              "    <tr>\n",
              "      <th>1</th>\n",
              "      <td>quan ao</td>\n",
              "      <td>25000.0</td>\n",
              "      <td>50.0</td>\n",
              "      <td>907.0</td>\n",
              "      <td>241.0</td>\n",
              "      <td>Ho Chi Minh</td>\n",
              "      <td>71998.0</td>\n",
              "      <td>16500.0</td>\n",
              "      <td>91.0</td>\n",
              "      <td>100.0</td>\n",
              "      <td>50.0</td>\n",
              "      <td>5.0</td>\n",
              "      <td>2.0</td>\n",
              "      <td>6.0</td>\n",
              "      <td>7.0</td>\n",
              "      <td>222.0</td>\n",
              "    </tr>\n",
              "    <tr>\n",
              "      <th>2</th>\n",
              "      <td>quan ao</td>\n",
              "      <td>79000.0</td>\n",
              "      <td>43.0</td>\n",
              "      <td>961.0</td>\n",
              "      <td>260.0</td>\n",
              "      <td>Ha Noi</td>\n",
              "      <td>139000.0</td>\n",
              "      <td>32700.0</td>\n",
              "      <td>92.0</td>\n",
              "      <td>99.0</td>\n",
              "      <td>33.0</td>\n",
              "      <td>11.0</td>\n",
              "      <td>8.0</td>\n",
              "      <td>8.0</td>\n",
              "      <td>16.0</td>\n",
              "      <td>218.0</td>\n",
              "    </tr>\n",
              "    <tr>\n",
              "      <th>3</th>\n",
              "      <td>quan ao</td>\n",
              "      <td>36000.0</td>\n",
              "      <td>60.0</td>\n",
              "      <td>102.0</td>\n",
              "      <td>21.0</td>\n",
              "      <td>Nam Dinh</td>\n",
              "      <td>189000.0</td>\n",
              "      <td>37700.0</td>\n",
              "      <td>94.0</td>\n",
              "      <td>100.0</td>\n",
              "      <td>83.0</td>\n",
              "      <td>1.0</td>\n",
              "      <td>0.0</td>\n",
              "      <td>1.0</td>\n",
              "      <td>1.0</td>\n",
              "      <td>18.0</td>\n",
              "    </tr>\n",
              "    <tr>\n",
              "      <th>4</th>\n",
              "      <td>quan ao</td>\n",
              "      <td>15971.0</td>\n",
              "      <td>54.0</td>\n",
              "      <td>219.0</td>\n",
              "      <td>68.0</td>\n",
              "      <td>Ha Noi</td>\n",
              "      <td>59000.0</td>\n",
              "      <td>32700.0</td>\n",
              "      <td>95.0</td>\n",
              "      <td>100.0</td>\n",
              "      <td>100.0</td>\n",
              "      <td>0.0</td>\n",
              "      <td>1.0</td>\n",
              "      <td>0.0</td>\n",
              "      <td>3.0</td>\n",
              "      <td>65.0</td>\n",
              "    </tr>\n",
              "  </tbody>\n",
              "</table>\n",
              "</div>"
            ],
            "text/plain": [
              "      Type  Price_sale  Sale_off Total_sold Preview     Location  \\\n",
              "0  quan ao     35891.0      64.0     3000.0  1022.0  Ho Chi Minh   \n",
              "1  quan ao     25000.0      50.0      907.0   241.0  Ho Chi Minh   \n",
              "2  quan ao     79000.0      43.0      961.0   260.0       Ha Noi   \n",
              "3  quan ao     36000.0      60.0      102.0    21.0     Nam Dinh   \n",
              "4  quan ao     15971.0      54.0      219.0    68.0       Ha Noi   \n",
              "\n",
              "   Price_original Ship_price Sale_rating  Ship_on_time Chat_response  \\\n",
              "0        100000.0    16500.0        97.0         100.0         100.0   \n",
              "1         71998.0    16500.0        91.0         100.0          50.0   \n",
              "2        139000.0    32700.0        92.0          99.0          33.0   \n",
              "3        189000.0    37700.0        94.0         100.0          83.0   \n",
              "4         59000.0    32700.0        95.0         100.0         100.0   \n",
              "\n",
              "   One_star  Two_star  Three_star  Four_star  Five_star  \n",
              "0      20.0       7.0        27.0       36.0      932.0  \n",
              "1       5.0       2.0         6.0        7.0      222.0  \n",
              "2      11.0       8.0         8.0       16.0      218.0  \n",
              "3       1.0       0.0         1.0        1.0       18.0  \n",
              "4       0.0       1.0         0.0        3.0       65.0  "
            ]
          },
          "execution_count": 61,
          "metadata": {},
          "output_type": "execute_result"
        }
      ],
      "source": [
        "# Xoá hàng giá gốc < giá sale\n",
        "data = data[data['Price_original'] >= data['Price_sale']]\n",
        "data.head()"
      ]
    },
    {
      "cell_type": "markdown",
      "metadata": {},
      "source": [
        "**Total_sold & Preview & Ship_price & Sale_rating & Ship_on_time & Chat_response**"
      ]
    },
    {
      "cell_type": "code",
      "execution_count": 62,
      "metadata": {},
      "outputs": [],
      "source": [
        "#Gán 0 cho 'Total_sold', 'Preview'\n",
        "data['Total_sold'] = pd.to_numeric(data['Total_sold'], errors='coerce').fillna(0).astype(float)\n",
        "data['Preview'] = pd.to_numeric(data[\"Preview\"], errors='coerce').fillna(0).astype(float)"
      ]
    },
    {
      "cell_type": "code",
      "execution_count": 63,
      "metadata": {},
      "outputs": [
        {
          "data": {
            "text/plain": [
              "array([   16500,    32700,    37700,    18300,        0,    17000,\n",
              "          28700,    38000,    51100,    27000,    32200,    15500,\n",
              "          45100,    44100,    19600,    43900,    23500,    27300,\n",
              "          12200,      700,     8000,    20300,    57700,     7300,\n",
              "           6000,    20100,    22700,    21500,    56800,    51500,\n",
              "          20700,    40100,    23900,    40300,   635900,    21700,\n",
              "           5500,   202600,   110800,    19000,  1928000,    26100,\n",
              "          13700,    64800,    73600,    10200,      100,       98,\n",
              "          84600,   198200,   744000,    21200,    65500,     9700,\n",
              "          23800,    70000,    52400,    80200,   104900,       97,\n",
              "          74400,     1200,    74700,       95,   100600,   118500,\n",
              "          55400,    12800,    48200,    90700,    63300,    52300,\n",
              "          90400,    34100,    64700,    13800,   494000,    63400,\n",
              "        2695100,    16300,       90,    62600,   115100,     9100,\n",
              "          90600,    63700,    30900,    94800,    32500,      261,\n",
              "       78950100,   141300,   206800,   146000,   159200,   131600,\n",
              "         258200,    46000,   238400,    21600,    88900,    79000,\n",
              "          72400,    31600,   112600,   501400,   125200,   270400,\n",
              "         125300,   135500,    59400,   337400,   148600,   271400,\n",
              "         164800,    71100,   585800,   290200,   253700,   565500,\n",
              "        2689300,   612500,    96100,   212600,   218600,   278100,\n",
              "          25200,   448600,   102400,    36500,    81800])"
            ]
          },
          "execution_count": 63,
          "metadata": {},
          "output_type": "execute_result"
        }
      ],
      "source": [
        "#Ship_price\n",
        "data['Ship_price'] = pd.to_numeric(data['Ship_price'], errors='coerce').fillna(0).astype(int)\n",
        "data['Ship_price'].unique()"
      ]
    },
    {
      "cell_type": "code",
      "execution_count": 64,
      "metadata": {},
      "outputs": [
        {
          "data": {
            "text/plain": [
              "array([100,  99,  96,  98,  93,  97,  91,  87,  84,  92,  95,  83,  80,\n",
              "        63,  86,  67,  28,  82,  85,  94,  60,  88,   3,  79,  89,  74,\n",
              "        33,  90,  41,  81,  76,  29,  71,  66,  25,  13,  50,  72,  75,\n",
              "        44,  70,  68,  57,  55,  78,  14,  20,  37,  65,  77,  40])"
            ]
          },
          "execution_count": 64,
          "metadata": {},
          "output_type": "execute_result"
        }
      ],
      "source": [
        "#Ship_on_time: chuyển sang int rồi fill NaN = median\n",
        "data['Ship_on_time'] = pd.to_numeric(data['Ship_on_time'], errors='coerce').fillna(0).astype(int)\n",
        "median_Ship_on_time = data['Ship_on_time'].median()\n",
        "data['Ship_on_time'] = data['Ship_on_time'].replace([0], int(median_Ship_on_time))\n",
        "\n",
        "data['Ship_on_time'].unique()"
      ]
    },
    {
      "cell_type": "code",
      "execution_count": 65,
      "metadata": {},
      "outputs": [
        {
          "data": {
            "text/plain": [
              "array([ 97,  91,  92,  94,  95,  99,  88,  98,  93,  96,  86,  85,  69,\n",
              "        90,  87,  89,  83,  62,  64,  84, 100,  78,  66,  68,  65,  77,\n",
              "        76,  71,  74,  75,  73,  81,  60,  80,  40,  79,  82,  67])"
            ]
          },
          "execution_count": 65,
          "metadata": {},
          "output_type": "execute_result"
        }
      ],
      "source": [
        "#Sale_rating: chuyển sang int rồi fill NaN = median\n",
        "data['Sale_rating'] = pd.to_numeric(data['Sale_rating'], errors='coerce').fillna(0).astype(int)\n",
        "median_Sale_rating = data['Sale_rating'].median()\n",
        "data['Sale_rating'] = data['Sale_rating'].replace([0], int(median_Sale_rating))\n",
        "\n",
        "data['Sale_rating'].unique()"
      ]
    },
    {
      "cell_type": "code",
      "execution_count": 66,
      "metadata": {},
      "outputs": [
        {
          "data": {
            "text/plain": [
              "array([100,  50,  33,  83,  97,  60,  66,  90,  81,  99,  54,  42,  91,\n",
              "        82,  96,  34,  69,  64,  80,  58,  94,  98,  87,  85,  57,  86,\n",
              "        75,  63,  79,  71,  88,  92,  56,  77,  84,  93,  95,  72,  46,\n",
              "        73,  78,  44,  76,  40,  70,  62,  53,  36,   6,  13,  89,  37,\n",
              "         1,  55,  65,  52])"
            ]
          },
          "execution_count": 66,
          "metadata": {},
          "output_type": "execute_result"
        }
      ],
      "source": [
        "#Chat_respone: chuyển sang int rồi fill NaN = median\n",
        "data['Chat_response'] = pd.to_numeric(data['Chat_response'], errors='coerce').fillna(0).astype(int)\n",
        "median_Chat_response = data['Chat_response'].median()\n",
        "data['Chat_response'] = data['Chat_response'].replace([0], int(median_Chat_response))\n",
        "\n",
        "data['Chat_response'].unique()"
      ]
    },
    {
      "cell_type": "markdown",
      "metadata": {},
      "source": [
        "**Five_star**"
      ]
    },
    {
      "cell_type": "code",
      "execution_count": 67,
      "metadata": {},
      "outputs": [],
      "source": [
        "#Loại bỏ những giá trị Null của cột Five_star\n",
        "data = data.dropna(subset=['Five_star'])"
      ]
    },
    {
      "cell_type": "code",
      "execution_count": 68,
      "metadata": {},
      "outputs": [
        {
          "name": "stdout",
          "output_type": "stream",
          "text": [
            "<class 'pandas.core.frame.DataFrame'>\n",
            "Int64Index: 4363 entries, 0 to 7151\n",
            "Data columns (total 16 columns):\n",
            " #   Column          Non-Null Count  Dtype  \n",
            "---  ------          --------------  -----  \n",
            " 0   Type            4363 non-null   object \n",
            " 1   Price_sale      4363 non-null   float64\n",
            " 2   Sale_off        4363 non-null   float64\n",
            " 3   Total_sold      4363 non-null   float64\n",
            " 4   Preview         4363 non-null   float64\n",
            " 5   Location        4363 non-null   object \n",
            " 6   Price_original  4363 non-null   float64\n",
            " 7   Ship_price      4363 non-null   int32  \n",
            " 8   Sale_rating     4363 non-null   int32  \n",
            " 9   Ship_on_time    4363 non-null   int32  \n",
            " 10  Chat_response   4363 non-null   int32  \n",
            " 11  One_star        4363 non-null   float64\n",
            " 12  Two_star        4363 non-null   float64\n",
            " 13  Three_star      4363 non-null   float64\n",
            " 14  Four_star       4363 non-null   float64\n",
            " 15  Five_star       4363 non-null   float64\n",
            "dtypes: float64(10), int32(4), object(2)\n",
            "memory usage: 511.3+ KB\n"
          ]
        }
      ],
      "source": [
        "#Check NULL\n",
        "data.info()"
      ]
    },
    {
      "cell_type": "code",
      "execution_count": 69,
      "metadata": {},
      "outputs": [
        {
          "data": {
            "text/html": [
              "<div>\n",
              "<style scoped>\n",
              "    .dataframe tbody tr th:only-of-type {\n",
              "        vertical-align: middle;\n",
              "    }\n",
              "\n",
              "    .dataframe tbody tr th {\n",
              "        vertical-align: top;\n",
              "    }\n",
              "\n",
              "    .dataframe thead th {\n",
              "        text-align: right;\n",
              "    }\n",
              "</style>\n",
              "<table border=\"1\" class=\"dataframe\">\n",
              "  <thead>\n",
              "    <tr style=\"text-align: right;\">\n",
              "      <th></th>\n",
              "      <th>Type</th>\n",
              "      <th>Price_sale</th>\n",
              "      <th>Sale_off</th>\n",
              "      <th>Total_sold</th>\n",
              "      <th>Preview</th>\n",
              "      <th>Location</th>\n",
              "      <th>Price_original</th>\n",
              "      <th>Ship_price</th>\n",
              "      <th>Sale_rating</th>\n",
              "      <th>Ship_on_time</th>\n",
              "      <th>Chat_response</th>\n",
              "      <th>One_star</th>\n",
              "      <th>Two_star</th>\n",
              "      <th>Three_star</th>\n",
              "      <th>Four_star</th>\n",
              "      <th>Five_star</th>\n",
              "    </tr>\n",
              "  </thead>\n",
              "  <tbody>\n",
              "    <tr>\n",
              "      <th>0</th>\n",
              "      <td>quan ao</td>\n",
              "      <td>35891.0</td>\n",
              "      <td>64.000000</td>\n",
              "      <td>3000.0</td>\n",
              "      <td>1022.0</td>\n",
              "      <td>Ho Chi Minh</td>\n",
              "      <td>100000.0</td>\n",
              "      <td>16500</td>\n",
              "      <td>97</td>\n",
              "      <td>100</td>\n",
              "      <td>100</td>\n",
              "      <td>20.0</td>\n",
              "      <td>7.0</td>\n",
              "      <td>27.0</td>\n",
              "      <td>36.0</td>\n",
              "      <td>932.0</td>\n",
              "    </tr>\n",
              "    <tr>\n",
              "      <th>1</th>\n",
              "      <td>quan ao</td>\n",
              "      <td>25000.0</td>\n",
              "      <td>50.000000</td>\n",
              "      <td>907.0</td>\n",
              "      <td>241.0</td>\n",
              "      <td>Ho Chi Minh</td>\n",
              "      <td>71998.0</td>\n",
              "      <td>16500</td>\n",
              "      <td>91</td>\n",
              "      <td>100</td>\n",
              "      <td>50</td>\n",
              "      <td>5.0</td>\n",
              "      <td>2.0</td>\n",
              "      <td>6.0</td>\n",
              "      <td>7.0</td>\n",
              "      <td>222.0</td>\n",
              "    </tr>\n",
              "    <tr>\n",
              "      <th>2</th>\n",
              "      <td>quan ao</td>\n",
              "      <td>79000.0</td>\n",
              "      <td>43.000000</td>\n",
              "      <td>961.0</td>\n",
              "      <td>260.0</td>\n",
              "      <td>Ha Noi</td>\n",
              "      <td>139000.0</td>\n",
              "      <td>32700</td>\n",
              "      <td>92</td>\n",
              "      <td>99</td>\n",
              "      <td>33</td>\n",
              "      <td>11.0</td>\n",
              "      <td>8.0</td>\n",
              "      <td>8.0</td>\n",
              "      <td>16.0</td>\n",
              "      <td>218.0</td>\n",
              "    </tr>\n",
              "    <tr>\n",
              "      <th>3</th>\n",
              "      <td>quan ao</td>\n",
              "      <td>36000.0</td>\n",
              "      <td>60.000000</td>\n",
              "      <td>102.0</td>\n",
              "      <td>21.0</td>\n",
              "      <td>Nam Dinh</td>\n",
              "      <td>189000.0</td>\n",
              "      <td>37700</td>\n",
              "      <td>94</td>\n",
              "      <td>100</td>\n",
              "      <td>83</td>\n",
              "      <td>1.0</td>\n",
              "      <td>0.0</td>\n",
              "      <td>1.0</td>\n",
              "      <td>1.0</td>\n",
              "      <td>18.0</td>\n",
              "    </tr>\n",
              "    <tr>\n",
              "      <th>4</th>\n",
              "      <td>quan ao</td>\n",
              "      <td>15971.0</td>\n",
              "      <td>54.000000</td>\n",
              "      <td>219.0</td>\n",
              "      <td>68.0</td>\n",
              "      <td>Ha Noi</td>\n",
              "      <td>59000.0</td>\n",
              "      <td>32700</td>\n",
              "      <td>95</td>\n",
              "      <td>100</td>\n",
              "      <td>100</td>\n",
              "      <td>0.0</td>\n",
              "      <td>1.0</td>\n",
              "      <td>0.0</td>\n",
              "      <td>3.0</td>\n",
              "      <td>65.0</td>\n",
              "    </tr>\n",
              "    <tr>\n",
              "      <th>...</th>\n",
              "      <td>...</td>\n",
              "      <td>...</td>\n",
              "      <td>...</td>\n",
              "      <td>...</td>\n",
              "      <td>...</td>\n",
              "      <td>...</td>\n",
              "      <td>...</td>\n",
              "      <td>...</td>\n",
              "      <td>...</td>\n",
              "      <td>...</td>\n",
              "      <td>...</td>\n",
              "      <td>...</td>\n",
              "      <td>...</td>\n",
              "      <td>...</td>\n",
              "      <td>...</td>\n",
              "      <td>...</td>\n",
              "    </tr>\n",
              "    <tr>\n",
              "      <th>7145</th>\n",
              "      <td>tivi</td>\n",
              "      <td>1000000.0</td>\n",
              "      <td>0.000000</td>\n",
              "      <td>0.0</td>\n",
              "      <td>0.0</td>\n",
              "      <td>Dong Nai</td>\n",
              "      <td>1000000.0</td>\n",
              "      <td>74700</td>\n",
              "      <td>96</td>\n",
              "      <td>98</td>\n",
              "      <td>97</td>\n",
              "      <td>0.0</td>\n",
              "      <td>0.0</td>\n",
              "      <td>0.0</td>\n",
              "      <td>0.0</td>\n",
              "      <td>0.0</td>\n",
              "    </tr>\n",
              "    <tr>\n",
              "      <th>7146</th>\n",
              "      <td>tivi</td>\n",
              "      <td>1500000.0</td>\n",
              "      <td>5.063291</td>\n",
              "      <td>0.0</td>\n",
              "      <td>1.0</td>\n",
              "      <td>Ha Noi</td>\n",
              "      <td>1580000.0</td>\n",
              "      <td>198200</td>\n",
              "      <td>91</td>\n",
              "      <td>90</td>\n",
              "      <td>96</td>\n",
              "      <td>0.0</td>\n",
              "      <td>0.0</td>\n",
              "      <td>0.0</td>\n",
              "      <td>0.0</td>\n",
              "      <td>1.0</td>\n",
              "    </tr>\n",
              "    <tr>\n",
              "      <th>7149</th>\n",
              "      <td>tivi</td>\n",
              "      <td>6150000.0</td>\n",
              "      <td>38.438438</td>\n",
              "      <td>0.0</td>\n",
              "      <td>0.0</td>\n",
              "      <td>Ho Chi Minh</td>\n",
              "      <td>9990000.0</td>\n",
              "      <td>0</td>\n",
              "      <td>97</td>\n",
              "      <td>98</td>\n",
              "      <td>89</td>\n",
              "      <td>0.0</td>\n",
              "      <td>0.0</td>\n",
              "      <td>0.0</td>\n",
              "      <td>0.0</td>\n",
              "      <td>0.0</td>\n",
              "    </tr>\n",
              "    <tr>\n",
              "      <th>7150</th>\n",
              "      <td>tivi</td>\n",
              "      <td>4250000.0</td>\n",
              "      <td>14.829659</td>\n",
              "      <td>0.0</td>\n",
              "      <td>0.0</td>\n",
              "      <td>Ha Noi</td>\n",
              "      <td>4990000.0</td>\n",
              "      <td>135500</td>\n",
              "      <td>100</td>\n",
              "      <td>40</td>\n",
              "      <td>97</td>\n",
              "      <td>0.0</td>\n",
              "      <td>0.0</td>\n",
              "      <td>0.0</td>\n",
              "      <td>0.0</td>\n",
              "      <td>0.0</td>\n",
              "    </tr>\n",
              "    <tr>\n",
              "      <th>7151</th>\n",
              "      <td>tivi</td>\n",
              "      <td>2650000.0</td>\n",
              "      <td>0.000000</td>\n",
              "      <td>0.0</td>\n",
              "      <td>0.0</td>\n",
              "      <td>Ho Chi Minh</td>\n",
              "      <td>2650000.0</td>\n",
              "      <td>45100</td>\n",
              "      <td>100</td>\n",
              "      <td>98</td>\n",
              "      <td>50</td>\n",
              "      <td>0.0</td>\n",
              "      <td>0.0</td>\n",
              "      <td>0.0</td>\n",
              "      <td>0.0</td>\n",
              "      <td>0.0</td>\n",
              "    </tr>\n",
              "  </tbody>\n",
              "</table>\n",
              "<p>4363 rows × 16 columns</p>\n",
              "</div>"
            ],
            "text/plain": [
              "         Type  Price_sale   Sale_off  Total_sold  Preview     Location  \\\n",
              "0     quan ao     35891.0  64.000000      3000.0   1022.0  Ho Chi Minh   \n",
              "1     quan ao     25000.0  50.000000       907.0    241.0  Ho Chi Minh   \n",
              "2     quan ao     79000.0  43.000000       961.0    260.0       Ha Noi   \n",
              "3     quan ao     36000.0  60.000000       102.0     21.0     Nam Dinh   \n",
              "4     quan ao     15971.0  54.000000       219.0     68.0       Ha Noi   \n",
              "...       ...         ...        ...         ...      ...          ...   \n",
              "7145     tivi   1000000.0   0.000000         0.0      0.0     Dong Nai   \n",
              "7146     tivi   1500000.0   5.063291         0.0      1.0       Ha Noi   \n",
              "7149     tivi   6150000.0  38.438438         0.0      0.0  Ho Chi Minh   \n",
              "7150     tivi   4250000.0  14.829659         0.0      0.0       Ha Noi   \n",
              "7151     tivi   2650000.0   0.000000         0.0      0.0  Ho Chi Minh   \n",
              "\n",
              "      Price_original  Ship_price  Sale_rating  Ship_on_time  Chat_response  \\\n",
              "0           100000.0       16500           97           100            100   \n",
              "1            71998.0       16500           91           100             50   \n",
              "2           139000.0       32700           92            99             33   \n",
              "3           189000.0       37700           94           100             83   \n",
              "4            59000.0       32700           95           100            100   \n",
              "...              ...         ...          ...           ...            ...   \n",
              "7145       1000000.0       74700           96            98             97   \n",
              "7146       1580000.0      198200           91            90             96   \n",
              "7149       9990000.0           0           97            98             89   \n",
              "7150       4990000.0      135500          100            40             97   \n",
              "7151       2650000.0       45100          100            98             50   \n",
              "\n",
              "      One_star  Two_star  Three_star  Four_star  Five_star  \n",
              "0         20.0       7.0        27.0       36.0      932.0  \n",
              "1          5.0       2.0         6.0        7.0      222.0  \n",
              "2         11.0       8.0         8.0       16.0      218.0  \n",
              "3          1.0       0.0         1.0        1.0       18.0  \n",
              "4          0.0       1.0         0.0        3.0       65.0  \n",
              "...        ...       ...         ...        ...        ...  \n",
              "7145       0.0       0.0         0.0        0.0        0.0  \n",
              "7146       0.0       0.0         0.0        0.0        1.0  \n",
              "7149       0.0       0.0         0.0        0.0        0.0  \n",
              "7150       0.0       0.0         0.0        0.0        0.0  \n",
              "7151       0.0       0.0         0.0        0.0        0.0  \n",
              "\n",
              "[4363 rows x 16 columns]"
            ]
          },
          "execution_count": 69,
          "metadata": {},
          "output_type": "execute_result"
        }
      ],
      "source": [
        "data"
      ]
    },
    {
      "cell_type": "code",
      "execution_count": 70,
      "metadata": {},
      "outputs": [
        {
          "data": {
            "text/plain": [
              "array(['quan ao', 'giay dep', 'trang suc', 'dien thoai', 'laptop', 'tivi'],\n",
              "      dtype=object)"
            ]
          },
          "execution_count": 70,
          "metadata": {},
          "output_type": "execute_result"
        }
      ],
      "source": [
        "data['Type'].unique()"
      ]
    },
    {
      "cell_type": "code",
      "execution_count": 71,
      "metadata": {},
      "outputs": [
        {
          "data": {
            "text/html": [
              "<div>\n",
              "<style scoped>\n",
              "    .dataframe tbody tr th:only-of-type {\n",
              "        vertical-align: middle;\n",
              "    }\n",
              "\n",
              "    .dataframe tbody tr th {\n",
              "        vertical-align: top;\n",
              "    }\n",
              "\n",
              "    .dataframe thead th {\n",
              "        text-align: right;\n",
              "    }\n",
              "</style>\n",
              "<table border=\"1\" class=\"dataframe\">\n",
              "  <thead>\n",
              "    <tr style=\"text-align: right;\">\n",
              "      <th></th>\n",
              "      <th>Type</th>\n",
              "      <th>Price_sale</th>\n",
              "      <th>Sale_off</th>\n",
              "      <th>Preview</th>\n",
              "      <th>Location</th>\n",
              "      <th>Price_original</th>\n",
              "      <th>Ship_price</th>\n",
              "      <th>Sale_rating</th>\n",
              "      <th>Ship_on_time</th>\n",
              "      <th>Chat_response</th>\n",
              "      <th>One_star</th>\n",
              "      <th>Two_star</th>\n",
              "      <th>Three_star</th>\n",
              "      <th>Four_star</th>\n",
              "      <th>Five_star</th>\n",
              "      <th>Total_sold</th>\n",
              "    </tr>\n",
              "  </thead>\n",
              "  <tbody>\n",
              "    <tr>\n",
              "      <th>0</th>\n",
              "      <td>quan ao</td>\n",
              "      <td>35891.0</td>\n",
              "      <td>64.0</td>\n",
              "      <td>1022.0</td>\n",
              "      <td>Ho Chi Minh</td>\n",
              "      <td>100000.0</td>\n",
              "      <td>16500</td>\n",
              "      <td>97</td>\n",
              "      <td>100</td>\n",
              "      <td>100</td>\n",
              "      <td>20.0</td>\n",
              "      <td>7.0</td>\n",
              "      <td>27.0</td>\n",
              "      <td>36.0</td>\n",
              "      <td>932.0</td>\n",
              "      <td>3000.0</td>\n",
              "    </tr>\n",
              "    <tr>\n",
              "      <th>1</th>\n",
              "      <td>quan ao</td>\n",
              "      <td>25000.0</td>\n",
              "      <td>50.0</td>\n",
              "      <td>241.0</td>\n",
              "      <td>Ho Chi Minh</td>\n",
              "      <td>71998.0</td>\n",
              "      <td>16500</td>\n",
              "      <td>91</td>\n",
              "      <td>100</td>\n",
              "      <td>50</td>\n",
              "      <td>5.0</td>\n",
              "      <td>2.0</td>\n",
              "      <td>6.0</td>\n",
              "      <td>7.0</td>\n",
              "      <td>222.0</td>\n",
              "      <td>907.0</td>\n",
              "    </tr>\n",
              "    <tr>\n",
              "      <th>2</th>\n",
              "      <td>quan ao</td>\n",
              "      <td>79000.0</td>\n",
              "      <td>43.0</td>\n",
              "      <td>260.0</td>\n",
              "      <td>Ha Noi</td>\n",
              "      <td>139000.0</td>\n",
              "      <td>32700</td>\n",
              "      <td>92</td>\n",
              "      <td>99</td>\n",
              "      <td>33</td>\n",
              "      <td>11.0</td>\n",
              "      <td>8.0</td>\n",
              "      <td>8.0</td>\n",
              "      <td>16.0</td>\n",
              "      <td>218.0</td>\n",
              "      <td>961.0</td>\n",
              "    </tr>\n",
              "    <tr>\n",
              "      <th>3</th>\n",
              "      <td>quan ao</td>\n",
              "      <td>36000.0</td>\n",
              "      <td>60.0</td>\n",
              "      <td>21.0</td>\n",
              "      <td>Nam Dinh</td>\n",
              "      <td>189000.0</td>\n",
              "      <td>37700</td>\n",
              "      <td>94</td>\n",
              "      <td>100</td>\n",
              "      <td>83</td>\n",
              "      <td>1.0</td>\n",
              "      <td>0.0</td>\n",
              "      <td>1.0</td>\n",
              "      <td>1.0</td>\n",
              "      <td>18.0</td>\n",
              "      <td>102.0</td>\n",
              "    </tr>\n",
              "    <tr>\n",
              "      <th>4</th>\n",
              "      <td>quan ao</td>\n",
              "      <td>15971.0</td>\n",
              "      <td>54.0</td>\n",
              "      <td>68.0</td>\n",
              "      <td>Ha Noi</td>\n",
              "      <td>59000.0</td>\n",
              "      <td>32700</td>\n",
              "      <td>95</td>\n",
              "      <td>100</td>\n",
              "      <td>100</td>\n",
              "      <td>0.0</td>\n",
              "      <td>1.0</td>\n",
              "      <td>0.0</td>\n",
              "      <td>3.0</td>\n",
              "      <td>65.0</td>\n",
              "      <td>219.0</td>\n",
              "    </tr>\n",
              "  </tbody>\n",
              "</table>\n",
              "</div>"
            ],
            "text/plain": [
              "      Type  Price_sale  Sale_off  Preview     Location  Price_original  \\\n",
              "0  quan ao     35891.0      64.0   1022.0  Ho Chi Minh        100000.0   \n",
              "1  quan ao     25000.0      50.0    241.0  Ho Chi Minh         71998.0   \n",
              "2  quan ao     79000.0      43.0    260.0       Ha Noi        139000.0   \n",
              "3  quan ao     36000.0      60.0     21.0     Nam Dinh        189000.0   \n",
              "4  quan ao     15971.0      54.0     68.0       Ha Noi         59000.0   \n",
              "\n",
              "   Ship_price  Sale_rating  Ship_on_time  Chat_response  One_star  Two_star  \\\n",
              "0       16500           97           100            100      20.0       7.0   \n",
              "1       16500           91           100             50       5.0       2.0   \n",
              "2       32700           92            99             33      11.0       8.0   \n",
              "3       37700           94           100             83       1.0       0.0   \n",
              "4       32700           95           100            100       0.0       1.0   \n",
              "\n",
              "   Three_star  Four_star  Five_star  Total_sold  \n",
              "0        27.0       36.0      932.0      3000.0  \n",
              "1         6.0        7.0      222.0       907.0  \n",
              "2         8.0       16.0      218.0       961.0  \n",
              "3         1.0        1.0       18.0       102.0  \n",
              "4         0.0        3.0       65.0       219.0  "
            ]
          },
          "execution_count": 71,
          "metadata": {},
          "output_type": "execute_result"
        }
      ],
      "source": [
        "# Cột cần chuyển\n",
        "column_name = 'Total_sold'\n",
        "\n",
        "# Pop cột ra khỏi DataFrame\n",
        "column = data.pop(column_name)\n",
        "\n",
        "# Chèn cột vào vị trí cuối cùng\n",
        "data[column_name] = column\n",
        "\n",
        "data.head()"
      ]
    },
    {
      "cell_type": "code",
      "execution_count": 72,
      "metadata": {},
      "outputs": [],
      "source": [
        "# Sắp xếp lại DataFrame một cách ngẫu nhiên\n",
        "data = data.sample(frac=1).reset_index(drop=True)"
      ]
    },
    {
      "cell_type": "code",
      "execution_count": 73,
      "metadata": {},
      "outputs": [
        {
          "data": {
            "text/html": [
              "<div>\n",
              "<style scoped>\n",
              "    .dataframe tbody tr th:only-of-type {\n",
              "        vertical-align: middle;\n",
              "    }\n",
              "\n",
              "    .dataframe tbody tr th {\n",
              "        vertical-align: top;\n",
              "    }\n",
              "\n",
              "    .dataframe thead th {\n",
              "        text-align: right;\n",
              "    }\n",
              "</style>\n",
              "<table border=\"1\" class=\"dataframe\">\n",
              "  <thead>\n",
              "    <tr style=\"text-align: right;\">\n",
              "      <th></th>\n",
              "      <th>Type</th>\n",
              "      <th>Price_sale</th>\n",
              "      <th>Sale_off</th>\n",
              "      <th>Preview</th>\n",
              "      <th>Location</th>\n",
              "      <th>Price_original</th>\n",
              "      <th>Ship_price</th>\n",
              "      <th>Sale_rating</th>\n",
              "      <th>Ship_on_time</th>\n",
              "      <th>Chat_response</th>\n",
              "      <th>One_star</th>\n",
              "      <th>Two_star</th>\n",
              "      <th>Three_star</th>\n",
              "      <th>Four_star</th>\n",
              "      <th>Five_star</th>\n",
              "      <th>Total_sold</th>\n",
              "    </tr>\n",
              "  </thead>\n",
              "  <tbody>\n",
              "    <tr>\n",
              "      <th>0</th>\n",
              "      <td>tivi</td>\n",
              "      <td>2777000.0</td>\n",
              "      <td>44.0000</td>\n",
              "      <td>118.0</td>\n",
              "      <td>Ho Chi Minh</td>\n",
              "      <td>4990000.0</td>\n",
              "      <td>0</td>\n",
              "      <td>97</td>\n",
              "      <td>98</td>\n",
              "      <td>84</td>\n",
              "      <td>0.0</td>\n",
              "      <td>1.0</td>\n",
              "      <td>1.0</td>\n",
              "      <td>1.0</td>\n",
              "      <td>116.0</td>\n",
              "      <td>319.0</td>\n",
              "    </tr>\n",
              "    <tr>\n",
              "      <th>1</th>\n",
              "      <td>trang suc</td>\n",
              "      <td>29432.0</td>\n",
              "      <td>54.0125</td>\n",
              "      <td>16.0</td>\n",
              "      <td>Nuoc Ngoai</td>\n",
              "      <td>64000.0</td>\n",
              "      <td>17000</td>\n",
              "      <td>96</td>\n",
              "      <td>89</td>\n",
              "      <td>100</td>\n",
              "      <td>1.0</td>\n",
              "      <td>0.0</td>\n",
              "      <td>0.0</td>\n",
              "      <td>0.0</td>\n",
              "      <td>15.0</td>\n",
              "      <td>43.0</td>\n",
              "    </tr>\n",
              "    <tr>\n",
              "      <th>2</th>\n",
              "      <td>laptop</td>\n",
              "      <td>899999.0</td>\n",
              "      <td>10.0000</td>\n",
              "      <td>4.0</td>\n",
              "      <td>Hung Yen</td>\n",
              "      <td>999999.0</td>\n",
              "      <td>100600</td>\n",
              "      <td>86</td>\n",
              "      <td>100</td>\n",
              "      <td>88</td>\n",
              "      <td>1.0</td>\n",
              "      <td>0.0</td>\n",
              "      <td>0.0</td>\n",
              "      <td>0.0</td>\n",
              "      <td>4.0</td>\n",
              "      <td>11.0</td>\n",
              "    </tr>\n",
              "    <tr>\n",
              "      <th>3</th>\n",
              "      <td>giay dep</td>\n",
              "      <td>81000.0</td>\n",
              "      <td>50.0000</td>\n",
              "      <td>390.0</td>\n",
              "      <td>Nuoc Ngoai</td>\n",
              "      <td>161600.0</td>\n",
              "      <td>0</td>\n",
              "      <td>98</td>\n",
              "      <td>98</td>\n",
              "      <td>100</td>\n",
              "      <td>4.0</td>\n",
              "      <td>0.0</td>\n",
              "      <td>2.0</td>\n",
              "      <td>10.0</td>\n",
              "      <td>374.0</td>\n",
              "      <td>790.0</td>\n",
              "    </tr>\n",
              "    <tr>\n",
              "      <th>4</th>\n",
              "      <td>tivi</td>\n",
              "      <td>3709000.0</td>\n",
              "      <td>38.0000</td>\n",
              "      <td>3.0</td>\n",
              "      <td>Ho Chi Minh</td>\n",
              "      <td>6000000.0</td>\n",
              "      <td>0</td>\n",
              "      <td>98</td>\n",
              "      <td>100</td>\n",
              "      <td>99</td>\n",
              "      <td>0.0</td>\n",
              "      <td>0.0</td>\n",
              "      <td>0.0</td>\n",
              "      <td>0.0</td>\n",
              "      <td>3.0</td>\n",
              "      <td>10.0</td>\n",
              "    </tr>\n",
              "  </tbody>\n",
              "</table>\n",
              "</div>"
            ],
            "text/plain": [
              "        Type  Price_sale  Sale_off  Preview     Location  Price_original  \\\n",
              "0       tivi   2777000.0   44.0000    118.0  Ho Chi Minh       4990000.0   \n",
              "1  trang suc     29432.0   54.0125     16.0   Nuoc Ngoai         64000.0   \n",
              "2     laptop    899999.0   10.0000      4.0     Hung Yen        999999.0   \n",
              "3   giay dep     81000.0   50.0000    390.0   Nuoc Ngoai        161600.0   \n",
              "4       tivi   3709000.0   38.0000      3.0  Ho Chi Minh       6000000.0   \n",
              "\n",
              "   Ship_price  Sale_rating  Ship_on_time  Chat_response  One_star  Two_star  \\\n",
              "0           0           97            98             84       0.0       1.0   \n",
              "1       17000           96            89            100       1.0       0.0   \n",
              "2      100600           86           100             88       1.0       0.0   \n",
              "3           0           98            98            100       4.0       0.0   \n",
              "4           0           98           100             99       0.0       0.0   \n",
              "\n",
              "   Three_star  Four_star  Five_star  Total_sold  \n",
              "0         1.0        1.0      116.0       319.0  \n",
              "1         0.0        0.0       15.0        43.0  \n",
              "2         0.0        0.0        4.0        11.0  \n",
              "3         2.0       10.0      374.0       790.0  \n",
              "4         0.0        0.0        3.0        10.0  "
            ]
          },
          "execution_count": 73,
          "metadata": {},
          "output_type": "execute_result"
        }
      ],
      "source": [
        "data.head()"
      ]
    },
    {
      "cell_type": "markdown",
      "metadata": {},
      "source": [
        "#### 3.2 Encoding categorical variables"
      ]
    },
    {
      "cell_type": "code",
      "execution_count": 74,
      "metadata": {},
      "outputs": [],
      "source": [
        "new_data = data.copy()"
      ]
    },
    {
      "cell_type": "code",
      "execution_count": 75,
      "metadata": {},
      "outputs": [],
      "source": [
        "#Assign labels to 2 columns: Type và Location\n",
        "from sklearn.preprocessing import LabelEncoder\n",
        "\n",
        "label_encoder = LabelEncoder()\n",
        "new_data['Type'] = label_encoder.fit_transform(new_data['Type'])\n",
        "\n",
        "new_data['Location'] = label_encoder.fit_transform(new_data['Location'])"
      ]
    },
    {
      "cell_type": "code",
      "execution_count": 76,
      "metadata": {},
      "outputs": [
        {
          "name": "stdout",
          "output_type": "stream",
          "text": [
            "['tivi' 'trang suc' 'laptop' 'giay dep' 'quan ao' 'dien thoai'] \n",
            "\n",
            "[4 5 2 1 3 0] \n",
            "\n",
            "['Ho Chi Minh' 'Nuoc Ngoai' 'Hung Yen' 'Ha Noi' 'Nghe An' 'Dong Nai'\n",
            " 'Da Nang' 'Tien Giang' 'Thanh Hoa' 'Nam Dinh' 'Binh Duong' 'Vinh Phuc'\n",
            " 'Bac Ninh' 'Long An' 'Hai Duong' 'Ben Tre' 'Dong Thap' 'Binh Dinh'\n",
            " 'Quang Tri' 'Hai Phong' 'Thai Binh' 'Bac Giang' 'Lam Dong'\n",
            " 'Ba Ria Vung Tau' 'An Giang' 'Can Tho' 'Ca Mau' 'Dak Nong' 'Tra Vinh'\n",
            " 'Dak Lak' 'Phu Tho' 'Quang Nam' 'Ha Tinh' 'Tay Ninh' 'Vinh Long' 'Ha Nam'\n",
            " 'Thai Nguyen' 'Thua Thien Hue' 'Quang Ngai' 'Phu Yen'] \n",
            "\n",
            "[19 25 20 15 24 12  9 36 34 23  6 39  3 22 17  4 13  5 30 18 32  2 21  1\n",
            "  0  8  7 11 37 10 26 28 16 31 38 14 33 35 29 27] \n",
            "\n"
          ]
        }
      ],
      "source": [
        "#See the type of labeled categories\n",
        "print(data['Type'].unique(), \"\\n\")\n",
        "print(new_data['Type'].unique(), \"\\n\")\n",
        "\n",
        "print(data['Location'].unique(), \"\\n\")\n",
        "print(new_data['Location'].unique(), \"\\n\")"
      ]
    },
    {
      "cell_type": "code",
      "execution_count": 77,
      "metadata": {},
      "outputs": [],
      "source": [
        "# Change type -> category\n",
        "new_data['Type'] = new_data['Type'].astype('category')\n",
        "new_data['Location'] = new_data['Location'].astype('category')"
      ]
    },
    {
      "cell_type": "code",
      "execution_count": 78,
      "metadata": {},
      "outputs": [
        {
          "data": {
            "text/plain": [
              "dien thoai    838\n",
              "quan ao       772\n",
              "trang suc     728\n",
              "laptop        691\n",
              "tivi          685\n",
              "giay dep      649\n",
              "Name: Type, dtype: int64"
            ]
          },
          "execution_count": 78,
          "metadata": {},
          "output_type": "execute_result"
        }
      ],
      "source": [
        "data['Type'].value_counts()"
      ]
    },
    {
      "cell_type": "markdown",
      "metadata": {},
      "source": [
        "# EDA"
      ]
    },
    {
      "cell_type": "code",
      "execution_count": 79,
      "metadata": {},
      "outputs": [],
      "source": [
        "import matplotlib.pyplot as plt\n",
        "import seaborn as sns"
      ]
    },
    {
      "cell_type": "markdown",
      "metadata": {},
      "source": [
        "Biểu đồ thể hiện khả năng tương quan giữa các biến "
      ]
    },
    {
      "cell_type": "code",
      "execution_count": 106,
      "metadata": {},
      "outputs": [
        {
          "name": "stderr",
          "output_type": "stream",
          "text": [
            "C:\\Users\\Admin\\AppData\\Local\\Temp\\ipykernel_21308\\2885379862.py:2: FutureWarning: The default value of numeric_only in DataFrame.corr is deprecated. In a future version, it will default to False. Select only valid columns or specify the value of numeric_only to silence this warning.\n",
            "  sns.heatmap(new_data.corr(), annot=True, cmap='Blues')\n"
          ]
        },
        {
          "data": {
            "image/png": "[encoded data removed]",
            "text/plain": [
              "<Figure size 1300x800 with 2 Axes>"
            ]
          },
          "metadata": {},
          "output_type": "display_data"
        }
      ],
      "source": [
        "plt.figure(figsize=(13,8))\n",
        "sns.heatmap(new_data.corr(), annot=True, cmap='Blues')\n",
        "plt.show()"
      ]
    },
    {
      "cell_type": "markdown",
      "metadata": {},
      "source": [
        "Lọc bỏ 4 feature Ship_price, Sale_rating, Ship_on_time, Chat_response do mối tương quan với Total_sold thấp"
      ]
    },
    {
      "cell_type": "code",
      "execution_count": 81,
      "metadata": {},
      "outputs": [],
      "source": [
        "columns_drop = ['Ship_price', 'Sale_rating', 'Ship_on_time', 'Chat_response']\n",
        "new_data.drop(columns=columns_drop, inplace=True)"
      ]
    },
    {
      "cell_type": "code",
      "execution_count": 82,
      "metadata": {},
      "outputs": [
        {
          "data": {
            "image/png": "[encoded data removed]",
            "text/plain": [
              "<Figure size 2000x800 with 2 Axes>"
            ]
          },
          "metadata": {},
          "output_type": "display_data"
        }
      ],
      "source": [
        "# Create a figure with two subplots (1 row, 2 columns)\n",
        "fig, axes = plt.subplots(1, 2, figsize=(20, 8))\n",
        "\n",
        "# Plot for 'Type'\n",
        "sns.countplot(ax=axes[0], x='Type', data=new_data)\n",
        "axes[0].set_title('Frequency of Each Type')\n",
        "axes[0].set_xlabel('Type')\n",
        "axes[0].set_ylabel('Frequency')\n",
        "axes[0].tick_params(axis='x', rotation=45)\n",
        "\n",
        "# Plot for 'Location'\n",
        "sns.countplot(ax=axes[1], x='Location', data=new_data)\n",
        "axes[1].set_title('Frequency of Each Location')\n",
        "axes[1].set_xlabel('Location')\n",
        "axes[1].set_ylabel('Frequency')\n",
        "axes[1].tick_params(axis='x', rotation=45)\n",
        "\n",
        "# Adjust layout to prevent overlap\n",
        "plt.tight_layout()\n",
        "\n",
        "# Display the plots\n",
        "plt.show()"
      ]
    },
    {
      "cell_type": "markdown",
      "metadata": {},
      "source": [
        "Cột Location có một số dữ liệu chiếm ưu thế hơn các dữ liệu khác. Việc này có thể liên quan đến hiệu quả của model nên ta có thể drop đi cột Location"
      ]
    },
    {
      "cell_type": "code",
      "execution_count": 83,
      "metadata": {},
      "outputs": [
        {
          "data": {
            "text/html": [
              "<div>\n",
              "<style scoped>\n",
              "    .dataframe tbody tr th:only-of-type {\n",
              "        vertical-align: middle;\n",
              "    }\n",
              "\n",
              "    .dataframe tbody tr th {\n",
              "        vertical-align: top;\n",
              "    }\n",
              "\n",
              "    .dataframe thead th {\n",
              "        text-align: right;\n",
              "    }\n",
              "</style>\n",
              "<table border=\"1\" class=\"dataframe\">\n",
              "  <thead>\n",
              "    <tr style=\"text-align: right;\">\n",
              "      <th></th>\n",
              "      <th>Type</th>\n",
              "      <th>Price_sale</th>\n",
              "      <th>Sale_off</th>\n",
              "      <th>Preview</th>\n",
              "      <th>Price_original</th>\n",
              "      <th>One_star</th>\n",
              "      <th>Two_star</th>\n",
              "      <th>Three_star</th>\n",
              "      <th>Four_star</th>\n",
              "      <th>Five_star</th>\n",
              "      <th>Total_sold</th>\n",
              "    </tr>\n",
              "  </thead>\n",
              "  <tbody>\n",
              "    <tr>\n",
              "      <th>0</th>\n",
              "      <td>4</td>\n",
              "      <td>2777000.0</td>\n",
              "      <td>44.000000</td>\n",
              "      <td>118.0</td>\n",
              "      <td>4.990000e+06</td>\n",
              "      <td>0.0</td>\n",
              "      <td>1.0</td>\n",
              "      <td>1.0</td>\n",
              "      <td>1.0</td>\n",
              "      <td>116.0</td>\n",
              "      <td>319.0</td>\n",
              "    </tr>\n",
              "    <tr>\n",
              "      <th>1</th>\n",
              "      <td>5</td>\n",
              "      <td>29432.0</td>\n",
              "      <td>54.012500</td>\n",
              "      <td>16.0</td>\n",
              "      <td>6.400000e+04</td>\n",
              "      <td>1.0</td>\n",
              "      <td>0.0</td>\n",
              "      <td>0.0</td>\n",
              "      <td>0.0</td>\n",
              "      <td>15.0</td>\n",
              "      <td>43.0</td>\n",
              "    </tr>\n",
              "    <tr>\n",
              "      <th>2</th>\n",
              "      <td>2</td>\n",
              "      <td>899999.0</td>\n",
              "      <td>10.000000</td>\n",
              "      <td>4.0</td>\n",
              "      <td>9.999990e+05</td>\n",
              "      <td>1.0</td>\n",
              "      <td>0.0</td>\n",
              "      <td>0.0</td>\n",
              "      <td>0.0</td>\n",
              "      <td>4.0</td>\n",
              "      <td>11.0</td>\n",
              "    </tr>\n",
              "    <tr>\n",
              "      <th>3</th>\n",
              "      <td>1</td>\n",
              "      <td>81000.0</td>\n",
              "      <td>50.000000</td>\n",
              "      <td>390.0</td>\n",
              "      <td>1.616000e+05</td>\n",
              "      <td>4.0</td>\n",
              "      <td>0.0</td>\n",
              "      <td>2.0</td>\n",
              "      <td>10.0</td>\n",
              "      <td>374.0</td>\n",
              "      <td>790.0</td>\n",
              "    </tr>\n",
              "    <tr>\n",
              "      <th>4</th>\n",
              "      <td>4</td>\n",
              "      <td>3709000.0</td>\n",
              "      <td>38.000000</td>\n",
              "      <td>3.0</td>\n",
              "      <td>6.000000e+06</td>\n",
              "      <td>0.0</td>\n",
              "      <td>0.0</td>\n",
              "      <td>0.0</td>\n",
              "      <td>0.0</td>\n",
              "      <td>3.0</td>\n",
              "      <td>10.0</td>\n",
              "    </tr>\n",
              "    <tr>\n",
              "      <th>...</th>\n",
              "      <td>...</td>\n",
              "      <td>...</td>\n",
              "      <td>...</td>\n",
              "      <td>...</td>\n",
              "      <td>...</td>\n",
              "      <td>...</td>\n",
              "      <td>...</td>\n",
              "      <td>...</td>\n",
              "      <td>...</td>\n",
              "      <td>...</td>\n",
              "      <td>...</td>\n",
              "    </tr>\n",
              "    <tr>\n",
              "      <th>4358</th>\n",
              "      <td>1</td>\n",
              "      <td>31280.0</td>\n",
              "      <td>11.000000</td>\n",
              "      <td>3.0</td>\n",
              "      <td>3.514607e+04</td>\n",
              "      <td>0.0</td>\n",
              "      <td>0.0</td>\n",
              "      <td>0.0</td>\n",
              "      <td>0.0</td>\n",
              "      <td>0.0</td>\n",
              "      <td>11.0</td>\n",
              "    </tr>\n",
              "    <tr>\n",
              "      <th>4359</th>\n",
              "      <td>5</td>\n",
              "      <td>11474.0</td>\n",
              "      <td>63.000000</td>\n",
              "      <td>20.0</td>\n",
              "      <td>3.070000e+04</td>\n",
              "      <td>0.0</td>\n",
              "      <td>0.0</td>\n",
              "      <td>0.0</td>\n",
              "      <td>3.0</td>\n",
              "      <td>17.0</td>\n",
              "      <td>66.0</td>\n",
              "    </tr>\n",
              "    <tr>\n",
              "      <th>4360</th>\n",
              "      <td>4</td>\n",
              "      <td>8589000.0</td>\n",
              "      <td>33.000000</td>\n",
              "      <td>234.0</td>\n",
              "      <td>1.290000e+07</td>\n",
              "      <td>1.0</td>\n",
              "      <td>0.0</td>\n",
              "      <td>0.0</td>\n",
              "      <td>1.0</td>\n",
              "      <td>232.0</td>\n",
              "      <td>1000.0</td>\n",
              "    </tr>\n",
              "    <tr>\n",
              "      <th>4361</th>\n",
              "      <td>1</td>\n",
              "      <td>72000.0</td>\n",
              "      <td>35.000000</td>\n",
              "      <td>1163.0</td>\n",
              "      <td>1.100000e+05</td>\n",
              "      <td>33.0</td>\n",
              "      <td>9.0</td>\n",
              "      <td>39.0</td>\n",
              "      <td>58.0</td>\n",
              "      <td>1023.0</td>\n",
              "      <td>3700.0</td>\n",
              "    </tr>\n",
              "    <tr>\n",
              "      <th>4362</th>\n",
              "      <td>0</td>\n",
              "      <td>19735000.0</td>\n",
              "      <td>38.134796</td>\n",
              "      <td>0.0</td>\n",
              "      <td>3.190000e+07</td>\n",
              "      <td>0.0</td>\n",
              "      <td>0.0</td>\n",
              "      <td>0.0</td>\n",
              "      <td>0.0</td>\n",
              "      <td>0.0</td>\n",
              "      <td>0.0</td>\n",
              "    </tr>\n",
              "  </tbody>\n",
              "</table>\n",
              "<p>4363 rows × 11 columns</p>\n",
              "</div>"
            ],
            "text/plain": [
              "     Type  Price_sale   Sale_off  Preview  Price_original  One_star  Two_star  \\\n",
              "0       4   2777000.0  44.000000    118.0    4.990000e+06       0.0       1.0   \n",
              "1       5     29432.0  54.012500     16.0    6.400000e+04       1.0       0.0   \n",
              "2       2    899999.0  10.000000      4.0    9.999990e+05       1.0       0.0   \n",
              "3       1     81000.0  50.000000    390.0    1.616000e+05       4.0       0.0   \n",
              "4       4   3709000.0  38.000000      3.0    6.000000e+06       0.0       0.0   \n",
              "...   ...         ...        ...      ...             ...       ...       ...   \n",
              "4358    1     31280.0  11.000000      3.0    3.514607e+04       0.0       0.0   \n",
              "4359    5     11474.0  63.000000     20.0    3.070000e+04       0.0       0.0   \n",
              "4360    4   8589000.0  33.000000    234.0    1.290000e+07       1.0       0.0   \n",
              "4361    1     72000.0  35.000000   1163.0    1.100000e+05      33.0       9.0   \n",
              "4362    0  19735000.0  38.134796      0.0    3.190000e+07       0.0       0.0   \n",
              "\n",
              "      Three_star  Four_star  Five_star  Total_sold  \n",
              "0            1.0        1.0      116.0       319.0  \n",
              "1            0.0        0.0       15.0        43.0  \n",
              "2            0.0        0.0        4.0        11.0  \n",
              "3            2.0       10.0      374.0       790.0  \n",
              "4            0.0        0.0        3.0        10.0  \n",
              "...          ...        ...        ...         ...  \n",
              "4358         0.0        0.0        0.0        11.0  \n",
              "4359         0.0        3.0       17.0        66.0  \n",
              "4360         0.0        1.0      232.0      1000.0  \n",
              "4361        39.0       58.0     1023.0      3700.0  \n",
              "4362         0.0        0.0        0.0         0.0  \n",
              "\n",
              "[4363 rows x 11 columns]"
            ]
          },
          "execution_count": 83,
          "metadata": {},
          "output_type": "execute_result"
        }
      ],
      "source": [
        "new_data.drop(columns='Location', inplace=True)\n",
        "new_data"
      ]
    },
    {
      "cell_type": "markdown",
      "metadata": {},
      "source": [
        "#### 3.3 Normalize the numerical feature"
      ]
    },
    {
      "cell_type": "code",
      "execution_count": 84,
      "metadata": {},
      "outputs": [],
      "source": [
        "#Split data into features (X) and the target variable (Y): Total_sold\n",
        "X = new_data.drop(columns=['Total_sold'])\n",
        "y = new_data['Total_sold']\n",
        "\n",
        "#Scale X\n",
        "from sklearn.preprocessing import StandardScaler\n",
        "sc = StandardScaler()\n",
        "X_sc = sc.fit_transform(X)\n",
        "\n",
        "#Convert data to dataframe\n",
        "col = X.columns\n",
        "X_std = pd.DataFrame(X_sc, columns=col)"
      ]
    },
    {
      "cell_type": "markdown",
      "metadata": {},
      "source": [
        "# Linear Regression"
      ]
    },
    {
      "cell_type": "code",
      "execution_count": 85,
      "metadata": {},
      "outputs": [],
      "source": [
        "#Split data into training and testing sets\n",
        "from sklearn.model_selection import train_test_split\n",
        "\n",
        "X_train, X_test, y_train, y_test = train_test_split(X_std, y, train_size=0.8, test_size=0.2)"
      ]
    },
    {
      "cell_type": "code",
      "execution_count": 86,
      "metadata": {},
      "outputs": [
        {
          "data": {
            "text/html": [
              "<style>#sk-container-id-2 {color: black;background-color: white;}#sk-container-id-2 pre{padding: 0;}#sk-container-id-2 div.sk-toggleable {background-color: white;}#sk-container-id-2 label.sk-toggleable__label {cursor: pointer;display: block;width: 100%;margin-bottom: 0;padding: 0.3em;box-sizing: border-box;text-align: center;}#sk-container-id-2 label.sk-toggleable__label-arrow:before {content: \"▸\";float: left;margin-right: 0.25em;color: #696969;}#sk-container-id-2 label.sk-toggleable__label-arrow:hover:before {color: black;}#sk-container-id-2 div.sk-estimator:hover label.sk-toggleable__label-arrow:before {color: black;}#sk-container-id-2 div.sk-toggleable__content {max-height: 0;max-width: 0;overflow: hidden;text-align: left;background-color: #f0f8ff;}#sk-container-id-2 div.sk-toggleable__content pre {margin: 0.2em;color: black;border-radius: 0.25em;background-color: #f0f8ff;}#sk-container-id-2 input.sk-toggleable__control:checked~div.sk-toggleable__content {max-height: 200px;max-width: 100%;overflow: auto;}#sk-container-id-2 input.sk-toggleable__control:checked~label.sk-toggleable__label-arrow:before {content: \"▾\";}#sk-container-id-2 div.sk-estimator input.sk-toggleable__control:checked~label.sk-toggleable__label {background-color: #d4ebff;}#sk-container-id-2 div.sk-label input.sk-toggleable__control:checked~label.sk-toggleable__label {background-color: #d4ebff;}#sk-container-id-2 input.sk-hidden--visually {border: 0;clip: rect(1px 1px 1px 1px);clip: rect(1px, 1px, 1px, 1px);height: 1px;margin: -1px;overflow: hidden;padding: 0;position: absolute;width: 1px;}#sk-container-id-2 div.sk-estimator {font-family: monospace;background-color: #f0f8ff;border: 1px dotted black;border-radius: 0.25em;box-sizing: border-box;margin-bottom: 0.5em;}#sk-container-id-2 div.sk-estimator:hover {background-color: #d4ebff;}#sk-container-id-2 div.sk-parallel-item::after {content: \"\";width: 100%;border-bottom: 1px solid gray;flex-grow: 1;}#sk-container-id-2 div.sk-label:hover label.sk-toggleable__label {background-color: #d4ebff;}#sk-container-id-2 div.sk-serial::before {content: \"\";position: absolute;border-left: 1px solid gray;box-sizing: border-box;top: 0;bottom: 0;left: 50%;z-index: 0;}#sk-container-id-2 div.sk-serial {display: flex;flex-direction: column;align-items: center;background-color: white;padding-right: 0.2em;padding-left: 0.2em;position: relative;}#sk-container-id-2 div.sk-item {position: relative;z-index: 1;}#sk-container-id-2 div.sk-parallel {display: flex;align-items: stretch;justify-content: center;background-color: white;position: relative;}#sk-container-id-2 div.sk-item::before, #sk-container-id-2 div.sk-parallel-item::before {content: \"\";position: absolute;border-left: 1px solid gray;box-sizing: border-box;top: 0;bottom: 0;left: 50%;z-index: -1;}#sk-container-id-2 div.sk-parallel-item {display: flex;flex-direction: column;z-index: 1;position: relative;background-color: white;}#sk-container-id-2 div.sk-parallel-item:first-child::after {align-self: flex-end;width: 50%;}#sk-container-id-2 div.sk-parallel-item:last-child::after {align-self: flex-start;width: 50%;}#sk-container-id-2 div.sk-parallel-item:only-child::after {width: 0;}#sk-container-id-2 div.sk-dashed-wrapped {border: 1px dashed gray;margin: 0 0.4em 0.5em 0.4em;box-sizing: border-box;padding-bottom: 0.4em;background-color: white;}#sk-container-id-2 div.sk-label label {font-family: monospace;font-weight: bold;display: inline-block;line-height: 1.2em;}#sk-container-id-2 div.sk-label-container {text-align: center;}#sk-container-id-2 div.sk-container {/* jupyter's `normalize.less` sets `[hidden] { display: none; }` but bootstrap.min.css set `[hidden] { display: none !important; }` so we also need the `!important` here to be able to override the default hidden behavior on the sphinx rendered scikit-learn.org. See: https://github.com/scikit-learn/scikit-learn/issues/21755 */display: inline-block !important;position: relative;}#sk-container-id-2 div.sk-text-repr-fallback {display: none;}</style><div id=\"sk-container-id-2\" class=\"sk-top-container\"><div class=\"sk-text-repr-fallback\"><pre>LinearRegression()</pre><b>In a Jupyter environment, please rerun this cell to show the HTML representation or trust the notebook. <br />On GitHub, the HTML representation is unable to render, please try loading this page with nbviewer.org.</b></div><div class=\"sk-container\" hidden><div class=\"sk-item\"><div class=\"sk-estimator sk-toggleable\"><input class=\"sk-toggleable__control sk-hidden--visually\" id=\"sk-estimator-id-2\" type=\"checkbox\" checked><label for=\"sk-estimator-id-2\" class=\"sk-toggleable__label sk-toggleable__label-arrow\">LinearRegression</label><div class=\"sk-toggleable__content\"><pre>LinearRegression()</pre></div></div></div></div></div>"
            ],
            "text/plain": [
              "LinearRegression()"
            ]
          },
          "execution_count": 86,
          "metadata": {},
          "output_type": "execute_result"
        }
      ],
      "source": [
        "from sklearn.linear_model import LinearRegression\n",
        "\n",
        "model_regression = LinearRegression()\n",
        "model_regression.fit(X_train, y_train)"
      ]
    },
    {
      "cell_type": "code",
      "execution_count": 87,
      "metadata": {},
      "outputs": [],
      "source": [
        "train_pred = model_regression.predict(X_train)\n",
        "test_pred = model_regression.predict(X_test)"
      ]
    },
    {
      "cell_type": "code",
      "execution_count": 88,
      "metadata": {},
      "outputs": [
        {
          "name": "stdout",
          "output_type": "stream",
          "text": [
            "----------------------Train-----------------------\n",
            ">> Train MSE:  712134.0695821203\n",
            ">> Train MAE:  206.1656830720267\n",
            ">> Train R2-Score:  0.735138955709115\n",
            "-----------------------Test-----------------------\n",
            ">> Test MSE:  228550.6276326695\n",
            ">> Test MAE:  184.58449547066874\n",
            ">> Test R2-Score:  0.8370236012803872\n"
          ]
        }
      ],
      "source": [
        "# Show metrics evaluate the performance of model \n",
        "from sklearn import metrics\n",
        "\n",
        "print(\"Train\".center(50, '-'))\n",
        "print(\">> Train MSE: \", metrics.mean_squared_error(y_train, train_pred))\n",
        "print(\">> Train MAE: \", metrics.mean_absolute_error(y_train, train_pred))\n",
        "print(\">> Train R2-Score: \", metrics.r2_score(y_train, train_pred))\n",
        "\n",
        "print(\"Test\".center(50, '-'))\n",
        "print(\">> Test MSE: \", metrics.mean_squared_error(y_test, test_pred))\n",
        "print(\">> Test MAE: \", metrics.mean_absolute_error(y_test, test_pred))\n",
        "print(\">> Test R2-Score: \", metrics.r2_score(y_test, test_pred))"
      ]
    },
    {
      "cell_type": "code",
      "execution_count": 89,
      "metadata": {},
      "outputs": [
        {
          "name": "stdout",
          "output_type": "stream",
          "text": [
            "[0.836476   0.88415571 0.76134248 0.61553046 0.68816141]\n",
            "0.7571332124611171\n"
          ]
        }
      ],
      "source": [
        "from sklearn.model_selection import cross_val_score\n",
        "\n",
        "score = cross_val_score(estimator=model_regression, X=X_std, y=y, cv=5)\n",
        "print(score)\n",
        "print(score.mean())"
      ]
    },
    {
      "cell_type": "code",
      "execution_count": 90,
      "metadata": {},
      "outputs": [
        {
          "data": {
            "text/plain": [
              "array([  61.28178832,  -19.38199566,  -27.74946834, 1344.3498845 ,\n",
              "         49.70428384,  -58.6131428 , -197.96916237,   -8.01985583,\n",
              "        450.71010517, -145.16459433])"
            ]
          },
          "execution_count": 90,
          "metadata": {},
          "output_type": "execute_result"
        }
      ],
      "source": [
        "model_regression.coef_"
      ]
    },
    {
      "cell_type": "code",
      "execution_count": 91,
      "metadata": {},
      "outputs": [
        {
          "data": {
            "text/html": [
              "<style>#sk-container-id-3 {color: black;background-color: white;}#sk-container-id-3 pre{padding: 0;}#sk-container-id-3 div.sk-toggleable {background-color: white;}#sk-container-id-3 label.sk-toggleable__label {cursor: pointer;display: block;width: 100%;margin-bottom: 0;padding: 0.3em;box-sizing: border-box;text-align: center;}#sk-container-id-3 label.sk-toggleable__label-arrow:before {content: \"▸\";float: left;margin-right: 0.25em;color: #696969;}#sk-container-id-3 label.sk-toggleable__label-arrow:hover:before {color: black;}#sk-container-id-3 div.sk-estimator:hover label.sk-toggleable__label-arrow:before {color: black;}#sk-container-id-3 div.sk-toggleable__content {max-height: 0;max-width: 0;overflow: hidden;text-align: left;background-color: #f0f8ff;}#sk-container-id-3 div.sk-toggleable__content pre {margin: 0.2em;color: black;border-radius: 0.25em;background-color: #f0f8ff;}#sk-container-id-3 input.sk-toggleable__control:checked~div.sk-toggleable__content {max-height: 200px;max-width: 100%;overflow: auto;}#sk-container-id-3 input.sk-toggleable__control:checked~label.sk-toggleable__label-arrow:before {content: \"▾\";}#sk-container-id-3 div.sk-estimator input.sk-toggleable__control:checked~label.sk-toggleable__label {background-color: #d4ebff;}#sk-container-id-3 div.sk-label input.sk-toggleable__control:checked~label.sk-toggleable__label {background-color: #d4ebff;}#sk-container-id-3 input.sk-hidden--visually {border: 0;clip: rect(1px 1px 1px 1px);clip: rect(1px, 1px, 1px, 1px);height: 1px;margin: -1px;overflow: hidden;padding: 0;position: absolute;width: 1px;}#sk-container-id-3 div.sk-estimator {font-family: monospace;background-color: #f0f8ff;border: 1px dotted black;border-radius: 0.25em;box-sizing: border-box;margin-bottom: 0.5em;}#sk-container-id-3 div.sk-estimator:hover {background-color: #d4ebff;}#sk-container-id-3 div.sk-parallel-item::after {content: \"\";width: 100%;border-bottom: 1px solid gray;flex-grow: 1;}#sk-container-id-3 div.sk-label:hover label.sk-toggleable__label {background-color: #d4ebff;}#sk-container-id-3 div.sk-serial::before {content: \"\";position: absolute;border-left: 1px solid gray;box-sizing: border-box;top: 0;bottom: 0;left: 50%;z-index: 0;}#sk-container-id-3 div.sk-serial {display: flex;flex-direction: column;align-items: center;background-color: white;padding-right: 0.2em;padding-left: 0.2em;position: relative;}#sk-container-id-3 div.sk-item {position: relative;z-index: 1;}#sk-container-id-3 div.sk-parallel {display: flex;align-items: stretch;justify-content: center;background-color: white;position: relative;}#sk-container-id-3 div.sk-item::before, #sk-container-id-3 div.sk-parallel-item::before {content: \"\";position: absolute;border-left: 1px solid gray;box-sizing: border-box;top: 0;bottom: 0;left: 50%;z-index: -1;}#sk-container-id-3 div.sk-parallel-item {display: flex;flex-direction: column;z-index: 1;position: relative;background-color: white;}#sk-container-id-3 div.sk-parallel-item:first-child::after {align-self: flex-end;width: 50%;}#sk-container-id-3 div.sk-parallel-item:last-child::after {align-self: flex-start;width: 50%;}#sk-container-id-3 div.sk-parallel-item:only-child::after {width: 0;}#sk-container-id-3 div.sk-dashed-wrapped {border: 1px dashed gray;margin: 0 0.4em 0.5em 0.4em;box-sizing: border-box;padding-bottom: 0.4em;background-color: white;}#sk-container-id-3 div.sk-label label {font-family: monospace;font-weight: bold;display: inline-block;line-height: 1.2em;}#sk-container-id-3 div.sk-label-container {text-align: center;}#sk-container-id-3 div.sk-container {/* jupyter's `normalize.less` sets `[hidden] { display: none; }` but bootstrap.min.css set `[hidden] { display: none !important; }` so we also need the `!important` here to be able to override the default hidden behavior on the sphinx rendered scikit-learn.org. See: https://github.com/scikit-learn/scikit-learn/issues/21755 */display: inline-block !important;position: relative;}#sk-container-id-3 div.sk-text-repr-fallback {display: none;}</style><div id=\"sk-container-id-3\" class=\"sk-top-container\"><div class=\"sk-text-repr-fallback\"><pre>Ridge()</pre><b>In a Jupyter environment, please rerun this cell to show the HTML representation or trust the notebook. <br />On GitHub, the HTML representation is unable to render, please try loading this page with nbviewer.org.</b></div><div class=\"sk-container\" hidden><div class=\"sk-item\"><div class=\"sk-estimator sk-toggleable\"><input class=\"sk-toggleable__control sk-hidden--visually\" id=\"sk-estimator-id-3\" type=\"checkbox\" checked><label for=\"sk-estimator-id-3\" class=\"sk-toggleable__label sk-toggleable__label-arrow\">Ridge</label><div class=\"sk-toggleable__content\"><pre>Ridge()</pre></div></div></div></div></div>"
            ],
            "text/plain": [
              "Ridge()"
            ]
          },
          "execution_count": 91,
          "metadata": {},
          "output_type": "execute_result"
        }
      ],
      "source": [
        "from sklearn.linear_model import Ridge, Lasso\n",
        "\n",
        "ridge = Ridge()\n",
        "\n",
        "ridge.fit(X_train, y_train)"
      ]
    },
    {
      "cell_type": "code",
      "execution_count": 92,
      "metadata": {},
      "outputs": [],
      "source": [
        "train_pred = ridge.predict(X_train)\n",
        "test_pred = ridge.predict(X_test)"
      ]
    },
    {
      "cell_type": "code",
      "execution_count": 93,
      "metadata": {},
      "outputs": [
        {
          "name": "stdout",
          "output_type": "stream",
          "text": [
            "----------------------Train-----------------------\n",
            ">> Train MSE:  712137.6051292481\n",
            ">> Train MAE:  206.02211414855248\n",
            ">> Train R2-Score:  0.7351376407478677\n",
            "-----------------------Test-----------------------\n",
            ">> Test MSE:  228217.34912621407\n",
            ">> Test MAE:  184.37174729743938\n",
            ">> Test R2-Score:  0.8372612577301435\n"
          ]
        }
      ],
      "source": [
        "# Show metrics evaluate the performance of model \n",
        "from sklearn import metrics\n",
        "\n",
        "print(\"Train\".center(50, '-'))\n",
        "print(\">> Train MSE: \", metrics.mean_squared_error(y_train, train_pred))\n",
        "print(\">> Train MAE: \", metrics.mean_absolute_error(y_train, train_pred))\n",
        "print(\">> Train R2-Score: \", metrics.r2_score(y_train, train_pred))\n",
        "\n",
        "print(\"Test\".center(50, '-'))\n",
        "print(\">> Test MSE: \", metrics.mean_squared_error(y_test, test_pred))\n",
        "print(\">> Test MAE: \", metrics.mean_absolute_error(y_test, test_pred))\n",
        "print(\">> Test R2-Score: \", metrics.r2_score(y_test, test_pred))"
      ]
    },
    {
      "cell_type": "code",
      "execution_count": 94,
      "metadata": {},
      "outputs": [
        {
          "data": {
            "text/html": [
              "<style>#sk-container-id-4 {color: black;background-color: white;}#sk-container-id-4 pre{padding: 0;}#sk-container-id-4 div.sk-toggleable {background-color: white;}#sk-container-id-4 label.sk-toggleable__label {cursor: pointer;display: block;width: 100%;margin-bottom: 0;padding: 0.3em;box-sizing: border-box;text-align: center;}#sk-container-id-4 label.sk-toggleable__label-arrow:before {content: \"▸\";float: left;margin-right: 0.25em;color: #696969;}#sk-container-id-4 label.sk-toggleable__label-arrow:hover:before {color: black;}#sk-container-id-4 div.sk-estimator:hover label.sk-toggleable__label-arrow:before {color: black;}#sk-container-id-4 div.sk-toggleable__content {max-height: 0;max-width: 0;overflow: hidden;text-align: left;background-color: #f0f8ff;}#sk-container-id-4 div.sk-toggleable__content pre {margin: 0.2em;color: black;border-radius: 0.25em;background-color: #f0f8ff;}#sk-container-id-4 input.sk-toggleable__control:checked~div.sk-toggleable__content {max-height: 200px;max-width: 100%;overflow: auto;}#sk-container-id-4 input.sk-toggleable__control:checked~label.sk-toggleable__label-arrow:before {content: \"▾\";}#sk-container-id-4 div.sk-estimator input.sk-toggleable__control:checked~label.sk-toggleable__label {background-color: #d4ebff;}#sk-container-id-4 div.sk-label input.sk-toggleable__control:checked~label.sk-toggleable__label {background-color: #d4ebff;}#sk-container-id-4 input.sk-hidden--visually {border: 0;clip: rect(1px 1px 1px 1px);clip: rect(1px, 1px, 1px, 1px);height: 1px;margin: -1px;overflow: hidden;padding: 0;position: absolute;width: 1px;}#sk-container-id-4 div.sk-estimator {font-family: monospace;background-color: #f0f8ff;border: 1px dotted black;border-radius: 0.25em;box-sizing: border-box;margin-bottom: 0.5em;}#sk-container-id-4 div.sk-estimator:hover {background-color: #d4ebff;}#sk-container-id-4 div.sk-parallel-item::after {content: \"\";width: 100%;border-bottom: 1px solid gray;flex-grow: 1;}#sk-container-id-4 div.sk-label:hover label.sk-toggleable__label {background-color: #d4ebff;}#sk-container-id-4 div.sk-serial::before {content: \"\";position: absolute;border-left: 1px solid gray;box-sizing: border-box;top: 0;bottom: 0;left: 50%;z-index: 0;}#sk-container-id-4 div.sk-serial {display: flex;flex-direction: column;align-items: center;background-color: white;padding-right: 0.2em;padding-left: 0.2em;position: relative;}#sk-container-id-4 div.sk-item {position: relative;z-index: 1;}#sk-container-id-4 div.sk-parallel {display: flex;align-items: stretch;justify-content: center;background-color: white;position: relative;}#sk-container-id-4 div.sk-item::before, #sk-container-id-4 div.sk-parallel-item::before {content: \"\";position: absolute;border-left: 1px solid gray;box-sizing: border-box;top: 0;bottom: 0;left: 50%;z-index: -1;}#sk-container-id-4 div.sk-parallel-item {display: flex;flex-direction: column;z-index: 1;position: relative;background-color: white;}#sk-container-id-4 div.sk-parallel-item:first-child::after {align-self: flex-end;width: 50%;}#sk-container-id-4 div.sk-parallel-item:last-child::after {align-self: flex-start;width: 50%;}#sk-container-id-4 div.sk-parallel-item:only-child::after {width: 0;}#sk-container-id-4 div.sk-dashed-wrapped {border: 1px dashed gray;margin: 0 0.4em 0.5em 0.4em;box-sizing: border-box;padding-bottom: 0.4em;background-color: white;}#sk-container-id-4 div.sk-label label {font-family: monospace;font-weight: bold;display: inline-block;line-height: 1.2em;}#sk-container-id-4 div.sk-label-container {text-align: center;}#sk-container-id-4 div.sk-container {/* jupyter's `normalize.less` sets `[hidden] { display: none; }` but bootstrap.min.css set `[hidden] { display: none !important; }` so we also need the `!important` here to be able to override the default hidden behavior on the sphinx rendered scikit-learn.org. See: https://github.com/scikit-learn/scikit-learn/issues/21755 */display: inline-block !important;position: relative;}#sk-container-id-4 div.sk-text-repr-fallback {display: none;}</style><div id=\"sk-container-id-4\" class=\"sk-top-container\"><div class=\"sk-text-repr-fallback\"><pre>Lasso()</pre><b>In a Jupyter environment, please rerun this cell to show the HTML representation or trust the notebook. <br />On GitHub, the HTML representation is unable to render, please try loading this page with nbviewer.org.</b></div><div class=\"sk-container\" hidden><div class=\"sk-item\"><div class=\"sk-estimator sk-toggleable\"><input class=\"sk-toggleable__control sk-hidden--visually\" id=\"sk-estimator-id-4\" type=\"checkbox\" checked><label for=\"sk-estimator-id-4\" class=\"sk-toggleable__label sk-toggleable__label-arrow\">Lasso</label><div class=\"sk-toggleable__content\"><pre>Lasso()</pre></div></div></div></div></div>"
            ],
            "text/plain": [
              "Lasso()"
            ]
          },
          "execution_count": 94,
          "metadata": {},
          "output_type": "execute_result"
        }
      ],
      "source": [
        "lasso = Lasso()\n",
        "\n",
        "lasso.fit(X_train, y_train)"
      ]
    },
    {
      "cell_type": "code",
      "execution_count": 95,
      "metadata": {},
      "outputs": [],
      "source": [
        "train_pred = lasso.predict(X_train)\n",
        "test_pred = lasso.predict(X_test)"
      ]
    },
    {
      "cell_type": "code",
      "execution_count": 96,
      "metadata": {},
      "outputs": [
        {
          "name": "stdout",
          "output_type": "stream",
          "text": [
            "----------------------Train-----------------------\n",
            ">> Train MSE:  712253.7315037866\n",
            ">> Train MAE:  204.54983534064698\n",
            ">> Train R2-Score:  0.7350944503513627\n",
            "-----------------------Test-----------------------\n",
            ">> Test MSE:  225951.69161543561\n",
            ">> Test MAE:  182.75524456213253\n",
            ">> Test R2-Score:  0.8388768678278422\n"
          ]
        }
      ],
      "source": [
        "# Show metrics evaluate the performance of model \n",
        "from sklearn import metrics\n",
        "\n",
        "print(\"Train\".center(50, '-'))\n",
        "print(\">> Train MSE: \", metrics.mean_squared_error(y_train, train_pred))\n",
        "print(\">> Train MAE: \", metrics.mean_absolute_error(y_train, train_pred))\n",
        "print(\">> Train R2-Score: \", metrics.r2_score(y_train, train_pred))\n",
        "\n",
        "print(\"Test\".center(50, '-'))\n",
        "print(\">> Test MSE: \", metrics.mean_squared_error(y_test, test_pred))\n",
        "print(\">> Test MAE: \", metrics.mean_absolute_error(y_test, test_pred))\n",
        "print(\">> Test R2-Score: \", metrics.r2_score(y_test, test_pred))"
      ]
    },
    {
      "cell_type": "markdown",
      "metadata": {},
      "source": [
        "# Random Forest"
      ]
    },
    {
      "cell_type": "code",
      "execution_count": 97,
      "metadata": {},
      "outputs": [
        {
          "data": {
            "text/html": [
              "<style>#sk-container-id-5 {color: black;background-color: white;}#sk-container-id-5 pre{padding: 0;}#sk-container-id-5 div.sk-toggleable {background-color: white;}#sk-container-id-5 label.sk-toggleable__label {cursor: pointer;display: block;width: 100%;margin-bottom: 0;padding: 0.3em;box-sizing: border-box;text-align: center;}#sk-container-id-5 label.sk-toggleable__label-arrow:before {content: \"▸\";float: left;margin-right: 0.25em;color: #696969;}#sk-container-id-5 label.sk-toggleable__label-arrow:hover:before {color: black;}#sk-container-id-5 div.sk-estimator:hover label.sk-toggleable__label-arrow:before {color: black;}#sk-container-id-5 div.sk-toggleable__content {max-height: 0;max-width: 0;overflow: hidden;text-align: left;background-color: #f0f8ff;}#sk-container-id-5 div.sk-toggleable__content pre {margin: 0.2em;color: black;border-radius: 0.25em;background-color: #f0f8ff;}#sk-container-id-5 input.sk-toggleable__control:checked~div.sk-toggleable__content {max-height: 200px;max-width: 100%;overflow: auto;}#sk-container-id-5 input.sk-toggleable__control:checked~label.sk-toggleable__label-arrow:before {content: \"▾\";}#sk-container-id-5 div.sk-estimator input.sk-toggleable__control:checked~label.sk-toggleable__label {background-color: #d4ebff;}#sk-container-id-5 div.sk-label input.sk-toggleable__control:checked~label.sk-toggleable__label {background-color: #d4ebff;}#sk-container-id-5 input.sk-hidden--visually {border: 0;clip: rect(1px 1px 1px 1px);clip: rect(1px, 1px, 1px, 1px);height: 1px;margin: -1px;overflow: hidden;padding: 0;position: absolute;width: 1px;}#sk-container-id-5 div.sk-estimator {font-family: monospace;background-color: #f0f8ff;border: 1px dotted black;border-radius: 0.25em;box-sizing: border-box;margin-bottom: 0.5em;}#sk-container-id-5 div.sk-estimator:hover {background-color: #d4ebff;}#sk-container-id-5 div.sk-parallel-item::after {content: \"\";width: 100%;border-bottom: 1px solid gray;flex-grow: 1;}#sk-container-id-5 div.sk-label:hover label.sk-toggleable__label {background-color: #d4ebff;}#sk-container-id-5 div.sk-serial::before {content: \"\";position: absolute;border-left: 1px solid gray;box-sizing: border-box;top: 0;bottom: 0;left: 50%;z-index: 0;}#sk-container-id-5 div.sk-serial {display: flex;flex-direction: column;align-items: center;background-color: white;padding-right: 0.2em;padding-left: 0.2em;position: relative;}#sk-container-id-5 div.sk-item {position: relative;z-index: 1;}#sk-container-id-5 div.sk-parallel {display: flex;align-items: stretch;justify-content: center;background-color: white;position: relative;}#sk-container-id-5 div.sk-item::before, #sk-container-id-5 div.sk-parallel-item::before {content: \"\";position: absolute;border-left: 1px solid gray;box-sizing: border-box;top: 0;bottom: 0;left: 50%;z-index: -1;}#sk-container-id-5 div.sk-parallel-item {display: flex;flex-direction: column;z-index: 1;position: relative;background-color: white;}#sk-container-id-5 div.sk-parallel-item:first-child::after {align-self: flex-end;width: 50%;}#sk-container-id-5 div.sk-parallel-item:last-child::after {align-self: flex-start;width: 50%;}#sk-container-id-5 div.sk-parallel-item:only-child::after {width: 0;}#sk-container-id-5 div.sk-dashed-wrapped {border: 1px dashed gray;margin: 0 0.4em 0.5em 0.4em;box-sizing: border-box;padding-bottom: 0.4em;background-color: white;}#sk-container-id-5 div.sk-label label {font-family: monospace;font-weight: bold;display: inline-block;line-height: 1.2em;}#sk-container-id-5 div.sk-label-container {text-align: center;}#sk-container-id-5 div.sk-container {/* jupyter's `normalize.less` sets `[hidden] { display: none; }` but bootstrap.min.css set `[hidden] { display: none !important; }` so we also need the `!important` here to be able to override the default hidden behavior on the sphinx rendered scikit-learn.org. See: https://github.com/scikit-learn/scikit-learn/issues/21755 */display: inline-block !important;position: relative;}#sk-container-id-5 div.sk-text-repr-fallback {display: none;}</style><div id=\"sk-container-id-5\" class=\"sk-top-container\"><div class=\"sk-text-repr-fallback\"><pre>RandomForestRegressor()</pre><b>In a Jupyter environment, please rerun this cell to show the HTML representation or trust the notebook. <br />On GitHub, the HTML representation is unable to render, please try loading this page with nbviewer.org.</b></div><div class=\"sk-container\" hidden><div class=\"sk-item\"><div class=\"sk-estimator sk-toggleable\"><input class=\"sk-toggleable__control sk-hidden--visually\" id=\"sk-estimator-id-5\" type=\"checkbox\" checked><label for=\"sk-estimator-id-5\" class=\"sk-toggleable__label sk-toggleable__label-arrow\">RandomForestRegressor</label><div class=\"sk-toggleable__content\"><pre>RandomForestRegressor()</pre></div></div></div></div></div>"
            ],
            "text/plain": [
              "RandomForestRegressor()"
            ]
          },
          "execution_count": 97,
          "metadata": {},
          "output_type": "execute_result"
        }
      ],
      "source": [
        "from sklearn.ensemble import RandomForestRegressor\n",
        "\n",
        "RFR = RandomForestRegressor()\n",
        "RFR.fit(X_train, y_train)"
      ]
    },
    {
      "cell_type": "code",
      "execution_count": 98,
      "metadata": {},
      "outputs": [],
      "source": [
        "train_pred = RFR.predict(X_train)\n",
        "test_pred = RFR.predict(X_test)"
      ]
    },
    {
      "cell_type": "code",
      "execution_count": 99,
      "metadata": {},
      "outputs": [
        {
          "name": "stdout",
          "output_type": "stream",
          "text": [
            "----------------------Train-----------------------\n",
            ">> Train MSE:  86307.19939123775\n",
            ">> Train MAE:  43.180743751124055\n",
            ">> Train R2-Score:  0.9679001245172855\n",
            "-----------------------Test-----------------------\n",
            ">> Test MSE:  125629.16817862127\n",
            ">> Test MAE:  91.62696417318838\n",
            ">> Test R2-Score:  0.9104155188022525\n"
          ]
        }
      ],
      "source": [
        "# Show metrics evaluate the performance of model \n",
        "from sklearn import metrics\n",
        "\n",
        "print(\"Train\".center(50, '-'))\n",
        "print(\">> Train MSE: \", metrics.mean_squared_error(y_train, train_pred))\n",
        "print(\">> Train MAE: \", metrics.mean_absolute_error(y_train, train_pred))\n",
        "print(\">> Train R2-Score: \", metrics.r2_score(y_train, train_pred))\n",
        "\n",
        "print(\"Test\".center(50, '-'))\n",
        "print(\">> Test MSE: \", metrics.mean_squared_error(y_test, test_pred))\n",
        "print(\">> Test MAE: \", metrics.mean_absolute_error(y_test, test_pred))\n",
        "print(\">> Test R2-Score: \", metrics.r2_score(y_test, test_pred))"
      ]
    },
    {
      "cell_type": "code",
      "execution_count": 100,
      "metadata": {},
      "outputs": [
        {
          "name": "stdout",
          "output_type": "stream",
          "text": [
            "[0.9256409  0.90637593 0.81757935 0.59811881 0.75868224]\n",
            "0.8012794451590336\n"
          ]
        }
      ],
      "source": [
        "score = cross_val_score(estimator=RFR, X=X_std, y=y, cv=5)\n",
        "print(score)\n",
        "print(score.mean())"
      ]
    },
    {
      "cell_type": "markdown",
      "metadata": {},
      "source": [
        "# Gradient Boosting\n"
      ]
    },
    {
      "cell_type": "code",
      "execution_count": 101,
      "metadata": {},
      "outputs": [
        {
          "data": {
            "text/html": [
              "<style>#sk-container-id-6 {color: black;background-color: white;}#sk-container-id-6 pre{padding: 0;}#sk-container-id-6 div.sk-toggleable {background-color: white;}#sk-container-id-6 label.sk-toggleable__label {cursor: pointer;display: block;width: 100%;margin-bottom: 0;padding: 0.3em;box-sizing: border-box;text-align: center;}#sk-container-id-6 label.sk-toggleable__label-arrow:before {content: \"▸\";float: left;margin-right: 0.25em;color: #696969;}#sk-container-id-6 label.sk-toggleable__label-arrow:hover:before {color: black;}#sk-container-id-6 div.sk-estimator:hover label.sk-toggleable__label-arrow:before {color: black;}#sk-container-id-6 div.sk-toggleable__content {max-height: 0;max-width: 0;overflow: hidden;text-align: left;background-color: #f0f8ff;}#sk-container-id-6 div.sk-toggleable__content pre {margin: 0.2em;color: black;border-radius: 0.25em;background-color: #f0f8ff;}#sk-container-id-6 input.sk-toggleable__control:checked~div.sk-toggleable__content {max-height: 200px;max-width: 100%;overflow: auto;}#sk-container-id-6 input.sk-toggleable__control:checked~label.sk-toggleable__label-arrow:before {content: \"▾\";}#sk-container-id-6 div.sk-estimator input.sk-toggleable__control:checked~label.sk-toggleable__label {background-color: #d4ebff;}#sk-container-id-6 div.sk-label input.sk-toggleable__control:checked~label.sk-toggleable__label {background-color: #d4ebff;}#sk-container-id-6 input.sk-hidden--visually {border: 0;clip: rect(1px 1px 1px 1px);clip: rect(1px, 1px, 1px, 1px);height: 1px;margin: -1px;overflow: hidden;padding: 0;position: absolute;width: 1px;}#sk-container-id-6 div.sk-estimator {font-family: monospace;background-color: #f0f8ff;border: 1px dotted black;border-radius: 0.25em;box-sizing: border-box;margin-bottom: 0.5em;}#sk-container-id-6 div.sk-estimator:hover {background-color: #d4ebff;}#sk-container-id-6 div.sk-parallel-item::after {content: \"\";width: 100%;border-bottom: 1px solid gray;flex-grow: 1;}#sk-container-id-6 div.sk-label:hover label.sk-toggleable__label {background-color: #d4ebff;}#sk-container-id-6 div.sk-serial::before {content: \"\";position: absolute;border-left: 1px solid gray;box-sizing: border-box;top: 0;bottom: 0;left: 50%;z-index: 0;}#sk-container-id-6 div.sk-serial {display: flex;flex-direction: column;align-items: center;background-color: white;padding-right: 0.2em;padding-left: 0.2em;position: relative;}#sk-container-id-6 div.sk-item {position: relative;z-index: 1;}#sk-container-id-6 div.sk-parallel {display: flex;align-items: stretch;justify-content: center;background-color: white;position: relative;}#sk-container-id-6 div.sk-item::before, #sk-container-id-6 div.sk-parallel-item::before {content: \"\";position: absolute;border-left: 1px solid gray;box-sizing: border-box;top: 0;bottom: 0;left: 50%;z-index: -1;}#sk-container-id-6 div.sk-parallel-item {display: flex;flex-direction: column;z-index: 1;position: relative;background-color: white;}#sk-container-id-6 div.sk-parallel-item:first-child::after {align-self: flex-end;width: 50%;}#sk-container-id-6 div.sk-parallel-item:last-child::after {align-self: flex-start;width: 50%;}#sk-container-id-6 div.sk-parallel-item:only-child::after {width: 0;}#sk-container-id-6 div.sk-dashed-wrapped {border: 1px dashed gray;margin: 0 0.4em 0.5em 0.4em;box-sizing: border-box;padding-bottom: 0.4em;background-color: white;}#sk-container-id-6 div.sk-label label {font-family: monospace;font-weight: bold;display: inline-block;line-height: 1.2em;}#sk-container-id-6 div.sk-label-container {text-align: center;}#sk-container-id-6 div.sk-container {/* jupyter's `normalize.less` sets `[hidden] { display: none; }` but bootstrap.min.css set `[hidden] { display: none !important; }` so we also need the `!important` here to be able to override the default hidden behavior on the sphinx rendered scikit-learn.org. See: https://github.com/scikit-learn/scikit-learn/issues/21755 */display: inline-block !important;position: relative;}#sk-container-id-6 div.sk-text-repr-fallback {display: none;}</style><div id=\"sk-container-id-6\" class=\"sk-top-container\"><div class=\"sk-text-repr-fallback\"><pre>GradientBoostingRegressor()</pre><b>In a Jupyter environment, please rerun this cell to show the HTML representation or trust the notebook. <br />On GitHub, the HTML representation is unable to render, please try loading this page with nbviewer.org.</b></div><div class=\"sk-container\" hidden><div class=\"sk-item\"><div class=\"sk-estimator sk-toggleable\"><input class=\"sk-toggleable__control sk-hidden--visually\" id=\"sk-estimator-id-6\" type=\"checkbox\" checked><label for=\"sk-estimator-id-6\" class=\"sk-toggleable__label sk-toggleable__label-arrow\">GradientBoostingRegressor</label><div class=\"sk-toggleable__content\"><pre>GradientBoostingRegressor()</pre></div></div></div></div></div>"
            ],
            "text/plain": [
              "GradientBoostingRegressor()"
            ]
          },
          "execution_count": 101,
          "metadata": {},
          "output_type": "execute_result"
        }
      ],
      "source": [
        "from sklearn.ensemble import GradientBoostingRegressor\n",
        "\n",
        "GBR = GradientBoostingRegressor()\n",
        "\n",
        "GBR.fit(X_train, y_train)"
      ]
    },
    {
      "cell_type": "code",
      "execution_count": 102,
      "metadata": {},
      "outputs": [],
      "source": [
        "train_pred = GBR.predict(X_train)\n",
        "test_pred = GBR.predict(X_test)"
      ]
    },
    {
      "cell_type": "code",
      "execution_count": 103,
      "metadata": {},
      "outputs": [
        {
          "name": "stdout",
          "output_type": "stream",
          "text": [
            "----------------------Train-----------------------\n",
            ">> Train MSE:  43374.04690987794\n",
            ">> Train MAE:  78.78206860063065\n",
            ">> Train R2-Score:  0.9838680722487926\n",
            "-----------------------Test-----------------------\n",
            ">> Test MSE:  208644.89000069062\n",
            ">> Test MAE:  118.90444518563098\n",
            ">> Test R2-Score:  0.8512181168094868\n"
          ]
        }
      ],
      "source": [
        "# Show metrics evaluate the performance of model \n",
        "from sklearn import metrics\n",
        "\n",
        "print(\"Train\".center(50, '-'))\n",
        "print(\">> Train MSE: \", metrics.mean_squared_error(y_train, train_pred))\n",
        "print(\">> Train MAE: \", metrics.mean_absolute_error(y_train, train_pred))\n",
        "print(\">> Train R2-Score: \", metrics.r2_score(y_train, train_pred))\n",
        "\n",
        "print(\"Test\".center(50, '-'))\n",
        "print(\">> Test MSE: \", metrics.mean_squared_error(y_test, test_pred))\n",
        "print(\">> Test MAE: \", metrics.mean_absolute_error(y_test, test_pred))\n",
        "print(\">> Test R2-Score: \", metrics.r2_score(y_test, test_pred))"
      ]
    }
  ],
  "metadata": {
    "colab": {
      "provenance": []
    },
    "kernelspec": {
      "display_name": "Python 3",
      "name": "python3"
    },
    "language_info": {
      "codemirror_mode": {
        "name": "ipython",
        "version": 3
      },
      "file_extension": ".py",
      "mimetype": "text/x-python",
      "name": "python",
      "nbconvert_exporter": "python",
      "pygments_lexer": "ipython3",
      "version": "3.11.1"
    }
  },
  "nbformat": 4,
  "nbformat_minor": 0
}
