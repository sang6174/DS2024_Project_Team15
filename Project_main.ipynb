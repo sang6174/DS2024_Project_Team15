{
  "cells": [
    {
      "cell_type": "markdown",
      "metadata": {
        "id": "stOeTj-HXpgH"
      },
      "source": [
        "# **FINAL PROJECT: 03**\n",
        "### 22KDL - TEAM15\n"
      ]
    },
    {
      "cell_type": "markdown",
      "metadata": {
        "id": "V-WMa9vlXpgJ"
      },
      "source": [
        "<table width=\"100%\" style=\"border:0px;\">\n",
        "    <tr style=\"font-size: 10pt\">\n",
        "        <td><b>Name:</b> Huỳnh Thảo Quỳnh</td>\n",
        "        <td><b>MSSV:</b> 22280075</td>\n",
        "    </tr>\n",
        "    <tr style=\"font-size: 10pt\">\n",
        "        <td><b>Name:</b> Lê Thanh Sang</td>\n",
        "        <td><b>MSSV:</b> 22280076</td>\n",
        "    </tr>\n",
        "    <tr style=\"font-size: 10pt\">\n",
        "        <td><b>Name:</b> Đinh Xuân Khang</td>\n",
        "        <td><b>MSSV:</b> 22280042</td>\n",
        "    </tr>\n",
        "</table>\n"
      ]
    },
    {
      "cell_type": "markdown",
      "metadata": {
        "id": "LnM3aAEjXpgK"
      },
      "source": [
        "**HYPOTHESIS**: Tổng số lượt bán của từng sản phẩm bị ảnh hưởng bởi nhiều yếu tố."
      ]
    },
    {
      "cell_type": "markdown",
      "metadata": {
        "id": "3104VAoyXpgL"
      },
      "source": []
    },
    {
      "cell_type": "markdown",
      "metadata": {
        "id": "Z3MUSSdGX8TY"
      },
      "source": [
        "**Data collection**\n",
        "- Lazada:\n",
        "   * thời trang: quần áo, giày dép, trang sức\n",
        "   * điện tử: điện thoại, laptop, tivi\n",
        "- Features cần thu thập:\n",
        "  * **Type**:     danh mục\n",
        "  * **Title**:    tên sản phẩm\n",
        "  * **Link**\n",
        "  * **Price_sale**: giá sau khi được giảm giá\n",
        "  * **Sale_off**: phần trăm giảm giá\n",
        "  * **Total_sold**: tổng số lượt mua\n",
        "  * **Preview**: tổng số lượt đánh giá\n",
        "  * **Location**: địa điểm\n",
        "  * **Price_original**: giá ban đầu\n",
        "  * **Ship_price**: tiền ship\n",
        "  * **Return**: chính sách trả hàng\n",
        "  * **Sale_rating**: phần trăm đơn hàng được đánh giá tích cực\n",
        "  * **Ship_on_time**: phần trăm đơn hàng được ship đúng thời gian\n",
        "  * **Chat_response**: phần trăm khả năng phản hồi của người bán\n",
        "  * **One_star**: tổng số lượt đánh giá 1 sao\n",
        "  * **Two_star**: tổng số lượt đánh giá 2 sao\n",
        "  * **Three_star**: tổng số lượt đánh giá 3 sao\n",
        "  * **Four_star**: tổng số lượt đánh giá 4 sao\n",
        "  * **Five_star**: tổng số lượt đánh giá 5 sao\n",
        "\n"
      ]
    },
    {
      "cell_type": "markdown",
      "metadata": {
        "id": "_m7qFalM3EJ-"
      },
      "source": [
        "### **I/ Crawl data from the web (text, HTML) that is relevant to your hypothesis.**"
      ]
    },
    {
      "cell_type": "markdown",
      "metadata": {
        "id": "0_-eLoSz3OIc"
      },
      "source": [
        "\n",
        "\n",
        "#### **Khai báo thư viện cần dùng:**\n",
        "\n"
      ]
    },
    {
      "cell_type": "code",
      "execution_count": 1,
      "metadata": {
        "id": "yFhys6CGETbZ"
      },
      "outputs": [],
      "source": [
        "import pandas as pd\n",
        "import numpy as np\n",
        "from bs4 import BeautifulSoup # Dùng để phân tích cú pháp của HTML.\n",
        "from selenium import webdriver # Một công cụ để tự động hóa trình duyệt web.\n",
        "import urllib.request # Dùng để mở và đọc URL, nó hỗ trợ các giao thức như HTTP, HTTPS,...\n",
        "from selenium.webdriver.chrome.options import Options\n",
        "# Là một lớp dùng để đặt các tùy chọn cho trình duyệt Chrome khi khởi chạy nó thông qua selenium.\n",
        "from selenium.webdriver.chrome.service import Service\n",
        "# Là một lớp dùng để quản lý dịch vụ ChromeDriver khi sử dụng với selenium\n",
        "from time import sleep\n",
        "import random\n",
        "from selenium.webdriver.common.by import By\n",
        "# Là một lớp trong selenium cung cấp các phương thức để định vị các phần tử trên trang web.\n",
        "from selenium.common.exceptions import NoSuchElementException, ElementNotInteractableException\n",
        "# Đây là các ngoại lệ trong selenium được sử dụng để xử lý các lỗi có thể xảy ra khi làm việc\n",
        "# với các phần tử trên trang web. NoSuchElementException xuất hiện khi không tìm thấy phần tử\n",
        "# và ElementNotInteractableException xuất hiện khi phần tử không thể tương tác.\n",
        "from tqdm import tqdm"
      ]
    },
    {
      "cell_type": "markdown",
      "metadata": {
        "id": "vcc2XZrqEdFM"
      },
      "source": [
        "\n",
        "#### **Khởi tạo Selenium với ChromeDriver:**\n",
        "\n"
      ]
    },
    {
      "cell_type": "code",
      "execution_count": null,
      "metadata": {
        "id": "m0YhzsIUWnms"
      },
      "outputs": [],
      "source": [
        "main_link = 'https://www.lazada.vn/catalog/?q=laptop'\n",
        "path = 'chromedriver.exe'\n",
        "\n",
        "# # Customize chrome displayLa\n",
        "chrome_options = Options()\n",
        "chrome_options.add_argument('--no-sandbox')\n",
        "chrome_options.add_argument('--disable-notifications')\n",
        "chrome_options.add_argument('--disable-infobars')\n",
        "\n",
        "service = Service(executable_path=path)\n",
        "driver = webdriver.Chrome(service=service, options=chrome_options)\n",
        "\n",
        "driver.get(main_link)"
      ]
    },
    {
      "cell_type": "markdown",
      "metadata": {
        "id": "OsyVpT96SvSl"
      },
      "source": [
        "#### **Cách lấy các Elemment trên trang web Lazada:**\n",
        "- ##### **TH1: Sử dụng tên class**\n",
        "  - B1: Nhấn Ctrl + Shift + c\n",
        "  - B2: Di chuyển chuột đến vị trí Elemment cần lấy thông tin, nhấn chuột trái.\n",
        "  - B3: Lấy tên của các class cần thiết để xác định được thông tin Elemmet.\n",
        "- ##### **TH2: Sử dụng xpath**\n",
        "  - B1: Nhấn Ctrl + Shift + c\n",
        "  - B2: Di chuyển chuột đến vị trí Elemment cần lấy thông tin, nhấn chuột trái.\n",
        "  - B3: Nhấn vào class chứa thông tin của Elemment.\n",
        "  - B4: Nhấn chuột phải -> Copy -> Copy full xpath."
      ]
    },
    {
      "cell_type": "markdown",
      "metadata": {
        "id": "QZVf6LOMM7lP"
      },
      "source": [
        "#### **Định nghĩa hàm đọc thông tin từ page chứa 40 sản phẩm:**"
      ]
    },
    {
      "cell_type": "code",
      "execution_count": null,
      "metadata": {
        "id": "gfp09UDPNGAG"
      },
      "outputs": [],
      "source": [
        "def get_Data_On_Page():\n",
        "    # Lấy thông tin về loại sản phẩm (Type)\n",
        "    Type = [elem.get_attribute(\"value\") for elem in driver.find_elements(By.CSS_SELECTOR, \".search-box__input--O34g\")]\n",
        "\n",
        "    # Lấy tiêu đề của sản phẩm (Title)\n",
        "    Title = [elem.text for elem in driver.find_elements(By.CSS_SELECTOR, \".RfADt [href]\")]\n",
        "\n",
        "    # Lấy liên kết tới sản phẩm (Link)\n",
        "    Link = [elem.get_attribute('href') for elem in driver.find_elements(By.CSS_SELECTOR, \".RfADt [href]\")]\n",
        "\n",
        "    # Lấy giá khuyến mãi của sản phẩm (Price_sale)\n",
        "    Price_sale = [elem.text for elem in driver.find_elements(By.CSS_SELECTOR, \".ooOxS\")]\n",
        "\n",
        "    # Lấy thông tin giảm giá của sản phẩm (Sale_off)\n",
        "    Sale_off = [elem.text for elem in driver.find_elements(By.CSS_SELECTOR , \".WNoq3\")]\n",
        "\n",
        "    # Khởi tạo danh sách để lưu thông tin số lượng đã bán và đánh giá của sản phẩm\n",
        "    Total_sold, Preview = [], []\n",
        "\n",
        "    # Vòng lặp để lấy thông tin số lượng đã bán và đánh giá của từng sản phẩm\n",
        "    for i in range(1, len(Title)+1):\n",
        "        try:\n",
        "            one_total_sold = driver.find_element(\"xpath\", \"/html/body/div[3]/div/div[2]/div[1]/div/div[1]/div[2]/div[{}]/div/div/div[2]/div[5]/span[1]/span[1]\".format(i))\n",
        "            Total_sold.append(one_total_sold.text)\n",
        "        except NoSuchElementException:\n",
        "            Total_sold.append(None)\n",
        "\n",
        "        try:\n",
        "            one_preview = driver.find_element(\"xpath\", \"/html/body/div[3]/div/div[2]/div[1]/div/div[1]/div[2]/div[{}]/div/div/div[2]/div[5]/div/span\".format(i))\n",
        "            Preview.append(one_preview.text)\n",
        "        except NoSuchElementException:\n",
        "            Preview.append(None)\n",
        "\n",
        "    # Lấy thông tin vị trí của sản phẩm (Location)\n",
        "    Location = [elem.text for elem in driver.find_elements(By.CSS_SELECTOR, \".oa6ri\")]\n",
        "\n",
        "    # Nếu danh sách Type chỉ có một phần tử, nhân đôi nó lên bằng với số lượng Title\n",
        "    if len(Type) == 1:\n",
        "        Type = Type * len(Title)\n",
        "\n",
        "    # Tạo một từ điển chứa tất cả các dữ liệu đã thu thập\n",
        "    data = {\n",
        "        \"Type\": Type,\n",
        "        \"Title\": Title,\n",
        "        \"Link\": Link,\n",
        "        \"Price_sale\": Price_sale,\n",
        "        \"Sale_off\": Sale_off,\n",
        "        \"Total_sold\": Total_sold,\n",
        "        \"Preview\": Preview,\n",
        "        \"Location\": Location\n",
        "    }\n",
        "\n",
        "    # Chuyển từ điển dữ liệu thành DataFrame\n",
        "    df = pd.DataFrame(data)\n",
        "    return df\n"
      ]
    },
    {
      "cell_type": "markdown",
      "metadata": {
        "id": "mN89LPazOW7U"
      },
      "source": [
        "#### **Gọi hàm get_Data_On_Page()**"
      ]
    },
    {
      "cell_type": "code",
      "execution_count": null,
      "metadata": {
        "id": "USWKnaoaOWFH",
        "outputId": "599944b8-a80b-42f0-b731-2f45e8047011"
      },
      "outputs": [
        {
          "data": {
            "text/html": [
              "<div>\n",
              "<style scoped>\n",
              "    .dataframe tbody tr th:only-of-type {\n",
              "        vertical-align: middle;\n",
              "    }\n",
              "\n",
              "    .dataframe tbody tr th {\n",
              "        vertical-align: top;\n",
              "    }\n",
              "\n",
              "    .dataframe thead th {\n",
              "        text-align: right;\n",
              "    }\n",
              "</style>\n",
              "<table border=\"1\" class=\"dataframe\">\n",
              "  <thead>\n",
              "    <tr style=\"text-align: right;\">\n",
              "      <th></th>\n",
              "      <th>Type</th>\n",
              "      <th>Title</th>\n",
              "      <th>Link</th>\n",
              "      <th>Price_sale</th>\n",
              "      <th>Sale_off</th>\n",
              "      <th>Total_sold</th>\n",
              "      <th>Preview</th>\n",
              "      <th>Location</th>\n",
              "    </tr>\n",
              "  </thead>\n",
              "  <tbody>\n",
              "    <tr>\n",
              "      <th>1</th>\n",
              "      <td>laptop</td>\n",
              "      <td>Máy Tính Xách Tay Bàn Phím Bao Gồm, Màng Bảo V...</td>\n",
              "      <td>https://www.lazada.vn/products/may-tinh-xach-t...</td>\n",
              "      <td>39.000 ₫</td>\n",
              "      <td>17% Off</td>\n",
              "      <td>315 Đã bán</td>\n",
              "      <td>(68)</td>\n",
              "      <td>Hồ Chí Minh</td>\n",
              "    </tr>\n",
              "    <tr>\n",
              "      <th>2</th>\n",
              "      <td>laptop</td>\n",
              "      <td>laptop toshiba z35 cực mạnh - i5 6200U U Ram 1...</td>\n",
              "      <td>https://www.lazada.vn/products/laptop-toshiba-...</td>\n",
              "      <td>2.706.000 ₫</td>\n",
              "      <td>9% Off</td>\n",
              "      <td>34 Đã bán</td>\n",
              "      <td>(7)</td>\n",
              "      <td>Quảng Trị</td>\n",
              "    </tr>\n",
              "    <tr>\n",
              "      <th>3</th>\n",
              "      <td>laptop</td>\n",
              "      <td>Laptop NEC PM750N Core i7-8565U, 16gb ram, 512...</td>\n",
              "      <td>https://www.lazada.vn/products/laptop-nec-pm75...</td>\n",
              "      <td>6.000.000 ₫</td>\n",
              "      <td></td>\n",
              "      <td>None</td>\n",
              "      <td>(1)</td>\n",
              "      <td>Hưng Yên</td>\n",
              "    </tr>\n",
              "    <tr>\n",
              "      <th>4</th>\n",
              "      <td>laptop</td>\n",
              "      <td>Laptop mini hàng đẹp</td>\n",
              "      <td>https://www.lazada.vn/products/laptop-mini-han...</td>\n",
              "      <td>902.899 ₫</td>\n",
              "      <td>25% Off</td>\n",
              "      <td>17 Đã bán</td>\n",
              "      <td>(5)</td>\n",
              "      <td>Hưng Yên</td>\n",
              "    </tr>\n",
              "    <tr>\n",
              "      <th>5</th>\n",
              "      <td>laptop</td>\n",
              "      <td>Laptop cũ nhiều lựa chọn Pentium đến i3 i5 i7 ...</td>\n",
              "      <td>https://www.lazada.vn/products/laptop-cu-nhieu...</td>\n",
              "      <td>1.000.000 ₫</td>\n",
              "      <td></td>\n",
              "      <td>84 Đã bán</td>\n",
              "      <td>(30)</td>\n",
              "      <td>Hà Nội</td>\n",
              "    </tr>\n",
              "  </tbody>\n",
              "</table>\n",
              "</div>"
            ],
            "text/plain": [
              "     Type                                              Title  \\\n",
              "1  laptop  Máy Tính Xách Tay Bàn Phím Bao Gồm, Màng Bảo V...   \n",
              "2  laptop  laptop toshiba z35 cực mạnh - i5 6200U U Ram 1...   \n",
              "3  laptop  Laptop NEC PM750N Core i7-8565U, 16gb ram, 512...   \n",
              "4  laptop                               Laptop mini hàng đẹp   \n",
              "5  laptop  Laptop cũ nhiều lựa chọn Pentium đến i3 i5 i7 ...   \n",
              "\n",
              "                                                Link   Price_sale Sale_off  \\\n",
              "1  https://www.lazada.vn/products/may-tinh-xach-t...     39.000 ₫  17% Off   \n",
              "2  https://www.lazada.vn/products/laptop-toshiba-...  2.706.000 ₫   9% Off   \n",
              "3  https://www.lazada.vn/products/laptop-nec-pm75...  6.000.000 ₫            \n",
              "4  https://www.lazada.vn/products/laptop-mini-han...    902.899 ₫  25% Off   \n",
              "5  https://www.lazada.vn/products/laptop-cu-nhieu...  1.000.000 ₫            \n",
              "\n",
              "   Total_sold Preview     Location  \n",
              "1  315 Đã bán    (68)  Hồ Chí Minh  \n",
              "2   34 Đã bán     (7)    Quảng Trị  \n",
              "3        None     (1)     Hưng Yên  \n",
              "4   17 Đã bán     (5)     Hưng Yên  \n",
              "5   84 Đã bán    (30)       Hà Nội  "
            ]
          },
          "execution_count": 24,
          "metadata": {},
          "output_type": "execute_result"
        }
      ],
      "source": [
        "# Gọi hàm và nhận DataFrame\n",
        "df_Laptop = get_Data_On_Page()\n",
        "# Đặt lại chỉ mục của DataFrame bắt đầu từ 1\n",
        "df_Laptop.index = np.arange(1, len(df_Laptop) + 1)\n",
        "\n",
        "df_Laptop.head()"
      ]
    },
    {
      "cell_type": "markdown",
      "metadata": {
        "id": "3glM0IWDNIaJ"
      },
      "source": [
        "#### **Định nghĩa hàm đọc thông tin của một sản phẩm sau khi truy cập vào link sản phẩm:**"
      ]
    },
    {
      "cell_type": "code",
      "execution_count": null,
      "metadata": {
        "id": "3xYm-5jCPAvg"
      },
      "outputs": [],
      "source": [
        "def get_Data_OneProduct_Link(link):\n",
        "    driver.get(link)                            # Truy cập vào link của sản phẩm\n",
        "    sleep(random.uniform(3, 5))                 # Ngủ ngẫu nhiên từ 3 đến 5 giây để mô phỏng hành vi người dùng và tránh bị chặn\n",
        "\n",
        "    # Lấy giá gốc của sản phẩm (Price_original)\n",
        "    Price_original = [elem.text for elem in driver.find_elements(By.CSS_SELECTOR, \".notranslate.pdp-price.pdp-price_type_deleted.pdp-price_color_lightgray.pdp-price_size_xs\")]\n",
        "\n",
        "    # Lấy phí vận chuyển (Ship_price)\n",
        "    Ship_price = [elem.text for elem in driver.find_elements(By.CSS_SELECTOR, \".delivery-option-item.delivery-option-item_type_standard .delivery-option-item__body .delivery-option-item__shipping-fee.no-subtitle\")]\n",
        "\n",
        "    # Lấy chính sách hoàn trả (Return)\n",
        "    Return = [elem.text for elem in driver.find_elements(By.CSS_SELECTOR, \".delivery-option-item.delivery-option-item_type_returnPolicy30 .delivery-option-item__body .delivery-option-item__info .delivery-option-item__title\")]\n",
        "\n",
        "    # Lấy đánh giá bán hàng, giao hàng đúng giờ và phản hồi chat (Sale_rating, Ship_on_time, Chat_response)\n",
        "    percentage = [elem.text for elem in driver.find_elements(By.CSS_SELECTOR, \".seller-info-value \")]\n",
        "    Sale_rating = percentage[0] if len(percentage) > 0 else None\n",
        "    Ship_on_time = percentage[1] if len(percentage) > 1 else None\n",
        "    Chat_response = percentage[2] if len(percentage) > 2 else None\n",
        "\n",
        "    # Cuộn trang từ từ để tải phần đánh giá sao\n",
        "    while True:\n",
        "        driver.execute_script(\"window.scrollBy(0, 400);\")\n",
        "        sleep(1)  # Đợi một chút để nội dung tải\n",
        "        try:\n",
        "            stars = driver.find_elements(By.CSS_SELECTOR, \".detail .percent\")\n",
        "            if len(stars) >= 5:\n",
        "                break\n",
        "        except NoSuchElementException:\n",
        "            continue\n",
        "\n",
        "    # Khởi tạo danh sách để lưu thông tin đánh giá sao\n",
        "    One_star, Two_star, Three_star, Four_star, Five_star = [], [], [], [], []\n",
        "    stars = [elem.text for elem in stars]\n",
        "\n",
        "    One_star.append(stars[4] if len(stars) > 4 else 'N/A')\n",
        "    Two_star.append(stars[3] if len(stars) > 3 else 'N/A')\n",
        "    Three_star.append(stars[2] if len(stars) > 2 else 'N/A')\n",
        "    Four_star.append(stars[1] if len(stars) > 1 else 'N/A')\n",
        "    Five_star.append(stars[0] if len(stars) > 0 else 'N/A')\n",
        "\n",
        "    # Tạo từ điển chứa các thông tin đã thu thập\n",
        "    One_Product = {\n",
        "        \"Price_original\": Price_original[0] if Price_original else None,\n",
        "        \"Ship_price\": Ship_price[0] if Ship_price else None,\n",
        "        \"Return\": Return[0] if Return else None,\n",
        "        \"Sale_rating\": Sale_rating,\n",
        "        \"Ship_on_time\": Ship_on_time,\n",
        "        \"Chat_response\": Chat_response,\n",
        "        \"One_star\": One_star,\n",
        "        \"Two_star\": Two_star,\n",
        "        \"Three_star\": Three_star,\n",
        "        \"Four_star\": Four_star,\n",
        "        \"Five_star\": Five_star\n",
        "    }\n",
        "\n",
        "    return One_Product\n"
      ]
    },
    {
      "cell_type": "markdown",
      "metadata": {
        "id": "aIrCpq53PcP7"
      },
      "source": [
        "#### **Gọi hàm get_Data_OneProduct_Link(link):**\n"
      ]
    },
    {
      "cell_type": "code",
      "execution_count": null,
      "metadata": {
        "id": "J53zIBZsPaaW",
        "outputId": "aa324fd6-c91a-40c5-c014-bce84dcc4ff5"
      },
      "outputs": [
        {
          "name": "stderr",
          "output_type": "stream",
          "text": [
            "Crawling link product: 100%|██████████| 5/5 [02:27<00:00, 29.51s/it]\n"
          ]
        }
      ],
      "source": [
        "Products = {\n",
        "    \"Price_original\": [],\n",
        "    \"Ship_price\": [],\n",
        "    \"Return\": [],\n",
        "    \"Sale_rating\": [],\n",
        "    \"Ship_on_time\": [],\n",
        "    \"Chat_response\": [],\n",
        "    \"One_star\": [],\n",
        "    \"Two_star\": [],\n",
        "    \"Three_star\": [],\n",
        "    \"Four_star\": [],\n",
        "    \"Five_star\": []\n",
        "}\n",
        "\n",
        "# Vòng lặp qua từng link sản phẩm  (chạy demo 5 sản phẩm đầu)\n",
        "for link in tqdm(df_Laptop.Link[0:5], desc=\"Crawling link product\"):\n",
        "    LinkProduct = get_Data_OneProduct_Link(link)  # Gọi hàm để lấy dữ liệu của từng sản phẩm\n",
        "    # Lưu trữ dữ liệu vào từ điển Products\n",
        "    for key in Products.keys():\n",
        "        Products[key].append(LinkProduct[key])"
      ]
    },
    {
      "cell_type": "code",
      "execution_count": null,
      "metadata": {
        "id": "6thHxL1PSlhm",
        "outputId": "e9ffad7c-e93a-4d1f-8852-d94942000fe6"
      },
      "outputs": [
        {
          "data": {
            "text/html": [
              "<div>\n",
              "<style scoped>\n",
              "    .dataframe tbody tr th:only-of-type {\n",
              "        vertical-align: middle;\n",
              "    }\n",
              "\n",
              "    .dataframe tbody tr th {\n",
              "        vertical-align: top;\n",
              "    }\n",
              "\n",
              "    .dataframe thead th {\n",
              "        text-align: right;\n",
              "    }\n",
              "</style>\n",
              "<table border=\"1\" class=\"dataframe\">\n",
              "  <thead>\n",
              "    <tr style=\"text-align: right;\">\n",
              "      <th></th>\n",
              "      <th>Type</th>\n",
              "      <th>Title</th>\n",
              "      <th>Link</th>\n",
              "      <th>Price_sale</th>\n",
              "      <th>Sale_off</th>\n",
              "      <th>Total_sold</th>\n",
              "      <th>Preview</th>\n",
              "      <th>Location</th>\n",
              "      <th>Price_original</th>\n",
              "      <th>Ship_price</th>\n",
              "      <th>Return</th>\n",
              "      <th>Sale_rating</th>\n",
              "      <th>Ship_on_time</th>\n",
              "      <th>Chat_response</th>\n",
              "      <th>One_star</th>\n",
              "      <th>Two_star</th>\n",
              "      <th>Three_star</th>\n",
              "      <th>Four_star</th>\n",
              "      <th>Five_star</th>\n",
              "    </tr>\n",
              "  </thead>\n",
              "  <tbody>\n",
              "    <tr>\n",
              "      <th>1</th>\n",
              "      <td>laptop</td>\n",
              "      <td>Máy Tính Xách Tay Bàn Phím Bao Gồm, Màng Bảo V...</td>\n",
              "      <td>https://www.lazada.vn/products/may-tinh-xach-t...</td>\n",
              "      <td>39.000 ₫</td>\n",
              "      <td>17% Off</td>\n",
              "      <td>315 Đã bán</td>\n",
              "      <td>(68)</td>\n",
              "      <td>Hồ Chí Minh</td>\n",
              "      <td>47.000 ₫</td>\n",
              "      <td>17.000 ₫</td>\n",
              "      <td>None</td>\n",
              "      <td>96%</td>\n",
              "      <td>97%</td>\n",
              "      <td>100%</td>\n",
              "      <td>[11]</td>\n",
              "      <td>[1]</td>\n",
              "      <td>[3]</td>\n",
              "      <td>[5]</td>\n",
              "      <td>[48]</td>\n",
              "    </tr>\n",
              "    <tr>\n",
              "      <th>2</th>\n",
              "      <td>laptop</td>\n",
              "      <td>laptop toshiba z35 cực mạnh - i5 6200U U Ram 1...</td>\n",
              "      <td>https://www.lazada.vn/products/laptop-toshiba-...</td>\n",
              "      <td>2.706.000 ₫</td>\n",
              "      <td>9% Off</td>\n",
              "      <td>34 Đã bán</td>\n",
              "      <td>(7)</td>\n",
              "      <td>Quảng Trị</td>\n",
              "      <td>3.499.000 ₫</td>\n",
              "      <td>37.700 ₫</td>\n",
              "      <td>None</td>\n",
              "      <td>97%</td>\n",
              "      <td>100%</td>\n",
              "      <td>Không đủ thông tin</td>\n",
              "      <td>[0]</td>\n",
              "      <td>[0]</td>\n",
              "      <td>[0]</td>\n",
              "      <td>[0]</td>\n",
              "      <td>[7]</td>\n",
              "    </tr>\n",
              "    <tr>\n",
              "      <th>3</th>\n",
              "      <td>laptop</td>\n",
              "      <td>Laptop NEC PM750N Core i7-8565U, 16gb ram, 512...</td>\n",
              "      <td>https://www.lazada.vn/products/laptop-nec-pm75...</td>\n",
              "      <td>6.000.000 ₫</td>\n",
              "      <td></td>\n",
              "      <td>None</td>\n",
              "      <td>(1)</td>\n",
              "      <td>Hưng Yên</td>\n",
              "      <td>None</td>\n",
              "      <td>56.800 ₫</td>\n",
              "      <td>None</td>\n",
              "      <td>91%</td>\n",
              "      <td>70%</td>\n",
              "      <td>100%</td>\n",
              "      <td>[0]</td>\n",
              "      <td>[0]</td>\n",
              "      <td>[0]</td>\n",
              "      <td>[0]</td>\n",
              "      <td>[1]</td>\n",
              "    </tr>\n",
              "    <tr>\n",
              "      <th>4</th>\n",
              "      <td>laptop</td>\n",
              "      <td>Laptop mini hàng đẹp</td>\n",
              "      <td>https://www.lazada.vn/products/laptop-mini-han...</td>\n",
              "      <td>902.899 ₫</td>\n",
              "      <td>25% Off</td>\n",
              "      <td>17 Đã bán</td>\n",
              "      <td>(5)</td>\n",
              "      <td>Hưng Yên</td>\n",
              "      <td>1.499.999 ₫</td>\n",
              "      <td>70.000 ₫</td>\n",
              "      <td>None</td>\n",
              "      <td>83%</td>\n",
              "      <td>100%</td>\n",
              "      <td>92%</td>\n",
              "      <td>[3]</td>\n",
              "      <td>[0]</td>\n",
              "      <td>[0]</td>\n",
              "      <td>[0]</td>\n",
              "      <td>[2]</td>\n",
              "    </tr>\n",
              "    <tr>\n",
              "      <th>5</th>\n",
              "      <td>laptop</td>\n",
              "      <td>Laptop cũ nhiều lựa chọn Pentium đến i3 i5 i7 ...</td>\n",
              "      <td>https://www.lazada.vn/products/laptop-cu-nhieu...</td>\n",
              "      <td>1.000.000 ₫</td>\n",
              "      <td></td>\n",
              "      <td>84 Đã bán</td>\n",
              "      <td>(30)</td>\n",
              "      <td>Hà Nội</td>\n",
              "      <td>None</td>\n",
              "      <td>198.200 ₫</td>\n",
              "      <td>None</td>\n",
              "      <td>94%</td>\n",
              "      <td>28%</td>\n",
              "      <td>57%</td>\n",
              "      <td>[2]</td>\n",
              "      <td>[1]</td>\n",
              "      <td>[1]</td>\n",
              "      <td>[4]</td>\n",
              "      <td>[22]</td>\n",
              "    </tr>\n",
              "  </tbody>\n",
              "</table>\n",
              "</div>"
            ],
            "text/plain": [
              "     Type                                              Title  \\\n",
              "1  laptop  Máy Tính Xách Tay Bàn Phím Bao Gồm, Màng Bảo V...   \n",
              "2  laptop  laptop toshiba z35 cực mạnh - i5 6200U U Ram 1...   \n",
              "3  laptop  Laptop NEC PM750N Core i7-8565U, 16gb ram, 512...   \n",
              "4  laptop                               Laptop mini hàng đẹp   \n",
              "5  laptop  Laptop cũ nhiều lựa chọn Pentium đến i3 i5 i7 ...   \n",
              "\n",
              "                                                Link   Price_sale Sale_off  \\\n",
              "1  https://www.lazada.vn/products/may-tinh-xach-t...     39.000 ₫  17% Off   \n",
              "2  https://www.lazada.vn/products/laptop-toshiba-...  2.706.000 ₫   9% Off   \n",
              "3  https://www.lazada.vn/products/laptop-nec-pm75...  6.000.000 ₫            \n",
              "4  https://www.lazada.vn/products/laptop-mini-han...    902.899 ₫  25% Off   \n",
              "5  https://www.lazada.vn/products/laptop-cu-nhieu...  1.000.000 ₫            \n",
              "\n",
              "   Total_sold Preview     Location Price_original Ship_price Return  \\\n",
              "1  315 Đã bán    (68)  Hồ Chí Minh       47.000 ₫   17.000 ₫   None   \n",
              "2   34 Đã bán     (7)    Quảng Trị    3.499.000 ₫   37.700 ₫   None   \n",
              "3        None     (1)     Hưng Yên           None   56.800 ₫   None   \n",
              "4   17 Đã bán     (5)     Hưng Yên    1.499.999 ₫   70.000 ₫   None   \n",
              "5   84 Đã bán    (30)       Hà Nội           None  198.200 ₫   None   \n",
              "\n",
              "  Sale_rating Ship_on_time       Chat_response One_star Two_star Three_star  \\\n",
              "1         96%          97%                100%     [11]      [1]        [3]   \n",
              "2         97%         100%  Không đủ thông tin      [0]      [0]        [0]   \n",
              "3         91%          70%                100%      [0]      [0]        [0]   \n",
              "4         83%         100%                 92%      [3]      [0]        [0]   \n",
              "5         94%          28%                 57%      [2]      [1]        [1]   \n",
              "\n",
              "  Four_star Five_star  \n",
              "1       [5]      [48]  \n",
              "2       [0]       [7]  \n",
              "3       [0]       [1]  \n",
              "4       [0]       [2]  \n",
              "5       [4]      [22]  "
            ]
          },
          "execution_count": 42,
          "metadata": {},
          "output_type": "execute_result"
        }
      ],
      "source": [
        "demo = df_Laptop[0:5].copy()\n",
        "for key, value in Products.items():\n",
        "    demo[key] = value\n",
        "demo"
      ]
    },
    {
      "cell_type": "markdown",
      "metadata": {},
      "source": [
        "Áp dụng hàm **get_Data_On_Page & get_Data_OneProduct_Link** cho các page của từng danh mục. Sau khi crawl và tổng hợp, sẽ có được file **Data_After_Crawl**"
      ]
    },
    {
      "cell_type": "markdown",
      "metadata": {
        "id": "xTLTO2IIliuI"
      },
      "source": [
        "### **II/ Use a Large Language Model (LLM) to parse this unstructured data into features.**"
      ]
    },
    {
      "cell_type": "markdown",
      "metadata": {
        "id": "phfLGTbiV8r4"
      },
      "source": [
        "**Trước khi sử dụng LLMs:**"
      ]
    },
    {
      "cell_type": "markdown",
      "metadata": {
        "id": "8GvpUl40S4gJ"
      },
      "source": [
        "Đầu tiên, với tập dữ liệu mà nhóm đã crawl:"
      ]
    },
    {
      "cell_type": "code",
      "execution_count": null,
      "metadata": {
        "colab": {
          "base_uri": "https://localhost:8080/",
          "height": 1000
        },
        "id": "ffpE-x_1TMLJ",
        "outputId": "81ae4e94-0d6a-42f0-e54a-fd2af67494d8"
      },
      "outputs": [
        {
          "data": {
            "text/html": [
              "<div>\n",
              "<style scoped>\n",
              "    .dataframe tbody tr th:only-of-type {\n",
              "        vertical-align: middle;\n",
              "    }\n",
              "\n",
              "    .dataframe tbody tr th {\n",
              "        vertical-align: top;\n",
              "    }\n",
              "\n",
              "    .dataframe thead th {\n",
              "        text-align: right;\n",
              "    }\n",
              "</style>\n",
              "<table border=\"1\" class=\"dataframe\">\n",
              "  <thead>\n",
              "    <tr style=\"text-align: right;\">\n",
              "      <th></th>\n",
              "      <th>Type</th>\n",
              "      <th>Title</th>\n",
              "      <th>Link</th>\n",
              "      <th>Price_sale</th>\n",
              "      <th>Sale_off</th>\n",
              "      <th>Total_sold</th>\n",
              "      <th>Preview</th>\n",
              "      <th>Location</th>\n",
              "      <th>Price_original</th>\n",
              "      <th>Ship_price</th>\n",
              "      <th>Return</th>\n",
              "      <th>Sale_rating</th>\n",
              "      <th>Ship_on_time</th>\n",
              "      <th>Chat_response</th>\n",
              "      <th>One_star</th>\n",
              "      <th>Two_star</th>\n",
              "      <th>Three_star</th>\n",
              "      <th>Four_star</th>\n",
              "      <th>Five_star</th>\n",
              "    </tr>\n",
              "  </thead>\n",
              "  <tbody>\n",
              "    <tr>\n",
              "      <th>0</th>\n",
              "      <td>quần áo</td>\n",
              "      <td>Đồ Bộ Nữ Đi Chơi Chất Thun Mát Size M - dưới 5...</td>\n",
              "      <td>https://www.lazada.vn/products/do-bo-nu-di-cho...</td>\n",
              "      <td>35.891 ₫</td>\n",
              "      <td>64% Off</td>\n",
              "      <td>3.0K Đã bán</td>\n",
              "      <td>(1022)</td>\n",
              "      <td>Hồ Chí Minh</td>\n",
              "      <td>100.000 ₫</td>\n",
              "      <td>16.500 ₫</td>\n",
              "      <td>3 ngày trả hàng cho Nhà bán hàng</td>\n",
              "      <td>97%</td>\n",
              "      <td>100%</td>\n",
              "      <td>100%</td>\n",
              "      <td>20.0</td>\n",
              "      <td>7.0</td>\n",
              "      <td>27.0</td>\n",
              "      <td>36.0</td>\n",
              "      <td>932.0</td>\n",
              "    </tr>\n",
              "    <tr>\n",
              "      <th>1</th>\n",
              "      <td>quần áo</td>\n",
              "      <td>Đồ ngủ nữ pijama mặc nhà bộ ngủ hoạt hình cộc ...</td>\n",
              "      <td>https://www.lazada.vn/products/do-ngu-nu-pijam...</td>\n",
              "      <td>25.000 ₫</td>\n",
              "      <td>50% Off</td>\n",
              "      <td>907 Đã bán</td>\n",
              "      <td>(241)</td>\n",
              "      <td>Hồ Chí Minh</td>\n",
              "      <td>71.998 ₫</td>\n",
              "      <td>16.500 ₫</td>\n",
              "      <td>3 ngày trả hàng cho Nhà bán hàng</td>\n",
              "      <td>91%</td>\n",
              "      <td>100%</td>\n",
              "      <td>50%</td>\n",
              "      <td>5.0</td>\n",
              "      <td>2.0</td>\n",
              "      <td>6.0</td>\n",
              "      <td>7.0</td>\n",
              "      <td>222.0</td>\n",
              "    </tr>\n",
              "    <tr>\n",
              "      <th>2</th>\n",
              "      <td>quần áo</td>\n",
              "      <td>[Đủ size 35-55 cân] Sét bộ 3 món áo 2 dây+áo c...</td>\n",
              "      <td>https://www.lazada.vn/products/du-size-35-55-c...</td>\n",
              "      <td>79.000 ₫</td>\n",
              "      <td>43% Off</td>\n",
              "      <td>961 Đã bán</td>\n",
              "      <td>(260)</td>\n",
              "      <td>Hà Nội</td>\n",
              "      <td>139.000 ₫</td>\n",
              "      <td>32.700 ₫</td>\n",
              "      <td>3 ngày trả hàng cho Nhà bán hàng</td>\n",
              "      <td>92%</td>\n",
              "      <td>99%</td>\n",
              "      <td>33%</td>\n",
              "      <td>11.0</td>\n",
              "      <td>8.0</td>\n",
              "      <td>8.0</td>\n",
              "      <td>16.0</td>\n",
              "      <td>218.0</td>\n",
              "    </tr>\n",
              "    <tr>\n",
              "      <th>3</th>\n",
              "      <td>quần áo</td>\n",
              "      <td>SÉT BỘ ÁO CỘC TAY CÔ BÉ ĐI XE MÁY KÈM QUẦN BOM...</td>\n",
              "      <td>https://www.lazada.vn/products/set-bo-ao-coc-t...</td>\n",
              "      <td>36.000 ₫</td>\n",
              "      <td>60% Off</td>\n",
              "      <td>102 Đã bán</td>\n",
              "      <td>(21)</td>\n",
              "      <td>Nam Định</td>\n",
              "      <td>189.000 ₫</td>\n",
              "      <td>37.700 ₫</td>\n",
              "      <td>3 ngày trả hàng cho Nhà bán hàng</td>\n",
              "      <td>94%</td>\n",
              "      <td>100%</td>\n",
              "      <td>83%</td>\n",
              "      <td>1.0</td>\n",
              "      <td>0.0</td>\n",
              "      <td>1.0</td>\n",
              "      <td>1.0</td>\n",
              "      <td>18.0</td>\n",
              "    </tr>\n",
              "    <tr>\n",
              "      <th>4</th>\n",
              "      <td>quần áo</td>\n",
              "      <td>Bộ Pijama, Đồ Bộ Mặc Nhà Nữ Dáng Cộc xinh xắn</td>\n",
              "      <td>https://www.lazada.vn/products/bo-pijama-do-bo...</td>\n",
              "      <td>15.971 ₫</td>\n",
              "      <td>54% Off</td>\n",
              "      <td>219 Đã bán</td>\n",
              "      <td>(68)</td>\n",
              "      <td>Hà Nội</td>\n",
              "      <td>59.000 ₫</td>\n",
              "      <td>32.700 ₫</td>\n",
              "      <td>3 ngày trả hàng cho Nhà bán hàng</td>\n",
              "      <td>95%</td>\n",
              "      <td>100%</td>\n",
              "      <td>100%</td>\n",
              "      <td>0.0</td>\n",
              "      <td>1.0</td>\n",
              "      <td>0.0</td>\n",
              "      <td>3.0</td>\n",
              "      <td>65.0</td>\n",
              "    </tr>\n",
              "    <tr>\n",
              "      <th>...</th>\n",
              "      <td>...</td>\n",
              "      <td>...</td>\n",
              "      <td>...</td>\n",
              "      <td>...</td>\n",
              "      <td>...</td>\n",
              "      <td>...</td>\n",
              "      <td>...</td>\n",
              "      <td>...</td>\n",
              "      <td>...</td>\n",
              "      <td>...</td>\n",
              "      <td>...</td>\n",
              "      <td>...</td>\n",
              "      <td>...</td>\n",
              "      <td>...</td>\n",
              "      <td>...</td>\n",
              "      <td>...</td>\n",
              "      <td>...</td>\n",
              "      <td>...</td>\n",
              "      <td>...</td>\n",
              "    </tr>\n",
              "    <tr>\n",
              "      <th>7195</th>\n",
              "      <td>tivi</td>\n",
              "      <td>[6.6 HOTDEAL 4790K - Tặng Giá Treo TV DP243 ch...</td>\n",
              "      <td>https://www.lazada.vn/products/66-hotdeal-4790...</td>\n",
              "      <td>5.390.000 ₫</td>\n",
              "      <td>LazFlash Sale,kết thúc sau 1 ngày</td>\n",
              "      <td>34 Đã bán</td>\n",
              "      <td>(9)</td>\n",
              "      <td>Hồ Chí Minh</td>\n",
              "      <td>5.590.000 ₫</td>\n",
              "      <td>Miễn phí</td>\n",
              "      <td>30 Ngày Trả Hàng Miễn Phí</td>\n",
              "      <td>96%</td>\n",
              "      <td>100%</td>\n",
              "      <td>100%</td>\n",
              "      <td>['2']</td>\n",
              "      <td>['0']</td>\n",
              "      <td>['0']</td>\n",
              "      <td>['0']</td>\n",
              "      <td>['7']</td>\n",
              "    </tr>\n",
              "    <tr>\n",
              "      <th>7196</th>\n",
              "      <td>tivi</td>\n",
              "      <td>SMART TIVI DARLING 32 INCH 32HD964S ( Internet...</td>\n",
              "      <td>https://www.lazada.vn/products/smart-tivi-darl...</td>\n",
              "      <td>2.730.000 ₫</td>\n",
              "      <td>NaN</td>\n",
              "      <td>NaN</td>\n",
              "      <td>NaN</td>\n",
              "      <td>Hồ Chí Minh</td>\n",
              "      <td>NaN</td>\n",
              "      <td>38.000 ₫</td>\n",
              "      <td>NaN</td>\n",
              "      <td>Không đủ thông tin</td>\n",
              "      <td>Không đủ thông tin</td>\n",
              "      <td>Không đủ thông tin</td>\n",
              "      <td>['0']</td>\n",
              "      <td>['0']</td>\n",
              "      <td>['0']</td>\n",
              "      <td>['0']</td>\n",
              "      <td>['0']</td>\n",
              "    </tr>\n",
              "    <tr>\n",
              "      <th>7197</th>\n",
              "      <td>tivi</td>\n",
              "      <td>Google Tivi TCL 4K 43 inch 43P745 - Bảo hành 2...</td>\n",
              "      <td>https://www.lazada.vn/products/google-tivi-tcl...</td>\n",
              "      <td>6.150.000 ₫</td>\n",
              "      <td>NaN</td>\n",
              "      <td>NaN</td>\n",
              "      <td>NaN</td>\n",
              "      <td>Hồ Chí Minh</td>\n",
              "      <td>9.990.000 ₫</td>\n",
              "      <td>NaN</td>\n",
              "      <td>30 Ngày Trả Hàng Miễn Phí</td>\n",
              "      <td>97%</td>\n",
              "      <td>98%</td>\n",
              "      <td>89%</td>\n",
              "      <td>['0']</td>\n",
              "      <td>['0']</td>\n",
              "      <td>['0']</td>\n",
              "      <td>['0']</td>\n",
              "      <td>['0']</td>\n",
              "    </tr>\n",
              "    <tr>\n",
              "      <th>7198</th>\n",
              "      <td>tivi</td>\n",
              "      <td>Smart Tivi Casper 43 Inch 43FX5200 [Hàng Chính...</td>\n",
              "      <td>https://www.lazada.vn/products/smart-tivi-casp...</td>\n",
              "      <td>4.250.000 ₫</td>\n",
              "      <td>NaN</td>\n",
              "      <td>NaN</td>\n",
              "      <td>NaN</td>\n",
              "      <td>Hà Nội</td>\n",
              "      <td>4.990.000 ₫</td>\n",
              "      <td>135.500 ₫</td>\n",
              "      <td>NaN</td>\n",
              "      <td>100%</td>\n",
              "      <td>40%</td>\n",
              "      <td>Không đủ thông tin</td>\n",
              "      <td>['0']</td>\n",
              "      <td>['0']</td>\n",
              "      <td>['0']</td>\n",
              "      <td>['0']</td>\n",
              "      <td>['0']</td>\n",
              "    </tr>\n",
              "    <tr>\n",
              "      <th>7199</th>\n",
              "      <td>tivi</td>\n",
              "      <td>Tivi Asanzo 32” model 32LS800 màn hình tràn vi...</td>\n",
              "      <td>https://www.lazada.vn/products/tivi-asanzo-32-...</td>\n",
              "      <td>2.650.000 ₫</td>\n",
              "      <td>NaN</td>\n",
              "      <td>NaN</td>\n",
              "      <td>NaN</td>\n",
              "      <td>Hồ Chí Minh</td>\n",
              "      <td>NaN</td>\n",
              "      <td>45.100 ₫</td>\n",
              "      <td>NaN</td>\n",
              "      <td>100%</td>\n",
              "      <td>Không đủ thông tin</td>\n",
              "      <td>50%</td>\n",
              "      <td>['0']</td>\n",
              "      <td>['0']</td>\n",
              "      <td>['0']</td>\n",
              "      <td>['0']</td>\n",
              "      <td>['0']</td>\n",
              "    </tr>\n",
              "  </tbody>\n",
              "</table>\n",
              "<p>7200 rows × 19 columns</p>\n",
              "</div>"
            ],
            "text/plain": [
              "         Type                                              Title  \\\n",
              "0     quần áo  Đồ Bộ Nữ Đi Chơi Chất Thun Mát Size M - dưới 5...   \n",
              "1     quần áo  Đồ ngủ nữ pijama mặc nhà bộ ngủ hoạt hình cộc ...   \n",
              "2     quần áo  [Đủ size 35-55 cân] Sét bộ 3 món áo 2 dây+áo c...   \n",
              "3     quần áo  SÉT BỘ ÁO CỘC TAY CÔ BÉ ĐI XE MÁY KÈM QUẦN BOM...   \n",
              "4     quần áo      Bộ Pijama, Đồ Bộ Mặc Nhà Nữ Dáng Cộc xinh xắn   \n",
              "...       ...                                                ...   \n",
              "7195     tivi  [6.6 HOTDEAL 4790K - Tặng Giá Treo TV DP243 ch...   \n",
              "7196     tivi  SMART TIVI DARLING 32 INCH 32HD964S ( Internet...   \n",
              "7197     tivi  Google Tivi TCL 4K 43 inch 43P745 - Bảo hành 2...   \n",
              "7198     tivi  Smart Tivi Casper 43 Inch 43FX5200 [Hàng Chính...   \n",
              "7199     tivi  Tivi Asanzo 32” model 32LS800 màn hình tràn vi...   \n",
              "\n",
              "                                                   Link   Price_sale  \\\n",
              "0     https://www.lazada.vn/products/do-bo-nu-di-cho...     35.891 ₫   \n",
              "1     https://www.lazada.vn/products/do-ngu-nu-pijam...     25.000 ₫   \n",
              "2     https://www.lazada.vn/products/du-size-35-55-c...     79.000 ₫   \n",
              "3     https://www.lazada.vn/products/set-bo-ao-coc-t...     36.000 ₫   \n",
              "4     https://www.lazada.vn/products/bo-pijama-do-bo...     15.971 ₫   \n",
              "...                                                 ...          ...   \n",
              "7195  https://www.lazada.vn/products/66-hotdeal-4790...  5.390.000 ₫   \n",
              "7196  https://www.lazada.vn/products/smart-tivi-darl...  2.730.000 ₫   \n",
              "7197  https://www.lazada.vn/products/google-tivi-tcl...  6.150.000 ₫   \n",
              "7198  https://www.lazada.vn/products/smart-tivi-casp...  4.250.000 ₫   \n",
              "7199  https://www.lazada.vn/products/tivi-asanzo-32-...  2.650.000 ₫   \n",
              "\n",
              "                               Sale_off   Total_sold Preview     Location  \\\n",
              "0                               64% Off  3.0K Đã bán  (1022)  Hồ Chí Minh   \n",
              "1                               50% Off   907 Đã bán   (241)  Hồ Chí Minh   \n",
              "2                               43% Off   961 Đã bán   (260)       Hà Nội   \n",
              "3                               60% Off   102 Đã bán    (21)     Nam Định   \n",
              "4                               54% Off   219 Đã bán    (68)       Hà Nội   \n",
              "...                                 ...          ...     ...          ...   \n",
              "7195  LazFlash Sale,kết thúc sau 1 ngày    34 Đã bán     (9)  Hồ Chí Minh   \n",
              "7196                                NaN          NaN     NaN  Hồ Chí Minh   \n",
              "7197                                NaN          NaN     NaN  Hồ Chí Minh   \n",
              "7198                                NaN          NaN     NaN       Hà Nội   \n",
              "7199                                NaN          NaN     NaN  Hồ Chí Minh   \n",
              "\n",
              "     Price_original Ship_price                            Return  \\\n",
              "0         100.000 ₫   16.500 ₫  3 ngày trả hàng cho Nhà bán hàng   \n",
              "1          71.998 ₫   16.500 ₫  3 ngày trả hàng cho Nhà bán hàng   \n",
              "2         139.000 ₫   32.700 ₫  3 ngày trả hàng cho Nhà bán hàng   \n",
              "3         189.000 ₫   37.700 ₫  3 ngày trả hàng cho Nhà bán hàng   \n",
              "4          59.000 ₫   32.700 ₫  3 ngày trả hàng cho Nhà bán hàng   \n",
              "...             ...        ...                               ...   \n",
              "7195    5.590.000 ₫   Miễn phí         30 Ngày Trả Hàng Miễn Phí   \n",
              "7196            NaN   38.000 ₫                               NaN   \n",
              "7197    9.990.000 ₫        NaN         30 Ngày Trả Hàng Miễn Phí   \n",
              "7198    4.990.000 ₫  135.500 ₫                               NaN   \n",
              "7199            NaN   45.100 ₫                               NaN   \n",
              "\n",
              "             Sale_rating        Ship_on_time       Chat_response One_star  \\\n",
              "0                    97%                100%                100%     20.0   \n",
              "1                    91%                100%                 50%      5.0   \n",
              "2                    92%                 99%                 33%     11.0   \n",
              "3                    94%                100%                 83%      1.0   \n",
              "4                    95%                100%                100%      0.0   \n",
              "...                  ...                 ...                 ...      ...   \n",
              "7195                 96%                100%                100%    ['2']   \n",
              "7196  Không đủ thông tin  Không đủ thông tin  Không đủ thông tin    ['0']   \n",
              "7197                 97%                 98%                 89%    ['0']   \n",
              "7198                100%                 40%  Không đủ thông tin    ['0']   \n",
              "7199                100%  Không đủ thông tin                 50%    ['0']   \n",
              "\n",
              "     Two_star Three_star Four_star Five_star  \n",
              "0         7.0       27.0      36.0     932.0  \n",
              "1         2.0        6.0       7.0     222.0  \n",
              "2         8.0        8.0      16.0     218.0  \n",
              "3         0.0        1.0       1.0      18.0  \n",
              "4         1.0        0.0       3.0      65.0  \n",
              "...       ...        ...       ...       ...  \n",
              "7195    ['0']      ['0']     ['0']     ['7']  \n",
              "7196    ['0']      ['0']     ['0']     ['0']  \n",
              "7197    ['0']      ['0']     ['0']     ['0']  \n",
              "7198    ['0']      ['0']     ['0']     ['0']  \n",
              "7199    ['0']      ['0']     ['0']     ['0']  \n",
              "\n",
              "[7200 rows x 19 columns]"
            ]
          },
          "execution_count": 2,
          "metadata": {},
          "output_type": "execute_result"
        }
      ],
      "source": [
        "import pandas as pd\n",
        "\n",
        "df = pd.read_csv(\"Crawl_Data_Final.csv\")\n",
        "df"
      ]
    },
    {
      "cell_type": "markdown",
      "metadata": {
        "id": "K3PEKSYhWs26"
      },
      "source": [
        "Với tập dữ liệu trên, nhóm sẽ drop đi các cột không cần thiết cho mô hình là:\n",
        "\n",
        "- Title: vì là dữ liệu dạng string và nhóm đã có cột Type để thể hiện đặc trưng của cột này.\n",
        "- Link: link dẫn đến sản phẩm và không cần thiết cho mô hình"
      ]
    },
    {
      "cell_type": "markdown",
      "metadata": {
        "id": "IL4ZWwKpWc-Q"
      },
      "source": [
        "Kiểm tra số dữ liệu bị khuyết"
      ]
    },
    {
      "cell_type": "code",
      "execution_count": null,
      "metadata": {
        "colab": {
          "base_uri": "https://localhost:8080/"
        },
        "id": "l2oNgN8TWNZG",
        "outputId": "06e6f8d4-c2b8-4c78-9fe5-affecf4d2b6b"
      },
      "outputs": [
        {
          "name": "stdout",
          "output_type": "stream",
          "text": [
            "Type                 0\n",
            "Title                0\n",
            "Link                 0\n",
            "Price_sale           0\n",
            "Sale_off          1838\n",
            "Total_sold        1846\n",
            "Preview           1716\n",
            "Location             0\n",
            "Price_original    1408\n",
            "Ship_price        1268\n",
            "Return            3513\n",
            "Sale_rating        145\n",
            "Ship_on_time       141\n",
            "Chat_response      141\n",
            "One_star           212\n",
            "Two_star           212\n",
            "Three_star         212\n",
            "Four_star          212\n",
            "Five_star          212\n",
            "dtype: int64\n"
          ]
        }
      ],
      "source": [
        "print(df.isnull().sum())"
      ]
    },
    {
      "cell_type": "markdown",
      "metadata": {
        "id": "GDSHrjbLWkht"
      },
      "source": [
        "Cột Return có số dữ liệu bị khuyết lên đến 3513 nhiều hơn 50% tổng số quan sát nên nhóm sẽ bỏ đi cột này"
      ]
    },
    {
      "cell_type": "code",
      "execution_count": null,
      "metadata": {
        "colab": {
          "base_uri": "https://localhost:8080/",
          "height": 597
        },
        "id": "x_GuCEsTY3zr",
        "outputId": "31cf76e2-7a1b-47c7-f56c-6350d28e1b9c"
      },
      "outputs": [
        {
          "data": {
            "text/html": [
              "<div>\n",
              "<style scoped>\n",
              "    .dataframe tbody tr th:only-of-type {\n",
              "        vertical-align: middle;\n",
              "    }\n",
              "\n",
              "    .dataframe tbody tr th {\n",
              "        vertical-align: top;\n",
              "    }\n",
              "\n",
              "    .dataframe thead th {\n",
              "        text-align: right;\n",
              "    }\n",
              "</style>\n",
              "<table border=\"1\" class=\"dataframe\">\n",
              "  <thead>\n",
              "    <tr style=\"text-align: right;\">\n",
              "      <th></th>\n",
              "      <th>Type</th>\n",
              "      <th>Price_sale</th>\n",
              "      <th>Sale_off</th>\n",
              "      <th>Total_sold</th>\n",
              "      <th>Preview</th>\n",
              "      <th>Location</th>\n",
              "      <th>Price_original</th>\n",
              "      <th>Ship_price</th>\n",
              "      <th>Sale_rating</th>\n",
              "      <th>Ship_on_time</th>\n",
              "      <th>Chat_response</th>\n",
              "      <th>One_star</th>\n",
              "      <th>Two_star</th>\n",
              "      <th>Three_star</th>\n",
              "      <th>Four_star</th>\n",
              "      <th>Five_star</th>\n",
              "    </tr>\n",
              "  </thead>\n",
              "  <tbody>\n",
              "    <tr>\n",
              "      <th>0</th>\n",
              "      <td>quần áo</td>\n",
              "      <td>35.891 ₫</td>\n",
              "      <td>64% Off</td>\n",
              "      <td>3.0K Đã bán</td>\n",
              "      <td>(1022)</td>\n",
              "      <td>Hồ Chí Minh</td>\n",
              "      <td>100.000 ₫</td>\n",
              "      <td>16.500 ₫</td>\n",
              "      <td>97%</td>\n",
              "      <td>100%</td>\n",
              "      <td>100%</td>\n",
              "      <td>20.0</td>\n",
              "      <td>7.0</td>\n",
              "      <td>27.0</td>\n",
              "      <td>36.0</td>\n",
              "      <td>932.0</td>\n",
              "    </tr>\n",
              "    <tr>\n",
              "      <th>1</th>\n",
              "      <td>quần áo</td>\n",
              "      <td>25.000 ₫</td>\n",
              "      <td>50% Off</td>\n",
              "      <td>907 Đã bán</td>\n",
              "      <td>(241)</td>\n",
              "      <td>Hồ Chí Minh</td>\n",
              "      <td>71.998 ₫</td>\n",
              "      <td>16.500 ₫</td>\n",
              "      <td>91%</td>\n",
              "      <td>100%</td>\n",
              "      <td>50%</td>\n",
              "      <td>5.0</td>\n",
              "      <td>2.0</td>\n",
              "      <td>6.0</td>\n",
              "      <td>7.0</td>\n",
              "      <td>222.0</td>\n",
              "    </tr>\n",
              "    <tr>\n",
              "      <th>2</th>\n",
              "      <td>quần áo</td>\n",
              "      <td>79.000 ₫</td>\n",
              "      <td>43% Off</td>\n",
              "      <td>961 Đã bán</td>\n",
              "      <td>(260)</td>\n",
              "      <td>Hà Nội</td>\n",
              "      <td>139.000 ₫</td>\n",
              "      <td>32.700 ₫</td>\n",
              "      <td>92%</td>\n",
              "      <td>99%</td>\n",
              "      <td>33%</td>\n",
              "      <td>11.0</td>\n",
              "      <td>8.0</td>\n",
              "      <td>8.0</td>\n",
              "      <td>16.0</td>\n",
              "      <td>218.0</td>\n",
              "    </tr>\n",
              "    <tr>\n",
              "      <th>3</th>\n",
              "      <td>quần áo</td>\n",
              "      <td>36.000 ₫</td>\n",
              "      <td>60% Off</td>\n",
              "      <td>102 Đã bán</td>\n",
              "      <td>(21)</td>\n",
              "      <td>Nam Định</td>\n",
              "      <td>189.000 ₫</td>\n",
              "      <td>37.700 ₫</td>\n",
              "      <td>94%</td>\n",
              "      <td>100%</td>\n",
              "      <td>83%</td>\n",
              "      <td>1.0</td>\n",
              "      <td>0.0</td>\n",
              "      <td>1.0</td>\n",
              "      <td>1.0</td>\n",
              "      <td>18.0</td>\n",
              "    </tr>\n",
              "    <tr>\n",
              "      <th>4</th>\n",
              "      <td>quần áo</td>\n",
              "      <td>15.971 ₫</td>\n",
              "      <td>54% Off</td>\n",
              "      <td>219 Đã bán</td>\n",
              "      <td>(68)</td>\n",
              "      <td>Hà Nội</td>\n",
              "      <td>59.000 ₫</td>\n",
              "      <td>32.700 ₫</td>\n",
              "      <td>95%</td>\n",
              "      <td>100%</td>\n",
              "      <td>100%</td>\n",
              "      <td>0.0</td>\n",
              "      <td>1.0</td>\n",
              "      <td>0.0</td>\n",
              "      <td>3.0</td>\n",
              "      <td>65.0</td>\n",
              "    </tr>\n",
              "    <tr>\n",
              "      <th>...</th>\n",
              "      <td>...</td>\n",
              "      <td>...</td>\n",
              "      <td>...</td>\n",
              "      <td>...</td>\n",
              "      <td>...</td>\n",
              "      <td>...</td>\n",
              "      <td>...</td>\n",
              "      <td>...</td>\n",
              "      <td>...</td>\n",
              "      <td>...</td>\n",
              "      <td>...</td>\n",
              "      <td>...</td>\n",
              "      <td>...</td>\n",
              "      <td>...</td>\n",
              "      <td>...</td>\n",
              "      <td>...</td>\n",
              "    </tr>\n",
              "    <tr>\n",
              "      <th>7195</th>\n",
              "      <td>tivi</td>\n",
              "      <td>5.390.000 ₫</td>\n",
              "      <td>LazFlash Sale,kết thúc sau 1 ngày</td>\n",
              "      <td>34 Đã bán</td>\n",
              "      <td>(9)</td>\n",
              "      <td>Hồ Chí Minh</td>\n",
              "      <td>5.590.000 ₫</td>\n",
              "      <td>Miễn phí</td>\n",
              "      <td>96%</td>\n",
              "      <td>100%</td>\n",
              "      <td>100%</td>\n",
              "      <td>['2']</td>\n",
              "      <td>['0']</td>\n",
              "      <td>['0']</td>\n",
              "      <td>['0']</td>\n",
              "      <td>['7']</td>\n",
              "    </tr>\n",
              "    <tr>\n",
              "      <th>7196</th>\n",
              "      <td>tivi</td>\n",
              "      <td>2.730.000 ₫</td>\n",
              "      <td>NaN</td>\n",
              "      <td>NaN</td>\n",
              "      <td>NaN</td>\n",
              "      <td>Hồ Chí Minh</td>\n",
              "      <td>NaN</td>\n",
              "      <td>38.000 ₫</td>\n",
              "      <td>Không đủ thông tin</td>\n",
              "      <td>Không đủ thông tin</td>\n",
              "      <td>Không đủ thông tin</td>\n",
              "      <td>['0']</td>\n",
              "      <td>['0']</td>\n",
              "      <td>['0']</td>\n",
              "      <td>['0']</td>\n",
              "      <td>['0']</td>\n",
              "    </tr>\n",
              "    <tr>\n",
              "      <th>7197</th>\n",
              "      <td>tivi</td>\n",
              "      <td>6.150.000 ₫</td>\n",
              "      <td>NaN</td>\n",
              "      <td>NaN</td>\n",
              "      <td>NaN</td>\n",
              "      <td>Hồ Chí Minh</td>\n",
              "      <td>9.990.000 ₫</td>\n",
              "      <td>NaN</td>\n",
              "      <td>97%</td>\n",
              "      <td>98%</td>\n",
              "      <td>89%</td>\n",
              "      <td>['0']</td>\n",
              "      <td>['0']</td>\n",
              "      <td>['0']</td>\n",
              "      <td>['0']</td>\n",
              "      <td>['0']</td>\n",
              "    </tr>\n",
              "    <tr>\n",
              "      <th>7198</th>\n",
              "      <td>tivi</td>\n",
              "      <td>4.250.000 ₫</td>\n",
              "      <td>NaN</td>\n",
              "      <td>NaN</td>\n",
              "      <td>NaN</td>\n",
              "      <td>Hà Nội</td>\n",
              "      <td>4.990.000 ₫</td>\n",
              "      <td>135.500 ₫</td>\n",
              "      <td>100%</td>\n",
              "      <td>40%</td>\n",
              "      <td>Không đủ thông tin</td>\n",
              "      <td>['0']</td>\n",
              "      <td>['0']</td>\n",
              "      <td>['0']</td>\n",
              "      <td>['0']</td>\n",
              "      <td>['0']</td>\n",
              "    </tr>\n",
              "    <tr>\n",
              "      <th>7199</th>\n",
              "      <td>tivi</td>\n",
              "      <td>2.650.000 ₫</td>\n",
              "      <td>NaN</td>\n",
              "      <td>NaN</td>\n",
              "      <td>NaN</td>\n",
              "      <td>Hồ Chí Minh</td>\n",
              "      <td>NaN</td>\n",
              "      <td>45.100 ₫</td>\n",
              "      <td>100%</td>\n",
              "      <td>Không đủ thông tin</td>\n",
              "      <td>50%</td>\n",
              "      <td>['0']</td>\n",
              "      <td>['0']</td>\n",
              "      <td>['0']</td>\n",
              "      <td>['0']</td>\n",
              "      <td>['0']</td>\n",
              "    </tr>\n",
              "  </tbody>\n",
              "</table>\n",
              "<p>7200 rows × 16 columns</p>\n",
              "</div>"
            ],
            "text/plain": [
              "         Type   Price_sale                           Sale_off   Total_sold  \\\n",
              "0     quần áo     35.891 ₫                            64% Off  3.0K Đã bán   \n",
              "1     quần áo     25.000 ₫                            50% Off   907 Đã bán   \n",
              "2     quần áo     79.000 ₫                            43% Off   961 Đã bán   \n",
              "3     quần áo     36.000 ₫                            60% Off   102 Đã bán   \n",
              "4     quần áo     15.971 ₫                            54% Off   219 Đã bán   \n",
              "...       ...          ...                                ...          ...   \n",
              "7195     tivi  5.390.000 ₫  LazFlash Sale,kết thúc sau 1 ngày    34 Đã bán   \n",
              "7196     tivi  2.730.000 ₫                                NaN          NaN   \n",
              "7197     tivi  6.150.000 ₫                                NaN          NaN   \n",
              "7198     tivi  4.250.000 ₫                                NaN          NaN   \n",
              "7199     tivi  2.650.000 ₫                                NaN          NaN   \n",
              "\n",
              "     Preview     Location Price_original Ship_price         Sale_rating  \\\n",
              "0     (1022)  Hồ Chí Minh      100.000 ₫   16.500 ₫                 97%   \n",
              "1      (241)  Hồ Chí Minh       71.998 ₫   16.500 ₫                 91%   \n",
              "2      (260)       Hà Nội      139.000 ₫   32.700 ₫                 92%   \n",
              "3       (21)     Nam Định      189.000 ₫   37.700 ₫                 94%   \n",
              "4       (68)       Hà Nội       59.000 ₫   32.700 ₫                 95%   \n",
              "...      ...          ...            ...        ...                 ...   \n",
              "7195     (9)  Hồ Chí Minh    5.590.000 ₫   Miễn phí                 96%   \n",
              "7196     NaN  Hồ Chí Minh            NaN   38.000 ₫  Không đủ thông tin   \n",
              "7197     NaN  Hồ Chí Minh    9.990.000 ₫        NaN                 97%   \n",
              "7198     NaN       Hà Nội    4.990.000 ₫  135.500 ₫                100%   \n",
              "7199     NaN  Hồ Chí Minh            NaN   45.100 ₫                100%   \n",
              "\n",
              "            Ship_on_time       Chat_response One_star Two_star Three_star  \\\n",
              "0                   100%                100%     20.0      7.0       27.0   \n",
              "1                   100%                 50%      5.0      2.0        6.0   \n",
              "2                    99%                 33%     11.0      8.0        8.0   \n",
              "3                   100%                 83%      1.0      0.0        1.0   \n",
              "4                   100%                100%      0.0      1.0        0.0   \n",
              "...                  ...                 ...      ...      ...        ...   \n",
              "7195                100%                100%    ['2']    ['0']      ['0']   \n",
              "7196  Không đủ thông tin  Không đủ thông tin    ['0']    ['0']      ['0']   \n",
              "7197                 98%                 89%    ['0']    ['0']      ['0']   \n",
              "7198                 40%  Không đủ thông tin    ['0']    ['0']      ['0']   \n",
              "7199  Không đủ thông tin                 50%    ['0']    ['0']      ['0']   \n",
              "\n",
              "     Four_star Five_star  \n",
              "0         36.0     932.0  \n",
              "1          7.0     222.0  \n",
              "2         16.0     218.0  \n",
              "3          1.0      18.0  \n",
              "4          3.0      65.0  \n",
              "...        ...       ...  \n",
              "7195     ['0']     ['7']  \n",
              "7196     ['0']     ['0']  \n",
              "7197     ['0']     ['0']  \n",
              "7198     ['0']     ['0']  \n",
              "7199     ['0']     ['0']  \n",
              "\n",
              "[7200 rows x 16 columns]"
            ]
          },
          "execution_count": 4,
          "metadata": {},
          "output_type": "execute_result"
        }
      ],
      "source": [
        "df.drop(['Title', 'Link', 'Return'], axis = 1, inplace = True)\n",
        "df"
      ]
    },
    {
      "cell_type": "markdown",
      "metadata": {
        "id": "3-1B5RRvZtLU"
      },
      "source": [
        "**Áp dụng LLMs:**\n",
        "\n",
        "Tập dữ liệu nhóm thu thập được đã ở dạng có cấu trúc nên nhóm sẽ áp dụng LLMs cho việc xử lý các dữ liệu:\n",
        "- Type và Location: giữ nguyên\n",
        "- Price_sale, Price_original, Ship_price: lấy dạng số \"35.891 ₫\" -> \"35891\"\n",
        "- Sale_off: chỉ lấy dạng số \"64% Off\" -> \"64\" các dạng khác đưa về \"None\"\n",
        "- Total_sold: \"3.0K Đã bán\" -> 3000\n",
        "- Preview: \"(1022)\" -> 1022\n",
        "- Sale_rating, Ship_on_time, Chat_response: \"100%\" -> \"100\", các dạng khác đưa về \"None\"\n",
        "- Star: đưa về số \"['2']\" -> 2"
      ]
    },
    {
      "cell_type": "markdown",
      "metadata": {
        "id": "MvEC0CLQc4Fh"
      },
      "source": [
        "Nhóm sử dụng API của trang web: https://www.anyscale.com/ để áp dụng LLMs lên tập dữ liệu"
      ]
    },
    {
      "cell_type": "code",
      "execution_count": null,
      "metadata": {
        "id": "DLKVeEsFZf6N"
      },
      "outputs": [],
      "source": [
        "import os\n",
        "import requests\n",
        "\n",
        "s = requests.Session()\n",
        "\n",
        "api_base = \"https://api.endpoints.anyscale.com/v1\"\n",
        "# Replace with long-lived credentials for production\n",
        "token = \"esecret_exa36aaw8u5pqdsppk8dqxi5ij\"\n",
        "url = f\"{api_base}/chat/completions\""
      ]
    },
    {
      "cell_type": "code",
      "execution_count": null,
      "metadata": {
        "id": "AVAdSRg4euvp"
      },
      "outputs": [],
      "source": [
        "# Chat với bot\n",
        "def call_api(formatted_data):\n",
        "    body = {\n",
        "    \"model\": \"meta-llama/Meta-Llama-3-70B-Instruct\",\n",
        "    \"messages\": [\n",
        "        {\n",
        "        \"role\": \"user\",\n",
        "        \"content\": \"bạn là trợ lý ảo về AI và có nhiệm vụ chính là chuẩn hoá data một cách chính xác nhất\"\n",
        "        },\n",
        "        {\n",
        "        \"role\": \"assistant\",\n",
        "        \"content\": \"Nice to meet you! As a virtual assistant specializing in AI, my primary task is to ensure data standardization with utmost accuracy. I'm here to help you with data preprocessing, data cleaning, and data transformation to make your data reliable, consistent, and ready for analysis or modeling.\\n\\nTo achieve this, I'll employ various techniques, including:\\n\\n1. **Data Profiling**: I'll analyze your data to identify patterns, outliers, and inconsistencies, providing insights into data quality and potential issues.\\n2. **Data Cleaning**: I'll correct errors, handle missing values, and remove duplicates to ensure data integrity and consistency.\\n3. **Data Transformation**: I'll convert data types, perform aggregations, and apply business rules to transform your data into a standardized format.\\n4. **Data Validation**: I'll check your data against a set of rules, constraints, and formats to ensure it meets the required standards.\\n5. **Data Normalization**: I'll organize your data into a structured format, making it easier to analyze and model.\\n\\nMy expertise includes working with various data formats, such as CSV, JSON, XML, and databases like MySQL, PostgreSQL, and MongoDB. I'm also familiar with data standardization frameworks like ISO 11179 and Dublin Core.\\n\\nPlease provide me with more information about your data, such as:\\n\\n* What type of data do you have (e.g., customer information, transactional data, sensor readings)?\\n* What is the current format of your data (e.g., CSV, JSON, database)?\\n* What are the specific data quality issues you're experiencing (e.g., missing values, duplicates, inconsistencies)?\\n* Are there any specific data standards or regulations you need to comply with (e.g., GDPR, HIPAA)?\\n\\nThe more information you provide, the better I can assist you in standardizing your data with accuracy and efficiency.\"\n",
        "        },\n",
        "        {\n",
        "        \"role\": \"user\",\n",
        "        \"content\": \"Mỗi mục dữ liệu được ngăn cách bởi dấu |. Không bỏ bất kì 1 mục nào, không thêm bất kỳ mục nào, hãy chuẩn hóa thông tin về dạng số tương ứng, địa điểm giữ nguyên, nếu là giá trị None thì ghi là None. Ngăn cách các giá trị bằng dấu phẩy, không cần giải thích output, output bạn trả ra cho tôi có đúng 16 cột nhé: quần áo|35.891 ₫|64% Off|3.0K Đã bán|(1022)|Hồ Chí Minh|100.000 ₫|16.500 ₫|97%|100%|100%|20.0|7.0|27.0|36.0|932.0\"\n",
        "        },\n",
        "        {\n",
        "        \"role\": \"assistant\",\n",
        "        \"content\": \"Here is the standardized data with 16 columns, separated by commas:\\n\\nQuần áo,35891,64,3000,1022,Hồ Chí Minh,100000,16500,97,100,100,20,7,27,36,932\"\n",
        "        },\n",
        "        {\n",
        "        \"role\": \"user\",\n",
        "        \"content\": \"không viết hoa chữ đầu bạn phải trả về là: Here is the standardized output:\\n\\nquần áo,35891,64,3000,1022,Hồ Chí Minh,100000,16500,97,100,100,20,7,27,36,932\"\n",
        "        },\n",
        "        {\n",
        "        \"role\": \"assistant\",\n",
        "        \"content\": \"Here is the standardized output:\\n\\nquần áo,35891,64,3000,1022,Hồ Chí Minh,100000,16500,97,100,100,20,7,27,36,932\"\n",
        "        },\n",
        "        {\n",
        "        \"role\": \"user\",\n",
        "        \"content\": f\"{formatted_data}\"\n",
        "        }\n",
        "    ],\n",
        "    \"temperature\": 0,\n",
        "    \"max_tokens\": 512,\n",
        "    \"top_p\": 1,\n",
        "    \"frequency_penalty\": 0\n",
        "    }\n",
        "\n",
        "    response = s.post(url, headers={\"Authorization\": f\"Bearer {token}\"}, json=body)\n",
        "    return response.json()"
      ]
    },
    {
      "cell_type": "code",
      "execution_count": null,
      "metadata": {
        "id": "zLPR98wwfb-v"
      },
      "outputs": [],
      "source": [
        "# Đưa 1 dòng dữ liệu vào đúng format để đưa vào LLMs\n",
        "def format_row(row):\n",
        "    return '|'.join(map(str, row.values))"
      ]
    },
    {
      "cell_type": "code",
      "execution_count": null,
      "metadata": {
        "colab": {
          "base_uri": "https://localhost:8080/"
        },
        "id": "XS_VkFjme5PH",
        "outputId": "4ff6024e-34b7-4a1a-b43c-c9b4ae75f8b2"
      },
      "outputs": [
        {
          "data": {
            "text/plain": [
              "Type                  quần áo\n",
              "Price_sale           35.891 ₫\n",
              "Sale_off              64% Off\n",
              "Total_sold        3.0K Đã bán\n",
              "Preview                (1022)\n",
              "Location          Hồ Chí Minh\n",
              "Price_original      100.000 ₫\n",
              "Ship_price           16.500 ₫\n",
              "Sale_rating               97%\n",
              "Ship_on_time             100%\n",
              "Chat_response            100%\n",
              "One_star                 20.0\n",
              "Two_star                  7.0\n",
              "Three_star               27.0\n",
              "Four_star                36.0\n",
              "Five_star               932.0\n",
              "Name: 0, dtype: object"
            ]
          },
          "execution_count": 9,
          "metadata": {},
          "output_type": "execute_result"
        }
      ],
      "source": [
        "# Trước format\n",
        "first_row = df.iloc[0]\n",
        "first_row"
      ]
    },
    {
      "cell_type": "code",
      "execution_count": null,
      "metadata": {
        "colab": {
          "base_uri": "https://localhost:8080/",
          "height": 35
        },
        "id": "bArv2P85ffig",
        "outputId": "cec2f91e-87b1-476d-cd00-33c46f68cf78"
      },
      "outputs": [
        {
          "data": {
            "application/vnd.google.colaboratory.intrinsic+json": {
              "type": "string"
            },
            "text/plain": [
              "'quần áo|35.891 ₫|64% Off|3.0K Đã bán|(1022)|Hồ Chí Minh|100.000 ₫|16.500 ₫|97%|100%|100%|20.0|7.0|27.0|36.0|932.0'"
            ]
          },
          "execution_count": 12,
          "metadata": {},
          "output_type": "execute_result"
        }
      ],
      "source": [
        "# Sau format\n",
        "formatted_data = format_row(first_row)\n",
        "formatted_data"
      ]
    },
    {
      "cell_type": "code",
      "execution_count": null,
      "metadata": {
        "colab": {
          "base_uri": "https://localhost:8080/",
          "height": 35
        },
        "id": "v0CbM2s9f7q2",
        "outputId": "8fe51638-a21c-455b-fa67-9c8791390e12"
      },
      "outputs": [
        {
          "data": {
            "application/vnd.google.colaboratory.intrinsic+json": {
              "type": "string"
            },
            "text/plain": [
              "'quần áo,35891,64,3000,1022,Hồ Chí Minh,100000,16500,97,100,100,20,7,27,36,932'"
            ]
          },
          "execution_count": 13,
          "metadata": {},
          "output_type": "execute_result"
        }
      ],
      "source": [
        "api_response = call_api(formatted_data) # Gọi API của anyscale\n",
        "# Lọc câu trả lời của LLM để lấy đầu ra\n",
        "cleaned_data = api_response['choices'][0]['message']['content'].strip()\n",
        "cleaned_data = cleaned_data.replace('Here is the standardized output:\\n\\n', '')\n",
        "cleaned_data"
      ]
    },
    {
      "cell_type": "markdown",
      "metadata": {
        "id": "gm-VPds9goKm"
      },
      "source": [
        "Sau khi áp dụng LLMs cho cả tập dữ liệu, nhóm được tập dữ liệu đã được xử lý đồng thời loại bỏ hàng dữ liệu không hợp lệ khi qua LLMs"
      ]
    },
    {
      "cell_type": "code",
      "execution_count": null,
      "metadata": {
        "colab": {
          "base_uri": "https://localhost:8080/",
          "height": 424
        },
        "id": "cN47l0SKg1Lw",
        "outputId": "717bd53d-badb-47b4-e8a5-7a1efab94962"
      },
      "outputs": [
        {
          "data": {
            "text/html": [
              "<div>\n",
              "<style scoped>\n",
              "    .dataframe tbody tr th:only-of-type {\n",
              "        vertical-align: middle;\n",
              "    }\n",
              "\n",
              "    .dataframe tbody tr th {\n",
              "        vertical-align: top;\n",
              "    }\n",
              "\n",
              "    .dataframe thead th {\n",
              "        text-align: right;\n",
              "    }\n",
              "</style>\n",
              "<table border=\"1\" class=\"dataframe\">\n",
              "  <thead>\n",
              "    <tr style=\"text-align: right;\">\n",
              "      <th></th>\n",
              "      <th>Type</th>\n",
              "      <th>Price_sale</th>\n",
              "      <th>Sale_off</th>\n",
              "      <th>Total_sold</th>\n",
              "      <th>Preview</th>\n",
              "      <th>Location</th>\n",
              "      <th>Price_original</th>\n",
              "      <th>Ship_price</th>\n",
              "      <th>Sale_rating</th>\n",
              "      <th>Ship_on_time</th>\n",
              "      <th>Chat_response</th>\n",
              "      <th>One_star</th>\n",
              "      <th>Two_star</th>\n",
              "      <th>Three_star</th>\n",
              "      <th>Four_star</th>\n",
              "      <th>Five_star</th>\n",
              "    </tr>\n",
              "  </thead>\n",
              "  <tbody>\n",
              "    <tr>\n",
              "      <th>0</th>\n",
              "      <td>quần áo</td>\n",
              "      <td>35891</td>\n",
              "      <td>64.0</td>\n",
              "      <td>3000.0</td>\n",
              "      <td>1022.0</td>\n",
              "      <td>Hồ Chí Minh</td>\n",
              "      <td>100000.0</td>\n",
              "      <td>16500.0</td>\n",
              "      <td>97.0</td>\n",
              "      <td>100.0</td>\n",
              "      <td>100.0</td>\n",
              "      <td>20.0</td>\n",
              "      <td>7.0</td>\n",
              "      <td>27.0</td>\n",
              "      <td>36.0</td>\n",
              "      <td>932.0</td>\n",
              "    </tr>\n",
              "    <tr>\n",
              "      <th>1</th>\n",
              "      <td>quần áo</td>\n",
              "      <td>25000</td>\n",
              "      <td>50.0</td>\n",
              "      <td>907.0</td>\n",
              "      <td>241.0</td>\n",
              "      <td>Hồ Chí Minh</td>\n",
              "      <td>71998.0</td>\n",
              "      <td>16500.0</td>\n",
              "      <td>91.0</td>\n",
              "      <td>100.0</td>\n",
              "      <td>50.0</td>\n",
              "      <td>5.0</td>\n",
              "      <td>2.0</td>\n",
              "      <td>6.0</td>\n",
              "      <td>7.0</td>\n",
              "      <td>222.0</td>\n",
              "    </tr>\n",
              "    <tr>\n",
              "      <th>2</th>\n",
              "      <td>quần áo</td>\n",
              "      <td>79000</td>\n",
              "      <td>43.0</td>\n",
              "      <td>961.0</td>\n",
              "      <td>260.0</td>\n",
              "      <td>Hà Nội</td>\n",
              "      <td>139000.0</td>\n",
              "      <td>32700.0</td>\n",
              "      <td>92.0</td>\n",
              "      <td>99.0</td>\n",
              "      <td>33.0</td>\n",
              "      <td>11.0</td>\n",
              "      <td>8.0</td>\n",
              "      <td>8.0</td>\n",
              "      <td>16.0</td>\n",
              "      <td>218.0</td>\n",
              "    </tr>\n",
              "    <tr>\n",
              "      <th>3</th>\n",
              "      <td>quần áo</td>\n",
              "      <td>36000</td>\n",
              "      <td>60.0</td>\n",
              "      <td>102.0</td>\n",
              "      <td>21.0</td>\n",
              "      <td>Nam Định</td>\n",
              "      <td>189000.0</td>\n",
              "      <td>37700.0</td>\n",
              "      <td>94.0</td>\n",
              "      <td>100.0</td>\n",
              "      <td>83.0</td>\n",
              "      <td>1.0</td>\n",
              "      <td>0.0</td>\n",
              "      <td>1.0</td>\n",
              "      <td>1.0</td>\n",
              "      <td>18.0</td>\n",
              "    </tr>\n",
              "    <tr>\n",
              "      <th>4</th>\n",
              "      <td>quần áo</td>\n",
              "      <td>15971</td>\n",
              "      <td>54.0</td>\n",
              "      <td>219.0</td>\n",
              "      <td>68.0</td>\n",
              "      <td>Hà Nội</td>\n",
              "      <td>59000.0</td>\n",
              "      <td>32700.0</td>\n",
              "      <td>95.0</td>\n",
              "      <td>100.0</td>\n",
              "      <td>100.0</td>\n",
              "      <td>0.0</td>\n",
              "      <td>1.0</td>\n",
              "      <td>0.0</td>\n",
              "      <td>3.0</td>\n",
              "      <td>65.0</td>\n",
              "    </tr>\n",
              "    <tr>\n",
              "      <th>...</th>\n",
              "      <td>...</td>\n",
              "      <td>...</td>\n",
              "      <td>...</td>\n",
              "      <td>...</td>\n",
              "      <td>...</td>\n",
              "      <td>...</td>\n",
              "      <td>...</td>\n",
              "      <td>...</td>\n",
              "      <td>...</td>\n",
              "      <td>...</td>\n",
              "      <td>...</td>\n",
              "      <td>...</td>\n",
              "      <td>...</td>\n",
              "      <td>...</td>\n",
              "      <td>...</td>\n",
              "      <td>...</td>\n",
              "    </tr>\n",
              "    <tr>\n",
              "      <th>7147</th>\n",
              "      <td>tivi</td>\n",
              "      <td>7990000</td>\n",
              "      <td>NaN</td>\n",
              "      <td>20.0</td>\n",
              "      <td>8</td>\n",
              "      <td>Binh Duong</td>\n",
              "      <td>NaN</td>\n",
              "      <td>NaN</td>\n",
              "      <td>96</td>\n",
              "      <td>100.0</td>\n",
              "      <td>100.0</td>\n",
              "      <td>0.0</td>\n",
              "      <td>0.0</td>\n",
              "      <td>0.0</td>\n",
              "      <td>0.0</td>\n",
              "      <td>9.0</td>\n",
              "    </tr>\n",
              "    <tr>\n",
              "      <th>7148</th>\n",
              "      <td>tivi</td>\n",
              "      <td>2730000</td>\n",
              "      <td>NaN</td>\n",
              "      <td>NaN</td>\n",
              "      <td>NaN</td>\n",
              "      <td>Ho Chi Minh</td>\n",
              "      <td>NaN</td>\n",
              "      <td>38000.0</td>\n",
              "      <td>NaN</td>\n",
              "      <td>NaN</td>\n",
              "      <td>NaN</td>\n",
              "      <td>0.0</td>\n",
              "      <td>0.0</td>\n",
              "      <td>0.0</td>\n",
              "      <td>0.0</td>\n",
              "      <td>0.0</td>\n",
              "    </tr>\n",
              "    <tr>\n",
              "      <th>7149</th>\n",
              "      <td>tivi</td>\n",
              "      <td>6150000</td>\n",
              "      <td>NaN</td>\n",
              "      <td>NaN</td>\n",
              "      <td>NaN</td>\n",
              "      <td>Ho Chi Minh</td>\n",
              "      <td>9990000.0</td>\n",
              "      <td>NaN</td>\n",
              "      <td>97</td>\n",
              "      <td>98.0</td>\n",
              "      <td>89.0</td>\n",
              "      <td>0.0</td>\n",
              "      <td>0.0</td>\n",
              "      <td>0.0</td>\n",
              "      <td>0.0</td>\n",
              "      <td>0.0</td>\n",
              "    </tr>\n",
              "    <tr>\n",
              "      <th>7150</th>\n",
              "      <td>tivi</td>\n",
              "      <td>4250000</td>\n",
              "      <td>NaN</td>\n",
              "      <td>NaN</td>\n",
              "      <td>NaN</td>\n",
              "      <td>Ha Noi</td>\n",
              "      <td>4990000.0</td>\n",
              "      <td>135500.0</td>\n",
              "      <td>100</td>\n",
              "      <td>40.0</td>\n",
              "      <td>NaN</td>\n",
              "      <td>0.0</td>\n",
              "      <td>0.0</td>\n",
              "      <td>0.0</td>\n",
              "      <td>0.0</td>\n",
              "      <td>0.0</td>\n",
              "    </tr>\n",
              "    <tr>\n",
              "      <th>7151</th>\n",
              "      <td>tivi</td>\n",
              "      <td>2650000</td>\n",
              "      <td>NaN</td>\n",
              "      <td>NaN</td>\n",
              "      <td>NaN</td>\n",
              "      <td>Ho Chi Minh</td>\n",
              "      <td>NaN</td>\n",
              "      <td>45100.0</td>\n",
              "      <td>100</td>\n",
              "      <td>NaN</td>\n",
              "      <td>50.0</td>\n",
              "      <td>0.0</td>\n",
              "      <td>0.0</td>\n",
              "      <td>0.0</td>\n",
              "      <td>0.0</td>\n",
              "      <td>0.0</td>\n",
              "    </tr>\n",
              "  </tbody>\n",
              "</table>\n",
              "<p>7152 rows × 16 columns</p>\n",
              "</div>"
            ],
            "text/plain": [
              "         Type  Price_sale Sale_off Total_sold Preview     Location  \\\n",
              "0     quần áo       35891     64.0     3000.0  1022.0  Hồ Chí Minh   \n",
              "1     quần áo       25000     50.0      907.0   241.0  Hồ Chí Minh   \n",
              "2     quần áo       79000     43.0      961.0   260.0       Hà Nội   \n",
              "3     quần áo       36000     60.0      102.0    21.0     Nam Định   \n",
              "4     quần áo       15971     54.0      219.0    68.0       Hà Nội   \n",
              "...       ...         ...      ...        ...     ...          ...   \n",
              "7147     tivi     7990000      NaN       20.0       8   Binh Duong   \n",
              "7148     tivi     2730000      NaN        NaN     NaN  Ho Chi Minh   \n",
              "7149     tivi     6150000      NaN        NaN     NaN  Ho Chi Minh   \n",
              "7150     tivi     4250000      NaN        NaN     NaN       Ha Noi   \n",
              "7151     tivi     2650000      NaN        NaN     NaN  Ho Chi Minh   \n",
              "\n",
              "      Price_original Ship_price Sale_rating  Ship_on_time Chat_response  \\\n",
              "0           100000.0    16500.0        97.0         100.0         100.0   \n",
              "1            71998.0    16500.0        91.0         100.0          50.0   \n",
              "2           139000.0    32700.0        92.0          99.0          33.0   \n",
              "3           189000.0    37700.0        94.0         100.0          83.0   \n",
              "4            59000.0    32700.0        95.0         100.0         100.0   \n",
              "...              ...        ...         ...           ...           ...   \n",
              "7147             NaN        NaN          96         100.0         100.0   \n",
              "7148             NaN    38000.0         NaN           NaN           NaN   \n",
              "7149       9990000.0        NaN          97          98.0          89.0   \n",
              "7150       4990000.0   135500.0         100          40.0           NaN   \n",
              "7151             NaN    45100.0         100           NaN          50.0   \n",
              "\n",
              "      One_star  Two_star  Three_star  Four_star  Five_star  \n",
              "0         20.0       7.0        27.0       36.0      932.0  \n",
              "1          5.0       2.0         6.0        7.0      222.0  \n",
              "2         11.0       8.0         8.0       16.0      218.0  \n",
              "3          1.0       0.0         1.0        1.0       18.0  \n",
              "4          0.0       1.0         0.0        3.0       65.0  \n",
              "...        ...       ...         ...        ...        ...  \n",
              "7147       0.0       0.0         0.0        0.0        9.0  \n",
              "7148       0.0       0.0         0.0        0.0        0.0  \n",
              "7149       0.0       0.0         0.0        0.0        0.0  \n",
              "7150       0.0       0.0         0.0        0.0        0.0  \n",
              "7151       0.0       0.0         0.0        0.0        0.0  \n",
              "\n",
              "[7152 rows x 16 columns]"
            ]
          },
          "execution_count": 5,
          "metadata": {},
          "output_type": "execute_result"
        }
      ],
      "source": [
        "df = pd.read_csv(\"Final_Data_LLM.csv\")\n",
        "df"
      ]
    },
    {
      "cell_type": "markdown",
      "metadata": {
        "id": "i8GuTzyulmOJ"
      },
      "source": [
        "### **III/ Apply causal inference techniques to test your hypothesis.**"
      ]
    },
    {
      "cell_type": "markdown",
      "metadata": {},
      "source": [
        "#### 3.1 Handling missing values\n",
        "(Nếu tách thì báo cáo sơ qua)"
      ]
    },
    {
      "cell_type": "code",
      "execution_count": 2,
      "metadata": {},
      "outputs": [
        {
          "data": {
            "text/html": [
              "<div>\n",
              "<style scoped>\n",
              "    .dataframe tbody tr th:only-of-type {\n",
              "        vertical-align: middle;\n",
              "    }\n",
              "\n",
              "    .dataframe tbody tr th {\n",
              "        vertical-align: top;\n",
              "    }\n",
              "\n",
              "    .dataframe thead th {\n",
              "        text-align: right;\n",
              "    }\n",
              "</style>\n",
              "<table border=\"1\" class=\"dataframe\">\n",
              "  <thead>\n",
              "    <tr style=\"text-align: right;\">\n",
              "      <th></th>\n",
              "      <th>Type</th>\n",
              "      <th>Price_sale</th>\n",
              "      <th>Sale_off</th>\n",
              "      <th>Total_sold</th>\n",
              "      <th>Preview</th>\n",
              "      <th>Location</th>\n",
              "      <th>Price_original</th>\n",
              "      <th>Ship_price</th>\n",
              "      <th>Sale_rating</th>\n",
              "      <th>Ship_on_time</th>\n",
              "      <th>Chat_response</th>\n",
              "      <th>One_star</th>\n",
              "      <th>Two_star</th>\n",
              "      <th>Three_star</th>\n",
              "      <th>Four_star</th>\n",
              "      <th>Five_star</th>\n",
              "    </tr>\n",
              "  </thead>\n",
              "  <tbody>\n",
              "    <tr>\n",
              "      <th>0</th>\n",
              "      <td>quần áo</td>\n",
              "      <td>35891</td>\n",
              "      <td>64.0</td>\n",
              "      <td>3000.0</td>\n",
              "      <td>1022.0</td>\n",
              "      <td>Hồ Chí Minh</td>\n",
              "      <td>100000.0</td>\n",
              "      <td>16500.0</td>\n",
              "      <td>97.0</td>\n",
              "      <td>100.0</td>\n",
              "      <td>100.0</td>\n",
              "      <td>20.0</td>\n",
              "      <td>7.0</td>\n",
              "      <td>27.0</td>\n",
              "      <td>36.0</td>\n",
              "      <td>932.0</td>\n",
              "    </tr>\n",
              "    <tr>\n",
              "      <th>1</th>\n",
              "      <td>quần áo</td>\n",
              "      <td>25000</td>\n",
              "      <td>50.0</td>\n",
              "      <td>907.0</td>\n",
              "      <td>241.0</td>\n",
              "      <td>Hồ Chí Minh</td>\n",
              "      <td>71998.0</td>\n",
              "      <td>16500.0</td>\n",
              "      <td>91.0</td>\n",
              "      <td>100.0</td>\n",
              "      <td>50.0</td>\n",
              "      <td>5.0</td>\n",
              "      <td>2.0</td>\n",
              "      <td>6.0</td>\n",
              "      <td>7.0</td>\n",
              "      <td>222.0</td>\n",
              "    </tr>\n",
              "    <tr>\n",
              "      <th>2</th>\n",
              "      <td>quần áo</td>\n",
              "      <td>79000</td>\n",
              "      <td>43.0</td>\n",
              "      <td>961.0</td>\n",
              "      <td>260.0</td>\n",
              "      <td>Hà Nội</td>\n",
              "      <td>139000.0</td>\n",
              "      <td>32700.0</td>\n",
              "      <td>92.0</td>\n",
              "      <td>99.0</td>\n",
              "      <td>33.0</td>\n",
              "      <td>11.0</td>\n",
              "      <td>8.0</td>\n",
              "      <td>8.0</td>\n",
              "      <td>16.0</td>\n",
              "      <td>218.0</td>\n",
              "    </tr>\n",
              "  </tbody>\n",
              "</table>\n",
              "</div>"
            ],
            "text/plain": [
              "      Type  Price_sale Sale_off Total_sold Preview     Location  \\\n",
              "0  quần áo       35891     64.0     3000.0  1022.0  Hồ Chí Minh   \n",
              "1  quần áo       25000     50.0      907.0   241.0  Hồ Chí Minh   \n",
              "2  quần áo       79000     43.0      961.0   260.0       Hà Nội   \n",
              "\n",
              "   Price_original Ship_price Sale_rating  Ship_on_time Chat_response  \\\n",
              "0        100000.0    16500.0        97.0         100.0         100.0   \n",
              "1         71998.0    16500.0        91.0         100.0          50.0   \n",
              "2        139000.0    32700.0        92.0          99.0          33.0   \n",
              "\n",
              "   One_star  Two_star  Three_star  Four_star  Five_star  \n",
              "0      20.0       7.0        27.0       36.0      932.0  \n",
              "1       5.0       2.0         6.0        7.0      222.0  \n",
              "2      11.0       8.0         8.0       16.0      218.0  "
            ]
          },
          "execution_count": 2,
          "metadata": {},
          "output_type": "execute_result"
        }
      ],
      "source": [
        "from unidecode import unidecode\n",
        "\n",
        "data = pd.read_csv(\"Data_After_LLM.csv\")\n",
        "data.head(3)"
      ]
    },
    {
      "cell_type": "code",
      "execution_count": 3,
      "metadata": {},
      "outputs": [
        {
          "name": "stdout",
          "output_type": "stream",
          "text": [
            "<class 'pandas.core.frame.DataFrame'>\n",
            "RangeIndex: 7152 entries, 0 to 7151\n",
            "Data columns (total 16 columns):\n",
            " #   Column          Non-Null Count  Dtype  \n",
            "---  ------          --------------  -----  \n",
            " 0   Type            7152 non-null   object \n",
            " 1   Price_sale      7152 non-null   int64  \n",
            " 2   Sale_off        5306 non-null   object \n",
            " 3   Total_sold      5312 non-null   object \n",
            " 4   Preview         5435 non-null   object \n",
            " 5   Location        7152 non-null   object \n",
            " 6   Price_original  5755 non-null   float64\n",
            " 7   Ship_price      5905 non-null   object \n",
            " 8   Sale_rating     6489 non-null   object \n",
            " 9   Ship_on_time    5398 non-null   float64\n",
            " 10  Chat_response   6060 non-null   object \n",
            " 11  One_star        7152 non-null   float64\n",
            " 12  Two_star        7152 non-null   float64\n",
            " 13  Three_star      7152 non-null   float64\n",
            " 14  Four_star       7152 non-null   float64\n",
            " 15  Five_star       6887 non-null   float64\n",
            "dtypes: float64(7), int64(1), object(8)\n",
            "memory usage: 894.1+ KB\n"
          ]
        }
      ],
      "source": [
        "data.info()"
      ]
    },
    {
      "cell_type": "code",
      "execution_count": 4,
      "metadata": {},
      "outputs": [
        {
          "data": {
            "text/plain": [
              "Sale_off          1846\n",
              "Total_sold        1840\n",
              "Ship_on_time      1754\n",
              "Preview           1717\n",
              "Price_original    1397\n",
              "Ship_price        1247\n",
              "Chat_response     1092\n",
              "Sale_rating        663\n",
              "Five_star          265\n",
              "Type                 0\n",
              "Price_sale           0\n",
              "Location             0\n",
              "One_star             0\n",
              "Two_star             0\n",
              "Three_star           0\n",
              "Four_star            0\n",
              "dtype: int64"
            ]
          },
          "execution_count": 4,
          "metadata": {},
          "output_type": "execute_result"
        }
      ],
      "source": [
        "data.isnull().sum().sort_values(ascending=False)"
      ]
    },
    {
      "cell_type": "markdown",
      "metadata": {},
      "source": [
        "**Type & Location**"
      ]
    },
    {
      "cell_type": "code",
      "execution_count": 5,
      "metadata": {},
      "outputs": [
        {
          "name": "stdout",
          "output_type": "stream",
          "text": [
            "['quần áo' 'giày dép' 'Trang sức' 'Trang suc' 'dien thoai' 'laptop' 'tivi'] \n",
            "\n",
            "['Hồ Chí Minh' 'Hà Nội' 'Nam Định' 'Nước ngoài' 'Tiền Giang' 'Cần Thơ'\n",
            " 'Hà Nam' 'Trà Vinh' 'Thanh Hóa' 'Hưng Yên' 'Long An' 'Bến Tre' 'Phú Thọ'\n",
            " 'Lâm Đồng' 'Đồng Nai' 'Hải Dương' 'Cà Mau' 'Bắc Giang' 'Quảng Ngãi'\n",
            " 'Tây Ninh' 'Bình Định' 'Phú Yên' 'Bình Dương' 'Bắc Ninh' 'Đà Nẵng'\n",
            " 'Vĩnh Phúc' 'Ho Chi Minh' 'Ha Noi' 'Hai Duong' 'Nghệ An' 'Binh Duong'\n",
            " 'Hung Yen' 'Hai Phong' 'Da Nang' 'An Giang' 'Bac Ninh' 'Ben Tre'\n",
            " 'Vinh Phuc' 'Nam Dinh' 'Tien Giang' 'Dak Nong' 'Thai Binh' 'Dak Lak'\n",
            " 'Hanoi' 'Dong Nai' 'Thai Nguyen' 'Quang Tri' 'Thanh Hoa' 'Tay Ninh'\n",
            " 'Nuoc Ngoai' 'Phu Tho' 'Nuoc ngai' 'Thua Thien Hue' 'Thái Bình'\n",
            " 'Dong Thap' 'Ha Tinh' 'Phu Yen' 'Ba Ria Vung Tau' 'Bac Giang' 'Vinh Long'\n",
            " 'Quang Nam'] \n",
            "\n"
          ]
        }
      ],
      "source": [
        "#Chuyển các cột Type và Location thành không dấu\n",
        "print(data['Type'].unique(), \"\\n\")\n",
        "print(data['Location'].unique(), \"\\n\")"
      ]
    },
    {
      "cell_type": "code",
      "execution_count": 6,
      "metadata": {},
      "outputs": [],
      "source": [
        "#Chuyển cột Type\n",
        "data['Type'].replace(['quần áo'], 'quan ao', inplace=True)\n",
        "data['Type'].replace(['giày dép'], 'giay dep', inplace=True)\n",
        "data['Type'].replace(['Trang sức', 'Trang suc'], 'trang suc', inplace=True)"
      ]
    },
    {
      "cell_type": "code",
      "execution_count": 7,
      "metadata": {},
      "outputs": [
        {
          "data": {
            "text/plain": [
              "array(['Ho Chi Minh', 'Ha Noi', 'Nam Dinh', 'Nuoc ngoai', 'Tien Giang',\n",
              "       'Can Tho', 'Ha Nam', 'Tra Vinh', 'Thanh Hoa', 'Hung Yen',\n",
              "       'Long An', 'Ben Tre', 'Phu Tho', 'Lam Dong', 'Dong Nai',\n",
              "       'Hai Duong', 'Ca Mau', 'Bac Giang', 'Quang Ngai', 'Tay Ninh',\n",
              "       'Binh Dinh', 'Phu Yen', 'Binh Duong', 'Bac Ninh', 'Da Nang',\n",
              "       'Vinh Phuc', 'Nghe An', 'Hai Phong', 'An Giang', 'Dak Nong',\n",
              "       'Thai Binh', 'Dak Lak', 'Hanoi', 'Thai Nguyen', 'Quang Tri',\n",
              "       'Nuoc Ngoai', 'Nuoc ngai', 'Thua Thien Hue', 'Dong Thap',\n",
              "       'Ha Tinh', 'Ba Ria Vung Tau', 'Vinh Long', 'Quang Nam'],\n",
              "      dtype=object)"
            ]
          },
          "execution_count": 7,
          "metadata": {},
          "output_type": "execute_result"
        }
      ],
      "source": [
        "#Hàm chuyển đổi thành không dấu\n",
        "def remove_diacritics(text):\n",
        "    return unidecode(text)\n",
        "\n",
        "data['Location'] = data['Location'].apply(remove_diacritics)\n",
        "data['Location'].unique()"
      ]
    },
    {
      "cell_type": "markdown",
      "metadata": {},
      "source": [
        "**Price_Sale & Sale_off & Price_original**"
      ]
    },
    {
      "cell_type": "code",
      "execution_count": 8,
      "metadata": {},
      "outputs": [
        {
          "name": "stdout",
          "output_type": "stream",
          "text": [
            "['64.0' '50.0' '43.0' '60.0' '54.0' '67.0' nan '61.0' '66.0' '53.0' '47.0'\n",
            " '45.0' '57.0' '52.0' '49.0' '44.0' '30.0' '29.0' '56.0' '59.0' '8.0'\n",
            " '35.0' '58.0' '31.0' '12.0' '51.0' '21.0' '81.0' '41.0' '96.0' '39.0'\n",
            " '40.0' '46.0' '48.0' '33.0' '15.0' '42.0' '13.0' '79.0' '76.0' '24.0'\n",
            " '7.0' '23.0' '62.0' '65.0' '32.0' '55.0' '14.0' '26.0' '70.0' '37.0'\n",
            " '82.0' '83.0' '69.0' '63.0' '34.0' '94.0' '71.0' '73.0' '18.0' '77.0'\n",
            " '16.0' '72.0' '36.0' '86.0' '85.0' '78.0' '84.0' '28.0' '38.0' '25.0'\n",
            " '97.0' '20.0' '68.0' '17.0' '89.0' '88.0' '1.0' '75.0' '74.0' '22.0'\n",
            " '80.0' '92.0' '27.0' '5.0' '10.0' '11.0' '100.0' '6.0' '19.0' '9.0'\n",
            " '99.0' '98.0' '93.0' '7' '10' '16' '6' '15' '11' '12' '17' '8' '13' '27'\n",
            " '22' '29' '18' '9' '14' '31' '42' '35' '34' '25' '20' '26' '23' '19' '52'\n",
            " '21' '1' '24' '60' '5' '32' '3' '37' '40' '46' '28' '30' '45' '36' '38'\n",
            " '33' '41' '39' '2' '4' '1200' 'none' '0' '3.0' '4.0' '2.0' '1.1' '0.0']\n"
          ]
        }
      ],
      "source": [
        "print(data['Sale_off'].unique())"
      ]
    },
    {
      "cell_type": "code",
      "execution_count": 9,
      "metadata": {},
      "outputs": [
        {
          "data": {
            "text/plain": [
              "1848"
            ]
          },
          "execution_count": 9,
          "metadata": {},
          "output_type": "execute_result"
        }
      ],
      "source": [
        "data['Sale_off'] = data['Sale_off'].replace(\"none\", None)\n",
        "\n",
        "#Chuyển đổi float cho Sale_off & Price_sale\n",
        "data['Sale_off'] = data['Sale_off'].astype(float)\n",
        "data['Price_sale'] = data['Price_sale'].astype(float)\n",
        "\n",
        "#Check null cho cột Sale_off\n",
        "data['Sale_off'].isnull().sum()"
      ]
    },
    {
      "cell_type": "code",
      "execution_count": 10,
      "metadata": {},
      "outputs": [
        {
          "name": "stdout",
          "output_type": "stream",
          "text": [
            "Index([2040, 4158], dtype='int64')\n"
          ]
        }
      ],
      "source": [
        "# Xoá dữ liệu cột Sale_off >= 100\n",
        "indices_to_drop = data.loc[data['Sale_off'] >= 100].index\n",
        "print(indices_to_drop)\n",
        "data = data.drop(indices_to_drop)"
      ]
    },
    {
      "cell_type": "code",
      "execution_count": 11,
      "metadata": {},
      "outputs": [],
      "source": [
        "# Tính toán giá trị vào NaN\n",
        "#TH1: Price_original == NULL, Sale_off != NULL\n",
        "data['Price_original'].fillna(data['Price_sale'] / (1 - data['Sale_off'] / 100), inplace=True)\n",
        "\n",
        "#TH2: Sale_off == NULL,  Price_original != NULL\n",
        "data['Sale_off'].fillna(((data['Price_original'] - data['Price_sale']) / data['Price_original']) * 100, inplace=True)\n",
        "\n",
        "#TH3: Sale_off & Price_original == NULL\n",
        "data['Sale_off'].fillna(0, inplace=True)\n",
        "data['Price_original'].fillna(data['Price_sale'], inplace=True)"
      ]
    },
    {
      "cell_type": "code",
      "execution_count": 12,
      "metadata": {},
      "outputs": [
        {
          "data": {
            "text/html": [
              "<div>\n",
              "<style scoped>\n",
              "    .dataframe tbody tr th:only-of-type {\n",
              "        vertical-align: middle;\n",
              "    }\n",
              "\n",
              "    .dataframe tbody tr th {\n",
              "        vertical-align: top;\n",
              "    }\n",
              "\n",
              "    .dataframe thead th {\n",
              "        text-align: right;\n",
              "    }\n",
              "</style>\n",
              "<table border=\"1\" class=\"dataframe\">\n",
              "  <thead>\n",
              "    <tr style=\"text-align: right;\">\n",
              "      <th></th>\n",
              "      <th>Type</th>\n",
              "      <th>Price_sale</th>\n",
              "      <th>Sale_off</th>\n",
              "      <th>Total_sold</th>\n",
              "      <th>Preview</th>\n",
              "      <th>Location</th>\n",
              "      <th>Price_original</th>\n",
              "      <th>Ship_price</th>\n",
              "      <th>Sale_rating</th>\n",
              "      <th>Ship_on_time</th>\n",
              "      <th>Chat_response</th>\n",
              "      <th>One_star</th>\n",
              "      <th>Two_star</th>\n",
              "      <th>Three_star</th>\n",
              "      <th>Four_star</th>\n",
              "      <th>Five_star</th>\n",
              "    </tr>\n",
              "  </thead>\n",
              "  <tbody>\n",
              "    <tr>\n",
              "      <th>0</th>\n",
              "      <td>quan ao</td>\n",
              "      <td>35891.0</td>\n",
              "      <td>64.0</td>\n",
              "      <td>3000.0</td>\n",
              "      <td>1022.0</td>\n",
              "      <td>Ho Chi Minh</td>\n",
              "      <td>100000.0</td>\n",
              "      <td>16500.0</td>\n",
              "      <td>97.0</td>\n",
              "      <td>100.0</td>\n",
              "      <td>100.0</td>\n",
              "      <td>20.0</td>\n",
              "      <td>7.0</td>\n",
              "      <td>27.0</td>\n",
              "      <td>36.0</td>\n",
              "      <td>932.0</td>\n",
              "    </tr>\n",
              "    <tr>\n",
              "      <th>1</th>\n",
              "      <td>quan ao</td>\n",
              "      <td>25000.0</td>\n",
              "      <td>50.0</td>\n",
              "      <td>907.0</td>\n",
              "      <td>241.0</td>\n",
              "      <td>Ho Chi Minh</td>\n",
              "      <td>71998.0</td>\n",
              "      <td>16500.0</td>\n",
              "      <td>91.0</td>\n",
              "      <td>100.0</td>\n",
              "      <td>50.0</td>\n",
              "      <td>5.0</td>\n",
              "      <td>2.0</td>\n",
              "      <td>6.0</td>\n",
              "      <td>7.0</td>\n",
              "      <td>222.0</td>\n",
              "    </tr>\n",
              "    <tr>\n",
              "      <th>2</th>\n",
              "      <td>quan ao</td>\n",
              "      <td>79000.0</td>\n",
              "      <td>43.0</td>\n",
              "      <td>961.0</td>\n",
              "      <td>260.0</td>\n",
              "      <td>Ha Noi</td>\n",
              "      <td>139000.0</td>\n",
              "      <td>32700.0</td>\n",
              "      <td>92.0</td>\n",
              "      <td>99.0</td>\n",
              "      <td>33.0</td>\n",
              "      <td>11.0</td>\n",
              "      <td>8.0</td>\n",
              "      <td>8.0</td>\n",
              "      <td>16.0</td>\n",
              "      <td>218.0</td>\n",
              "    </tr>\n",
              "    <tr>\n",
              "      <th>3</th>\n",
              "      <td>quan ao</td>\n",
              "      <td>36000.0</td>\n",
              "      <td>60.0</td>\n",
              "      <td>102.0</td>\n",
              "      <td>21.0</td>\n",
              "      <td>Nam Dinh</td>\n",
              "      <td>189000.0</td>\n",
              "      <td>37700.0</td>\n",
              "      <td>94.0</td>\n",
              "      <td>100.0</td>\n",
              "      <td>83.0</td>\n",
              "      <td>1.0</td>\n",
              "      <td>0.0</td>\n",
              "      <td>1.0</td>\n",
              "      <td>1.0</td>\n",
              "      <td>18.0</td>\n",
              "    </tr>\n",
              "    <tr>\n",
              "      <th>4</th>\n",
              "      <td>quan ao</td>\n",
              "      <td>15971.0</td>\n",
              "      <td>54.0</td>\n",
              "      <td>219.0</td>\n",
              "      <td>68.0</td>\n",
              "      <td>Ha Noi</td>\n",
              "      <td>59000.0</td>\n",
              "      <td>32700.0</td>\n",
              "      <td>95.0</td>\n",
              "      <td>100.0</td>\n",
              "      <td>100.0</td>\n",
              "      <td>0.0</td>\n",
              "      <td>1.0</td>\n",
              "      <td>0.0</td>\n",
              "      <td>3.0</td>\n",
              "      <td>65.0</td>\n",
              "    </tr>\n",
              "  </tbody>\n",
              "</table>\n",
              "</div>"
            ],
            "text/plain": [
              "      Type  Price_sale  Sale_off Total_sold Preview     Location  \\\n",
              "0  quan ao     35891.0      64.0     3000.0  1022.0  Ho Chi Minh   \n",
              "1  quan ao     25000.0      50.0      907.0   241.0  Ho Chi Minh   \n",
              "2  quan ao     79000.0      43.0      961.0   260.0       Ha Noi   \n",
              "3  quan ao     36000.0      60.0      102.0    21.0     Nam Dinh   \n",
              "4  quan ao     15971.0      54.0      219.0    68.0       Ha Noi   \n",
              "\n",
              "   Price_original Ship_price Sale_rating  Ship_on_time Chat_response  \\\n",
              "0        100000.0    16500.0        97.0         100.0         100.0   \n",
              "1         71998.0    16500.0        91.0         100.0          50.0   \n",
              "2        139000.0    32700.0        92.0          99.0          33.0   \n",
              "3        189000.0    37700.0        94.0         100.0          83.0   \n",
              "4         59000.0    32700.0        95.0         100.0         100.0   \n",
              "\n",
              "   One_star  Two_star  Three_star  Four_star  Five_star  \n",
              "0      20.0       7.0        27.0       36.0      932.0  \n",
              "1       5.0       2.0         6.0        7.0      222.0  \n",
              "2      11.0       8.0         8.0       16.0      218.0  \n",
              "3       1.0       0.0         1.0        1.0       18.0  \n",
              "4       0.0       1.0         0.0        3.0       65.0  "
            ]
          },
          "execution_count": 12,
          "metadata": {},
          "output_type": "execute_result"
        }
      ],
      "source": [
        "# Xoá hàng giá gốc < giá sale\n",
        "data = data[data['Price_original'] >= data['Price_sale']]\n",
        "data.head()"
      ]
    },
    {
      "cell_type": "markdown",
      "metadata": {},
      "source": [
        "**Total_sold & Preview & Ship_price & Sale_rating & Ship_on_time & Chat_response**"
      ]
    },
    {
      "cell_type": "code",
      "execution_count": 13,
      "metadata": {},
      "outputs": [],
      "source": [
        "#Gán 0 cho 'Total_sold', 'Preview'\n",
        "data['Total_sold'] = pd.to_numeric(data['Total_sold'], errors='coerce').fillna(0).astype(float)\n",
        "data['Preview'] = pd.to_numeric(data[\"Preview\"], errors='coerce').fillna(0).astype(float)"
      ]
    },
    {
      "cell_type": "code",
      "execution_count": 14,
      "metadata": {},
      "outputs": [
        {
          "data": {
            "text/plain": [
              "array([   16500,    32700,    37700,    18300,        0,    17000,\n",
              "          28700,    38000,    51100,    27000,    32200,    15500,\n",
              "          45100,    44100,    19600,    43900,    23500,    27300,\n",
              "          12200,      700,     8000,    20300,    57700,     7300,\n",
              "           6000,    20100,    22700,    21500,    56800,    51500,\n",
              "          20700,    40100,    23900,    40300,   635900,    21700,\n",
              "           5500,   202600,   110800,    19000,  1928000,    26100,\n",
              "          13700,    64800,    73600,    10200,      100,       98,\n",
              "          84600,   198200,   744000,    21200,    65500,     9700,\n",
              "          23800,    70000,    52400,    80200,   104900,       97,\n",
              "          74400,     1200,    74700,       95,   100600,   118500,\n",
              "          55400,    12800,    48200,    90700,    63300,    52300,\n",
              "          90400,    34100,    64700,    13800,   494000,    63400,\n",
              "        2695100,    16300,       90,    62600,   115100,     9100,\n",
              "          90600,    63700,    30900,    94800,    32500,      261,\n",
              "       78950100,   141300,   206800,   146000,   159200,   131600,\n",
              "         258200,    46000,   238400,    21600,    88900,    79000,\n",
              "          72400,    31600,   112600,   501400,   125200,   270400,\n",
              "         125300,   135500,    59400,   337400,   148600,   271400,\n",
              "         164800,    71100,   585800,   290200,   253700,   565500,\n",
              "        2689300,   612500,    96100,   212600,   218600,   278100,\n",
              "          25200,   448600,   102400,    36500,    81800])"
            ]
          },
          "execution_count": 14,
          "metadata": {},
          "output_type": "execute_result"
        }
      ],
      "source": [
        "#Ship_price\n",
        "data['Ship_price'] = pd.to_numeric(data['Ship_price'], errors='coerce').fillna(0).astype(int)\n",
        "data['Ship_price'].unique()"
      ]
    },
    {
      "cell_type": "code",
      "execution_count": 15,
      "metadata": {},
      "outputs": [
        {
          "data": {
            "text/plain": [
              "array([100,  99,  96,  97,  98,  93,  91,  87,  84,  92,  95,  83,  80,\n",
              "        63,  86,  67,  28,  82,  85,  94,  60,  88,   3,  79,  89,  74,\n",
              "        33,  90,  41,  81,  76,  29,  71,  66,  25,  13,  50,  72,  75,\n",
              "        44,  70,  68,  57,  55,  78,  14,  20,  37,  65,  77,  40])"
            ]
          },
          "execution_count": 15,
          "metadata": {},
          "output_type": "execute_result"
        }
      ],
      "source": [
        "#Ship_on_time: chuyển sang int rồi fill NaN = median\n",
        "data['Ship_on_time'] = pd.to_numeric(data['Ship_on_time'], errors='coerce').fillna(0).astype(int)\n",
        "median_Ship_on_time = data['Ship_on_time'].median()\n",
        "data['Ship_on_time'] = data['Ship_on_time'].replace([0], int(median_Ship_on_time))\n",
        "\n",
        "data['Ship_on_time'].unique()"
      ]
    },
    {
      "cell_type": "code",
      "execution_count": 16,
      "metadata": {},
      "outputs": [
        {
          "data": {
            "text/plain": [
              "array([ 97,  91,  92,  94,  95,  99,  88,  98,  93,  96,  86,  85,  69,\n",
              "        90,  87,  89,  83,  62,  64,  84, 100,  78,  66,  68,  65,  77,\n",
              "        76,  71,  74,  75,  73,  81,  60,  80,  40,  79,  82,  67])"
            ]
          },
          "execution_count": 16,
          "metadata": {},
          "output_type": "execute_result"
        }
      ],
      "source": [
        "#Sale_rating: chuyển sang int rồi fill NaN = median\n",
        "data['Sale_rating'] = pd.to_numeric(data['Sale_rating'], errors='coerce').fillna(0).astype(int)\n",
        "median_Sale_rating = data['Sale_rating'].median()\n",
        "data['Sale_rating'] = data['Sale_rating'].replace([0], int(median_Sale_rating))\n",
        "\n",
        "data['Sale_rating'].unique()"
      ]
    },
    {
      "cell_type": "code",
      "execution_count": 17,
      "metadata": {},
      "outputs": [
        {
          "data": {
            "text/plain": [
              "array([100,  50,  33,  83,  97,  60,  66,  90,  81,  98,  99,  54,  42,\n",
              "        91,  82,  96,  34,  69,  64,  80,  58,  94,  87,  85,  57,  86,\n",
              "        75,  63,  79,  71,  88,  92,  56,  77,  84,  93,  95,  72,  46,\n",
              "        73,  78,  44,  76,  40,  70,  62,  53,  36,   6,  13,  89,  37,\n",
              "         1,  55,  65,  52])"
            ]
          },
          "execution_count": 17,
          "metadata": {},
          "output_type": "execute_result"
        }
      ],
      "source": [
        "#Chat_respone: chuyển sang int rồi fill NaN = median\n",
        "data['Chat_response'] = pd.to_numeric(data['Chat_response'], errors='coerce').fillna(0).astype(int)\n",
        "median_Chat_response = data['Chat_response'].median()\n",
        "data['Chat_response'] = data['Chat_response'].replace([0], int(median_Chat_response))\n",
        "\n",
        "data['Chat_response'].unique()"
      ]
    },
    {
      "cell_type": "code",
      "execution_count": 18,
      "metadata": {},
      "outputs": [
        {
          "name": "stdout",
          "output_type": "stream",
          "text": [
            "Index([3711, 3977, 4035, 4099, 4747, 5133, 5920, 5960, 6305, 6341, 6507, 6537,\n",
            "       6740, 6748, 6902, 6912, 7124, 7132, 7137],\n",
            "      dtype='int64')\n"
          ]
        }
      ],
      "source": [
        "#Loại bỏ những dòng có Ship_price > 1000000\n",
        "ship_to_drop = data.loc[data['Ship_price'] >= 1000000].index\n",
        "print(ship_to_drop)\n",
        "\n",
        "data = data.drop(ship_to_drop)"
      ]
    },
    {
      "cell_type": "markdown",
      "metadata": {},
      "source": [
        "**Five_star**"
      ]
    },
    {
      "cell_type": "code",
      "execution_count": 19,
      "metadata": {},
      "outputs": [],
      "source": [
        "#Loại bỏ những giá trị Null của cột Five_star\n",
        "data = data.dropna(subset=['Five_star'])"
      ]
    },
    {
      "cell_type": "markdown",
      "metadata": {},
      "source": [
        "**Drop duplicates**"
      ]
    },
    {
      "cell_type": "code",
      "execution_count": 20,
      "metadata": {},
      "outputs": [
        {
          "data": {
            "text/plain": [
              "2512"
            ]
          },
          "execution_count": 20,
          "metadata": {},
          "output_type": "execute_result"
        }
      ],
      "source": [
        "#Check duplicated data\n",
        "data.duplicated().sum()"
      ]
    },
    {
      "cell_type": "code",
      "execution_count": 21,
      "metadata": {},
      "outputs": [],
      "source": [
        "#Drop duplicated\n",
        "data = data.drop_duplicates()\n",
        "#Reset index\n",
        "data.reset_index(drop=True, inplace=True)"
      ]
    },
    {
      "cell_type": "markdown",
      "metadata": {},
      "source": [
        "**Drop outlier**"
      ]
    },
    {
      "cell_type": "code",
      "execution_count": 22,
      "metadata": {},
      "outputs": [],
      "source": [
        "data = data.drop(data.loc[data['Price_sale'] >= 50000000].index)\n",
        "data = data.drop(data.loc[data['Price_sale'] <= 1000].index)\n",
        "\n",
        "data = data.drop(data.loc[data['Price_original'] >= 50000000].index)\n",
        "data = data.drop(data.loc[data['Price_original'] <= 1000].index)"
      ]
    },
    {
      "cell_type": "markdown",
      "metadata": {},
      "source": [
        "#### 3.2 Encoding categorical variables"
      ]
    },
    {
      "cell_type": "code",
      "execution_count": 23,
      "metadata": {},
      "outputs": [],
      "source": [
        "data_copy = data.copy()\n",
        "\n",
        "#Assign labels to 2 columns: Type và Location\n",
        "from sklearn.preprocessing import LabelEncoder\n",
        "\n",
        "label_encoder = LabelEncoder()\n",
        "data['Type'] = label_encoder.fit_transform(data['Type'])\n",
        "\n",
        "data['Location'] = label_encoder.fit_transform(data['Location'])"
      ]
    },
    {
      "cell_type": "code",
      "execution_count": 24,
      "metadata": {},
      "outputs": [
        {
          "name": "stdout",
          "output_type": "stream",
          "text": [
            "['quan ao' 'giay dep' 'trang suc' 'dien thoai' 'laptop' 'tivi'] \n",
            "\n",
            "[3 1 5 0 2 4] \n",
            "\n",
            "['Ho Chi Minh' 'Ha Noi' 'Nam Dinh' 'Nuoc ngoai' 'Tien Giang' 'Can Tho'\n",
            " 'Ha Nam' 'Tra Vinh' 'Thanh Hoa' 'Hung Yen' 'Long An' 'Ben Tre' 'Phu Tho'\n",
            " 'Lam Dong' 'Dong Nai' 'Hai Duong' 'Ca Mau' 'Bac Giang' 'Quang Ngai'\n",
            " 'Tay Ninh' 'Binh Dinh' 'Phu Yen' 'Binh Duong' 'Bac Ninh' 'Da Nang'\n",
            " 'Vinh Phuc' 'An Giang' 'Hai Phong' 'Nghe An' 'Dak Nong' 'Thai Binh'\n",
            " 'Dak Lak' 'Hanoi' 'Thai Nguyen' 'Quang Tri' 'Nuoc Ngoai' 'Nuoc ngai'\n",
            " 'Thua Thien Hue' 'Dong Thap' 'Ha Tinh' 'Ba Ria Vung Tau' 'Vinh Long'\n",
            " 'Quang Nam'] \n",
            "\n",
            "[20 15 24 28 39  8 14 40 37 21 23  4 29 22 12 17  7  2 32 34  5 30  6  3\n",
            "  9 42  0 18 25 11 35 10 19 36 33 26 27 38 13 16  1 41 31] \n",
            "\n"
          ]
        }
      ],
      "source": [
        "#See the type of labeled categories\n",
        "print(data_copy['Type'].unique(), \"\\n\")\n",
        "print(data['Type'].unique(), \"\\n\")\n",
        "\n",
        "print(data_copy['Location'].unique(), \"\\n\")\n",
        "print(data['Location'].unique(), \"\\n\")"
      ]
    },
    {
      "cell_type": "markdown",
      "metadata": {},
      "source": [
        "#### 3.3 Visualize features"
      ]
    },
    {
      "cell_type": "code",
      "execution_count": 25,
      "metadata": {},
      "outputs": [
        {
          "data": {
            "image/png": "[encoded data removed]",
            "text/plain": [
              "<Figure size 1200x1000 with 2 Axes>"
            ]
          },
          "metadata": {},
          "output_type": "display_data"
        }
      ],
      "source": [
        "#Vẽ biểu đồ heatmap\n",
        "from matplotlib import pyplot as plt\n",
        "import seaborn as sns\n",
        "\n",
        "#Đưa Total_sold lên đầu\n",
        "cols = list(data.columns)\n",
        "cols.insert(0, cols.pop(cols.index('Total_sold')))\n",
        "data_temp = data[cols]\n",
        "\n",
        "plt.figure(figsize=(12, 10))\n",
        "sns.heatmap(data_temp.corr(), annot=True, cmap='coolwarm')\n",
        "plt.show()"
      ]
    },
    {
      "cell_type": "markdown",
      "metadata": {},
      "source": [
        "* Based on heatmap:\n",
        "\n",
        "    - Columns: Location, Ship_price, Sale_rating, Ship_on_time, Chat_Response hava a **very low** correlation with Total_sold. So we will drop them.\n",
        "\n",
        "    - Colums: Type, Price_sale, Sale_off, Price_original have a **low** correlation with Total_sold.\n",
        "\n",
        "    - Columns: Preview and Stars have a **very high** correlation with Total_sold."
      ]
    },
    {
      "cell_type": "code",
      "execution_count": 26,
      "metadata": {},
      "outputs": [],
      "source": [
        "data = data.drop(columns=['Location', 'Ship_price','Sale_rating', 'Ship_on_time', 'Chat_response'], axis=1)"
      ]
    },
    {
      "cell_type": "code",
      "execution_count": 27,
      "metadata": {},
      "outputs": [
        {
          "data": {
            "application/vnd.plotly.v1+json": {
              "config": {
                "plotlyServerURL": "https://plot.ly"
              },
              "data": [
                {
                  "alignmentgroup": "True",
                  "hovertemplate": "Product Type=%{x}<br>Total Sold=%{y}<extra></extra>",
                  "legendgroup": "",
                  "marker": {
                    "color": "#636efa",
                    "pattern": {
                      "shape": ""
                    }
                  },
                  "name": "",
                  "offsetgroup": "",
                  "orientation": "v",
                  "showlegend": false,
                  "textposition": "auto",
                  "type": "bar",
                  "x": [
                    0,
                    1,
                    2,
                    3,
                    4,
                    5
                  ],
                  "xaxis": "x",
                  "y": [
                    173780,
                    326651,
                    41297,
                    827735,
                    62375,
                    584075
                  ],
                  "yaxis": "y"
                }
              ],
              "layout": {
                "barmode": "relative",
                "height": 500,
                "legend": {
                  "tracegroupgap": 0
                },
                "template": {
                  "data": {
                    "bar": [
                      {
                        "error_x": {
                          "color": "#2a3f5f"
                        },
                        "error_y": {
                          "color": "#2a3f5f"
                        },
                        "marker": {
                          "line": {
                            "color": "#E5ECF6",
                            "width": 0.5
                          },
                          "pattern": {
                            "fillmode": "overlay",
                            "size": 10,
                            "solidity": 0.2
                          }
                        },
                        "type": "bar"
                      }
                    ],
                    "barpolar": [
                      {
                        "marker": {
                          "line": {
                            "color": "#E5ECF6",
                            "width": 0.5
                          },
                          "pattern": {
                            "fillmode": "overlay",
                            "size": 10,
                            "solidity": 0.2
                          }
                        },
                        "type": "barpolar"
                      }
                    ],
                    "carpet": [
                      {
                        "aaxis": {
                          "endlinecolor": "#2a3f5f",
                          "gridcolor": "white",
                          "linecolor": "white",
                          "minorgridcolor": "white",
                          "startlinecolor": "#2a3f5f"
                        },
                        "baxis": {
                          "endlinecolor": "#2a3f5f",
                          "gridcolor": "white",
                          "linecolor": "white",
                          "minorgridcolor": "white",
                          "startlinecolor": "#2a3f5f"
                        },
                        "type": "carpet"
                      }
                    ],
                    "choropleth": [
                      {
                        "colorbar": {
                          "outlinewidth": 0,
                          "ticks": ""
                        },
                        "type": "choropleth"
                      }
                    ],
                    "contour": [
                      {
                        "colorbar": {
                          "outlinewidth": 0,
                          "ticks": ""
                        },
                        "colorscale": [
                          [
                            0,
                            "#0d0887"
                          ],
                          [
                            0.1111111111111111,
                            "#46039f"
                          ],
                          [
                            0.2222222222222222,
                            "#7201a8"
                          ],
                          [
                            0.3333333333333333,
                            "#9c179e"
                          ],
                          [
                            0.4444444444444444,
                            "#bd3786"
                          ],
                          [
                            0.5555555555555556,
                            "#d8576b"
                          ],
                          [
                            0.6666666666666666,
                            "#ed7953"
                          ],
                          [
                            0.7777777777777778,
                            "#fb9f3a"
                          ],
                          [
                            0.8888888888888888,
                            "#fdca26"
                          ],
                          [
                            1,
                            "#f0f921"
                          ]
                        ],
                        "type": "contour"
                      }
                    ],
                    "contourcarpet": [
                      {
                        "colorbar": {
                          "outlinewidth": 0,
                          "ticks": ""
                        },
                        "type": "contourcarpet"
                      }
                    ],
                    "heatmap": [
                      {
                        "colorbar": {
                          "outlinewidth": 0,
                          "ticks": ""
                        },
                        "colorscale": [
                          [
                            0,
                            "#0d0887"
                          ],
                          [
                            0.1111111111111111,
                            "#46039f"
                          ],
                          [
                            0.2222222222222222,
                            "#7201a8"
                          ],
                          [
                            0.3333333333333333,
                            "#9c179e"
                          ],
                          [
                            0.4444444444444444,
                            "#bd3786"
                          ],
                          [
                            0.5555555555555556,
                            "#d8576b"
                          ],
                          [
                            0.6666666666666666,
                            "#ed7953"
                          ],
                          [
                            0.7777777777777778,
                            "#fb9f3a"
                          ],
                          [
                            0.8888888888888888,
                            "#fdca26"
                          ],
                          [
                            1,
                            "#f0f921"
                          ]
                        ],
                        "type": "heatmap"
                      }
                    ],
                    "heatmapgl": [
                      {
                        "colorbar": {
                          "outlinewidth": 0,
                          "ticks": ""
                        },
                        "colorscale": [
                          [
                            0,
                            "#0d0887"
                          ],
                          [
                            0.1111111111111111,
                            "#46039f"
                          ],
                          [
                            0.2222222222222222,
                            "#7201a8"
                          ],
                          [
                            0.3333333333333333,
                            "#9c179e"
                          ],
                          [
                            0.4444444444444444,
                            "#bd3786"
                          ],
                          [
                            0.5555555555555556,
                            "#d8576b"
                          ],
                          [
                            0.6666666666666666,
                            "#ed7953"
                          ],
                          [
                            0.7777777777777778,
                            "#fb9f3a"
                          ],
                          [
                            0.8888888888888888,
                            "#fdca26"
                          ],
                          [
                            1,
                            "#f0f921"
                          ]
                        ],
                        "type": "heatmapgl"
                      }
                    ],
                    "histogram": [
                      {
                        "marker": {
                          "pattern": {
                            "fillmode": "overlay",
                            "size": 10,
                            "solidity": 0.2
                          }
                        },
                        "type": "histogram"
                      }
                    ],
                    "histogram2d": [
                      {
                        "colorbar": {
                          "outlinewidth": 0,
                          "ticks": ""
                        },
                        "colorscale": [
                          [
                            0,
                            "#0d0887"
                          ],
                          [
                            0.1111111111111111,
                            "#46039f"
                          ],
                          [
                            0.2222222222222222,
                            "#7201a8"
                          ],
                          [
                            0.3333333333333333,
                            "#9c179e"
                          ],
                          [
                            0.4444444444444444,
                            "#bd3786"
                          ],
                          [
                            0.5555555555555556,
                            "#d8576b"
                          ],
                          [
                            0.6666666666666666,
                            "#ed7953"
                          ],
                          [
                            0.7777777777777778,
                            "#fb9f3a"
                          ],
                          [
                            0.8888888888888888,
                            "#fdca26"
                          ],
                          [
                            1,
                            "#f0f921"
                          ]
                        ],
                        "type": "histogram2d"
                      }
                    ],
                    "histogram2dcontour": [
                      {
                        "colorbar": {
                          "outlinewidth": 0,
                          "ticks": ""
                        },
                        "colorscale": [
                          [
                            0,
                            "#0d0887"
                          ],
                          [
                            0.1111111111111111,
                            "#46039f"
                          ],
                          [
                            0.2222222222222222,
                            "#7201a8"
                          ],
                          [
                            0.3333333333333333,
                            "#9c179e"
                          ],
                          [
                            0.4444444444444444,
                            "#bd3786"
                          ],
                          [
                            0.5555555555555556,
                            "#d8576b"
                          ],
                          [
                            0.6666666666666666,
                            "#ed7953"
                          ],
                          [
                            0.7777777777777778,
                            "#fb9f3a"
                          ],
                          [
                            0.8888888888888888,
                            "#fdca26"
                          ],
                          [
                            1,
                            "#f0f921"
                          ]
                        ],
                        "type": "histogram2dcontour"
                      }
                    ],
                    "mesh3d": [
                      {
                        "colorbar": {
                          "outlinewidth": 0,
                          "ticks": ""
                        },
                        "type": "mesh3d"
                      }
                    ],
                    "parcoords": [
                      {
                        "line": {
                          "colorbar": {
                            "outlinewidth": 0,
                            "ticks": ""
                          }
                        },
                        "type": "parcoords"
                      }
                    ],
                    "pie": [
                      {
                        "automargin": true,
                        "type": "pie"
                      }
                    ],
                    "scatter": [
                      {
                        "fillpattern": {
                          "fillmode": "overlay",
                          "size": 10,
                          "solidity": 0.2
                        },
                        "type": "scatter"
                      }
                    ],
                    "scatter3d": [
                      {
                        "line": {
                          "colorbar": {
                            "outlinewidth": 0,
                            "ticks": ""
                          }
                        },
                        "marker": {
                          "colorbar": {
                            "outlinewidth": 0,
                            "ticks": ""
                          }
                        },
                        "type": "scatter3d"
                      }
                    ],
                    "scattercarpet": [
                      {
                        "marker": {
                          "colorbar": {
                            "outlinewidth": 0,
                            "ticks": ""
                          }
                        },
                        "type": "scattercarpet"
                      }
                    ],
                    "scattergeo": [
                      {
                        "marker": {
                          "colorbar": {
                            "outlinewidth": 0,
                            "ticks": ""
                          }
                        },
                        "type": "scattergeo"
                      }
                    ],
                    "scattergl": [
                      {
                        "marker": {
                          "colorbar": {
                            "outlinewidth": 0,
                            "ticks": ""
                          }
                        },
                        "type": "scattergl"
                      }
                    ],
                    "scattermapbox": [
                      {
                        "marker": {
                          "colorbar": {
                            "outlinewidth": 0,
                            "ticks": ""
                          }
                        },
                        "type": "scattermapbox"
                      }
                    ],
                    "scatterpolar": [
                      {
                        "marker": {
                          "colorbar": {
                            "outlinewidth": 0,
                            "ticks": ""
                          }
                        },
                        "type": "scatterpolar"
                      }
                    ],
                    "scatterpolargl": [
                      {
                        "marker": {
                          "colorbar": {
                            "outlinewidth": 0,
                            "ticks": ""
                          }
                        },
                        "type": "scatterpolargl"
                      }
                    ],
                    "scatterternary": [
                      {
                        "marker": {
                          "colorbar": {
                            "outlinewidth": 0,
                            "ticks": ""
                          }
                        },
                        "type": "scatterternary"
                      }
                    ],
                    "surface": [
                      {
                        "colorbar": {
                          "outlinewidth": 0,
                          "ticks": ""
                        },
                        "colorscale": [
                          [
                            0,
                            "#0d0887"
                          ],
                          [
                            0.1111111111111111,
                            "#46039f"
                          ],
                          [
                            0.2222222222222222,
                            "#7201a8"
                          ],
                          [
                            0.3333333333333333,
                            "#9c179e"
                          ],
                          [
                            0.4444444444444444,
                            "#bd3786"
                          ],
                          [
                            0.5555555555555556,
                            "#d8576b"
                          ],
                          [
                            0.6666666666666666,
                            "#ed7953"
                          ],
                          [
                            0.7777777777777778,
                            "#fb9f3a"
                          ],
                          [
                            0.8888888888888888,
                            "#fdca26"
                          ],
                          [
                            1,
                            "#f0f921"
                          ]
                        ],
                        "type": "surface"
                      }
                    ],
                    "table": [
                      {
                        "cells": {
                          "fill": {
                            "color": "#EBF0F8"
                          },
                          "line": {
                            "color": "white"
                          }
                        },
                        "header": {
                          "fill": {
                            "color": "#C8D4E3"
                          },
                          "line": {
                            "color": "white"
                          }
                        },
                        "type": "table"
                      }
                    ]
                  },
                  "layout": {
                    "annotationdefaults": {
                      "arrowcolor": "#2a3f5f",
                      "arrowhead": 0,
                      "arrowwidth": 1
                    },
                    "autotypenumbers": "strict",
                    "coloraxis": {
                      "colorbar": {
                        "outlinewidth": 0,
                        "ticks": ""
                      }
                    },
                    "colorscale": {
                      "diverging": [
                        [
                          0,
                          "#8e0152"
                        ],
                        [
                          0.1,
                          "#c51b7d"
                        ],
                        [
                          0.2,
                          "#de77ae"
                        ],
                        [
                          0.3,
                          "#f1b6da"
                        ],
                        [
                          0.4,
                          "#fde0ef"
                        ],
                        [
                          0.5,
                          "#f7f7f7"
                        ],
                        [
                          0.6,
                          "#e6f5d0"
                        ],
                        [
                          0.7,
                          "#b8e186"
                        ],
                        [
                          0.8,
                          "#7fbc41"
                        ],
                        [
                          0.9,
                          "#4d9221"
                        ],
                        [
                          1,
                          "#276419"
                        ]
                      ],
                      "sequential": [
                        [
                          0,
                          "#0d0887"
                        ],
                        [
                          0.1111111111111111,
                          "#46039f"
                        ],
                        [
                          0.2222222222222222,
                          "#7201a8"
                        ],
                        [
                          0.3333333333333333,
                          "#9c179e"
                        ],
                        [
                          0.4444444444444444,
                          "#bd3786"
                        ],
                        [
                          0.5555555555555556,
                          "#d8576b"
                        ],
                        [
                          0.6666666666666666,
                          "#ed7953"
                        ],
                        [
                          0.7777777777777778,
                          "#fb9f3a"
                        ],
                        [
                          0.8888888888888888,
                          "#fdca26"
                        ],
                        [
                          1,
                          "#f0f921"
                        ]
                      ],
                      "sequentialminus": [
                        [
                          0,
                          "#0d0887"
                        ],
                        [
                          0.1111111111111111,
                          "#46039f"
                        ],
                        [
                          0.2222222222222222,
                          "#7201a8"
                        ],
                        [
                          0.3333333333333333,
                          "#9c179e"
                        ],
                        [
                          0.4444444444444444,
                          "#bd3786"
                        ],
                        [
                          0.5555555555555556,
                          "#d8576b"
                        ],
                        [
                          0.6666666666666666,
                          "#ed7953"
                        ],
                        [
                          0.7777777777777778,
                          "#fb9f3a"
                        ],
                        [
                          0.8888888888888888,
                          "#fdca26"
                        ],
                        [
                          1,
                          "#f0f921"
                        ]
                      ]
                    },
                    "colorway": [
                      "#636efa",
                      "#EF553B",
                      "#00cc96",
                      "#ab63fa",
                      "#FFA15A",
                      "#19d3f3",
                      "#FF6692",
                      "#B6E880",
                      "#FF97FF",
                      "#FECB52"
                    ],
                    "font": {
                      "color": "#2a3f5f"
                    },
                    "geo": {
                      "bgcolor": "white",
                      "lakecolor": "white",
                      "landcolor": "#E5ECF6",
                      "showlakes": true,
                      "showland": true,
                      "subunitcolor": "white"
                    },
                    "hoverlabel": {
                      "align": "left"
                    },
                    "hovermode": "closest",
                    "mapbox": {
                      "style": "light"
                    },
                    "paper_bgcolor": "white",
                    "plot_bgcolor": "#E5ECF6",
                    "polar": {
                      "angularaxis": {
                        "gridcolor": "white",
                        "linecolor": "white",
                        "ticks": ""
                      },
                      "bgcolor": "#E5ECF6",
                      "radialaxis": {
                        "gridcolor": "white",
                        "linecolor": "white",
                        "ticks": ""
                      }
                    },
                    "scene": {
                      "xaxis": {
                        "backgroundcolor": "#E5ECF6",
                        "gridcolor": "white",
                        "gridwidth": 2,
                        "linecolor": "white",
                        "showbackground": true,
                        "ticks": "",
                        "zerolinecolor": "white"
                      },
                      "yaxis": {
                        "backgroundcolor": "#E5ECF6",
                        "gridcolor": "white",
                        "gridwidth": 2,
                        "linecolor": "white",
                        "showbackground": true,
                        "ticks": "",
                        "zerolinecolor": "white"
                      },
                      "zaxis": {
                        "backgroundcolor": "#E5ECF6",
                        "gridcolor": "white",
                        "gridwidth": 2,
                        "linecolor": "white",
                        "showbackground": true,
                        "ticks": "",
                        "zerolinecolor": "white"
                      }
                    },
                    "shapedefaults": {
                      "line": {
                        "color": "#2a3f5f"
                      }
                    },
                    "ternary": {
                      "aaxis": {
                        "gridcolor": "white",
                        "linecolor": "white",
                        "ticks": ""
                      },
                      "baxis": {
                        "gridcolor": "white",
                        "linecolor": "white",
                        "ticks": ""
                      },
                      "bgcolor": "#E5ECF6",
                      "caxis": {
                        "gridcolor": "white",
                        "linecolor": "white",
                        "ticks": ""
                      }
                    },
                    "title": {
                      "x": 0.05
                    },
                    "xaxis": {
                      "automargin": true,
                      "gridcolor": "white",
                      "linecolor": "white",
                      "ticks": "",
                      "title": {
                        "standoff": 15
                      },
                      "zerolinecolor": "white",
                      "zerolinewidth": 2
                    },
                    "yaxis": {
                      "automargin": true,
                      "gridcolor": "white",
                      "linecolor": "white",
                      "ticks": "",
                      "title": {
                        "standoff": 15
                      },
                      "zerolinecolor": "white",
                      "zerolinewidth": 2
                    }
                  }
                },
                "title": {
                  "text": "Total Sold Products by Type"
                },
                "width": 700,
                "xaxis": {
                  "anchor": "y",
                  "domain": [
                    0,
                    1
                  ],
                  "title": {
                    "text": "Product Type"
                  }
                },
                "yaxis": {
                  "anchor": "x",
                  "domain": [
                    0,
                    1
                  ],
                  "title": {
                    "text": "Total Sold"
                  }
                }
              }
            }
          },
          "metadata": {},
          "output_type": "display_data"
        }
      ],
      "source": [
        "#Vẽ bar chart cho Total_sold theo Type\n",
        "import plotly.express as px\n",
        "\n",
        "sum_total = data.groupby('Type')['Total_sold'].sum().reset_index()\n",
        "\n",
        "# Vẽ biểu đồ histogram sử dụng Plotly Express\n",
        "fig = px.bar(sum_total, x='Type', y='Total_sold', \n",
        "             title='Total Sold Products by Type',\n",
        "             labels={'Total_sold': 'Total Sold', 'Type': 'Product Type'})\n",
        "\n",
        "# Chỉnh lại kích thước của biểu đồ\n",
        "fig.update_layout(\n",
        "    width=700,\n",
        "    height=500\n",
        ")\n",
        "\n",
        "# Hiển thị biểu đồ\n",
        "fig.show()"
      ]
    },
    {
      "cell_type": "markdown",
      "metadata": {},
      "source": [
        "Dựa vào histogram: mặt hàng điện thoại, tivi, laptop (0,2,4) được bán ít hơn so với mặt hàng quần áo, tivi, laptop (1,3,5)"
      ]
    },
    {
      "cell_type": "code",
      "execution_count": 28,
      "metadata": {},
      "outputs": [
        {
          "data": {
            "image/png": "[encoded data removed]",
            "text/plain": [
              "<Figure size 2000x1500 with 10 Axes>"
            ]
          },
          "metadata": {},
          "output_type": "display_data"
        }
      ],
      "source": [
        "#Các cột cần vẽ scatter với Total_sold\n",
        "columns = [col for col in data.columns if col != 'Total_sold']\n",
        "\n",
        "# ạo một figure với kích thước phù hợp\n",
        "fig, axes = plt.subplots(nrows=3, ncols=4, figsize=(20, 15))\n",
        "\n",
        "#Chuyển đổi axes thành mảng 1 chiều để dễ truy cập\n",
        "axes = axes.flatten()\n",
        "\n",
        "#Vẽ biểu đồ scatter\n",
        "for i, column in enumerate(columns):\n",
        "    axes[i].scatter(data['Total_sold'], data[column])\n",
        "    axes[i].set_xlabel('Total_sold')\n",
        "    axes[i].set_ylabel(column)\n",
        "    axes[i].set_title(f'Total_sold & {column}')\n",
        "\n",
        "#Xóa các subplot thừa \n",
        "for j in range(len(columns), len(axes)):\n",
        "    fig.delaxes(axes[j])\n",
        "\n",
        "plt.show()"
      ]
    },
    {
      "cell_type": "markdown",
      "metadata": {},
      "source": [
        "- Total_sold & Price_sale, Price_original: phân tán dày đặc ở giá trị thấp. Điều này thể hiện khi giá càng cao, số lượng bán ra càng giảm.\n",
        "\n",
        "- Total_sold & Sale_off: số lượng bán ra cao khi có giảm giá, nhưng mối quan hệ không hoàn toàn tuyến tính.\n",
        "\n",
        "- Total_sold & stars: số lượng đánh giá sao cao (4,5 sao) có xu hướng tương quan với số lượng bán ra cao hơn."
      ]
    },
    {
      "cell_type": "code",
      "execution_count": 31,
      "metadata": {},
      "outputs": [
        {
          "data": {
            "image/png": "[encoded data removed]",
            "text/plain": [
              "<Figure size 1200x600 with 1 Axes>"
            ]
          },
          "metadata": {},
          "output_type": "display_data"
        }
      ],
      "source": [
        "# Vẽ Box Plot: so sánh price_sale giữa các loại sản phẩm với nhau (type)\n",
        "plt.figure(figsize=(12, 6))\n",
        "sns.boxplot(x='Type', y='Price_sale', data=data)\n",
        "plt.title('So sánh Price_sale giữa các Type sản phẩm')\n",
        "plt.xlabel('Type sản phẩm')\n",
        "plt.ylabel('Price_sale')\n",
        "plt.xticks(rotation=45)\n",
        "plt.show()"
      ]
    },
    {
      "cell_type": "markdown",
      "metadata": {},
      "source": [
        "\n",
        "* Nhìn chung giá bán của điện thoại, tivi, laptop cao hơn và biến động nhiều hơn so với trang sức, quần áo, giày dép.\n"
      ]
    },
    {
      "cell_type": "code",
      "execution_count": 40,
      "metadata": {},
      "outputs": [
        {
          "data": {
            "image/png": "[encoded data removed]",
            "text/plain": [
              "<Figure size 1000x500 with 1 Axes>"
            ]
          },
          "metadata": {},
          "output_type": "display_data"
        }
      ],
      "source": [
        "# Tính giá trung bình cho mỗi loại sản phẩm\n",
        "df_mean = data.groupby('Type')[['Price_sale', 'Price_original']].mean().reset_index()\n",
        "\n",
        "# Vẽ biểu đồ line plot\n",
        "plt.figure(figsize=(10, 5))\n",
        "plt.plot(df_mean['Type'], df_mean['Price_sale'], marker='o', label='Price Sale')\n",
        "plt.plot(df_mean['Type'], df_mean['Price_original'], marker='o', label='Price Original')\n",
        "\n",
        "# Thêm tiêu đề và nhãn trục\n",
        "plt.title('So sánh giá gốc và giá bán theo từng loại sản phẩm')\n",
        "plt.xlabel('Loại sản phẩm')\n",
        "plt.ylabel('Giá (Average)')\n",
        "plt.legend()\n",
        "\n",
        "# Hiển thị biểu đồ\n",
        "plt.show()"
      ]
    },
    {
      "cell_type": "markdown",
      "metadata": {},
      "source": [
        "- Đối với loại sản phầm 1,3,5 (giày dép, quần áo, trang sức) cả giá bán và giá gốc đều thấp và ổn định.\n",
        "\n",
        "- Trong khi với loại sản phẩm 0,3,5 (điện thoại, laptop, tivi) có giá đều cao và có xu hướng giá gốc luôn cao hơn nhiều so với giá bán.\n",
        "\n",
        "- Điều này có thể cho thấy sự giảm giá hoặc chiết khấu nhiều đối với các sản phẩm có giá trị cao."
      ]
    },
    {
      "cell_type": "markdown",
      "metadata": {},
      "source": [
        "#### 3.4 Draw Causal Graph and Scaling numerical features"
      ]
    },
    {
      "cell_type": "markdown",
      "metadata": {},
      "source": [
        "Determine the relationships between the independent variables: use **causal graph**"
      ]
    },
    {
      "cell_type": "code",
      "execution_count": 32,
      "metadata": {},
      "outputs": [
        {
          "data": {
            "image/png": "[encoded data removed]",
            "text/plain": [
              "<Figure size 1000x600 with 1 Axes>"
            ]
          },
          "metadata": {},
          "output_type": "display_data"
        }
      ],
      "source": [
        "#Vẽ đồ thị nhân quả\n",
        "import networkx as nx \n",
        "\n",
        "#Giả sử tất cả các biến độc lập có ảnh hưởng đến Total_sold\n",
        "causal_graph = nx.DiGraph()\n",
        "causal_graph.add_edges_from([\n",
        "    ('Type', 'Total_sold'),\n",
        "    ('Price_sale', 'Total_sold'),\n",
        "    ('Sale_off', 'Total_sold'),\n",
        "    ('Preview', 'Total_sold'),\n",
        "    ('Price_original', 'Total_sold'),\n",
        "    ('One_star', 'Total_sold'),\n",
        "    ('Two_star', 'Total_sold'),\n",
        "    ('Three_star', 'Total_sold'),\n",
        "    ('Four_star', 'Total_sold'),\n",
        "    ('Five_star', 'Total_sold')\n",
        "])\n",
        "\n",
        "plt.figure(figsize=(10,6))\n",
        "\n",
        "pos = nx.spring_layout(causal_graph, seed=42)           #Thiết lập layout của đồ thị\n",
        "nx.draw_networkx_nodes(causal_graph, pos, node_size=1000, node_color='lightblue')          #Vẽ các nút\n",
        "nx.draw_networkx_edges(causal_graph, pos, arrows=True)                                     #Vẽ các cạnh\n",
        "nx.draw_networkx_labels(causal_graph, pos, font_size=12, font_family='sans-serif', font_color='black')    #Vẽ nhãn của các nút\n",
        "plt.title('Causal Graph')\n",
        "plt.axis('off')\n",
        "plt.show()"
      ]
    },
    {
      "cell_type": "code",
      "execution_count": 33,
      "metadata": {},
      "outputs": [],
      "source": [
        "#Scaling numerical features\n",
        "\n",
        "#Split data into features (X) and the target variable (Y): Total_sold\n",
        "X = data.drop(columns=['Total_sold'])\n",
        "y = data['Total_sold']\n",
        "\n",
        "#Scale X\n",
        "from sklearn.preprocessing import StandardScaler\n",
        "sc = StandardScaler()\n",
        "X_sc = sc.fit_transform(X)\n",
        "\n",
        "#Convert data to dataframe\n",
        "col = X.columns\n",
        "X_std = pd.DataFrame(X_sc, columns=col)"
      ]
    },
    {
      "cell_type": "markdown",
      "metadata": {},
      "source": [
        "#### 3.5 **Causal inference method**: using model"
      ]
    },
    {
      "cell_type": "code",
      "execution_count": 34,
      "metadata": {},
      "outputs": [],
      "source": [
        "#Split data into training and testing sets\n",
        "from sklearn.model_selection import train_test_split\n",
        "X_train, X_test, y_train, y_test = train_test_split(X_std, y, train_size=0.8, test_size=0.2, random_state=101)"
      ]
    },
    {
      "cell_type": "markdown",
      "metadata": {},
      "source": [
        "##### 3.5.a **Linear regression**"
      ]
    },
    {
      "cell_type": "code",
      "execution_count": 35,
      "metadata": {},
      "outputs": [
        {
          "data": {
            "text/html": [
              "<style>#sk-container-id-1 {color: black;background-color: white;}#sk-container-id-1 pre{padding: 0;}#sk-container-id-1 div.sk-toggleable {background-color: white;}#sk-container-id-1 label.sk-toggleable__label {cursor: pointer;display: block;width: 100%;margin-bottom: 0;padding: 0.3em;box-sizing: border-box;text-align: center;}#sk-container-id-1 label.sk-toggleable__label-arrow:before {content: \"▸\";float: left;margin-right: 0.25em;color: #696969;}#sk-container-id-1 label.sk-toggleable__label-arrow:hover:before {color: black;}#sk-container-id-1 div.sk-estimator:hover label.sk-toggleable__label-arrow:before {color: black;}#sk-container-id-1 div.sk-toggleable__content {max-height: 0;max-width: 0;overflow: hidden;text-align: left;background-color: #f0f8ff;}#sk-container-id-1 div.sk-toggleable__content pre {margin: 0.2em;color: black;border-radius: 0.25em;background-color: #f0f8ff;}#sk-container-id-1 input.sk-toggleable__control:checked~div.sk-toggleable__content {max-height: 200px;max-width: 100%;overflow: auto;}#sk-container-id-1 input.sk-toggleable__control:checked~label.sk-toggleable__label-arrow:before {content: \"▾\";}#sk-container-id-1 div.sk-estimator input.sk-toggleable__control:checked~label.sk-toggleable__label {background-color: #d4ebff;}#sk-container-id-1 div.sk-label input.sk-toggleable__control:checked~label.sk-toggleable__label {background-color: #d4ebff;}#sk-container-id-1 input.sk-hidden--visually {border: 0;clip: rect(1px 1px 1px 1px);clip: rect(1px, 1px, 1px, 1px);height: 1px;margin: -1px;overflow: hidden;padding: 0;position: absolute;width: 1px;}#sk-container-id-1 div.sk-estimator {font-family: monospace;background-color: #f0f8ff;border: 1px dotted black;border-radius: 0.25em;box-sizing: border-box;margin-bottom: 0.5em;}#sk-container-id-1 div.sk-estimator:hover {background-color: #d4ebff;}#sk-container-id-1 div.sk-parallel-item::after {content: \"\";width: 100%;border-bottom: 1px solid gray;flex-grow: 1;}#sk-container-id-1 div.sk-label:hover label.sk-toggleable__label {background-color: #d4ebff;}#sk-container-id-1 div.sk-serial::before {content: \"\";position: absolute;border-left: 1px solid gray;box-sizing: border-box;top: 0;bottom: 0;left: 50%;z-index: 0;}#sk-container-id-1 div.sk-serial {display: flex;flex-direction: column;align-items: center;background-color: white;padding-right: 0.2em;padding-left: 0.2em;position: relative;}#sk-container-id-1 div.sk-item {position: relative;z-index: 1;}#sk-container-id-1 div.sk-parallel {display: flex;align-items: stretch;justify-content: center;background-color: white;position: relative;}#sk-container-id-1 div.sk-item::before, #sk-container-id-1 div.sk-parallel-item::before {content: \"\";position: absolute;border-left: 1px solid gray;box-sizing: border-box;top: 0;bottom: 0;left: 50%;z-index: -1;}#sk-container-id-1 div.sk-parallel-item {display: flex;flex-direction: column;z-index: 1;position: relative;background-color: white;}#sk-container-id-1 div.sk-parallel-item:first-child::after {align-self: flex-end;width: 50%;}#sk-container-id-1 div.sk-parallel-item:last-child::after {align-self: flex-start;width: 50%;}#sk-container-id-1 div.sk-parallel-item:only-child::after {width: 0;}#sk-container-id-1 div.sk-dashed-wrapped {border: 1px dashed gray;margin: 0 0.4em 0.5em 0.4em;box-sizing: border-box;padding-bottom: 0.4em;background-color: white;}#sk-container-id-1 div.sk-label label {font-family: monospace;font-weight: bold;display: inline-block;line-height: 1.2em;}#sk-container-id-1 div.sk-label-container {text-align: center;}#sk-container-id-1 div.sk-container {/* jupyter's `normalize.less` sets `[hidden] { display: none; }` but bootstrap.min.css set `[hidden] { display: none !important; }` so we also need the `!important` here to be able to override the default hidden behavior on the sphinx rendered scikit-learn.org. See: https://github.com/scikit-learn/scikit-learn/issues/21755 */display: inline-block !important;position: relative;}#sk-container-id-1 div.sk-text-repr-fallback {display: none;}</style><div id=\"sk-container-id-1\" class=\"sk-top-container\"><div class=\"sk-text-repr-fallback\"><pre>LinearRegression()</pre><b>In a Jupyter environment, please rerun this cell to show the HTML representation or trust the notebook. <br />On GitHub, the HTML representation is unable to render, please try loading this page with nbviewer.org.</b></div><div class=\"sk-container\" hidden><div class=\"sk-item\"><div class=\"sk-estimator sk-toggleable\"><input class=\"sk-toggleable__control sk-hidden--visually\" id=\"sk-estimator-id-1\" type=\"checkbox\" checked><label for=\"sk-estimator-id-1\" class=\"sk-toggleable__label sk-toggleable__label-arrow\">LinearRegression</label><div class=\"sk-toggleable__content\"><pre>LinearRegression()</pre></div></div></div></div></div>"
            ],
            "text/plain": [
              "LinearRegression()"
            ]
          },
          "execution_count": 35,
          "metadata": {},
          "output_type": "execute_result"
        }
      ],
      "source": [
        "from sklearn.linear_model import LinearRegression\n",
        "model_regression = LinearRegression()\n",
        "model_regression.fit(X_train, y_train)"
      ]
    },
    {
      "cell_type": "code",
      "execution_count": 36,
      "metadata": {},
      "outputs": [
        {
          "data": {
            "text/html": [
              "<div>\n",
              "<style scoped>\n",
              "    .dataframe tbody tr th:only-of-type {\n",
              "        vertical-align: middle;\n",
              "    }\n",
              "\n",
              "    .dataframe tbody tr th {\n",
              "        vertical-align: top;\n",
              "    }\n",
              "\n",
              "    .dataframe thead th {\n",
              "        text-align: right;\n",
              "    }\n",
              "</style>\n",
              "<table border=\"1\" class=\"dataframe\">\n",
              "  <thead>\n",
              "    <tr style=\"text-align: right;\">\n",
              "      <th></th>\n",
              "      <th>Train</th>\n",
              "      <th>Test</th>\n",
              "    </tr>\n",
              "  </thead>\n",
              "  <tbody>\n",
              "    <tr>\n",
              "      <th>MSE</th>\n",
              "      <td>714648.907</td>\n",
              "      <td>248912.160</td>\n",
              "    </tr>\n",
              "    <tr>\n",
              "      <th>MAE</th>\n",
              "      <td>194.180</td>\n",
              "      <td>204.625</td>\n",
              "    </tr>\n",
              "    <tr>\n",
              "      <th>Score</th>\n",
              "      <td>0.713</td>\n",
              "      <td>0.895</td>\n",
              "    </tr>\n",
              "  </tbody>\n",
              "</table>\n",
              "</div>"
            ],
            "text/plain": [
              "            Train        Test\n",
              "MSE    714648.907  248912.160\n",
              "MAE       194.180     204.625\n",
              "Score       0.713       0.895"
            ]
          },
          "execution_count": 36,
          "metadata": {},
          "output_type": "execute_result"
        }
      ],
      "source": [
        "#MAE, MSE and Score\n",
        "from sklearn.metrics import r2_score\n",
        "from sklearn.metrics import mean_squared_error\n",
        "from sklearn.metrics import mean_absolute_error\n",
        "\n",
        "#Create dataframe: MAE, MSE, Score\n",
        "\n",
        "#Train: using model.score: evaluate performance on the training set\n",
        "#Test: using r2_score: evaluate performance on a separate test data set\n",
        "evl_train_regression = [mean_squared_error(model_regression.predict(X_train), y_train),\n",
        "             mean_absolute_error(model_regression.predict(X_train), y_train),\n",
        "             model_regression.score(X_train, y_train)]\n",
        "\n",
        "evl_test_regression = [mean_squared_error(model_regression.predict(X_test), y_test),\n",
        "            mean_absolute_error(model_regression.predict(X_test), y_test),\n",
        "            r2_score(y_test, model_regression.predict(X_test))]\n",
        "\n",
        "evl_regression = pd.DataFrame([evl_train_regression, evl_test_regression], index=['Train', 'Test'], columns=['MSE', 'MAE', 'Score']).T\n",
        "evl_regression = evl_regression.round(3)\n",
        "evl_regression"
      ]
    },
    {
      "cell_type": "markdown",
      "metadata": {},
      "source": [
        "- MSE: chênh lệch giữa train và test cho thấy mô hình đang overfitting -> cần kiểm tra và có thể sử dụng kỹ thuật hyperparameter tuning để cải thiện khả năng tổng quả hóa model.\n",
        "\n",
        "- MAE: chênh lệch nhỏ giữa train và test cho thấy model có độ chính xác trung bình tương đối ổn định, nhưng có một số outlier làm tăng MSE.\n",
        "\n",
        "- R2 Score của cả 2 tập train và test đều cao, cho thấy mô hình có khả năng giải thích tốt biến thiên của dữ liệu và hoạt động ổn định trên cả 2 tập."
      ]
    },
    {
      "cell_type": "code",
      "execution_count": 37,
      "metadata": {},
      "outputs": [
        {
          "name": "stdout",
          "output_type": "stream",
          "text": [
            "+----------------+----------+------------+--------+---------+----------+----------+\n",
            "|                |    Coef. |   Std.Err. |      t |   P>|t| |   [0.025 |   0.975] |\n",
            "|----------------+----------+------------+--------+---------+----------+----------|\n",
            "| const          |  464.7   |     14.487 | 32.078 |   0     |  436.296 |  493.103 |\n",
            "| Type           |   70.692 |     16.122 |  4.385 |   0     |   39.082 |  102.302 |\n",
            "| Price_sale     |   30.106 |     68.422 |  0.44  |   0.66  | -104.045 |  164.258 |\n",
            "| Sale_off       |   -5.825 |     17.574 | -0.331 |   0.74  |  -40.282 |   28.632 |\n",
            "| Preview        | 1291.23  |     58.058 | 22.24  |   0     | 1177.4   | 1405.06  |\n",
            "| Price_original |   20.763 |     65.744 |  0.316 |   0.752 | -108.139 |  149.666 |\n",
            "| One_star       |  -93.432 |     28.51  | -3.277 |   0.001 | -149.331 |  -37.533 |\n",
            "| Two_star       | -197.416 |     41.46  | -4.762 |   0     | -278.705 | -116.127 |\n",
            "| Three_star     |   89.439 |     44.202 |  2.023 |   0.043 |    2.774 |  176.104 |\n",
            "| Four_star      |  391.728 |     40.809 |  9.599 |   0     |  311.716 |  471.74  |\n",
            "| Five_star      | -149.662 |     57.504 | -2.603 |   0.009 | -262.407 |  -36.917 |\n",
            "+----------------+----------+------------+--------+---------+----------+----------+\n"
          ]
        }
      ],
      "source": [
        "# Bước 3: Phân tích hệ số hồi quy\n",
        "# Thêm hằng số vào X_train để sử dụng với statsmodels\n",
        "import statsmodels.api as sm\n",
        "from tabulate import tabulate\n",
        "# Đặt tùy chọn hiển thị của pandas để hiển thị tất cả các cột\n",
        "pd.set_option('display.max_columns', None)\n",
        "pd.set_option('display.width', 1000)\n",
        "\n",
        "# Đặt lại chỉ số để đảm bảo căn chỉnh chính xác\n",
        "X_train = X_train.reset_index(drop=True)\n",
        "X_test = X_test.reset_index(drop=True)\n",
        "y_train = y_train.reset_index(drop=True)\n",
        "y_test = y_test.reset_index(drop=True)\n",
        "\n",
        "X_train_sm = sm.add_constant(X_train)  # Thêm hằng số cho mô hình\n",
        "ols_model = sm.OLS(y_train, X_train_sm).fit()\n",
        "# print(ols_model.summary())\n",
        "\n",
        "# Bước 3: Chuyển đổi summary thành DataFrame\n",
        "summary = ols_model.summary2().tables[1]\n",
        "\n",
        "# Bước 4: Hiển thị kết quả dưới dạng bảng \n",
        "print(tabulate(summary.round(3), headers='keys', tablefmt='psql'))"
      ]
    },
    {
      "cell_type": "markdown",
      "metadata": {},
      "source": [
        "- Giải thích các cột:\n",
        "\n",
        "    * **Coef. (Coefficient)**: hệ số hồi quy của từng biến độc lập.\n",
        "\n",
        "    * **Std.Err.(Standard Error)**: sai số chuẩn của hệ số hồi quy.\n",
        "\n",
        "    * **t**: giá trị t tính từ hệ số hồi quy và sai số chuẩn, dùng để kiểm định ý nghĩa thống kê của hệ số hồi quy.\n",
        "\n",
        "    * **P>|t|**: P-value nhỏ hơn mức ý nghĩa (thường là 0.05) cho thấy hệ số hồi quy có ý nghĩa thống kê.\n",
        "    \n",
        "    * **[0.025, 0.975]**: khoảng tin cậy 95% của hệ số hồi quy."
      ]
    },
    {
      "cell_type": "markdown",
      "metadata": {},
      "source": [
        "- **Tổng kết**: \n",
        "\n",
        "    * Biến có ý nghĩa thống kê cao: Type, Preview, One_star, Two_star, Three_star, Four_star, Five_star. -> Các biến này có ảnh hưởng đáng kể đến Total_sold.\n",
        "\n",
        "    * Biến không có ý nghĩa thống kê: Price_sale, Sale_off, Price_original. Các biến này không có ảnh hưởng đáng kể đến Total_sold.\n",
        "    \n",
        "    * Hệ số âm và dương: Biến có hệ số dương cho thấy mối quan hệ đồng biến (khi giá trị của biến tăng, Total_sold tăng) và biến có hệ số âm cho thấy mối quan hệ nghịch biến (khi giá trị của biến tăng, Total_sold giảm)."
      ]
    },
    {
      "cell_type": "markdown",
      "metadata": {},
      "source": [
        "Vậy tổng số lượng bán ra của từng sản phẩm bị ảnh hưởng bởi loại sản phẩm, và số lượt đánh giá sản phẩm đó."
      ]
    },
    {
      "cell_type": "code",
      "execution_count": null,
      "metadata": {},
      "outputs": [],
      "source": []
    }
  ],
  "metadata": {
    "colab": {
      "provenance": []
    },
    "kernelspec": {
      "display_name": "Python 3 (ipykernel)",
      "language": "python",
      "name": "python3"
    },
    "language_info": {
      "codemirror_mode": {
        "name": "ipython",
        "version": 3
      },
      "file_extension": ".py",
      "mimetype": "text/x-python",
      "name": "python",
      "nbconvert_exporter": "python",
      "pygments_lexer": "ipython3",
      "version": "3.11.7"
    }
  },
  "nbformat": 4,
  "nbformat_minor": 0
}
