{
  "cells": [
    {
      "cell_type": "markdown",
      "metadata": {
        "id": "stOeTj-HXpgH"
      },
      "source": [
        "# **FINAL PROJECT: 03**\n",
        "### 22KDL - TEAM15\n"
      ]
    },
    {
      "cell_type": "markdown",
      "metadata": {
        "id": "V-WMa9vlXpgJ"
      },
      "source": [
        "<table width=\"100%\" style=\"border:0px;\">\n",
        "    <tr style=\"font-size: 10pt\">\n",
        "        <td><b>Name:</b> Huỳnh Thảo Quỳnh</td>\n",
        "        <td><b>MSSV:</b> 22280075</td>\n",
        "    </tr>\n",
        "    <tr style=\"font-size: 10pt\">\n",
        "        <td><b>Name:</b> Lê Thanh Sang</td>\n",
        "        <td><b>MSSV:</b> 22280076</td>\n",
        "    </tr>\n",
        "    <tr style=\"font-size: 10pt\">\n",
        "        <td><b>Name:</b> Đinh Xuân Khang</td>\n",
        "        <td><b>MSSV:</b> 22280042</td>\n",
        "    </tr>\n",
        "</table>\n"
      ]
    },
    {
      "cell_type": "markdown",
      "metadata": {
        "id": "LnM3aAEjXpgK"
      },
      "source": [
        "**HYPOTHESIS**: Tổng số lượt bán của từng sản phẩm bị ảnh hưởng bởi nhiều yếu tố."
      ]
    },
    {
      "cell_type": "markdown",
      "metadata": {
        "id": "3104VAoyXpgL"
      },
      "source": [
        "**Phân tích đề bài**"
      ]
    },
    {
      "cell_type": "markdown",
      "metadata": {
        "id": "Z3MUSSdGX8TY"
      },
      "source": [
        "**Data collection**\n",
        "- Lazada:\n",
        "   * thời trang: quần áo, giày dép, trang sức\n",
        "   * điện tử: điện thoại, laptop, tivi\n",
        "- Features cần thu thập:\n",
        "  * **Type**:     danh mục\n",
        "  * **Title**:    tên sản phẩm\n",
        "  * **Link**\n",
        "  * **Price_sale**: giá sau khi được giảm giá\n",
        "  * **Sale_off**: phần trăm giảm giá\n",
        "  * **Total_sold**: tổng số lượt mua\n",
        "  * **Preview**: tổng số lượt đánh giá\n",
        "  * **Location**: địa điểm\n",
        "  * **Price_original**: giá ban đầu\n",
        "  * **Ship_price**: tiền ship\n",
        "  * **Return**: chính sách trả hàng\n",
        "  * **Sale_rating**: phần trăm đơn hàng được đánh giá tích cực\n",
        "  * **Ship_on_time**: phần trăm đơn hàng được ship đúng thời gian\n",
        "  * **Chat_response**: phần trăm khả năng phản hồi của người bán\n",
        "  * **One_star**: tổng số lượt đánh giá 1 sao\n",
        "  * **Two_star**: tổng số lượt đánh giá 2 sao\n",
        "  * **Three_star**: tổng số lượt đánh giá 3 sao\n",
        "  * **Four_star**: tổng số lượt đánh giá 4 sao\n",
        "  * **Five_star**: tổng số lượt đánh giá 5 sao\n",
        "\n"
      ]
    },
    {
      "cell_type": "markdown",
      "metadata": {
        "id": "_m7qFalM3EJ-"
      },
      "source": [
        "### **I/ Crawl data from the web (text, HTML) that is relevant to your hypothesis.**"
      ]
    },
    {
      "cell_type": "markdown",
      "metadata": {
        "id": "0_-eLoSz3OIc"
      },
      "source": []
    },
    {
      "cell_type": "markdown",
      "metadata": {},
      "source": [
        "### **II/ Use a Large Language Model (LLM) to parse this unstructured data into features.**"
      ]
    },
    {
      "cell_type": "markdown",
      "metadata": {},
      "source": []
    },
    {
      "cell_type": "markdown",
      "metadata": {},
      "source": [
        "### **III/ Apply causal inference techniques to test your hypothesis.**"
      ]
    },
    {
      "cell_type": "markdown",
      "metadata": {},
      "source": [
        "#### 3.1 Handling missing values"
      ]
    },
    {
      "cell_type": "code",
      "execution_count": 244,
      "metadata": {},
      "outputs": [],
      "source": [
        "import pandas as pd\n",
        "import numpy as np\n",
        "from unidecode import unidecode"
      ]
    },
    {
      "cell_type": "code",
      "execution_count": 245,
      "metadata": {},
      "outputs": [
        {
          "data": {
            "text/html": [
              "<div>\n",
              "<style scoped>\n",
              "    .dataframe tbody tr th:only-of-type {\n",
              "        vertical-align: middle;\n",
              "    }\n",
              "\n",
              "    .dataframe tbody tr th {\n",
              "        vertical-align: top;\n",
              "    }\n",
              "\n",
              "    .dataframe thead th {\n",
              "        text-align: right;\n",
              "    }\n",
              "</style>\n",
              "<table border=\"1\" class=\"dataframe\">\n",
              "  <thead>\n",
              "    <tr style=\"text-align: right;\">\n",
              "      <th></th>\n",
              "      <th>Type</th>\n",
              "      <th>Price_sale</th>\n",
              "      <th>Sale_off</th>\n",
              "      <th>Total_sold</th>\n",
              "      <th>Preview</th>\n",
              "      <th>Location</th>\n",
              "      <th>Price_original</th>\n",
              "      <th>Ship_price</th>\n",
              "      <th>Sale_rating</th>\n",
              "      <th>Ship_on_time</th>\n",
              "      <th>Chat_response</th>\n",
              "      <th>One_star</th>\n",
              "      <th>Two_star</th>\n",
              "      <th>Three_star</th>\n",
              "      <th>Four_star</th>\n",
              "      <th>Five_star</th>\n",
              "    </tr>\n",
              "  </thead>\n",
              "  <tbody>\n",
              "    <tr>\n",
              "      <th>0</th>\n",
              "      <td>quần áo</td>\n",
              "      <td>35891</td>\n",
              "      <td>64.0</td>\n",
              "      <td>3000.0</td>\n",
              "      <td>1022.0</td>\n",
              "      <td>Hồ Chí Minh</td>\n",
              "      <td>100000.0</td>\n",
              "      <td>16500.0</td>\n",
              "      <td>97.0</td>\n",
              "      <td>100.0</td>\n",
              "      <td>100.0</td>\n",
              "      <td>20.0</td>\n",
              "      <td>7.0</td>\n",
              "      <td>27.0</td>\n",
              "      <td>36.0</td>\n",
              "      <td>932.0</td>\n",
              "    </tr>\n",
              "    <tr>\n",
              "      <th>1</th>\n",
              "      <td>quần áo</td>\n",
              "      <td>25000</td>\n",
              "      <td>50.0</td>\n",
              "      <td>907.0</td>\n",
              "      <td>241.0</td>\n",
              "      <td>Hồ Chí Minh</td>\n",
              "      <td>71998.0</td>\n",
              "      <td>16500.0</td>\n",
              "      <td>91.0</td>\n",
              "      <td>100.0</td>\n",
              "      <td>50.0</td>\n",
              "      <td>5.0</td>\n",
              "      <td>2.0</td>\n",
              "      <td>6.0</td>\n",
              "      <td>7.0</td>\n",
              "      <td>222.0</td>\n",
              "    </tr>\n",
              "    <tr>\n",
              "      <th>2</th>\n",
              "      <td>quần áo</td>\n",
              "      <td>79000</td>\n",
              "      <td>43.0</td>\n",
              "      <td>961.0</td>\n",
              "      <td>260.0</td>\n",
              "      <td>Hà Nội</td>\n",
              "      <td>139000.0</td>\n",
              "      <td>32700.0</td>\n",
              "      <td>92.0</td>\n",
              "      <td>99.0</td>\n",
              "      <td>33.0</td>\n",
              "      <td>11.0</td>\n",
              "      <td>8.0</td>\n",
              "      <td>8.0</td>\n",
              "      <td>16.0</td>\n",
              "      <td>218.0</td>\n",
              "    </tr>\n",
              "  </tbody>\n",
              "</table>\n",
              "</div>"
            ],
            "text/plain": [
              "      Type  Price_sale Sale_off Total_sold Preview     Location  \\\n",
              "0  quần áo       35891     64.0     3000.0  1022.0  Hồ Chí Minh   \n",
              "1  quần áo       25000     50.0      907.0   241.0  Hồ Chí Minh   \n",
              "2  quần áo       79000     43.0      961.0   260.0       Hà Nội   \n",
              "\n",
              "   Price_original Ship_price Sale_rating  Ship_on_time Chat_response  \\\n",
              "0        100000.0    16500.0        97.0         100.0         100.0   \n",
              "1         71998.0    16500.0        91.0         100.0          50.0   \n",
              "2        139000.0    32700.0        92.0          99.0          33.0   \n",
              "\n",
              "   One_star  Two_star  Three_star  Four_star  Five_star  \n",
              "0      20.0       7.0        27.0       36.0      932.0  \n",
              "1       5.0       2.0         6.0        7.0      222.0  \n",
              "2      11.0       8.0         8.0       16.0      218.0  "
            ]
          },
          "execution_count": 245,
          "metadata": {},
          "output_type": "execute_result"
        }
      ],
      "source": [
        "data = pd.read_csv(\"Final_Data_LLM.csv\")\n",
        "data.head(3)"
      ]
    },
    {
      "cell_type": "code",
      "execution_count": 246,
      "metadata": {},
      "outputs": [
        {
          "name": "stdout",
          "output_type": "stream",
          "text": [
            "<class 'pandas.core.frame.DataFrame'>\n",
            "RangeIndex: 7152 entries, 0 to 7151\n",
            "Data columns (total 16 columns):\n",
            " #   Column          Non-Null Count  Dtype  \n",
            "---  ------          --------------  -----  \n",
            " 0   Type            7152 non-null   object \n",
            " 1   Price_sale      7152 non-null   int64  \n",
            " 2   Sale_off        5306 non-null   object \n",
            " 3   Total_sold      5312 non-null   object \n",
            " 4   Preview         5435 non-null   object \n",
            " 5   Location        7152 non-null   object \n",
            " 6   Price_original  5755 non-null   float64\n",
            " 7   Ship_price      5905 non-null   object \n",
            " 8   Sale_rating     6489 non-null   object \n",
            " 9   Ship_on_time    5398 non-null   float64\n",
            " 10  Chat_response   6060 non-null   object \n",
            " 11  One_star        7152 non-null   float64\n",
            " 12  Two_star        7152 non-null   float64\n",
            " 13  Three_star      7152 non-null   float64\n",
            " 14  Four_star       7152 non-null   float64\n",
            " 15  Five_star       6887 non-null   float64\n",
            "dtypes: float64(7), int64(1), object(8)\n",
            "memory usage: 894.1+ KB\n"
          ]
        }
      ],
      "source": [
        "data.info()"
      ]
    },
    {
      "cell_type": "code",
      "execution_count": 247,
      "metadata": {},
      "outputs": [
        {
          "data": {
            "text/plain": [
              "Sale_off          1846\n",
              "Total_sold        1840\n",
              "Ship_on_time      1754\n",
              "Preview           1717\n",
              "Price_original    1397\n",
              "Ship_price        1247\n",
              "Chat_response     1092\n",
              "Sale_rating        663\n",
              "Five_star          265\n",
              "Type                 0\n",
              "Price_sale           0\n",
              "Location             0\n",
              "One_star             0\n",
              "Two_star             0\n",
              "Three_star           0\n",
              "Four_star            0\n",
              "dtype: int64"
            ]
          },
          "execution_count": 247,
          "metadata": {},
          "output_type": "execute_result"
        }
      ],
      "source": [
        "data.isnull().sum().sort_values(ascending=False)"
      ]
    },
    {
      "cell_type": "markdown",
      "metadata": {},
      "source": [
        "**Type & Location**"
      ]
    },
    {
      "cell_type": "code",
      "execution_count": 248,
      "metadata": {},
      "outputs": [
        {
          "name": "stdout",
          "output_type": "stream",
          "text": [
            "['quần áo' 'giày dép' 'Trang sức' 'Trang suc' 'dien thoai' 'laptop' 'tivi'] \n",
            "\n",
            "['Hồ Chí Minh' 'Hà Nội' 'Nam Định' 'Nước ngoài' 'Tiền Giang' 'Cần Thơ'\n",
            " 'Hà Nam' 'Trà Vinh' 'Thanh Hóa' 'Hưng Yên' 'Long An' 'Bến Tre' 'Phú Thọ'\n",
            " 'Lâm Đồng' 'Đồng Nai' 'Hải Dương' 'Cà Mau' 'Bắc Giang' 'Quảng Ngãi'\n",
            " 'Tây Ninh' 'Bình Định' 'Phú Yên' 'Bình Dương' 'Bắc Ninh' 'Đà Nẵng'\n",
            " 'Vĩnh Phúc' 'Ho Chi Minh' 'Ha Noi' 'Hai Duong' 'Nghệ An' 'Binh Duong'\n",
            " 'Hung Yen' 'Hai Phong' 'Da Nang' 'An Giang' 'Bac Ninh' 'Ben Tre'\n",
            " 'Vinh Phuc' 'Nam Dinh' 'Tien Giang' 'Dak Nong' 'Thai Binh' 'Dak Lak'\n",
            " 'Hanoi' 'Dong Nai' 'Thai Nguyen' 'Quang Tri' 'Thanh Hoa' 'Tay Ninh'\n",
            " 'Nuoc Ngoai' 'Phu Tho' 'Nuoc ngai' 'Thua Thien Hue' 'Thái Bình'\n",
            " 'Dong Thap' 'Ha Tinh' 'Phu Yen' 'Ba Ria Vung Tau' 'Bac Giang' 'Vinh Long'\n",
            " 'Quang Nam'] \n",
            "\n"
          ]
        }
      ],
      "source": [
        "#Chuyển các cột Type và Location thành không dấu\n",
        "print(data['Type'].unique(), \"\\n\")\n",
        "print(data['Location'].unique(), \"\\n\")"
      ]
    },
    {
      "cell_type": "code",
      "execution_count": 249,
      "metadata": {},
      "outputs": [],
      "source": [
        "#Chuyển cột Type\n",
        "data['Type'].replace(['quần áo'], 'quan ao', inplace=True)\n",
        "data['Type'].replace(['giày dép'], 'giay dep', inplace=True)\n",
        "data['Type'].replace(['Trang sức', 'Trang suc'], 'trang suc', inplace=True)"
      ]
    },
    {
      "cell_type": "code",
      "execution_count": 250,
      "metadata": {},
      "outputs": [
        {
          "data": {
            "text/plain": [
              "array(['Ho Chi Minh', 'Ha Noi', 'Nam Dinh', 'Nuoc ngoai', 'Tien Giang',\n",
              "       'Can Tho', 'Ha Nam', 'Tra Vinh', 'Thanh Hoa', 'Hung Yen',\n",
              "       'Long An', 'Ben Tre', 'Phu Tho', 'Lam Dong', 'Dong Nai',\n",
              "       'Hai Duong', 'Ca Mau', 'Bac Giang', 'Quang Ngai', 'Tay Ninh',\n",
              "       'Binh Dinh', 'Phu Yen', 'Binh Duong', 'Bac Ninh', 'Da Nang',\n",
              "       'Vinh Phuc', 'Nghe An', 'Hai Phong', 'An Giang', 'Dak Nong',\n",
              "       'Thai Binh', 'Dak Lak', 'Hanoi', 'Thai Nguyen', 'Quang Tri',\n",
              "       'Nuoc Ngoai', 'Nuoc ngai', 'Thua Thien Hue', 'Dong Thap',\n",
              "       'Ha Tinh', 'Ba Ria Vung Tau', 'Vinh Long', 'Quang Nam'],\n",
              "      dtype=object)"
            ]
          },
          "execution_count": 250,
          "metadata": {},
          "output_type": "execute_result"
        }
      ],
      "source": [
        "#Hàm chuyển đổi thành không dấu\n",
        "def remove_diacritics(text):\n",
        "    return unidecode(text)\n",
        "\n",
        "data['Location'] = data['Location'].apply(remove_diacritics)\n",
        "data['Location'].unique()"
      ]
    },
    {
      "cell_type": "code",
      "execution_count": 251,
      "metadata": {},
      "outputs": [
        {
          "data": {
            "text/plain": [
              "array(['Ho Chi Minh', 'Ha Noi', 'Nam Dinh', 'Nuoc Ngoai', 'Tien Giang',\n",
              "       'Can Tho', 'Ha Nam', 'Tra Vinh', 'Thanh Hoa', 'Hung Yen',\n",
              "       'Long An', 'Ben Tre', 'Phu Tho', 'Lam Dong', 'Dong Nai',\n",
              "       'Hai Duong', 'Ca Mau', 'Bac Giang', 'Quang Ngai', 'Tay Ninh',\n",
              "       'Binh Dinh', 'Phu Yen', 'Binh Duong', 'Bac Ninh', 'Da Nang',\n",
              "       'Vinh Phuc', 'Nghe An', 'Hai Phong', 'An Giang', 'Dak Nong',\n",
              "       'Thai Binh', 'Dak Lak', 'Thai Nguyen', 'Quang Tri',\n",
              "       'Thua Thien Hue', 'Dong Thap', 'Ha Tinh', 'Ba Ria Vung Tau',\n",
              "       'Vinh Long', 'Quang Nam'], dtype=object)"
            ]
          },
          "execution_count": 251,
          "metadata": {},
          "output_type": "execute_result"
        }
      ],
      "source": [
        "#Chỉnh lại dữ liệu cho đồng nhất\n",
        "data['Location'].replace(['Hanoi'], 'Ha Noi', inplace=True)\n",
        "data['Location'].replace(['Nuoc ngoai', 'Nuoc ngai'], 'Nuoc Ngoai', inplace=True)\n",
        "data['Location'].unique()"
      ]
    },
    {
      "cell_type": "markdown",
      "metadata": {},
      "source": [
        "**Price_Sale & Sale_off & Price_original**"
      ]
    },
    {
      "cell_type": "code",
      "execution_count": 252,
      "metadata": {},
      "outputs": [
        {
          "name": "stdout",
          "output_type": "stream",
          "text": [
            "['64.0' '50.0' '43.0' '60.0' '54.0' '67.0' nan '61.0' '66.0' '53.0' '47.0'\n",
            " '45.0' '57.0' '52.0' '49.0' '44.0' '30.0' '29.0' '56.0' '59.0' '8.0'\n",
            " '35.0' '58.0' '31.0' '12.0' '51.0' '21.0' '81.0' '41.0' '96.0' '39.0'\n",
            " '40.0' '46.0' '48.0' '33.0' '15.0' '42.0' '13.0' '79.0' '76.0' '24.0'\n",
            " '7.0' '23.0' '62.0' '65.0' '32.0' '55.0' '14.0' '26.0' '70.0' '37.0'\n",
            " '82.0' '83.0' '69.0' '63.0' '34.0' '94.0' '71.0' '73.0' '18.0' '77.0'\n",
            " '16.0' '72.0' '36.0' '86.0' '85.0' '78.0' '84.0' '28.0' '38.0' '25.0'\n",
            " '97.0' '20.0' '68.0' '17.0' '89.0' '88.0' '1.0' '75.0' '74.0' '22.0'\n",
            " '80.0' '92.0' '27.0' '5.0' '10.0' '11.0' '100.0' '6.0' '19.0' '9.0'\n",
            " '99.0' '98.0' '93.0' '7' '10' '16' '6' '15' '11' '12' '17' '8' '13' '27'\n",
            " '22' '29' '18' '9' '14' '31' '42' '35' '34' '25' '20' '26' '23' '19' '52'\n",
            " '21' '1' '24' '60' '5' '32' '3' '37' '40' '46' '28' '30' '45' '36' '38'\n",
            " '33' '41' '39' '2' '4' '1200' 'none' '0' '3.0' '4.0' '2.0' '1.1' '0.0']\n"
          ]
        }
      ],
      "source": [
        "print(data['Sale_off'].unique())"
      ]
    },
    {
      "cell_type": "code",
      "execution_count": 253,
      "metadata": {},
      "outputs": [
        {
          "data": {
            "text/plain": [
              "1848"
            ]
          },
          "execution_count": 253,
          "metadata": {},
          "output_type": "execute_result"
        }
      ],
      "source": [
        "data['Sale_off'] = data['Sale_off'].replace(\"none\", None)\n",
        "\n",
        "#Chuyển đổi float cho Sale_off & Price_sale\n",
        "data['Sale_off'] = data['Sale_off'].astype(float)\n",
        "data['Price_sale'] = data['Price_sale'].astype(float)\n",
        "\n",
        "#Check null cho cột Sale_off\n",
        "data['Sale_off'].isnull().sum()"
      ]
    },
    {
      "cell_type": "code",
      "execution_count": 254,
      "metadata": {},
      "outputs": [
        {
          "name": "stdout",
          "output_type": "stream",
          "text": [
            "Index([2040, 4158], dtype='int64')\n"
          ]
        }
      ],
      "source": [
        "# Xoá dữ liệu cột Sale_off >= 100\n",
        "indices_to_drop = data.loc[data['Sale_off'] >= 100].index\n",
        "print(indices_to_drop)\n",
        "data = data.drop(indices_to_drop)"
      ]
    },
    {
      "cell_type": "code",
      "execution_count": 255,
      "metadata": {},
      "outputs": [],
      "source": [
        "# Tính toán giá trị vào NaN\n",
        "#TH1: Price_original == NULL, Sale_off != NULL\n",
        "data['Price_original'].fillna(data['Price_sale'] / (1 - data['Sale_off'] / 100), inplace=True)\n",
        "\n",
        "#TH2: Sale_off == NULL,  Price_original != NULL\n",
        "data['Sale_off'].fillna(((data['Price_original'] - data['Price_sale']) / data['Price_original']) * 100, inplace=True)\n",
        "\n",
        "#TH3: Sale_off & Price_original == NULL\n",
        "data['Sale_off'].fillna(0, inplace=True)\n",
        "data['Price_original'].fillna(data['Price_sale'], inplace=True)"
      ]
    },
    {
      "cell_type": "code",
      "execution_count": 256,
      "metadata": {},
      "outputs": [
        {
          "data": {
            "text/html": [
              "<div>\n",
              "<style scoped>\n",
              "    .dataframe tbody tr th:only-of-type {\n",
              "        vertical-align: middle;\n",
              "    }\n",
              "\n",
              "    .dataframe tbody tr th {\n",
              "        vertical-align: top;\n",
              "    }\n",
              "\n",
              "    .dataframe thead th {\n",
              "        text-align: right;\n",
              "    }\n",
              "</style>\n",
              "<table border=\"1\" class=\"dataframe\">\n",
              "  <thead>\n",
              "    <tr style=\"text-align: right;\">\n",
              "      <th></th>\n",
              "      <th>Type</th>\n",
              "      <th>Price_sale</th>\n",
              "      <th>Sale_off</th>\n",
              "      <th>Total_sold</th>\n",
              "      <th>Preview</th>\n",
              "      <th>Location</th>\n",
              "      <th>Price_original</th>\n",
              "      <th>Ship_price</th>\n",
              "      <th>Sale_rating</th>\n",
              "      <th>Ship_on_time</th>\n",
              "      <th>Chat_response</th>\n",
              "      <th>One_star</th>\n",
              "      <th>Two_star</th>\n",
              "      <th>Three_star</th>\n",
              "      <th>Four_star</th>\n",
              "      <th>Five_star</th>\n",
              "    </tr>\n",
              "  </thead>\n",
              "  <tbody>\n",
              "    <tr>\n",
              "      <th>0</th>\n",
              "      <td>quan ao</td>\n",
              "      <td>35891.0</td>\n",
              "      <td>64.0</td>\n",
              "      <td>3000.0</td>\n",
              "      <td>1022.0</td>\n",
              "      <td>Ho Chi Minh</td>\n",
              "      <td>100000.0</td>\n",
              "      <td>16500.0</td>\n",
              "      <td>97.0</td>\n",
              "      <td>100.0</td>\n",
              "      <td>100.0</td>\n",
              "      <td>20.0</td>\n",
              "      <td>7.0</td>\n",
              "      <td>27.0</td>\n",
              "      <td>36.0</td>\n",
              "      <td>932.0</td>\n",
              "    </tr>\n",
              "    <tr>\n",
              "      <th>1</th>\n",
              "      <td>quan ao</td>\n",
              "      <td>25000.0</td>\n",
              "      <td>50.0</td>\n",
              "      <td>907.0</td>\n",
              "      <td>241.0</td>\n",
              "      <td>Ho Chi Minh</td>\n",
              "      <td>71998.0</td>\n",
              "      <td>16500.0</td>\n",
              "      <td>91.0</td>\n",
              "      <td>100.0</td>\n",
              "      <td>50.0</td>\n",
              "      <td>5.0</td>\n",
              "      <td>2.0</td>\n",
              "      <td>6.0</td>\n",
              "      <td>7.0</td>\n",
              "      <td>222.0</td>\n",
              "    </tr>\n",
              "    <tr>\n",
              "      <th>2</th>\n",
              "      <td>quan ao</td>\n",
              "      <td>79000.0</td>\n",
              "      <td>43.0</td>\n",
              "      <td>961.0</td>\n",
              "      <td>260.0</td>\n",
              "      <td>Ha Noi</td>\n",
              "      <td>139000.0</td>\n",
              "      <td>32700.0</td>\n",
              "      <td>92.0</td>\n",
              "      <td>99.0</td>\n",
              "      <td>33.0</td>\n",
              "      <td>11.0</td>\n",
              "      <td>8.0</td>\n",
              "      <td>8.0</td>\n",
              "      <td>16.0</td>\n",
              "      <td>218.0</td>\n",
              "    </tr>\n",
              "    <tr>\n",
              "      <th>3</th>\n",
              "      <td>quan ao</td>\n",
              "      <td>36000.0</td>\n",
              "      <td>60.0</td>\n",
              "      <td>102.0</td>\n",
              "      <td>21.0</td>\n",
              "      <td>Nam Dinh</td>\n",
              "      <td>189000.0</td>\n",
              "      <td>37700.0</td>\n",
              "      <td>94.0</td>\n",
              "      <td>100.0</td>\n",
              "      <td>83.0</td>\n",
              "      <td>1.0</td>\n",
              "      <td>0.0</td>\n",
              "      <td>1.0</td>\n",
              "      <td>1.0</td>\n",
              "      <td>18.0</td>\n",
              "    </tr>\n",
              "    <tr>\n",
              "      <th>4</th>\n",
              "      <td>quan ao</td>\n",
              "      <td>15971.0</td>\n",
              "      <td>54.0</td>\n",
              "      <td>219.0</td>\n",
              "      <td>68.0</td>\n",
              "      <td>Ha Noi</td>\n",
              "      <td>59000.0</td>\n",
              "      <td>32700.0</td>\n",
              "      <td>95.0</td>\n",
              "      <td>100.0</td>\n",
              "      <td>100.0</td>\n",
              "      <td>0.0</td>\n",
              "      <td>1.0</td>\n",
              "      <td>0.0</td>\n",
              "      <td>3.0</td>\n",
              "      <td>65.0</td>\n",
              "    </tr>\n",
              "  </tbody>\n",
              "</table>\n",
              "</div>"
            ],
            "text/plain": [
              "      Type  Price_sale  Sale_off Total_sold Preview     Location  \\\n",
              "0  quan ao     35891.0      64.0     3000.0  1022.0  Ho Chi Minh   \n",
              "1  quan ao     25000.0      50.0      907.0   241.0  Ho Chi Minh   \n",
              "2  quan ao     79000.0      43.0      961.0   260.0       Ha Noi   \n",
              "3  quan ao     36000.0      60.0      102.0    21.0     Nam Dinh   \n",
              "4  quan ao     15971.0      54.0      219.0    68.0       Ha Noi   \n",
              "\n",
              "   Price_original Ship_price Sale_rating  Ship_on_time Chat_response  \\\n",
              "0        100000.0    16500.0        97.0         100.0         100.0   \n",
              "1         71998.0    16500.0        91.0         100.0          50.0   \n",
              "2        139000.0    32700.0        92.0          99.0          33.0   \n",
              "3        189000.0    37700.0        94.0         100.0          83.0   \n",
              "4         59000.0    32700.0        95.0         100.0         100.0   \n",
              "\n",
              "   One_star  Two_star  Three_star  Four_star  Five_star  \n",
              "0      20.0       7.0        27.0       36.0      932.0  \n",
              "1       5.0       2.0         6.0        7.0      222.0  \n",
              "2      11.0       8.0         8.0       16.0      218.0  \n",
              "3       1.0       0.0         1.0        1.0       18.0  \n",
              "4       0.0       1.0         0.0        3.0       65.0  "
            ]
          },
          "execution_count": 256,
          "metadata": {},
          "output_type": "execute_result"
        }
      ],
      "source": [
        "# Xoá hàng giá gốc < giá sale\n",
        "data = data[data['Price_original'] >= data['Price_sale']]\n",
        "data.head()"
      ]
    },
    {
      "cell_type": "markdown",
      "metadata": {},
      "source": [
        "**Total_sold & Preview & Ship_price & Sale_rating & Ship_on_time & Chat_response**"
      ]
    },
    {
      "cell_type": "code",
      "execution_count": 257,
      "metadata": {},
      "outputs": [],
      "source": [
        "#Gán 0 cho 'Total_sold', 'Preview'\n",
        "data['Total_sold'] = pd.to_numeric(data['Total_sold'], errors='coerce').fillna(0).astype(float)\n",
        "data['Preview'] = pd.to_numeric(data[\"Preview\"], errors='coerce').fillna(0).astype(float)"
      ]
    },
    {
      "cell_type": "code",
      "execution_count": 258,
      "metadata": {},
      "outputs": [
        {
          "data": {
            "text/plain": [
              "array([   16500,    32700,    37700,    18300,        0,    17000,\n",
              "          28700,    38000,    51100,    27000,    32200,    15500,\n",
              "          45100,    44100,    19600,    43900,    23500,    27300,\n",
              "          12200,      700,     8000,    20300,    57700,     7300,\n",
              "           6000,    20100,    22700,    21500,    56800,    51500,\n",
              "          20700,    40100,    23900,    40300,   635900,    21700,\n",
              "           5500,   202600,   110800,    19000,  1928000,    26100,\n",
              "          13700,    64800,    73600,    10200,      100,       98,\n",
              "          84600,   198200,   744000,    21200,    65500,     9700,\n",
              "          23800,    70000,    52400,    80200,   104900,       97,\n",
              "          74400,     1200,    74700,       95,   100600,   118500,\n",
              "          55400,    12800,    48200,    90700,    63300,    52300,\n",
              "          90400,    34100,    64700,    13800,   494000,    63400,\n",
              "        2695100,    16300,       90,    62600,   115100,     9100,\n",
              "          90600,    63700,    30900,    94800,    32500,      261,\n",
              "       78950100,   141300,   206800,   146000,   159200,   131600,\n",
              "         258200,    46000,   238400,    21600,    88900,    79000,\n",
              "          72400,    31600,   112600,   501400,   125200,   270400,\n",
              "         125300,   135500,    59400,   337400,   148600,   271400,\n",
              "         164800,    71100,   585800,   290200,   253700,   565500,\n",
              "        2689300,   612500,    96100,   212600,   218600,   278100,\n",
              "          25200,   448600,   102400,    36500,    81800])"
            ]
          },
          "execution_count": 258,
          "metadata": {},
          "output_type": "execute_result"
        }
      ],
      "source": [
        "#Ship_price\n",
        "data['Ship_price'] = pd.to_numeric(data['Ship_price'], errors='coerce').fillna(0).astype(int)\n",
        "data['Ship_price'].unique()"
      ]
    },
    {
      "cell_type": "code",
      "execution_count": 259,
      "metadata": {},
      "outputs": [
        {
          "data": {
            "text/plain": [
              "array([100,  99,  96,  97,  98,  93,  91,  87,  84,  92,  95,  83,  80,\n",
              "        63,  86,  67,  28,  82,  85,  94,  60,  88,   3,  79,  89,  74,\n",
              "        33,  90,  41,  81,  76,  29,  71,  66,  25,  13,  50,  72,  75,\n",
              "        44,  70,  68,  57,  55,  78,  14,  20,  37,  65,  77,  40])"
            ]
          },
          "execution_count": 259,
          "metadata": {},
          "output_type": "execute_result"
        }
      ],
      "source": [
        "#Ship_on_time: chuyển sang int rồi fill NaN = median\n",
        "data['Ship_on_time'] = pd.to_numeric(data['Ship_on_time'], errors='coerce').fillna(0).astype(int)\n",
        "median_Ship_on_time = data['Ship_on_time'].median()\n",
        "data['Ship_on_time'] = data['Ship_on_time'].replace([0], int(median_Ship_on_time))\n",
        "\n",
        "data['Ship_on_time'].unique()"
      ]
    },
    {
      "cell_type": "code",
      "execution_count": 260,
      "metadata": {},
      "outputs": [
        {
          "data": {
            "text/plain": [
              "array([ 97,  91,  92,  94,  95,  99,  88,  98,  93,  96,  86,  85,  69,\n",
              "        90,  87,  89,  83,  62,  64,  84, 100,  78,  66,  68,  65,  77,\n",
              "        76,  71,  74,  75,  73,  81,  60,  80,  40,  79,  82,  67])"
            ]
          },
          "execution_count": 260,
          "metadata": {},
          "output_type": "execute_result"
        }
      ],
      "source": [
        "#Sale_rating: chuyển sang int rồi fill NaN = median\n",
        "data['Sale_rating'] = pd.to_numeric(data['Sale_rating'], errors='coerce').fillna(0).astype(int)\n",
        "median_Sale_rating = data['Sale_rating'].median()\n",
        "data['Sale_rating'] = data['Sale_rating'].replace([0], int(median_Sale_rating))\n",
        "\n",
        "data['Sale_rating'].unique()"
      ]
    },
    {
      "cell_type": "code",
      "execution_count": 261,
      "metadata": {},
      "outputs": [
        {
          "data": {
            "text/plain": [
              "array([100,  50,  33,  83,  97,  60,  66,  90,  81,  98,  99,  54,  42,\n",
              "        91,  82,  96,  34,  69,  64,  80,  58,  94,  87,  85,  57,  86,\n",
              "        75,  63,  79,  71,  88,  92,  56,  77,  84,  93,  95,  72,  46,\n",
              "        73,  78,  44,  76,  40,  70,  62,  53,  36,   6,  13,  89,  37,\n",
              "         1,  55,  65,  52])"
            ]
          },
          "execution_count": 261,
          "metadata": {},
          "output_type": "execute_result"
        }
      ],
      "source": [
        "#Chat_respone: chuyển sang int rồi fill NaN = median\n",
        "data['Chat_response'] = pd.to_numeric(data['Chat_response'], errors='coerce').fillna(0).astype(int)\n",
        "median_Chat_response = data['Chat_response'].median()\n",
        "data['Chat_response'] = data['Chat_response'].replace([0], int(median_Chat_response))\n",
        "\n",
        "data['Chat_response'].unique()"
      ]
    },
    {
      "cell_type": "markdown",
      "metadata": {},
      "source": [
        "**Five_star**"
      ]
    },
    {
      "cell_type": "code",
      "execution_count": 262,
      "metadata": {},
      "outputs": [],
      "source": [
        "#Loại bỏ những giá trị Null của cột Five_star\n",
        "data = data.dropna(subset=['Five_star'])"
      ]
    },
    {
      "cell_type": "code",
      "execution_count": 263,
      "metadata": {},
      "outputs": [
        {
          "name": "stdout",
          "output_type": "stream",
          "text": [
            "<class 'pandas.core.frame.DataFrame'>\n",
            "Index: 6865 entries, 0 to 7151\n",
            "Data columns (total 16 columns):\n",
            " #   Column          Non-Null Count  Dtype  \n",
            "---  ------          --------------  -----  \n",
            " 0   Type            6865 non-null   object \n",
            " 1   Price_sale      6865 non-null   float64\n",
            " 2   Sale_off        6865 non-null   float64\n",
            " 3   Total_sold      6865 non-null   float64\n",
            " 4   Preview         6865 non-null   float64\n",
            " 5   Location        6865 non-null   object \n",
            " 6   Price_original  6865 non-null   float64\n",
            " 7   Ship_price      6865 non-null   int32  \n",
            " 8   Sale_rating     6865 non-null   int32  \n",
            " 9   Ship_on_time    6865 non-null   int32  \n",
            " 10  Chat_response   6865 non-null   int32  \n",
            " 11  One_star        6865 non-null   float64\n",
            " 12  Two_star        6865 non-null   float64\n",
            " 13  Three_star      6865 non-null   float64\n",
            " 14  Four_star       6865 non-null   float64\n",
            " 15  Five_star       6865 non-null   float64\n",
            "dtypes: float64(10), int32(4), object(2)\n",
            "memory usage: 804.5+ KB\n"
          ]
        }
      ],
      "source": [
        "#Check NULL\n",
        "data.info()"
      ]
    },
    {
      "cell_type": "code",
      "execution_count": 264,
      "metadata": {},
      "outputs": [
        {
          "data": {
            "text/html": [
              "<div>\n",
              "<style scoped>\n",
              "    .dataframe tbody tr th:only-of-type {\n",
              "        vertical-align: middle;\n",
              "    }\n",
              "\n",
              "    .dataframe tbody tr th {\n",
              "        vertical-align: top;\n",
              "    }\n",
              "\n",
              "    .dataframe thead th {\n",
              "        text-align: right;\n",
              "    }\n",
              "</style>\n",
              "<table border=\"1\" class=\"dataframe\">\n",
              "  <thead>\n",
              "    <tr style=\"text-align: right;\">\n",
              "      <th></th>\n",
              "      <th>Type</th>\n",
              "      <th>Price_sale</th>\n",
              "      <th>Sale_off</th>\n",
              "      <th>Total_sold</th>\n",
              "      <th>Preview</th>\n",
              "      <th>Location</th>\n",
              "      <th>Price_original</th>\n",
              "      <th>Ship_price</th>\n",
              "      <th>Sale_rating</th>\n",
              "      <th>Ship_on_time</th>\n",
              "      <th>Chat_response</th>\n",
              "      <th>One_star</th>\n",
              "      <th>Two_star</th>\n",
              "      <th>Three_star</th>\n",
              "      <th>Four_star</th>\n",
              "      <th>Five_star</th>\n",
              "    </tr>\n",
              "  </thead>\n",
              "  <tbody>\n",
              "    <tr>\n",
              "      <th>0</th>\n",
              "      <td>quan ao</td>\n",
              "      <td>35891.0</td>\n",
              "      <td>64.000000</td>\n",
              "      <td>3000.0</td>\n",
              "      <td>1022.0</td>\n",
              "      <td>Ho Chi Minh</td>\n",
              "      <td>100000.0</td>\n",
              "      <td>16500</td>\n",
              "      <td>97</td>\n",
              "      <td>100</td>\n",
              "      <td>100</td>\n",
              "      <td>20.0</td>\n",
              "      <td>7.0</td>\n",
              "      <td>27.0</td>\n",
              "      <td>36.0</td>\n",
              "      <td>932.0</td>\n",
              "    </tr>\n",
              "    <tr>\n",
              "      <th>1</th>\n",
              "      <td>quan ao</td>\n",
              "      <td>25000.0</td>\n",
              "      <td>50.000000</td>\n",
              "      <td>907.0</td>\n",
              "      <td>241.0</td>\n",
              "      <td>Ho Chi Minh</td>\n",
              "      <td>71998.0</td>\n",
              "      <td>16500</td>\n",
              "      <td>91</td>\n",
              "      <td>100</td>\n",
              "      <td>50</td>\n",
              "      <td>5.0</td>\n",
              "      <td>2.0</td>\n",
              "      <td>6.0</td>\n",
              "      <td>7.0</td>\n",
              "      <td>222.0</td>\n",
              "    </tr>\n",
              "    <tr>\n",
              "      <th>2</th>\n",
              "      <td>quan ao</td>\n",
              "      <td>79000.0</td>\n",
              "      <td>43.000000</td>\n",
              "      <td>961.0</td>\n",
              "      <td>260.0</td>\n",
              "      <td>Ha Noi</td>\n",
              "      <td>139000.0</td>\n",
              "      <td>32700</td>\n",
              "      <td>92</td>\n",
              "      <td>99</td>\n",
              "      <td>33</td>\n",
              "      <td>11.0</td>\n",
              "      <td>8.0</td>\n",
              "      <td>8.0</td>\n",
              "      <td>16.0</td>\n",
              "      <td>218.0</td>\n",
              "    </tr>\n",
              "    <tr>\n",
              "      <th>3</th>\n",
              "      <td>quan ao</td>\n",
              "      <td>36000.0</td>\n",
              "      <td>60.000000</td>\n",
              "      <td>102.0</td>\n",
              "      <td>21.0</td>\n",
              "      <td>Nam Dinh</td>\n",
              "      <td>189000.0</td>\n",
              "      <td>37700</td>\n",
              "      <td>94</td>\n",
              "      <td>100</td>\n",
              "      <td>83</td>\n",
              "      <td>1.0</td>\n",
              "      <td>0.0</td>\n",
              "      <td>1.0</td>\n",
              "      <td>1.0</td>\n",
              "      <td>18.0</td>\n",
              "    </tr>\n",
              "    <tr>\n",
              "      <th>4</th>\n",
              "      <td>quan ao</td>\n",
              "      <td>15971.0</td>\n",
              "      <td>54.000000</td>\n",
              "      <td>219.0</td>\n",
              "      <td>68.0</td>\n",
              "      <td>Ha Noi</td>\n",
              "      <td>59000.0</td>\n",
              "      <td>32700</td>\n",
              "      <td>95</td>\n",
              "      <td>100</td>\n",
              "      <td>100</td>\n",
              "      <td>0.0</td>\n",
              "      <td>1.0</td>\n",
              "      <td>0.0</td>\n",
              "      <td>3.0</td>\n",
              "      <td>65.0</td>\n",
              "    </tr>\n",
              "    <tr>\n",
              "      <th>...</th>\n",
              "      <td>...</td>\n",
              "      <td>...</td>\n",
              "      <td>...</td>\n",
              "      <td>...</td>\n",
              "      <td>...</td>\n",
              "      <td>...</td>\n",
              "      <td>...</td>\n",
              "      <td>...</td>\n",
              "      <td>...</td>\n",
              "      <td>...</td>\n",
              "      <td>...</td>\n",
              "      <td>...</td>\n",
              "      <td>...</td>\n",
              "      <td>...</td>\n",
              "      <td>...</td>\n",
              "      <td>...</td>\n",
              "    </tr>\n",
              "    <tr>\n",
              "      <th>7147</th>\n",
              "      <td>tivi</td>\n",
              "      <td>7990000.0</td>\n",
              "      <td>0.000000</td>\n",
              "      <td>20.0</td>\n",
              "      <td>8.0</td>\n",
              "      <td>Binh Duong</td>\n",
              "      <td>7990000.0</td>\n",
              "      <td>0</td>\n",
              "      <td>96</td>\n",
              "      <td>100</td>\n",
              "      <td>100</td>\n",
              "      <td>0.0</td>\n",
              "      <td>0.0</td>\n",
              "      <td>0.0</td>\n",
              "      <td>0.0</td>\n",
              "      <td>9.0</td>\n",
              "    </tr>\n",
              "    <tr>\n",
              "      <th>7148</th>\n",
              "      <td>tivi</td>\n",
              "      <td>2730000.0</td>\n",
              "      <td>0.000000</td>\n",
              "      <td>0.0</td>\n",
              "      <td>0.0</td>\n",
              "      <td>Ho Chi Minh</td>\n",
              "      <td>2730000.0</td>\n",
              "      <td>38000</td>\n",
              "      <td>95</td>\n",
              "      <td>97</td>\n",
              "      <td>98</td>\n",
              "      <td>0.0</td>\n",
              "      <td>0.0</td>\n",
              "      <td>0.0</td>\n",
              "      <td>0.0</td>\n",
              "      <td>0.0</td>\n",
              "    </tr>\n",
              "    <tr>\n",
              "      <th>7149</th>\n",
              "      <td>tivi</td>\n",
              "      <td>6150000.0</td>\n",
              "      <td>38.438438</td>\n",
              "      <td>0.0</td>\n",
              "      <td>0.0</td>\n",
              "      <td>Ho Chi Minh</td>\n",
              "      <td>9990000.0</td>\n",
              "      <td>0</td>\n",
              "      <td>97</td>\n",
              "      <td>98</td>\n",
              "      <td>89</td>\n",
              "      <td>0.0</td>\n",
              "      <td>0.0</td>\n",
              "      <td>0.0</td>\n",
              "      <td>0.0</td>\n",
              "      <td>0.0</td>\n",
              "    </tr>\n",
              "    <tr>\n",
              "      <th>7150</th>\n",
              "      <td>tivi</td>\n",
              "      <td>4250000.0</td>\n",
              "      <td>14.829659</td>\n",
              "      <td>0.0</td>\n",
              "      <td>0.0</td>\n",
              "      <td>Ha Noi</td>\n",
              "      <td>4990000.0</td>\n",
              "      <td>135500</td>\n",
              "      <td>100</td>\n",
              "      <td>40</td>\n",
              "      <td>98</td>\n",
              "      <td>0.0</td>\n",
              "      <td>0.0</td>\n",
              "      <td>0.0</td>\n",
              "      <td>0.0</td>\n",
              "      <td>0.0</td>\n",
              "    </tr>\n",
              "    <tr>\n",
              "      <th>7151</th>\n",
              "      <td>tivi</td>\n",
              "      <td>2650000.0</td>\n",
              "      <td>0.000000</td>\n",
              "      <td>0.0</td>\n",
              "      <td>0.0</td>\n",
              "      <td>Ho Chi Minh</td>\n",
              "      <td>2650000.0</td>\n",
              "      <td>45100</td>\n",
              "      <td>100</td>\n",
              "      <td>97</td>\n",
              "      <td>50</td>\n",
              "      <td>0.0</td>\n",
              "      <td>0.0</td>\n",
              "      <td>0.0</td>\n",
              "      <td>0.0</td>\n",
              "      <td>0.0</td>\n",
              "    </tr>\n",
              "  </tbody>\n",
              "</table>\n",
              "<p>6865 rows × 16 columns</p>\n",
              "</div>"
            ],
            "text/plain": [
              "         Type  Price_sale   Sale_off  Total_sold  Preview     Location  \\\n",
              "0     quan ao     35891.0  64.000000      3000.0   1022.0  Ho Chi Minh   \n",
              "1     quan ao     25000.0  50.000000       907.0    241.0  Ho Chi Minh   \n",
              "2     quan ao     79000.0  43.000000       961.0    260.0       Ha Noi   \n",
              "3     quan ao     36000.0  60.000000       102.0     21.0     Nam Dinh   \n",
              "4     quan ao     15971.0  54.000000       219.0     68.0       Ha Noi   \n",
              "...       ...         ...        ...         ...      ...          ...   \n",
              "7147     tivi   7990000.0   0.000000        20.0      8.0   Binh Duong   \n",
              "7148     tivi   2730000.0   0.000000         0.0      0.0  Ho Chi Minh   \n",
              "7149     tivi   6150000.0  38.438438         0.0      0.0  Ho Chi Minh   \n",
              "7150     tivi   4250000.0  14.829659         0.0      0.0       Ha Noi   \n",
              "7151     tivi   2650000.0   0.000000         0.0      0.0  Ho Chi Minh   \n",
              "\n",
              "      Price_original  Ship_price  Sale_rating  Ship_on_time  Chat_response  \\\n",
              "0           100000.0       16500           97           100            100   \n",
              "1            71998.0       16500           91           100             50   \n",
              "2           139000.0       32700           92            99             33   \n",
              "3           189000.0       37700           94           100             83   \n",
              "4            59000.0       32700           95           100            100   \n",
              "...              ...         ...          ...           ...            ...   \n",
              "7147       7990000.0           0           96           100            100   \n",
              "7148       2730000.0       38000           95            97             98   \n",
              "7149       9990000.0           0           97            98             89   \n",
              "7150       4990000.0      135500          100            40             98   \n",
              "7151       2650000.0       45100          100            97             50   \n",
              "\n",
              "      One_star  Two_star  Three_star  Four_star  Five_star  \n",
              "0         20.0       7.0        27.0       36.0      932.0  \n",
              "1          5.0       2.0         6.0        7.0      222.0  \n",
              "2         11.0       8.0         8.0       16.0      218.0  \n",
              "3          1.0       0.0         1.0        1.0       18.0  \n",
              "4          0.0       1.0         0.0        3.0       65.0  \n",
              "...        ...       ...         ...        ...        ...  \n",
              "7147       0.0       0.0         0.0        0.0        9.0  \n",
              "7148       0.0       0.0         0.0        0.0        0.0  \n",
              "7149       0.0       0.0         0.0        0.0        0.0  \n",
              "7150       0.0       0.0         0.0        0.0        0.0  \n",
              "7151       0.0       0.0         0.0        0.0        0.0  \n",
              "\n",
              "[6865 rows x 16 columns]"
            ]
          },
          "execution_count": 264,
          "metadata": {},
          "output_type": "execute_result"
        }
      ],
      "source": [
        "data"
      ]
    },
    {
      "cell_type": "code",
      "execution_count": 265,
      "metadata": {},
      "outputs": [
        {
          "data": {
            "text/plain": [
              "array(['quan ao', 'giay dep', 'trang suc', 'dien thoai', 'laptop', 'tivi'],\n",
              "      dtype=object)"
            ]
          },
          "execution_count": 265,
          "metadata": {},
          "output_type": "execute_result"
        }
      ],
      "source": [
        "data['Type'].unique()"
      ]
    },
    {
      "cell_type": "markdown",
      "metadata": {},
      "source": [
        "#### 3.2 Encoding categorical variables"
      ]
    },
    {
      "cell_type": "code",
      "execution_count": 266,
      "metadata": {},
      "outputs": [],
      "source": [
        "new_data = data.copy()"
      ]
    },
    {
      "cell_type": "code",
      "execution_count": 267,
      "metadata": {},
      "outputs": [],
      "source": [
        "#Assign labels to 2 columns: Type và Location\n",
        "from sklearn.preprocessing import LabelEncoder\n",
        "\n",
        "label_encoder = LabelEncoder()\n",
        "new_data['Type'] = label_encoder.fit_transform(new_data['Type'])\n",
        "\n",
        "new_data['Location'] = label_encoder.fit_transform(new_data['Location'])"
      ]
    },
    {
      "cell_type": "code",
      "execution_count": 268,
      "metadata": {},
      "outputs": [
        {
          "name": "stdout",
          "output_type": "stream",
          "text": [
            "['quan ao' 'giay dep' 'trang suc' 'dien thoai' 'laptop' 'tivi'] \n",
            "\n",
            "[3 1 5 0 2 4] \n",
            "\n",
            "['Ho Chi Minh' 'Ha Noi' 'Nam Dinh' 'Nuoc Ngoai' 'Tien Giang' 'Can Tho'\n",
            " 'Ha Nam' 'Tra Vinh' 'Thanh Hoa' 'Hung Yen' 'Long An' 'Ben Tre' 'Phu Tho'\n",
            " 'Lam Dong' 'Dong Nai' 'Hai Duong' 'Ca Mau' 'Bac Giang' 'Quang Ngai'\n",
            " 'Tay Ninh' 'Binh Dinh' 'Phu Yen' 'Binh Duong' 'Bac Ninh' 'Da Nang'\n",
            " 'Vinh Phuc' 'Nghe An' 'An Giang' 'Hai Phong' 'Dak Nong' 'Thai Binh'\n",
            " 'Dak Lak' 'Thai Nguyen' 'Quang Tri' 'Thua Thien Hue' 'Dong Thap'\n",
            " 'Ha Tinh' 'Ba Ria Vung Tau' 'Vinh Long' 'Quang Nam'] \n",
            "\n",
            "[19 15 23 25 36  8 14 37 34 20 22  4 26 21 12 17  7  2 29 31  5 27  6  3\n",
            "  9 39 24  0 18 11 32 10 33 30 35 13 16  1 38 28] \n",
            "\n"
          ]
        }
      ],
      "source": [
        "#See the type of labeled categories\n",
        "print(data['Type'].unique(), \"\\n\")\n",
        "print(new_data['Type'].unique(), \"\\n\")\n",
        "\n",
        "print(data['Location'].unique(), \"\\n\")\n",
        "print(new_data['Location'].unique(), \"\\n\")"
      ]
    },
    {
      "cell_type": "markdown",
      "metadata": {},
      "source": [
        "#### 3.3 Normalize the numerical feature"
      ]
    },
    {
      "cell_type": "code",
      "execution_count": null,
      "metadata": {},
      "outputs": [],
      "source": []
    }
  ],
  "metadata": {
    "colab": {
      "provenance": []
    },
    "kernelspec": {
      "display_name": "Python 3",
      "name": "python3"
    },
    "language_info": {
      "codemirror_mode": {
        "name": "ipython",
        "version": 3
      },
      "file_extension": ".py",
      "mimetype": "text/x-python",
      "name": "python",
      "nbconvert_exporter": "python",
      "pygments_lexer": "ipython3",
      "version": "3.11.7"
    }
  },
  "nbformat": 4,
  "nbformat_minor": 0
}
