{
 "cells": [
  {
   "cell_type": "code",
   "execution_count": null,
   "metadata": {},
   "outputs": [],
   "source": [
    "import numpy as np\n",
    "from selenium import webdriver\n",
    "from time import sleep\n",
    "from selenium.common.exceptions import NoSuchElementException, ElementNotInteractableException, ElementClickInterceptedException\n",
    "from selenium.webdriver.common.by import By\n",
    "import pandas as pd\n",
    "from selenium.webdriver.chrome.service import Service\n",
    "from selenium.webdriver.chrome.options import Options\n",
    "from webdriver_manager.chrome import ChromeDriverManager\n",
    "from tqdm import tqdm\n",
    "import funcs"
   ]
  },
  {
   "cell_type": "code",
   "execution_count": null,
   "metadata": {},
   "outputs": [],
   "source": [
    "driver = funcs.initializeChrome()"
   ]
  },
  {
   "cell_type": "code",
   "execution_count": null,
   "metadata": {},
   "outputs": [],
   "source": [
    "link = \"https://www.lazada.vn/trang-phuc-nu/?spm=a2o4n.home-vn.search.2.11183bdck8qLDT&q=qu%E1%BA%A7n%20%C3%A1o&_keyori=ss&from=search_history&sugg=qu%E1%BA%A7n%20%C3%A1o_0_1&catalog_redirect_tag=true\"\n",
    "dataProducts = funcs.getDataInNPage(driver, link, 5)"
   ]
  },
  {
   "cell_type": "code",
   "execution_count": null,
   "metadata": {},
   "outputs": [],
   "source": [
    "df = pd.DataFrame(dataProducts)"
   ]
  },
  {
   "cell_type": "code",
   "execution_count": null,
   "metadata": {},
   "outputs": [],
   "source": [
    "df.head()"
   ]
  },
  {
   "cell_type": "code",
   "execution_count": null,
   "metadata": {},
   "outputs": [],
   "source": [
    "detailProducts = {\n",
    "    \"Original\": [],\n",
    "    \"Ship_price\": [],\n",
    "    \"Return\": [],\n",
    "    \"Positive_review\": [],\n",
    "    \"Ship_on_time\": [],\n",
    "    \"Rate_response\": [],\n",
    "    \"One_star\": [],\n",
    "    \"Two_star\": [],\n",
    "    \"Three_star\": [],\n",
    "    \"Four_star\": [],\n",
    "    \"Five_star\": []\n",
    "}"
   ]
  },
  {
   "cell_type": "code",
   "execution_count": null,
   "metadata": {},
   "outputs": [],
   "source": [
    "# Create a progress bar to track the crawl process\n",
    "for link in tqdm(df.Links, desc=\"Crawling product details\"):\n",
    "    details = funcs.getDetailItems(driver, link)\n",
    "    for key in detailProducts.keys():\n",
    "        detailProducts[key].append(details[key])"
   ]
  },
  {
   "cell_type": "code",
   "execution_count": null,
   "metadata": {},
   "outputs": [],
   "source": [
    "# add columns to df\n",
    "for key, value in detailProducts.items():\n",
    "    df[key] = value"
   ]
  },
  {
   "cell_type": "code",
   "execution_count": null,
   "metadata": {},
   "outputs": [],
   "source": [
    "name = \"lazada.csv\"\n",
    "# save to csv\n",
    "df.to_csv(name, index = True)\n",
    "df.head()"
   ]
  },
  {
   "cell_type": "code",
   "execution_count": null,
   "metadata": {},
   "outputs": [],
   "source": [
    "df"
   ]
  }
 ],
 "metadata": {
  "kernelspec": {
   "display_name": "Python 3",
   "language": "python",
   "name": "python3"
  },
  "language_info": {
   "codemirror_mode": {
    "name": "ipython",
    "version": 3
   },
   "file_extension": ".py",
   "mimetype": "text/x-python",
   "name": "python",
   "nbconvert_exporter": "python",
   "pygments_lexer": "ipython3",
   "version": "3.11.1"
  }
 },
 "nbformat": 4,
 "nbformat_minor": 2
}
