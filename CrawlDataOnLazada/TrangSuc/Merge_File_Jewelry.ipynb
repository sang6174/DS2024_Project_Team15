{
 "cells": [
  {
   "cell_type": "code",
   "execution_count": 1,
   "id": "089b27f8",
   "metadata": {},
   "outputs": [],
   "source": [
    "import pandas as pd"
   ]
  },
  {
   "cell_type": "code",
   "execution_count": 4,
   "id": "27b79de0",
   "metadata": {},
   "outputs": [],
   "source": [
    "csv_files = [\n",
    "    'Data_Jewelry_Page01.csv',\n",
    "    'Data_Jewelry_Page02_To_Page05.csv',\n",
    "    'Data_Jewelry_Page06_To_Page15.csv',\n",
    "    'Data_Jewelry_Page16_To_Page20.csv',\n",
    "    'Data_Jewelry_Page21_To_Page25.csv',\n",
    "    'Data_Jewelry_Page26_To_Page30.csv'\n",
    "]"
   ]
  },
  {
   "cell_type": "code",
   "execution_count": 5,
   "id": "e7b16246",
   "metadata": {},
   "outputs": [
    {
     "name": "stdout",
     "output_type": "stream",
     "text": [
      "          Type                                              Title  \\\n",
      "0    Trang sức  17km pha lê May Mắn Vòng đeo tay đính hạt cho ...   \n",
      "1    Trang sức  🔥 Vòng kim cương mạ bạc đơn giản S925 dành cho...   \n",
      "2    Trang sức  【YIDEA HONGKONG】1pc nhẫn Cặp Đôi Đồng Tâm Thắt...   \n",
      "3    Trang sức  Vòng Cổ Dây Chuyền Chạm Xương Quai Xanh Hình T...   \n",
      "4    Trang sức  JWER Quà Tặng Trang Sức Cặp Đôi Hình Trái Tim ...   \n",
      "..         ...                                                ...   \n",
      "195  Trang sức  Maidu Jewelry Tua Rua Xương Đòn Chuỗi Lớp Vòng...   \n",
      "196  Trang sức  AOLD8 Thời Trang Nam Nữ Bán Sỉ MỚI Chuỗi Vòng ...   \n",
      "197  Trang sức  Mặt Dây Chuyền Hồ Ly Chín Đuôi Đá Mã Não, Hàng...   \n",
      "198  Trang sức  YUP 1 cặp nhẫn đôi trang sức đính hôn đám cưới...   \n",
      "199  Trang sức  Nhẫn nữ màu cẩm thạch viền đá tia mạ vàng Kami...   \n",
      "\n",
      "                                                  Link Price_sale  \\\n",
      "0    https://www.lazada.vn/products/17km-pha-le-may...    6.848 ₫   \n",
      "1    https://www.lazada.vn/products/vong-kim-cuong-...    7.458 ₫   \n",
      "2    https://www.lazada.vn/products/yidea-hongkong1...   16.000 ₫   \n",
      "3    https://www.lazada.vn/products/vong-co-day-chu...    4.850 ₫   \n",
      "4    https://www.lazada.vn/products/jwer-qua-tang-t...    5.000 ₫   \n",
      "..                                                 ...        ...   \n",
      "195  https://www.lazada.vn/products/maidu-jewelry-t...   34.225 ₫   \n",
      "196  https://www.lazada.vn/products/aold8-thoi-tran...   20.900 ₫   \n",
      "197  https://www.lazada.vn/products/mat-day-chuyen-...  188.000 ₫   \n",
      "198  https://www.lazada.vn/products/yup-1-cap-nhan-...   15.331 ₫   \n",
      "199  https://www.lazada.vn/products/nhan-nu-mau-cam...   66.913 ₫   \n",
      "\n",
      "                     Sale_off   Total_sold Preview     Location  \\\n",
      "0                     46% Off  1.9K Đã bán   (594)  Hồ Chí Minh   \n",
      "1                     58% Off  2.0K Đã bán   (406)  Hồ Chí Minh   \n",
      "2                     47% Off  1.2K Đã bán   (239)  Hồ Chí Minh   \n",
      "3                     49% Off    82 Đã bán    (21)  Hồ Chí Minh   \n",
      "4                     44% Off  1.2K Đã bán   (222)  Hồ Chí Minh   \n",
      "..                        ...          ...     ...          ...   \n",
      "195                   54% Off    15 Đã bán     (3)   Nước ngoài   \n",
      "196  49% Off\\nÁp dụng voucher    12 Đã bán     (1)   Nước ngoài   \n",
      "197                   62% Off   256 Đã bán    (53)       Hà Nội   \n",
      "198                   31% Off    26 Đã bán     (9)   Nước ngoài   \n",
      "199                   25% Off    38 Đã bán     (7)  Hồ Chí Minh   \n",
      "\n",
      "    Price_original Ship_price                     Return Sale_rating  \\\n",
      "0         22.906 ₫   17.000 ₫  30 Ngày Trả Hàng Miễn Phí         96%   \n",
      "1         17.600 ₫   16.500 ₫                        NaN         97%   \n",
      "2         34.000 ₫   17.000 ₫                        NaN         93%   \n",
      "3          9.534 ₫   17.000 ₫                        NaN         96%   \n",
      "4          9.000 ₫   17.000 ₫                        NaN         95%   \n",
      "..             ...        ...                        ...         ...   \n",
      "195       74.000 ₫   17.000 ₫                        NaN         96%   \n",
      "196       41.000 ₫   17.000 ₫                        NaN         95%   \n",
      "197      500.000 ₫   32.700 ₫                        NaN         94%   \n",
      "198       22.134 ₫   17.000 ₫                        NaN         93%   \n",
      "199       89.000 ₫   16.500 ₫                        NaN         97%   \n",
      "\n",
      "    Ship_on_time       Chat_response One_star Two_star Three_star Four_star  \\\n",
      "0            95%                 96%   ['13']    ['8']     ['15']    ['14']   \n",
      "1            89%                100%    ['6']    ['1']      ['9']    ['17']   \n",
      "2            98%                100%    ['7']    ['0']      ['3']     ['9']   \n",
      "3           100%                 83%    ['0']    ['0']      ['0']     ['0']   \n",
      "4            99%                 62%   ['12']    ['4']      ['6']    ['13']   \n",
      "..           ...                 ...      ...      ...        ...       ...   \n",
      "195          99%                100%    ['0']    ['0']      ['0']     ['0']   \n",
      "196         100%  Không đủ thông tin    ['0']    ['0']      ['0']     ['0']   \n",
      "197         100%                100%    ['0']    ['1']      ['2']     ['0']   \n",
      "198         100%  Không đủ thông tin    ['0']    ['0']      ['0']     ['0']   \n",
      "199          99%                 87%    ['0']    ['0']      ['0']     ['0']   \n",
      "\n",
      "    Five_star  \n",
      "0     ['544']  \n",
      "1     ['373']  \n",
      "2     ['220']  \n",
      "3      ['21']  \n",
      "4     ['187']  \n",
      "..        ...  \n",
      "195     ['4']  \n",
      "196     ['1']  \n",
      "197    ['50']  \n",
      "198     ['9']  \n",
      "199     ['7']  \n",
      "\n",
      "[1200 rows x 19 columns]\n"
     ]
    }
   ],
   "source": [
    "fulldata = pd.concat([pd.read_csv(file) for file in csv_files])\n",
    "print(fulldata)"
   ]
  },
  {
   "cell_type": "code",
   "execution_count": 6,
   "id": "83f80c7d",
   "metadata": {},
   "outputs": [],
   "source": [
    "fulldata.to_csv(\"Data_Jewelry.csv\", index=False)"
   ]
  },
  {
   "cell_type": "code",
   "execution_count": null,
   "id": "7a66bd2c",
   "metadata": {},
   "outputs": [],
   "source": []
  }
 ],
 "metadata": {
  "kernelspec": {
   "display_name": "Python 3 (ipykernel)",
   "language": "python",
   "name": "python3"
  },
  "language_info": {
   "codemirror_mode": {
    "name": "ipython",
    "version": 3
   },
   "file_extension": ".py",
   "mimetype": "text/x-python",
   "name": "python",
   "nbconvert_exporter": "python",
   "pygments_lexer": "ipython3",
   "version": "3.11.5"
  }
 },
 "nbformat": 4,
 "nbformat_minor": 5
}
