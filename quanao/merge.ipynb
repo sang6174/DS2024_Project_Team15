{
 "cells": [
  {
   "cell_type": "code",
   "execution_count": 1,
   "metadata": {},
   "outputs": [],
   "source": [
    "import pandas as pd"
   ]
  },
  {
   "cell_type": "code",
   "execution_count": 2,
   "metadata": {},
   "outputs": [],
   "source": [
    "main_data = pd.read_csv(\"lazada.csv\")"
   ]
  },
  {
   "cell_type": "code",
   "execution_count": 3,
   "metadata": {},
   "outputs": [
    {
     "name": "stderr",
     "output_type": "stream",
     "text": [
      "C:\\Users\\Admin\\AppData\\Local\\Temp\\ipykernel_8748\\122220102.py:5: FutureWarning: The frame.append method is deprecated and will be removed from pandas in a future version. Use pandas.concat instead.\n",
      "  main_data = main_data.append(data, ignore_index=True)\n",
      "C:\\Users\\Admin\\AppData\\Local\\Temp\\ipykernel_8748\\122220102.py:5: FutureWarning: The frame.append method is deprecated and will be removed from pandas in a future version. Use pandas.concat instead.\n",
      "  main_data = main_data.append(data, ignore_index=True)\n",
      "C:\\Users\\Admin\\AppData\\Local\\Temp\\ipykernel_8748\\122220102.py:5: FutureWarning: The frame.append method is deprecated and will be removed from pandas in a future version. Use pandas.concat instead.\n",
      "  main_data = main_data.append(data, ignore_index=True)\n",
      "C:\\Users\\Admin\\AppData\\Local\\Temp\\ipykernel_8748\\122220102.py:5: FutureWarning: The frame.append method is deprecated and will be removed from pandas in a future version. Use pandas.concat instead.\n",
      "  main_data = main_data.append(data, ignore_index=True)\n",
      "C:\\Users\\Admin\\AppData\\Local\\Temp\\ipykernel_8748\\122220102.py:5: FutureWarning: The frame.append method is deprecated and will be removed from pandas in a future version. Use pandas.concat instead.\n",
      "  main_data = main_data.append(data, ignore_index=True)\n",
      "C:\\Users\\Admin\\AppData\\Local\\Temp\\ipykernel_8748\\122220102.py:5: FutureWarning: The frame.append method is deprecated and will be removed from pandas in a future version. Use pandas.concat instead.\n",
      "  main_data = main_data.append(data, ignore_index=True)\n",
      "C:\\Users\\Admin\\AppData\\Local\\Temp\\ipykernel_8748\\122220102.py:5: FutureWarning: The frame.append method is deprecated and will be removed from pandas in a future version. Use pandas.concat instead.\n",
      "  main_data = main_data.append(data, ignore_index=True)\n"
     ]
    }
   ],
   "source": [
    "num_file = range(1, 8)\n",
    "for i in num_file:\n",
    "    name = f\"lazada_{i}.csv\"\n",
    "    data = pd.read_csv(name)\n",
    "    main_data = main_data.append(data, ignore_index=True)"
   ]
  },
  {
   "cell_type": "code",
   "execution_count": 4,
   "metadata": {},
   "outputs": [],
   "source": [
    "main_data.to_csv(\"quanao.csv\")"
   ]
  }
 ],
 "metadata": {
  "kernelspec": {
   "display_name": "Python 3",
   "language": "python",
   "name": "python3"
  },
  "language_info": {
   "codemirror_mode": {
    "name": "ipython",
    "version": 3
   },
   "file_extension": ".py",
   "mimetype": "text/x-python",
   "name": "python",
   "nbconvert_exporter": "python",
   "pygments_lexer": "ipython3",
   "version": "3.11.1"
  }
 },
 "nbformat": 4,
 "nbformat_minor": 2
}
